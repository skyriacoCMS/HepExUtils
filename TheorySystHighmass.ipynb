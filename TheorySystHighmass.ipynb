{
 "cells": [
  {
   "cell_type": "markdown",
   "id": "2c008997",
   "metadata": {},
   "source": [
    "# IMPORT LIBRARIES"
   ]
  },
  {
   "cell_type": "code",
   "execution_count": 1,
   "id": "ff540fb0",
   "metadata": {},
   "outputs": [
    {
     "name": "stdout",
     "output_type": "stream",
     "text": [
      "Welcome to JupyROOT 6.24/06\n"
     ]
    }
   ],
   "source": [
    "import os\n",
    "import glob\n",
    "import ROOT\n",
    "from math import sqrt\n",
    "import time\n",
    "#from os import path\n",
    "from pathlib import Path\n",
    "import re\n",
    "import copy\n",
    "from tqdm.notebook import trange, tqdm\n",
    "import numpy as np\n",
    "from array import *\n",
    "%jsroot on"
   ]
  },
  {
   "cell_type": "markdown",
   "id": "01275ae9",
   "metadata": {},
   "source": [
    "# LOAD SPLINES AND DEFINE BINNING"
   ]
  },
  {
   "cell_type": "code",
   "execution_count": 2,
   "id": "9fc4748e",
   "metadata": {
    "scrolled": true
   },
   "outputs": [
    {
     "data": {
      "text/plain": [
       "137.10000000000002"
      ]
     },
     "execution_count": 2,
     "metadata": {},
     "output_type": "execute_result"
    }
   ],
   "source": [
    "35.9 + 41.5 + 59.7"
   ]
  },
  {
   "cell_type": "code",
   "execution_count": 3,
   "id": "98808fee",
   "metadata": {},
   "outputs": [],
   "source": [
    "lumi = {'MC_2016_CorrectBTag':35.9, 'MC_2017':41.5, 'MC_2018':59.7}"
   ]
  },
  {
   "cell_type": "code",
   "execution_count": 4,
   "id": "56d06c7a",
   "metadata": {},
   "outputs": [],
   "source": [
    "D2jetZHSpline = ROOT.TFile(\"/eos/user/l/lkang/Active_Research/Discriminants/RecoMEConstants/SmoothKDConstant_m4l_DjjZH_13TeV.root\").Get(\"sp_gr_varReco_Constant_Smooth\")\n",
    "D2jetWHSpline = ROOT.TFile(\"/eos/user/l/lkang/Active_Research/Discriminants/RecoMEConstants/SmoothKDConstant_m4l_DjjWH_13TeV.root\").Get(\"sp_gr_varReco_Constant_Smooth\")\n",
    "D2jetVBFSpline = ROOT.TFile(\"/eos/user/l/lkang/Active_Research/Discriminants/RecoMEConstants/SmoothKDConstant_m4l_DjjVBF_13TeV.root\").Get(\"sp_gr_varReco_Constant_Smooth\")\n",
    "\n",
    "#WPCshift = 1\n",
    "WPCshift2jv = 0.46386/(1. - 0.46386)\n",
    "WPCshift2jz = 0.91315/(1. - 0.91315)\n",
    "WPCshift2jw = 0.88384/(1. - 0.88384)"
   ]
  },
  {
   "cell_type": "code",
   "execution_count": 5,
   "id": "ba70b1eb",
   "metadata": {},
   "outputs": [],
   "source": [
    "DbkgkinSpline4e = ROOT.TFile(\"/eos/user/l/lkang/Active_Research/Discriminants/RecoMEConstants/SmoothKDConstant_m4l_Dbkgkin_4e_13TeV.root\").Get(\"sp_gr_varReco_Constant_Smooth\")\n",
    "DbkgkinSpline4mu = ROOT.TFile(\"/eos/user/l/lkang/Active_Research/Discriminants/RecoMEConstants/SmoothKDConstant_m4l_Dbkgkin_4mu_13TeV.root\").Get(\"sp_gr_varReco_Constant_Smooth\")\n",
    "DbkgkinSpline2e2mu = ROOT.TFile(\"/eos/user/l/lkang/Active_Research/Discriminants/RecoMEConstants/SmoothKDConstant_m4l_Dbkgkin_2e2mu_13TeV.root\").Get(\"sp_gr_varReco_Constant_Smooth\")\n",
    "\n",
    "DggbkgkinSpline4e = ROOT.TFile(\"/eos/user/l/lkang/Active_Research/Discriminants/RecoMEConstants/SmoothKDConstant_m4l_Dggbkgkin_4e_13TeV.root\").Get(\"sp_gr_varReco_Constant_Smooth\")\n",
    "DggbkgkinSpline4mu = ROOT.TFile(\"/eos/user/l/lkang/Active_Research/Discriminants/RecoMEConstants/SmoothKDConstant_m4l_Dggbkgkin_4mu_13TeV.root\").Get(\"sp_gr_varReco_Constant_Smooth\")\n",
    "DggbkgkinSpline2e2mu = ROOT.TFile(\"/eos/user/l/lkang/Active_Research/Discriminants/RecoMEConstants/SmoothKDConstant_m4l_Dggbkgkin_2e2mu_13TeV.root\").Get(\"sp_gr_varReco_Constant_Smooth\")"
   ]
  },
  {
   "cell_type": "code",
   "execution_count": 6,
   "id": "a442fd25",
   "metadata": {},
   "outputs": [],
   "source": [
    "DbkgjjEWQCDSpline4lHadVH = ROOT.TFile(\"/eos/user/l/lkang/Active_Research/Discriminants/RecoMEConstants/SmoothKDConstant_m4l_DbkgjjEWQCD_4l_HadVHTagged_13TeV.root\").Get(\"sp_gr_varReco_Constant_Smooth\")\n",
    "DbkgjjEWQCDSpline2l2lHadVH = ROOT.TFile(\"/eos/user/l/lkang/Active_Research/Discriminants/RecoMEConstants/SmoothKDConstant_m4l_DbkgjjEWQCD_2l2l_HadVHTagged_13TeV.root\").Get(\"sp_gr_varReco_Constant_Smooth\")\n",
    "\n",
    "DbkgjjEWQCDSpline4lJJVBF = ROOT.TFile(\"/eos/user/l/lkang/Active_Research/Discriminants/RecoMEConstants/SmoothKDConstant_m4l_DbkgjjEWQCD_4l_JJVBFTagged_13TeV.root\").Get(\"sp_gr_varReco_Constant_Smooth\")\n",
    "DbkgjjEWQCDSpline2l2lJJVBF = ROOT.TFile(\"/eos/user/l/lkang/Active_Research/Discriminants/RecoMEConstants/SmoothKDConstant_m4l_DbkgjjEWQCD_2l2l_JJVBFTagged_13TeV.root\").Get(\"sp_gr_varReco_Constant_Smooth\")"
   ]
  },
  {
   "cell_type": "code",
   "execution_count": 7,
   "id": "7974f04f",
   "metadata": {},
   "outputs": [],
   "source": [
    "medges = np.array([220, 230, 240, 250, 260, 280, 310, 340, 370, 400, 475, 550, 625, 700, 800, 900, 1000, 1200, 1600, 2000, 3000, 13000], dtype='float64')\n",
    "# medges = np.array([220, 230, 240, 250, 260, 280, 310, 340, 370, 400, 475, 550, 625, 700, 800, 900, 1000, 1200, 1600, 2000, 13000], dtype='float64')\n",
    "## medges = np.array([220, 260, 370, 625, 1000, 13000], dtype='float64')\n",
    "## medges = np.array([220, 400, 3000, 13000], dtype='float64')\n",
    "# medges = 5*np.arange(401, dtype='float64')\n",
    "#d1edges = np.arange(21, dtype='float64') / 20 * 12780 + 220\n",
    "##d1edges = np.array([ 220.,  316.,  412.,  508.,  604.,  700.,  796.,  892.,  988., 1084., 1180., 1276., 1372., 1468., 1564., 1660., 1756., 1852., 1948., 2044., 13000])\n",
    "##d1edges = np.array([ 220.,  828., 1436., 2044.])\n",
    "#d1edges = np.array([220, 4480, 8740, 13000], dtype='float64')\n",
    "#d1edges = np.array([220, 13000], dtype='float64')\n",
    "d1edges = np.arange(21, dtype='float64') / 20\n",
    "#d1edges = np.arange(6, dtype='float64') / 5\n",
    "# d1edges = np.arange(4, dtype='float64') / 3\n",
    "# d1edges = np.arange(3, dtype='float64') / 2\n",
    "d2edges = np.arange(21, dtype='float64') / 10 - 1\n",
    "#d2edges = np.arange(6, dtype='float64') / 2.5 - 1\n",
    "# d2edges = np.arange(4, dtype='float64') / 1.5 - 1\n",
    "# d2edges = np.arange(3, dtype='float64') / 1 - 1"
   ]
  },
  {
   "cell_type": "code",
   "execution_count": 8,
   "id": "f21626aa",
   "metadata": {
    "scrolled": true
   },
   "outputs": [
    {
     "name": "stdout",
     "output_type": "stream",
     "text": [
      "medges 22\n",
      "medges [  220.   230.   240.   250.   260.   280.   310.   340.   370.   400.\n",
      "   475.   550.   625.   700.   800.   900.  1000.  1200.  1600.  2000.\n",
      "  3000. 13000.]\n",
      "d1edges 21\n",
      "d1edges [0.   0.05 0.1  0.15 0.2  0.25 0.3  0.35 0.4  0.45 0.5  0.55 0.6  0.65\n",
      " 0.7  0.75 0.8  0.85 0.9  0.95 1.  ]\n",
      "d2edges 21\n",
      "d2edges [-1.  -0.9 -0.8 -0.7 -0.6 -0.5 -0.4 -0.3 -0.2 -0.1  0.   0.1  0.2  0.3\n",
      "  0.4  0.5  0.6  0.7  0.8  0.9  1. ]\n"
     ]
    }
   ],
   "source": [
    "print(\"medges\", len(medges))\n",
    "print(\"medges\", (medges))\n",
    "print(\"d1edges\", len(d1edges))\n",
    "print(\"d1edges\", (d1edges))\n",
    "print(\"d2edges\", len(d2edges))\n",
    "print(\"d2edges\", (d2edges))"
   ]
  },
  {
   "cell_type": "markdown",
   "id": "4c82c3d8",
   "metadata": {},
   "source": [
    "# CHOOSE INPUT TREES"
   ]
  },
  {
   "cell_type": "code",
   "execution_count": 9,
   "id": "07a7db0f",
   "metadata": {},
   "outputs": [],
   "source": [
    "#tree i made  \"/eos/user/s/skyriaco/Offshell/200205_CutBased/\""
   ]
  },
  {
   "cell_type": "markdown",
   "id": "e741ec17",
   "metadata": {},
   "source": [
    "### Read selected trees from user-specified file"
   ]
  },
  {
   "cell_type": "code",
   "execution_count": 10,
   "id": "c5f42100",
   "metadata": {},
   "outputs": [],
   "source": [
    "# treelistpath = \"/eos/user/l/lkang/Active_Research/Discriminants/alltaggedtrees.txt\"\n",
    "#treelistpath = \"/eos/user/s/skyriaco/SWAN_projects/Offshel_tempmaker/outputtree_list.txt\"\n",
    "#treelistpath = \"/eos/user/s/skyriaco/SWAN_projects/Offshel_tempmaker/alloutput.txt\"\n",
    "#treelistpath = \"/eos/user/s/skyriaco/SWAN_projects/Offshel_tempmaker/output_highmass1618.txt\"\n",
    "treelistpath = \"/eos/user/s/skyriaco/SWAN_projects/Offshel_tempmaker/output_highmass18.txt\"\n",
    "treelist = []\n",
    "\n",
    "with open(treelistpath) as f:\n",
    "    llist = [line.rstrip() for line in f]\n",
    "        \n",
    "for line in llist:\n",
    "    if Path(line).exists(): treelist.append(line)"
   ]
  },
  {
   "cell_type": "code",
   "execution_count": 11,
   "id": "6a9af1a2",
   "metadata": {
    "scrolled": true
   },
   "outputs": [
    {
     "name": "stdout",
     "output_type": "stream",
     "text": [
      "/eos/user/s/skyriaco/Offshell/Syst/highmass/MC_18/200205_CutBased/MC_2018/HighMass/ExtraIgnore/DYToLL_2J/ZZ4lAnalysis.root\n",
      "/eos/user/s/skyriaco/Offshell/Syst/highmass/MC_18/200205_CutBased/MC_2018/HighMass/VBFH1000/ZZ4lAnalysis.root\n",
      "/eos/user/s/skyriaco/Offshell/Syst/highmass/MC_18/200205_CutBased/MC_2018/HighMass/VBFH115/ZZ4lAnalysis.root\n",
      "/eos/user/s/skyriaco/Offshell/Syst/highmass/MC_18/200205_CutBased/MC_2018/HighMass/VBFH135/ZZ4lAnalysis.root\n",
      "/eos/user/s/skyriaco/Offshell/Syst/highmass/MC_18/200205_CutBased/MC_2018/HighMass/VBFH140/ZZ4lAnalysis.root\n",
      "/eos/user/s/skyriaco/Offshell/Syst/highmass/MC_18/200205_CutBased/MC_2018/HighMass/VBFH145/ZZ4lAnalysis.root\n",
      "/eos/user/s/skyriaco/Offshell/Syst/highmass/MC_18/200205_CutBased/MC_2018/HighMass/VBFH150/ZZ4lAnalysis.root\n",
      "/eos/user/s/skyriaco/Offshell/Syst/highmass/MC_18/200205_CutBased/MC_2018/HighMass/VBFH1500/ZZ4lAnalysis.root\n",
      "/eos/user/s/skyriaco/Offshell/Syst/highmass/MC_18/200205_CutBased/MC_2018/HighMass/VBFH155/ZZ4lAnalysis.root\n",
      "/eos/user/s/skyriaco/Offshell/Syst/highmass/MC_18/200205_CutBased/MC_2018/HighMass/VBFH160/ZZ4lAnalysis.root\n",
      "/eos/user/s/skyriaco/Offshell/Syst/highmass/MC_18/200205_CutBased/MC_2018/HighMass/VBFH165/ZZ4lAnalysis.root\n",
      "/eos/user/s/skyriaco/Offshell/Syst/highmass/MC_18/200205_CutBased/MC_2018/HighMass/VBFH170/ZZ4lAnalysis.root\n",
      "/eos/user/s/skyriaco/Offshell/Syst/highmass/MC_18/200205_CutBased/MC_2018/HighMass/VBFH175/ZZ4lAnalysis.root\n",
      "/eos/user/s/skyriaco/Offshell/Syst/highmass/MC_18/200205_CutBased/MC_2018/HighMass/VBFH180/ZZ4lAnalysis.root\n",
      "/eos/user/s/skyriaco/Offshell/Syst/highmass/MC_18/200205_CutBased/MC_2018/HighMass/VBFH190/ZZ4lAnalysis.root\n",
      "/eos/user/s/skyriaco/Offshell/Syst/highmass/MC_18/200205_CutBased/MC_2018/HighMass/VBFH200/ZZ4lAnalysis.root\n",
      "/eos/user/s/skyriaco/Offshell/Syst/highmass/MC_18/200205_CutBased/MC_2018/HighMass/VBFH2000/ZZ4lAnalysis.root\n",
      "/eos/user/s/skyriaco/Offshell/Syst/highmass/MC_18/200205_CutBased/MC_2018/HighMass/VBFH210/ZZ4lAnalysis.root\n",
      "/eos/user/s/skyriaco/Offshell/Syst/highmass/MC_18/200205_CutBased/MC_2018/HighMass/VBFH230/ZZ4lAnalysis.root\n",
      "/eos/user/s/skyriaco/Offshell/Syst/highmass/MC_18/200205_CutBased/MC_2018/HighMass/VBFH250/ZZ4lAnalysis.root\n",
      "/eos/user/s/skyriaco/Offshell/Syst/highmass/MC_18/200205_CutBased/MC_2018/HighMass/VBFH2500/ZZ4lAnalysis.root\n",
      "/eos/user/s/skyriaco/Offshell/Syst/highmass/MC_18/200205_CutBased/MC_2018/HighMass/VBFH270/ZZ4lAnalysis.root\n",
      "/eos/user/s/skyriaco/Offshell/Syst/highmass/MC_18/200205_CutBased/MC_2018/HighMass/VBFH300/ZZ4lAnalysis.root\n",
      "/eos/user/s/skyriaco/Offshell/Syst/highmass/MC_18/200205_CutBased/MC_2018/HighMass/VBFH350/ZZ4lAnalysis.root\n",
      "/eos/user/s/skyriaco/Offshell/Syst/highmass/MC_18/200205_CutBased/MC_2018/HighMass/VBFH400/ZZ4lAnalysis.root\n",
      "/eos/user/s/skyriaco/Offshell/Syst/highmass/MC_18/200205_CutBased/MC_2018/HighMass/VBFH450/ZZ4lAnalysis.root\n",
      "/eos/user/s/skyriaco/Offshell/Syst/highmass/MC_18/200205_CutBased/MC_2018/HighMass/VBFH500/ZZ4lAnalysis.root\n",
      "/eos/user/s/skyriaco/Offshell/Syst/highmass/MC_18/200205_CutBased/MC_2018/HighMass/VBFH550/ZZ4lAnalysis.root\n",
      "/eos/user/s/skyriaco/Offshell/Syst/highmass/MC_18/200205_CutBased/MC_2018/HighMass/VBFH600/ZZ4lAnalysis.root\n",
      "/eos/user/s/skyriaco/Offshell/Syst/highmass/MC_18/200205_CutBased/MC_2018/HighMass/VBFH700/ZZ4lAnalysis.root\n",
      "/eos/user/s/skyriaco/Offshell/Syst/highmass/MC_18/200205_CutBased/MC_2018/HighMass/VBFH750/ZZ4lAnalysis.root\n",
      "/eos/user/s/skyriaco/Offshell/Syst/highmass/MC_18/200205_CutBased/MC_2018/HighMass/VBFH800/ZZ4lAnalysis.root\n",
      "/eos/user/s/skyriaco/Offshell/Syst/highmass/MC_18/200205_CutBased/MC_2018/HighMass/VBFH900/ZZ4lAnalysis.root\n",
      "/eos/user/s/skyriaco/Offshell/Syst/highmass/MC_18/200205_CutBased/MC_2018/HighMass/VBFTo2e2muJJ_0PMH125_phantom128/ZZ4lAnalysis.root\n",
      "/eos/user/s/skyriaco/Offshell/Syst/highmass/MC_18/200205_CutBased/MC_2018/HighMass/VBFTo2e2muJJ_Contin_phantom128/ZZ4lAnalysis.root\n",
      "/eos/user/s/skyriaco/Offshell/Syst/highmass/MC_18/200205_CutBased/MC_2018/HighMass/VBFTo4eJJ_0PMH125_phantom128/ZZ4lAnalysis.root\n",
      "/eos/user/s/skyriaco/Offshell/Syst/highmass/MC_18/200205_CutBased/MC_2018/HighMass/VBFTo4eJJ_Contin_phantom128/ZZ4lAnalysis.root\n",
      "/eos/user/s/skyriaco/Offshell/Syst/highmass/MC_18/200205_CutBased/MC_2018/HighMass/WminusH175/ZZ4lAnalysis.root\n",
      "/eos/user/s/skyriaco/Offshell/Syst/highmass/MC_18/200205_CutBased/MC_2018/HighMass/WminusH250/ZZ4lAnalysis.root\n",
      "/eos/user/s/skyriaco/Offshell/Syst/highmass/MC_18/200205_CutBased/MC_2018/HighMass/WminusH2500/ZZ4lAnalysis.root\n",
      "/eos/user/s/skyriaco/Offshell/Syst/highmass/MC_18/200205_CutBased/MC_2018/HighMass/WminusH270/ZZ4lAnalysis.root\n",
      "/eos/user/s/skyriaco/Offshell/Syst/highmass/MC_18/200205_CutBased/MC_2018/HighMass/WminusH300/ZZ4lAnalysis.root\n",
      "/eos/user/s/skyriaco/Offshell/Syst/highmass/MC_18/200205_CutBased/MC_2018/HighMass/WminusH3000/ZZ4lAnalysis.root\n",
      "/eos/user/s/skyriaco/Offshell/Syst/highmass/MC_18/200205_CutBased/MC_2018/HighMass/WminusH350/ZZ4lAnalysis.root\n",
      "/eos/user/s/skyriaco/Offshell/Syst/highmass/MC_18/200205_CutBased/MC_2018/HighMass/WminusH400/ZZ4lAnalysis.root\n",
      "/eos/user/s/skyriaco/Offshell/Syst/highmass/MC_18/200205_CutBased/MC_2018/HighMass/WminusH450/ZZ4lAnalysis.root\n",
      "/eos/user/s/skyriaco/Offshell/Syst/highmass/MC_18/200205_CutBased/MC_2018/HighMass/WminusH500/ZZ4lAnalysis.root\n",
      "/eos/user/s/skyriaco/Offshell/Syst/highmass/MC_18/200205_CutBased/MC_2018/HighMass/WminusH550/ZZ4lAnalysis.root\n",
      "/eos/user/s/skyriaco/Offshell/Syst/highmass/MC_18/200205_CutBased/MC_2018/HighMass/WminusH600/ZZ4lAnalysis.root\n",
      "/eos/user/s/skyriaco/Offshell/Syst/highmass/MC_18/200205_CutBased/MC_2018/HighMass/WminusH700/ZZ4lAnalysis.root\n",
      "/eos/user/s/skyriaco/Offshell/Syst/highmass/MC_18/200205_CutBased/MC_2018/HighMass/WminusH750/ZZ4lAnalysis.root\n",
      "/eos/user/s/skyriaco/Offshell/Syst/highmass/MC_18/200205_CutBased/MC_2018/HighMass/WminusH800/ZZ4lAnalysis.root\n",
      "/eos/user/s/skyriaco/Offshell/Syst/highmass/MC_18/200205_CutBased/MC_2018/HighMass/WminusH900/ZZ4lAnalysis.root\n",
      "/eos/user/s/skyriaco/Offshell/Syst/highmass/MC_18/200205_CutBased/MC_2018/HighMass/WplusH1000/ZZ4lAnalysis.root\n",
      "/eos/user/s/skyriaco/Offshell/Syst/highmass/MC_18/200205_CutBased/MC_2018/HighMass/WplusH115/ZZ4lAnalysis.root\n",
      "/eos/user/s/skyriaco/Offshell/Syst/highmass/MC_18/200205_CutBased/MC_2018/HighMass/WplusH135/ZZ4lAnalysis.root\n",
      "/eos/user/s/skyriaco/Offshell/Syst/highmass/MC_18/200205_CutBased/MC_2018/HighMass/WplusH140/ZZ4lAnalysis.root\n",
      "/eos/user/s/skyriaco/Offshell/Syst/highmass/MC_18/200205_CutBased/MC_2018/HighMass/WplusH145/ZZ4lAnalysis.root\n",
      "/eos/user/s/skyriaco/Offshell/Syst/highmass/MC_18/200205_CutBased/MC_2018/HighMass/WplusH150/ZZ4lAnalysis.root\n",
      "/eos/user/s/skyriaco/Offshell/Syst/highmass/MC_18/200205_CutBased/MC_2018/HighMass/WplusH1500/ZZ4lAnalysis.root\n",
      "/eos/user/s/skyriaco/Offshell/Syst/highmass/MC_18/200205_CutBased/MC_2018/HighMass/WplusH155/ZZ4lAnalysis.root\n",
      "/eos/user/s/skyriaco/Offshell/Syst/highmass/MC_18/200205_CutBased/MC_2018/HighMass/WplusH160/ZZ4lAnalysis.root\n",
      "/eos/user/s/skyriaco/Offshell/Syst/highmass/MC_18/200205_CutBased/MC_2018/HighMass/WplusH165/ZZ4lAnalysis.root\n",
      "/eos/user/s/skyriaco/Offshell/Syst/highmass/MC_18/200205_CutBased/MC_2018/HighMass/WplusH170/ZZ4lAnalysis.root\n",
      "/eos/user/s/skyriaco/Offshell/Syst/highmass/MC_18/200205_CutBased/MC_2018/HighMass/WplusH175/ZZ4lAnalysis.root\n",
      "/eos/user/s/skyriaco/Offshell/Syst/highmass/MC_18/200205_CutBased/MC_2018/HighMass/WplusH180/ZZ4lAnalysis.root\n",
      "/eos/user/s/skyriaco/Offshell/Syst/highmass/MC_18/200205_CutBased/MC_2018/HighMass/WplusH190/ZZ4lAnalysis.root\n",
      "/eos/user/s/skyriaco/Offshell/Syst/highmass/MC_18/200205_CutBased/MC_2018/HighMass/WplusH200/ZZ4lAnalysis.root\n",
      "/eos/user/s/skyriaco/Offshell/Syst/highmass/MC_18/200205_CutBased/MC_2018/HighMass/WplusH2000/ZZ4lAnalysis.root\n",
      "/eos/user/s/skyriaco/Offshell/Syst/highmass/MC_18/200205_CutBased/MC_2018/HighMass/WplusH210/ZZ4lAnalysis.root\n",
      "/eos/user/s/skyriaco/Offshell/Syst/highmass/MC_18/200205_CutBased/MC_2018/HighMass/WplusH230/ZZ4lAnalysis.root\n",
      "/eos/user/s/skyriaco/Offshell/Syst/highmass/MC_18/200205_CutBased/MC_2018/HighMass/WplusH250/ZZ4lAnalysis.root\n",
      "/eos/user/s/skyriaco/Offshell/Syst/highmass/MC_18/200205_CutBased/MC_2018/HighMass/WplusH2500/ZZ4lAnalysis.root\n",
      "/eos/user/s/skyriaco/Offshell/Syst/highmass/MC_18/200205_CutBased/MC_2018/HighMass/WplusH270/ZZ4lAnalysis.root\n",
      "/eos/user/s/skyriaco/Offshell/Syst/highmass/MC_18/200205_CutBased/MC_2018/HighMass/WplusH300/ZZ4lAnalysis.root\n",
      "/eos/user/s/skyriaco/Offshell/Syst/highmass/MC_18/200205_CutBased/MC_2018/HighMass/WplusH3000/ZZ4lAnalysis.root\n",
      "/eos/user/s/skyriaco/Offshell/Syst/highmass/MC_18/200205_CutBased/MC_2018/HighMass/WplusH350/ZZ4lAnalysis.root\n",
      "/eos/user/s/skyriaco/Offshell/Syst/highmass/MC_18/200205_CutBased/MC_2018/HighMass/WplusH400/ZZ4lAnalysis.root\n",
      "/eos/user/s/skyriaco/Offshell/Syst/highmass/MC_18/200205_CutBased/MC_2018/HighMass/WplusH450/ZZ4lAnalysis.root\n",
      "/eos/user/s/skyriaco/Offshell/Syst/highmass/MC_18/200205_CutBased/MC_2018/HighMass/WplusH500/ZZ4lAnalysis.root\n",
      "/eos/user/s/skyriaco/Offshell/Syst/highmass/MC_18/200205_CutBased/MC_2018/HighMass/WplusH550/ZZ4lAnalysis.root\n",
      "/eos/user/s/skyriaco/Offshell/Syst/highmass/MC_18/200205_CutBased/MC_2018/HighMass/WplusH600/ZZ4lAnalysis.root\n",
      "/eos/user/s/skyriaco/Offshell/Syst/highmass/MC_18/200205_CutBased/MC_2018/HighMass/WplusH700/ZZ4lAnalysis.root\n",
      "/eos/user/s/skyriaco/Offshell/Syst/highmass/MC_18/200205_CutBased/MC_2018/HighMass/WplusH750/ZZ4lAnalysis.root\n",
      "/eos/user/s/skyriaco/Offshell/Syst/highmass/MC_18/200205_CutBased/MC_2018/HighMass/WplusH800/ZZ4lAnalysis.root\n",
      "/eos/user/s/skyriaco/Offshell/Syst/highmass/MC_18/200205_CutBased/MC_2018/HighMass/WplusH900/ZZ4lAnalysis.root\n",
      "/eos/user/s/skyriaco/Offshell/Syst/highmass/MC_18/200205_CutBased/MC_2018/HighMass/ZH1000/ZZ4lAnalysis.root\n",
      "/eos/user/s/skyriaco/Offshell/Syst/highmass/MC_18/200205_CutBased/MC_2018/HighMass/ZH115/ZZ4lAnalysis.root\n",
      "/eos/user/s/skyriaco/Offshell/Syst/highmass/MC_18/200205_CutBased/MC_2018/HighMass/ZH135/ZZ4lAnalysis.root\n",
      "/eos/user/s/skyriaco/Offshell/Syst/highmass/MC_18/200205_CutBased/MC_2018/HighMass/ZH140/ZZ4lAnalysis.root\n",
      "/eos/user/s/skyriaco/Offshell/Syst/highmass/MC_18/200205_CutBased/MC_2018/HighMass/ZH145/ZZ4lAnalysis.root\n",
      "/eos/user/s/skyriaco/Offshell/Syst/highmass/MC_18/200205_CutBased/MC_2018/HighMass/ZH150/ZZ4lAnalysis.root\n",
      "/eos/user/s/skyriaco/Offshell/Syst/highmass/MC_18/200205_CutBased/MC_2018/HighMass/ZH1500/ZZ4lAnalysis.root\n",
      "/eos/user/s/skyriaco/Offshell/Syst/highmass/MC_18/200205_CutBased/MC_2018/HighMass/ZH155/ZZ4lAnalysis.root\n",
      "/eos/user/s/skyriaco/Offshell/Syst/highmass/MC_18/200205_CutBased/MC_2018/HighMass/ZH160/ZZ4lAnalysis.root\n",
      "/eos/user/s/skyriaco/Offshell/Syst/highmass/MC_18/200205_CutBased/MC_2018/HighMass/ZH165/ZZ4lAnalysis.root\n",
      "/eos/user/s/skyriaco/Offshell/Syst/highmass/MC_18/200205_CutBased/MC_2018/HighMass/ZH170/ZZ4lAnalysis.root\n",
      "/eos/user/s/skyriaco/Offshell/Syst/highmass/MC_18/200205_CutBased/MC_2018/HighMass/ZH175/ZZ4lAnalysis.root\n",
      "/eos/user/s/skyriaco/Offshell/Syst/highmass/MC_18/200205_CutBased/MC_2018/HighMass/ZH180/ZZ4lAnalysis.root\n",
      "/eos/user/s/skyriaco/Offshell/Syst/highmass/MC_18/200205_CutBased/MC_2018/HighMass/ZH190/ZZ4lAnalysis.root\n",
      "/eos/user/s/skyriaco/Offshell/Syst/highmass/MC_18/200205_CutBased/MC_2018/HighMass/ZH200/ZZ4lAnalysis.root\n",
      "/eos/user/s/skyriaco/Offshell/Syst/highmass/MC_18/200205_CutBased/MC_2018/HighMass/ZH2000/ZZ4lAnalysis.root\n",
      "/eos/user/s/skyriaco/Offshell/Syst/highmass/MC_18/200205_CutBased/MC_2018/HighMass/ZH210/ZZ4lAnalysis.root\n",
      "/eos/user/s/skyriaco/Offshell/Syst/highmass/MC_18/200205_CutBased/MC_2018/HighMass/ZH230/ZZ4lAnalysis.root\n",
      "/eos/user/s/skyriaco/Offshell/Syst/highmass/MC_18/200205_CutBased/MC_2018/HighMass/ZH250/ZZ4lAnalysis.root\n",
      "/eos/user/s/skyriaco/Offshell/Syst/highmass/MC_18/200205_CutBased/MC_2018/HighMass/ZH2500/ZZ4lAnalysis.root\n",
      "/eos/user/s/skyriaco/Offshell/Syst/highmass/MC_18/200205_CutBased/MC_2018/HighMass/ZH270/ZZ4lAnalysis.root\n",
      "/eos/user/s/skyriaco/Offshell/Syst/highmass/MC_18/200205_CutBased/MC_2018/HighMass/ZH300/ZZ4lAnalysis.root\n",
      "/eos/user/s/skyriaco/Offshell/Syst/highmass/MC_18/200205_CutBased/MC_2018/HighMass/ZH3000/ZZ4lAnalysis.root\n",
      "/eos/user/s/skyriaco/Offshell/Syst/highmass/MC_18/200205_CutBased/MC_2018/HighMass/ZH350/ZZ4lAnalysis.root\n",
      "/eos/user/s/skyriaco/Offshell/Syst/highmass/MC_18/200205_CutBased/MC_2018/HighMass/ZH400/ZZ4lAnalysis.root\n",
      "/eos/user/s/skyriaco/Offshell/Syst/highmass/MC_18/200205_CutBased/MC_2018/HighMass/ZH450/ZZ4lAnalysis.root\n",
      "/eos/user/s/skyriaco/Offshell/Syst/highmass/MC_18/200205_CutBased/MC_2018/HighMass/ZH500/ZZ4lAnalysis.root\n",
      "/eos/user/s/skyriaco/Offshell/Syst/highmass/MC_18/200205_CutBased/MC_2018/HighMass/ZH550/ZZ4lAnalysis.root\n",
      "/eos/user/s/skyriaco/Offshell/Syst/highmass/MC_18/200205_CutBased/MC_2018/HighMass/ZH600/ZZ4lAnalysis.root\n",
      "/eos/user/s/skyriaco/Offshell/Syst/highmass/MC_18/200205_CutBased/MC_2018/HighMass/ZH700/ZZ4lAnalysis.root\n",
      "/eos/user/s/skyriaco/Offshell/Syst/highmass/MC_18/200205_CutBased/MC_2018/HighMass/ZH750/ZZ4lAnalysis.root\n",
      "/eos/user/s/skyriaco/Offshell/Syst/highmass/MC_18/200205_CutBased/MC_2018/HighMass/ZH800/ZZ4lAnalysis.root\n",
      "/eos/user/s/skyriaco/Offshell/Syst/highmass/MC_18/200205_CutBased/MC_2018/HighMass/ZH900/ZZ4lAnalysis.root\n",
      "/eos/user/s/skyriaco/Offshell/Syst/highmass/MC_18/200205_CutBased/MC_2018/HighMass/ggH1000/ZZ4lAnalysis.root\n",
      "/eos/user/s/skyriaco/Offshell/Syst/highmass/MC_18/200205_CutBased/MC_2018/HighMass/ggH115/ZZ4lAnalysis.root\n",
      "/eos/user/s/skyriaco/Offshell/Syst/highmass/MC_18/200205_CutBased/MC_2018/HighMass/ggH135/ZZ4lAnalysis.root\n",
      "/eos/user/s/skyriaco/Offshell/Syst/highmass/MC_18/200205_CutBased/MC_2018/HighMass/ggH140/ZZ4lAnalysis.root\n",
      "/eos/user/s/skyriaco/Offshell/Syst/highmass/MC_18/200205_CutBased/MC_2018/HighMass/ggH145/ZZ4lAnalysis.root\n",
      "/eos/user/s/skyriaco/Offshell/Syst/highmass/MC_18/200205_CutBased/MC_2018/HighMass/ggH150/ZZ4lAnalysis.root\n",
      "/eos/user/s/skyriaco/Offshell/Syst/highmass/MC_18/200205_CutBased/MC_2018/HighMass/ggH1500/ZZ4lAnalysis.root\n",
      "/eos/user/s/skyriaco/Offshell/Syst/highmass/MC_18/200205_CutBased/MC_2018/HighMass/ggH155/ZZ4lAnalysis.root\n",
      "/eos/user/s/skyriaco/Offshell/Syst/highmass/MC_18/200205_CutBased/MC_2018/HighMass/ggH160/ZZ4lAnalysis.root\n",
      "/eos/user/s/skyriaco/Offshell/Syst/highmass/MC_18/200205_CutBased/MC_2018/HighMass/ggH165/ZZ4lAnalysis.root\n",
      "/eos/user/s/skyriaco/Offshell/Syst/highmass/MC_18/200205_CutBased/MC_2018/HighMass/ggH170/ZZ4lAnalysis.root\n",
      "/eos/user/s/skyriaco/Offshell/Syst/highmass/MC_18/200205_CutBased/MC_2018/HighMass/ggH175/ZZ4lAnalysis.root\n",
      "/eos/user/s/skyriaco/Offshell/Syst/highmass/MC_18/200205_CutBased/MC_2018/HighMass/ggH180/ZZ4lAnalysis.root\n",
      "/eos/user/s/skyriaco/Offshell/Syst/highmass/MC_18/200205_CutBased/MC_2018/HighMass/ggH190/ZZ4lAnalysis.root\n",
      "/eos/user/s/skyriaco/Offshell/Syst/highmass/MC_18/200205_CutBased/MC_2018/HighMass/ggH200/ZZ4lAnalysis.root\n",
      "/eos/user/s/skyriaco/Offshell/Syst/highmass/MC_18/200205_CutBased/MC_2018/HighMass/ggH2000/ZZ4lAnalysis.root\n",
      "/eos/user/s/skyriaco/Offshell/Syst/highmass/MC_18/200205_CutBased/MC_2018/HighMass/ggH210/ZZ4lAnalysis.root\n",
      "/eos/user/s/skyriaco/Offshell/Syst/highmass/MC_18/200205_CutBased/MC_2018/HighMass/ggH230/ZZ4lAnalysis.root\n",
      "/eos/user/s/skyriaco/Offshell/Syst/highmass/MC_18/200205_CutBased/MC_2018/HighMass/ggH250/ZZ4lAnalysis.root\n",
      "/eos/user/s/skyriaco/Offshell/Syst/highmass/MC_18/200205_CutBased/MC_2018/HighMass/ggH2500/ZZ4lAnalysis.root\n",
      "/eos/user/s/skyriaco/Offshell/Syst/highmass/MC_18/200205_CutBased/MC_2018/HighMass/ggH270/ZZ4lAnalysis.root\n",
      "/eos/user/s/skyriaco/Offshell/Syst/highmass/MC_18/200205_CutBased/MC_2018/HighMass/ggH300/ZZ4lAnalysis.root\n",
      "/eos/user/s/skyriaco/Offshell/Syst/highmass/MC_18/200205_CutBased/MC_2018/HighMass/ggH3000/ZZ4lAnalysis.root\n",
      "/eos/user/s/skyriaco/Offshell/Syst/highmass/MC_18/200205_CutBased/MC_2018/HighMass/ggH300_minloHJJ/ZZ4lAnalysis.root\n",
      "/eos/user/s/skyriaco/Offshell/Syst/highmass/MC_18/200205_CutBased/MC_2018/HighMass/ggH300_tunedown_minloHJJ/ZZ4lAnalysis.root\n",
      "/eos/user/s/skyriaco/Offshell/Syst/highmass/MC_18/200205_CutBased/MC_2018/HighMass/ggH300_tuneup_minloHJJ/ZZ4lAnalysis.root\n",
      "/eos/user/s/skyriaco/Offshell/Syst/highmass/MC_18/200205_CutBased/MC_2018/HighMass/ggH350/ZZ4lAnalysis.root\n",
      "/eos/user/s/skyriaco/Offshell/Syst/highmass/MC_18/200205_CutBased/MC_2018/HighMass/ggH400/ZZ4lAnalysis.root\n",
      "/eos/user/s/skyriaco/Offshell/Syst/highmass/MC_18/200205_CutBased/MC_2018/HighMass/ggH450/ZZ4lAnalysis.root\n",
      "/eos/user/s/skyriaco/Offshell/Syst/highmass/MC_18/200205_CutBased/MC_2018/HighMass/ggH500/ZZ4lAnalysis.root\n",
      "/eos/user/s/skyriaco/Offshell/Syst/highmass/MC_18/200205_CutBased/MC_2018/HighMass/ggH550/ZZ4lAnalysis.root\n",
      "/eos/user/s/skyriaco/Offshell/Syst/highmass/MC_18/200205_CutBased/MC_2018/HighMass/ggH600/ZZ4lAnalysis.root\n",
      "/eos/user/s/skyriaco/Offshell/Syst/highmass/MC_18/200205_CutBased/MC_2018/HighMass/ggH700/ZZ4lAnalysis.root\n",
      "/eos/user/s/skyriaco/Offshell/Syst/highmass/MC_18/200205_CutBased/MC_2018/HighMass/ggH750/ZZ4lAnalysis.root\n",
      "/eos/user/s/skyriaco/Offshell/Syst/highmass/MC_18/200205_CutBased/MC_2018/HighMass/ggH800/ZZ4lAnalysis.root\n",
      "/eos/user/s/skyriaco/Offshell/Syst/highmass/MC_18/200205_CutBased/MC_2018/HighMass/ggH900/ZZ4lAnalysis.root\n"
     ]
    }
   ],
   "source": [
    "for t in treelist:\n",
    "    #if \"VBF\" in t:\n",
    "         print(t)"
   ]
  },
  {
   "cell_type": "code",
   "execution_count": 12,
   "id": "89141904",
   "metadata": {
    "scrolled": true
   },
   "outputs": [
    {
     "data": {
      "application/vnd.jupyter.widget-view+json": {
       "model_id": "bb1767f6b5f8453189ad8f9d9e15b363",
       "version_major": 2,
       "version_minor": 0
      },
      "text/plain": [
       "  0%|          | 0/155 [00:00<?, ?it/s]"
      ]
     },
     "metadata": {},
     "output_type": "display_data"
    }
   ],
   "source": [
    "yeardict = {}\n",
    "\n",
    "for numfile in trange(len(treelist)):\n",
    "    filename = treelist[numfile]\n",
    "    ind = filename.split(\"/\").index(\"200205_CutBased\")\n",
    "#     tagtreefile = \"/\".join(filename.split(\"/\")[ind:])\n",
    "    year = filename.split(\"/\")[ind:][1]\n",
    "#     print(year)\n",
    "    if year not in yeardict.keys():\n",
    "        yeardict[year] = {}\n",
    "    else:\n",
    "        if \"ZZTo4l\" in filename.split(\"/\")[ind:][2]: prod = \"ZZTo4l\"\n",
    "        else: prod = filename.split(\"/\")[ind:][3]\n",
    "            \n",
    "        if prod not in yeardict[year]:\n",
    "        #    if 'gg' in prod:\n",
    "        #        yeardict[year][prod] = [[], [], []]\n",
    "        #    else:\n",
    "                yeardict[year][prod] = [[]]\n",
    "        if 'gg' in prod:\n",
    "            yeardict[year][prod][0].append(filename)\n",
    "            #if 'ggTo2e2mu' in filename:\n",
    "            #    yeardict[year][prod][0].append(filename)\n",
    "            #elif 'ggTo4e' in filename:\n",
    "            #    yeardict[year][prod][1].append(filename)\n",
    "            #elif 'ggTo4mu' in filename:\n",
    "            #    yeardict[year][prod][2].append(filename)\n",
    "        elif \"VBF\" in prod:\n",
    "            yeardict[year][prod][0].append(filename)\n",
    "        elif \"ZH\" in prod:    \n",
    "            yeardict[year][prod][0].append(filename)\n",
    "        elif \"Wplus\"   in prod:    \n",
    "            yeardict[year][prod][0].append(filename)  \n",
    "        elif \"Wminus\"   in prod:    \n",
    "            yeardict[year][prod][0].append(filename)   \n",
    "        elif prod == \"ZZTo4l\":\n",
    "            yeardict[year][prod][0].append(filename)\n",
    "        else:\n",
    "            print(\"ERROR: Cannot recognize production mode of \" + filename + \"! Tree not sorted!\")"
   ]
  },
  {
   "cell_type": "markdown",
   "id": "c17e73af",
   "metadata": {},
   "source": [
    "### Check organized trees"
   ]
  },
  {
   "cell_type": "code",
   "execution_count": 13,
   "id": "d406f4d6",
   "metadata": {},
   "outputs": [
    {
     "data": {
      "text/plain": [
       "{'MC_2018': {'VBFH1000': [['/eos/user/s/skyriaco/Offshell/Syst/highmass/MC_18/200205_CutBased/MC_2018/HighMass/VBFH1000/ZZ4lAnalysis.root']],\n",
       "  'VBFH115': [['/eos/user/s/skyriaco/Offshell/Syst/highmass/MC_18/200205_CutBased/MC_2018/HighMass/VBFH115/ZZ4lAnalysis.root']],\n",
       "  'VBFH135': [['/eos/user/s/skyriaco/Offshell/Syst/highmass/MC_18/200205_CutBased/MC_2018/HighMass/VBFH135/ZZ4lAnalysis.root']],\n",
       "  'VBFH140': [['/eos/user/s/skyriaco/Offshell/Syst/highmass/MC_18/200205_CutBased/MC_2018/HighMass/VBFH140/ZZ4lAnalysis.root']],\n",
       "  'VBFH145': [['/eos/user/s/skyriaco/Offshell/Syst/highmass/MC_18/200205_CutBased/MC_2018/HighMass/VBFH145/ZZ4lAnalysis.root']],\n",
       "  'VBFH150': [['/eos/user/s/skyriaco/Offshell/Syst/highmass/MC_18/200205_CutBased/MC_2018/HighMass/VBFH150/ZZ4lAnalysis.root']],\n",
       "  'VBFH1500': [['/eos/user/s/skyriaco/Offshell/Syst/highmass/MC_18/200205_CutBased/MC_2018/HighMass/VBFH1500/ZZ4lAnalysis.root']],\n",
       "  'VBFH155': [['/eos/user/s/skyriaco/Offshell/Syst/highmass/MC_18/200205_CutBased/MC_2018/HighMass/VBFH155/ZZ4lAnalysis.root']],\n",
       "  'VBFH160': [['/eos/user/s/skyriaco/Offshell/Syst/highmass/MC_18/200205_CutBased/MC_2018/HighMass/VBFH160/ZZ4lAnalysis.root']],\n",
       "  'VBFH165': [['/eos/user/s/skyriaco/Offshell/Syst/highmass/MC_18/200205_CutBased/MC_2018/HighMass/VBFH165/ZZ4lAnalysis.root']],\n",
       "  'VBFH170': [['/eos/user/s/skyriaco/Offshell/Syst/highmass/MC_18/200205_CutBased/MC_2018/HighMass/VBFH170/ZZ4lAnalysis.root']],\n",
       "  'VBFH175': [['/eos/user/s/skyriaco/Offshell/Syst/highmass/MC_18/200205_CutBased/MC_2018/HighMass/VBFH175/ZZ4lAnalysis.root']],\n",
       "  'VBFH180': [['/eos/user/s/skyriaco/Offshell/Syst/highmass/MC_18/200205_CutBased/MC_2018/HighMass/VBFH180/ZZ4lAnalysis.root']],\n",
       "  'VBFH190': [['/eos/user/s/skyriaco/Offshell/Syst/highmass/MC_18/200205_CutBased/MC_2018/HighMass/VBFH190/ZZ4lAnalysis.root']],\n",
       "  'VBFH200': [['/eos/user/s/skyriaco/Offshell/Syst/highmass/MC_18/200205_CutBased/MC_2018/HighMass/VBFH200/ZZ4lAnalysis.root']],\n",
       "  'VBFH2000': [['/eos/user/s/skyriaco/Offshell/Syst/highmass/MC_18/200205_CutBased/MC_2018/HighMass/VBFH2000/ZZ4lAnalysis.root']],\n",
       "  'VBFH210': [['/eos/user/s/skyriaco/Offshell/Syst/highmass/MC_18/200205_CutBased/MC_2018/HighMass/VBFH210/ZZ4lAnalysis.root']],\n",
       "  'VBFH230': [['/eos/user/s/skyriaco/Offshell/Syst/highmass/MC_18/200205_CutBased/MC_2018/HighMass/VBFH230/ZZ4lAnalysis.root']],\n",
       "  'VBFH250': [['/eos/user/s/skyriaco/Offshell/Syst/highmass/MC_18/200205_CutBased/MC_2018/HighMass/VBFH250/ZZ4lAnalysis.root']],\n",
       "  'VBFH2500': [['/eos/user/s/skyriaco/Offshell/Syst/highmass/MC_18/200205_CutBased/MC_2018/HighMass/VBFH2500/ZZ4lAnalysis.root']],\n",
       "  'VBFH270': [['/eos/user/s/skyriaco/Offshell/Syst/highmass/MC_18/200205_CutBased/MC_2018/HighMass/VBFH270/ZZ4lAnalysis.root']],\n",
       "  'VBFH300': [['/eos/user/s/skyriaco/Offshell/Syst/highmass/MC_18/200205_CutBased/MC_2018/HighMass/VBFH300/ZZ4lAnalysis.root']],\n",
       "  'VBFH350': [['/eos/user/s/skyriaco/Offshell/Syst/highmass/MC_18/200205_CutBased/MC_2018/HighMass/VBFH350/ZZ4lAnalysis.root']],\n",
       "  'VBFH400': [['/eos/user/s/skyriaco/Offshell/Syst/highmass/MC_18/200205_CutBased/MC_2018/HighMass/VBFH400/ZZ4lAnalysis.root']],\n",
       "  'VBFH450': [['/eos/user/s/skyriaco/Offshell/Syst/highmass/MC_18/200205_CutBased/MC_2018/HighMass/VBFH450/ZZ4lAnalysis.root']],\n",
       "  'VBFH500': [['/eos/user/s/skyriaco/Offshell/Syst/highmass/MC_18/200205_CutBased/MC_2018/HighMass/VBFH500/ZZ4lAnalysis.root']],\n",
       "  'VBFH550': [['/eos/user/s/skyriaco/Offshell/Syst/highmass/MC_18/200205_CutBased/MC_2018/HighMass/VBFH550/ZZ4lAnalysis.root']],\n",
       "  'VBFH600': [['/eos/user/s/skyriaco/Offshell/Syst/highmass/MC_18/200205_CutBased/MC_2018/HighMass/VBFH600/ZZ4lAnalysis.root']],\n",
       "  'VBFH700': [['/eos/user/s/skyriaco/Offshell/Syst/highmass/MC_18/200205_CutBased/MC_2018/HighMass/VBFH700/ZZ4lAnalysis.root']],\n",
       "  'VBFH750': [['/eos/user/s/skyriaco/Offshell/Syst/highmass/MC_18/200205_CutBased/MC_2018/HighMass/VBFH750/ZZ4lAnalysis.root']],\n",
       "  'VBFH800': [['/eos/user/s/skyriaco/Offshell/Syst/highmass/MC_18/200205_CutBased/MC_2018/HighMass/VBFH800/ZZ4lAnalysis.root']],\n",
       "  'VBFH900': [['/eos/user/s/skyriaco/Offshell/Syst/highmass/MC_18/200205_CutBased/MC_2018/HighMass/VBFH900/ZZ4lAnalysis.root']],\n",
       "  'VBFTo2e2muJJ_0PMH125_phantom128': [['/eos/user/s/skyriaco/Offshell/Syst/highmass/MC_18/200205_CutBased/MC_2018/HighMass/VBFTo2e2muJJ_0PMH125_phantom128/ZZ4lAnalysis.root']],\n",
       "  'VBFTo2e2muJJ_Contin_phantom128': [['/eos/user/s/skyriaco/Offshell/Syst/highmass/MC_18/200205_CutBased/MC_2018/HighMass/VBFTo2e2muJJ_Contin_phantom128/ZZ4lAnalysis.root']],\n",
       "  'VBFTo4eJJ_0PMH125_phantom128': [['/eos/user/s/skyriaco/Offshell/Syst/highmass/MC_18/200205_CutBased/MC_2018/HighMass/VBFTo4eJJ_0PMH125_phantom128/ZZ4lAnalysis.root']],\n",
       "  'VBFTo4eJJ_Contin_phantom128': [['/eos/user/s/skyriaco/Offshell/Syst/highmass/MC_18/200205_CutBased/MC_2018/HighMass/VBFTo4eJJ_Contin_phantom128/ZZ4lAnalysis.root']],\n",
       "  'WminusH175': [['/eos/user/s/skyriaco/Offshell/Syst/highmass/MC_18/200205_CutBased/MC_2018/HighMass/WminusH175/ZZ4lAnalysis.root']],\n",
       "  'WminusH250': [['/eos/user/s/skyriaco/Offshell/Syst/highmass/MC_18/200205_CutBased/MC_2018/HighMass/WminusH250/ZZ4lAnalysis.root']],\n",
       "  'WminusH2500': [['/eos/user/s/skyriaco/Offshell/Syst/highmass/MC_18/200205_CutBased/MC_2018/HighMass/WminusH2500/ZZ4lAnalysis.root']],\n",
       "  'WminusH270': [['/eos/user/s/skyriaco/Offshell/Syst/highmass/MC_18/200205_CutBased/MC_2018/HighMass/WminusH270/ZZ4lAnalysis.root']],\n",
       "  'WminusH300': [['/eos/user/s/skyriaco/Offshell/Syst/highmass/MC_18/200205_CutBased/MC_2018/HighMass/WminusH300/ZZ4lAnalysis.root']],\n",
       "  'WminusH3000': [['/eos/user/s/skyriaco/Offshell/Syst/highmass/MC_18/200205_CutBased/MC_2018/HighMass/WminusH3000/ZZ4lAnalysis.root']],\n",
       "  'WminusH350': [['/eos/user/s/skyriaco/Offshell/Syst/highmass/MC_18/200205_CutBased/MC_2018/HighMass/WminusH350/ZZ4lAnalysis.root']],\n",
       "  'WminusH400': [['/eos/user/s/skyriaco/Offshell/Syst/highmass/MC_18/200205_CutBased/MC_2018/HighMass/WminusH400/ZZ4lAnalysis.root']],\n",
       "  'WminusH450': [['/eos/user/s/skyriaco/Offshell/Syst/highmass/MC_18/200205_CutBased/MC_2018/HighMass/WminusH450/ZZ4lAnalysis.root']],\n",
       "  'WminusH500': [['/eos/user/s/skyriaco/Offshell/Syst/highmass/MC_18/200205_CutBased/MC_2018/HighMass/WminusH500/ZZ4lAnalysis.root']],\n",
       "  'WminusH550': [['/eos/user/s/skyriaco/Offshell/Syst/highmass/MC_18/200205_CutBased/MC_2018/HighMass/WminusH550/ZZ4lAnalysis.root']],\n",
       "  'WminusH600': [['/eos/user/s/skyriaco/Offshell/Syst/highmass/MC_18/200205_CutBased/MC_2018/HighMass/WminusH600/ZZ4lAnalysis.root']],\n",
       "  'WminusH700': [['/eos/user/s/skyriaco/Offshell/Syst/highmass/MC_18/200205_CutBased/MC_2018/HighMass/WminusH700/ZZ4lAnalysis.root']],\n",
       "  'WminusH750': [['/eos/user/s/skyriaco/Offshell/Syst/highmass/MC_18/200205_CutBased/MC_2018/HighMass/WminusH750/ZZ4lAnalysis.root']],\n",
       "  'WminusH800': [['/eos/user/s/skyriaco/Offshell/Syst/highmass/MC_18/200205_CutBased/MC_2018/HighMass/WminusH800/ZZ4lAnalysis.root']],\n",
       "  'WminusH900': [['/eos/user/s/skyriaco/Offshell/Syst/highmass/MC_18/200205_CutBased/MC_2018/HighMass/WminusH900/ZZ4lAnalysis.root']],\n",
       "  'WplusH1000': [['/eos/user/s/skyriaco/Offshell/Syst/highmass/MC_18/200205_CutBased/MC_2018/HighMass/WplusH1000/ZZ4lAnalysis.root']],\n",
       "  'WplusH115': [['/eos/user/s/skyriaco/Offshell/Syst/highmass/MC_18/200205_CutBased/MC_2018/HighMass/WplusH115/ZZ4lAnalysis.root']],\n",
       "  'WplusH135': [['/eos/user/s/skyriaco/Offshell/Syst/highmass/MC_18/200205_CutBased/MC_2018/HighMass/WplusH135/ZZ4lAnalysis.root']],\n",
       "  'WplusH140': [['/eos/user/s/skyriaco/Offshell/Syst/highmass/MC_18/200205_CutBased/MC_2018/HighMass/WplusH140/ZZ4lAnalysis.root']],\n",
       "  'WplusH145': [['/eos/user/s/skyriaco/Offshell/Syst/highmass/MC_18/200205_CutBased/MC_2018/HighMass/WplusH145/ZZ4lAnalysis.root']],\n",
       "  'WplusH150': [['/eos/user/s/skyriaco/Offshell/Syst/highmass/MC_18/200205_CutBased/MC_2018/HighMass/WplusH150/ZZ4lAnalysis.root']],\n",
       "  'WplusH1500': [['/eos/user/s/skyriaco/Offshell/Syst/highmass/MC_18/200205_CutBased/MC_2018/HighMass/WplusH1500/ZZ4lAnalysis.root']],\n",
       "  'WplusH155': [['/eos/user/s/skyriaco/Offshell/Syst/highmass/MC_18/200205_CutBased/MC_2018/HighMass/WplusH155/ZZ4lAnalysis.root']],\n",
       "  'WplusH160': [['/eos/user/s/skyriaco/Offshell/Syst/highmass/MC_18/200205_CutBased/MC_2018/HighMass/WplusH160/ZZ4lAnalysis.root']],\n",
       "  'WplusH165': [['/eos/user/s/skyriaco/Offshell/Syst/highmass/MC_18/200205_CutBased/MC_2018/HighMass/WplusH165/ZZ4lAnalysis.root']],\n",
       "  'WplusH170': [['/eos/user/s/skyriaco/Offshell/Syst/highmass/MC_18/200205_CutBased/MC_2018/HighMass/WplusH170/ZZ4lAnalysis.root']],\n",
       "  'WplusH175': [['/eos/user/s/skyriaco/Offshell/Syst/highmass/MC_18/200205_CutBased/MC_2018/HighMass/WplusH175/ZZ4lAnalysis.root']],\n",
       "  'WplusH180': [['/eos/user/s/skyriaco/Offshell/Syst/highmass/MC_18/200205_CutBased/MC_2018/HighMass/WplusH180/ZZ4lAnalysis.root']],\n",
       "  'WplusH190': [['/eos/user/s/skyriaco/Offshell/Syst/highmass/MC_18/200205_CutBased/MC_2018/HighMass/WplusH190/ZZ4lAnalysis.root']],\n",
       "  'WplusH200': [['/eos/user/s/skyriaco/Offshell/Syst/highmass/MC_18/200205_CutBased/MC_2018/HighMass/WplusH200/ZZ4lAnalysis.root']],\n",
       "  'WplusH2000': [['/eos/user/s/skyriaco/Offshell/Syst/highmass/MC_18/200205_CutBased/MC_2018/HighMass/WplusH2000/ZZ4lAnalysis.root']],\n",
       "  'WplusH210': [['/eos/user/s/skyriaco/Offshell/Syst/highmass/MC_18/200205_CutBased/MC_2018/HighMass/WplusH210/ZZ4lAnalysis.root']],\n",
       "  'WplusH230': [['/eos/user/s/skyriaco/Offshell/Syst/highmass/MC_18/200205_CutBased/MC_2018/HighMass/WplusH230/ZZ4lAnalysis.root']],\n",
       "  'WplusH250': [['/eos/user/s/skyriaco/Offshell/Syst/highmass/MC_18/200205_CutBased/MC_2018/HighMass/WplusH250/ZZ4lAnalysis.root']],\n",
       "  'WplusH2500': [['/eos/user/s/skyriaco/Offshell/Syst/highmass/MC_18/200205_CutBased/MC_2018/HighMass/WplusH2500/ZZ4lAnalysis.root']],\n",
       "  'WplusH270': [['/eos/user/s/skyriaco/Offshell/Syst/highmass/MC_18/200205_CutBased/MC_2018/HighMass/WplusH270/ZZ4lAnalysis.root']],\n",
       "  'WplusH300': [['/eos/user/s/skyriaco/Offshell/Syst/highmass/MC_18/200205_CutBased/MC_2018/HighMass/WplusH300/ZZ4lAnalysis.root']],\n",
       "  'WplusH3000': [['/eos/user/s/skyriaco/Offshell/Syst/highmass/MC_18/200205_CutBased/MC_2018/HighMass/WplusH3000/ZZ4lAnalysis.root']],\n",
       "  'WplusH350': [['/eos/user/s/skyriaco/Offshell/Syst/highmass/MC_18/200205_CutBased/MC_2018/HighMass/WplusH350/ZZ4lAnalysis.root']],\n",
       "  'WplusH400': [['/eos/user/s/skyriaco/Offshell/Syst/highmass/MC_18/200205_CutBased/MC_2018/HighMass/WplusH400/ZZ4lAnalysis.root']],\n",
       "  'WplusH450': [['/eos/user/s/skyriaco/Offshell/Syst/highmass/MC_18/200205_CutBased/MC_2018/HighMass/WplusH450/ZZ4lAnalysis.root']],\n",
       "  'WplusH500': [['/eos/user/s/skyriaco/Offshell/Syst/highmass/MC_18/200205_CutBased/MC_2018/HighMass/WplusH500/ZZ4lAnalysis.root']],\n",
       "  'WplusH550': [['/eos/user/s/skyriaco/Offshell/Syst/highmass/MC_18/200205_CutBased/MC_2018/HighMass/WplusH550/ZZ4lAnalysis.root']],\n",
       "  'WplusH600': [['/eos/user/s/skyriaco/Offshell/Syst/highmass/MC_18/200205_CutBased/MC_2018/HighMass/WplusH600/ZZ4lAnalysis.root']],\n",
       "  'WplusH700': [['/eos/user/s/skyriaco/Offshell/Syst/highmass/MC_18/200205_CutBased/MC_2018/HighMass/WplusH700/ZZ4lAnalysis.root']],\n",
       "  'WplusH750': [['/eos/user/s/skyriaco/Offshell/Syst/highmass/MC_18/200205_CutBased/MC_2018/HighMass/WplusH750/ZZ4lAnalysis.root']],\n",
       "  'WplusH800': [['/eos/user/s/skyriaco/Offshell/Syst/highmass/MC_18/200205_CutBased/MC_2018/HighMass/WplusH800/ZZ4lAnalysis.root']],\n",
       "  'WplusH900': [['/eos/user/s/skyriaco/Offshell/Syst/highmass/MC_18/200205_CutBased/MC_2018/HighMass/WplusH900/ZZ4lAnalysis.root']],\n",
       "  'ZH1000': [['/eos/user/s/skyriaco/Offshell/Syst/highmass/MC_18/200205_CutBased/MC_2018/HighMass/ZH1000/ZZ4lAnalysis.root']],\n",
       "  'ZH115': [['/eos/user/s/skyriaco/Offshell/Syst/highmass/MC_18/200205_CutBased/MC_2018/HighMass/ZH115/ZZ4lAnalysis.root']],\n",
       "  'ZH135': [['/eos/user/s/skyriaco/Offshell/Syst/highmass/MC_18/200205_CutBased/MC_2018/HighMass/ZH135/ZZ4lAnalysis.root']],\n",
       "  'ZH140': [['/eos/user/s/skyriaco/Offshell/Syst/highmass/MC_18/200205_CutBased/MC_2018/HighMass/ZH140/ZZ4lAnalysis.root']],\n",
       "  'ZH145': [['/eos/user/s/skyriaco/Offshell/Syst/highmass/MC_18/200205_CutBased/MC_2018/HighMass/ZH145/ZZ4lAnalysis.root']],\n",
       "  'ZH150': [['/eos/user/s/skyriaco/Offshell/Syst/highmass/MC_18/200205_CutBased/MC_2018/HighMass/ZH150/ZZ4lAnalysis.root']],\n",
       "  'ZH1500': [['/eos/user/s/skyriaco/Offshell/Syst/highmass/MC_18/200205_CutBased/MC_2018/HighMass/ZH1500/ZZ4lAnalysis.root']],\n",
       "  'ZH155': [['/eos/user/s/skyriaco/Offshell/Syst/highmass/MC_18/200205_CutBased/MC_2018/HighMass/ZH155/ZZ4lAnalysis.root']],\n",
       "  'ZH160': [['/eos/user/s/skyriaco/Offshell/Syst/highmass/MC_18/200205_CutBased/MC_2018/HighMass/ZH160/ZZ4lAnalysis.root']],\n",
       "  'ZH165': [['/eos/user/s/skyriaco/Offshell/Syst/highmass/MC_18/200205_CutBased/MC_2018/HighMass/ZH165/ZZ4lAnalysis.root']],\n",
       "  'ZH170': [['/eos/user/s/skyriaco/Offshell/Syst/highmass/MC_18/200205_CutBased/MC_2018/HighMass/ZH170/ZZ4lAnalysis.root']],\n",
       "  'ZH175': [['/eos/user/s/skyriaco/Offshell/Syst/highmass/MC_18/200205_CutBased/MC_2018/HighMass/ZH175/ZZ4lAnalysis.root']],\n",
       "  'ZH180': [['/eos/user/s/skyriaco/Offshell/Syst/highmass/MC_18/200205_CutBased/MC_2018/HighMass/ZH180/ZZ4lAnalysis.root']],\n",
       "  'ZH190': [['/eos/user/s/skyriaco/Offshell/Syst/highmass/MC_18/200205_CutBased/MC_2018/HighMass/ZH190/ZZ4lAnalysis.root']],\n",
       "  'ZH200': [['/eos/user/s/skyriaco/Offshell/Syst/highmass/MC_18/200205_CutBased/MC_2018/HighMass/ZH200/ZZ4lAnalysis.root']],\n",
       "  'ZH2000': [['/eos/user/s/skyriaco/Offshell/Syst/highmass/MC_18/200205_CutBased/MC_2018/HighMass/ZH2000/ZZ4lAnalysis.root']],\n",
       "  'ZH210': [['/eos/user/s/skyriaco/Offshell/Syst/highmass/MC_18/200205_CutBased/MC_2018/HighMass/ZH210/ZZ4lAnalysis.root']],\n",
       "  'ZH230': [['/eos/user/s/skyriaco/Offshell/Syst/highmass/MC_18/200205_CutBased/MC_2018/HighMass/ZH230/ZZ4lAnalysis.root']],\n",
       "  'ZH250': [['/eos/user/s/skyriaco/Offshell/Syst/highmass/MC_18/200205_CutBased/MC_2018/HighMass/ZH250/ZZ4lAnalysis.root']],\n",
       "  'ZH2500': [['/eos/user/s/skyriaco/Offshell/Syst/highmass/MC_18/200205_CutBased/MC_2018/HighMass/ZH2500/ZZ4lAnalysis.root']],\n",
       "  'ZH270': [['/eos/user/s/skyriaco/Offshell/Syst/highmass/MC_18/200205_CutBased/MC_2018/HighMass/ZH270/ZZ4lAnalysis.root']],\n",
       "  'ZH300': [['/eos/user/s/skyriaco/Offshell/Syst/highmass/MC_18/200205_CutBased/MC_2018/HighMass/ZH300/ZZ4lAnalysis.root']],\n",
       "  'ZH3000': [['/eos/user/s/skyriaco/Offshell/Syst/highmass/MC_18/200205_CutBased/MC_2018/HighMass/ZH3000/ZZ4lAnalysis.root']],\n",
       "  'ZH350': [['/eos/user/s/skyriaco/Offshell/Syst/highmass/MC_18/200205_CutBased/MC_2018/HighMass/ZH350/ZZ4lAnalysis.root']],\n",
       "  'ZH400': [['/eos/user/s/skyriaco/Offshell/Syst/highmass/MC_18/200205_CutBased/MC_2018/HighMass/ZH400/ZZ4lAnalysis.root']],\n",
       "  'ZH450': [['/eos/user/s/skyriaco/Offshell/Syst/highmass/MC_18/200205_CutBased/MC_2018/HighMass/ZH450/ZZ4lAnalysis.root']],\n",
       "  'ZH500': [['/eos/user/s/skyriaco/Offshell/Syst/highmass/MC_18/200205_CutBased/MC_2018/HighMass/ZH500/ZZ4lAnalysis.root']],\n",
       "  'ZH550': [['/eos/user/s/skyriaco/Offshell/Syst/highmass/MC_18/200205_CutBased/MC_2018/HighMass/ZH550/ZZ4lAnalysis.root']],\n",
       "  'ZH600': [['/eos/user/s/skyriaco/Offshell/Syst/highmass/MC_18/200205_CutBased/MC_2018/HighMass/ZH600/ZZ4lAnalysis.root']],\n",
       "  'ZH700': [['/eos/user/s/skyriaco/Offshell/Syst/highmass/MC_18/200205_CutBased/MC_2018/HighMass/ZH700/ZZ4lAnalysis.root']],\n",
       "  'ZH750': [['/eos/user/s/skyriaco/Offshell/Syst/highmass/MC_18/200205_CutBased/MC_2018/HighMass/ZH750/ZZ4lAnalysis.root']],\n",
       "  'ZH800': [['/eos/user/s/skyriaco/Offshell/Syst/highmass/MC_18/200205_CutBased/MC_2018/HighMass/ZH800/ZZ4lAnalysis.root']],\n",
       "  'ZH900': [['/eos/user/s/skyriaco/Offshell/Syst/highmass/MC_18/200205_CutBased/MC_2018/HighMass/ZH900/ZZ4lAnalysis.root']],\n",
       "  'ggH1000': [['/eos/user/s/skyriaco/Offshell/Syst/highmass/MC_18/200205_CutBased/MC_2018/HighMass/ggH1000/ZZ4lAnalysis.root']],\n",
       "  'ggH115': [['/eos/user/s/skyriaco/Offshell/Syst/highmass/MC_18/200205_CutBased/MC_2018/HighMass/ggH115/ZZ4lAnalysis.root']],\n",
       "  'ggH135': [['/eos/user/s/skyriaco/Offshell/Syst/highmass/MC_18/200205_CutBased/MC_2018/HighMass/ggH135/ZZ4lAnalysis.root']],\n",
       "  'ggH140': [['/eos/user/s/skyriaco/Offshell/Syst/highmass/MC_18/200205_CutBased/MC_2018/HighMass/ggH140/ZZ4lAnalysis.root']],\n",
       "  'ggH145': [['/eos/user/s/skyriaco/Offshell/Syst/highmass/MC_18/200205_CutBased/MC_2018/HighMass/ggH145/ZZ4lAnalysis.root']],\n",
       "  'ggH150': [['/eos/user/s/skyriaco/Offshell/Syst/highmass/MC_18/200205_CutBased/MC_2018/HighMass/ggH150/ZZ4lAnalysis.root']],\n",
       "  'ggH1500': [['/eos/user/s/skyriaco/Offshell/Syst/highmass/MC_18/200205_CutBased/MC_2018/HighMass/ggH1500/ZZ4lAnalysis.root']],\n",
       "  'ggH155': [['/eos/user/s/skyriaco/Offshell/Syst/highmass/MC_18/200205_CutBased/MC_2018/HighMass/ggH155/ZZ4lAnalysis.root']],\n",
       "  'ggH160': [['/eos/user/s/skyriaco/Offshell/Syst/highmass/MC_18/200205_CutBased/MC_2018/HighMass/ggH160/ZZ4lAnalysis.root']],\n",
       "  'ggH165': [['/eos/user/s/skyriaco/Offshell/Syst/highmass/MC_18/200205_CutBased/MC_2018/HighMass/ggH165/ZZ4lAnalysis.root']],\n",
       "  'ggH170': [['/eos/user/s/skyriaco/Offshell/Syst/highmass/MC_18/200205_CutBased/MC_2018/HighMass/ggH170/ZZ4lAnalysis.root']],\n",
       "  'ggH175': [['/eos/user/s/skyriaco/Offshell/Syst/highmass/MC_18/200205_CutBased/MC_2018/HighMass/ggH175/ZZ4lAnalysis.root']],\n",
       "  'ggH180': [['/eos/user/s/skyriaco/Offshell/Syst/highmass/MC_18/200205_CutBased/MC_2018/HighMass/ggH180/ZZ4lAnalysis.root']],\n",
       "  'ggH190': [['/eos/user/s/skyriaco/Offshell/Syst/highmass/MC_18/200205_CutBased/MC_2018/HighMass/ggH190/ZZ4lAnalysis.root']],\n",
       "  'ggH200': [['/eos/user/s/skyriaco/Offshell/Syst/highmass/MC_18/200205_CutBased/MC_2018/HighMass/ggH200/ZZ4lAnalysis.root']],\n",
       "  'ggH2000': [['/eos/user/s/skyriaco/Offshell/Syst/highmass/MC_18/200205_CutBased/MC_2018/HighMass/ggH2000/ZZ4lAnalysis.root']],\n",
       "  'ggH210': [['/eos/user/s/skyriaco/Offshell/Syst/highmass/MC_18/200205_CutBased/MC_2018/HighMass/ggH210/ZZ4lAnalysis.root']],\n",
       "  'ggH230': [['/eos/user/s/skyriaco/Offshell/Syst/highmass/MC_18/200205_CutBased/MC_2018/HighMass/ggH230/ZZ4lAnalysis.root']],\n",
       "  'ggH250': [['/eos/user/s/skyriaco/Offshell/Syst/highmass/MC_18/200205_CutBased/MC_2018/HighMass/ggH250/ZZ4lAnalysis.root']],\n",
       "  'ggH2500': [['/eos/user/s/skyriaco/Offshell/Syst/highmass/MC_18/200205_CutBased/MC_2018/HighMass/ggH2500/ZZ4lAnalysis.root']],\n",
       "  'ggH270': [['/eos/user/s/skyriaco/Offshell/Syst/highmass/MC_18/200205_CutBased/MC_2018/HighMass/ggH270/ZZ4lAnalysis.root']],\n",
       "  'ggH300': [['/eos/user/s/skyriaco/Offshell/Syst/highmass/MC_18/200205_CutBased/MC_2018/HighMass/ggH300/ZZ4lAnalysis.root']],\n",
       "  'ggH3000': [['/eos/user/s/skyriaco/Offshell/Syst/highmass/MC_18/200205_CutBased/MC_2018/HighMass/ggH3000/ZZ4lAnalysis.root']],\n",
       "  'ggH300_minloHJJ': [['/eos/user/s/skyriaco/Offshell/Syst/highmass/MC_18/200205_CutBased/MC_2018/HighMass/ggH300_minloHJJ/ZZ4lAnalysis.root']],\n",
       "  'ggH300_tunedown_minloHJJ': [['/eos/user/s/skyriaco/Offshell/Syst/highmass/MC_18/200205_CutBased/MC_2018/HighMass/ggH300_tunedown_minloHJJ/ZZ4lAnalysis.root']],\n",
       "  'ggH300_tuneup_minloHJJ': [['/eos/user/s/skyriaco/Offshell/Syst/highmass/MC_18/200205_CutBased/MC_2018/HighMass/ggH300_tuneup_minloHJJ/ZZ4lAnalysis.root']],\n",
       "  'ggH350': [['/eos/user/s/skyriaco/Offshell/Syst/highmass/MC_18/200205_CutBased/MC_2018/HighMass/ggH350/ZZ4lAnalysis.root']],\n",
       "  'ggH400': [['/eos/user/s/skyriaco/Offshell/Syst/highmass/MC_18/200205_CutBased/MC_2018/HighMass/ggH400/ZZ4lAnalysis.root']],\n",
       "  'ggH450': [['/eos/user/s/skyriaco/Offshell/Syst/highmass/MC_18/200205_CutBased/MC_2018/HighMass/ggH450/ZZ4lAnalysis.root']],\n",
       "  'ggH500': [['/eos/user/s/skyriaco/Offshell/Syst/highmass/MC_18/200205_CutBased/MC_2018/HighMass/ggH500/ZZ4lAnalysis.root']],\n",
       "  'ggH550': [['/eos/user/s/skyriaco/Offshell/Syst/highmass/MC_18/200205_CutBased/MC_2018/HighMass/ggH550/ZZ4lAnalysis.root']],\n",
       "  'ggH600': [['/eos/user/s/skyriaco/Offshell/Syst/highmass/MC_18/200205_CutBased/MC_2018/HighMass/ggH600/ZZ4lAnalysis.root']],\n",
       "  'ggH700': [['/eos/user/s/skyriaco/Offshell/Syst/highmass/MC_18/200205_CutBased/MC_2018/HighMass/ggH700/ZZ4lAnalysis.root']],\n",
       "  'ggH750': [['/eos/user/s/skyriaco/Offshell/Syst/highmass/MC_18/200205_CutBased/MC_2018/HighMass/ggH750/ZZ4lAnalysis.root']],\n",
       "  'ggH800': [['/eos/user/s/skyriaco/Offshell/Syst/highmass/MC_18/200205_CutBased/MC_2018/HighMass/ggH800/ZZ4lAnalysis.root']],\n",
       "  'ggH900': [['/eos/user/s/skyriaco/Offshell/Syst/highmass/MC_18/200205_CutBased/MC_2018/HighMass/ggH900/ZZ4lAnalysis.root']]}}"
      ]
     },
     "execution_count": 13,
     "metadata": {},
     "output_type": "execute_result"
    }
   ],
   "source": [
    "yeardict"
   ]
  },
  {
   "cell_type": "code",
   "execution_count": 14,
   "id": "3d66a3a4",
   "metadata": {},
   "outputs": [
    {
     "name": "stdout",
     "output_type": "stream",
     "text": [
      "{'MC_2018': {'VBFH1000': [['/eos/user/s/skyriaco/Offshell/Syst/highmass/MC_18/200205_CutBased/MC_2018/HighMass/VBFH1000/ZZ4lAnalysis.root']], 'VBFH115': [['/eos/user/s/skyriaco/Offshell/Syst/highmass/MC_18/200205_CutBased/MC_2018/HighMass/VBFH115/ZZ4lAnalysis.root']], 'VBFH135': [['/eos/user/s/skyriaco/Offshell/Syst/highmass/MC_18/200205_CutBased/MC_2018/HighMass/VBFH135/ZZ4lAnalysis.root']], 'VBFH140': [['/eos/user/s/skyriaco/Offshell/Syst/highmass/MC_18/200205_CutBased/MC_2018/HighMass/VBFH140/ZZ4lAnalysis.root']], 'VBFH145': [['/eos/user/s/skyriaco/Offshell/Syst/highmass/MC_18/200205_CutBased/MC_2018/HighMass/VBFH145/ZZ4lAnalysis.root']], 'VBFH150': [['/eos/user/s/skyriaco/Offshell/Syst/highmass/MC_18/200205_CutBased/MC_2018/HighMass/VBFH150/ZZ4lAnalysis.root']], 'VBFH1500': [['/eos/user/s/skyriaco/Offshell/Syst/highmass/MC_18/200205_CutBased/MC_2018/HighMass/VBFH1500/ZZ4lAnalysis.root']], 'VBFH155': [['/eos/user/s/skyriaco/Offshell/Syst/highmass/MC_18/200205_CutBased/MC_2018/HighMass/VBFH155/ZZ4lAnalysis.root']], 'VBFH160': [['/eos/user/s/skyriaco/Offshell/Syst/highmass/MC_18/200205_CutBased/MC_2018/HighMass/VBFH160/ZZ4lAnalysis.root']], 'VBFH165': [['/eos/user/s/skyriaco/Offshell/Syst/highmass/MC_18/200205_CutBased/MC_2018/HighMass/VBFH165/ZZ4lAnalysis.root']], 'VBFH170': [['/eos/user/s/skyriaco/Offshell/Syst/highmass/MC_18/200205_CutBased/MC_2018/HighMass/VBFH170/ZZ4lAnalysis.root']], 'VBFH175': [['/eos/user/s/skyriaco/Offshell/Syst/highmass/MC_18/200205_CutBased/MC_2018/HighMass/VBFH175/ZZ4lAnalysis.root']], 'VBFH180': [['/eos/user/s/skyriaco/Offshell/Syst/highmass/MC_18/200205_CutBased/MC_2018/HighMass/VBFH180/ZZ4lAnalysis.root']], 'VBFH190': [['/eos/user/s/skyriaco/Offshell/Syst/highmass/MC_18/200205_CutBased/MC_2018/HighMass/VBFH190/ZZ4lAnalysis.root']], 'VBFH200': [['/eos/user/s/skyriaco/Offshell/Syst/highmass/MC_18/200205_CutBased/MC_2018/HighMass/VBFH200/ZZ4lAnalysis.root']], 'VBFH2000': [['/eos/user/s/skyriaco/Offshell/Syst/highmass/MC_18/200205_CutBased/MC_2018/HighMass/VBFH2000/ZZ4lAnalysis.root']], 'VBFH210': [['/eos/user/s/skyriaco/Offshell/Syst/highmass/MC_18/200205_CutBased/MC_2018/HighMass/VBFH210/ZZ4lAnalysis.root']], 'VBFH230': [['/eos/user/s/skyriaco/Offshell/Syst/highmass/MC_18/200205_CutBased/MC_2018/HighMass/VBFH230/ZZ4lAnalysis.root']], 'VBFH250': [['/eos/user/s/skyriaco/Offshell/Syst/highmass/MC_18/200205_CutBased/MC_2018/HighMass/VBFH250/ZZ4lAnalysis.root']], 'VBFH2500': [['/eos/user/s/skyriaco/Offshell/Syst/highmass/MC_18/200205_CutBased/MC_2018/HighMass/VBFH2500/ZZ4lAnalysis.root']], 'VBFH270': [['/eos/user/s/skyriaco/Offshell/Syst/highmass/MC_18/200205_CutBased/MC_2018/HighMass/VBFH270/ZZ4lAnalysis.root']], 'VBFH300': [['/eos/user/s/skyriaco/Offshell/Syst/highmass/MC_18/200205_CutBased/MC_2018/HighMass/VBFH300/ZZ4lAnalysis.root']], 'VBFH350': [['/eos/user/s/skyriaco/Offshell/Syst/highmass/MC_18/200205_CutBased/MC_2018/HighMass/VBFH350/ZZ4lAnalysis.root']], 'VBFH400': [['/eos/user/s/skyriaco/Offshell/Syst/highmass/MC_18/200205_CutBased/MC_2018/HighMass/VBFH400/ZZ4lAnalysis.root']], 'VBFH450': [['/eos/user/s/skyriaco/Offshell/Syst/highmass/MC_18/200205_CutBased/MC_2018/HighMass/VBFH450/ZZ4lAnalysis.root']], 'VBFH500': [['/eos/user/s/skyriaco/Offshell/Syst/highmass/MC_18/200205_CutBased/MC_2018/HighMass/VBFH500/ZZ4lAnalysis.root']], 'VBFH550': [['/eos/user/s/skyriaco/Offshell/Syst/highmass/MC_18/200205_CutBased/MC_2018/HighMass/VBFH550/ZZ4lAnalysis.root']], 'VBFH600': [['/eos/user/s/skyriaco/Offshell/Syst/highmass/MC_18/200205_CutBased/MC_2018/HighMass/VBFH600/ZZ4lAnalysis.root']], 'VBFH700': [['/eos/user/s/skyriaco/Offshell/Syst/highmass/MC_18/200205_CutBased/MC_2018/HighMass/VBFH700/ZZ4lAnalysis.root']], 'VBFH750': [['/eos/user/s/skyriaco/Offshell/Syst/highmass/MC_18/200205_CutBased/MC_2018/HighMass/VBFH750/ZZ4lAnalysis.root']], 'VBFH800': [['/eos/user/s/skyriaco/Offshell/Syst/highmass/MC_18/200205_CutBased/MC_2018/HighMass/VBFH800/ZZ4lAnalysis.root']], 'VBFH900': [['/eos/user/s/skyriaco/Offshell/Syst/highmass/MC_18/200205_CutBased/MC_2018/HighMass/VBFH900/ZZ4lAnalysis.root']], 'VBFTo2e2muJJ_0PMH125_phantom128': [['/eos/user/s/skyriaco/Offshell/Syst/highmass/MC_18/200205_CutBased/MC_2018/HighMass/VBFTo2e2muJJ_0PMH125_phantom128/ZZ4lAnalysis.root']], 'VBFTo2e2muJJ_Contin_phantom128': [['/eos/user/s/skyriaco/Offshell/Syst/highmass/MC_18/200205_CutBased/MC_2018/HighMass/VBFTo2e2muJJ_Contin_phantom128/ZZ4lAnalysis.root']], 'VBFTo4eJJ_0PMH125_phantom128': [['/eos/user/s/skyriaco/Offshell/Syst/highmass/MC_18/200205_CutBased/MC_2018/HighMass/VBFTo4eJJ_0PMH125_phantom128/ZZ4lAnalysis.root']], 'VBFTo4eJJ_Contin_phantom128': [['/eos/user/s/skyriaco/Offshell/Syst/highmass/MC_18/200205_CutBased/MC_2018/HighMass/VBFTo4eJJ_Contin_phantom128/ZZ4lAnalysis.root']], 'WminusH175': [['/eos/user/s/skyriaco/Offshell/Syst/highmass/MC_18/200205_CutBased/MC_2018/HighMass/WminusH175/ZZ4lAnalysis.root']], 'WminusH250': [['/eos/user/s/skyriaco/Offshell/Syst/highmass/MC_18/200205_CutBased/MC_2018/HighMass/WminusH250/ZZ4lAnalysis.root']], 'WminusH2500': [['/eos/user/s/skyriaco/Offshell/Syst/highmass/MC_18/200205_CutBased/MC_2018/HighMass/WminusH2500/ZZ4lAnalysis.root']], 'WminusH270': [['/eos/user/s/skyriaco/Offshell/Syst/highmass/MC_18/200205_CutBased/MC_2018/HighMass/WminusH270/ZZ4lAnalysis.root']], 'WminusH300': [['/eos/user/s/skyriaco/Offshell/Syst/highmass/MC_18/200205_CutBased/MC_2018/HighMass/WminusH300/ZZ4lAnalysis.root']], 'WminusH3000': [['/eos/user/s/skyriaco/Offshell/Syst/highmass/MC_18/200205_CutBased/MC_2018/HighMass/WminusH3000/ZZ4lAnalysis.root']], 'WminusH350': [['/eos/user/s/skyriaco/Offshell/Syst/highmass/MC_18/200205_CutBased/MC_2018/HighMass/WminusH350/ZZ4lAnalysis.root']], 'WminusH400': [['/eos/user/s/skyriaco/Offshell/Syst/highmass/MC_18/200205_CutBased/MC_2018/HighMass/WminusH400/ZZ4lAnalysis.root']], 'WminusH450': [['/eos/user/s/skyriaco/Offshell/Syst/highmass/MC_18/200205_CutBased/MC_2018/HighMass/WminusH450/ZZ4lAnalysis.root']], 'WminusH500': [['/eos/user/s/skyriaco/Offshell/Syst/highmass/MC_18/200205_CutBased/MC_2018/HighMass/WminusH500/ZZ4lAnalysis.root']], 'WminusH550': [['/eos/user/s/skyriaco/Offshell/Syst/highmass/MC_18/200205_CutBased/MC_2018/HighMass/WminusH550/ZZ4lAnalysis.root']], 'WminusH600': [['/eos/user/s/skyriaco/Offshell/Syst/highmass/MC_18/200205_CutBased/MC_2018/HighMass/WminusH600/ZZ4lAnalysis.root']], 'WminusH700': [['/eos/user/s/skyriaco/Offshell/Syst/highmass/MC_18/200205_CutBased/MC_2018/HighMass/WminusH700/ZZ4lAnalysis.root']], 'WminusH750': [['/eos/user/s/skyriaco/Offshell/Syst/highmass/MC_18/200205_CutBased/MC_2018/HighMass/WminusH750/ZZ4lAnalysis.root']], 'WminusH800': [['/eos/user/s/skyriaco/Offshell/Syst/highmass/MC_18/200205_CutBased/MC_2018/HighMass/WminusH800/ZZ4lAnalysis.root']], 'WminusH900': [['/eos/user/s/skyriaco/Offshell/Syst/highmass/MC_18/200205_CutBased/MC_2018/HighMass/WminusH900/ZZ4lAnalysis.root']], 'WplusH1000': [['/eos/user/s/skyriaco/Offshell/Syst/highmass/MC_18/200205_CutBased/MC_2018/HighMass/WplusH1000/ZZ4lAnalysis.root']], 'WplusH115': [['/eos/user/s/skyriaco/Offshell/Syst/highmass/MC_18/200205_CutBased/MC_2018/HighMass/WplusH115/ZZ4lAnalysis.root']], 'WplusH135': [['/eos/user/s/skyriaco/Offshell/Syst/highmass/MC_18/200205_CutBased/MC_2018/HighMass/WplusH135/ZZ4lAnalysis.root']], 'WplusH140': [['/eos/user/s/skyriaco/Offshell/Syst/highmass/MC_18/200205_CutBased/MC_2018/HighMass/WplusH140/ZZ4lAnalysis.root']], 'WplusH145': [['/eos/user/s/skyriaco/Offshell/Syst/highmass/MC_18/200205_CutBased/MC_2018/HighMass/WplusH145/ZZ4lAnalysis.root']], 'WplusH150': [['/eos/user/s/skyriaco/Offshell/Syst/highmass/MC_18/200205_CutBased/MC_2018/HighMass/WplusH150/ZZ4lAnalysis.root']], 'WplusH1500': [['/eos/user/s/skyriaco/Offshell/Syst/highmass/MC_18/200205_CutBased/MC_2018/HighMass/WplusH1500/ZZ4lAnalysis.root']], 'WplusH155': [['/eos/user/s/skyriaco/Offshell/Syst/highmass/MC_18/200205_CutBased/MC_2018/HighMass/WplusH155/ZZ4lAnalysis.root']], 'WplusH160': [['/eos/user/s/skyriaco/Offshell/Syst/highmass/MC_18/200205_CutBased/MC_2018/HighMass/WplusH160/ZZ4lAnalysis.root']], 'WplusH165': [['/eos/user/s/skyriaco/Offshell/Syst/highmass/MC_18/200205_CutBased/MC_2018/HighMass/WplusH165/ZZ4lAnalysis.root']], 'WplusH170': [['/eos/user/s/skyriaco/Offshell/Syst/highmass/MC_18/200205_CutBased/MC_2018/HighMass/WplusH170/ZZ4lAnalysis.root']], 'WplusH175': [['/eos/user/s/skyriaco/Offshell/Syst/highmass/MC_18/200205_CutBased/MC_2018/HighMass/WplusH175/ZZ4lAnalysis.root']], 'WplusH180': [['/eos/user/s/skyriaco/Offshell/Syst/highmass/MC_18/200205_CutBased/MC_2018/HighMass/WplusH180/ZZ4lAnalysis.root']], 'WplusH190': [['/eos/user/s/skyriaco/Offshell/Syst/highmass/MC_18/200205_CutBased/MC_2018/HighMass/WplusH190/ZZ4lAnalysis.root']], 'WplusH200': [['/eos/user/s/skyriaco/Offshell/Syst/highmass/MC_18/200205_CutBased/MC_2018/HighMass/WplusH200/ZZ4lAnalysis.root']], 'WplusH2000': [['/eos/user/s/skyriaco/Offshell/Syst/highmass/MC_18/200205_CutBased/MC_2018/HighMass/WplusH2000/ZZ4lAnalysis.root']], 'WplusH210': [['/eos/user/s/skyriaco/Offshell/Syst/highmass/MC_18/200205_CutBased/MC_2018/HighMass/WplusH210/ZZ4lAnalysis.root']], 'WplusH230': [['/eos/user/s/skyriaco/Offshell/Syst/highmass/MC_18/200205_CutBased/MC_2018/HighMass/WplusH230/ZZ4lAnalysis.root']], 'WplusH250': [['/eos/user/s/skyriaco/Offshell/Syst/highmass/MC_18/200205_CutBased/MC_2018/HighMass/WplusH250/ZZ4lAnalysis.root']], 'WplusH2500': [['/eos/user/s/skyriaco/Offshell/Syst/highmass/MC_18/200205_CutBased/MC_2018/HighMass/WplusH2500/ZZ4lAnalysis.root']], 'WplusH270': [['/eos/user/s/skyriaco/Offshell/Syst/highmass/MC_18/200205_CutBased/MC_2018/HighMass/WplusH270/ZZ4lAnalysis.root']], 'WplusH300': [['/eos/user/s/skyriaco/Offshell/Syst/highmass/MC_18/200205_CutBased/MC_2018/HighMass/WplusH300/ZZ4lAnalysis.root']], 'WplusH3000': [['/eos/user/s/skyriaco/Offshell/Syst/highmass/MC_18/200205_CutBased/MC_2018/HighMass/WplusH3000/ZZ4lAnalysis.root']], 'WplusH350': [['/eos/user/s/skyriaco/Offshell/Syst/highmass/MC_18/200205_CutBased/MC_2018/HighMass/WplusH350/ZZ4lAnalysis.root']], 'WplusH400': [['/eos/user/s/skyriaco/Offshell/Syst/highmass/MC_18/200205_CutBased/MC_2018/HighMass/WplusH400/ZZ4lAnalysis.root']], 'WplusH450': [['/eos/user/s/skyriaco/Offshell/Syst/highmass/MC_18/200205_CutBased/MC_2018/HighMass/WplusH450/ZZ4lAnalysis.root']], 'WplusH500': [['/eos/user/s/skyriaco/Offshell/Syst/highmass/MC_18/200205_CutBased/MC_2018/HighMass/WplusH500/ZZ4lAnalysis.root']], 'WplusH550': [['/eos/user/s/skyriaco/Offshell/Syst/highmass/MC_18/200205_CutBased/MC_2018/HighMass/WplusH550/ZZ4lAnalysis.root']], 'WplusH600': [['/eos/user/s/skyriaco/Offshell/Syst/highmass/MC_18/200205_CutBased/MC_2018/HighMass/WplusH600/ZZ4lAnalysis.root']], 'WplusH700': [['/eos/user/s/skyriaco/Offshell/Syst/highmass/MC_18/200205_CutBased/MC_2018/HighMass/WplusH700/ZZ4lAnalysis.root']], 'WplusH750': [['/eos/user/s/skyriaco/Offshell/Syst/highmass/MC_18/200205_CutBased/MC_2018/HighMass/WplusH750/ZZ4lAnalysis.root']], 'WplusH800': [['/eos/user/s/skyriaco/Offshell/Syst/highmass/MC_18/200205_CutBased/MC_2018/HighMass/WplusH800/ZZ4lAnalysis.root']], 'WplusH900': [['/eos/user/s/skyriaco/Offshell/Syst/highmass/MC_18/200205_CutBased/MC_2018/HighMass/WplusH900/ZZ4lAnalysis.root']], 'ZH1000': [['/eos/user/s/skyriaco/Offshell/Syst/highmass/MC_18/200205_CutBased/MC_2018/HighMass/ZH1000/ZZ4lAnalysis.root']], 'ZH115': [['/eos/user/s/skyriaco/Offshell/Syst/highmass/MC_18/200205_CutBased/MC_2018/HighMass/ZH115/ZZ4lAnalysis.root']], 'ZH135': [['/eos/user/s/skyriaco/Offshell/Syst/highmass/MC_18/200205_CutBased/MC_2018/HighMass/ZH135/ZZ4lAnalysis.root']], 'ZH140': [['/eos/user/s/skyriaco/Offshell/Syst/highmass/MC_18/200205_CutBased/MC_2018/HighMass/ZH140/ZZ4lAnalysis.root']], 'ZH145': [['/eos/user/s/skyriaco/Offshell/Syst/highmass/MC_18/200205_CutBased/MC_2018/HighMass/ZH145/ZZ4lAnalysis.root']], 'ZH150': [['/eos/user/s/skyriaco/Offshell/Syst/highmass/MC_18/200205_CutBased/MC_2018/HighMass/ZH150/ZZ4lAnalysis.root']], 'ZH1500': [['/eos/user/s/skyriaco/Offshell/Syst/highmass/MC_18/200205_CutBased/MC_2018/HighMass/ZH1500/ZZ4lAnalysis.root']], 'ZH155': [['/eos/user/s/skyriaco/Offshell/Syst/highmass/MC_18/200205_CutBased/MC_2018/HighMass/ZH155/ZZ4lAnalysis.root']], 'ZH160': [['/eos/user/s/skyriaco/Offshell/Syst/highmass/MC_18/200205_CutBased/MC_2018/HighMass/ZH160/ZZ4lAnalysis.root']], 'ZH165': [['/eos/user/s/skyriaco/Offshell/Syst/highmass/MC_18/200205_CutBased/MC_2018/HighMass/ZH165/ZZ4lAnalysis.root']], 'ZH170': [['/eos/user/s/skyriaco/Offshell/Syst/highmass/MC_18/200205_CutBased/MC_2018/HighMass/ZH170/ZZ4lAnalysis.root']], 'ZH175': [['/eos/user/s/skyriaco/Offshell/Syst/highmass/MC_18/200205_CutBased/MC_2018/HighMass/ZH175/ZZ4lAnalysis.root']], 'ZH180': [['/eos/user/s/skyriaco/Offshell/Syst/highmass/MC_18/200205_CutBased/MC_2018/HighMass/ZH180/ZZ4lAnalysis.root']], 'ZH190': [['/eos/user/s/skyriaco/Offshell/Syst/highmass/MC_18/200205_CutBased/MC_2018/HighMass/ZH190/ZZ4lAnalysis.root']], 'ZH200': [['/eos/user/s/skyriaco/Offshell/Syst/highmass/MC_18/200205_CutBased/MC_2018/HighMass/ZH200/ZZ4lAnalysis.root']], 'ZH2000': [['/eos/user/s/skyriaco/Offshell/Syst/highmass/MC_18/200205_CutBased/MC_2018/HighMass/ZH2000/ZZ4lAnalysis.root']], 'ZH210': [['/eos/user/s/skyriaco/Offshell/Syst/highmass/MC_18/200205_CutBased/MC_2018/HighMass/ZH210/ZZ4lAnalysis.root']], 'ZH230': [['/eos/user/s/skyriaco/Offshell/Syst/highmass/MC_18/200205_CutBased/MC_2018/HighMass/ZH230/ZZ4lAnalysis.root']], 'ZH250': [['/eos/user/s/skyriaco/Offshell/Syst/highmass/MC_18/200205_CutBased/MC_2018/HighMass/ZH250/ZZ4lAnalysis.root']], 'ZH2500': [['/eos/user/s/skyriaco/Offshell/Syst/highmass/MC_18/200205_CutBased/MC_2018/HighMass/ZH2500/ZZ4lAnalysis.root']], 'ZH270': [['/eos/user/s/skyriaco/Offshell/Syst/highmass/MC_18/200205_CutBased/MC_2018/HighMass/ZH270/ZZ4lAnalysis.root']], 'ZH300': [['/eos/user/s/skyriaco/Offshell/Syst/highmass/MC_18/200205_CutBased/MC_2018/HighMass/ZH300/ZZ4lAnalysis.root']], 'ZH3000': [['/eos/user/s/skyriaco/Offshell/Syst/highmass/MC_18/200205_CutBased/MC_2018/HighMass/ZH3000/ZZ4lAnalysis.root']], 'ZH350': [['/eos/user/s/skyriaco/Offshell/Syst/highmass/MC_18/200205_CutBased/MC_2018/HighMass/ZH350/ZZ4lAnalysis.root']], 'ZH400': [['/eos/user/s/skyriaco/Offshell/Syst/highmass/MC_18/200205_CutBased/MC_2018/HighMass/ZH400/ZZ4lAnalysis.root']], 'ZH450': [['/eos/user/s/skyriaco/Offshell/Syst/highmass/MC_18/200205_CutBased/MC_2018/HighMass/ZH450/ZZ4lAnalysis.root']], 'ZH500': [['/eos/user/s/skyriaco/Offshell/Syst/highmass/MC_18/200205_CutBased/MC_2018/HighMass/ZH500/ZZ4lAnalysis.root']], 'ZH550': [['/eos/user/s/skyriaco/Offshell/Syst/highmass/MC_18/200205_CutBased/MC_2018/HighMass/ZH550/ZZ4lAnalysis.root']], 'ZH600': [['/eos/user/s/skyriaco/Offshell/Syst/highmass/MC_18/200205_CutBased/MC_2018/HighMass/ZH600/ZZ4lAnalysis.root']], 'ZH700': [['/eos/user/s/skyriaco/Offshell/Syst/highmass/MC_18/200205_CutBased/MC_2018/HighMass/ZH700/ZZ4lAnalysis.root']], 'ZH750': [['/eos/user/s/skyriaco/Offshell/Syst/highmass/MC_18/200205_CutBased/MC_2018/HighMass/ZH750/ZZ4lAnalysis.root']], 'ZH800': [['/eos/user/s/skyriaco/Offshell/Syst/highmass/MC_18/200205_CutBased/MC_2018/HighMass/ZH800/ZZ4lAnalysis.root']], 'ZH900': [['/eos/user/s/skyriaco/Offshell/Syst/highmass/MC_18/200205_CutBased/MC_2018/HighMass/ZH900/ZZ4lAnalysis.root']], 'ggH1000': [['/eos/user/s/skyriaco/Offshell/Syst/highmass/MC_18/200205_CutBased/MC_2018/HighMass/ggH1000/ZZ4lAnalysis.root']], 'ggH115': [['/eos/user/s/skyriaco/Offshell/Syst/highmass/MC_18/200205_CutBased/MC_2018/HighMass/ggH115/ZZ4lAnalysis.root']], 'ggH135': [['/eos/user/s/skyriaco/Offshell/Syst/highmass/MC_18/200205_CutBased/MC_2018/HighMass/ggH135/ZZ4lAnalysis.root']], 'ggH140': [['/eos/user/s/skyriaco/Offshell/Syst/highmass/MC_18/200205_CutBased/MC_2018/HighMass/ggH140/ZZ4lAnalysis.root']], 'ggH145': [['/eos/user/s/skyriaco/Offshell/Syst/highmass/MC_18/200205_CutBased/MC_2018/HighMass/ggH145/ZZ4lAnalysis.root']], 'ggH150': [['/eos/user/s/skyriaco/Offshell/Syst/highmass/MC_18/200205_CutBased/MC_2018/HighMass/ggH150/ZZ4lAnalysis.root']], 'ggH1500': [['/eos/user/s/skyriaco/Offshell/Syst/highmass/MC_18/200205_CutBased/MC_2018/HighMass/ggH1500/ZZ4lAnalysis.root']], 'ggH155': [['/eos/user/s/skyriaco/Offshell/Syst/highmass/MC_18/200205_CutBased/MC_2018/HighMass/ggH155/ZZ4lAnalysis.root']], 'ggH160': [['/eos/user/s/skyriaco/Offshell/Syst/highmass/MC_18/200205_CutBased/MC_2018/HighMass/ggH160/ZZ4lAnalysis.root']], 'ggH165': [['/eos/user/s/skyriaco/Offshell/Syst/highmass/MC_18/200205_CutBased/MC_2018/HighMass/ggH165/ZZ4lAnalysis.root']], 'ggH170': [['/eos/user/s/skyriaco/Offshell/Syst/highmass/MC_18/200205_CutBased/MC_2018/HighMass/ggH170/ZZ4lAnalysis.root']], 'ggH175': [['/eos/user/s/skyriaco/Offshell/Syst/highmass/MC_18/200205_CutBased/MC_2018/HighMass/ggH175/ZZ4lAnalysis.root']], 'ggH180': [['/eos/user/s/skyriaco/Offshell/Syst/highmass/MC_18/200205_CutBased/MC_2018/HighMass/ggH180/ZZ4lAnalysis.root']], 'ggH190': [['/eos/user/s/skyriaco/Offshell/Syst/highmass/MC_18/200205_CutBased/MC_2018/HighMass/ggH190/ZZ4lAnalysis.root']], 'ggH200': [['/eos/user/s/skyriaco/Offshell/Syst/highmass/MC_18/200205_CutBased/MC_2018/HighMass/ggH200/ZZ4lAnalysis.root']], 'ggH2000': [['/eos/user/s/skyriaco/Offshell/Syst/highmass/MC_18/200205_CutBased/MC_2018/HighMass/ggH2000/ZZ4lAnalysis.root']], 'ggH210': [['/eos/user/s/skyriaco/Offshell/Syst/highmass/MC_18/200205_CutBased/MC_2018/HighMass/ggH210/ZZ4lAnalysis.root']], 'ggH230': [['/eos/user/s/skyriaco/Offshell/Syst/highmass/MC_18/200205_CutBased/MC_2018/HighMass/ggH230/ZZ4lAnalysis.root']], 'ggH250': [['/eos/user/s/skyriaco/Offshell/Syst/highmass/MC_18/200205_CutBased/MC_2018/HighMass/ggH250/ZZ4lAnalysis.root']], 'ggH2500': [['/eos/user/s/skyriaco/Offshell/Syst/highmass/MC_18/200205_CutBased/MC_2018/HighMass/ggH2500/ZZ4lAnalysis.root']], 'ggH270': [['/eos/user/s/skyriaco/Offshell/Syst/highmass/MC_18/200205_CutBased/MC_2018/HighMass/ggH270/ZZ4lAnalysis.root']], 'ggH300': [['/eos/user/s/skyriaco/Offshell/Syst/highmass/MC_18/200205_CutBased/MC_2018/HighMass/ggH300/ZZ4lAnalysis.root']], 'ggH3000': [['/eos/user/s/skyriaco/Offshell/Syst/highmass/MC_18/200205_CutBased/MC_2018/HighMass/ggH3000/ZZ4lAnalysis.root']], 'ggH300_minloHJJ': [['/eos/user/s/skyriaco/Offshell/Syst/highmass/MC_18/200205_CutBased/MC_2018/HighMass/ggH300_minloHJJ/ZZ4lAnalysis.root']], 'ggH300_tunedown_minloHJJ': [['/eos/user/s/skyriaco/Offshell/Syst/highmass/MC_18/200205_CutBased/MC_2018/HighMass/ggH300_tunedown_minloHJJ/ZZ4lAnalysis.root']], 'ggH300_tuneup_minloHJJ': [['/eos/user/s/skyriaco/Offshell/Syst/highmass/MC_18/200205_CutBased/MC_2018/HighMass/ggH300_tuneup_minloHJJ/ZZ4lAnalysis.root']], 'ggH350': [['/eos/user/s/skyriaco/Offshell/Syst/highmass/MC_18/200205_CutBased/MC_2018/HighMass/ggH350/ZZ4lAnalysis.root']], 'ggH400': [['/eos/user/s/skyriaco/Offshell/Syst/highmass/MC_18/200205_CutBased/MC_2018/HighMass/ggH400/ZZ4lAnalysis.root']], 'ggH450': [['/eos/user/s/skyriaco/Offshell/Syst/highmass/MC_18/200205_CutBased/MC_2018/HighMass/ggH450/ZZ4lAnalysis.root']], 'ggH500': [['/eos/user/s/skyriaco/Offshell/Syst/highmass/MC_18/200205_CutBased/MC_2018/HighMass/ggH500/ZZ4lAnalysis.root']], 'ggH550': [['/eos/user/s/skyriaco/Offshell/Syst/highmass/MC_18/200205_CutBased/MC_2018/HighMass/ggH550/ZZ4lAnalysis.root']], 'ggH600': [['/eos/user/s/skyriaco/Offshell/Syst/highmass/MC_18/200205_CutBased/MC_2018/HighMass/ggH600/ZZ4lAnalysis.root']], 'ggH700': [['/eos/user/s/skyriaco/Offshell/Syst/highmass/MC_18/200205_CutBased/MC_2018/HighMass/ggH700/ZZ4lAnalysis.root']], 'ggH750': [['/eos/user/s/skyriaco/Offshell/Syst/highmass/MC_18/200205_CutBased/MC_2018/HighMass/ggH750/ZZ4lAnalysis.root']], 'ggH800': [['/eos/user/s/skyriaco/Offshell/Syst/highmass/MC_18/200205_CutBased/MC_2018/HighMass/ggH800/ZZ4lAnalysis.root']], 'ggH900': [['/eos/user/s/skyriaco/Offshell/Syst/highmass/MC_18/200205_CutBased/MC_2018/HighMass/ggH900/ZZ4lAnalysis.root']]}}\n"
     ]
    }
   ],
   "source": [
    "print (yeardict)"
   ]
  },
  {
   "cell_type": "markdown",
   "id": "f1ab6c6e",
   "metadata": {},
   "source": [
    "### Account for all bespoke EW MELA branches"
   ]
  },
  {
   "cell_type": "code",
   "execution_count": 15,
   "id": "00eb3589",
   "metadata": {},
   "outputs": [],
   "source": [
    "refsam4l = [\"VBFToContinToZZTo4l\", \"VBFToHiggs0L1ContinToZZTo4l\", \"VBFToHiggs0L1f025ph0ToZZTo4l\", \"VBFToHiggs0L1f05ph0ContinToZZTo4l\", \"VBFToHiggs0L1f05ph0ToZZTo4l\", \"VBFToHiggs0L1f075ph0ToZZTo4l\", \"VBFToHiggs0L1ToZZTo4l\", \"VBFToHiggs0MContinToZZTo4l\", \"VBFToHiggs0Mf025ph0ToZZTo4l\", \"VBFToHiggs0Mf05ph0ContinToZZTo4l\", \"VBFToHiggs0Mf05ph0ToZZTo4l\", \"VBFToHiggs0Mf075ph0ToZZTo4l\", \"VBFToHiggs0MToZZTo4l\", \"VBFToHiggs0PHContinToZZTo4l\", \"VBFToHiggs0PHf025ph0ToZZTo4l\", \"VBFToHiggs0PHf05ph0ContinToZZTo4l\", \"VBFToHiggs0PHf05ph0ToZZTo4l\", \"VBFToHiggs0PHf075ph0ToZZTo4l\", \"VBFToHiggs0PHToZZTo4l\", \"VBFToHiggs0PMContinToZZTo4l\", \"VBFToHiggs0PMToZZTo4l\"]"
   ]
  },
  {
   "cell_type": "code",
   "execution_count": 16,
   "id": "c98344f7",
   "metadata": {},
   "outputs": [],
   "source": [
    "refmel = [\"p_Gen_JJEW_BKG_MCFM\", \"p_Gen_JJEW_BSI_ghv1_0_ghv1prime2_m1549p165_MCFM\", \"p_Gen_JJEW_SIG_ghv1_1_ghv1prime2_m1177p11_MCFM\", \"p_Gen_JJEW_BSI_ghv1_1_ghv1prime2_m1549p165_MCFM\", \"p_Gen_JJEW_SIG_ghv1_1_ghv1prime2_m1549p165_MCFM\", \"p_Gen_JJEW_SIG_ghv1_1_ghv1prime2_m2038p82_MCFM\", \"p_Gen_JJEW_SIG_ghv1_0_ghv1prime2_m1549p165_MCFM\", \"p_Gen_JJEW_BSI_ghv1_0_ghv4_0p216499_MCFM\", \"p_Gen_JJEW_SIG_ghv1_1_ghv4_0p164504_MCFM\", \"p_Gen_JJEW_BSI_ghv1_1_ghv4_0p216499_MCFM\", \"p_Gen_JJEW_SIG_ghv1_1_ghv4_0p216499_MCFM\", \"p_Gen_JJEW_SIG_ghv1_1_ghv4_0p284929_MCFM\", \"p_Gen_JJEW_SIG_ghv1_0_ghv4_0p216499_MCFM\", \"p_Gen_JJEW_BSI_ghv1_0_ghv2_0p207049_MCFM\", \"p_Gen_JJEW_SIG_ghv1_1_ghv2_0p157323_MCFM\", \"p_Gen_JJEW_BSI_ghv1_1_ghv2_0p207049_MCFM\", \"p_Gen_JJEW_SIG_ghv1_1_ghv2_0p207049_MCFM\", \"p_Gen_JJEW_SIG_ghv1_1_ghv2_0p272492_MCFM\", \"p_Gen_JJEW_SIG_ghv1_0_ghv2_0p207049_MCFM\", \"p_Gen_JJEW_BSI_ghv1_1_MCFM\", \"p_Gen_JJEW_SIG_ghv1_1_MCFM\"]"
   ]
  },
  {
   "cell_type": "code",
   "execution_count": 17,
   "id": "675df0af",
   "metadata": {},
   "outputs": [],
   "source": [
    "refden = dict(zip(refsam4l, refmel))"
   ]
  },
  {
   "cell_type": "code",
   "execution_count": 18,
   "id": "83f5fd80",
   "metadata": {},
   "outputs": [
    {
     "data": {
      "text/plain": [
       "{'VBFToContinToZZTo4l': 'p_Gen_JJEW_BKG_MCFM',\n",
       " 'VBFToHiggs0L1ContinToZZTo4l': 'p_Gen_JJEW_BSI_ghv1_0_ghv1prime2_m1549p165_MCFM',\n",
       " 'VBFToHiggs0L1f025ph0ToZZTo4l': 'p_Gen_JJEW_SIG_ghv1_1_ghv1prime2_m1177p11_MCFM',\n",
       " 'VBFToHiggs0L1f05ph0ContinToZZTo4l': 'p_Gen_JJEW_BSI_ghv1_1_ghv1prime2_m1549p165_MCFM',\n",
       " 'VBFToHiggs0L1f05ph0ToZZTo4l': 'p_Gen_JJEW_SIG_ghv1_1_ghv1prime2_m1549p165_MCFM',\n",
       " 'VBFToHiggs0L1f075ph0ToZZTo4l': 'p_Gen_JJEW_SIG_ghv1_1_ghv1prime2_m2038p82_MCFM',\n",
       " 'VBFToHiggs0L1ToZZTo4l': 'p_Gen_JJEW_SIG_ghv1_0_ghv1prime2_m1549p165_MCFM',\n",
       " 'VBFToHiggs0MContinToZZTo4l': 'p_Gen_JJEW_BSI_ghv1_0_ghv4_0p216499_MCFM',\n",
       " 'VBFToHiggs0Mf025ph0ToZZTo4l': 'p_Gen_JJEW_SIG_ghv1_1_ghv4_0p164504_MCFM',\n",
       " 'VBFToHiggs0Mf05ph0ContinToZZTo4l': 'p_Gen_JJEW_BSI_ghv1_1_ghv4_0p216499_MCFM',\n",
       " 'VBFToHiggs0Mf05ph0ToZZTo4l': 'p_Gen_JJEW_SIG_ghv1_1_ghv4_0p216499_MCFM',\n",
       " 'VBFToHiggs0Mf075ph0ToZZTo4l': 'p_Gen_JJEW_SIG_ghv1_1_ghv4_0p284929_MCFM',\n",
       " 'VBFToHiggs0MToZZTo4l': 'p_Gen_JJEW_SIG_ghv1_0_ghv4_0p216499_MCFM',\n",
       " 'VBFToHiggs0PHContinToZZTo4l': 'p_Gen_JJEW_BSI_ghv1_0_ghv2_0p207049_MCFM',\n",
       " 'VBFToHiggs0PHf025ph0ToZZTo4l': 'p_Gen_JJEW_SIG_ghv1_1_ghv2_0p157323_MCFM',\n",
       " 'VBFToHiggs0PHf05ph0ContinToZZTo4l': 'p_Gen_JJEW_BSI_ghv1_1_ghv2_0p207049_MCFM',\n",
       " 'VBFToHiggs0PHf05ph0ToZZTo4l': 'p_Gen_JJEW_SIG_ghv1_1_ghv2_0p207049_MCFM',\n",
       " 'VBFToHiggs0PHf075ph0ToZZTo4l': 'p_Gen_JJEW_SIG_ghv1_1_ghv2_0p272492_MCFM',\n",
       " 'VBFToHiggs0PHToZZTo4l': 'p_Gen_JJEW_SIG_ghv1_0_ghv2_0p207049_MCFM',\n",
       " 'VBFToHiggs0PMContinToZZTo4l': 'p_Gen_JJEW_BSI_ghv1_1_MCFM',\n",
       " 'VBFToHiggs0PMToZZTo4l': 'p_Gen_JJEW_SIG_ghv1_1_MCFM'}"
      ]
     },
     "execution_count": 18,
     "metadata": {},
     "output_type": "execute_result"
    }
   ],
   "source": [
    "refden"
   ]
  },
  {
   "cell_type": "markdown",
   "id": "915a8a77",
   "metadata": {},
   "source": [
    "# REPEAT THIS SECTION AS NEEDED TO CREATE TEMPLATES AND FILL 'hlist'"
   ]
  },
  {
   "cell_type": "markdown",
   "id": "cd1eba08",
   "metadata": {},
   "source": [
    "##### Note that 'hlist' is expected to look like ['ggH SIG', 'ggH BSI', 'ggH BKG', 'EW SIG', 'EW BSI', 'EW BKG', 'qqbar BKG'] so make the appropriate histograms then append to 'hlist'\n",
    "##### As you change the year, production mode, final state, SIG/BKG/INT mix, and category, you should re-run the 'Fill histogram' cell and check the output before adding the next template to our 'hlist'"
   ]
  },
  {
   "cell_type": "markdown",
   "id": "4616deda",
   "metadata": {},
   "source": [
    "### Set up basic information. Make list to store histograms---do not evaluate this cell unless you want an empty instance of hlist!"
   ]
  },
  {
   "cell_type": "code",
   "execution_count": 19,
   "id": "7345c80b",
   "metadata": {},
   "outputs": [],
   "source": [
    "hlist = ['ggH SIG', 'ggH BSI', 'ggH BKG', 'qqbar BKG']"
   ]
  },
  {
   "cell_type": "code",
   "execution_count": 20,
   "id": "9e60cf56",
   "metadata": {},
   "outputs": [],
   "source": [
    "targetreweight = {\"gg\": [\"p_Gen_GG_SIG_kappaTopBot_1_ghz1_1_MCFM*KFactor_QCD_ggZZ_Nominal\", \"p_Gen_GG_BSI_kappaTopBot_1_ghz1_1_MCFM*KFactor_QCD_ggZZ_Nominal\", \"p_Gen_GG_BKG_MCFM*KFactor_QCD_ggZZ_Nominal\"],\n",
    "                 \"VBF\": [\"p_Gen_JJEW_SIG_ghv1_1_MCFM*0.5\", \"p_Gen_JJEW_BSI_ghv1_1_MCFM*0.5\", \"p_Gen_JJEW_BKG_MCFM*0.5\"],\n",
    "                 \"ZZTo4l\": [\"1\"]}\n",
    "\n",
    "finalstate = {\"4e\": \"121*121\", \"4mu\": \"169*169\", \"2e2mu\": \"121*169\"}"
   ]
  },
  {
   "cell_type": "code",
   "execution_count": 21,
   "id": "f6ea8efc",
   "metadata": {},
   "outputs": [],
   "source": [
    "proc = [\"ggH_0PM\", \"ggH_g11g21_negative\", \"ggH_g11g21_positive\", \"back_ggZZ\", \"back_qqZZ\", \"data_obs\"]"
   ]
  },
  {
   "cell_type": "code",
   "execution_count": 22,
   "id": "63542270",
   "metadata": {},
   "outputs": [],
   "source": [
    "#\"qqH_0PM\", \"qqH_g12g22_negative\", \"qqH_g12g22_positive\", \"back_VVZZ\""
   ]
  },
  {
   "cell_type": "code",
   "execution_count": 23,
   "id": "9232e96c",
   "metadata": {},
   "outputs": [
    {
     "ename": "SyntaxError",
     "evalue": "Missing parentheses in call to 'print'. Did you mean print(year)? (2462559766.py, line 1)",
     "output_type": "error",
     "traceback": [
      "\u001b[0;36m  File \u001b[0;32m\"/tmp/ipykernel_577/2462559766.py\"\u001b[0;36m, line \u001b[0;32m1\u001b[0m\n\u001b[0;31m    print year\u001b[0m\n\u001b[0m          ^\u001b[0m\n\u001b[0;31mSyntaxError\u001b[0m\u001b[0;31m:\u001b[0m Missing parentheses in call to 'print'. Did you mean print(year)?\n"
     ]
    }
   ],
   "source": [
    "print year"
   ]
  },
  {
   "cell_type": "markdown",
   "id": "cabc97ea",
   "metadata": {},
   "source": [
    "### Choose year, production mode, final state, SIG/BKG/INT mix, and category"
   ]
  },
  {
   "cell_type": "code",
   "execution_count": 24,
   "id": "da52dbc5",
   "metadata": {},
   "outputs": [],
   "source": [
    "#configure what you would like to run\n",
    "\n",
    "ltargetyear = [\"MC_2018\"] #,\"MC_2016_CorrectBTag\",\"MC_2018\"]\n",
    "ltargetprod = [\"gg\"] #,\"VBF\",\"ZZTo4l\"]\n",
    "ltargetstate = [\"4l\"] #\"4mu\",\"4e\",\"2e2mu\"]\n",
    "ltargetcomp = [0,1,2]    # SIG=0 BSI=1 BKG=2    (for the qqbar bkg events in 'ZZTo4l' this choice does not matter as you can see above)\n",
    "ltargetcateg = [0,1,2]  # Untag=0 VBF=1 VH=2"
   ]
  },
  {
   "cell_type": "markdown",
   "id": "7f30e643",
   "metadata": {},
   "source": [
    "### Fill histogram"
   ]
  },
  {
   "cell_type": "code",
   "execution_count": 105,
   "id": "d2b4ba86",
   "metadata": {
    "scrolled": true
   },
   "outputs": [],
   "source": [
    "#syst_weights = []\n",
    "\n",
    "\n",
    "\n",
    "def FillHist(targetprod,targetcomp,targetcateg,h_list) :\n",
    "\n",
    "    print (targetreweight[targetprod][targetcomp])\n",
    "    print (targetprod,targetcomp,targetcateg)\n",
    "    weight = \"{}*((Z1Flav*Z2Flav)==(121*121) ||(Z1Flav*Z2Flav)==(169*169) ||(Z1Flav*Z2Flav)==(121*169)  )*137.1*(ZZMass>=220)*1000*xsec*overallEventWeight*L1prefiringWeight/Bin40\".format(targetreweight[targetprod][targetcomp])\n",
    "    weightewzzup = \"{}*(1.0 + KFactor_EW_qqZZ_unc)*((Z1Flav*Z2Flav)==(121*121) ||(Z1Flav*Z2Flav)==(169*169) ||(Z1Flav*Z2Flav)==(121*169)  )*137.1*(ZZMass>=220)*1000*xsec*overallEventWeight*L1prefiringWeight/Bin40\".format(targetreweight[targetprod][targetcomp])\n",
    "    weightewzzdn = \"{}*(1.0 - KFactor_EW_qqZZ_unc)*((Z1Flav*Z2Flav)==(121*121) ||(Z1Flav*Z2Flav)==(169*169) ||(Z1Flav*Z2Flav)==(121*169)  )*137.1*(ZZMass>=220)*1000*xsec*overallEventWeight*L1prefiringWeight/Bin40\".format(targetreweight[targetprod][targetcomp])\n",
    "    \n",
    "    weightqrup = \"{}*((Z1Flav*Z2Flav)==(121*121) ||(Z1Flav*Z2Flav)==(169*169) ||(Z1Flav*Z2Flav)==(121*169)  )*137.1*(ZZMass>=220)*1000*xsec*overallEventWeight*L1prefiringWeight/Bin40\".format(targetreweight[targetprod][targetcomp])\n",
    "    weightqrdn = \"{}*((Z1Flav*Z2Flav)==(121*121) ||(Z1Flav*Z2Flav)==(169*169) ||(Z1Flav*Z2Flav)==(121*169)  )*137.1*(ZZMass>=220)*1000*xsec*overallEventWeight*L1prefiringWeight/Bin40\".format(targetreweight[targetprod][targetcomp])\n",
    "\n",
    "    \n",
    "    LHEweightsUp = [\"LHEweight_QCDscale_muR2_muF1\",\"LHEweight_QCDscale_muR1_muF2\",\"LHEweight_PDFVariation_Up\",\"LHEweight_AsMZ_Up\",\"PythiaWeight_isr_muR4 * PythiaWeight_fsr_muR4\"]\n",
    "    LHEweightsDn = [\"LHEweight_QCDscale_muR0p5_muF1\",\"LHEweight_QCDscale_muR1_muF0p5\",\"LHEweight_PDFVariation_Dn\",\"LHEweight_AsMZ_Dn\",\"PythiaWeight_isr_muR0p25 * PythiaWeight_fsr_muR0p25\"]\n",
    "    \n",
    "    \n",
    "    hf_LHEup = []\n",
    "    hf_LHEdn = []\n",
    "    \n",
    "    for i,w_ght in enumerate(LHEweightsUp) : \n",
    "          LHEweightsUp[i] = w_ght+\"*\"+weight\n",
    "          print (LHEweightsUp[i])  \n",
    "          LHEweightsDn[i] = LHEweightsDn[i]+\"*\"+weight\n",
    "          h_temp = ROOT.TH1F(\"hf_temp\",\"\",len(medges)-1, medges)\n",
    "          h_tempp = copy.deepcopy(h_temp)  \n",
    "          hf_LHEup.append(h_tempp)\n",
    "          h_temppdn = copy.deepcopy(h_temp)  \n",
    "\n",
    "          hf_LHEdn.append(h_temppdn)\n",
    " \n",
    "   \n",
    "    hf = ROOT.TH3F(\"hf\",\"\", len(medges)-1, medges, len(d1edges)-1, d1edges, len(d2edges)-1, d2edges)\n",
    "    hf_systdn = ROOT.TH1F(\"hf_kew_systdn\",\"\",100,0,2000)\n",
    "    hf_systup = ROOT.TH1F(\"hf_kew_systup\",\"\",100,0,2000)\n",
    "    hf_nom    = ROOT.TH1F(\"hf_nom\",\"\",100,0,2000)\n",
    "    hf_nomlhe = ROOT.TH1F(\"hf_nomlhe\",\"\",len(medges)-1, medges)    \n",
    "    hf_qr_up  = ROOT.TH1F(\"hf_qr_up\",\"\",100,0,2000)\n",
    "    hf_qr_dn  = ROOT.TH1F(\"hf_qr_dn\",\"\",100,0,2000)    \n",
    "    \n",
    "    \n",
    "    hf.SetDirectory(0)\n",
    "    hf_systdn.SetDirectory(0)\n",
    "    hf_systup.SetDirectory(0)\n",
    "    hf_nom.SetDirectory(0)\n",
    "    hf_nomlhe.SetDirectory(0)\n",
    "    for i,ht in enumerate(LHEweightsUp) :              \n",
    "            hf_LHEup[i].SetDirectory(0)\n",
    "            hf_LHEdn[i].SetDirectory(0)\n",
    "\n",
    "    for keynum in trange(len(yeardict.keys())):\n",
    "        year = list(yeardict.keys())[keynum]\n",
    "        #if year != targetyear: continue\n",
    "        #print(\"\\n\", year, lumi[year])\n",
    "\n",
    "        hs = ROOT.TH3F(\"hs\",\"\", len(medges)-1, medges, len(d1edges)-1, d1edges, len(d2edges)-1, d2edges)\n",
    "        hs_systdn = ROOT.TH1F(\"hs_kew_systdn\",\"\",100,0,2000)\n",
    "        hs_systup = ROOT.TH1F(\"hs_kew_systup\",\"\",100,0,2000)\n",
    "        hs_nom    = ROOT.TH1F(\"hs_nom\",\"\",100,0,2000)\n",
    "        hs_nomlhe = ROOT.TH1F(\"hs_nomlhe\",\"\",len(medges)-1, medges)\n",
    "        hs_LHEup = []\n",
    "        hs_LHEdn = []                \n",
    "        for i,ht in enumerate(hf_LHEup) :   \n",
    "            hs_temp = ROOT.TH1F(\"hs_temp\",\"\",len(medges)-1, medges)\n",
    "            hs_temp.SetDirectory(0)\n",
    "            hs_tempp = copy.deepcopy(hs_temp) \n",
    "            hs_LHEup.append(hs_tempp)\n",
    "            \n",
    "            hs_temppdn = copy.deepcopy(hs_temp) \n",
    "            hs_LHEdn.append(hs_temppdn)\n",
    "        \n",
    "        \n",
    "        hs_qr_up  = ROOT.TH1F(\"hs_qr_up\",\"\",100,0,2000)\n",
    "        hs_qr_dn  = ROOT.TH1F(\"hs_qr_dn\",\"\",100,0,2000)        \n",
    "        hs.SetDirectory(0)\n",
    "        hs_systdn.SetDirectory(0)\n",
    "        hs_systup.SetDirectory(0)\n",
    "        hs_nom.SetDirectory(0)\n",
    "        hs_nomlhe.SetDirectory(0)\n",
    " \n",
    "            \n",
    "        for prodd in yeardict[year]: \n",
    "          if targetprod in prodd :   \n",
    "           for decay in yeardict[year][prodd]:\n",
    "            #         if \"2e2mu\" not in decay[0]: continue\n",
    "            #print(\"\\n\", decay)\n",
    "            ht = ROOT.TH3F(\"ht\",\"\", len(medges)-1, medges, len(d1edges)-1, d1edges, len(d2edges)-1, d2edges)\n",
    "            ht_systdn = ROOT.TH1F(\"ht_kew_systdn\",\"\",100,0,2000)\n",
    "            ht_systup = ROOT.TH1F(\"ht_kew_systup\",\"\",100,0,2000)\n",
    "            ht_nom    = ROOT.TH1F(\"ht_nom\",\"\",100,0,2000)\n",
    "            ht_nomlhe = ROOT.TH1F(\"ht_nomlhe\",\"\",len(medges)-1, medges)\n",
    "            \n",
    "        \n",
    "            ht_qr_up  = ROOT.TH1F(\"ht_qr_up\",\"\",100,0,2000)\n",
    "            ht_qr_dn  = ROOT.TH1F(\"ht_qr_dn\",\"\",100,0,2000)\n",
    "            \n",
    "            ht_LHEup = []\n",
    "            ht_LHEdn = []        \n",
    "            for i,htf in enumerate(hf_LHEup) :   \n",
    "                ht_temp = ROOT.TH1F(\"ht_temp\",\"\",len(medges)-1, medges)\n",
    "                ht_temp.SetDirectory(0)\n",
    "                ht_tempp = copy.deepcopy(ht_temp) \n",
    "                ht_LHEup.append(ht_tempp)\n",
    "                ht_tempdn = ROOT.TH1F(\"ht_tempdn\",\"\",len(medges)-1, medges) \n",
    "                ht_temppdn  = copy.deepcopy(ht_tempdn)\n",
    "                ht_LHEdn.append(ht_temppdn)\n",
    "                \n",
    "                \n",
    "            ht.SetDirectory(0)\n",
    "            ht_systdn.SetDirectory(0)\n",
    "            ht_systup.SetDirectory(0)\n",
    "            ht_nom.SetDirectory(0)\n",
    "            ht_nomlhe.SetDirectory(0)\n",
    "            ht_qr_up.SetDirectory(0)  \n",
    "            ht_qr_dn.SetDirectory(0)  \n",
    "            for i,htff in enumerate(ht_LHEup) :   \n",
    "            \n",
    "                ht_LHEup[i].SetDirectory(0)\n",
    "                ht_LHEdn[i].SetDirectory(0)\n",
    "            count = 0\n",
    "            \n",
    "            \n",
    "            for tfile in trange(len(decay)):\n",
    "\n",
    "                #print(decay[tfile])\n",
    "                if \"VBF\" in decay[tfile]:\n",
    "\n",
    "                    #if \"0L1\" in decay[tfile]: continue\n",
    "                    skey = decay[tfile].split(\"/\")[-2].replace('_M125_GaSM', '')\n",
    "                    sampleweight = refden[skey]\n",
    "    #                 print(sampleweight)\n",
    "                if ( os.stat(decay[tfile]).st_size > 100 ):  \n",
    "                        f = ROOT.TFile(decay[tfile])\n",
    "                        t = f.Get(\"eventTree\")\n",
    "                        htt = ROOT.TH3F(\"htt\",\"\", len(medges)-1, medges, len(d1edges)-1, d1edges, len(d2edges)-1, d2edges)\n",
    "                        htt_ew_systdn = ROOT.TH1F(\"htt_ew_systdn\",\"\",100,0,2000)\n",
    "                        htt_ew_systup = ROOT.TH1F(\"htt_ew_systup\",\"\",100,0,2000)\n",
    "                        htt_nom    = ROOT.TH1F(\"htt_nom\",\"\",100,0,2000)\n",
    "                        htt_nomlhe = ROOT.TH1F(\"htt_nomlhe\",\"\",len(medges)-1, medges)\n",
    "\n",
    "                        htt_LHEup = []\n",
    "                        htt_LHEdn = []        \n",
    "                \n",
    "                        for i,htff in enumerate(ht_LHEup) :\n",
    "                            #print (LHEweightsUp[i])\n",
    "                            htt_tempu = ROOT.TH1F(\"htt_tempu\",\"\",len(medges)-1, medges)\n",
    "                            t.Draw(\"ZZMass>>htt_tempu\",LHEweightsUp[i],\"\")                                \n",
    "                            htt_LHEup.append(htt_tempu)\n",
    "                            #print (LHEweightsDn[i])\n",
    "                            #print (\"----------------------\")\n",
    "                            htt_tempd = ROOT.TH1F(\"htt_tempd\",\"\",len(medges)-1, medges)\n",
    "                            t.Draw(\"ZZMass>>htt_tempd\",LHEweightsDn[i],\"\")\n",
    "                            htt_LHEdn.append(htt_tempd)\n",
    "                            #print (\"up:\",htt_tempu.Integral(),htt_LHEup[i].Integral())\n",
    "                            #print (\"dn:\",htt_tempd.Integral(),htt_LHEdn[i].Integral())\n",
    "                         \n",
    "\n",
    "                        htt_qr_up  = ROOT.TH1F(\"htt_qr_up\",\"\",100,0,2000)\n",
    "                        htt_qr_dn  = ROOT.TH1F(\"htt_qr_dn\",\"\",100,0,2000)\n",
    "                        #print (weight_ewzz_up)\n",
    "                        #print (weight_ewzz_dn)\n",
    "                        #print (weight)\n",
    "\n",
    "                        t.Draw(\"Dbsi:Dbkg:ZZMass>>htt\",weight,\"\")                        \n",
    "                        t.Draw(\"ZZMass>>htt_nom\",weight,\"\")\n",
    "                        t.Draw(\"ZZMass>>htt_nomlhe\",weight,\"\")\n",
    "                        #print (\"om nomnomm:\",htt_nomlhe.Integral())\n",
    "                        t.Draw(\"ZZMass>>htt_ew_systup\",weightewzzup,\"\")\n",
    "                        t.Draw(\"ZZMass>>htt_ew_systdn\",weightewzzdn,\"\")\n",
    "\n",
    "                        \n",
    "                        t.Draw(\"ZZMass>>htt_qr_up\",weightqrup,\"\")    \n",
    "                        t.Draw(\"ZZMass>>htt_qr_dn\",weightqrdn,\"\")    \n",
    "\n",
    "\n",
    "                        #print (\"htt_up:\", htt_ew_systup.Integral())\n",
    "                        #print (\"htt_dn:\", htt_ew_systdn.Integral())\n",
    "                        \n",
    "                        if count == 0:\n",
    "                            #print(\"ADDED --- htt = \", htt.Integral())\n",
    "                            ht.Add(htt)\n",
    "                            ht_nom.Add(htt_nom)\n",
    "                            \n",
    "                            #print (htt_nomlhe)\n",
    "                            #print (ht_nomlhe)\n",
    "                            ht_nomlhe.Add(htt_nomlhe)\n",
    "\n",
    "                            ht_systdn.Add(htt_ew_systdn)\n",
    "                            ht_systup.Add(htt_ew_systup)\n",
    "                            \n",
    "                            ht_qr_up.Add(htt_qr_up)\n",
    "                            ht_qr_dn.Add(htt_qr_dn)\n",
    "                            \n",
    "                            for i,htff in enumerate(ht_LHEup) :   \n",
    "                                print  (\"check addition:\",ht_LHEup[i].Integral(), htt_LHEup[i].Integral() + ht_LHEup[i].Integral() )  \n",
    "                                ht_LHEup[i].Add(htt_LHEup[i])                           \n",
    "                                print (\"hereu\",i,ht_LHEup[i].Integral(),htt_LHEup[i].Integral())\n",
    "                                \n",
    "                            \n",
    "                                print  (\"check addition:\",ht_LHEdn[i].Integral(), htt_LHEdn[i].Integral() + ht_LHEdn[i].Integral() )  \n",
    "                                ht_LHEdn[i].Add(htt_LHEdn[i])\n",
    "                                print (\"heredn\",i,ht_LHEdn[i].Integral(),htt_LHEdn[i].Integral())\n",
    "\n",
    "                            count+=1\n",
    "                        elif htt.Integral() > ((ht.Integral()/count) + 2*sqrt((ht.Integral()/count))): \n",
    "                            print(\"SKIPPED --- htt = \", htt.Integral())\n",
    "                        elif htt.Integral() < ((ht.Integral()/count) - 2*sqrt((ht.Integral()/count))): \n",
    "                            print(\"SKIPPED --- htt = \", htt.Integral())\n",
    "                        else:\n",
    "                            print(\"ADDED --- htt = \", htt.Integral())\n",
    "                            ht.Add(htt)\n",
    "                            ht_nom.Add(htt_nom)\n",
    "                            ht_nomlhe.Add(htt_nomlhe)\n",
    "\n",
    "                            ht_systdn.Add(htt_ew_systdn)\n",
    "                            ht_systup.Add(htt_ew_systup)\n",
    "                            for i,htff in enumerate(ht_LHEup) : \n",
    "                                ht_LHEup[i].SetDirectory(0)\n",
    "                                ht_LHEup[i].Add(htt_LHEup[i])\n",
    "                                print (\"sfin:\",ht_LHEup[i].Integral())\n",
    "\n",
    "                                \n",
    "                                ht_LHEdn[i].SetDirectory(0)\n",
    "                                print (\"sfindn:\",ht_LHEdn[i].Integral())\n",
    "                                ht_LHEdn[i].Add(htt_LHEdn[i])\n",
    "                                            \n",
    "                            ht_qr_up.Add(htt_qr_up)\n",
    "                            ht_qr_dn.Add(htt_qr_dn)    \n",
    "                            \n",
    "                            count+=1\n",
    "            #print(\"ht = \", ht.Integral())\n",
    "            ht.Scale(1./count)\n",
    "            ht_nom.Scale(1./count)\n",
    "            ht_systdn.Scale(1./count)\n",
    "            ht_systup.Scale(1./count)\n",
    "            \n",
    "            for i,htff in enumerate(ht_LHEup) :            \n",
    "                ht_LHEup[i].Scale(1./count)\n",
    "                ht_LHEdn[i].Scale(1./count)        \n",
    "            #print(\"ht = \", ht.Integral())\n",
    "            hs.Add(ht)\n",
    "            hs_systdn.Add(ht_systdn)\n",
    "            hs_systup.Add(ht_systup)\n",
    "            hs_nom.Add(ht_nom)\n",
    "            hs_nomlhe.Add(ht_nomlhe)\n",
    "\n",
    "            hs_qr_up.Add(ht_qr_up)\n",
    "            hs_qr_dn.Add(ht_qr_dn) \n",
    "            \n",
    "            for i,htff in enumerate(ht_LHEup) :            \n",
    "                hs_LHEup[i].Add(ht_LHEup[i])\n",
    "                #print(\"hs u => \",i, hs_LHEup[i].Integral())\n",
    "                \n",
    "                \n",
    "            for i,htff in enumerate(ht_LHEdn) :            \n",
    "                hs_LHEdn[i].Add(ht_LHEdn[i])    \n",
    "                #print(\"hs d => \",i, hs_LHEdn[i].Integral())\n",
    "\n",
    "\n",
    "        hf.Add(hs)\n",
    "        hf_systdn.Add(hs_systdn)\n",
    "        hf_systup.Add(hs_systup)\n",
    "        hf_nom.Add(hs_nom)\n",
    "        hf_nomlhe.Add(hs_nomlhe)\n",
    "        for i,htff in enumerate(hf_LHEup) : \n",
    "            hf_LHEup[i].Add(hs_LHEup[i])\n",
    "            print (\"u\",hs_LHEup[i].Integral()) \n",
    "                \n",
    "        \n",
    "            hf_LHEdn[i].Add(hs_LHEdn[i])\n",
    "            print (\"dn\",hs_LHEdn[i].Integral()) \n",
    "\n",
    "        hf_qr_up.Add(hs_qr_up)\n",
    "        hf_qr_dn.Add(hs_qr_dn) \n",
    "        print(\"hf = \", hf_nom.Integral())\n",
    "\n",
    "        hf.Scale(1/len(yeardict.keys()))\n",
    "        hf_systdn.Scale(1/len(yeardict.keys()))\n",
    "        hf_systup.Scale(1/len(yeardict.keys()))\n",
    "        hf_nom.Scale(1/len(yeardict.keys()))\n",
    "        \n",
    "        for i in range(0,len(hf_LHEup)) :            \n",
    "                hf_LHEup[i].Scale(1/len(yeardict.keys()))\n",
    "                h_list.append(hf_LHEup[i])\n",
    "                print (\"up:\",hf_LHEup[i].Integral())\n",
    "       \n",
    "       \n",
    "                hf_LHEdn[i].Scale(1/len(yeardict.keys()))\n",
    "                \n",
    "                h_list.append(hf_LHEdn[i])\n",
    "                print (\"dn:\",hf_LHEdn[i].Integral())\n",
    "                print (\"adding to hlist\")\n",
    "\n",
    "\n",
    "        #h_list.append(hf)\n",
    "        #h_list.append(hf_systdn)\n",
    "        #h_list.append(hf_systup)\n",
    "        h_list.append(hf_nomlhe)\n",
    "        "
   ]
  },
  {
   "cell_type": "code",
   "execution_count": 106,
   "id": "8556020c",
   "metadata": {
    "scrolled": true
   },
   "outputs": [
    {
     "name": "stdout",
     "output_type": "stream",
     "text": [
      "[]\n",
      "p_Gen_GG_SIG_kappaTopBot_1_ghz1_1_MCFM*KFactor_QCD_ggZZ_Nominal\n",
      "gg 0 0\n",
      "LHEweight_QCDscale_muR2_muF1*p_Gen_GG_SIG_kappaTopBot_1_ghz1_1_MCFM*KFactor_QCD_ggZZ_Nominal*((Z1Flav*Z2Flav)==(121*121) ||(Z1Flav*Z2Flav)==(169*169) ||(Z1Flav*Z2Flav)==(121*169)  )*137.1*(ZZMass>=220)*1000*xsec*overallEventWeight*L1prefiringWeight/Bin40\n",
      "LHEweight_QCDscale_muR1_muF2*p_Gen_GG_SIG_kappaTopBot_1_ghz1_1_MCFM*KFactor_QCD_ggZZ_Nominal*((Z1Flav*Z2Flav)==(121*121) ||(Z1Flav*Z2Flav)==(169*169) ||(Z1Flav*Z2Flav)==(121*169)  )*137.1*(ZZMass>=220)*1000*xsec*overallEventWeight*L1prefiringWeight/Bin40\n",
      "LHEweight_PDFVariation_Up*p_Gen_GG_SIG_kappaTopBot_1_ghz1_1_MCFM*KFactor_QCD_ggZZ_Nominal*((Z1Flav*Z2Flav)==(121*121) ||(Z1Flav*Z2Flav)==(169*169) ||(Z1Flav*Z2Flav)==(121*169)  )*137.1*(ZZMass>=220)*1000*xsec*overallEventWeight*L1prefiringWeight/Bin40\n",
      "LHEweight_AsMZ_Up*p_Gen_GG_SIG_kappaTopBot_1_ghz1_1_MCFM*KFactor_QCD_ggZZ_Nominal*((Z1Flav*Z2Flav)==(121*121) ||(Z1Flav*Z2Flav)==(169*169) ||(Z1Flav*Z2Flav)==(121*169)  )*137.1*(ZZMass>=220)*1000*xsec*overallEventWeight*L1prefiringWeight/Bin40\n",
      "PythiaWeight_isr_muR4 * PythiaWeight_fsr_muR4*p_Gen_GG_SIG_kappaTopBot_1_ghz1_1_MCFM*KFactor_QCD_ggZZ_Nominal*((Z1Flav*Z2Flav)==(121*121) ||(Z1Flav*Z2Flav)==(169*169) ||(Z1Flav*Z2Flav)==(121*169)  )*137.1*(ZZMass>=220)*1000*xsec*overallEventWeight*L1prefiringWeight/Bin40\n"
     ]
    },
    {
     "data": {
      "application/vnd.jupyter.widget-view+json": {
       "model_id": "24f195ea16cf4951becee4ee3be43991",
       "version_major": 2,
       "version_minor": 0
      },
      "text/plain": [
       "  0%|          | 0/1 [00:00<?, ?it/s]"
      ]
     },
     "metadata": {},
     "output_type": "display_data"
    },
    {
     "data": {
      "application/vnd.jupyter.widget-view+json": {
       "model_id": "23515271a4ff4b4e8f859048e1e7b111",
       "version_major": 2,
       "version_minor": 0
      },
      "text/plain": [
       "  0%|          | 0/1 [00:00<?, ?it/s]"
      ]
     },
     "metadata": {},
     "output_type": "display_data"
    },
    {
     "name": "stdout",
     "output_type": "stream",
     "text": [
      "check addition: 0.0 117.27739881328307\n",
      "hereu 0 117.27739881328307 117.27739881328307\n",
      "check addition: 0.0 151.81031124899164\n",
      "heredn 0 151.81031124899164 151.81031124899164\n",
      "check addition: 0.0 129.97665035631508\n",
      "hereu 1 129.97665035631508 129.97665035631508\n",
      "check addition: 0.0 136.37920367356855\n",
      "heredn 1 136.37920367356855 136.37920367356855\n",
      "check addition: 0.0 135.6672691400163\n",
      "hereu 2 135.6672691400163 135.6672691400163\n",
      "check addition: 0.0 130.51063387596514\n",
      "heredn 2 130.51063387596514 130.51063387596514\n",
      "check addition: 0.0 134.2560419626534\n",
      "hereu 3 134.2560419626534 134.2560419626534\n",
      "check addition: 0.0 130.64521700015757\n",
      "heredn 3 130.64521700015757 130.64521700015757\n",
      "check addition: 0.0 133.04622332251165\n",
      "hereu 4 133.04622332251165 133.04622332251165\n",
      "check addition: 0.0 130.41819686582312\n",
      "heredn 4 130.41819686582312 130.41819686582312\n"
     ]
    },
    {
     "data": {
      "application/vnd.jupyter.widget-view+json": {
       "model_id": "6404c78849f84765a86a4632e14da898",
       "version_major": 2,
       "version_minor": 0
      },
      "text/plain": [
       "  0%|          | 0/1 [00:00<?, ?it/s]"
      ]
     },
     "metadata": {},
     "output_type": "display_data"
    },
    {
     "name": "stdout",
     "output_type": "stream",
     "text": [
      "check addition: 0.0 1.2455337455863358e-10\n",
      "hereu 0 1.2455337455863358e-10 1.2455337455863358e-10\n",
      "check addition: 0.0 2.0730552344194741e-10\n",
      "heredn 0 2.0730552344194741e-10 2.0730552344194741e-10\n",
      "check addition: 0.0 1.6117534390458488e-10\n",
      "hereu 1 1.6117534390458488e-10 1.6117534390458488e-10\n",
      "check addition: 0.0 1.5489593982453975e-10\n",
      "heredn 1 1.5489593982453975e-10 1.5489593982453975e-10\n",
      "check addition: 0.0 1.6114657871990623e-10\n",
      "hereu 2 1.6114657871990623e-10 1.6114657871990623e-10\n",
      "check addition: 0.0 1.5595919347632936e-10\n",
      "heredn 2 1.5595919347632936e-10 1.5595919347632936e-10\n",
      "check addition: 0.0 1.6120285661891387e-10\n",
      "hereu 3 1.6120285661891387e-10 1.6120285661891387e-10\n",
      "check addition: 0.0 1.5406917408533616e-10\n",
      "heredn 3 1.5406917408533616e-10 1.5406917408533616e-10\n",
      "check addition: 0.0 1.5751225670990188e-10\n",
      "hereu 4 1.5751225670990188e-10 1.5751225670990188e-10\n",
      "check addition: 0.0 7.075671125400529e-11\n",
      "heredn 4 7.075671125400529e-11 7.075671125400529e-11\n"
     ]
    },
    {
     "data": {
      "application/vnd.jupyter.widget-view+json": {
       "model_id": "69cf5d6810e14662a38c18050dacb562",
       "version_major": 2,
       "version_minor": 0
      },
      "text/plain": [
       "  0%|          | 0/1 [00:00<?, ?it/s]"
      ]
     },
     "metadata": {},
     "output_type": "display_data"
    },
    {
     "name": "stdout",
     "output_type": "stream",
     "text": [
      "check addition: 0.0 8.383283943841358e-06\n",
      "hereu 0 8.383283943841358e-06 8.383283943841358e-06\n",
      "check addition: 0.0 1.2599445417649235e-05\n",
      "heredn 0 1.2599445417649235e-05 1.2599445417649235e-05\n",
      "check addition: 0.0 1.1326393606875262e-05\n",
      "hereu 1 1.1326393606875262e-05 1.1326393606875262e-05\n",
      "check addition: 0.0 8.93595223880328e-06\n",
      "heredn 1 8.93595223880328e-06 8.93595223880328e-06\n",
      "check addition: 0.0 1.033247957163419e-05\n",
      "hereu 2 1.033247957163419e-05 1.033247957163419e-05\n",
      "check addition: 0.0 1.0030828643786682e-05\n",
      "heredn 2 1.0030828643786682e-05 1.0030828643786682e-05\n",
      "check addition: 0.0 1.03295792650282e-05\n",
      "hereu 3 1.03295792650282e-05 1.03295792650282e-05\n",
      "check addition: 0.0 9.906729715347673e-06\n",
      "heredn 3 9.906729715347673e-06 9.906729715347673e-06\n",
      "check addition: 0.0 3.860214510653659e-06\n",
      "hereu 4 3.860214510653659e-06 3.860214510653659e-06\n",
      "check addition: 0.0 2.0259331168524797e-05\n",
      "heredn 4 2.0259331168524797e-05 2.0259331168524797e-05\n"
     ]
    },
    {
     "data": {
      "application/vnd.jupyter.widget-view+json": {
       "model_id": "69d1e286a7974f2eab7778401d5174a0",
       "version_major": 2,
       "version_minor": 0
      },
      "text/plain": [
       "  0%|          | 0/1 [00:00<?, ?it/s]"
      ]
     },
     "metadata": {},
     "output_type": "display_data"
    },
    {
     "name": "stdout",
     "output_type": "stream",
     "text": [
      "check addition: 0.0 4.336732903342799e-09\n",
      "hereu 0 4.336732903342799e-09 4.336732903342799e-09\n",
      "check addition: 0.0 6.501377103340644e-09\n",
      "heredn 0 6.501377103340644e-09 6.501377103340644e-09\n",
      "check addition: 0.0 5.6291565575516955e-09\n",
      "hereu 1 5.6291565575516955e-09 5.6291565575516955e-09\n",
      "check addition: 0.0 4.83749466873018e-09\n",
      "heredn 1 4.83749466873018e-09 4.83749466873018e-09\n",
      "check addition: 0.0 5.339215694566413e-09\n",
      "hereu 2 5.339215694566413e-09 5.339215694566413e-09\n",
      "check addition: 0.0 5.178205392253332e-09\n",
      "heredn 2 5.178205392253332e-09 5.178205392253332e-09\n",
      "check addition: 0.0 5.337130432048198e-09\n",
      "hereu 3 5.337130432048198e-09 5.337130432048198e-09\n",
      "check addition: 0.0 5.1206134887848975e-09\n",
      "heredn 3 5.1206134887848975e-09 5.1206134887848975e-09\n",
      "check addition: 0.0 4.953960047737738e-09\n",
      "hereu 4 4.953960047737738e-09 4.953960047737738e-09\n",
      "check addition: 0.0 2.9173307884017285e-09\n",
      "heredn 4 2.9173307884017285e-09 2.9173307884017285e-09\n"
     ]
    },
    {
     "data": {
      "application/vnd.jupyter.widget-view+json": {
       "model_id": "4f16e06e585048aca13209952c5ff230",
       "version_major": 2,
       "version_minor": 0
      },
      "text/plain": [
       "  0%|          | 0/1 [00:00<?, ?it/s]"
      ]
     },
     "metadata": {},
     "output_type": "display_data"
    },
    {
     "name": "stdout",
     "output_type": "stream",
     "text": [
      "check addition: 0.0 0.039722863482893445\n",
      "hereu 0 0.039722863482893445 0.039722863482893445\n",
      "check addition: 0.0 0.01900681108236313\n",
      "heredn 0 0.01900681108236313 0.01900681108236313\n",
      "check addition: 0.0 0.028950755251571536\n",
      "hereu 1 0.028950755251571536 0.028950755251571536\n",
      "check addition: 0.0 0.0372341088950634\n",
      "heredn 1 0.0372341088950634 0.0372341088950634\n",
      "check addition: 0.0 0.034684695303440094\n",
      "hereu 2 0.034684695303440094 0.034684695303440094\n",
      "check addition: 0.0 0.031092098681256175\n",
      "heredn 2 0.031092098681256175 0.031092098681256175\n",
      "check addition: 0.0 0.031860299641266465\n",
      "hereu 3 0.031860299641266465 0.031860299641266465\n",
      "check addition: 0.0 0.03294599149376154\n",
      "heredn 3 0.03294599149376154 0.03294599149376154\n",
      "check addition: 0.0 0.02767710154876113\n",
      "hereu 4 0.02767710154876113 0.02767710154876113\n",
      "check addition: 0.0 0.005879647578694858\n",
      "heredn 4 0.005879647578694858 0.005879647578694858\n"
     ]
    },
    {
     "data": {
      "application/vnd.jupyter.widget-view+json": {
       "model_id": "e988f9abb51b469ea262e50ba95b317d",
       "version_major": 2,
       "version_minor": 0
      },
      "text/plain": [
       "  0%|          | 0/1 [00:00<?, ?it/s]"
      ]
     },
     "metadata": {},
     "output_type": "display_data"
    },
    {
     "name": "stdout",
     "output_type": "stream",
     "text": [
      "check addition: 0.0 0.2798102978220899\n",
      "hereu 0 0.2798102978220899 0.2798102978220899\n",
      "check addition: 0.0 0.3717431586075546\n",
      "heredn 0 0.3717431586075546 0.3717431586075546\n",
      "check addition: 0.0 0.3179681165823559\n",
      "hereu 1 0.3179681165823559 0.3179681165823559\n",
      "check addition: 0.0 0.32448165274370366\n",
      "heredn 1 0.32448165274370366 0.32448165274370366\n",
      "check addition: 0.0 0.327176850630863\n",
      "hereu 2 0.327176850630863 0.327176850630863\n",
      "check addition: 0.0 0.3158866742613533\n",
      "heredn 2 0.3158866742613533 0.3158866742613533\n",
      "check addition: 0.0 0.3241988642720516\n",
      "hereu 3 0.3241988642720516 0.3241988642720516\n",
      "check addition: 0.0 0.3149824494347053\n",
      "heredn 3 0.3149824494347053 0.3149824494347053\n",
      "check addition: 0.0 0.3051597686815692\n",
      "hereu 4 0.3051597686815692 0.3051597686815692\n",
      "check addition: 0.0 0.5719596211249138\n",
      "heredn 4 0.5719596211249138 0.5719596211249138\n"
     ]
    },
    {
     "data": {
      "application/vnd.jupyter.widget-view+json": {
       "model_id": "1ec644c6d91f44d09948dd9c75fc2eab",
       "version_major": 2,
       "version_minor": 0
      },
      "text/plain": [
       "  0%|          | 0/1 [00:00<?, ?it/s]"
      ]
     },
     "metadata": {},
     "output_type": "display_data"
    },
    {
     "name": "stdout",
     "output_type": "stream",
     "text": [
      "check addition: 0.0 435.5817693271674\n",
      "hereu 0 435.5817693271674 435.5817693271674\n",
      "check addition: 0.0 563.4726796511095\n",
      "heredn 0 563.4726796511095 563.4726796511095\n",
      "check addition: 0.0 482.01106758159585\n",
      "hereu 1 482.01106758159585 482.01106758159585\n",
      "check addition: 0.0 507.07254563691095\n",
      "heredn 1 507.07254563691095 507.07254563691095\n",
      "check addition: 0.0 503.64455466810614\n",
      "hereu 2 503.64455466810614 503.64455466810614\n",
      "check addition: 0.0 484.6502852248959\n",
      "heredn 2 484.6502852248959 484.6502852248959\n",
      "check addition: 0.0 498.5611599597614\n",
      "hereu 3 498.5611599597614 498.5611599597614\n",
      "check addition: 0.0 485.11861780588515\n",
      "heredn 3 485.11861780588515 485.11861780588515\n",
      "check addition: 0.0 489.4700732275378\n",
      "hereu 4 489.4700732275378 489.4700732275378\n",
      "check addition: 0.0 494.29098145500757\n",
      "heredn 4 494.29098145500757 494.29098145500757\n"
     ]
    },
    {
     "data": {
      "application/vnd.jupyter.widget-view+json": {
       "model_id": "c36a41547ec44fbaab0b11064bfed89b",
       "version_major": 2,
       "version_minor": 0
      },
      "text/plain": [
       "  0%|          | 0/1 [00:00<?, ?it/s]"
      ]
     },
     "metadata": {},
     "output_type": "display_data"
    },
    {
     "name": "stdout",
     "output_type": "stream",
     "text": [
      "check addition: 0.0 2.3284970223903656\n",
      "hereu 0 2.3284970223903656 2.3284970223903656\n",
      "check addition: 0.0 2.996819332242012\n",
      "heredn 0 2.996819332242012 2.996819332242012\n",
      "check addition: 0.0 2.613156519830227\n",
      "hereu 1 2.613156519830227 2.613156519830227\n",
      "check addition: 0.0 2.6597342267632484\n",
      "heredn 1 2.6597342267632484 2.6597342267632484\n",
      "check addition: 0.0 2.6854410246014595\n",
      "hereu 2 2.6854410246014595 2.6854410246014595\n",
      "check addition: 0.0 2.589613899588585\n",
      "heredn 2 2.589613899588585 2.589613899588585\n",
      "check addition: 0.0 2.6598237603902817\n",
      "hereu 3 2.6598237603902817 2.6598237603902817\n",
      "check addition: 0.0 2.5869960486888885\n",
      "heredn 3 2.5869960486888885 2.5869960486888885\n",
      "check addition: 0.0 2.5737520456314087\n",
      "hereu 4 2.5737520456314087 2.5737520456314087\n",
      "check addition: 0.0 2.5444391444325447\n",
      "heredn 4 2.5444391444325447 2.5444391444325447\n"
     ]
    },
    {
     "data": {
      "application/vnd.jupyter.widget-view+json": {
       "model_id": "098b1efbc20746f781e8bf00ae261520",
       "version_major": 2,
       "version_minor": 0
      },
      "text/plain": [
       "  0%|          | 0/1 [00:00<?, ?it/s]"
      ]
     },
     "metadata": {},
     "output_type": "display_data"
    },
    {
     "name": "stdout",
     "output_type": "stream",
     "text": [
      "check addition: 0.0 3.6815008940175176\n",
      "hereu 0 3.6815008940175176 3.6815008940175176\n",
      "check addition: 0.0 5.4113755244761705\n",
      "heredn 0 5.4113755244761705 5.4113755244761705\n",
      "check addition: 0.0 4.318395876791328\n",
      "hereu 1 4.318395876791328 4.318395876791328\n",
      "check addition: 0.0 4.541905805002898\n",
      "heredn 1 4.541905805002898 4.541905805002898\n",
      "check addition: 0.0 4.504522311035544\n",
      "hereu 2 4.504522311035544 4.504522311035544\n",
      "check addition: 0.0 4.357710622251034\n",
      "heredn 2 4.357710622251034 4.357710622251034\n",
      "check addition: 0.0 4.457516466733068\n",
      "hereu 3 4.457516466733068 4.457516466733068\n",
      "check addition: 0.0 4.35402605868876\n",
      "heredn 3 4.35402605868876 4.35402605868876\n",
      "check addition: 0.0 4.474215819267556\n",
      "hereu 4 4.474215819267556 4.474215819267556\n",
      "check addition: 0.0 4.682317245693412\n",
      "heredn 4 4.682317245693412 4.682317245693412\n"
     ]
    },
    {
     "data": {
      "application/vnd.jupyter.widget-view+json": {
       "model_id": "399c268f9bc44c84b2c8a5ae7de03bd6",
       "version_major": 2,
       "version_minor": 0
      },
      "text/plain": [
       "  0%|          | 0/1 [00:00<?, ?it/s]"
      ]
     },
     "metadata": {},
     "output_type": "display_data"
    },
    {
     "name": "stdout",
     "output_type": "stream",
     "text": [
      "check addition: 0.0 2.30775956902653\n",
      "hereu 0 2.30775956902653 2.30775956902653\n",
      "check addition: 0.0 3.027245443314314\n",
      "heredn 0 3.027245443314314 3.027245443314314\n",
      "check addition: 0.0 2.583900426980108\n",
      "hereu 1 2.583900426980108 2.583900426980108\n",
      "check addition: 0.0 2.687391604296863\n",
      "heredn 1 2.687391604296863 2.687391604296863\n",
      "check addition: 0.0 2.683809543494135\n",
      "hereu 2 2.683809543494135 2.683809543494135\n",
      "check addition: 0.0 2.5854308418929577\n",
      "heredn 2 2.5854308418929577 2.5854308418929577\n",
      "check addition: 0.0 2.6576204570010304\n",
      "hereu 3 2.6576204570010304 2.6576204570010304\n",
      "check addition: 0.0 2.5854843356646597\n",
      "heredn 3 2.5854843356646597 2.5854843356646597\n",
      "check addition: 0.0 2.5550393755547702\n",
      "hereu 4 2.5550393755547702 2.5550393755547702\n",
      "check addition: 0.0 2.7461328716017306\n",
      "heredn 4 2.7461328716017306 2.7461328716017306\n"
     ]
    },
    {
     "data": {
      "application/vnd.jupyter.widget-view+json": {
       "model_id": "f1edbb906d7d4a0db18cd3b1a0599d4d",
       "version_major": 2,
       "version_minor": 0
      },
      "text/plain": [
       "  0%|          | 0/1 [00:00<?, ?it/s]"
      ]
     },
     "metadata": {},
     "output_type": "display_data"
    },
    {
     "name": "stdout",
     "output_type": "stream",
     "text": [
      "check addition: 0.0 2.726444164989516\n",
      "hereu 0 2.726444164989516 2.726444164989516\n",
      "check addition: 0.0 3.56645968882367\n",
      "heredn 0 3.56645968882367 3.56645968882367\n",
      "check addition: 0.0 3.0420021736063063\n",
      "hereu 1 3.0420021736063063 3.0420021736063063\n",
      "check addition: 0.0 3.1786926854401827\n",
      "heredn 1 3.1786926854401827 3.1786926854401827\n",
      "check addition: 0.0 3.1685601426288486\n",
      "hereu 2 3.1685601426288486 3.1685601426288486\n",
      "check addition: 0.0 3.0483164391480386\n",
      "heredn 2 3.0483164391480386 3.0483164391480386\n",
      "check addition: 0.0 3.136943109333515\n",
      "hereu 3 3.136943109333515 3.136943109333515\n",
      "check addition: 0.0 3.0511198989115655\n",
      "heredn 3 3.0511198989115655 3.0511198989115655\n",
      "check addition: 0.0 3.1320001578424126\n",
      "hereu 4 3.1320001578424126 3.1320001578424126\n",
      "check addition: 0.0 2.8068267105991254\n",
      "heredn 4 2.8068267105991254 2.8068267105991254\n"
     ]
    },
    {
     "data": {
      "application/vnd.jupyter.widget-view+json": {
       "model_id": "e9326ccb2aad407caa672c6d149640da",
       "version_major": 2,
       "version_minor": 0
      },
      "text/plain": [
       "  0%|          | 0/1 [00:00<?, ?it/s]"
      ]
     },
     "metadata": {},
     "output_type": "display_data"
    },
    {
     "name": "stdout",
     "output_type": "stream",
     "text": [
      "check addition: 0.0 4.1607744274660945\n",
      "hereu 0 4.1607744274660945 4.1607744274660945\n",
      "check addition: 0.0 5.362392504699528\n",
      "heredn 0 5.362392504699528 5.362392504699528\n",
      "check addition: 0.0 4.614128728397191\n",
      "hereu 1 4.614128728397191 4.614128728397191\n",
      "check addition: 0.0 4.816369200125337\n",
      "heredn 1 4.816369200125337 4.816369200125337\n",
      "check addition: 0.0 4.807502120733261\n",
      "hereu 2 4.807502120733261 4.807502120733261\n",
      "check addition: 0.0 4.619004744105041\n",
      "heredn 2 4.619004744105041 4.619004744105041\n",
      "check addition: 0.0 4.751930793747306\n",
      "hereu 3 4.751930793747306 4.751930793747306\n",
      "check addition: 0.0 4.626226061023772\n",
      "heredn 3 4.626226061023772 4.626226061023772\n",
      "check addition: 0.0 4.679468879941851\n",
      "hereu 4 4.679468879941851 4.679468879941851\n",
      "check addition: 0.0 4.331415595021099\n",
      "heredn 4 4.331415595021099 4.331415595021099\n"
     ]
    },
    {
     "data": {
      "application/vnd.jupyter.widget-view+json": {
       "model_id": "7d7c4218ae4043fc922c3eaaec80f1ef",
       "version_major": 2,
       "version_minor": 0
      },
      "text/plain": [
       "  0%|          | 0/1 [00:00<?, ?it/s]"
      ]
     },
     "metadata": {},
     "output_type": "display_data"
    },
    {
     "name": "stdout",
     "output_type": "stream",
     "text": [
      "check addition: 0.0 7.824265548493713\n",
      "hereu 0 7.824265548493713 7.824265548493713\n",
      "check addition: 0.0 10.140879366081208\n",
      "heredn 0 10.140879366081208 10.140879366081208\n",
      "check addition: 0.0 8.663396406453103\n",
      "hereu 1 8.663396406453103 8.663396406453103\n",
      "check addition: 0.0 9.118447420652956\n",
      "heredn 1 9.118447420652956 9.118447420652956\n",
      "check addition: 0.0 9.066169034224004\n",
      "hereu 2 9.066169034224004 9.066169034224004\n",
      "check addition: 0.0 8.700982891954482\n",
      "heredn 2 8.700982891954482 8.700982891954482\n",
      "check addition: 0.0 8.962267731782049\n",
      "hereu 3 8.962267731782049 8.962267731782049\n",
      "check addition: 0.0 8.721532492898405\n",
      "heredn 3 8.721532492898405 8.721532492898405\n",
      "check addition: 0.0 8.865861605387181\n",
      "hereu 4 8.865861605387181 8.865861605387181\n",
      "check addition: 0.0 9.206711808947148\n",
      "heredn 4 9.206711808947148 9.206711808947148\n"
     ]
    },
    {
     "data": {
      "application/vnd.jupyter.widget-view+json": {
       "model_id": "5ff78f9b6850499fb99877c7efee19a5",
       "version_major": 2,
       "version_minor": 0
      },
      "text/plain": [
       "  0%|          | 0/1 [00:00<?, ?it/s]"
      ]
     },
     "metadata": {},
     "output_type": "display_data"
    },
    {
     "name": "stdout",
     "output_type": "stream",
     "text": [
      "check addition: 0.0 32.749899569898844\n",
      "hereu 0 32.749899569898844 32.749899569898844\n",
      "check addition: 0.0 42.2127977758646\n",
      "heredn 0 42.2127977758646 42.2127977758646\n",
      "check addition: 0.0 36.238610316067934\n",
      "hereu 1 36.238610316067934 36.238610316067934\n",
      "check addition: 0.0 38.00392586365342\n",
      "heredn 1 38.00392586365342 38.00392586365342\n",
      "check addition: 0.0 37.8664850667119\n",
      "hereu 2 37.8664850667119 37.8664850667119\n",
      "check addition: 0.0 36.326988875865936\n",
      "heredn 2 36.326988875865936 36.326988875865936\n",
      "check addition: 0.0 37.40827506035566\n",
      "hereu 3 37.40827506035566 37.40827506035566\n",
      "check addition: 0.0 36.42352167889476\n",
      "heredn 3 36.42352167889476 36.42352167889476\n",
      "check addition: 0.0 37.634640246629715\n",
      "hereu 4 37.634640246629715 37.634640246629715\n",
      "check addition: 0.0 35.83747000619769\n",
      "heredn 4 35.83747000619769 35.83747000619769\n"
     ]
    },
    {
     "data": {
      "application/vnd.jupyter.widget-view+json": {
       "model_id": "7ad86d8e0e6b43a7be82cf0b1ff1b6d4",
       "version_major": 2,
       "version_minor": 0
      },
      "text/plain": [
       "  0%|          | 0/1 [00:00<?, ?it/s]"
      ]
     },
     "metadata": {},
     "output_type": "display_data"
    },
    {
     "name": "stdout",
     "output_type": "stream",
     "text": [
      "check addition: 0.0 34.23089122958481\n",
      "hereu 0 34.23089122958481 34.23089122958481\n",
      "check addition: 0.0 44.49771101027727\n",
      "heredn 0 44.49771101027727 44.49771101027727\n",
      "check addition: 0.0 38.01923855394125\n",
      "hereu 1 38.01923855394125 38.01923855394125\n",
      "check addition: 0.0 39.87762973550707\n",
      "heredn 1 39.87762973550707 39.87762973550707\n",
      "check addition: 0.0 39.72158362530172\n",
      "hereu 2 39.72158362530172 39.72158362530172\n",
      "check addition: 0.0 38.114513877779245\n",
      "heredn 2 38.114513877779245 38.114513877779245\n",
      "check addition: 0.0 39.283670843578875\n",
      "hereu 3 39.283670843578875 39.283670843578875\n",
      "check addition: 0.0 38.19402572605759\n",
      "heredn 3 38.19402572605759 38.19402572605759\n",
      "check addition: 0.0 38.20516073331237\n",
      "hereu 4 38.20516073331237 38.20516073331237\n",
      "check addition: 0.0 46.482194109412376\n",
      "heredn 4 46.482194109412376 46.482194109412376\n"
     ]
    },
    {
     "data": {
      "application/vnd.jupyter.widget-view+json": {
       "model_id": "b21cb5fffde34481b7e376cae05706e5",
       "version_major": 2,
       "version_minor": 0
      },
      "text/plain": [
       "  0%|          | 0/1 [00:00<?, ?it/s]"
      ]
     },
     "metadata": {},
     "output_type": "display_data"
    },
    {
     "name": "stdout",
     "output_type": "stream",
     "text": [
      "check addition: 0.0 878.8364949226379\n",
      "hereu 0 878.8364949226379 878.8364949226379\n",
      "check addition: 0.0 1135.4363112784922\n",
      "heredn 0 1135.4363112784922 1135.4363112784922\n",
      "check addition: 0.0 971.9414065461606\n",
      "hereu 1 971.9414065461606 971.9414065461606\n",
      "check addition: 0.0 1022.5027675665915\n",
      "heredn 1 1022.5027675665915 1022.5027675665915\n",
      "check addition: 0.0 1015.4842472299933\n",
      "hereu 2 1015.4842472299933 1015.4842472299933\n",
      "check addition: 0.0 977.3945799656212\n",
      "heredn 2 977.3945799656212 977.3945799656212\n",
      "check addition: 0.0 1005.2722828509286\n",
      "hereu 3 1005.2722828509286 1005.2722828509286\n",
      "check addition: 0.0 978.2207312639803\n",
      "heredn 3 978.2207312639803 978.2207312639803\n",
      "check addition: 0.0 1004.8369670840912\n",
      "hereu 4 1004.8369670840912 1004.8369670840912\n",
      "check addition: 0.0 964.0868316181004\n",
      "heredn 4 964.0868316181004 964.0868316181004\n"
     ]
    },
    {
     "data": {
      "application/vnd.jupyter.widget-view+json": {
       "model_id": "40f627de72b7433eaf9202a476f7d9a9",
       "version_major": 2,
       "version_minor": 0
      },
      "text/plain": [
       "  0%|          | 0/1 [00:00<?, ?it/s]"
      ]
     },
     "metadata": {},
     "output_type": "display_data"
    },
    {
     "name": "stdout",
     "output_type": "stream",
     "text": [
      "check addition: 0.0 30.87195744458586\n",
      "hereu 0 30.87195744458586 30.87195744458586\n",
      "check addition: 0.0 39.79673046711832\n",
      "heredn 0 39.79673046711832 39.79673046711832\n",
      "check addition: 0.0 34.17711917497218\n",
      "hereu 1 34.17711917497218 34.17711917497218\n",
      "check addition: 0.0 35.81022430583835\n",
      "heredn 1 35.81022430583835 35.81022430583835\n",
      "check addition: 0.0 35.67943953536451\n",
      "hereu 2 35.67943953536451 35.67943953536451\n",
      "check addition: 0.0 34.25775987887755\n",
      "heredn 2 34.25775987887755 34.25775987887755\n",
      "check addition: 0.0 35.27562986500561\n",
      "hereu 3 35.27562986500561 35.27562986500561\n",
      "check addition: 0.0 34.33336285222322\n",
      "heredn 3 34.33336285222322 34.33336285222322\n",
      "check addition: 0.0 34.74939888622612\n",
      "hereu 4 34.74939888622612 34.74939888622612\n",
      "check addition: 0.0 35.027185099199414\n",
      "heredn 4 35.027185099199414 35.027185099199414\n"
     ]
    },
    {
     "data": {
      "application/vnd.jupyter.widget-view+json": {
       "model_id": "72055586ceeb48209296db53ded99133",
       "version_major": 2,
       "version_minor": 0
      },
      "text/plain": [
       "  0%|          | 0/1 [00:00<?, ?it/s]"
      ]
     },
     "metadata": {},
     "output_type": "display_data"
    },
    {
     "name": "stdout",
     "output_type": "stream",
     "text": [
      "check addition: 0.0 30.940893840044737\n",
      "hereu 0 30.940893840044737 30.940893840044737\n",
      "check addition: 0.0 39.985762098804116\n",
      "heredn 0 39.985762098804116 39.985762098804116\n",
      "check addition: 0.0 34.26719011226669\n",
      "hereu 1 34.26719011226669 34.26719011226669\n",
      "check addition: 0.0 35.96317968983203\n",
      "heredn 1 35.96317968983203 35.96317968983203\n",
      "check addition: 0.0 35.800327834207565\n",
      "hereu 2 35.800327834207565 35.800327834207565\n",
      "check addition: 0.0 34.371372391004115\n",
      "heredn 2 34.371372391004115 34.371372391004115\n",
      "check addition: 0.0 35.38171142945066\n",
      "hereu 3 35.38171142945066 35.38171142945066\n",
      "check addition: 0.0 34.4555153879337\n",
      "heredn 3 34.4555153879337 34.4555153879337\n",
      "check addition: 0.0 35.40568452794105\n",
      "hereu 4 35.40568452794105 35.40568452794105\n",
      "check addition: 0.0 32.873102487646975\n",
      "heredn 4 32.873102487646975 32.873102487646975\n"
     ]
    },
    {
     "data": {
      "application/vnd.jupyter.widget-view+json": {
       "model_id": "9e33ba842c6d448ca8d149bbfcc222d3",
       "version_major": 2,
       "version_minor": 0
      },
      "text/plain": [
       "  0%|          | 0/1 [00:00<?, ?it/s]"
      ]
     },
     "metadata": {},
     "output_type": "display_data"
    },
    {
     "name": "stdout",
     "output_type": "stream",
     "text": [
      "check addition: 0.0 29.039715306367725\n",
      "hereu 0 29.039715306367725 29.039715306367725\n",
      "check addition: 0.0 37.54233439732343\n",
      "heredn 0 37.54233439732343 37.54233439732343\n",
      "check addition: 0.0 32.19050360657275\n",
      "hereu 1 32.19050360657275 32.19050360657275\n",
      "check addition: 0.0 33.72177493851632\n",
      "heredn 1 33.72177493851632 33.72177493851632\n",
      "check addition: 0.0 33.59019976342097\n",
      "hereu 2 33.59019976342097 33.59019976342097\n",
      "check addition: 0.0 32.280169632751495\n",
      "heredn 2 32.280169632751495 32.280169632751495\n",
      "check addition: 0.0 33.22020993940532\n",
      "hereu 3 33.22020993940532 33.22020993940532\n",
      "check addition: 0.0 32.33428854774684\n",
      "heredn 3 32.33428854774684 32.33428854774684\n",
      "check addition: 0.0 32.73464412987232\n",
      "hereu 4 32.73464412987232 32.73464412987232\n",
      "check addition: 0.0 32.28755884303246\n",
      "heredn 4 32.28755884303246 32.28755884303246\n"
     ]
    },
    {
     "data": {
      "application/vnd.jupyter.widget-view+json": {
       "model_id": "937b6fa3c7d246938b270e4573add047",
       "version_major": 2,
       "version_minor": 0
      },
      "text/plain": [
       "  0%|          | 0/1 [00:00<?, ?it/s]"
      ]
     },
     "metadata": {},
     "output_type": "display_data"
    },
    {
     "name": "stdout",
     "output_type": "stream",
     "text": [
      "check addition: 0.0 1603.421026226133\n",
      "hereu 0 1603.421026226133 1603.421026226133\n",
      "check addition: 0.0 2071.8398450426757\n",
      "heredn 0 2071.8398450426757 2071.8398450426757\n",
      "check addition: 0.0 1772.285624332726\n",
      "hereu 1 1772.285624332726 1772.285624332726\n",
      "check addition: 0.0 1866.9127986133099\n",
      "heredn 1 1866.9127986133099 1866.9127986133099\n",
      "check addition: 0.0 1852.4388769678771\n",
      "hereu 2 1852.4388769678771 1852.4388769678771\n",
      "check addition: 0.0 1783.4889897480607\n",
      "heredn 2 1783.4889897480607 1783.4889897480607\n",
      "check addition: 0.0 1834.2135381996632\n",
      "hereu 3 1834.2135381996632 1834.2135381996632\n",
      "check addition: 0.0 1784.868508771062\n",
      "heredn 3 1784.868508771062 1784.868508771062\n",
      "check addition: 0.0 1844.2639487795532\n",
      "hereu 4 1844.2639487795532 1844.2639487795532\n",
      "check addition: 0.0 1865.6568028628826\n",
      "heredn 4 1865.6568028628826 1865.6568028628826\n"
     ]
    },
    {
     "data": {
      "application/vnd.jupyter.widget-view+json": {
       "model_id": "815e7587d9064b22a217d8789b59646e",
       "version_major": 2,
       "version_minor": 0
      },
      "text/plain": [
       "  0%|          | 0/1 [00:00<?, ?it/s]"
      ]
     },
     "metadata": {},
     "output_type": "display_data"
    },
    {
     "name": "stdout",
     "output_type": "stream",
     "text": [
      "check addition: 0.0 27.606365399435163\n",
      "hereu 0 27.606365399435163 27.606365399435163\n",
      "check addition: 0.0 35.77934682741761\n",
      "heredn 0 35.77934682741761 35.77934682741761\n",
      "check addition: 0.0 30.62379509676248\n",
      "hereu 1 30.62379509676248 30.62379509676248\n",
      "check addition: 0.0 32.10894610080868\n",
      "heredn 1 32.10894610080868 32.10894610080868\n",
      "check addition: 0.0 31.99556347541511\n",
      "hereu 2 31.99556347541511 31.99556347541511\n",
      "check addition: 0.0 30.69716611970216\n",
      "heredn 2 30.69716611970216 30.69716611970216\n",
      "check addition: 0.0 31.62484978698194\n",
      "hereu 3 31.62484978698194 31.62484978698194\n",
      "check addition: 0.0 30.76555947214365\n",
      "heredn 3 30.76555947214365 30.76555947214365\n",
      "check addition: 0.0 31.524411413818598\n",
      "hereu 4 31.524411413818598 31.524411413818598\n",
      "check addition: 0.0 31.825873497407883\n",
      "heredn 4 31.825873497407883 31.825873497407883\n"
     ]
    },
    {
     "data": {
      "application/vnd.jupyter.widget-view+json": {
       "model_id": "ada4b895e9614e18a98c42adb290c1c3",
       "version_major": 2,
       "version_minor": 0
      },
      "text/plain": [
       "  0%|          | 0/1 [00:00<?, ?it/s]"
      ]
     },
     "metadata": {},
     "output_type": "display_data"
    },
    {
     "name": "stdout",
     "output_type": "stream",
     "text": [
      "check addition: 0.0 25.451947258785367\n",
      "hereu 0 25.451947258785367 25.451947258785367\n",
      "check addition: 0.0 33.0080059398897\n",
      "heredn 0 33.0080059398897 33.0080059398897\n",
      "check addition: 0.0 28.23732236539945\n",
      "hereu 1 28.23732236539945 28.23732236539945\n",
      "check addition: 0.0 29.619257661048323\n",
      "heredn 1 29.619257661048323 29.619257661048323\n",
      "check addition: 0.0 29.50381937320344\n",
      "hereu 2 29.50381937320344 29.50381937320344\n",
      "check addition: 0.0 28.311530232429504\n",
      "heredn 2 28.311530232429504 28.311530232429504\n",
      "check addition: 0.0 29.166070173028857\n",
      "hereu 3 29.166070173028857 29.166070173028857\n",
      "check addition: 0.0 28.372239389223978\n",
      "heredn 3 28.372239389223978 28.372239389223978\n",
      "check addition: 0.0 28.985497336485423\n",
      "hereu 4 28.985497336485423 28.985497336485423\n",
      "check addition: 0.0 29.436517911381088\n",
      "heredn 4 29.436517911381088 29.436517911381088\n"
     ]
    },
    {
     "data": {
      "application/vnd.jupyter.widget-view+json": {
       "model_id": "98810c5bfeb842e78ea9b93ef116cd8a",
       "version_major": 2,
       "version_minor": 0
      },
      "text/plain": [
       "  0%|          | 0/1 [00:00<?, ?it/s]"
      ]
     },
     "metadata": {},
     "output_type": "display_data"
    },
    {
     "name": "stdout",
     "output_type": "stream",
     "text": [
      "check addition: 0.0 2478.283691778779\n",
      "hereu 0 2478.283691778779 2478.283691778779\n",
      "check addition: 0.0 3209.3938523828983\n",
      "heredn 0 3209.3938523828983 3209.3938523828983\n",
      "check addition: 0.0 2748.0410949885845\n",
      "hereu 1 2748.0410949885845 2748.0410949885845\n",
      "check addition: 0.0 2881.6239064335823\n",
      "heredn 1 2881.6239064335823 2881.6239064335823\n",
      "check addition: 0.0 2865.186434775591\n",
      "hereu 2 2865.186434775591 2865.186434775591\n",
      "check addition: 0.0 2760.7905563116074\n",
      "heredn 2 2760.7905563116074 2760.7905563116074\n",
      "check addition: 0.0 2837.9604999423027\n",
      "hereu 3 2837.9604999423027 2837.9604999423027\n",
      "check addition: 0.0 2761.2123094052076\n",
      "heredn 3 2761.2123094052076 2761.2123094052076\n",
      "check addition: 0.0 2866.6166646778584\n",
      "hereu 4 2866.6166646778584 2866.6166646778584\n",
      "check addition: 0.0 5308.786924675107\n",
      "heredn 4 5308.786924675107 5308.786924675107\n"
     ]
    },
    {
     "data": {
      "application/vnd.jupyter.widget-view+json": {
       "model_id": "eb17155065394b0099672dd6012ba78d",
       "version_major": 2,
       "version_minor": 0
      },
      "text/plain": [
       "  0%|          | 0/1 [00:00<?, ?it/s]"
      ]
     },
     "metadata": {},
     "output_type": "display_data"
    },
    {
     "name": "stdout",
     "output_type": "stream",
     "text": [
      "check addition: 0.0 11.808187850985178\n",
      "hereu 0 11.808187850985178 11.808187850985178\n",
      "check addition: 0.0 19.193590831169786\n",
      "heredn 0 19.193590831169786 19.193590831169786\n",
      "check addition: 0.0 15.184195449248364\n",
      "hereu 1 15.184195449248364 15.184195449248364\n",
      "check addition: 0.0 15.075117833920558\n",
      "heredn 1 15.075117833920558 15.075117833920558\n",
      "check addition: 0.0 15.754389805579194\n",
      "hereu 2 15.754389805579194 15.754389805579194\n",
      "check addition: 0.0 14.735809095067452\n",
      "heredn 2 14.735809095067452 14.735809095067452\n",
      "check addition: 0.0 15.436174701904747\n",
      "hereu 3 15.436174701904747 15.436174701904747\n",
      "check addition: 0.0 14.876996037931349\n",
      "heredn 3 14.876996037931349 14.876996037931349\n",
      "check addition: 0.0 15.219582521644952\n",
      "hereu 4 15.219582521644952 15.219582521644952\n",
      "check addition: 0.0 14.903536715091661\n",
      "heredn 4 14.903536715091661 14.903536715091661\n"
     ]
    },
    {
     "data": {
      "application/vnd.jupyter.widget-view+json": {
       "model_id": "cbcfdcbeb65345c0af66308ef9818901",
       "version_major": 2,
       "version_minor": 0
      },
      "text/plain": [
       "  0%|          | 0/1 [00:00<?, ?it/s]"
      ]
     },
     "metadata": {},
     "output_type": "display_data"
    },
    {
     "name": "stdout",
     "output_type": "stream",
     "text": [
      "check addition: 0.0 12.347323924303055\n",
      "hereu 0 12.347323924303055 12.347323924303055\n",
      "check addition: 0.0 18.083200752735138\n",
      "heredn 0 18.083200752735138 18.083200752735138\n",
      "check addition: 0.0 15.451694965362549\n",
      "hereu 1 15.451694965362549 15.451694965362549\n",
      "check addition: 0.0 15.293666124343872\n",
      "heredn 1 15.293666124343872 15.293666124343872\n",
      "check addition: 0.0 15.972393363714218\n",
      "hereu 2 15.972393363714218 15.972393363714218\n",
      "check addition: 0.0 14.936046242713928\n",
      "heredn 2 14.936046242713928 14.936046242713928\n",
      "check addition: 0.0 15.662302494049072\n",
      "hereu 3 15.662302494049072 15.662302494049072\n",
      "check addition: 0.0 15.080992847681046\n",
      "heredn 3 15.080992847681046 15.080992847681046\n",
      "check addition: 0.0 15.274794399738312\n",
      "hereu 4 15.274794399738312 15.274794399738312\n",
      "check addition: 0.0 15.73289030790329\n",
      "heredn 4 15.73289030790329 15.73289030790329\n"
     ]
    },
    {
     "data": {
      "application/vnd.jupyter.widget-view+json": {
       "model_id": "deeafc97cd294baabf37c2392128e49a",
       "version_major": 2,
       "version_minor": 0
      },
      "text/plain": [
       "  0%|          | 0/1 [00:00<?, ?it/s]"
      ]
     },
     "metadata": {},
     "output_type": "display_data"
    },
    {
     "name": "stdout",
     "output_type": "stream",
     "text": [
      "check addition: 0.0 11.815579801797867\n",
      "hereu 0 11.815579801797867 11.815579801797867\n",
      "check addition: 0.0 19.174328923225403\n",
      "heredn 0 19.174328923225403 19.174328923225403\n",
      "check addition: 0.0 15.179187446832657\n",
      "hereu 1 15.179187446832657 15.179187446832657\n",
      "check addition: 0.0 15.080106645822525\n",
      "heredn 1 15.080106645822525 15.080106645822525\n",
      "check addition: 0.0 15.740135192871094\n",
      "hereu 2 15.740135192871094 15.740135192871094\n",
      "check addition: 0.0 14.738078743219376\n",
      "heredn 2 14.738078743219376 14.738078743219376\n",
      "check addition: 0.0 15.447356462478638\n",
      "hereu 3 15.447356462478638 15.447356462478638\n",
      "check addition: 0.0 14.869682997465134\n",
      "heredn 3 14.869682997465134 14.869682997465134\n",
      "check addition: 0.0 15.184344917535782\n",
      "hereu 4 15.184344917535782 15.184344917535782\n",
      "check addition: 0.0 15.23841142654419\n",
      "heredn 4 15.23841142654419 15.23841142654419\n"
     ]
    },
    {
     "data": {
      "application/vnd.jupyter.widget-view+json": {
       "model_id": "7bb5315534584ebbadcde71ef35f12a7",
       "version_major": 2,
       "version_minor": 0
      },
      "text/plain": [
       "  0%|          | 0/1 [00:00<?, ?it/s]"
      ]
     },
     "metadata": {},
     "output_type": "display_data"
    },
    {
     "name": "stdout",
     "output_type": "stream",
     "text": [
      "check addition: 0.0 17.501458000857383\n",
      "hereu 0 17.501458000857383 17.501458000857383\n",
      "check addition: 0.0 22.676743957214057\n",
      "heredn 0 22.676743957214057 22.676743957214057\n",
      "check addition: 0.0 19.417105237953365\n",
      "hereu 1 19.417105237953365 19.417105237953365\n",
      "check addition: 0.0 20.348619278986007\n",
      "heredn 1 20.348619278986007 20.348619278986007\n",
      "check addition: 0.0 20.266123751178384\n",
      "hereu 2 20.266123751178384 20.266123751178384\n",
      "check addition: 0.0 19.472538320347667\n",
      "heredn 2 19.472538320347667 19.472538320347667\n",
      "check addition: 0.0 20.043565434403718\n",
      "hereu 3 20.043565434403718 20.043565434403718\n",
      "check addition: 0.0 19.505370258819312\n",
      "heredn 3 19.505370258819312 19.505370258819312\n",
      "check addition: 0.0 19.775763154728338\n",
      "hereu 4 19.775763154728338 19.775763154728338\n",
      "check addition: 0.0 19.033857000991702\n",
      "heredn 4 19.033857000991702 19.033857000991702\n"
     ]
    },
    {
     "data": {
      "application/vnd.jupyter.widget-view+json": {
       "model_id": "065ea25a0d584780977d51ab9f498f58",
       "version_major": 2,
       "version_minor": 0
      },
      "text/plain": [
       "  0%|          | 0/1 [00:00<?, ?it/s]"
      ]
     },
     "metadata": {},
     "output_type": "display_data"
    },
    {
     "name": "stdout",
     "output_type": "stream",
     "text": [
      "check addition: 0.0 14.533754460280761\n",
      "hereu 0 14.533754460280761 14.533754460280761\n",
      "check addition: 0.0 18.813249212224036\n",
      "heredn 0 18.813249212224036 18.813249212224036\n",
      "check addition: 0.0 16.108958984725177\n",
      "hereu 1 16.108958984725177 16.108958984725177\n",
      "check addition: 0.0 16.901680958922952\n",
      "heredn 1 16.901680958922952 16.901680958922952\n",
      "check addition: 0.0 16.822783001232892\n",
      "hereu 2 16.822783001232892 16.822783001232892\n",
      "check addition: 0.0 16.164813530631363\n",
      "heredn 2 16.164813530631363 16.164813530631363\n",
      "check addition: 0.0 16.637334252242\n",
      "hereu 3 16.637334252242 16.637334252242\n",
      "check addition: 0.0 16.19319050386548\n",
      "heredn 3 16.19319050386548 16.19319050386548\n",
      "check addition: 0.0 16.440933838719502\n",
      "hereu 4 16.440933838719502 16.440933838719502\n",
      "check addition: 0.0 15.5961578192655\n",
      "heredn 4 15.5961578192655 15.5961578192655\n"
     ]
    },
    {
     "data": {
      "application/vnd.jupyter.widget-view+json": {
       "model_id": "cb6f2ed34d754224b7c2ea8520bca3b9",
       "version_major": 2,
       "version_minor": 0
      },
      "text/plain": [
       "  0%|          | 0/1 [00:00<?, ?it/s]"
      ]
     },
     "metadata": {},
     "output_type": "display_data"
    },
    {
     "name": "stdout",
     "output_type": "stream",
     "text": [
      "check addition: 0.0 15.498127026250586\n",
      "hereu 0 15.498127026250586 15.498127026250586\n",
      "check addition: 0.0 20.067756430711597\n",
      "heredn 0 20.067756430711597 20.067756430711597\n",
      "check addition: 0.0 17.191058062948287\n",
      "hereu 1 17.191058062948287 17.191058062948287\n",
      "check addition: 0.0 18.010694455588236\n",
      "heredn 1 18.010694455588236 18.010694455588236\n",
      "check addition: 0.0 17.93435835186392\n",
      "hereu 2 17.93435835186392 17.93435835186392\n",
      "check addition: 0.0 17.244255006080493\n",
      "heredn 2 17.244255006080493 17.244255006080493\n",
      "check addition: 0.0 17.746061290148646\n",
      "hereu 3 17.746061290148646 17.746061290148646\n",
      "check addition: 0.0 17.268418944440782\n",
      "heredn 3 17.268418944440782 17.268418944440782\n",
      "check addition: 0.0 17.638452685205266\n",
      "hereu 4 17.638452685205266 17.638452685205266\n",
      "check addition: 0.0 16.80296779703349\n",
      "heredn 4 16.80296779703349 16.80296779703349\n"
     ]
    },
    {
     "data": {
      "application/vnd.jupyter.widget-view+json": {
       "model_id": "904e176cb561477dbf7ca2ed02be4b37",
       "version_major": 2,
       "version_minor": 0
      },
      "text/plain": [
       "  0%|          | 0/1 [00:00<?, ?it/s]"
      ]
     },
     "metadata": {},
     "output_type": "display_data"
    },
    {
     "name": "stdout",
     "output_type": "stream",
     "text": [
      "check addition: 0.0 19.66247848677449\n",
      "hereu 0 19.66247848677449 19.66247848677449\n",
      "check addition: 0.0 25.515566436457448\n",
      "heredn 0 25.515566436457448 25.515566436457448\n",
      "check addition: 0.0 21.843503364128992\n",
      "hereu 1 21.843503364128992 21.843503364128992\n",
      "check addition: 0.0 22.858602193184197\n",
      "heredn 1 22.858602193184197 22.858602193184197\n",
      "check addition: 0.0 22.78053578955587\n",
      "hereu 2 22.78053578955587 22.78053578955587\n",
      "check addition: 0.0 21.89659820648376\n",
      "heredn 2 21.89659820648376 21.89659820648376\n",
      "check addition: 0.0 22.53834769129753\n",
      "hereu 3 22.53834769129753 22.53834769129753\n",
      "check addition: 0.0 21.924412055988796\n",
      "heredn 3 21.924412055988796 21.924412055988796\n",
      "check addition: 0.0 22.637518661795184\n",
      "hereu 4 22.637518661795184 22.637518661795184\n",
      "check addition: 0.0 21.167350719624665\n",
      "heredn 4 21.167350719624665 21.167350719624665\n"
     ]
    },
    {
     "data": {
      "application/vnd.jupyter.widget-view+json": {
       "model_id": "ab7564ee2982488fbc11725e62b628b1",
       "version_major": 2,
       "version_minor": 0
      },
      "text/plain": [
       "  0%|          | 0/1 [00:00<?, ?it/s]"
      ]
     },
     "metadata": {},
     "output_type": "display_data"
    },
    {
     "name": "stdout",
     "output_type": "stream",
     "text": [
      "check addition: 0.0 22.154881385155022\n",
      "hereu 0 22.154881385155022 22.154881385155022\n",
      "check addition: 0.0 28.695313164032996\n",
      "heredn 0 28.695313164032996 28.695313164032996\n",
      "check addition: 0.0 24.545524332672358\n",
      "hereu 1 24.545524332672358 24.545524332672358\n",
      "check addition: 0.0 25.789819434285164\n",
      "heredn 1 25.789819434285164 25.789819434285164\n",
      "check addition: 0.0 25.64222995005548\n",
      "hereu 2 25.64222995005548 25.64222995005548\n",
      "check addition: 0.0 24.654074459336698\n",
      "heredn 2 24.654074459336698 24.654074459336698\n",
      "check addition: 0.0 25.369493576698005\n",
      "hereu 3 25.369493576698005 25.369493576698005\n",
      "check addition: 0.0 24.686071167699993\n",
      "heredn 3 24.686071167699993 24.686071167699993\n",
      "check addition: 0.0 25.594025364145637\n",
      "hereu 4 25.594025364145637 25.594025364145637\n",
      "check addition: 0.0 22.479993685614318\n",
      "heredn 4 22.479993685614318 22.479993685614318\n"
     ]
    },
    {
     "data": {
      "application/vnd.jupyter.widget-view+json": {
       "model_id": "f09095b9a28749de8e8ac69c726114d8",
       "version_major": 2,
       "version_minor": 0
      },
      "text/plain": [
       "  0%|          | 0/1 [00:00<?, ?it/s]"
      ]
     },
     "metadata": {},
     "output_type": "display_data"
    },
    {
     "name": "stdout",
     "output_type": "stream",
     "text": [
      "check addition: 0.0 27.84217451326549\n",
      "hereu 0 27.84217451326549 27.84217451326549\n",
      "check addition: 0.0 36.2270139507018\n",
      "heredn 0 36.2270139507018 36.2270139507018\n",
      "check addition: 0.0 30.897045879857615\n",
      "hereu 1 30.897045879857615 30.897045879857615\n",
      "check addition: 0.0 32.48668743146118\n",
      "heredn 1 32.48668743146118 32.48668743146118\n",
      "check addition: 0.0 32.289091037237085\n",
      "hereu 2 32.289091037237085 32.289091037237085\n",
      "check addition: 0.0 31.042094273725525\n",
      "heredn 2 31.042094273725525 31.042094273725525\n",
      "check addition: 0.0 31.948006390826777\n",
      "hereu 3 31.948006390826777 31.948006390826777\n",
      "check addition: 0.0 31.081868754699826\n",
      "heredn 3 31.081868754699826 31.081868754699826\n",
      "check addition: 0.0 31.323637539346237\n",
      "hereu 4 31.323637539346237 31.323637539346237\n",
      "check addition: 0.0 31.35759903030703\n",
      "heredn 4 31.35759903030703 31.35759903030703\n"
     ]
    },
    {
     "data": {
      "application/vnd.jupyter.widget-view+json": {
       "model_id": "5518a890e3b44c41b2a532259bf203b6",
       "version_major": 2,
       "version_minor": 0
      },
      "text/plain": [
       "  0%|          | 0/1 [00:00<?, ?it/s]"
      ]
     },
     "metadata": {},
     "output_type": "display_data"
    },
    {
     "name": "stdout",
     "output_type": "stream",
     "text": [
      "check addition: 0.0 42.060448152944446\n",
      "hereu 0 42.060448152944446 42.060448152944446\n",
      "check addition: 0.0 54.42595554306172\n",
      "heredn 0 54.42595554306172 54.42595554306172\n",
      "check addition: 0.0 46.62787849584129\n",
      "hereu 1 46.62787849584129 46.62787849584129\n",
      "check addition: 0.0 48.88273041485809\n",
      "heredn 1 48.88273041485809 48.88273041485809\n",
      "check addition: 0.0 48.657696843729354\n",
      "hereu 2 48.657696843729354 48.657696843729354\n",
      "check addition: 0.0 46.79518966033356\n",
      "heredn 2 46.79518966033356 46.79518966033356\n",
      "check addition: 0.0 48.1403722166433\n",
      "hereu 3 48.1403722166433 48.1403722166433\n",
      "check addition: 0.0 46.85313225572463\n",
      "heredn 3 46.85313225572463 46.85313225572463\n",
      "check addition: 0.0 48.22298147028778\n",
      "hereu 4 48.22298147028778 48.22298147028778\n",
      "check addition: 0.0 47.609287679195404\n",
      "heredn 4 47.609287679195404 47.609287679195404\n"
     ]
    },
    {
     "data": {
      "application/vnd.jupyter.widget-view+json": {
       "model_id": "9c022b670c93427b962b7189c66bed70",
       "version_major": 2,
       "version_minor": 0
      },
      "text/plain": [
       "  0%|          | 0/1 [00:00<?, ?it/s]"
      ]
     },
     "metadata": {},
     "output_type": "display_data"
    },
    {
     "name": "stdout",
     "output_type": "stream",
     "text": [
      "check addition: 0.0 48.64984237201861\n",
      "hereu 0 48.64984237201861 48.64984237201861\n",
      "check addition: 0.0 62.714978209580295\n",
      "heredn 0 62.714978209580295 62.714978209580295\n",
      "check addition: 0.0 53.851861796720186\n",
      "hereu 1 53.851861796720186 53.851861796720186\n",
      "check addition: 0.0 56.443771803722484\n",
      "heredn 1 56.443771803722484 56.443771803722484\n",
      "check addition: 0.0 56.17664095701184\n",
      "hereu 2 56.17664095701184 56.17664095701184\n",
      "check addition: 0.0 54.04233732368448\n",
      "heredn 2 54.04233732368448 54.04233732368448\n",
      "check addition: 0.0 55.58049180498347\n",
      "hereu 3 55.58049180498347 55.58049180498347\n",
      "check addition: 0.0 54.1124705610564\n",
      "heredn 3 54.1124705610564 54.1124705610564\n",
      "check addition: 0.0 55.970924785215175\n",
      "hereu 4 55.970924785215175 55.970924785215175\n",
      "check addition: 0.0 51.18160619529954\n",
      "heredn 4 51.18160619529954 51.18160619529954\n"
     ]
    },
    {
     "data": {
      "application/vnd.jupyter.widget-view+json": {
       "model_id": "18e31b7ede3d4110bae5236b2d4c54a9",
       "version_major": 2,
       "version_minor": 0
      },
      "text/plain": [
       "  0%|          | 0/1 [00:00<?, ?it/s]"
      ]
     },
     "metadata": {},
     "output_type": "display_data"
    },
    {
     "name": "stdout",
     "output_type": "stream",
     "text": [
      "check addition: 0.0 58.3082495048875\n",
      "hereu 0 58.3082495048875 58.3082495048875\n",
      "check addition: 0.0 75.67785026610363\n",
      "heredn 0 75.67785026610363 75.67785026610363\n",
      "check addition: 0.0 64.69576325151138\n",
      "hereu 1 64.69576325151138 64.69576325151138\n",
      "check addition: 0.0 67.88576095702592\n",
      "heredn 1 67.88576095702592 67.88576095702592\n",
      "check addition: 0.0 67.53108511317987\n",
      "hereu 2 67.53108511317987 67.53108511317987\n",
      "check addition: 0.0 64.95666911121225\n",
      "heredn 2 64.95666911121225 64.95666911121225\n",
      "check addition: 0.0 66.8288484022487\n",
      "hereu 3 66.8288484022487 66.8288484022487\n",
      "check addition: 0.0 65.03191283799242\n",
      "heredn 3 65.03191283799242 65.03191283799242\n",
      "check addition: 0.0 65.59685421502218\n",
      "hereu 4 65.59685421502218 65.59685421502218\n",
      "check addition: 0.0 76.04664930782747\n",
      "heredn 4 76.04664930782747 76.04664930782747\n"
     ]
    },
    {
     "data": {
      "application/vnd.jupyter.widget-view+json": {
       "model_id": "a69d058c2a7448d2b6bb038c738d27ad",
       "version_major": 2,
       "version_minor": 0
      },
      "text/plain": [
       "  0%|          | 0/1 [00:00<?, ?it/s]"
      ]
     },
     "metadata": {},
     "output_type": "display_data"
    },
    {
     "name": "stdout",
     "output_type": "stream",
     "text": [
      "check addition: 0.0 81.22555503086187\n",
      "hereu 0 81.22555503086187 81.22555503086187\n",
      "check addition: 0.0 105.10863906866871\n",
      "heredn 0 105.10863906866871 105.10863906866871\n",
      "check addition: 0.0 89.91790205310099\n",
      "hereu 1 89.91790205310099 89.91790205310099\n",
      "check addition: 0.0 94.55445853667334\n",
      "heredn 1 94.55445853667334 94.55445853667334\n",
      "check addition: 0.0 93.9780026669614\n",
      "hereu 2 93.9780026669614 93.9780026669614\n",
      "check addition: 0.0 90.34936218464281\n",
      "heredn 2 90.34936218464281 90.34936218464281\n",
      "check addition: 0.0 92.978776529897\n",
      "hereu 3 92.978776529897 92.978776529897\n",
      "check addition: 0.0 90.47451075271238\n",
      "heredn 3 90.47451075271238 90.47451075271238\n",
      "check addition: 0.0 93.38853493111674\n",
      "hereu 4 93.38853493111674 93.38853493111674\n",
      "check addition: 0.0 87.05710792518221\n",
      "heredn 4 87.05710792518221 87.05710792518221\n",
      "u 6131.048818707466\n",
      "dn 7942.0457082390785\n",
      "u 6795.103072792292\n",
      "dn 7136.572320759296\n",
      "u 7093.402016967535\n",
      "dn 6828.47068926692\n",
      "u 7022.963013857603\n",
      "dn 6833.176007270813\n",
      "u 7046.354975223541\n",
      "dn 9468.112914383411\n",
      "hf =  6946.228493124247\n",
      "up: 6131.048818707466\n",
      "dn: 7942.0457082390785\n",
      "adding to hlist\n",
      "up: 6795.103072792292\n",
      "dn: 7136.572320759296\n",
      "adding to hlist\n",
      "up: 7093.402016967535\n",
      "dn: 6828.47068926692\n",
      "adding to hlist\n",
      "up: 7022.963013857603\n",
      "dn: 6833.176007270813\n",
      "adding to hlist\n",
      "up: 7046.354975223541\n",
      "dn: 9468.112914383411\n",
      "adding to hlist\n"
     ]
    },
    {
     "data": {
      "text/plain": [
       "'\\nh_gg_vbf =[]\\nfor tcomp in ltargetcomp: \\n       FillHist(\"gg\",tcomp,1,h_gg_vbf)\\n\\nh_gg_vh =[]\\nfor tcomp in ltargetcomp: \\n       FillHist(\"gg\",tcomp,2,h_gg_vh)     \\n        \\n \\n       \\n#=========================================  \\nh_ew_unt =[]\\nfor tcomp in ltargetcomp: \\n       FillHist(\"VBF\",tcomp,0,h_ew_unt)\\n\\nh_ew_vbf =[]\\nfor tcomp in ltargetcomp: \\n       FillHist(\"VBF\",tcomp,1,h_ew_vbf)\\n\\nh_ew_vh =[]\\nfor tcomp in ltargetcomp: \\n       FillHist(\"VBF\",tcomp,2,h_ew_vh)      \\n              \\n#=========================================  \\nh_bkg_unt =[]\\nFillHist(\"ZZTo4l\",0,0,h_bkg_unt)\\n\\nh_bkg_vbf =[]\\nFillHist(\"ZZTo4l\",0,1,h_bkg_vbf)\\n    \\nh_bkg_vh =[]\\nFillHist(\"ZZTo4l\",0,2,h_bkg_vh)      \\n'"
      ]
     },
     "execution_count": 106,
     "metadata": {},
     "output_type": "execute_result"
    },
    {
     "name": "stderr",
     "output_type": "stream",
     "text": [
      "Warning in <TROOT::Append>: Replacing existing TH1: hf_temp (Potential memory leak).\n",
      "Warning in <TROOT::Append>: Replacing existing TH1: hf_temp (Potential memory leak).\n",
      "Warning in <TROOT::Append>: Replacing existing TH1: hf_temp (Potential memory leak).\n",
      "Warning in <TROOT::Append>: Replacing existing TH1: hf_temp (Potential memory leak).\n",
      "Warning in <TROOT::Append>: Replacing existing TH1: ht_tempdn (Potential memory leak).\n",
      "Warning in <TROOT::Append>: Replacing existing TH1: ht_tempdn (Potential memory leak).\n",
      "Warning in <TROOT::Append>: Replacing existing TH1: ht_tempdn (Potential memory leak).\n",
      "Warning in <TROOT::Append>: Replacing existing TH1: ht_tempdn (Potential memory leak).\n",
      "Warning in <TFile::Append>: Replacing existing TH1: htt_tempu (Potential memory leak).\n",
      "Warning in <TFile::Append>: Replacing existing TH1: htt_tempd (Potential memory leak).\n",
      "Warning in <TFile::Append>: Replacing existing TH1: htt_tempu (Potential memory leak).\n",
      "Warning in <TFile::Append>: Replacing existing TH1: htt_tempd (Potential memory leak).\n",
      "Warning in <TFile::Append>: Replacing existing TH1: htt_tempu (Potential memory leak).\n",
      "Warning in <TFile::Append>: Replacing existing TH1: htt_tempd (Potential memory leak).\n",
      "Warning in <TFile::Append>: Replacing existing TH1: htt_tempu (Potential memory leak).\n",
      "Warning in <TFile::Append>: Replacing existing TH1: htt_tempd (Potential memory leak).\n",
      "Warning in <TFile::Append>: Replacing existing TH1: ht_tempdn (Potential memory leak).\n",
      "Warning in <TFile::Append>: Replacing existing TH1: ht_tempdn (Potential memory leak).\n",
      "Warning in <TFile::Append>: Replacing existing TH1: ht_tempdn (Potential memory leak).\n",
      "Warning in <TFile::Append>: Replacing existing TH1: ht_tempdn (Potential memory leak).\n",
      "Warning in <TFile::Append>: Replacing existing TH1: htt_tempu (Potential memory leak).\n",
      "Warning in <TFile::Append>: Replacing existing TH1: htt_tempd (Potential memory leak).\n",
      "Warning in <TFile::Append>: Replacing existing TH1: htt_tempu (Potential memory leak).\n",
      "Warning in <TFile::Append>: Replacing existing TH1: htt_tempd (Potential memory leak).\n",
      "Warning in <TFile::Append>: Replacing existing TH1: htt_tempu (Potential memory leak).\n",
      "Warning in <TFile::Append>: Replacing existing TH1: htt_tempd (Potential memory leak).\n",
      "Warning in <TFile::Append>: Replacing existing TH1: htt_tempu (Potential memory leak).\n",
      "Warning in <TFile::Append>: Replacing existing TH1: htt_tempd (Potential memory leak).\n",
      "Warning in <TFile::Append>: Replacing existing TH1: ht_tempdn (Potential memory leak).\n",
      "Warning in <TFile::Append>: Replacing existing TH1: ht_tempdn (Potential memory leak).\n",
      "Warning in <TFile::Append>: Replacing existing TH1: ht_tempdn (Potential memory leak).\n",
      "Warning in <TFile::Append>: Replacing existing TH1: ht_tempdn (Potential memory leak).\n",
      "Warning in <TFile::Append>: Replacing existing TH1: htt_tempu (Potential memory leak).\n",
      "Warning in <TFile::Append>: Replacing existing TH1: htt_tempd (Potential memory leak).\n",
      "Warning in <TFile::Append>: Replacing existing TH1: htt_tempu (Potential memory leak).\n",
      "Warning in <TFile::Append>: Replacing existing TH1: htt_tempd (Potential memory leak).\n",
      "Warning in <TFile::Append>: Replacing existing TH1: htt_tempu (Potential memory leak).\n",
      "Warning in <TFile::Append>: Replacing existing TH1: htt_tempd (Potential memory leak).\n",
      "Warning in <TFile::Append>: Replacing existing TH1: htt_tempu (Potential memory leak).\n",
      "Warning in <TFile::Append>: Replacing existing TH1: htt_tempd (Potential memory leak).\n",
      "Warning in <TFile::Append>: Replacing existing TH1: ht_tempdn (Potential memory leak).\n",
      "Warning in <TFile::Append>: Replacing existing TH1: ht_tempdn (Potential memory leak).\n",
      "Warning in <TFile::Append>: Replacing existing TH1: ht_tempdn (Potential memory leak).\n",
      "Warning in <TFile::Append>: Replacing existing TH1: ht_tempdn (Potential memory leak).\n",
      "Warning in <TFile::Append>: Replacing existing TH1: htt_tempu (Potential memory leak).\n",
      "Warning in <TFile::Append>: Replacing existing TH1: htt_tempd (Potential memory leak).\n",
      "Warning in <TFile::Append>: Replacing existing TH1: htt_tempu (Potential memory leak).\n",
      "Warning in <TFile::Append>: Replacing existing TH1: htt_tempd (Potential memory leak).\n",
      "Warning in <TFile::Append>: Replacing existing TH1: htt_tempu (Potential memory leak).\n",
      "Warning in <TFile::Append>: Replacing existing TH1: htt_tempd (Potential memory leak).\n",
      "Warning in <TFile::Append>: Replacing existing TH1: htt_tempu (Potential memory leak).\n",
      "Warning in <TFile::Append>: Replacing existing TH1: htt_tempd (Potential memory leak).\n",
      "Warning in <TFile::Append>: Replacing existing TH1: ht_tempdn (Potential memory leak).\n",
      "Warning in <TFile::Append>: Replacing existing TH1: ht_tempdn (Potential memory leak).\n",
      "Warning in <TFile::Append>: Replacing existing TH1: ht_tempdn (Potential memory leak).\n",
      "Warning in <TFile::Append>: Replacing existing TH1: ht_tempdn (Potential memory leak).\n",
      "Warning in <TFile::Append>: Replacing existing TH1: htt_tempu (Potential memory leak).\n",
      "Warning in <TFile::Append>: Replacing existing TH1: htt_tempd (Potential memory leak).\n",
      "Warning in <TFile::Append>: Replacing existing TH1: htt_tempu (Potential memory leak).\n",
      "Warning in <TFile::Append>: Replacing existing TH1: htt_tempd (Potential memory leak).\n",
      "Warning in <TFile::Append>: Replacing existing TH1: htt_tempu (Potential memory leak).\n",
      "Warning in <TFile::Append>: Replacing existing TH1: htt_tempd (Potential memory leak).\n",
      "Warning in <TFile::Append>: Replacing existing TH1: htt_tempu (Potential memory leak).\n",
      "Warning in <TFile::Append>: Replacing existing TH1: htt_tempd (Potential memory leak).\n",
      "Warning in <TFile::Append>: Replacing existing TH1: ht_tempdn (Potential memory leak).\n",
      "Warning in <TFile::Append>: Replacing existing TH1: ht_tempdn (Potential memory leak).\n",
      "Warning in <TFile::Append>: Replacing existing TH1: ht_tempdn (Potential memory leak).\n",
      "Warning in <TFile::Append>: Replacing existing TH1: ht_tempdn (Potential memory leak).\n",
      "Warning in <TFile::Append>: Replacing existing TH1: htt_tempu (Potential memory leak).\n",
      "Warning in <TFile::Append>: Replacing existing TH1: htt_tempd (Potential memory leak).\n",
      "Warning in <TFile::Append>: Replacing existing TH1: htt_tempu (Potential memory leak).\n",
      "Warning in <TFile::Append>: Replacing existing TH1: htt_tempd (Potential memory leak).\n",
      "Warning in <TFile::Append>: Replacing existing TH1: htt_tempu (Potential memory leak).\n",
      "Warning in <TFile::Append>: Replacing existing TH1: htt_tempd (Potential memory leak).\n",
      "Warning in <TFile::Append>: Replacing existing TH1: htt_tempu (Potential memory leak).\n",
      "Warning in <TFile::Append>: Replacing existing TH1: htt_tempd (Potential memory leak).\n",
      "Warning in <TFile::Append>: Replacing existing TH1: ht_tempdn (Potential memory leak).\n",
      "Warning in <TFile::Append>: Replacing existing TH1: ht_tempdn (Potential memory leak).\n",
      "Warning in <TFile::Append>: Replacing existing TH1: ht_tempdn (Potential memory leak).\n",
      "Warning in <TFile::Append>: Replacing existing TH1: ht_tempdn (Potential memory leak).\n",
      "Warning in <TFile::Append>: Replacing existing TH1: htt_tempu (Potential memory leak).\n",
      "Warning in <TFile::Append>: Replacing existing TH1: htt_tempd (Potential memory leak).\n",
      "Warning in <TFile::Append>: Replacing existing TH1: htt_tempu (Potential memory leak).\n",
      "Warning in <TFile::Append>: Replacing existing TH1: htt_tempd (Potential memory leak).\n",
      "Warning in <TFile::Append>: Replacing existing TH1: htt_tempu (Potential memory leak).\n",
      "Warning in <TFile::Append>: Replacing existing TH1: htt_tempd (Potential memory leak).\n",
      "Warning in <TFile::Append>: Replacing existing TH1: htt_tempu (Potential memory leak).\n",
      "Warning in <TFile::Append>: Replacing existing TH1: htt_tempd (Potential memory leak).\n",
      "Warning in <TFile::Append>: Replacing existing TH1: ht_tempdn (Potential memory leak).\n",
      "Warning in <TFile::Append>: Replacing existing TH1: ht_tempdn (Potential memory leak).\n",
      "Warning in <TFile::Append>: Replacing existing TH1: ht_tempdn (Potential memory leak).\n",
      "Warning in <TFile::Append>: Replacing existing TH1: ht_tempdn (Potential memory leak).\n",
      "Warning in <TFile::Append>: Replacing existing TH1: htt_tempu (Potential memory leak).\n",
      "Warning in <TFile::Append>: Replacing existing TH1: htt_tempd (Potential memory leak).\n",
      "Warning in <TFile::Append>: Replacing existing TH1: htt_tempu (Potential memory leak).\n",
      "Warning in <TFile::Append>: Replacing existing TH1: htt_tempd (Potential memory leak).\n",
      "Warning in <TFile::Append>: Replacing existing TH1: htt_tempu (Potential memory leak).\n",
      "Warning in <TFile::Append>: Replacing existing TH1: htt_tempd (Potential memory leak).\n",
      "Warning in <TFile::Append>: Replacing existing TH1: htt_tempu (Potential memory leak).\n",
      "Warning in <TFile::Append>: Replacing existing TH1: htt_tempd (Potential memory leak).\n",
      "Warning in <TFile::Append>: Replacing existing TH1: ht_tempdn (Potential memory leak).\n",
      "Warning in <TFile::Append>: Replacing existing TH1: ht_tempdn (Potential memory leak).\n",
      "Warning in <TFile::Append>: Replacing existing TH1: ht_tempdn (Potential memory leak).\n",
      "Warning in <TFile::Append>: Replacing existing TH1: ht_tempdn (Potential memory leak).\n",
      "Warning in <TFile::Append>: Replacing existing TH1: htt_tempu (Potential memory leak).\n",
      "Warning in <TFile::Append>: Replacing existing TH1: htt_tempd (Potential memory leak).\n",
      "Warning in <TFile::Append>: Replacing existing TH1: htt_tempu (Potential memory leak).\n",
      "Warning in <TFile::Append>: Replacing existing TH1: htt_tempd (Potential memory leak).\n",
      "Warning in <TFile::Append>: Replacing existing TH1: htt_tempu (Potential memory leak).\n",
      "Warning in <TFile::Append>: Replacing existing TH1: htt_tempd (Potential memory leak).\n",
      "Warning in <TFile::Append>: Replacing existing TH1: htt_tempu (Potential memory leak).\n",
      "Warning in <TFile::Append>: Replacing existing TH1: htt_tempd (Potential memory leak).\n",
      "Warning in <TFile::Append>: Replacing existing TH1: ht_tempdn (Potential memory leak).\n",
      "Warning in <TFile::Append>: Replacing existing TH1: ht_tempdn (Potential memory leak).\n",
      "Warning in <TFile::Append>: Replacing existing TH1: ht_tempdn (Potential memory leak).\n",
      "Warning in <TFile::Append>: Replacing existing TH1: ht_tempdn (Potential memory leak).\n",
      "Warning in <TFile::Append>: Replacing existing TH1: htt_tempu (Potential memory leak).\n",
      "Warning in <TFile::Append>: Replacing existing TH1: htt_tempd (Potential memory leak).\n",
      "Warning in <TFile::Append>: Replacing existing TH1: htt_tempu (Potential memory leak).\n",
      "Warning in <TFile::Append>: Replacing existing TH1: htt_tempd (Potential memory leak).\n",
      "Warning in <TFile::Append>: Replacing existing TH1: htt_tempu (Potential memory leak).\n",
      "Warning in <TFile::Append>: Replacing existing TH1: htt_tempd (Potential memory leak).\n",
      "Warning in <TFile::Append>: Replacing existing TH1: htt_tempu (Potential memory leak).\n",
      "Warning in <TFile::Append>: Replacing existing TH1: htt_tempd (Potential memory leak).\n",
      "Warning in <TFile::Append>: Replacing existing TH1: ht_tempdn (Potential memory leak).\n",
      "Warning in <TFile::Append>: Replacing existing TH1: ht_tempdn (Potential memory leak).\n",
      "Warning in <TFile::Append>: Replacing existing TH1: ht_tempdn (Potential memory leak).\n",
      "Warning in <TFile::Append>: Replacing existing TH1: ht_tempdn (Potential memory leak).\n",
      "Warning in <TFile::Append>: Replacing existing TH1: htt_tempu (Potential memory leak).\n",
      "Warning in <TFile::Append>: Replacing existing TH1: htt_tempd (Potential memory leak).\n",
      "Warning in <TFile::Append>: Replacing existing TH1: htt_tempu (Potential memory leak).\n",
      "Warning in <TFile::Append>: Replacing existing TH1: htt_tempd (Potential memory leak).\n",
      "Warning in <TFile::Append>: Replacing existing TH1: htt_tempu (Potential memory leak).\n",
      "Warning in <TFile::Append>: Replacing existing TH1: htt_tempd (Potential memory leak).\n",
      "Warning in <TFile::Append>: Replacing existing TH1: htt_tempu (Potential memory leak).\n",
      "Warning in <TFile::Append>: Replacing existing TH1: htt_tempd (Potential memory leak).\n",
      "Warning in <TFile::Append>: Replacing existing TH1: ht_tempdn (Potential memory leak).\n",
      "Warning in <TFile::Append>: Replacing existing TH1: ht_tempdn (Potential memory leak).\n",
      "Warning in <TFile::Append>: Replacing existing TH1: ht_tempdn (Potential memory leak).\n",
      "Warning in <TFile::Append>: Replacing existing TH1: ht_tempdn (Potential memory leak).\n",
      "Warning in <TFile::Append>: Replacing existing TH1: htt_tempu (Potential memory leak).\n",
      "Warning in <TFile::Append>: Replacing existing TH1: htt_tempd (Potential memory leak).\n",
      "Warning in <TFile::Append>: Replacing existing TH1: htt_tempu (Potential memory leak).\n",
      "Warning in <TFile::Append>: Replacing existing TH1: htt_tempd (Potential memory leak).\n",
      "Warning in <TFile::Append>: Replacing existing TH1: htt_tempu (Potential memory leak).\n",
      "Warning in <TFile::Append>: Replacing existing TH1: htt_tempd (Potential memory leak).\n",
      "Warning in <TFile::Append>: Replacing existing TH1: htt_tempu (Potential memory leak).\n",
      "Warning in <TFile::Append>: Replacing existing TH1: htt_tempd (Potential memory leak).\n",
      "Warning in <TFile::Append>: Replacing existing TH1: ht_tempdn (Potential memory leak).\n",
      "Warning in <TFile::Append>: Replacing existing TH1: ht_tempdn (Potential memory leak).\n",
      "Warning in <TFile::Append>: Replacing existing TH1: ht_tempdn (Potential memory leak).\n",
      "Warning in <TFile::Append>: Replacing existing TH1: ht_tempdn (Potential memory leak).\n",
      "Warning in <TFile::Append>: Replacing existing TH1: htt_tempu (Potential memory leak).\n",
      "Warning in <TFile::Append>: Replacing existing TH1: htt_tempd (Potential memory leak).\n",
      "Warning in <TFile::Append>: Replacing existing TH1: htt_tempu (Potential memory leak).\n",
      "Warning in <TFile::Append>: Replacing existing TH1: htt_tempd (Potential memory leak).\n",
      "Warning in <TFile::Append>: Replacing existing TH1: htt_tempu (Potential memory leak).\n",
      "Warning in <TFile::Append>: Replacing existing TH1: htt_tempd (Potential memory leak).\n",
      "Warning in <TFile::Append>: Replacing existing TH1: htt_tempu (Potential memory leak).\n",
      "Warning in <TFile::Append>: Replacing existing TH1: htt_tempd (Potential memory leak).\n",
      "Warning in <TFile::Append>: Replacing existing TH1: ht_tempdn (Potential memory leak).\n",
      "Warning in <TFile::Append>: Replacing existing TH1: ht_tempdn (Potential memory leak).\n",
      "Warning in <TFile::Append>: Replacing existing TH1: ht_tempdn (Potential memory leak).\n",
      "Warning in <TFile::Append>: Replacing existing TH1: ht_tempdn (Potential memory leak).\n",
      "Warning in <TFile::Append>: Replacing existing TH1: htt_tempu (Potential memory leak).\n",
      "Warning in <TFile::Append>: Replacing existing TH1: htt_tempd (Potential memory leak).\n",
      "Warning in <TFile::Append>: Replacing existing TH1: htt_tempu (Potential memory leak).\n",
      "Warning in <TFile::Append>: Replacing existing TH1: htt_tempd (Potential memory leak).\n",
      "Warning in <TFile::Append>: Replacing existing TH1: htt_tempu (Potential memory leak).\n",
      "Warning in <TFile::Append>: Replacing existing TH1: htt_tempd (Potential memory leak).\n",
      "Warning in <TFile::Append>: Replacing existing TH1: htt_tempu (Potential memory leak).\n",
      "Warning in <TFile::Append>: Replacing existing TH1: htt_tempd (Potential memory leak).\n",
      "Warning in <TFile::Append>: Replacing existing TH1: ht_tempdn (Potential memory leak).\n",
      "Warning in <TFile::Append>: Replacing existing TH1: ht_tempdn (Potential memory leak).\n",
      "Warning in <TFile::Append>: Replacing existing TH1: ht_tempdn (Potential memory leak).\n",
      "Warning in <TFile::Append>: Replacing existing TH1: ht_tempdn (Potential memory leak).\n",
      "Warning in <TFile::Append>: Replacing existing TH1: htt_tempu (Potential memory leak).\n",
      "Warning in <TFile::Append>: Replacing existing TH1: htt_tempd (Potential memory leak).\n",
      "Warning in <TFile::Append>: Replacing existing TH1: htt_tempu (Potential memory leak).\n",
      "Warning in <TFile::Append>: Replacing existing TH1: htt_tempd (Potential memory leak).\n",
      "Warning in <TFile::Append>: Replacing existing TH1: htt_tempu (Potential memory leak).\n",
      "Warning in <TFile::Append>: Replacing existing TH1: htt_tempd (Potential memory leak).\n",
      "Warning in <TFile::Append>: Replacing existing TH1: htt_tempu (Potential memory leak).\n",
      "Warning in <TFile::Append>: Replacing existing TH1: htt_tempd (Potential memory leak).\n",
      "Warning in <TFile::Append>: Replacing existing TH1: ht_tempdn (Potential memory leak).\n",
      "Warning in <TFile::Append>: Replacing existing TH1: ht_tempdn (Potential memory leak).\n",
      "Warning in <TFile::Append>: Replacing existing TH1: ht_tempdn (Potential memory leak).\n",
      "Warning in <TFile::Append>: Replacing existing TH1: ht_tempdn (Potential memory leak).\n",
      "Warning in <TFile::Append>: Replacing existing TH1: htt_tempu (Potential memory leak).\n",
      "Warning in <TFile::Append>: Replacing existing TH1: htt_tempd (Potential memory leak).\n",
      "Warning in <TFile::Append>: Replacing existing TH1: htt_tempu (Potential memory leak).\n",
      "Warning in <TFile::Append>: Replacing existing TH1: htt_tempd (Potential memory leak).\n",
      "Warning in <TFile::Append>: Replacing existing TH1: htt_tempu (Potential memory leak).\n",
      "Warning in <TFile::Append>: Replacing existing TH1: htt_tempd (Potential memory leak).\n",
      "Warning in <TFile::Append>: Replacing existing TH1: htt_tempu (Potential memory leak).\n",
      "Warning in <TFile::Append>: Replacing existing TH1: htt_tempd (Potential memory leak).\n",
      "Warning in <TFile::Append>: Replacing existing TH1: ht_tempdn (Potential memory leak).\n",
      "Warning in <TFile::Append>: Replacing existing TH1: ht_tempdn (Potential memory leak).\n",
      "Warning in <TFile::Append>: Replacing existing TH1: ht_tempdn (Potential memory leak).\n",
      "Warning in <TFile::Append>: Replacing existing TH1: ht_tempdn (Potential memory leak).\n",
      "Warning in <TFile::Append>: Replacing existing TH1: htt_tempu (Potential memory leak).\n",
      "Warning in <TFile::Append>: Replacing existing TH1: htt_tempd (Potential memory leak).\n",
      "Warning in <TFile::Append>: Replacing existing TH1: htt_tempu (Potential memory leak).\n",
      "Warning in <TFile::Append>: Replacing existing TH1: htt_tempd (Potential memory leak).\n",
      "Warning in <TFile::Append>: Replacing existing TH1: htt_tempu (Potential memory leak).\n",
      "Warning in <TFile::Append>: Replacing existing TH1: htt_tempd (Potential memory leak).\n",
      "Warning in <TFile::Append>: Replacing existing TH1: htt_tempu (Potential memory leak).\n",
      "Warning in <TFile::Append>: Replacing existing TH1: htt_tempd (Potential memory leak).\n",
      "Warning in <TFile::Append>: Replacing existing TH1: ht_tempdn (Potential memory leak).\n",
      "Warning in <TFile::Append>: Replacing existing TH1: ht_tempdn (Potential memory leak).\n",
      "Warning in <TFile::Append>: Replacing existing TH1: ht_tempdn (Potential memory leak).\n",
      "Warning in <TFile::Append>: Replacing existing TH1: ht_tempdn (Potential memory leak).\n",
      "Warning in <TFile::Append>: Replacing existing TH1: htt_tempu (Potential memory leak).\n",
      "Warning in <TFile::Append>: Replacing existing TH1: htt_tempd (Potential memory leak).\n",
      "Warning in <TFile::Append>: Replacing existing TH1: htt_tempu (Potential memory leak).\n",
      "Warning in <TFile::Append>: Replacing existing TH1: htt_tempd (Potential memory leak).\n",
      "Warning in <TFile::Append>: Replacing existing TH1: htt_tempu (Potential memory leak).\n",
      "Warning in <TFile::Append>: Replacing existing TH1: htt_tempd (Potential memory leak).\n",
      "Warning in <TFile::Append>: Replacing existing TH1: htt_tempu (Potential memory leak).\n",
      "Warning in <TFile::Append>: Replacing existing TH1: htt_tempd (Potential memory leak).\n",
      "Warning in <TFile::Append>: Replacing existing TH1: ht_tempdn (Potential memory leak).\n",
      "Warning in <TFile::Append>: Replacing existing TH1: ht_tempdn (Potential memory leak).\n",
      "Warning in <TFile::Append>: Replacing existing TH1: ht_tempdn (Potential memory leak).\n",
      "Warning in <TFile::Append>: Replacing existing TH1: ht_tempdn (Potential memory leak).\n",
      "Warning in <TFile::Append>: Replacing existing TH1: htt_tempu (Potential memory leak).\n",
      "Warning in <TFile::Append>: Replacing existing TH1: htt_tempd (Potential memory leak).\n",
      "Warning in <TFile::Append>: Replacing existing TH1: htt_tempu (Potential memory leak).\n",
      "Warning in <TFile::Append>: Replacing existing TH1: htt_tempd (Potential memory leak).\n",
      "Warning in <TFile::Append>: Replacing existing TH1: htt_tempu (Potential memory leak).\n",
      "Warning in <TFile::Append>: Replacing existing TH1: htt_tempd (Potential memory leak).\n",
      "Warning in <TFile::Append>: Replacing existing TH1: htt_tempu (Potential memory leak).\n",
      "Warning in <TFile::Append>: Replacing existing TH1: htt_tempd (Potential memory leak).\n",
      "Warning in <TFile::Append>: Replacing existing TH1: ht_tempdn (Potential memory leak).\n",
      "Warning in <TFile::Append>: Replacing existing TH1: ht_tempdn (Potential memory leak).\n",
      "Warning in <TFile::Append>: Replacing existing TH1: ht_tempdn (Potential memory leak).\n",
      "Warning in <TFile::Append>: Replacing existing TH1: ht_tempdn (Potential memory leak).\n",
      "Warning in <TFile::Append>: Replacing existing TH1: htt_tempu (Potential memory leak).\n",
      "Warning in <TFile::Append>: Replacing existing TH1: htt_tempd (Potential memory leak).\n",
      "Warning in <TFile::Append>: Replacing existing TH1: htt_tempu (Potential memory leak).\n",
      "Warning in <TFile::Append>: Replacing existing TH1: htt_tempd (Potential memory leak).\n",
      "Warning in <TFile::Append>: Replacing existing TH1: htt_tempu (Potential memory leak).\n",
      "Warning in <TFile::Append>: Replacing existing TH1: htt_tempd (Potential memory leak).\n",
      "Warning in <TFile::Append>: Replacing existing TH1: htt_tempu (Potential memory leak).\n",
      "Warning in <TFile::Append>: Replacing existing TH1: htt_tempd (Potential memory leak).\n",
      "Warning in <TFile::Append>: Replacing existing TH1: ht_tempdn (Potential memory leak).\n",
      "Warning in <TFile::Append>: Replacing existing TH1: ht_tempdn (Potential memory leak).\n",
      "Warning in <TFile::Append>: Replacing existing TH1: ht_tempdn (Potential memory leak).\n",
      "Warning in <TFile::Append>: Replacing existing TH1: ht_tempdn (Potential memory leak).\n",
      "Warning in <TFile::Append>: Replacing existing TH1: htt_tempu (Potential memory leak).\n",
      "Warning in <TFile::Append>: Replacing existing TH1: htt_tempd (Potential memory leak).\n",
      "Warning in <TFile::Append>: Replacing existing TH1: htt_tempu (Potential memory leak).\n",
      "Warning in <TFile::Append>: Replacing existing TH1: htt_tempd (Potential memory leak).\n",
      "Warning in <TFile::Append>: Replacing existing TH1: htt_tempu (Potential memory leak).\n",
      "Warning in <TFile::Append>: Replacing existing TH1: htt_tempd (Potential memory leak).\n",
      "Warning in <TFile::Append>: Replacing existing TH1: htt_tempu (Potential memory leak).\n",
      "Warning in <TFile::Append>: Replacing existing TH1: htt_tempd (Potential memory leak).\n",
      "Warning in <TFile::Append>: Replacing existing TH1: ht_tempdn (Potential memory leak).\n",
      "Warning in <TFile::Append>: Replacing existing TH1: ht_tempdn (Potential memory leak).\n",
      "Warning in <TFile::Append>: Replacing existing TH1: ht_tempdn (Potential memory leak).\n",
      "Warning in <TFile::Append>: Replacing existing TH1: ht_tempdn (Potential memory leak).\n",
      "Warning in <TFile::Append>: Replacing existing TH1: htt_tempu (Potential memory leak).\n",
      "Warning in <TFile::Append>: Replacing existing TH1: htt_tempd (Potential memory leak).\n",
      "Warning in <TFile::Append>: Replacing existing TH1: htt_tempu (Potential memory leak).\n",
      "Warning in <TFile::Append>: Replacing existing TH1: htt_tempd (Potential memory leak).\n",
      "Warning in <TFile::Append>: Replacing existing TH1: htt_tempu (Potential memory leak).\n",
      "Warning in <TFile::Append>: Replacing existing TH1: htt_tempd (Potential memory leak).\n",
      "Warning in <TFile::Append>: Replacing existing TH1: htt_tempu (Potential memory leak).\n",
      "Warning in <TFile::Append>: Replacing existing TH1: htt_tempd (Potential memory leak).\n",
      "Warning in <TFile::Append>: Replacing existing TH1: ht_tempdn (Potential memory leak).\n",
      "Warning in <TFile::Append>: Replacing existing TH1: ht_tempdn (Potential memory leak).\n",
      "Warning in <TFile::Append>: Replacing existing TH1: ht_tempdn (Potential memory leak).\n",
      "Warning in <TFile::Append>: Replacing existing TH1: ht_tempdn (Potential memory leak).\n",
      "Warning in <TFile::Append>: Replacing existing TH1: htt_tempu (Potential memory leak).\n",
      "Warning in <TFile::Append>: Replacing existing TH1: htt_tempd (Potential memory leak).\n",
      "Warning in <TFile::Append>: Replacing existing TH1: htt_tempu (Potential memory leak).\n",
      "Warning in <TFile::Append>: Replacing existing TH1: htt_tempd (Potential memory leak).\n",
      "Warning in <TFile::Append>: Replacing existing TH1: htt_tempu (Potential memory leak).\n",
      "Warning in <TFile::Append>: Replacing existing TH1: htt_tempd (Potential memory leak).\n",
      "Warning in <TFile::Append>: Replacing existing TH1: htt_tempu (Potential memory leak).\n",
      "Warning in <TFile::Append>: Replacing existing TH1: htt_tempd (Potential memory leak).\n",
      "Warning in <TFile::Append>: Replacing existing TH1: ht_tempdn (Potential memory leak).\n",
      "Warning in <TFile::Append>: Replacing existing TH1: ht_tempdn (Potential memory leak).\n",
      "Warning in <TFile::Append>: Replacing existing TH1: ht_tempdn (Potential memory leak).\n",
      "Warning in <TFile::Append>: Replacing existing TH1: ht_tempdn (Potential memory leak).\n",
      "Warning in <TFile::Append>: Replacing existing TH1: htt_tempu (Potential memory leak).\n",
      "Warning in <TFile::Append>: Replacing existing TH1: htt_tempd (Potential memory leak).\n",
      "Warning in <TFile::Append>: Replacing existing TH1: htt_tempu (Potential memory leak).\n",
      "Warning in <TFile::Append>: Replacing existing TH1: htt_tempd (Potential memory leak).\n",
      "Warning in <TFile::Append>: Replacing existing TH1: htt_tempu (Potential memory leak).\n",
      "Warning in <TFile::Append>: Replacing existing TH1: htt_tempd (Potential memory leak).\n",
      "Warning in <TFile::Append>: Replacing existing TH1: htt_tempu (Potential memory leak).\n",
      "Warning in <TFile::Append>: Replacing existing TH1: htt_tempd (Potential memory leak).\n",
      "Warning in <TFile::Append>: Replacing existing TH1: ht_tempdn (Potential memory leak).\n",
      "Warning in <TFile::Append>: Replacing existing TH1: ht_tempdn (Potential memory leak).\n",
      "Warning in <TFile::Append>: Replacing existing TH1: ht_tempdn (Potential memory leak).\n",
      "Warning in <TFile::Append>: Replacing existing TH1: ht_tempdn (Potential memory leak).\n",
      "Warning in <TFile::Append>: Replacing existing TH1: htt_tempu (Potential memory leak).\n",
      "Warning in <TFile::Append>: Replacing existing TH1: htt_tempd (Potential memory leak).\n",
      "Warning in <TFile::Append>: Replacing existing TH1: htt_tempu (Potential memory leak).\n",
      "Warning in <TFile::Append>: Replacing existing TH1: htt_tempd (Potential memory leak).\n",
      "Warning in <TFile::Append>: Replacing existing TH1: htt_tempu (Potential memory leak).\n",
      "Warning in <TFile::Append>: Replacing existing TH1: htt_tempd (Potential memory leak).\n",
      "Warning in <TFile::Append>: Replacing existing TH1: htt_tempu (Potential memory leak).\n",
      "Warning in <TFile::Append>: Replacing existing TH1: htt_tempd (Potential memory leak).\n",
      "Warning in <TFile::Append>: Replacing existing TH1: ht_tempdn (Potential memory leak).\n",
      "Warning in <TFile::Append>: Replacing existing TH1: ht_tempdn (Potential memory leak).\n",
      "Warning in <TFile::Append>: Replacing existing TH1: ht_tempdn (Potential memory leak).\n",
      "Warning in <TFile::Append>: Replacing existing TH1: ht_tempdn (Potential memory leak).\n",
      "Warning in <TFile::Append>: Replacing existing TH1: htt_tempu (Potential memory leak).\n",
      "Warning in <TFile::Append>: Replacing existing TH1: htt_tempd (Potential memory leak).\n",
      "Warning in <TFile::Append>: Replacing existing TH1: htt_tempu (Potential memory leak).\n",
      "Warning in <TFile::Append>: Replacing existing TH1: htt_tempd (Potential memory leak).\n",
      "Warning in <TFile::Append>: Replacing existing TH1: htt_tempu (Potential memory leak).\n",
      "Warning in <TFile::Append>: Replacing existing TH1: htt_tempd (Potential memory leak).\n",
      "Warning in <TFile::Append>: Replacing existing TH1: htt_tempu (Potential memory leak).\n",
      "Warning in <TFile::Append>: Replacing existing TH1: htt_tempd (Potential memory leak).\n",
      "Warning in <TFile::Append>: Replacing existing TH1: ht_tempdn (Potential memory leak).\n",
      "Warning in <TFile::Append>: Replacing existing TH1: ht_tempdn (Potential memory leak).\n",
      "Warning in <TFile::Append>: Replacing existing TH1: ht_tempdn (Potential memory leak).\n",
      "Warning in <TFile::Append>: Replacing existing TH1: ht_tempdn (Potential memory leak).\n",
      "Warning in <TFile::Append>: Replacing existing TH1: htt_tempu (Potential memory leak).\n",
      "Warning in <TFile::Append>: Replacing existing TH1: htt_tempd (Potential memory leak).\n",
      "Warning in <TFile::Append>: Replacing existing TH1: htt_tempu (Potential memory leak).\n",
      "Warning in <TFile::Append>: Replacing existing TH1: htt_tempd (Potential memory leak).\n",
      "Warning in <TFile::Append>: Replacing existing TH1: htt_tempu (Potential memory leak).\n",
      "Warning in <TFile::Append>: Replacing existing TH1: htt_tempd (Potential memory leak).\n",
      "Warning in <TFile::Append>: Replacing existing TH1: htt_tempu (Potential memory leak).\n",
      "Warning in <TFile::Append>: Replacing existing TH1: htt_tempd (Potential memory leak).\n",
      "Warning in <TFile::Append>: Replacing existing TH1: ht_tempdn (Potential memory leak).\n",
      "Warning in <TFile::Append>: Replacing existing TH1: ht_tempdn (Potential memory leak).\n",
      "Warning in <TFile::Append>: Replacing existing TH1: ht_tempdn (Potential memory leak).\n",
      "Warning in <TFile::Append>: Replacing existing TH1: ht_tempdn (Potential memory leak).\n",
      "Warning in <TFile::Append>: Replacing existing TH1: htt_tempu (Potential memory leak).\n",
      "Warning in <TFile::Append>: Replacing existing TH1: htt_tempd (Potential memory leak).\n",
      "Warning in <TFile::Append>: Replacing existing TH1: htt_tempu (Potential memory leak).\n",
      "Warning in <TFile::Append>: Replacing existing TH1: htt_tempd (Potential memory leak).\n",
      "Warning in <TFile::Append>: Replacing existing TH1: htt_tempu (Potential memory leak).\n",
      "Warning in <TFile::Append>: Replacing existing TH1: htt_tempd (Potential memory leak).\n",
      "Warning in <TFile::Append>: Replacing existing TH1: htt_tempu (Potential memory leak).\n",
      "Warning in <TFile::Append>: Replacing existing TH1: htt_tempd (Potential memory leak).\n",
      "Warning in <TFile::Append>: Replacing existing TH1: ht_tempdn (Potential memory leak).\n",
      "Warning in <TFile::Append>: Replacing existing TH1: ht_tempdn (Potential memory leak).\n",
      "Warning in <TFile::Append>: Replacing existing TH1: ht_tempdn (Potential memory leak).\n",
      "Warning in <TFile::Append>: Replacing existing TH1: ht_tempdn (Potential memory leak).\n",
      "Warning in <TFile::Append>: Replacing existing TH1: htt_tempu (Potential memory leak).\n",
      "Warning in <TFile::Append>: Replacing existing TH1: htt_tempd (Potential memory leak).\n",
      "Warning in <TFile::Append>: Replacing existing TH1: htt_tempu (Potential memory leak).\n",
      "Warning in <TFile::Append>: Replacing existing TH1: htt_tempd (Potential memory leak).\n",
      "Warning in <TFile::Append>: Replacing existing TH1: htt_tempu (Potential memory leak).\n",
      "Warning in <TFile::Append>: Replacing existing TH1: htt_tempd (Potential memory leak).\n",
      "Warning in <TFile::Append>: Replacing existing TH1: htt_tempu (Potential memory leak).\n",
      "Warning in <TFile::Append>: Replacing existing TH1: htt_tempd (Potential memory leak).\n",
      "Warning in <TFile::Append>: Replacing existing TH1: ht_tempdn (Potential memory leak).\n",
      "Warning in <TFile::Append>: Replacing existing TH1: ht_tempdn (Potential memory leak).\n",
      "Warning in <TFile::Append>: Replacing existing TH1: ht_tempdn (Potential memory leak).\n",
      "Warning in <TFile::Append>: Replacing existing TH1: ht_tempdn (Potential memory leak).\n",
      "Warning in <TFile::Append>: Replacing existing TH1: htt_tempu (Potential memory leak).\n",
      "Warning in <TFile::Append>: Replacing existing TH1: htt_tempd (Potential memory leak).\n",
      "Warning in <TFile::Append>: Replacing existing TH1: htt_tempu (Potential memory leak).\n",
      "Warning in <TFile::Append>: Replacing existing TH1: htt_tempd (Potential memory leak).\n",
      "Warning in <TFile::Append>: Replacing existing TH1: htt_tempu (Potential memory leak).\n",
      "Warning in <TFile::Append>: Replacing existing TH1: htt_tempd (Potential memory leak).\n",
      "Warning in <TFile::Append>: Replacing existing TH1: htt_tempu (Potential memory leak).\n",
      "Warning in <TFile::Append>: Replacing existing TH1: htt_tempd (Potential memory leak).\n",
      "Warning in <TFile::Append>: Replacing existing TH1: ht_tempdn (Potential memory leak).\n",
      "Warning in <TFile::Append>: Replacing existing TH1: ht_tempdn (Potential memory leak).\n",
      "Warning in <TFile::Append>: Replacing existing TH1: ht_tempdn (Potential memory leak).\n",
      "Warning in <TFile::Append>: Replacing existing TH1: ht_tempdn (Potential memory leak).\n",
      "Warning in <TFile::Append>: Replacing existing TH1: htt_tempu (Potential memory leak).\n",
      "Warning in <TFile::Append>: Replacing existing TH1: htt_tempd (Potential memory leak).\n",
      "Warning in <TFile::Append>: Replacing existing TH1: htt_tempu (Potential memory leak).\n",
      "Warning in <TFile::Append>: Replacing existing TH1: htt_tempd (Potential memory leak).\n",
      "Warning in <TFile::Append>: Replacing existing TH1: htt_tempu (Potential memory leak).\n",
      "Warning in <TFile::Append>: Replacing existing TH1: htt_tempd (Potential memory leak).\n",
      "Warning in <TFile::Append>: Replacing existing TH1: htt_tempu (Potential memory leak).\n",
      "Warning in <TFile::Append>: Replacing existing TH1: htt_tempd (Potential memory leak).\n",
      "Warning in <TFile::Append>: Replacing existing TH1: ht_tempdn (Potential memory leak).\n",
      "Warning in <TFile::Append>: Replacing existing TH1: ht_tempdn (Potential memory leak).\n",
      "Warning in <TFile::Append>: Replacing existing TH1: ht_tempdn (Potential memory leak).\n",
      "Warning in <TFile::Append>: Replacing existing TH1: ht_tempdn (Potential memory leak).\n",
      "Warning in <TFile::Append>: Replacing existing TH1: htt_tempu (Potential memory leak).\n",
      "Warning in <TFile::Append>: Replacing existing TH1: htt_tempd (Potential memory leak).\n",
      "Warning in <TFile::Append>: Replacing existing TH1: htt_tempu (Potential memory leak).\n",
      "Warning in <TFile::Append>: Replacing existing TH1: htt_tempd (Potential memory leak).\n",
      "Warning in <TFile::Append>: Replacing existing TH1: htt_tempu (Potential memory leak).\n",
      "Warning in <TFile::Append>: Replacing existing TH1: htt_tempd (Potential memory leak).\n",
      "Warning in <TFile::Append>: Replacing existing TH1: htt_tempu (Potential memory leak).\n",
      "Warning in <TFile::Append>: Replacing existing TH1: htt_tempd (Potential memory leak).\n",
      "Warning in <TFile::Append>: Replacing existing TH1: ht_tempdn (Potential memory leak).\n",
      "Warning in <TFile::Append>: Replacing existing TH1: ht_tempdn (Potential memory leak).\n",
      "Warning in <TFile::Append>: Replacing existing TH1: ht_tempdn (Potential memory leak).\n",
      "Warning in <TFile::Append>: Replacing existing TH1: ht_tempdn (Potential memory leak).\n",
      "Warning in <TFile::Append>: Replacing existing TH1: htt_tempu (Potential memory leak).\n",
      "Warning in <TFile::Append>: Replacing existing TH1: htt_tempd (Potential memory leak).\n",
      "Warning in <TFile::Append>: Replacing existing TH1: htt_tempu (Potential memory leak).\n",
      "Warning in <TFile::Append>: Replacing existing TH1: htt_tempd (Potential memory leak).\n",
      "Warning in <TFile::Append>: Replacing existing TH1: htt_tempu (Potential memory leak).\n",
      "Warning in <TFile::Append>: Replacing existing TH1: htt_tempd (Potential memory leak).\n",
      "Warning in <TFile::Append>: Replacing existing TH1: htt_tempu (Potential memory leak).\n",
      "Warning in <TFile::Append>: Replacing existing TH1: htt_tempd (Potential memory leak).\n",
      "Warning in <TFile::Append>: Replacing existing TH1: ht_tempdn (Potential memory leak).\n",
      "Warning in <TFile::Append>: Replacing existing TH1: ht_tempdn (Potential memory leak).\n",
      "Warning in <TFile::Append>: Replacing existing TH1: ht_tempdn (Potential memory leak).\n",
      "Warning in <TFile::Append>: Replacing existing TH1: ht_tempdn (Potential memory leak).\n",
      "Warning in <TFile::Append>: Replacing existing TH1: htt_tempu (Potential memory leak).\n",
      "Warning in <TFile::Append>: Replacing existing TH1: htt_tempd (Potential memory leak).\n",
      "Warning in <TFile::Append>: Replacing existing TH1: htt_tempu (Potential memory leak).\n",
      "Warning in <TFile::Append>: Replacing existing TH1: htt_tempd (Potential memory leak).\n",
      "Warning in <TFile::Append>: Replacing existing TH1: htt_tempu (Potential memory leak).\n",
      "Warning in <TFile::Append>: Replacing existing TH1: htt_tempd (Potential memory leak).\n",
      "Warning in <TFile::Append>: Replacing existing TH1: htt_tempu (Potential memory leak).\n",
      "Warning in <TFile::Append>: Replacing existing TH1: htt_tempd (Potential memory leak).\n",
      "Warning in <TFile::Append>: Replacing existing TH1: ht_tempdn (Potential memory leak).\n",
      "Warning in <TFile::Append>: Replacing existing TH1: ht_tempdn (Potential memory leak).\n",
      "Warning in <TFile::Append>: Replacing existing TH1: ht_tempdn (Potential memory leak).\n",
      "Warning in <TFile::Append>: Replacing existing TH1: ht_tempdn (Potential memory leak).\n",
      "Warning in <TFile::Append>: Replacing existing TH1: htt_tempu (Potential memory leak).\n",
      "Warning in <TFile::Append>: Replacing existing TH1: htt_tempd (Potential memory leak).\n",
      "Warning in <TFile::Append>: Replacing existing TH1: htt_tempu (Potential memory leak).\n",
      "Warning in <TFile::Append>: Replacing existing TH1: htt_tempd (Potential memory leak).\n",
      "Warning in <TFile::Append>: Replacing existing TH1: htt_tempu (Potential memory leak).\n",
      "Warning in <TFile::Append>: Replacing existing TH1: htt_tempd (Potential memory leak).\n",
      "Warning in <TFile::Append>: Replacing existing TH1: htt_tempu (Potential memory leak).\n",
      "Warning in <TFile::Append>: Replacing existing TH1: htt_tempd (Potential memory leak).\n",
      "Warning in <TFile::Append>: Replacing existing TH1: ht_tempdn (Potential memory leak).\n",
      "Warning in <TFile::Append>: Replacing existing TH1: ht_tempdn (Potential memory leak).\n",
      "Warning in <TFile::Append>: Replacing existing TH1: ht_tempdn (Potential memory leak).\n",
      "Warning in <TFile::Append>: Replacing existing TH1: ht_tempdn (Potential memory leak).\n",
      "Warning in <TFile::Append>: Replacing existing TH1: htt_tempu (Potential memory leak).\n",
      "Warning in <TFile::Append>: Replacing existing TH1: htt_tempd (Potential memory leak).\n",
      "Warning in <TFile::Append>: Replacing existing TH1: htt_tempu (Potential memory leak).\n",
      "Warning in <TFile::Append>: Replacing existing TH1: htt_tempd (Potential memory leak).\n",
      "Warning in <TFile::Append>: Replacing existing TH1: htt_tempu (Potential memory leak).\n",
      "Warning in <TFile::Append>: Replacing existing TH1: htt_tempd (Potential memory leak).\n",
      "Warning in <TFile::Append>: Replacing existing TH1: htt_tempu (Potential memory leak).\n",
      "Warning in <TFile::Append>: Replacing existing TH1: htt_tempd (Potential memory leak).\n"
     ]
    }
   ],
   "source": [
    "\n",
    "h_gg_unt =[]\n",
    "print (h_gg_unt)\n",
    "FillHist(\"gg\",0,0,h_gg_unt)\n",
    "\n",
    "#for tcomp in ltargetcomp: \n",
    "#       FillHist(\"gg\",tcomp,0,h_gg_unt)\n",
    "'''\n",
    "h_gg_vbf =[]\n",
    "for tcomp in ltargetcomp: \n",
    "       FillHist(\"gg\",tcomp,1,h_gg_vbf)\n",
    "\n",
    "h_gg_vh =[]\n",
    "for tcomp in ltargetcomp: \n",
    "       FillHist(\"gg\",tcomp,2,h_gg_vh)     \n",
    "        \n",
    " \n",
    "       \n",
    "#=========================================  \n",
    "h_ew_unt =[]\n",
    "for tcomp in ltargetcomp: \n",
    "       FillHist(\"VBF\",tcomp,0,h_ew_unt)\n",
    "\n",
    "h_ew_vbf =[]\n",
    "for tcomp in ltargetcomp: \n",
    "       FillHist(\"VBF\",tcomp,1,h_ew_vbf)\n",
    "\n",
    "h_ew_vh =[]\n",
    "for tcomp in ltargetcomp: \n",
    "       FillHist(\"VBF\",tcomp,2,h_ew_vh)      \n",
    "              \n",
    "#=========================================  \n",
    "h_bkg_unt =[]\n",
    "FillHist(\"ZZTo4l\",0,0,h_bkg_unt)\n",
    "\n",
    "h_bkg_vbf =[]\n",
    "FillHist(\"ZZTo4l\",0,1,h_bkg_vbf)\n",
    "    \n",
    "h_bkg_vh =[]\n",
    "FillHist(\"ZZTo4l\",0,2,h_bkg_vh)      \n",
    "'''       "
   ]
  },
  {
   "cell_type": "code",
   "execution_count": 107,
   "id": "b4fead48",
   "metadata": {
    "scrolled": true
   },
   "outputs": [
    {
     "name": "stdout",
     "output_type": "stream",
     "text": [
      "11\n",
      "0 6131.048818707466\n",
      "1 7942.0457082390785\n",
      "2 6795.103072792292\n",
      "3 7136.572320759296\n",
      "4 7093.402016967535\n",
      "5 6828.47068926692\n",
      "6 7022.963013857603\n",
      "7 6833.176007270813\n",
      "8 7046.354975223541\n",
      "9 9468.112914383411\n",
      "10 6954.194003462791\n",
      "11\n",
      "6131.048818707466 6795.103072792292 7136.572320759296\n",
      "6131.048818707466 6795.103072792292 7136.572320759296\n",
      "6131.048818707466 6795.103072792292 7136.572320759296\n",
      "6131.048818707466 6795.103072792292 7136.572320759296\n",
      "6131.048818707466 6795.103072792292 7136.572320759296\n"
     ]
    },
    {
     "name": "stderr",
     "output_type": "stream",
     "text": [
      "Warning in <TCanvas::Constructor>: Deleting canvas with same name: c1\n",
      "Info in <TCanvas::Print>: pdf file Theory_gghsignal_uncertainties.pdf has been created\n",
      "Info in <TCanvas::Print>: png file Theory_gghsignal_uncertainties.png has been created\n"
     ]
    },
    {
     "data": {
      "text/html": [
       "\n",
       "\n",
       "<div id=\"root_plot_1643325628271\"\n",
       "     style=\"width: 1796px; height: 1172px\">\n",
       "</div>\n",
       "<script>\n",
       "\n",
       "function display_root_plot_1643325628271(Core) {\n",
       "   let obj = Core.parse({\"_typename\":\"TCanvas\",\"fUniqueID\":0,\"fBits\":3342344,\"fLineColor\":1,\"fLineStyle\":1,\"fLineWidth\":1,\"fFillColor\":0,\"fFillStyle\":1001,\"fLeftMargin\":0.1,\"fRightMargin\":0.1,\"fBottomMargin\":0.1,\"fTopMargin\":0.1,\"fXfile\":2,\"fYfile\":2,\"fAfile\":1,\"fXstat\":0.99,\"fYstat\":0.99,\"fAstat\":2,\"fFrameFillColor\":0,\"fFrameLineColor\":1,\"fFrameFillStyle\":1001,\"fFrameLineStyle\":1,\"fFrameLineWidth\":1,\"fFrameBorderSize\":1,\"fFrameBorderMode\":0,\"fX1\":0,\"fY1\":0,\"fX2\":1,\"fY2\":1,\"fXtoAbsPixelk\":5e-5,\"fXtoPixelk\":5e-5,\"fXtoPixel\":1796,\"fYtoAbsPixelk\":1172.00005,\"fYtoPixelk\":1172.00005,\"fYtoPixel\":-1172,\"fUtoAbsPixelk\":5e-5,\"fUtoPixelk\":5e-5,\"fUtoPixel\":1796,\"fVtoAbsPixelk\":1172.00005,\"fVtoPixelk\":1172,\"fVtoPixel\":-1172,\"fAbsPixeltoXk\":0,\"fPixeltoXk\":0,\"fPixeltoX\":5.56792873051225e-4,\"fAbsPixeltoYk\":1,\"fPixeltoYk\":0,\"fPixeltoY\":-8.53242320819113e-4,\"fXlowNDC\":0,\"fYlowNDC\":0,\"fXUpNDC\":1,\"fYUpNDC\":1,\"fWNDC\":1,\"fHNDC\":1,\"fAbsXlowNDC\":0,\"fAbsYlowNDC\":0,\"fAbsWNDC\":1,\"fAbsHNDC\":1,\"fUxmin\":0,\"fUymin\":0,\"fUxmax\":1,\"fUymax\":1,\"fTheta\":30,\"fPhi\":30,\"fAspectRatio\":0,\"fNumber\":0,\"fTickx\":0,\"fTicky\":0,\"fLogx\":0,\"fLogy\":0,\"fLogz\":0,\"fPadPaint\":0,\"fCrosshair\":0,\"fCrosshairPos\":0,\"fBorderSize\":2,\"fBorderMode\":0,\"fModified\":false,\"fGridx\":false,\"fGridy\":false,\"fAbsCoord\":false,\"fEditable\":true,\"fFixedAspectRatio\":false,\"fPrimitives\":{\"_typename\":\"TList\",\"name\":\"TList\",\"arr\":[{\"_typename\":\"TPad\",\"fUniqueID\":0,\"fBits\":9,\"fLineColor\":1,\"fLineStyle\":1,\"fLineWidth\":1,\"fFillColor\":0,\"fFillStyle\":1001,\"fLeftMargin\":0.1,\"fRightMargin\":0.1,\"fBottomMargin\":0.1,\"fTopMargin\":0.1,\"fXfile\":2,\"fYfile\":2,\"fAfile\":1,\"fXstat\":0.99,\"fYstat\":0.99,\"fAstat\":2,\"fFrameFillColor\":0,\"fFrameLineColor\":1,\"fFrameFillStyle\":1001,\"fFrameLineStyle\":1,\"fFrameLineWidth\":1,\"fFrameBorderSize\":1,\"fFrameBorderMode\":0,\"fX1\":-1377.50011902303,\"fY1\":-1.35355564587247,\"fX2\":14597.500119023,\"fY2\":3.93036039680914,\"fXtoAbsPixelk\":66.4848439564952,\"fXtoPixelk\":48.5248443579325,\"fXtoPixel\":0.0352267079238787,\"fYtoAbsPixelk\":430.171730087985,\"fYtoPixelk\":418.451730349947,\"fYtoPixel\":-106.466491136453,\"fUtoAbsPixelk\":17.9600495985627,\"fUtoPixelk\":5e-5,\"fUtoPixel\":562.746667469541,\"fVtoAbsPixelk\":574.280050261962,\"fVtoPixelk\":562.560000523925,\"fVtoPixel\":-562.560000523925,\"fAbsPixeltoXk\":-1887.34054002895,\"fPixeltoXk\":-1377.50011902303,\"fPixeltoX\":28.3875519154642,\"fAbsPixeltoYk\":4.04044197846863,\"fPixeltoYk\":-1.35355564587247,\"fPixeltoY\":-0.00939262663140034,\"fXlowNDC\":0.00999999977648258,\"fYlowNDC\":0.509999999776483,\"fXUpNDC\":0.323333333556851,\"fYUpNDC\":0.990000000223517,\"fWNDC\":0.313333333780368,\"fHNDC\":0.480000000447035,\"fAbsXlowNDC\":0.00999999977648258,\"fAbsYlowNDC\":0.509999999776483,\"fAbsWNDC\":0.313333333780368,\"fAbsHNDC\":0.480000000447035,\"fUxmin\":220,\"fUymin\":-0.825164010109714,\"fUxmax\":13000,\"fUymax\":3.40196876104638,\"fTheta\":30,\"fPhi\":30,\"fAspectRatio\":0,\"fNumber\":1,\"fTickx\":0,\"fTicky\":0,\"fLogx\":0,\"fLogy\":1,\"fLogz\":0,\"fPadPaint\":0,\"fCrosshair\":0,\"fCrosshairPos\":0,\"fBorderSize\":2,\"fBorderMode\":0,\"fModified\":false,\"fGridx\":false,\"fGridy\":false,\"fAbsCoord\":false,\"fEditable\":true,\"fFixedAspectRatio\":false,\"fPrimitives\":{\"_typename\":\"TList\",\"name\":\"TList\",\"arr\":[{\"_typename\":\"TFrame\",\"fUniqueID\":0,\"fBits\":8,\"fLineColor\":1,\"fLineStyle\":1,\"fLineWidth\":1,\"fFillColor\":0,\"fFillStyle\":1001,\"fX1\":220,\"fY1\":-0.825164010109714,\"fX2\":13000,\"fY2\":3.40196876104638,\"fBorderSize\":1,\"fBorderMode\":0},{\"_typename\":\"TH1F\",\"fUniqueID\":0,\"fBits\":8,\"fName\":\"htest\",\"fTitle\":\"\",\"fLineColor\":2,\"fLineStyle\":1,\"fLineWidth\":1,\"fFillColor\":0,\"fFillStyle\":1001,\"fMarkerColor\":1,\"fMarkerStyle\":1,\"fMarkerSize\":1,\"fNcells\":23,\"fXaxis\":{\"_typename\":\"TAxis\",\"fUniqueID\":0,\"fBits\":0,\"fName\":\"xaxis\",\"fTitle\":\"m4l  [GeV]\",\"fNdivisions\":510,\"fAxisColor\":1,\"fLabelColor\":1,\"fLabelFont\":42,\"fLabelOffset\":0.005,\"fLabelSize\":0.035,\"fTickLength\":0.03,\"fTitleOffset\":1,\"fTitleSize\":0.035,\"fTitleColor\":1,\"fTitleFont\":42,\"fNbins\":21,\"fXmin\":220,\"fXmax\":13000,\"fXbins\":[220,230,240,250,260,280,310,340,370,400,475,550,625,700,800,900,1000,1200,1600,2000,3000,13000],\"fFirst\":0,\"fLast\":0,\"fBits2\":0,\"fTimeDisplay\":false,\"fTimeFormat\":\"\",\"fLabels\":null,\"fModLabs\":null},\"fYaxis\":{\"_typename\":\"TAxis\",\"fUniqueID\":0,\"fBits\":0,\"fName\":\"yaxis\",\"fTitle\":\"\",\"fNdivisions\":510,\"fAxisColor\":1,\"fLabelColor\":1,\"fLabelFont\":42,\"fLabelOffset\":0.005,\"fLabelSize\":0.035,\"fTickLength\":0.03,\"fTitleOffset\":0,\"fTitleSize\":0.035,\"fTitleColor\":1,\"fTitleFont\":42,\"fNbins\":1,\"fXmin\":0,\"fXmax\":1,\"fXbins\":[],\"fFirst\":0,\"fLast\":0,\"fBits2\":0,\"fTimeDisplay\":false,\"fTimeFormat\":\"\",\"fLabels\":null,\"fModLabs\":null},\"fZaxis\":{\"_typename\":\"TAxis\",\"fUniqueID\":0,\"fBits\":0,\"fName\":\"zaxis\",\"fTitle\":\"\",\"fNdivisions\":510,\"fAxisColor\":1,\"fLabelColor\":1,\"fLabelFont\":42,\"fLabelOffset\":0.005,\"fLabelSize\":0.035,\"fTickLength\":0.03,\"fTitleOffset\":1,\"fTitleSize\":0.035,\"fTitleColor\":1,\"fTitleFont\":42,\"fNbins\":1,\"fXmin\":0,\"fXmax\":1,\"fXbins\":[],\"fFirst\":0,\"fLast\":0,\"fBits2\":0,\"fTimeDisplay\":false,\"fTimeFormat\":\"\",\"fLabels\":null,\"fModLabs\":null},\"fBarOffset\":0,\"fBarWidth\":1000,\"fEntries\":3446931,\"fTsumw\":6954.1944038171,\"fTsumw2\":4786.42869979296,\"fTsumwx\":3253919.40179962,\"fTsumwx2\":1850819006.20556,\"fMaximum\":-1111,\"fMinimum\":-1111,\"fNormFactor\":0,\"fContour\":[],\"fSumw2\":[0,916.614129121727,538.023242987433,517.357537725761,593.372050354673,611.755291622721,536.282816639033,311.634004493865,272.858547842301,174.38747978458,209.247779754986,66.2066747173984,22.987965597339,8.89300599860205,4.35981671841646,1.48489063071175,0.552896751788409,0.31815002120958,0.0838062235793358,0.00753295064678959,0.00105649162880495,2.33645668965442e-5,0],\"fOption\":\"\",\"fFunctions\":{\"_typename\":\"TList\",\"name\":\"TList\",\"arr\":[{\"_typename\":\"TPaveStats\",\"fUniqueID\":0,\"fBits\":9,\"fLineColor\":1,\"fLineStyle\":1,\"fLineWidth\":1,\"fFillColor\":0,\"fFillStyle\":1001,\"fX1\":11083.0003237426,\"fY1\":2.74147931870037,\"fX2\":14278.0004189611,\"fY2\":3.58690586663267,\"fX1NDC\":0.780000016093254,\"fY1NDC\":0.775000005960464,\"fX2NDC\":0.980000019073486,\"fY2NDC\":0.935000002384186,\"fBorderSize\":1,\"fInit\":1,\"fShadowColor\":1,\"fCornerRadius\":0,\"fOption\":\"brNDC\",\"fName\":\"stats\",\"fTextAngle\":0,\"fTextSize\":0,\"fTextAlign\":12,\"fTextColor\":1,\"fTextFont\":42,\"fLabel\":\"\",\"fLongest\":18,\"fMargin\":0.05,\"fLines\":{\"_typename\":\"TList\",\"name\":\"TList\",\"arr\":[{\"_typename\":\"TLatex\",\"fUniqueID\":0,\"fBits\":0,\"fName\":\"\",\"fTitle\":\"hf_nomlhe\",\"fTextAngle\":0,\"fTextSize\":0.0368,\"fTextAlign\":0,\"fTextColor\":0,\"fTextFont\":0,\"fX\":0,\"fY\":0,\"fLineColor\":1,\"fLineStyle\":1,\"fLineWidth\":2,\"fLimitFactorSize\":3,\"fOriginSize\":0.0367999991774559},{\"_typename\":\"TLatex\",\"fUniqueID\":0,\"fBits\":0,\"fName\":\"\",\"fTitle\":\"Entries = 3446931\",\"fTextAngle\":0,\"fTextSize\":0,\"fTextAlign\":0,\"fTextColor\":0,\"fTextFont\":0,\"fX\":0,\"fY\":0,\"fLineColor\":1,\"fLineStyle\":1,\"fLineWidth\":2,\"fLimitFactorSize\":3,\"fOriginSize\":0.0234277844429016},{\"_typename\":\"TLatex\",\"fUniqueID\":0,\"fBits\":0,\"fName\":\"\",\"fTitle\":\"Mean  =  467.9\",\"fTextAngle\":0,\"fTextSize\":0,\"fTextAlign\":0,\"fTextColor\":0,\"fTextFont\":0,\"fX\":0,\"fY\":0,\"fLineColor\":1,\"fLineStyle\":1,\"fLineWidth\":2,\"fLimitFactorSize\":3,\"fOriginSize\":0.0234277844429016},{\"_typename\":\"TLatex\",\"fUniqueID\":0,\"fBits\":0,\"fName\":\"\",\"fTitle\":\"Std Dev   =  217.3\",\"fTextAngle\":0,\"fTextSize\":0,\"fTextAlign\":0,\"fTextColor\":0,\"fTextFont\":0,\"fX\":0,\"fY\":0,\"fLineColor\":1,\"fLineStyle\":1,\"fLineWidth\":2,\"fLimitFactorSize\":3,\"fOriginSize\":0.0234277844429016}],\"opt\":[\"\",\"\",\"\",\"\"]},\"fOptFit\":0,\"fOptStat\":1111,\"fFitFormat\":\"5.4g\",\"fStatFormat\":\"6.4g\",\"fParent\":{\"$ref\":5}}],\"opt\":[\"brNDC\"]},\"fBufferSize\":0,\"fBuffer\":[],\"fBinStatErrOpt\":0,\"fStatOverflows\":2,\"fArray\":[0,180.3039,155.546,169.986,165.5266,317.1277,474.15,451.2163,585.6725,612.0833,1317.276,866.1148,546.5153,356.8496,289.5613,168.9051,101.4927,103.4254,67.01849,17.4572,7.661823,0.3039678,0]},{\"_typename\":\"TH1F\",\"fUniqueID\":0,\"fBits\":8,\"fName\":\"htest\",\"fTitle\":\"\",\"fLineColor\":602,\"fLineStyle\":2,\"fLineWidth\":1,\"fFillColor\":0,\"fFillStyle\":1001,\"fMarkerColor\":1,\"fMarkerStyle\":1,\"fMarkerSize\":1,\"fNcells\":23,\"fXaxis\":{\"_typename\":\"TAxis\",\"fUniqueID\":0,\"fBits\":0,\"fName\":\"xaxis\",\"fTitle\":\"\",\"fNdivisions\":510,\"fAxisColor\":1,\"fLabelColor\":1,\"fLabelFont\":42,\"fLabelOffset\":0.005,\"fLabelSize\":0.035,\"fTickLength\":0.03,\"fTitleOffset\":1,\"fTitleSize\":0.035,\"fTitleColor\":1,\"fTitleFont\":42,\"fNbins\":21,\"fXmin\":220,\"fXmax\":13000,\"fXbins\":[220,230,240,250,260,280,310,340,370,400,475,550,625,700,800,900,1000,1200,1600,2000,3000,13000],\"fFirst\":0,\"fLast\":0,\"fBits2\":0,\"fTimeDisplay\":false,\"fTimeFormat\":\"\",\"fLabels\":null,\"fModLabs\":null},\"fYaxis\":{\"_typename\":\"TAxis\",\"fUniqueID\":0,\"fBits\":0,\"fName\":\"yaxis\",\"fTitle\":\"\",\"fNdivisions\":510,\"fAxisColor\":1,\"fLabelColor\":1,\"fLabelFont\":42,\"fLabelOffset\":0.005,\"fLabelSize\":0.035,\"fTickLength\":0.03,\"fTitleOffset\":0,\"fTitleSize\":0.035,\"fTitleColor\":1,\"fTitleFont\":42,\"fNbins\":1,\"fXmin\":0,\"fXmax\":1,\"fXbins\":[],\"fFirst\":0,\"fLast\":0,\"fBits2\":0,\"fTimeDisplay\":false,\"fTimeFormat\":\"\",\"fLabels\":null,\"fModLabs\":null},\"fZaxis\":{\"_typename\":\"TAxis\",\"fUniqueID\":0,\"fBits\":0,\"fName\":\"zaxis\",\"fTitle\":\"\",\"fNdivisions\":510,\"fAxisColor\":1,\"fLabelColor\":1,\"fLabelFont\":42,\"fLabelOffset\":0.005,\"fLabelSize\":0.035,\"fTickLength\":0.03,\"fTitleOffset\":1,\"fTitleSize\":0.035,\"fTitleColor\":1,\"fTitleFont\":42,\"fNbins\":1,\"fXmin\":0,\"fXmax\":1,\"fXbins\":[],\"fFirst\":0,\"fLast\":0,\"fBits2\":0,\"fTimeDisplay\":false,\"fTimeFormat\":\"\",\"fLabels\":null,\"fModLabs\":null},\"fBarOffset\":0,\"fBarWidth\":1000,\"fEntries\":3446931,\"fTsumw\":6131.04937109565,\"fTsumw2\":3641.34723505213,\"fTsumwx\":2882760.42787948,\"fTsumwx2\":1648975173.04109,\"fMaximum\":-1111,\"fMinimum\":-1111,\"fNormFactor\":0,\"fContour\":[],\"fSumw2\":[0,694.409322272397,404.818559035577,390.334398624065,452.994668260505,464.160304521957,407.539415209416,237.465592613911,209.336945077902,134.300000046514,163.005957982742,52.1583996398673,18.232591293948,7.11477579290844,3.4985780004436,1.19753329398913,0.445753561892087,0.259197392047827,0.0680996132008057,0.0062380386060129,8.84047316649517e-4,2.07328638525125e-5,0],\"fOption\":\"\",\"fFunctions\":{\"_typename\":\"TList\",\"name\":\"TList\",\"arr\":[],\"opt\":[]},\"fBufferSize\":0,\"fBuffer\":[],\"fBinStatErrOpt\":0,\"fStatOverflows\":2,\"fArray\":[0,156.1254,134.2537,147.1122,143.4312,275.7878,412.9106,393.6738,512.9078,537.2562,1162.707,768.8891,487.2365,319.1356,259.3875,151.7544,91.35783,93.35232,60.65319,15.8586,6.979697,0.2779638,0]},{\"_typename\":\"TH1F\",\"fUniqueID\":0,\"fBits\":8,\"fName\":\"htest\",\"fTitle\":\"\",\"fLineColor\":602,\"fLineStyle\":2,\"fLineWidth\":1,\"fFillColor\":0,\"fFillStyle\":1001,\"fMarkerColor\":1,\"fMarkerStyle\":1,\"fMarkerSize\":1,\"fNcells\":23,\"fXaxis\":{\"_typename\":\"TAxis\",\"fUniqueID\":0,\"fBits\":0,\"fName\":\"xaxis\",\"fTitle\":\"\",\"fNdivisions\":510,\"fAxisColor\":1,\"fLabelColor\":1,\"fLabelFont\":42,\"fLabelOffset\":0.005,\"fLabelSize\":0.035,\"fTickLength\":0.03,\"fTitleOffset\":1,\"fTitleSize\":0.035,\"fTitleColor\":1,\"fTitleFont\":42,\"fNbins\":21,\"fXmin\":220,\"fXmax\":13000,\"fXbins\":[220,230,240,250,260,280,310,340,370,400,475,550,625,700,800,900,1000,1200,1600,2000,3000,13000],\"fFirst\":0,\"fLast\":0,\"fBits2\":0,\"fTimeDisplay\":false,\"fTimeFormat\":\"\",\"fLabels\":null,\"fModLabs\":null},\"fYaxis\":{\"_typename\":\"TAxis\",\"fUniqueID\":0,\"fBits\":0,\"fName\":\"yaxis\",\"fTitle\":\"\",\"fNdivisions\":510,\"fAxisColor\":1,\"fLabelColor\":1,\"fLabelFont\":42,\"fLabelOffset\":0.005,\"fLabelSize\":0.035,\"fTickLength\":0.03,\"fTitleOffset\":0,\"fTitleSize\":0.035,\"fTitleColor\":1,\"fTitleFont\":42,\"fNbins\":1,\"fXmin\":0,\"fXmax\":1,\"fXbins\":[],\"fFirst\":0,\"fLast\":0,\"fBits2\":0,\"fTimeDisplay\":false,\"fTimeFormat\":\"\",\"fLabels\":null,\"fModLabs\":null},\"fZaxis\":{\"_typename\":\"TAxis\",\"fUniqueID\":0,\"fBits\":0,\"fName\":\"zaxis\",\"fTitle\":\"\",\"fNdivisions\":510,\"fAxisColor\":1,\"fLabelColor\":1,\"fLabelFont\":42,\"fLabelOffset\":0.005,\"fLabelSize\":0.035,\"fTickLength\":0.03,\"fTitleOffset\":1,\"fTitleSize\":0.035,\"fTitleColor\":1,\"fTitleFont\":42,\"fNbins\":1,\"fXmin\":0,\"fXmax\":1,\"fXbins\":[],\"fFirst\":0,\"fLast\":0,\"fBits2\":0,\"fTimeDisplay\":false,\"fTimeFormat\":\"\",\"fLabels\":null,\"fModLabs\":null},\"fBarOffset\":0,\"fBarWidth\":1000,\"fEntries\":3446931,\"fTsumw\":7942.04486998447,\"fTsumw2\":6417.13957945238,\"fTsumwx\":3695337.35729208,\"fTsumwx2\":2088199123.18161,\"fMaximum\":-1111,\"fMinimum\":-1111,\"fNormFactor\":0,\"fContour\":[],\"fSumw2\":[0,1232.34961436512,730.820759796674,700.617837965755,791.498202932378,824.858047668731,719.66965462294,417.209887733328,362.184474128133,230.526152532686,273.038511655448,85.166401412525,29.3576937880736,11.2752520508032,5.49675036873539,1.86334628908925,0.694448964310769,0.397163030962009,0.104881080154669,0.00920021679645489,0.00127271271138513,2.61370766716407e-5,0],\"fOption\":\"\",\"fFunctions\":{\"_typename\":\"TList\",\"name\":\"TList\",\"arr\":[],\"opt\":[]},\"fBufferSize\":0,\"fBuffer\":[],\"fBinStatErrOpt\":0,\"fStatOverflows\":2,\"fArray\":[0,209.9815,181.9724,198.2143,192.8409,367.0719,549.3441,521.7935,674.3228,702.8557,1502.513,981.0782,615.904,400.6789,324.5378,188.6489,113.1171,114.9077,74.24394,19.25875,8.427278,0.3329597,0]},{\"_typename\":\"TLegend\",\"fUniqueID\":0,\"fBits\":8,\"fLineColor\":1,\"fLineStyle\":1,\"fLineWidth\":1,\"fFillColor\":0,\"fFillStyle\":0,\"fX1\":6610,\"fY1\":1.28840237546833,\"fX2\":13000.0000952184,\"fY2\":3.56048627382143,\"fX1NDC\":0.5,\"fY1NDC\":0.5,\"fX2NDC\":0.9,\"fY2NDC\":0.93,\"fBorderSize\":0,\"fInit\":1,\"fShadowColor\":1,\"fCornerRadius\":0,\"fOption\":\"brNDC\",\"fName\":\"TPave\",\"fTextAngle\":0,\"fTextSize\":0.035,\"fTextAlign\":12,\"fTextColor\":1,\"fTextFont\":42,\"fPrimitives\":{\"_typename\":\"TList\",\"name\":\"TList\",\"arr\":[{\"_typename\":\"TLegendEntry\",\"fUniqueID\":0,\"fBits\":0,\"fTextAngle\":0,\"fTextSize\":0,\"fTextAlign\":0,\"fTextColor\":0,\"fTextFont\":42,\"fLineColor\":1,\"fLineStyle\":1,\"fLineWidth\":1,\"fFillColor\":0,\"fFillStyle\":0,\"fMarkerColor\":1,\"fMarkerStyle\":21,\"fMarkerSize\":1,\"fObject\":null,\"fLabel\":\"QCDscale Renormalization \",\"fOption\":\"h\"}],\"opt\":[\"h\"]},\"fEntrySeparation\":0.1,\"fMargin\":0.25,\"fNColumns\":1,\"fColumnSeparation\":0}],\"opt\":[\"\",\"\",\"same\",\"same\",\"\"]},\"fExecs\":{\"_typename\":\"TList\",\"name\":\"TList\",\"arr\":[],\"opt\":[]},\"fName\":\"c1_1\",\"fTitle\":\"c1_1\",\"fNumPaletteColor\":0,\"fNextPaletteColor\":0},{\"_typename\":\"TPad\",\"fUniqueID\":0,\"fBits\":9,\"fLineColor\":1,\"fLineStyle\":1,\"fLineWidth\":1,\"fFillColor\":0,\"fFillStyle\":1001,\"fLeftMargin\":0.1,\"fRightMargin\":0.1,\"fBottomMargin\":0.1,\"fTopMargin\":0.1,\"fXfile\":2,\"fYfile\":2,\"fAfile\":1,\"fXstat\":0.99,\"fYstat\":0.99,\"fAstat\":2,\"fFrameFillColor\":0,\"fFrameLineColor\":1,\"fFrameFillStyle\":1001,\"fFrameLineStyle\":1,\"fFrameLineWidth\":1,\"fFrameBorderSize\":1,\"fFrameBorderMode\":0,\"fX1\":-1377.50011902303,\"fY1\":-1.35355564587247,\"fX2\":14597.500119023,\"fY2\":3.93036039680914,\"fXtoAbsPixelk\":665.151510623162,\"fXtoPixelk\":48.5248443579325,\"fXtoPixel\":0.0352267079238787,\"fYtoAbsPixelk\":430.171730087985,\"fYtoPixelk\":418.451730349947,\"fYtoPixel\":-106.466491136453,\"fUtoAbsPixelk\":616.626716265229,\"fUtoPixelk\":5e-5,\"fUtoPixel\":562.746667469541,\"fVtoAbsPixelk\":574.280050261962,\"fVtoPixelk\":562.560000523925,\"fVtoPixel\":-562.560000523925,\"fAbsPixeltoXk\":-18882.0216200868,\"fPixeltoXk\":-1377.50011902303,\"fPixeltoX\":28.3875519154642,\"fAbsPixeltoYk\":4.04044197846863,\"fPixeltoYk\":-1.35355564587247,\"fPixeltoY\":-0.00939262663140034,\"fXlowNDC\":0.343333333109816,\"fYlowNDC\":0.509999999776483,\"fXUpNDC\":0.656666666890184,\"fYUpNDC\":0.990000000223517,\"fWNDC\":0.313333333780368,\"fHNDC\":0.480000000447035,\"fAbsXlowNDC\":0.343333333109816,\"fAbsYlowNDC\":0.509999999776483,\"fAbsWNDC\":0.313333333780368,\"fAbsHNDC\":0.480000000447035,\"fUxmin\":220,\"fUymin\":-0.825164010109714,\"fUxmax\":13000,\"fUymax\":3.40196876104638,\"fTheta\":30,\"fPhi\":30,\"fAspectRatio\":0,\"fNumber\":2,\"fTickx\":0,\"fTicky\":0,\"fLogx\":0,\"fLogy\":1,\"fLogz\":0,\"fPadPaint\":0,\"fCrosshair\":0,\"fCrosshairPos\":0,\"fBorderSize\":2,\"fBorderMode\":0,\"fModified\":false,\"fGridx\":false,\"fGridy\":false,\"fAbsCoord\":false,\"fEditable\":true,\"fFixedAspectRatio\":false,\"fPrimitives\":{\"_typename\":\"TList\",\"name\":\"TList\",\"arr\":[{\"_typename\":\"TFrame\",\"fUniqueID\":0,\"fBits\":8,\"fLineColor\":1,\"fLineStyle\":1,\"fLineWidth\":1,\"fFillColor\":0,\"fFillStyle\":1001,\"fX1\":220,\"fY1\":-0.825164010109714,\"fX2\":13000,\"fY2\":3.40196876104638,\"fBorderSize\":1,\"fBorderMode\":0},{\"$ref\":5},{\"_typename\":\"TH1F\",\"fUniqueID\":0,\"fBits\":8,\"fName\":\"htest\",\"fTitle\":\"\",\"fLineColor\":4,\"fLineStyle\":2,\"fLineWidth\":1,\"fFillColor\":0,\"fFillStyle\":1001,\"fMarkerColor\":1,\"fMarkerStyle\":1,\"fMarkerSize\":1,\"fNcells\":23,\"fXaxis\":{\"_typename\":\"TAxis\",\"fUniqueID\":0,\"fBits\":0,\"fName\":\"xaxis\",\"fTitle\":\"\",\"fNdivisions\":510,\"fAxisColor\":1,\"fLabelColor\":1,\"fLabelFont\":42,\"fLabelOffset\":0.005,\"fLabelSize\":0.035,\"fTickLength\":0.03,\"fTitleOffset\":1,\"fTitleSize\":0.035,\"fTitleColor\":1,\"fTitleFont\":42,\"fNbins\":21,\"fXmin\":220,\"fXmax\":13000,\"fXbins\":[220,230,240,250,260,280,310,340,370,400,475,550,625,700,800,900,1000,1200,1600,2000,3000,13000],\"fFirst\":0,\"fLast\":0,\"fBits2\":0,\"fTimeDisplay\":false,\"fTimeFormat\":\"\",\"fLabels\":null,\"fModLabs\":null},\"fYaxis\":{\"_typename\":\"TAxis\",\"fUniqueID\":0,\"fBits\":0,\"fName\":\"yaxis\",\"fTitle\":\"\",\"fNdivisions\":510,\"fAxisColor\":1,\"fLabelColor\":1,\"fLabelFont\":42,\"fLabelOffset\":0.005,\"fLabelSize\":0.035,\"fTickLength\":0.03,\"fTitleOffset\":0,\"fTitleSize\":0.035,\"fTitleColor\":1,\"fTitleFont\":42,\"fNbins\":1,\"fXmin\":0,\"fXmax\":1,\"fXbins\":[],\"fFirst\":0,\"fLast\":0,\"fBits2\":0,\"fTimeDisplay\":false,\"fTimeFormat\":\"\",\"fLabels\":null,\"fModLabs\":null},\"fZaxis\":{\"_typename\":\"TAxis\",\"fUniqueID\":0,\"fBits\":0,\"fName\":\"zaxis\",\"fTitle\":\"\",\"fNdivisions\":510,\"fAxisColor\":1,\"fLabelColor\":1,\"fLabelFont\":42,\"fLabelOffset\":0.005,\"fLabelSize\":0.035,\"fTickLength\":0.03,\"fTitleOffset\":1,\"fTitleSize\":0.035,\"fTitleColor\":1,\"fTitleFont\":42,\"fNbins\":1,\"fXmin\":0,\"fXmax\":1,\"fXbins\":[],\"fFirst\":0,\"fLast\":0,\"fBits2\":0,\"fTimeDisplay\":false,\"fTimeFormat\":\"\",\"fLabels\":null,\"fModLabs\":null},\"fBarOffset\":0,\"fBarWidth\":1000,\"fEntries\":3446930,\"fTsumw\":6795.10410618574,\"fTsumw2\":4700.49674772675,\"fTsumwx\":3164755.88362495,\"fTsumwx2\":1789424981.18114,\"fMaximum\":-1111,\"fMinimum\":-1111,\"fNormFactor\":0,\"fContour\":[],\"fSumw2\":[0,899.47101927514,535.495755914667,510.589284633796,596.641797053629,600.885479741949,524.870711415835,303.261869103229,263.135711140798,167.704190077937,199.663985594257,62.6213744999145,21.56845224781,8.30125918453156,4.04055228747025,1.36845799235977,0.505671993190973,0.288559412134005,0.0750554815235356,0.00661896101316741,9.20775657632716e-4,2.09398994682407e-5,0],\"fOption\":\"\",\"fFunctions\":{\"_typename\":\"TList\",\"name\":\"TList\",\"arr\":[],\"opt\":[]},\"fBufferSize\":0,\"fBuffer\":[],\"fBinStatErrOpt\":0,\"fStatOverflows\":2,\"fArray\":[0,178.8408,154.7351,168.7226,164.3467,314.3971,468.5938,444.5499,574.968,599.804,1285.893,842.1353,529.4694,344.7056,278.6906,162.1122,97.11617,98.61279,63.5282,16.44016,7.160526,0.2809578,0]},{\"_typename\":\"TH1F\",\"fUniqueID\":0,\"fBits\":8,\"fName\":\"htest\",\"fTitle\":\"\",\"fLineColor\":4,\"fLineStyle\":2,\"fLineWidth\":1,\"fFillColor\":0,\"fFillStyle\":1001,\"fMarkerColor\":1,\"fMarkerStyle\":1,\"fMarkerSize\":1,\"fNcells\":23,\"fXaxis\":{\"_typename\":\"TAxis\",\"fUniqueID\":0,\"fBits\":0,\"fName\":\"xaxis\",\"fTitle\":\"\",\"fNdivisions\":510,\"fAxisColor\":1,\"fLabelColor\":1,\"fLabelFont\":42,\"fLabelOffset\":0.005,\"fLabelSize\":0.035,\"fTickLength\":0.03,\"fTitleOffset\":1,\"fTitleSize\":0.035,\"fTitleColor\":1,\"fTitleFont\":42,\"fNbins\":21,\"fXmin\":220,\"fXmax\":13000,\"fXbins\":[220,230,240,250,260,280,310,340,370,400,475,550,625,700,800,900,1000,1200,1600,2000,3000,13000],\"fFirst\":0,\"fLast\":0,\"fBits2\":0,\"fTimeDisplay\":false,\"fTimeFormat\":\"\",\"fLabels\":null,\"fModLabs\":null},\"fYaxis\":{\"_typename\":\"TAxis\",\"fUniqueID\":0,\"fBits\":0,\"fName\":\"yaxis\",\"fTitle\":\"\",\"fNdivisions\":510,\"fAxisColor\":1,\"fLabelColor\":1,\"fLabelFont\":42,\"fLabelOffset\":0.005,\"fLabelSize\":0.035,\"fTickLength\":0.03,\"fTitleOffset\":0,\"fTitleSize\":0.035,\"fTitleColor\":1,\"fTitleFont\":42,\"fNbins\":1,\"fXmin\":0,\"fXmax\":1,\"fXbins\":[],\"fFirst\":0,\"fLast\":0,\"fBits2\":0,\"fTimeDisplay\":false,\"fTimeFormat\":\"\",\"fLabels\":null,\"fModLabs\":null},\"fZaxis\":{\"_typename\":\"TAxis\",\"fUniqueID\":0,\"fBits\":0,\"fName\":\"zaxis\",\"fTitle\":\"\",\"fNdivisions\":510,\"fAxisColor\":1,\"fLabelColor\":1,\"fLabelFont\":42,\"fLabelOffset\":0.005,\"fLabelSize\":0.035,\"fTickLength\":0.03,\"fTitleOffset\":1,\"fTitleSize\":0.035,\"fTitleColor\":1,\"fTitleFont\":42,\"fNbins\":1,\"fXmin\":0,\"fXmax\":1,\"fXbins\":[],\"fFirst\":0,\"fLast\":0,\"fBits2\":0,\"fTimeDisplay\":false,\"fTimeFormat\":\"\",\"fLabels\":null,\"fModLabs\":null},\"fBarOffset\":0,\"fBarWidth\":1000,\"fEntries\":3446930,\"fTsumw\":7136.57331305461,\"fTsumw2\":4887.57758783667,\"fTsumwx\":3356510.7211863,\"fTsumwx2\":1921452618.77947,\"fMaximum\":-1111,\"fMinimum\":-1111,\"fNormFactor\":0,\"fContour\":[],\"fSumw2\":[0,935.158982755087,540.968211893631,524.487252948119,591.011644059103,624.563006717474,550.109534027567,321.425021535236,284.387544866832,182.348273690706,220.773371653041,70.5555750000005,24.7185968420273,9.61980865096623,4.75178793416775,1.62809276795169,0.611080615878242,0.355060000299704,0.094792301969405,0.00869670534749101,0.00122693920919668,2.59320958232725e-5,0],\"fOption\":\"\",\"fFunctions\":{\"_typename\":\"TList\",\"name\":\"TList\",\"arr\":[],\"opt\":[]},\"fBufferSize\":0,\"fBuffer\":[],\"fBinStatErrOpt\":0,\"fStatOverflows\":2,\"fArray\":[0,181.6886,156.3011,171.2019,166.7977,320.1125,480.4301,458.6959,597.8527,626.1221,1353.5,893.9407,566.346,370.9752,302.1938,176.7673,106.5385,108.9465,70.99747,18.60841,8.226101,0.3295515,0]},{\"_typename\":\"TLegend\",\"fUniqueID\":0,\"fBits\":8,\"fLineColor\":1,\"fLineStyle\":1,\"fLineWidth\":1,\"fFillColor\":0,\"fFillStyle\":0,\"fX1\":6610,\"fY1\":1.28840237546833,\"fX2\":13000.0000952184,\"fY2\":3.56048627382143,\"fX1NDC\":0.5,\"fY1NDC\":0.5,\"fX2NDC\":0.9,\"fY2NDC\":0.93,\"fBorderSize\":0,\"fInit\":1,\"fShadowColor\":1,\"fCornerRadius\":0,\"fOption\":\"brNDC\",\"fName\":\"TPave\",\"fTextAngle\":0,\"fTextSize\":0.035,\"fTextAlign\":12,\"fTextColor\":1,\"fTextFont\":42,\"fPrimitives\":{\"_typename\":\"TList\",\"name\":\"TList\",\"arr\":[{\"_typename\":\"TLegendEntry\",\"fUniqueID\":0,\"fBits\":0,\"fTextAngle\":0,\"fTextSize\":0,\"fTextAlign\":0,\"fTextColor\":0,\"fTextFont\":42,\"fLineColor\":1,\"fLineStyle\":1,\"fLineWidth\":1,\"fFillColor\":0,\"fFillStyle\":0,\"fMarkerColor\":1,\"fMarkerStyle\":21,\"fMarkerSize\":1,\"fObject\":null,\"fLabel\":\"QCDscale Factorization \",\"fOption\":\"h\"}],\"opt\":[\"h\"]},\"fEntrySeparation\":0.1,\"fMargin\":0.25,\"fNColumns\":1,\"fColumnSeparation\":0}],\"opt\":[\"\",\"\",\"same\",\"same\",\"\"]},\"fExecs\":{\"_typename\":\"TList\",\"name\":\"TList\",\"arr\":[],\"opt\":[]},\"fName\":\"c1_2\",\"fTitle\":\"c1_2\",\"fNumPaletteColor\":0,\"fNextPaletteColor\":0},{\"_typename\":\"TPad\",\"fUniqueID\":0,\"fBits\":9,\"fLineColor\":1,\"fLineStyle\":1,\"fLineWidth\":1,\"fFillColor\":0,\"fFillStyle\":1001,\"fLeftMargin\":0.1,\"fRightMargin\":0.1,\"fBottomMargin\":0.1,\"fTopMargin\":0.1,\"fXfile\":2,\"fYfile\":2,\"fAfile\":1,\"fXstat\":0.99,\"fYstat\":0.99,\"fAstat\":2,\"fFrameFillColor\":0,\"fFrameLineColor\":1,\"fFrameFillStyle\":1001,\"fFrameLineStyle\":1,\"fFrameLineWidth\":1,\"fFrameBorderSize\":1,\"fFrameBorderMode\":0,\"fX1\":-1377.50011902303,\"fY1\":-1.35355564587247,\"fX2\":14597.500119023,\"fY2\":3.93036039680914,\"fXtoAbsPixelk\":1263.81817728983,\"fXtoPixelk\":48.5248443579325,\"fXtoPixel\":0.0352267079238787,\"fYtoAbsPixelk\":430.171730087985,\"fYtoPixelk\":418.451730349947,\"fYtoPixel\":-106.466491136453,\"fUtoAbsPixelk\":1215.2933829319,\"fUtoPixelk\":5e-5,\"fUtoPixel\":562.746667469541,\"fVtoAbsPixelk\":574.280050261962,\"fVtoPixelk\":562.560000523925,\"fVtoPixel\":-562.560000523925,\"fAbsPixeltoXk\":-35876.7027001447,\"fPixeltoXk\":-1377.50011902303,\"fPixeltoX\":28.3875519154642,\"fAbsPixeltoYk\":4.04044197846863,\"fPixeltoYk\":-1.35355564587247,\"fPixeltoY\":-0.00939262663140034,\"fXlowNDC\":0.676666666443149,\"fYlowNDC\":0.509999999776483,\"fXUpNDC\":0.990000000223517,\"fYUpNDC\":0.990000000223517,\"fWNDC\":0.313333333780368,\"fHNDC\":0.480000000447035,\"fAbsXlowNDC\":0.676666666443149,\"fAbsYlowNDC\":0.509999999776483,\"fAbsWNDC\":0.313333333780368,\"fAbsHNDC\":0.480000000447035,\"fUxmin\":220,\"fUymin\":-0.825164010109714,\"fUxmax\":13000,\"fUymax\":3.40196876104638,\"fTheta\":30,\"fPhi\":30,\"fAspectRatio\":0,\"fNumber\":3,\"fTickx\":0,\"fTicky\":0,\"fLogx\":0,\"fLogy\":1,\"fLogz\":0,\"fPadPaint\":0,\"fCrosshair\":0,\"fCrosshairPos\":0,\"fBorderSize\":2,\"fBorderMode\":0,\"fModified\":false,\"fGridx\":false,\"fGridy\":false,\"fAbsCoord\":false,\"fEditable\":true,\"fFixedAspectRatio\":false,\"fPrimitives\":{\"_typename\":\"TList\",\"name\":\"TList\",\"arr\":[{\"_typename\":\"TFrame\",\"fUniqueID\":0,\"fBits\":8,\"fLineColor\":1,\"fLineStyle\":1,\"fLineWidth\":1,\"fFillColor\":0,\"fFillStyle\":1001,\"fX1\":220,\"fY1\":-0.825164010109714,\"fX2\":13000,\"fY2\":3.40196876104638,\"fBorderSize\":1,\"fBorderMode\":0},{\"$ref\":5},{\"_typename\":\"TH1F\",\"fUniqueID\":0,\"fBits\":8,\"fName\":\"htest\",\"fTitle\":\"\",\"fLineColor\":602,\"fLineStyle\":2,\"fLineWidth\":1,\"fFillColor\":0,\"fFillStyle\":1001,\"fMarkerColor\":1,\"fMarkerStyle\":1,\"fMarkerSize\":1,\"fNcells\":23,\"fXaxis\":{\"_typename\":\"TAxis\",\"fUniqueID\":0,\"fBits\":0,\"fName\":\"xaxis\",\"fTitle\":\"\",\"fNdivisions\":510,\"fAxisColor\":1,\"fLabelColor\":1,\"fLabelFont\":42,\"fLabelOffset\":0.005,\"fLabelSize\":0.035,\"fTickLength\":0.03,\"fTitleOffset\":1,\"fTitleSize\":0.035,\"fTitleColor\":1,\"fTitleFont\":42,\"fNbins\":21,\"fXmin\":220,\"fXmax\":13000,\"fXbins\":[220,230,240,250,260,280,310,340,370,400,475,550,625,700,800,900,1000,1200,1600,2000,3000,13000],\"fFirst\":0,\"fLast\":0,\"fBits2\":0,\"fTimeDisplay\":false,\"fTimeFormat\":\"\",\"fLabels\":null,\"fModLabs\":null},\"fYaxis\":{\"_typename\":\"TAxis\",\"fUniqueID\":0,\"fBits\":0,\"fName\":\"yaxis\",\"fTitle\":\"\",\"fNdivisions\":510,\"fAxisColor\":1,\"fLabelColor\":1,\"fLabelFont\":42,\"fLabelOffset\":0.005,\"fLabelSize\":0.035,\"fTickLength\":0.03,\"fTitleOffset\":0,\"fTitleSize\":0.035,\"fTitleColor\":1,\"fTitleFont\":42,\"fNbins\":1,\"fXmin\":0,\"fXmax\":1,\"fXbins\":[],\"fFirst\":0,\"fLast\":0,\"fBits2\":0,\"fTimeDisplay\":false,\"fTimeFormat\":\"\",\"fLabels\":null,\"fModLabs\":null},\"fZaxis\":{\"_typename\":\"TAxis\",\"fUniqueID\":0,\"fBits\":0,\"fName\":\"zaxis\",\"fTitle\":\"\",\"fNdivisions\":510,\"fAxisColor\":1,\"fLabelColor\":1,\"fLabelFont\":42,\"fLabelOffset\":0.005,\"fLabelSize\":0.035,\"fTickLength\":0.03,\"fTitleOffset\":1,\"fTitleSize\":0.035,\"fTitleColor\":1,\"fTitleFont\":42,\"fNbins\":1,\"fXmin\":0,\"fXmax\":1,\"fXbins\":[],\"fFirst\":0,\"fLast\":0,\"fBits2\":0,\"fTimeDisplay\":false,\"fTimeFormat\":\"\",\"fLabels\":null,\"fModLabs\":null},\"fBarOffset\":0,\"fBarWidth\":1000,\"fEntries\":3446931,\"fTsumw\":7093.40315602015,\"fTsumw2\":4954.29641996738,\"fTsumwx\":3326660.05657403,\"fTsumwx2\":1901295974.34845,\"fMaximum\":-1111,\"fMinimum\":-1111,\"fNormFactor\":0,\"fContour\":[],\"fSumw2\":[0,947.616921212173,556.800245660519,535.355602521752,614.598846795219,633.12121672787,554.95623547784,322.558154825754,282.537906997419,180.699891248042,216.956957605175,68.7101383398562,23.9237803184508,9.27891141663449,4.57592684099885,1.5710337173863,0.589075686022868,0.343402999958064,0.0923936649107514,0.008456392379297,0.00128889661781008,3.26223942202029e-5,0],\"fOption\":\"\",\"fFunctions\":{\"_typename\":\"TList\",\"name\":\"TList\",\"arr\":[],\"opt\":[]},\"fBufferSize\":0,\"fBuffer\":[],\"fBinStatErrOpt\":0,\"fStatOverflows\":2,\"fArray\":[0,183.5166,158.3615,173.0262,168.4465,322.7816,482.5444,459.2987,596.1743,623.1591,1341.628,882.533,557.5206,364.6122,296.6349,173.6317,104.7224,107.3367,70.19745,18.53887,8.383501,0.3542589,0]},{\"_typename\":\"TH1F\",\"fUniqueID\":0,\"fBits\":8,\"fName\":\"htest\",\"fTitle\":\"\",\"fLineColor\":602,\"fLineStyle\":2,\"fLineWidth\":1,\"fFillColor\":0,\"fFillStyle\":1001,\"fMarkerColor\":1,\"fMarkerStyle\":1,\"fMarkerSize\":1,\"fNcells\":23,\"fXaxis\":{\"_typename\":\"TAxis\",\"fUniqueID\":0,\"fBits\":0,\"fName\":\"xaxis\",\"fTitle\":\"\",\"fNdivisions\":510,\"fAxisColor\":1,\"fLabelColor\":1,\"fLabelFont\":42,\"fLabelOffset\":0.005,\"fLabelSize\":0.035,\"fTickLength\":0.03,\"fTitleOffset\":1,\"fTitleSize\":0.035,\"fTitleColor\":1,\"fTitleFont\":42,\"fNbins\":21,\"fXmin\":220,\"fXmax\":13000,\"fXbins\":[220,230,240,250,260,280,310,340,370,400,475,550,625,700,800,900,1000,1200,1600,2000,3000,13000],\"fFirst\":0,\"fLast\":0,\"fBits2\":0,\"fTimeDisplay\":false,\"fTimeFormat\":\"\",\"fLabels\":null,\"fModLabs\":null},\"fYaxis\":{\"_typename\":\"TAxis\",\"fUniqueID\":0,\"fBits\":0,\"fName\":\"yaxis\",\"fTitle\":\"\",\"fNdivisions\":510,\"fAxisColor\":1,\"fLabelColor\":1,\"fLabelFont\":42,\"fLabelOffset\":0.005,\"fLabelSize\":0.035,\"fTickLength\":0.03,\"fTitleOffset\":0,\"fTitleSize\":0.035,\"fTitleColor\":1,\"fTitleFont\":42,\"fNbins\":1,\"fXmin\":0,\"fXmax\":1,\"fXbins\":[],\"fFirst\":0,\"fLast\":0,\"fBits2\":0,\"fTimeDisplay\":false,\"fTimeFormat\":\"\",\"fLabels\":null,\"fModLabs\":null},\"fZaxis\":{\"_typename\":\"TAxis\",\"fUniqueID\":0,\"fBits\":0,\"fName\":\"zaxis\",\"fTitle\":\"\",\"fNdivisions\":510,\"fAxisColor\":1,\"fLabelColor\":1,\"fLabelFont\":42,\"fLabelOffset\":0.005,\"fLabelSize\":0.035,\"fTickLength\":0.03,\"fTitleOffset\":1,\"fTitleSize\":0.035,\"fTitleColor\":1,\"fTitleFont\":42,\"fNbins\":1,\"fXmin\":0,\"fXmax\":1,\"fXbins\":[],\"fFirst\":0,\"fLast\":0,\"fBits2\":0,\"fTimeDisplay\":false,\"fTimeFormat\":\"\",\"fLabels\":null,\"fModLabs\":null},\"fBarOffset\":0,\"fBarWidth\":1000,\"fEntries\":3446462,\"fTsumw\":6828.47007029242,\"fTsumw2\":4640.63680714495,\"fTsumwx\":3187843.11719656,\"fTsumwx2\":1804795452.698,\"fMaximum\":-1111,\"fMinimum\":-1111,\"fNormFactor\":0,\"fContour\":[],\"fSumw2\":[0,889.602176148462,522.280725802431,501.772267909649,574.403228349438,593.121552923932,520.19561978504,302.184706397214,264.605214723856,168.937233735495,202.426474432371,63.9579979298319,22.1299718889179,8.53728000323604,4.16671029000337,1.41138587443304,0.522448633719012,0.297590876460007,0.0765697257010995,0.00675405881751944,8.80955427389056e-4,1.67005035448478e-5,0],\"fOption\":\"\",\"fFunctions\":{\"_typename\":\"TList\",\"name\":\"TList\",\"arr\":[],\"opt\":[]},\"fBufferSize\":0,\"fBuffer\":[],\"fBinStatErrOpt\":0,\"fStatOverflows\":2,\"fArray\":[0,177.4664,153.1116,167.3076,162.9754,312.1109,466.7276,444.0735,576.5085,602.2999,1295.24,850.9346,536.1157,349.4947,282.9928,164.6361,98.63514,100.0127,64.13926,16.43083,6.998829,0.2580423,0]},{\"_typename\":\"TLegend\",\"fUniqueID\":0,\"fBits\":8,\"fLineColor\":1,\"fLineStyle\":1,\"fLineWidth\":1,\"fFillColor\":0,\"fFillStyle\":0,\"fX1\":6610,\"fY1\":1.28840237546833,\"fX2\":13000.0000952184,\"fY2\":3.56048627382143,\"fX1NDC\":0.5,\"fY1NDC\":0.5,\"fX2NDC\":0.9,\"fY2NDC\":0.93,\"fBorderSize\":0,\"fInit\":1,\"fShadowColor\":1,\"fCornerRadius\":0,\"fOption\":\"brNDC\",\"fName\":\"TPave\",\"fTextAngle\":0,\"fTextSize\":0.035,\"fTextAlign\":12,\"fTextColor\":1,\"fTextFont\":42,\"fPrimitives\":{\"_typename\":\"TList\",\"name\":\"TList\",\"arr\":[{\"_typename\":\"TLegendEntry\",\"fUniqueID\":0,\"fBits\":0,\"fTextAngle\":0,\"fTextSize\":0,\"fTextAlign\":0,\"fTextColor\":0,\"fTextFont\":42,\"fLineColor\":1,\"fLineStyle\":1,\"fLineWidth\":1,\"fFillColor\":0,\"fFillStyle\":0,\"fMarkerColor\":1,\"fMarkerStyle\":21,\"fMarkerSize\":1,\"fObject\":null,\"fLabel\":\"PDF variation\",\"fOption\":\"h\"}],\"opt\":[\"h\"]},\"fEntrySeparation\":0.1,\"fMargin\":0.25,\"fNColumns\":1,\"fColumnSeparation\":0}],\"opt\":[\"\",\"\",\"same\",\"same\",\"\"]},\"fExecs\":{\"_typename\":\"TList\",\"name\":\"TList\",\"arr\":[],\"opt\":[]},\"fName\":\"c1_3\",\"fTitle\":\"c1_3\",\"fNumPaletteColor\":0,\"fNextPaletteColor\":0},{\"_typename\":\"TPad\",\"fUniqueID\":0,\"fBits\":9,\"fLineColor\":1,\"fLineStyle\":1,\"fLineWidth\":1,\"fFillColor\":0,\"fFillStyle\":1001,\"fLeftMargin\":0.1,\"fRightMargin\":0.1,\"fBottomMargin\":0.1,\"fTopMargin\":0.1,\"fXfile\":2,\"fYfile\":2,\"fAfile\":1,\"fXstat\":0.99,\"fYstat\":0.99,\"fAstat\":2,\"fFrameFillColor\":0,\"fFrameLineColor\":1,\"fFrameFillStyle\":1001,\"fFrameLineStyle\":1,\"fFrameLineWidth\":1,\"fFrameBorderSize\":1,\"fFrameBorderMode\":0,\"fX1\":-1377.50011902303,\"fY1\":-1.35355564587247,\"fX2\":14597.500119023,\"fY2\":3.93036039680914,\"fXtoAbsPixelk\":66.4848439564952,\"fXtoPixelk\":48.5248443579325,\"fXtoPixel\":0.0352267079238787,\"fYtoAbsPixelk\":1016.17173008798,\"fYtoPixelk\":418.451730349947,\"fYtoPixel\":-106.466491136453,\"fUtoAbsPixelk\":17.9600495985627,\"fUtoPixelk\":5e-5,\"fUtoPixel\":562.746667469541,\"fVtoAbsPixelk\":1160.28005026196,\"fVtoPixelk\":562.560000523925,\"fVtoPixel\":-562.560000523925,\"fAbsPixeltoXk\":-1887.34054002895,\"fPixeltoXk\":-1377.50011902303,\"fPixeltoX\":28.3875519154642,\"fAbsPixeltoYk\":9.54452118446923,\"fPixeltoYk\":-1.35355564587247,\"fPixeltoY\":-0.00939262663140034,\"fXlowNDC\":0.00999999977648258,\"fYlowNDC\":0.00999999977648258,\"fXUpNDC\":0.323333333556851,\"fYUpNDC\":0.490000000223517,\"fWNDC\":0.313333333780368,\"fHNDC\":0.480000000447035,\"fAbsXlowNDC\":0.00999999977648258,\"fAbsYlowNDC\":0.00999999977648258,\"fAbsWNDC\":0.313333333780368,\"fAbsHNDC\":0.480000000447035,\"fUxmin\":220,\"fUymin\":-0.825164010109714,\"fUxmax\":13000,\"fUymax\":3.40196876104638,\"fTheta\":30,\"fPhi\":30,\"fAspectRatio\":0,\"fNumber\":4,\"fTickx\":0,\"fTicky\":0,\"fLogx\":0,\"fLogy\":1,\"fLogz\":0,\"fPadPaint\":0,\"fCrosshair\":0,\"fCrosshairPos\":0,\"fBorderSize\":2,\"fBorderMode\":0,\"fModified\":false,\"fGridx\":false,\"fGridy\":false,\"fAbsCoord\":false,\"fEditable\":true,\"fFixedAspectRatio\":false,\"fPrimitives\":{\"_typename\":\"TList\",\"name\":\"TList\",\"arr\":[{\"_typename\":\"TFrame\",\"fUniqueID\":0,\"fBits\":8,\"fLineColor\":1,\"fLineStyle\":1,\"fLineWidth\":1,\"fFillColor\":0,\"fFillStyle\":1001,\"fX1\":220,\"fY1\":-0.825164010109714,\"fX2\":13000,\"fY2\":3.40196876104638,\"fBorderSize\":1,\"fBorderMode\":0},{\"$ref\":5},{\"_typename\":\"TH1F\",\"fUniqueID\":0,\"fBits\":8,\"fName\":\"htest\",\"fTitle\":\"\",\"fLineColor\":602,\"fLineStyle\":2,\"fLineWidth\":1,\"fFillColor\":0,\"fFillStyle\":1001,\"fMarkerColor\":1,\"fMarkerStyle\":1,\"fMarkerSize\":1,\"fNcells\":23,\"fXaxis\":{\"_typename\":\"TAxis\",\"fUniqueID\":0,\"fBits\":0,\"fName\":\"xaxis\",\"fTitle\":\"\",\"fNdivisions\":510,\"fAxisColor\":1,\"fLabelColor\":1,\"fLabelFont\":42,\"fLabelOffset\":0.005,\"fLabelSize\":0.035,\"fTickLength\":0.03,\"fTitleOffset\":1,\"fTitleSize\":0.035,\"fTitleColor\":1,\"fTitleFont\":42,\"fNbins\":21,\"fXmin\":220,\"fXmax\":13000,\"fXbins\":[220,230,240,250,260,280,310,340,370,400,475,550,625,700,800,900,1000,1200,1600,2000,3000,13000],\"fFirst\":0,\"fLast\":0,\"fBits2\":0,\"fTimeDisplay\":false,\"fTimeFormat\":\"\",\"fLabels\":null,\"fModLabs\":null},\"fYaxis\":{\"_typename\":\"TAxis\",\"fUniqueID\":0,\"fBits\":0,\"fName\":\"yaxis\",\"fTitle\":\"\",\"fNdivisions\":510,\"fAxisColor\":1,\"fLabelColor\":1,\"fLabelFont\":42,\"fLabelOffset\":0.005,\"fLabelSize\":0.035,\"fTickLength\":0.03,\"fTitleOffset\":0,\"fTitleSize\":0.035,\"fTitleColor\":1,\"fTitleFont\":42,\"fNbins\":1,\"fXmin\":0,\"fXmax\":1,\"fXbins\":[],\"fFirst\":0,\"fLast\":0,\"fBits2\":0,\"fTimeDisplay\":false,\"fTimeFormat\":\"\",\"fLabels\":null,\"fModLabs\":null},\"fZaxis\":{\"_typename\":\"TAxis\",\"fUniqueID\":0,\"fBits\":0,\"fName\":\"zaxis\",\"fTitle\":\"\",\"fNdivisions\":510,\"fAxisColor\":1,\"fLabelColor\":1,\"fLabelFont\":42,\"fLabelOffset\":0.005,\"fLabelSize\":0.035,\"fTickLength\":0.03,\"fTitleOffset\":1,\"fTitleSize\":0.035,\"fTitleColor\":1,\"fTitleFont\":42,\"fNbins\":1,\"fXmin\":0,\"fXmax\":1,\"fXbins\":[],\"fFirst\":0,\"fLast\":0,\"fBits2\":0,\"fTimeDisplay\":false,\"fTimeFormat\":\"\",\"fLabels\":null,\"fModLabs\":null},\"fBarOffset\":0,\"fBarWidth\":1000,\"fEntries\":3446931,\"fTsumw\":7022.96442106617,\"fTsumw2\":4886.3470125464,\"fTsumwx\":3287636.08011841,\"fTsumwx2\":1872943523.41277,\"fMaximum\":-1111,\"fMinimum\":-1111,\"fNormFactor\":0,\"fContour\":[],\"fSumw2\":[0,936.063590115019,549.929100696108,528.295099332786,606.389178971977,624.501818691767,547.330088625494,317.958725412767,278.182416871318,177.729332425823,213.147105745421,67.3957401380281,23.4125682868134,9.05751698140173,4.44648153700455,1.51826160529232,0.566324236409188,0.327388835083425,0.0871491232417562,0.00793000055265623,0.00116719565749879,2.77184139314029e-5,0],\"fOption\":\"\",\"fFunctions\":{\"_typename\":\"TList\",\"name\":\"TList\",\"arr\":[],\"opt\":[]},\"fBufferSize\":0,\"fBuffer\":[],\"fBinStatErrOpt\":0,\"fStatOverflows\":2,\"fArray\":[0,182.2473,157.2601,171.8128,167.2888,320.4344,478.9993,455.7863,591.3473,617.8964,1329.397,873.8322,551.4515,360.1374,292.3773,170.6955,102.66,104.8329,68.24537,17.92644,8.003936,0.3306677,0]},{\"_typename\":\"TH1F\",\"fUniqueID\":0,\"fBits\":8,\"fName\":\"htest\",\"fTitle\":\"\",\"fLineColor\":602,\"fLineStyle\":2,\"fLineWidth\":1,\"fFillColor\":0,\"fFillStyle\":1001,\"fMarkerColor\":1,\"fMarkerStyle\":1,\"fMarkerSize\":1,\"fNcells\":23,\"fXaxis\":{\"_typename\":\"TAxis\",\"fUniqueID\":0,\"fBits\":0,\"fName\":\"xaxis\",\"fTitle\":\"\",\"fNdivisions\":510,\"fAxisColor\":1,\"fLabelColor\":1,\"fLabelFont\":42,\"fLabelOffset\":0.005,\"fLabelSize\":0.035,\"fTickLength\":0.03,\"fTitleOffset\":1,\"fTitleSize\":0.035,\"fTitleColor\":1,\"fTitleFont\":42,\"fNbins\":21,\"fXmin\":220,\"fXmax\":13000,\"fXbins\":[220,230,240,250,260,280,310,340,370,400,475,550,625,700,800,900,1000,1200,1600,2000,3000,13000],\"fFirst\":0,\"fLast\":0,\"fBits2\":0,\"fTimeDisplay\":false,\"fTimeFormat\":\"\",\"fLabels\":null,\"fModLabs\":null},\"fYaxis\":{\"_typename\":\"TAxis\",\"fUniqueID\":0,\"fBits\":0,\"fName\":\"yaxis\",\"fTitle\":\"\",\"fNdivisions\":510,\"fAxisColor\":1,\"fLabelColor\":1,\"fLabelFont\":42,\"fLabelOffset\":0.005,\"fLabelSize\":0.035,\"fTickLength\":0.03,\"fTitleOffset\":0,\"fTitleSize\":0.035,\"fTitleColor\":1,\"fTitleFont\":42,\"fNbins\":1,\"fXmin\":0,\"fXmax\":1,\"fXbins\":[],\"fFirst\":0,\"fLast\":0,\"fBits2\":0,\"fTimeDisplay\":false,\"fTimeFormat\":\"\",\"fLabels\":null,\"fModLabs\":null},\"fZaxis\":{\"_typename\":\"TAxis\",\"fUniqueID\":0,\"fBits\":0,\"fName\":\"zaxis\",\"fTitle\":\"\",\"fNdivisions\":510,\"fAxisColor\":1,\"fLabelColor\":1,\"fLabelFont\":42,\"fLabelOffset\":0.005,\"fLabelSize\":0.035,\"fTickLength\":0.03,\"fTitleOffset\":1,\"fTitleSize\":0.035,\"fTitleColor\":1,\"fTitleFont\":42,\"fNbins\":1,\"fXmin\":0,\"fXmax\":1,\"fXbins\":[],\"fFirst\":0,\"fLast\":0,\"fBits2\":0,\"fTimeDisplay\":false,\"fTimeFormat\":\"\",\"fLabels\":null,\"fModLabs\":null},\"fBarOffset\":0,\"fBarWidth\":1000,\"fEntries\":3446931,\"fTsumw\":6833.17582319358,\"fTsumw2\":4605.73571413624,\"fTsumwx\":3197974.01874403,\"fTsumwx2\":1818586073.57612,\"fMaximum\":-1111,\"fMinimum\":-1111,\"fNormFactor\":0,\"fContour\":[],\"fSumw2\":[0,880.215846755898,516.251498004154,497.320110742012,570.765326408278,589.045310045161,516.395569697082,300.286393600623,263.308233735056,168.416667682819,202.231188931751,64.0531411755603,22.2481765464437,8.61170636020776,4.21995356482476,1.4365708263594,0.534399500580925,0.30691687401808,0.080489011773522,0.00719552577879449,9.97525801996364e-4,2.16220659573106e-5,0],\"fOption\":\"\",\"fFunctions\":{\"_typename\":\"TList\",\"name\":\"TList\",\"arr\":[],\"opt\":[]},\"fBufferSize\":0,\"fBuffer\":[],\"fBinStatErrOpt\":0,\"fStatOverflows\":2,\"fArray\":[0,176.6924,152.3527,166.6328,162.2403,311.1205,465.2965,442.9501,575.3293,601.5055,1295.153,851.9844,537.7506,351.1675,284.9042,166.1517,99.80255,101.6138,65.72366,17.06616,7.446087,0.2917604,0]},{\"_typename\":\"TLegend\",\"fUniqueID\":0,\"fBits\":8,\"fLineColor\":1,\"fLineStyle\":1,\"fLineWidth\":1,\"fFillColor\":0,\"fFillStyle\":0,\"fX1\":6610,\"fY1\":1.28840237546833,\"fX2\":13000.0000952184,\"fY2\":3.56048627382143,\"fX1NDC\":0.5,\"fY1NDC\":0.5,\"fX2NDC\":0.9,\"fY2NDC\":0.93,\"fBorderSize\":0,\"fInit\":1,\"fShadowColor\":1,\"fCornerRadius\":0,\"fOption\":\"brNDC\",\"fName\":\"TPave\",\"fTextAngle\":0,\"fTextSize\":0.035,\"fTextAlign\":12,\"fTextColor\":1,\"fTextFont\":42,\"fPrimitives\":{\"_typename\":\"TList\",\"name\":\"TList\",\"arr\":[{\"_typename\":\"TLegendEntry\",\"fUniqueID\":0,\"fBits\":0,\"fTextAngle\":0,\"fTextSize\":0,\"fTextAlign\":0,\"fTextColor\":0,\"fTextFont\":42,\"fLineColor\":1,\"fLineStyle\":1,\"fLineWidth\":1,\"fFillColor\":0,\"fFillStyle\":0,\"fMarkerColor\":1,\"fMarkerStyle\":21,\"fMarkerSize\":1,\"fObject\":null,\"fLabel\":\"alpha strong variation\",\"fOption\":\"h\"}],\"opt\":[\"h\"]},\"fEntrySeparation\":0.1,\"fMargin\":0.25,\"fNColumns\":1,\"fColumnSeparation\":0}],\"opt\":[\"\",\"\",\"same\",\"same\",\"\"]},\"fExecs\":{\"_typename\":\"TList\",\"name\":\"TList\",\"arr\":[],\"opt\":[]},\"fName\":\"c1_4\",\"fTitle\":\"c1_4\",\"fNumPaletteColor\":0,\"fNextPaletteColor\":0},{\"_typename\":\"TPad\",\"fUniqueID\":0,\"fBits\":9,\"fLineColor\":1,\"fLineStyle\":1,\"fLineWidth\":1,\"fFillColor\":0,\"fFillStyle\":1001,\"fLeftMargin\":0.1,\"fRightMargin\":0.1,\"fBottomMargin\":0.1,\"fTopMargin\":0.1,\"fXfile\":2,\"fYfile\":2,\"fAfile\":1,\"fXstat\":0.99,\"fYstat\":0.99,\"fAstat\":2,\"fFrameFillColor\":0,\"fFrameLineColor\":1,\"fFrameFillStyle\":1001,\"fFrameLineStyle\":1,\"fFrameLineWidth\":1,\"fFrameBorderSize\":1,\"fFrameBorderMode\":0,\"fX1\":-1377.50011902303,\"fY1\":-1.35355564587247,\"fX2\":14597.500119023,\"fY2\":3.93036039680914,\"fXtoAbsPixelk\":665.151510623162,\"fXtoPixelk\":48.5248443579325,\"fXtoPixel\":0.0352267079238787,\"fYtoAbsPixelk\":1016.17173008798,\"fYtoPixelk\":418.451730349947,\"fYtoPixel\":-106.466491136453,\"fUtoAbsPixelk\":616.626716265229,\"fUtoPixelk\":5e-5,\"fUtoPixel\":562.746667469541,\"fVtoAbsPixelk\":1160.28005026196,\"fVtoPixelk\":562.560000523925,\"fVtoPixel\":-562.560000523925,\"fAbsPixeltoXk\":-18882.0216200868,\"fPixeltoXk\":-1377.50011902303,\"fPixeltoX\":28.3875519154642,\"fAbsPixeltoYk\":9.54452118446923,\"fPixeltoYk\":-1.35355564587247,\"fPixeltoY\":-0.00939262663140034,\"fXlowNDC\":0.343333333109816,\"fYlowNDC\":0.00999999977648258,\"fXUpNDC\":0.656666666890184,\"fYUpNDC\":0.490000000223517,\"fWNDC\":0.313333333780368,\"fHNDC\":0.480000000447035,\"fAbsXlowNDC\":0.343333333109816,\"fAbsYlowNDC\":0.00999999977648258,\"fAbsWNDC\":0.313333333780368,\"fAbsHNDC\":0.480000000447035,\"fUxmin\":220,\"fUymin\":-0.825164010109714,\"fUxmax\":13000,\"fUymax\":3.40196876104638,\"fTheta\":30,\"fPhi\":30,\"fAspectRatio\":0,\"fNumber\":5,\"fTickx\":0,\"fTicky\":0,\"fLogx\":0,\"fLogy\":1,\"fLogz\":0,\"fPadPaint\":0,\"fCrosshair\":0,\"fCrosshairPos\":0,\"fBorderSize\":2,\"fBorderMode\":0,\"fModified\":false,\"fGridx\":false,\"fGridy\":false,\"fAbsCoord\":false,\"fEditable\":true,\"fFixedAspectRatio\":false,\"fPrimitives\":{\"_typename\":\"TList\",\"name\":\"TList\",\"arr\":[{\"_typename\":\"TFrame\",\"fUniqueID\":0,\"fBits\":8,\"fLineColor\":1,\"fLineStyle\":1,\"fLineWidth\":1,\"fFillColor\":0,\"fFillStyle\":1001,\"fX1\":220,\"fY1\":-0.825164010109714,\"fX2\":13000,\"fY2\":3.40196876104638,\"fBorderSize\":1,\"fBorderMode\":0},{\"$ref\":5},{\"_typename\":\"TH1F\",\"fUniqueID\":0,\"fBits\":8,\"fName\":\"htest\",\"fTitle\":\"\",\"fLineColor\":602,\"fLineStyle\":2,\"fLineWidth\":1,\"fFillColor\":0,\"fFillStyle\":1001,\"fMarkerColor\":1,\"fMarkerStyle\":1,\"fMarkerSize\":1,\"fNcells\":23,\"fXaxis\":{\"_typename\":\"TAxis\",\"fUniqueID\":0,\"fBits\":0,\"fName\":\"xaxis\",\"fTitle\":\"\",\"fNdivisions\":510,\"fAxisColor\":1,\"fLabelColor\":1,\"fLabelFont\":42,\"fLabelOffset\":0.005,\"fLabelSize\":0.035,\"fTickLength\":0.03,\"fTitleOffset\":1,\"fTitleSize\":0.035,\"fTitleColor\":1,\"fTitleFont\":42,\"fNbins\":21,\"fXmin\":220,\"fXmax\":13000,\"fXbins\":[220,230,240,250,260,280,310,340,370,400,475,550,625,700,800,900,1000,1200,1600,2000,3000,13000],\"fFirst\":0,\"fLast\":0,\"fBits2\":0,\"fTimeDisplay\":false,\"fTimeFormat\":\"\",\"fLabels\":null,\"fModLabs\":null},\"fYaxis\":{\"_typename\":\"TAxis\",\"fUniqueID\":0,\"fBits\":0,\"fName\":\"yaxis\",\"fTitle\":\"\",\"fNdivisions\":510,\"fAxisColor\":1,\"fLabelColor\":1,\"fLabelFont\":42,\"fLabelOffset\":0.005,\"fLabelSize\":0.035,\"fTickLength\":0.03,\"fTitleOffset\":0,\"fTitleSize\":0.035,\"fTitleColor\":1,\"fTitleFont\":42,\"fNbins\":1,\"fXmin\":0,\"fXmax\":1,\"fXbins\":[],\"fFirst\":0,\"fLast\":0,\"fBits2\":0,\"fTimeDisplay\":false,\"fTimeFormat\":\"\",\"fLabels\":null,\"fModLabs\":null},\"fZaxis\":{\"_typename\":\"TAxis\",\"fUniqueID\":0,\"fBits\":0,\"fName\":\"zaxis\",\"fTitle\":\"\",\"fNdivisions\":510,\"fAxisColor\":1,\"fLabelColor\":1,\"fLabelFont\":42,\"fLabelOffset\":0.005,\"fLabelSize\":0.035,\"fTickLength\":0.03,\"fTitleOffset\":1,\"fTitleSize\":0.035,\"fTitleColor\":1,\"fTitleFont\":42,\"fNbins\":1,\"fXmin\":0,\"fXmax\":1,\"fXbins\":[],\"fFirst\":0,\"fLast\":0,\"fBits2\":0,\"fTimeDisplay\":false,\"fTimeFormat\":\"\",\"fLabels\":null,\"fModLabs\":null},\"fBarOffset\":0,\"fBarWidth\":1000,\"fEntries\":3446931,\"fTsumw\":7046.35337802619,\"fTsumw2\":7033.18374357871,\"fTsumwx\":3279509.7835447,\"fTsumwx2\":1859217952.34206,\"fMaximum\":-1111,\"fMinimum\":-1111,\"fNormFactor\":0,\"fContour\":[],\"fSumw2\":[0,1652.92870861588,609.527037171474,760.950779840194,925.77543056129,864.439191370884,777.9655968095,402.528355082101,375.243525561992,226.307967691926,294.409145339978,90.4842426688928,30.8100528731411,12.3967614884724,5.91997257116583,2.07558418349099,0.780924540614015,0.506206307516068,0.119961166816897,0.0126937002738989,0.00158330239697355,2.27306560995954e-5,0],\"fOption\":\"\",\"fFunctions\":{\"_typename\":\"TList\",\"name\":\"TList\",\"arr\":[],\"opt\":[]},\"fBufferSize\":0,\"fBuffer\":[],\"fBinStatErrOpt\":0,\"fStatOverflows\":2,\"fArray\":[0,209.9314,159.7344,180.0388,178.4844,330.2679,483.8498,446.5272,596.537,610.348,1320.803,870.0709,545.6134,357.6237,289.2821,169.2592,101.5157,103.6323,67.28938,17.54317,7.70008,0.3029017,0]},{\"_typename\":\"TH1F\",\"fUniqueID\":0,\"fBits\":8,\"fName\":\"htest\",\"fTitle\":\"\",\"fLineColor\":602,\"fLineStyle\":2,\"fLineWidth\":1,\"fFillColor\":0,\"fFillStyle\":1001,\"fMarkerColor\":1,\"fMarkerStyle\":1,\"fMarkerSize\":1,\"fNcells\":23,\"fXaxis\":{\"_typename\":\"TAxis\",\"fUniqueID\":0,\"fBits\":0,\"fName\":\"xaxis\",\"fTitle\":\"\",\"fNdivisions\":510,\"fAxisColor\":1,\"fLabelColor\":1,\"fLabelFont\":42,\"fLabelOffset\":0.005,\"fLabelSize\":0.035,\"fTickLength\":0.03,\"fTitleOffset\":1,\"fTitleSize\":0.035,\"fTitleColor\":1,\"fTitleFont\":42,\"fNbins\":21,\"fXmin\":220,\"fXmax\":13000,\"fXbins\":[220,230,240,250,260,280,310,340,370,400,475,550,625,700,800,900,1000,1200,1600,2000,3000,13000],\"fFirst\":0,\"fLast\":0,\"fBits2\":0,\"fTimeDisplay\":false,\"fTimeFormat\":\"\",\"fLabels\":null,\"fModLabs\":null},\"fYaxis\":{\"_typename\":\"TAxis\",\"fUniqueID\":0,\"fBits\":0,\"fName\":\"yaxis\",\"fTitle\":\"\",\"fNdivisions\":510,\"fAxisColor\":1,\"fLabelColor\":1,\"fLabelFont\":42,\"fLabelOffset\":0.005,\"fLabelSize\":0.035,\"fTickLength\":0.03,\"fTitleOffset\":0,\"fTitleSize\":0.035,\"fTitleColor\":1,\"fTitleFont\":42,\"fNbins\":1,\"fXmin\":0,\"fXmax\":1,\"fXbins\":[],\"fFirst\":0,\"fLast\":0,\"fBits2\":0,\"fTimeDisplay\":false,\"fTimeFormat\":\"\",\"fLabels\":null,\"fModLabs\":null},\"fZaxis\":{\"_typename\":\"TAxis\",\"fUniqueID\":0,\"fBits\":0,\"fName\":\"zaxis\",\"fTitle\":\"\",\"fNdivisions\":510,\"fAxisColor\":1,\"fLabelColor\":1,\"fLabelFont\":42,\"fLabelOffset\":0.005,\"fLabelSize\":0.035,\"fTickLength\":0.03,\"fTitleOffset\":1,\"fTitleSize\":0.035,\"fTitleColor\":1,\"fTitleFont\":42,\"fNbins\":1,\"fXmin\":0,\"fXmax\":1,\"fXbins\":[],\"fFirst\":0,\"fLast\":0,\"fBits2\":0,\"fTimeDisplay\":false,\"fTimeFormat\":\"\",\"fLabels\":null,\"fModLabs\":null},\"fBarOffset\":0,\"fBarWidth\":1000,\"fEntries\":3446931,\"fTsumw\":9468.11267083548,\"fTsumw2\":5429868.14766035,\"fTsumwx\":4049807.12615739,\"fTsumwx2\":2120713704.54895,\"fMaximum\":-1111,\"fMinimum\":-1111,\"fNormFactor\":0,\"fContour\":[],\"fSumw2\":[0,1043.90077963285,494.496795272027,475.801603696472,1912.47827868219,5204464.39616376,1298.71877942647,710.340650757395,3141.99143237303,2748.9464506472,201973.92092993,5298.69621104823,6091.06206794623,99.4228528577182,44.9204543750733,18.8059576108151,43.7770755574501,3.6670375420106,2.65905758567011,0.0805339427215676,0.0643642450191012,1.85008882989474e-4,0],\"fOption\":\"\",\"fFunctions\":{\"_typename\":\"TList\",\"name\":\"TList\",\"arr\":[],\"opt\":[]},\"fBufferSize\":0,\"fBuffer\":[],\"fBinStatErrOpt\":0,\"fStatOverflows\":2,\"fArray\":[0,112.6284,98.03793,115.2924,168.8474,2547.374,418.3391,373.7742,586.5654,660.6553,1711.825,953.3746,625.8301,341.3456,284.1011,166.548,108.8557,101.945,67.86789,17.00703,7.611511,0.2876967,0]},{\"_typename\":\"TLegend\",\"fUniqueID\":0,\"fBits\":8,\"fLineColor\":1,\"fLineStyle\":1,\"fLineWidth\":1,\"fFillColor\":0,\"fFillStyle\":0,\"fX1\":6610,\"fY1\":1.28840237546833,\"fX2\":13000.0000952184,\"fY2\":3.56048627382143,\"fX1NDC\":0.5,\"fY1NDC\":0.5,\"fX2NDC\":0.9,\"fY2NDC\":0.93,\"fBorderSize\":0,\"fInit\":1,\"fShadowColor\":1,\"fCornerRadius\":0,\"fOption\":\"brNDC\",\"fName\":\"TPave\",\"fTextAngle\":0,\"fTextSize\":0.035,\"fTextAlign\":12,\"fTextColor\":1,\"fTextFont\":42,\"fPrimitives\":{\"_typename\":\"TList\",\"name\":\"TList\",\"arr\":[{\"_typename\":\"TLegendEntry\",\"fUniqueID\":0,\"fBits\":0,\"fTextAngle\":0,\"fTextSize\":0,\"fTextAlign\":0,\"fTextColor\":0,\"fTextFont\":42,\"fLineColor\":1,\"fLineStyle\":1,\"fLineWidth\":1,\"fFillColor\":0,\"fFillStyle\":0,\"fMarkerColor\":1,\"fMarkerStyle\":21,\"fMarkerSize\":1,\"fObject\":null,\"fLabel\":\"Pythia scale variation\",\"fOption\":\"h\"}],\"opt\":[\"h\"]},\"fEntrySeparation\":0.1,\"fMargin\":0.25,\"fNColumns\":1,\"fColumnSeparation\":0}],\"opt\":[\"\",\"\",\"same\",\"same\",\"\"]},\"fExecs\":{\"_typename\":\"TList\",\"name\":\"TList\",\"arr\":[],\"opt\":[]},\"fName\":\"c1_5\",\"fTitle\":\"c1_5\",\"fNumPaletteColor\":0,\"fNextPaletteColor\":0},{\"_typename\":\"TPad\",\"fUniqueID\":0,\"fBits\":9,\"fLineColor\":1,\"fLineStyle\":1,\"fLineWidth\":1,\"fFillColor\":0,\"fFillStyle\":1001,\"fLeftMargin\":0.1,\"fRightMargin\":0.1,\"fBottomMargin\":0.1,\"fTopMargin\":0.1,\"fXfile\":2,\"fYfile\":2,\"fAfile\":1,\"fXstat\":0.99,\"fYstat\":0.99,\"fAstat\":2,\"fFrameFillColor\":0,\"fFrameLineColor\":1,\"fFrameFillStyle\":1001,\"fFrameLineStyle\":1,\"fFrameLineWidth\":1,\"fFrameBorderSize\":1,\"fFrameBorderMode\":0,\"fX1\":0,\"fY1\":0,\"fX2\":1,\"fY2\":1,\"fXtoAbsPixelk\":1215.2933829319,\"fXtoPixelk\":5e-5,\"fXtoPixel\":562.746667469541,\"fYtoAbsPixelk\":1160.28005026196,\"fYtoPixelk\":562.560050523925,\"fYtoPixel\":-562.560000523925,\"fUtoAbsPixelk\":1215.2933829319,\"fUtoPixelk\":5e-5,\"fUtoPixel\":562.746667469541,\"fVtoAbsPixelk\":1160.28005026196,\"fVtoPixelk\":562.560000523925,\"fVtoPixel\":-562.560000523925,\"fAbsPixeltoXk\":-2.15957446429067,\"fPixeltoXk\":0,\"fPixeltoX\":0.00177699852847929,\"fAbsPixeltoYk\":2.06249999854481,\"fPixeltoYk\":0,\"fPixeltoY\":-0.00177758816671764,\"fXlowNDC\":0.676666666443149,\"fYlowNDC\":0.00999999977648258,\"fXUpNDC\":0.990000000223517,\"fYUpNDC\":0.490000000223517,\"fWNDC\":0.313333333780368,\"fHNDC\":0.480000000447035,\"fAbsXlowNDC\":0.676666666443149,\"fAbsYlowNDC\":0.00999999977648258,\"fAbsWNDC\":0.313333333780368,\"fAbsHNDC\":0.480000000447035,\"fUxmin\":0,\"fUymin\":0,\"fUxmax\":1,\"fUymax\":1,\"fTheta\":30,\"fPhi\":30,\"fAspectRatio\":0,\"fNumber\":6,\"fTickx\":0,\"fTicky\":0,\"fLogx\":0,\"fLogy\":0,\"fLogz\":0,\"fPadPaint\":0,\"fCrosshair\":0,\"fCrosshairPos\":0,\"fBorderSize\":2,\"fBorderMode\":0,\"fModified\":false,\"fGridx\":false,\"fGridy\":false,\"fAbsCoord\":false,\"fEditable\":true,\"fFixedAspectRatio\":false,\"fPrimitives\":{\"_typename\":\"TList\",\"name\":\"TList\",\"arr\":[],\"opt\":[]},\"fExecs\":{\"_typename\":\"TList\",\"name\":\"TList\",\"arr\":[],\"opt\":[]},\"fName\":\"c1_6\",\"fTitle\":\"c1_6\",\"fNumPaletteColor\":0,\"fNextPaletteColor\":0},{\"_typename\":\"TStyle\",\"fUniqueID\":0,\"fBits\":0,\"fName\":\"Modern\",\"fTitle\":\"Modern Style\",\"fLineColor\":1,\"fLineStyle\":1,\"fLineWidth\":1,\"fFillColor\":19,\"fFillStyle\":1001,\"fMarkerColor\":1,\"fMarkerStyle\":1,\"fMarkerSize\":1,\"fTextAngle\":0,\"fTextSize\":0.05,\"fTextAlign\":11,\"fTextColor\":1,\"fTextFont\":62,\"fXaxis\":{\"_typename\":\"TAttAxis\",\"fNdivisions\":510,\"fAxisColor\":1,\"fLabelColor\":1,\"fLabelFont\":42,\"fLabelOffset\":0.005,\"fLabelSize\":0.035,\"fTickLength\":0.03,\"fTitleOffset\":1,\"fTitleSize\":0.035,\"fTitleColor\":1,\"fTitleFont\":42},\"fYaxis\":{\"_typename\":\"TAttAxis\",\"fNdivisions\":510,\"fAxisColor\":1,\"fLabelColor\":1,\"fLabelFont\":42,\"fLabelOffset\":0.005,\"fLabelSize\":0.035,\"fTickLength\":0.03,\"fTitleOffset\":0,\"fTitleSize\":0.035,\"fTitleColor\":1,\"fTitleFont\":42},\"fZaxis\":{\"_typename\":\"TAttAxis\",\"fNdivisions\":510,\"fAxisColor\":1,\"fLabelColor\":1,\"fLabelFont\":42,\"fLabelOffset\":0.005,\"fLabelSize\":0.035,\"fTickLength\":0.03,\"fTitleOffset\":1,\"fTitleSize\":0.035,\"fTitleColor\":1,\"fTitleFont\":42},\"fBarWidth\":1,\"fBarOffset\":0,\"fColorModelPS\":0,\"fDrawBorder\":0,\"fOptLogx\":0,\"fOptLogy\":0,\"fOptLogz\":0,\"fOptDate\":0,\"fOptStat\":1111,\"fOptTitle\":1,\"fOptFile\":0,\"fOptFit\":0,\"fShowEventStatus\":0,\"fShowEditor\":0,\"fShowToolBar\":0,\"fNumberContours\":20,\"fAttDate\":{\"_typename\":\"TAttText\",\"fTextAngle\":0,\"fTextSize\":0.025,\"fTextAlign\":11,\"fTextColor\":1,\"fTextFont\":62},\"fDateX\":0.01,\"fDateY\":0.01,\"fEndErrorSize\":2,\"fErrorX\":0.5,\"fFuncColor\":2,\"fFuncStyle\":1,\"fFuncWidth\":2,\"fGridColor\":0,\"fGridStyle\":3,\"fGridWidth\":1,\"fLegendBorderSize\":1,\"fLegendFillColor\":0,\"fLegendFont\":42,\"fLegendTextSize\":0,\"fHatchesLineWidth\":1,\"fHatchesSpacing\":1,\"fFrameFillColor\":0,\"fFrameLineColor\":1,\"fFrameFillStyle\":1001,\"fFrameLineStyle\":1,\"fFrameLineWidth\":1,\"fFrameBorderSize\":1,\"fFrameBorderMode\":0,\"fHistFillColor\":0,\"fHistLineColor\":602,\"fHistFillStyle\":1001,\"fHistLineStyle\":1,\"fHistLineWidth\":1,\"fHistMinimumZero\":false,\"fHistTopMargin\":0.05,\"fCanvasPreferGL\":false,\"fCanvasColor\":0,\"fCanvasBorderSize\":2,\"fCanvasBorderMode\":0,\"fCanvasDefH\":500,\"fCanvasDefW\":700,\"fCanvasDefX\":10,\"fCanvasDefY\":10,\"fPadColor\":0,\"fPadBorderSize\":2,\"fPadBorderMode\":0,\"fPadBottomMargin\":0.1,\"fPadTopMargin\":0.1,\"fPadLeftMargin\":0.1,\"fPadRightMargin\":0.1,\"fPadGridX\":false,\"fPadGridY\":false,\"fPadTickX\":0,\"fPadTickY\":0,\"fPaperSizeX\":20,\"fPaperSizeY\":26,\"fScreenFactor\":1,\"fStatColor\":0,\"fStatTextColor\":1,\"fStatBorderSize\":1,\"fStatFont\":42,\"fStatFontSize\":0,\"fStatStyle\":1001,\"fStatFormat\":\"6.4g\",\"fStatX\":0.98,\"fStatY\":0.935,\"fStatW\":0.2,\"fStatH\":0.16,\"fStripDecimals\":true,\"fTitleAlign\":23,\"fTitleColor\":0,\"fTitleTextColor\":1,\"fTitleBorderSize\":0,\"fTitleFont\":42,\"fTitleFontSize\":0.05,\"fTitleStyle\":0,\"fTitleX\":0.5,\"fTitleY\":0.995,\"fTitleW\":0,\"fTitleH\":0,\"fLegoInnerR\":0.5,\"fLineStyle\":[\"\",\"  \",\" 12 12\",\" 4 8\",\" 12 16 4 16\",\" 20 12 4 12\",\" 20 12 4 12 4 12 4 12\",\" 20 20\",\" 20 12 4 12 4 12\",\" 80 20\",\" 80 40 4 40\",\"  \",\"  \",\"  \",\"  \",\"  \",\"  \",\"  \",\"  \",\"  \",\"  \",\"  \",\"  \",\"  \",\"  \",\"  \",\"  \",\"  \",\"  \",\"  \"],\"fHeaderPS\":\"\",\"fTitlePS\":\"\",\"fFitFormat\":\"5.4g\",\"fPaintTextFormat\":\"g\",\"fLineScalePS\":3,\"fJoinLinePS\":0,\"fCapLinePS\":0,\"fTimeOffset\":788918400,\"fImageScaling\":1}],\"opt\":[\"\",\"\",\"\",\"\",\"\",\"\",\"\"]},\"fExecs\":null,\"fName\":\"c1\",\"fTitle\":\"c1\",\"fNumPaletteColor\":0,\"fNextPaletteColor\":0,\"fDISPLAY\":\"$DISPLAY\",\"fDoubleBuffer\":0,\"fRetained\":true,\"fXsizeUser\":0,\"fYsizeUser\":0,\"fXsizeReal\":20,\"fYsizeReal\":13.33333,\"fWindowTopX\":0,\"fWindowTopY\":0,\"fWindowWidth\":0,\"fWindowHeight\":0,\"fCw\":1796,\"fCh\":1172,\"fCatt\":{\"_typename\":\"TAttCanvas\",\"fXBetween\":2,\"fYBetween\":2,\"fTitleFromTop\":1.2,\"fXdate\":0.2,\"fYdate\":0.3,\"fAdate\":1},\"kMoveOpaque\":true,\"kResizeOpaque\":true,\"fHighLightColor\":2,\"fBatch\":true,\"kShowEventStatus\":false,\"kAutoExec\":true,\"kMenuBar\":true});\n",
       "   Core.settings.HandleKeys = false;\n",
       "   Core.draw(\"root_plot_1643325628271\", obj, \"\");\n",
       "}\n",
       "\n",
       "function script_load_root_plot_1643325628271(src, on_error) {\n",
       "    let script = document.createElement('script');\n",
       "    script.src = src;\n",
       "    script.onload = function() { display_root_plot_1643325628271(JSROOT); };\n",
       "    script.onerror = function() { script.remove(); on_error(); };\n",
       "    document.head.appendChild(script);\n",
       "}\n",
       "\n",
       "if (typeof requirejs !== 'undefined') {\n",
       "\n",
       "    // We are in jupyter notebooks, use require.js which should be configured already\n",
       "    requirejs.config({\n",
       "       paths: { 'JSRootCore' : [ 'scripts/JSRoot.core', 'https://root.cern/js/6.1.1/scripts/JSRoot.core.min', 'https://jsroot.gsi.de/6.1.1/scripts/JSRoot.core.min' ] }\n",
       "    })(['JSRootCore'],  function(Core) {\n",
       "       display_root_plot_1643325628271(Core);\n",
       "    });\n",
       "\n",
       "} else if (typeof JSROOT !== 'undefined') {\n",
       "\n",
       "   // JSROOT already loaded, just use it\n",
       "   display_root_plot_1643325628271(JSROOT);\n",
       "\n",
       "} else {\n",
       "\n",
       "    // We are in jupyterlab without require.js, directly loading jsroot\n",
       "    // Jupyterlab might be installed in a different base_url so we need to know it.\n",
       "    try {\n",
       "        var base_url = JSON.parse(document.getElementById('jupyter-config-data').innerHTML).baseUrl;\n",
       "    } catch(_) {\n",
       "        var base_url = '/';\n",
       "    }\n",
       "\n",
       "    // Try loading a local version of requirejs and fallback to cdn if not possible.\n",
       "    script_load_root_plot_1643325628271(base_url + 'static/scripts/JSRoot.core.js', function(){\n",
       "        console.error('Fail to load JSROOT locally, please check your jupyter_notebook_config.py file');\n",
       "        script_load_root_plot_1643325628271('https://root.cern/js/6.1.1/scripts/JSRoot.core.min.js', function(){\n",
       "            document.getElementById(\"root_plot_1643325628271\").innerHTML = \"Failed to load JSROOT\";\n",
       "        });\n",
       "    });\n",
       "}\n",
       "\n",
       "</script>\n"
      ],
      "text/plain": [
       "<IPython.core.display.HTML object>"
      ]
     },
     "metadata": {},
     "output_type": "display_data"
    }
   ],
   "source": [
    "c1 = ROOT.TCanvas(\"c1\",\"c1\",1800,1200)\n",
    "c1.Divide(3,2)\n",
    "\n",
    "\n",
    "leg = ROOT.TLegend(.5,.5,.90,.93)\n",
    "leg.SetBorderSize(0)\n",
    "leg.SetFillColor(0)\n",
    "leg.SetFillStyle(0)\n",
    "leg.SetTextFont(42)\n",
    "leg.SetTextSize(0.035)\n",
    "\n",
    "\n",
    "\n",
    "print (len(h_gg_unt))\n",
    "for i, ht in enumerate(h_gg_unt): \n",
    "    print (i,ht.Integral())\n",
    "    \n",
    "    \n",
    "\n",
    "print (len(h_gg_unt))\n",
    "for i in range(0,len(h_gg_unt)): \n",
    "    h_gg_unt[i].SetLineStyle(2)\n",
    "h_gg_unt[10].SetLineStyle(1)\n",
    "h_gg_unt[10].SetLineColor(2)\n",
    "h_gg_unt[2].SetLineColor(4)\n",
    "h_gg_unt[3].SetLineColor(4)\n",
    "\n",
    "c1.cd(1).SetLogy()\n",
    "\n",
    "h_gg_unt[10].Draw()\n",
    "h_gg_unt[10].GetXaxis().SetTitle(\"m4l  [GeV]\")\n",
    "\n",
    "print(h_gg_unt[0].Integral(),h_gg_unt[2].Integral(),h_gg_unt[3].Integral())\n",
    "h_gg_unt[0].Draw(\"same\")\n",
    "h_gg_unt[1].Draw(\"same\")\n",
    "leg.Clear()\n",
    "leg.SetHeader(\"QCDscale Renormalization \")\n",
    "leg.Draw()\n",
    "c1.cd(2).SetLogy()\n",
    "h_gg_unt[10].Draw()\n",
    "print(h_gg_unt[0].Integral(),h_gg_unt[2].Integral(),h_gg_unt[3].Integral())\n",
    "h_gg_unt[2].Draw(\"same\")\n",
    "h_gg_unt[3].Draw(\"same\")\n",
    "\n",
    "\n",
    "\n",
    "leg2 = copy.deepcopy(leg)\n",
    "leg2.Clear()\n",
    "leg2.SetHeader(\"QCDscale Factorization \")\n",
    "leg2.Draw()\n",
    "\n",
    "c1.cd(3).SetLogy()\n",
    "h_gg_unt[10].Draw()\n",
    "print(h_gg_unt[0].Integral(),h_gg_unt[2].Integral(),h_gg_unt[3].Integral())\n",
    "h_gg_unt[4].Draw(\"same\")\n",
    "h_gg_unt[5].Draw(\"same\")\n",
    "\n",
    "leg3 = copy.deepcopy(leg)\n",
    "leg3.Clear()\n",
    "leg3.SetHeader(\"PDF variation\")\n",
    "leg3.Draw()\n",
    "\n",
    "c1.cd(4).SetLogy()\n",
    "h_gg_unt[10].Draw()\n",
    "print(h_gg_unt[0].Integral(),h_gg_unt[2].Integral(),h_gg_unt[3].Integral())\n",
    "h_gg_unt[6].Draw(\"same\")\n",
    "h_gg_unt[7].Draw(\"same\")\n",
    "leg4 = copy.deepcopy(leg)\n",
    "leg4.Clear()\n",
    "leg4.SetHeader(\"alpha strong variation\")\n",
    "leg4.Draw()\n",
    "\n",
    "\n",
    "c1.cd(5).SetLogy()\n",
    "h_gg_unt[10].Draw()\n",
    "print(h_gg_unt[0].Integral(),h_gg_unt[2].Integral(),h_gg_unt[3].Integral())\n",
    "h_gg_unt[8].Draw(\"same\")\n",
    "h_gg_unt[9].Draw(\"same\")\n",
    "leg5 = copy.deepcopy(leg)\n",
    "leg5.Clear()\n",
    "leg5.SetHeader(\"Pythia scale variation\")\n",
    "leg5.Draw()\n",
    "#h_gg_unt[2].Draw(\"same\")\n",
    "#h_gg_unt[3].Draw(\"same\")\n",
    "\n",
    "c1.Draw()\n",
    "\n",
    "c1.SaveAs(\"Theory_gghsignal_uncertainties.pdf\")\n",
    "c1.SaveAs(\"Theory_gghsignal_uncertainties.png\")\n",
    "\n",
    "\n",
    "\n",
    "fout = ROOT.TFile(\"LHEsyst.root\",\"recreate\")\n",
    "fout.cd()\n",
    "for i,htt in enumerate(h_gg_unt): \n",
    "   htt.SetName(\"htest\") \n",
    "   htt.Write()\n",
    "\n",
    "fout.Close()\n",
    "\n",
    "\n"
   ]
  },
  {
   "cell_type": "markdown",
   "id": "8ea757af",
   "metadata": {},
   "source": [
    "### Add to 'hlist' if the output looks reasonable above"
   ]
  },
  {
   "cell_type": "code",
   "execution_count": null,
   "id": "7eff290f",
   "metadata": {},
   "outputs": [],
   "source": [
    "c1 = ROOT.TCanvas(\"c1\",\"c1\",1800,600)\n",
    "c1.Divide(3,1)\n",
    "h_bkg_unt[3].SetLineColor(2)\n",
    "h_bkg_vh[3].SetLineColor(2)\n",
    "h_bkg_vbf[3].SetLineColor(2)\n",
    "\n",
    "h_bkg_unt[1].SetLineStyle(2)\n",
    "h_bkg_vh[1].SetLineStyle(2)\n",
    "h_bkg_vbf[1].SetLineStyle(2)\n",
    "\n",
    "\n",
    "h_bkg_unt[2].SetLineStyle(2)\n",
    "h_bkg_vh[2].SetLineStyle(2)\n",
    "h_bkg_vbf[2].SetLineStyle(2)\n",
    "\n",
    "\n",
    "c1.cd(1).SetLogy()\n",
    "#c1.cd(1)\n",
    "\n",
    "print (h_bkg_unt[1].Integral())\n",
    "h_bkg_unt[3].Draw(\"hist\")\n",
    "h_bkg_unt[3].GetXaxis().SetTitle(\"qqZZ Untagged background m4l [GeV]\")\n",
    "h_bkg_unt[1].Draw(\"hist,same\")\n",
    "h_bkg_unt[2].Draw(\"hist,same\")\n",
    "c1.cd(2).SetLogy()\n",
    "#c1.cd(2)\n",
    "h_bkg_vh[3].Draw(\"hist\")\n",
    "h_bkg_vh[3].GetXaxis().SetTitle(\"qqZZ VHtagged background m4l [GeV]\")\n",
    "h_bkg_vh[1].Draw(\"hist,same\")\n",
    "h_bkg_vh[2].Draw(\"hist,same\")\n",
    "\n",
    "\n",
    "\n",
    "c1.cd(3).SetLogy()\n",
    "#c1.cd(3)\n",
    "h_bkg_vbf[3].Draw(\"hist\")\n",
    "h_bkg_vbf[3].GetXaxis().SetTitle(\"qqZZ VBFtagged background m4l [GeV]\")\n",
    "h_bkg_vbf[1].Draw(\"hist,same\")\n",
    "h_bkg_vbf[2].Draw(\"hist,same\")\n",
    "\n",
    "\n",
    "ROOT.gStyle.SetOptStat(1)\n",
    "c1.Draw()\n",
    "ROOT.gStyle.SetOptStat(1)\n",
    "c1.Update()\n",
    "\n",
    "c1.SaveAs(\"back_ew_qqzz.png\")\n",
    "c1.SaveAs(\"back_ew_qqzz.pdf\")\n"
   ]
  },
  {
   "cell_type": "code",
   "execution_count": null,
   "id": "12d8b167",
   "metadata": {},
   "outputs": [],
   "source": [
    "print  (h_gg_unt)"
   ]
  },
  {
   "cell_type": "code",
   "execution_count": null,
   "id": "ad126c8a",
   "metadata": {
    "scrolled": true
   },
   "outputs": [],
   "source": [
    "print (h_list)"
   ]
  },
  {
   "cell_type": "code",
   "execution_count": null,
   "id": "c7f0975c",
   "metadata": {
    "scrolled": true
   },
   "outputs": [],
   "source": [
    "hlist"
   ]
  },
  {
   "cell_type": "code",
   "execution_count": null,
   "id": "8bab436f",
   "metadata": {},
   "outputs": [],
   "source": [
    "for h in h_list:\n",
    "    print (h)\n",
    "    print(h.Integral())"
   ]
  },
  {
   "cell_type": "markdown",
   "id": "11e1cf62",
   "metadata": {},
   "source": [
    "# Unroll and Visualize all histograms in 'hlist'"
   ]
  },
  {
   "cell_type": "markdown",
   "id": "3fa69103",
   "metadata": {},
   "source": [
    "##### Do not proceed if your 'hlist' is not filled. Recall it expects 7 histograms ordered like: ['ggH SIG', 'ggH BSI', 'ggH BKG', 'EW SIG', 'EW BSI', 'EW BKG', 'qqbar BKG']\n",
    "##### If you simply want to test the unrolling section, just fill the list with 7 copies of the same TH3F histogram"
   ]
  },
  {
   "cell_type": "markdown",
   "id": "2c520317",
   "metadata": {},
   "source": [
    "### Unroll all 7 histograms"
   ]
  },
  {
   "cell_type": "code",
   "execution_count": null,
   "id": "23371ac0",
   "metadata": {
    "scrolled": true
   },
   "outputs": [],
   "source": [
    "hlist1d = []\n",
    "hlisttemp = h_list\n",
    "for hf in hlisttemp:\n",
    "    totgbins = hf.GetNbinsX() * hf.GetNbinsY() * hf.GetNbinsZ()\n",
    "    totgedges = np.arange(totgbins+1, dtype='float64')\n",
    "\n",
    "    #hf1d = ROOT.TH1F(\"hf1d\",\"\",len(totgedges)-1, totgedges)\n",
    "    hf1d = ROOT.TH1F(\"hf1d\",\"\",totgbins, 0, totgbins)\n",
    "    hf1d.SetDirectory(0)\n",
    "\n",
    "    bincount = 1\n",
    "\n",
    "    for xbin in trange(hf.GetNbinsX()):\n",
    "        for ybin in range(hf.GetNbinsY()):\n",
    "            for zbin in range(hf.GetNbinsZ()):\n",
    "                gbin = hf.GetBin(xbin+1, ybin+1, zbin+1)\n",
    "\n",
    "                #if gbin<400: print(xbin, ybin, zbin)\n",
    "                #print(gbin)\n",
    "                #print(bincount)\n",
    "                if bincount>totgbins: \n",
    "                    print(\"WHAT\")\n",
    "                    break\n",
    "                    \n",
    "                #if hf.GetBinContent(gbin) != 0: print(hf.GetBinContent(gbin))\n",
    "                #print(hf.GetBinContent(gbin))\n",
    "                \n",
    "                hf1d.SetBinContent(bincount, hf.GetBinContent(gbin))\n",
    "                bincount += 1\n",
    "                #if hf.GetBinContent(gbin) != 0: print(\"YAY\")\n",
    "    \n",
    "    hlist1d.append(hf1d)"
   ]
  },
  {
   "cell_type": "code",
   "execution_count": null,
   "id": "ebbed0f5",
   "metadata": {},
   "outputs": [],
   "source": [
    "c1 = ROOT.TCanvas(\"c1\",\"c1\",4480,600)\n",
    "c1.Divide(len(hlist1d),1)\n",
    "for i in range(len(hlist1d)):\n",
    "    c1.cd(i+1)\n",
    "    print(hlist1d[i].Integral())\n",
    "    hlist1d[i].Draw(\"hist\")\n",
    "\n",
    "ROOT.gStyle.SetOptStat(1)\n",
    "c1.Draw()"
   ]
  },
  {
   "cell_type": "markdown",
   "id": "3e05243e",
   "metadata": {},
   "source": [
    "### Isolate INT from the BSI histograms and also add the total combination of statistics as a new histogram at the end"
   ]
  },
  {
   "cell_type": "code",
   "execution_count": null,
   "id": "1e3d0eb5",
   "metadata": {},
   "outputs": [],
   "source": [
    "hlist1d[1].Add(hlist1d[0], -1)\n",
    "hlist1d[1].Add(hlist1d[2], -1)\n",
    "\n",
    "hlist1d[4].Add(hlist1d[3], -1)\n",
    "hlist1d[4].Add(hlist1d[5], -1)"
   ]
  },
  {
   "cell_type": "code",
   "execution_count": null,
   "id": "be409bcd",
   "metadata": {},
   "outputs": [],
   "source": [
    "c1 = ROOT.TCanvas(\"c1\",\"c1\",4480,600)\n",
    "c1.Divide(len(hlist1d),1)\n",
    "for i in range(len(hlist1d)):\n",
    "    c1.cd(i+1)\n",
    "    print(hlist1d[i].Integral())\n",
    "    hlist1d[i].Draw(\"hist\")\n",
    "\n",
    "ROOT.gStyle.SetOptStat(1)\n",
    "c1.Draw()"
   ]
  },
  {
   "cell_type": "code",
   "execution_count": null,
   "id": "5adc130a",
   "metadata": {},
   "outputs": [],
   "source": [
    "hf1d = ROOT.TH1F(\"hf1d\",\"\",totgbins, 0, totgbins)\n",
    "hf1d.SetDirectory(0)\n",
    "hf1d.Add(hlist1d[1])\n",
    "hlist1d.insert(1, hf1d)"
   ]
  },
  {
   "cell_type": "code",
   "execution_count": null,
   "id": "f618c840",
   "metadata": {},
   "outputs": [],
   "source": [
    "c1 = ROOT.TCanvas(\"c1\",\"c1\",4480,600)\n",
    "c1.Divide(len(hlist1d),1)\n",
    "for i in range(len(hlist1d)):\n",
    "    c1.cd(i+1)\n",
    "    print(hlist1d[i].Integral())\n",
    "    hlist1d[i].Draw(\"hist\")\n",
    "\n",
    "ROOT.gStyle.SetOptStat(1)\n",
    "c1.Draw()"
   ]
  },
  {
   "cell_type": "code",
   "execution_count": null,
   "id": "8b10cb8a",
   "metadata": {},
   "outputs": [],
   "source": [
    "hf1d = ROOT.TH1F(\"hf1d\",\"\",totgbins, 0, totgbins)\n",
    "hf1d.SetDirectory(0)\n",
    "hf1d.Add(hlist1d[5])\n",
    "hlist1d.insert(5, hf1d)"
   ]
  },
  {
   "cell_type": "code",
   "execution_count": null,
   "id": "9a5fd9a0",
   "metadata": {
    "scrolled": false
   },
   "outputs": [],
   "source": [
    "c1 = ROOT.TCanvas(\"c1\",\"c1\",4480,600)\n",
    "c1.Divide(len(hlist1d),1)\n",
    "for i in range(len(hlist1d)):\n",
    "    c1.cd(i+1)\n",
    "    print(hlist1d[i].Integral())\n",
    "    hlist1d[i].Draw(\"hist\")\n",
    "\n",
    "ROOT.gStyle.SetOptStat(1)\n",
    "c1.Draw()"
   ]
  },
  {
   "cell_type": "code",
   "execution_count": null,
   "id": "df04197e",
   "metadata": {},
   "outputs": [],
   "source": [
    "for i in range(hlist1d[1].GetXaxis().GetNbins()):\n",
    "    b = i+1\n",
    "    if hlist1d[1].GetBinContent(b) >= 0:\n",
    "        hlist1d[1].SetBinContent(b, 0)\n",
    "\n",
    "for i in range(hlist1d[2].GetXaxis().GetNbins()):\n",
    "    b = i+1\n",
    "    if hlist1d[2].GetBinContent(b) <= 0:\n",
    "        hlist1d[2].SetBinContent(b, 0)"
   ]
  },
  {
   "cell_type": "code",
   "execution_count": null,
   "id": "d2402aaf",
   "metadata": {},
   "outputs": [],
   "source": [
    "c1 = ROOT.TCanvas(\"c1\",\"c1\",4480,600)\n",
    "c1.Divide(len(hlist1d),1)\n",
    "for i in range(len(hlist1d)):\n",
    "    c1.cd(i+1)\n",
    "    print(hlist1d[i].Integral())\n",
    "    hlist1d[i].Draw(\"hist\")\n",
    "\n",
    "ROOT.gStyle.SetOptStat(1)\n",
    "c1.Draw()"
   ]
  },
  {
   "cell_type": "code",
   "execution_count": null,
   "id": "3ed68b42",
   "metadata": {},
   "outputs": [],
   "source": [
    "for i in range(hlist1d[5].GetXaxis().GetNbins()):\n",
    "    b = i+1\n",
    "    if hlist1d[5].GetBinContent(b) >= 0:\n",
    "        hlist1d[5].SetBinContent(b, 0)\n",
    "\n",
    "for i in range(hlist1d[6].GetXaxis().GetNbins()):\n",
    "    b = i+1\n",
    "    if hlist1d[6].GetBinContent(b) <= 0:\n",
    "        hlist1d[6].SetBinContent(b, 0)"
   ]
  },
  {
   "cell_type": "code",
   "execution_count": null,
   "id": "c36aa58e",
   "metadata": {},
   "outputs": [],
   "source": [
    "c1 = ROOT.TCanvas(\"c1\",\"c1\",4480,600)\n",
    "c1.Divide(len(hlist1d),1)\n",
    "for i in range(len(hlist1d)):\n",
    "    c1.cd(i+1)\n",
    "    print(hlist1d[i].Integral())\n",
    "    hlist1d[i].Draw(\"hist\")\n",
    "\n",
    "ROOT.gStyle.SetOptStat(1)\n",
    "c1.Draw()"
   ]
  },
  {
   "cell_type": "code",
   "execution_count": null,
   "id": "9e5753c8",
   "metadata": {},
   "outputs": [],
   "source": [
    "hf1d = ROOT.TH1F(\"hf1d\",\"\",totgbins, 0, totgbins)\n",
    "for i in range(len(hlist1d)):\n",
    "    hf1d.Add(hlist1d[i])\n",
    "hlist1d.append(hf1d)\n",
    "print(hf1d.Integral())"
   ]
  },
  {
   "cell_type": "code",
   "execution_count": null,
   "id": "b162581f",
   "metadata": {},
   "outputs": [],
   "source": [
    "c1 = ROOT.TCanvas(\"c1\",\"c1\",4480,600)\n",
    "c1.Divide(len(hlist1d),1)\n",
    "for i in range(len(hlist1d)):\n",
    "    c1.cd(i+1)\n",
    "    print(hlist1d[i].Integral())\n",
    "    hlist1d[i].Draw(\"hist\")\n",
    "\n",
    "ROOT.gStyle.SetOptStat(1)\n",
    "c1.Draw()"
   ]
  },
  {
   "cell_type": "code",
   "execution_count": null,
   "id": "e76eedd4",
   "metadata": {},
   "outputs": [],
   "source": [
    "hlist1d[1].Scale(-1)\n",
    "hlist1d[5].Scale(-1)"
   ]
  },
  {
   "cell_type": "code",
   "execution_count": null,
   "id": "bf0f1381",
   "metadata": {},
   "outputs": [],
   "source": [
    "c1 = ROOT.TCanvas(\"c1\",\"c1\",4480,600)\n",
    "c1.Divide(len(hlist1d),1)\n",
    "for i in range(len(hlist1d)):\n",
    "    c1.cd(i+1)\n",
    "    print(hlist1d[i].Integral())\n",
    "    hlist1d[i].Draw(\"hist\")\n",
    "\n",
    "ROOT.gStyle.SetOptStat(1)\n",
    "c1.Draw()"
   ]
  },
  {
   "cell_type": "code",
   "execution_count": null,
   "id": "b26bce77",
   "metadata": {},
   "outputs": [],
   "source": [
    "hf1d = ROOT.TH1F(\"hf1d\",\"\",totgbins, 0, totgbins)\n",
    "hf1d.Add(hlist1d[-1])"
   ]
  },
  {
   "cell_type": "code",
   "execution_count": null,
   "id": "f53c76e4",
   "metadata": {},
   "outputs": [],
   "source": [
    "hlist1d.append(hf1d)"
   ]
  },
  {
   "cell_type": "code",
   "execution_count": null,
   "id": "28a0ad16",
   "metadata": {},
   "outputs": [],
   "source": [
    "c1 = ROOT.TCanvas(\"c1\",\"c1\",4480,600)\n",
    "c1.Divide(len(hlist1d),1)\n",
    "for i in range(len(hlist1d)):\n",
    "    c1.cd(i+1)\n",
    "    print(hlist1d[i].Integral())\n",
    "    hlist1d[i].Draw(\"hist\")\n",
    "\n",
    "ROOT.gStyle.SetOptStat(1)\n",
    "c1.Draw()"
   ]
  },
  {
   "cell_type": "code",
   "execution_count": null,
   "id": "24cd4198",
   "metadata": {},
   "outputs": [],
   "source": [
    "hf1dt = hlist1d.pop(-1)"
   ]
  },
  {
   "cell_type": "code",
   "execution_count": null,
   "id": "a0d5b802",
   "metadata": {},
   "outputs": [],
   "source": [
    "for i in range(hlist1d[-1].GetXaxis().GetNbins()):\n",
    "    b = i+1\n",
    "    if hlist1d[-1].GetBinContent(b) <= 0:\n",
    "        hlist1d[-1].SetBinContent(b, 0)"
   ]
  },
  {
   "cell_type": "markdown",
   "id": "6c0f2766",
   "metadata": {},
   "source": [
    "### Check the final template collection and yields for the datacard"
   ]
  },
  {
   "cell_type": "code",
   "execution_count": null,
   "id": "f04b9e45",
   "metadata": {},
   "outputs": [],
   "source": [
    "c1 = ROOT.TCanvas(\"c1\",\"c1\",4480,600)\n",
    "c1.Divide(len(hlist1d),1)\n",
    "for i in range(len(hlist1d)):\n",
    "    c1.cd(i+1)\n",
    "    print(hlist1d[i].Integral())\n",
    "    hlist1d[i].Draw(\"hist\")\n",
    "\n",
    "ROOT.gStyle.SetOptStat(1)\n",
    "c1.Draw()"
   ]
  },
  {
   "cell_type": "code",
   "execution_count": null,
   "id": "2c7d4e64",
   "metadata": {},
   "outputs": [],
   "source": []
  },
  {
   "cell_type": "markdown",
   "id": "38721854",
   "metadata": {},
   "source": [
    "# Saving the whole thing to a .root file for use with a corresponding datacard"
   ]
  },
  {
   "cell_type": "markdown",
   "id": "b2f8a9f2",
   "metadata": {},
   "source": [
    "### Checking the names used to save the histograms"
   ]
  },
  {
   "cell_type": "code",
   "execution_count": null,
   "id": "d91117a3",
   "metadata": {},
   "outputs": [],
   "source": [
    "for i in proc:\n",
    "    print(i)"
   ]
  },
  {
   "cell_type": "markdown",
   "id": "718f0ab4",
   "metadata": {},
   "source": [
    "### Set directory and output file names"
   ]
  },
  {
   "cell_type": "code",
   "execution_count": null,
   "id": "f8bfb87f",
   "metadata": {},
   "outputs": [],
   "source": [
    "diname = \"/eos/user/s/skyriaco/SWAN_projects/Offshel_tempmaker/Output/\"\n",
    "foname = \"Cat_4mu_137p1invfb_ggH4landVBF4landqqbar_mostEW_RECOpassedevents_mvar21d1reg20d2reg20.input.root\""
   ]
  },
  {
   "cell_type": "code",
   "execution_count": null,
   "id": "6c52c91b",
   "metadata": {},
   "outputs": [],
   "source": [
    "print(diname+foname)"
   ]
  },
  {
   "cell_type": "markdown",
   "id": "7c3cab1a",
   "metadata": {},
   "source": [
    "### Write to a .root file"
   ]
  },
  {
   "cell_type": "code",
   "execution_count": null,
   "id": "92ae69f4",
   "metadata": {},
   "outputs": [],
   "source": [
    "fo = ROOT.TFile(diname+foname,\"CREATE\")\n",
    "\n",
    "for i in range(len(proc)):\n",
    "    hlist1d[i].Write(proc[i], ROOT.TFile.kSingleKey)\n",
    "\n",
    "fo.Close()"
   ]
  },
  {
   "cell_type": "markdown",
   "id": "b6439572",
   "metadata": {},
   "source": [
    "### Check the saved file"
   ]
  },
  {
   "cell_type": "code",
   "execution_count": null,
   "id": "cc43241a",
   "metadata": {},
   "outputs": [],
   "source": [
    "fo = ROOT.TFile(diname+foname)\n",
    "# fo = ROOT.TFile(\"/eos/user/l/lkang/Active_Research/Templates/SManalysis_split/2017/Untag/4mu/Untag_4mu_137p1invfb_ggH4landVBF4landqqbar_mostEW_RECOpassedevents_mvar21d1reg20d2reg20.input.root\")\n",
    "\n",
    "fo.ls()\n",
    "\n",
    "c1 = ROOT.TCanvas(\"c1\",\"c1\",4480,600)\n",
    "c1.Divide(len(proc),1)\n",
    "for i in range(len(proc)):\n",
    "    c1.cd(i+1)\n",
    "    eval(\"print(proc[i], '\\t\\t=', fo.\"+proc[i]+\".Integral())\")\n",
    "#     eval(\"print(fo.\"+proc[i]+\".Integral())\")\n",
    "    eval(\"fo.\"+proc[i]+\".Draw('hist')\")\n",
    "print()    \n",
    "\n",
    "c1.Draw()\n",
    "fo.Close()"
   ]
  },
  {
   "cell_type": "code",
   "execution_count": null,
   "id": "91243872",
   "metadata": {},
   "outputs": [],
   "source": []
  }
 ],
 "metadata": {
  "kernelspec": {
   "display_name": "Python 3",
   "language": "python",
   "name": "python3"
  },
  "language_info": {
   "codemirror_mode": {
    "name": "ipython",
    "version": 3
   },
   "file_extension": ".py",
   "mimetype": "text/x-python",
   "name": "python",
   "nbconvert_exporter": "python",
   "pygments_lexer": "ipython3",
   "version": "3.9.6"
  }
 },
 "nbformat": 4,
 "nbformat_minor": 5
}
