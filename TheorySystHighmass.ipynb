{
 "cells": [
  {
   "cell_type": "markdown",
   "id": "2c008997",
   "metadata": {},
   "source": [
    "# IMPORT LIBRARIES"
   ]
  },
  {
   "cell_type": "code",
   "execution_count": 1,
   "id": "ff540fb0",
   "metadata": {},
   "outputs": [
    {
     "name": "stdout",
     "output_type": "stream",
     "text": [
      "Welcome to JupyROOT 6.24/06\n"
     ]
    }
   ],
   "source": [
    "import os\n",
    "import glob\n",
    "import ROOT\n",
    "from math import sqrt\n",
    "import time\n",
    "#from os import path\n",
    "from pathlib import Path\n",
    "import re\n",
    "from tqdm.notebook import trange, tqdm\n",
    "import numpy as np\n",
    "from array import *\n",
    "%jsroot on"
   ]
  },
  {
   "cell_type": "markdown",
   "id": "01275ae9",
   "metadata": {},
   "source": [
    "# LOAD SPLINES AND DEFINE BINNING"
   ]
  },
  {
   "cell_type": "code",
   "execution_count": 2,
   "id": "9fc4748e",
   "metadata": {
    "scrolled": true
   },
   "outputs": [
    {
     "data": {
      "text/plain": [
       "137.10000000000002"
      ]
     },
     "execution_count": 2,
     "metadata": {},
     "output_type": "execute_result"
    }
   ],
   "source": [
    "35.9 + 41.5 + 59.7"
   ]
  },
  {
   "cell_type": "code",
   "execution_count": 3,
   "id": "98808fee",
   "metadata": {},
   "outputs": [],
   "source": [
    "lumi = {'MC_2016_CorrectBTag':35.9, 'MC_2017':41.5, 'MC_2018':59.7}"
   ]
  },
  {
   "cell_type": "code",
   "execution_count": 4,
   "id": "56d06c7a",
   "metadata": {},
   "outputs": [],
   "source": [
    "D2jetZHSpline = ROOT.TFile(\"/eos/user/l/lkang/Active_Research/Discriminants/RecoMEConstants/SmoothKDConstant_m4l_DjjZH_13TeV.root\").Get(\"sp_gr_varReco_Constant_Smooth\")\n",
    "D2jetWHSpline = ROOT.TFile(\"/eos/user/l/lkang/Active_Research/Discriminants/RecoMEConstants/SmoothKDConstant_m4l_DjjWH_13TeV.root\").Get(\"sp_gr_varReco_Constant_Smooth\")\n",
    "D2jetVBFSpline = ROOT.TFile(\"/eos/user/l/lkang/Active_Research/Discriminants/RecoMEConstants/SmoothKDConstant_m4l_DjjVBF_13TeV.root\").Get(\"sp_gr_varReco_Constant_Smooth\")\n",
    "\n",
    "#WPCshift = 1\n",
    "WPCshift2jv = 0.46386/(1. - 0.46386)\n",
    "WPCshift2jz = 0.91315/(1. - 0.91315)\n",
    "WPCshift2jw = 0.88384/(1. - 0.88384)"
   ]
  },
  {
   "cell_type": "code",
   "execution_count": 5,
   "id": "ba70b1eb",
   "metadata": {},
   "outputs": [],
   "source": [
    "DbkgkinSpline4e = ROOT.TFile(\"/eos/user/l/lkang/Active_Research/Discriminants/RecoMEConstants/SmoothKDConstant_m4l_Dbkgkin_4e_13TeV.root\").Get(\"sp_gr_varReco_Constant_Smooth\")\n",
    "DbkgkinSpline4mu = ROOT.TFile(\"/eos/user/l/lkang/Active_Research/Discriminants/RecoMEConstants/SmoothKDConstant_m4l_Dbkgkin_4mu_13TeV.root\").Get(\"sp_gr_varReco_Constant_Smooth\")\n",
    "DbkgkinSpline2e2mu = ROOT.TFile(\"/eos/user/l/lkang/Active_Research/Discriminants/RecoMEConstants/SmoothKDConstant_m4l_Dbkgkin_2e2mu_13TeV.root\").Get(\"sp_gr_varReco_Constant_Smooth\")\n",
    "\n",
    "DggbkgkinSpline4e = ROOT.TFile(\"/eos/user/l/lkang/Active_Research/Discriminants/RecoMEConstants/SmoothKDConstant_m4l_Dggbkgkin_4e_13TeV.root\").Get(\"sp_gr_varReco_Constant_Smooth\")\n",
    "DggbkgkinSpline4mu = ROOT.TFile(\"/eos/user/l/lkang/Active_Research/Discriminants/RecoMEConstants/SmoothKDConstant_m4l_Dggbkgkin_4mu_13TeV.root\").Get(\"sp_gr_varReco_Constant_Smooth\")\n",
    "DggbkgkinSpline2e2mu = ROOT.TFile(\"/eos/user/l/lkang/Active_Research/Discriminants/RecoMEConstants/SmoothKDConstant_m4l_Dggbkgkin_2e2mu_13TeV.root\").Get(\"sp_gr_varReco_Constant_Smooth\")"
   ]
  },
  {
   "cell_type": "code",
   "execution_count": 6,
   "id": "a442fd25",
   "metadata": {},
   "outputs": [],
   "source": [
    "DbkgjjEWQCDSpline4lHadVH = ROOT.TFile(\"/eos/user/l/lkang/Active_Research/Discriminants/RecoMEConstants/SmoothKDConstant_m4l_DbkgjjEWQCD_4l_HadVHTagged_13TeV.root\").Get(\"sp_gr_varReco_Constant_Smooth\")\n",
    "DbkgjjEWQCDSpline2l2lHadVH = ROOT.TFile(\"/eos/user/l/lkang/Active_Research/Discriminants/RecoMEConstants/SmoothKDConstant_m4l_DbkgjjEWQCD_2l2l_HadVHTagged_13TeV.root\").Get(\"sp_gr_varReco_Constant_Smooth\")\n",
    "\n",
    "DbkgjjEWQCDSpline4lJJVBF = ROOT.TFile(\"/eos/user/l/lkang/Active_Research/Discriminants/RecoMEConstants/SmoothKDConstant_m4l_DbkgjjEWQCD_4l_JJVBFTagged_13TeV.root\").Get(\"sp_gr_varReco_Constant_Smooth\")\n",
    "DbkgjjEWQCDSpline2l2lJJVBF = ROOT.TFile(\"/eos/user/l/lkang/Active_Research/Discriminants/RecoMEConstants/SmoothKDConstant_m4l_DbkgjjEWQCD_2l2l_JJVBFTagged_13TeV.root\").Get(\"sp_gr_varReco_Constant_Smooth\")"
   ]
  },
  {
   "cell_type": "code",
   "execution_count": 7,
   "id": "7974f04f",
   "metadata": {},
   "outputs": [],
   "source": [
    "medges = np.array([220, 230, 240, 250, 260, 280, 310, 340, 370, 400, 475, 550, 625, 700, 800, 900, 1000, 1200, 1600, 2000, 3000, 13000], dtype='float64')\n",
    "# medges = np.array([220, 230, 240, 250, 260, 280, 310, 340, 370, 400, 475, 550, 625, 700, 800, 900, 1000, 1200, 1600, 2000, 13000], dtype='float64')\n",
    "## medges = np.array([220, 260, 370, 625, 1000, 13000], dtype='float64')\n",
    "## medges = np.array([220, 400, 3000, 13000], dtype='float64')\n",
    "# medges = 5*np.arange(401, dtype='float64')\n",
    "#d1edges = np.arange(21, dtype='float64') / 20 * 12780 + 220\n",
    "##d1edges = np.array([ 220.,  316.,  412.,  508.,  604.,  700.,  796.,  892.,  988., 1084., 1180., 1276., 1372., 1468., 1564., 1660., 1756., 1852., 1948., 2044., 13000])\n",
    "##d1edges = np.array([ 220.,  828., 1436., 2044.])\n",
    "#d1edges = np.array([220, 4480, 8740, 13000], dtype='float64')\n",
    "#d1edges = np.array([220, 13000], dtype='float64')\n",
    "d1edges = np.arange(21, dtype='float64') / 20\n",
    "#d1edges = np.arange(6, dtype='float64') / 5\n",
    "# d1edges = np.arange(4, dtype='float64') / 3\n",
    "# d1edges = np.arange(3, dtype='float64') / 2\n",
    "d2edges = np.arange(21, dtype='float64') / 10 - 1\n",
    "#d2edges = np.arange(6, dtype='float64') / 2.5 - 1\n",
    "# d2edges = np.arange(4, dtype='float64') / 1.5 - 1\n",
    "# d2edges = np.arange(3, dtype='float64') / 1 - 1"
   ]
  },
  {
   "cell_type": "code",
   "execution_count": 8,
   "id": "f21626aa",
   "metadata": {
    "scrolled": true
   },
   "outputs": [
    {
     "name": "stdout",
     "output_type": "stream",
     "text": [
      "medges 22\n",
      "medges [  220.   230.   240.   250.   260.   280.   310.   340.   370.   400.\n",
      "   475.   550.   625.   700.   800.   900.  1000.  1200.  1600.  2000.\n",
      "  3000. 13000.]\n",
      "d1edges 21\n",
      "d1edges [0.   0.05 0.1  0.15 0.2  0.25 0.3  0.35 0.4  0.45 0.5  0.55 0.6  0.65\n",
      " 0.7  0.75 0.8  0.85 0.9  0.95 1.  ]\n",
      "d2edges 21\n",
      "d2edges [-1.  -0.9 -0.8 -0.7 -0.6 -0.5 -0.4 -0.3 -0.2 -0.1  0.   0.1  0.2  0.3\n",
      "  0.4  0.5  0.6  0.7  0.8  0.9  1. ]\n"
     ]
    }
   ],
   "source": [
    "print(\"medges\", len(medges))\n",
    "print(\"medges\", (medges))\n",
    "print(\"d1edges\", len(d1edges))\n",
    "print(\"d1edges\", (d1edges))\n",
    "print(\"d2edges\", len(d2edges))\n",
    "print(\"d2edges\", (d2edges))"
   ]
  },
  {
   "cell_type": "markdown",
   "id": "4c82c3d8",
   "metadata": {},
   "source": [
    "# CHOOSE INPUT TREES"
   ]
  },
  {
   "cell_type": "code",
   "execution_count": 9,
   "id": "07a7db0f",
   "metadata": {},
   "outputs": [],
   "source": [
    "#tree i made  \"/eos/user/s/skyriaco/Offshell/200205_CutBased/\""
   ]
  },
  {
   "cell_type": "markdown",
   "id": "e741ec17",
   "metadata": {},
   "source": [
    "### Read selected trees from user-specified file"
   ]
  },
  {
   "cell_type": "code",
   "execution_count": 13,
   "id": "c5f42100",
   "metadata": {},
   "outputs": [],
   "source": [
    "# treelistpath = \"/eos/user/l/lkang/Active_Research/Discriminants/alltaggedtrees.txt\"\n",
    "#treelistpath = \"/eos/user/s/skyriaco/SWAN_projects/Offshel_tempmaker/outputtree_list.txt\"\n",
    "#treelistpath = \"/eos/user/s/skyriaco/SWAN_projects/Offshel_tempmaker/alloutput.txt\"\n",
    "#treelistpath = \"/eos/user/s/skyriaco/SWAN_projects/Offshel_tempmaker/output_highmass1618.txt\"\n",
    "treelistpath = \"/eos/user/s/skyriaco/SWAN_projects/Offshel_tempmaker/output_highmass18.txt\"\n",
    "treelist = []\n",
    "\n",
    "with open(treelistpath) as f:\n",
    "    llist = [line.rstrip() for line in f]\n",
    "        \n",
    "for line in llist:\n",
    "    if Path(line).exists(): treelist.append(line)"
   ]
  },
  {
   "cell_type": "code",
   "execution_count": 14,
   "id": "6a9af1a2",
   "metadata": {
    "scrolled": true
   },
   "outputs": [
    {
     "name": "stdout",
     "output_type": "stream",
     "text": [
      "/eos/user/s/skyriaco/Offshell/Syst/highmass/MC_18/200205_CutBased/MC_2018/HighMass/ExtraIgnore/DYToLL_2J/ZZ4lAnalysis.root\n",
      "/eos/user/s/skyriaco/Offshell/Syst/highmass/MC_18/200205_CutBased/MC_2018/HighMass/VBFH1000/ZZ4lAnalysis.root\n",
      "/eos/user/s/skyriaco/Offshell/Syst/highmass/MC_18/200205_CutBased/MC_2018/HighMass/VBFH115/ZZ4lAnalysis.root\n",
      "/eos/user/s/skyriaco/Offshell/Syst/highmass/MC_18/200205_CutBased/MC_2018/HighMass/VBFH135/ZZ4lAnalysis.root\n",
      "/eos/user/s/skyriaco/Offshell/Syst/highmass/MC_18/200205_CutBased/MC_2018/HighMass/VBFH140/ZZ4lAnalysis.root\n",
      "/eos/user/s/skyriaco/Offshell/Syst/highmass/MC_18/200205_CutBased/MC_2018/HighMass/VBFH145/ZZ4lAnalysis.root\n",
      "/eos/user/s/skyriaco/Offshell/Syst/highmass/MC_18/200205_CutBased/MC_2018/HighMass/VBFH150/ZZ4lAnalysis.root\n",
      "/eos/user/s/skyriaco/Offshell/Syst/highmass/MC_18/200205_CutBased/MC_2018/HighMass/VBFH1500/ZZ4lAnalysis.root\n",
      "/eos/user/s/skyriaco/Offshell/Syst/highmass/MC_18/200205_CutBased/MC_2018/HighMass/VBFH155/ZZ4lAnalysis.root\n",
      "/eos/user/s/skyriaco/Offshell/Syst/highmass/MC_18/200205_CutBased/MC_2018/HighMass/VBFH160/ZZ4lAnalysis.root\n",
      "/eos/user/s/skyriaco/Offshell/Syst/highmass/MC_18/200205_CutBased/MC_2018/HighMass/VBFH165/ZZ4lAnalysis.root\n",
      "/eos/user/s/skyriaco/Offshell/Syst/highmass/MC_18/200205_CutBased/MC_2018/HighMass/VBFH170/ZZ4lAnalysis.root\n",
      "/eos/user/s/skyriaco/Offshell/Syst/highmass/MC_18/200205_CutBased/MC_2018/HighMass/VBFH175/ZZ4lAnalysis.root\n",
      "/eos/user/s/skyriaco/Offshell/Syst/highmass/MC_18/200205_CutBased/MC_2018/HighMass/VBFH180/ZZ4lAnalysis.root\n",
      "/eos/user/s/skyriaco/Offshell/Syst/highmass/MC_18/200205_CutBased/MC_2018/HighMass/VBFH190/ZZ4lAnalysis.root\n",
      "/eos/user/s/skyriaco/Offshell/Syst/highmass/MC_18/200205_CutBased/MC_2018/HighMass/VBFH200/ZZ4lAnalysis.root\n",
      "/eos/user/s/skyriaco/Offshell/Syst/highmass/MC_18/200205_CutBased/MC_2018/HighMass/VBFH2000/ZZ4lAnalysis.root\n",
      "/eos/user/s/skyriaco/Offshell/Syst/highmass/MC_18/200205_CutBased/MC_2018/HighMass/VBFH210/ZZ4lAnalysis.root\n",
      "/eos/user/s/skyriaco/Offshell/Syst/highmass/MC_18/200205_CutBased/MC_2018/HighMass/VBFH230/ZZ4lAnalysis.root\n",
      "/eos/user/s/skyriaco/Offshell/Syst/highmass/MC_18/200205_CutBased/MC_2018/HighMass/VBFH250/ZZ4lAnalysis.root\n",
      "/eos/user/s/skyriaco/Offshell/Syst/highmass/MC_18/200205_CutBased/MC_2018/HighMass/VBFH2500/ZZ4lAnalysis.root\n",
      "/eos/user/s/skyriaco/Offshell/Syst/highmass/MC_18/200205_CutBased/MC_2018/HighMass/VBFH270/ZZ4lAnalysis.root\n",
      "/eos/user/s/skyriaco/Offshell/Syst/highmass/MC_18/200205_CutBased/MC_2018/HighMass/VBFH300/ZZ4lAnalysis.root\n",
      "/eos/user/s/skyriaco/Offshell/Syst/highmass/MC_18/200205_CutBased/MC_2018/HighMass/VBFH350/ZZ4lAnalysis.root\n",
      "/eos/user/s/skyriaco/Offshell/Syst/highmass/MC_18/200205_CutBased/MC_2018/HighMass/VBFH400/ZZ4lAnalysis.root\n",
      "/eos/user/s/skyriaco/Offshell/Syst/highmass/MC_18/200205_CutBased/MC_2018/HighMass/VBFH450/ZZ4lAnalysis.root\n",
      "/eos/user/s/skyriaco/Offshell/Syst/highmass/MC_18/200205_CutBased/MC_2018/HighMass/VBFH500/ZZ4lAnalysis.root\n",
      "/eos/user/s/skyriaco/Offshell/Syst/highmass/MC_18/200205_CutBased/MC_2018/HighMass/VBFH550/ZZ4lAnalysis.root\n",
      "/eos/user/s/skyriaco/Offshell/Syst/highmass/MC_18/200205_CutBased/MC_2018/HighMass/VBFH600/ZZ4lAnalysis.root\n",
      "/eos/user/s/skyriaco/Offshell/Syst/highmass/MC_18/200205_CutBased/MC_2018/HighMass/VBFH700/ZZ4lAnalysis.root\n",
      "/eos/user/s/skyriaco/Offshell/Syst/highmass/MC_18/200205_CutBased/MC_2018/HighMass/VBFH750/ZZ4lAnalysis.root\n",
      "/eos/user/s/skyriaco/Offshell/Syst/highmass/MC_18/200205_CutBased/MC_2018/HighMass/VBFH800/ZZ4lAnalysis.root\n",
      "/eos/user/s/skyriaco/Offshell/Syst/highmass/MC_18/200205_CutBased/MC_2018/HighMass/VBFH900/ZZ4lAnalysis.root\n",
      "/eos/user/s/skyriaco/Offshell/Syst/highmass/MC_18/200205_CutBased/MC_2018/HighMass/VBFTo2e2muJJ_0PMH125_phantom128/ZZ4lAnalysis.root\n",
      "/eos/user/s/skyriaco/Offshell/Syst/highmass/MC_18/200205_CutBased/MC_2018/HighMass/VBFTo2e2muJJ_Contin_phantom128/ZZ4lAnalysis.root\n",
      "/eos/user/s/skyriaco/Offshell/Syst/highmass/MC_18/200205_CutBased/MC_2018/HighMass/VBFTo4eJJ_0PMH125_phantom128/ZZ4lAnalysis.root\n",
      "/eos/user/s/skyriaco/Offshell/Syst/highmass/MC_18/200205_CutBased/MC_2018/HighMass/VBFTo4eJJ_Contin_phantom128/ZZ4lAnalysis.root\n",
      "/eos/user/s/skyriaco/Offshell/Syst/highmass/MC_18/200205_CutBased/MC_2018/HighMass/WminusH175/ZZ4lAnalysis.root\n",
      "/eos/user/s/skyriaco/Offshell/Syst/highmass/MC_18/200205_CutBased/MC_2018/HighMass/WminusH250/ZZ4lAnalysis.root\n",
      "/eos/user/s/skyriaco/Offshell/Syst/highmass/MC_18/200205_CutBased/MC_2018/HighMass/WminusH2500/ZZ4lAnalysis.root\n",
      "/eos/user/s/skyriaco/Offshell/Syst/highmass/MC_18/200205_CutBased/MC_2018/HighMass/WminusH270/ZZ4lAnalysis.root\n",
      "/eos/user/s/skyriaco/Offshell/Syst/highmass/MC_18/200205_CutBased/MC_2018/HighMass/WminusH300/ZZ4lAnalysis.root\n",
      "/eos/user/s/skyriaco/Offshell/Syst/highmass/MC_18/200205_CutBased/MC_2018/HighMass/WminusH3000/ZZ4lAnalysis.root\n",
      "/eos/user/s/skyriaco/Offshell/Syst/highmass/MC_18/200205_CutBased/MC_2018/HighMass/WminusH350/ZZ4lAnalysis.root\n",
      "/eos/user/s/skyriaco/Offshell/Syst/highmass/MC_18/200205_CutBased/MC_2018/HighMass/WminusH400/ZZ4lAnalysis.root\n",
      "/eos/user/s/skyriaco/Offshell/Syst/highmass/MC_18/200205_CutBased/MC_2018/HighMass/WminusH450/ZZ4lAnalysis.root\n",
      "/eos/user/s/skyriaco/Offshell/Syst/highmass/MC_18/200205_CutBased/MC_2018/HighMass/WminusH500/ZZ4lAnalysis.root\n",
      "/eos/user/s/skyriaco/Offshell/Syst/highmass/MC_18/200205_CutBased/MC_2018/HighMass/WminusH550/ZZ4lAnalysis.root\n",
      "/eos/user/s/skyriaco/Offshell/Syst/highmass/MC_18/200205_CutBased/MC_2018/HighMass/WminusH600/ZZ4lAnalysis.root\n",
      "/eos/user/s/skyriaco/Offshell/Syst/highmass/MC_18/200205_CutBased/MC_2018/HighMass/WminusH700/ZZ4lAnalysis.root\n",
      "/eos/user/s/skyriaco/Offshell/Syst/highmass/MC_18/200205_CutBased/MC_2018/HighMass/WminusH750/ZZ4lAnalysis.root\n",
      "/eos/user/s/skyriaco/Offshell/Syst/highmass/MC_18/200205_CutBased/MC_2018/HighMass/WminusH800/ZZ4lAnalysis.root\n",
      "/eos/user/s/skyriaco/Offshell/Syst/highmass/MC_18/200205_CutBased/MC_2018/HighMass/WminusH900/ZZ4lAnalysis.root\n",
      "/eos/user/s/skyriaco/Offshell/Syst/highmass/MC_18/200205_CutBased/MC_2018/HighMass/WplusH1000/ZZ4lAnalysis.root\n",
      "/eos/user/s/skyriaco/Offshell/Syst/highmass/MC_18/200205_CutBased/MC_2018/HighMass/WplusH115/ZZ4lAnalysis.root\n",
      "/eos/user/s/skyriaco/Offshell/Syst/highmass/MC_18/200205_CutBased/MC_2018/HighMass/WplusH135/ZZ4lAnalysis.root\n",
      "/eos/user/s/skyriaco/Offshell/Syst/highmass/MC_18/200205_CutBased/MC_2018/HighMass/WplusH140/ZZ4lAnalysis.root\n",
      "/eos/user/s/skyriaco/Offshell/Syst/highmass/MC_18/200205_CutBased/MC_2018/HighMass/WplusH145/ZZ4lAnalysis.root\n",
      "/eos/user/s/skyriaco/Offshell/Syst/highmass/MC_18/200205_CutBased/MC_2018/HighMass/WplusH150/ZZ4lAnalysis.root\n",
      "/eos/user/s/skyriaco/Offshell/Syst/highmass/MC_18/200205_CutBased/MC_2018/HighMass/WplusH1500/ZZ4lAnalysis.root\n",
      "/eos/user/s/skyriaco/Offshell/Syst/highmass/MC_18/200205_CutBased/MC_2018/HighMass/WplusH155/ZZ4lAnalysis.root\n",
      "/eos/user/s/skyriaco/Offshell/Syst/highmass/MC_18/200205_CutBased/MC_2018/HighMass/WplusH160/ZZ4lAnalysis.root\n",
      "/eos/user/s/skyriaco/Offshell/Syst/highmass/MC_18/200205_CutBased/MC_2018/HighMass/WplusH165/ZZ4lAnalysis.root\n",
      "/eos/user/s/skyriaco/Offshell/Syst/highmass/MC_18/200205_CutBased/MC_2018/HighMass/WplusH170/ZZ4lAnalysis.root\n",
      "/eos/user/s/skyriaco/Offshell/Syst/highmass/MC_18/200205_CutBased/MC_2018/HighMass/WplusH175/ZZ4lAnalysis.root\n",
      "/eos/user/s/skyriaco/Offshell/Syst/highmass/MC_18/200205_CutBased/MC_2018/HighMass/WplusH180/ZZ4lAnalysis.root\n",
      "/eos/user/s/skyriaco/Offshell/Syst/highmass/MC_18/200205_CutBased/MC_2018/HighMass/WplusH190/ZZ4lAnalysis.root\n",
      "/eos/user/s/skyriaco/Offshell/Syst/highmass/MC_18/200205_CutBased/MC_2018/HighMass/WplusH200/ZZ4lAnalysis.root\n",
      "/eos/user/s/skyriaco/Offshell/Syst/highmass/MC_18/200205_CutBased/MC_2018/HighMass/WplusH2000/ZZ4lAnalysis.root\n",
      "/eos/user/s/skyriaco/Offshell/Syst/highmass/MC_18/200205_CutBased/MC_2018/HighMass/WplusH210/ZZ4lAnalysis.root\n",
      "/eos/user/s/skyriaco/Offshell/Syst/highmass/MC_18/200205_CutBased/MC_2018/HighMass/WplusH230/ZZ4lAnalysis.root\n",
      "/eos/user/s/skyriaco/Offshell/Syst/highmass/MC_18/200205_CutBased/MC_2018/HighMass/WplusH250/ZZ4lAnalysis.root\n",
      "/eos/user/s/skyriaco/Offshell/Syst/highmass/MC_18/200205_CutBased/MC_2018/HighMass/WplusH2500/ZZ4lAnalysis.root\n",
      "/eos/user/s/skyriaco/Offshell/Syst/highmass/MC_18/200205_CutBased/MC_2018/HighMass/WplusH270/ZZ4lAnalysis.root\n",
      "/eos/user/s/skyriaco/Offshell/Syst/highmass/MC_18/200205_CutBased/MC_2018/HighMass/WplusH300/ZZ4lAnalysis.root\n",
      "/eos/user/s/skyriaco/Offshell/Syst/highmass/MC_18/200205_CutBased/MC_2018/HighMass/WplusH3000/ZZ4lAnalysis.root\n",
      "/eos/user/s/skyriaco/Offshell/Syst/highmass/MC_18/200205_CutBased/MC_2018/HighMass/WplusH350/ZZ4lAnalysis.root\n",
      "/eos/user/s/skyriaco/Offshell/Syst/highmass/MC_18/200205_CutBased/MC_2018/HighMass/WplusH400/ZZ4lAnalysis.root\n",
      "/eos/user/s/skyriaco/Offshell/Syst/highmass/MC_18/200205_CutBased/MC_2018/HighMass/WplusH450/ZZ4lAnalysis.root\n",
      "/eos/user/s/skyriaco/Offshell/Syst/highmass/MC_18/200205_CutBased/MC_2018/HighMass/WplusH500/ZZ4lAnalysis.root\n",
      "/eos/user/s/skyriaco/Offshell/Syst/highmass/MC_18/200205_CutBased/MC_2018/HighMass/WplusH550/ZZ4lAnalysis.root\n",
      "/eos/user/s/skyriaco/Offshell/Syst/highmass/MC_18/200205_CutBased/MC_2018/HighMass/WplusH600/ZZ4lAnalysis.root\n",
      "/eos/user/s/skyriaco/Offshell/Syst/highmass/MC_18/200205_CutBased/MC_2018/HighMass/WplusH700/ZZ4lAnalysis.root\n",
      "/eos/user/s/skyriaco/Offshell/Syst/highmass/MC_18/200205_CutBased/MC_2018/HighMass/WplusH750/ZZ4lAnalysis.root\n",
      "/eos/user/s/skyriaco/Offshell/Syst/highmass/MC_18/200205_CutBased/MC_2018/HighMass/WplusH800/ZZ4lAnalysis.root\n",
      "/eos/user/s/skyriaco/Offshell/Syst/highmass/MC_18/200205_CutBased/MC_2018/HighMass/WplusH900/ZZ4lAnalysis.root\n",
      "/eos/user/s/skyriaco/Offshell/Syst/highmass/MC_18/200205_CutBased/MC_2018/HighMass/ZH1000/ZZ4lAnalysis.root\n",
      "/eos/user/s/skyriaco/Offshell/Syst/highmass/MC_18/200205_CutBased/MC_2018/HighMass/ZH115/ZZ4lAnalysis.root\n",
      "/eos/user/s/skyriaco/Offshell/Syst/highmass/MC_18/200205_CutBased/MC_2018/HighMass/ZH135/ZZ4lAnalysis.root\n",
      "/eos/user/s/skyriaco/Offshell/Syst/highmass/MC_18/200205_CutBased/MC_2018/HighMass/ZH140/ZZ4lAnalysis.root\n",
      "/eos/user/s/skyriaco/Offshell/Syst/highmass/MC_18/200205_CutBased/MC_2018/HighMass/ZH145/ZZ4lAnalysis.root\n",
      "/eos/user/s/skyriaco/Offshell/Syst/highmass/MC_18/200205_CutBased/MC_2018/HighMass/ZH150/ZZ4lAnalysis.root\n",
      "/eos/user/s/skyriaco/Offshell/Syst/highmass/MC_18/200205_CutBased/MC_2018/HighMass/ZH1500/ZZ4lAnalysis.root\n",
      "/eos/user/s/skyriaco/Offshell/Syst/highmass/MC_18/200205_CutBased/MC_2018/HighMass/ZH155/ZZ4lAnalysis.root\n",
      "/eos/user/s/skyriaco/Offshell/Syst/highmass/MC_18/200205_CutBased/MC_2018/HighMass/ZH160/ZZ4lAnalysis.root\n",
      "/eos/user/s/skyriaco/Offshell/Syst/highmass/MC_18/200205_CutBased/MC_2018/HighMass/ZH165/ZZ4lAnalysis.root\n",
      "/eos/user/s/skyriaco/Offshell/Syst/highmass/MC_18/200205_CutBased/MC_2018/HighMass/ZH170/ZZ4lAnalysis.root\n",
      "/eos/user/s/skyriaco/Offshell/Syst/highmass/MC_18/200205_CutBased/MC_2018/HighMass/ZH175/ZZ4lAnalysis.root\n",
      "/eos/user/s/skyriaco/Offshell/Syst/highmass/MC_18/200205_CutBased/MC_2018/HighMass/ZH180/ZZ4lAnalysis.root\n",
      "/eos/user/s/skyriaco/Offshell/Syst/highmass/MC_18/200205_CutBased/MC_2018/HighMass/ZH190/ZZ4lAnalysis.root\n",
      "/eos/user/s/skyriaco/Offshell/Syst/highmass/MC_18/200205_CutBased/MC_2018/HighMass/ZH200/ZZ4lAnalysis.root\n",
      "/eos/user/s/skyriaco/Offshell/Syst/highmass/MC_18/200205_CutBased/MC_2018/HighMass/ZH2000/ZZ4lAnalysis.root\n",
      "/eos/user/s/skyriaco/Offshell/Syst/highmass/MC_18/200205_CutBased/MC_2018/HighMass/ZH210/ZZ4lAnalysis.root\n",
      "/eos/user/s/skyriaco/Offshell/Syst/highmass/MC_18/200205_CutBased/MC_2018/HighMass/ZH230/ZZ4lAnalysis.root\n",
      "/eos/user/s/skyriaco/Offshell/Syst/highmass/MC_18/200205_CutBased/MC_2018/HighMass/ZH250/ZZ4lAnalysis.root\n",
      "/eos/user/s/skyriaco/Offshell/Syst/highmass/MC_18/200205_CutBased/MC_2018/HighMass/ZH2500/ZZ4lAnalysis.root\n",
      "/eos/user/s/skyriaco/Offshell/Syst/highmass/MC_18/200205_CutBased/MC_2018/HighMass/ZH270/ZZ4lAnalysis.root\n",
      "/eos/user/s/skyriaco/Offshell/Syst/highmass/MC_18/200205_CutBased/MC_2018/HighMass/ZH300/ZZ4lAnalysis.root\n",
      "/eos/user/s/skyriaco/Offshell/Syst/highmass/MC_18/200205_CutBased/MC_2018/HighMass/ZH3000/ZZ4lAnalysis.root\n",
      "/eos/user/s/skyriaco/Offshell/Syst/highmass/MC_18/200205_CutBased/MC_2018/HighMass/ZH350/ZZ4lAnalysis.root\n",
      "/eos/user/s/skyriaco/Offshell/Syst/highmass/MC_18/200205_CutBased/MC_2018/HighMass/ZH400/ZZ4lAnalysis.root\n",
      "/eos/user/s/skyriaco/Offshell/Syst/highmass/MC_18/200205_CutBased/MC_2018/HighMass/ZH450/ZZ4lAnalysis.root\n",
      "/eos/user/s/skyriaco/Offshell/Syst/highmass/MC_18/200205_CutBased/MC_2018/HighMass/ZH500/ZZ4lAnalysis.root\n",
      "/eos/user/s/skyriaco/Offshell/Syst/highmass/MC_18/200205_CutBased/MC_2018/HighMass/ZH550/ZZ4lAnalysis.root\n",
      "/eos/user/s/skyriaco/Offshell/Syst/highmass/MC_18/200205_CutBased/MC_2018/HighMass/ZH600/ZZ4lAnalysis.root\n",
      "/eos/user/s/skyriaco/Offshell/Syst/highmass/MC_18/200205_CutBased/MC_2018/HighMass/ZH700/ZZ4lAnalysis.root\n",
      "/eos/user/s/skyriaco/Offshell/Syst/highmass/MC_18/200205_CutBased/MC_2018/HighMass/ZH750/ZZ4lAnalysis.root\n",
      "/eos/user/s/skyriaco/Offshell/Syst/highmass/MC_18/200205_CutBased/MC_2018/HighMass/ZH800/ZZ4lAnalysis.root\n",
      "/eos/user/s/skyriaco/Offshell/Syst/highmass/MC_18/200205_CutBased/MC_2018/HighMass/ZH900/ZZ4lAnalysis.root\n",
      "/eos/user/s/skyriaco/Offshell/Syst/highmass/MC_18/200205_CutBased/MC_2018/HighMass/ggH1000/ZZ4lAnalysis.root\n",
      "/eos/user/s/skyriaco/Offshell/Syst/highmass/MC_18/200205_CutBased/MC_2018/HighMass/ggH115/ZZ4lAnalysis.root\n",
      "/eos/user/s/skyriaco/Offshell/Syst/highmass/MC_18/200205_CutBased/MC_2018/HighMass/ggH135/ZZ4lAnalysis.root\n",
      "/eos/user/s/skyriaco/Offshell/Syst/highmass/MC_18/200205_CutBased/MC_2018/HighMass/ggH140/ZZ4lAnalysis.root\n",
      "/eos/user/s/skyriaco/Offshell/Syst/highmass/MC_18/200205_CutBased/MC_2018/HighMass/ggH145/ZZ4lAnalysis.root\n",
      "/eos/user/s/skyriaco/Offshell/Syst/highmass/MC_18/200205_CutBased/MC_2018/HighMass/ggH150/ZZ4lAnalysis.root\n",
      "/eos/user/s/skyriaco/Offshell/Syst/highmass/MC_18/200205_CutBased/MC_2018/HighMass/ggH1500/ZZ4lAnalysis.root\n",
      "/eos/user/s/skyriaco/Offshell/Syst/highmass/MC_18/200205_CutBased/MC_2018/HighMass/ggH155/ZZ4lAnalysis.root\n",
      "/eos/user/s/skyriaco/Offshell/Syst/highmass/MC_18/200205_CutBased/MC_2018/HighMass/ggH160/ZZ4lAnalysis.root\n",
      "/eos/user/s/skyriaco/Offshell/Syst/highmass/MC_18/200205_CutBased/MC_2018/HighMass/ggH165/ZZ4lAnalysis.root\n",
      "/eos/user/s/skyriaco/Offshell/Syst/highmass/MC_18/200205_CutBased/MC_2018/HighMass/ggH170/ZZ4lAnalysis.root\n",
      "/eos/user/s/skyriaco/Offshell/Syst/highmass/MC_18/200205_CutBased/MC_2018/HighMass/ggH175/ZZ4lAnalysis.root\n",
      "/eos/user/s/skyriaco/Offshell/Syst/highmass/MC_18/200205_CutBased/MC_2018/HighMass/ggH180/ZZ4lAnalysis.root\n",
      "/eos/user/s/skyriaco/Offshell/Syst/highmass/MC_18/200205_CutBased/MC_2018/HighMass/ggH190/ZZ4lAnalysis.root\n",
      "/eos/user/s/skyriaco/Offshell/Syst/highmass/MC_18/200205_CutBased/MC_2018/HighMass/ggH200/ZZ4lAnalysis.root\n",
      "/eos/user/s/skyriaco/Offshell/Syst/highmass/MC_18/200205_CutBased/MC_2018/HighMass/ggH2000/ZZ4lAnalysis.root\n",
      "/eos/user/s/skyriaco/Offshell/Syst/highmass/MC_18/200205_CutBased/MC_2018/HighMass/ggH210/ZZ4lAnalysis.root\n",
      "/eos/user/s/skyriaco/Offshell/Syst/highmass/MC_18/200205_CutBased/MC_2018/HighMass/ggH230/ZZ4lAnalysis.root\n",
      "/eos/user/s/skyriaco/Offshell/Syst/highmass/MC_18/200205_CutBased/MC_2018/HighMass/ggH250/ZZ4lAnalysis.root\n",
      "/eos/user/s/skyriaco/Offshell/Syst/highmass/MC_18/200205_CutBased/MC_2018/HighMass/ggH2500/ZZ4lAnalysis.root\n",
      "/eos/user/s/skyriaco/Offshell/Syst/highmass/MC_18/200205_CutBased/MC_2018/HighMass/ggH270/ZZ4lAnalysis.root\n",
      "/eos/user/s/skyriaco/Offshell/Syst/highmass/MC_18/200205_CutBased/MC_2018/HighMass/ggH300/ZZ4lAnalysis.root\n",
      "/eos/user/s/skyriaco/Offshell/Syst/highmass/MC_18/200205_CutBased/MC_2018/HighMass/ggH3000/ZZ4lAnalysis.root\n",
      "/eos/user/s/skyriaco/Offshell/Syst/highmass/MC_18/200205_CutBased/MC_2018/HighMass/ggH300_minloHJJ/ZZ4lAnalysis.root\n",
      "/eos/user/s/skyriaco/Offshell/Syst/highmass/MC_18/200205_CutBased/MC_2018/HighMass/ggH300_tunedown_minloHJJ/ZZ4lAnalysis.root\n",
      "/eos/user/s/skyriaco/Offshell/Syst/highmass/MC_18/200205_CutBased/MC_2018/HighMass/ggH300_tuneup_minloHJJ/ZZ4lAnalysis.root\n",
      "/eos/user/s/skyriaco/Offshell/Syst/highmass/MC_18/200205_CutBased/MC_2018/HighMass/ggH350/ZZ4lAnalysis.root\n",
      "/eos/user/s/skyriaco/Offshell/Syst/highmass/MC_18/200205_CutBased/MC_2018/HighMass/ggH400/ZZ4lAnalysis.root\n",
      "/eos/user/s/skyriaco/Offshell/Syst/highmass/MC_18/200205_CutBased/MC_2018/HighMass/ggH450/ZZ4lAnalysis.root\n",
      "/eos/user/s/skyriaco/Offshell/Syst/highmass/MC_18/200205_CutBased/MC_2018/HighMass/ggH500/ZZ4lAnalysis.root\n",
      "/eos/user/s/skyriaco/Offshell/Syst/highmass/MC_18/200205_CutBased/MC_2018/HighMass/ggH550/ZZ4lAnalysis.root\n",
      "/eos/user/s/skyriaco/Offshell/Syst/highmass/MC_18/200205_CutBased/MC_2018/HighMass/ggH600/ZZ4lAnalysis.root\n",
      "/eos/user/s/skyriaco/Offshell/Syst/highmass/MC_18/200205_CutBased/MC_2018/HighMass/ggH700/ZZ4lAnalysis.root\n",
      "/eos/user/s/skyriaco/Offshell/Syst/highmass/MC_18/200205_CutBased/MC_2018/HighMass/ggH750/ZZ4lAnalysis.root\n",
      "/eos/user/s/skyriaco/Offshell/Syst/highmass/MC_18/200205_CutBased/MC_2018/HighMass/ggH800/ZZ4lAnalysis.root\n",
      "/eos/user/s/skyriaco/Offshell/Syst/highmass/MC_18/200205_CutBased/MC_2018/HighMass/ggH900/ZZ4lAnalysis.root\n"
     ]
    }
   ],
   "source": [
    "for t in treelist:\n",
    "    #if \"VBF\" in t:\n",
    "         print(t)"
   ]
  },
  {
   "cell_type": "code",
   "execution_count": 31,
   "id": "89141904",
   "metadata": {
    "scrolled": true
   },
   "outputs": [
    {
     "data": {
      "application/vnd.jupyter.widget-view+json": {
       "model_id": "11b65c368eef42aebe600c8d52872866",
       "version_major": 2,
       "version_minor": 0
      },
      "text/plain": [
       "  0%|          | 0/155 [00:00<?, ?it/s]"
      ]
     },
     "metadata": {},
     "output_type": "display_data"
    }
   ],
   "source": [
    "yeardict = {}\n",
    "\n",
    "for numfile in trange(len(treelist)):\n",
    "    filename = treelist[numfile]\n",
    "    ind = filename.split(\"/\").index(\"200205_CutBased\")\n",
    "#     tagtreefile = \"/\".join(filename.split(\"/\")[ind:])\n",
    "    year = filename.split(\"/\")[ind:][1]\n",
    "#     print(year)\n",
    "    if year not in yeardict.keys():\n",
    "        yeardict[year] = {}\n",
    "    else:\n",
    "        if \"ZZTo4l\" in filename.split(\"/\")[ind:][2]: prod = \"ZZTo4l\"\n",
    "        else: prod = filename.split(\"/\")[ind:][3]\n",
    "            \n",
    "        if prod not in yeardict[year]:\n",
    "        #    if 'gg' in prod:\n",
    "        #        yeardict[year][prod] = [[], [], []]\n",
    "        #    else:\n",
    "                yeardict[year][prod] = [[]]\n",
    "        if 'gg' in prod:\n",
    "            yeardict[year][prod][0].append(filename)\n",
    "            #if 'ggTo2e2mu' in filename:\n",
    "            #    yeardict[year][prod][0].append(filename)\n",
    "            #elif 'ggTo4e' in filename:\n",
    "            #    yeardict[year][prod][1].append(filename)\n",
    "            #elif 'ggTo4mu' in filename:\n",
    "            #    yeardict[year][prod][2].append(filename)\n",
    "        elif \"VBF\" in prod:\n",
    "            yeardict[year][prod][0].append(filename)\n",
    "        elif \"ZH\" in prod:    \n",
    "            yeardict[year][prod][0].append(filename)\n",
    "        elif \"Wplus\"   in prod:    \n",
    "            yeardict[year][prod][0].append(filename)  \n",
    "        elif \"Wminus\"   in prod:    \n",
    "            yeardict[year][prod][0].append(filename)   \n",
    "        elif prod == \"ZZTo4l\":\n",
    "            yeardict[year][prod][0].append(filename)\n",
    "        else:\n",
    "            print(\"ERROR: Cannot recognize production mode of \" + filename + \"! Tree not sorted!\")"
   ]
  },
  {
   "cell_type": "markdown",
   "id": "c17e73af",
   "metadata": {},
   "source": [
    "### Check organized trees"
   ]
  },
  {
   "cell_type": "code",
   "execution_count": 32,
   "id": "d406f4d6",
   "metadata": {},
   "outputs": [
    {
     "data": {
      "text/plain": [
       "{'MC_2018': {'VBFH1000': [['/eos/user/s/skyriaco/Offshell/Syst/highmass/MC_18/200205_CutBased/MC_2018/HighMass/VBFH1000/ZZ4lAnalysis.root']],\n",
       "  'VBFH115': [['/eos/user/s/skyriaco/Offshell/Syst/highmass/MC_18/200205_CutBased/MC_2018/HighMass/VBFH115/ZZ4lAnalysis.root']],\n",
       "  'VBFH135': [['/eos/user/s/skyriaco/Offshell/Syst/highmass/MC_18/200205_CutBased/MC_2018/HighMass/VBFH135/ZZ4lAnalysis.root']],\n",
       "  'VBFH140': [['/eos/user/s/skyriaco/Offshell/Syst/highmass/MC_18/200205_CutBased/MC_2018/HighMass/VBFH140/ZZ4lAnalysis.root']],\n",
       "  'VBFH145': [['/eos/user/s/skyriaco/Offshell/Syst/highmass/MC_18/200205_CutBased/MC_2018/HighMass/VBFH145/ZZ4lAnalysis.root']],\n",
       "  'VBFH150': [['/eos/user/s/skyriaco/Offshell/Syst/highmass/MC_18/200205_CutBased/MC_2018/HighMass/VBFH150/ZZ4lAnalysis.root']],\n",
       "  'VBFH1500': [['/eos/user/s/skyriaco/Offshell/Syst/highmass/MC_18/200205_CutBased/MC_2018/HighMass/VBFH1500/ZZ4lAnalysis.root']],\n",
       "  'VBFH155': [['/eos/user/s/skyriaco/Offshell/Syst/highmass/MC_18/200205_CutBased/MC_2018/HighMass/VBFH155/ZZ4lAnalysis.root']],\n",
       "  'VBFH160': [['/eos/user/s/skyriaco/Offshell/Syst/highmass/MC_18/200205_CutBased/MC_2018/HighMass/VBFH160/ZZ4lAnalysis.root']],\n",
       "  'VBFH165': [['/eos/user/s/skyriaco/Offshell/Syst/highmass/MC_18/200205_CutBased/MC_2018/HighMass/VBFH165/ZZ4lAnalysis.root']],\n",
       "  'VBFH170': [['/eos/user/s/skyriaco/Offshell/Syst/highmass/MC_18/200205_CutBased/MC_2018/HighMass/VBFH170/ZZ4lAnalysis.root']],\n",
       "  'VBFH175': [['/eos/user/s/skyriaco/Offshell/Syst/highmass/MC_18/200205_CutBased/MC_2018/HighMass/VBFH175/ZZ4lAnalysis.root']],\n",
       "  'VBFH180': [['/eos/user/s/skyriaco/Offshell/Syst/highmass/MC_18/200205_CutBased/MC_2018/HighMass/VBFH180/ZZ4lAnalysis.root']],\n",
       "  'VBFH190': [['/eos/user/s/skyriaco/Offshell/Syst/highmass/MC_18/200205_CutBased/MC_2018/HighMass/VBFH190/ZZ4lAnalysis.root']],\n",
       "  'VBFH200': [['/eos/user/s/skyriaco/Offshell/Syst/highmass/MC_18/200205_CutBased/MC_2018/HighMass/VBFH200/ZZ4lAnalysis.root']],\n",
       "  'VBFH2000': [['/eos/user/s/skyriaco/Offshell/Syst/highmass/MC_18/200205_CutBased/MC_2018/HighMass/VBFH2000/ZZ4lAnalysis.root']],\n",
       "  'VBFH210': [['/eos/user/s/skyriaco/Offshell/Syst/highmass/MC_18/200205_CutBased/MC_2018/HighMass/VBFH210/ZZ4lAnalysis.root']],\n",
       "  'VBFH230': [['/eos/user/s/skyriaco/Offshell/Syst/highmass/MC_18/200205_CutBased/MC_2018/HighMass/VBFH230/ZZ4lAnalysis.root']],\n",
       "  'VBFH250': [['/eos/user/s/skyriaco/Offshell/Syst/highmass/MC_18/200205_CutBased/MC_2018/HighMass/VBFH250/ZZ4lAnalysis.root']],\n",
       "  'VBFH2500': [['/eos/user/s/skyriaco/Offshell/Syst/highmass/MC_18/200205_CutBased/MC_2018/HighMass/VBFH2500/ZZ4lAnalysis.root']],\n",
       "  'VBFH270': [['/eos/user/s/skyriaco/Offshell/Syst/highmass/MC_18/200205_CutBased/MC_2018/HighMass/VBFH270/ZZ4lAnalysis.root']],\n",
       "  'VBFH300': [['/eos/user/s/skyriaco/Offshell/Syst/highmass/MC_18/200205_CutBased/MC_2018/HighMass/VBFH300/ZZ4lAnalysis.root']],\n",
       "  'VBFH350': [['/eos/user/s/skyriaco/Offshell/Syst/highmass/MC_18/200205_CutBased/MC_2018/HighMass/VBFH350/ZZ4lAnalysis.root']],\n",
       "  'VBFH400': [['/eos/user/s/skyriaco/Offshell/Syst/highmass/MC_18/200205_CutBased/MC_2018/HighMass/VBFH400/ZZ4lAnalysis.root']],\n",
       "  'VBFH450': [['/eos/user/s/skyriaco/Offshell/Syst/highmass/MC_18/200205_CutBased/MC_2018/HighMass/VBFH450/ZZ4lAnalysis.root']],\n",
       "  'VBFH500': [['/eos/user/s/skyriaco/Offshell/Syst/highmass/MC_18/200205_CutBased/MC_2018/HighMass/VBFH500/ZZ4lAnalysis.root']],\n",
       "  'VBFH550': [['/eos/user/s/skyriaco/Offshell/Syst/highmass/MC_18/200205_CutBased/MC_2018/HighMass/VBFH550/ZZ4lAnalysis.root']],\n",
       "  'VBFH600': [['/eos/user/s/skyriaco/Offshell/Syst/highmass/MC_18/200205_CutBased/MC_2018/HighMass/VBFH600/ZZ4lAnalysis.root']],\n",
       "  'VBFH700': [['/eos/user/s/skyriaco/Offshell/Syst/highmass/MC_18/200205_CutBased/MC_2018/HighMass/VBFH700/ZZ4lAnalysis.root']],\n",
       "  'VBFH750': [['/eos/user/s/skyriaco/Offshell/Syst/highmass/MC_18/200205_CutBased/MC_2018/HighMass/VBFH750/ZZ4lAnalysis.root']],\n",
       "  'VBFH800': [['/eos/user/s/skyriaco/Offshell/Syst/highmass/MC_18/200205_CutBased/MC_2018/HighMass/VBFH800/ZZ4lAnalysis.root']],\n",
       "  'VBFH900': [['/eos/user/s/skyriaco/Offshell/Syst/highmass/MC_18/200205_CutBased/MC_2018/HighMass/VBFH900/ZZ4lAnalysis.root']],\n",
       "  'VBFTo2e2muJJ_0PMH125_phantom128': [['/eos/user/s/skyriaco/Offshell/Syst/highmass/MC_18/200205_CutBased/MC_2018/HighMass/VBFTo2e2muJJ_0PMH125_phantom128/ZZ4lAnalysis.root']],\n",
       "  'VBFTo2e2muJJ_Contin_phantom128': [['/eos/user/s/skyriaco/Offshell/Syst/highmass/MC_18/200205_CutBased/MC_2018/HighMass/VBFTo2e2muJJ_Contin_phantom128/ZZ4lAnalysis.root']],\n",
       "  'VBFTo4eJJ_0PMH125_phantom128': [['/eos/user/s/skyriaco/Offshell/Syst/highmass/MC_18/200205_CutBased/MC_2018/HighMass/VBFTo4eJJ_0PMH125_phantom128/ZZ4lAnalysis.root']],\n",
       "  'VBFTo4eJJ_Contin_phantom128': [['/eos/user/s/skyriaco/Offshell/Syst/highmass/MC_18/200205_CutBased/MC_2018/HighMass/VBFTo4eJJ_Contin_phantom128/ZZ4lAnalysis.root']],\n",
       "  'WminusH175': [['/eos/user/s/skyriaco/Offshell/Syst/highmass/MC_18/200205_CutBased/MC_2018/HighMass/WminusH175/ZZ4lAnalysis.root']],\n",
       "  'WminusH250': [['/eos/user/s/skyriaco/Offshell/Syst/highmass/MC_18/200205_CutBased/MC_2018/HighMass/WminusH250/ZZ4lAnalysis.root']],\n",
       "  'WminusH2500': [['/eos/user/s/skyriaco/Offshell/Syst/highmass/MC_18/200205_CutBased/MC_2018/HighMass/WminusH2500/ZZ4lAnalysis.root']],\n",
       "  'WminusH270': [['/eos/user/s/skyriaco/Offshell/Syst/highmass/MC_18/200205_CutBased/MC_2018/HighMass/WminusH270/ZZ4lAnalysis.root']],\n",
       "  'WminusH300': [['/eos/user/s/skyriaco/Offshell/Syst/highmass/MC_18/200205_CutBased/MC_2018/HighMass/WminusH300/ZZ4lAnalysis.root']],\n",
       "  'WminusH3000': [['/eos/user/s/skyriaco/Offshell/Syst/highmass/MC_18/200205_CutBased/MC_2018/HighMass/WminusH3000/ZZ4lAnalysis.root']],\n",
       "  'WminusH350': [['/eos/user/s/skyriaco/Offshell/Syst/highmass/MC_18/200205_CutBased/MC_2018/HighMass/WminusH350/ZZ4lAnalysis.root']],\n",
       "  'WminusH400': [['/eos/user/s/skyriaco/Offshell/Syst/highmass/MC_18/200205_CutBased/MC_2018/HighMass/WminusH400/ZZ4lAnalysis.root']],\n",
       "  'WminusH450': [['/eos/user/s/skyriaco/Offshell/Syst/highmass/MC_18/200205_CutBased/MC_2018/HighMass/WminusH450/ZZ4lAnalysis.root']],\n",
       "  'WminusH500': [['/eos/user/s/skyriaco/Offshell/Syst/highmass/MC_18/200205_CutBased/MC_2018/HighMass/WminusH500/ZZ4lAnalysis.root']],\n",
       "  'WminusH550': [['/eos/user/s/skyriaco/Offshell/Syst/highmass/MC_18/200205_CutBased/MC_2018/HighMass/WminusH550/ZZ4lAnalysis.root']],\n",
       "  'WminusH600': [['/eos/user/s/skyriaco/Offshell/Syst/highmass/MC_18/200205_CutBased/MC_2018/HighMass/WminusH600/ZZ4lAnalysis.root']],\n",
       "  'WminusH700': [['/eos/user/s/skyriaco/Offshell/Syst/highmass/MC_18/200205_CutBased/MC_2018/HighMass/WminusH700/ZZ4lAnalysis.root']],\n",
       "  'WminusH750': [['/eos/user/s/skyriaco/Offshell/Syst/highmass/MC_18/200205_CutBased/MC_2018/HighMass/WminusH750/ZZ4lAnalysis.root']],\n",
       "  'WminusH800': [['/eos/user/s/skyriaco/Offshell/Syst/highmass/MC_18/200205_CutBased/MC_2018/HighMass/WminusH800/ZZ4lAnalysis.root']],\n",
       "  'WminusH900': [['/eos/user/s/skyriaco/Offshell/Syst/highmass/MC_18/200205_CutBased/MC_2018/HighMass/WminusH900/ZZ4lAnalysis.root']],\n",
       "  'WplusH1000': [['/eos/user/s/skyriaco/Offshell/Syst/highmass/MC_18/200205_CutBased/MC_2018/HighMass/WplusH1000/ZZ4lAnalysis.root']],\n",
       "  'WplusH115': [['/eos/user/s/skyriaco/Offshell/Syst/highmass/MC_18/200205_CutBased/MC_2018/HighMass/WplusH115/ZZ4lAnalysis.root']],\n",
       "  'WplusH135': [['/eos/user/s/skyriaco/Offshell/Syst/highmass/MC_18/200205_CutBased/MC_2018/HighMass/WplusH135/ZZ4lAnalysis.root']],\n",
       "  'WplusH140': [['/eos/user/s/skyriaco/Offshell/Syst/highmass/MC_18/200205_CutBased/MC_2018/HighMass/WplusH140/ZZ4lAnalysis.root']],\n",
       "  'WplusH145': [['/eos/user/s/skyriaco/Offshell/Syst/highmass/MC_18/200205_CutBased/MC_2018/HighMass/WplusH145/ZZ4lAnalysis.root']],\n",
       "  'WplusH150': [['/eos/user/s/skyriaco/Offshell/Syst/highmass/MC_18/200205_CutBased/MC_2018/HighMass/WplusH150/ZZ4lAnalysis.root']],\n",
       "  'WplusH1500': [['/eos/user/s/skyriaco/Offshell/Syst/highmass/MC_18/200205_CutBased/MC_2018/HighMass/WplusH1500/ZZ4lAnalysis.root']],\n",
       "  'WplusH155': [['/eos/user/s/skyriaco/Offshell/Syst/highmass/MC_18/200205_CutBased/MC_2018/HighMass/WplusH155/ZZ4lAnalysis.root']],\n",
       "  'WplusH160': [['/eos/user/s/skyriaco/Offshell/Syst/highmass/MC_18/200205_CutBased/MC_2018/HighMass/WplusH160/ZZ4lAnalysis.root']],\n",
       "  'WplusH165': [['/eos/user/s/skyriaco/Offshell/Syst/highmass/MC_18/200205_CutBased/MC_2018/HighMass/WplusH165/ZZ4lAnalysis.root']],\n",
       "  'WplusH170': [['/eos/user/s/skyriaco/Offshell/Syst/highmass/MC_18/200205_CutBased/MC_2018/HighMass/WplusH170/ZZ4lAnalysis.root']],\n",
       "  'WplusH175': [['/eos/user/s/skyriaco/Offshell/Syst/highmass/MC_18/200205_CutBased/MC_2018/HighMass/WplusH175/ZZ4lAnalysis.root']],\n",
       "  'WplusH180': [['/eos/user/s/skyriaco/Offshell/Syst/highmass/MC_18/200205_CutBased/MC_2018/HighMass/WplusH180/ZZ4lAnalysis.root']],\n",
       "  'WplusH190': [['/eos/user/s/skyriaco/Offshell/Syst/highmass/MC_18/200205_CutBased/MC_2018/HighMass/WplusH190/ZZ4lAnalysis.root']],\n",
       "  'WplusH200': [['/eos/user/s/skyriaco/Offshell/Syst/highmass/MC_18/200205_CutBased/MC_2018/HighMass/WplusH200/ZZ4lAnalysis.root']],\n",
       "  'WplusH2000': [['/eos/user/s/skyriaco/Offshell/Syst/highmass/MC_18/200205_CutBased/MC_2018/HighMass/WplusH2000/ZZ4lAnalysis.root']],\n",
       "  'WplusH210': [['/eos/user/s/skyriaco/Offshell/Syst/highmass/MC_18/200205_CutBased/MC_2018/HighMass/WplusH210/ZZ4lAnalysis.root']],\n",
       "  'WplusH230': [['/eos/user/s/skyriaco/Offshell/Syst/highmass/MC_18/200205_CutBased/MC_2018/HighMass/WplusH230/ZZ4lAnalysis.root']],\n",
       "  'WplusH250': [['/eos/user/s/skyriaco/Offshell/Syst/highmass/MC_18/200205_CutBased/MC_2018/HighMass/WplusH250/ZZ4lAnalysis.root']],\n",
       "  'WplusH2500': [['/eos/user/s/skyriaco/Offshell/Syst/highmass/MC_18/200205_CutBased/MC_2018/HighMass/WplusH2500/ZZ4lAnalysis.root']],\n",
       "  'WplusH270': [['/eos/user/s/skyriaco/Offshell/Syst/highmass/MC_18/200205_CutBased/MC_2018/HighMass/WplusH270/ZZ4lAnalysis.root']],\n",
       "  'WplusH300': [['/eos/user/s/skyriaco/Offshell/Syst/highmass/MC_18/200205_CutBased/MC_2018/HighMass/WplusH300/ZZ4lAnalysis.root']],\n",
       "  'WplusH3000': [['/eos/user/s/skyriaco/Offshell/Syst/highmass/MC_18/200205_CutBased/MC_2018/HighMass/WplusH3000/ZZ4lAnalysis.root']],\n",
       "  'WplusH350': [['/eos/user/s/skyriaco/Offshell/Syst/highmass/MC_18/200205_CutBased/MC_2018/HighMass/WplusH350/ZZ4lAnalysis.root']],\n",
       "  'WplusH400': [['/eos/user/s/skyriaco/Offshell/Syst/highmass/MC_18/200205_CutBased/MC_2018/HighMass/WplusH400/ZZ4lAnalysis.root']],\n",
       "  'WplusH450': [['/eos/user/s/skyriaco/Offshell/Syst/highmass/MC_18/200205_CutBased/MC_2018/HighMass/WplusH450/ZZ4lAnalysis.root']],\n",
       "  'WplusH500': [['/eos/user/s/skyriaco/Offshell/Syst/highmass/MC_18/200205_CutBased/MC_2018/HighMass/WplusH500/ZZ4lAnalysis.root']],\n",
       "  'WplusH550': [['/eos/user/s/skyriaco/Offshell/Syst/highmass/MC_18/200205_CutBased/MC_2018/HighMass/WplusH550/ZZ4lAnalysis.root']],\n",
       "  'WplusH600': [['/eos/user/s/skyriaco/Offshell/Syst/highmass/MC_18/200205_CutBased/MC_2018/HighMass/WplusH600/ZZ4lAnalysis.root']],\n",
       "  'WplusH700': [['/eos/user/s/skyriaco/Offshell/Syst/highmass/MC_18/200205_CutBased/MC_2018/HighMass/WplusH700/ZZ4lAnalysis.root']],\n",
       "  'WplusH750': [['/eos/user/s/skyriaco/Offshell/Syst/highmass/MC_18/200205_CutBased/MC_2018/HighMass/WplusH750/ZZ4lAnalysis.root']],\n",
       "  'WplusH800': [['/eos/user/s/skyriaco/Offshell/Syst/highmass/MC_18/200205_CutBased/MC_2018/HighMass/WplusH800/ZZ4lAnalysis.root']],\n",
       "  'WplusH900': [['/eos/user/s/skyriaco/Offshell/Syst/highmass/MC_18/200205_CutBased/MC_2018/HighMass/WplusH900/ZZ4lAnalysis.root']],\n",
       "  'ZH1000': [['/eos/user/s/skyriaco/Offshell/Syst/highmass/MC_18/200205_CutBased/MC_2018/HighMass/ZH1000/ZZ4lAnalysis.root']],\n",
       "  'ZH115': [['/eos/user/s/skyriaco/Offshell/Syst/highmass/MC_18/200205_CutBased/MC_2018/HighMass/ZH115/ZZ4lAnalysis.root']],\n",
       "  'ZH135': [['/eos/user/s/skyriaco/Offshell/Syst/highmass/MC_18/200205_CutBased/MC_2018/HighMass/ZH135/ZZ4lAnalysis.root']],\n",
       "  'ZH140': [['/eos/user/s/skyriaco/Offshell/Syst/highmass/MC_18/200205_CutBased/MC_2018/HighMass/ZH140/ZZ4lAnalysis.root']],\n",
       "  'ZH145': [['/eos/user/s/skyriaco/Offshell/Syst/highmass/MC_18/200205_CutBased/MC_2018/HighMass/ZH145/ZZ4lAnalysis.root']],\n",
       "  'ZH150': [['/eos/user/s/skyriaco/Offshell/Syst/highmass/MC_18/200205_CutBased/MC_2018/HighMass/ZH150/ZZ4lAnalysis.root']],\n",
       "  'ZH1500': [['/eos/user/s/skyriaco/Offshell/Syst/highmass/MC_18/200205_CutBased/MC_2018/HighMass/ZH1500/ZZ4lAnalysis.root']],\n",
       "  'ZH155': [['/eos/user/s/skyriaco/Offshell/Syst/highmass/MC_18/200205_CutBased/MC_2018/HighMass/ZH155/ZZ4lAnalysis.root']],\n",
       "  'ZH160': [['/eos/user/s/skyriaco/Offshell/Syst/highmass/MC_18/200205_CutBased/MC_2018/HighMass/ZH160/ZZ4lAnalysis.root']],\n",
       "  'ZH165': [['/eos/user/s/skyriaco/Offshell/Syst/highmass/MC_18/200205_CutBased/MC_2018/HighMass/ZH165/ZZ4lAnalysis.root']],\n",
       "  'ZH170': [['/eos/user/s/skyriaco/Offshell/Syst/highmass/MC_18/200205_CutBased/MC_2018/HighMass/ZH170/ZZ4lAnalysis.root']],\n",
       "  'ZH175': [['/eos/user/s/skyriaco/Offshell/Syst/highmass/MC_18/200205_CutBased/MC_2018/HighMass/ZH175/ZZ4lAnalysis.root']],\n",
       "  'ZH180': [['/eos/user/s/skyriaco/Offshell/Syst/highmass/MC_18/200205_CutBased/MC_2018/HighMass/ZH180/ZZ4lAnalysis.root']],\n",
       "  'ZH190': [['/eos/user/s/skyriaco/Offshell/Syst/highmass/MC_18/200205_CutBased/MC_2018/HighMass/ZH190/ZZ4lAnalysis.root']],\n",
       "  'ZH200': [['/eos/user/s/skyriaco/Offshell/Syst/highmass/MC_18/200205_CutBased/MC_2018/HighMass/ZH200/ZZ4lAnalysis.root']],\n",
       "  'ZH2000': [['/eos/user/s/skyriaco/Offshell/Syst/highmass/MC_18/200205_CutBased/MC_2018/HighMass/ZH2000/ZZ4lAnalysis.root']],\n",
       "  'ZH210': [['/eos/user/s/skyriaco/Offshell/Syst/highmass/MC_18/200205_CutBased/MC_2018/HighMass/ZH210/ZZ4lAnalysis.root']],\n",
       "  'ZH230': [['/eos/user/s/skyriaco/Offshell/Syst/highmass/MC_18/200205_CutBased/MC_2018/HighMass/ZH230/ZZ4lAnalysis.root']],\n",
       "  'ZH250': [['/eos/user/s/skyriaco/Offshell/Syst/highmass/MC_18/200205_CutBased/MC_2018/HighMass/ZH250/ZZ4lAnalysis.root']],\n",
       "  'ZH2500': [['/eos/user/s/skyriaco/Offshell/Syst/highmass/MC_18/200205_CutBased/MC_2018/HighMass/ZH2500/ZZ4lAnalysis.root']],\n",
       "  'ZH270': [['/eos/user/s/skyriaco/Offshell/Syst/highmass/MC_18/200205_CutBased/MC_2018/HighMass/ZH270/ZZ4lAnalysis.root']],\n",
       "  'ZH300': [['/eos/user/s/skyriaco/Offshell/Syst/highmass/MC_18/200205_CutBased/MC_2018/HighMass/ZH300/ZZ4lAnalysis.root']],\n",
       "  'ZH3000': [['/eos/user/s/skyriaco/Offshell/Syst/highmass/MC_18/200205_CutBased/MC_2018/HighMass/ZH3000/ZZ4lAnalysis.root']],\n",
       "  'ZH350': [['/eos/user/s/skyriaco/Offshell/Syst/highmass/MC_18/200205_CutBased/MC_2018/HighMass/ZH350/ZZ4lAnalysis.root']],\n",
       "  'ZH400': [['/eos/user/s/skyriaco/Offshell/Syst/highmass/MC_18/200205_CutBased/MC_2018/HighMass/ZH400/ZZ4lAnalysis.root']],\n",
       "  'ZH450': [['/eos/user/s/skyriaco/Offshell/Syst/highmass/MC_18/200205_CutBased/MC_2018/HighMass/ZH450/ZZ4lAnalysis.root']],\n",
       "  'ZH500': [['/eos/user/s/skyriaco/Offshell/Syst/highmass/MC_18/200205_CutBased/MC_2018/HighMass/ZH500/ZZ4lAnalysis.root']],\n",
       "  'ZH550': [['/eos/user/s/skyriaco/Offshell/Syst/highmass/MC_18/200205_CutBased/MC_2018/HighMass/ZH550/ZZ4lAnalysis.root']],\n",
       "  'ZH600': [['/eos/user/s/skyriaco/Offshell/Syst/highmass/MC_18/200205_CutBased/MC_2018/HighMass/ZH600/ZZ4lAnalysis.root']],\n",
       "  'ZH700': [['/eos/user/s/skyriaco/Offshell/Syst/highmass/MC_18/200205_CutBased/MC_2018/HighMass/ZH700/ZZ4lAnalysis.root']],\n",
       "  'ZH750': [['/eos/user/s/skyriaco/Offshell/Syst/highmass/MC_18/200205_CutBased/MC_2018/HighMass/ZH750/ZZ4lAnalysis.root']],\n",
       "  'ZH800': [['/eos/user/s/skyriaco/Offshell/Syst/highmass/MC_18/200205_CutBased/MC_2018/HighMass/ZH800/ZZ4lAnalysis.root']],\n",
       "  'ZH900': [['/eos/user/s/skyriaco/Offshell/Syst/highmass/MC_18/200205_CutBased/MC_2018/HighMass/ZH900/ZZ4lAnalysis.root']],\n",
       "  'ggH1000': [['/eos/user/s/skyriaco/Offshell/Syst/highmass/MC_18/200205_CutBased/MC_2018/HighMass/ggH1000/ZZ4lAnalysis.root']],\n",
       "  'ggH115': [['/eos/user/s/skyriaco/Offshell/Syst/highmass/MC_18/200205_CutBased/MC_2018/HighMass/ggH115/ZZ4lAnalysis.root']],\n",
       "  'ggH135': [['/eos/user/s/skyriaco/Offshell/Syst/highmass/MC_18/200205_CutBased/MC_2018/HighMass/ggH135/ZZ4lAnalysis.root']],\n",
       "  'ggH140': [['/eos/user/s/skyriaco/Offshell/Syst/highmass/MC_18/200205_CutBased/MC_2018/HighMass/ggH140/ZZ4lAnalysis.root']],\n",
       "  'ggH145': [['/eos/user/s/skyriaco/Offshell/Syst/highmass/MC_18/200205_CutBased/MC_2018/HighMass/ggH145/ZZ4lAnalysis.root']],\n",
       "  'ggH150': [['/eos/user/s/skyriaco/Offshell/Syst/highmass/MC_18/200205_CutBased/MC_2018/HighMass/ggH150/ZZ4lAnalysis.root']],\n",
       "  'ggH1500': [['/eos/user/s/skyriaco/Offshell/Syst/highmass/MC_18/200205_CutBased/MC_2018/HighMass/ggH1500/ZZ4lAnalysis.root']],\n",
       "  'ggH155': [['/eos/user/s/skyriaco/Offshell/Syst/highmass/MC_18/200205_CutBased/MC_2018/HighMass/ggH155/ZZ4lAnalysis.root']],\n",
       "  'ggH160': [['/eos/user/s/skyriaco/Offshell/Syst/highmass/MC_18/200205_CutBased/MC_2018/HighMass/ggH160/ZZ4lAnalysis.root']],\n",
       "  'ggH165': [['/eos/user/s/skyriaco/Offshell/Syst/highmass/MC_18/200205_CutBased/MC_2018/HighMass/ggH165/ZZ4lAnalysis.root']],\n",
       "  'ggH170': [['/eos/user/s/skyriaco/Offshell/Syst/highmass/MC_18/200205_CutBased/MC_2018/HighMass/ggH170/ZZ4lAnalysis.root']],\n",
       "  'ggH175': [['/eos/user/s/skyriaco/Offshell/Syst/highmass/MC_18/200205_CutBased/MC_2018/HighMass/ggH175/ZZ4lAnalysis.root']],\n",
       "  'ggH180': [['/eos/user/s/skyriaco/Offshell/Syst/highmass/MC_18/200205_CutBased/MC_2018/HighMass/ggH180/ZZ4lAnalysis.root']],\n",
       "  'ggH190': [['/eos/user/s/skyriaco/Offshell/Syst/highmass/MC_18/200205_CutBased/MC_2018/HighMass/ggH190/ZZ4lAnalysis.root']],\n",
       "  'ggH200': [['/eos/user/s/skyriaco/Offshell/Syst/highmass/MC_18/200205_CutBased/MC_2018/HighMass/ggH200/ZZ4lAnalysis.root']],\n",
       "  'ggH2000': [['/eos/user/s/skyriaco/Offshell/Syst/highmass/MC_18/200205_CutBased/MC_2018/HighMass/ggH2000/ZZ4lAnalysis.root']],\n",
       "  'ggH210': [['/eos/user/s/skyriaco/Offshell/Syst/highmass/MC_18/200205_CutBased/MC_2018/HighMass/ggH210/ZZ4lAnalysis.root']],\n",
       "  'ggH230': [['/eos/user/s/skyriaco/Offshell/Syst/highmass/MC_18/200205_CutBased/MC_2018/HighMass/ggH230/ZZ4lAnalysis.root']],\n",
       "  'ggH250': [['/eos/user/s/skyriaco/Offshell/Syst/highmass/MC_18/200205_CutBased/MC_2018/HighMass/ggH250/ZZ4lAnalysis.root']],\n",
       "  'ggH2500': [['/eos/user/s/skyriaco/Offshell/Syst/highmass/MC_18/200205_CutBased/MC_2018/HighMass/ggH2500/ZZ4lAnalysis.root']],\n",
       "  'ggH270': [['/eos/user/s/skyriaco/Offshell/Syst/highmass/MC_18/200205_CutBased/MC_2018/HighMass/ggH270/ZZ4lAnalysis.root']],\n",
       "  'ggH300': [['/eos/user/s/skyriaco/Offshell/Syst/highmass/MC_18/200205_CutBased/MC_2018/HighMass/ggH300/ZZ4lAnalysis.root']],\n",
       "  'ggH3000': [['/eos/user/s/skyriaco/Offshell/Syst/highmass/MC_18/200205_CutBased/MC_2018/HighMass/ggH3000/ZZ4lAnalysis.root']],\n",
       "  'ggH300_minloHJJ': [['/eos/user/s/skyriaco/Offshell/Syst/highmass/MC_18/200205_CutBased/MC_2018/HighMass/ggH300_minloHJJ/ZZ4lAnalysis.root']],\n",
       "  'ggH300_tunedown_minloHJJ': [['/eos/user/s/skyriaco/Offshell/Syst/highmass/MC_18/200205_CutBased/MC_2018/HighMass/ggH300_tunedown_minloHJJ/ZZ4lAnalysis.root']],\n",
       "  'ggH300_tuneup_minloHJJ': [['/eos/user/s/skyriaco/Offshell/Syst/highmass/MC_18/200205_CutBased/MC_2018/HighMass/ggH300_tuneup_minloHJJ/ZZ4lAnalysis.root']],\n",
       "  'ggH350': [['/eos/user/s/skyriaco/Offshell/Syst/highmass/MC_18/200205_CutBased/MC_2018/HighMass/ggH350/ZZ4lAnalysis.root']],\n",
       "  'ggH400': [['/eos/user/s/skyriaco/Offshell/Syst/highmass/MC_18/200205_CutBased/MC_2018/HighMass/ggH400/ZZ4lAnalysis.root']],\n",
       "  'ggH450': [['/eos/user/s/skyriaco/Offshell/Syst/highmass/MC_18/200205_CutBased/MC_2018/HighMass/ggH450/ZZ4lAnalysis.root']],\n",
       "  'ggH500': [['/eos/user/s/skyriaco/Offshell/Syst/highmass/MC_18/200205_CutBased/MC_2018/HighMass/ggH500/ZZ4lAnalysis.root']],\n",
       "  'ggH550': [['/eos/user/s/skyriaco/Offshell/Syst/highmass/MC_18/200205_CutBased/MC_2018/HighMass/ggH550/ZZ4lAnalysis.root']],\n",
       "  'ggH600': [['/eos/user/s/skyriaco/Offshell/Syst/highmass/MC_18/200205_CutBased/MC_2018/HighMass/ggH600/ZZ4lAnalysis.root']],\n",
       "  'ggH700': [['/eos/user/s/skyriaco/Offshell/Syst/highmass/MC_18/200205_CutBased/MC_2018/HighMass/ggH700/ZZ4lAnalysis.root']],\n",
       "  'ggH750': [['/eos/user/s/skyriaco/Offshell/Syst/highmass/MC_18/200205_CutBased/MC_2018/HighMass/ggH750/ZZ4lAnalysis.root']],\n",
       "  'ggH800': [['/eos/user/s/skyriaco/Offshell/Syst/highmass/MC_18/200205_CutBased/MC_2018/HighMass/ggH800/ZZ4lAnalysis.root']],\n",
       "  'ggH900': [['/eos/user/s/skyriaco/Offshell/Syst/highmass/MC_18/200205_CutBased/MC_2018/HighMass/ggH900/ZZ4lAnalysis.root']]}}"
      ]
     },
     "execution_count": 32,
     "metadata": {},
     "output_type": "execute_result"
    }
   ],
   "source": [
    "yeardict"
   ]
  },
  {
   "cell_type": "code",
   "execution_count": 33,
   "id": "3d66a3a4",
   "metadata": {},
   "outputs": [
    {
     "name": "stdout",
     "output_type": "stream",
     "text": [
      "{'MC_2018': {'VBFH1000': [['/eos/user/s/skyriaco/Offshell/Syst/highmass/MC_18/200205_CutBased/MC_2018/HighMass/VBFH1000/ZZ4lAnalysis.root']], 'VBFH115': [['/eos/user/s/skyriaco/Offshell/Syst/highmass/MC_18/200205_CutBased/MC_2018/HighMass/VBFH115/ZZ4lAnalysis.root']], 'VBFH135': [['/eos/user/s/skyriaco/Offshell/Syst/highmass/MC_18/200205_CutBased/MC_2018/HighMass/VBFH135/ZZ4lAnalysis.root']], 'VBFH140': [['/eos/user/s/skyriaco/Offshell/Syst/highmass/MC_18/200205_CutBased/MC_2018/HighMass/VBFH140/ZZ4lAnalysis.root']], 'VBFH145': [['/eos/user/s/skyriaco/Offshell/Syst/highmass/MC_18/200205_CutBased/MC_2018/HighMass/VBFH145/ZZ4lAnalysis.root']], 'VBFH150': [['/eos/user/s/skyriaco/Offshell/Syst/highmass/MC_18/200205_CutBased/MC_2018/HighMass/VBFH150/ZZ4lAnalysis.root']], 'VBFH1500': [['/eos/user/s/skyriaco/Offshell/Syst/highmass/MC_18/200205_CutBased/MC_2018/HighMass/VBFH1500/ZZ4lAnalysis.root']], 'VBFH155': [['/eos/user/s/skyriaco/Offshell/Syst/highmass/MC_18/200205_CutBased/MC_2018/HighMass/VBFH155/ZZ4lAnalysis.root']], 'VBFH160': [['/eos/user/s/skyriaco/Offshell/Syst/highmass/MC_18/200205_CutBased/MC_2018/HighMass/VBFH160/ZZ4lAnalysis.root']], 'VBFH165': [['/eos/user/s/skyriaco/Offshell/Syst/highmass/MC_18/200205_CutBased/MC_2018/HighMass/VBFH165/ZZ4lAnalysis.root']], 'VBFH170': [['/eos/user/s/skyriaco/Offshell/Syst/highmass/MC_18/200205_CutBased/MC_2018/HighMass/VBFH170/ZZ4lAnalysis.root']], 'VBFH175': [['/eos/user/s/skyriaco/Offshell/Syst/highmass/MC_18/200205_CutBased/MC_2018/HighMass/VBFH175/ZZ4lAnalysis.root']], 'VBFH180': [['/eos/user/s/skyriaco/Offshell/Syst/highmass/MC_18/200205_CutBased/MC_2018/HighMass/VBFH180/ZZ4lAnalysis.root']], 'VBFH190': [['/eos/user/s/skyriaco/Offshell/Syst/highmass/MC_18/200205_CutBased/MC_2018/HighMass/VBFH190/ZZ4lAnalysis.root']], 'VBFH200': [['/eos/user/s/skyriaco/Offshell/Syst/highmass/MC_18/200205_CutBased/MC_2018/HighMass/VBFH200/ZZ4lAnalysis.root']], 'VBFH2000': [['/eos/user/s/skyriaco/Offshell/Syst/highmass/MC_18/200205_CutBased/MC_2018/HighMass/VBFH2000/ZZ4lAnalysis.root']], 'VBFH210': [['/eos/user/s/skyriaco/Offshell/Syst/highmass/MC_18/200205_CutBased/MC_2018/HighMass/VBFH210/ZZ4lAnalysis.root']], 'VBFH230': [['/eos/user/s/skyriaco/Offshell/Syst/highmass/MC_18/200205_CutBased/MC_2018/HighMass/VBFH230/ZZ4lAnalysis.root']], 'VBFH250': [['/eos/user/s/skyriaco/Offshell/Syst/highmass/MC_18/200205_CutBased/MC_2018/HighMass/VBFH250/ZZ4lAnalysis.root']], 'VBFH2500': [['/eos/user/s/skyriaco/Offshell/Syst/highmass/MC_18/200205_CutBased/MC_2018/HighMass/VBFH2500/ZZ4lAnalysis.root']], 'VBFH270': [['/eos/user/s/skyriaco/Offshell/Syst/highmass/MC_18/200205_CutBased/MC_2018/HighMass/VBFH270/ZZ4lAnalysis.root']], 'VBFH300': [['/eos/user/s/skyriaco/Offshell/Syst/highmass/MC_18/200205_CutBased/MC_2018/HighMass/VBFH300/ZZ4lAnalysis.root']], 'VBFH350': [['/eos/user/s/skyriaco/Offshell/Syst/highmass/MC_18/200205_CutBased/MC_2018/HighMass/VBFH350/ZZ4lAnalysis.root']], 'VBFH400': [['/eos/user/s/skyriaco/Offshell/Syst/highmass/MC_18/200205_CutBased/MC_2018/HighMass/VBFH400/ZZ4lAnalysis.root']], 'VBFH450': [['/eos/user/s/skyriaco/Offshell/Syst/highmass/MC_18/200205_CutBased/MC_2018/HighMass/VBFH450/ZZ4lAnalysis.root']], 'VBFH500': [['/eos/user/s/skyriaco/Offshell/Syst/highmass/MC_18/200205_CutBased/MC_2018/HighMass/VBFH500/ZZ4lAnalysis.root']], 'VBFH550': [['/eos/user/s/skyriaco/Offshell/Syst/highmass/MC_18/200205_CutBased/MC_2018/HighMass/VBFH550/ZZ4lAnalysis.root']], 'VBFH600': [['/eos/user/s/skyriaco/Offshell/Syst/highmass/MC_18/200205_CutBased/MC_2018/HighMass/VBFH600/ZZ4lAnalysis.root']], 'VBFH700': [['/eos/user/s/skyriaco/Offshell/Syst/highmass/MC_18/200205_CutBased/MC_2018/HighMass/VBFH700/ZZ4lAnalysis.root']], 'VBFH750': [['/eos/user/s/skyriaco/Offshell/Syst/highmass/MC_18/200205_CutBased/MC_2018/HighMass/VBFH750/ZZ4lAnalysis.root']], 'VBFH800': [['/eos/user/s/skyriaco/Offshell/Syst/highmass/MC_18/200205_CutBased/MC_2018/HighMass/VBFH800/ZZ4lAnalysis.root']], 'VBFH900': [['/eos/user/s/skyriaco/Offshell/Syst/highmass/MC_18/200205_CutBased/MC_2018/HighMass/VBFH900/ZZ4lAnalysis.root']], 'VBFTo2e2muJJ_0PMH125_phantom128': [['/eos/user/s/skyriaco/Offshell/Syst/highmass/MC_18/200205_CutBased/MC_2018/HighMass/VBFTo2e2muJJ_0PMH125_phantom128/ZZ4lAnalysis.root']], 'VBFTo2e2muJJ_Contin_phantom128': [['/eos/user/s/skyriaco/Offshell/Syst/highmass/MC_18/200205_CutBased/MC_2018/HighMass/VBFTo2e2muJJ_Contin_phantom128/ZZ4lAnalysis.root']], 'VBFTo4eJJ_0PMH125_phantom128': [['/eos/user/s/skyriaco/Offshell/Syst/highmass/MC_18/200205_CutBased/MC_2018/HighMass/VBFTo4eJJ_0PMH125_phantom128/ZZ4lAnalysis.root']], 'VBFTo4eJJ_Contin_phantom128': [['/eos/user/s/skyriaco/Offshell/Syst/highmass/MC_18/200205_CutBased/MC_2018/HighMass/VBFTo4eJJ_Contin_phantom128/ZZ4lAnalysis.root']], 'WminusH175': [['/eos/user/s/skyriaco/Offshell/Syst/highmass/MC_18/200205_CutBased/MC_2018/HighMass/WminusH175/ZZ4lAnalysis.root']], 'WminusH250': [['/eos/user/s/skyriaco/Offshell/Syst/highmass/MC_18/200205_CutBased/MC_2018/HighMass/WminusH250/ZZ4lAnalysis.root']], 'WminusH2500': [['/eos/user/s/skyriaco/Offshell/Syst/highmass/MC_18/200205_CutBased/MC_2018/HighMass/WminusH2500/ZZ4lAnalysis.root']], 'WminusH270': [['/eos/user/s/skyriaco/Offshell/Syst/highmass/MC_18/200205_CutBased/MC_2018/HighMass/WminusH270/ZZ4lAnalysis.root']], 'WminusH300': [['/eos/user/s/skyriaco/Offshell/Syst/highmass/MC_18/200205_CutBased/MC_2018/HighMass/WminusH300/ZZ4lAnalysis.root']], 'WminusH3000': [['/eos/user/s/skyriaco/Offshell/Syst/highmass/MC_18/200205_CutBased/MC_2018/HighMass/WminusH3000/ZZ4lAnalysis.root']], 'WminusH350': [['/eos/user/s/skyriaco/Offshell/Syst/highmass/MC_18/200205_CutBased/MC_2018/HighMass/WminusH350/ZZ4lAnalysis.root']], 'WminusH400': [['/eos/user/s/skyriaco/Offshell/Syst/highmass/MC_18/200205_CutBased/MC_2018/HighMass/WminusH400/ZZ4lAnalysis.root']], 'WminusH450': [['/eos/user/s/skyriaco/Offshell/Syst/highmass/MC_18/200205_CutBased/MC_2018/HighMass/WminusH450/ZZ4lAnalysis.root']], 'WminusH500': [['/eos/user/s/skyriaco/Offshell/Syst/highmass/MC_18/200205_CutBased/MC_2018/HighMass/WminusH500/ZZ4lAnalysis.root']], 'WminusH550': [['/eos/user/s/skyriaco/Offshell/Syst/highmass/MC_18/200205_CutBased/MC_2018/HighMass/WminusH550/ZZ4lAnalysis.root']], 'WminusH600': [['/eos/user/s/skyriaco/Offshell/Syst/highmass/MC_18/200205_CutBased/MC_2018/HighMass/WminusH600/ZZ4lAnalysis.root']], 'WminusH700': [['/eos/user/s/skyriaco/Offshell/Syst/highmass/MC_18/200205_CutBased/MC_2018/HighMass/WminusH700/ZZ4lAnalysis.root']], 'WminusH750': [['/eos/user/s/skyriaco/Offshell/Syst/highmass/MC_18/200205_CutBased/MC_2018/HighMass/WminusH750/ZZ4lAnalysis.root']], 'WminusH800': [['/eos/user/s/skyriaco/Offshell/Syst/highmass/MC_18/200205_CutBased/MC_2018/HighMass/WminusH800/ZZ4lAnalysis.root']], 'WminusH900': [['/eos/user/s/skyriaco/Offshell/Syst/highmass/MC_18/200205_CutBased/MC_2018/HighMass/WminusH900/ZZ4lAnalysis.root']], 'WplusH1000': [['/eos/user/s/skyriaco/Offshell/Syst/highmass/MC_18/200205_CutBased/MC_2018/HighMass/WplusH1000/ZZ4lAnalysis.root']], 'WplusH115': [['/eos/user/s/skyriaco/Offshell/Syst/highmass/MC_18/200205_CutBased/MC_2018/HighMass/WplusH115/ZZ4lAnalysis.root']], 'WplusH135': [['/eos/user/s/skyriaco/Offshell/Syst/highmass/MC_18/200205_CutBased/MC_2018/HighMass/WplusH135/ZZ4lAnalysis.root']], 'WplusH140': [['/eos/user/s/skyriaco/Offshell/Syst/highmass/MC_18/200205_CutBased/MC_2018/HighMass/WplusH140/ZZ4lAnalysis.root']], 'WplusH145': [['/eos/user/s/skyriaco/Offshell/Syst/highmass/MC_18/200205_CutBased/MC_2018/HighMass/WplusH145/ZZ4lAnalysis.root']], 'WplusH150': [['/eos/user/s/skyriaco/Offshell/Syst/highmass/MC_18/200205_CutBased/MC_2018/HighMass/WplusH150/ZZ4lAnalysis.root']], 'WplusH1500': [['/eos/user/s/skyriaco/Offshell/Syst/highmass/MC_18/200205_CutBased/MC_2018/HighMass/WplusH1500/ZZ4lAnalysis.root']], 'WplusH155': [['/eos/user/s/skyriaco/Offshell/Syst/highmass/MC_18/200205_CutBased/MC_2018/HighMass/WplusH155/ZZ4lAnalysis.root']], 'WplusH160': [['/eos/user/s/skyriaco/Offshell/Syst/highmass/MC_18/200205_CutBased/MC_2018/HighMass/WplusH160/ZZ4lAnalysis.root']], 'WplusH165': [['/eos/user/s/skyriaco/Offshell/Syst/highmass/MC_18/200205_CutBased/MC_2018/HighMass/WplusH165/ZZ4lAnalysis.root']], 'WplusH170': [['/eos/user/s/skyriaco/Offshell/Syst/highmass/MC_18/200205_CutBased/MC_2018/HighMass/WplusH170/ZZ4lAnalysis.root']], 'WplusH175': [['/eos/user/s/skyriaco/Offshell/Syst/highmass/MC_18/200205_CutBased/MC_2018/HighMass/WplusH175/ZZ4lAnalysis.root']], 'WplusH180': [['/eos/user/s/skyriaco/Offshell/Syst/highmass/MC_18/200205_CutBased/MC_2018/HighMass/WplusH180/ZZ4lAnalysis.root']], 'WplusH190': [['/eos/user/s/skyriaco/Offshell/Syst/highmass/MC_18/200205_CutBased/MC_2018/HighMass/WplusH190/ZZ4lAnalysis.root']], 'WplusH200': [['/eos/user/s/skyriaco/Offshell/Syst/highmass/MC_18/200205_CutBased/MC_2018/HighMass/WplusH200/ZZ4lAnalysis.root']], 'WplusH2000': [['/eos/user/s/skyriaco/Offshell/Syst/highmass/MC_18/200205_CutBased/MC_2018/HighMass/WplusH2000/ZZ4lAnalysis.root']], 'WplusH210': [['/eos/user/s/skyriaco/Offshell/Syst/highmass/MC_18/200205_CutBased/MC_2018/HighMass/WplusH210/ZZ4lAnalysis.root']], 'WplusH230': [['/eos/user/s/skyriaco/Offshell/Syst/highmass/MC_18/200205_CutBased/MC_2018/HighMass/WplusH230/ZZ4lAnalysis.root']], 'WplusH250': [['/eos/user/s/skyriaco/Offshell/Syst/highmass/MC_18/200205_CutBased/MC_2018/HighMass/WplusH250/ZZ4lAnalysis.root']], 'WplusH2500': [['/eos/user/s/skyriaco/Offshell/Syst/highmass/MC_18/200205_CutBased/MC_2018/HighMass/WplusH2500/ZZ4lAnalysis.root']], 'WplusH270': [['/eos/user/s/skyriaco/Offshell/Syst/highmass/MC_18/200205_CutBased/MC_2018/HighMass/WplusH270/ZZ4lAnalysis.root']], 'WplusH300': [['/eos/user/s/skyriaco/Offshell/Syst/highmass/MC_18/200205_CutBased/MC_2018/HighMass/WplusH300/ZZ4lAnalysis.root']], 'WplusH3000': [['/eos/user/s/skyriaco/Offshell/Syst/highmass/MC_18/200205_CutBased/MC_2018/HighMass/WplusH3000/ZZ4lAnalysis.root']], 'WplusH350': [['/eos/user/s/skyriaco/Offshell/Syst/highmass/MC_18/200205_CutBased/MC_2018/HighMass/WplusH350/ZZ4lAnalysis.root']], 'WplusH400': [['/eos/user/s/skyriaco/Offshell/Syst/highmass/MC_18/200205_CutBased/MC_2018/HighMass/WplusH400/ZZ4lAnalysis.root']], 'WplusH450': [['/eos/user/s/skyriaco/Offshell/Syst/highmass/MC_18/200205_CutBased/MC_2018/HighMass/WplusH450/ZZ4lAnalysis.root']], 'WplusH500': [['/eos/user/s/skyriaco/Offshell/Syst/highmass/MC_18/200205_CutBased/MC_2018/HighMass/WplusH500/ZZ4lAnalysis.root']], 'WplusH550': [['/eos/user/s/skyriaco/Offshell/Syst/highmass/MC_18/200205_CutBased/MC_2018/HighMass/WplusH550/ZZ4lAnalysis.root']], 'WplusH600': [['/eos/user/s/skyriaco/Offshell/Syst/highmass/MC_18/200205_CutBased/MC_2018/HighMass/WplusH600/ZZ4lAnalysis.root']], 'WplusH700': [['/eos/user/s/skyriaco/Offshell/Syst/highmass/MC_18/200205_CutBased/MC_2018/HighMass/WplusH700/ZZ4lAnalysis.root']], 'WplusH750': [['/eos/user/s/skyriaco/Offshell/Syst/highmass/MC_18/200205_CutBased/MC_2018/HighMass/WplusH750/ZZ4lAnalysis.root']], 'WplusH800': [['/eos/user/s/skyriaco/Offshell/Syst/highmass/MC_18/200205_CutBased/MC_2018/HighMass/WplusH800/ZZ4lAnalysis.root']], 'WplusH900': [['/eos/user/s/skyriaco/Offshell/Syst/highmass/MC_18/200205_CutBased/MC_2018/HighMass/WplusH900/ZZ4lAnalysis.root']], 'ZH1000': [['/eos/user/s/skyriaco/Offshell/Syst/highmass/MC_18/200205_CutBased/MC_2018/HighMass/ZH1000/ZZ4lAnalysis.root']], 'ZH115': [['/eos/user/s/skyriaco/Offshell/Syst/highmass/MC_18/200205_CutBased/MC_2018/HighMass/ZH115/ZZ4lAnalysis.root']], 'ZH135': [['/eos/user/s/skyriaco/Offshell/Syst/highmass/MC_18/200205_CutBased/MC_2018/HighMass/ZH135/ZZ4lAnalysis.root']], 'ZH140': [['/eos/user/s/skyriaco/Offshell/Syst/highmass/MC_18/200205_CutBased/MC_2018/HighMass/ZH140/ZZ4lAnalysis.root']], 'ZH145': [['/eos/user/s/skyriaco/Offshell/Syst/highmass/MC_18/200205_CutBased/MC_2018/HighMass/ZH145/ZZ4lAnalysis.root']], 'ZH150': [['/eos/user/s/skyriaco/Offshell/Syst/highmass/MC_18/200205_CutBased/MC_2018/HighMass/ZH150/ZZ4lAnalysis.root']], 'ZH1500': [['/eos/user/s/skyriaco/Offshell/Syst/highmass/MC_18/200205_CutBased/MC_2018/HighMass/ZH1500/ZZ4lAnalysis.root']], 'ZH155': [['/eos/user/s/skyriaco/Offshell/Syst/highmass/MC_18/200205_CutBased/MC_2018/HighMass/ZH155/ZZ4lAnalysis.root']], 'ZH160': [['/eos/user/s/skyriaco/Offshell/Syst/highmass/MC_18/200205_CutBased/MC_2018/HighMass/ZH160/ZZ4lAnalysis.root']], 'ZH165': [['/eos/user/s/skyriaco/Offshell/Syst/highmass/MC_18/200205_CutBased/MC_2018/HighMass/ZH165/ZZ4lAnalysis.root']], 'ZH170': [['/eos/user/s/skyriaco/Offshell/Syst/highmass/MC_18/200205_CutBased/MC_2018/HighMass/ZH170/ZZ4lAnalysis.root']], 'ZH175': [['/eos/user/s/skyriaco/Offshell/Syst/highmass/MC_18/200205_CutBased/MC_2018/HighMass/ZH175/ZZ4lAnalysis.root']], 'ZH180': [['/eos/user/s/skyriaco/Offshell/Syst/highmass/MC_18/200205_CutBased/MC_2018/HighMass/ZH180/ZZ4lAnalysis.root']], 'ZH190': [['/eos/user/s/skyriaco/Offshell/Syst/highmass/MC_18/200205_CutBased/MC_2018/HighMass/ZH190/ZZ4lAnalysis.root']], 'ZH200': [['/eos/user/s/skyriaco/Offshell/Syst/highmass/MC_18/200205_CutBased/MC_2018/HighMass/ZH200/ZZ4lAnalysis.root']], 'ZH2000': [['/eos/user/s/skyriaco/Offshell/Syst/highmass/MC_18/200205_CutBased/MC_2018/HighMass/ZH2000/ZZ4lAnalysis.root']], 'ZH210': [['/eos/user/s/skyriaco/Offshell/Syst/highmass/MC_18/200205_CutBased/MC_2018/HighMass/ZH210/ZZ4lAnalysis.root']], 'ZH230': [['/eos/user/s/skyriaco/Offshell/Syst/highmass/MC_18/200205_CutBased/MC_2018/HighMass/ZH230/ZZ4lAnalysis.root']], 'ZH250': [['/eos/user/s/skyriaco/Offshell/Syst/highmass/MC_18/200205_CutBased/MC_2018/HighMass/ZH250/ZZ4lAnalysis.root']], 'ZH2500': [['/eos/user/s/skyriaco/Offshell/Syst/highmass/MC_18/200205_CutBased/MC_2018/HighMass/ZH2500/ZZ4lAnalysis.root']], 'ZH270': [['/eos/user/s/skyriaco/Offshell/Syst/highmass/MC_18/200205_CutBased/MC_2018/HighMass/ZH270/ZZ4lAnalysis.root']], 'ZH300': [['/eos/user/s/skyriaco/Offshell/Syst/highmass/MC_18/200205_CutBased/MC_2018/HighMass/ZH300/ZZ4lAnalysis.root']], 'ZH3000': [['/eos/user/s/skyriaco/Offshell/Syst/highmass/MC_18/200205_CutBased/MC_2018/HighMass/ZH3000/ZZ4lAnalysis.root']], 'ZH350': [['/eos/user/s/skyriaco/Offshell/Syst/highmass/MC_18/200205_CutBased/MC_2018/HighMass/ZH350/ZZ4lAnalysis.root']], 'ZH400': [['/eos/user/s/skyriaco/Offshell/Syst/highmass/MC_18/200205_CutBased/MC_2018/HighMass/ZH400/ZZ4lAnalysis.root']], 'ZH450': [['/eos/user/s/skyriaco/Offshell/Syst/highmass/MC_18/200205_CutBased/MC_2018/HighMass/ZH450/ZZ4lAnalysis.root']], 'ZH500': [['/eos/user/s/skyriaco/Offshell/Syst/highmass/MC_18/200205_CutBased/MC_2018/HighMass/ZH500/ZZ4lAnalysis.root']], 'ZH550': [['/eos/user/s/skyriaco/Offshell/Syst/highmass/MC_18/200205_CutBased/MC_2018/HighMass/ZH550/ZZ4lAnalysis.root']], 'ZH600': [['/eos/user/s/skyriaco/Offshell/Syst/highmass/MC_18/200205_CutBased/MC_2018/HighMass/ZH600/ZZ4lAnalysis.root']], 'ZH700': [['/eos/user/s/skyriaco/Offshell/Syst/highmass/MC_18/200205_CutBased/MC_2018/HighMass/ZH700/ZZ4lAnalysis.root']], 'ZH750': [['/eos/user/s/skyriaco/Offshell/Syst/highmass/MC_18/200205_CutBased/MC_2018/HighMass/ZH750/ZZ4lAnalysis.root']], 'ZH800': [['/eos/user/s/skyriaco/Offshell/Syst/highmass/MC_18/200205_CutBased/MC_2018/HighMass/ZH800/ZZ4lAnalysis.root']], 'ZH900': [['/eos/user/s/skyriaco/Offshell/Syst/highmass/MC_18/200205_CutBased/MC_2018/HighMass/ZH900/ZZ4lAnalysis.root']], 'ggH1000': [['/eos/user/s/skyriaco/Offshell/Syst/highmass/MC_18/200205_CutBased/MC_2018/HighMass/ggH1000/ZZ4lAnalysis.root']], 'ggH115': [['/eos/user/s/skyriaco/Offshell/Syst/highmass/MC_18/200205_CutBased/MC_2018/HighMass/ggH115/ZZ4lAnalysis.root']], 'ggH135': [['/eos/user/s/skyriaco/Offshell/Syst/highmass/MC_18/200205_CutBased/MC_2018/HighMass/ggH135/ZZ4lAnalysis.root']], 'ggH140': [['/eos/user/s/skyriaco/Offshell/Syst/highmass/MC_18/200205_CutBased/MC_2018/HighMass/ggH140/ZZ4lAnalysis.root']], 'ggH145': [['/eos/user/s/skyriaco/Offshell/Syst/highmass/MC_18/200205_CutBased/MC_2018/HighMass/ggH145/ZZ4lAnalysis.root']], 'ggH150': [['/eos/user/s/skyriaco/Offshell/Syst/highmass/MC_18/200205_CutBased/MC_2018/HighMass/ggH150/ZZ4lAnalysis.root']], 'ggH1500': [['/eos/user/s/skyriaco/Offshell/Syst/highmass/MC_18/200205_CutBased/MC_2018/HighMass/ggH1500/ZZ4lAnalysis.root']], 'ggH155': [['/eos/user/s/skyriaco/Offshell/Syst/highmass/MC_18/200205_CutBased/MC_2018/HighMass/ggH155/ZZ4lAnalysis.root']], 'ggH160': [['/eos/user/s/skyriaco/Offshell/Syst/highmass/MC_18/200205_CutBased/MC_2018/HighMass/ggH160/ZZ4lAnalysis.root']], 'ggH165': [['/eos/user/s/skyriaco/Offshell/Syst/highmass/MC_18/200205_CutBased/MC_2018/HighMass/ggH165/ZZ4lAnalysis.root']], 'ggH170': [['/eos/user/s/skyriaco/Offshell/Syst/highmass/MC_18/200205_CutBased/MC_2018/HighMass/ggH170/ZZ4lAnalysis.root']], 'ggH175': [['/eos/user/s/skyriaco/Offshell/Syst/highmass/MC_18/200205_CutBased/MC_2018/HighMass/ggH175/ZZ4lAnalysis.root']], 'ggH180': [['/eos/user/s/skyriaco/Offshell/Syst/highmass/MC_18/200205_CutBased/MC_2018/HighMass/ggH180/ZZ4lAnalysis.root']], 'ggH190': [['/eos/user/s/skyriaco/Offshell/Syst/highmass/MC_18/200205_CutBased/MC_2018/HighMass/ggH190/ZZ4lAnalysis.root']], 'ggH200': [['/eos/user/s/skyriaco/Offshell/Syst/highmass/MC_18/200205_CutBased/MC_2018/HighMass/ggH200/ZZ4lAnalysis.root']], 'ggH2000': [['/eos/user/s/skyriaco/Offshell/Syst/highmass/MC_18/200205_CutBased/MC_2018/HighMass/ggH2000/ZZ4lAnalysis.root']], 'ggH210': [['/eos/user/s/skyriaco/Offshell/Syst/highmass/MC_18/200205_CutBased/MC_2018/HighMass/ggH210/ZZ4lAnalysis.root']], 'ggH230': [['/eos/user/s/skyriaco/Offshell/Syst/highmass/MC_18/200205_CutBased/MC_2018/HighMass/ggH230/ZZ4lAnalysis.root']], 'ggH250': [['/eos/user/s/skyriaco/Offshell/Syst/highmass/MC_18/200205_CutBased/MC_2018/HighMass/ggH250/ZZ4lAnalysis.root']], 'ggH2500': [['/eos/user/s/skyriaco/Offshell/Syst/highmass/MC_18/200205_CutBased/MC_2018/HighMass/ggH2500/ZZ4lAnalysis.root']], 'ggH270': [['/eos/user/s/skyriaco/Offshell/Syst/highmass/MC_18/200205_CutBased/MC_2018/HighMass/ggH270/ZZ4lAnalysis.root']], 'ggH300': [['/eos/user/s/skyriaco/Offshell/Syst/highmass/MC_18/200205_CutBased/MC_2018/HighMass/ggH300/ZZ4lAnalysis.root']], 'ggH3000': [['/eos/user/s/skyriaco/Offshell/Syst/highmass/MC_18/200205_CutBased/MC_2018/HighMass/ggH3000/ZZ4lAnalysis.root']], 'ggH300_minloHJJ': [['/eos/user/s/skyriaco/Offshell/Syst/highmass/MC_18/200205_CutBased/MC_2018/HighMass/ggH300_minloHJJ/ZZ4lAnalysis.root']], 'ggH300_tunedown_minloHJJ': [['/eos/user/s/skyriaco/Offshell/Syst/highmass/MC_18/200205_CutBased/MC_2018/HighMass/ggH300_tunedown_minloHJJ/ZZ4lAnalysis.root']], 'ggH300_tuneup_minloHJJ': [['/eos/user/s/skyriaco/Offshell/Syst/highmass/MC_18/200205_CutBased/MC_2018/HighMass/ggH300_tuneup_minloHJJ/ZZ4lAnalysis.root']], 'ggH350': [['/eos/user/s/skyriaco/Offshell/Syst/highmass/MC_18/200205_CutBased/MC_2018/HighMass/ggH350/ZZ4lAnalysis.root']], 'ggH400': [['/eos/user/s/skyriaco/Offshell/Syst/highmass/MC_18/200205_CutBased/MC_2018/HighMass/ggH400/ZZ4lAnalysis.root']], 'ggH450': [['/eos/user/s/skyriaco/Offshell/Syst/highmass/MC_18/200205_CutBased/MC_2018/HighMass/ggH450/ZZ4lAnalysis.root']], 'ggH500': [['/eos/user/s/skyriaco/Offshell/Syst/highmass/MC_18/200205_CutBased/MC_2018/HighMass/ggH500/ZZ4lAnalysis.root']], 'ggH550': [['/eos/user/s/skyriaco/Offshell/Syst/highmass/MC_18/200205_CutBased/MC_2018/HighMass/ggH550/ZZ4lAnalysis.root']], 'ggH600': [['/eos/user/s/skyriaco/Offshell/Syst/highmass/MC_18/200205_CutBased/MC_2018/HighMass/ggH600/ZZ4lAnalysis.root']], 'ggH700': [['/eos/user/s/skyriaco/Offshell/Syst/highmass/MC_18/200205_CutBased/MC_2018/HighMass/ggH700/ZZ4lAnalysis.root']], 'ggH750': [['/eos/user/s/skyriaco/Offshell/Syst/highmass/MC_18/200205_CutBased/MC_2018/HighMass/ggH750/ZZ4lAnalysis.root']], 'ggH800': [['/eos/user/s/skyriaco/Offshell/Syst/highmass/MC_18/200205_CutBased/MC_2018/HighMass/ggH800/ZZ4lAnalysis.root']], 'ggH900': [['/eos/user/s/skyriaco/Offshell/Syst/highmass/MC_18/200205_CutBased/MC_2018/HighMass/ggH900/ZZ4lAnalysis.root']]}}\n"
     ]
    }
   ],
   "source": [
    "print (yeardict)"
   ]
  },
  {
   "cell_type": "markdown",
   "id": "f1ab6c6e",
   "metadata": {},
   "source": [
    "### Account for all bespoke EW MELA branches"
   ]
  },
  {
   "cell_type": "code",
   "execution_count": 34,
   "id": "00eb3589",
   "metadata": {},
   "outputs": [],
   "source": [
    "refsam4l = [\"VBFToContinToZZTo4l\", \"VBFToHiggs0L1ContinToZZTo4l\", \"VBFToHiggs0L1f025ph0ToZZTo4l\", \"VBFToHiggs0L1f05ph0ContinToZZTo4l\", \"VBFToHiggs0L1f05ph0ToZZTo4l\", \"VBFToHiggs0L1f075ph0ToZZTo4l\", \"VBFToHiggs0L1ToZZTo4l\", \"VBFToHiggs0MContinToZZTo4l\", \"VBFToHiggs0Mf025ph0ToZZTo4l\", \"VBFToHiggs0Mf05ph0ContinToZZTo4l\", \"VBFToHiggs0Mf05ph0ToZZTo4l\", \"VBFToHiggs0Mf075ph0ToZZTo4l\", \"VBFToHiggs0MToZZTo4l\", \"VBFToHiggs0PHContinToZZTo4l\", \"VBFToHiggs0PHf025ph0ToZZTo4l\", \"VBFToHiggs0PHf05ph0ContinToZZTo4l\", \"VBFToHiggs0PHf05ph0ToZZTo4l\", \"VBFToHiggs0PHf075ph0ToZZTo4l\", \"VBFToHiggs0PHToZZTo4l\", \"VBFToHiggs0PMContinToZZTo4l\", \"VBFToHiggs0PMToZZTo4l\"]"
   ]
  },
  {
   "cell_type": "code",
   "execution_count": 35,
   "id": "c98344f7",
   "metadata": {},
   "outputs": [],
   "source": [
    "refmel = [\"p_Gen_JJEW_BKG_MCFM\", \"p_Gen_JJEW_BSI_ghv1_0_ghv1prime2_m1549p165_MCFM\", \"p_Gen_JJEW_SIG_ghv1_1_ghv1prime2_m1177p11_MCFM\", \"p_Gen_JJEW_BSI_ghv1_1_ghv1prime2_m1549p165_MCFM\", \"p_Gen_JJEW_SIG_ghv1_1_ghv1prime2_m1549p165_MCFM\", \"p_Gen_JJEW_SIG_ghv1_1_ghv1prime2_m2038p82_MCFM\", \"p_Gen_JJEW_SIG_ghv1_0_ghv1prime2_m1549p165_MCFM\", \"p_Gen_JJEW_BSI_ghv1_0_ghv4_0p216499_MCFM\", \"p_Gen_JJEW_SIG_ghv1_1_ghv4_0p164504_MCFM\", \"p_Gen_JJEW_BSI_ghv1_1_ghv4_0p216499_MCFM\", \"p_Gen_JJEW_SIG_ghv1_1_ghv4_0p216499_MCFM\", \"p_Gen_JJEW_SIG_ghv1_1_ghv4_0p284929_MCFM\", \"p_Gen_JJEW_SIG_ghv1_0_ghv4_0p216499_MCFM\", \"p_Gen_JJEW_BSI_ghv1_0_ghv2_0p207049_MCFM\", \"p_Gen_JJEW_SIG_ghv1_1_ghv2_0p157323_MCFM\", \"p_Gen_JJEW_BSI_ghv1_1_ghv2_0p207049_MCFM\", \"p_Gen_JJEW_SIG_ghv1_1_ghv2_0p207049_MCFM\", \"p_Gen_JJEW_SIG_ghv1_1_ghv2_0p272492_MCFM\", \"p_Gen_JJEW_SIG_ghv1_0_ghv2_0p207049_MCFM\", \"p_Gen_JJEW_BSI_ghv1_1_MCFM\", \"p_Gen_JJEW_SIG_ghv1_1_MCFM\"]"
   ]
  },
  {
   "cell_type": "code",
   "execution_count": 36,
   "id": "675df0af",
   "metadata": {},
   "outputs": [],
   "source": [
    "refden = dict(zip(refsam4l, refmel))"
   ]
  },
  {
   "cell_type": "code",
   "execution_count": 37,
   "id": "83f5fd80",
   "metadata": {},
   "outputs": [
    {
     "data": {
      "text/plain": [
       "{'VBFToContinToZZTo4l': 'p_Gen_JJEW_BKG_MCFM',\n",
       " 'VBFToHiggs0L1ContinToZZTo4l': 'p_Gen_JJEW_BSI_ghv1_0_ghv1prime2_m1549p165_MCFM',\n",
       " 'VBFToHiggs0L1f025ph0ToZZTo4l': 'p_Gen_JJEW_SIG_ghv1_1_ghv1prime2_m1177p11_MCFM',\n",
       " 'VBFToHiggs0L1f05ph0ContinToZZTo4l': 'p_Gen_JJEW_BSI_ghv1_1_ghv1prime2_m1549p165_MCFM',\n",
       " 'VBFToHiggs0L1f05ph0ToZZTo4l': 'p_Gen_JJEW_SIG_ghv1_1_ghv1prime2_m1549p165_MCFM',\n",
       " 'VBFToHiggs0L1f075ph0ToZZTo4l': 'p_Gen_JJEW_SIG_ghv1_1_ghv1prime2_m2038p82_MCFM',\n",
       " 'VBFToHiggs0L1ToZZTo4l': 'p_Gen_JJEW_SIG_ghv1_0_ghv1prime2_m1549p165_MCFM',\n",
       " 'VBFToHiggs0MContinToZZTo4l': 'p_Gen_JJEW_BSI_ghv1_0_ghv4_0p216499_MCFM',\n",
       " 'VBFToHiggs0Mf025ph0ToZZTo4l': 'p_Gen_JJEW_SIG_ghv1_1_ghv4_0p164504_MCFM',\n",
       " 'VBFToHiggs0Mf05ph0ContinToZZTo4l': 'p_Gen_JJEW_BSI_ghv1_1_ghv4_0p216499_MCFM',\n",
       " 'VBFToHiggs0Mf05ph0ToZZTo4l': 'p_Gen_JJEW_SIG_ghv1_1_ghv4_0p216499_MCFM',\n",
       " 'VBFToHiggs0Mf075ph0ToZZTo4l': 'p_Gen_JJEW_SIG_ghv1_1_ghv4_0p284929_MCFM',\n",
       " 'VBFToHiggs0MToZZTo4l': 'p_Gen_JJEW_SIG_ghv1_0_ghv4_0p216499_MCFM',\n",
       " 'VBFToHiggs0PHContinToZZTo4l': 'p_Gen_JJEW_BSI_ghv1_0_ghv2_0p207049_MCFM',\n",
       " 'VBFToHiggs0PHf025ph0ToZZTo4l': 'p_Gen_JJEW_SIG_ghv1_1_ghv2_0p157323_MCFM',\n",
       " 'VBFToHiggs0PHf05ph0ContinToZZTo4l': 'p_Gen_JJEW_BSI_ghv1_1_ghv2_0p207049_MCFM',\n",
       " 'VBFToHiggs0PHf05ph0ToZZTo4l': 'p_Gen_JJEW_SIG_ghv1_1_ghv2_0p207049_MCFM',\n",
       " 'VBFToHiggs0PHf075ph0ToZZTo4l': 'p_Gen_JJEW_SIG_ghv1_1_ghv2_0p272492_MCFM',\n",
       " 'VBFToHiggs0PHToZZTo4l': 'p_Gen_JJEW_SIG_ghv1_0_ghv2_0p207049_MCFM',\n",
       " 'VBFToHiggs0PMContinToZZTo4l': 'p_Gen_JJEW_BSI_ghv1_1_MCFM',\n",
       " 'VBFToHiggs0PMToZZTo4l': 'p_Gen_JJEW_SIG_ghv1_1_MCFM'}"
      ]
     },
     "execution_count": 37,
     "metadata": {},
     "output_type": "execute_result"
    }
   ],
   "source": [
    "refden"
   ]
  },
  {
   "cell_type": "markdown",
   "id": "915a8a77",
   "metadata": {},
   "source": [
    "# REPEAT THIS SECTION AS NEEDED TO CREATE TEMPLATES AND FILL 'hlist'"
   ]
  },
  {
   "cell_type": "markdown",
   "id": "cd1eba08",
   "metadata": {},
   "source": [
    "##### Note that 'hlist' is expected to look like ['ggH SIG', 'ggH BSI', 'ggH BKG', 'EW SIG', 'EW BSI', 'EW BKG', 'qqbar BKG'] so make the appropriate histograms then append to 'hlist'\n",
    "##### As you change the year, production mode, final state, SIG/BKG/INT mix, and category, you should re-run the 'Fill histogram' cell and check the output before adding the next template to our 'hlist'"
   ]
  },
  {
   "cell_type": "markdown",
   "id": "4616deda",
   "metadata": {},
   "source": [
    "### Set up basic information. Make list to store histograms---do not evaluate this cell unless you want an empty instance of hlist!"
   ]
  },
  {
   "cell_type": "code",
   "execution_count": 38,
   "id": "7345c80b",
   "metadata": {},
   "outputs": [],
   "source": [
    "hlist = ['ggH SIG', 'ggH BSI', 'ggH BKG', 'qqbar BKG']"
   ]
  },
  {
   "cell_type": "code",
   "execution_count": 39,
   "id": "9e60cf56",
   "metadata": {},
   "outputs": [],
   "source": [
    "targetreweight = {\"gg\": [\"p_Gen_GG_SIG_kappaTopBot_1_ghz1_1_MCFM*KFactor_QCD_ggZZ_Nominal\", \"p_Gen_GG_BSI_kappaTopBot_1_ghz1_1_MCFM*KFactor_QCD_ggZZ_Nominal\", \"p_Gen_GG_BKG_MCFM*KFactor_QCD_ggZZ_Nominal\"],\n",
    "                 \"VBF\": [\"p_Gen_JJEW_SIG_ghv1_1_MCFM*0.5\", \"p_Gen_JJEW_BSI_ghv1_1_MCFM*0.5\", \"p_Gen_JJEW_BKG_MCFM*0.5\"],\n",
    "                 \"ZZTo4l\": [\"1\"]}\n",
    "\n",
    "finalstate = {\"4e\": \"121*121\", \"4mu\": \"169*169\", \"2e2mu\": \"121*169\"}"
   ]
  },
  {
   "cell_type": "code",
   "execution_count": 40,
   "id": "f6ea8efc",
   "metadata": {},
   "outputs": [],
   "source": [
    "proc = [\"ggH_0PM\", \"ggH_g11g21_negative\", \"ggH_g11g21_positive\", \"back_ggZZ\", \"back_qqZZ\", \"data_obs\"]"
   ]
  },
  {
   "cell_type": "code",
   "execution_count": null,
   "id": "63542270",
   "metadata": {},
   "outputs": [],
   "source": [
    "#\"qqH_0PM\", \"qqH_g12g22_negative\", \"qqH_g12g22_positive\", \"back_VVZZ\""
   ]
  },
  {
   "cell_type": "markdown",
   "id": "cabc97ea",
   "metadata": {},
   "source": [
    "### Choose year, production mode, final state, SIG/BKG/INT mix, and category"
   ]
  },
  {
   "cell_type": "code",
   "execution_count": 41,
   "id": "da52dbc5",
   "metadata": {},
   "outputs": [],
   "source": [
    "#configure what you would like to run\n",
    "\n",
    "ltargetyear = [\"MC_2018\"] #,\"MC_2016_CorrectBTag\",\"MC_2018\"]\n",
    "ltargetprod = [\"gg\"] #,\"VBF\",\"ZZTo4l\"]\n",
    "#ltargetstate = [\"4mu\",\"4e\",\"2e2mu\"]\n",
    "ltargetcomp = [0,1,2]    # SIG=0 BSI=1 BKG=2    (for the qqbar bkg events in 'ZZTo4l' this choice does not matter as you can see above)\n",
    "ltargetcateg = [0,1,2]  # Untag=0 VBF=1 VH=2"
   ]
  },
  {
   "cell_type": "markdown",
   "id": "7f30e643",
   "metadata": {},
   "source": [
    "### Fill histogram"
   ]
  },
  {
   "cell_type": "code",
   "execution_count": 43,
   "id": "d2b4ba86",
   "metadata": {
    "scrolled": true
   },
   "outputs": [],
   "source": [
    "#syst_weights = []\n",
    "\n",
    "\n",
    "\n",
    "def FillHist(targetprod,targetcomp,targetcateg,h_list) :\n",
    "\n",
    "    print (targetreweight[targetprod][targetcomp])\n",
    "    print (targetprod,targetcomp,targetcateg)\n",
    "    weight = \"{}*((Z1Flav*Z2Flav)==(121*121) ||(Z1Flav*Z2Flav)==(169*169) ||(Z1Flav*Z2Flav)==(121*169)  )*137.1*(ZZMass>=220)*(EventTag=={})*1000*xsec*overallEventWeight*L1prefiringWeight/Bin40\".format(targetreweight[targetprod][targetcomp], targetcateg)\n",
    "    weightewzzup = \"{}*(1.0 + KFactor_EW_qqZZ_unc)*((Z1Flav*Z2Flav)==(121*121) ||(Z1Flav*Z2Flav)==(169*169) ||(Z1Flav*Z2Flav)==(121*169)  )*137.1*(ZZMass>=220)*(EventTag=={})*1000*xsec*overallEventWeight*L1prefiringWeight/Bin40\".format(targetreweight[targetprod][targetcomp], targetcateg)\n",
    "    weightewzzdn = \"{}*(1.0 - KFactor_EW_qqZZ_unc)*((Z1Flav*Z2Flav)==(121*121) ||(Z1Flav*Z2Flav)==(169*169) ||(Z1Flav*Z2Flav)==(121*169)  )*137.1*(ZZMass>=220)*(EventTag=={})*1000*xsec*overallEventWeight*L1prefiringWeight/Bin40\".format(targetreweight[targetprod][targetcomp], targetcateg)\n",
    "    \n",
    "    weightqrup = \"{}*((Z1Flav*Z2Flav)==(121*121) ||(Z1Flav*Z2Flav)==(169*169) ||(Z1Flav*Z2Flav)==(121*169)  )*137.1*(ZZMass>=220)*(EventTag=={})*1000*xsec*overallEventWeight*L1prefiringWeight/Bin40\".format(targetreweight[targetprod][targetcomp], targetcateg)\n",
    "    weightqrdn = \"{}*((Z1Flav*Z2Flav)==(121*121) ||(Z1Flav*Z2Flav)==(169*169) ||(Z1Flav*Z2Flav)==(121*169)  )*137.1*(ZZMass>=220)*(EventTag=={})*1000*xsec*overallEventWeight*L1prefiringWeight/Bin40\".format(targetreweight[targetprod][targetcomp], targetcateg)\n",
    "\n",
    "    \n",
    "    LHEweightsUp = [\"LHEweight_QCDscale_muR2_muF1\",\"LHEweight_QCDscale_muR1_muF2\",\"LHEweight_PDFVariation_Up\",\"LHEweight_AsMZ_Up\",\"PythiaWeight_isr_muR4 * PythiaWeight_fsr_muR4\"]\n",
    "    LHEweightsDn = [\"LHEweight_QCDscale_muR0p5_muF1\",\"LHEweight_QCDscale_muR1_muF0p5\",\"LHEweight_PDFVariation_Dn\",\"LHEweight_AsMZ_Dn\",\"PythiaWeight_isr_muR0p25 * PythiaWeight_fsr_muR0p25\"]\n",
    "    \n",
    "    \n",
    "    hf_LHEup = []\n",
    "    hf_LHEdn = []\n",
    "    \n",
    "    for i,w_ght in enumerate(LHEweightsUp) : \n",
    "          LHEweightsUp[i] = w_ght+\"*\"+weight\n",
    "          print (LHEweightsUp[i])  \n",
    "          LHEweightsDn[i] = LHEweightsDn[i]+\"*\"+weight\n",
    "          h_temp = ROOT.TH1F(\"hf_\"+str(i),\"\",len(medges)-1, medges)\n",
    "          hf_LHEup.append(h_temp)\n",
    "          hf_LHEdn.append(h_temp)\n",
    " \n",
    "   \n",
    "    hf = ROOT.TH3F(\"hf\",\"\", len(medges)-1, medges, len(d1edges)-1, d1edges, len(d2edges)-1, d2edges)\n",
    "    hf_systdn = ROOT.TH1F(\"hf_kew_systdn\",\"\",100,0,2000)\n",
    "    hf_systup = ROOT.TH1F(\"hf_kew_systup\",\"\",100,0,2000)\n",
    "    hf_nom    = ROOT.TH1F(\"hf_nom\",\"\",100,0,2000)\n",
    "    hf_nomlhe = ROOT.TH1F(\"hf_nomlhe\",len(medges)-1, medges)\n",
    "    \n",
    "    hf_qr_up  = ROOT.TH1F(\"hf_qr_up\",\"\",100,0,2000)\n",
    "    hf_qr_dn  = ROOT.TH1F(\"hf_qr_dn\",\"\",100,0,2000)\n",
    "\n",
    "    \n",
    "    \n",
    "    \n",
    "    hf.SetDirectory(0)\n",
    "    hf_systdn.SetDirectory(0)\n",
    "    hf_systup.SetDirectory(0)\n",
    "    hf_nom.SetDirectory(0)\n",
    "    \n",
    "    for keynum in trange(len(yeardict.keys())):\n",
    "        year = list(yeardict.keys())[keynum]\n",
    "\n",
    "        #if year != targetyear: continue\n",
    "        #print(\"\\n\", year, lumi[year])\n",
    "\n",
    "        hs = ROOT.TH3F(\"hs\",\"\", len(medges)-1, medges, len(d1edges)-1, d1edges, len(d2edges)-1, d2edges)\n",
    "        hs_systdn = ROOT.TH1F(\"hs_kew_systdn\",\"\",100,0,2000)\n",
    "        hs_systup = ROOT.TH1F(\"hs_kew_systup\",\"\",100,0,2000)\n",
    "        hs_nom    = ROOT.TH1F(\"hs_nom\",\"\",100,0,2000)\n",
    "        hs_nomlhe = ROOT.TH1F(\"hs_nomlhe\",\"\",len(medges)-1, medges)\n",
    "\n",
    "        hs_LHEup = []\n",
    "        hs_LHEdn = []        \n",
    "        for i,ht in enumerate(hf_LHEup) :   \n",
    "            hs_temp = ROOT.TH1F(\"hs_\"+str(i),\"\",len(medges)-1, medges)\n",
    "            hs_LHEup.append(hs_temp)\n",
    "            hs_LHEdn.append(hs_temp)\n",
    "        \n",
    "        \n",
    "        hs_qr_up  = ROOT.TH1F(\"hs_qr_up\",\"\",100,0,2000)\n",
    "        hs_qr_dn  = ROOT.TH1F(\"hs_qr_dn\",\"\",100,0,2000)\n",
    "        \n",
    "        hs.SetDirectory(0)\n",
    "        hs_systdn.SetDirectory(0)\n",
    "        hs_systup.SetDirectory(0)\n",
    "        hs_nom.SetDirectory(0)\n",
    "        for decay in yeardict[year][targetprod]:\n",
    "    #         if \"2e2mu\" not in decay[0]: continue\n",
    "            #print(\"\\n\", decay)\n",
    "            ht = ROOT.TH3F(\"ht\",\"\", len(medges)-1, medges, len(d1edges)-1, d1edges, len(d2edges)-1, d2edges)\n",
    "            ht_systdn = ROOT.TH1F(\"ht_kew_systdn\",\"\",100,0,2000)\n",
    "            ht_systup = ROOT.TH1F(\"ht_kew_systup\",\"\",100,0,2000)\n",
    "            ht_nom    = ROOT.TH1F(\"ht_nom\",\"\",100,0,2000)\n",
    "            ht_nomlhe = ROOT.TH1F(\"ht_nomlhe\",\"\",len(medges)-1, medges)\n",
    "\n",
    "        \n",
    "            ht_qr_up  = ROOT.TH1F(\"hs_qr_up\",\"\",100,0,2000)\n",
    "            ht_qr_dn  = ROOT.TH1F(\"hs_qr_dn\",\"\",100,0,2000)\n",
    "            \n",
    "            ht_LHEup = []\n",
    "            ht_LHEdn = []        \n",
    "            for i,htf in enumerate(hf_LHEup) :   \n",
    "                ht_temp = ROOT.TH1F(\"ht_\"+str(i),\"\",len(medges)-1, medges)\n",
    "                ht_LHEup.append(ht_temp)\n",
    "                ht_LHEdn.append(ht_temp)\n",
    "                \n",
    "                \n",
    "            ht.SetDirectory(0)\n",
    "            ht_systdn.SetDirectory(0)\n",
    "            ht_systup.SetDirectory(0)\n",
    "            ht_nom.SetDirectory(0)\n",
    "            count = 0\n",
    "            \n",
    "            \n",
    "            for tfile in trange(len(decay)):\n",
    "\n",
    "                #print(decay[tfile])\n",
    "                if \"VBF\" in decay[tfile]:\n",
    "\n",
    "                    #if \"0L1\" in decay[tfile]: continue\n",
    "                    skey = decay[tfile].split(\"/\")[-2].replace('_M125_GaSM', '')\n",
    "                    sampleweight = refden[skey]\n",
    "    #                 print(sampleweight)\n",
    "                if ( os.stat(decay[tfile]).st_size > 100 ):  \n",
    "                        f = ROOT.TFile(decay[tfile])\n",
    "                        t = f.Get(\"eventTree\")\n",
    "                        htt = ROOT.TH3F(\"htt\",\"\", len(medges)-1, medges, len(d1edges)-1, d1edges, len(d2edges)-1, d2edges)\n",
    "                        htt_ew_systdn = ROOT.TH1F(\"htt_ew_systdn\",\"\",100,0,2000)\n",
    "                        htt_ew_systup = ROOT.TH1F(\"htt_ew_systup\",\"\",100,0,2000)\n",
    "                        htt_nom    = ROOT.TH1F(\"htt_nom\",\"\",100,0,2000)\n",
    "                        htt_nomlhe = ROOT.TH1F(\"htt_nomlhe\",\"\",len(medges)-1, medges)\n",
    "\n",
    "                        htt_LHEup = []\n",
    "                        htt_LHEdn = []        \n",
    "                \n",
    "                        for i,htff in enumerate(ht_LHEup) :   \n",
    "                            htt_tempu = ROOT.TH1F(\"htt_\"+str(i),\"\",len(medges)-1, medges)\n",
    "                            t.Draw(\"ZZMass>>htt_tempu\",LHEweightsUp[i],\"\")\n",
    "                            htt_LHEup.append(htt_tempu)\n",
    "                            \n",
    "                            htt_tempd = ROOT.TH1F(\"htt_\"+str(i),\"\",len(medges)-1, medges)\n",
    "                            t.Draw(\"ZZMass>>htt_tempd\",LHEweightsDn[i],\"\")\n",
    "                            htt_LHEdn.append(htt_tempd)\n",
    "                \n",
    "                        \n",
    "                        htt_qr_up  = ROOT.TH1F(\"hs_qr_up\",\"\",100,0,2000)\n",
    "                        htt_qr_dn  = ROOT.TH1F(\"hs_qr_dn\",\"\",100,0,2000)\n",
    "                        #print (weight_ewzz_up)\n",
    "                        #print (weight_ewzz_dn)\n",
    "                        #print (weight)\n",
    "\n",
    "                        t.Draw(\"Dbsi:Dbkg:ZZMass>>htt\",weight,\"\")                        \n",
    "                        t.Draw(\"ZZMass>>htt_nom\",weight,\"\")\n",
    "                        t.Draw(\"ZZMass>>htt_ew_systup\",weightewzzup,\"\")\n",
    "                        t.Draw(\"ZZMass>>htt_ew_systdn\",weightewzzdn,\"\")\n",
    "\n",
    "                        \n",
    "                        t.Draw(\"ZZMass>>htt_qr_up\",weightqrup,\"\")    \n",
    "                        t.Draw(\"ZZMass>>htt_qr_dn\",weightqrdn,\"\")    \n",
    "\n",
    "\n",
    "                        #print (\"htt_up:\", htt_ew_systup.Integral())\n",
    "                        #print (\"htt_dn:\", htt_ew_systdn.Integral())\n",
    "                        \n",
    "                        if count == 0:\n",
    "                            #print(\"ADDED --- htt = \", htt.Integral())\n",
    "                            ht.Add(htt)\n",
    "                            ht_nom.Add(htt_nom)\n",
    "                            ht_nomlhe.Add(htt_nomlhe)\n",
    "\n",
    "                            ht_systdn.Add(htt_ew_systdn)\n",
    "                            ht_systup.Add(htt_ew_systup)\n",
    "                            \n",
    "                            ht_qr_up.Add(htt_qr_up)\n",
    "                            ht_qr_dn.Add(htt_qr_dn)\n",
    "                            \n",
    "                            for i,htff in enumerate(ht_LHEup) :   \n",
    "            \n",
    "                                ht_LHEup[i].Add(ht_LHEup[i])\n",
    "                                ht_LHEdn[i].Add(ht_LHEdn[i])\n",
    "\n",
    "                             \n",
    "                            \n",
    "                            count+=1\n",
    "                        elif htt.Integral() > ((ht.Integral()/count) + 2*sqrt((ht.Integral()/count))): \n",
    "                            print(\"SKIPPED --- htt = \", htt.Integral())\n",
    "                        elif htt.Integral() < ((ht.Integral()/count) - 2*sqrt((ht.Integral()/count))): \n",
    "                            print(\"SKIPPED --- htt = \", htt.Integral())\n",
    "                        else:\n",
    "                            #print(\"ADDED --- htt = \", htt.Integral())\n",
    "                            ht.Add(htt)\n",
    "                            ht_nom.Add(htt_nom)\n",
    "                            ht_nomlhe.Add(htt_nomlhe)\n",
    "\n",
    "                            ht_systdn.Add(htt_ew_systdn)\n",
    "                            ht_systup.Add(htt_ew_systup)\n",
    "                            for i,htff in enumerate(ht_LHEup) :            \n",
    "                                ht_LHEup[i].Add(htt_LHEup[i])\n",
    "                                ht_LHEdn[i].Add(htt_LHEdn[i])\n",
    "                                            \n",
    "                            ht_qr_up.Add(htt_qr_up)\n",
    "                            ht_qr_dn.Add(htt_qr_dn)    \n",
    "                            \n",
    "                            count+=1\n",
    "            #print(\"ht = \", ht.Integral())\n",
    "            ht.Scale(1./count)\n",
    "            ht_nom.Scale(1./count)\n",
    "            ht_systdn.Scale(1./count)\n",
    "            ht_systup.Scale(1./count)\n",
    "            \n",
    "            for i,htff in enumerate(ht_LHEup) :            \n",
    "                ht_LHEup[i].Scale(1./count)\n",
    "                ht_LHEdn[i].Scale(1./count)        \n",
    "            #print(\"ht = \", ht.Integral())\n",
    "            hs.Add(ht)\n",
    "            hs_systdn.Add(ht_systdn)\n",
    "            hs_systup.Add(ht_systup)\n",
    "            hs_nom.Add(ht_nom)\n",
    "            hs_nomlhe.Add(ht_nomlhe)\n",
    "\n",
    "            hs_qr_up.Add(ht_qr_up)\n",
    "            hs_qr_dn.Add(ht_qr_dn) \n",
    "            for i,htff in enumerate(ht_LHEup) :            \n",
    "                hs_LHEup[i].Add(ht_LHEup[i])\n",
    "                hs_LHEdn[i].Add(ht_LHEdn[i])\n",
    "            #print(\"hs = \", hs.Integral())\n",
    "\n",
    "        hf.Add(hs)\n",
    "        hf_systdn.Add(hs_systdn)\n",
    "        hf_systup.Add(hs_systup)\n",
    "        hf_nom.Add(hs_nom)\n",
    "        hf_nomlhe.Add(hs_nomlhe)\n",
    "        for i,htff in enumerate(hf_LHEup) :            \n",
    "                hf_LHEup[i].Add(hs_LHEup[i])\n",
    "                hf_LHEdn[i].Add(hs_LHEdn[i])\n",
    "                \n",
    "        hf_qr_up.Add(hs_qr_up)\n",
    "        hf_qr_dn.Add(hs_qr_dn) \n",
    "        print(\"hf = \", hf_nom.Integral())\n",
    "\n",
    "        hf.Scale(1/len(yeardict.keys()))\n",
    "        hf_systdn.Scale(1/len(yeardict.keys()))\n",
    "        hf_systup.Scale(1/len(yeardict.keys()))\n",
    "        hf_nom.Scale(1/len(yeardict.keys()))\n",
    "        \n",
    "        for i,htff in enumerate(hf_LHEup) :            \n",
    "                hf_LHEup[i].Scale(1/len(yeardict.keys()))\n",
    "                hf_LHEdn[i].Scale(1/len(yeardict.keys()))\n",
    "                h_list.append(hf_LHEup[i])\n",
    "                h_list.append(hf_LHEdn[i])\n",
    "\n",
    "        #h_list.append(hf)\n",
    "        #h_list.append(hf_systdn)\n",
    "        #h_list.append(hf_systup)\n",
    "        h_list.append(hf_nomlhe)\n",
    "        "
   ]
  },
  {
   "cell_type": "code",
   "execution_count": 44,
   "id": "8556020c",
   "metadata": {
    "scrolled": true
   },
   "outputs": [
    {
     "name": "stdout",
     "output_type": "stream",
     "text": [
      "[]\n",
      "p_Gen_GG_SIG_kappaTopBot_1_ghz1_1_MCFM*KFactor_QCD_ggZZ_Nominal\n",
      "gg 0 0\n",
      "LHEweight_QCDscale_muR2_muF1*p_Gen_GG_SIG_kappaTopBot_1_ghz1_1_MCFM*KFactor_QCD_ggZZ_Nominal*((Z1Flav*Z2Flav)==(121*121) ||(Z1Flav*Z2Flav)==(169*169) ||(Z1Flav*Z2Flav)==(121*169)  )*137.1*(ZZMass>=220)*(EventTag==0)*1000*xsec*overallEventWeight*L1prefiringWeight/Bin40\n",
      "LHEweight_QCDscale_muR1_muF2*p_Gen_GG_SIG_kappaTopBot_1_ghz1_1_MCFM*KFactor_QCD_ggZZ_Nominal*((Z1Flav*Z2Flav)==(121*121) ||(Z1Flav*Z2Flav)==(169*169) ||(Z1Flav*Z2Flav)==(121*169)  )*137.1*(ZZMass>=220)*(EventTag==0)*1000*xsec*overallEventWeight*L1prefiringWeight/Bin40\n",
      "LHEweight_PDFVariation_Up*p_Gen_GG_SIG_kappaTopBot_1_ghz1_1_MCFM*KFactor_QCD_ggZZ_Nominal*((Z1Flav*Z2Flav)==(121*121) ||(Z1Flav*Z2Flav)==(169*169) ||(Z1Flav*Z2Flav)==(121*169)  )*137.1*(ZZMass>=220)*(EventTag==0)*1000*xsec*overallEventWeight*L1prefiringWeight/Bin40\n",
      "LHEweight_AsMZ_Up*p_Gen_GG_SIG_kappaTopBot_1_ghz1_1_MCFM*KFactor_QCD_ggZZ_Nominal*((Z1Flav*Z2Flav)==(121*121) ||(Z1Flav*Z2Flav)==(169*169) ||(Z1Flav*Z2Flav)==(121*169)  )*137.1*(ZZMass>=220)*(EventTag==0)*1000*xsec*overallEventWeight*L1prefiringWeight/Bin40\n",
      "PythiaWeight_isr_muR4 * PythiaWeight_fsr_muR4*p_Gen_GG_SIG_kappaTopBot_1_ghz1_1_MCFM*KFactor_QCD_ggZZ_Nominal*((Z1Flav*Z2Flav)==(121*121) ||(Z1Flav*Z2Flav)==(169*169) ||(Z1Flav*Z2Flav)==(121*169)  )*137.1*(ZZMass>=220)*(EventTag==0)*1000*xsec*overallEventWeight*L1prefiringWeight/Bin40\n"
     ]
    },
    {
     "ename": "TypeError",
     "evalue": "none of the 6 overloaded methods succeeded. Full details:\n  TH1F::TH1F(const TH1F& h1f) =>\n    TypeError: takes at most 1 arguments (3 given)\n  TH1F::TH1F(const TVectorT<float>& v) =>\n    TypeError: takes at most 1 arguments (3 given)\n  TH1F::TH1F() =>\n    TypeError: takes at most 0 arguments (3 given)\n  TH1F::TH1F(const char* name, const char* title, int nbinsx, double xlow, double xup) =>\n    TypeError: takes at least 5 arguments (3 given)\n  TH1F::TH1F(const char* name, const char* title, int nbinsx, const float* xbins) =>\n    TypeError: takes at least 4 arguments (3 given)\n  TH1F::TH1F(const char* name, const char* title, int nbinsx, const double* xbins) =>\n    TypeError: takes at least 4 arguments (3 given)",
     "output_type": "error",
     "traceback": [
      "\u001b[0;31m---------------------------------------------------------------------------\u001b[0m",
      "\u001b[0;31mTypeError\u001b[0m                                 Traceback (most recent call last)",
      "\u001b[0;32m/tmp/ipykernel_665/2233695832.py\u001b[0m in \u001b[0;36m<module>\u001b[0;34m\u001b[0m\n\u001b[1;32m      2\u001b[0m \u001b[0mprint\u001b[0m \u001b[0;34m(\u001b[0m\u001b[0mh_gg_unt\u001b[0m\u001b[0;34m)\u001b[0m\u001b[0;34m\u001b[0m\u001b[0;34m\u001b[0m\u001b[0m\n\u001b[1;32m      3\u001b[0m \u001b[0;32mfor\u001b[0m \u001b[0mtcomp\u001b[0m \u001b[0;32min\u001b[0m \u001b[0mltargetcomp\u001b[0m\u001b[0;34m:\u001b[0m\u001b[0;34m\u001b[0m\u001b[0;34m\u001b[0m\u001b[0m\n\u001b[0;32m----> 4\u001b[0;31m        \u001b[0mFillHist\u001b[0m\u001b[0;34m(\u001b[0m\u001b[0;34m\"gg\"\u001b[0m\u001b[0;34m,\u001b[0m\u001b[0mtcomp\u001b[0m\u001b[0;34m,\u001b[0m\u001b[0;36m0\u001b[0m\u001b[0;34m,\u001b[0m\u001b[0mh_gg_unt\u001b[0m\u001b[0;34m)\u001b[0m\u001b[0;34m\u001b[0m\u001b[0;34m\u001b[0m\u001b[0m\n\u001b[0m\u001b[1;32m      5\u001b[0m \u001b[0;34m\u001b[0m\u001b[0m\n\u001b[1;32m      6\u001b[0m \u001b[0mh_gg_vbf\u001b[0m \u001b[0;34m=\u001b[0m\u001b[0;34m[\u001b[0m\u001b[0;34m]\u001b[0m\u001b[0;34m\u001b[0m\u001b[0;34m\u001b[0m\u001b[0m\n",
      "\u001b[0;32m/tmp/ipykernel_665/4028498886.py\u001b[0m in \u001b[0;36mFillHist\u001b[0;34m(targetprod, targetcomp, targetcateg, h_list)\u001b[0m\n\u001b[1;32m     35\u001b[0m     \u001b[0mhf_systup\u001b[0m \u001b[0;34m=\u001b[0m \u001b[0mROOT\u001b[0m\u001b[0;34m.\u001b[0m\u001b[0mTH1F\u001b[0m\u001b[0;34m(\u001b[0m\u001b[0;34m\"hf_kew_systup\"\u001b[0m\u001b[0;34m,\u001b[0m\u001b[0;34m\"\"\u001b[0m\u001b[0;34m,\u001b[0m\u001b[0;36m100\u001b[0m\u001b[0;34m,\u001b[0m\u001b[0;36m0\u001b[0m\u001b[0;34m,\u001b[0m\u001b[0;36m2000\u001b[0m\u001b[0;34m)\u001b[0m\u001b[0;34m\u001b[0m\u001b[0;34m\u001b[0m\u001b[0m\n\u001b[1;32m     36\u001b[0m     \u001b[0mhf_nom\u001b[0m    \u001b[0;34m=\u001b[0m \u001b[0mROOT\u001b[0m\u001b[0;34m.\u001b[0m\u001b[0mTH1F\u001b[0m\u001b[0;34m(\u001b[0m\u001b[0;34m\"hf_nom\"\u001b[0m\u001b[0;34m,\u001b[0m\u001b[0;34m\"\"\u001b[0m\u001b[0;34m,\u001b[0m\u001b[0;36m100\u001b[0m\u001b[0;34m,\u001b[0m\u001b[0;36m0\u001b[0m\u001b[0;34m,\u001b[0m\u001b[0;36m2000\u001b[0m\u001b[0;34m)\u001b[0m\u001b[0;34m\u001b[0m\u001b[0;34m\u001b[0m\u001b[0m\n\u001b[0;32m---> 37\u001b[0;31m     \u001b[0mhf_nomlhe\u001b[0m \u001b[0;34m=\u001b[0m \u001b[0mROOT\u001b[0m\u001b[0;34m.\u001b[0m\u001b[0mTH1F\u001b[0m\u001b[0;34m(\u001b[0m\u001b[0;34m\"hf_nomlhe\"\u001b[0m\u001b[0;34m,\u001b[0m\u001b[0mlen\u001b[0m\u001b[0;34m(\u001b[0m\u001b[0mmedges\u001b[0m\u001b[0;34m)\u001b[0m\u001b[0;34m-\u001b[0m\u001b[0;36m1\u001b[0m\u001b[0;34m,\u001b[0m \u001b[0mmedges\u001b[0m\u001b[0;34m)\u001b[0m\u001b[0;34m\u001b[0m\u001b[0;34m\u001b[0m\u001b[0m\n\u001b[0m\u001b[1;32m     38\u001b[0m \u001b[0;34m\u001b[0m\u001b[0m\n\u001b[1;32m     39\u001b[0m     \u001b[0mhf_qr_up\u001b[0m  \u001b[0;34m=\u001b[0m \u001b[0mROOT\u001b[0m\u001b[0;34m.\u001b[0m\u001b[0mTH1F\u001b[0m\u001b[0;34m(\u001b[0m\u001b[0;34m\"hf_qr_up\"\u001b[0m\u001b[0;34m,\u001b[0m\u001b[0;34m\"\"\u001b[0m\u001b[0;34m,\u001b[0m\u001b[0;36m100\u001b[0m\u001b[0;34m,\u001b[0m\u001b[0;36m0\u001b[0m\u001b[0;34m,\u001b[0m\u001b[0;36m2000\u001b[0m\u001b[0;34m)\u001b[0m\u001b[0;34m\u001b[0m\u001b[0;34m\u001b[0m\u001b[0m\n",
      "\u001b[0;31mTypeError\u001b[0m: none of the 6 overloaded methods succeeded. Full details:\n  TH1F::TH1F(const TH1F& h1f) =>\n    TypeError: takes at most 1 arguments (3 given)\n  TH1F::TH1F(const TVectorT<float>& v) =>\n    TypeError: takes at most 1 arguments (3 given)\n  TH1F::TH1F() =>\n    TypeError: takes at most 0 arguments (3 given)\n  TH1F::TH1F(const char* name, const char* title, int nbinsx, double xlow, double xup) =>\n    TypeError: takes at least 5 arguments (3 given)\n  TH1F::TH1F(const char* name, const char* title, int nbinsx, const float* xbins) =>\n    TypeError: takes at least 4 arguments (3 given)\n  TH1F::TH1F(const char* name, const char* title, int nbinsx, const double* xbins) =>\n    TypeError: takes at least 4 arguments (3 given)"
     ]
    }
   ],
   "source": [
    "\n",
    "h_gg_unt =[]\n",
    "print (h_gg_unt)\n",
    "for tcomp in ltargetcomp: \n",
    "       FillHist(\"gg\",tcomp,0,h_gg_unt)\n",
    "\n",
    "h_gg_vbf =[]\n",
    "for tcomp in ltargetcomp: \n",
    "       FillHist(\"gg\",tcomp,1,h_gg_vbf)\n",
    "\n",
    "h_gg_vh =[]\n",
    "for tcomp in ltargetcomp: \n",
    "       FillHist(\"gg\",tcomp,2,h_gg_vh)      \n",
    "''' \n",
    "       \n",
    "#=========================================  \n",
    "h_ew_unt =[]\n",
    "for tcomp in ltargetcomp: \n",
    "       FillHist(\"VBF\",tcomp,0,h_ew_unt)\n",
    "\n",
    "h_ew_vbf =[]\n",
    "for tcomp in ltargetcomp: \n",
    "       FillHist(\"VBF\",tcomp,1,h_ew_vbf)\n",
    "\n",
    "h_ew_vh =[]\n",
    "for tcomp in ltargetcomp: \n",
    "       FillHist(\"VBF\",tcomp,2,h_ew_vh)      \n",
    "              \n",
    "#=========================================  \n",
    "h_bkg_unt =[]\n",
    "FillHist(\"ZZTo4l\",0,0,h_bkg_unt)\n",
    "\n",
    "h_bkg_vbf =[]\n",
    "FillHist(\"ZZTo4l\",0,1,h_bkg_vbf)\n",
    "    \n",
    "h_bkg_vh =[]\n",
    "FillHist(\"ZZTo4l\",0,2,h_bkg_vh)      \n",
    "'''       "
   ]
  },
  {
   "cell_type": "markdown",
   "id": "8ea757af",
   "metadata": {},
   "source": [
    "### Add to 'hlist' if the output looks reasonable above"
   ]
  },
  {
   "cell_type": "code",
   "execution_count": null,
   "id": "7eff290f",
   "metadata": {},
   "outputs": [],
   "source": [
    "c1 = ROOT.TCanvas(\"c1\",\"c1\",1800,600)\n",
    "c1.Divide(3,1)\n",
    "h_bkg_unt[3].SetLineColor(2)\n",
    "h_bkg_vh[3].SetLineColor(2)\n",
    "h_bkg_vbf[3].SetLineColor(2)\n",
    "\n",
    "h_bkg_unt[1].SetLineStyle(2)\n",
    "h_bkg_vh[1].SetLineStyle(2)\n",
    "h_bkg_vbf[1].SetLineStyle(2)\n",
    "\n",
    "\n",
    "h_bkg_unt[2].SetLineStyle(2)\n",
    "h_bkg_vh[2].SetLineStyle(2)\n",
    "h_bkg_vbf[2].SetLineStyle(2)\n",
    "\n",
    "\n",
    "c1.cd(1).SetLogy()\n",
    "#c1.cd(1)\n",
    "\n",
    "print (h_bkg_unt[1].Integral())\n",
    "h_bkg_unt[3].Draw(\"hist\")\n",
    "h_bkg_unt[3].GetXaxis().SetTitle(\"qqZZ Untagged background m4l [GeV]\")\n",
    "h_bkg_unt[1].Draw(\"hist,same\")\n",
    "h_bkg_unt[2].Draw(\"hist,same\")\n",
    "c1.cd(2).SetLogy()\n",
    "#c1.cd(2)\n",
    "h_bkg_vh[3].Draw(\"hist\")\n",
    "h_bkg_vh[3].GetXaxis().SetTitle(\"qqZZ VHtagged background m4l [GeV]\")\n",
    "h_bkg_vh[1].Draw(\"hist,same\")\n",
    "h_bkg_vh[2].Draw(\"hist,same\")\n",
    "\n",
    "\n",
    "\n",
    "c1.cd(3).SetLogy()\n",
    "#c1.cd(3)\n",
    "h_bkg_vbf[3].Draw(\"hist\")\n",
    "h_bkg_vbf[3].GetXaxis().SetTitle(\"qqZZ VBFtagged background m4l [GeV]\")\n",
    "h_bkg_vbf[1].Draw(\"hist,same\")\n",
    "h_bkg_vbf[2].Draw(\"hist,same\")\n",
    "\n",
    "\n",
    "ROOT.gStyle.SetOptStat(1)\n",
    "c1.Draw()\n",
    "ROOT.gStyle.SetOptStat(1)\n",
    "c1.Update()\n",
    "\n",
    "c1.SaveAs(\"back_ew_qqzz.png\")\n",
    "c1.SaveAs(\"back_ew_qqzz.pdf\")\n"
   ]
  },
  {
   "cell_type": "code",
   "execution_count": null,
   "id": "12d8b167",
   "metadata": {},
   "outputs": [],
   "source": [
    "print  (h_gg_unt)"
   ]
  },
  {
   "cell_type": "code",
   "execution_count": null,
   "id": "ad126c8a",
   "metadata": {
    "scrolled": true
   },
   "outputs": [],
   "source": [
    "print (h_list)"
   ]
  },
  {
   "cell_type": "code",
   "execution_count": null,
   "id": "c7f0975c",
   "metadata": {
    "scrolled": true
   },
   "outputs": [],
   "source": [
    "hlist"
   ]
  },
  {
   "cell_type": "code",
   "execution_count": null,
   "id": "8bab436f",
   "metadata": {},
   "outputs": [],
   "source": [
    "for h in h_list:\n",
    "    print (h)\n",
    "    print(h.Integral())"
   ]
  },
  {
   "cell_type": "markdown",
   "id": "11e1cf62",
   "metadata": {},
   "source": [
    "# Unroll and Visualize all histograms in 'hlist'"
   ]
  },
  {
   "cell_type": "markdown",
   "id": "3fa69103",
   "metadata": {},
   "source": [
    "##### Do not proceed if your 'hlist' is not filled. Recall it expects 7 histograms ordered like: ['ggH SIG', 'ggH BSI', 'ggH BKG', 'EW SIG', 'EW BSI', 'EW BKG', 'qqbar BKG']\n",
    "##### If you simply want to test the unrolling section, just fill the list with 7 copies of the same TH3F histogram"
   ]
  },
  {
   "cell_type": "markdown",
   "id": "2c520317",
   "metadata": {},
   "source": [
    "### Unroll all 7 histograms"
   ]
  },
  {
   "cell_type": "code",
   "execution_count": null,
   "id": "23371ac0",
   "metadata": {
    "scrolled": true
   },
   "outputs": [],
   "source": [
    "hlist1d = []\n",
    "hlisttemp = h_list\n",
    "for hf in hlisttemp:\n",
    "    totgbins = hf.GetNbinsX() * hf.GetNbinsY() * hf.GetNbinsZ()\n",
    "    totgedges = np.arange(totgbins+1, dtype='float64')\n",
    "\n",
    "    #hf1d = ROOT.TH1F(\"hf1d\",\"\",len(totgedges)-1, totgedges)\n",
    "    hf1d = ROOT.TH1F(\"hf1d\",\"\",totgbins, 0, totgbins)\n",
    "    hf1d.SetDirectory(0)\n",
    "\n",
    "    bincount = 1\n",
    "\n",
    "    for xbin in trange(hf.GetNbinsX()):\n",
    "        for ybin in range(hf.GetNbinsY()):\n",
    "            for zbin in range(hf.GetNbinsZ()):\n",
    "                gbin = hf.GetBin(xbin+1, ybin+1, zbin+1)\n",
    "\n",
    "                #if gbin<400: print(xbin, ybin, zbin)\n",
    "                #print(gbin)\n",
    "                #print(bincount)\n",
    "                if bincount>totgbins: \n",
    "                    print(\"WHAT\")\n",
    "                    break\n",
    "                    \n",
    "                #if hf.GetBinContent(gbin) != 0: print(hf.GetBinContent(gbin))\n",
    "                #print(hf.GetBinContent(gbin))\n",
    "                \n",
    "                hf1d.SetBinContent(bincount, hf.GetBinContent(gbin))\n",
    "                bincount += 1\n",
    "                #if hf.GetBinContent(gbin) != 0: print(\"YAY\")\n",
    "    \n",
    "    hlist1d.append(hf1d)"
   ]
  },
  {
   "cell_type": "code",
   "execution_count": null,
   "id": "ebbed0f5",
   "metadata": {},
   "outputs": [],
   "source": [
    "c1 = ROOT.TCanvas(\"c1\",\"c1\",4480,600)\n",
    "c1.Divide(len(hlist1d),1)\n",
    "for i in range(len(hlist1d)):\n",
    "    c1.cd(i+1)\n",
    "    print(hlist1d[i].Integral())\n",
    "    hlist1d[i].Draw(\"hist\")\n",
    "\n",
    "ROOT.gStyle.SetOptStat(1)\n",
    "c1.Draw()"
   ]
  },
  {
   "cell_type": "markdown",
   "id": "3e05243e",
   "metadata": {},
   "source": [
    "### Isolate INT from the BSI histograms and also add the total combination of statistics as a new histogram at the end"
   ]
  },
  {
   "cell_type": "code",
   "execution_count": null,
   "id": "1e3d0eb5",
   "metadata": {},
   "outputs": [],
   "source": [
    "hlist1d[1].Add(hlist1d[0], -1)\n",
    "hlist1d[1].Add(hlist1d[2], -1)\n",
    "\n",
    "hlist1d[4].Add(hlist1d[3], -1)\n",
    "hlist1d[4].Add(hlist1d[5], -1)"
   ]
  },
  {
   "cell_type": "code",
   "execution_count": null,
   "id": "be409bcd",
   "metadata": {},
   "outputs": [],
   "source": [
    "c1 = ROOT.TCanvas(\"c1\",\"c1\",4480,600)\n",
    "c1.Divide(len(hlist1d),1)\n",
    "for i in range(len(hlist1d)):\n",
    "    c1.cd(i+1)\n",
    "    print(hlist1d[i].Integral())\n",
    "    hlist1d[i].Draw(\"hist\")\n",
    "\n",
    "ROOT.gStyle.SetOptStat(1)\n",
    "c1.Draw()"
   ]
  },
  {
   "cell_type": "code",
   "execution_count": null,
   "id": "5adc130a",
   "metadata": {},
   "outputs": [],
   "source": [
    "hf1d = ROOT.TH1F(\"hf1d\",\"\",totgbins, 0, totgbins)\n",
    "hf1d.SetDirectory(0)\n",
    "hf1d.Add(hlist1d[1])\n",
    "hlist1d.insert(1, hf1d)"
   ]
  },
  {
   "cell_type": "code",
   "execution_count": null,
   "id": "f618c840",
   "metadata": {},
   "outputs": [],
   "source": [
    "c1 = ROOT.TCanvas(\"c1\",\"c1\",4480,600)\n",
    "c1.Divide(len(hlist1d),1)\n",
    "for i in range(len(hlist1d)):\n",
    "    c1.cd(i+1)\n",
    "    print(hlist1d[i].Integral())\n",
    "    hlist1d[i].Draw(\"hist\")\n",
    "\n",
    "ROOT.gStyle.SetOptStat(1)\n",
    "c1.Draw()"
   ]
  },
  {
   "cell_type": "code",
   "execution_count": null,
   "id": "8b10cb8a",
   "metadata": {},
   "outputs": [],
   "source": [
    "hf1d = ROOT.TH1F(\"hf1d\",\"\",totgbins, 0, totgbins)\n",
    "hf1d.SetDirectory(0)\n",
    "hf1d.Add(hlist1d[5])\n",
    "hlist1d.insert(5, hf1d)"
   ]
  },
  {
   "cell_type": "code",
   "execution_count": null,
   "id": "9a5fd9a0",
   "metadata": {
    "scrolled": false
   },
   "outputs": [],
   "source": [
    "c1 = ROOT.TCanvas(\"c1\",\"c1\",4480,600)\n",
    "c1.Divide(len(hlist1d),1)\n",
    "for i in range(len(hlist1d)):\n",
    "    c1.cd(i+1)\n",
    "    print(hlist1d[i].Integral())\n",
    "    hlist1d[i].Draw(\"hist\")\n",
    "\n",
    "ROOT.gStyle.SetOptStat(1)\n",
    "c1.Draw()"
   ]
  },
  {
   "cell_type": "code",
   "execution_count": null,
   "id": "df04197e",
   "metadata": {},
   "outputs": [],
   "source": [
    "for i in range(hlist1d[1].GetXaxis().GetNbins()):\n",
    "    b = i+1\n",
    "    if hlist1d[1].GetBinContent(b) >= 0:\n",
    "        hlist1d[1].SetBinContent(b, 0)\n",
    "\n",
    "for i in range(hlist1d[2].GetXaxis().GetNbins()):\n",
    "    b = i+1\n",
    "    if hlist1d[2].GetBinContent(b) <= 0:\n",
    "        hlist1d[2].SetBinContent(b, 0)"
   ]
  },
  {
   "cell_type": "code",
   "execution_count": null,
   "id": "d2402aaf",
   "metadata": {},
   "outputs": [],
   "source": [
    "c1 = ROOT.TCanvas(\"c1\",\"c1\",4480,600)\n",
    "c1.Divide(len(hlist1d),1)\n",
    "for i in range(len(hlist1d)):\n",
    "    c1.cd(i+1)\n",
    "    print(hlist1d[i].Integral())\n",
    "    hlist1d[i].Draw(\"hist\")\n",
    "\n",
    "ROOT.gStyle.SetOptStat(1)\n",
    "c1.Draw()"
   ]
  },
  {
   "cell_type": "code",
   "execution_count": null,
   "id": "3ed68b42",
   "metadata": {},
   "outputs": [],
   "source": [
    "for i in range(hlist1d[5].GetXaxis().GetNbins()):\n",
    "    b = i+1\n",
    "    if hlist1d[5].GetBinContent(b) >= 0:\n",
    "        hlist1d[5].SetBinContent(b, 0)\n",
    "\n",
    "for i in range(hlist1d[6].GetXaxis().GetNbins()):\n",
    "    b = i+1\n",
    "    if hlist1d[6].GetBinContent(b) <= 0:\n",
    "        hlist1d[6].SetBinContent(b, 0)"
   ]
  },
  {
   "cell_type": "code",
   "execution_count": null,
   "id": "c36aa58e",
   "metadata": {},
   "outputs": [],
   "source": [
    "c1 = ROOT.TCanvas(\"c1\",\"c1\",4480,600)\n",
    "c1.Divide(len(hlist1d),1)\n",
    "for i in range(len(hlist1d)):\n",
    "    c1.cd(i+1)\n",
    "    print(hlist1d[i].Integral())\n",
    "    hlist1d[i].Draw(\"hist\")\n",
    "\n",
    "ROOT.gStyle.SetOptStat(1)\n",
    "c1.Draw()"
   ]
  },
  {
   "cell_type": "code",
   "execution_count": null,
   "id": "9e5753c8",
   "metadata": {},
   "outputs": [],
   "source": [
    "hf1d = ROOT.TH1F(\"hf1d\",\"\",totgbins, 0, totgbins)\n",
    "for i in range(len(hlist1d)):\n",
    "    hf1d.Add(hlist1d[i])\n",
    "hlist1d.append(hf1d)\n",
    "print(hf1d.Integral())"
   ]
  },
  {
   "cell_type": "code",
   "execution_count": null,
   "id": "b162581f",
   "metadata": {},
   "outputs": [],
   "source": [
    "c1 = ROOT.TCanvas(\"c1\",\"c1\",4480,600)\n",
    "c1.Divide(len(hlist1d),1)\n",
    "for i in range(len(hlist1d)):\n",
    "    c1.cd(i+1)\n",
    "    print(hlist1d[i].Integral())\n",
    "    hlist1d[i].Draw(\"hist\")\n",
    "\n",
    "ROOT.gStyle.SetOptStat(1)\n",
    "c1.Draw()"
   ]
  },
  {
   "cell_type": "code",
   "execution_count": null,
   "id": "e76eedd4",
   "metadata": {},
   "outputs": [],
   "source": [
    "hlist1d[1].Scale(-1)\n",
    "hlist1d[5].Scale(-1)"
   ]
  },
  {
   "cell_type": "code",
   "execution_count": null,
   "id": "bf0f1381",
   "metadata": {},
   "outputs": [],
   "source": [
    "c1 = ROOT.TCanvas(\"c1\",\"c1\",4480,600)\n",
    "c1.Divide(len(hlist1d),1)\n",
    "for i in range(len(hlist1d)):\n",
    "    c1.cd(i+1)\n",
    "    print(hlist1d[i].Integral())\n",
    "    hlist1d[i].Draw(\"hist\")\n",
    "\n",
    "ROOT.gStyle.SetOptStat(1)\n",
    "c1.Draw()"
   ]
  },
  {
   "cell_type": "code",
   "execution_count": null,
   "id": "b26bce77",
   "metadata": {},
   "outputs": [],
   "source": [
    "hf1d = ROOT.TH1F(\"hf1d\",\"\",totgbins, 0, totgbins)\n",
    "hf1d.Add(hlist1d[-1])"
   ]
  },
  {
   "cell_type": "code",
   "execution_count": null,
   "id": "f53c76e4",
   "metadata": {},
   "outputs": [],
   "source": [
    "hlist1d.append(hf1d)"
   ]
  },
  {
   "cell_type": "code",
   "execution_count": null,
   "id": "28a0ad16",
   "metadata": {},
   "outputs": [],
   "source": [
    "c1 = ROOT.TCanvas(\"c1\",\"c1\",4480,600)\n",
    "c1.Divide(len(hlist1d),1)\n",
    "for i in range(len(hlist1d)):\n",
    "    c1.cd(i+1)\n",
    "    print(hlist1d[i].Integral())\n",
    "    hlist1d[i].Draw(\"hist\")\n",
    "\n",
    "ROOT.gStyle.SetOptStat(1)\n",
    "c1.Draw()"
   ]
  },
  {
   "cell_type": "code",
   "execution_count": null,
   "id": "24cd4198",
   "metadata": {},
   "outputs": [],
   "source": [
    "hf1dt = hlist1d.pop(-1)"
   ]
  },
  {
   "cell_type": "code",
   "execution_count": null,
   "id": "a0d5b802",
   "metadata": {},
   "outputs": [],
   "source": [
    "for i in range(hlist1d[-1].GetXaxis().GetNbins()):\n",
    "    b = i+1\n",
    "    if hlist1d[-1].GetBinContent(b) <= 0:\n",
    "        hlist1d[-1].SetBinContent(b, 0)"
   ]
  },
  {
   "cell_type": "markdown",
   "id": "6c0f2766",
   "metadata": {},
   "source": [
    "### Check the final template collection and yields for the datacard"
   ]
  },
  {
   "cell_type": "code",
   "execution_count": null,
   "id": "f04b9e45",
   "metadata": {},
   "outputs": [],
   "source": [
    "c1 = ROOT.TCanvas(\"c1\",\"c1\",4480,600)\n",
    "c1.Divide(len(hlist1d),1)\n",
    "for i in range(len(hlist1d)):\n",
    "    c1.cd(i+1)\n",
    "    print(hlist1d[i].Integral())\n",
    "    hlist1d[i].Draw(\"hist\")\n",
    "\n",
    "ROOT.gStyle.SetOptStat(1)\n",
    "c1.Draw()"
   ]
  },
  {
   "cell_type": "code",
   "execution_count": null,
   "id": "2c7d4e64",
   "metadata": {},
   "outputs": [],
   "source": []
  },
  {
   "cell_type": "markdown",
   "id": "38721854",
   "metadata": {},
   "source": [
    "# Saving the whole thing to a .root file for use with a corresponding datacard"
   ]
  },
  {
   "cell_type": "markdown",
   "id": "b2f8a9f2",
   "metadata": {},
   "source": [
    "### Checking the names used to save the histograms"
   ]
  },
  {
   "cell_type": "code",
   "execution_count": null,
   "id": "d91117a3",
   "metadata": {},
   "outputs": [],
   "source": [
    "for i in proc:\n",
    "    print(i)"
   ]
  },
  {
   "cell_type": "markdown",
   "id": "718f0ab4",
   "metadata": {},
   "source": [
    "### Set directory and output file names"
   ]
  },
  {
   "cell_type": "code",
   "execution_count": null,
   "id": "f8bfb87f",
   "metadata": {},
   "outputs": [],
   "source": [
    "diname = \"/eos/user/s/skyriaco/SWAN_projects/Offshel_tempmaker/Output/\"\n",
    "foname = \"Cat_4mu_137p1invfb_ggH4landVBF4landqqbar_mostEW_RECOpassedevents_mvar21d1reg20d2reg20.input.root\""
   ]
  },
  {
   "cell_type": "code",
   "execution_count": null,
   "id": "6c52c91b",
   "metadata": {},
   "outputs": [],
   "source": [
    "print(diname+foname)"
   ]
  },
  {
   "cell_type": "markdown",
   "id": "7c3cab1a",
   "metadata": {},
   "source": [
    "### Write to a .root file"
   ]
  },
  {
   "cell_type": "code",
   "execution_count": null,
   "id": "92ae69f4",
   "metadata": {},
   "outputs": [],
   "source": [
    "fo = ROOT.TFile(diname+foname,\"CREATE\")\n",
    "\n",
    "for i in range(len(proc)):\n",
    "    hlist1d[i].Write(proc[i], ROOT.TFile.kSingleKey)\n",
    "\n",
    "fo.Close()"
   ]
  },
  {
   "cell_type": "markdown",
   "id": "b6439572",
   "metadata": {},
   "source": [
    "### Check the saved file"
   ]
  },
  {
   "cell_type": "code",
   "execution_count": null,
   "id": "cc43241a",
   "metadata": {},
   "outputs": [],
   "source": [
    "fo = ROOT.TFile(diname+foname)\n",
    "# fo = ROOT.TFile(\"/eos/user/l/lkang/Active_Research/Templates/SManalysis_split/2017/Untag/4mu/Untag_4mu_137p1invfb_ggH4landVBF4landqqbar_mostEW_RECOpassedevents_mvar21d1reg20d2reg20.input.root\")\n",
    "\n",
    "fo.ls()\n",
    "\n",
    "c1 = ROOT.TCanvas(\"c1\",\"c1\",4480,600)\n",
    "c1.Divide(len(proc),1)\n",
    "for i in range(len(proc)):\n",
    "    c1.cd(i+1)\n",
    "    eval(\"print(proc[i], '\\t\\t=', fo.\"+proc[i]+\".Integral())\")\n",
    "#     eval(\"print(fo.\"+proc[i]+\".Integral())\")\n",
    "    eval(\"fo.\"+proc[i]+\".Draw('hist')\")\n",
    "print()    \n",
    "\n",
    "c1.Draw()\n",
    "fo.Close()"
   ]
  },
  {
   "cell_type": "code",
   "execution_count": null,
   "id": "91243872",
   "metadata": {},
   "outputs": [],
   "source": []
  }
 ],
 "metadata": {
  "kernelspec": {
   "display_name": "Python 3",
   "language": "python",
   "name": "python3"
  },
  "language_info": {
   "codemirror_mode": {
    "name": "ipython",
    "version": 3
   },
   "file_extension": ".py",
   "mimetype": "text/x-python",
   "name": "python",
   "nbconvert_exporter": "python",
   "pygments_lexer": "ipython3",
   "version": "3.9.6"
  }
 },
 "nbformat": 4,
 "nbformat_minor": 5
}
