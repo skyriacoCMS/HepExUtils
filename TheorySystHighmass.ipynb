{
 "cells": [
  {
   "cell_type": "markdown",
   "id": "2c008997",
   "metadata": {},
   "source": [
    "# IMPORT LIBRARIES"
   ]
  },
  {
   "cell_type": "code",
   "execution_count": 101,
   "id": "ff540fb0",
   "metadata": {},
   "outputs": [],
   "source": [
    "import os\n",
    "import glob\n",
    "import ROOT\n",
    "from math import sqrt\n",
    "import time\n",
    "#from os import path\n",
    "from pathlib import Path\n",
    "import re\n",
    "import copy\n",
    "from tqdm.notebook import trange, tqdm\n",
    "import numpy as np\n",
    "from array import *\n",
    "%jsroot on"
   ]
  },
  {
   "cell_type": "markdown",
   "id": "01275ae9",
   "metadata": {},
   "source": [
    "# LOAD SPLINES AND DEFINE BINNING"
   ]
  },
  {
   "cell_type": "code",
   "execution_count": 2,
   "id": "9fc4748e",
   "metadata": {
    "scrolled": true
   },
   "outputs": [
    {
     "data": {
      "text/plain": [
       "137.10000000000002"
      ]
     },
     "execution_count": 2,
     "metadata": {},
     "output_type": "execute_result"
    }
   ],
   "source": [
    "35.9 + 41.5 + 59.7"
   ]
  },
  {
   "cell_type": "code",
   "execution_count": 3,
   "id": "98808fee",
   "metadata": {},
   "outputs": [],
   "source": [
    "lumi = {'MC_2016_CorrectBTag':35.9, 'MC_2017':41.5, 'MC_2018':59.7}"
   ]
  },
  {
   "cell_type": "code",
   "execution_count": 4,
   "id": "56d06c7a",
   "metadata": {},
   "outputs": [],
   "source": [
    "D2jetZHSpline = ROOT.TFile(\"/eos/user/l/lkang/Active_Research/Discriminants/RecoMEConstants/SmoothKDConstant_m4l_DjjZH_13TeV.root\").Get(\"sp_gr_varReco_Constant_Smooth\")\n",
    "D2jetWHSpline = ROOT.TFile(\"/eos/user/l/lkang/Active_Research/Discriminants/RecoMEConstants/SmoothKDConstant_m4l_DjjWH_13TeV.root\").Get(\"sp_gr_varReco_Constant_Smooth\")\n",
    "D2jetVBFSpline = ROOT.TFile(\"/eos/user/l/lkang/Active_Research/Discriminants/RecoMEConstants/SmoothKDConstant_m4l_DjjVBF_13TeV.root\").Get(\"sp_gr_varReco_Constant_Smooth\")\n",
    "\n",
    "#WPCshift = 1\n",
    "WPCshift2jv = 0.46386/(1. - 0.46386)\n",
    "WPCshift2jz = 0.91315/(1. - 0.91315)\n",
    "WPCshift2jw = 0.88384/(1. - 0.88384)"
   ]
  },
  {
   "cell_type": "code",
   "execution_count": 5,
   "id": "ba70b1eb",
   "metadata": {},
   "outputs": [],
   "source": [
    "DbkgkinSpline4e = ROOT.TFile(\"/eos/user/l/lkang/Active_Research/Discriminants/RecoMEConstants/SmoothKDConstant_m4l_Dbkgkin_4e_13TeV.root\").Get(\"sp_gr_varReco_Constant_Smooth\")\n",
    "DbkgkinSpline4mu = ROOT.TFile(\"/eos/user/l/lkang/Active_Research/Discriminants/RecoMEConstants/SmoothKDConstant_m4l_Dbkgkin_4mu_13TeV.root\").Get(\"sp_gr_varReco_Constant_Smooth\")\n",
    "DbkgkinSpline2e2mu = ROOT.TFile(\"/eos/user/l/lkang/Active_Research/Discriminants/RecoMEConstants/SmoothKDConstant_m4l_Dbkgkin_2e2mu_13TeV.root\").Get(\"sp_gr_varReco_Constant_Smooth\")\n",
    "\n",
    "DggbkgkinSpline4e = ROOT.TFile(\"/eos/user/l/lkang/Active_Research/Discriminants/RecoMEConstants/SmoothKDConstant_m4l_Dggbkgkin_4e_13TeV.root\").Get(\"sp_gr_varReco_Constant_Smooth\")\n",
    "DggbkgkinSpline4mu = ROOT.TFile(\"/eos/user/l/lkang/Active_Research/Discriminants/RecoMEConstants/SmoothKDConstant_m4l_Dggbkgkin_4mu_13TeV.root\").Get(\"sp_gr_varReco_Constant_Smooth\")\n",
    "DggbkgkinSpline2e2mu = ROOT.TFile(\"/eos/user/l/lkang/Active_Research/Discriminants/RecoMEConstants/SmoothKDConstant_m4l_Dggbkgkin_2e2mu_13TeV.root\").Get(\"sp_gr_varReco_Constant_Smooth\")"
   ]
  },
  {
   "cell_type": "code",
   "execution_count": 6,
   "id": "a442fd25",
   "metadata": {},
   "outputs": [],
   "source": [
    "DbkgjjEWQCDSpline4lHadVH = ROOT.TFile(\"/eos/user/l/lkang/Active_Research/Discriminants/RecoMEConstants/SmoothKDConstant_m4l_DbkgjjEWQCD_4l_HadVHTagged_13TeV.root\").Get(\"sp_gr_varReco_Constant_Smooth\")\n",
    "DbkgjjEWQCDSpline2l2lHadVH = ROOT.TFile(\"/eos/user/l/lkang/Active_Research/Discriminants/RecoMEConstants/SmoothKDConstant_m4l_DbkgjjEWQCD_2l2l_HadVHTagged_13TeV.root\").Get(\"sp_gr_varReco_Constant_Smooth\")\n",
    "\n",
    "DbkgjjEWQCDSpline4lJJVBF = ROOT.TFile(\"/eos/user/l/lkang/Active_Research/Discriminants/RecoMEConstants/SmoothKDConstant_m4l_DbkgjjEWQCD_4l_JJVBFTagged_13TeV.root\").Get(\"sp_gr_varReco_Constant_Smooth\")\n",
    "DbkgjjEWQCDSpline2l2lJJVBF = ROOT.TFile(\"/eos/user/l/lkang/Active_Research/Discriminants/RecoMEConstants/SmoothKDConstant_m4l_DbkgjjEWQCD_2l2l_JJVBFTagged_13TeV.root\").Get(\"sp_gr_varReco_Constant_Smooth\")"
   ]
  },
  {
   "cell_type": "code",
   "execution_count": 24,
   "id": "7974f04f",
   "metadata": {},
   "outputs": [],
   "source": [
    "medges = np.array([220, 230, 240, 250, 260, 280, 310, 340, 370, 400, 475, 550, 625, 700, 800, 900, 1000, 1200, 1600, 2000, 3000, 13000], dtype='float64')\n",
    "# medges = np.array([220, 230, 240, 250, 260, 280, 310, 340, 370, 400, 475, 550, 625, 700, 800, 900, 1000, 1200, 1600, 2000, 13000], dtype='float64')\n",
    "## medges = np.array([220, 260, 370, 625, 1000, 13000], dtype='float64')\n",
    "## medges = np.array([220, 400, 3000, 13000], dtype='float64')\n",
    "# medges = 5*np.arange(401, dtype='float64')\n",
    "#d1edges = np.arange(21, dtype='float64') / 20 * 12780 + 220\n",
    "##d1edges = np.array([ 220.,  316.,  412.,  508.,  604.,  700.,  796.,  892.,  988., 1084., 1180., 1276., 1372., 1468., 1564., 1660., 1756., 1852., 1948., 2044., 13000])\n",
    "##d1edges = np.array([ 220.,  828., 1436., 2044.])\n",
    "#d1edges = np.array([220, 4480, 8740, 13000], dtype='float64')\n",
    "#d1edges = np.array([220, 13000], dtype='float64')\n",
    "d1edges = np.arange(21, dtype='float64') / 20\n",
    "#d1edges = np.arange(6, dtype='float64') / 5\n",
    "# d1edges = np.arange(4, dtype='float64') / 3\n",
    "# d1edges = np.arange(3, dtype='float64') / 2\n",
    "d2edges = np.arange(21, dtype='float64') / 10 - 1\n",
    "#d2edges = np.arange(6, dtype='float64') / 2.5 - 1\n",
    "# d2edges = np.arange(4, dtype='float64') / 1.5 - 1\n",
    "# d2edges = np.arange(3, dtype='float64') / 1 - 1"
   ]
  },
  {
   "cell_type": "code",
   "execution_count": 25,
   "id": "f21626aa",
   "metadata": {
    "scrolled": true
   },
   "outputs": [
    {
     "name": "stdout",
     "output_type": "stream",
     "text": [
      "medges 22\n",
      "medges [  220.   230.   240.   250.   260.   280.   310.   340.   370.   400.\n",
      "   475.   550.   625.   700.   800.   900.  1000.  1200.  1600.  2000.\n",
      "  3000. 13000.]\n",
      "d1edges 21\n",
      "d1edges [0.   0.05 0.1  0.15 0.2  0.25 0.3  0.35 0.4  0.45 0.5  0.55 0.6  0.65\n",
      " 0.7  0.75 0.8  0.85 0.9  0.95 1.  ]\n",
      "d2edges 21\n",
      "d2edges [-1.  -0.9 -0.8 -0.7 -0.6 -0.5 -0.4 -0.3 -0.2 -0.1  0.   0.1  0.2  0.3\n",
      "  0.4  0.5  0.6  0.7  0.8  0.9  1. ]\n"
     ]
    }
   ],
   "source": [
    "print(\"medges\", len(medges))\n",
    "print(\"medges\", (medges))\n",
    "print(\"d1edges\", len(d1edges))\n",
    "print(\"d1edges\", (d1edges))\n",
    "print(\"d2edges\", len(d2edges))\n",
    "print(\"d2edges\", (d2edges))"
   ]
  },
  {
   "cell_type": "markdown",
   "id": "4c82c3d8",
   "metadata": {},
   "source": [
    "# CHOOSE INPUT TREES"
   ]
  },
  {
   "cell_type": "code",
   "execution_count": 9,
   "id": "07a7db0f",
   "metadata": {},
   "outputs": [],
   "source": [
    "#tree i made  \"/eos/user/s/skyriaco/Offshell/200205_CutBased/\""
   ]
  },
  {
   "cell_type": "markdown",
   "id": "e741ec17",
   "metadata": {},
   "source": [
    "### Read selected trees from user-specified file"
   ]
  },
  {
   "cell_type": "code",
   "execution_count": 12,
   "id": "c5f42100",
   "metadata": {},
   "outputs": [],
   "source": [
    "# treelistpath = \"/eos/user/l/lkang/Active_Research/Discriminants/alltaggedtrees.txt\"\n",
    "#treelistpath = \"/eos/user/s/skyriaco/SWAN_projects/Offshel_tempmaker/outputtree_list.txt\"\n",
    "#treelistpath = \"/eos/user/s/skyriaco/SWAN_projects/Offshel_tempmaker/alloutput.txt\"\n",
    "#treelistpath = \"/eos/user/s/skyriaco/SWAN_projects/Offshel_tempmaker/output_highmass1618.txt\"\n",
    "treelistpath = \"/eos/user/s/skyriaco/SWAN_projects/Offshel_tempmaker/output_highmass18.txt\"\n",
    "treelist = []\n",
    "\n",
    "with open(treelistpath) as f:\n",
    "    llist = [line.rstrip() for line in f]\n",
    "        \n",
    "for line in llist:\n",
    "    if Path(line).exists(): treelist.append(line)"
   ]
  },
  {
   "cell_type": "code",
   "execution_count": 13,
   "id": "6a9af1a2",
   "metadata": {
    "scrolled": true
   },
   "outputs": [
    {
     "name": "stdout",
     "output_type": "stream",
     "text": [
      "/eos/user/s/skyriaco/Offshell/Syst/highmass/MC_18/200205_CutBased/MC_2018/HighMass/ExtraIgnore/DYToLL_2J/ZZ4lAnalysis.root\n",
      "/eos/user/s/skyriaco/Offshell/Syst/highmass/MC_18/200205_CutBased/MC_2018/HighMass/VBFH1000/ZZ4lAnalysis.root\n",
      "/eos/user/s/skyriaco/Offshell/Syst/highmass/MC_18/200205_CutBased/MC_2018/HighMass/VBFH115/ZZ4lAnalysis.root\n",
      "/eos/user/s/skyriaco/Offshell/Syst/highmass/MC_18/200205_CutBased/MC_2018/HighMass/VBFH135/ZZ4lAnalysis.root\n",
      "/eos/user/s/skyriaco/Offshell/Syst/highmass/MC_18/200205_CutBased/MC_2018/HighMass/VBFH140/ZZ4lAnalysis.root\n",
      "/eos/user/s/skyriaco/Offshell/Syst/highmass/MC_18/200205_CutBased/MC_2018/HighMass/VBFH145/ZZ4lAnalysis.root\n",
      "/eos/user/s/skyriaco/Offshell/Syst/highmass/MC_18/200205_CutBased/MC_2018/HighMass/VBFH150/ZZ4lAnalysis.root\n",
      "/eos/user/s/skyriaco/Offshell/Syst/highmass/MC_18/200205_CutBased/MC_2018/HighMass/VBFH1500/ZZ4lAnalysis.root\n",
      "/eos/user/s/skyriaco/Offshell/Syst/highmass/MC_18/200205_CutBased/MC_2018/HighMass/VBFH155/ZZ4lAnalysis.root\n",
      "/eos/user/s/skyriaco/Offshell/Syst/highmass/MC_18/200205_CutBased/MC_2018/HighMass/VBFH160/ZZ4lAnalysis.root\n",
      "/eos/user/s/skyriaco/Offshell/Syst/highmass/MC_18/200205_CutBased/MC_2018/HighMass/VBFH165/ZZ4lAnalysis.root\n",
      "/eos/user/s/skyriaco/Offshell/Syst/highmass/MC_18/200205_CutBased/MC_2018/HighMass/VBFH170/ZZ4lAnalysis.root\n",
      "/eos/user/s/skyriaco/Offshell/Syst/highmass/MC_18/200205_CutBased/MC_2018/HighMass/VBFH175/ZZ4lAnalysis.root\n",
      "/eos/user/s/skyriaco/Offshell/Syst/highmass/MC_18/200205_CutBased/MC_2018/HighMass/VBFH180/ZZ4lAnalysis.root\n",
      "/eos/user/s/skyriaco/Offshell/Syst/highmass/MC_18/200205_CutBased/MC_2018/HighMass/VBFH190/ZZ4lAnalysis.root\n",
      "/eos/user/s/skyriaco/Offshell/Syst/highmass/MC_18/200205_CutBased/MC_2018/HighMass/VBFH200/ZZ4lAnalysis.root\n",
      "/eos/user/s/skyriaco/Offshell/Syst/highmass/MC_18/200205_CutBased/MC_2018/HighMass/VBFH2000/ZZ4lAnalysis.root\n",
      "/eos/user/s/skyriaco/Offshell/Syst/highmass/MC_18/200205_CutBased/MC_2018/HighMass/VBFH210/ZZ4lAnalysis.root\n",
      "/eos/user/s/skyriaco/Offshell/Syst/highmass/MC_18/200205_CutBased/MC_2018/HighMass/VBFH230/ZZ4lAnalysis.root\n",
      "/eos/user/s/skyriaco/Offshell/Syst/highmass/MC_18/200205_CutBased/MC_2018/HighMass/VBFH250/ZZ4lAnalysis.root\n",
      "/eos/user/s/skyriaco/Offshell/Syst/highmass/MC_18/200205_CutBased/MC_2018/HighMass/VBFH2500/ZZ4lAnalysis.root\n",
      "/eos/user/s/skyriaco/Offshell/Syst/highmass/MC_18/200205_CutBased/MC_2018/HighMass/VBFH270/ZZ4lAnalysis.root\n",
      "/eos/user/s/skyriaco/Offshell/Syst/highmass/MC_18/200205_CutBased/MC_2018/HighMass/VBFH300/ZZ4lAnalysis.root\n",
      "/eos/user/s/skyriaco/Offshell/Syst/highmass/MC_18/200205_CutBased/MC_2018/HighMass/VBFH350/ZZ4lAnalysis.root\n",
      "/eos/user/s/skyriaco/Offshell/Syst/highmass/MC_18/200205_CutBased/MC_2018/HighMass/VBFH400/ZZ4lAnalysis.root\n",
      "/eos/user/s/skyriaco/Offshell/Syst/highmass/MC_18/200205_CutBased/MC_2018/HighMass/VBFH450/ZZ4lAnalysis.root\n",
      "/eos/user/s/skyriaco/Offshell/Syst/highmass/MC_18/200205_CutBased/MC_2018/HighMass/VBFH500/ZZ4lAnalysis.root\n",
      "/eos/user/s/skyriaco/Offshell/Syst/highmass/MC_18/200205_CutBased/MC_2018/HighMass/VBFH550/ZZ4lAnalysis.root\n",
      "/eos/user/s/skyriaco/Offshell/Syst/highmass/MC_18/200205_CutBased/MC_2018/HighMass/VBFH600/ZZ4lAnalysis.root\n",
      "/eos/user/s/skyriaco/Offshell/Syst/highmass/MC_18/200205_CutBased/MC_2018/HighMass/VBFH700/ZZ4lAnalysis.root\n",
      "/eos/user/s/skyriaco/Offshell/Syst/highmass/MC_18/200205_CutBased/MC_2018/HighMass/VBFH750/ZZ4lAnalysis.root\n",
      "/eos/user/s/skyriaco/Offshell/Syst/highmass/MC_18/200205_CutBased/MC_2018/HighMass/VBFH800/ZZ4lAnalysis.root\n",
      "/eos/user/s/skyriaco/Offshell/Syst/highmass/MC_18/200205_CutBased/MC_2018/HighMass/VBFH900/ZZ4lAnalysis.root\n",
      "/eos/user/s/skyriaco/Offshell/Syst/highmass/MC_18/200205_CutBased/MC_2018/HighMass/VBFTo2e2muJJ_0PMH125_phantom128/ZZ4lAnalysis.root\n",
      "/eos/user/s/skyriaco/Offshell/Syst/highmass/MC_18/200205_CutBased/MC_2018/HighMass/VBFTo2e2muJJ_Contin_phantom128/ZZ4lAnalysis.root\n",
      "/eos/user/s/skyriaco/Offshell/Syst/highmass/MC_18/200205_CutBased/MC_2018/HighMass/VBFTo4eJJ_0PMH125_phantom128/ZZ4lAnalysis.root\n",
      "/eos/user/s/skyriaco/Offshell/Syst/highmass/MC_18/200205_CutBased/MC_2018/HighMass/VBFTo4eJJ_Contin_phantom128/ZZ4lAnalysis.root\n",
      "/eos/user/s/skyriaco/Offshell/Syst/highmass/MC_18/200205_CutBased/MC_2018/HighMass/WminusH175/ZZ4lAnalysis.root\n",
      "/eos/user/s/skyriaco/Offshell/Syst/highmass/MC_18/200205_CutBased/MC_2018/HighMass/WminusH250/ZZ4lAnalysis.root\n",
      "/eos/user/s/skyriaco/Offshell/Syst/highmass/MC_18/200205_CutBased/MC_2018/HighMass/WminusH2500/ZZ4lAnalysis.root\n",
      "/eos/user/s/skyriaco/Offshell/Syst/highmass/MC_18/200205_CutBased/MC_2018/HighMass/WminusH270/ZZ4lAnalysis.root\n",
      "/eos/user/s/skyriaco/Offshell/Syst/highmass/MC_18/200205_CutBased/MC_2018/HighMass/WminusH300/ZZ4lAnalysis.root\n",
      "/eos/user/s/skyriaco/Offshell/Syst/highmass/MC_18/200205_CutBased/MC_2018/HighMass/WminusH3000/ZZ4lAnalysis.root\n",
      "/eos/user/s/skyriaco/Offshell/Syst/highmass/MC_18/200205_CutBased/MC_2018/HighMass/WminusH350/ZZ4lAnalysis.root\n",
      "/eos/user/s/skyriaco/Offshell/Syst/highmass/MC_18/200205_CutBased/MC_2018/HighMass/WminusH400/ZZ4lAnalysis.root\n",
      "/eos/user/s/skyriaco/Offshell/Syst/highmass/MC_18/200205_CutBased/MC_2018/HighMass/WminusH450/ZZ4lAnalysis.root\n",
      "/eos/user/s/skyriaco/Offshell/Syst/highmass/MC_18/200205_CutBased/MC_2018/HighMass/WminusH500/ZZ4lAnalysis.root\n",
      "/eos/user/s/skyriaco/Offshell/Syst/highmass/MC_18/200205_CutBased/MC_2018/HighMass/WminusH550/ZZ4lAnalysis.root\n",
      "/eos/user/s/skyriaco/Offshell/Syst/highmass/MC_18/200205_CutBased/MC_2018/HighMass/WminusH600/ZZ4lAnalysis.root\n",
      "/eos/user/s/skyriaco/Offshell/Syst/highmass/MC_18/200205_CutBased/MC_2018/HighMass/WminusH700/ZZ4lAnalysis.root\n",
      "/eos/user/s/skyriaco/Offshell/Syst/highmass/MC_18/200205_CutBased/MC_2018/HighMass/WminusH750/ZZ4lAnalysis.root\n",
      "/eos/user/s/skyriaco/Offshell/Syst/highmass/MC_18/200205_CutBased/MC_2018/HighMass/WminusH800/ZZ4lAnalysis.root\n",
      "/eos/user/s/skyriaco/Offshell/Syst/highmass/MC_18/200205_CutBased/MC_2018/HighMass/WminusH900/ZZ4lAnalysis.root\n",
      "/eos/user/s/skyriaco/Offshell/Syst/highmass/MC_18/200205_CutBased/MC_2018/HighMass/WplusH1000/ZZ4lAnalysis.root\n",
      "/eos/user/s/skyriaco/Offshell/Syst/highmass/MC_18/200205_CutBased/MC_2018/HighMass/WplusH115/ZZ4lAnalysis.root\n",
      "/eos/user/s/skyriaco/Offshell/Syst/highmass/MC_18/200205_CutBased/MC_2018/HighMass/WplusH135/ZZ4lAnalysis.root\n",
      "/eos/user/s/skyriaco/Offshell/Syst/highmass/MC_18/200205_CutBased/MC_2018/HighMass/WplusH140/ZZ4lAnalysis.root\n",
      "/eos/user/s/skyriaco/Offshell/Syst/highmass/MC_18/200205_CutBased/MC_2018/HighMass/WplusH145/ZZ4lAnalysis.root\n",
      "/eos/user/s/skyriaco/Offshell/Syst/highmass/MC_18/200205_CutBased/MC_2018/HighMass/WplusH150/ZZ4lAnalysis.root\n",
      "/eos/user/s/skyriaco/Offshell/Syst/highmass/MC_18/200205_CutBased/MC_2018/HighMass/WplusH1500/ZZ4lAnalysis.root\n",
      "/eos/user/s/skyriaco/Offshell/Syst/highmass/MC_18/200205_CutBased/MC_2018/HighMass/WplusH155/ZZ4lAnalysis.root\n",
      "/eos/user/s/skyriaco/Offshell/Syst/highmass/MC_18/200205_CutBased/MC_2018/HighMass/WplusH160/ZZ4lAnalysis.root\n",
      "/eos/user/s/skyriaco/Offshell/Syst/highmass/MC_18/200205_CutBased/MC_2018/HighMass/WplusH165/ZZ4lAnalysis.root\n",
      "/eos/user/s/skyriaco/Offshell/Syst/highmass/MC_18/200205_CutBased/MC_2018/HighMass/WplusH170/ZZ4lAnalysis.root\n",
      "/eos/user/s/skyriaco/Offshell/Syst/highmass/MC_18/200205_CutBased/MC_2018/HighMass/WplusH175/ZZ4lAnalysis.root\n",
      "/eos/user/s/skyriaco/Offshell/Syst/highmass/MC_18/200205_CutBased/MC_2018/HighMass/WplusH180/ZZ4lAnalysis.root\n",
      "/eos/user/s/skyriaco/Offshell/Syst/highmass/MC_18/200205_CutBased/MC_2018/HighMass/WplusH190/ZZ4lAnalysis.root\n",
      "/eos/user/s/skyriaco/Offshell/Syst/highmass/MC_18/200205_CutBased/MC_2018/HighMass/WplusH200/ZZ4lAnalysis.root\n",
      "/eos/user/s/skyriaco/Offshell/Syst/highmass/MC_18/200205_CutBased/MC_2018/HighMass/WplusH2000/ZZ4lAnalysis.root\n",
      "/eos/user/s/skyriaco/Offshell/Syst/highmass/MC_18/200205_CutBased/MC_2018/HighMass/WplusH210/ZZ4lAnalysis.root\n",
      "/eos/user/s/skyriaco/Offshell/Syst/highmass/MC_18/200205_CutBased/MC_2018/HighMass/WplusH230/ZZ4lAnalysis.root\n",
      "/eos/user/s/skyriaco/Offshell/Syst/highmass/MC_18/200205_CutBased/MC_2018/HighMass/WplusH250/ZZ4lAnalysis.root\n",
      "/eos/user/s/skyriaco/Offshell/Syst/highmass/MC_18/200205_CutBased/MC_2018/HighMass/WplusH2500/ZZ4lAnalysis.root\n",
      "/eos/user/s/skyriaco/Offshell/Syst/highmass/MC_18/200205_CutBased/MC_2018/HighMass/WplusH270/ZZ4lAnalysis.root\n",
      "/eos/user/s/skyriaco/Offshell/Syst/highmass/MC_18/200205_CutBased/MC_2018/HighMass/WplusH300/ZZ4lAnalysis.root\n",
      "/eos/user/s/skyriaco/Offshell/Syst/highmass/MC_18/200205_CutBased/MC_2018/HighMass/WplusH3000/ZZ4lAnalysis.root\n",
      "/eos/user/s/skyriaco/Offshell/Syst/highmass/MC_18/200205_CutBased/MC_2018/HighMass/WplusH350/ZZ4lAnalysis.root\n",
      "/eos/user/s/skyriaco/Offshell/Syst/highmass/MC_18/200205_CutBased/MC_2018/HighMass/WplusH400/ZZ4lAnalysis.root\n",
      "/eos/user/s/skyriaco/Offshell/Syst/highmass/MC_18/200205_CutBased/MC_2018/HighMass/WplusH450/ZZ4lAnalysis.root\n",
      "/eos/user/s/skyriaco/Offshell/Syst/highmass/MC_18/200205_CutBased/MC_2018/HighMass/WplusH500/ZZ4lAnalysis.root\n",
      "/eos/user/s/skyriaco/Offshell/Syst/highmass/MC_18/200205_CutBased/MC_2018/HighMass/WplusH550/ZZ4lAnalysis.root\n",
      "/eos/user/s/skyriaco/Offshell/Syst/highmass/MC_18/200205_CutBased/MC_2018/HighMass/WplusH600/ZZ4lAnalysis.root\n",
      "/eos/user/s/skyriaco/Offshell/Syst/highmass/MC_18/200205_CutBased/MC_2018/HighMass/WplusH700/ZZ4lAnalysis.root\n",
      "/eos/user/s/skyriaco/Offshell/Syst/highmass/MC_18/200205_CutBased/MC_2018/HighMass/WplusH750/ZZ4lAnalysis.root\n",
      "/eos/user/s/skyriaco/Offshell/Syst/highmass/MC_18/200205_CutBased/MC_2018/HighMass/WplusH800/ZZ4lAnalysis.root\n",
      "/eos/user/s/skyriaco/Offshell/Syst/highmass/MC_18/200205_CutBased/MC_2018/HighMass/WplusH900/ZZ4lAnalysis.root\n",
      "/eos/user/s/skyriaco/Offshell/Syst/highmass/MC_18/200205_CutBased/MC_2018/HighMass/ZH1000/ZZ4lAnalysis.root\n",
      "/eos/user/s/skyriaco/Offshell/Syst/highmass/MC_18/200205_CutBased/MC_2018/HighMass/ZH115/ZZ4lAnalysis.root\n",
      "/eos/user/s/skyriaco/Offshell/Syst/highmass/MC_18/200205_CutBased/MC_2018/HighMass/ZH135/ZZ4lAnalysis.root\n",
      "/eos/user/s/skyriaco/Offshell/Syst/highmass/MC_18/200205_CutBased/MC_2018/HighMass/ZH140/ZZ4lAnalysis.root\n",
      "/eos/user/s/skyriaco/Offshell/Syst/highmass/MC_18/200205_CutBased/MC_2018/HighMass/ZH145/ZZ4lAnalysis.root\n",
      "/eos/user/s/skyriaco/Offshell/Syst/highmass/MC_18/200205_CutBased/MC_2018/HighMass/ZH150/ZZ4lAnalysis.root\n",
      "/eos/user/s/skyriaco/Offshell/Syst/highmass/MC_18/200205_CutBased/MC_2018/HighMass/ZH1500/ZZ4lAnalysis.root\n",
      "/eos/user/s/skyriaco/Offshell/Syst/highmass/MC_18/200205_CutBased/MC_2018/HighMass/ZH155/ZZ4lAnalysis.root\n",
      "/eos/user/s/skyriaco/Offshell/Syst/highmass/MC_18/200205_CutBased/MC_2018/HighMass/ZH160/ZZ4lAnalysis.root\n",
      "/eos/user/s/skyriaco/Offshell/Syst/highmass/MC_18/200205_CutBased/MC_2018/HighMass/ZH165/ZZ4lAnalysis.root\n",
      "/eos/user/s/skyriaco/Offshell/Syst/highmass/MC_18/200205_CutBased/MC_2018/HighMass/ZH170/ZZ4lAnalysis.root\n",
      "/eos/user/s/skyriaco/Offshell/Syst/highmass/MC_18/200205_CutBased/MC_2018/HighMass/ZH175/ZZ4lAnalysis.root\n",
      "/eos/user/s/skyriaco/Offshell/Syst/highmass/MC_18/200205_CutBased/MC_2018/HighMass/ZH180/ZZ4lAnalysis.root\n",
      "/eos/user/s/skyriaco/Offshell/Syst/highmass/MC_18/200205_CutBased/MC_2018/HighMass/ZH190/ZZ4lAnalysis.root\n",
      "/eos/user/s/skyriaco/Offshell/Syst/highmass/MC_18/200205_CutBased/MC_2018/HighMass/ZH200/ZZ4lAnalysis.root\n",
      "/eos/user/s/skyriaco/Offshell/Syst/highmass/MC_18/200205_CutBased/MC_2018/HighMass/ZH2000/ZZ4lAnalysis.root\n",
      "/eos/user/s/skyriaco/Offshell/Syst/highmass/MC_18/200205_CutBased/MC_2018/HighMass/ZH210/ZZ4lAnalysis.root\n",
      "/eos/user/s/skyriaco/Offshell/Syst/highmass/MC_18/200205_CutBased/MC_2018/HighMass/ZH230/ZZ4lAnalysis.root\n",
      "/eos/user/s/skyriaco/Offshell/Syst/highmass/MC_18/200205_CutBased/MC_2018/HighMass/ZH250/ZZ4lAnalysis.root\n",
      "/eos/user/s/skyriaco/Offshell/Syst/highmass/MC_18/200205_CutBased/MC_2018/HighMass/ZH2500/ZZ4lAnalysis.root\n",
      "/eos/user/s/skyriaco/Offshell/Syst/highmass/MC_18/200205_CutBased/MC_2018/HighMass/ZH270/ZZ4lAnalysis.root\n",
      "/eos/user/s/skyriaco/Offshell/Syst/highmass/MC_18/200205_CutBased/MC_2018/HighMass/ZH300/ZZ4lAnalysis.root\n",
      "/eos/user/s/skyriaco/Offshell/Syst/highmass/MC_18/200205_CutBased/MC_2018/HighMass/ZH3000/ZZ4lAnalysis.root\n",
      "/eos/user/s/skyriaco/Offshell/Syst/highmass/MC_18/200205_CutBased/MC_2018/HighMass/ZH350/ZZ4lAnalysis.root\n",
      "/eos/user/s/skyriaco/Offshell/Syst/highmass/MC_18/200205_CutBased/MC_2018/HighMass/ZH400/ZZ4lAnalysis.root\n",
      "/eos/user/s/skyriaco/Offshell/Syst/highmass/MC_18/200205_CutBased/MC_2018/HighMass/ZH450/ZZ4lAnalysis.root\n",
      "/eos/user/s/skyriaco/Offshell/Syst/highmass/MC_18/200205_CutBased/MC_2018/HighMass/ZH500/ZZ4lAnalysis.root\n",
      "/eos/user/s/skyriaco/Offshell/Syst/highmass/MC_18/200205_CutBased/MC_2018/HighMass/ZH550/ZZ4lAnalysis.root\n",
      "/eos/user/s/skyriaco/Offshell/Syst/highmass/MC_18/200205_CutBased/MC_2018/HighMass/ZH600/ZZ4lAnalysis.root\n",
      "/eos/user/s/skyriaco/Offshell/Syst/highmass/MC_18/200205_CutBased/MC_2018/HighMass/ZH700/ZZ4lAnalysis.root\n",
      "/eos/user/s/skyriaco/Offshell/Syst/highmass/MC_18/200205_CutBased/MC_2018/HighMass/ZH750/ZZ4lAnalysis.root\n",
      "/eos/user/s/skyriaco/Offshell/Syst/highmass/MC_18/200205_CutBased/MC_2018/HighMass/ZH800/ZZ4lAnalysis.root\n",
      "/eos/user/s/skyriaco/Offshell/Syst/highmass/MC_18/200205_CutBased/MC_2018/HighMass/ZH900/ZZ4lAnalysis.root\n",
      "/eos/user/s/skyriaco/Offshell/Syst/highmass/MC_18/200205_CutBased/MC_2018/HighMass/ggH1000/ZZ4lAnalysis.root\n",
      "/eos/user/s/skyriaco/Offshell/Syst/highmass/MC_18/200205_CutBased/MC_2018/HighMass/ggH115/ZZ4lAnalysis.root\n",
      "/eos/user/s/skyriaco/Offshell/Syst/highmass/MC_18/200205_CutBased/MC_2018/HighMass/ggH135/ZZ4lAnalysis.root\n",
      "/eos/user/s/skyriaco/Offshell/Syst/highmass/MC_18/200205_CutBased/MC_2018/HighMass/ggH140/ZZ4lAnalysis.root\n",
      "/eos/user/s/skyriaco/Offshell/Syst/highmass/MC_18/200205_CutBased/MC_2018/HighMass/ggH145/ZZ4lAnalysis.root\n",
      "/eos/user/s/skyriaco/Offshell/Syst/highmass/MC_18/200205_CutBased/MC_2018/HighMass/ggH150/ZZ4lAnalysis.root\n",
      "/eos/user/s/skyriaco/Offshell/Syst/highmass/MC_18/200205_CutBased/MC_2018/HighMass/ggH1500/ZZ4lAnalysis.root\n",
      "/eos/user/s/skyriaco/Offshell/Syst/highmass/MC_18/200205_CutBased/MC_2018/HighMass/ggH155/ZZ4lAnalysis.root\n",
      "/eos/user/s/skyriaco/Offshell/Syst/highmass/MC_18/200205_CutBased/MC_2018/HighMass/ggH160/ZZ4lAnalysis.root\n",
      "/eos/user/s/skyriaco/Offshell/Syst/highmass/MC_18/200205_CutBased/MC_2018/HighMass/ggH165/ZZ4lAnalysis.root\n",
      "/eos/user/s/skyriaco/Offshell/Syst/highmass/MC_18/200205_CutBased/MC_2018/HighMass/ggH170/ZZ4lAnalysis.root\n",
      "/eos/user/s/skyriaco/Offshell/Syst/highmass/MC_18/200205_CutBased/MC_2018/HighMass/ggH175/ZZ4lAnalysis.root\n",
      "/eos/user/s/skyriaco/Offshell/Syst/highmass/MC_18/200205_CutBased/MC_2018/HighMass/ggH180/ZZ4lAnalysis.root\n",
      "/eos/user/s/skyriaco/Offshell/Syst/highmass/MC_18/200205_CutBased/MC_2018/HighMass/ggH190/ZZ4lAnalysis.root\n",
      "/eos/user/s/skyriaco/Offshell/Syst/highmass/MC_18/200205_CutBased/MC_2018/HighMass/ggH200/ZZ4lAnalysis.root\n",
      "/eos/user/s/skyriaco/Offshell/Syst/highmass/MC_18/200205_CutBased/MC_2018/HighMass/ggH2000/ZZ4lAnalysis.root\n",
      "/eos/user/s/skyriaco/Offshell/Syst/highmass/MC_18/200205_CutBased/MC_2018/HighMass/ggH210/ZZ4lAnalysis.root\n",
      "/eos/user/s/skyriaco/Offshell/Syst/highmass/MC_18/200205_CutBased/MC_2018/HighMass/ggH230/ZZ4lAnalysis.root\n",
      "/eos/user/s/skyriaco/Offshell/Syst/highmass/MC_18/200205_CutBased/MC_2018/HighMass/ggH250/ZZ4lAnalysis.root\n",
      "/eos/user/s/skyriaco/Offshell/Syst/highmass/MC_18/200205_CutBased/MC_2018/HighMass/ggH2500/ZZ4lAnalysis.root\n",
      "/eos/user/s/skyriaco/Offshell/Syst/highmass/MC_18/200205_CutBased/MC_2018/HighMass/ggH270/ZZ4lAnalysis.root\n",
      "/eos/user/s/skyriaco/Offshell/Syst/highmass/MC_18/200205_CutBased/MC_2018/HighMass/ggH300/ZZ4lAnalysis.root\n",
      "/eos/user/s/skyriaco/Offshell/Syst/highmass/MC_18/200205_CutBased/MC_2018/HighMass/ggH3000/ZZ4lAnalysis.root\n",
      "/eos/user/s/skyriaco/Offshell/Syst/highmass/MC_18/200205_CutBased/MC_2018/HighMass/ggH300_minloHJJ/ZZ4lAnalysis.root\n",
      "/eos/user/s/skyriaco/Offshell/Syst/highmass/MC_18/200205_CutBased/MC_2018/HighMass/ggH300_tunedown_minloHJJ/ZZ4lAnalysis.root\n",
      "/eos/user/s/skyriaco/Offshell/Syst/highmass/MC_18/200205_CutBased/MC_2018/HighMass/ggH300_tuneup_minloHJJ/ZZ4lAnalysis.root\n",
      "/eos/user/s/skyriaco/Offshell/Syst/highmass/MC_18/200205_CutBased/MC_2018/HighMass/ggH350/ZZ4lAnalysis.root\n",
      "/eos/user/s/skyriaco/Offshell/Syst/highmass/MC_18/200205_CutBased/MC_2018/HighMass/ggH400/ZZ4lAnalysis.root\n",
      "/eos/user/s/skyriaco/Offshell/Syst/highmass/MC_18/200205_CutBased/MC_2018/HighMass/ggH450/ZZ4lAnalysis.root\n",
      "/eos/user/s/skyriaco/Offshell/Syst/highmass/MC_18/200205_CutBased/MC_2018/HighMass/ggH500/ZZ4lAnalysis.root\n",
      "/eos/user/s/skyriaco/Offshell/Syst/highmass/MC_18/200205_CutBased/MC_2018/HighMass/ggH550/ZZ4lAnalysis.root\n",
      "/eos/user/s/skyriaco/Offshell/Syst/highmass/MC_18/200205_CutBased/MC_2018/HighMass/ggH600/ZZ4lAnalysis.root\n",
      "/eos/user/s/skyriaco/Offshell/Syst/highmass/MC_18/200205_CutBased/MC_2018/HighMass/ggH700/ZZ4lAnalysis.root\n",
      "/eos/user/s/skyriaco/Offshell/Syst/highmass/MC_18/200205_CutBased/MC_2018/HighMass/ggH750/ZZ4lAnalysis.root\n",
      "/eos/user/s/skyriaco/Offshell/Syst/highmass/MC_18/200205_CutBased/MC_2018/HighMass/ggH800/ZZ4lAnalysis.root\n",
      "/eos/user/s/skyriaco/Offshell/Syst/highmass/MC_18/200205_CutBased/MC_2018/HighMass/ggH900/ZZ4lAnalysis.root\n"
     ]
    }
   ],
   "source": [
    "for t in treelist:\n",
    "    #if \"VBF\" in t:\n",
    "         print(t)"
   ]
  },
  {
   "cell_type": "code",
   "execution_count": 14,
   "id": "89141904",
   "metadata": {
    "scrolled": true
   },
   "outputs": [
    {
     "data": {
      "application/vnd.jupyter.widget-view+json": {
       "model_id": "3aad1b7084bb4f81bd5e98e8e144980f",
       "version_major": 2,
       "version_minor": 0
      },
      "text/plain": [
       "  0%|          | 0/155 [00:00<?, ?it/s]"
      ]
     },
     "metadata": {},
     "output_type": "display_data"
    }
   ],
   "source": [
    "yeardict = {}\n",
    "\n",
    "for numfile in trange(len(treelist)):\n",
    "    filename = treelist[numfile]\n",
    "    ind = filename.split(\"/\").index(\"200205_CutBased\")\n",
    "#     tagtreefile = \"/\".join(filename.split(\"/\")[ind:])\n",
    "    year = filename.split(\"/\")[ind:][1]\n",
    "#     print(year)\n",
    "    if year not in yeardict.keys():\n",
    "        yeardict[year] = {}\n",
    "    else:\n",
    "        if \"ZZTo4l\" in filename.split(\"/\")[ind:][2]: prod = \"ZZTo4l\"\n",
    "        else: prod = filename.split(\"/\")[ind:][3]\n",
    "            \n",
    "        if prod not in yeardict[year]:\n",
    "        #    if 'gg' in prod:\n",
    "        #        yeardict[year][prod] = [[], [], []]\n",
    "        #    else:\n",
    "                yeardict[year][prod] = [[]]\n",
    "        if 'gg' in prod:\n",
    "            yeardict[year][prod][0].append(filename)\n",
    "            #if 'ggTo2e2mu' in filename:\n",
    "            #    yeardict[year][prod][0].append(filename)\n",
    "            #elif 'ggTo4e' in filename:\n",
    "            #    yeardict[year][prod][1].append(filename)\n",
    "            #elif 'ggTo4mu' in filename:\n",
    "            #    yeardict[year][prod][2].append(filename)\n",
    "        elif \"VBF\" in prod:\n",
    "            yeardict[year][prod][0].append(filename)\n",
    "        elif \"ZH\" in prod:    \n",
    "            yeardict[year][prod][0].append(filename)\n",
    "        elif \"Wplus\"   in prod:    \n",
    "            yeardict[year][prod][0].append(filename)  \n",
    "        elif \"Wminus\"   in prod:    \n",
    "            yeardict[year][prod][0].append(filename)   \n",
    "        elif prod == \"ZZTo4l\":\n",
    "            yeardict[year][prod][0].append(filename)\n",
    "        else:\n",
    "            print(\"ERROR: Cannot recognize production mode of \" + filename + \"! Tree not sorted!\")"
   ]
  },
  {
   "cell_type": "markdown",
   "id": "c17e73af",
   "metadata": {},
   "source": [
    "### Check organized trees"
   ]
  },
  {
   "cell_type": "code",
   "execution_count": 15,
   "id": "d406f4d6",
   "metadata": {},
   "outputs": [
    {
     "data": {
      "text/plain": [
       "{'MC_2018': {'VBFH1000': [['/eos/user/s/skyriaco/Offshell/Syst/highmass/MC_18/200205_CutBased/MC_2018/HighMass/VBFH1000/ZZ4lAnalysis.root']],\n",
       "  'VBFH115': [['/eos/user/s/skyriaco/Offshell/Syst/highmass/MC_18/200205_CutBased/MC_2018/HighMass/VBFH115/ZZ4lAnalysis.root']],\n",
       "  'VBFH135': [['/eos/user/s/skyriaco/Offshell/Syst/highmass/MC_18/200205_CutBased/MC_2018/HighMass/VBFH135/ZZ4lAnalysis.root']],\n",
       "  'VBFH140': [['/eos/user/s/skyriaco/Offshell/Syst/highmass/MC_18/200205_CutBased/MC_2018/HighMass/VBFH140/ZZ4lAnalysis.root']],\n",
       "  'VBFH145': [['/eos/user/s/skyriaco/Offshell/Syst/highmass/MC_18/200205_CutBased/MC_2018/HighMass/VBFH145/ZZ4lAnalysis.root']],\n",
       "  'VBFH150': [['/eos/user/s/skyriaco/Offshell/Syst/highmass/MC_18/200205_CutBased/MC_2018/HighMass/VBFH150/ZZ4lAnalysis.root']],\n",
       "  'VBFH1500': [['/eos/user/s/skyriaco/Offshell/Syst/highmass/MC_18/200205_CutBased/MC_2018/HighMass/VBFH1500/ZZ4lAnalysis.root']],\n",
       "  'VBFH155': [['/eos/user/s/skyriaco/Offshell/Syst/highmass/MC_18/200205_CutBased/MC_2018/HighMass/VBFH155/ZZ4lAnalysis.root']],\n",
       "  'VBFH160': [['/eos/user/s/skyriaco/Offshell/Syst/highmass/MC_18/200205_CutBased/MC_2018/HighMass/VBFH160/ZZ4lAnalysis.root']],\n",
       "  'VBFH165': [['/eos/user/s/skyriaco/Offshell/Syst/highmass/MC_18/200205_CutBased/MC_2018/HighMass/VBFH165/ZZ4lAnalysis.root']],\n",
       "  'VBFH170': [['/eos/user/s/skyriaco/Offshell/Syst/highmass/MC_18/200205_CutBased/MC_2018/HighMass/VBFH170/ZZ4lAnalysis.root']],\n",
       "  'VBFH175': [['/eos/user/s/skyriaco/Offshell/Syst/highmass/MC_18/200205_CutBased/MC_2018/HighMass/VBFH175/ZZ4lAnalysis.root']],\n",
       "  'VBFH180': [['/eos/user/s/skyriaco/Offshell/Syst/highmass/MC_18/200205_CutBased/MC_2018/HighMass/VBFH180/ZZ4lAnalysis.root']],\n",
       "  'VBFH190': [['/eos/user/s/skyriaco/Offshell/Syst/highmass/MC_18/200205_CutBased/MC_2018/HighMass/VBFH190/ZZ4lAnalysis.root']],\n",
       "  'VBFH200': [['/eos/user/s/skyriaco/Offshell/Syst/highmass/MC_18/200205_CutBased/MC_2018/HighMass/VBFH200/ZZ4lAnalysis.root']],\n",
       "  'VBFH2000': [['/eos/user/s/skyriaco/Offshell/Syst/highmass/MC_18/200205_CutBased/MC_2018/HighMass/VBFH2000/ZZ4lAnalysis.root']],\n",
       "  'VBFH210': [['/eos/user/s/skyriaco/Offshell/Syst/highmass/MC_18/200205_CutBased/MC_2018/HighMass/VBFH210/ZZ4lAnalysis.root']],\n",
       "  'VBFH230': [['/eos/user/s/skyriaco/Offshell/Syst/highmass/MC_18/200205_CutBased/MC_2018/HighMass/VBFH230/ZZ4lAnalysis.root']],\n",
       "  'VBFH250': [['/eos/user/s/skyriaco/Offshell/Syst/highmass/MC_18/200205_CutBased/MC_2018/HighMass/VBFH250/ZZ4lAnalysis.root']],\n",
       "  'VBFH2500': [['/eos/user/s/skyriaco/Offshell/Syst/highmass/MC_18/200205_CutBased/MC_2018/HighMass/VBFH2500/ZZ4lAnalysis.root']],\n",
       "  'VBFH270': [['/eos/user/s/skyriaco/Offshell/Syst/highmass/MC_18/200205_CutBased/MC_2018/HighMass/VBFH270/ZZ4lAnalysis.root']],\n",
       "  'VBFH300': [['/eos/user/s/skyriaco/Offshell/Syst/highmass/MC_18/200205_CutBased/MC_2018/HighMass/VBFH300/ZZ4lAnalysis.root']],\n",
       "  'VBFH350': [['/eos/user/s/skyriaco/Offshell/Syst/highmass/MC_18/200205_CutBased/MC_2018/HighMass/VBFH350/ZZ4lAnalysis.root']],\n",
       "  'VBFH400': [['/eos/user/s/skyriaco/Offshell/Syst/highmass/MC_18/200205_CutBased/MC_2018/HighMass/VBFH400/ZZ4lAnalysis.root']],\n",
       "  'VBFH450': [['/eos/user/s/skyriaco/Offshell/Syst/highmass/MC_18/200205_CutBased/MC_2018/HighMass/VBFH450/ZZ4lAnalysis.root']],\n",
       "  'VBFH500': [['/eos/user/s/skyriaco/Offshell/Syst/highmass/MC_18/200205_CutBased/MC_2018/HighMass/VBFH500/ZZ4lAnalysis.root']],\n",
       "  'VBFH550': [['/eos/user/s/skyriaco/Offshell/Syst/highmass/MC_18/200205_CutBased/MC_2018/HighMass/VBFH550/ZZ4lAnalysis.root']],\n",
       "  'VBFH600': [['/eos/user/s/skyriaco/Offshell/Syst/highmass/MC_18/200205_CutBased/MC_2018/HighMass/VBFH600/ZZ4lAnalysis.root']],\n",
       "  'VBFH700': [['/eos/user/s/skyriaco/Offshell/Syst/highmass/MC_18/200205_CutBased/MC_2018/HighMass/VBFH700/ZZ4lAnalysis.root']],\n",
       "  'VBFH750': [['/eos/user/s/skyriaco/Offshell/Syst/highmass/MC_18/200205_CutBased/MC_2018/HighMass/VBFH750/ZZ4lAnalysis.root']],\n",
       "  'VBFH800': [['/eos/user/s/skyriaco/Offshell/Syst/highmass/MC_18/200205_CutBased/MC_2018/HighMass/VBFH800/ZZ4lAnalysis.root']],\n",
       "  'VBFH900': [['/eos/user/s/skyriaco/Offshell/Syst/highmass/MC_18/200205_CutBased/MC_2018/HighMass/VBFH900/ZZ4lAnalysis.root']],\n",
       "  'VBFTo2e2muJJ_0PMH125_phantom128': [['/eos/user/s/skyriaco/Offshell/Syst/highmass/MC_18/200205_CutBased/MC_2018/HighMass/VBFTo2e2muJJ_0PMH125_phantom128/ZZ4lAnalysis.root']],\n",
       "  'VBFTo2e2muJJ_Contin_phantom128': [['/eos/user/s/skyriaco/Offshell/Syst/highmass/MC_18/200205_CutBased/MC_2018/HighMass/VBFTo2e2muJJ_Contin_phantom128/ZZ4lAnalysis.root']],\n",
       "  'VBFTo4eJJ_0PMH125_phantom128': [['/eos/user/s/skyriaco/Offshell/Syst/highmass/MC_18/200205_CutBased/MC_2018/HighMass/VBFTo4eJJ_0PMH125_phantom128/ZZ4lAnalysis.root']],\n",
       "  'VBFTo4eJJ_Contin_phantom128': [['/eos/user/s/skyriaco/Offshell/Syst/highmass/MC_18/200205_CutBased/MC_2018/HighMass/VBFTo4eJJ_Contin_phantom128/ZZ4lAnalysis.root']],\n",
       "  'WminusH175': [['/eos/user/s/skyriaco/Offshell/Syst/highmass/MC_18/200205_CutBased/MC_2018/HighMass/WminusH175/ZZ4lAnalysis.root']],\n",
       "  'WminusH250': [['/eos/user/s/skyriaco/Offshell/Syst/highmass/MC_18/200205_CutBased/MC_2018/HighMass/WminusH250/ZZ4lAnalysis.root']],\n",
       "  'WminusH2500': [['/eos/user/s/skyriaco/Offshell/Syst/highmass/MC_18/200205_CutBased/MC_2018/HighMass/WminusH2500/ZZ4lAnalysis.root']],\n",
       "  'WminusH270': [['/eos/user/s/skyriaco/Offshell/Syst/highmass/MC_18/200205_CutBased/MC_2018/HighMass/WminusH270/ZZ4lAnalysis.root']],\n",
       "  'WminusH300': [['/eos/user/s/skyriaco/Offshell/Syst/highmass/MC_18/200205_CutBased/MC_2018/HighMass/WminusH300/ZZ4lAnalysis.root']],\n",
       "  'WminusH3000': [['/eos/user/s/skyriaco/Offshell/Syst/highmass/MC_18/200205_CutBased/MC_2018/HighMass/WminusH3000/ZZ4lAnalysis.root']],\n",
       "  'WminusH350': [['/eos/user/s/skyriaco/Offshell/Syst/highmass/MC_18/200205_CutBased/MC_2018/HighMass/WminusH350/ZZ4lAnalysis.root']],\n",
       "  'WminusH400': [['/eos/user/s/skyriaco/Offshell/Syst/highmass/MC_18/200205_CutBased/MC_2018/HighMass/WminusH400/ZZ4lAnalysis.root']],\n",
       "  'WminusH450': [['/eos/user/s/skyriaco/Offshell/Syst/highmass/MC_18/200205_CutBased/MC_2018/HighMass/WminusH450/ZZ4lAnalysis.root']],\n",
       "  'WminusH500': [['/eos/user/s/skyriaco/Offshell/Syst/highmass/MC_18/200205_CutBased/MC_2018/HighMass/WminusH500/ZZ4lAnalysis.root']],\n",
       "  'WminusH550': [['/eos/user/s/skyriaco/Offshell/Syst/highmass/MC_18/200205_CutBased/MC_2018/HighMass/WminusH550/ZZ4lAnalysis.root']],\n",
       "  'WminusH600': [['/eos/user/s/skyriaco/Offshell/Syst/highmass/MC_18/200205_CutBased/MC_2018/HighMass/WminusH600/ZZ4lAnalysis.root']],\n",
       "  'WminusH700': [['/eos/user/s/skyriaco/Offshell/Syst/highmass/MC_18/200205_CutBased/MC_2018/HighMass/WminusH700/ZZ4lAnalysis.root']],\n",
       "  'WminusH750': [['/eos/user/s/skyriaco/Offshell/Syst/highmass/MC_18/200205_CutBased/MC_2018/HighMass/WminusH750/ZZ4lAnalysis.root']],\n",
       "  'WminusH800': [['/eos/user/s/skyriaco/Offshell/Syst/highmass/MC_18/200205_CutBased/MC_2018/HighMass/WminusH800/ZZ4lAnalysis.root']],\n",
       "  'WminusH900': [['/eos/user/s/skyriaco/Offshell/Syst/highmass/MC_18/200205_CutBased/MC_2018/HighMass/WminusH900/ZZ4lAnalysis.root']],\n",
       "  'WplusH1000': [['/eos/user/s/skyriaco/Offshell/Syst/highmass/MC_18/200205_CutBased/MC_2018/HighMass/WplusH1000/ZZ4lAnalysis.root']],\n",
       "  'WplusH115': [['/eos/user/s/skyriaco/Offshell/Syst/highmass/MC_18/200205_CutBased/MC_2018/HighMass/WplusH115/ZZ4lAnalysis.root']],\n",
       "  'WplusH135': [['/eos/user/s/skyriaco/Offshell/Syst/highmass/MC_18/200205_CutBased/MC_2018/HighMass/WplusH135/ZZ4lAnalysis.root']],\n",
       "  'WplusH140': [['/eos/user/s/skyriaco/Offshell/Syst/highmass/MC_18/200205_CutBased/MC_2018/HighMass/WplusH140/ZZ4lAnalysis.root']],\n",
       "  'WplusH145': [['/eos/user/s/skyriaco/Offshell/Syst/highmass/MC_18/200205_CutBased/MC_2018/HighMass/WplusH145/ZZ4lAnalysis.root']],\n",
       "  'WplusH150': [['/eos/user/s/skyriaco/Offshell/Syst/highmass/MC_18/200205_CutBased/MC_2018/HighMass/WplusH150/ZZ4lAnalysis.root']],\n",
       "  'WplusH1500': [['/eos/user/s/skyriaco/Offshell/Syst/highmass/MC_18/200205_CutBased/MC_2018/HighMass/WplusH1500/ZZ4lAnalysis.root']],\n",
       "  'WplusH155': [['/eos/user/s/skyriaco/Offshell/Syst/highmass/MC_18/200205_CutBased/MC_2018/HighMass/WplusH155/ZZ4lAnalysis.root']],\n",
       "  'WplusH160': [['/eos/user/s/skyriaco/Offshell/Syst/highmass/MC_18/200205_CutBased/MC_2018/HighMass/WplusH160/ZZ4lAnalysis.root']],\n",
       "  'WplusH165': [['/eos/user/s/skyriaco/Offshell/Syst/highmass/MC_18/200205_CutBased/MC_2018/HighMass/WplusH165/ZZ4lAnalysis.root']],\n",
       "  'WplusH170': [['/eos/user/s/skyriaco/Offshell/Syst/highmass/MC_18/200205_CutBased/MC_2018/HighMass/WplusH170/ZZ4lAnalysis.root']],\n",
       "  'WplusH175': [['/eos/user/s/skyriaco/Offshell/Syst/highmass/MC_18/200205_CutBased/MC_2018/HighMass/WplusH175/ZZ4lAnalysis.root']],\n",
       "  'WplusH180': [['/eos/user/s/skyriaco/Offshell/Syst/highmass/MC_18/200205_CutBased/MC_2018/HighMass/WplusH180/ZZ4lAnalysis.root']],\n",
       "  'WplusH190': [['/eos/user/s/skyriaco/Offshell/Syst/highmass/MC_18/200205_CutBased/MC_2018/HighMass/WplusH190/ZZ4lAnalysis.root']],\n",
       "  'WplusH200': [['/eos/user/s/skyriaco/Offshell/Syst/highmass/MC_18/200205_CutBased/MC_2018/HighMass/WplusH200/ZZ4lAnalysis.root']],\n",
       "  'WplusH2000': [['/eos/user/s/skyriaco/Offshell/Syst/highmass/MC_18/200205_CutBased/MC_2018/HighMass/WplusH2000/ZZ4lAnalysis.root']],\n",
       "  'WplusH210': [['/eos/user/s/skyriaco/Offshell/Syst/highmass/MC_18/200205_CutBased/MC_2018/HighMass/WplusH210/ZZ4lAnalysis.root']],\n",
       "  'WplusH230': [['/eos/user/s/skyriaco/Offshell/Syst/highmass/MC_18/200205_CutBased/MC_2018/HighMass/WplusH230/ZZ4lAnalysis.root']],\n",
       "  'WplusH250': [['/eos/user/s/skyriaco/Offshell/Syst/highmass/MC_18/200205_CutBased/MC_2018/HighMass/WplusH250/ZZ4lAnalysis.root']],\n",
       "  'WplusH2500': [['/eos/user/s/skyriaco/Offshell/Syst/highmass/MC_18/200205_CutBased/MC_2018/HighMass/WplusH2500/ZZ4lAnalysis.root']],\n",
       "  'WplusH270': [['/eos/user/s/skyriaco/Offshell/Syst/highmass/MC_18/200205_CutBased/MC_2018/HighMass/WplusH270/ZZ4lAnalysis.root']],\n",
       "  'WplusH300': [['/eos/user/s/skyriaco/Offshell/Syst/highmass/MC_18/200205_CutBased/MC_2018/HighMass/WplusH300/ZZ4lAnalysis.root']],\n",
       "  'WplusH3000': [['/eos/user/s/skyriaco/Offshell/Syst/highmass/MC_18/200205_CutBased/MC_2018/HighMass/WplusH3000/ZZ4lAnalysis.root']],\n",
       "  'WplusH350': [['/eos/user/s/skyriaco/Offshell/Syst/highmass/MC_18/200205_CutBased/MC_2018/HighMass/WplusH350/ZZ4lAnalysis.root']],\n",
       "  'WplusH400': [['/eos/user/s/skyriaco/Offshell/Syst/highmass/MC_18/200205_CutBased/MC_2018/HighMass/WplusH400/ZZ4lAnalysis.root']],\n",
       "  'WplusH450': [['/eos/user/s/skyriaco/Offshell/Syst/highmass/MC_18/200205_CutBased/MC_2018/HighMass/WplusH450/ZZ4lAnalysis.root']],\n",
       "  'WplusH500': [['/eos/user/s/skyriaco/Offshell/Syst/highmass/MC_18/200205_CutBased/MC_2018/HighMass/WplusH500/ZZ4lAnalysis.root']],\n",
       "  'WplusH550': [['/eos/user/s/skyriaco/Offshell/Syst/highmass/MC_18/200205_CutBased/MC_2018/HighMass/WplusH550/ZZ4lAnalysis.root']],\n",
       "  'WplusH600': [['/eos/user/s/skyriaco/Offshell/Syst/highmass/MC_18/200205_CutBased/MC_2018/HighMass/WplusH600/ZZ4lAnalysis.root']],\n",
       "  'WplusH700': [['/eos/user/s/skyriaco/Offshell/Syst/highmass/MC_18/200205_CutBased/MC_2018/HighMass/WplusH700/ZZ4lAnalysis.root']],\n",
       "  'WplusH750': [['/eos/user/s/skyriaco/Offshell/Syst/highmass/MC_18/200205_CutBased/MC_2018/HighMass/WplusH750/ZZ4lAnalysis.root']],\n",
       "  'WplusH800': [['/eos/user/s/skyriaco/Offshell/Syst/highmass/MC_18/200205_CutBased/MC_2018/HighMass/WplusH800/ZZ4lAnalysis.root']],\n",
       "  'WplusH900': [['/eos/user/s/skyriaco/Offshell/Syst/highmass/MC_18/200205_CutBased/MC_2018/HighMass/WplusH900/ZZ4lAnalysis.root']],\n",
       "  'ZH1000': [['/eos/user/s/skyriaco/Offshell/Syst/highmass/MC_18/200205_CutBased/MC_2018/HighMass/ZH1000/ZZ4lAnalysis.root']],\n",
       "  'ZH115': [['/eos/user/s/skyriaco/Offshell/Syst/highmass/MC_18/200205_CutBased/MC_2018/HighMass/ZH115/ZZ4lAnalysis.root']],\n",
       "  'ZH135': [['/eos/user/s/skyriaco/Offshell/Syst/highmass/MC_18/200205_CutBased/MC_2018/HighMass/ZH135/ZZ4lAnalysis.root']],\n",
       "  'ZH140': [['/eos/user/s/skyriaco/Offshell/Syst/highmass/MC_18/200205_CutBased/MC_2018/HighMass/ZH140/ZZ4lAnalysis.root']],\n",
       "  'ZH145': [['/eos/user/s/skyriaco/Offshell/Syst/highmass/MC_18/200205_CutBased/MC_2018/HighMass/ZH145/ZZ4lAnalysis.root']],\n",
       "  'ZH150': [['/eos/user/s/skyriaco/Offshell/Syst/highmass/MC_18/200205_CutBased/MC_2018/HighMass/ZH150/ZZ4lAnalysis.root']],\n",
       "  'ZH1500': [['/eos/user/s/skyriaco/Offshell/Syst/highmass/MC_18/200205_CutBased/MC_2018/HighMass/ZH1500/ZZ4lAnalysis.root']],\n",
       "  'ZH155': [['/eos/user/s/skyriaco/Offshell/Syst/highmass/MC_18/200205_CutBased/MC_2018/HighMass/ZH155/ZZ4lAnalysis.root']],\n",
       "  'ZH160': [['/eos/user/s/skyriaco/Offshell/Syst/highmass/MC_18/200205_CutBased/MC_2018/HighMass/ZH160/ZZ4lAnalysis.root']],\n",
       "  'ZH165': [['/eos/user/s/skyriaco/Offshell/Syst/highmass/MC_18/200205_CutBased/MC_2018/HighMass/ZH165/ZZ4lAnalysis.root']],\n",
       "  'ZH170': [['/eos/user/s/skyriaco/Offshell/Syst/highmass/MC_18/200205_CutBased/MC_2018/HighMass/ZH170/ZZ4lAnalysis.root']],\n",
       "  'ZH175': [['/eos/user/s/skyriaco/Offshell/Syst/highmass/MC_18/200205_CutBased/MC_2018/HighMass/ZH175/ZZ4lAnalysis.root']],\n",
       "  'ZH180': [['/eos/user/s/skyriaco/Offshell/Syst/highmass/MC_18/200205_CutBased/MC_2018/HighMass/ZH180/ZZ4lAnalysis.root']],\n",
       "  'ZH190': [['/eos/user/s/skyriaco/Offshell/Syst/highmass/MC_18/200205_CutBased/MC_2018/HighMass/ZH190/ZZ4lAnalysis.root']],\n",
       "  'ZH200': [['/eos/user/s/skyriaco/Offshell/Syst/highmass/MC_18/200205_CutBased/MC_2018/HighMass/ZH200/ZZ4lAnalysis.root']],\n",
       "  'ZH2000': [['/eos/user/s/skyriaco/Offshell/Syst/highmass/MC_18/200205_CutBased/MC_2018/HighMass/ZH2000/ZZ4lAnalysis.root']],\n",
       "  'ZH210': [['/eos/user/s/skyriaco/Offshell/Syst/highmass/MC_18/200205_CutBased/MC_2018/HighMass/ZH210/ZZ4lAnalysis.root']],\n",
       "  'ZH230': [['/eos/user/s/skyriaco/Offshell/Syst/highmass/MC_18/200205_CutBased/MC_2018/HighMass/ZH230/ZZ4lAnalysis.root']],\n",
       "  'ZH250': [['/eos/user/s/skyriaco/Offshell/Syst/highmass/MC_18/200205_CutBased/MC_2018/HighMass/ZH250/ZZ4lAnalysis.root']],\n",
       "  'ZH2500': [['/eos/user/s/skyriaco/Offshell/Syst/highmass/MC_18/200205_CutBased/MC_2018/HighMass/ZH2500/ZZ4lAnalysis.root']],\n",
       "  'ZH270': [['/eos/user/s/skyriaco/Offshell/Syst/highmass/MC_18/200205_CutBased/MC_2018/HighMass/ZH270/ZZ4lAnalysis.root']],\n",
       "  'ZH300': [['/eos/user/s/skyriaco/Offshell/Syst/highmass/MC_18/200205_CutBased/MC_2018/HighMass/ZH300/ZZ4lAnalysis.root']],\n",
       "  'ZH3000': [['/eos/user/s/skyriaco/Offshell/Syst/highmass/MC_18/200205_CutBased/MC_2018/HighMass/ZH3000/ZZ4lAnalysis.root']],\n",
       "  'ZH350': [['/eos/user/s/skyriaco/Offshell/Syst/highmass/MC_18/200205_CutBased/MC_2018/HighMass/ZH350/ZZ4lAnalysis.root']],\n",
       "  'ZH400': [['/eos/user/s/skyriaco/Offshell/Syst/highmass/MC_18/200205_CutBased/MC_2018/HighMass/ZH400/ZZ4lAnalysis.root']],\n",
       "  'ZH450': [['/eos/user/s/skyriaco/Offshell/Syst/highmass/MC_18/200205_CutBased/MC_2018/HighMass/ZH450/ZZ4lAnalysis.root']],\n",
       "  'ZH500': [['/eos/user/s/skyriaco/Offshell/Syst/highmass/MC_18/200205_CutBased/MC_2018/HighMass/ZH500/ZZ4lAnalysis.root']],\n",
       "  'ZH550': [['/eos/user/s/skyriaco/Offshell/Syst/highmass/MC_18/200205_CutBased/MC_2018/HighMass/ZH550/ZZ4lAnalysis.root']],\n",
       "  'ZH600': [['/eos/user/s/skyriaco/Offshell/Syst/highmass/MC_18/200205_CutBased/MC_2018/HighMass/ZH600/ZZ4lAnalysis.root']],\n",
       "  'ZH700': [['/eos/user/s/skyriaco/Offshell/Syst/highmass/MC_18/200205_CutBased/MC_2018/HighMass/ZH700/ZZ4lAnalysis.root']],\n",
       "  'ZH750': [['/eos/user/s/skyriaco/Offshell/Syst/highmass/MC_18/200205_CutBased/MC_2018/HighMass/ZH750/ZZ4lAnalysis.root']],\n",
       "  'ZH800': [['/eos/user/s/skyriaco/Offshell/Syst/highmass/MC_18/200205_CutBased/MC_2018/HighMass/ZH800/ZZ4lAnalysis.root']],\n",
       "  'ZH900': [['/eos/user/s/skyriaco/Offshell/Syst/highmass/MC_18/200205_CutBased/MC_2018/HighMass/ZH900/ZZ4lAnalysis.root']],\n",
       "  'ggH1000': [['/eos/user/s/skyriaco/Offshell/Syst/highmass/MC_18/200205_CutBased/MC_2018/HighMass/ggH1000/ZZ4lAnalysis.root']],\n",
       "  'ggH115': [['/eos/user/s/skyriaco/Offshell/Syst/highmass/MC_18/200205_CutBased/MC_2018/HighMass/ggH115/ZZ4lAnalysis.root']],\n",
       "  'ggH135': [['/eos/user/s/skyriaco/Offshell/Syst/highmass/MC_18/200205_CutBased/MC_2018/HighMass/ggH135/ZZ4lAnalysis.root']],\n",
       "  'ggH140': [['/eos/user/s/skyriaco/Offshell/Syst/highmass/MC_18/200205_CutBased/MC_2018/HighMass/ggH140/ZZ4lAnalysis.root']],\n",
       "  'ggH145': [['/eos/user/s/skyriaco/Offshell/Syst/highmass/MC_18/200205_CutBased/MC_2018/HighMass/ggH145/ZZ4lAnalysis.root']],\n",
       "  'ggH150': [['/eos/user/s/skyriaco/Offshell/Syst/highmass/MC_18/200205_CutBased/MC_2018/HighMass/ggH150/ZZ4lAnalysis.root']],\n",
       "  'ggH1500': [['/eos/user/s/skyriaco/Offshell/Syst/highmass/MC_18/200205_CutBased/MC_2018/HighMass/ggH1500/ZZ4lAnalysis.root']],\n",
       "  'ggH155': [['/eos/user/s/skyriaco/Offshell/Syst/highmass/MC_18/200205_CutBased/MC_2018/HighMass/ggH155/ZZ4lAnalysis.root']],\n",
       "  'ggH160': [['/eos/user/s/skyriaco/Offshell/Syst/highmass/MC_18/200205_CutBased/MC_2018/HighMass/ggH160/ZZ4lAnalysis.root']],\n",
       "  'ggH165': [['/eos/user/s/skyriaco/Offshell/Syst/highmass/MC_18/200205_CutBased/MC_2018/HighMass/ggH165/ZZ4lAnalysis.root']],\n",
       "  'ggH170': [['/eos/user/s/skyriaco/Offshell/Syst/highmass/MC_18/200205_CutBased/MC_2018/HighMass/ggH170/ZZ4lAnalysis.root']],\n",
       "  'ggH175': [['/eos/user/s/skyriaco/Offshell/Syst/highmass/MC_18/200205_CutBased/MC_2018/HighMass/ggH175/ZZ4lAnalysis.root']],\n",
       "  'ggH180': [['/eos/user/s/skyriaco/Offshell/Syst/highmass/MC_18/200205_CutBased/MC_2018/HighMass/ggH180/ZZ4lAnalysis.root']],\n",
       "  'ggH190': [['/eos/user/s/skyriaco/Offshell/Syst/highmass/MC_18/200205_CutBased/MC_2018/HighMass/ggH190/ZZ4lAnalysis.root']],\n",
       "  'ggH200': [['/eos/user/s/skyriaco/Offshell/Syst/highmass/MC_18/200205_CutBased/MC_2018/HighMass/ggH200/ZZ4lAnalysis.root']],\n",
       "  'ggH2000': [['/eos/user/s/skyriaco/Offshell/Syst/highmass/MC_18/200205_CutBased/MC_2018/HighMass/ggH2000/ZZ4lAnalysis.root']],\n",
       "  'ggH210': [['/eos/user/s/skyriaco/Offshell/Syst/highmass/MC_18/200205_CutBased/MC_2018/HighMass/ggH210/ZZ4lAnalysis.root']],\n",
       "  'ggH230': [['/eos/user/s/skyriaco/Offshell/Syst/highmass/MC_18/200205_CutBased/MC_2018/HighMass/ggH230/ZZ4lAnalysis.root']],\n",
       "  'ggH250': [['/eos/user/s/skyriaco/Offshell/Syst/highmass/MC_18/200205_CutBased/MC_2018/HighMass/ggH250/ZZ4lAnalysis.root']],\n",
       "  'ggH2500': [['/eos/user/s/skyriaco/Offshell/Syst/highmass/MC_18/200205_CutBased/MC_2018/HighMass/ggH2500/ZZ4lAnalysis.root']],\n",
       "  'ggH270': [['/eos/user/s/skyriaco/Offshell/Syst/highmass/MC_18/200205_CutBased/MC_2018/HighMass/ggH270/ZZ4lAnalysis.root']],\n",
       "  'ggH300': [['/eos/user/s/skyriaco/Offshell/Syst/highmass/MC_18/200205_CutBased/MC_2018/HighMass/ggH300/ZZ4lAnalysis.root']],\n",
       "  'ggH3000': [['/eos/user/s/skyriaco/Offshell/Syst/highmass/MC_18/200205_CutBased/MC_2018/HighMass/ggH3000/ZZ4lAnalysis.root']],\n",
       "  'ggH300_minloHJJ': [['/eos/user/s/skyriaco/Offshell/Syst/highmass/MC_18/200205_CutBased/MC_2018/HighMass/ggH300_minloHJJ/ZZ4lAnalysis.root']],\n",
       "  'ggH300_tunedown_minloHJJ': [['/eos/user/s/skyriaco/Offshell/Syst/highmass/MC_18/200205_CutBased/MC_2018/HighMass/ggH300_tunedown_minloHJJ/ZZ4lAnalysis.root']],\n",
       "  'ggH300_tuneup_minloHJJ': [['/eos/user/s/skyriaco/Offshell/Syst/highmass/MC_18/200205_CutBased/MC_2018/HighMass/ggH300_tuneup_minloHJJ/ZZ4lAnalysis.root']],\n",
       "  'ggH350': [['/eos/user/s/skyriaco/Offshell/Syst/highmass/MC_18/200205_CutBased/MC_2018/HighMass/ggH350/ZZ4lAnalysis.root']],\n",
       "  'ggH400': [['/eos/user/s/skyriaco/Offshell/Syst/highmass/MC_18/200205_CutBased/MC_2018/HighMass/ggH400/ZZ4lAnalysis.root']],\n",
       "  'ggH450': [['/eos/user/s/skyriaco/Offshell/Syst/highmass/MC_18/200205_CutBased/MC_2018/HighMass/ggH450/ZZ4lAnalysis.root']],\n",
       "  'ggH500': [['/eos/user/s/skyriaco/Offshell/Syst/highmass/MC_18/200205_CutBased/MC_2018/HighMass/ggH500/ZZ4lAnalysis.root']],\n",
       "  'ggH550': [['/eos/user/s/skyriaco/Offshell/Syst/highmass/MC_18/200205_CutBased/MC_2018/HighMass/ggH550/ZZ4lAnalysis.root']],\n",
       "  'ggH600': [['/eos/user/s/skyriaco/Offshell/Syst/highmass/MC_18/200205_CutBased/MC_2018/HighMass/ggH600/ZZ4lAnalysis.root']],\n",
       "  'ggH700': [['/eos/user/s/skyriaco/Offshell/Syst/highmass/MC_18/200205_CutBased/MC_2018/HighMass/ggH700/ZZ4lAnalysis.root']],\n",
       "  'ggH750': [['/eos/user/s/skyriaco/Offshell/Syst/highmass/MC_18/200205_CutBased/MC_2018/HighMass/ggH750/ZZ4lAnalysis.root']],\n",
       "  'ggH800': [['/eos/user/s/skyriaco/Offshell/Syst/highmass/MC_18/200205_CutBased/MC_2018/HighMass/ggH800/ZZ4lAnalysis.root']],\n",
       "  'ggH900': [['/eos/user/s/skyriaco/Offshell/Syst/highmass/MC_18/200205_CutBased/MC_2018/HighMass/ggH900/ZZ4lAnalysis.root']]}}"
      ]
     },
     "execution_count": 15,
     "metadata": {},
     "output_type": "execute_result"
    }
   ],
   "source": [
    "yeardict"
   ]
  },
  {
   "cell_type": "code",
   "execution_count": 16,
   "id": "3d66a3a4",
   "metadata": {},
   "outputs": [
    {
     "name": "stdout",
     "output_type": "stream",
     "text": [
      "{'MC_2018': {'VBFH1000': [['/eos/user/s/skyriaco/Offshell/Syst/highmass/MC_18/200205_CutBased/MC_2018/HighMass/VBFH1000/ZZ4lAnalysis.root']], 'VBFH115': [['/eos/user/s/skyriaco/Offshell/Syst/highmass/MC_18/200205_CutBased/MC_2018/HighMass/VBFH115/ZZ4lAnalysis.root']], 'VBFH135': [['/eos/user/s/skyriaco/Offshell/Syst/highmass/MC_18/200205_CutBased/MC_2018/HighMass/VBFH135/ZZ4lAnalysis.root']], 'VBFH140': [['/eos/user/s/skyriaco/Offshell/Syst/highmass/MC_18/200205_CutBased/MC_2018/HighMass/VBFH140/ZZ4lAnalysis.root']], 'VBFH145': [['/eos/user/s/skyriaco/Offshell/Syst/highmass/MC_18/200205_CutBased/MC_2018/HighMass/VBFH145/ZZ4lAnalysis.root']], 'VBFH150': [['/eos/user/s/skyriaco/Offshell/Syst/highmass/MC_18/200205_CutBased/MC_2018/HighMass/VBFH150/ZZ4lAnalysis.root']], 'VBFH1500': [['/eos/user/s/skyriaco/Offshell/Syst/highmass/MC_18/200205_CutBased/MC_2018/HighMass/VBFH1500/ZZ4lAnalysis.root']], 'VBFH155': [['/eos/user/s/skyriaco/Offshell/Syst/highmass/MC_18/200205_CutBased/MC_2018/HighMass/VBFH155/ZZ4lAnalysis.root']], 'VBFH160': [['/eos/user/s/skyriaco/Offshell/Syst/highmass/MC_18/200205_CutBased/MC_2018/HighMass/VBFH160/ZZ4lAnalysis.root']], 'VBFH165': [['/eos/user/s/skyriaco/Offshell/Syst/highmass/MC_18/200205_CutBased/MC_2018/HighMass/VBFH165/ZZ4lAnalysis.root']], 'VBFH170': [['/eos/user/s/skyriaco/Offshell/Syst/highmass/MC_18/200205_CutBased/MC_2018/HighMass/VBFH170/ZZ4lAnalysis.root']], 'VBFH175': [['/eos/user/s/skyriaco/Offshell/Syst/highmass/MC_18/200205_CutBased/MC_2018/HighMass/VBFH175/ZZ4lAnalysis.root']], 'VBFH180': [['/eos/user/s/skyriaco/Offshell/Syst/highmass/MC_18/200205_CutBased/MC_2018/HighMass/VBFH180/ZZ4lAnalysis.root']], 'VBFH190': [['/eos/user/s/skyriaco/Offshell/Syst/highmass/MC_18/200205_CutBased/MC_2018/HighMass/VBFH190/ZZ4lAnalysis.root']], 'VBFH200': [['/eos/user/s/skyriaco/Offshell/Syst/highmass/MC_18/200205_CutBased/MC_2018/HighMass/VBFH200/ZZ4lAnalysis.root']], 'VBFH2000': [['/eos/user/s/skyriaco/Offshell/Syst/highmass/MC_18/200205_CutBased/MC_2018/HighMass/VBFH2000/ZZ4lAnalysis.root']], 'VBFH210': [['/eos/user/s/skyriaco/Offshell/Syst/highmass/MC_18/200205_CutBased/MC_2018/HighMass/VBFH210/ZZ4lAnalysis.root']], 'VBFH230': [['/eos/user/s/skyriaco/Offshell/Syst/highmass/MC_18/200205_CutBased/MC_2018/HighMass/VBFH230/ZZ4lAnalysis.root']], 'VBFH250': [['/eos/user/s/skyriaco/Offshell/Syst/highmass/MC_18/200205_CutBased/MC_2018/HighMass/VBFH250/ZZ4lAnalysis.root']], 'VBFH2500': [['/eos/user/s/skyriaco/Offshell/Syst/highmass/MC_18/200205_CutBased/MC_2018/HighMass/VBFH2500/ZZ4lAnalysis.root']], 'VBFH270': [['/eos/user/s/skyriaco/Offshell/Syst/highmass/MC_18/200205_CutBased/MC_2018/HighMass/VBFH270/ZZ4lAnalysis.root']], 'VBFH300': [['/eos/user/s/skyriaco/Offshell/Syst/highmass/MC_18/200205_CutBased/MC_2018/HighMass/VBFH300/ZZ4lAnalysis.root']], 'VBFH350': [['/eos/user/s/skyriaco/Offshell/Syst/highmass/MC_18/200205_CutBased/MC_2018/HighMass/VBFH350/ZZ4lAnalysis.root']], 'VBFH400': [['/eos/user/s/skyriaco/Offshell/Syst/highmass/MC_18/200205_CutBased/MC_2018/HighMass/VBFH400/ZZ4lAnalysis.root']], 'VBFH450': [['/eos/user/s/skyriaco/Offshell/Syst/highmass/MC_18/200205_CutBased/MC_2018/HighMass/VBFH450/ZZ4lAnalysis.root']], 'VBFH500': [['/eos/user/s/skyriaco/Offshell/Syst/highmass/MC_18/200205_CutBased/MC_2018/HighMass/VBFH500/ZZ4lAnalysis.root']], 'VBFH550': [['/eos/user/s/skyriaco/Offshell/Syst/highmass/MC_18/200205_CutBased/MC_2018/HighMass/VBFH550/ZZ4lAnalysis.root']], 'VBFH600': [['/eos/user/s/skyriaco/Offshell/Syst/highmass/MC_18/200205_CutBased/MC_2018/HighMass/VBFH600/ZZ4lAnalysis.root']], 'VBFH700': [['/eos/user/s/skyriaco/Offshell/Syst/highmass/MC_18/200205_CutBased/MC_2018/HighMass/VBFH700/ZZ4lAnalysis.root']], 'VBFH750': [['/eos/user/s/skyriaco/Offshell/Syst/highmass/MC_18/200205_CutBased/MC_2018/HighMass/VBFH750/ZZ4lAnalysis.root']], 'VBFH800': [['/eos/user/s/skyriaco/Offshell/Syst/highmass/MC_18/200205_CutBased/MC_2018/HighMass/VBFH800/ZZ4lAnalysis.root']], 'VBFH900': [['/eos/user/s/skyriaco/Offshell/Syst/highmass/MC_18/200205_CutBased/MC_2018/HighMass/VBFH900/ZZ4lAnalysis.root']], 'VBFTo2e2muJJ_0PMH125_phantom128': [['/eos/user/s/skyriaco/Offshell/Syst/highmass/MC_18/200205_CutBased/MC_2018/HighMass/VBFTo2e2muJJ_0PMH125_phantom128/ZZ4lAnalysis.root']], 'VBFTo2e2muJJ_Contin_phantom128': [['/eos/user/s/skyriaco/Offshell/Syst/highmass/MC_18/200205_CutBased/MC_2018/HighMass/VBFTo2e2muJJ_Contin_phantom128/ZZ4lAnalysis.root']], 'VBFTo4eJJ_0PMH125_phantom128': [['/eos/user/s/skyriaco/Offshell/Syst/highmass/MC_18/200205_CutBased/MC_2018/HighMass/VBFTo4eJJ_0PMH125_phantom128/ZZ4lAnalysis.root']], 'VBFTo4eJJ_Contin_phantom128': [['/eos/user/s/skyriaco/Offshell/Syst/highmass/MC_18/200205_CutBased/MC_2018/HighMass/VBFTo4eJJ_Contin_phantom128/ZZ4lAnalysis.root']], 'WminusH175': [['/eos/user/s/skyriaco/Offshell/Syst/highmass/MC_18/200205_CutBased/MC_2018/HighMass/WminusH175/ZZ4lAnalysis.root']], 'WminusH250': [['/eos/user/s/skyriaco/Offshell/Syst/highmass/MC_18/200205_CutBased/MC_2018/HighMass/WminusH250/ZZ4lAnalysis.root']], 'WminusH2500': [['/eos/user/s/skyriaco/Offshell/Syst/highmass/MC_18/200205_CutBased/MC_2018/HighMass/WminusH2500/ZZ4lAnalysis.root']], 'WminusH270': [['/eos/user/s/skyriaco/Offshell/Syst/highmass/MC_18/200205_CutBased/MC_2018/HighMass/WminusH270/ZZ4lAnalysis.root']], 'WminusH300': [['/eos/user/s/skyriaco/Offshell/Syst/highmass/MC_18/200205_CutBased/MC_2018/HighMass/WminusH300/ZZ4lAnalysis.root']], 'WminusH3000': [['/eos/user/s/skyriaco/Offshell/Syst/highmass/MC_18/200205_CutBased/MC_2018/HighMass/WminusH3000/ZZ4lAnalysis.root']], 'WminusH350': [['/eos/user/s/skyriaco/Offshell/Syst/highmass/MC_18/200205_CutBased/MC_2018/HighMass/WminusH350/ZZ4lAnalysis.root']], 'WminusH400': [['/eos/user/s/skyriaco/Offshell/Syst/highmass/MC_18/200205_CutBased/MC_2018/HighMass/WminusH400/ZZ4lAnalysis.root']], 'WminusH450': [['/eos/user/s/skyriaco/Offshell/Syst/highmass/MC_18/200205_CutBased/MC_2018/HighMass/WminusH450/ZZ4lAnalysis.root']], 'WminusH500': [['/eos/user/s/skyriaco/Offshell/Syst/highmass/MC_18/200205_CutBased/MC_2018/HighMass/WminusH500/ZZ4lAnalysis.root']], 'WminusH550': [['/eos/user/s/skyriaco/Offshell/Syst/highmass/MC_18/200205_CutBased/MC_2018/HighMass/WminusH550/ZZ4lAnalysis.root']], 'WminusH600': [['/eos/user/s/skyriaco/Offshell/Syst/highmass/MC_18/200205_CutBased/MC_2018/HighMass/WminusH600/ZZ4lAnalysis.root']], 'WminusH700': [['/eos/user/s/skyriaco/Offshell/Syst/highmass/MC_18/200205_CutBased/MC_2018/HighMass/WminusH700/ZZ4lAnalysis.root']], 'WminusH750': [['/eos/user/s/skyriaco/Offshell/Syst/highmass/MC_18/200205_CutBased/MC_2018/HighMass/WminusH750/ZZ4lAnalysis.root']], 'WminusH800': [['/eos/user/s/skyriaco/Offshell/Syst/highmass/MC_18/200205_CutBased/MC_2018/HighMass/WminusH800/ZZ4lAnalysis.root']], 'WminusH900': [['/eos/user/s/skyriaco/Offshell/Syst/highmass/MC_18/200205_CutBased/MC_2018/HighMass/WminusH900/ZZ4lAnalysis.root']], 'WplusH1000': [['/eos/user/s/skyriaco/Offshell/Syst/highmass/MC_18/200205_CutBased/MC_2018/HighMass/WplusH1000/ZZ4lAnalysis.root']], 'WplusH115': [['/eos/user/s/skyriaco/Offshell/Syst/highmass/MC_18/200205_CutBased/MC_2018/HighMass/WplusH115/ZZ4lAnalysis.root']], 'WplusH135': [['/eos/user/s/skyriaco/Offshell/Syst/highmass/MC_18/200205_CutBased/MC_2018/HighMass/WplusH135/ZZ4lAnalysis.root']], 'WplusH140': [['/eos/user/s/skyriaco/Offshell/Syst/highmass/MC_18/200205_CutBased/MC_2018/HighMass/WplusH140/ZZ4lAnalysis.root']], 'WplusH145': [['/eos/user/s/skyriaco/Offshell/Syst/highmass/MC_18/200205_CutBased/MC_2018/HighMass/WplusH145/ZZ4lAnalysis.root']], 'WplusH150': [['/eos/user/s/skyriaco/Offshell/Syst/highmass/MC_18/200205_CutBased/MC_2018/HighMass/WplusH150/ZZ4lAnalysis.root']], 'WplusH1500': [['/eos/user/s/skyriaco/Offshell/Syst/highmass/MC_18/200205_CutBased/MC_2018/HighMass/WplusH1500/ZZ4lAnalysis.root']], 'WplusH155': [['/eos/user/s/skyriaco/Offshell/Syst/highmass/MC_18/200205_CutBased/MC_2018/HighMass/WplusH155/ZZ4lAnalysis.root']], 'WplusH160': [['/eos/user/s/skyriaco/Offshell/Syst/highmass/MC_18/200205_CutBased/MC_2018/HighMass/WplusH160/ZZ4lAnalysis.root']], 'WplusH165': [['/eos/user/s/skyriaco/Offshell/Syst/highmass/MC_18/200205_CutBased/MC_2018/HighMass/WplusH165/ZZ4lAnalysis.root']], 'WplusH170': [['/eos/user/s/skyriaco/Offshell/Syst/highmass/MC_18/200205_CutBased/MC_2018/HighMass/WplusH170/ZZ4lAnalysis.root']], 'WplusH175': [['/eos/user/s/skyriaco/Offshell/Syst/highmass/MC_18/200205_CutBased/MC_2018/HighMass/WplusH175/ZZ4lAnalysis.root']], 'WplusH180': [['/eos/user/s/skyriaco/Offshell/Syst/highmass/MC_18/200205_CutBased/MC_2018/HighMass/WplusH180/ZZ4lAnalysis.root']], 'WplusH190': [['/eos/user/s/skyriaco/Offshell/Syst/highmass/MC_18/200205_CutBased/MC_2018/HighMass/WplusH190/ZZ4lAnalysis.root']], 'WplusH200': [['/eos/user/s/skyriaco/Offshell/Syst/highmass/MC_18/200205_CutBased/MC_2018/HighMass/WplusH200/ZZ4lAnalysis.root']], 'WplusH2000': [['/eos/user/s/skyriaco/Offshell/Syst/highmass/MC_18/200205_CutBased/MC_2018/HighMass/WplusH2000/ZZ4lAnalysis.root']], 'WplusH210': [['/eos/user/s/skyriaco/Offshell/Syst/highmass/MC_18/200205_CutBased/MC_2018/HighMass/WplusH210/ZZ4lAnalysis.root']], 'WplusH230': [['/eos/user/s/skyriaco/Offshell/Syst/highmass/MC_18/200205_CutBased/MC_2018/HighMass/WplusH230/ZZ4lAnalysis.root']], 'WplusH250': [['/eos/user/s/skyriaco/Offshell/Syst/highmass/MC_18/200205_CutBased/MC_2018/HighMass/WplusH250/ZZ4lAnalysis.root']], 'WplusH2500': [['/eos/user/s/skyriaco/Offshell/Syst/highmass/MC_18/200205_CutBased/MC_2018/HighMass/WplusH2500/ZZ4lAnalysis.root']], 'WplusH270': [['/eos/user/s/skyriaco/Offshell/Syst/highmass/MC_18/200205_CutBased/MC_2018/HighMass/WplusH270/ZZ4lAnalysis.root']], 'WplusH300': [['/eos/user/s/skyriaco/Offshell/Syst/highmass/MC_18/200205_CutBased/MC_2018/HighMass/WplusH300/ZZ4lAnalysis.root']], 'WplusH3000': [['/eos/user/s/skyriaco/Offshell/Syst/highmass/MC_18/200205_CutBased/MC_2018/HighMass/WplusH3000/ZZ4lAnalysis.root']], 'WplusH350': [['/eos/user/s/skyriaco/Offshell/Syst/highmass/MC_18/200205_CutBased/MC_2018/HighMass/WplusH350/ZZ4lAnalysis.root']], 'WplusH400': [['/eos/user/s/skyriaco/Offshell/Syst/highmass/MC_18/200205_CutBased/MC_2018/HighMass/WplusH400/ZZ4lAnalysis.root']], 'WplusH450': [['/eos/user/s/skyriaco/Offshell/Syst/highmass/MC_18/200205_CutBased/MC_2018/HighMass/WplusH450/ZZ4lAnalysis.root']], 'WplusH500': [['/eos/user/s/skyriaco/Offshell/Syst/highmass/MC_18/200205_CutBased/MC_2018/HighMass/WplusH500/ZZ4lAnalysis.root']], 'WplusH550': [['/eos/user/s/skyriaco/Offshell/Syst/highmass/MC_18/200205_CutBased/MC_2018/HighMass/WplusH550/ZZ4lAnalysis.root']], 'WplusH600': [['/eos/user/s/skyriaco/Offshell/Syst/highmass/MC_18/200205_CutBased/MC_2018/HighMass/WplusH600/ZZ4lAnalysis.root']], 'WplusH700': [['/eos/user/s/skyriaco/Offshell/Syst/highmass/MC_18/200205_CutBased/MC_2018/HighMass/WplusH700/ZZ4lAnalysis.root']], 'WplusH750': [['/eos/user/s/skyriaco/Offshell/Syst/highmass/MC_18/200205_CutBased/MC_2018/HighMass/WplusH750/ZZ4lAnalysis.root']], 'WplusH800': [['/eos/user/s/skyriaco/Offshell/Syst/highmass/MC_18/200205_CutBased/MC_2018/HighMass/WplusH800/ZZ4lAnalysis.root']], 'WplusH900': [['/eos/user/s/skyriaco/Offshell/Syst/highmass/MC_18/200205_CutBased/MC_2018/HighMass/WplusH900/ZZ4lAnalysis.root']], 'ZH1000': [['/eos/user/s/skyriaco/Offshell/Syst/highmass/MC_18/200205_CutBased/MC_2018/HighMass/ZH1000/ZZ4lAnalysis.root']], 'ZH115': [['/eos/user/s/skyriaco/Offshell/Syst/highmass/MC_18/200205_CutBased/MC_2018/HighMass/ZH115/ZZ4lAnalysis.root']], 'ZH135': [['/eos/user/s/skyriaco/Offshell/Syst/highmass/MC_18/200205_CutBased/MC_2018/HighMass/ZH135/ZZ4lAnalysis.root']], 'ZH140': [['/eos/user/s/skyriaco/Offshell/Syst/highmass/MC_18/200205_CutBased/MC_2018/HighMass/ZH140/ZZ4lAnalysis.root']], 'ZH145': [['/eos/user/s/skyriaco/Offshell/Syst/highmass/MC_18/200205_CutBased/MC_2018/HighMass/ZH145/ZZ4lAnalysis.root']], 'ZH150': [['/eos/user/s/skyriaco/Offshell/Syst/highmass/MC_18/200205_CutBased/MC_2018/HighMass/ZH150/ZZ4lAnalysis.root']], 'ZH1500': [['/eos/user/s/skyriaco/Offshell/Syst/highmass/MC_18/200205_CutBased/MC_2018/HighMass/ZH1500/ZZ4lAnalysis.root']], 'ZH155': [['/eos/user/s/skyriaco/Offshell/Syst/highmass/MC_18/200205_CutBased/MC_2018/HighMass/ZH155/ZZ4lAnalysis.root']], 'ZH160': [['/eos/user/s/skyriaco/Offshell/Syst/highmass/MC_18/200205_CutBased/MC_2018/HighMass/ZH160/ZZ4lAnalysis.root']], 'ZH165': [['/eos/user/s/skyriaco/Offshell/Syst/highmass/MC_18/200205_CutBased/MC_2018/HighMass/ZH165/ZZ4lAnalysis.root']], 'ZH170': [['/eos/user/s/skyriaco/Offshell/Syst/highmass/MC_18/200205_CutBased/MC_2018/HighMass/ZH170/ZZ4lAnalysis.root']], 'ZH175': [['/eos/user/s/skyriaco/Offshell/Syst/highmass/MC_18/200205_CutBased/MC_2018/HighMass/ZH175/ZZ4lAnalysis.root']], 'ZH180': [['/eos/user/s/skyriaco/Offshell/Syst/highmass/MC_18/200205_CutBased/MC_2018/HighMass/ZH180/ZZ4lAnalysis.root']], 'ZH190': [['/eos/user/s/skyriaco/Offshell/Syst/highmass/MC_18/200205_CutBased/MC_2018/HighMass/ZH190/ZZ4lAnalysis.root']], 'ZH200': [['/eos/user/s/skyriaco/Offshell/Syst/highmass/MC_18/200205_CutBased/MC_2018/HighMass/ZH200/ZZ4lAnalysis.root']], 'ZH2000': [['/eos/user/s/skyriaco/Offshell/Syst/highmass/MC_18/200205_CutBased/MC_2018/HighMass/ZH2000/ZZ4lAnalysis.root']], 'ZH210': [['/eos/user/s/skyriaco/Offshell/Syst/highmass/MC_18/200205_CutBased/MC_2018/HighMass/ZH210/ZZ4lAnalysis.root']], 'ZH230': [['/eos/user/s/skyriaco/Offshell/Syst/highmass/MC_18/200205_CutBased/MC_2018/HighMass/ZH230/ZZ4lAnalysis.root']], 'ZH250': [['/eos/user/s/skyriaco/Offshell/Syst/highmass/MC_18/200205_CutBased/MC_2018/HighMass/ZH250/ZZ4lAnalysis.root']], 'ZH2500': [['/eos/user/s/skyriaco/Offshell/Syst/highmass/MC_18/200205_CutBased/MC_2018/HighMass/ZH2500/ZZ4lAnalysis.root']], 'ZH270': [['/eos/user/s/skyriaco/Offshell/Syst/highmass/MC_18/200205_CutBased/MC_2018/HighMass/ZH270/ZZ4lAnalysis.root']], 'ZH300': [['/eos/user/s/skyriaco/Offshell/Syst/highmass/MC_18/200205_CutBased/MC_2018/HighMass/ZH300/ZZ4lAnalysis.root']], 'ZH3000': [['/eos/user/s/skyriaco/Offshell/Syst/highmass/MC_18/200205_CutBased/MC_2018/HighMass/ZH3000/ZZ4lAnalysis.root']], 'ZH350': [['/eos/user/s/skyriaco/Offshell/Syst/highmass/MC_18/200205_CutBased/MC_2018/HighMass/ZH350/ZZ4lAnalysis.root']], 'ZH400': [['/eos/user/s/skyriaco/Offshell/Syst/highmass/MC_18/200205_CutBased/MC_2018/HighMass/ZH400/ZZ4lAnalysis.root']], 'ZH450': [['/eos/user/s/skyriaco/Offshell/Syst/highmass/MC_18/200205_CutBased/MC_2018/HighMass/ZH450/ZZ4lAnalysis.root']], 'ZH500': [['/eos/user/s/skyriaco/Offshell/Syst/highmass/MC_18/200205_CutBased/MC_2018/HighMass/ZH500/ZZ4lAnalysis.root']], 'ZH550': [['/eos/user/s/skyriaco/Offshell/Syst/highmass/MC_18/200205_CutBased/MC_2018/HighMass/ZH550/ZZ4lAnalysis.root']], 'ZH600': [['/eos/user/s/skyriaco/Offshell/Syst/highmass/MC_18/200205_CutBased/MC_2018/HighMass/ZH600/ZZ4lAnalysis.root']], 'ZH700': [['/eos/user/s/skyriaco/Offshell/Syst/highmass/MC_18/200205_CutBased/MC_2018/HighMass/ZH700/ZZ4lAnalysis.root']], 'ZH750': [['/eos/user/s/skyriaco/Offshell/Syst/highmass/MC_18/200205_CutBased/MC_2018/HighMass/ZH750/ZZ4lAnalysis.root']], 'ZH800': [['/eos/user/s/skyriaco/Offshell/Syst/highmass/MC_18/200205_CutBased/MC_2018/HighMass/ZH800/ZZ4lAnalysis.root']], 'ZH900': [['/eos/user/s/skyriaco/Offshell/Syst/highmass/MC_18/200205_CutBased/MC_2018/HighMass/ZH900/ZZ4lAnalysis.root']], 'ggH1000': [['/eos/user/s/skyriaco/Offshell/Syst/highmass/MC_18/200205_CutBased/MC_2018/HighMass/ggH1000/ZZ4lAnalysis.root']], 'ggH115': [['/eos/user/s/skyriaco/Offshell/Syst/highmass/MC_18/200205_CutBased/MC_2018/HighMass/ggH115/ZZ4lAnalysis.root']], 'ggH135': [['/eos/user/s/skyriaco/Offshell/Syst/highmass/MC_18/200205_CutBased/MC_2018/HighMass/ggH135/ZZ4lAnalysis.root']], 'ggH140': [['/eos/user/s/skyriaco/Offshell/Syst/highmass/MC_18/200205_CutBased/MC_2018/HighMass/ggH140/ZZ4lAnalysis.root']], 'ggH145': [['/eos/user/s/skyriaco/Offshell/Syst/highmass/MC_18/200205_CutBased/MC_2018/HighMass/ggH145/ZZ4lAnalysis.root']], 'ggH150': [['/eos/user/s/skyriaco/Offshell/Syst/highmass/MC_18/200205_CutBased/MC_2018/HighMass/ggH150/ZZ4lAnalysis.root']], 'ggH1500': [['/eos/user/s/skyriaco/Offshell/Syst/highmass/MC_18/200205_CutBased/MC_2018/HighMass/ggH1500/ZZ4lAnalysis.root']], 'ggH155': [['/eos/user/s/skyriaco/Offshell/Syst/highmass/MC_18/200205_CutBased/MC_2018/HighMass/ggH155/ZZ4lAnalysis.root']], 'ggH160': [['/eos/user/s/skyriaco/Offshell/Syst/highmass/MC_18/200205_CutBased/MC_2018/HighMass/ggH160/ZZ4lAnalysis.root']], 'ggH165': [['/eos/user/s/skyriaco/Offshell/Syst/highmass/MC_18/200205_CutBased/MC_2018/HighMass/ggH165/ZZ4lAnalysis.root']], 'ggH170': [['/eos/user/s/skyriaco/Offshell/Syst/highmass/MC_18/200205_CutBased/MC_2018/HighMass/ggH170/ZZ4lAnalysis.root']], 'ggH175': [['/eos/user/s/skyriaco/Offshell/Syst/highmass/MC_18/200205_CutBased/MC_2018/HighMass/ggH175/ZZ4lAnalysis.root']], 'ggH180': [['/eos/user/s/skyriaco/Offshell/Syst/highmass/MC_18/200205_CutBased/MC_2018/HighMass/ggH180/ZZ4lAnalysis.root']], 'ggH190': [['/eos/user/s/skyriaco/Offshell/Syst/highmass/MC_18/200205_CutBased/MC_2018/HighMass/ggH190/ZZ4lAnalysis.root']], 'ggH200': [['/eos/user/s/skyriaco/Offshell/Syst/highmass/MC_18/200205_CutBased/MC_2018/HighMass/ggH200/ZZ4lAnalysis.root']], 'ggH2000': [['/eos/user/s/skyriaco/Offshell/Syst/highmass/MC_18/200205_CutBased/MC_2018/HighMass/ggH2000/ZZ4lAnalysis.root']], 'ggH210': [['/eos/user/s/skyriaco/Offshell/Syst/highmass/MC_18/200205_CutBased/MC_2018/HighMass/ggH210/ZZ4lAnalysis.root']], 'ggH230': [['/eos/user/s/skyriaco/Offshell/Syst/highmass/MC_18/200205_CutBased/MC_2018/HighMass/ggH230/ZZ4lAnalysis.root']], 'ggH250': [['/eos/user/s/skyriaco/Offshell/Syst/highmass/MC_18/200205_CutBased/MC_2018/HighMass/ggH250/ZZ4lAnalysis.root']], 'ggH2500': [['/eos/user/s/skyriaco/Offshell/Syst/highmass/MC_18/200205_CutBased/MC_2018/HighMass/ggH2500/ZZ4lAnalysis.root']], 'ggH270': [['/eos/user/s/skyriaco/Offshell/Syst/highmass/MC_18/200205_CutBased/MC_2018/HighMass/ggH270/ZZ4lAnalysis.root']], 'ggH300': [['/eos/user/s/skyriaco/Offshell/Syst/highmass/MC_18/200205_CutBased/MC_2018/HighMass/ggH300/ZZ4lAnalysis.root']], 'ggH3000': [['/eos/user/s/skyriaco/Offshell/Syst/highmass/MC_18/200205_CutBased/MC_2018/HighMass/ggH3000/ZZ4lAnalysis.root']], 'ggH300_minloHJJ': [['/eos/user/s/skyriaco/Offshell/Syst/highmass/MC_18/200205_CutBased/MC_2018/HighMass/ggH300_minloHJJ/ZZ4lAnalysis.root']], 'ggH300_tunedown_minloHJJ': [['/eos/user/s/skyriaco/Offshell/Syst/highmass/MC_18/200205_CutBased/MC_2018/HighMass/ggH300_tunedown_minloHJJ/ZZ4lAnalysis.root']], 'ggH300_tuneup_minloHJJ': [['/eos/user/s/skyriaco/Offshell/Syst/highmass/MC_18/200205_CutBased/MC_2018/HighMass/ggH300_tuneup_minloHJJ/ZZ4lAnalysis.root']], 'ggH350': [['/eos/user/s/skyriaco/Offshell/Syst/highmass/MC_18/200205_CutBased/MC_2018/HighMass/ggH350/ZZ4lAnalysis.root']], 'ggH400': [['/eos/user/s/skyriaco/Offshell/Syst/highmass/MC_18/200205_CutBased/MC_2018/HighMass/ggH400/ZZ4lAnalysis.root']], 'ggH450': [['/eos/user/s/skyriaco/Offshell/Syst/highmass/MC_18/200205_CutBased/MC_2018/HighMass/ggH450/ZZ4lAnalysis.root']], 'ggH500': [['/eos/user/s/skyriaco/Offshell/Syst/highmass/MC_18/200205_CutBased/MC_2018/HighMass/ggH500/ZZ4lAnalysis.root']], 'ggH550': [['/eos/user/s/skyriaco/Offshell/Syst/highmass/MC_18/200205_CutBased/MC_2018/HighMass/ggH550/ZZ4lAnalysis.root']], 'ggH600': [['/eos/user/s/skyriaco/Offshell/Syst/highmass/MC_18/200205_CutBased/MC_2018/HighMass/ggH600/ZZ4lAnalysis.root']], 'ggH700': [['/eos/user/s/skyriaco/Offshell/Syst/highmass/MC_18/200205_CutBased/MC_2018/HighMass/ggH700/ZZ4lAnalysis.root']], 'ggH750': [['/eos/user/s/skyriaco/Offshell/Syst/highmass/MC_18/200205_CutBased/MC_2018/HighMass/ggH750/ZZ4lAnalysis.root']], 'ggH800': [['/eos/user/s/skyriaco/Offshell/Syst/highmass/MC_18/200205_CutBased/MC_2018/HighMass/ggH800/ZZ4lAnalysis.root']], 'ggH900': [['/eos/user/s/skyriaco/Offshell/Syst/highmass/MC_18/200205_CutBased/MC_2018/HighMass/ggH900/ZZ4lAnalysis.root']]}}\n"
     ]
    }
   ],
   "source": [
    "print (yeardict)"
   ]
  },
  {
   "cell_type": "markdown",
   "id": "f1ab6c6e",
   "metadata": {},
   "source": [
    "### Account for all bespoke EW MELA branches"
   ]
  },
  {
   "cell_type": "code",
   "execution_count": 17,
   "id": "00eb3589",
   "metadata": {},
   "outputs": [],
   "source": [
    "refsam4l = [\"VBFToContinToZZTo4l\", \"VBFToHiggs0L1ContinToZZTo4l\", \"VBFToHiggs0L1f025ph0ToZZTo4l\", \"VBFToHiggs0L1f05ph0ContinToZZTo4l\", \"VBFToHiggs0L1f05ph0ToZZTo4l\", \"VBFToHiggs0L1f075ph0ToZZTo4l\", \"VBFToHiggs0L1ToZZTo4l\", \"VBFToHiggs0MContinToZZTo4l\", \"VBFToHiggs0Mf025ph0ToZZTo4l\", \"VBFToHiggs0Mf05ph0ContinToZZTo4l\", \"VBFToHiggs0Mf05ph0ToZZTo4l\", \"VBFToHiggs0Mf075ph0ToZZTo4l\", \"VBFToHiggs0MToZZTo4l\", \"VBFToHiggs0PHContinToZZTo4l\", \"VBFToHiggs0PHf025ph0ToZZTo4l\", \"VBFToHiggs0PHf05ph0ContinToZZTo4l\", \"VBFToHiggs0PHf05ph0ToZZTo4l\", \"VBFToHiggs0PHf075ph0ToZZTo4l\", \"VBFToHiggs0PHToZZTo4l\", \"VBFToHiggs0PMContinToZZTo4l\", \"VBFToHiggs0PMToZZTo4l\"]"
   ]
  },
  {
   "cell_type": "code",
   "execution_count": 18,
   "id": "c98344f7",
   "metadata": {},
   "outputs": [],
   "source": [
    "refmel = [\"p_Gen_JJEW_BKG_MCFM\", \"p_Gen_JJEW_BSI_ghv1_0_ghv1prime2_m1549p165_MCFM\", \"p_Gen_JJEW_SIG_ghv1_1_ghv1prime2_m1177p11_MCFM\", \"p_Gen_JJEW_BSI_ghv1_1_ghv1prime2_m1549p165_MCFM\", \"p_Gen_JJEW_SIG_ghv1_1_ghv1prime2_m1549p165_MCFM\", \"p_Gen_JJEW_SIG_ghv1_1_ghv1prime2_m2038p82_MCFM\", \"p_Gen_JJEW_SIG_ghv1_0_ghv1prime2_m1549p165_MCFM\", \"p_Gen_JJEW_BSI_ghv1_0_ghv4_0p216499_MCFM\", \"p_Gen_JJEW_SIG_ghv1_1_ghv4_0p164504_MCFM\", \"p_Gen_JJEW_BSI_ghv1_1_ghv4_0p216499_MCFM\", \"p_Gen_JJEW_SIG_ghv1_1_ghv4_0p216499_MCFM\", \"p_Gen_JJEW_SIG_ghv1_1_ghv4_0p284929_MCFM\", \"p_Gen_JJEW_SIG_ghv1_0_ghv4_0p216499_MCFM\", \"p_Gen_JJEW_BSI_ghv1_0_ghv2_0p207049_MCFM\", \"p_Gen_JJEW_SIG_ghv1_1_ghv2_0p157323_MCFM\", \"p_Gen_JJEW_BSI_ghv1_1_ghv2_0p207049_MCFM\", \"p_Gen_JJEW_SIG_ghv1_1_ghv2_0p207049_MCFM\", \"p_Gen_JJEW_SIG_ghv1_1_ghv2_0p272492_MCFM\", \"p_Gen_JJEW_SIG_ghv1_0_ghv2_0p207049_MCFM\", \"p_Gen_JJEW_BSI_ghv1_1_MCFM\", \"p_Gen_JJEW_SIG_ghv1_1_MCFM\"]"
   ]
  },
  {
   "cell_type": "code",
   "execution_count": 19,
   "id": "675df0af",
   "metadata": {},
   "outputs": [],
   "source": [
    "refden = dict(zip(refsam4l, refmel))"
   ]
  },
  {
   "cell_type": "code",
   "execution_count": 20,
   "id": "83f5fd80",
   "metadata": {},
   "outputs": [
    {
     "data": {
      "text/plain": [
       "{'VBFToContinToZZTo4l': 'p_Gen_JJEW_BKG_MCFM',\n",
       " 'VBFToHiggs0L1ContinToZZTo4l': 'p_Gen_JJEW_BSI_ghv1_0_ghv1prime2_m1549p165_MCFM',\n",
       " 'VBFToHiggs0L1f025ph0ToZZTo4l': 'p_Gen_JJEW_SIG_ghv1_1_ghv1prime2_m1177p11_MCFM',\n",
       " 'VBFToHiggs0L1f05ph0ContinToZZTo4l': 'p_Gen_JJEW_BSI_ghv1_1_ghv1prime2_m1549p165_MCFM',\n",
       " 'VBFToHiggs0L1f05ph0ToZZTo4l': 'p_Gen_JJEW_SIG_ghv1_1_ghv1prime2_m1549p165_MCFM',\n",
       " 'VBFToHiggs0L1f075ph0ToZZTo4l': 'p_Gen_JJEW_SIG_ghv1_1_ghv1prime2_m2038p82_MCFM',\n",
       " 'VBFToHiggs0L1ToZZTo4l': 'p_Gen_JJEW_SIG_ghv1_0_ghv1prime2_m1549p165_MCFM',\n",
       " 'VBFToHiggs0MContinToZZTo4l': 'p_Gen_JJEW_BSI_ghv1_0_ghv4_0p216499_MCFM',\n",
       " 'VBFToHiggs0Mf025ph0ToZZTo4l': 'p_Gen_JJEW_SIG_ghv1_1_ghv4_0p164504_MCFM',\n",
       " 'VBFToHiggs0Mf05ph0ContinToZZTo4l': 'p_Gen_JJEW_BSI_ghv1_1_ghv4_0p216499_MCFM',\n",
       " 'VBFToHiggs0Mf05ph0ToZZTo4l': 'p_Gen_JJEW_SIG_ghv1_1_ghv4_0p216499_MCFM',\n",
       " 'VBFToHiggs0Mf075ph0ToZZTo4l': 'p_Gen_JJEW_SIG_ghv1_1_ghv4_0p284929_MCFM',\n",
       " 'VBFToHiggs0MToZZTo4l': 'p_Gen_JJEW_SIG_ghv1_0_ghv4_0p216499_MCFM',\n",
       " 'VBFToHiggs0PHContinToZZTo4l': 'p_Gen_JJEW_BSI_ghv1_0_ghv2_0p207049_MCFM',\n",
       " 'VBFToHiggs0PHf025ph0ToZZTo4l': 'p_Gen_JJEW_SIG_ghv1_1_ghv2_0p157323_MCFM',\n",
       " 'VBFToHiggs0PHf05ph0ContinToZZTo4l': 'p_Gen_JJEW_BSI_ghv1_1_ghv2_0p207049_MCFM',\n",
       " 'VBFToHiggs0PHf05ph0ToZZTo4l': 'p_Gen_JJEW_SIG_ghv1_1_ghv2_0p207049_MCFM',\n",
       " 'VBFToHiggs0PHf075ph0ToZZTo4l': 'p_Gen_JJEW_SIG_ghv1_1_ghv2_0p272492_MCFM',\n",
       " 'VBFToHiggs0PHToZZTo4l': 'p_Gen_JJEW_SIG_ghv1_0_ghv2_0p207049_MCFM',\n",
       " 'VBFToHiggs0PMContinToZZTo4l': 'p_Gen_JJEW_BSI_ghv1_1_MCFM',\n",
       " 'VBFToHiggs0PMToZZTo4l': 'p_Gen_JJEW_SIG_ghv1_1_MCFM'}"
      ]
     },
     "execution_count": 20,
     "metadata": {},
     "output_type": "execute_result"
    }
   ],
   "source": [
    "refden"
   ]
  },
  {
   "cell_type": "markdown",
   "id": "915a8a77",
   "metadata": {},
   "source": [
    "# REPEAT THIS SECTION AS NEEDED TO CREATE TEMPLATES AND FILL 'hlist'"
   ]
  },
  {
   "cell_type": "markdown",
   "id": "cd1eba08",
   "metadata": {},
   "source": [
    "##### Note that 'hlist' is expected to look like ['ggH SIG', 'ggH BSI', 'ggH BKG', 'EW SIG', 'EW BSI', 'EW BKG', 'qqbar BKG'] so make the appropriate histograms then append to 'hlist'\n",
    "##### As you change the year, production mode, final state, SIG/BKG/INT mix, and category, you should re-run the 'Fill histogram' cell and check the output before adding the next template to our 'hlist'"
   ]
  },
  {
   "cell_type": "markdown",
   "id": "4616deda",
   "metadata": {},
   "source": [
    "### Set up basic information. Make list to store histograms---do not evaluate this cell unless you want an empty instance of hlist!"
   ]
  },
  {
   "cell_type": "code",
   "execution_count": 38,
   "id": "7345c80b",
   "metadata": {},
   "outputs": [],
   "source": [
    "hlist = ['ggH SIG', 'ggH BSI', 'ggH BKG', 'qqbar BKG']"
   ]
  },
  {
   "cell_type": "code",
   "execution_count": 6,
   "id": "9e60cf56",
   "metadata": {},
   "outputs": [],
   "source": [
    "targetreweight = {\"gg\": [\"p_Gen_GG_SIG_kappaTopBot_1_ghz1_1_MCFM*KFactor_QCD_ggZZ_Nominal\", \"p_Gen_GG_BSI_kappaTopBot_1_ghz1_1_MCFM*KFactor_QCD_ggZZ_Nominal\", \"p_Gen_GG_BKG_MCFM*KFactor_QCD_ggZZ_Nominal\"],\n",
    "                 \"VBF\": [\"p_Gen_JJEW_SIG_ghv1_1_MCFM*0.5\", \"p_Gen_JJEW_BSI_ghv1_1_MCFM*0.5\", \"p_Gen_JJEW_BKG_MCFM*0.5\"],\n",
    "                 \"ZZTo4l\": [\"1\"]}\n",
    "\n",
    "finalstate = {\"4e\": \"121*121\", \"4mu\": \"169*169\", \"2e2mu\": \"121*169\"}"
   ]
  },
  {
   "cell_type": "code",
   "execution_count": 26,
   "id": "f6ea8efc",
   "metadata": {},
   "outputs": [],
   "source": [
    "proc = [\"ggH_0PM\", \"ggH_g11g21_negative\", \"ggH_g11g21_positive\", \"back_ggZZ\", \"back_qqZZ\", \"data_obs\"]"
   ]
  },
  {
   "cell_type": "code",
   "execution_count": null,
   "id": "63542270",
   "metadata": {},
   "outputs": [],
   "source": [
    "#\"qqH_0PM\", \"qqH_g12g22_negative\", \"qqH_g12g22_positive\", \"back_VVZZ\""
   ]
  },
  {
   "cell_type": "code",
   "execution_count": null,
   "id": "cc0ed736",
   "metadata": {},
   "outputs": [],
   "source": [
    "print year"
   ]
  },
  {
   "cell_type": "markdown",
   "id": "cabc97ea",
   "metadata": {},
   "source": [
    "### Choose year, production mode, final state, SIG/BKG/INT mix, and category"
   ]
  },
  {
   "cell_type": "code",
   "execution_count": 21,
   "id": "da52dbc5",
   "metadata": {},
   "outputs": [],
   "source": [
    "#configure what you would like to run\n",
    "\n",
    "ltargetyear = [\"MC_2018\"] #,\"MC_2016_CorrectBTag\",\"MC_2018\"]\n",
    "ltargetprod = [\"gg\"] #,\"VBF\",\"ZZTo4l\"]\n",
    "ltargetstate = [\"4l\"] #\"4mu\",\"4e\",\"2e2mu\"]\n",
    "ltargetcomp = [0,1,2]    # SIG=0 BSI=1 BKG=2    (for the qqbar bkg events in 'ZZTo4l' this choice does not matter as you can see above)\n",
    "ltargetcateg = [0,1,2]  # Untag=0 VBF=1 VH=2"
   ]
  },
  {
   "cell_type": "markdown",
   "id": "7f30e643",
   "metadata": {},
   "source": [
    "### Fill histogram"
   ]
  },
  {
   "cell_type": "code",
   "execution_count": 116,
   "id": "d2b4ba86",
   "metadata": {
    "scrolled": true
   },
   "outputs": [],
   "source": [
    "#syst_weights = []\n",
    "\n",
    "\n",
    "\n",
    "def FillHist(targetprod,targetcomp,targetcateg,h_list) :\n",
    "\n",
    "    print (targetreweight[targetprod][targetcomp])\n",
    "    print (targetprod,targetcomp,targetcateg)\n",
    "    weight = \"{}*((Z1Flav*Z2Flav)==(121*121) ||(Z1Flav*Z2Flav)==(169*169) ||(Z1Flav*Z2Flav)==(121*169)  )*137.1*(ZZMass>=220)*(EventTag=={})*1000*xsec*overallEventWeight*L1prefiringWeight/Bin40\".format(targetreweight[targetprod][targetcomp], targetcateg)\n",
    "    weightewzzup = \"{}*(1.0 + KFactor_EW_qqZZ_unc)*((Z1Flav*Z2Flav)==(121*121) ||(Z1Flav*Z2Flav)==(169*169) ||(Z1Flav*Z2Flav)==(121*169)  )*137.1*(ZZMass>=220)*(EventTag=={})*1000*xsec*overallEventWeight*L1prefiringWeight/Bin40\".format(targetreweight[targetprod][targetcomp], targetcateg)\n",
    "    weightewzzdn = \"{}*(1.0 - KFactor_EW_qqZZ_unc)*((Z1Flav*Z2Flav)==(121*121) ||(Z1Flav*Z2Flav)==(169*169) ||(Z1Flav*Z2Flav)==(121*169)  )*137.1*(ZZMass>=220)*(EventTag=={})*1000*xsec*overallEventWeight*L1prefiringWeight/Bin40\".format(targetreweight[targetprod][targetcomp], targetcateg)\n",
    "    \n",
    "    weightqrup = \"{}*((Z1Flav*Z2Flav)==(121*121) ||(Z1Flav*Z2Flav)==(169*169) ||(Z1Flav*Z2Flav)==(121*169)  )*137.1*(ZZMass>=220)*(EventTag=={})*1000*xsec*overallEventWeight*L1prefiringWeight/Bin40\".format(targetreweight[targetprod][targetcomp], targetcateg)\n",
    "    weightqrdn = \"{}*((Z1Flav*Z2Flav)==(121*121) ||(Z1Flav*Z2Flav)==(169*169) ||(Z1Flav*Z2Flav)==(121*169)  )*137.1*(ZZMass>=220)*(EventTag=={})*1000*xsec*overallEventWeight*L1prefiringWeight/Bin40\".format(targetreweight[targetprod][targetcomp], targetcateg)\n",
    "\n",
    "    \n",
    "    LHEweightsUp = [\"LHEweight_QCDscale_muR2_muF1\",\"LHEweight_QCDscale_muR1_muF2\",\"LHEweight_PDFVariation_Up\",\"LHEweight_AsMZ_Up\",\"PythiaWeight_isr_muR4 * PythiaWeight_fsr_muR4\"]\n",
    "    LHEweightsDn = [\"LHEweight_QCDscale_muR0p5_muF1\",\"LHEweight_QCDscale_muR1_muF0p5\",\"LHEweight_PDFVariation_Dn\",\"LHEweight_AsMZ_Dn\",\"PythiaWeight_isr_muR0p25 * PythiaWeight_fsr_muR0p25\"]\n",
    "    \n",
    "    \n",
    "    hf_LHEup = []\n",
    "    hf_LHEdn = []\n",
    "    \n",
    "    for i,w_ght in enumerate(LHEweightsUp) : \n",
    "          LHEweightsUp[i] = w_ght+\"*\"+weight\n",
    "          print (LHEweightsUp[i])  \n",
    "          LHEweightsDn[i] = LHEweightsDn[i]+\"*\"+weight\n",
    "          h_temp = ROOT.TH1F(\"hf_temp\",\"\",len(medges)-1, medges)\n",
    "          h_tempp = copy.deepcopy(h_temp)  \n",
    "          hf_LHEup.append(h_tempp)\n",
    "          hf_LHEdn.append(h_tempp)\n",
    " \n",
    "   \n",
    "    hf = ROOT.TH3F(\"hf\",\"\", len(medges)-1, medges, len(d1edges)-1, d1edges, len(d2edges)-1, d2edges)\n",
    "    hf_systdn = ROOT.TH1F(\"hf_kew_systdn\",\"\",100,0,2000)\n",
    "    hf_systup = ROOT.TH1F(\"hf_kew_systup\",\"\",100,0,2000)\n",
    "    hf_nom    = ROOT.TH1F(\"hf_nom\",\"\",100,0,2000)\n",
    "    hf_nomlhe = ROOT.TH1F(\"hf_nomlhe\",\"\",len(medges)-1, medges)    \n",
    "    hf_qr_up  = ROOT.TH1F(\"hf_qr_up\",\"\",100,0,2000)\n",
    "    hf_qr_dn  = ROOT.TH1F(\"hf_qr_dn\",\"\",100,0,2000)    \n",
    "    \n",
    "    \n",
    "    hf.SetDirectory(0)\n",
    "    hf_systdn.SetDirectory(0)\n",
    "    hf_systup.SetDirectory(0)\n",
    "    hf_nom.SetDirectory(0)\n",
    "    hf_nomlhe.SetDirectory(0)\n",
    "    for i,ht in enumerate(LHEweightsUp) :              \n",
    "            hf_LHEup[i].SetDirectory(0)\n",
    "            hf_LHEdn[i].SetDirectory(0)\n",
    "\n",
    "    for keynum in trange(len(yeardict.keys())):\n",
    "        year = list(yeardict.keys())[keynum]\n",
    "        #if year != targetyear: continue\n",
    "        #print(\"\\n\", year, lumi[year])\n",
    "\n",
    "        hs = ROOT.TH3F(\"hs\",\"\", len(medges)-1, medges, len(d1edges)-1, d1edges, len(d2edges)-1, d2edges)\n",
    "        hs_systdn = ROOT.TH1F(\"hs_kew_systdn\",\"\",100,0,2000)\n",
    "        hs_systup = ROOT.TH1F(\"hs_kew_systup\",\"\",100,0,2000)\n",
    "        hs_nom    = ROOT.TH1F(\"hs_nom\",\"\",100,0,2000)\n",
    "        hs_nomlhe = ROOT.TH1F(\"hs_nomlhe\",\"\",len(medges)-1, medges)\n",
    "\n",
    "        hs_LHEup = []\n",
    "        hs_LHEdn = []        \n",
    "        for i,ht in enumerate(hf_LHEup) :   \n",
    "            hs_temp = ROOT.TH1F(\"hs_temp\",\"\",len(medges)-1, medges)\n",
    "            hs_temp.SetDirectory(0)\n",
    "            hs_tempp = copy.deepcopy(hs_temp) \n",
    "            hs_LHEup.append(hs_tempp)\n",
    "            hs_LHEdn.append(hs_tempp)\n",
    "        \n",
    "        \n",
    "        hs_qr_up  = ROOT.TH1F(\"hs_qr_up\",\"\",100,0,2000)\n",
    "        hs_qr_dn  = ROOT.TH1F(\"hs_qr_dn\",\"\",100,0,2000)\n",
    "        \n",
    "        hs.SetDirectory(0)\n",
    "        hs_systdn.SetDirectory(0)\n",
    "        hs_systup.SetDirectory(0)\n",
    "        hs_nom.SetDirectory(0)\n",
    "        hs_nomlhe.SetDirectory(0)\n",
    "        for i,ht in enumerate(hf_LHEup) :              \n",
    "            hs_LHEup[i].SetDirectory(0)\n",
    "            hs_LHEdn[i].SetDirectory(0)\n",
    "            \n",
    "        for prodd in yeardict[year]: \n",
    "          if targetprod in prodd :   \n",
    "           for decay in yeardict[year][prodd]:\n",
    "            #         if \"2e2mu\" not in decay[0]: continue\n",
    "            #print(\"\\n\", decay)\n",
    "            ht = ROOT.TH3F(\"ht\",\"\", len(medges)-1, medges, len(d1edges)-1, d1edges, len(d2edges)-1, d2edges)\n",
    "            ht_systdn = ROOT.TH1F(\"ht_kew_systdn\",\"\",100,0,2000)\n",
    "            ht_systup = ROOT.TH1F(\"ht_kew_systup\",\"\",100,0,2000)\n",
    "            ht_nom    = ROOT.TH1F(\"ht_nom\",\"\",100,0,2000)\n",
    "            ht_nomlhe = ROOT.TH1F(\"ht_nomlhe\",\"\",len(medges)-1, medges)\n",
    "            \n",
    "        \n",
    "            ht_qr_up  = ROOT.TH1F(\"hs_qr_up\",\"\",100,0,2000)\n",
    "            ht_qr_dn  = ROOT.TH1F(\"hs_qr_dn\",\"\",100,0,2000)\n",
    "            \n",
    "            ht_LHEup = []\n",
    "            ht_LHEdn = []        \n",
    "            for i,htf in enumerate(hf_LHEup) :   \n",
    "                ht_temp = ROOT.TH1F(\"ht_temp\",\"\",len(medges)-1, medges)\n",
    "                ht_temp.SetDirectory(0)\n",
    "                ht_tempp = copy.deepcopy(ht_temp) \n",
    "                ht_LHEup.append(ht_tempp)\n",
    "                ht_LHEdn.append(ht_tempp)\n",
    "                \n",
    "                \n",
    "            ht.SetDirectory(0)\n",
    "            ht_systdn.SetDirectory(0)\n",
    "            ht_systup.SetDirectory(0)\n",
    "            ht_nom.SetDirectory(0)\n",
    "            ht_nomlhe.SetDirectory(0)\n",
    "            ht_qr_up.SetDirectory(0)  \n",
    "            ht_qr_dn.SetDirectory(0)  \n",
    "            for i,htff in enumerate(ht_LHEup) :   \n",
    "            \n",
    "                ht_LHEup[i].SetDirectory(0)\n",
    "                ht_LHEdn[i].SetDirectory(0)\n",
    "            count = 0\n",
    "            \n",
    "            \n",
    "            for tfile in trange(len(decay)):\n",
    "\n",
    "                print(decay[tfile])\n",
    "                if \"VBF\" in decay[tfile]:\n",
    "\n",
    "                    #if \"0L1\" in decay[tfile]: continue\n",
    "                    skey = decay[tfile].split(\"/\")[-2].replace('_M125_GaSM', '')\n",
    "                    sampleweight = refden[skey]\n",
    "    #                 print(sampleweight)\n",
    "                if ( os.stat(decay[tfile]).st_size > 100 ):  \n",
    "                        f = ROOT.TFile(decay[tfile])\n",
    "                        t = f.Get(\"eventTree\")\n",
    "                        htt = ROOT.TH3F(\"htt\",\"\", len(medges)-1, medges, len(d1edges)-1, d1edges, len(d2edges)-1, d2edges)\n",
    "                        htt_ew_systdn = ROOT.TH1F(\"htt_ew_systdn\",\"\",100,0,2000)\n",
    "                        htt_ew_systup = ROOT.TH1F(\"htt_ew_systup\",\"\",100,0,2000)\n",
    "                        htt_nom    = ROOT.TH1F(\"htt_nom\",\"\",100,0,2000)\n",
    "                        htt_nomlhe = ROOT.TH1F(\"htt_nomlhe\",\"\",len(medges)-1, medges)\n",
    "\n",
    "                        htt_LHEup = []\n",
    "                        htt_LHEdn = []        \n",
    "                \n",
    "                        for i,htff in enumerate(ht_LHEup) :\n",
    "                            print (LHEweightsUp[i])\n",
    "                            htt_tempu = ROOT.TH1F(\"htt_tempu\",\"\",len(medges)-1, medges)\n",
    "                            t.Draw(\"ZZMass>>htt_tempu\",LHEweightsUp[i],\"\")                                \n",
    "                            htt_LHEup.append(htt_tempu)\n",
    "                            print (LHEweightsDn[i])\n",
    "                            print (\"----------------------\")\n",
    "                            htt_tempd = ROOT.TH1F(\"htt_tempd\",\"\",len(medges)-1, medges)\n",
    "                            t.Draw(\"ZZMass>>htt_tempd\",LHEweightsDn[i],\"\")\n",
    "                            htt_LHEdn.append(htt_tempd)\n",
    "                            print (\"up:\",htt_tempu.Integral())\n",
    "                            print (\"dn:\",htt_tempd.Integral())\n",
    "                            htt_LHEup[i].SetDirectory(0)\n",
    "                            htt_LHEdn[i].SetDirectory(0)\n",
    "\n",
    "                        htt_qr_up  = ROOT.TH1F(\"hs_qr_up\",\"\",100,0,2000)\n",
    "                        htt_qr_dn  = ROOT.TH1F(\"hs_qr_dn\",\"\",100,0,2000)\n",
    "                        #print (weight_ewzz_up)\n",
    "                        #print (weight_ewzz_dn)\n",
    "                        #print (weight)\n",
    "\n",
    "                        t.Draw(\"Dbsi:Dbkg:ZZMass>>htt\",weight,\"\")                        \n",
    "                        t.Draw(\"ZZMass>>htt_nom\",weight,\"\")\n",
    "                        t.Draw(\"ZZMass>>htt_nomlhe\",weight,\"\")\n",
    "                        print (\"om nomnomm:\",htt_nomlhe.Integral())\n",
    "                        t.Draw(\"ZZMass>>htt_ew_systup\",weightewzzup,\"\")\n",
    "                        t.Draw(\"ZZMass>>htt_ew_systdn\",weightewzzdn,\"\")\n",
    "\n",
    "                        \n",
    "                        t.Draw(\"ZZMass>>htt_qr_up\",weightqrup,\"\")    \n",
    "                        t.Draw(\"ZZMass>>htt_qr_dn\",weightqrdn,\"\")    \n",
    "\n",
    "\n",
    "                        #print (\"htt_up:\", htt_ew_systup.Integral())\n",
    "                        #print (\"htt_dn:\", htt_ew_systdn.Integral())\n",
    "                        \n",
    "                        if count == 0:\n",
    "                            #print(\"ADDED --- htt = \", htt.Integral())\n",
    "                            ht.Add(htt)\n",
    "                            ht_nom.Add(htt_nom)\n",
    "                            \n",
    "                            #print (htt_nomlhe)\n",
    "                            #print (ht_nomlhe)\n",
    "                            ht_nomlhe.Add(htt_nomlhe)\n",
    "\n",
    "                            ht_systdn.Add(htt_ew_systdn)\n",
    "                            ht_systup.Add(htt_ew_systup)\n",
    "                            \n",
    "                            ht_qr_up.Add(htt_qr_up)\n",
    "                            ht_qr_dn.Add(htt_qr_dn)\n",
    "                            \n",
    "                            for i,htff in enumerate(ht_LHEup) :   \n",
    "            \n",
    "                                ht_LHEup[i].Add(htt_LHEup[i])\n",
    "                                ht_LHEdn[i].Add(htt_LHEdn[i])\n",
    "                                print (\"here\",ht_LHEup[i].Integral())\n",
    "                                print (\"here\",ht_LHEdn[i].Integral())\n",
    "\n",
    "                            \n",
    "                            count+=1\n",
    "                        elif htt.Integral() > ((ht.Integral()/count) + 2*sqrt((ht.Integral()/count))): \n",
    "                            print(\"SKIPPED --- htt = \", htt.Integral())\n",
    "                        elif htt.Integral() < ((ht.Integral()/count) - 2*sqrt((ht.Integral()/count))): \n",
    "                            print(\"SKIPPED --- htt = \", htt.Integral())\n",
    "                        else:\n",
    "                            print(\"ADDED --- htt = \", htt.Integral())\n",
    "                            ht.Add(htt)\n",
    "                            ht_nom.Add(htt_nom)\n",
    "                            ht_nomlhe.Add(htt_nomlhe)\n",
    "\n",
    "                            ht_systdn.Add(htt_ew_systdn)\n",
    "                            ht_systup.Add(htt_ew_systup)\n",
    "                            for i,htff in enumerate(ht_LHEup) : \n",
    "                                ht_LHEup[i].SetDirectory(0)\n",
    "                                ht_LHEdn[i].SetDirectory(0)\n",
    "                                print (\"sfin:\",ht_LHEup[i].Integral())\n",
    "                                print (\"sfindn:\",ht_LHEdn[i].Integral())\n",
    "                                ht_LHEup[i].Add(htt_LHEup[i])\n",
    "                                ht_LHEdn[i].Add(htt_LHEdn[i])\n",
    "                                            \n",
    "                            ht_qr_up.Add(htt_qr_up)\n",
    "                            ht_qr_dn.Add(htt_qr_dn)    \n",
    "                            \n",
    "                            count+=1\n",
    "            #print(\"ht = \", ht.Integral())\n",
    "            ht.Scale(1./count)\n",
    "            ht_nom.Scale(1./count)\n",
    "            ht_systdn.Scale(1./count)\n",
    "            ht_systup.Scale(1./count)\n",
    "            \n",
    "            for i,htff in enumerate(ht_LHEup) :            \n",
    "                ht_LHEup[i].Scale(1./count)\n",
    "                ht_LHEdn[i].Scale(1./count)        \n",
    "            #print(\"ht = \", ht.Integral())\n",
    "            hs.Add(ht)\n",
    "            hs_systdn.Add(ht_systdn)\n",
    "            hs_systup.Add(ht_systup)\n",
    "            hs_nom.Add(ht_nom)\n",
    "            hs_nomlhe.Add(ht_nomlhe)\n",
    "\n",
    "            hs_qr_up.Add(ht_qr_up)\n",
    "            hs_qr_dn.Add(ht_qr_dn) \n",
    "            for i,htff in enumerate(ht_LHEup) :            \n",
    "                hs_LHEup[i].Add(ht_LHEup[i])\n",
    "                hs_LHEdn[i].Add(ht_LHEdn[i])\n",
    "            #print(\"hs = \", hs.Integral())\n",
    "\n",
    "        hf.Add(hs)\n",
    "        hf_systdn.Add(hs_systdn)\n",
    "        hf_systup.Add(hs_systup)\n",
    "        hf_nom.Add(hs_nom)\n",
    "        hf_nomlhe.Add(hs_nomlhe)\n",
    "        for i,htff in enumerate(hf_LHEup) : \n",
    "\n",
    "                hf_LHEup[i].Add(hs_LHEup[i])\n",
    "                hf_LHEdn[i].Add(hs_LHEdn[i])\n",
    "                \n",
    "        hf_qr_up.Add(hs_qr_up)\n",
    "        hf_qr_dn.Add(hs_qr_dn) \n",
    "        print(\"hf = \", hf_nom.Integral())\n",
    "\n",
    "        hf.Scale(1/len(yeardict.keys()))\n",
    "        hf_systdn.Scale(1/len(yeardict.keys()))\n",
    "        hf_systup.Scale(1/len(yeardict.keys()))\n",
    "        hf_nom.Scale(1/len(yeardict.keys()))\n",
    "        \n",
    "        for i,htff in enumerate(hf_LHEup) :            \n",
    "                hf_LHEup[i].Scale(1/len(yeardict.keys()))\n",
    "                hf_LHEdn[i].Scale(1/len(yeardict.keys()))\n",
    "                h_list.append(hf_LHEup[i])\n",
    "                h_list.append(hf_LHEdn[i])\n",
    "\n",
    "\n",
    "        #h_list.append(hf)\n",
    "        #h_list.append(hf_systdn)\n",
    "        #h_list.append(hf_systup)\n",
    "        h_list.append(hf_nomlhe)\n",
    "        "
   ]
  },
  {
   "cell_type": "code",
   "execution_count": 117,
   "id": "8556020c",
   "metadata": {
    "scrolled": true
   },
   "outputs": [
    {
     "name": "stdout",
     "output_type": "stream",
     "text": [
      "[]\n",
      "p_Gen_GG_SIG_kappaTopBot_1_ghz1_1_MCFM*KFactor_QCD_ggZZ_Nominal\n",
      "gg 0 0\n",
      "LHEweight_QCDscale_muR2_muF1*p_Gen_GG_SIG_kappaTopBot_1_ghz1_1_MCFM*KFactor_QCD_ggZZ_Nominal*((Z1Flav*Z2Flav)==(121*121) ||(Z1Flav*Z2Flav)==(169*169) ||(Z1Flav*Z2Flav)==(121*169)  )*137.1*(ZZMass>=220)*(EventTag==0)*1000*xsec*overallEventWeight*L1prefiringWeight/Bin40\n",
      "LHEweight_QCDscale_muR1_muF2*p_Gen_GG_SIG_kappaTopBot_1_ghz1_1_MCFM*KFactor_QCD_ggZZ_Nominal*((Z1Flav*Z2Flav)==(121*121) ||(Z1Flav*Z2Flav)==(169*169) ||(Z1Flav*Z2Flav)==(121*169)  )*137.1*(ZZMass>=220)*(EventTag==0)*1000*xsec*overallEventWeight*L1prefiringWeight/Bin40\n",
      "LHEweight_PDFVariation_Up*p_Gen_GG_SIG_kappaTopBot_1_ghz1_1_MCFM*KFactor_QCD_ggZZ_Nominal*((Z1Flav*Z2Flav)==(121*121) ||(Z1Flav*Z2Flav)==(169*169) ||(Z1Flav*Z2Flav)==(121*169)  )*137.1*(ZZMass>=220)*(EventTag==0)*1000*xsec*overallEventWeight*L1prefiringWeight/Bin40\n",
      "LHEweight_AsMZ_Up*p_Gen_GG_SIG_kappaTopBot_1_ghz1_1_MCFM*KFactor_QCD_ggZZ_Nominal*((Z1Flav*Z2Flav)==(121*121) ||(Z1Flav*Z2Flav)==(169*169) ||(Z1Flav*Z2Flav)==(121*169)  )*137.1*(ZZMass>=220)*(EventTag==0)*1000*xsec*overallEventWeight*L1prefiringWeight/Bin40\n",
      "PythiaWeight_isr_muR4 * PythiaWeight_fsr_muR4*p_Gen_GG_SIG_kappaTopBot_1_ghz1_1_MCFM*KFactor_QCD_ggZZ_Nominal*((Z1Flav*Z2Flav)==(121*121) ||(Z1Flav*Z2Flav)==(169*169) ||(Z1Flav*Z2Flav)==(121*169)  )*137.1*(ZZMass>=220)*(EventTag==0)*1000*xsec*overallEventWeight*L1prefiringWeight/Bin40\n"
     ]
    },
    {
     "data": {
      "application/vnd.jupyter.widget-view+json": {
       "model_id": "bb4e1ff35e3143ea93bbe9e1b548afad",
       "version_major": 2,
       "version_minor": 0
      },
      "text/plain": [
       "  0%|          | 0/1 [00:00<?, ?it/s]"
      ]
     },
     "metadata": {},
     "output_type": "display_data"
    },
    {
     "data": {
      "application/vnd.jupyter.widget-view+json": {
       "model_id": "27e4ab22bba14477bad621f95d8c8507",
       "version_major": 2,
       "version_minor": 0
      },
      "text/plain": [
       "  0%|          | 0/1 [00:00<?, ?it/s]"
      ]
     },
     "metadata": {},
     "output_type": "display_data"
    },
    {
     "name": "stdout",
     "output_type": "stream",
     "text": [
      "/eos/user/s/skyriaco/Offshell/Syst/highmass/MC_18/200205_CutBased/MC_2018/HighMass/ggH1000/ZZ4lAnalysis.root\n",
      "LHEweight_QCDscale_muR2_muF1*p_Gen_GG_SIG_kappaTopBot_1_ghz1_1_MCFM*KFactor_QCD_ggZZ_Nominal*((Z1Flav*Z2Flav)==(121*121) ||(Z1Flav*Z2Flav)==(169*169) ||(Z1Flav*Z2Flav)==(121*169)  )*137.1*(ZZMass>=220)*(EventTag==0)*1000*xsec*overallEventWeight*L1prefiringWeight/Bin40\n",
      "LHEweight_QCDscale_muR0p5_muF1*p_Gen_GG_SIG_kappaTopBot_1_ghz1_1_MCFM*KFactor_QCD_ggZZ_Nominal*((Z1Flav*Z2Flav)==(121*121) ||(Z1Flav*Z2Flav)==(169*169) ||(Z1Flav*Z2Flav)==(121*169)  )*137.1*(ZZMass>=220)*(EventTag==0)*1000*xsec*overallEventWeight*L1prefiringWeight/Bin40\n",
      "----------------------\n",
      "up: 107.90133531740867\n",
      "dn: 139.28114393958822\n",
      "LHEweight_QCDscale_muR1_muF2*p_Gen_GG_SIG_kappaTopBot_1_ghz1_1_MCFM*KFactor_QCD_ggZZ_Nominal*((Z1Flav*Z2Flav)==(121*121) ||(Z1Flav*Z2Flav)==(169*169) ||(Z1Flav*Z2Flav)==(121*169)  )*137.1*(ZZMass>=220)*(EventTag==0)*1000*xsec*overallEventWeight*L1prefiringWeight/Bin40\n",
      "LHEweight_QCDscale_muR1_muF0p5*p_Gen_GG_SIG_kappaTopBot_1_ghz1_1_MCFM*KFactor_QCD_ggZZ_Nominal*((Z1Flav*Z2Flav)==(121*121) ||(Z1Flav*Z2Flav)==(169*169) ||(Z1Flav*Z2Flav)==(121*169)  )*137.1*(ZZMass>=220)*(EventTag==0)*1000*xsec*overallEventWeight*L1prefiringWeight/Bin40\n",
      "----------------------\n",
      "up: 119.50667933095247\n",
      "dn: 125.23915756691713\n",
      "LHEweight_PDFVariation_Up*p_Gen_GG_SIG_kappaTopBot_1_ghz1_1_MCFM*KFactor_QCD_ggZZ_Nominal*((Z1Flav*Z2Flav)==(121*121) ||(Z1Flav*Z2Flav)==(169*169) ||(Z1Flav*Z2Flav)==(121*169)  )*137.1*(ZZMass>=220)*(EventTag==0)*1000*xsec*overallEventWeight*L1prefiringWeight/Bin40\n",
      "LHEweight_PDFVariation_Dn*p_Gen_GG_SIG_kappaTopBot_1_ghz1_1_MCFM*KFactor_QCD_ggZZ_Nominal*((Z1Flav*Z2Flav)==(121*121) ||(Z1Flav*Z2Flav)==(169*169) ||(Z1Flav*Z2Flav)==(121*169)  )*137.1*(ZZMass>=220)*(EventTag==0)*1000*xsec*overallEventWeight*L1prefiringWeight/Bin40\n",
      "----------------------\n",
      "up: 124.64542564330623\n",
      "dn: 119.94577104912605\n",
      "LHEweight_AsMZ_Up*p_Gen_GG_SIG_kappaTopBot_1_ghz1_1_MCFM*KFactor_QCD_ggZZ_Nominal*((Z1Flav*Z2Flav)==(121*121) ||(Z1Flav*Z2Flav)==(169*169) ||(Z1Flav*Z2Flav)==(121*169)  )*137.1*(ZZMass>=220)*(EventTag==0)*1000*xsec*overallEventWeight*L1prefiringWeight/Bin40\n",
      "LHEweight_AsMZ_Dn*p_Gen_GG_SIG_kappaTopBot_1_ghz1_1_MCFM*KFactor_QCD_ggZZ_Nominal*((Z1Flav*Z2Flav)==(121*121) ||(Z1Flav*Z2Flav)==(169*169) ||(Z1Flav*Z2Flav)==(121*169)  )*137.1*(ZZMass>=220)*(EventTag==0)*1000*xsec*overallEventWeight*L1prefiringWeight/Bin40\n",
      "----------------------\n",
      "up: 123.35052016563714\n",
      "dn: 120.06429877190385\n",
      "PythiaWeight_isr_muR4 * PythiaWeight_fsr_muR4*p_Gen_GG_SIG_kappaTopBot_1_ghz1_1_MCFM*KFactor_QCD_ggZZ_Nominal*((Z1Flav*Z2Flav)==(121*121) ||(Z1Flav*Z2Flav)==(169*169) ||(Z1Flav*Z2Flav)==(121*169)  )*137.1*(ZZMass>=220)*(EventTag==0)*1000*xsec*overallEventWeight*L1prefiringWeight/Bin40\n",
      "PythiaWeight_isr_muR0p25 * PythiaWeight_fsr_muR0p25*p_Gen_GG_SIG_kappaTopBot_1_ghz1_1_MCFM*KFactor_QCD_ggZZ_Nominal*((Z1Flav*Z2Flav)==(121*121) ||(Z1Flav*Z2Flav)==(169*169) ||(Z1Flav*Z2Flav)==(121*169)  )*137.1*(ZZMass>=220)*(EventTag==0)*1000*xsec*overallEventWeight*L1prefiringWeight/Bin40\n",
      "----------------------\n",
      "up: 122.17498523427639\n",
      "dn: 119.24012657953426\n",
      "om nomnomm: 122.1755179320462\n",
      "here 107.90133531740867\n",
      "here 139.28114393958822\n",
      "here 119.50667933095247\n",
      "here 125.23915756691713\n",
      "here 124.64542564330623\n",
      "here 119.94577104912605\n",
      "here 123.35052016563714\n",
      "here 120.06429877190385\n",
      "here 122.17498523427639\n",
      "here 119.24012657953426\n"
     ]
    },
    {
     "data": {
      "application/vnd.jupyter.widget-view+json": {
       "model_id": "a80f62461832472bb60aac1931199fb8",
       "version_major": 2,
       "version_minor": 0
      },
      "text/plain": [
       "  0%|          | 0/1 [00:00<?, ?it/s]"
      ]
     },
     "metadata": {},
     "output_type": "display_data"
    },
    {
     "name": "stdout",
     "output_type": "stream",
     "text": [
      "/eos/user/s/skyriaco/Offshell/Syst/highmass/MC_18/200205_CutBased/MC_2018/HighMass/ggH115/ZZ4lAnalysis.root\n",
      "LHEweight_QCDscale_muR2_muF1*p_Gen_GG_SIG_kappaTopBot_1_ghz1_1_MCFM*KFactor_QCD_ggZZ_Nominal*((Z1Flav*Z2Flav)==(121*121) ||(Z1Flav*Z2Flav)==(169*169) ||(Z1Flav*Z2Flav)==(121*169)  )*137.1*(ZZMass>=220)*(EventTag==0)*1000*xsec*overallEventWeight*L1prefiringWeight/Bin40\n",
      "LHEweight_QCDscale_muR0p5_muF1*p_Gen_GG_SIG_kappaTopBot_1_ghz1_1_MCFM*KFactor_QCD_ggZZ_Nominal*((Z1Flav*Z2Flav)==(121*121) ||(Z1Flav*Z2Flav)==(169*169) ||(Z1Flav*Z2Flav)==(121*169)  )*137.1*(ZZMass>=220)*(EventTag==0)*1000*xsec*overallEventWeight*L1prefiringWeight/Bin40\n",
      "----------------------\n",
      "up: 1.2455337455863358e-10\n",
      "dn: 2.0730552344194741e-10\n",
      "LHEweight_QCDscale_muR1_muF2*p_Gen_GG_SIG_kappaTopBot_1_ghz1_1_MCFM*KFactor_QCD_ggZZ_Nominal*((Z1Flav*Z2Flav)==(121*121) ||(Z1Flav*Z2Flav)==(169*169) ||(Z1Flav*Z2Flav)==(121*169)  )*137.1*(ZZMass>=220)*(EventTag==0)*1000*xsec*overallEventWeight*L1prefiringWeight/Bin40\n",
      "LHEweight_QCDscale_muR1_muF0p5*p_Gen_GG_SIG_kappaTopBot_1_ghz1_1_MCFM*KFactor_QCD_ggZZ_Nominal*((Z1Flav*Z2Flav)==(121*121) ||(Z1Flav*Z2Flav)==(169*169) ||(Z1Flav*Z2Flav)==(121*169)  )*137.1*(ZZMass>=220)*(EventTag==0)*1000*xsec*overallEventWeight*L1prefiringWeight/Bin40\n",
      "----------------------\n",
      "up: 1.6117534390458488e-10\n",
      "dn: 1.5489593982453975e-10\n",
      "LHEweight_PDFVariation_Up*p_Gen_GG_SIG_kappaTopBot_1_ghz1_1_MCFM*KFactor_QCD_ggZZ_Nominal*((Z1Flav*Z2Flav)==(121*121) ||(Z1Flav*Z2Flav)==(169*169) ||(Z1Flav*Z2Flav)==(121*169)  )*137.1*(ZZMass>=220)*(EventTag==0)*1000*xsec*overallEventWeight*L1prefiringWeight/Bin40\n",
      "LHEweight_PDFVariation_Dn*p_Gen_GG_SIG_kappaTopBot_1_ghz1_1_MCFM*KFactor_QCD_ggZZ_Nominal*((Z1Flav*Z2Flav)==(121*121) ||(Z1Flav*Z2Flav)==(169*169) ||(Z1Flav*Z2Flav)==(121*169)  )*137.1*(ZZMass>=220)*(EventTag==0)*1000*xsec*overallEventWeight*L1prefiringWeight/Bin40\n",
      "----------------------\n",
      "up: 1.6114657871990623e-10\n",
      "dn: 1.5595919347632936e-10\n",
      "LHEweight_AsMZ_Up*p_Gen_GG_SIG_kappaTopBot_1_ghz1_1_MCFM*KFactor_QCD_ggZZ_Nominal*((Z1Flav*Z2Flav)==(121*121) ||(Z1Flav*Z2Flav)==(169*169) ||(Z1Flav*Z2Flav)==(121*169)  )*137.1*(ZZMass>=220)*(EventTag==0)*1000*xsec*overallEventWeight*L1prefiringWeight/Bin40\n",
      "LHEweight_AsMZ_Dn*p_Gen_GG_SIG_kappaTopBot_1_ghz1_1_MCFM*KFactor_QCD_ggZZ_Nominal*((Z1Flav*Z2Flav)==(121*121) ||(Z1Flav*Z2Flav)==(169*169) ||(Z1Flav*Z2Flav)==(121*169)  )*137.1*(ZZMass>=220)*(EventTag==0)*1000*xsec*overallEventWeight*L1prefiringWeight/Bin40\n",
      "----------------------\n",
      "up: 1.6120285661891387e-10\n",
      "dn: 1.5406917408533616e-10\n",
      "PythiaWeight_isr_muR4 * PythiaWeight_fsr_muR4*p_Gen_GG_SIG_kappaTopBot_1_ghz1_1_MCFM*KFactor_QCD_ggZZ_Nominal*((Z1Flav*Z2Flav)==(121*121) ||(Z1Flav*Z2Flav)==(169*169) ||(Z1Flav*Z2Flav)==(121*169)  )*137.1*(ZZMass>=220)*(EventTag==0)*1000*xsec*overallEventWeight*L1prefiringWeight/Bin40\n",
      "PythiaWeight_isr_muR0p25 * PythiaWeight_fsr_muR0p25*p_Gen_GG_SIG_kappaTopBot_1_ghz1_1_MCFM*KFactor_QCD_ggZZ_Nominal*((Z1Flav*Z2Flav)==(121*121) ||(Z1Flav*Z2Flav)==(169*169) ||(Z1Flav*Z2Flav)==(121*169)  )*137.1*(ZZMass>=220)*(EventTag==0)*1000*xsec*overallEventWeight*L1prefiringWeight/Bin40\n",
      "----------------------\n",
      "up: 1.5751225670990188e-10\n",
      "dn: 7.075671125400529e-11\n",
      "om nomnomm: 1.5834054206687043e-10\n",
      "here 1.2455337455863358e-10\n",
      "here 2.0730552344194741e-10\n",
      "here 1.6117534390458488e-10\n",
      "here 1.5489593982453975e-10\n",
      "here 1.6114657871990623e-10\n",
      "here 1.5595919347632936e-10\n",
      "here 1.6120285661891387e-10\n",
      "here 1.5406917408533616e-10\n",
      "here 1.5751225670990188e-10\n",
      "here 7.075671125400529e-11\n"
     ]
    },
    {
     "data": {
      "application/vnd.jupyter.widget-view+json": {
       "model_id": "3fb78553ddbb4adea0dd3fc124d565dd",
       "version_major": 2,
       "version_minor": 0
      },
      "text/plain": [
       "  0%|          | 0/1 [00:00<?, ?it/s]"
      ]
     },
     "metadata": {},
     "output_type": "display_data"
    },
    {
     "name": "stdout",
     "output_type": "stream",
     "text": [
      "/eos/user/s/skyriaco/Offshell/Syst/highmass/MC_18/200205_CutBased/MC_2018/HighMass/ggH135/ZZ4lAnalysis.root\n",
      "LHEweight_QCDscale_muR2_muF1*p_Gen_GG_SIG_kappaTopBot_1_ghz1_1_MCFM*KFactor_QCD_ggZZ_Nominal*((Z1Flav*Z2Flav)==(121*121) ||(Z1Flav*Z2Flav)==(169*169) ||(Z1Flav*Z2Flav)==(121*169)  )*137.1*(ZZMass>=220)*(EventTag==0)*1000*xsec*overallEventWeight*L1prefiringWeight/Bin40\n",
      "LHEweight_QCDscale_muR0p5_muF1*p_Gen_GG_SIG_kappaTopBot_1_ghz1_1_MCFM*KFactor_QCD_ggZZ_Nominal*((Z1Flav*Z2Flav)==(121*121) ||(Z1Flav*Z2Flav)==(169*169) ||(Z1Flav*Z2Flav)==(121*169)  )*137.1*(ZZMass>=220)*(EventTag==0)*1000*xsec*overallEventWeight*L1prefiringWeight/Bin40\n",
      "----------------------\n",
      "up: 2.7616147424414095e-09\n",
      "dn: 4.411266019133109e-09\n",
      "LHEweight_QCDscale_muR1_muF2*p_Gen_GG_SIG_kappaTopBot_1_ghz1_1_MCFM*KFactor_QCD_ggZZ_Nominal*((Z1Flav*Z2Flav)==(121*121) ||(Z1Flav*Z2Flav)==(169*169) ||(Z1Flav*Z2Flav)==(121*169)  )*137.1*(ZZMass>=220)*(EventTag==0)*1000*xsec*overallEventWeight*L1prefiringWeight/Bin40\n",
      "LHEweight_QCDscale_muR1_muF0p5*p_Gen_GG_SIG_kappaTopBot_1_ghz1_1_MCFM*KFactor_QCD_ggZZ_Nominal*((Z1Flav*Z2Flav)==(121*121) ||(Z1Flav*Z2Flav)==(169*169) ||(Z1Flav*Z2Flav)==(121*169)  )*137.1*(ZZMass>=220)*(EventTag==0)*1000*xsec*overallEventWeight*L1prefiringWeight/Bin40\n",
      "----------------------\n",
      "up: 3.726072977938699e-09\n",
      "dn: 3.1323000582172966e-09\n",
      "LHEweight_PDFVariation_Up*p_Gen_GG_SIG_kappaTopBot_1_ghz1_1_MCFM*KFactor_QCD_ggZZ_Nominal*((Z1Flav*Z2Flav)==(121*121) ||(Z1Flav*Z2Flav)==(169*169) ||(Z1Flav*Z2Flav)==(121*169)  )*137.1*(ZZMass>=220)*(EventTag==0)*1000*xsec*overallEventWeight*L1prefiringWeight/Bin40\n",
      "LHEweight_PDFVariation_Dn*p_Gen_GG_SIG_kappaTopBot_1_ghz1_1_MCFM*KFactor_QCD_ggZZ_Nominal*((Z1Flav*Z2Flav)==(121*121) ||(Z1Flav*Z2Flav)==(169*169) ||(Z1Flav*Z2Flav)==(121*169)  )*137.1*(ZZMass>=220)*(EventTag==0)*1000*xsec*overallEventWeight*L1prefiringWeight/Bin40\n",
      "----------------------\n",
      "up: 3.508647955507982e-09\n",
      "dn: 3.3894369255715873e-09\n",
      "LHEweight_AsMZ_Up*p_Gen_GG_SIG_kappaTopBot_1_ghz1_1_MCFM*KFactor_QCD_ggZZ_Nominal*((Z1Flav*Z2Flav)==(121*121) ||(Z1Flav*Z2Flav)==(169*169) ||(Z1Flav*Z2Flav)==(121*169)  )*137.1*(ZZMass>=220)*(EventTag==0)*1000*xsec*overallEventWeight*L1prefiringWeight/Bin40\n",
      "LHEweight_AsMZ_Dn*p_Gen_GG_SIG_kappaTopBot_1_ghz1_1_MCFM*KFactor_QCD_ggZZ_Nominal*((Z1Flav*Z2Flav)==(121*121) ||(Z1Flav*Z2Flav)==(169*169) ||(Z1Flav*Z2Flav)==(121*169)  )*137.1*(ZZMass>=220)*(EventTag==0)*1000*xsec*overallEventWeight*L1prefiringWeight/Bin40\n",
      "----------------------\n",
      "up: 3.508546203567775e-09\n",
      "dn: 3.352825572733309e-09\n",
      "PythiaWeight_isr_muR4 * PythiaWeight_fsr_muR4*p_Gen_GG_SIG_kappaTopBot_1_ghz1_1_MCFM*KFactor_QCD_ggZZ_Nominal*((Z1Flav*Z2Flav)==(121*121) ||(Z1Flav*Z2Flav)==(169*169) ||(Z1Flav*Z2Flav)==(121*169)  )*137.1*(ZZMass>=220)*(EventTag==0)*1000*xsec*overallEventWeight*L1prefiringWeight/Bin40\n",
      "PythiaWeight_isr_muR0p25 * PythiaWeight_fsr_muR0p25*p_Gen_GG_SIG_kappaTopBot_1_ghz1_1_MCFM*KFactor_QCD_ggZZ_Nominal*((Z1Flav*Z2Flav)==(121*121) ||(Z1Flav*Z2Flav)==(169*169) ||(Z1Flav*Z2Flav)==(121*169)  )*137.1*(ZZMass>=220)*(EventTag==0)*1000*xsec*overallEventWeight*L1prefiringWeight/Bin40\n",
      "----------------------\n",
      "up: 4.884060655907518e-09\n",
      "dn: 2.7509033592720833e-09\n",
      "om nomnomm: 3.4444203877992408e-09\n",
      "here 2.7616147424414095e-09\n",
      "here 4.411266019133109e-09\n",
      "here 3.726072977938699e-09\n",
      "here 3.1323000582172966e-09\n",
      "here 3.508647955507982e-09\n",
      "here 3.3894369255715873e-09\n",
      "here 3.508546203567775e-09\n",
      "here 3.352825572733309e-09\n",
      "here 4.884060655907518e-09\n",
      "here 2.7509033592720833e-09\n"
     ]
    },
    {
     "data": {
      "application/vnd.jupyter.widget-view+json": {
       "model_id": "5430437d86d24e21990f88619399d56f",
       "version_major": 2,
       "version_minor": 0
      },
      "text/plain": [
       "  0%|          | 0/1 [00:00<?, ?it/s]"
      ]
     },
     "metadata": {},
     "output_type": "display_data"
    },
    {
     "name": "stdout",
     "output_type": "stream",
     "text": [
      "/eos/user/s/skyriaco/Offshell/Syst/highmass/MC_18/200205_CutBased/MC_2018/HighMass/ggH140/ZZ4lAnalysis.root\n",
      "LHEweight_QCDscale_muR2_muF1*p_Gen_GG_SIG_kappaTopBot_1_ghz1_1_MCFM*KFactor_QCD_ggZZ_Nominal*((Z1Flav*Z2Flav)==(121*121) ||(Z1Flav*Z2Flav)==(169*169) ||(Z1Flav*Z2Flav)==(121*169)  )*137.1*(ZZMass>=220)*(EventTag==0)*1000*xsec*overallEventWeight*L1prefiringWeight/Bin40\n",
      "LHEweight_QCDscale_muR0p5_muF1*p_Gen_GG_SIG_kappaTopBot_1_ghz1_1_MCFM*KFactor_QCD_ggZZ_Nominal*((Z1Flav*Z2Flav)==(121*121) ||(Z1Flav*Z2Flav)==(169*169) ||(Z1Flav*Z2Flav)==(121*169)  )*137.1*(ZZMass>=220)*(EventTag==0)*1000*xsec*overallEventWeight*L1prefiringWeight/Bin40\n",
      "----------------------\n",
      "up: 4.336732903342799e-09\n",
      "dn: 6.501377103340644e-09\n",
      "LHEweight_QCDscale_muR1_muF2*p_Gen_GG_SIG_kappaTopBot_1_ghz1_1_MCFM*KFactor_QCD_ggZZ_Nominal*((Z1Flav*Z2Flav)==(121*121) ||(Z1Flav*Z2Flav)==(169*169) ||(Z1Flav*Z2Flav)==(121*169)  )*137.1*(ZZMass>=220)*(EventTag==0)*1000*xsec*overallEventWeight*L1prefiringWeight/Bin40\n",
      "LHEweight_QCDscale_muR1_muF0p5*p_Gen_GG_SIG_kappaTopBot_1_ghz1_1_MCFM*KFactor_QCD_ggZZ_Nominal*((Z1Flav*Z2Flav)==(121*121) ||(Z1Flav*Z2Flav)==(169*169) ||(Z1Flav*Z2Flav)==(121*169)  )*137.1*(ZZMass>=220)*(EventTag==0)*1000*xsec*overallEventWeight*L1prefiringWeight/Bin40\n",
      "----------------------\n",
      "up: 5.6291565575516955e-09\n",
      "dn: 4.83749466873018e-09\n",
      "LHEweight_PDFVariation_Up*p_Gen_GG_SIG_kappaTopBot_1_ghz1_1_MCFM*KFactor_QCD_ggZZ_Nominal*((Z1Flav*Z2Flav)==(121*121) ||(Z1Flav*Z2Flav)==(169*169) ||(Z1Flav*Z2Flav)==(121*169)  )*137.1*(ZZMass>=220)*(EventTag==0)*1000*xsec*overallEventWeight*L1prefiringWeight/Bin40\n",
      "LHEweight_PDFVariation_Dn*p_Gen_GG_SIG_kappaTopBot_1_ghz1_1_MCFM*KFactor_QCD_ggZZ_Nominal*((Z1Flav*Z2Flav)==(121*121) ||(Z1Flav*Z2Flav)==(169*169) ||(Z1Flav*Z2Flav)==(121*169)  )*137.1*(ZZMass>=220)*(EventTag==0)*1000*xsec*overallEventWeight*L1prefiringWeight/Bin40\n",
      "----------------------\n",
      "up: 5.339215694566413e-09\n",
      "dn: 5.178205392253332e-09\n",
      "LHEweight_AsMZ_Up*p_Gen_GG_SIG_kappaTopBot_1_ghz1_1_MCFM*KFactor_QCD_ggZZ_Nominal*((Z1Flav*Z2Flav)==(121*121) ||(Z1Flav*Z2Flav)==(169*169) ||(Z1Flav*Z2Flav)==(121*169)  )*137.1*(ZZMass>=220)*(EventTag==0)*1000*xsec*overallEventWeight*L1prefiringWeight/Bin40\n",
      "LHEweight_AsMZ_Dn*p_Gen_GG_SIG_kappaTopBot_1_ghz1_1_MCFM*KFactor_QCD_ggZZ_Nominal*((Z1Flav*Z2Flav)==(121*121) ||(Z1Flav*Z2Flav)==(169*169) ||(Z1Flav*Z2Flav)==(121*169)  )*137.1*(ZZMass>=220)*(EventTag==0)*1000*xsec*overallEventWeight*L1prefiringWeight/Bin40\n",
      "----------------------\n",
      "up: 5.337130432048198e-09\n",
      "dn: 5.1206134887848975e-09\n",
      "PythiaWeight_isr_muR4 * PythiaWeight_fsr_muR4*p_Gen_GG_SIG_kappaTopBot_1_ghz1_1_MCFM*KFactor_QCD_ggZZ_Nominal*((Z1Flav*Z2Flav)==(121*121) ||(Z1Flav*Z2Flav)==(169*169) ||(Z1Flav*Z2Flav)==(121*169)  )*137.1*(ZZMass>=220)*(EventTag==0)*1000*xsec*overallEventWeight*L1prefiringWeight/Bin40\n",
      "PythiaWeight_isr_muR0p25 * PythiaWeight_fsr_muR0p25*p_Gen_GG_SIG_kappaTopBot_1_ghz1_1_MCFM*KFactor_QCD_ggZZ_Nominal*((Z1Flav*Z2Flav)==(121*121) ||(Z1Flav*Z2Flav)==(169*169) ||(Z1Flav*Z2Flav)==(121*169)  )*137.1*(ZZMass>=220)*(EventTag==0)*1000*xsec*overallEventWeight*L1prefiringWeight/Bin40\n",
      "----------------------\n",
      "up: 4.953960047737738e-09\n",
      "dn: 2.9173307884017285e-09\n",
      "om nomnomm: 5.252853943482627e-09\n",
      "here 4.336732903342799e-09\n",
      "here 6.501377103340644e-09\n",
      "here 5.6291565575516955e-09\n",
      "here 4.83749466873018e-09\n",
      "here 5.339215694566413e-09\n",
      "here 5.178205392253332e-09\n",
      "here 5.337130432048198e-09\n",
      "here 5.1206134887848975e-09\n",
      "here 4.953960047737738e-09\n",
      "here 2.9173307884017285e-09\n"
     ]
    },
    {
     "data": {
      "application/vnd.jupyter.widget-view+json": {
       "model_id": "1e25d053de2843c8b906dbb06305db2e",
       "version_major": 2,
       "version_minor": 0
      },
      "text/plain": [
       "  0%|          | 0/1 [00:00<?, ?it/s]"
      ]
     },
     "metadata": {},
     "output_type": "display_data"
    },
    {
     "name": "stdout",
     "output_type": "stream",
     "text": [
      "/eos/user/s/skyriaco/Offshell/Syst/highmass/MC_18/200205_CutBased/MC_2018/HighMass/ggH145/ZZ4lAnalysis.root\n",
      "LHEweight_QCDscale_muR2_muF1*p_Gen_GG_SIG_kappaTopBot_1_ghz1_1_MCFM*KFactor_QCD_ggZZ_Nominal*((Z1Flav*Z2Flav)==(121*121) ||(Z1Flav*Z2Flav)==(169*169) ||(Z1Flav*Z2Flav)==(121*169)  )*137.1*(ZZMass>=220)*(EventTag==0)*1000*xsec*overallEventWeight*L1prefiringWeight/Bin40\n",
      "LHEweight_QCDscale_muR0p5_muF1*p_Gen_GG_SIG_kappaTopBot_1_ghz1_1_MCFM*KFactor_QCD_ggZZ_Nominal*((Z1Flav*Z2Flav)==(121*121) ||(Z1Flav*Z2Flav)==(169*169) ||(Z1Flav*Z2Flav)==(121*169)  )*137.1*(ZZMass>=220)*(EventTag==0)*1000*xsec*overallEventWeight*L1prefiringWeight/Bin40\n",
      "----------------------\n",
      "up: 0.039722863482893445\n",
      "dn: 0.01900681108236313\n",
      "LHEweight_QCDscale_muR1_muF2*p_Gen_GG_SIG_kappaTopBot_1_ghz1_1_MCFM*KFactor_QCD_ggZZ_Nominal*((Z1Flav*Z2Flav)==(121*121) ||(Z1Flav*Z2Flav)==(169*169) ||(Z1Flav*Z2Flav)==(121*169)  )*137.1*(ZZMass>=220)*(EventTag==0)*1000*xsec*overallEventWeight*L1prefiringWeight/Bin40\n",
      "LHEweight_QCDscale_muR1_muF0p5*p_Gen_GG_SIG_kappaTopBot_1_ghz1_1_MCFM*KFactor_QCD_ggZZ_Nominal*((Z1Flav*Z2Flav)==(121*121) ||(Z1Flav*Z2Flav)==(169*169) ||(Z1Flav*Z2Flav)==(121*169)  )*137.1*(ZZMass>=220)*(EventTag==0)*1000*xsec*overallEventWeight*L1prefiringWeight/Bin40\n",
      "----------------------\n",
      "up: 0.028950755251571536\n",
      "dn: 0.0372341088950634\n",
      "LHEweight_PDFVariation_Up*p_Gen_GG_SIG_kappaTopBot_1_ghz1_1_MCFM*KFactor_QCD_ggZZ_Nominal*((Z1Flav*Z2Flav)==(121*121) ||(Z1Flav*Z2Flav)==(169*169) ||(Z1Flav*Z2Flav)==(121*169)  )*137.1*(ZZMass>=220)*(EventTag==0)*1000*xsec*overallEventWeight*L1prefiringWeight/Bin40\n",
      "LHEweight_PDFVariation_Dn*p_Gen_GG_SIG_kappaTopBot_1_ghz1_1_MCFM*KFactor_QCD_ggZZ_Nominal*((Z1Flav*Z2Flav)==(121*121) ||(Z1Flav*Z2Flav)==(169*169) ||(Z1Flav*Z2Flav)==(121*169)  )*137.1*(ZZMass>=220)*(EventTag==0)*1000*xsec*overallEventWeight*L1prefiringWeight/Bin40\n",
      "----------------------\n",
      "up: 0.034684695303440094\n",
      "dn: 0.031092098681256175\n",
      "LHEweight_AsMZ_Up*p_Gen_GG_SIG_kappaTopBot_1_ghz1_1_MCFM*KFactor_QCD_ggZZ_Nominal*((Z1Flav*Z2Flav)==(121*121) ||(Z1Flav*Z2Flav)==(169*169) ||(Z1Flav*Z2Flav)==(121*169)  )*137.1*(ZZMass>=220)*(EventTag==0)*1000*xsec*overallEventWeight*L1prefiringWeight/Bin40\n",
      "LHEweight_AsMZ_Dn*p_Gen_GG_SIG_kappaTopBot_1_ghz1_1_MCFM*KFactor_QCD_ggZZ_Nominal*((Z1Flav*Z2Flav)==(121*121) ||(Z1Flav*Z2Flav)==(169*169) ||(Z1Flav*Z2Flav)==(121*169)  )*137.1*(ZZMass>=220)*(EventTag==0)*1000*xsec*overallEventWeight*L1prefiringWeight/Bin40\n",
      "----------------------\n",
      "up: 0.031860299641266465\n",
      "dn: 0.03294599149376154\n",
      "PythiaWeight_isr_muR4 * PythiaWeight_fsr_muR4*p_Gen_GG_SIG_kappaTopBot_1_ghz1_1_MCFM*KFactor_QCD_ggZZ_Nominal*((Z1Flav*Z2Flav)==(121*121) ||(Z1Flav*Z2Flav)==(169*169) ||(Z1Flav*Z2Flav)==(121*169)  )*137.1*(ZZMass>=220)*(EventTag==0)*1000*xsec*overallEventWeight*L1prefiringWeight/Bin40\n",
      "PythiaWeight_isr_muR0p25 * PythiaWeight_fsr_muR0p25*p_Gen_GG_SIG_kappaTopBot_1_ghz1_1_MCFM*KFactor_QCD_ggZZ_Nominal*((Z1Flav*Z2Flav)==(121*121) ||(Z1Flav*Z2Flav)==(169*169) ||(Z1Flav*Z2Flav)==(121*169)  )*137.1*(ZZMass>=220)*(EventTag==0)*1000*xsec*overallEventWeight*L1prefiringWeight/Bin40\n",
      "----------------------\n",
      "up: 0.02767710154876113\n",
      "dn: 0.005879647578694858\n",
      "om nomnomm: 0.032867224188521504\n",
      "here 0.039722863482893445\n",
      "here 0.01900681108236313\n",
      "here 0.028950755251571536\n",
      "here 0.0372341088950634\n",
      "here 0.034684695303440094\n",
      "here 0.031092098681256175\n",
      "here 0.031860299641266465\n",
      "here 0.03294599149376154\n",
      "here 0.02767710154876113\n",
      "here 0.005879647578694858\n"
     ]
    },
    {
     "data": {
      "application/vnd.jupyter.widget-view+json": {
       "model_id": "33cdfa7cc5804d89a596ff2c89626b48",
       "version_major": 2,
       "version_minor": 0
      },
      "text/plain": [
       "  0%|          | 0/1 [00:00<?, ?it/s]"
      ]
     },
     "metadata": {},
     "output_type": "display_data"
    },
    {
     "name": "stdout",
     "output_type": "stream",
     "text": [
      "/eos/user/s/skyriaco/Offshell/Syst/highmass/MC_18/200205_CutBased/MC_2018/HighMass/ggH150/ZZ4lAnalysis.root\n",
      "LHEweight_QCDscale_muR2_muF1*p_Gen_GG_SIG_kappaTopBot_1_ghz1_1_MCFM*KFactor_QCD_ggZZ_Nominal*((Z1Flav*Z2Flav)==(121*121) ||(Z1Flav*Z2Flav)==(169*169) ||(Z1Flav*Z2Flav)==(121*169)  )*137.1*(ZZMass>=220)*(EventTag==0)*1000*xsec*overallEventWeight*L1prefiringWeight/Bin40\n",
      "LHEweight_QCDscale_muR0p5_muF1*p_Gen_GG_SIG_kappaTopBot_1_ghz1_1_MCFM*KFactor_QCD_ggZZ_Nominal*((Z1Flav*Z2Flav)==(121*121) ||(Z1Flav*Z2Flav)==(169*169) ||(Z1Flav*Z2Flav)==(121*169)  )*137.1*(ZZMass>=220)*(EventTag==0)*1000*xsec*overallEventWeight*L1prefiringWeight/Bin40\n",
      "----------------------\n",
      "up: 0.27667493145677635\n",
      "dn: 0.3669624823916675\n",
      "LHEweight_QCDscale_muR1_muF2*p_Gen_GG_SIG_kappaTopBot_1_ghz1_1_MCFM*KFactor_QCD_ggZZ_Nominal*((Z1Flav*Z2Flav)==(121*121) ||(Z1Flav*Z2Flav)==(169*169) ||(Z1Flav*Z2Flav)==(121*169)  )*137.1*(ZZMass>=220)*(EventTag==0)*1000*xsec*overallEventWeight*L1prefiringWeight/Bin40\n",
      "LHEweight_QCDscale_muR1_muF0p5*p_Gen_GG_SIG_kappaTopBot_1_ghz1_1_MCFM*KFactor_QCD_ggZZ_Nominal*((Z1Flav*Z2Flav)==(121*121) ||(Z1Flav*Z2Flav)==(169*169) ||(Z1Flav*Z2Flav)==(121*169)  )*137.1*(ZZMass>=220)*(EventTag==0)*1000*xsec*overallEventWeight*L1prefiringWeight/Bin40\n",
      "----------------------\n",
      "up: 0.3139247535476307\n",
      "dn: 0.3208950699042147\n",
      "LHEweight_PDFVariation_Up*p_Gen_GG_SIG_kappaTopBot_1_ghz1_1_MCFM*KFactor_QCD_ggZZ_Nominal*((Z1Flav*Z2Flav)==(121*121) ||(Z1Flav*Z2Flav)==(169*169) ||(Z1Flav*Z2Flav)==(121*169)  )*137.1*(ZZMass>=220)*(EventTag==0)*1000*xsec*overallEventWeight*L1prefiringWeight/Bin40\n",
      "LHEweight_PDFVariation_Dn*p_Gen_GG_SIG_kappaTopBot_1_ghz1_1_MCFM*KFactor_QCD_ggZZ_Nominal*((Z1Flav*Z2Flav)==(121*121) ||(Z1Flav*Z2Flav)==(169*169) ||(Z1Flav*Z2Flav)==(121*169)  )*137.1*(ZZMass>=220)*(EventTag==0)*1000*xsec*overallEventWeight*L1prefiringWeight/Bin40\n",
      "----------------------\n",
      "up: 0.3232742774923876\n",
      "dn: 0.3121122101309517\n",
      "LHEweight_AsMZ_Up*p_Gen_GG_SIG_kappaTopBot_1_ghz1_1_MCFM*KFactor_QCD_ggZZ_Nominal*((Z1Flav*Z2Flav)==(121*121) ||(Z1Flav*Z2Flav)==(169*169) ||(Z1Flav*Z2Flav)==(121*169)  )*137.1*(ZZMass>=220)*(EventTag==0)*1000*xsec*overallEventWeight*L1prefiringWeight/Bin40\n",
      "LHEweight_AsMZ_Dn*p_Gen_GG_SIG_kappaTopBot_1_ghz1_1_MCFM*KFactor_QCD_ggZZ_Nominal*((Z1Flav*Z2Flav)==(121*121) ||(Z1Flav*Z2Flav)==(169*169) ||(Z1Flav*Z2Flav)==(121*169)  )*137.1*(ZZMass>=220)*(EventTag==0)*1000*xsec*overallEventWeight*L1prefiringWeight/Bin40\n",
      "----------------------\n",
      "up: 0.32031807663124157\n",
      "dn: 0.3112336600050407\n",
      "PythiaWeight_isr_muR4 * PythiaWeight_fsr_muR4*p_Gen_GG_SIG_kappaTopBot_1_ghz1_1_MCFM*KFactor_QCD_ggZZ_Nominal*((Z1Flav*Z2Flav)==(121*121) ||(Z1Flav*Z2Flav)==(169*169) ||(Z1Flav*Z2Flav)==(121*169)  )*137.1*(ZZMass>=220)*(EventTag==0)*1000*xsec*overallEventWeight*L1prefiringWeight/Bin40\n",
      "PythiaWeight_isr_muR0p25 * PythiaWeight_fsr_muR0p25*p_Gen_GG_SIG_kappaTopBot_1_ghz1_1_MCFM*KFactor_QCD_ggZZ_Nominal*((Z1Flav*Z2Flav)==(121*121) ||(Z1Flav*Z2Flav)==(169*169) ||(Z1Flav*Z2Flav)==(121*169)  )*137.1*(ZZMass>=220)*(EventTag==0)*1000*xsec*overallEventWeight*L1prefiringWeight/Bin40\n",
      "----------------------\n",
      "up: 0.301327394913478\n",
      "dn: 0.5713725358629729\n",
      "om nomnomm: 0.3172624859310875\n",
      "here 0.27667493145677635\n",
      "here 0.3669624823916675\n",
      "here 0.3139247535476307\n",
      "here 0.3208950699042147\n",
      "here 0.3232742774923876\n",
      "here 0.3121122101309517\n",
      "here 0.32031807663124157\n",
      "here 0.3112336600050407\n",
      "here 0.301327394913478\n",
      "here 0.5713725358629729\n"
     ]
    },
    {
     "data": {
      "application/vnd.jupyter.widget-view+json": {
       "model_id": "b01ee25473c14b8b8eaffae5dd78e594",
       "version_major": 2,
       "version_minor": 0
      },
      "text/plain": [
       "  0%|          | 0/1 [00:00<?, ?it/s]"
      ]
     },
     "metadata": {},
     "output_type": "display_data"
    },
    {
     "name": "stdout",
     "output_type": "stream",
     "text": [
      "/eos/user/s/skyriaco/Offshell/Syst/highmass/MC_18/200205_CutBased/MC_2018/HighMass/ggH1500/ZZ4lAnalysis.root\n",
      "LHEweight_QCDscale_muR2_muF1*p_Gen_GG_SIG_kappaTopBot_1_ghz1_1_MCFM*KFactor_QCD_ggZZ_Nominal*((Z1Flav*Z2Flav)==(121*121) ||(Z1Flav*Z2Flav)==(169*169) ||(Z1Flav*Z2Flav)==(121*169)  )*137.1*(ZZMass>=220)*(EventTag==0)*1000*xsec*overallEventWeight*L1prefiringWeight/Bin40\n",
      "LHEweight_QCDscale_muR0p5_muF1*p_Gen_GG_SIG_kappaTopBot_1_ghz1_1_MCFM*KFactor_QCD_ggZZ_Nominal*((Z1Flav*Z2Flav)==(121*121) ||(Z1Flav*Z2Flav)==(169*169) ||(Z1Flav*Z2Flav)==(121*169)  )*137.1*(ZZMass>=220)*(EventTag==0)*1000*xsec*overallEventWeight*L1prefiringWeight/Bin40\n",
      "----------------------\n",
      "up: 394.0895841626916\n",
      "dn: 508.46558669488877\n",
      "LHEweight_QCDscale_muR1_muF2*p_Gen_GG_SIG_kappaTopBot_1_ghz1_1_MCFM*KFactor_QCD_ggZZ_Nominal*((Z1Flav*Z2Flav)==(121*121) ||(Z1Flav*Z2Flav)==(169*169) ||(Z1Flav*Z2Flav)==(121*169)  )*137.1*(ZZMass>=220)*(EventTag==0)*1000*xsec*overallEventWeight*L1prefiringWeight/Bin40\n",
      "LHEweight_QCDscale_muR1_muF0p5*p_Gen_GG_SIG_kappaTopBot_1_ghz1_1_MCFM*KFactor_QCD_ggZZ_Nominal*((Z1Flav*Z2Flav)==(121*121) ||(Z1Flav*Z2Flav)==(169*169) ||(Z1Flav*Z2Flav)==(121*169)  )*137.1*(ZZMass>=220)*(EventTag==0)*1000*xsec*overallEventWeight*L1prefiringWeight/Bin40\n",
      "----------------------\n",
      "up: 435.8643655455671\n",
      "dn: 457.9244032551069\n",
      "LHEweight_PDFVariation_Up*p_Gen_GG_SIG_kappaTopBot_1_ghz1_1_MCFM*KFactor_QCD_ggZZ_Nominal*((Z1Flav*Z2Flav)==(121*121) ||(Z1Flav*Z2Flav)==(169*169) ||(Z1Flav*Z2Flav)==(121*169)  )*137.1*(ZZMass>=220)*(EventTag==0)*1000*xsec*overallEventWeight*L1prefiringWeight/Bin40\n",
      "LHEweight_PDFVariation_Dn*p_Gen_GG_SIG_kappaTopBot_1_ghz1_1_MCFM*KFactor_QCD_ggZZ_Nominal*((Z1Flav*Z2Flav)==(121*121) ||(Z1Flav*Z2Flav)==(169*169) ||(Z1Flav*Z2Flav)==(121*169)  )*137.1*(ZZMass>=220)*(EventTag==0)*1000*xsec*overallEventWeight*L1prefiringWeight/Bin40\n",
      "----------------------\n",
      "up: 455.1131762941368\n",
      "dn: 438.0148766133934\n",
      "LHEweight_AsMZ_Up*p_Gen_GG_SIG_kappaTopBot_1_ghz1_1_MCFM*KFactor_QCD_ggZZ_Nominal*((Z1Flav*Z2Flav)==(121*121) ||(Z1Flav*Z2Flav)==(169*169) ||(Z1Flav*Z2Flav)==(121*169)  )*137.1*(ZZMass>=220)*(EventTag==0)*1000*xsec*overallEventWeight*L1prefiringWeight/Bin40\n",
      "LHEweight_AsMZ_Dn*p_Gen_GG_SIG_kappaTopBot_1_ghz1_1_MCFM*KFactor_QCD_ggZZ_Nominal*((Z1Flav*Z2Flav)==(121*121) ||(Z1Flav*Z2Flav)==(169*169) ||(Z1Flav*Z2Flav)==(121*169)  )*137.1*(ZZMass>=220)*(EventTag==0)*1000*xsec*overallEventWeight*L1prefiringWeight/Bin40\n",
      "----------------------\n",
      "up: 450.4876658145804\n",
      "dn: 438.4539724746719\n",
      "PythiaWeight_isr_muR4 * PythiaWeight_fsr_muR4*p_Gen_GG_SIG_kappaTopBot_1_ghz1_1_MCFM*KFactor_QCD_ggZZ_Nominal*((Z1Flav*Z2Flav)==(121*121) ||(Z1Flav*Z2Flav)==(169*169) ||(Z1Flav*Z2Flav)==(121*169)  )*137.1*(ZZMass>=220)*(EventTag==0)*1000*xsec*overallEventWeight*L1prefiringWeight/Bin40\n",
      "PythiaWeight_isr_muR0p25 * PythiaWeight_fsr_muR0p25*p_Gen_GG_SIG_kappaTopBot_1_ghz1_1_MCFM*KFactor_QCD_ggZZ_Nominal*((Z1Flav*Z2Flav)==(121*121) ||(Z1Flav*Z2Flav)==(169*169) ||(Z1Flav*Z2Flav)==(121*169)  )*137.1*(ZZMass>=220)*(EventTag==0)*1000*xsec*overallEventWeight*L1prefiringWeight/Bin40\n",
      "----------------------\n",
      "up: 444.77003002073616\n",
      "dn: 449.2258190771099\n",
      "om nomnomm: 446.1369061728474\n",
      "here 394.0895841626916\n",
      "here 508.46558669488877\n",
      "here 435.8643655455671\n",
      "here 457.9244032551069\n",
      "here 455.1131762941368\n",
      "here 438.0148766133934\n",
      "here 450.4876658145804\n",
      "here 438.4539724746719\n",
      "here 444.77003002073616\n",
      "here 449.2258190771099\n"
     ]
    },
    {
     "data": {
      "application/vnd.jupyter.widget-view+json": {
       "model_id": "29d0a8e7673447dfba702265c17dde5c",
       "version_major": 2,
       "version_minor": 0
      },
      "text/plain": [
       "  0%|          | 0/1 [00:00<?, ?it/s]"
      ]
     },
     "metadata": {},
     "output_type": "display_data"
    },
    {
     "name": "stdout",
     "output_type": "stream",
     "text": [
      "/eos/user/s/skyriaco/Offshell/Syst/highmass/MC_18/200205_CutBased/MC_2018/HighMass/ggH155/ZZ4lAnalysis.root\n",
      "LHEweight_QCDscale_muR2_muF1*p_Gen_GG_SIG_kappaTopBot_1_ghz1_1_MCFM*KFactor_QCD_ggZZ_Nominal*((Z1Flav*Z2Flav)==(121*121) ||(Z1Flav*Z2Flav)==(169*169) ||(Z1Flav*Z2Flav)==(121*169)  )*137.1*(ZZMass>=220)*(EventTag==0)*1000*xsec*overallEventWeight*L1prefiringWeight/Bin40\n",
      "LHEweight_QCDscale_muR0p5_muF1*p_Gen_GG_SIG_kappaTopBot_1_ghz1_1_MCFM*KFactor_QCD_ggZZ_Nominal*((Z1Flav*Z2Flav)==(121*121) ||(Z1Flav*Z2Flav)==(169*169) ||(Z1Flav*Z2Flav)==(121*169)  )*137.1*(ZZMass>=220)*(EventTag==0)*1000*xsec*overallEventWeight*L1prefiringWeight/Bin40\n",
      "----------------------\n",
      "up: 2.1912030801177025\n",
      "dn: 2.822147451341152\n",
      "LHEweight_QCDscale_muR1_muF2*p_Gen_GG_SIG_kappaTopBot_1_ghz1_1_MCFM*KFactor_QCD_ggZZ_Nominal*((Z1Flav*Z2Flav)==(121*121) ||(Z1Flav*Z2Flav)==(169*169) ||(Z1Flav*Z2Flav)==(121*169)  )*137.1*(ZZMass>=220)*(EventTag==0)*1000*xsec*overallEventWeight*L1prefiringWeight/Bin40\n",
      "LHEweight_QCDscale_muR1_muF0p5*p_Gen_GG_SIG_kappaTopBot_1_ghz1_1_MCFM*KFactor_QCD_ggZZ_Nominal*((Z1Flav*Z2Flav)==(121*121) ||(Z1Flav*Z2Flav)==(169*169) ||(Z1Flav*Z2Flav)==(121*169)  )*137.1*(ZZMass>=220)*(EventTag==0)*1000*xsec*overallEventWeight*L1prefiringWeight/Bin40\n",
      "----------------------\n",
      "up: 2.463053196668625\n",
      "dn: 2.4998365193605423\n",
      "LHEweight_PDFVariation_Up*p_Gen_GG_SIG_kappaTopBot_1_ghz1_1_MCFM*KFactor_QCD_ggZZ_Nominal*((Z1Flav*Z2Flav)==(121*121) ||(Z1Flav*Z2Flav)==(169*169) ||(Z1Flav*Z2Flav)==(121*169)  )*137.1*(ZZMass>=220)*(EventTag==0)*1000*xsec*overallEventWeight*L1prefiringWeight/Bin40\n",
      "LHEweight_PDFVariation_Dn*p_Gen_GG_SIG_kappaTopBot_1_ghz1_1_MCFM*KFactor_QCD_ggZZ_Nominal*((Z1Flav*Z2Flav)==(121*121) ||(Z1Flav*Z2Flav)==(169*169) ||(Z1Flav*Z2Flav)==(121*169)  )*137.1*(ZZMass>=220)*(EventTag==0)*1000*xsec*overallEventWeight*L1prefiringWeight/Bin40\n",
      "----------------------\n",
      "up: 2.527717001736164\n",
      "dn: 2.4378237277269363\n",
      "LHEweight_AsMZ_Up*p_Gen_GG_SIG_kappaTopBot_1_ghz1_1_MCFM*KFactor_QCD_ggZZ_Nominal*((Z1Flav*Z2Flav)==(121*121) ||(Z1Flav*Z2Flav)==(169*169) ||(Z1Flav*Z2Flav)==(121*169)  )*137.1*(ZZMass>=220)*(EventTag==0)*1000*xsec*overallEventWeight*L1prefiringWeight/Bin40\n",
      "LHEweight_AsMZ_Dn*p_Gen_GG_SIG_kappaTopBot_1_ghz1_1_MCFM*KFactor_QCD_ggZZ_Nominal*((Z1Flav*Z2Flav)==(121*121) ||(Z1Flav*Z2Flav)==(169*169) ||(Z1Flav*Z2Flav)==(121*169)  )*137.1*(ZZMass>=220)*(EventTag==0)*1000*xsec*overallEventWeight*L1prefiringWeight/Bin40\n",
      "----------------------\n",
      "up: 2.503776416182518\n",
      "dn: 2.435139425098896\n",
      "PythiaWeight_isr_muR4 * PythiaWeight_fsr_muR4*p_Gen_GG_SIG_kappaTopBot_1_ghz1_1_MCFM*KFactor_QCD_ggZZ_Nominal*((Z1Flav*Z2Flav)==(121*121) ||(Z1Flav*Z2Flav)==(169*169) ||(Z1Flav*Z2Flav)==(121*169)  )*137.1*(ZZMass>=220)*(EventTag==0)*1000*xsec*overallEventWeight*L1prefiringWeight/Bin40\n",
      "PythiaWeight_isr_muR0p25 * PythiaWeight_fsr_muR0p25*p_Gen_GG_SIG_kappaTopBot_1_ghz1_1_MCFM*KFactor_QCD_ggZZ_Nominal*((Z1Flav*Z2Flav)==(121*121) ||(Z1Flav*Z2Flav)==(169*169) ||(Z1Flav*Z2Flav)==(121*169)  )*137.1*(ZZMass>=220)*(EventTag==0)*1000*xsec*overallEventWeight*L1prefiringWeight/Bin40\n",
      "----------------------\n",
      "up: 2.4300681203603745\n",
      "dn: 2.4441347792744637\n",
      "om nomnomm: 2.4800979644060135\n",
      "here 2.1912030801177025\n",
      "here 2.822147451341152\n",
      "here 2.463053196668625\n",
      "here 2.4998365193605423\n",
      "here 2.527717001736164\n",
      "here 2.4378237277269363\n",
      "here 2.503776416182518\n",
      "here 2.435139425098896\n",
      "here 2.4300681203603745\n",
      "here 2.4441347792744637\n"
     ]
    },
    {
     "data": {
      "application/vnd.jupyter.widget-view+json": {
       "model_id": "d5d90d96cef34c33809102a28020bf5c",
       "version_major": 2,
       "version_minor": 0
      },
      "text/plain": [
       "  0%|          | 0/1 [00:00<?, ?it/s]"
      ]
     },
     "metadata": {},
     "output_type": "display_data"
    },
    {
     "name": "stdout",
     "output_type": "stream",
     "text": [
      "/eos/user/s/skyriaco/Offshell/Syst/highmass/MC_18/200205_CutBased/MC_2018/HighMass/ggH160/ZZ4lAnalysis.root\n",
      "LHEweight_QCDscale_muR2_muF1*p_Gen_GG_SIG_kappaTopBot_1_ghz1_1_MCFM*KFactor_QCD_ggZZ_Nominal*((Z1Flav*Z2Flav)==(121*121) ||(Z1Flav*Z2Flav)==(169*169) ||(Z1Flav*Z2Flav)==(121*169)  )*137.1*(ZZMass>=220)*(EventTag==0)*1000*xsec*overallEventWeight*L1prefiringWeight/Bin40\n",
      "LHEweight_QCDscale_muR0p5_muF1*p_Gen_GG_SIG_kappaTopBot_1_ghz1_1_MCFM*KFactor_QCD_ggZZ_Nominal*((Z1Flav*Z2Flav)==(121*121) ||(Z1Flav*Z2Flav)==(169*169) ||(Z1Flav*Z2Flav)==(121*169)  )*137.1*(ZZMass>=220)*(EventTag==0)*1000*xsec*overallEventWeight*L1prefiringWeight/Bin40\n",
      "----------------------\n",
      "up: 3.7048378260806203\n",
      "dn: 4.766676547005773\n",
      "LHEweight_QCDscale_muR1_muF2*p_Gen_GG_SIG_kappaTopBot_1_ghz1_1_MCFM*KFactor_QCD_ggZZ_Nominal*((Z1Flav*Z2Flav)==(121*121) ||(Z1Flav*Z2Flav)==(169*169) ||(Z1Flav*Z2Flav)==(121*169)  )*137.1*(ZZMass>=220)*(EventTag==0)*1000*xsec*overallEventWeight*L1prefiringWeight/Bin40\n",
      "LHEweight_QCDscale_muR1_muF0p5*p_Gen_GG_SIG_kappaTopBot_1_ghz1_1_MCFM*KFactor_QCD_ggZZ_Nominal*((Z1Flav*Z2Flav)==(121*121) ||(Z1Flav*Z2Flav)==(169*169) ||(Z1Flav*Z2Flav)==(121*169)  )*137.1*(ZZMass>=220)*(EventTag==0)*1000*xsec*overallEventWeight*L1prefiringWeight/Bin40\n",
      "----------------------\n",
      "up: 4.105591671075672\n",
      "dn: 4.286777369212359\n",
      "LHEweight_PDFVariation_Up*p_Gen_GG_SIG_kappaTopBot_1_ghz1_1_MCFM*KFactor_QCD_ggZZ_Nominal*((Z1Flav*Z2Flav)==(121*121) ||(Z1Flav*Z2Flav)==(169*169) ||(Z1Flav*Z2Flav)==(121*169)  )*137.1*(ZZMass>=220)*(EventTag==0)*1000*xsec*overallEventWeight*L1prefiringWeight/Bin40\n",
      "LHEweight_PDFVariation_Dn*p_Gen_GG_SIG_kappaTopBot_1_ghz1_1_MCFM*KFactor_QCD_ggZZ_Nominal*((Z1Flav*Z2Flav)==(121*121) ||(Z1Flav*Z2Flav)==(169*169) ||(Z1Flav*Z2Flav)==(121*169)  )*137.1*(ZZMass>=220)*(EventTag==0)*1000*xsec*overallEventWeight*L1prefiringWeight/Bin40\n",
      "----------------------\n",
      "up: 4.272404389921576\n",
      "dn: 4.11510518938303\n",
      "LHEweight_AsMZ_Up*p_Gen_GG_SIG_kappaTopBot_1_ghz1_1_MCFM*KFactor_QCD_ggZZ_Nominal*((Z1Flav*Z2Flav)==(121*121) ||(Z1Flav*Z2Flav)==(169*169) ||(Z1Flav*Z2Flav)==(121*169)  )*137.1*(ZZMass>=220)*(EventTag==0)*1000*xsec*overallEventWeight*L1prefiringWeight/Bin40\n",
      "LHEweight_AsMZ_Dn*p_Gen_GG_SIG_kappaTopBot_1_ghz1_1_MCFM*KFactor_QCD_ggZZ_Nominal*((Z1Flav*Z2Flav)==(121*121) ||(Z1Flav*Z2Flav)==(169*169) ||(Z1Flav*Z2Flav)==(121*169)  )*137.1*(ZZMass>=220)*(EventTag==0)*1000*xsec*overallEventWeight*L1prefiringWeight/Bin40\n",
      "----------------------\n",
      "up: 4.228035090025514\n",
      "dn: 4.117883229628205\n",
      "PythiaWeight_isr_muR4 * PythiaWeight_fsr_muR4*p_Gen_GG_SIG_kappaTopBot_1_ghz1_1_MCFM*KFactor_QCD_ggZZ_Nominal*((Z1Flav*Z2Flav)==(121*121) ||(Z1Flav*Z2Flav)==(169*169) ||(Z1Flav*Z2Flav)==(121*169)  )*137.1*(ZZMass>=220)*(EventTag==0)*1000*xsec*overallEventWeight*L1prefiringWeight/Bin40\n",
      "PythiaWeight_isr_muR0p25 * PythiaWeight_fsr_muR0p25*p_Gen_GG_SIG_kappaTopBot_1_ghz1_1_MCFM*KFactor_QCD_ggZZ_Nominal*((Z1Flav*Z2Flav)==(121*121) ||(Z1Flav*Z2Flav)==(169*169) ||(Z1Flav*Z2Flav)==(121*169)  )*137.1*(ZZMass>=220)*(EventTag==0)*1000*xsec*overallEventWeight*L1prefiringWeight/Bin40\n",
      "----------------------\n",
      "up: 4.233068941859528\n",
      "dn: 4.369696732552256\n",
      "om nomnomm: 4.189845888409764\n",
      "here 3.7048378260806203\n",
      "here 4.766676547005773\n",
      "here 4.105591671075672\n",
      "here 4.286777369212359\n",
      "here 4.272404389921576\n",
      "here 4.11510518938303\n",
      "here 4.228035090025514\n",
      "here 4.117883229628205\n",
      "here 4.233068941859528\n",
      "here 4.369696732552256\n"
     ]
    },
    {
     "data": {
      "application/vnd.jupyter.widget-view+json": {
       "model_id": "6a0d16b6da8447cb964c3e23d10fa191",
       "version_major": 2,
       "version_minor": 0
      },
      "text/plain": [
       "  0%|          | 0/1 [00:00<?, ?it/s]"
      ]
     },
     "metadata": {},
     "output_type": "display_data"
    },
    {
     "name": "stdout",
     "output_type": "stream",
     "text": [
      "/eos/user/s/skyriaco/Offshell/Syst/highmass/MC_18/200205_CutBased/MC_2018/HighMass/ggH165/ZZ4lAnalysis.root\n",
      "LHEweight_QCDscale_muR2_muF1*p_Gen_GG_SIG_kappaTopBot_1_ghz1_1_MCFM*KFactor_QCD_ggZZ_Nominal*((Z1Flav*Z2Flav)==(121*121) ||(Z1Flav*Z2Flav)==(169*169) ||(Z1Flav*Z2Flav)==(121*169)  )*137.1*(ZZMass>=220)*(EventTag==0)*1000*xsec*overallEventWeight*L1prefiringWeight/Bin40\n",
      "LHEweight_QCDscale_muR0p5_muF1*p_Gen_GG_SIG_kappaTopBot_1_ghz1_1_MCFM*KFactor_QCD_ggZZ_Nominal*((Z1Flav*Z2Flav)==(121*121) ||(Z1Flav*Z2Flav)==(169*169) ||(Z1Flav*Z2Flav)==(121*169)  )*137.1*(ZZMass>=220)*(EventTag==0)*1000*xsec*overallEventWeight*L1prefiringWeight/Bin40\n",
      "----------------------\n",
      "up: 2.1836545737460256\n",
      "dn: 2.8490230441093445\n",
      "LHEweight_QCDscale_muR1_muF2*p_Gen_GG_SIG_kappaTopBot_1_ghz1_1_MCFM*KFactor_QCD_ggZZ_Nominal*((Z1Flav*Z2Flav)==(121*121) ||(Z1Flav*Z2Flav)==(169*169) ||(Z1Flav*Z2Flav)==(121*169)  )*137.1*(ZZMass>=220)*(EventTag==0)*1000*xsec*overallEventWeight*L1prefiringWeight/Bin40\n",
      "LHEweight_QCDscale_muR1_muF0p5*p_Gen_GG_SIG_kappaTopBot_1_ghz1_1_MCFM*KFactor_QCD_ggZZ_Nominal*((Z1Flav*Z2Flav)==(121*121) ||(Z1Flav*Z2Flav)==(169*169) ||(Z1Flav*Z2Flav)==(121*169)  )*137.1*(ZZMass>=220)*(EventTag==0)*1000*xsec*overallEventWeight*L1prefiringWeight/Bin40\n",
      "----------------------\n",
      "up: 2.4431049446575344\n",
      "dn: 2.5323798870667815\n",
      "LHEweight_PDFVariation_Up*p_Gen_GG_SIG_kappaTopBot_1_ghz1_1_MCFM*KFactor_QCD_ggZZ_Nominal*((Z1Flav*Z2Flav)==(121*121) ||(Z1Flav*Z2Flav)==(169*169) ||(Z1Flav*Z2Flav)==(121*169)  )*137.1*(ZZMass>=220)*(EventTag==0)*1000*xsec*overallEventWeight*L1prefiringWeight/Bin40\n",
      "LHEweight_PDFVariation_Dn*p_Gen_GG_SIG_kappaTopBot_1_ghz1_1_MCFM*KFactor_QCD_ggZZ_Nominal*((Z1Flav*Z2Flav)==(121*121) ||(Z1Flav*Z2Flav)==(169*169) ||(Z1Flav*Z2Flav)==(121*169)  )*137.1*(ZZMass>=220)*(EventTag==0)*1000*xsec*overallEventWeight*L1prefiringWeight/Bin40\n",
      "----------------------\n",
      "up: 2.5333173316903412\n",
      "dn: 2.4408406876027584\n",
      "LHEweight_AsMZ_Up*p_Gen_GG_SIG_kappaTopBot_1_ghz1_1_MCFM*KFactor_QCD_ggZZ_Nominal*((Z1Flav*Z2Flav)==(121*121) ||(Z1Flav*Z2Flav)==(169*169) ||(Z1Flav*Z2Flav)==(121*169)  )*137.1*(ZZMass>=220)*(EventTag==0)*1000*xsec*overallEventWeight*L1prefiringWeight/Bin40\n",
      "LHEweight_AsMZ_Dn*p_Gen_GG_SIG_kappaTopBot_1_ghz1_1_MCFM*KFactor_QCD_ggZZ_Nominal*((Z1Flav*Z2Flav)==(121*121) ||(Z1Flav*Z2Flav)==(169*169) ||(Z1Flav*Z2Flav)==(121*169)  )*137.1*(ZZMass>=220)*(EventTag==0)*1000*xsec*overallEventWeight*L1prefiringWeight/Bin40\n",
      "----------------------\n",
      "up: 2.5082580810412765\n",
      "dn: 2.4408271335996687\n",
      "PythiaWeight_isr_muR4 * PythiaWeight_fsr_muR4*p_Gen_GG_SIG_kappaTopBot_1_ghz1_1_MCFM*KFactor_QCD_ggZZ_Nominal*((Z1Flav*Z2Flav)==(121*121) ||(Z1Flav*Z2Flav)==(169*169) ||(Z1Flav*Z2Flav)==(121*169)  )*137.1*(ZZMass>=220)*(EventTag==0)*1000*xsec*overallEventWeight*L1prefiringWeight/Bin40\n",
      "PythiaWeight_isr_muR0p25 * PythiaWeight_fsr_muR0p25*p_Gen_GG_SIG_kappaTopBot_1_ghz1_1_MCFM*KFactor_QCD_ggZZ_Nominal*((Z1Flav*Z2Flav)==(121*121) ||(Z1Flav*Z2Flav)==(169*169) ||(Z1Flav*Z2Flav)==(121*169)  )*137.1*(ZZMass>=220)*(EventTag==0)*1000*xsec*overallEventWeight*L1prefiringWeight/Bin40\n",
      "----------------------\n",
      "up: 2.430936125572771\n",
      "dn: 2.5392402284778655\n",
      "om nomnomm: 2.484630823135376\n",
      "here 2.1836545737460256\n",
      "here 2.8490230441093445\n",
      "here 2.4431049446575344\n",
      "here 2.5323798870667815\n",
      "here 2.5333173316903412\n",
      "here 2.4408406876027584\n",
      "here 2.5082580810412765\n",
      "here 2.4408271335996687\n",
      "here 2.430936125572771\n",
      "here 2.5392402284778655\n"
     ]
    },
    {
     "data": {
      "application/vnd.jupyter.widget-view+json": {
       "model_id": "a1b1fcaaecd14a76b4e9f707e8ef1da2",
       "version_major": 2,
       "version_minor": 0
      },
      "text/plain": [
       "  0%|          | 0/1 [00:00<?, ?it/s]"
      ]
     },
     "metadata": {},
     "output_type": "display_data"
    },
    {
     "name": "stdout",
     "output_type": "stream",
     "text": [
      "/eos/user/s/skyriaco/Offshell/Syst/highmass/MC_18/200205_CutBased/MC_2018/HighMass/ggH170/ZZ4lAnalysis.root\n",
      "LHEweight_QCDscale_muR2_muF1*p_Gen_GG_SIG_kappaTopBot_1_ghz1_1_MCFM*KFactor_QCD_ggZZ_Nominal*((Z1Flav*Z2Flav)==(121*121) ||(Z1Flav*Z2Flav)==(169*169) ||(Z1Flav*Z2Flav)==(121*169)  )*137.1*(ZZMass>=220)*(EventTag==0)*1000*xsec*overallEventWeight*L1prefiringWeight/Bin40\n",
      "LHEweight_QCDscale_muR0p5_muF1*p_Gen_GG_SIG_kappaTopBot_1_ghz1_1_MCFM*KFactor_QCD_ggZZ_Nominal*((Z1Flav*Z2Flav)==(121*121) ||(Z1Flav*Z2Flav)==(169*169) ||(Z1Flav*Z2Flav)==(121*169)  )*137.1*(ZZMass>=220)*(EventTag==0)*1000*xsec*overallEventWeight*L1prefiringWeight/Bin40\n",
      "----------------------\n",
      "up: 2.564516783459112\n",
      "dn: 3.3382775257341564\n",
      "LHEweight_QCDscale_muR1_muF2*p_Gen_GG_SIG_kappaTopBot_1_ghz1_1_MCFM*KFactor_QCD_ggZZ_Nominal*((Z1Flav*Z2Flav)==(121*121) ||(Z1Flav*Z2Flav)==(169*169) ||(Z1Flav*Z2Flav)==(121*169)  )*137.1*(ZZMass>=220)*(EventTag==0)*1000*xsec*overallEventWeight*L1prefiringWeight/Bin40\n",
      "LHEweight_QCDscale_muR1_muF0p5*p_Gen_GG_SIG_kappaTopBot_1_ghz1_1_MCFM*KFactor_QCD_ggZZ_Nominal*((Z1Flav*Z2Flav)==(121*121) ||(Z1Flav*Z2Flav)==(169*169) ||(Z1Flav*Z2Flav)==(121*169)  )*137.1*(ZZMass>=220)*(EventTag==0)*1000*xsec*overallEventWeight*L1prefiringWeight/Bin40\n",
      "----------------------\n",
      "up: 2.861194232944399\n",
      "dn: 2.9764239341020584\n",
      "LHEweight_PDFVariation_Up*p_Gen_GG_SIG_kappaTopBot_1_ghz1_1_MCFM*KFactor_QCD_ggZZ_Nominal*((Z1Flav*Z2Flav)==(121*121) ||(Z1Flav*Z2Flav)==(169*169) ||(Z1Flav*Z2Flav)==(121*169)  )*137.1*(ZZMass>=220)*(EventTag==0)*1000*xsec*overallEventWeight*L1prefiringWeight/Bin40\n",
      "LHEweight_PDFVariation_Dn*p_Gen_GG_SIG_kappaTopBot_1_ghz1_1_MCFM*KFactor_QCD_ggZZ_Nominal*((Z1Flav*Z2Flav)==(121*121) ||(Z1Flav*Z2Flav)==(169*169) ||(Z1Flav*Z2Flav)==(121*169)  )*137.1*(ZZMass>=220)*(EventTag==0)*1000*xsec*overallEventWeight*L1prefiringWeight/Bin40\n",
      "----------------------\n",
      "up: 2.9729018853977323\n",
      "dn: 2.8621572754345834\n",
      "LHEweight_AsMZ_Up*p_Gen_GG_SIG_kappaTopBot_1_ghz1_1_MCFM*KFactor_QCD_ggZZ_Nominal*((Z1Flav*Z2Flav)==(121*121) ||(Z1Flav*Z2Flav)==(169*169) ||(Z1Flav*Z2Flav)==(121*169)  )*137.1*(ZZMass>=220)*(EventTag==0)*1000*xsec*overallEventWeight*L1prefiringWeight/Bin40\n",
      "LHEweight_AsMZ_Dn*p_Gen_GG_SIG_kappaTopBot_1_ghz1_1_MCFM*KFactor_QCD_ggZZ_Nominal*((Z1Flav*Z2Flav)==(121*121) ||(Z1Flav*Z2Flav)==(169*169) ||(Z1Flav*Z2Flav)==(121*169)  )*137.1*(ZZMass>=220)*(EventTag==0)*1000*xsec*overallEventWeight*L1prefiringWeight/Bin40\n",
      "----------------------\n",
      "up: 2.9429948776960373\n",
      "dn: 2.8643630142323673\n",
      "PythiaWeight_isr_muR4 * PythiaWeight_fsr_muR4*p_Gen_GG_SIG_kappaTopBot_1_ghz1_1_MCFM*KFactor_QCD_ggZZ_Nominal*((Z1Flav*Z2Flav)==(121*121) ||(Z1Flav*Z2Flav)==(169*169) ||(Z1Flav*Z2Flav)==(121*169)  )*137.1*(ZZMass>=220)*(EventTag==0)*1000*xsec*overallEventWeight*L1prefiringWeight/Bin40\n",
      "PythiaWeight_isr_muR0p25 * PythiaWeight_fsr_muR0p25*p_Gen_GG_SIG_kappaTopBot_1_ghz1_1_MCFM*KFactor_QCD_ggZZ_Nominal*((Z1Flav*Z2Flav)==(121*121) ||(Z1Flav*Z2Flav)==(169*169) ||(Z1Flav*Z2Flav)==(121*169)  )*137.1*(ZZMass>=220)*(EventTag==0)*1000*xsec*overallEventWeight*L1prefiringWeight/Bin40\n",
      "----------------------\n",
      "up: 2.95857353345491\n",
      "dn: 2.692708841423155\n",
      "om nomnomm: 2.9148264206014574\n",
      "here 2.564516783459112\n",
      "here 3.3382775257341564\n",
      "here 2.861194232944399\n",
      "here 2.9764239341020584\n",
      "here 2.9729018853977323\n",
      "here 2.8621572754345834\n",
      "here 2.9429948776960373\n",
      "here 2.8643630142323673\n",
      "here 2.95857353345491\n",
      "here 2.692708841423155\n"
     ]
    },
    {
     "data": {
      "application/vnd.jupyter.widget-view+json": {
       "model_id": "6a7221a21a4a423f9df9d7b8422d30d8",
       "version_major": 2,
       "version_minor": 0
      },
      "text/plain": [
       "  0%|          | 0/1 [00:00<?, ?it/s]"
      ]
     },
     "metadata": {},
     "output_type": "display_data"
    },
    {
     "name": "stdout",
     "output_type": "stream",
     "text": [
      "/eos/user/s/skyriaco/Offshell/Syst/highmass/MC_18/200205_CutBased/MC_2018/HighMass/ggH175/ZZ4lAnalysis.root\n",
      "LHEweight_QCDscale_muR2_muF1*p_Gen_GG_SIG_kappaTopBot_1_ghz1_1_MCFM*KFactor_QCD_ggZZ_Nominal*((Z1Flav*Z2Flav)==(121*121) ||(Z1Flav*Z2Flav)==(169*169) ||(Z1Flav*Z2Flav)==(121*169)  )*137.1*(ZZMass>=220)*(EventTag==0)*1000*xsec*overallEventWeight*L1prefiringWeight/Bin40\n",
      "LHEweight_QCDscale_muR0p5_muF1*p_Gen_GG_SIG_kappaTopBot_1_ghz1_1_MCFM*KFactor_QCD_ggZZ_Nominal*((Z1Flav*Z2Flav)==(121*121) ||(Z1Flav*Z2Flav)==(169*169) ||(Z1Flav*Z2Flav)==(121*169)  )*137.1*(ZZMass>=220)*(EventTag==0)*1000*xsec*overallEventWeight*L1prefiringWeight/Bin40\n",
      "----------------------\n",
      "up: 3.9181536538526416\n",
      "dn: 5.016849269159138\n",
      "LHEweight_QCDscale_muR1_muF2*p_Gen_GG_SIG_kappaTopBot_1_ghz1_1_MCFM*KFactor_QCD_ggZZ_Nominal*((Z1Flav*Z2Flav)==(121*121) ||(Z1Flav*Z2Flav)==(169*169) ||(Z1Flav*Z2Flav)==(121*169)  )*137.1*(ZZMass>=220)*(EventTag==0)*1000*xsec*overallEventWeight*L1prefiringWeight/Bin40\n",
      "LHEweight_QCDscale_muR1_muF0p5*p_Gen_GG_SIG_kappaTopBot_1_ghz1_1_MCFM*KFactor_QCD_ggZZ_Nominal*((Z1Flav*Z2Flav)==(121*121) ||(Z1Flav*Z2Flav)==(169*169) ||(Z1Flav*Z2Flav)==(121*169)  )*137.1*(ZZMass>=220)*(EventTag==0)*1000*xsec*overallEventWeight*L1prefiringWeight/Bin40\n",
      "----------------------\n",
      "up: 4.3385269390419126\n",
      "dn: 4.5160181019455194\n",
      "LHEweight_PDFVariation_Up*p_Gen_GG_SIG_kappaTopBot_1_ghz1_1_MCFM*KFactor_QCD_ggZZ_Nominal*((Z1Flav*Z2Flav)==(121*121) ||(Z1Flav*Z2Flav)==(169*169) ||(Z1Flav*Z2Flav)==(121*169)  )*137.1*(ZZMass>=220)*(EventTag==0)*1000*xsec*overallEventWeight*L1prefiringWeight/Bin40\n",
      "LHEweight_PDFVariation_Dn*p_Gen_GG_SIG_kappaTopBot_1_ghz1_1_MCFM*KFactor_QCD_ggZZ_Nominal*((Z1Flav*Z2Flav)==(121*121) ||(Z1Flav*Z2Flav)==(169*169) ||(Z1Flav*Z2Flav)==(121*169)  )*137.1*(ZZMass>=220)*(EventTag==0)*1000*xsec*overallEventWeight*L1prefiringWeight/Bin40\n",
      "----------------------\n",
      "up: 4.51212240755558\n",
      "dn: 4.339185702614486\n",
      "LHEweight_AsMZ_Up*p_Gen_GG_SIG_kappaTopBot_1_ghz1_1_MCFM*KFactor_QCD_ggZZ_Nominal*((Z1Flav*Z2Flav)==(121*121) ||(Z1Flav*Z2Flav)==(169*169) ||(Z1Flav*Z2Flav)==(121*169)  )*137.1*(ZZMass>=220)*(EventTag==0)*1000*xsec*overallEventWeight*L1prefiringWeight/Bin40\n",
      "LHEweight_AsMZ_Dn*p_Gen_GG_SIG_kappaTopBot_1_ghz1_1_MCFM*KFactor_QCD_ggZZ_Nominal*((Z1Flav*Z2Flav)==(121*121) ||(Z1Flav*Z2Flav)==(169*169) ||(Z1Flav*Z2Flav)==(121*169)  )*137.1*(ZZMass>=220)*(EventTag==0)*1000*xsec*overallEventWeight*L1prefiringWeight/Bin40\n",
      "----------------------\n",
      "up: 4.46124785207212\n",
      "dn: 4.345548533834517\n",
      "PythiaWeight_isr_muR4 * PythiaWeight_fsr_muR4*p_Gen_GG_SIG_kappaTopBot_1_ghz1_1_MCFM*KFactor_QCD_ggZZ_Nominal*((Z1Flav*Z2Flav)==(121*121) ||(Z1Flav*Z2Flav)==(169*169) ||(Z1Flav*Z2Flav)==(121*169)  )*137.1*(ZZMass>=220)*(EventTag==0)*1000*xsec*overallEventWeight*L1prefiringWeight/Bin40\n",
      "PythiaWeight_isr_muR0p25 * PythiaWeight_fsr_muR0p25*p_Gen_GG_SIG_kappaTopBot_1_ghz1_1_MCFM*KFactor_QCD_ggZZ_Nominal*((Z1Flav*Z2Flav)==(121*121) ||(Z1Flav*Z2Flav)==(169*169) ||(Z1Flav*Z2Flav)==(121*169)  )*137.1*(ZZMass>=220)*(EventTag==0)*1000*xsec*overallEventWeight*L1prefiringWeight/Bin40\n",
      "----------------------\n",
      "up: 4.429524222854525\n",
      "dn: 4.047943332698196\n",
      "om nomnomm: 4.42107443138957\n",
      "here 3.9181536538526416\n",
      "here 5.016849269159138\n",
      "here 4.3385269390419126\n",
      "here 4.5160181019455194\n",
      "here 4.51212240755558\n",
      "here 4.339185702614486\n",
      "here 4.46124785207212\n",
      "here 4.345548533834517\n",
      "here 4.429524222854525\n",
      "here 4.047943332698196\n"
     ]
    },
    {
     "data": {
      "application/vnd.jupyter.widget-view+json": {
       "model_id": "123e4516a5d4448492a015111f9e3f92",
       "version_major": 2,
       "version_minor": 0
      },
      "text/plain": [
       "  0%|          | 0/1 [00:00<?, ?it/s]"
      ]
     },
     "metadata": {},
     "output_type": "display_data"
    },
    {
     "name": "stdout",
     "output_type": "stream",
     "text": [
      "/eos/user/s/skyriaco/Offshell/Syst/highmass/MC_18/200205_CutBased/MC_2018/HighMass/ggH180/ZZ4lAnalysis.root\n",
      "LHEweight_QCDscale_muR2_muF1*p_Gen_GG_SIG_kappaTopBot_1_ghz1_1_MCFM*KFactor_QCD_ggZZ_Nominal*((Z1Flav*Z2Flav)==(121*121) ||(Z1Flav*Z2Flav)==(169*169) ||(Z1Flav*Z2Flav)==(121*169)  )*137.1*(ZZMass>=220)*(EventTag==0)*1000*xsec*overallEventWeight*L1prefiringWeight/Bin40\n",
      "LHEweight_QCDscale_muR0p5_muF1*p_Gen_GG_SIG_kappaTopBot_1_ghz1_1_MCFM*KFactor_QCD_ggZZ_Nominal*((Z1Flav*Z2Flav)==(121*121) ||(Z1Flav*Z2Flav)==(169*169) ||(Z1Flav*Z2Flav)==(121*169)  )*137.1*(ZZMass>=220)*(EventTag==0)*1000*xsec*overallEventWeight*L1prefiringWeight/Bin40\n",
      "----------------------\n",
      "up: 7.322796748485416\n",
      "dn: 9.412222120445222\n",
      "LHEweight_QCDscale_muR1_muF2*p_Gen_GG_SIG_kappaTopBot_1_ghz1_1_MCFM*KFactor_QCD_ggZZ_Nominal*((Z1Flav*Z2Flav)==(121*121) ||(Z1Flav*Z2Flav)==(169*169) ||(Z1Flav*Z2Flav)==(121*169)  )*137.1*(ZZMass>=220)*(EventTag==0)*1000*xsec*overallEventWeight*L1prefiringWeight/Bin40\n",
      "LHEweight_QCDscale_muR1_muF0p5*p_Gen_GG_SIG_kappaTopBot_1_ghz1_1_MCFM*KFactor_QCD_ggZZ_Nominal*((Z1Flav*Z2Flav)==(121*121) ||(Z1Flav*Z2Flav)==(169*169) ||(Z1Flav*Z2Flav)==(121*169)  )*137.1*(ZZMass>=220)*(EventTag==0)*1000*xsec*overallEventWeight*L1prefiringWeight/Bin40\n",
      "----------------------\n",
      "up: 8.097167673986405\n",
      "dn: 8.48194379126653\n",
      "LHEweight_PDFVariation_Up*p_Gen_GG_SIG_kappaTopBot_1_ghz1_1_MCFM*KFactor_QCD_ggZZ_Nominal*((Z1Flav*Z2Flav)==(121*121) ||(Z1Flav*Z2Flav)==(169*169) ||(Z1Flav*Z2Flav)==(121*169)  )*137.1*(ZZMass>=220)*(EventTag==0)*1000*xsec*overallEventWeight*L1prefiringWeight/Bin40\n",
      "LHEweight_PDFVariation_Dn*p_Gen_GG_SIG_kappaTopBot_1_ghz1_1_MCFM*KFactor_QCD_ggZZ_Nominal*((Z1Flav*Z2Flav)==(121*121) ||(Z1Flav*Z2Flav)==(169*169) ||(Z1Flav*Z2Flav)==(121*169)  )*137.1*(ZZMass>=220)*(EventTag==0)*1000*xsec*overallEventWeight*L1prefiringWeight/Bin40\n",
      "----------------------\n",
      "up: 8.451957676094025\n",
      "dn: 8.116224707104266\n",
      "LHEweight_AsMZ_Up*p_Gen_GG_SIG_kappaTopBot_1_ghz1_1_MCFM*KFactor_QCD_ggZZ_Nominal*((Z1Flav*Z2Flav)==(121*121) ||(Z1Flav*Z2Flav)==(169*169) ||(Z1Flav*Z2Flav)==(121*169)  )*137.1*(ZZMass>=220)*(EventTag==0)*1000*xsec*overallEventWeight*L1prefiringWeight/Bin40\n",
      "LHEweight_AsMZ_Dn*p_Gen_GG_SIG_kappaTopBot_1_ghz1_1_MCFM*KFactor_QCD_ggZZ_Nominal*((Z1Flav*Z2Flav)==(121*121) ||(Z1Flav*Z2Flav)==(169*169) ||(Z1Flav*Z2Flav)==(121*169)  )*137.1*(ZZMass>=220)*(EventTag==0)*1000*xsec*overallEventWeight*L1prefiringWeight/Bin40\n",
      "----------------------\n",
      "up: 8.353657172527164\n",
      "dn: 8.134751594625413\n",
      "PythiaWeight_isr_muR4 * PythiaWeight_fsr_muR4*p_Gen_GG_SIG_kappaTopBot_1_ghz1_1_MCFM*KFactor_QCD_ggZZ_Nominal*((Z1Flav*Z2Flav)==(121*121) ||(Z1Flav*Z2Flav)==(169*169) ||(Z1Flav*Z2Flav)==(121*169)  )*137.1*(ZZMass>=220)*(EventTag==0)*1000*xsec*overallEventWeight*L1prefiringWeight/Bin40\n",
      "PythiaWeight_isr_muR0p25 * PythiaWeight_fsr_muR0p25*p_Gen_GG_SIG_kappaTopBot_1_ghz1_1_MCFM*KFactor_QCD_ggZZ_Nominal*((Z1Flav*Z2Flav)==(121*121) ||(Z1Flav*Z2Flav)==(169*169) ||(Z1Flav*Z2Flav)==(121*169)  )*137.1*(ZZMass>=220)*(EventTag==0)*1000*xsec*overallEventWeight*L1prefiringWeight/Bin40\n",
      "----------------------\n",
      "up: 8.273184619378299\n",
      "dn: 8.784144813922467\n",
      "om nomnomm: 8.275781292002648\n",
      "here 7.322796748485416\n",
      "here 9.412222120445222\n",
      "here 8.097167673986405\n",
      "here 8.48194379126653\n",
      "here 8.451957676094025\n",
      "here 8.116224707104266\n",
      "here 8.353657172527164\n",
      "here 8.134751594625413\n",
      "here 8.273184619378299\n",
      "here 8.784144813922467\n"
     ]
    },
    {
     "data": {
      "application/vnd.jupyter.widget-view+json": {
       "model_id": "b2876091b3d6456489cfe782a6375c6e",
       "version_major": 2,
       "version_minor": 0
      },
      "text/plain": [
       "  0%|          | 0/1 [00:00<?, ?it/s]"
      ]
     },
     "metadata": {},
     "output_type": "display_data"
    },
    {
     "name": "stdout",
     "output_type": "stream",
     "text": [
      "/eos/user/s/skyriaco/Offshell/Syst/highmass/MC_18/200205_CutBased/MC_2018/HighMass/ggH190/ZZ4lAnalysis.root\n",
      "LHEweight_QCDscale_muR2_muF1*p_Gen_GG_SIG_kappaTopBot_1_ghz1_1_MCFM*KFactor_QCD_ggZZ_Nominal*((Z1Flav*Z2Flav)==(121*121) ||(Z1Flav*Z2Flav)==(169*169) ||(Z1Flav*Z2Flav)==(121*169)  )*137.1*(ZZMass>=220)*(EventTag==0)*1000*xsec*overallEventWeight*L1prefiringWeight/Bin40\n",
      "LHEweight_QCDscale_muR0p5_muF1*p_Gen_GG_SIG_kappaTopBot_1_ghz1_1_MCFM*KFactor_QCD_ggZZ_Nominal*((Z1Flav*Z2Flav)==(121*121) ||(Z1Flav*Z2Flav)==(169*169) ||(Z1Flav*Z2Flav)==(121*169)  )*137.1*(ZZMass>=220)*(EventTag==0)*1000*xsec*overallEventWeight*L1prefiringWeight/Bin40\n",
      "----------------------\n",
      "up: 30.892383459955454\n",
      "dn: 39.65988405048847\n",
      "LHEweight_QCDscale_muR1_muF2*p_Gen_GG_SIG_kappaTopBot_1_ghz1_1_MCFM*KFactor_QCD_ggZZ_Nominal*((Z1Flav*Z2Flav)==(121*121) ||(Z1Flav*Z2Flav)==(169*169) ||(Z1Flav*Z2Flav)==(121*169)  )*137.1*(ZZMass>=220)*(EventTag==0)*1000*xsec*overallEventWeight*L1prefiringWeight/Bin40\n",
      "LHEweight_QCDscale_muR1_muF0p5*p_Gen_GG_SIG_kappaTopBot_1_ghz1_1_MCFM*KFactor_QCD_ggZZ_Nominal*((Z1Flav*Z2Flav)==(121*121) ||(Z1Flav*Z2Flav)==(169*169) ||(Z1Flav*Z2Flav)==(121*169)  )*137.1*(ZZMass>=220)*(EventTag==0)*1000*xsec*overallEventWeight*L1prefiringWeight/Bin40\n",
      "----------------------\n",
      "up: 34.14523236826062\n",
      "dn: 35.76213288679719\n",
      "LHEweight_PDFVariation_Up*p_Gen_GG_SIG_kappaTopBot_1_ghz1_1_MCFM*KFactor_QCD_ggZZ_Nominal*((Z1Flav*Z2Flav)==(121*121) ||(Z1Flav*Z2Flav)==(169*169) ||(Z1Flav*Z2Flav)==(121*169)  )*137.1*(ZZMass>=220)*(EventTag==0)*1000*xsec*overallEventWeight*L1prefiringWeight/Bin40\n",
      "LHEweight_PDFVariation_Dn*p_Gen_GG_SIG_kappaTopBot_1_ghz1_1_MCFM*KFactor_QCD_ggZZ_Nominal*((Z1Flav*Z2Flav)==(121*121) ||(Z1Flav*Z2Flav)==(169*169) ||(Z1Flav*Z2Flav)==(121*169)  )*137.1*(ZZMass>=220)*(EventTag==0)*1000*xsec*overallEventWeight*L1prefiringWeight/Bin40\n",
      "----------------------\n",
      "up: 35.65706313401461\n",
      "dn: 34.208779364824295\n",
      "LHEweight_AsMZ_Up*p_Gen_GG_SIG_kappaTopBot_1_ghz1_1_MCFM*KFactor_QCD_ggZZ_Nominal*((Z1Flav*Z2Flav)==(121*121) ||(Z1Flav*Z2Flav)==(169*169) ||(Z1Flav*Z2Flav)==(121*169)  )*137.1*(ZZMass>=220)*(EventTag==0)*1000*xsec*overallEventWeight*L1prefiringWeight/Bin40\n",
      "LHEweight_AsMZ_Dn*p_Gen_GG_SIG_kappaTopBot_1_ghz1_1_MCFM*KFactor_QCD_ggZZ_Nominal*((Z1Flav*Z2Flav)==(121*121) ||(Z1Flav*Z2Flav)==(169*169) ||(Z1Flav*Z2Flav)==(121*169)  )*137.1*(ZZMass>=220)*(EventTag==0)*1000*xsec*overallEventWeight*L1prefiringWeight/Bin40\n",
      "----------------------\n",
      "up: 35.217141322791576\n",
      "dn: 34.303322147578\n",
      "PythiaWeight_isr_muR4 * PythiaWeight_fsr_muR4*p_Gen_GG_SIG_kappaTopBot_1_ghz1_1_MCFM*KFactor_QCD_ggZZ_Nominal*((Z1Flav*Z2Flav)==(121*121) ||(Z1Flav*Z2Flav)==(169*169) ||(Z1Flav*Z2Flav)==(121*169)  )*137.1*(ZZMass>=220)*(EventTag==0)*1000*xsec*overallEventWeight*L1prefiringWeight/Bin40\n",
      "PythiaWeight_isr_muR0p25 * PythiaWeight_fsr_muR0p25*p_Gen_GG_SIG_kappaTopBot_1_ghz1_1_MCFM*KFactor_QCD_ggZZ_Nominal*((Z1Flav*Z2Flav)==(121*121) ||(Z1Flav*Z2Flav)==(169*169) ||(Z1Flav*Z2Flav)==(121*169)  )*137.1*(ZZMass>=220)*(EventTag==0)*1000*xsec*overallEventWeight*L1prefiringWeight/Bin40\n",
      "----------------------\n",
      "up: 35.55656412243843\n",
      "dn: 34.38907436653972\n",
      "om nomnomm: 34.89644879102707\n",
      "here 30.892383459955454\n",
      "here 39.65988405048847\n",
      "here 34.14523236826062\n",
      "here 35.76213288679719\n",
      "here 35.65706313401461\n",
      "here 34.208779364824295\n",
      "here 35.217141322791576\n",
      "here 34.303322147578\n",
      "here 35.55656412243843\n",
      "here 34.38907436653972\n"
     ]
    },
    {
     "data": {
      "application/vnd.jupyter.widget-view+json": {
       "model_id": "26935d2141c945e5abd419e0a3d06f1e",
       "version_major": 2,
       "version_minor": 0
      },
      "text/plain": [
       "  0%|          | 0/1 [00:00<?, ?it/s]"
      ]
     },
     "metadata": {},
     "output_type": "display_data"
    },
    {
     "name": "stdout",
     "output_type": "stream",
     "text": [
      "/eos/user/s/skyriaco/Offshell/Syst/highmass/MC_18/200205_CutBased/MC_2018/HighMass/ggH200/ZZ4lAnalysis.root\n",
      "LHEweight_QCDscale_muR2_muF1*p_Gen_GG_SIG_kappaTopBot_1_ghz1_1_MCFM*KFactor_QCD_ggZZ_Nominal*((Z1Flav*Z2Flav)==(121*121) ||(Z1Flav*Z2Flav)==(169*169) ||(Z1Flav*Z2Flav)==(121*169)  )*137.1*(ZZMass>=220)*(EventTag==0)*1000*xsec*overallEventWeight*L1prefiringWeight/Bin40\n",
      "LHEweight_QCDscale_muR0p5_muF1*p_Gen_GG_SIG_kappaTopBot_1_ghz1_1_MCFM*KFactor_QCD_ggZZ_Nominal*((Z1Flav*Z2Flav)==(121*121) ||(Z1Flav*Z2Flav)==(169*169) ||(Z1Flav*Z2Flav)==(121*169)  )*137.1*(ZZMass>=220)*(EventTag==0)*1000*xsec*overallEventWeight*L1prefiringWeight/Bin40\n",
      "----------------------\n",
      "up: 32.2606862206012\n",
      "dn: 41.659838415682316\n",
      "LHEweight_QCDscale_muR1_muF2*p_Gen_GG_SIG_kappaTopBot_1_ghz1_1_MCFM*KFactor_QCD_ggZZ_Nominal*((Z1Flav*Z2Flav)==(121*121) ||(Z1Flav*Z2Flav)==(169*169) ||(Z1Flav*Z2Flav)==(121*169)  )*137.1*(ZZMass>=220)*(EventTag==0)*1000*xsec*overallEventWeight*L1prefiringWeight/Bin40\n",
      "LHEweight_QCDscale_muR1_muF0p5*p_Gen_GG_SIG_kappaTopBot_1_ghz1_1_MCFM*KFactor_QCD_ggZZ_Nominal*((Z1Flav*Z2Flav)==(121*121) ||(Z1Flav*Z2Flav)==(169*169) ||(Z1Flav*Z2Flav)==(121*169)  )*137.1*(ZZMass>=220)*(EventTag==0)*1000*xsec*overallEventWeight*L1prefiringWeight/Bin40\n",
      "----------------------\n",
      "up: 35.782285161316395\n",
      "dn: 37.40948511008173\n",
      "LHEweight_PDFVariation_Up*p_Gen_GG_SIG_kappaTopBot_1_ghz1_1_MCFM*KFactor_QCD_ggZZ_Nominal*((Z1Flav*Z2Flav)==(121*121) ||(Z1Flav*Z2Flav)==(169*169) ||(Z1Flav*Z2Flav)==(121*169)  )*137.1*(ZZMass>=220)*(EventTag==0)*1000*xsec*overallEventWeight*L1prefiringWeight/Bin40\n",
      "LHEweight_PDFVariation_Dn*p_Gen_GG_SIG_kappaTopBot_1_ghz1_1_MCFM*KFactor_QCD_ggZZ_Nominal*((Z1Flav*Z2Flav)==(121*121) ||(Z1Flav*Z2Flav)==(169*169) ||(Z1Flav*Z2Flav)==(121*169)  )*137.1*(ZZMass>=220)*(EventTag==0)*1000*xsec*overallEventWeight*L1prefiringWeight/Bin40\n",
      "----------------------\n",
      "up: 37.309797605499625\n",
      "dn: 35.834657821804285\n",
      "LHEweight_AsMZ_Up*p_Gen_GG_SIG_kappaTopBot_1_ghz1_1_MCFM*KFactor_QCD_ggZZ_Nominal*((Z1Flav*Z2Flav)==(121*121) ||(Z1Flav*Z2Flav)==(169*169) ||(Z1Flav*Z2Flav)==(121*169)  )*137.1*(ZZMass>=220)*(EventTag==0)*1000*xsec*overallEventWeight*L1prefiringWeight/Bin40\n",
      "LHEweight_AsMZ_Dn*p_Gen_GG_SIG_kappaTopBot_1_ghz1_1_MCFM*KFactor_QCD_ggZZ_Nominal*((Z1Flav*Z2Flav)==(121*121) ||(Z1Flav*Z2Flav)==(169*169) ||(Z1Flav*Z2Flav)==(121*169)  )*137.1*(ZZMass>=220)*(EventTag==0)*1000*xsec*overallEventWeight*L1prefiringWeight/Bin40\n",
      "----------------------\n",
      "up: 36.89386704657227\n",
      "dn: 35.899607808329165\n",
      "PythiaWeight_isr_muR4 * PythiaWeight_fsr_muR4*p_Gen_GG_SIG_kappaTopBot_1_ghz1_1_MCFM*KFactor_QCD_ggZZ_Nominal*((Z1Flav*Z2Flav)==(121*121) ||(Z1Flav*Z2Flav)==(169*169) ||(Z1Flav*Z2Flav)==(121*169)  )*137.1*(ZZMass>=220)*(EventTag==0)*1000*xsec*overallEventWeight*L1prefiringWeight/Bin40\n",
      "PythiaWeight_isr_muR0p25 * PythiaWeight_fsr_muR0p25*p_Gen_GG_SIG_kappaTopBot_1_ghz1_1_MCFM*KFactor_QCD_ggZZ_Nominal*((Z1Flav*Z2Flav)==(121*121) ||(Z1Flav*Z2Flav)==(169*169) ||(Z1Flav*Z2Flav)==(121*169)  )*137.1*(ZZMass>=220)*(EventTag==0)*1000*xsec*overallEventWeight*L1prefiringWeight/Bin40\n",
      "----------------------\n",
      "up: 36.01711555942893\n",
      "dn: 44.61634421214694\n",
      "om nomnomm: 36.53653696551919\n",
      "here 32.2606862206012\n",
      "here 41.659838415682316\n",
      "here 35.782285161316395\n",
      "here 37.40948511008173\n",
      "here 37.309797605499625\n",
      "here 35.834657821804285\n",
      "here 36.89386704657227\n",
      "here 35.899607808329165\n",
      "here 36.01711555942893\n",
      "here 44.61634421214694\n"
     ]
    },
    {
     "data": {
      "application/vnd.jupyter.widget-view+json": {
       "model_id": "927678272f824116aaa1e5a3800e0711",
       "version_major": 2,
       "version_minor": 0
      },
      "text/plain": [
       "  0%|          | 0/1 [00:00<?, ?it/s]"
      ]
     },
     "metadata": {},
     "output_type": "display_data"
    },
    {
     "name": "stdout",
     "output_type": "stream",
     "text": [
      "/eos/user/s/skyriaco/Offshell/Syst/highmass/MC_18/200205_CutBased/MC_2018/HighMass/ggH2000/ZZ4lAnalysis.root\n",
      "LHEweight_QCDscale_muR2_muF1*p_Gen_GG_SIG_kappaTopBot_1_ghz1_1_MCFM*KFactor_QCD_ggZZ_Nominal*((Z1Flav*Z2Flav)==(121*121) ||(Z1Flav*Z2Flav)==(169*169) ||(Z1Flav*Z2Flav)==(121*169)  )*137.1*(ZZMass>=220)*(EventTag==0)*1000*xsec*overallEventWeight*L1prefiringWeight/Bin40\n",
      "LHEweight_QCDscale_muR0p5_muF1*p_Gen_GG_SIG_kappaTopBot_1_ghz1_1_MCFM*KFactor_QCD_ggZZ_Nominal*((Z1Flav*Z2Flav)==(121*121) ||(Z1Flav*Z2Flav)==(169*169) ||(Z1Flav*Z2Flav)==(121*169)  )*137.1*(ZZMass>=220)*(EventTag==0)*1000*xsec*overallEventWeight*L1prefiringWeight/Bin40\n",
      "----------------------\n",
      "up: 793.3590533928946\n",
      "dn: 1023.2641910980456\n",
      "LHEweight_QCDscale_muR1_muF2*p_Gen_GG_SIG_kappaTopBot_1_ghz1_1_MCFM*KFactor_QCD_ggZZ_Nominal*((Z1Flav*Z2Flav)==(121*121) ||(Z1Flav*Z2Flav)==(169*169) ||(Z1Flav*Z2Flav)==(121*169)  )*137.1*(ZZMass>=220)*(EventTag==0)*1000*xsec*overallEventWeight*L1prefiringWeight/Bin40\n",
      "LHEweight_QCDscale_muR1_muF0p5*p_Gen_GG_SIG_kappaTopBot_1_ghz1_1_MCFM*KFactor_QCD_ggZZ_Nominal*((Z1Flav*Z2Flav)==(121*121) ||(Z1Flav*Z2Flav)==(169*169) ||(Z1Flav*Z2Flav)==(121*169)  )*137.1*(ZZMass>=220)*(EventTag==0)*1000*xsec*overallEventWeight*L1prefiringWeight/Bin40\n",
      "----------------------\n",
      "up: 877.2844062726945\n",
      "dn: 921.7588575277478\n",
      "LHEweight_PDFVariation_Up*p_Gen_GG_SIG_kappaTopBot_1_ghz1_1_MCFM*KFactor_QCD_ggZZ_Nominal*((Z1Flav*Z2Flav)==(121*121) ||(Z1Flav*Z2Flav)==(169*169) ||(Z1Flav*Z2Flav)==(121*169)  )*137.1*(ZZMass>=220)*(EventTag==0)*1000*xsec*overallEventWeight*L1prefiringWeight/Bin40\n",
      "LHEweight_PDFVariation_Dn*p_Gen_GG_SIG_kappaTopBot_1_ghz1_1_MCFM*KFactor_QCD_ggZZ_Nominal*((Z1Flav*Z2Flav)==(121*121) ||(Z1Flav*Z2Flav)==(169*169) ||(Z1Flav*Z2Flav)==(121*169)  )*137.1*(ZZMass>=220)*(EventTag==0)*1000*xsec*overallEventWeight*L1prefiringWeight/Bin40\n",
      "----------------------\n",
      "up: 915.948437132407\n",
      "dn: 881.7638265229762\n",
      "LHEweight_AsMZ_Up*p_Gen_GG_SIG_kappaTopBot_1_ghz1_1_MCFM*KFactor_QCD_ggZZ_Nominal*((Z1Flav*Z2Flav)==(121*121) ||(Z1Flav*Z2Flav)==(169*169) ||(Z1Flav*Z2Flav)==(121*169)  )*137.1*(ZZMass>=220)*(EventTag==0)*1000*xsec*overallEventWeight*L1prefiringWeight/Bin40\n",
      "LHEweight_AsMZ_Dn*p_Gen_GG_SIG_kappaTopBot_1_ghz1_1_MCFM*KFactor_QCD_ggZZ_Nominal*((Z1Flav*Z2Flav)==(121*121) ||(Z1Flav*Z2Flav)==(169*169) ||(Z1Flav*Z2Flav)==(121*169)  )*137.1*(ZZMass>=220)*(EventTag==0)*1000*xsec*overallEventWeight*L1prefiringWeight/Bin40\n",
      "----------------------\n",
      "up: 906.734198210761\n",
      "dn: 882.4901396217756\n",
      "PythiaWeight_isr_muR4 * PythiaWeight_fsr_muR4*p_Gen_GG_SIG_kappaTopBot_1_ghz1_1_MCFM*KFactor_QCD_ggZZ_Nominal*((Z1Flav*Z2Flav)==(121*121) ||(Z1Flav*Z2Flav)==(169*169) ||(Z1Flav*Z2Flav)==(121*169)  )*137.1*(ZZMass>=220)*(EventTag==0)*1000*xsec*overallEventWeight*L1prefiringWeight/Bin40\n",
      "PythiaWeight_isr_muR0p25 * PythiaWeight_fsr_muR0p25*p_Gen_GG_SIG_kappaTopBot_1_ghz1_1_MCFM*KFactor_QCD_ggZZ_Nominal*((Z1Flav*Z2Flav)==(121*121) ||(Z1Flav*Z2Flav)==(169*169) ||(Z1Flav*Z2Flav)==(121*169)  )*137.1*(ZZMass>=220)*(EventTag==0)*1000*xsec*overallEventWeight*L1prefiringWeight/Bin40\n",
      "----------------------\n",
      "up: 909.1049424856901\n",
      "dn: 869.2088949559256\n",
      "om nomnomm: 897.9688116754405\n",
      "here 793.3590533928946\n",
      "here 1023.2641910980456\n",
      "here 877.2844062726945\n",
      "here 921.7588575277478\n",
      "here 915.948437132407\n",
      "here 881.7638265229762\n",
      "here 906.734198210761\n",
      "here 882.4901396217756\n",
      "here 909.1049424856901\n",
      "here 869.2088949559256\n"
     ]
    },
    {
     "data": {
      "application/vnd.jupyter.widget-view+json": {
       "model_id": "1c431f35f2944e498268c2422c18cd63",
       "version_major": 2,
       "version_minor": 0
      },
      "text/plain": [
       "  0%|          | 0/1 [00:00<?, ?it/s]"
      ]
     },
     "metadata": {},
     "output_type": "display_data"
    },
    {
     "name": "stdout",
     "output_type": "stream",
     "text": [
      "/eos/user/s/skyriaco/Offshell/Syst/highmass/MC_18/200205_CutBased/MC_2018/HighMass/ggH210/ZZ4lAnalysis.root\n",
      "LHEweight_QCDscale_muR2_muF1*p_Gen_GG_SIG_kappaTopBot_1_ghz1_1_MCFM*KFactor_QCD_ggZZ_Nominal*((Z1Flav*Z2Flav)==(121*121) ||(Z1Flav*Z2Flav)==(169*169) ||(Z1Flav*Z2Flav)==(121*169)  )*137.1*(ZZMass>=220)*(EventTag==0)*1000*xsec*overallEventWeight*L1prefiringWeight/Bin40\n",
      "LHEweight_QCDscale_muR0p5_muF1*p_Gen_GG_SIG_kappaTopBot_1_ghz1_1_MCFM*KFactor_QCD_ggZZ_Nominal*((Z1Flav*Z2Flav)==(121*121) ||(Z1Flav*Z2Flav)==(169*169) ||(Z1Flav*Z2Flav)==(121*169)  )*137.1*(ZZMass>=220)*(EventTag==0)*1000*xsec*overallEventWeight*L1prefiringWeight/Bin40\n",
      "----------------------\n",
      "up: 29.1259393831715\n",
      "dn: 37.31981978286058\n",
      "LHEweight_QCDscale_muR1_muF2*p_Gen_GG_SIG_kappaTopBot_1_ghz1_1_MCFM*KFactor_QCD_ggZZ_Nominal*((Z1Flav*Z2Flav)==(121*121) ||(Z1Flav*Z2Flav)==(169*169) ||(Z1Flav*Z2Flav)==(121*169)  )*137.1*(ZZMass>=220)*(EventTag==0)*1000*xsec*overallEventWeight*L1prefiringWeight/Bin40\n",
      "LHEweight_QCDscale_muR1_muF0p5*p_Gen_GG_SIG_kappaTopBot_1_ghz1_1_MCFM*KFactor_QCD_ggZZ_Nominal*((Z1Flav*Z2Flav)==(121*121) ||(Z1Flav*Z2Flav)==(169*169) ||(Z1Flav*Z2Flav)==(121*169)  )*137.1*(ZZMass>=220)*(EventTag==0)*1000*xsec*overallEventWeight*L1prefiringWeight/Bin40\n",
      "----------------------\n",
      "up: 32.20367878861725\n",
      "dn: 33.64513761550188\n",
      "LHEweight_PDFVariation_Up*p_Gen_GG_SIG_kappaTopBot_1_ghz1_1_MCFM*KFactor_QCD_ggZZ_Nominal*((Z1Flav*Z2Flav)==(121*121) ||(Z1Flav*Z2Flav)==(169*169) ||(Z1Flav*Z2Flav)==(121*169)  )*137.1*(ZZMass>=220)*(EventTag==0)*1000*xsec*overallEventWeight*L1prefiringWeight/Bin40\n",
      "LHEweight_PDFVariation_Dn*p_Gen_GG_SIG_kappaTopBot_1_ghz1_1_MCFM*KFactor_QCD_ggZZ_Nominal*((Z1Flav*Z2Flav)==(121*121) ||(Z1Flav*Z2Flav)==(169*169) ||(Z1Flav*Z2Flav)==(121*169)  )*137.1*(ZZMass>=220)*(EventTag==0)*1000*xsec*overallEventWeight*L1prefiringWeight/Bin40\n",
      "----------------------\n",
      "up: 33.56476153433323\n",
      "dn: 32.24234978342429\n",
      "LHEweight_AsMZ_Up*p_Gen_GG_SIG_kappaTopBot_1_ghz1_1_MCFM*KFactor_QCD_ggZZ_Nominal*((Z1Flav*Z2Flav)==(121*121) ||(Z1Flav*Z2Flav)==(169*169) ||(Z1Flav*Z2Flav)==(121*169)  )*137.1*(ZZMass>=220)*(EventTag==0)*1000*xsec*overallEventWeight*L1prefiringWeight/Bin40\n",
      "LHEweight_AsMZ_Dn*p_Gen_GG_SIG_kappaTopBot_1_ghz1_1_MCFM*KFactor_QCD_ggZZ_Nominal*((Z1Flav*Z2Flav)==(121*121) ||(Z1Flav*Z2Flav)==(169*169) ||(Z1Flav*Z2Flav)==(121*169)  )*137.1*(ZZMass>=220)*(EventTag==0)*1000*xsec*overallEventWeight*L1prefiringWeight/Bin40\n",
      "----------------------\n",
      "up: 33.18250489421189\n",
      "dn: 32.313585369847715\n",
      "PythiaWeight_isr_muR4 * PythiaWeight_fsr_muR4*p_Gen_GG_SIG_kappaTopBot_1_ghz1_1_MCFM*KFactor_QCD_ggZZ_Nominal*((Z1Flav*Z2Flav)==(121*121) ||(Z1Flav*Z2Flav)==(169*169) ||(Z1Flav*Z2Flav)==(121*169)  )*137.1*(ZZMass>=220)*(EventTag==0)*1000*xsec*overallEventWeight*L1prefiringWeight/Bin40\n",
      "PythiaWeight_isr_muR0p25 * PythiaWeight_fsr_muR0p25*p_Gen_GG_SIG_kappaTopBot_1_ghz1_1_MCFM*KFactor_QCD_ggZZ_Nominal*((Z1Flav*Z2Flav)==(121*121) ||(Z1Flav*Z2Flav)==(169*169) ||(Z1Flav*Z2Flav)==(121*169)  )*137.1*(ZZMass>=220)*(EventTag==0)*1000*xsec*overallEventWeight*L1prefiringWeight/Bin40\n",
      "----------------------\n",
      "up: 32.80282312911004\n",
      "dn: 33.037648133933544\n",
      "om nomnomm: 32.87386575434357\n",
      "here 29.1259393831715\n",
      "here 37.31981978286058\n",
      "here 32.20367878861725\n",
      "here 33.64513761550188\n",
      "here 33.56476153433323\n",
      "here 32.24234978342429\n",
      "here 33.18250489421189\n",
      "here 32.313585369847715\n",
      "here 32.80282312911004\n",
      "here 33.037648133933544\n"
     ]
    },
    {
     "data": {
      "application/vnd.jupyter.widget-view+json": {
       "model_id": "d978a39c1343464a84782e847b6e23c9",
       "version_major": 2,
       "version_minor": 0
      },
      "text/plain": [
       "  0%|          | 0/1 [00:00<?, ?it/s]"
      ]
     },
     "metadata": {},
     "output_type": "display_data"
    },
    {
     "name": "stdout",
     "output_type": "stream",
     "text": [
      "/eos/user/s/skyriaco/Offshell/Syst/highmass/MC_18/200205_CutBased/MC_2018/HighMass/ggH230/ZZ4lAnalysis.root\n",
      "LHEweight_QCDscale_muR2_muF1*p_Gen_GG_SIG_kappaTopBot_1_ghz1_1_MCFM*KFactor_QCD_ggZZ_Nominal*((Z1Flav*Z2Flav)==(121*121) ||(Z1Flav*Z2Flav)==(169*169) ||(Z1Flav*Z2Flav)==(121*169)  )*137.1*(ZZMass>=220)*(EventTag==0)*1000*xsec*overallEventWeight*L1prefiringWeight/Bin40\n",
      "LHEweight_QCDscale_muR0p5_muF1*p_Gen_GG_SIG_kappaTopBot_1_ghz1_1_MCFM*KFactor_QCD_ggZZ_Nominal*((Z1Flav*Z2Flav)==(121*121) ||(Z1Flav*Z2Flav)==(169*169) ||(Z1Flav*Z2Flav)==(121*169)  )*137.1*(ZZMass>=220)*(EventTag==0)*1000*xsec*overallEventWeight*L1prefiringWeight/Bin40\n",
      "----------------------\n",
      "up: 29.1218058206141\n",
      "dn: 37.40991176106036\n",
      "LHEweight_QCDscale_muR1_muF2*p_Gen_GG_SIG_kappaTopBot_1_ghz1_1_MCFM*KFactor_QCD_ggZZ_Nominal*((Z1Flav*Z2Flav)==(121*121) ||(Z1Flav*Z2Flav)==(169*169) ||(Z1Flav*Z2Flav)==(121*169)  )*137.1*(ZZMass>=220)*(EventTag==0)*1000*xsec*overallEventWeight*L1prefiringWeight/Bin40\n",
      "LHEweight_QCDscale_muR1_muF0p5*p_Gen_GG_SIG_kappaTopBot_1_ghz1_1_MCFM*KFactor_QCD_ggZZ_Nominal*((Z1Flav*Z2Flav)==(121*121) ||(Z1Flav*Z2Flav)==(169*169) ||(Z1Flav*Z2Flav)==(121*169)  )*137.1*(ZZMass>=220)*(EventTag==0)*1000*xsec*overallEventWeight*L1prefiringWeight/Bin40\n",
      "----------------------\n",
      "up: 32.2095582918264\n",
      "dn: 33.71271781343967\n",
      "LHEweight_PDFVariation_Up*p_Gen_GG_SIG_kappaTopBot_1_ghz1_1_MCFM*KFactor_QCD_ggZZ_Nominal*((Z1Flav*Z2Flav)==(121*121) ||(Z1Flav*Z2Flav)==(169*169) ||(Z1Flav*Z2Flav)==(121*169)  )*137.1*(ZZMass>=220)*(EventTag==0)*1000*xsec*overallEventWeight*L1prefiringWeight/Bin40\n",
      "LHEweight_PDFVariation_Dn*p_Gen_GG_SIG_kappaTopBot_1_ghz1_1_MCFM*KFactor_QCD_ggZZ_Nominal*((Z1Flav*Z2Flav)==(121*121) ||(Z1Flav*Z2Flav)==(169*169) ||(Z1Flav*Z2Flav)==(121*169)  )*137.1*(ZZMass>=220)*(EventTag==0)*1000*xsec*overallEventWeight*L1prefiringWeight/Bin40\n",
      "----------------------\n",
      "up: 33.6009807405062\n",
      "dn: 32.27200246648863\n",
      "LHEweight_AsMZ_Up*p_Gen_GG_SIG_kappaTopBot_1_ghz1_1_MCFM*KFactor_QCD_ggZZ_Nominal*((Z1Flav*Z2Flav)==(121*121) ||(Z1Flav*Z2Flav)==(169*169) ||(Z1Flav*Z2Flav)==(121*169)  )*137.1*(ZZMass>=220)*(EventTag==0)*1000*xsec*overallEventWeight*L1prefiringWeight/Bin40\n",
      "LHEweight_AsMZ_Dn*p_Gen_GG_SIG_kappaTopBot_1_ghz1_1_MCFM*KFactor_QCD_ggZZ_Nominal*((Z1Flav*Z2Flav)==(121*121) ||(Z1Flav*Z2Flav)==(169*169) ||(Z1Flav*Z2Flav)==(121*169)  )*137.1*(ZZMass>=220)*(EventTag==0)*1000*xsec*overallEventWeight*L1prefiringWeight/Bin40\n",
      "----------------------\n",
      "up: 33.20532790059224\n",
      "dn: 32.35159110976383\n",
      "PythiaWeight_isr_muR4 * PythiaWeight_fsr_muR4*p_Gen_GG_SIG_kappaTopBot_1_ghz1_1_MCFM*KFactor_QCD_ggZZ_Nominal*((Z1Flav*Z2Flav)==(121*121) ||(Z1Flav*Z2Flav)==(169*169) ||(Z1Flav*Z2Flav)==(121*169)  )*137.1*(ZZMass>=220)*(EventTag==0)*1000*xsec*overallEventWeight*L1prefiringWeight/Bin40\n",
      "PythiaWeight_isr_muR0p25 * PythiaWeight_fsr_muR0p25*p_Gen_GG_SIG_kappaTopBot_1_ghz1_1_MCFM*KFactor_QCD_ggZZ_Nominal*((Z1Flav*Z2Flav)==(121*121) ||(Z1Flav*Z2Flav)==(169*169) ||(Z1Flav*Z2Flav)==(121*169)  )*137.1*(ZZMass>=220)*(EventTag==0)*1000*xsec*overallEventWeight*L1prefiringWeight/Bin40\n",
      "----------------------\n",
      "up: 33.39372351113707\n",
      "dn: 30.929722295724787\n",
      "om nomnomm: 32.904993064235896\n",
      "here 29.1218058206141\n",
      "here 37.40991176106036\n",
      "here 32.2095582918264\n",
      "here 33.71271781343967\n",
      "here 33.6009807405062\n",
      "here 32.27200246648863\n",
      "here 33.20532790059224\n",
      "here 32.35159110976383\n",
      "here 33.39372351113707\n",
      "here 30.929722295724787\n"
     ]
    },
    {
     "data": {
      "application/vnd.jupyter.widget-view+json": {
       "model_id": "30f62eed58fb4690a3b632e06c6cdd84",
       "version_major": 2,
       "version_minor": 0
      },
      "text/plain": [
       "  0%|          | 0/1 [00:00<?, ?it/s]"
      ]
     },
     "metadata": {},
     "output_type": "display_data"
    },
    {
     "name": "stdout",
     "output_type": "stream",
     "text": [
      "/eos/user/s/skyriaco/Offshell/Syst/highmass/MC_18/200205_CutBased/MC_2018/HighMass/ggH250/ZZ4lAnalysis.root\n",
      "LHEweight_QCDscale_muR2_muF1*p_Gen_GG_SIG_kappaTopBot_1_ghz1_1_MCFM*KFactor_QCD_ggZZ_Nominal*((Z1Flav*Z2Flav)==(121*121) ||(Z1Flav*Z2Flav)==(169*169) ||(Z1Flav*Z2Flav)==(121*169)  )*137.1*(ZZMass>=220)*(EventTag==0)*1000*xsec*overallEventWeight*L1prefiringWeight/Bin40\n",
      "LHEweight_QCDscale_muR0p5_muF1*p_Gen_GG_SIG_kappaTopBot_1_ghz1_1_MCFM*KFactor_QCD_ggZZ_Nominal*((Z1Flav*Z2Flav)==(121*121) ||(Z1Flav*Z2Flav)==(169*169) ||(Z1Flav*Z2Flav)==(121*169)  )*137.1*(ZZMass>=220)*(EventTag==0)*1000*xsec*overallEventWeight*L1prefiringWeight/Bin40\n",
      "----------------------\n",
      "up: 27.260585413780063\n",
      "dn: 35.11115032900125\n",
      "LHEweight_QCDscale_muR1_muF2*p_Gen_GG_SIG_kappaTopBot_1_ghz1_1_MCFM*KFactor_QCD_ggZZ_Nominal*((Z1Flav*Z2Flav)==(121*121) ||(Z1Flav*Z2Flav)==(169*169) ||(Z1Flav*Z2Flav)==(121*169)  )*137.1*(ZZMass>=220)*(EventTag==0)*1000*xsec*overallEventWeight*L1prefiringWeight/Bin40\n",
      "LHEweight_QCDscale_muR1_muF0p5*p_Gen_GG_SIG_kappaTopBot_1_ghz1_1_MCFM*KFactor_QCD_ggZZ_Nominal*((Z1Flav*Z2Flav)==(121*121) ||(Z1Flav*Z2Flav)==(169*169) ||(Z1Flav*Z2Flav)==(121*169)  )*137.1*(ZZMass>=220)*(EventTag==0)*1000*xsec*overallEventWeight*L1prefiringWeight/Bin40\n",
      "----------------------\n",
      "up: 30.20778731442988\n",
      "dn: 31.560025009326637\n",
      "LHEweight_PDFVariation_Up*p_Gen_GG_SIG_kappaTopBot_1_ghz1_1_MCFM*KFactor_QCD_ggZZ_Nominal*((Z1Flav*Z2Flav)==(121*121) ||(Z1Flav*Z2Flav)==(169*169) ||(Z1Flav*Z2Flav)==(121*169)  )*137.1*(ZZMass>=220)*(EventTag==0)*1000*xsec*overallEventWeight*L1prefiringWeight/Bin40\n",
      "LHEweight_PDFVariation_Dn*p_Gen_GG_SIG_kappaTopBot_1_ghz1_1_MCFM*KFactor_QCD_ggZZ_Nominal*((Z1Flav*Z2Flav)==(121*121) ||(Z1Flav*Z2Flav)==(169*169) ||(Z1Flav*Z2Flav)==(121*169)  )*137.1*(ZZMass>=220)*(EventTag==0)*1000*xsec*overallEventWeight*L1prefiringWeight/Bin40\n",
      "----------------------\n",
      "up: 31.47676500165835\n",
      "dn: 30.25682682963088\n",
      "LHEweight_AsMZ_Up*p_Gen_GG_SIG_kappaTopBot_1_ghz1_1_MCFM*KFactor_QCD_ggZZ_Nominal*((Z1Flav*Z2Flav)==(121*121) ||(Z1Flav*Z2Flav)==(169*169) ||(Z1Flav*Z2Flav)==(121*169)  )*137.1*(ZZMass>=220)*(EventTag==0)*1000*xsec*overallEventWeight*L1prefiringWeight/Bin40\n",
      "LHEweight_AsMZ_Dn*p_Gen_GG_SIG_kappaTopBot_1_ghz1_1_MCFM*KFactor_QCD_ggZZ_Nominal*((Z1Flav*Z2Flav)==(121*121) ||(Z1Flav*Z2Flav)==(169*169) ||(Z1Flav*Z2Flav)==(121*169)  )*137.1*(ZZMass>=220)*(EventTag==0)*1000*xsec*overallEventWeight*L1prefiringWeight/Bin40\n",
      "----------------------\n",
      "up: 31.12749451212585\n",
      "dn: 30.308190311305225\n",
      "PythiaWeight_isr_muR4 * PythiaWeight_fsr_muR4*p_Gen_GG_SIG_kappaTopBot_1_ghz1_1_MCFM*KFactor_QCD_ggZZ_Nominal*((Z1Flav*Z2Flav)==(121*121) ||(Z1Flav*Z2Flav)==(169*169) ||(Z1Flav*Z2Flav)==(121*169)  )*137.1*(ZZMass>=220)*(EventTag==0)*1000*xsec*overallEventWeight*L1prefiringWeight/Bin40\n",
      "PythiaWeight_isr_muR0p25 * PythiaWeight_fsr_muR0p25*p_Gen_GG_SIG_kappaTopBot_1_ghz1_1_MCFM*KFactor_QCD_ggZZ_Nominal*((Z1Flav*Z2Flav)==(121*121) ||(Z1Flav*Z2Flav)==(169*169) ||(Z1Flav*Z2Flav)==(121*169)  )*137.1*(ZZMass>=220)*(EventTag==0)*1000*xsec*overallEventWeight*L1prefiringWeight/Bin40\n",
      "----------------------\n",
      "up: 30.7210383862257\n",
      "dn: 30.243370328680612\n",
      "om nomnomm: 30.837502198293805\n",
      "here 27.260585413780063\n",
      "here 35.11115032900125\n",
      "here 30.20778731442988\n",
      "here 31.560025009326637\n",
      "here 31.47676500165835\n",
      "here 30.25682682963088\n",
      "here 31.12749451212585\n",
      "here 30.308190311305225\n",
      "here 30.7210383862257\n",
      "here 30.243370328680612\n"
     ]
    },
    {
     "data": {
      "application/vnd.jupyter.widget-view+json": {
       "model_id": "054cc642389f4df2b701e27b5fe9d049",
       "version_major": 2,
       "version_minor": 0
      },
      "text/plain": [
       "  0%|          | 0/1 [00:00<?, ?it/s]"
      ]
     },
     "metadata": {},
     "output_type": "display_data"
    },
    {
     "name": "stdout",
     "output_type": "stream",
     "text": [
      "/eos/user/s/skyriaco/Offshell/Syst/highmass/MC_18/200205_CutBased/MC_2018/HighMass/ggH2500/ZZ4lAnalysis.root\n",
      "LHEweight_QCDscale_muR2_muF1*p_Gen_GG_SIG_kappaTopBot_1_ghz1_1_MCFM*KFactor_QCD_ggZZ_Nominal*((Z1Flav*Z2Flav)==(121*121) ||(Z1Flav*Z2Flav)==(169*169) ||(Z1Flav*Z2Flav)==(121*169)  )*137.1*(ZZMass>=220)*(EventTag==0)*1000*xsec*overallEventWeight*L1prefiringWeight/Bin40\n",
      "LHEweight_QCDscale_muR0p5_muF1*p_Gen_GG_SIG_kappaTopBot_1_ghz1_1_MCFM*KFactor_QCD_ggZZ_Nominal*((Z1Flav*Z2Flav)==(121*121) ||(Z1Flav*Z2Flav)==(169*169) ||(Z1Flav*Z2Flav)==(121*169)  )*137.1*(ZZMass>=220)*(EventTag==0)*1000*xsec*overallEventWeight*L1prefiringWeight/Bin40\n",
      "----------------------\n",
      "up: 1458.90266559273\n",
      "dn: 1883.271682459861\n",
      "LHEweight_QCDscale_muR1_muF2*p_Gen_GG_SIG_kappaTopBot_1_ghz1_1_MCFM*KFactor_QCD_ggZZ_Nominal*((Z1Flav*Z2Flav)==(121*121) ||(Z1Flav*Z2Flav)==(169*169) ||(Z1Flav*Z2Flav)==(121*169)  )*137.1*(ZZMass>=220)*(EventTag==0)*1000*xsec*overallEventWeight*L1prefiringWeight/Bin40\n",
      "LHEweight_QCDscale_muR1_muF0p5*p_Gen_GG_SIG_kappaTopBot_1_ghz1_1_MCFM*KFactor_QCD_ggZZ_Nominal*((Z1Flav*Z2Flav)==(121*121) ||(Z1Flav*Z2Flav)==(169*169) ||(Z1Flav*Z2Flav)==(121*169)  )*137.1*(ZZMass>=220)*(EventTag==0)*1000*xsec*overallEventWeight*L1prefiringWeight/Bin40\n",
      "----------------------\n",
      "up: 1612.5878923498094\n",
      "dn: 1697.0983119122684\n",
      "LHEweight_PDFVariation_Up*p_Gen_GG_SIG_kappaTopBot_1_ghz1_1_MCFM*KFactor_QCD_ggZZ_Nominal*((Z1Flav*Z2Flav)==(121*121) ||(Z1Flav*Z2Flav)==(169*169) ||(Z1Flav*Z2Flav)==(121*169)  )*137.1*(ZZMass>=220)*(EventTag==0)*1000*xsec*overallEventWeight*L1prefiringWeight/Bin40\n",
      "LHEweight_PDFVariation_Dn*p_Gen_GG_SIG_kappaTopBot_1_ghz1_1_MCFM*KFactor_QCD_ggZZ_Nominal*((Z1Flav*Z2Flav)==(121*121) ||(Z1Flav*Z2Flav)==(169*169) ||(Z1Flav*Z2Flav)==(121*169)  )*137.1*(ZZMass>=220)*(EventTag==0)*1000*xsec*overallEventWeight*L1prefiringWeight/Bin40\n",
      "----------------------\n",
      "up: 1684.4965685643256\n",
      "dn: 1622.3248361833394\n",
      "LHEweight_AsMZ_Up*p_Gen_GG_SIG_kappaTopBot_1_ghz1_1_MCFM*KFactor_QCD_ggZZ_Nominal*((Z1Flav*Z2Flav)==(121*121) ||(Z1Flav*Z2Flav)==(169*169) ||(Z1Flav*Z2Flav)==(121*169)  )*137.1*(ZZMass>=220)*(EventTag==0)*1000*xsec*overallEventWeight*L1prefiringWeight/Bin40\n",
      "LHEweight_AsMZ_Dn*p_Gen_GG_SIG_kappaTopBot_1_ghz1_1_MCFM*KFactor_QCD_ggZZ_Nominal*((Z1Flav*Z2Flav)==(121*121) ||(Z1Flav*Z2Flav)==(169*169) ||(Z1Flav*Z2Flav)==(121*169)  )*137.1*(ZZMass>=220)*(EventTag==0)*1000*xsec*overallEventWeight*L1prefiringWeight/Bin40\n",
      "----------------------\n",
      "up: 1668.0560322031379\n",
      "dn: 1623.4291654787958\n",
      "PythiaWeight_isr_muR4 * PythiaWeight_fsr_muR4*p_Gen_GG_SIG_kappaTopBot_1_ghz1_1_MCFM*KFactor_QCD_ggZZ_Nominal*((Z1Flav*Z2Flav)==(121*121) ||(Z1Flav*Z2Flav)==(169*169) ||(Z1Flav*Z2Flav)==(121*169)  )*137.1*(ZZMass>=220)*(EventTag==0)*1000*xsec*overallEventWeight*L1prefiringWeight/Bin40\n",
      "PythiaWeight_isr_muR0p25 * PythiaWeight_fsr_muR0p25*p_Gen_GG_SIG_kappaTopBot_1_ghz1_1_MCFM*KFactor_QCD_ggZZ_Nominal*((Z1Flav*Z2Flav)==(121*121) ||(Z1Flav*Z2Flav)==(169*169) ||(Z1Flav*Z2Flav)==(121*169)  )*137.1*(ZZMass>=220)*(EventTag==0)*1000*xsec*overallEventWeight*L1prefiringWeight/Bin40\n",
      "----------------------\n",
      "up: 1689.2617562040687\n",
      "dn: 1718.4088769294322\n",
      "om nomnomm: 1651.8908641003072\n",
      "here 1458.90266559273\n",
      "here 1883.271682459861\n",
      "here 1612.5878923498094\n",
      "here 1697.0983119122684\n",
      "here 1684.4965685643256\n",
      "here 1622.3248361833394\n",
      "here 1668.0560322031379\n",
      "here 1623.4291654787958\n",
      "here 1689.2617562040687\n",
      "here 1718.4088769294322\n"
     ]
    },
    {
     "data": {
      "application/vnd.jupyter.widget-view+json": {
       "model_id": "439048e340fb4d94b4b8beab97860681",
       "version_major": 2,
       "version_minor": 0
      },
      "text/plain": [
       "  0%|          | 0/1 [00:00<?, ?it/s]"
      ]
     },
     "metadata": {},
     "output_type": "display_data"
    },
    {
     "name": "stdout",
     "output_type": "stream",
     "text": [
      "/eos/user/s/skyriaco/Offshell/Syst/highmass/MC_18/200205_CutBased/MC_2018/HighMass/ggH270/ZZ4lAnalysis.root\n",
      "LHEweight_QCDscale_muR2_muF1*p_Gen_GG_SIG_kappaTopBot_1_ghz1_1_MCFM*KFactor_QCD_ggZZ_Nominal*((Z1Flav*Z2Flav)==(121*121) ||(Z1Flav*Z2Flav)==(169*169) ||(Z1Flav*Z2Flav)==(121*169)  )*137.1*(ZZMass>=220)*(EventTag==0)*1000*xsec*overallEventWeight*L1prefiringWeight/Bin40\n",
      "LHEweight_QCDscale_muR0p5_muF1*p_Gen_GG_SIG_kappaTopBot_1_ghz1_1_MCFM*KFactor_QCD_ggZZ_Nominal*((Z1Flav*Z2Flav)==(121*121) ||(Z1Flav*Z2Flav)==(169*169) ||(Z1Flav*Z2Flav)==(121*169)  )*137.1*(ZZMass>=220)*(EventTag==0)*1000*xsec*overallEventWeight*L1prefiringWeight/Bin40\n",
      "----------------------\n",
      "up: 25.898845406249166\n",
      "dn: 33.335512045770884\n",
      "LHEweight_QCDscale_muR1_muF2*p_Gen_GG_SIG_kappaTopBot_1_ghz1_1_MCFM*KFactor_QCD_ggZZ_Nominal*((Z1Flav*Z2Flav)==(121*121) ||(Z1Flav*Z2Flav)==(169*169) ||(Z1Flav*Z2Flav)==(121*169)  )*137.1*(ZZMass>=220)*(EventTag==0)*1000*xsec*overallEventWeight*L1prefiringWeight/Bin40\n",
      "LHEweight_QCDscale_muR1_muF0p5*p_Gen_GG_SIG_kappaTopBot_1_ghz1_1_MCFM*KFactor_QCD_ggZZ_Nominal*((Z1Flav*Z2Flav)==(121*121) ||(Z1Flav*Z2Flav)==(169*169) ||(Z1Flav*Z2Flav)==(121*169)  )*137.1*(ZZMass>=220)*(EventTag==0)*1000*xsec*overallEventWeight*L1prefiringWeight/Bin40\n",
      "----------------------\n",
      "up: 28.686270688660443\n",
      "dn: 29.98235429916531\n",
      "LHEweight_PDFVariation_Up*p_Gen_GG_SIG_kappaTopBot_1_ghz1_1_MCFM*KFactor_QCD_ggZZ_Nominal*((Z1Flav*Z2Flav)==(121*121) ||(Z1Flav*Z2Flav)==(169*169) ||(Z1Flav*Z2Flav)==(121*169)  )*137.1*(ZZMass>=220)*(EventTag==0)*1000*xsec*overallEventWeight*L1prefiringWeight/Bin40\n",
      "LHEweight_PDFVariation_Dn*p_Gen_GG_SIG_kappaTopBot_1_ghz1_1_MCFM*KFactor_QCD_ggZZ_Nominal*((Z1Flav*Z2Flav)==(121*121) ||(Z1Flav*Z2Flav)==(169*169) ||(Z1Flav*Z2Flav)==(121*169)  )*137.1*(ZZMass>=220)*(EventTag==0)*1000*xsec*overallEventWeight*L1prefiringWeight/Bin40\n",
      "----------------------\n",
      "up: 29.92051245085895\n",
      "dn: 28.715926592238247\n",
      "LHEweight_AsMZ_Up*p_Gen_GG_SIG_kappaTopBot_1_ghz1_1_MCFM*KFactor_QCD_ggZZ_Nominal*((Z1Flav*Z2Flav)==(121*121) ||(Z1Flav*Z2Flav)==(169*169) ||(Z1Flav*Z2Flav)==(121*169)  )*137.1*(ZZMass>=220)*(EventTag==0)*1000*xsec*overallEventWeight*L1prefiringWeight/Bin40\n",
      "LHEweight_AsMZ_Dn*p_Gen_GG_SIG_kappaTopBot_1_ghz1_1_MCFM*KFactor_QCD_ggZZ_Nominal*((Z1Flav*Z2Flav)==(121*121) ||(Z1Flav*Z2Flav)==(169*169) ||(Z1Flav*Z2Flav)==(121*169)  )*137.1*(ZZMass>=220)*(EventTag==0)*1000*xsec*overallEventWeight*L1prefiringWeight/Bin40\n",
      "----------------------\n",
      "up: 29.570213368162513\n",
      "dn: 28.782259918749332\n",
      "PythiaWeight_isr_muR4 * PythiaWeight_fsr_muR4*p_Gen_GG_SIG_kappaTopBot_1_ghz1_1_MCFM*KFactor_QCD_ggZZ_Nominal*((Z1Flav*Z2Flav)==(121*121) ||(Z1Flav*Z2Flav)==(169*169) ||(Z1Flav*Z2Flav)==(121*169)  )*137.1*(ZZMass>=220)*(EventTag==0)*1000*xsec*overallEventWeight*L1prefiringWeight/Bin40\n",
      "PythiaWeight_isr_muR0p25 * PythiaWeight_fsr_muR0p25*p_Gen_GG_SIG_kappaTopBot_1_ghz1_1_MCFM*KFactor_QCD_ggZZ_Nominal*((Z1Flav*Z2Flav)==(121*121) ||(Z1Flav*Z2Flav)==(169*169) ||(Z1Flav*Z2Flav)==(121*169)  )*137.1*(ZZMass>=220)*(EventTag==0)*1000*xsec*overallEventWeight*L1prefiringWeight/Bin40\n",
      "----------------------\n",
      "up: 29.617579970508814\n",
      "dn: 30.0467276009731\n",
      "om nomnomm: 29.288553959690034\n",
      "here 25.898845406249166\n",
      "here 33.335512045770884\n",
      "here 28.686270688660443\n",
      "here 29.98235429916531\n",
      "here 29.92051245085895\n",
      "here 28.715926592238247\n",
      "here 29.570213368162513\n",
      "here 28.782259918749332\n",
      "here 29.617579970508814\n",
      "here 30.0467276009731\n"
     ]
    },
    {
     "data": {
      "application/vnd.jupyter.widget-view+json": {
       "model_id": "0f474f991e1847fe9c3fd0f26b9e066f",
       "version_major": 2,
       "version_minor": 0
      },
      "text/plain": [
       "  0%|          | 0/1 [00:00<?, ?it/s]"
      ]
     },
     "metadata": {},
     "output_type": "display_data"
    },
    {
     "name": "stdout",
     "output_type": "stream",
     "text": [
      "/eos/user/s/skyriaco/Offshell/Syst/highmass/MC_18/200205_CutBased/MC_2018/HighMass/ggH300/ZZ4lAnalysis.root\n",
      "LHEweight_QCDscale_muR2_muF1*p_Gen_GG_SIG_kappaTopBot_1_ghz1_1_MCFM*KFactor_QCD_ggZZ_Nominal*((Z1Flav*Z2Flav)==(121*121) ||(Z1Flav*Z2Flav)==(169*169) ||(Z1Flav*Z2Flav)==(121*169)  )*137.1*(ZZMass>=220)*(EventTag==0)*1000*xsec*overallEventWeight*L1prefiringWeight/Bin40\n",
      "LHEweight_QCDscale_muR0p5_muF1*p_Gen_GG_SIG_kappaTopBot_1_ghz1_1_MCFM*KFactor_QCD_ggZZ_Nominal*((Z1Flav*Z2Flav)==(121*121) ||(Z1Flav*Z2Flav)==(169*169) ||(Z1Flav*Z2Flav)==(121*169)  )*137.1*(ZZMass>=220)*(EventTag==0)*1000*xsec*overallEventWeight*L1prefiringWeight/Bin40\n",
      "----------------------\n",
      "up: 23.76671734265983\n",
      "dn: 30.658075195271522\n",
      "LHEweight_QCDscale_muR1_muF2*p_Gen_GG_SIG_kappaTopBot_1_ghz1_1_MCFM*KFactor_QCD_ggZZ_Nominal*((Z1Flav*Z2Flav)==(121*121) ||(Z1Flav*Z2Flav)==(169*169) ||(Z1Flav*Z2Flav)==(121*169)  )*137.1*(ZZMass>=220)*(EventTag==0)*1000*xsec*overallEventWeight*L1prefiringWeight/Bin40\n",
      "LHEweight_QCDscale_muR1_muF0p5*p_Gen_GG_SIG_kappaTopBot_1_ghz1_1_MCFM*KFactor_QCD_ggZZ_Nominal*((Z1Flav*Z2Flav)==(121*121) ||(Z1Flav*Z2Flav)==(169*169) ||(Z1Flav*Z2Flav)==(121*169)  )*137.1*(ZZMass>=220)*(EventTag==0)*1000*xsec*overallEventWeight*L1prefiringWeight/Bin40\n",
      "----------------------\n",
      "up: 26.34576987242326\n",
      "dn: 27.547657123301178\n",
      "LHEweight_PDFVariation_Up*p_Gen_GG_SIG_kappaTopBot_1_ghz1_1_MCFM*KFactor_QCD_ggZZ_Nominal*((Z1Flav*Z2Flav)==(121*121) ||(Z1Flav*Z2Flav)==(169*169) ||(Z1Flav*Z2Flav)==(121*169)  )*137.1*(ZZMass>=220)*(EventTag==0)*1000*xsec*overallEventWeight*L1prefiringWeight/Bin40\n",
      "LHEweight_PDFVariation_Dn*p_Gen_GG_SIG_kappaTopBot_1_ghz1_1_MCFM*KFactor_QCD_ggZZ_Nominal*((Z1Flav*Z2Flav)==(121*121) ||(Z1Flav*Z2Flav)==(169*169) ||(Z1Flav*Z2Flav)==(121*169)  )*137.1*(ZZMass>=220)*(EventTag==0)*1000*xsec*overallEventWeight*L1prefiringWeight/Bin40\n",
      "----------------------\n",
      "up: 27.480249267769977\n",
      "dn: 26.380473643541336\n",
      "LHEweight_AsMZ_Up*p_Gen_GG_SIG_kappaTopBot_1_ghz1_1_MCFM*KFactor_QCD_ggZZ_Nominal*((Z1Flav*Z2Flav)==(121*121) ||(Z1Flav*Z2Flav)==(169*169) ||(Z1Flav*Z2Flav)==(121*169)  )*137.1*(ZZMass>=220)*(EventTag==0)*1000*xsec*overallEventWeight*L1prefiringWeight/Bin40\n",
      "LHEweight_AsMZ_Dn*p_Gen_GG_SIG_kappaTopBot_1_ghz1_1_MCFM*KFactor_QCD_ggZZ_Nominal*((Z1Flav*Z2Flav)==(121*121) ||(Z1Flav*Z2Flav)==(169*169) ||(Z1Flav*Z2Flav)==(121*169)  )*137.1*(ZZMass>=220)*(EventTag==0)*1000*xsec*overallEventWeight*L1prefiringWeight/Bin40\n",
      "----------------------\n",
      "up: 27.163163269404322\n",
      "dn: 26.436331161065027\n",
      "PythiaWeight_isr_muR4 * PythiaWeight_fsr_muR4*p_Gen_GG_SIG_kappaTopBot_1_ghz1_1_MCFM*KFactor_QCD_ggZZ_Nominal*((Z1Flav*Z2Flav)==(121*121) ||(Z1Flav*Z2Flav)==(169*169) ||(Z1Flav*Z2Flav)==(121*169)  )*137.1*(ZZMass>=220)*(EventTag==0)*1000*xsec*overallEventWeight*L1prefiringWeight/Bin40\n",
      "PythiaWeight_isr_muR0p25 * PythiaWeight_fsr_muR0p25*p_Gen_GG_SIG_kappaTopBot_1_ghz1_1_MCFM*KFactor_QCD_ggZZ_Nominal*((Z1Flav*Z2Flav)==(121*121) ||(Z1Flav*Z2Flav)==(169*169) ||(Z1Flav*Z2Flav)==(121*169)  )*137.1*(ZZMass>=220)*(EventTag==0)*1000*xsec*overallEventWeight*L1prefiringWeight/Bin40\n",
      "----------------------\n",
      "up: 27.05928332696203\n",
      "dn: 27.676606329507194\n",
      "om nomnomm: 26.90376825630665\n",
      "here 23.76671734265983\n",
      "here 30.658075195271522\n",
      "here 26.34576987242326\n",
      "here 27.547657123301178\n",
      "here 27.480249267769977\n",
      "here 26.380473643541336\n",
      "here 27.163163269404322\n",
      "here 26.436331161065027\n",
      "here 27.05928332696203\n",
      "here 27.676606329507194\n"
     ]
    },
    {
     "data": {
      "application/vnd.jupyter.widget-view+json": {
       "model_id": "8f04cd429932458abd4f6b28df011de8",
       "version_major": 2,
       "version_minor": 0
      },
      "text/plain": [
       "  0%|          | 0/1 [00:00<?, ?it/s]"
      ]
     },
     "metadata": {},
     "output_type": "display_data"
    },
    {
     "name": "stdout",
     "output_type": "stream",
     "text": [
      "/eos/user/s/skyriaco/Offshell/Syst/highmass/MC_18/200205_CutBased/MC_2018/HighMass/ggH3000/ZZ4lAnalysis.root\n",
      "LHEweight_QCDscale_muR2_muF1*p_Gen_GG_SIG_kappaTopBot_1_ghz1_1_MCFM*KFactor_QCD_ggZZ_Nominal*((Z1Flav*Z2Flav)==(121*121) ||(Z1Flav*Z2Flav)==(169*169) ||(Z1Flav*Z2Flav)==(121*169)  )*137.1*(ZZMass>=220)*(EventTag==0)*1000*xsec*overallEventWeight*L1prefiringWeight/Bin40\n",
      "LHEweight_QCDscale_muR0p5_muF1*p_Gen_GG_SIG_kappaTopBot_1_ghz1_1_MCFM*KFactor_QCD_ggZZ_Nominal*((Z1Flav*Z2Flav)==(121*121) ||(Z1Flav*Z2Flav)==(169*169) ||(Z1Flav*Z2Flav)==(121*169)  )*137.1*(ZZMass>=220)*(EventTag==0)*1000*xsec*overallEventWeight*L1prefiringWeight/Bin40\n",
      "----------------------\n",
      "up: 2231.819416716695\n",
      "dn: 2887.86748470366\n",
      "LHEweight_QCDscale_muR1_muF2*p_Gen_GG_SIG_kappaTopBot_1_ghz1_1_MCFM*KFactor_QCD_ggZZ_Nominal*((Z1Flav*Z2Flav)==(121*121) ||(Z1Flav*Z2Flav)==(169*169) ||(Z1Flav*Z2Flav)==(121*169)  )*137.1*(ZZMass>=220)*(EventTag==0)*1000*xsec*overallEventWeight*L1prefiringWeight/Bin40\n",
      "LHEweight_QCDscale_muR1_muF0p5*p_Gen_GG_SIG_kappaTopBot_1_ghz1_1_MCFM*KFactor_QCD_ggZZ_Nominal*((Z1Flav*Z2Flav)==(121*121) ||(Z1Flav*Z2Flav)==(169*169) ||(Z1Flav*Z2Flav)==(121*169)  )*137.1*(ZZMass>=220)*(EventTag==0)*1000*xsec*overallEventWeight*L1prefiringWeight/Bin40\n",
      "----------------------\n",
      "up: 2474.181332990527\n",
      "dn: 2593.757556810975\n",
      "LHEweight_PDFVariation_Up*p_Gen_GG_SIG_kappaTopBot_1_ghz1_1_MCFM*KFactor_QCD_ggZZ_Nominal*((Z1Flav*Z2Flav)==(121*121) ||(Z1Flav*Z2Flav)==(169*169) ||(Z1Flav*Z2Flav)==(121*169)  )*137.1*(ZZMass>=220)*(EventTag==0)*1000*xsec*overallEventWeight*L1prefiringWeight/Bin40\n",
      "LHEweight_PDFVariation_Dn*p_Gen_GG_SIG_kappaTopBot_1_ghz1_1_MCFM*KFactor_QCD_ggZZ_Nominal*((Z1Flav*Z2Flav)==(121*121) ||(Z1Flav*Z2Flav)==(169*169) ||(Z1Flav*Z2Flav)==(121*169)  )*137.1*(ZZMass>=220)*(EventTag==0)*1000*xsec*overallEventWeight*L1prefiringWeight/Bin40\n",
      "----------------------\n",
      "up: 2579.203654125333\n",
      "dn: 2485.49704810977\n",
      "LHEweight_AsMZ_Up*p_Gen_GG_SIG_kappaTopBot_1_ghz1_1_MCFM*KFactor_QCD_ggZZ_Nominal*((Z1Flav*Z2Flav)==(121*121) ||(Z1Flav*Z2Flav)==(169*169) ||(Z1Flav*Z2Flav)==(121*169)  )*137.1*(ZZMass>=220)*(EventTag==0)*1000*xsec*overallEventWeight*L1prefiringWeight/Bin40\n",
      "LHEweight_AsMZ_Dn*p_Gen_GG_SIG_kappaTopBot_1_ghz1_1_MCFM*KFactor_QCD_ggZZ_Nominal*((Z1Flav*Z2Flav)==(121*121) ||(Z1Flav*Z2Flav)==(169*169) ||(Z1Flav*Z2Flav)==(121*169)  )*137.1*(ZZMass>=220)*(EventTag==0)*1000*xsec*overallEventWeight*L1prefiringWeight/Bin40\n",
      "----------------------\n",
      "up: 2554.6261017024517\n",
      "dn: 2485.9125129431486\n",
      "PythiaWeight_isr_muR4 * PythiaWeight_fsr_muR4*p_Gen_GG_SIG_kappaTopBot_1_ghz1_1_MCFM*KFactor_QCD_ggZZ_Nominal*((Z1Flav*Z2Flav)==(121*121) ||(Z1Flav*Z2Flav)==(169*169) ||(Z1Flav*Z2Flav)==(121*169)  )*137.1*(ZZMass>=220)*(EventTag==0)*1000*xsec*overallEventWeight*L1prefiringWeight/Bin40\n",
      "PythiaWeight_isr_muR0p25 * PythiaWeight_fsr_muR0p25*p_Gen_GG_SIG_kappaTopBot_1_ghz1_1_MCFM*KFactor_QCD_ggZZ_Nominal*((Z1Flav*Z2Flav)==(121*121) ||(Z1Flav*Z2Flav)==(169*169) ||(Z1Flav*Z2Flav)==(121*169)  )*137.1*(ZZMass>=220)*(EventTag==0)*1000*xsec*overallEventWeight*L1prefiringWeight/Bin40\n",
      "----------------------\n",
      "up: 2602.188714414835\n",
      "dn: 2293.046043559909\n",
      "om nomnomm: 2529.8049809485674\n",
      "here 2231.819416716695\n",
      "here 2887.86748470366\n",
      "here 2474.181332990527\n",
      "here 2593.757556810975\n",
      "here 2579.203654125333\n",
      "here 2485.49704810977\n",
      "here 2554.6261017024517\n",
      "here 2485.9125129431486\n",
      "here 2602.188714414835\n",
      "here 2293.046043559909\n"
     ]
    },
    {
     "data": {
      "application/vnd.jupyter.widget-view+json": {
       "model_id": "6d18e09b256c4d988f86611124db1721",
       "version_major": 2,
       "version_minor": 0
      },
      "text/plain": [
       "  0%|          | 0/1 [00:00<?, ?it/s]"
      ]
     },
     "metadata": {},
     "output_type": "display_data"
    },
    {
     "name": "stdout",
     "output_type": "stream",
     "text": [
      "/eos/user/s/skyriaco/Offshell/Syst/highmass/MC_18/200205_CutBased/MC_2018/HighMass/ggH300_minloHJJ/ZZ4lAnalysis.root\n",
      "LHEweight_QCDscale_muR2_muF1*p_Gen_GG_SIG_kappaTopBot_1_ghz1_1_MCFM*KFactor_QCD_ggZZ_Nominal*((Z1Flav*Z2Flav)==(121*121) ||(Z1Flav*Z2Flav)==(169*169) ||(Z1Flav*Z2Flav)==(121*169)  )*137.1*(ZZMass>=220)*(EventTag==0)*1000*xsec*overallEventWeight*L1prefiringWeight/Bin40\n",
      "LHEweight_QCDscale_muR0p5_muF1*p_Gen_GG_SIG_kappaTopBot_1_ghz1_1_MCFM*KFactor_QCD_ggZZ_Nominal*((Z1Flav*Z2Flav)==(121*121) ||(Z1Flav*Z2Flav)==(169*169) ||(Z1Flav*Z2Flav)==(121*169)  )*137.1*(ZZMass>=220)*(EventTag==0)*1000*xsec*overallEventWeight*L1prefiringWeight/Bin40\n",
      "----------------------\n",
      "up: 10.815042027506479\n",
      "dn: 17.734792273649873\n",
      "LHEweight_QCDscale_muR1_muF2*p_Gen_GG_SIG_kappaTopBot_1_ghz1_1_MCFM*KFactor_QCD_ggZZ_Nominal*((Z1Flav*Z2Flav)==(121*121) ||(Z1Flav*Z2Flav)==(169*169) ||(Z1Flav*Z2Flav)==(121*169)  )*137.1*(ZZMass>=220)*(EventTag==0)*1000*xsec*overallEventWeight*L1prefiringWeight/Bin40\n",
      "LHEweight_QCDscale_muR1_muF0p5*p_Gen_GG_SIG_kappaTopBot_1_ghz1_1_MCFM*KFactor_QCD_ggZZ_Nominal*((Z1Flav*Z2Flav)==(121*121) ||(Z1Flav*Z2Flav)==(169*169) ||(Z1Flav*Z2Flav)==(121*169)  )*137.1*(ZZMass>=220)*(EventTag==0)*1000*xsec*overallEventWeight*L1prefiringWeight/Bin40\n",
      "----------------------\n",
      "up: 13.99837954868417\n",
      "dn: 13.800115115948756\n",
      "LHEweight_PDFVariation_Up*p_Gen_GG_SIG_kappaTopBot_1_ghz1_1_MCFM*KFactor_QCD_ggZZ_Nominal*((Z1Flav*Z2Flav)==(121*121) ||(Z1Flav*Z2Flav)==(169*169) ||(Z1Flav*Z2Flav)==(121*169)  )*137.1*(ZZMass>=220)*(EventTag==0)*1000*xsec*overallEventWeight*L1prefiringWeight/Bin40\n",
      "LHEweight_PDFVariation_Dn*p_Gen_GG_SIG_kappaTopBot_1_ghz1_1_MCFM*KFactor_QCD_ggZZ_Nominal*((Z1Flav*Z2Flav)==(121*121) ||(Z1Flav*Z2Flav)==(169*169) ||(Z1Flav*Z2Flav)==(121*169)  )*137.1*(ZZMass>=220)*(EventTag==0)*1000*xsec*overallEventWeight*L1prefiringWeight/Bin40\n",
      "----------------------\n",
      "up: 14.482489658379563\n",
      "dn: 13.55268014208741\n",
      "LHEweight_AsMZ_Up*p_Gen_GG_SIG_kappaTopBot_1_ghz1_1_MCFM*KFactor_QCD_ggZZ_Nominal*((Z1Flav*Z2Flav)==(121*121) ||(Z1Flav*Z2Flav)==(169*169) ||(Z1Flav*Z2Flav)==(121*169)  )*137.1*(ZZMass>=220)*(EventTag==0)*1000*xsec*overallEventWeight*L1prefiringWeight/Bin40\n",
      "LHEweight_AsMZ_Dn*p_Gen_GG_SIG_kappaTopBot_1_ghz1_1_MCFM*KFactor_QCD_ggZZ_Nominal*((Z1Flav*Z2Flav)==(121*121) ||(Z1Flav*Z2Flav)==(169*169) ||(Z1Flav*Z2Flav)==(121*169)  )*137.1*(ZZMass>=220)*(EventTag==0)*1000*xsec*overallEventWeight*L1prefiringWeight/Bin40\n",
      "----------------------\n",
      "up: 14.167036693548653\n",
      "dn: 13.70520317313185\n",
      "PythiaWeight_isr_muR4 * PythiaWeight_fsr_muR4*p_Gen_GG_SIG_kappaTopBot_1_ghz1_1_MCFM*KFactor_QCD_ggZZ_Nominal*((Z1Flav*Z2Flav)==(121*121) ||(Z1Flav*Z2Flav)==(169*169) ||(Z1Flav*Z2Flav)==(121*169)  )*137.1*(ZZMass>=220)*(EventTag==0)*1000*xsec*overallEventWeight*L1prefiringWeight/Bin40\n",
      "PythiaWeight_isr_muR0p25 * PythiaWeight_fsr_muR0p25*p_Gen_GG_SIG_kappaTopBot_1_ghz1_1_MCFM*KFactor_QCD_ggZZ_Nominal*((Z1Flav*Z2Flav)==(121*121) ||(Z1Flav*Z2Flav)==(169*169) ||(Z1Flav*Z2Flav)==(121*169)  )*137.1*(ZZMass>=220)*(EventTag==0)*1000*xsec*overallEventWeight*L1prefiringWeight/Bin40\n",
      "----------------------\n",
      "up: 13.961364739862802\n",
      "dn: 13.853469081701235\n",
      "om nomnomm: 14.000295068738524\n",
      "here 10.815042027506479\n",
      "here 17.734792273649873\n",
      "here 13.99837954868417\n",
      "here 13.800115115948756\n",
      "here 14.482489658379563\n",
      "here 13.55268014208741\n",
      "here 14.167036693548653\n",
      "here 13.70520317313185\n",
      "here 13.961364739862802\n",
      "here 13.853469081701235\n"
     ]
    },
    {
     "data": {
      "application/vnd.jupyter.widget-view+json": {
       "model_id": "a15543e861dc4ef18af05562b6726b7a",
       "version_major": 2,
       "version_minor": 0
      },
      "text/plain": [
       "  0%|          | 0/1 [00:00<?, ?it/s]"
      ]
     },
     "metadata": {},
     "output_type": "display_data"
    },
    {
     "name": "stdout",
     "output_type": "stream",
     "text": [
      "/eos/user/s/skyriaco/Offshell/Syst/highmass/MC_18/200205_CutBased/MC_2018/HighMass/ggH300_tunedown_minloHJJ/ZZ4lAnalysis.root\n",
      "LHEweight_QCDscale_muR2_muF1*p_Gen_GG_SIG_kappaTopBot_1_ghz1_1_MCFM*KFactor_QCD_ggZZ_Nominal*((Z1Flav*Z2Flav)==(121*121) ||(Z1Flav*Z2Flav)==(169*169) ||(Z1Flav*Z2Flav)==(121*169)  )*137.1*(ZZMass>=220)*(EventTag==0)*1000*xsec*overallEventWeight*L1prefiringWeight/Bin40\n",
      "LHEweight_QCDscale_muR0p5_muF1*p_Gen_GG_SIG_kappaTopBot_1_ghz1_1_MCFM*KFactor_QCD_ggZZ_Nominal*((Z1Flav*Z2Flav)==(121*121) ||(Z1Flav*Z2Flav)==(169*169) ||(Z1Flav*Z2Flav)==(121*169)  )*137.1*(ZZMass>=220)*(EventTag==0)*1000*xsec*overallEventWeight*L1prefiringWeight/Bin40\n",
      "----------------------\n",
      "up: 11.321609929203987\n",
      "dn: 16.55932080745697\n",
      "LHEweight_QCDscale_muR1_muF2*p_Gen_GG_SIG_kappaTopBot_1_ghz1_1_MCFM*KFactor_QCD_ggZZ_Nominal*((Z1Flav*Z2Flav)==(121*121) ||(Z1Flav*Z2Flav)==(169*169) ||(Z1Flav*Z2Flav)==(121*169)  )*137.1*(ZZMass>=220)*(EventTag==0)*1000*xsec*overallEventWeight*L1prefiringWeight/Bin40\n",
      "LHEweight_QCDscale_muR1_muF0p5*p_Gen_GG_SIG_kappaTopBot_1_ghz1_1_MCFM*KFactor_QCD_ggZZ_Nominal*((Z1Flav*Z2Flav)==(121*121) ||(Z1Flav*Z2Flav)==(169*169) ||(Z1Flav*Z2Flav)==(121*169)  )*137.1*(ZZMass>=220)*(EventTag==0)*1000*xsec*overallEventWeight*L1prefiringWeight/Bin40\n",
      "----------------------\n",
      "up: 14.221853524446487\n",
      "dn: 13.974110841751099\n",
      "LHEweight_PDFVariation_Up*p_Gen_GG_SIG_kappaTopBot_1_ghz1_1_MCFM*KFactor_QCD_ggZZ_Nominal*((Z1Flav*Z2Flav)==(121*121) ||(Z1Flav*Z2Flav)==(169*169) ||(Z1Flav*Z2Flav)==(121*169)  )*137.1*(ZZMass>=220)*(EventTag==0)*1000*xsec*overallEventWeight*L1prefiringWeight/Bin40\n",
      "LHEweight_PDFVariation_Dn*p_Gen_GG_SIG_kappaTopBot_1_ghz1_1_MCFM*KFactor_QCD_ggZZ_Nominal*((Z1Flav*Z2Flav)==(121*121) ||(Z1Flav*Z2Flav)==(169*169) ||(Z1Flav*Z2Flav)==(121*169)  )*137.1*(ZZMass>=220)*(EventTag==0)*1000*xsec*overallEventWeight*L1prefiringWeight/Bin40\n",
      "----------------------\n",
      "up: 14.661521345376968\n",
      "dn: 13.704355537891388\n",
      "LHEweight_AsMZ_Up*p_Gen_GG_SIG_kappaTopBot_1_ghz1_1_MCFM*KFactor_QCD_ggZZ_Nominal*((Z1Flav*Z2Flav)==(121*121) ||(Z1Flav*Z2Flav)==(169*169) ||(Z1Flav*Z2Flav)==(121*169)  )*137.1*(ZZMass>=220)*(EventTag==0)*1000*xsec*overallEventWeight*L1prefiringWeight/Bin40\n",
      "LHEweight_AsMZ_Dn*p_Gen_GG_SIG_kappaTopBot_1_ghz1_1_MCFM*KFactor_QCD_ggZZ_Nominal*((Z1Flav*Z2Flav)==(121*121) ||(Z1Flav*Z2Flav)==(169*169) ||(Z1Flav*Z2Flav)==(121*169)  )*137.1*(ZZMass>=220)*(EventTag==0)*1000*xsec*overallEventWeight*L1prefiringWeight/Bin40\n",
      "----------------------\n",
      "up: 14.345571756362915\n",
      "dn: 13.86511179804802\n",
      "PythiaWeight_isr_muR4 * PythiaWeight_fsr_muR4*p_Gen_GG_SIG_kappaTopBot_1_ghz1_1_MCFM*KFactor_QCD_ggZZ_Nominal*((Z1Flav*Z2Flav)==(121*121) ||(Z1Flav*Z2Flav)==(169*169) ||(Z1Flav*Z2Flav)==(121*169)  )*137.1*(ZZMass>=220)*(EventTag==0)*1000*xsec*overallEventWeight*L1prefiringWeight/Bin40\n",
      "PythiaWeight_isr_muR0p25 * PythiaWeight_fsr_muR0p25*p_Gen_GG_SIG_kappaTopBot_1_ghz1_1_MCFM*KFactor_QCD_ggZZ_Nominal*((Z1Flav*Z2Flav)==(121*121) ||(Z1Flav*Z2Flav)==(169*169) ||(Z1Flav*Z2Flav)==(121*169)  )*137.1*(ZZMass>=220)*(EventTag==0)*1000*xsec*overallEventWeight*L1prefiringWeight/Bin40\n",
      "----------------------\n",
      "up: 13.969574391841888\n",
      "dn: 14.638973623514175\n",
      "om nomnomm: 14.166573852300644\n",
      "here 11.321609929203987\n",
      "here 16.55932080745697\n",
      "here 14.221853524446487\n",
      "here 13.974110841751099\n",
      "here 14.661521345376968\n",
      "here 13.704355537891388\n",
      "here 14.345571756362915\n",
      "here 13.86511179804802\n",
      "here 13.969574391841888\n",
      "here 14.638973623514175\n"
     ]
    },
    {
     "data": {
      "application/vnd.jupyter.widget-view+json": {
       "model_id": "40f939b5f03742bb99c28516e9073274",
       "version_major": 2,
       "version_minor": 0
      },
      "text/plain": [
       "  0%|          | 0/1 [00:00<?, ?it/s]"
      ]
     },
     "metadata": {},
     "output_type": "display_data"
    },
    {
     "name": "stdout",
     "output_type": "stream",
     "text": [
      "/eos/user/s/skyriaco/Offshell/Syst/highmass/MC_18/200205_CutBased/MC_2018/HighMass/ggH300_tuneup_minloHJJ/ZZ4lAnalysis.root\n",
      "LHEweight_QCDscale_muR2_muF1*p_Gen_GG_SIG_kappaTopBot_1_ghz1_1_MCFM*KFactor_QCD_ggZZ_Nominal*((Z1Flav*Z2Flav)==(121*121) ||(Z1Flav*Z2Flav)==(169*169) ||(Z1Flav*Z2Flav)==(121*169)  )*137.1*(ZZMass>=220)*(EventTag==0)*1000*xsec*overallEventWeight*L1prefiringWeight/Bin40\n",
      "LHEweight_QCDscale_muR0p5_muF1*p_Gen_GG_SIG_kappaTopBot_1_ghz1_1_MCFM*KFactor_QCD_ggZZ_Nominal*((Z1Flav*Z2Flav)==(121*121) ||(Z1Flav*Z2Flav)==(169*169) ||(Z1Flav*Z2Flav)==(121*169)  )*137.1*(ZZMass>=220)*(EventTag==0)*1000*xsec*overallEventWeight*L1prefiringWeight/Bin40\n",
      "----------------------\n",
      "up: 10.772570610046387\n",
      "dn: 17.647889733314514\n",
      "LHEweight_QCDscale_muR1_muF2*p_Gen_GG_SIG_kappaTopBot_1_ghz1_1_MCFM*KFactor_QCD_ggZZ_Nominal*((Z1Flav*Z2Flav)==(121*121) ||(Z1Flav*Z2Flav)==(169*169) ||(Z1Flav*Z2Flav)==(121*169)  )*137.1*(ZZMass>=220)*(EventTag==0)*1000*xsec*overallEventWeight*L1prefiringWeight/Bin40\n",
      "LHEweight_QCDscale_muR1_muF0p5*p_Gen_GG_SIG_kappaTopBot_1_ghz1_1_MCFM*KFactor_QCD_ggZZ_Nominal*((Z1Flav*Z2Flav)==(121*121) ||(Z1Flav*Z2Flav)==(169*169) ||(Z1Flav*Z2Flav)==(121*169)  )*137.1*(ZZMass>=220)*(EventTag==0)*1000*xsec*overallEventWeight*L1prefiringWeight/Bin40\n",
      "----------------------\n",
      "up: 13.933755218982697\n",
      "dn: 13.743975728750229\n",
      "LHEweight_PDFVariation_Up*p_Gen_GG_SIG_kappaTopBot_1_ghz1_1_MCFM*KFactor_QCD_ggZZ_Nominal*((Z1Flav*Z2Flav)==(121*121) ||(Z1Flav*Z2Flav)==(169*169) ||(Z1Flav*Z2Flav)==(121*169)  )*137.1*(ZZMass>=220)*(EventTag==0)*1000*xsec*overallEventWeight*L1prefiringWeight/Bin40\n",
      "LHEweight_PDFVariation_Dn*p_Gen_GG_SIG_kappaTopBot_1_ghz1_1_MCFM*KFactor_QCD_ggZZ_Nominal*((Z1Flav*Z2Flav)==(121*121) ||(Z1Flav*Z2Flav)==(169*169) ||(Z1Flav*Z2Flav)==(121*169)  )*137.1*(ZZMass>=220)*(EventTag==0)*1000*xsec*overallEventWeight*L1prefiringWeight/Bin40\n",
      "----------------------\n",
      "up: 14.408703863620758\n",
      "dn: 13.495494455099106\n",
      "LHEweight_AsMZ_Up*p_Gen_GG_SIG_kappaTopBot_1_ghz1_1_MCFM*KFactor_QCD_ggZZ_Nominal*((Z1Flav*Z2Flav)==(121*121) ||(Z1Flav*Z2Flav)==(169*169) ||(Z1Flav*Z2Flav)==(121*169)  )*137.1*(ZZMass>=220)*(EventTag==0)*1000*xsec*overallEventWeight*L1prefiringWeight/Bin40\n",
      "LHEweight_AsMZ_Dn*p_Gen_GG_SIG_kappaTopBot_1_ghz1_1_MCFM*KFactor_QCD_ggZZ_Nominal*((Z1Flav*Z2Flav)==(121*121) ||(Z1Flav*Z2Flav)==(169*169) ||(Z1Flav*Z2Flav)==(121*169)  )*137.1*(ZZMass>=220)*(EventTag==0)*1000*xsec*overallEventWeight*L1prefiringWeight/Bin40\n",
      "----------------------\n",
      "up: 14.11290067434311\n",
      "dn: 13.64015880227089\n",
      "PythiaWeight_isr_muR4 * PythiaWeight_fsr_muR4*p_Gen_GG_SIG_kappaTopBot_1_ghz1_1_MCFM*KFactor_QCD_ggZZ_Nominal*((Z1Flav*Z2Flav)==(121*121) ||(Z1Flav*Z2Flav)==(169*169) ||(Z1Flav*Z2Flav)==(121*169)  )*137.1*(ZZMass>=220)*(EventTag==0)*1000*xsec*overallEventWeight*L1prefiringWeight/Bin40\n",
      "PythiaWeight_isr_muR0p25 * PythiaWeight_fsr_muR0p25*p_Gen_GG_SIG_kappaTopBot_1_ghz1_1_MCFM*KFactor_QCD_ggZZ_Nominal*((Z1Flav*Z2Flav)==(121*121) ||(Z1Flav*Z2Flav)==(169*169) ||(Z1Flav*Z2Flav)==(121*169)  )*137.1*(ZZMass>=220)*(EventTag==0)*1000*xsec*overallEventWeight*L1prefiringWeight/Bin40\n",
      "----------------------\n",
      "up: 13.880658388137817\n",
      "dn: 14.028363943099976\n",
      "om nomnomm: 13.938172101974487\n",
      "here 10.772570610046387\n",
      "here 17.647889733314514\n",
      "here 13.933755218982697\n",
      "here 13.743975728750229\n",
      "here 14.408703863620758\n",
      "here 13.495494455099106\n",
      "here 14.11290067434311\n",
      "here 13.64015880227089\n",
      "here 13.880658388137817\n",
      "here 14.028363943099976\n"
     ]
    },
    {
     "data": {
      "application/vnd.jupyter.widget-view+json": {
       "model_id": "75a9ecac00b945b18024b0e8c48a7e14",
       "version_major": 2,
       "version_minor": 0
      },
      "text/plain": [
       "  0%|          | 0/1 [00:00<?, ?it/s]"
      ]
     },
     "metadata": {},
     "output_type": "display_data"
    },
    {
     "name": "stdout",
     "output_type": "stream",
     "text": [
      "/eos/user/s/skyriaco/Offshell/Syst/highmass/MC_18/200205_CutBased/MC_2018/HighMass/ggH350/ZZ4lAnalysis.root\n",
      "LHEweight_QCDscale_muR2_muF1*p_Gen_GG_SIG_kappaTopBot_1_ghz1_1_MCFM*KFactor_QCD_ggZZ_Nominal*((Z1Flav*Z2Flav)==(121*121) ||(Z1Flav*Z2Flav)==(169*169) ||(Z1Flav*Z2Flav)==(121*169)  )*137.1*(ZZMass>=220)*(EventTag==0)*1000*xsec*overallEventWeight*L1prefiringWeight/Bin40\n",
      "LHEweight_QCDscale_muR0p5_muF1*p_Gen_GG_SIG_kappaTopBot_1_ghz1_1_MCFM*KFactor_QCD_ggZZ_Nominal*((Z1Flav*Z2Flav)==(121*121) ||(Z1Flav*Z2Flav)==(169*169) ||(Z1Flav*Z2Flav)==(121*169)  )*137.1*(ZZMass>=220)*(EventTag==0)*1000*xsec*overallEventWeight*L1prefiringWeight/Bin40\n",
      "----------------------\n",
      "up: 16.419224543962628\n",
      "dn: 21.193445305339992\n",
      "LHEweight_QCDscale_muR1_muF2*p_Gen_GG_SIG_kappaTopBot_1_ghz1_1_MCFM*KFactor_QCD_ggZZ_Nominal*((Z1Flav*Z2Flav)==(121*121) ||(Z1Flav*Z2Flav)==(169*169) ||(Z1Flav*Z2Flav)==(121*169)  )*137.1*(ZZMass>=220)*(EventTag==0)*1000*xsec*overallEventWeight*L1prefiringWeight/Bin40\n",
      "LHEweight_QCDscale_muR1_muF0p5*p_Gen_GG_SIG_kappaTopBot_1_ghz1_1_MCFM*KFactor_QCD_ggZZ_Nominal*((Z1Flav*Z2Flav)==(121*121) ||(Z1Flav*Z2Flav)==(169*169) ||(Z1Flav*Z2Flav)==(121*169)  )*137.1*(ZZMass>=220)*(EventTag==0)*1000*xsec*overallEventWeight*L1prefiringWeight/Bin40\n",
      "----------------------\n",
      "up: 18.20378417428583\n",
      "dn: 19.037652269471437\n",
      "LHEweight_PDFVariation_Up*p_Gen_GG_SIG_kappaTopBot_1_ghz1_1_MCFM*KFactor_QCD_ggZZ_Nominal*((Z1Flav*Z2Flav)==(121*121) ||(Z1Flav*Z2Flav)==(169*169) ||(Z1Flav*Z2Flav)==(121*169)  )*137.1*(ZZMass>=220)*(EventTag==0)*1000*xsec*overallEventWeight*L1prefiringWeight/Bin40\n",
      "LHEweight_PDFVariation_Dn*p_Gen_GG_SIG_kappaTopBot_1_ghz1_1_MCFM*KFactor_QCD_ggZZ_Nominal*((Z1Flav*Z2Flav)==(121*121) ||(Z1Flav*Z2Flav)==(169*169) ||(Z1Flav*Z2Flav)==(121*169)  )*137.1*(ZZMass>=220)*(EventTag==0)*1000*xsec*overallEventWeight*L1prefiringWeight/Bin40\n",
      "----------------------\n",
      "up: 18.979038847610354\n",
      "dn: 18.239464009180665\n",
      "LHEweight_AsMZ_Up*p_Gen_GG_SIG_kappaTopBot_1_ghz1_1_MCFM*KFactor_QCD_ggZZ_Nominal*((Z1Flav*Z2Flav)==(121*121) ||(Z1Flav*Z2Flav)==(169*169) ||(Z1Flav*Z2Flav)==(121*169)  )*137.1*(ZZMass>=220)*(EventTag==0)*1000*xsec*overallEventWeight*L1prefiringWeight/Bin40\n",
      "LHEweight_AsMZ_Dn*p_Gen_GG_SIG_kappaTopBot_1_ghz1_1_MCFM*KFactor_QCD_ggZZ_Nominal*((Z1Flav*Z2Flav)==(121*121) ||(Z1Flav*Z2Flav)==(169*169) ||(Z1Flav*Z2Flav)==(121*169)  )*137.1*(ZZMass>=220)*(EventTag==0)*1000*xsec*overallEventWeight*L1prefiringWeight/Bin40\n",
      "----------------------\n",
      "up: 18.76908161956817\n",
      "dn: 18.27066346956417\n",
      "PythiaWeight_isr_muR4 * PythiaWeight_fsr_muR4*p_Gen_GG_SIG_kappaTopBot_1_ghz1_1_MCFM*KFactor_QCD_ggZZ_Nominal*((Z1Flav*Z2Flav)==(121*121) ||(Z1Flav*Z2Flav)==(169*169) ||(Z1Flav*Z2Flav)==(121*169)  )*137.1*(ZZMass>=220)*(EventTag==0)*1000*xsec*overallEventWeight*L1prefiringWeight/Bin40\n",
      "PythiaWeight_isr_muR0p25 * PythiaWeight_fsr_muR0p25*p_Gen_GG_SIG_kappaTopBot_1_ghz1_1_MCFM*KFactor_QCD_ggZZ_Nominal*((Z1Flav*Z2Flav)==(121*121) ||(Z1Flav*Z2Flav)==(169*169) ||(Z1Flav*Z2Flav)==(121*169)  )*137.1*(ZZMass>=220)*(EventTag==0)*1000*xsec*overallEventWeight*L1prefiringWeight/Bin40\n",
      "----------------------\n",
      "up: 18.563531488878652\n",
      "dn: 17.861484399065375\n",
      "om nomnomm: 18.591215430758893\n",
      "here 16.419224543962628\n",
      "here 21.193445305339992\n",
      "here 18.20378417428583\n",
      "here 19.037652269471437\n",
      "here 18.979038847610354\n",
      "here 18.239464009180665\n",
      "here 18.76908161956817\n",
      "here 18.27066346956417\n",
      "here 18.563531488878652\n",
      "here 17.861484399065375\n"
     ]
    },
    {
     "data": {
      "application/vnd.jupyter.widget-view+json": {
       "model_id": "b0af2684d6164845897a62654c7742ba",
       "version_major": 2,
       "version_minor": 0
      },
      "text/plain": [
       "  0%|          | 0/1 [00:00<?, ?it/s]"
      ]
     },
     "metadata": {},
     "output_type": "display_data"
    },
    {
     "name": "stdout",
     "output_type": "stream",
     "text": [
      "/eos/user/s/skyriaco/Offshell/Syst/highmass/MC_18/200205_CutBased/MC_2018/HighMass/ggH400/ZZ4lAnalysis.root\n",
      "LHEweight_QCDscale_muR2_muF1*p_Gen_GG_SIG_kappaTopBot_1_ghz1_1_MCFM*KFactor_QCD_ggZZ_Nominal*((Z1Flav*Z2Flav)==(121*121) ||(Z1Flav*Z2Flav)==(169*169) ||(Z1Flav*Z2Flav)==(121*169)  )*137.1*(ZZMass>=220)*(EventTag==0)*1000*xsec*overallEventWeight*L1prefiringWeight/Bin40\n",
      "LHEweight_QCDscale_muR0p5_muF1*p_Gen_GG_SIG_kappaTopBot_1_ghz1_1_MCFM*KFactor_QCD_ggZZ_Nominal*((Z1Flav*Z2Flav)==(121*121) ||(Z1Flav*Z2Flav)==(169*169) ||(Z1Flav*Z2Flav)==(121*169)  )*137.1*(ZZMass>=220)*(EventTag==0)*1000*xsec*overallEventWeight*L1prefiringWeight/Bin40\n",
      "----------------------\n",
      "up: 13.568861281266436\n",
      "dn: 17.45684845512733\n",
      "LHEweight_QCDscale_muR1_muF2*p_Gen_GG_SIG_kappaTopBot_1_ghz1_1_MCFM*KFactor_QCD_ggZZ_Nominal*((Z1Flav*Z2Flav)==(121*121) ||(Z1Flav*Z2Flav)==(169*169) ||(Z1Flav*Z2Flav)==(121*169)  )*137.1*(ZZMass>=220)*(EventTag==0)*1000*xsec*overallEventWeight*L1prefiringWeight/Bin40\n",
      "LHEweight_QCDscale_muR1_muF0p5*p_Gen_GG_SIG_kappaTopBot_1_ghz1_1_MCFM*KFactor_QCD_ggZZ_Nominal*((Z1Flav*Z2Flav)==(121*121) ||(Z1Flav*Z2Flav)==(169*169) ||(Z1Flav*Z2Flav)==(121*169)  )*137.1*(ZZMass>=220)*(EventTag==0)*1000*xsec*overallEventWeight*L1prefiringWeight/Bin40\n",
      "----------------------\n",
      "up: 15.020160007290542\n",
      "dn: 15.713848104234785\n",
      "LHEweight_PDFVariation_Up*p_Gen_GG_SIG_kappaTopBot_1_ghz1_1_MCFM*KFactor_QCD_ggZZ_Nominal*((Z1Flav*Z2Flav)==(121*121) ||(Z1Flav*Z2Flav)==(169*169) ||(Z1Flav*Z2Flav)==(121*169)  )*137.1*(ZZMass>=220)*(EventTag==0)*1000*xsec*overallEventWeight*L1prefiringWeight/Bin40\n",
      "LHEweight_PDFVariation_Dn*p_Gen_GG_SIG_kappaTopBot_1_ghz1_1_MCFM*KFactor_QCD_ggZZ_Nominal*((Z1Flav*Z2Flav)==(121*121) ||(Z1Flav*Z2Flav)==(169*169) ||(Z1Flav*Z2Flav)==(121*169)  )*137.1*(ZZMass>=220)*(EventTag==0)*1000*xsec*overallEventWeight*L1prefiringWeight/Bin40\n",
      "----------------------\n",
      "up: 15.660787454340607\n",
      "dn: 15.054406518116593\n",
      "LHEweight_AsMZ_Up*p_Gen_GG_SIG_kappaTopBot_1_ghz1_1_MCFM*KFactor_QCD_ggZZ_Nominal*((Z1Flav*Z2Flav)==(121*121) ||(Z1Flav*Z2Flav)==(169*169) ||(Z1Flav*Z2Flav)==(121*169)  )*137.1*(ZZMass>=220)*(EventTag==0)*1000*xsec*overallEventWeight*L1prefiringWeight/Bin40\n",
      "LHEweight_AsMZ_Dn*p_Gen_GG_SIG_kappaTopBot_1_ghz1_1_MCFM*KFactor_QCD_ggZZ_Nominal*((Z1Flav*Z2Flav)==(121*121) ||(Z1Flav*Z2Flav)==(169*169) ||(Z1Flav*Z2Flav)==(121*169)  )*137.1*(ZZMass>=220)*(EventTag==0)*1000*xsec*overallEventWeight*L1prefiringWeight/Bin40\n",
      "----------------------\n",
      "up: 15.486702367197722\n",
      "dn: 15.080718760378659\n",
      "PythiaWeight_isr_muR4 * PythiaWeight_fsr_muR4*p_Gen_GG_SIG_kappaTopBot_1_ghz1_1_MCFM*KFactor_QCD_ggZZ_Nominal*((Z1Flav*Z2Flav)==(121*121) ||(Z1Flav*Z2Flav)==(169*169) ||(Z1Flav*Z2Flav)==(121*169)  )*137.1*(ZZMass>=220)*(EventTag==0)*1000*xsec*overallEventWeight*L1prefiringWeight/Bin40\n",
      "PythiaWeight_isr_muR0p25 * PythiaWeight_fsr_muR0p25*p_Gen_GG_SIG_kappaTopBot_1_ghz1_1_MCFM*KFactor_QCD_ggZZ_Nominal*((Z1Flav*Z2Flav)==(121*121) ||(Z1Flav*Z2Flav)==(169*169) ||(Z1Flav*Z2Flav)==(121*169)  )*137.1*(ZZMass>=220)*(EventTag==0)*1000*xsec*overallEventWeight*L1prefiringWeight/Bin40\n",
      "----------------------\n",
      "up: 15.400913113029674\n",
      "dn: 14.526432915823534\n",
      "om nomnomm: 15.342319201910868\n",
      "here 13.568861281266436\n",
      "here 17.45684845512733\n",
      "here 15.020160007290542\n",
      "here 15.713848104234785\n",
      "here 15.660787454340607\n",
      "here 15.054406518116593\n",
      "here 15.486702367197722\n",
      "here 15.080718760378659\n",
      "here 15.400913113029674\n",
      "here 14.526432915823534\n"
     ]
    },
    {
     "data": {
      "application/vnd.jupyter.widget-view+json": {
       "model_id": "06506cf917b3400d945c7018ff8e7dfa",
       "version_major": 2,
       "version_minor": 0
      },
      "text/plain": [
       "  0%|          | 0/1 [00:00<?, ?it/s]"
      ]
     },
     "metadata": {},
     "output_type": "display_data"
    },
    {
     "name": "stdout",
     "output_type": "stream",
     "text": [
      "/eos/user/s/skyriaco/Offshell/Syst/highmass/MC_18/200205_CutBased/MC_2018/HighMass/ggH450/ZZ4lAnalysis.root\n",
      "LHEweight_QCDscale_muR2_muF1*p_Gen_GG_SIG_kappaTopBot_1_ghz1_1_MCFM*KFactor_QCD_ggZZ_Nominal*((Z1Flav*Z2Flav)==(121*121) ||(Z1Flav*Z2Flav)==(169*169) ||(Z1Flav*Z2Flav)==(121*169)  )*137.1*(ZZMass>=220)*(EventTag==0)*1000*xsec*overallEventWeight*L1prefiringWeight/Bin40\n",
      "LHEweight_QCDscale_muR0p5_muF1*p_Gen_GG_SIG_kappaTopBot_1_ghz1_1_MCFM*KFactor_QCD_ggZZ_Nominal*((Z1Flav*Z2Flav)==(121*121) ||(Z1Flav*Z2Flav)==(169*169) ||(Z1Flav*Z2Flav)==(121*169)  )*137.1*(ZZMass>=220)*(EventTag==0)*1000*xsec*overallEventWeight*L1prefiringWeight/Bin40\n",
      "----------------------\n",
      "up: 14.350514677353203\n",
      "dn: 18.491123764193617\n",
      "LHEweight_QCDscale_muR1_muF2*p_Gen_GG_SIG_kappaTopBot_1_ghz1_1_MCFM*KFactor_QCD_ggZZ_Nominal*((Z1Flav*Z2Flav)==(121*121) ||(Z1Flav*Z2Flav)==(169*169) ||(Z1Flav*Z2Flav)==(121*169)  )*137.1*(ZZMass>=220)*(EventTag==0)*1000*xsec*overallEventWeight*L1prefiringWeight/Bin40\n",
      "LHEweight_QCDscale_muR1_muF0p5*p_Gen_GG_SIG_kappaTopBot_1_ghz1_1_MCFM*KFactor_QCD_ggZZ_Nominal*((Z1Flav*Z2Flav)==(121*121) ||(Z1Flav*Z2Flav)==(169*169) ||(Z1Flav*Z2Flav)==(121*169)  )*137.1*(ZZMass>=220)*(EventTag==0)*1000*xsec*overallEventWeight*L1prefiringWeight/Bin40\n",
      "----------------------\n",
      "up: 15.895243048435077\n",
      "dn: 16.62804802437313\n",
      "LHEweight_PDFVariation_Up*p_Gen_GG_SIG_kappaTopBot_1_ghz1_1_MCFM*KFactor_QCD_ggZZ_Nominal*((Z1Flav*Z2Flav)==(121*121) ||(Z1Flav*Z2Flav)==(169*169) ||(Z1Flav*Z2Flav)==(121*169)  )*137.1*(ZZMass>=220)*(EventTag==0)*1000*xsec*overallEventWeight*L1prefiringWeight/Bin40\n",
      "LHEweight_PDFVariation_Dn*p_Gen_GG_SIG_kappaTopBot_1_ghz1_1_MCFM*KFactor_QCD_ggZZ_Nominal*((Z1Flav*Z2Flav)==(121*121) ||(Z1Flav*Z2Flav)==(169*169) ||(Z1Flav*Z2Flav)==(121*169)  )*137.1*(ZZMass>=220)*(EventTag==0)*1000*xsec*overallEventWeight*L1prefiringWeight/Bin40\n",
      "----------------------\n",
      "up: 16.56806943146512\n",
      "dn: 15.935629502288066\n",
      "LHEweight_AsMZ_Up*p_Gen_GG_SIG_kappaTopBot_1_ghz1_1_MCFM*KFactor_QCD_ggZZ_Nominal*((Z1Flav*Z2Flav)==(121*121) ||(Z1Flav*Z2Flav)==(169*169) ||(Z1Flav*Z2Flav)==(121*169)  )*137.1*(ZZMass>=220)*(EventTag==0)*1000*xsec*overallEventWeight*L1prefiringWeight/Bin40\n",
      "LHEweight_AsMZ_Dn*p_Gen_GG_SIG_kappaTopBot_1_ghz1_1_MCFM*KFactor_QCD_ggZZ_Nominal*((Z1Flav*Z2Flav)==(121*121) ||(Z1Flav*Z2Flav)==(169*169) ||(Z1Flav*Z2Flav)==(121*169)  )*137.1*(ZZMass>=220)*(EventTag==0)*1000*xsec*overallEventWeight*L1prefiringWeight/Bin40\n",
      "----------------------\n",
      "up: 16.392995933885686\n",
      "dn: 15.95790115534328\n",
      "PythiaWeight_isr_muR4 * PythiaWeight_fsr_muR4*p_Gen_GG_SIG_kappaTopBot_1_ghz1_1_MCFM*KFactor_QCD_ggZZ_Nominal*((Z1Flav*Z2Flav)==(121*121) ||(Z1Flav*Z2Flav)==(169*169) ||(Z1Flav*Z2Flav)==(121*169)  )*137.1*(ZZMass>=220)*(EventTag==0)*1000*xsec*overallEventWeight*L1prefiringWeight/Bin40\n",
      "PythiaWeight_isr_muR0p25 * PythiaWeight_fsr_muR0p25*p_Gen_GG_SIG_kappaTopBot_1_ghz1_1_MCFM*KFactor_QCD_ggZZ_Nominal*((Z1Flav*Z2Flav)==(121*121) ||(Z1Flav*Z2Flav)==(169*169) ||(Z1Flav*Z2Flav)==(121*169)  )*137.1*(ZZMass>=220)*(EventTag==0)*1000*xsec*overallEventWeight*L1prefiringWeight/Bin40\n",
      "----------------------\n",
      "up: 16.346809960668907\n",
      "dn: 15.622005171288038\n",
      "om nomnomm: 16.23666119412519\n",
      "here 14.350514677353203\n",
      "here 18.491123764193617\n",
      "here 15.895243048435077\n",
      "here 16.62804802437313\n",
      "here 16.56806943146512\n",
      "here 15.935629502288066\n",
      "here 16.392995933885686\n",
      "here 15.95790115534328\n",
      "here 16.346809960668907\n",
      "here 15.622005171288038\n"
     ]
    },
    {
     "data": {
      "application/vnd.jupyter.widget-view+json": {
       "model_id": "3ebc93ab19fb4999a427a2df237f96b2",
       "version_major": 2,
       "version_minor": 0
      },
      "text/plain": [
       "  0%|          | 0/1 [00:00<?, ?it/s]"
      ]
     },
     "metadata": {},
     "output_type": "display_data"
    },
    {
     "name": "stdout",
     "output_type": "stream",
     "text": [
      "/eos/user/s/skyriaco/Offshell/Syst/highmass/MC_18/200205_CutBased/MC_2018/HighMass/ggH500/ZZ4lAnalysis.root\n",
      "LHEweight_QCDscale_muR2_muF1*p_Gen_GG_SIG_kappaTopBot_1_ghz1_1_MCFM*KFactor_QCD_ggZZ_Nominal*((Z1Flav*Z2Flav)==(121*121) ||(Z1Flav*Z2Flav)==(169*169) ||(Z1Flav*Z2Flav)==(121*169)  )*137.1*(ZZMass>=220)*(EventTag==0)*1000*xsec*overallEventWeight*L1prefiringWeight/Bin40\n",
      "LHEweight_QCDscale_muR0p5_muF1*p_Gen_GG_SIG_kappaTopBot_1_ghz1_1_MCFM*KFactor_QCD_ggZZ_Nominal*((Z1Flav*Z2Flav)==(121*121) ||(Z1Flav*Z2Flav)==(169*169) ||(Z1Flav*Z2Flav)==(121*169)  )*137.1*(ZZMass>=220)*(EventTag==0)*1000*xsec*overallEventWeight*L1prefiringWeight/Bin40\n",
      "----------------------\n",
      "up: 18.410782891558483\n",
      "dn: 23.787893358501606\n",
      "LHEweight_QCDscale_muR1_muF2*p_Gen_GG_SIG_kappaTopBot_1_ghz1_1_MCFM*KFactor_QCD_ggZZ_Nominal*((Z1Flav*Z2Flav)==(121*121) ||(Z1Flav*Z2Flav)==(169*169) ||(Z1Flav*Z2Flav)==(121*169)  )*137.1*(ZZMass>=220)*(EventTag==0)*1000*xsec*overallEventWeight*L1prefiringWeight/Bin40\n",
      "LHEweight_QCDscale_muR1_muF0p5*p_Gen_GG_SIG_kappaTopBot_1_ghz1_1_MCFM*KFactor_QCD_ggZZ_Nominal*((Z1Flav*Z2Flav)==(121*121) ||(Z1Flav*Z2Flav)==(169*169) ||(Z1Flav*Z2Flav)==(121*169)  )*137.1*(ZZMass>=220)*(EventTag==0)*1000*xsec*overallEventWeight*L1prefiringWeight/Bin40\n",
      "----------------------\n",
      "up: 20.435591717483476\n",
      "dn: 21.337452936917543\n",
      "LHEweight_PDFVariation_Up*p_Gen_GG_SIG_kappaTopBot_1_ghz1_1_MCFM*KFactor_QCD_ggZZ_Nominal*((Z1Flav*Z2Flav)==(121*121) ||(Z1Flav*Z2Flav)==(169*169) ||(Z1Flav*Z2Flav)==(121*169)  )*137.1*(ZZMass>=220)*(EventTag==0)*1000*xsec*overallEventWeight*L1prefiringWeight/Bin40\n",
      "LHEweight_PDFVariation_Dn*p_Gen_GG_SIG_kappaTopBot_1_ghz1_1_MCFM*KFactor_QCD_ggZZ_Nominal*((Z1Flav*Z2Flav)==(121*121) ||(Z1Flav*Z2Flav)==(169*169) ||(Z1Flav*Z2Flav)==(121*169)  )*137.1*(ZZMass>=220)*(EventTag==0)*1000*xsec*overallEventWeight*L1prefiringWeight/Bin40\n",
      "----------------------\n",
      "up: 21.284833978279494\n",
      "dn: 20.46915219828952\n",
      "LHEweight_AsMZ_Up*p_Gen_GG_SIG_kappaTopBot_1_ghz1_1_MCFM*KFactor_QCD_ggZZ_Nominal*((Z1Flav*Z2Flav)==(121*121) ||(Z1Flav*Z2Flav)==(169*169) ||(Z1Flav*Z2Flav)==(121*169)  )*137.1*(ZZMass>=220)*(EventTag==0)*1000*xsec*overallEventWeight*L1prefiringWeight/Bin40\n",
      "LHEweight_AsMZ_Dn*p_Gen_GG_SIG_kappaTopBot_1_ghz1_1_MCFM*KFactor_QCD_ggZZ_Nominal*((Z1Flav*Z2Flav)==(121*121) ||(Z1Flav*Z2Flav)==(169*169) ||(Z1Flav*Z2Flav)==(121*169)  )*137.1*(ZZMass>=220)*(EventTag==0)*1000*xsec*overallEventWeight*L1prefiringWeight/Bin40\n",
      "----------------------\n",
      "up: 21.057913961820304\n",
      "dn: 20.493883321178146\n",
      "PythiaWeight_isr_muR4 * PythiaWeight_fsr_muR4*p_Gen_GG_SIG_kappaTopBot_1_ghz1_1_MCFM*KFactor_QCD_ggZZ_Nominal*((Z1Flav*Z2Flav)==(121*121) ||(Z1Flav*Z2Flav)==(169*169) ||(Z1Flav*Z2Flav)==(121*169)  )*137.1*(ZZMass>=220)*(EventTag==0)*1000*xsec*overallEventWeight*L1prefiringWeight/Bin40\n",
      "PythiaWeight_isr_muR0p25 * PythiaWeight_fsr_muR0p25*p_Gen_GG_SIG_kappaTopBot_1_ghz1_1_MCFM*KFactor_QCD_ggZZ_Nominal*((Z1Flav*Z2Flav)==(121*121) ||(Z1Flav*Z2Flav)==(169*169) ||(Z1Flav*Z2Flav)==(121*169)  )*137.1*(ZZMass>=220)*(EventTag==0)*1000*xsec*overallEventWeight*L1prefiringWeight/Bin40\n",
      "----------------------\n",
      "up: 21.143599797273055\n",
      "dn: 19.84660800913116\n",
      "om nomnomm: 20.85640774422791\n",
      "here 18.410782891558483\n",
      "here 23.787893358501606\n",
      "here 20.435591717483476\n",
      "here 21.337452936917543\n",
      "here 21.284833978279494\n",
      "here 20.46915219828952\n",
      "here 21.057913961820304\n",
      "here 20.493883321178146\n",
      "here 21.143599797273055\n",
      "here 19.84660800913116\n"
     ]
    },
    {
     "data": {
      "application/vnd.jupyter.widget-view+json": {
       "model_id": "a7aeb82b490a45f4ae48314727d2eeaf",
       "version_major": 2,
       "version_minor": 0
      },
      "text/plain": [
       "  0%|          | 0/1 [00:00<?, ?it/s]"
      ]
     },
     "metadata": {},
     "output_type": "display_data"
    },
    {
     "name": "stdout",
     "output_type": "stream",
     "text": [
      "/eos/user/s/skyriaco/Offshell/Syst/highmass/MC_18/200205_CutBased/MC_2018/HighMass/ggH550/ZZ4lAnalysis.root\n",
      "LHEweight_QCDscale_muR2_muF1*p_Gen_GG_SIG_kappaTopBot_1_ghz1_1_MCFM*KFactor_QCD_ggZZ_Nominal*((Z1Flav*Z2Flav)==(121*121) ||(Z1Flav*Z2Flav)==(169*169) ||(Z1Flav*Z2Flav)==(121*169)  )*137.1*(ZZMass>=220)*(EventTag==0)*1000*xsec*overallEventWeight*L1prefiringWeight/Bin40\n",
      "LHEweight_QCDscale_muR0p5_muF1*p_Gen_GG_SIG_kappaTopBot_1_ghz1_1_MCFM*KFactor_QCD_ggZZ_Nominal*((Z1Flav*Z2Flav)==(121*121) ||(Z1Flav*Z2Flav)==(169*169) ||(Z1Flav*Z2Flav)==(121*169)  )*137.1*(ZZMass>=220)*(EventTag==0)*1000*xsec*overallEventWeight*L1prefiringWeight/Bin40\n",
      "----------------------\n",
      "up: 20.58098059333861\n",
      "dn: 26.561948268674314\n",
      "LHEweight_QCDscale_muR1_muF2*p_Gen_GG_SIG_kappaTopBot_1_ghz1_1_MCFM*KFactor_QCD_ggZZ_Nominal*((Z1Flav*Z2Flav)==(121*121) ||(Z1Flav*Z2Flav)==(169*169) ||(Z1Flav*Z2Flav)==(121*169)  )*137.1*(ZZMass>=220)*(EventTag==0)*1000*xsec*overallEventWeight*L1prefiringWeight/Bin40\n",
      "LHEweight_QCDscale_muR1_muF0p5*p_Gen_GG_SIG_kappaTopBot_1_ghz1_1_MCFM*KFactor_QCD_ggZZ_Nominal*((Z1Flav*Z2Flav)==(121*121) ||(Z1Flav*Z2Flav)==(169*169) ||(Z1Flav*Z2Flav)==(121*169)  )*137.1*(ZZMass>=220)*(EventTag==0)*1000*xsec*overallEventWeight*L1prefiringWeight/Bin40\n",
      "----------------------\n",
      "up: 22.787283050827682\n",
      "dn: 23.89588811248541\n",
      "LHEweight_PDFVariation_Up*p_Gen_GG_SIG_kappaTopBot_1_ghz1_1_MCFM*KFactor_QCD_ggZZ_Nominal*((Z1Flav*Z2Flav)==(121*121) ||(Z1Flav*Z2Flav)==(169*169) ||(Z1Flav*Z2Flav)==(121*169)  )*137.1*(ZZMass>=220)*(EventTag==0)*1000*xsec*overallEventWeight*L1prefiringWeight/Bin40\n",
      "LHEweight_PDFVariation_Dn*p_Gen_GG_SIG_kappaTopBot_1_ghz1_1_MCFM*KFactor_QCD_ggZZ_Nominal*((Z1Flav*Z2Flav)==(121*121) ||(Z1Flav*Z2Flav)==(169*169) ||(Z1Flav*Z2Flav)==(121*169)  )*137.1*(ZZMass>=220)*(EventTag==0)*1000*xsec*overallEventWeight*L1prefiringWeight/Bin40\n",
      "----------------------\n",
      "up: 23.777571733109653\n",
      "dn: 22.871386848390102\n",
      "LHEweight_AsMZ_Up*p_Gen_GG_SIG_kappaTopBot_1_ghz1_1_MCFM*KFactor_QCD_ggZZ_Nominal*((Z1Flav*Z2Flav)==(121*121) ||(Z1Flav*Z2Flav)==(169*169) ||(Z1Flav*Z2Flav)==(121*169)  )*137.1*(ZZMass>=220)*(EventTag==0)*1000*xsec*overallEventWeight*L1prefiringWeight/Bin40\n",
      "LHEweight_AsMZ_Dn*p_Gen_GG_SIG_kappaTopBot_1_ghz1_1_MCFM*KFactor_QCD_ggZZ_Nominal*((Z1Flav*Z2Flav)==(121*121) ||(Z1Flav*Z2Flav)==(169*169) ||(Z1Flav*Z2Flav)==(121*169)  )*137.1*(ZZMass>=220)*(EventTag==0)*1000*xsec*overallEventWeight*L1prefiringWeight/Bin40\n",
      "----------------------\n",
      "up: 23.525277632288635\n",
      "dn: 22.900021542795002\n",
      "PythiaWeight_isr_muR4 * PythiaWeight_fsr_muR4*p_Gen_GG_SIG_kappaTopBot_1_ghz1_1_MCFM*KFactor_QCD_ggZZ_Nominal*((Z1Flav*Z2Flav)==(121*121) ||(Z1Flav*Z2Flav)==(169*169) ||(Z1Flav*Z2Flav)==(121*169)  )*137.1*(ZZMass>=220)*(EventTag==0)*1000*xsec*overallEventWeight*L1prefiringWeight/Bin40\n",
      "PythiaWeight_isr_muR0p25 * PythiaWeight_fsr_muR0p25*p_Gen_GG_SIG_kappaTopBot_1_ghz1_1_MCFM*KFactor_QCD_ggZZ_Nominal*((Z1Flav*Z2Flav)==(121*121) ||(Z1Flav*Z2Flav)==(169*169) ||(Z1Flav*Z2Flav)==(121*169)  )*137.1*(ZZMass>=220)*(EventTag==0)*1000*xsec*overallEventWeight*L1prefiringWeight/Bin40\n",
      "----------------------\n",
      "up: 23.82020277250558\n",
      "dn: 20.822156730573624\n",
      "om nomnomm: 23.302086455747485\n",
      "here 20.58098059333861\n",
      "here 26.561948268674314\n",
      "here 22.787283050827682\n",
      "here 23.89588811248541\n",
      "here 23.777571733109653\n",
      "here 22.871386848390102\n",
      "here 23.525277632288635\n",
      "here 22.900021542795002\n",
      "here 23.82020277250558\n",
      "here 20.822156730573624\n"
     ]
    },
    {
     "data": {
      "application/vnd.jupyter.widget-view+json": {
       "model_id": "21c1e5d36d9b46c29f00aaabd88f74c6",
       "version_major": 2,
       "version_minor": 0
      },
      "text/plain": [
       "  0%|          | 0/1 [00:00<?, ?it/s]"
      ]
     },
     "metadata": {},
     "output_type": "display_data"
    },
    {
     "name": "stdout",
     "output_type": "stream",
     "text": [
      "/eos/user/s/skyriaco/Offshell/Syst/highmass/MC_18/200205_CutBased/MC_2018/HighMass/ggH600/ZZ4lAnalysis.root\n",
      "LHEweight_QCDscale_muR2_muF1*p_Gen_GG_SIG_kappaTopBot_1_ghz1_1_MCFM*KFactor_QCD_ggZZ_Nominal*((Z1Flav*Z2Flav)==(121*121) ||(Z1Flav*Z2Flav)==(169*169) ||(Z1Flav*Z2Flav)==(121*169)  )*137.1*(ZZMass>=220)*(EventTag==0)*1000*xsec*overallEventWeight*L1prefiringWeight/Bin40\n",
      "LHEweight_QCDscale_muR0p5_muF1*p_Gen_GG_SIG_kappaTopBot_1_ghz1_1_MCFM*KFactor_QCD_ggZZ_Nominal*((Z1Flav*Z2Flav)==(121*121) ||(Z1Flav*Z2Flav)==(169*169) ||(Z1Flav*Z2Flav)==(121*169)  )*137.1*(ZZMass>=220)*(EventTag==0)*1000*xsec*overallEventWeight*L1prefiringWeight/Bin40\n",
      "----------------------\n",
      "up: 25.95306185539812\n",
      "dn: 33.67290479270741\n",
      "LHEweight_QCDscale_muR1_muF2*p_Gen_GG_SIG_kappaTopBot_1_ghz1_1_MCFM*KFactor_QCD_ggZZ_Nominal*((Z1Flav*Z2Flav)==(121*121) ||(Z1Flav*Z2Flav)==(169*169) ||(Z1Flav*Z2Flav)==(121*169)  )*137.1*(ZZMass>=220)*(EventTag==0)*1000*xsec*overallEventWeight*L1prefiringWeight/Bin40\n",
      "LHEweight_QCDscale_muR1_muF0p5*p_Gen_GG_SIG_kappaTopBot_1_ghz1_1_MCFM*KFactor_QCD_ggZZ_Nominal*((Z1Flav*Z2Flav)==(121*121) ||(Z1Flav*Z2Flav)==(169*169) ||(Z1Flav*Z2Flav)==(121*169)  )*137.1*(ZZMass>=220)*(EventTag==0)*1000*xsec*overallEventWeight*L1prefiringWeight/Bin40\n",
      "----------------------\n",
      "up: 28.790418702410534\n",
      "dn: 30.21430870925542\n",
      "LHEweight_PDFVariation_Up*p_Gen_GG_SIG_kappaTopBot_1_ghz1_1_MCFM*KFactor_QCD_ggZZ_Nominal*((Z1Flav*Z2Flav)==(121*121) ||(Z1Flav*Z2Flav)==(169*169) ||(Z1Flav*Z2Flav)==(121*169)  )*137.1*(ZZMass>=220)*(EventTag==0)*1000*xsec*overallEventWeight*L1prefiringWeight/Bin40\n",
      "LHEweight_PDFVariation_Dn*p_Gen_GG_SIG_kappaTopBot_1_ghz1_1_MCFM*KFactor_QCD_ggZZ_Nominal*((Z1Flav*Z2Flav)==(121*121) ||(Z1Flav*Z2Flav)==(169*169) ||(Z1Flav*Z2Flav)==(121*169)  )*137.1*(ZZMass>=220)*(EventTag==0)*1000*xsec*overallEventWeight*L1prefiringWeight/Bin40\n",
      "----------------------\n",
      "up: 30.05485989677254\n",
      "dn: 28.904394543962553\n",
      "LHEweight_AsMZ_Up*p_Gen_GG_SIG_kappaTopBot_1_ghz1_1_MCFM*KFactor_QCD_ggZZ_Nominal*((Z1Flav*Z2Flav)==(121*121) ||(Z1Flav*Z2Flav)==(169*169) ||(Z1Flav*Z2Flav)==(121*169)  )*137.1*(ZZMass>=220)*(EventTag==0)*1000*xsec*overallEventWeight*L1prefiringWeight/Bin40\n",
      "LHEweight_AsMZ_Dn*p_Gen_GG_SIG_kappaTopBot_1_ghz1_1_MCFM*KFactor_QCD_ggZZ_Nominal*((Z1Flav*Z2Flav)==(121*121) ||(Z1Flav*Z2Flav)==(169*169) ||(Z1Flav*Z2Flav)==(121*169)  )*137.1*(ZZMass>=220)*(EventTag==0)*1000*xsec*overallEventWeight*L1prefiringWeight/Bin40\n",
      "----------------------\n",
      "up: 29.738949390361086\n",
      "dn: 28.938648997806013\n",
      "PythiaWeight_isr_muR4 * PythiaWeight_fsr_muR4*p_Gen_GG_SIG_kappaTopBot_1_ghz1_1_MCFM*KFactor_QCD_ggZZ_Nominal*((Z1Flav*Z2Flav)==(121*121) ||(Z1Flav*Z2Flav)==(169*169) ||(Z1Flav*Z2Flav)==(121*169)  )*137.1*(ZZMass>=220)*(EventTag==0)*1000*xsec*overallEventWeight*L1prefiringWeight/Bin40\n",
      "PythiaWeight_isr_muR0p25 * PythiaWeight_fsr_muR0p25*p_Gen_GG_SIG_kappaTopBot_1_ghz1_1_MCFM*KFactor_QCD_ggZZ_Nominal*((Z1Flav*Z2Flav)==(121*121) ||(Z1Flav*Z2Flav)==(169*169) ||(Z1Flav*Z2Flav)==(121*169)  )*137.1*(ZZMass>=220)*(EventTag==0)*1000*xsec*overallEventWeight*L1prefiringWeight/Bin40\n",
      "----------------------\n",
      "up: 29.253195624623913\n",
      "dn: 29.199456982372794\n",
      "om nomnomm: 29.451554061146453\n",
      "here 25.95306185539812\n",
      "here 33.67290479270741\n",
      "here 28.790418702410534\n",
      "here 30.21430870925542\n",
      "here 30.05485989677254\n",
      "here 28.904394543962553\n",
      "here 29.738949390361086\n",
      "here 28.938648997806013\n",
      "here 29.253195624623913\n",
      "here 29.199456982372794\n"
     ]
    },
    {
     "data": {
      "application/vnd.jupyter.widget-view+json": {
       "model_id": "19360de5631b434d8838c5bbb471c4a0",
       "version_major": 2,
       "version_minor": 0
      },
      "text/plain": [
       "  0%|          | 0/1 [00:00<?, ?it/s]"
      ]
     },
     "metadata": {},
     "output_type": "display_data"
    },
    {
     "name": "stdout",
     "output_type": "stream",
     "text": [
      "/eos/user/s/skyriaco/Offshell/Syst/highmass/MC_18/200205_CutBased/MC_2018/HighMass/ggH700/ZZ4lAnalysis.root\n",
      "LHEweight_QCDscale_muR2_muF1*p_Gen_GG_SIG_kappaTopBot_1_ghz1_1_MCFM*KFactor_QCD_ggZZ_Nominal*((Z1Flav*Z2Flav)==(121*121) ||(Z1Flav*Z2Flav)==(169*169) ||(Z1Flav*Z2Flav)==(121*169)  )*137.1*(ZZMass>=220)*(EventTag==0)*1000*xsec*overallEventWeight*L1prefiringWeight/Bin40\n",
      "LHEweight_QCDscale_muR0p5_muF1*p_Gen_GG_SIG_kappaTopBot_1_ghz1_1_MCFM*KFactor_QCD_ggZZ_Nominal*((Z1Flav*Z2Flav)==(121*121) ||(Z1Flav*Z2Flav)==(169*169) ||(Z1Flav*Z2Flav)==(121*169)  )*137.1*(ZZMass>=220)*(EventTag==0)*1000*xsec*overallEventWeight*L1prefiringWeight/Bin40\n",
      "----------------------\n",
      "up: 38.88889245016617\n",
      "dn: 50.08489834127249\n",
      "LHEweight_QCDscale_muR1_muF2*p_Gen_GG_SIG_kappaTopBot_1_ghz1_1_MCFM*KFactor_QCD_ggZZ_Nominal*((Z1Flav*Z2Flav)==(121*121) ||(Z1Flav*Z2Flav)==(169*169) ||(Z1Flav*Z2Flav)==(121*169)  )*137.1*(ZZMass>=220)*(EventTag==0)*1000*xsec*overallEventWeight*L1prefiringWeight/Bin40\n",
      "LHEweight_QCDscale_muR1_muF0p5*p_Gen_GG_SIG_kappaTopBot_1_ghz1_1_MCFM*KFactor_QCD_ggZZ_Nominal*((Z1Flav*Z2Flav)==(121*121) ||(Z1Flav*Z2Flav)==(169*169) ||(Z1Flav*Z2Flav)==(121*169)  )*137.1*(ZZMass>=220)*(EventTag==0)*1000*xsec*overallEventWeight*L1prefiringWeight/Bin40\n",
      "----------------------\n",
      "up: 43.064789727155585\n",
      "dn: 45.0567154987948\n",
      "LHEweight_PDFVariation_Up*p_Gen_GG_SIG_kappaTopBot_1_ghz1_1_MCFM*KFactor_QCD_ggZZ_Nominal*((Z1Flav*Z2Flav)==(121*121) ||(Z1Flav*Z2Flav)==(169*169) ||(Z1Flav*Z2Flav)==(121*169)  )*137.1*(ZZMass>=220)*(EventTag==0)*1000*xsec*overallEventWeight*L1prefiringWeight/Bin40\n",
      "LHEweight_PDFVariation_Dn*p_Gen_GG_SIG_kappaTopBot_1_ghz1_1_MCFM*KFactor_QCD_ggZZ_Nominal*((Z1Flav*Z2Flav)==(121*121) ||(Z1Flav*Z2Flav)==(169*169) ||(Z1Flav*Z2Flav)==(121*169)  )*137.1*(ZZMass>=220)*(EventTag==0)*1000*xsec*overallEventWeight*L1prefiringWeight/Bin40\n",
      "----------------------\n",
      "up: 44.88779832830187\n",
      "dn: 43.18451418718905\n",
      "LHEweight_AsMZ_Up*p_Gen_GG_SIG_kappaTopBot_1_ghz1_1_MCFM*KFactor_QCD_ggZZ_Nominal*((Z1Flav*Z2Flav)==(121*121) ||(Z1Flav*Z2Flav)==(169*169) ||(Z1Flav*Z2Flav)==(121*169)  )*137.1*(ZZMass>=220)*(EventTag==0)*1000*xsec*overallEventWeight*L1prefiringWeight/Bin40\n",
      "LHEweight_AsMZ_Dn*p_Gen_GG_SIG_kappaTopBot_1_ghz1_1_MCFM*KFactor_QCD_ggZZ_Nominal*((Z1Flav*Z2Flav)==(121*121) ||(Z1Flav*Z2Flav)==(169*169) ||(Z1Flav*Z2Flav)==(121*169)  )*137.1*(ZZMass>=220)*(EventTag==0)*1000*xsec*overallEventWeight*L1prefiringWeight/Bin40\n",
      "----------------------\n",
      "up: 44.40914813213749\n",
      "dn: 43.23752957486431\n",
      "PythiaWeight_isr_muR4 * PythiaWeight_fsr_muR4*p_Gen_GG_SIG_kappaTopBot_1_ghz1_1_MCFM*KFactor_QCD_ggZZ_Nominal*((Z1Flav*Z2Flav)==(121*121) ||(Z1Flav*Z2Flav)==(169*169) ||(Z1Flav*Z2Flav)==(121*169)  )*137.1*(ZZMass>=220)*(EventTag==0)*1000*xsec*overallEventWeight*L1prefiringWeight/Bin40\n",
      "PythiaWeight_isr_muR0p25 * PythiaWeight_fsr_muR0p25*p_Gen_GG_SIG_kappaTopBot_1_ghz1_1_MCFM*KFactor_QCD_ggZZ_Nominal*((Z1Flav*Z2Flav)==(121*121) ||(Z1Flav*Z2Flav)==(169*169) ||(Z1Flav*Z2Flav)==(121*169)  )*137.1*(ZZMass>=220)*(EventTag==0)*1000*xsec*overallEventWeight*L1prefiringWeight/Bin40\n",
      "----------------------\n",
      "up: 45.0089890799718\n",
      "dn: 43.149959548783954\n",
      "om nomnomm: 43.99157451058272\n",
      "here 38.88889245016617\n",
      "here 50.08489834127249\n",
      "here 43.064789727155585\n",
      "here 45.0567154987948\n",
      "here 44.88779832830187\n",
      "here 43.18451418718905\n",
      "here 44.40914813213749\n",
      "here 43.23752957486431\n",
      "here 45.0089890799718\n",
      "here 43.149959548783954\n"
     ]
    },
    {
     "data": {
      "application/vnd.jupyter.widget-view+json": {
       "model_id": "1828a9e9a0b3428eb7f78f2ad09debd3",
       "version_major": 2,
       "version_minor": 0
      },
      "text/plain": [
       "  0%|          | 0/1 [00:00<?, ?it/s]"
      ]
     },
     "metadata": {},
     "output_type": "display_data"
    },
    {
     "name": "stdout",
     "output_type": "stream",
     "text": [
      "/eos/user/s/skyriaco/Offshell/Syst/highmass/MC_18/200205_CutBased/MC_2018/HighMass/ggH750/ZZ4lAnalysis.root\n",
      "LHEweight_QCDscale_muR2_muF1*p_Gen_GG_SIG_kappaTopBot_1_ghz1_1_MCFM*KFactor_QCD_ggZZ_Nominal*((Z1Flav*Z2Flav)==(121*121) ||(Z1Flav*Z2Flav)==(169*169) ||(Z1Flav*Z2Flav)==(121*169)  )*137.1*(ZZMass>=220)*(EventTag==0)*1000*xsec*overallEventWeight*L1prefiringWeight/Bin40\n",
      "LHEweight_QCDscale_muR0p5_muF1*p_Gen_GG_SIG_kappaTopBot_1_ghz1_1_MCFM*KFactor_QCD_ggZZ_Nominal*((Z1Flav*Z2Flav)==(121*121) ||(Z1Flav*Z2Flav)==(169*169) ||(Z1Flav*Z2Flav)==(121*169)  )*137.1*(ZZMass>=220)*(EventTag==0)*1000*xsec*overallEventWeight*L1prefiringWeight/Bin40\n",
      "----------------------\n",
      "up: 45.201558044034755\n",
      "dn: 58.13379420421552\n",
      "LHEweight_QCDscale_muR1_muF2*p_Gen_GG_SIG_kappaTopBot_1_ghz1_1_MCFM*KFactor_QCD_ggZZ_Nominal*((Z1Flav*Z2Flav)==(121*121) ||(Z1Flav*Z2Flav)==(169*169) ||(Z1Flav*Z2Flav)==(121*169)  )*137.1*(ZZMass>=220)*(EventTag==0)*1000*xsec*overallEventWeight*L1prefiringWeight/Bin40\n",
      "LHEweight_QCDscale_muR1_muF0p5*p_Gen_GG_SIG_kappaTopBot_1_ghz1_1_MCFM*KFactor_QCD_ggZZ_Nominal*((Z1Flav*Z2Flav)==(121*121) ||(Z1Flav*Z2Flav)==(169*169) ||(Z1Flav*Z2Flav)==(121*169)  )*137.1*(ZZMass>=220)*(EventTag==0)*1000*xsec*overallEventWeight*L1prefiringWeight/Bin40\n",
      "----------------------\n",
      "up: 50.02584345304058\n",
      "dn: 52.33695583321969\n",
      "LHEweight_PDFVariation_Up*p_Gen_GG_SIG_kappaTopBot_1_ghz1_1_MCFM*KFactor_QCD_ggZZ_Nominal*((Z1Flav*Z2Flav)==(121*121) ||(Z1Flav*Z2Flav)==(169*169) ||(Z1Flav*Z2Flav)==(121*169)  )*137.1*(ZZMass>=220)*(EventTag==0)*1000*xsec*overallEventWeight*L1prefiringWeight/Bin40\n",
      "LHEweight_PDFVariation_Dn*p_Gen_GG_SIG_kappaTopBot_1_ghz1_1_MCFM*KFactor_QCD_ggZZ_Nominal*((Z1Flav*Z2Flav)==(121*121) ||(Z1Flav*Z2Flav)==(169*169) ||(Z1Flav*Z2Flav)==(121*169)  )*137.1*(ZZMass>=220)*(EventTag==0)*1000*xsec*overallEventWeight*L1prefiringWeight/Bin40\n",
      "----------------------\n",
      "up: 52.13413885177579\n",
      "dn: 50.16657717447379\n",
      "LHEweight_AsMZ_Up*p_Gen_GG_SIG_kappaTopBot_1_ghz1_1_MCFM*KFactor_QCD_ggZZ_Nominal*((Z1Flav*Z2Flav)==(121*121) ||(Z1Flav*Z2Flav)==(169*169) ||(Z1Flav*Z2Flav)==(121*169)  )*137.1*(ZZMass>=220)*(EventTag==0)*1000*xsec*overallEventWeight*L1prefiringWeight/Bin40\n",
      "LHEweight_AsMZ_Dn*p_Gen_GG_SIG_kappaTopBot_1_ghz1_1_MCFM*KFactor_QCD_ggZZ_Nominal*((Z1Flav*Z2Flav)==(121*121) ||(Z1Flav*Z2Flav)==(169*169) ||(Z1Flav*Z2Flav)==(121*169)  )*137.1*(ZZMass>=220)*(EventTag==0)*1000*xsec*overallEventWeight*L1prefiringWeight/Bin40\n",
      "----------------------\n",
      "up: 51.580179476644844\n",
      "dn: 50.230066032498144\n",
      "PythiaWeight_isr_muR4 * PythiaWeight_fsr_muR4*p_Gen_GG_SIG_kappaTopBot_1_ghz1_1_MCFM*KFactor_QCD_ggZZ_Nominal*((Z1Flav*Z2Flav)==(121*121) ||(Z1Flav*Z2Flav)==(169*169) ||(Z1Flav*Z2Flav)==(121*169)  )*137.1*(ZZMass>=220)*(EventTag==0)*1000*xsec*overallEventWeight*L1prefiringWeight/Bin40\n",
      "PythiaWeight_isr_muR0p25 * PythiaWeight_fsr_muR0p25*p_Gen_GG_SIG_kappaTopBot_1_ghz1_1_MCFM*KFactor_QCD_ggZZ_Nominal*((Z1Flav*Z2Flav)==(121*121) ||(Z1Flav*Z2Flav)==(169*169) ||(Z1Flav*Z2Flav)==(121*169)  )*137.1*(ZZMass>=220)*(EventTag==0)*1000*xsec*overallEventWeight*L1prefiringWeight/Bin40\n",
      "----------------------\n",
      "up: 52.14005814757547\n",
      "dn: 47.97180490884057\n",
      "om nomnomm: 51.100521664193366\n",
      "here 45.201558044034755\n",
      "here 58.13379420421552\n",
      "here 50.02584345304058\n",
      "here 52.33695583321969\n",
      "here 52.13413885177579\n",
      "here 50.16657717447379\n",
      "here 51.580179476644844\n",
      "here 50.230066032498144\n",
      "here 52.14005814757547\n",
      "here 47.97180490884057\n"
     ]
    },
    {
     "data": {
      "application/vnd.jupyter.widget-view+json": {
       "model_id": "918b2b1a678e4bfb8949b7cbb74f5500",
       "version_major": 2,
       "version_minor": 0
      },
      "text/plain": [
       "  0%|          | 0/1 [00:00<?, ?it/s]"
      ]
     },
     "metadata": {},
     "output_type": "display_data"
    },
    {
     "name": "stdout",
     "output_type": "stream",
     "text": [
      "/eos/user/s/skyriaco/Offshell/Syst/highmass/MC_18/200205_CutBased/MC_2018/HighMass/ggH800/ZZ4lAnalysis.root\n",
      "LHEweight_QCDscale_muR2_muF1*p_Gen_GG_SIG_kappaTopBot_1_ghz1_1_MCFM*KFactor_QCD_ggZZ_Nominal*((Z1Flav*Z2Flav)==(121*121) ||(Z1Flav*Z2Flav)==(169*169) ||(Z1Flav*Z2Flav)==(121*169)  )*137.1*(ZZMass>=220)*(EventTag==0)*1000*xsec*overallEventWeight*L1prefiringWeight/Bin40\n",
      "LHEweight_QCDscale_muR0p5_muF1*p_Gen_GG_SIG_kappaTopBot_1_ghz1_1_MCFM*KFactor_QCD_ggZZ_Nominal*((Z1Flav*Z2Flav)==(121*121) ||(Z1Flav*Z2Flav)==(169*169) ||(Z1Flav*Z2Flav)==(121*169)  )*137.1*(ZZMass>=220)*(EventTag==0)*1000*xsec*overallEventWeight*L1prefiringWeight/Bin40\n",
      "----------------------\n",
      "up: 53.835974150919355\n",
      "dn: 69.57234578498174\n",
      "LHEweight_QCDscale_muR1_muF2*p_Gen_GG_SIG_kappaTopBot_1_ghz1_1_MCFM*KFactor_QCD_ggZZ_Nominal*((Z1Flav*Z2Flav)==(121*121) ||(Z1Flav*Z2Flav)==(169*169) ||(Z1Flav*Z2Flav)==(121*169)  )*137.1*(ZZMass>=220)*(EventTag==0)*1000*xsec*overallEventWeight*L1prefiringWeight/Bin40\n",
      "LHEweight_QCDscale_muR1_muF0p5*p_Gen_GG_SIG_kappaTopBot_1_ghz1_1_MCFM*KFactor_QCD_ggZZ_Nominal*((Z1Flav*Z2Flav)==(121*121) ||(Z1Flav*Z2Flav)==(169*169) ||(Z1Flav*Z2Flav)==(121*169)  )*137.1*(ZZMass>=220)*(EventTag==0)*1000*xsec*overallEventWeight*L1prefiringWeight/Bin40\n",
      "----------------------\n",
      "up: 59.671614872990176\n",
      "dn: 62.50431371445302\n",
      "LHEweight_PDFVariation_Up*p_Gen_GG_SIG_kappaTopBot_1_ghz1_1_MCFM*KFactor_QCD_ggZZ_Nominal*((Z1Flav*Z2Flav)==(121*121) ||(Z1Flav*Z2Flav)==(169*169) ||(Z1Flav*Z2Flav)==(121*169)  )*137.1*(ZZMass>=220)*(EventTag==0)*1000*xsec*overallEventWeight*L1prefiringWeight/Bin40\n",
      "LHEweight_PDFVariation_Dn*p_Gen_GG_SIG_kappaTopBot_1_ghz1_1_MCFM*KFactor_QCD_ggZZ_Nominal*((Z1Flav*Z2Flav)==(121*121) ||(Z1Flav*Z2Flav)==(169*169) ||(Z1Flav*Z2Flav)==(121*169)  )*137.1*(ZZMass>=220)*(EventTag==0)*1000*xsec*overallEventWeight*L1prefiringWeight/Bin40\n",
      "----------------------\n",
      "up: 62.22625030216295\n",
      "dn: 59.87108736339724\n",
      "LHEweight_AsMZ_Up*p_Gen_GG_SIG_kappaTopBot_1_ghz1_1_MCFM*KFactor_QCD_ggZZ_Nominal*((Z1Flav*Z2Flav)==(121*121) ||(Z1Flav*Z2Flav)==(169*169) ||(Z1Flav*Z2Flav)==(121*169)  )*137.1*(ZZMass>=220)*(EventTag==0)*1000*xsec*overallEventWeight*L1prefiringWeight/Bin40\n",
      "LHEweight_AsMZ_Dn*p_Gen_GG_SIG_kappaTopBot_1_ghz1_1_MCFM*KFactor_QCD_ggZZ_Nominal*((Z1Flav*Z2Flav)==(121*121) ||(Z1Flav*Z2Flav)==(169*169) ||(Z1Flav*Z2Flav)==(121*169)  )*137.1*(ZZMass>=220)*(EventTag==0)*1000*xsec*overallEventWeight*L1prefiringWeight/Bin40\n",
      "----------------------\n",
      "up: 61.57456798409112\n",
      "dn: 59.93874398700427\n",
      "PythiaWeight_isr_muR4 * PythiaWeight_fsr_muR4*p_Gen_GG_SIG_kappaTopBot_1_ghz1_1_MCFM*KFactor_QCD_ggZZ_Nominal*((Z1Flav*Z2Flav)==(121*121) ||(Z1Flav*Z2Flav)==(169*169) ||(Z1Flav*Z2Flav)==(121*169)  )*137.1*(ZZMass>=220)*(EventTag==0)*1000*xsec*overallEventWeight*L1prefiringWeight/Bin40\n",
      "PythiaWeight_isr_muR0p25 * PythiaWeight_fsr_muR0p25*p_Gen_GG_SIG_kappaTopBot_1_ghz1_1_MCFM*KFactor_QCD_ggZZ_Nominal*((Z1Flav*Z2Flav)==(121*121) ||(Z1Flav*Z2Flav)==(169*169) ||(Z1Flav*Z2Flav)==(121*169)  )*137.1*(ZZMass>=220)*(EventTag==0)*1000*xsec*overallEventWeight*L1prefiringWeight/Bin40\n",
      "----------------------\n",
      "up: 60.38136144308373\n",
      "dn: 67.71439940005075\n",
      "om nomnomm: 60.9884005850181\n",
      "here 53.835974150919355\n",
      "here 69.57234578498174\n",
      "here 59.671614872990176\n",
      "here 62.50431371445302\n",
      "here 62.22625030216295\n",
      "here 59.87108736339724\n",
      "here 61.57456798409112\n",
      "here 59.93874398700427\n",
      "here 60.38136144308373\n",
      "here 67.71439940005075\n"
     ]
    },
    {
     "data": {
      "application/vnd.jupyter.widget-view+json": {
       "model_id": "55e9243be47e475582d8e38f183ceb6e",
       "version_major": 2,
       "version_minor": 0
      },
      "text/plain": [
       "  0%|          | 0/1 [00:00<?, ?it/s]"
      ]
     },
     "metadata": {},
     "output_type": "display_data"
    },
    {
     "name": "stdout",
     "output_type": "stream",
     "text": [
      "/eos/user/s/skyriaco/Offshell/Syst/highmass/MC_18/200205_CutBased/MC_2018/HighMass/ggH900/ZZ4lAnalysis.root\n",
      "LHEweight_QCDscale_muR2_muF1*p_Gen_GG_SIG_kappaTopBot_1_ghz1_1_MCFM*KFactor_QCD_ggZZ_Nominal*((Z1Flav*Z2Flav)==(121*121) ||(Z1Flav*Z2Flav)==(169*169) ||(Z1Flav*Z2Flav)==(121*169)  )*137.1*(ZZMass>=220)*(EventTag==0)*1000*xsec*overallEventWeight*L1prefiringWeight/Bin40\n",
      "LHEweight_QCDscale_muR0p5_muF1*p_Gen_GG_SIG_kappaTopBot_1_ghz1_1_MCFM*KFactor_QCD_ggZZ_Nominal*((Z1Flav*Z2Flav)==(121*121) ||(Z1Flav*Z2Flav)==(169*169) ||(Z1Flav*Z2Flav)==(121*169)  )*137.1*(ZZMass>=220)*(EventTag==0)*1000*xsec*overallEventWeight*L1prefiringWeight/Bin40\n",
      "----------------------\n",
      "up: 75.31089368020184\n",
      "dn: 97.10298660444096\n",
      "LHEweight_QCDscale_muR1_muF2*p_Gen_GG_SIG_kappaTopBot_1_ghz1_1_MCFM*KFactor_QCD_ggZZ_Nominal*((Z1Flav*Z2Flav)==(121*121) ||(Z1Flav*Z2Flav)==(169*169) ||(Z1Flav*Z2Flav)==(121*169)  )*137.1*(ZZMass>=220)*(EventTag==0)*1000*xsec*overallEventWeight*L1prefiringWeight/Bin40\n",
      "LHEweight_QCDscale_muR1_muF0p5*p_Gen_GG_SIG_kappaTopBot_1_ghz1_1_MCFM*KFactor_QCD_ggZZ_Nominal*((Z1Flav*Z2Flav)==(121*121) ||(Z1Flav*Z2Flav)==(169*169) ||(Z1Flav*Z2Flav)==(121*169)  )*137.1*(ZZMass>=220)*(EventTag==0)*1000*xsec*overallEventWeight*L1prefiringWeight/Bin40\n",
      "----------------------\n",
      "up: 83.32187167974189\n",
      "dn: 87.43418206216302\n",
      "LHEweight_PDFVariation_Up*p_Gen_GG_SIG_kappaTopBot_1_ghz1_1_MCFM*KFactor_QCD_ggZZ_Nominal*((Z1Flav*Z2Flav)==(121*121) ||(Z1Flav*Z2Flav)==(169*169) ||(Z1Flav*Z2Flav)==(121*169)  )*137.1*(ZZMass>=220)*(EventTag==0)*1000*xsec*overallEventWeight*L1prefiringWeight/Bin40\n",
      "LHEweight_PDFVariation_Dn*p_Gen_GG_SIG_kappaTopBot_1_ghz1_1_MCFM*KFactor_QCD_ggZZ_Nominal*((Z1Flav*Z2Flav)==(121*121) ||(Z1Flav*Z2Flav)==(169*169) ||(Z1Flav*Z2Flav)==(121*169)  )*137.1*(ZZMass>=220)*(EventTag==0)*1000*xsec*overallEventWeight*L1prefiringWeight/Bin40\n",
      "----------------------\n",
      "up: 86.98013311135583\n",
      "dn: 83.65465265070088\n",
      "LHEweight_AsMZ_Up*p_Gen_GG_SIG_kappaTopBot_1_ghz1_1_MCFM*KFactor_QCD_ggZZ_Nominal*((Z1Flav*Z2Flav)==(121*121) ||(Z1Flav*Z2Flav)==(169*169) ||(Z1Flav*Z2Flav)==(121*169)  )*137.1*(ZZMass>=220)*(EventTag==0)*1000*xsec*overallEventWeight*L1prefiringWeight/Bin40\n",
      "LHEweight_AsMZ_Dn*p_Gen_GG_SIG_kappaTopBot_1_ghz1_1_MCFM*KFactor_QCD_ggZZ_Nominal*((Z1Flav*Z2Flav)==(121*121) ||(Z1Flav*Z2Flav)==(169*169) ||(Z1Flav*Z2Flav)==(121*169)  )*137.1*(ZZMass>=220)*(EventTag==0)*1000*xsec*overallEventWeight*L1prefiringWeight/Bin40\n",
      "----------------------\n",
      "up: 86.05616640578955\n",
      "dn: 83.76426911726594\n",
      "PythiaWeight_isr_muR4 * PythiaWeight_fsr_muR4*p_Gen_GG_SIG_kappaTopBot_1_ghz1_1_MCFM*KFactor_QCD_ggZZ_Nominal*((Z1Flav*Z2Flav)==(121*121) ||(Z1Flav*Z2Flav)==(169*169) ||(Z1Flav*Z2Flav)==(121*169)  )*137.1*(ZZMass>=220)*(EventTag==0)*1000*xsec*overallEventWeight*L1prefiringWeight/Bin40\n",
      "PythiaWeight_isr_muR0p25 * PythiaWeight_fsr_muR0p25*p_Gen_GG_SIG_kappaTopBot_1_ghz1_1_MCFM*KFactor_QCD_ggZZ_Nominal*((Z1Flav*Z2Flav)==(121*121) ||(Z1Flav*Z2Flav)==(169*169) ||(Z1Flav*Z2Flav)==(121*169)  )*137.1*(ZZMass>=220)*(EventTag==0)*1000*xsec*overallEventWeight*L1prefiringWeight/Bin40\n",
      "----------------------\n",
      "up: 85.83508401480503\n",
      "dn: 80.58704877854325\n",
      "om nomnomm: 85.23145499173552\n",
      "here 75.31089368020184\n",
      "here 97.10298660444096\n",
      "here 83.32187167974189\n",
      "here 87.43418206216302\n",
      "here 86.98013311135583\n",
      "here 83.65465265070088\n",
      "here 86.05616640578955\n",
      "here 83.76426911726594\n",
      "here 85.83508401480503\n",
      "here 80.58704877854325\n",
      "hf =  6297.74201053381\n",
      "p_Gen_GG_BSI_kappaTopBot_1_ghz1_1_MCFM*KFactor_QCD_ggZZ_Nominal\n",
      "gg 1 0\n",
      "LHEweight_QCDscale_muR2_muF1*p_Gen_GG_BSI_kappaTopBot_1_ghz1_1_MCFM*KFactor_QCD_ggZZ_Nominal*((Z1Flav*Z2Flav)==(121*121) ||(Z1Flav*Z2Flav)==(169*169) ||(Z1Flav*Z2Flav)==(121*169)  )*137.1*(ZZMass>=220)*(EventTag==0)*1000*xsec*overallEventWeight*L1prefiringWeight/Bin40\n",
      "LHEweight_QCDscale_muR1_muF2*p_Gen_GG_BSI_kappaTopBot_1_ghz1_1_MCFM*KFactor_QCD_ggZZ_Nominal*((Z1Flav*Z2Flav)==(121*121) ||(Z1Flav*Z2Flav)==(169*169) ||(Z1Flav*Z2Flav)==(121*169)  )*137.1*(ZZMass>=220)*(EventTag==0)*1000*xsec*overallEventWeight*L1prefiringWeight/Bin40\n",
      "LHEweight_PDFVariation_Up*p_Gen_GG_BSI_kappaTopBot_1_ghz1_1_MCFM*KFactor_QCD_ggZZ_Nominal*((Z1Flav*Z2Flav)==(121*121) ||(Z1Flav*Z2Flav)==(169*169) ||(Z1Flav*Z2Flav)==(121*169)  )*137.1*(ZZMass>=220)*(EventTag==0)*1000*xsec*overallEventWeight*L1prefiringWeight/Bin40\n",
      "LHEweight_AsMZ_Up*p_Gen_GG_BSI_kappaTopBot_1_ghz1_1_MCFM*KFactor_QCD_ggZZ_Nominal*((Z1Flav*Z2Flav)==(121*121) ||(Z1Flav*Z2Flav)==(169*169) ||(Z1Flav*Z2Flav)==(121*169)  )*137.1*(ZZMass>=220)*(EventTag==0)*1000*xsec*overallEventWeight*L1prefiringWeight/Bin40\n",
      "PythiaWeight_isr_muR4 * PythiaWeight_fsr_muR4*p_Gen_GG_BSI_kappaTopBot_1_ghz1_1_MCFM*KFactor_QCD_ggZZ_Nominal*((Z1Flav*Z2Flav)==(121*121) ||(Z1Flav*Z2Flav)==(169*169) ||(Z1Flav*Z2Flav)==(121*169)  )*137.1*(ZZMass>=220)*(EventTag==0)*1000*xsec*overallEventWeight*L1prefiringWeight/Bin40\n"
     ]
    },
    {
     "data": {
      "application/vnd.jupyter.widget-view+json": {
       "model_id": "8f35598d53ab483b8c656943f79e0562",
       "version_major": 2,
       "version_minor": 0
      },
      "text/plain": [
       "  0%|          | 0/1 [00:00<?, ?it/s]"
      ]
     },
     "metadata": {},
     "output_type": "display_data"
    },
    {
     "data": {
      "application/vnd.jupyter.widget-view+json": {
       "model_id": "d971a23d85c945a0be07691affcf02a0",
       "version_major": 2,
       "version_minor": 0
      },
      "text/plain": [
       "  0%|          | 0/1 [00:00<?, ?it/s]"
      ]
     },
     "metadata": {},
     "output_type": "display_data"
    },
    {
     "name": "stdout",
     "output_type": "stream",
     "text": [
      "/eos/user/s/skyriaco/Offshell/Syst/highmass/MC_18/200205_CutBased/MC_2018/HighMass/ggH1000/ZZ4lAnalysis.root\n",
      "LHEweight_QCDscale_muR2_muF1*p_Gen_GG_BSI_kappaTopBot_1_ghz1_1_MCFM*KFactor_QCD_ggZZ_Nominal*((Z1Flav*Z2Flav)==(121*121) ||(Z1Flav*Z2Flav)==(169*169) ||(Z1Flav*Z2Flav)==(121*169)  )*137.1*(ZZMass>=220)*(EventTag==0)*1000*xsec*overallEventWeight*L1prefiringWeight/Bin40\n",
      "LHEweight_QCDscale_muR0p5_muF1*p_Gen_GG_BSI_kappaTopBot_1_ghz1_1_MCFM*KFactor_QCD_ggZZ_Nominal*((Z1Flav*Z2Flav)==(121*121) ||(Z1Flav*Z2Flav)==(169*169) ||(Z1Flav*Z2Flav)==(121*169)  )*137.1*(ZZMass>=220)*(EventTag==0)*1000*xsec*overallEventWeight*L1prefiringWeight/Bin40\n",
      "----------------------\n",
      "up: 1266.8193640428653\n",
      "dn: 1694.772243333311\n",
      "LHEweight_QCDscale_muR1_muF2*p_Gen_GG_BSI_kappaTopBot_1_ghz1_1_MCFM*KFactor_QCD_ggZZ_Nominal*((Z1Flav*Z2Flav)==(121*121) ||(Z1Flav*Z2Flav)==(169*169) ||(Z1Flav*Z2Flav)==(121*169)  )*137.1*(ZZMass>=220)*(EventTag==0)*1000*xsec*overallEventWeight*L1prefiringWeight/Bin40\n",
      "LHEweight_QCDscale_muR1_muF0p5*p_Gen_GG_BSI_kappaTopBot_1_ghz1_1_MCFM*KFactor_QCD_ggZZ_Nominal*((Z1Flav*Z2Flav)==(121*121) ||(Z1Flav*Z2Flav)==(169*169) ||(Z1Flav*Z2Flav)==(121*169)  )*137.1*(ZZMass>=220)*(EventTag==0)*1000*xsec*overallEventWeight*L1prefiringWeight/Bin40\n",
      "----------------------\n",
      "up: 1443.4686483474798\n",
      "dn: 1473.1870488193817\n",
      "LHEweight_PDFVariation_Up*p_Gen_GG_BSI_kappaTopBot_1_ghz1_1_MCFM*KFactor_QCD_ggZZ_Nominal*((Z1Flav*Z2Flav)==(121*121) ||(Z1Flav*Z2Flav)==(169*169) ||(Z1Flav*Z2Flav)==(121*169)  )*137.1*(ZZMass>=220)*(EventTag==0)*1000*xsec*overallEventWeight*L1prefiringWeight/Bin40\n",
      "LHEweight_PDFVariation_Dn*p_Gen_GG_BSI_kappaTopBot_1_ghz1_1_MCFM*KFactor_QCD_ggZZ_Nominal*((Z1Flav*Z2Flav)==(121*121) ||(Z1Flav*Z2Flav)==(169*169) ||(Z1Flav*Z2Flav)==(121*169)  )*137.1*(ZZMass>=220)*(EventTag==0)*1000*xsec*overallEventWeight*L1prefiringWeight/Bin40\n",
      "----------------------\n",
      "up: 1483.4830290285172\n",
      "dn: 1435.3702322483878\n",
      "LHEweight_AsMZ_Up*p_Gen_GG_BSI_kappaTopBot_1_ghz1_1_MCFM*KFactor_QCD_ggZZ_Nominal*((Z1Flav*Z2Flav)==(121*121) ||(Z1Flav*Z2Flav)==(169*169) ||(Z1Flav*Z2Flav)==(121*169)  )*137.1*(ZZMass>=220)*(EventTag==0)*1000*xsec*overallEventWeight*L1prefiringWeight/Bin40\n",
      "LHEweight_AsMZ_Dn*p_Gen_GG_BSI_kappaTopBot_1_ghz1_1_MCFM*KFactor_QCD_ggZZ_Nominal*((Z1Flav*Z2Flav)==(121*121) ||(Z1Flav*Z2Flav)==(169*169) ||(Z1Flav*Z2Flav)==(121*169)  )*137.1*(ZZMass>=220)*(EventTag==0)*1000*xsec*overallEventWeight*L1prefiringWeight/Bin40\n",
      "----------------------\n",
      "up: 1472.5728605607\n",
      "dn: 1429.9944545073668\n",
      "PythiaWeight_isr_muR4 * PythiaWeight_fsr_muR4*p_Gen_GG_BSI_kappaTopBot_1_ghz1_1_MCFM*KFactor_QCD_ggZZ_Nominal*((Z1Flav*Z2Flav)==(121*121) ||(Z1Flav*Z2Flav)==(169*169) ||(Z1Flav*Z2Flav)==(121*169)  )*137.1*(ZZMass>=220)*(EventTag==0)*1000*xsec*overallEventWeight*L1prefiringWeight/Bin40\n",
      "PythiaWeight_isr_muR0p25 * PythiaWeight_fsr_muR0p25*p_Gen_GG_BSI_kappaTopBot_1_ghz1_1_MCFM*KFactor_QCD_ggZZ_Nominal*((Z1Flav*Z2Flav)==(121*121) ||(Z1Flav*Z2Flav)==(169*169) ||(Z1Flav*Z2Flav)==(121*169)  )*137.1*(ZZMass>=220)*(EventTag==0)*1000*xsec*overallEventWeight*L1prefiringWeight/Bin40\n",
      "----------------------\n",
      "up: 1430.287290154025\n",
      "dn: 1345.8074724510006\n",
      "om nomnomm: 1457.7916901529534\n",
      "here 1266.8193640428653\n",
      "here 1694.772243333311\n",
      "here 1443.4686483474798\n",
      "here 1473.1870488193817\n",
      "here 1483.4830290285172\n",
      "here 1435.3702322483878\n",
      "here 1472.5728605607\n",
      "here 1429.9944545073668\n",
      "here 1430.287290154025\n",
      "here 1345.8074724510006\n"
     ]
    },
    {
     "data": {
      "application/vnd.jupyter.widget-view+json": {
       "model_id": "37499be5f98b476caf6bc25b4ffd1a49",
       "version_major": 2,
       "version_minor": 0
      },
      "text/plain": [
       "  0%|          | 0/1 [00:00<?, ?it/s]"
      ]
     },
     "metadata": {},
     "output_type": "display_data"
    },
    {
     "name": "stdout",
     "output_type": "stream",
     "text": [
      "/eos/user/s/skyriaco/Offshell/Syst/highmass/MC_18/200205_CutBased/MC_2018/HighMass/ggH115/ZZ4lAnalysis.root\n",
      "LHEweight_QCDscale_muR2_muF1*p_Gen_GG_BSI_kappaTopBot_1_ghz1_1_MCFM*KFactor_QCD_ggZZ_Nominal*((Z1Flav*Z2Flav)==(121*121) ||(Z1Flav*Z2Flav)==(169*169) ||(Z1Flav*Z2Flav)==(121*169)  )*137.1*(ZZMass>=220)*(EventTag==0)*1000*xsec*overallEventWeight*L1prefiringWeight/Bin40\n",
      "LHEweight_QCDscale_muR0p5_muF1*p_Gen_GG_BSI_kappaTopBot_1_ghz1_1_MCFM*KFactor_QCD_ggZZ_Nominal*((Z1Flav*Z2Flav)==(121*121) ||(Z1Flav*Z2Flav)==(169*169) ||(Z1Flav*Z2Flav)==(121*169)  )*137.1*(ZZMass>=220)*(EventTag==0)*1000*xsec*overallEventWeight*L1prefiringWeight/Bin40\n",
      "----------------------\n",
      "up: 2.920934392136587e-07\n",
      "dn: 4.99080421434428e-07\n",
      "LHEweight_QCDscale_muR1_muF2*p_Gen_GG_BSI_kappaTopBot_1_ghz1_1_MCFM*KFactor_QCD_ggZZ_Nominal*((Z1Flav*Z2Flav)==(121*121) ||(Z1Flav*Z2Flav)==(169*169) ||(Z1Flav*Z2Flav)==(121*169)  )*137.1*(ZZMass>=220)*(EventTag==0)*1000*xsec*overallEventWeight*L1prefiringWeight/Bin40\n",
      "LHEweight_QCDscale_muR1_muF0p5*p_Gen_GG_BSI_kappaTopBot_1_ghz1_1_MCFM*KFactor_QCD_ggZZ_Nominal*((Z1Flav*Z2Flav)==(121*121) ||(Z1Flav*Z2Flav)==(169*169) ||(Z1Flav*Z2Flav)==(121*169)  )*137.1*(ZZMass>=220)*(EventTag==0)*1000*xsec*overallEventWeight*L1prefiringWeight/Bin40\n",
      "----------------------\n",
      "up: 3.8110308153704864e-07\n",
      "dn: 3.6810427772593357e-07\n",
      "LHEweight_PDFVariation_Up*p_Gen_GG_BSI_kappaTopBot_1_ghz1_1_MCFM*KFactor_QCD_ggZZ_Nominal*((Z1Flav*Z2Flav)==(121*121) ||(Z1Flav*Z2Flav)==(169*169) ||(Z1Flav*Z2Flav)==(121*169)  )*137.1*(ZZMass>=220)*(EventTag==0)*1000*xsec*overallEventWeight*L1prefiringWeight/Bin40\n",
      "LHEweight_PDFVariation_Dn*p_Gen_GG_BSI_kappaTopBot_1_ghz1_1_MCFM*KFactor_QCD_ggZZ_Nominal*((Z1Flav*Z2Flav)==(121*121) ||(Z1Flav*Z2Flav)==(169*169) ||(Z1Flav*Z2Flav)==(121*169)  )*137.1*(ZZMass>=220)*(EventTag==0)*1000*xsec*overallEventWeight*L1prefiringWeight/Bin40\n",
      "----------------------\n",
      "up: 3.8328436602341753e-07\n",
      "dn: 3.7016684828472535e-07\n",
      "LHEweight_AsMZ_Up*p_Gen_GG_BSI_kappaTopBot_1_ghz1_1_MCFM*KFactor_QCD_ggZZ_Nominal*((Z1Flav*Z2Flav)==(121*121) ||(Z1Flav*Z2Flav)==(169*169) ||(Z1Flav*Z2Flav)==(121*169)  )*137.1*(ZZMass>=220)*(EventTag==0)*1000*xsec*overallEventWeight*L1prefiringWeight/Bin40\n",
      "LHEweight_AsMZ_Dn*p_Gen_GG_BSI_kappaTopBot_1_ghz1_1_MCFM*KFactor_QCD_ggZZ_Nominal*((Z1Flav*Z2Flav)==(121*121) ||(Z1Flav*Z2Flav)==(169*169) ||(Z1Flav*Z2Flav)==(121*169)  )*137.1*(ZZMass>=220)*(EventTag==0)*1000*xsec*overallEventWeight*L1prefiringWeight/Bin40\n",
      "----------------------\n",
      "up: 3.8316435890806133e-07\n",
      "dn: 3.662124434811176e-07\n",
      "PythiaWeight_isr_muR4 * PythiaWeight_fsr_muR4*p_Gen_GG_BSI_kappaTopBot_1_ghz1_1_MCFM*KFactor_QCD_ggZZ_Nominal*((Z1Flav*Z2Flav)==(121*121) ||(Z1Flav*Z2Flav)==(169*169) ||(Z1Flav*Z2Flav)==(121*169)  )*137.1*(ZZMass>=220)*(EventTag==0)*1000*xsec*overallEventWeight*L1prefiringWeight/Bin40\n",
      "PythiaWeight_isr_muR0p25 * PythiaWeight_fsr_muR0p25*p_Gen_GG_BSI_kappaTopBot_1_ghz1_1_MCFM*KFactor_QCD_ggZZ_Nominal*((Z1Flav*Z2Flav)==(121*121) ||(Z1Flav*Z2Flav)==(169*169) ||(Z1Flav*Z2Flav)==(121*169)  )*137.1*(ZZMass>=220)*(EventTag==0)*1000*xsec*overallEventWeight*L1prefiringWeight/Bin40\n",
      "----------------------\n",
      "up: 4.0641275589337056e-07\n",
      "dn: 1.8380740662848893e-07\n",
      "om nomnomm: 3.7603499336569257e-07\n",
      "here 2.920934392136587e-07\n",
      "here 4.99080421434428e-07\n",
      "here 3.8110308153704864e-07\n",
      "here 3.6810427772593357e-07\n",
      "here 3.8328436602341753e-07\n",
      "here 3.7016684828472535e-07\n",
      "here 3.8316435890806133e-07\n",
      "here 3.662124434811176e-07\n",
      "here 4.0641275589337056e-07\n",
      "here 1.8380740662848893e-07\n"
     ]
    },
    {
     "data": {
      "application/vnd.jupyter.widget-view+json": {
       "model_id": "7f9843e0d62e46ebb3ce2c2ac3298366",
       "version_major": 2,
       "version_minor": 0
      },
      "text/plain": [
       "  0%|          | 0/1 [00:00<?, ?it/s]"
      ]
     },
     "metadata": {},
     "output_type": "display_data"
    },
    {
     "name": "stdout",
     "output_type": "stream",
     "text": [
      "/eos/user/s/skyriaco/Offshell/Syst/highmass/MC_18/200205_CutBased/MC_2018/HighMass/ggH135/ZZ4lAnalysis.root\n",
      "LHEweight_QCDscale_muR2_muF1*p_Gen_GG_BSI_kappaTopBot_1_ghz1_1_MCFM*KFactor_QCD_ggZZ_Nominal*((Z1Flav*Z2Flav)==(121*121) ||(Z1Flav*Z2Flav)==(169*169) ||(Z1Flav*Z2Flav)==(121*169)  )*137.1*(ZZMass>=220)*(EventTag==0)*1000*xsec*overallEventWeight*L1prefiringWeight/Bin40\n",
      "LHEweight_QCDscale_muR0p5_muF1*p_Gen_GG_BSI_kappaTopBot_1_ghz1_1_MCFM*KFactor_QCD_ggZZ_Nominal*((Z1Flav*Z2Flav)==(121*121) ||(Z1Flav*Z2Flav)==(169*169) ||(Z1Flav*Z2Flav)==(121*169)  )*137.1*(ZZMass>=220)*(EventTag==0)*1000*xsec*overallEventWeight*L1prefiringWeight/Bin40\n",
      "----------------------\n",
      "up: 1.3931477447215457e-06\n",
      "dn: 2.126784679035154e-06\n",
      "LHEweight_QCDscale_muR1_muF2*p_Gen_GG_BSI_kappaTopBot_1_ghz1_1_MCFM*KFactor_QCD_ggZZ_Nominal*((Z1Flav*Z2Flav)==(121*121) ||(Z1Flav*Z2Flav)==(169*169) ||(Z1Flav*Z2Flav)==(121*169)  )*137.1*(ZZMass>=220)*(EventTag==0)*1000*xsec*overallEventWeight*L1prefiringWeight/Bin40\n",
      "LHEweight_QCDscale_muR1_muF0p5*p_Gen_GG_BSI_kappaTopBot_1_ghz1_1_MCFM*KFactor_QCD_ggZZ_Nominal*((Z1Flav*Z2Flav)==(121*121) ||(Z1Flav*Z2Flav)==(169*169) ||(Z1Flav*Z2Flav)==(121*169)  )*137.1*(ZZMass>=220)*(EventTag==0)*1000*xsec*overallEventWeight*L1prefiringWeight/Bin40\n",
      "----------------------\n",
      "up: 1.866176024378774e-06\n",
      "dn: 1.5219378859399058e-06\n",
      "LHEweight_PDFVariation_Up*p_Gen_GG_BSI_kappaTopBot_1_ghz1_1_MCFM*KFactor_QCD_ggZZ_Nominal*((Z1Flav*Z2Flav)==(121*121) ||(Z1Flav*Z2Flav)==(169*169) ||(Z1Flav*Z2Flav)==(121*169)  )*137.1*(ZZMass>=220)*(EventTag==0)*1000*xsec*overallEventWeight*L1prefiringWeight/Bin40\n",
      "LHEweight_PDFVariation_Dn*p_Gen_GG_BSI_kappaTopBot_1_ghz1_1_MCFM*KFactor_QCD_ggZZ_Nominal*((Z1Flav*Z2Flav)==(121*121) ||(Z1Flav*Z2Flav)==(169*169) ||(Z1Flav*Z2Flav)==(121*169)  )*137.1*(ZZMass>=220)*(EventTag==0)*1000*xsec*overallEventWeight*L1prefiringWeight/Bin40\n",
      "----------------------\n",
      "up: 1.730410129852089e-06\n",
      "dn: 1.678840288121819e-06\n",
      "LHEweight_AsMZ_Up*p_Gen_GG_BSI_kappaTopBot_1_ghz1_1_MCFM*KFactor_QCD_ggZZ_Nominal*((Z1Flav*Z2Flav)==(121*121) ||(Z1Flav*Z2Flav)==(169*169) ||(Z1Flav*Z2Flav)==(121*169)  )*137.1*(ZZMass>=220)*(EventTag==0)*1000*xsec*overallEventWeight*L1prefiringWeight/Bin40\n",
      "LHEweight_AsMZ_Dn*p_Gen_GG_BSI_kappaTopBot_1_ghz1_1_MCFM*KFactor_QCD_ggZZ_Nominal*((Z1Flav*Z2Flav)==(121*121) ||(Z1Flav*Z2Flav)==(169*169) ||(Z1Flav*Z2Flav)==(121*169)  )*137.1*(ZZMass>=220)*(EventTag==0)*1000*xsec*overallEventWeight*L1prefiringWeight/Bin40\n",
      "----------------------\n",
      "up: 1.730423203838427e-06\n",
      "dn: 1.656292731411213e-06\n",
      "PythiaWeight_isr_muR4 * PythiaWeight_fsr_muR4*p_Gen_GG_BSI_kappaTopBot_1_ghz1_1_MCFM*KFactor_QCD_ggZZ_Nominal*((Z1Flav*Z2Flav)==(121*121) ||(Z1Flav*Z2Flav)==(169*169) ||(Z1Flav*Z2Flav)==(121*169)  )*137.1*(ZZMass>=220)*(EventTag==0)*1000*xsec*overallEventWeight*L1prefiringWeight/Bin40\n",
      "PythiaWeight_isr_muR0p25 * PythiaWeight_fsr_muR0p25*p_Gen_GG_BSI_kappaTopBot_1_ghz1_1_MCFM*KFactor_QCD_ggZZ_Nominal*((Z1Flav*Z2Flav)==(121*121) ||(Z1Flav*Z2Flav)==(169*169) ||(Z1Flav*Z2Flav)==(121*169)  )*137.1*(ZZMass>=220)*(EventTag==0)*1000*xsec*overallEventWeight*L1prefiringWeight/Bin40\n",
      "----------------------\n",
      "up: 2.4811029586402356e-06\n",
      "dn: 4.0539699597275103e-07\n",
      "om nomnomm: 1.7014155098138417e-06\n",
      "here 1.3931477447215457e-06\n",
      "here 2.126784679035154e-06\n",
      "here 1.866176024378774e-06\n",
      "here 1.5219378859399058e-06\n",
      "here 1.730410129852089e-06\n",
      "here 1.678840288121819e-06\n",
      "here 1.730423203838427e-06\n",
      "here 1.656292731411213e-06\n",
      "here 2.4811029586402356e-06\n",
      "here 4.0539699597275103e-07\n"
     ]
    },
    {
     "data": {
      "application/vnd.jupyter.widget-view+json": {
       "model_id": "2120f182e73a47d6a93ae2260ac3b6ad",
       "version_major": 2,
       "version_minor": 0
      },
      "text/plain": [
       "  0%|          | 0/1 [00:00<?, ?it/s]"
      ]
     },
     "metadata": {},
     "output_type": "display_data"
    },
    {
     "name": "stdout",
     "output_type": "stream",
     "text": [
      "/eos/user/s/skyriaco/Offshell/Syst/highmass/MC_18/200205_CutBased/MC_2018/HighMass/ggH140/ZZ4lAnalysis.root\n",
      "LHEweight_QCDscale_muR2_muF1*p_Gen_GG_BSI_kappaTopBot_1_ghz1_1_MCFM*KFactor_QCD_ggZZ_Nominal*((Z1Flav*Z2Flav)==(121*121) ||(Z1Flav*Z2Flav)==(169*169) ||(Z1Flav*Z2Flav)==(121*169)  )*137.1*(ZZMass>=220)*(EventTag==0)*1000*xsec*overallEventWeight*L1prefiringWeight/Bin40\n",
      "LHEweight_QCDscale_muR0p5_muF1*p_Gen_GG_BSI_kappaTopBot_1_ghz1_1_MCFM*KFactor_QCD_ggZZ_Nominal*((Z1Flav*Z2Flav)==(121*121) ||(Z1Flav*Z2Flav)==(169*169) ||(Z1Flav*Z2Flav)==(121*169)  )*137.1*(ZZMass>=220)*(EventTag==0)*1000*xsec*overallEventWeight*L1prefiringWeight/Bin40\n",
      "----------------------\n",
      "up: 5.64752701492921e-07\n",
      "dn: 8.346750917098689e-07\n",
      "LHEweight_QCDscale_muR1_muF2*p_Gen_GG_BSI_kappaTopBot_1_ghz1_1_MCFM*KFactor_QCD_ggZZ_Nominal*((Z1Flav*Z2Flav)==(121*121) ||(Z1Flav*Z2Flav)==(169*169) ||(Z1Flav*Z2Flav)==(121*169)  )*137.1*(ZZMass>=220)*(EventTag==0)*1000*xsec*overallEventWeight*L1prefiringWeight/Bin40\n",
      "LHEweight_QCDscale_muR1_muF0p5*p_Gen_GG_BSI_kappaTopBot_1_ghz1_1_MCFM*KFactor_QCD_ggZZ_Nominal*((Z1Flav*Z2Flav)==(121*121) ||(Z1Flav*Z2Flav)==(169*169) ||(Z1Flav*Z2Flav)==(121*169)  )*137.1*(ZZMass>=220)*(EventTag==0)*1000*xsec*overallEventWeight*L1prefiringWeight/Bin40\n",
      "----------------------\n",
      "up: 7.388591676260603e-07\n",
      "dn: 6.154768463773053e-07\n",
      "LHEweight_PDFVariation_Up*p_Gen_GG_BSI_kappaTopBot_1_ghz1_1_MCFM*KFactor_QCD_ggZZ_Nominal*((Z1Flav*Z2Flav)==(121*121) ||(Z1Flav*Z2Flav)==(169*169) ||(Z1Flav*Z2Flav)==(121*169)  )*137.1*(ZZMass>=220)*(EventTag==0)*1000*xsec*overallEventWeight*L1prefiringWeight/Bin40\n",
      "LHEweight_PDFVariation_Dn*p_Gen_GG_BSI_kappaTopBot_1_ghz1_1_MCFM*KFactor_QCD_ggZZ_Nominal*((Z1Flav*Z2Flav)==(121*121) ||(Z1Flav*Z2Flav)==(169*169) ||(Z1Flav*Z2Flav)==(121*169)  )*137.1*(ZZMass>=220)*(EventTag==0)*1000*xsec*overallEventWeight*L1prefiringWeight/Bin40\n",
      "----------------------\n",
      "up: 6.905421834346726e-07\n",
      "dn: 6.70359824539446e-07\n",
      "LHEweight_AsMZ_Up*p_Gen_GG_BSI_kappaTopBot_1_ghz1_1_MCFM*KFactor_QCD_ggZZ_Nominal*((Z1Flav*Z2Flav)==(121*121) ||(Z1Flav*Z2Flav)==(169*169) ||(Z1Flav*Z2Flav)==(121*169)  )*137.1*(ZZMass>=220)*(EventTag==0)*1000*xsec*overallEventWeight*L1prefiringWeight/Bin40\n",
      "LHEweight_AsMZ_Dn*p_Gen_GG_BSI_kappaTopBot_1_ghz1_1_MCFM*KFactor_QCD_ggZZ_Nominal*((Z1Flav*Z2Flav)==(121*121) ||(Z1Flav*Z2Flav)==(169*169) ||(Z1Flav*Z2Flav)==(121*169)  )*137.1*(ZZMass>=220)*(EventTag==0)*1000*xsec*overallEventWeight*L1prefiringWeight/Bin40\n",
      "----------------------\n",
      "up: 6.905143585811402e-07\n",
      "dn: 6.623861636967376e-07\n",
      "PythiaWeight_isr_muR4 * PythiaWeight_fsr_muR4*p_Gen_GG_BSI_kappaTopBot_1_ghz1_1_MCFM*KFactor_QCD_ggZZ_Nominal*((Z1Flav*Z2Flav)==(121*121) ||(Z1Flav*Z2Flav)==(169*169) ||(Z1Flav*Z2Flav)==(121*169)  )*137.1*(ZZMass>=220)*(EventTag==0)*1000*xsec*overallEventWeight*L1prefiringWeight/Bin40\n",
      "PythiaWeight_isr_muR0p25 * PythiaWeight_fsr_muR0p25*p_Gen_GG_BSI_kappaTopBot_1_ghz1_1_MCFM*KFactor_QCD_ggZZ_Nominal*((Z1Flav*Z2Flav)==(121*121) ||(Z1Flav*Z2Flav)==(169*169) ||(Z1Flav*Z2Flav)==(121*169)  )*137.1*(ZZMass>=220)*(EventTag==0)*1000*xsec*overallEventWeight*L1prefiringWeight/Bin40\n",
      "----------------------\n",
      "up: 6.536722558792007e-07\n",
      "dn: 3.952398319739814e-07\n",
      "om nomnomm: 6.79651954271776e-07\n",
      "here 5.64752701492921e-07\n",
      "here 8.346750917098689e-07\n",
      "here 7.388591676260603e-07\n",
      "here 6.154768463773053e-07\n",
      "here 6.905421834346726e-07\n",
      "here 6.70359824539446e-07\n",
      "here 6.905143585811402e-07\n",
      "here 6.623861636967376e-07\n",
      "here 6.536722558792007e-07\n",
      "here 3.952398319739814e-07\n"
     ]
    },
    {
     "data": {
      "application/vnd.jupyter.widget-view+json": {
       "model_id": "6b0ee5b91cbe4e13b9749a6b933ee27a",
       "version_major": 2,
       "version_minor": 0
      },
      "text/plain": [
       "  0%|          | 0/1 [00:00<?, ?it/s]"
      ]
     },
     "metadata": {},
     "output_type": "display_data"
    },
    {
     "name": "stdout",
     "output_type": "stream",
     "text": [
      "/eos/user/s/skyriaco/Offshell/Syst/highmass/MC_18/200205_CutBased/MC_2018/HighMass/ggH145/ZZ4lAnalysis.root\n",
      "LHEweight_QCDscale_muR2_muF1*p_Gen_GG_BSI_kappaTopBot_1_ghz1_1_MCFM*KFactor_QCD_ggZZ_Nominal*((Z1Flav*Z2Flav)==(121*121) ||(Z1Flav*Z2Flav)==(169*169) ||(Z1Flav*Z2Flav)==(121*169)  )*137.1*(ZZMass>=220)*(EventTag==0)*1000*xsec*overallEventWeight*L1prefiringWeight/Bin40\n",
      "LHEweight_QCDscale_muR0p5_muF1*p_Gen_GG_BSI_kappaTopBot_1_ghz1_1_MCFM*KFactor_QCD_ggZZ_Nominal*((Z1Flav*Z2Flav)==(121*121) ||(Z1Flav*Z2Flav)==(169*169) ||(Z1Flav*Z2Flav)==(121*169)  )*137.1*(ZZMass>=220)*(EventTag==0)*1000*xsec*overallEventWeight*L1prefiringWeight/Bin40\n",
      "----------------------\n",
      "up: 3.5268503138795495\n",
      "dn: 2.09678053855896\n",
      "LHEweight_QCDscale_muR1_muF2*p_Gen_GG_BSI_kappaTopBot_1_ghz1_1_MCFM*KFactor_QCD_ggZZ_Nominal*((Z1Flav*Z2Flav)==(121*121) ||(Z1Flav*Z2Flav)==(169*169) ||(Z1Flav*Z2Flav)==(121*169)  )*137.1*(ZZMass>=220)*(EventTag==0)*1000*xsec*overallEventWeight*L1prefiringWeight/Bin40\n",
      "LHEweight_QCDscale_muR1_muF0p5*p_Gen_GG_BSI_kappaTopBot_1_ghz1_1_MCFM*KFactor_QCD_ggZZ_Nominal*((Z1Flav*Z2Flav)==(121*121) ||(Z1Flav*Z2Flav)==(169*169) ||(Z1Flav*Z2Flav)==(121*169)  )*137.1*(ZZMass>=220)*(EventTag==0)*1000*xsec*overallEventWeight*L1prefiringWeight/Bin40\n",
      "----------------------\n",
      "up: 2.8249650225043297\n",
      "dn: 3.3453116565942764\n",
      "LHEweight_PDFVariation_Up*p_Gen_GG_BSI_kappaTopBot_1_ghz1_1_MCFM*KFactor_QCD_ggZZ_Nominal*((Z1Flav*Z2Flav)==(121*121) ||(Z1Flav*Z2Flav)==(169*169) ||(Z1Flav*Z2Flav)==(121*169)  )*137.1*(ZZMass>=220)*(EventTag==0)*1000*xsec*overallEventWeight*L1prefiringWeight/Bin40\n",
      "LHEweight_PDFVariation_Dn*p_Gen_GG_BSI_kappaTopBot_1_ghz1_1_MCFM*KFactor_QCD_ggZZ_Nominal*((Z1Flav*Z2Flav)==(121*121) ||(Z1Flav*Z2Flav)==(169*169) ||(Z1Flav*Z2Flav)==(121*169)  )*137.1*(ZZMass>=220)*(EventTag==0)*1000*xsec*overallEventWeight*L1prefiringWeight/Bin40\n",
      "----------------------\n",
      "up: 3.232096888124943\n",
      "dn: 2.9152574986219406\n",
      "LHEweight_AsMZ_Up*p_Gen_GG_BSI_kappaTopBot_1_ghz1_1_MCFM*KFactor_QCD_ggZZ_Nominal*((Z1Flav*Z2Flav)==(121*121) ||(Z1Flav*Z2Flav)==(169*169) ||(Z1Flav*Z2Flav)==(121*169)  )*137.1*(ZZMass>=220)*(EventTag==0)*1000*xsec*overallEventWeight*L1prefiringWeight/Bin40\n",
      "LHEweight_AsMZ_Dn*p_Gen_GG_BSI_kappaTopBot_1_ghz1_1_MCFM*KFactor_QCD_ggZZ_Nominal*((Z1Flav*Z2Flav)==(121*121) ||(Z1Flav*Z2Flav)==(169*169) ||(Z1Flav*Z2Flav)==(121*169)  )*137.1*(ZZMass>=220)*(EventTag==0)*1000*xsec*overallEventWeight*L1prefiringWeight/Bin40\n",
      "----------------------\n",
      "up: 2.996644549071789\n",
      "dn: 3.068838596343994\n",
      "PythiaWeight_isr_muR4 * PythiaWeight_fsr_muR4*p_Gen_GG_BSI_kappaTopBot_1_ghz1_1_MCFM*KFactor_QCD_ggZZ_Nominal*((Z1Flav*Z2Flav)==(121*121) ||(Z1Flav*Z2Flav)==(169*169) ||(Z1Flav*Z2Flav)==(121*169)  )*137.1*(ZZMass>=220)*(EventTag==0)*1000*xsec*overallEventWeight*L1prefiringWeight/Bin40\n",
      "PythiaWeight_isr_muR0p25 * PythiaWeight_fsr_muR0p25*p_Gen_GG_BSI_kappaTopBot_1_ghz1_1_MCFM*KFactor_QCD_ggZZ_Nominal*((Z1Flav*Z2Flav)==(121*121) ||(Z1Flav*Z2Flav)==(169*169) ||(Z1Flav*Z2Flav)==(121*169)  )*137.1*(ZZMass>=220)*(EventTag==0)*1000*xsec*overallEventWeight*L1prefiringWeight/Bin40\n",
      "----------------------\n",
      "up: 3.6297959834337234\n",
      "dn: 0.46299361251294613\n",
      "om nomnomm: 3.072072349488735\n",
      "here 3.5268503138795495\n",
      "here 2.09678053855896\n",
      "here 2.8249650225043297\n",
      "here 3.3453116565942764\n",
      "here 3.232096888124943\n",
      "here 2.9152574986219406\n",
      "here 2.996644549071789\n",
      "here 3.068838596343994\n",
      "here 3.6297959834337234\n",
      "here 0.46299361251294613\n"
     ]
    },
    {
     "data": {
      "application/vnd.jupyter.widget-view+json": {
       "model_id": "d8e49164df4f4014a12c07382d99ac16",
       "version_major": 2,
       "version_minor": 0
      },
      "text/plain": [
       "  0%|          | 0/1 [00:00<?, ?it/s]"
      ]
     },
     "metadata": {},
     "output_type": "display_data"
    },
    {
     "name": "stdout",
     "output_type": "stream",
     "text": [
      "/eos/user/s/skyriaco/Offshell/Syst/highmass/MC_18/200205_CutBased/MC_2018/HighMass/ggH150/ZZ4lAnalysis.root\n",
      "LHEweight_QCDscale_muR2_muF1*p_Gen_GG_BSI_kappaTopBot_1_ghz1_1_MCFM*KFactor_QCD_ggZZ_Nominal*((Z1Flav*Z2Flav)==(121*121) ||(Z1Flav*Z2Flav)==(169*169) ||(Z1Flav*Z2Flav)==(121*169)  )*137.1*(ZZMass>=220)*(EventTag==0)*1000*xsec*overallEventWeight*L1prefiringWeight/Bin40\n",
      "LHEweight_QCDscale_muR0p5_muF1*p_Gen_GG_BSI_kappaTopBot_1_ghz1_1_MCFM*KFactor_QCD_ggZZ_Nominal*((Z1Flav*Z2Flav)==(121*121) ||(Z1Flav*Z2Flav)==(169*169) ||(Z1Flav*Z2Flav)==(121*169)  )*137.1*(ZZMass>=220)*(EventTag==0)*1000*xsec*overallEventWeight*L1prefiringWeight/Bin40\n",
      "----------------------\n",
      "up: 15.216377098132966\n",
      "dn: 20.08915153986527\n",
      "LHEweight_QCDscale_muR1_muF2*p_Gen_GG_BSI_kappaTopBot_1_ghz1_1_MCFM*KFactor_QCD_ggZZ_Nominal*((Z1Flav*Z2Flav)==(121*121) ||(Z1Flav*Z2Flav)==(169*169) ||(Z1Flav*Z2Flav)==(121*169)  )*137.1*(ZZMass>=220)*(EventTag==0)*1000*xsec*overallEventWeight*L1prefiringWeight/Bin40\n",
      "LHEweight_QCDscale_muR1_muF0p5*p_Gen_GG_BSI_kappaTopBot_1_ghz1_1_MCFM*KFactor_QCD_ggZZ_Nominal*((Z1Flav*Z2Flav)==(121*121) ||(Z1Flav*Z2Flav)==(169*169) ||(Z1Flav*Z2Flav)==(121*169)  )*137.1*(ZZMass>=220)*(EventTag==0)*1000*xsec*overallEventWeight*L1prefiringWeight/Bin40\n",
      "----------------------\n",
      "up: 17.050184040555976\n",
      "dn: 17.800650281544463\n",
      "LHEweight_PDFVariation_Up*p_Gen_GG_BSI_kappaTopBot_1_ghz1_1_MCFM*KFactor_QCD_ggZZ_Nominal*((Z1Flav*Z2Flav)==(121*121) ||(Z1Flav*Z2Flav)==(169*169) ||(Z1Flav*Z2Flav)==(121*169)  )*137.1*(ZZMass>=220)*(EventTag==0)*1000*xsec*overallEventWeight*L1prefiringWeight/Bin40\n",
      "LHEweight_PDFVariation_Dn*p_Gen_GG_BSI_kappaTopBot_1_ghz1_1_MCFM*KFactor_QCD_ggZZ_Nominal*((Z1Flav*Z2Flav)==(121*121) ||(Z1Flav*Z2Flav)==(169*169) ||(Z1Flav*Z2Flav)==(121*169)  )*137.1*(ZZMass>=220)*(EventTag==0)*1000*xsec*overallEventWeight*L1prefiringWeight/Bin40\n",
      "----------------------\n",
      "up: 17.752503549917535\n",
      "dn: 17.129697628754357\n",
      "LHEweight_AsMZ_Up*p_Gen_GG_BSI_kappaTopBot_1_ghz1_1_MCFM*KFactor_QCD_ggZZ_Nominal*((Z1Flav*Z2Flav)==(121*121) ||(Z1Flav*Z2Flav)==(169*169) ||(Z1Flav*Z2Flav)==(121*169)  )*137.1*(ZZMass>=220)*(EventTag==0)*1000*xsec*overallEventWeight*L1prefiringWeight/Bin40\n",
      "LHEweight_AsMZ_Dn*p_Gen_GG_BSI_kappaTopBot_1_ghz1_1_MCFM*KFactor_QCD_ggZZ_Nominal*((Z1Flav*Z2Flav)==(121*121) ||(Z1Flav*Z2Flav)==(169*169) ||(Z1Flav*Z2Flav)==(121*169)  )*137.1*(ZZMass>=220)*(EventTag==0)*1000*xsec*overallEventWeight*L1prefiringWeight/Bin40\n",
      "----------------------\n",
      "up: 17.57573351808979\n",
      "dn: 17.090122609607462\n",
      "PythiaWeight_isr_muR4 * PythiaWeight_fsr_muR4*p_Gen_GG_BSI_kappaTopBot_1_ghz1_1_MCFM*KFactor_QCD_ggZZ_Nominal*((Z1Flav*Z2Flav)==(121*121) ||(Z1Flav*Z2Flav)==(169*169) ||(Z1Flav*Z2Flav)==(121*169)  )*137.1*(ZZMass>=220)*(EventTag==0)*1000*xsec*overallEventWeight*L1prefiringWeight/Bin40\n",
      "PythiaWeight_isr_muR0p25 * PythiaWeight_fsr_muR0p25*p_Gen_GG_BSI_kappaTopBot_1_ghz1_1_MCFM*KFactor_QCD_ggZZ_Nominal*((Z1Flav*Z2Flav)==(121*121) ||(Z1Flav*Z2Flav)==(169*169) ||(Z1Flav*Z2Flav)==(121*169)  )*137.1*(ZZMass>=220)*(EventTag==0)*1000*xsec*overallEventWeight*L1prefiringWeight/Bin40\n",
      "----------------------\n",
      "up: 16.565088232862312\n",
      "dn: 22.172742330860927\n",
      "om nomnomm: 17.414159569104882\n",
      "here 15.216377098132966\n",
      "here 20.08915153986527\n",
      "here 17.050184040555976\n",
      "here 17.800650281544463\n",
      "here 17.752503549917535\n",
      "here 17.129697628754357\n",
      "here 17.57573351808979\n",
      "here 17.090122609607462\n",
      "here 16.565088232862312\n",
      "here 22.172742330860927\n"
     ]
    },
    {
     "data": {
      "application/vnd.jupyter.widget-view+json": {
       "model_id": "d21be6f595c24e9ea1b716d11cd2c191",
       "version_major": 2,
       "version_minor": 0
      },
      "text/plain": [
       "  0%|          | 0/1 [00:00<?, ?it/s]"
      ]
     },
     "metadata": {},
     "output_type": "display_data"
    },
    {
     "name": "stdout",
     "output_type": "stream",
     "text": [
      "/eos/user/s/skyriaco/Offshell/Syst/highmass/MC_18/200205_CutBased/MC_2018/HighMass/ggH1500/ZZ4lAnalysis.root\n",
      "LHEweight_QCDscale_muR2_muF1*p_Gen_GG_BSI_kappaTopBot_1_ghz1_1_MCFM*KFactor_QCD_ggZZ_Nominal*((Z1Flav*Z2Flav)==(121*121) ||(Z1Flav*Z2Flav)==(169*169) ||(Z1Flav*Z2Flav)==(121*169)  )*137.1*(ZZMass>=220)*(EventTag==0)*1000*xsec*overallEventWeight*L1prefiringWeight/Bin40\n",
      "LHEweight_QCDscale_muR0p5_muF1*p_Gen_GG_BSI_kappaTopBot_1_ghz1_1_MCFM*KFactor_QCD_ggZZ_Nominal*((Z1Flav*Z2Flav)==(121*121) ||(Z1Flav*Z2Flav)==(169*169) ||(Z1Flav*Z2Flav)==(121*169)  )*137.1*(ZZMass>=220)*(EventTag==0)*1000*xsec*overallEventWeight*L1prefiringWeight/Bin40\n",
      "----------------------\n",
      "up: 4468.783785649575\n",
      "dn: 5947.054484244552\n",
      "LHEweight_QCDscale_muR1_muF2*p_Gen_GG_BSI_kappaTopBot_1_ghz1_1_MCFM*KFactor_QCD_ggZZ_Nominal*((Z1Flav*Z2Flav)==(121*121) ||(Z1Flav*Z2Flav)==(169*169) ||(Z1Flav*Z2Flav)==(121*169)  )*137.1*(ZZMass>=220)*(EventTag==0)*1000*xsec*overallEventWeight*L1prefiringWeight/Bin40\n",
      "LHEweight_QCDscale_muR1_muF0p5*p_Gen_GG_BSI_kappaTopBot_1_ghz1_1_MCFM*KFactor_QCD_ggZZ_Nominal*((Z1Flav*Z2Flav)==(121*121) ||(Z1Flav*Z2Flav)==(169*169) ||(Z1Flav*Z2Flav)==(121*169)  )*137.1*(ZZMass>=220)*(EventTag==0)*1000*xsec*overallEventWeight*L1prefiringWeight/Bin40\n",
      "----------------------\n",
      "up: 5048.037314278714\n",
      "dn: 5221.692113066849\n",
      "LHEweight_PDFVariation_Up*p_Gen_GG_BSI_kappaTopBot_1_ghz1_1_MCFM*KFactor_QCD_ggZZ_Nominal*((Z1Flav*Z2Flav)==(121*121) ||(Z1Flav*Z2Flav)==(169*169) ||(Z1Flav*Z2Flav)==(121*169)  )*137.1*(ZZMass>=220)*(EventTag==0)*1000*xsec*overallEventWeight*L1prefiringWeight/Bin40\n",
      "LHEweight_PDFVariation_Dn*p_Gen_GG_BSI_kappaTopBot_1_ghz1_1_MCFM*KFactor_QCD_ggZZ_Nominal*((Z1Flav*Z2Flav)==(121*121) ||(Z1Flav*Z2Flav)==(169*169) ||(Z1Flav*Z2Flav)==(121*169)  )*137.1*(ZZMass>=220)*(EventTag==0)*1000*xsec*overallEventWeight*L1prefiringWeight/Bin40\n",
      "----------------------\n",
      "up: 5222.463311439904\n",
      "dn: 5050.832151418668\n",
      "LHEweight_AsMZ_Up*p_Gen_GG_BSI_kappaTopBot_1_ghz1_1_MCFM*KFactor_QCD_ggZZ_Nominal*((Z1Flav*Z2Flav)==(121*121) ||(Z1Flav*Z2Flav)==(169*169) ||(Z1Flav*Z2Flav)==(121*169)  )*137.1*(ZZMass>=220)*(EventTag==0)*1000*xsec*overallEventWeight*L1prefiringWeight/Bin40\n",
      "LHEweight_AsMZ_Dn*p_Gen_GG_BSI_kappaTopBot_1_ghz1_1_MCFM*KFactor_QCD_ggZZ_Nominal*((Z1Flav*Z2Flav)==(121*121) ||(Z1Flav*Z2Flav)==(169*169) ||(Z1Flav*Z2Flav)==(121*169)  )*137.1*(ZZMass>=220)*(EventTag==0)*1000*xsec*overallEventWeight*L1prefiringWeight/Bin40\n",
      "----------------------\n",
      "up: 5182.8582723207655\n",
      "dn: 5034.443630047579\n",
      "PythiaWeight_isr_muR4 * PythiaWeight_fsr_muR4*p_Gen_GG_BSI_kappaTopBot_1_ghz1_1_MCFM*KFactor_QCD_ggZZ_Nominal*((Z1Flav*Z2Flav)==(121*121) ||(Z1Flav*Z2Flav)==(169*169) ||(Z1Flav*Z2Flav)==(121*169)  )*137.1*(ZZMass>=220)*(EventTag==0)*1000*xsec*overallEventWeight*L1prefiringWeight/Bin40\n",
      "PythiaWeight_isr_muR0p25 * PythiaWeight_fsr_muR0p25*p_Gen_GG_BSI_kappaTopBot_1_ghz1_1_MCFM*KFactor_QCD_ggZZ_Nominal*((Z1Flav*Z2Flav)==(121*121) ||(Z1Flav*Z2Flav)==(169*169) ||(Z1Flav*Z2Flav)==(121*169)  )*137.1*(ZZMass>=220)*(EventTag==0)*1000*xsec*overallEventWeight*L1prefiringWeight/Bin40\n",
      "----------------------\n",
      "up: 4947.590869814274\n",
      "dn: 3930.443259311316\n",
      "om nomnomm: 5130.994620714278\n",
      "here 4468.783785649575\n",
      "here 5947.054484244552\n",
      "here 5048.037314278714\n",
      "here 5221.692113066849\n",
      "here 5222.463311439904\n",
      "here 5050.832151418668\n",
      "here 5182.8582723207655\n",
      "here 5034.443630047579\n",
      "here 4947.590869814274\n",
      "here 3930.443259311316\n"
     ]
    },
    {
     "data": {
      "application/vnd.jupyter.widget-view+json": {
       "model_id": "15233a3f037f48fab1a13a7292f3301c",
       "version_major": 2,
       "version_minor": 0
      },
      "text/plain": [
       "  0%|          | 0/1 [00:00<?, ?it/s]"
      ]
     },
     "metadata": {},
     "output_type": "display_data"
    },
    {
     "name": "stdout",
     "output_type": "stream",
     "text": [
      "/eos/user/s/skyriaco/Offshell/Syst/highmass/MC_18/200205_CutBased/MC_2018/HighMass/ggH155/ZZ4lAnalysis.root\n",
      "LHEweight_QCDscale_muR2_muF1*p_Gen_GG_BSI_kappaTopBot_1_ghz1_1_MCFM*KFactor_QCD_ggZZ_Nominal*((Z1Flav*Z2Flav)==(121*121) ||(Z1Flav*Z2Flav)==(169*169) ||(Z1Flav*Z2Flav)==(121*169)  )*137.1*(ZZMass>=220)*(EventTag==0)*1000*xsec*overallEventWeight*L1prefiringWeight/Bin40\n",
      "LHEweight_QCDscale_muR0p5_muF1*p_Gen_GG_BSI_kappaTopBot_1_ghz1_1_MCFM*KFactor_QCD_ggZZ_Nominal*((Z1Flav*Z2Flav)==(121*121) ||(Z1Flav*Z2Flav)==(169*169) ||(Z1Flav*Z2Flav)==(121*169)  )*137.1*(ZZMass>=220)*(EventTag==0)*1000*xsec*overallEventWeight*L1prefiringWeight/Bin40\n",
      "----------------------\n",
      "up: 104.00676089525223\n",
      "dn: 137.14214432239532\n",
      "LHEweight_QCDscale_muR1_muF2*p_Gen_GG_BSI_kappaTopBot_1_ghz1_1_MCFM*KFactor_QCD_ggZZ_Nominal*((Z1Flav*Z2Flav)==(121*121) ||(Z1Flav*Z2Flav)==(169*169) ||(Z1Flav*Z2Flav)==(121*169)  )*137.1*(ZZMass>=220)*(EventTag==0)*1000*xsec*overallEventWeight*L1prefiringWeight/Bin40\n",
      "LHEweight_QCDscale_muR1_muF0p5*p_Gen_GG_BSI_kappaTopBot_1_ghz1_1_MCFM*KFactor_QCD_ggZZ_Nominal*((Z1Flav*Z2Flav)==(121*121) ||(Z1Flav*Z2Flav)==(169*169) ||(Z1Flav*Z2Flav)==(121*169)  )*137.1*(ZZMass>=220)*(EventTag==0)*1000*xsec*overallEventWeight*L1prefiringWeight/Bin40\n",
      "----------------------\n",
      "up: 118.45545035600662\n",
      "dn: 119.51539313793182\n",
      "LHEweight_PDFVariation_Up*p_Gen_GG_BSI_kappaTopBot_1_ghz1_1_MCFM*KFactor_QCD_ggZZ_Nominal*((Z1Flav*Z2Flav)==(121*121) ||(Z1Flav*Z2Flav)==(169*169) ||(Z1Flav*Z2Flav)==(121*169)  )*137.1*(ZZMass>=220)*(EventTag==0)*1000*xsec*overallEventWeight*L1prefiringWeight/Bin40\n",
      "LHEweight_PDFVariation_Dn*p_Gen_GG_BSI_kappaTopBot_1_ghz1_1_MCFM*KFactor_QCD_ggZZ_Nominal*((Z1Flav*Z2Flav)==(121*121) ||(Z1Flav*Z2Flav)==(169*169) ||(Z1Flav*Z2Flav)==(121*169)  )*137.1*(ZZMass>=220)*(EventTag==0)*1000*xsec*overallEventWeight*L1prefiringWeight/Bin40\n",
      "----------------------\n",
      "up: 121.13255620002747\n",
      "dn: 117.06342589855194\n",
      "LHEweight_AsMZ_Up*p_Gen_GG_BSI_kappaTopBot_1_ghz1_1_MCFM*KFactor_QCD_ggZZ_Nominal*((Z1Flav*Z2Flav)==(121*121) ||(Z1Flav*Z2Flav)==(169*169) ||(Z1Flav*Z2Flav)==(121*169)  )*137.1*(ZZMass>=220)*(EventTag==0)*1000*xsec*overallEventWeight*L1prefiringWeight/Bin40\n",
      "LHEweight_AsMZ_Dn*p_Gen_GG_BSI_kappaTopBot_1_ghz1_1_MCFM*KFactor_QCD_ggZZ_Nominal*((Z1Flav*Z2Flav)==(121*121) ||(Z1Flav*Z2Flav)==(169*169) ||(Z1Flav*Z2Flav)==(121*169)  )*137.1*(ZZMass>=220)*(EventTag==0)*1000*xsec*overallEventWeight*L1prefiringWeight/Bin40\n",
      "----------------------\n",
      "up: 120.19159352779388\n",
      "dn: 116.66137772798538\n",
      "PythiaWeight_isr_muR4 * PythiaWeight_fsr_muR4*p_Gen_GG_BSI_kappaTopBot_1_ghz1_1_MCFM*KFactor_QCD_ggZZ_Nominal*((Z1Flav*Z2Flav)==(121*121) ||(Z1Flav*Z2Flav)==(169*169) ||(Z1Flav*Z2Flav)==(121*169)  )*137.1*(ZZMass>=220)*(EventTag==0)*1000*xsec*overallEventWeight*L1prefiringWeight/Bin40\n",
      "PythiaWeight_isr_muR0p25 * PythiaWeight_fsr_muR0p25*p_Gen_GG_BSI_kappaTopBot_1_ghz1_1_MCFM*KFactor_QCD_ggZZ_Nominal*((Z1Flav*Z2Flav)==(121*121) ||(Z1Flav*Z2Flav)==(169*169) ||(Z1Flav*Z2Flav)==(121*169)  )*137.1*(ZZMass>=220)*(EventTag==0)*1000*xsec*overallEventWeight*L1prefiringWeight/Bin40\n",
      "----------------------\n",
      "up: 114.61662262678146\n",
      "dn: 120.73374718427658\n",
      "om nomnomm: 118.94696521759033\n",
      "here 104.00676089525223\n",
      "here 137.14214432239532\n",
      "here 118.45545035600662\n",
      "here 119.51539313793182\n",
      "here 121.13255620002747\n",
      "here 117.06342589855194\n",
      "here 120.19159352779388\n",
      "here 116.66137772798538\n",
      "here 114.61662262678146\n",
      "here 120.73374718427658\n"
     ]
    },
    {
     "data": {
      "application/vnd.jupyter.widget-view+json": {
       "model_id": "ff66bc69663241679eeb45a47de1b7ef",
       "version_major": 2,
       "version_minor": 0
      },
      "text/plain": [
       "  0%|          | 0/1 [00:00<?, ?it/s]"
      ]
     },
     "metadata": {},
     "output_type": "display_data"
    },
    {
     "name": "stdout",
     "output_type": "stream",
     "text": [
      "/eos/user/s/skyriaco/Offshell/Syst/highmass/MC_18/200205_CutBased/MC_2018/HighMass/ggH160/ZZ4lAnalysis.root\n",
      "LHEweight_QCDscale_muR2_muF1*p_Gen_GG_BSI_kappaTopBot_1_ghz1_1_MCFM*KFactor_QCD_ggZZ_Nominal*((Z1Flav*Z2Flav)==(121*121) ||(Z1Flav*Z2Flav)==(169*169) ||(Z1Flav*Z2Flav)==(121*169)  )*137.1*(ZZMass>=220)*(EventTag==0)*1000*xsec*overallEventWeight*L1prefiringWeight/Bin40\n",
      "LHEweight_QCDscale_muR0p5_muF1*p_Gen_GG_BSI_kappaTopBot_1_ghz1_1_MCFM*KFactor_QCD_ggZZ_Nominal*((Z1Flav*Z2Flav)==(121*121) ||(Z1Flav*Z2Flav)==(169*169) ||(Z1Flav*Z2Flav)==(121*169)  )*137.1*(ZZMass>=220)*(EventTag==0)*1000*xsec*overallEventWeight*L1prefiringWeight/Bin40\n",
      "----------------------\n",
      "up: 77.1798360645771\n",
      "dn: 103.2346318140626\n",
      "LHEweight_QCDscale_muR1_muF2*p_Gen_GG_BSI_kappaTopBot_1_ghz1_1_MCFM*KFactor_QCD_ggZZ_Nominal*((Z1Flav*Z2Flav)==(121*121) ||(Z1Flav*Z2Flav)==(169*169) ||(Z1Flav*Z2Flav)==(121*169)  )*137.1*(ZZMass>=220)*(EventTag==0)*1000*xsec*overallEventWeight*L1prefiringWeight/Bin40\n",
      "LHEweight_QCDscale_muR1_muF0p5*p_Gen_GG_BSI_kappaTopBot_1_ghz1_1_MCFM*KFactor_QCD_ggZZ_Nominal*((Z1Flav*Z2Flav)==(121*121) ||(Z1Flav*Z2Flav)==(169*169) ||(Z1Flav*Z2Flav)==(121*169)  )*137.1*(ZZMass>=220)*(EventTag==0)*1000*xsec*overallEventWeight*L1prefiringWeight/Bin40\n",
      "----------------------\n",
      "up: 87.733368948102\n",
      "dn: 89.96771927177906\n",
      "LHEweight_PDFVariation_Up*p_Gen_GG_BSI_kappaTopBot_1_ghz1_1_MCFM*KFactor_QCD_ggZZ_Nominal*((Z1Flav*Z2Flav)==(121*121) ||(Z1Flav*Z2Flav)==(169*169) ||(Z1Flav*Z2Flav)==(121*169)  )*137.1*(ZZMass>=220)*(EventTag==0)*1000*xsec*overallEventWeight*L1prefiringWeight/Bin40\n",
      "LHEweight_PDFVariation_Dn*p_Gen_GG_BSI_kappaTopBot_1_ghz1_1_MCFM*KFactor_QCD_ggZZ_Nominal*((Z1Flav*Z2Flav)==(121*121) ||(Z1Flav*Z2Flav)==(169*169) ||(Z1Flav*Z2Flav)==(121*169)  )*137.1*(ZZMass>=220)*(EventTag==0)*1000*xsec*overallEventWeight*L1prefiringWeight/Bin40\n",
      "----------------------\n",
      "up: 90.53263211995363\n",
      "dn: 87.26417895406485\n",
      "LHEweight_AsMZ_Up*p_Gen_GG_BSI_kappaTopBot_1_ghz1_1_MCFM*KFactor_QCD_ggZZ_Nominal*((Z1Flav*Z2Flav)==(121*121) ||(Z1Flav*Z2Flav)==(169*169) ||(Z1Flav*Z2Flav)==(121*169)  )*137.1*(ZZMass>=220)*(EventTag==0)*1000*xsec*overallEventWeight*L1prefiringWeight/Bin40\n",
      "LHEweight_AsMZ_Dn*p_Gen_GG_BSI_kappaTopBot_1_ghz1_1_MCFM*KFactor_QCD_ggZZ_Nominal*((Z1Flav*Z2Flav)==(121*121) ||(Z1Flav*Z2Flav)==(169*169) ||(Z1Flav*Z2Flav)==(121*169)  )*137.1*(ZZMass>=220)*(EventTag==0)*1000*xsec*overallEventWeight*L1prefiringWeight/Bin40\n",
      "----------------------\n",
      "up: 89.73126455396414\n",
      "dn: 87.11180853098631\n",
      "PythiaWeight_isr_muR4 * PythiaWeight_fsr_muR4*p_Gen_GG_BSI_kappaTopBot_1_ghz1_1_MCFM*KFactor_QCD_ggZZ_Nominal*((Z1Flav*Z2Flav)==(121*121) ||(Z1Flav*Z2Flav)==(169*169) ||(Z1Flav*Z2Flav)==(121*169)  )*137.1*(ZZMass>=220)*(EventTag==0)*1000*xsec*overallEventWeight*L1prefiringWeight/Bin40\n",
      "PythiaWeight_isr_muR0p25 * PythiaWeight_fsr_muR0p25*p_Gen_GG_BSI_kappaTopBot_1_ghz1_1_MCFM*KFactor_QCD_ggZZ_Nominal*((Z1Flav*Z2Flav)==(121*121) ||(Z1Flav*Z2Flav)==(169*169) ||(Z1Flav*Z2Flav)==(121*169)  )*137.1*(ZZMass>=220)*(EventTag==0)*1000*xsec*overallEventWeight*L1prefiringWeight/Bin40\n",
      "----------------------\n",
      "up: 86.31294991075993\n",
      "dn: 105.66000944795087\n",
      "om nomnomm: 88.79560036212206\n",
      "here 77.1798360645771\n",
      "here 103.2346318140626\n",
      "here 87.733368948102\n",
      "here 89.96771927177906\n",
      "here 90.53263211995363\n",
      "here 87.26417895406485\n",
      "here 89.73126455396414\n",
      "here 87.11180853098631\n",
      "here 86.31294991075993\n",
      "here 105.66000944795087\n"
     ]
    },
    {
     "data": {
      "application/vnd.jupyter.widget-view+json": {
       "model_id": "c6863e8e4d4c452fb939c13bacfb7313",
       "version_major": 2,
       "version_minor": 0
      },
      "text/plain": [
       "  0%|          | 0/1 [00:00<?, ?it/s]"
      ]
     },
     "metadata": {},
     "output_type": "display_data"
    },
    {
     "name": "stdout",
     "output_type": "stream",
     "text": [
      "/eos/user/s/skyriaco/Offshell/Syst/highmass/MC_18/200205_CutBased/MC_2018/HighMass/ggH165/ZZ4lAnalysis.root\n",
      "LHEweight_QCDscale_muR2_muF1*p_Gen_GG_BSI_kappaTopBot_1_ghz1_1_MCFM*KFactor_QCD_ggZZ_Nominal*((Z1Flav*Z2Flav)==(121*121) ||(Z1Flav*Z2Flav)==(169*169) ||(Z1Flav*Z2Flav)==(121*169)  )*137.1*(ZZMass>=220)*(EventTag==0)*1000*xsec*overallEventWeight*L1prefiringWeight/Bin40\n",
      "LHEweight_QCDscale_muR0p5_muF1*p_Gen_GG_BSI_kappaTopBot_1_ghz1_1_MCFM*KFactor_QCD_ggZZ_Nominal*((Z1Flav*Z2Flav)==(121*121) ||(Z1Flav*Z2Flav)==(169*169) ||(Z1Flav*Z2Flav)==(121*169)  )*137.1*(ZZMass>=220)*(EventTag==0)*1000*xsec*overallEventWeight*L1prefiringWeight/Bin40\n",
      "----------------------\n",
      "up: 42.017021492123604\n",
      "dn: 55.88470642268658\n",
      "LHEweight_QCDscale_muR1_muF2*p_Gen_GG_BSI_kappaTopBot_1_ghz1_1_MCFM*KFactor_QCD_ggZZ_Nominal*((Z1Flav*Z2Flav)==(121*121) ||(Z1Flav*Z2Flav)==(169*169) ||(Z1Flav*Z2Flav)==(121*169)  )*137.1*(ZZMass>=220)*(EventTag==0)*1000*xsec*overallEventWeight*L1prefiringWeight/Bin40\n",
      "LHEweight_QCDscale_muR1_muF0p5*p_Gen_GG_BSI_kappaTopBot_1_ghz1_1_MCFM*KFactor_QCD_ggZZ_Nominal*((Z1Flav*Z2Flav)==(121*121) ||(Z1Flav*Z2Flav)==(169*169) ||(Z1Flav*Z2Flav)==(121*169)  )*137.1*(ZZMass>=220)*(EventTag==0)*1000*xsec*overallEventWeight*L1prefiringWeight/Bin40\n",
      "----------------------\n",
      "up: 47.9072819724679\n",
      "dn: 48.59624597430229\n",
      "LHEweight_PDFVariation_Up*p_Gen_GG_BSI_kappaTopBot_1_ghz1_1_MCFM*KFactor_QCD_ggZZ_Nominal*((Z1Flav*Z2Flav)==(121*121) ||(Z1Flav*Z2Flav)==(169*169) ||(Z1Flav*Z2Flav)==(121*169)  )*137.1*(ZZMass>=220)*(EventTag==0)*1000*xsec*overallEventWeight*L1prefiringWeight/Bin40\n",
      "LHEweight_PDFVariation_Dn*p_Gen_GG_BSI_kappaTopBot_1_ghz1_1_MCFM*KFactor_QCD_ggZZ_Nominal*((Z1Flav*Z2Flav)==(121*121) ||(Z1Flav*Z2Flav)==(169*169) ||(Z1Flav*Z2Flav)==(121*169)  )*137.1*(ZZMass>=220)*(EventTag==0)*1000*xsec*overallEventWeight*L1prefiringWeight/Bin40\n",
      "----------------------\n",
      "up: 49.14787179976702\n",
      "dn: 47.41844782233238\n",
      "LHEweight_AsMZ_Up*p_Gen_GG_BSI_kappaTopBot_1_ghz1_1_MCFM*KFactor_QCD_ggZZ_Nominal*((Z1Flav*Z2Flav)==(121*121) ||(Z1Flav*Z2Flav)==(169*169) ||(Z1Flav*Z2Flav)==(121*169)  )*137.1*(ZZMass>=220)*(EventTag==0)*1000*xsec*overallEventWeight*L1prefiringWeight/Bin40\n",
      "LHEweight_AsMZ_Dn*p_Gen_GG_BSI_kappaTopBot_1_ghz1_1_MCFM*KFactor_QCD_ggZZ_Nominal*((Z1Flav*Z2Flav)==(121*121) ||(Z1Flav*Z2Flav)==(169*169) ||(Z1Flav*Z2Flav)==(121*169)  )*137.1*(ZZMass>=220)*(EventTag==0)*1000*xsec*overallEventWeight*L1prefiringWeight/Bin40\n",
      "----------------------\n",
      "up: 48.72171375900507\n",
      "dn: 47.32924363017082\n",
      "PythiaWeight_isr_muR4 * PythiaWeight_fsr_muR4*p_Gen_GG_BSI_kappaTopBot_1_ghz1_1_MCFM*KFactor_QCD_ggZZ_Nominal*((Z1Flav*Z2Flav)==(121*121) ||(Z1Flav*Z2Flav)==(169*169) ||(Z1Flav*Z2Flav)==(121*169)  )*137.1*(ZZMass>=220)*(EventTag==0)*1000*xsec*overallEventWeight*L1prefiringWeight/Bin40\n",
      "PythiaWeight_isr_muR0p25 * PythiaWeight_fsr_muR0p25*p_Gen_GG_BSI_kappaTopBot_1_ghz1_1_MCFM*KFactor_QCD_ggZZ_Nominal*((Z1Flav*Z2Flav)==(121*121) ||(Z1Flav*Z2Flav)==(169*169) ||(Z1Flav*Z2Flav)==(121*169)  )*137.1*(ZZMass>=220)*(EventTag==0)*1000*xsec*overallEventWeight*L1prefiringWeight/Bin40\n",
      "----------------------\n",
      "up: 46.177265390753746\n",
      "dn: 50.20568035542965\n",
      "om nomnomm: 48.22930254787207\n",
      "here 42.017021492123604\n",
      "here 55.88470642268658\n",
      "here 47.9072819724679\n",
      "here 48.59624597430229\n",
      "here 49.14787179976702\n",
      "here 47.41844782233238\n",
      "here 48.72171375900507\n",
      "here 47.32924363017082\n",
      "here 46.177265390753746\n",
      "here 50.20568035542965\n"
     ]
    },
    {
     "data": {
      "application/vnd.jupyter.widget-view+json": {
       "model_id": "0d3ebed28b5b4591ae6d4d55d6c9098e",
       "version_major": 2,
       "version_minor": 0
      },
      "text/plain": [
       "  0%|          | 0/1 [00:00<?, ?it/s]"
      ]
     },
     "metadata": {},
     "output_type": "display_data"
    },
    {
     "name": "stdout",
     "output_type": "stream",
     "text": [
      "/eos/user/s/skyriaco/Offshell/Syst/highmass/MC_18/200205_CutBased/MC_2018/HighMass/ggH170/ZZ4lAnalysis.root\n",
      "LHEweight_QCDscale_muR2_muF1*p_Gen_GG_BSI_kappaTopBot_1_ghz1_1_MCFM*KFactor_QCD_ggZZ_Nominal*((Z1Flav*Z2Flav)==(121*121) ||(Z1Flav*Z2Flav)==(169*169) ||(Z1Flav*Z2Flav)==(121*169)  )*137.1*(ZZMass>=220)*(EventTag==0)*1000*xsec*overallEventWeight*L1prefiringWeight/Bin40\n",
      "LHEweight_QCDscale_muR0p5_muF1*p_Gen_GG_BSI_kappaTopBot_1_ghz1_1_MCFM*KFactor_QCD_ggZZ_Nominal*((Z1Flav*Z2Flav)==(121*121) ||(Z1Flav*Z2Flav)==(169*169) ||(Z1Flav*Z2Flav)==(121*169)  )*137.1*(ZZMass>=220)*(EventTag==0)*1000*xsec*overallEventWeight*L1prefiringWeight/Bin40\n",
      "----------------------\n",
      "up: 41.524733119644225\n",
      "dn: 55.69240877404809\n",
      "LHEweight_QCDscale_muR1_muF2*p_Gen_GG_BSI_kappaTopBot_1_ghz1_1_MCFM*KFactor_QCD_ggZZ_Nominal*((Z1Flav*Z2Flav)==(121*121) ||(Z1Flav*Z2Flav)==(169*169) ||(Z1Flav*Z2Flav)==(121*169)  )*137.1*(ZZMass>=220)*(EventTag==0)*1000*xsec*overallEventWeight*L1prefiringWeight/Bin40\n",
      "LHEweight_QCDscale_muR1_muF0p5*p_Gen_GG_BSI_kappaTopBot_1_ghz1_1_MCFM*KFactor_QCD_ggZZ_Nominal*((Z1Flav*Z2Flav)==(121*121) ||(Z1Flav*Z2Flav)==(169*169) ||(Z1Flav*Z2Flav)==(121*169)  )*137.1*(ZZMass>=220)*(EventTag==0)*1000*xsec*overallEventWeight*L1prefiringWeight/Bin40\n",
      "----------------------\n",
      "up: 47.584977579303086\n",
      "dn: 48.12750227050856\n",
      "LHEweight_PDFVariation_Up*p_Gen_GG_BSI_kappaTopBot_1_ghz1_1_MCFM*KFactor_QCD_ggZZ_Nominal*((Z1Flav*Z2Flav)==(121*121) ||(Z1Flav*Z2Flav)==(169*169) ||(Z1Flav*Z2Flav)==(121*169)  )*137.1*(ZZMass>=220)*(EventTag==0)*1000*xsec*overallEventWeight*L1prefiringWeight/Bin40\n",
      "LHEweight_PDFVariation_Dn*p_Gen_GG_BSI_kappaTopBot_1_ghz1_1_MCFM*KFactor_QCD_ggZZ_Nominal*((Z1Flav*Z2Flav)==(121*121) ||(Z1Flav*Z2Flav)==(169*169) ||(Z1Flav*Z2Flav)==(121*169)  )*137.1*(ZZMass>=220)*(EventTag==0)*1000*xsec*overallEventWeight*L1prefiringWeight/Bin40\n",
      "----------------------\n",
      "up: 48.75033688545227\n",
      "dn: 47.03702801512554\n",
      "LHEweight_AsMZ_Up*p_Gen_GG_BSI_kappaTopBot_1_ghz1_1_MCFM*KFactor_QCD_ggZZ_Nominal*((Z1Flav*Z2Flav)==(121*121) ||(Z1Flav*Z2Flav)==(169*169) ||(Z1Flav*Z2Flav)==(121*169)  )*137.1*(ZZMass>=220)*(EventTag==0)*1000*xsec*overallEventWeight*L1prefiringWeight/Bin40\n",
      "LHEweight_AsMZ_Dn*p_Gen_GG_BSI_kappaTopBot_1_ghz1_1_MCFM*KFactor_QCD_ggZZ_Nominal*((Z1Flav*Z2Flav)==(121*121) ||(Z1Flav*Z2Flav)==(169*169) ||(Z1Flav*Z2Flav)==(121*169)  )*137.1*(ZZMass>=220)*(EventTag==0)*1000*xsec*overallEventWeight*L1prefiringWeight/Bin40\n",
      "----------------------\n",
      "up: 48.35683192871511\n",
      "dn: 46.92226832360029\n",
      "PythiaWeight_isr_muR4 * PythiaWeight_fsr_muR4*p_Gen_GG_BSI_kappaTopBot_1_ghz1_1_MCFM*KFactor_QCD_ggZZ_Nominal*((Z1Flav*Z2Flav)==(121*121) ||(Z1Flav*Z2Flav)==(169*169) ||(Z1Flav*Z2Flav)==(121*169)  )*137.1*(ZZMass>=220)*(EventTag==0)*1000*xsec*overallEventWeight*L1prefiringWeight/Bin40\n",
      "PythiaWeight_isr_muR0p25 * PythiaWeight_fsr_muR0p25*p_Gen_GG_BSI_kappaTopBot_1_ghz1_1_MCFM*KFactor_QCD_ggZZ_Nominal*((Z1Flav*Z2Flav)==(121*121) ||(Z1Flav*Z2Flav)==(169*169) ||(Z1Flav*Z2Flav)==(121*169)  )*137.1*(ZZMass>=220)*(EventTag==0)*1000*xsec*overallEventWeight*L1prefiringWeight/Bin40\n",
      "----------------------\n",
      "up: 51.69960134290159\n",
      "dn: 42.061343897745246\n",
      "om nomnomm: 47.83628962934017\n",
      "here 41.524733119644225\n",
      "here 55.69240877404809\n",
      "here 47.584977579303086\n",
      "here 48.12750227050856\n",
      "here 48.75033688545227\n",
      "here 47.03702801512554\n",
      "here 48.35683192871511\n",
      "here 46.92226832360029\n",
      "here 51.69960134290159\n",
      "here 42.061343897745246\n"
     ]
    },
    {
     "data": {
      "application/vnd.jupyter.widget-view+json": {
       "model_id": "195ec363ecb846549b72fc409fefc2f5",
       "version_major": 2,
       "version_minor": 0
      },
      "text/plain": [
       "  0%|          | 0/1 [00:00<?, ?it/s]"
      ]
     },
     "metadata": {},
     "output_type": "display_data"
    },
    {
     "name": "stdout",
     "output_type": "stream",
     "text": [
      "/eos/user/s/skyriaco/Offshell/Syst/highmass/MC_18/200205_CutBased/MC_2018/HighMass/ggH175/ZZ4lAnalysis.root\n",
      "LHEweight_QCDscale_muR2_muF1*p_Gen_GG_BSI_kappaTopBot_1_ghz1_1_MCFM*KFactor_QCD_ggZZ_Nominal*((Z1Flav*Z2Flav)==(121*121) ||(Z1Flav*Z2Flav)==(169*169) ||(Z1Flav*Z2Flav)==(121*169)  )*137.1*(ZZMass>=220)*(EventTag==0)*1000*xsec*overallEventWeight*L1prefiringWeight/Bin40\n",
      "LHEweight_QCDscale_muR0p5_muF1*p_Gen_GG_BSI_kappaTopBot_1_ghz1_1_MCFM*KFactor_QCD_ggZZ_Nominal*((Z1Flav*Z2Flav)==(121*121) ||(Z1Flav*Z2Flav)==(169*169) ||(Z1Flav*Z2Flav)==(121*169)  )*137.1*(ZZMass>=220)*(EventTag==0)*1000*xsec*overallEventWeight*L1prefiringWeight/Bin40\n",
      "----------------------\n",
      "up: 53.435719437897205\n",
      "dn: 68.78553992882371\n",
      "LHEweight_QCDscale_muR1_muF2*p_Gen_GG_BSI_kappaTopBot_1_ghz1_1_MCFM*KFactor_QCD_ggZZ_Nominal*((Z1Flav*Z2Flav)==(121*121) ||(Z1Flav*Z2Flav)==(169*169) ||(Z1Flav*Z2Flav)==(121*169)  )*137.1*(ZZMass>=220)*(EventTag==0)*1000*xsec*overallEventWeight*L1prefiringWeight/Bin40\n",
      "LHEweight_QCDscale_muR1_muF0p5*p_Gen_GG_BSI_kappaTopBot_1_ghz1_1_MCFM*KFactor_QCD_ggZZ_Nominal*((Z1Flav*Z2Flav)==(121*121) ||(Z1Flav*Z2Flav)==(169*169) ||(Z1Flav*Z2Flav)==(121*169)  )*137.1*(ZZMass>=220)*(EventTag==0)*1000*xsec*overallEventWeight*L1prefiringWeight/Bin40\n",
      "----------------------\n",
      "up: 59.745724285021424\n",
      "dn: 61.263181410729885\n",
      "LHEweight_PDFVariation_Up*p_Gen_GG_BSI_kappaTopBot_1_ghz1_1_MCFM*KFactor_QCD_ggZZ_Nominal*((Z1Flav*Z2Flav)==(121*121) ||(Z1Flav*Z2Flav)==(169*169) ||(Z1Flav*Z2Flav)==(121*169)  )*137.1*(ZZMass>=220)*(EventTag==0)*1000*xsec*overallEventWeight*L1prefiringWeight/Bin40\n",
      "LHEweight_PDFVariation_Dn*p_Gen_GG_BSI_kappaTopBot_1_ghz1_1_MCFM*KFactor_QCD_ggZZ_Nominal*((Z1Flav*Z2Flav)==(121*121) ||(Z1Flav*Z2Flav)==(169*169) ||(Z1Flav*Z2Flav)==(121*169)  )*137.1*(ZZMass>=220)*(EventTag==0)*1000*xsec*overallEventWeight*L1prefiringWeight/Bin40\n",
      "----------------------\n",
      "up: 61.72795073315501\n",
      "dn: 59.350854720920324\n",
      "LHEweight_AsMZ_Up*p_Gen_GG_BSI_kappaTopBot_1_ghz1_1_MCFM*KFactor_QCD_ggZZ_Nominal*((Z1Flav*Z2Flav)==(121*121) ||(Z1Flav*Z2Flav)==(169*169) ||(Z1Flav*Z2Flav)==(121*169)  )*137.1*(ZZMass>=220)*(EventTag==0)*1000*xsec*overallEventWeight*L1prefiringWeight/Bin40\n",
      "LHEweight_AsMZ_Dn*p_Gen_GG_BSI_kappaTopBot_1_ghz1_1_MCFM*KFactor_QCD_ggZZ_Nominal*((Z1Flav*Z2Flav)==(121*121) ||(Z1Flav*Z2Flav)==(169*169) ||(Z1Flav*Z2Flav)==(121*169)  )*137.1*(ZZMass>=220)*(EventTag==0)*1000*xsec*overallEventWeight*L1prefiringWeight/Bin40\n",
      "----------------------\n",
      "up: 61.02322191745043\n",
      "dn: 59.385862447321415\n",
      "PythiaWeight_isr_muR4 * PythiaWeight_fsr_muR4*p_Gen_GG_BSI_kappaTopBot_1_ghz1_1_MCFM*KFactor_QCD_ggZZ_Nominal*((Z1Flav*Z2Flav)==(121*121) ||(Z1Flav*Z2Flav)==(169*169) ||(Z1Flav*Z2Flav)==(121*169)  )*137.1*(ZZMass>=220)*(EventTag==0)*1000*xsec*overallEventWeight*L1prefiringWeight/Bin40\n",
      "PythiaWeight_isr_muR0p25 * PythiaWeight_fsr_muR0p25*p_Gen_GG_BSI_kappaTopBot_1_ghz1_1_MCFM*KFactor_QCD_ggZZ_Nominal*((Z1Flav*Z2Flav)==(121*121) ||(Z1Flav*Z2Flav)==(169*169) ||(Z1Flav*Z2Flav)==(121*169)  )*137.1*(ZZMass>=220)*(EventTag==0)*1000*xsec*overallEventWeight*L1prefiringWeight/Bin40\n",
      "----------------------\n",
      "up: 60.8223701864481\n",
      "dn: 51.68399825878441\n",
      "om nomnomm: 60.464540634304285\n",
      "here 53.435719437897205\n",
      "here 68.78553992882371\n",
      "here 59.745724285021424\n",
      "here 61.263181410729885\n",
      "here 61.72795073315501\n",
      "here 59.350854720920324\n",
      "here 61.02322191745043\n",
      "here 59.385862447321415\n",
      "here 60.8223701864481\n",
      "here 51.68399825878441\n"
     ]
    },
    {
     "data": {
      "application/vnd.jupyter.widget-view+json": {
       "model_id": "7748cd58672140b5bbd0b76ab14a11ac",
       "version_major": 2,
       "version_minor": 0
      },
      "text/plain": [
       "  0%|          | 0/1 [00:00<?, ?it/s]"
      ]
     },
     "metadata": {},
     "output_type": "display_data"
    },
    {
     "name": "stdout",
     "output_type": "stream",
     "text": [
      "/eos/user/s/skyriaco/Offshell/Syst/highmass/MC_18/200205_CutBased/MC_2018/HighMass/ggH180/ZZ4lAnalysis.root\n",
      "LHEweight_QCDscale_muR2_muF1*p_Gen_GG_BSI_kappaTopBot_1_ghz1_1_MCFM*KFactor_QCD_ggZZ_Nominal*((Z1Flav*Z2Flav)==(121*121) ||(Z1Flav*Z2Flav)==(169*169) ||(Z1Flav*Z2Flav)==(121*169)  )*137.1*(ZZMass>=220)*(EventTag==0)*1000*xsec*overallEventWeight*L1prefiringWeight/Bin40\n",
      "LHEweight_QCDscale_muR0p5_muF1*p_Gen_GG_BSI_kappaTopBot_1_ghz1_1_MCFM*KFactor_QCD_ggZZ_Nominal*((Z1Flav*Z2Flav)==(121*121) ||(Z1Flav*Z2Flav)==(169*169) ||(Z1Flav*Z2Flav)==(121*169)  )*137.1*(ZZMass>=220)*(EventTag==0)*1000*xsec*overallEventWeight*L1prefiringWeight/Bin40\n",
      "----------------------\n",
      "up: 79.04224140848964\n",
      "dn: 106.3135080691427\n",
      "LHEweight_QCDscale_muR1_muF2*p_Gen_GG_BSI_kappaTopBot_1_ghz1_1_MCFM*KFactor_QCD_ggZZ_Nominal*((Z1Flav*Z2Flav)==(121*121) ||(Z1Flav*Z2Flav)==(169*169) ||(Z1Flav*Z2Flav)==(121*169)  )*137.1*(ZZMass>=220)*(EventTag==0)*1000*xsec*overallEventWeight*L1prefiringWeight/Bin40\n",
      "LHEweight_QCDscale_muR1_muF0p5*p_Gen_GG_BSI_kappaTopBot_1_ghz1_1_MCFM*KFactor_QCD_ggZZ_Nominal*((Z1Flav*Z2Flav)==(121*121) ||(Z1Flav*Z2Flav)==(169*169) ||(Z1Flav*Z2Flav)==(121*169)  )*137.1*(ZZMass>=220)*(EventTag==0)*1000*xsec*overallEventWeight*L1prefiringWeight/Bin40\n",
      "----------------------\n",
      "up: 90.29527892265469\n",
      "dn: 92.09783632308245\n",
      "LHEweight_PDFVariation_Up*p_Gen_GG_BSI_kappaTopBot_1_ghz1_1_MCFM*KFactor_QCD_ggZZ_Nominal*((Z1Flav*Z2Flav)==(121*121) ||(Z1Flav*Z2Flav)==(169*169) ||(Z1Flav*Z2Flav)==(121*169)  )*137.1*(ZZMass>=220)*(EventTag==0)*1000*xsec*overallEventWeight*L1prefiringWeight/Bin40\n",
      "LHEweight_PDFVariation_Dn*p_Gen_GG_BSI_kappaTopBot_1_ghz1_1_MCFM*KFactor_QCD_ggZZ_Nominal*((Z1Flav*Z2Flav)==(121*121) ||(Z1Flav*Z2Flav)==(169*169) ||(Z1Flav*Z2Flav)==(121*169)  )*137.1*(ZZMass>=220)*(EventTag==0)*1000*xsec*overallEventWeight*L1prefiringWeight/Bin40\n",
      "----------------------\n",
      "up: 92.90076276101172\n",
      "dn: 89.6094570774585\n",
      "LHEweight_AsMZ_Up*p_Gen_GG_BSI_kappaTopBot_1_ghz1_1_MCFM*KFactor_QCD_ggZZ_Nominal*((Z1Flav*Z2Flav)==(121*121) ||(Z1Flav*Z2Flav)==(169*169) ||(Z1Flav*Z2Flav)==(121*169)  )*137.1*(ZZMass>=220)*(EventTag==0)*1000*xsec*overallEventWeight*L1prefiringWeight/Bin40\n",
      "LHEweight_AsMZ_Dn*p_Gen_GG_BSI_kappaTopBot_1_ghz1_1_MCFM*KFactor_QCD_ggZZ_Nominal*((Z1Flav*Z2Flav)==(121*121) ||(Z1Flav*Z2Flav)==(169*169) ||(Z1Flav*Z2Flav)==(121*169)  )*137.1*(ZZMass>=220)*(EventTag==0)*1000*xsec*overallEventWeight*L1prefiringWeight/Bin40\n",
      "----------------------\n",
      "up: 92.14284563623369\n",
      "dn: 89.43185383081436\n",
      "PythiaWeight_isr_muR4 * PythiaWeight_fsr_muR4*p_Gen_GG_BSI_kappaTopBot_1_ghz1_1_MCFM*KFactor_QCD_ggZZ_Nominal*((Z1Flav*Z2Flav)==(121*121) ||(Z1Flav*Z2Flav)==(169*169) ||(Z1Flav*Z2Flav)==(121*169)  )*137.1*(ZZMass>=220)*(EventTag==0)*1000*xsec*overallEventWeight*L1prefiringWeight/Bin40\n",
      "PythiaWeight_isr_muR0p25 * PythiaWeight_fsr_muR0p25*p_Gen_GG_BSI_kappaTopBot_1_ghz1_1_MCFM*KFactor_QCD_ggZZ_Nominal*((Z1Flav*Z2Flav)==(121*121) ||(Z1Flav*Z2Flav)==(169*169) ||(Z1Flav*Z2Flav)==(121*169)  )*137.1*(ZZMass>=220)*(EventTag==0)*1000*xsec*overallEventWeight*L1prefiringWeight/Bin40\n",
      "----------------------\n",
      "up: 89.74549856595695\n",
      "dn: 91.41880199685693\n",
      "om nomnomm: 91.1615376919508\n",
      "here 79.04224140848964\n",
      "here 106.3135080691427\n",
      "here 90.29527892265469\n",
      "here 92.09783632308245\n",
      "here 92.90076276101172\n",
      "here 89.6094570774585\n",
      "here 92.14284563623369\n",
      "here 89.43185383081436\n",
      "here 89.74549856595695\n",
      "here 91.41880199685693\n"
     ]
    },
    {
     "data": {
      "application/vnd.jupyter.widget-view+json": {
       "model_id": "160b6dc04bb74e1e8f550aec8ebf341f",
       "version_major": 2,
       "version_minor": 0
      },
      "text/plain": [
       "  0%|          | 0/1 [00:00<?, ?it/s]"
      ]
     },
     "metadata": {},
     "output_type": "display_data"
    },
    {
     "name": "stdout",
     "output_type": "stream",
     "text": [
      "/eos/user/s/skyriaco/Offshell/Syst/highmass/MC_18/200205_CutBased/MC_2018/HighMass/ggH190/ZZ4lAnalysis.root\n",
      "LHEweight_QCDscale_muR2_muF1*p_Gen_GG_BSI_kappaTopBot_1_ghz1_1_MCFM*KFactor_QCD_ggZZ_Nominal*((Z1Flav*Z2Flav)==(121*121) ||(Z1Flav*Z2Flav)==(169*169) ||(Z1Flav*Z2Flav)==(121*169)  )*137.1*(ZZMass>=220)*(EventTag==0)*1000*xsec*overallEventWeight*L1prefiringWeight/Bin40\n",
      "LHEweight_QCDscale_muR0p5_muF1*p_Gen_GG_BSI_kappaTopBot_1_ghz1_1_MCFM*KFactor_QCD_ggZZ_Nominal*((Z1Flav*Z2Flav)==(121*121) ||(Z1Flav*Z2Flav)==(169*169) ||(Z1Flav*Z2Flav)==(121*169)  )*137.1*(ZZMass>=220)*(EventTag==0)*1000*xsec*overallEventWeight*L1prefiringWeight/Bin40\n",
      "----------------------\n",
      "up: 306.70736051537097\n",
      "dn: 402.37056016083807\n",
      "LHEweight_QCDscale_muR1_muF2*p_Gen_GG_BSI_kappaTopBot_1_ghz1_1_MCFM*KFactor_QCD_ggZZ_Nominal*((Z1Flav*Z2Flav)==(121*121) ||(Z1Flav*Z2Flav)==(169*169) ||(Z1Flav*Z2Flav)==(121*169)  )*137.1*(ZZMass>=220)*(EventTag==0)*1000*xsec*overallEventWeight*L1prefiringWeight/Bin40\n",
      "LHEweight_QCDscale_muR1_muF0p5*p_Gen_GG_BSI_kappaTopBot_1_ghz1_1_MCFM*KFactor_QCD_ggZZ_Nominal*((Z1Flav*Z2Flav)==(121*121) ||(Z1Flav*Z2Flav)==(169*169) ||(Z1Flav*Z2Flav)==(121*169)  )*137.1*(ZZMass>=220)*(EventTag==0)*1000*xsec*overallEventWeight*L1prefiringWeight/Bin40\n",
      "----------------------\n",
      "up: 348.2420585080981\n",
      "dn: 351.900695879478\n",
      "LHEweight_PDFVariation_Up*p_Gen_GG_BSI_kappaTopBot_1_ghz1_1_MCFM*KFactor_QCD_ggZZ_Nominal*((Z1Flav*Z2Flav)==(121*121) ||(Z1Flav*Z2Flav)==(169*169) ||(Z1Flav*Z2Flav)==(121*169)  )*137.1*(ZZMass>=220)*(EventTag==0)*1000*xsec*overallEventWeight*L1prefiringWeight/Bin40\n",
      "LHEweight_PDFVariation_Dn*p_Gen_GG_BSI_kappaTopBot_1_ghz1_1_MCFM*KFactor_QCD_ggZZ_Nominal*((Z1Flav*Z2Flav)==(121*121) ||(Z1Flav*Z2Flav)==(169*169) ||(Z1Flav*Z2Flav)==(121*169)  )*137.1*(ZZMass>=220)*(EventTag==0)*1000*xsec*overallEventWeight*L1prefiringWeight/Bin40\n",
      "----------------------\n",
      "up: 356.61203993158415\n",
      "dn: 344.06350046163425\n",
      "LHEweight_AsMZ_Up*p_Gen_GG_BSI_kappaTopBot_1_ghz1_1_MCFM*KFactor_QCD_ggZZ_Nominal*((Z1Flav*Z2Flav)==(121*121) ||(Z1Flav*Z2Flav)==(169*169) ||(Z1Flav*Z2Flav)==(121*169)  )*137.1*(ZZMass>=220)*(EventTag==0)*1000*xsec*overallEventWeight*L1prefiringWeight/Bin40\n",
      "LHEweight_AsMZ_Dn*p_Gen_GG_BSI_kappaTopBot_1_ghz1_1_MCFM*KFactor_QCD_ggZZ_Nominal*((Z1Flav*Z2Flav)==(121*121) ||(Z1Flav*Z2Flav)==(169*169) ||(Z1Flav*Z2Flav)==(121*169)  )*137.1*(ZZMass>=220)*(EventTag==0)*1000*xsec*overallEventWeight*L1prefiringWeight/Bin40\n",
      "----------------------\n",
      "up: 353.34731079405174\n",
      "dn: 343.432929283008\n",
      "PythiaWeight_isr_muR4 * PythiaWeight_fsr_muR4*p_Gen_GG_BSI_kappaTopBot_1_ghz1_1_MCFM*KFactor_QCD_ggZZ_Nominal*((Z1Flav*Z2Flav)==(121*121) ||(Z1Flav*Z2Flav)==(169*169) ||(Z1Flav*Z2Flav)==(121*169)  )*137.1*(ZZMass>=220)*(EventTag==0)*1000*xsec*overallEventWeight*L1prefiringWeight/Bin40\n",
      "PythiaWeight_isr_muR0p25 * PythiaWeight_fsr_muR0p25*p_Gen_GG_BSI_kappaTopBot_1_ghz1_1_MCFM*KFactor_QCD_ggZZ_Nominal*((Z1Flav*Z2Flav)==(121*121) ||(Z1Flav*Z2Flav)==(169*169) ||(Z1Flav*Z2Flav)==(121*169)  )*137.1*(ZZMass>=220)*(EventTag==0)*1000*xsec*overallEventWeight*L1prefiringWeight/Bin40\n",
      "----------------------\n",
      "up: 359.58753449469805\n",
      "dn: 320.61373313952936\n",
      "om nomnomm: 349.92538214987144\n",
      "here 306.70736051537097\n",
      "here 402.37056016083807\n",
      "here 348.2420585080981\n",
      "here 351.900695879478\n",
      "here 356.61203993158415\n",
      "here 344.06350046163425\n",
      "here 353.34731079405174\n",
      "here 343.432929283008\n",
      "here 359.58753449469805\n",
      "here 320.61373313952936\n"
     ]
    },
    {
     "data": {
      "application/vnd.jupyter.widget-view+json": {
       "model_id": "301ef48c20354d73a5485813fedaf340",
       "version_major": 2,
       "version_minor": 0
      },
      "text/plain": [
       "  0%|          | 0/1 [00:00<?, ?it/s]"
      ]
     },
     "metadata": {},
     "output_type": "display_data"
    },
    {
     "name": "stdout",
     "output_type": "stream",
     "text": [
      "/eos/user/s/skyriaco/Offshell/Syst/highmass/MC_18/200205_CutBased/MC_2018/HighMass/ggH200/ZZ4lAnalysis.root\n",
      "LHEweight_QCDscale_muR2_muF1*p_Gen_GG_BSI_kappaTopBot_1_ghz1_1_MCFM*KFactor_QCD_ggZZ_Nominal*((Z1Flav*Z2Flav)==(121*121) ||(Z1Flav*Z2Flav)==(169*169) ||(Z1Flav*Z2Flav)==(121*169)  )*137.1*(ZZMass>=220)*(EventTag==0)*1000*xsec*overallEventWeight*L1prefiringWeight/Bin40\n",
      "LHEweight_QCDscale_muR0p5_muF1*p_Gen_GG_BSI_kappaTopBot_1_ghz1_1_MCFM*KFactor_QCD_ggZZ_Nominal*((Z1Flav*Z2Flav)==(121*121) ||(Z1Flav*Z2Flav)==(169*169) ||(Z1Flav*Z2Flav)==(121*169)  )*137.1*(ZZMass>=220)*(EventTag==0)*1000*xsec*overallEventWeight*L1prefiringWeight/Bin40\n",
      "----------------------\n",
      "up: 386.05279406672344\n",
      "dn: 510.15110098186415\n",
      "LHEweight_QCDscale_muR1_muF2*p_Gen_GG_BSI_kappaTopBot_1_ghz1_1_MCFM*KFactor_QCD_ggZZ_Nominal*((Z1Flav*Z2Flav)==(121*121) ||(Z1Flav*Z2Flav)==(169*169) ||(Z1Flav*Z2Flav)==(121*169)  )*137.1*(ZZMass>=220)*(EventTag==0)*1000*xsec*overallEventWeight*L1prefiringWeight/Bin40\n",
      "LHEweight_QCDscale_muR1_muF0p5*p_Gen_GG_BSI_kappaTopBot_1_ghz1_1_MCFM*KFactor_QCD_ggZZ_Nominal*((Z1Flav*Z2Flav)==(121*121) ||(Z1Flav*Z2Flav)==(169*169) ||(Z1Flav*Z2Flav)==(121*169)  )*137.1*(ZZMass>=220)*(EventTag==0)*1000*xsec*overallEventWeight*L1prefiringWeight/Bin40\n",
      "----------------------\n",
      "up: 436.1040375690209\n",
      "dn: 448.4486452409765\n",
      "LHEweight_PDFVariation_Up*p_Gen_GG_BSI_kappaTopBot_1_ghz1_1_MCFM*KFactor_QCD_ggZZ_Nominal*((Z1Flav*Z2Flav)==(121*121) ||(Z1Flav*Z2Flav)==(169*169) ||(Z1Flav*Z2Flav)==(121*169)  )*137.1*(ZZMass>=220)*(EventTag==0)*1000*xsec*overallEventWeight*L1prefiringWeight/Bin40\n",
      "LHEweight_PDFVariation_Dn*p_Gen_GG_BSI_kappaTopBot_1_ghz1_1_MCFM*KFactor_QCD_ggZZ_Nominal*((Z1Flav*Z2Flav)==(121*121) ||(Z1Flav*Z2Flav)==(169*169) ||(Z1Flav*Z2Flav)==(121*169)  )*137.1*(ZZMass>=220)*(EventTag==0)*1000*xsec*overallEventWeight*L1prefiringWeight/Bin40\n",
      "----------------------\n",
      "up: 450.40844291530084\n",
      "dn: 434.3777514954563\n",
      "LHEweight_AsMZ_Up*p_Gen_GG_BSI_kappaTopBot_1_ghz1_1_MCFM*KFactor_QCD_ggZZ_Nominal*((Z1Flav*Z2Flav)==(121*121) ||(Z1Flav*Z2Flav)==(169*169) ||(Z1Flav*Z2Flav)==(121*169)  )*137.1*(ZZMass>=220)*(EventTag==0)*1000*xsec*overallEventWeight*L1prefiringWeight/Bin40\n",
      "LHEweight_AsMZ_Dn*p_Gen_GG_BSI_kappaTopBot_1_ghz1_1_MCFM*KFactor_QCD_ggZZ_Nominal*((Z1Flav*Z2Flav)==(121*121) ||(Z1Flav*Z2Flav)==(169*169) ||(Z1Flav*Z2Flav)==(121*169)  )*137.1*(ZZMass>=220)*(EventTag==0)*1000*xsec*overallEventWeight*L1prefiringWeight/Bin40\n",
      "----------------------\n",
      "up: 446.3139239246957\n",
      "dn: 433.57101720839273\n",
      "PythiaWeight_isr_muR4 * PythiaWeight_fsr_muR4*p_Gen_GG_BSI_kappaTopBot_1_ghz1_1_MCFM*KFactor_QCD_ggZZ_Nominal*((Z1Flav*Z2Flav)==(121*121) ||(Z1Flav*Z2Flav)==(169*169) ||(Z1Flav*Z2Flav)==(121*169)  )*137.1*(ZZMass>=220)*(EventTag==0)*1000*xsec*overallEventWeight*L1prefiringWeight/Bin40\n",
      "PythiaWeight_isr_muR0p25 * PythiaWeight_fsr_muR0p25*p_Gen_GG_BSI_kappaTopBot_1_ghz1_1_MCFM*KFactor_QCD_ggZZ_Nominal*((Z1Flav*Z2Flav)==(121*121) ||(Z1Flav*Z2Flav)==(169*169) ||(Z1Flav*Z2Flav)==(121*169)  )*137.1*(ZZMass>=220)*(EventTag==0)*1000*xsec*overallEventWeight*L1prefiringWeight/Bin40\n",
      "----------------------\n",
      "up: 452.47667030710727\n",
      "dn: 481.81864069472067\n",
      "om nomnomm: 441.8745963422116\n",
      "here 386.05279406672344\n",
      "here 510.15110098186415\n",
      "here 436.1040375690209\n",
      "here 448.4486452409765\n",
      "here 450.40844291530084\n",
      "here 434.3777514954563\n",
      "here 446.3139239246957\n",
      "here 433.57101720839273\n",
      "here 452.47667030710727\n",
      "here 481.81864069472067\n"
     ]
    },
    {
     "data": {
      "application/vnd.jupyter.widget-view+json": {
       "model_id": "6d4d3bbf3ac94f3db770264e7ba63486",
       "version_major": 2,
       "version_minor": 0
      },
      "text/plain": [
       "  0%|          | 0/1 [00:00<?, ?it/s]"
      ]
     },
     "metadata": {},
     "output_type": "display_data"
    },
    {
     "name": "stdout",
     "output_type": "stream",
     "text": [
      "/eos/user/s/skyriaco/Offshell/Syst/highmass/MC_18/200205_CutBased/MC_2018/HighMass/ggH2000/ZZ4lAnalysis.root\n",
      "LHEweight_QCDscale_muR2_muF1*p_Gen_GG_BSI_kappaTopBot_1_ghz1_1_MCFM*KFactor_QCD_ggZZ_Nominal*((Z1Flav*Z2Flav)==(121*121) ||(Z1Flav*Z2Flav)==(169*169) ||(Z1Flav*Z2Flav)==(121*169)  )*137.1*(ZZMass>=220)*(EventTag==0)*1000*xsec*overallEventWeight*L1prefiringWeight/Bin40\n",
      "LHEweight_QCDscale_muR0p5_muF1*p_Gen_GG_BSI_kappaTopBot_1_ghz1_1_MCFM*KFactor_QCD_ggZZ_Nominal*((Z1Flav*Z2Flav)==(121*121) ||(Z1Flav*Z2Flav)==(169*169) ||(Z1Flav*Z2Flav)==(121*169)  )*137.1*(ZZMass>=220)*(EventTag==0)*1000*xsec*overallEventWeight*L1prefiringWeight/Bin40\n",
      "----------------------\n",
      "up: 7362.3819338732865\n",
      "dn: 9774.624972593854\n",
      "LHEweight_QCDscale_muR1_muF2*p_Gen_GG_BSI_kappaTopBot_1_ghz1_1_MCFM*KFactor_QCD_ggZZ_Nominal*((Z1Flav*Z2Flav)==(121*121) ||(Z1Flav*Z2Flav)==(169*169) ||(Z1Flav*Z2Flav)==(121*169)  )*137.1*(ZZMass>=220)*(EventTag==0)*1000*xsec*overallEventWeight*L1prefiringWeight/Bin40\n",
      "LHEweight_QCDscale_muR1_muF0p5*p_Gen_GG_BSI_kappaTopBot_1_ghz1_1_MCFM*KFactor_QCD_ggZZ_Nominal*((Z1Flav*Z2Flav)==(121*121) ||(Z1Flav*Z2Flav)==(169*169) ||(Z1Flav*Z2Flav)==(121*169)  )*137.1*(ZZMass>=220)*(EventTag==0)*1000*xsec*overallEventWeight*L1prefiringWeight/Bin40\n",
      "----------------------\n",
      "up: 8341.03109437204\n",
      "dn: 8557.865156415035\n",
      "LHEweight_PDFVariation_Up*p_Gen_GG_BSI_kappaTopBot_1_ghz1_1_MCFM*KFactor_QCD_ggZZ_Nominal*((Z1Flav*Z2Flav)==(121*121) ||(Z1Flav*Z2Flav)==(169*169) ||(Z1Flav*Z2Flav)==(121*169)  )*137.1*(ZZMass>=220)*(EventTag==0)*1000*xsec*overallEventWeight*L1prefiringWeight/Bin40\n",
      "LHEweight_PDFVariation_Dn*p_Gen_GG_BSI_kappaTopBot_1_ghz1_1_MCFM*KFactor_QCD_ggZZ_Nominal*((Z1Flav*Z2Flav)==(121*121) ||(Z1Flav*Z2Flav)==(169*169) ||(Z1Flav*Z2Flav)==(121*169)  )*137.1*(ZZMass>=220)*(EventTag==0)*1000*xsec*overallEventWeight*L1prefiringWeight/Bin40\n",
      "----------------------\n",
      "up: 8592.59690988867\n",
      "dn: 8315.23389968637\n",
      "LHEweight_AsMZ_Up*p_Gen_GG_BSI_kappaTopBot_1_ghz1_1_MCFM*KFactor_QCD_ggZZ_Nominal*((Z1Flav*Z2Flav)==(121*121) ||(Z1Flav*Z2Flav)==(169*169) ||(Z1Flav*Z2Flav)==(121*169)  )*137.1*(ZZMass>=220)*(EventTag==0)*1000*xsec*overallEventWeight*L1prefiringWeight/Bin40\n",
      "LHEweight_AsMZ_Dn*p_Gen_GG_BSI_kappaTopBot_1_ghz1_1_MCFM*KFactor_QCD_ggZZ_Nominal*((Z1Flav*Z2Flav)==(121*121) ||(Z1Flav*Z2Flav)==(169*169) ||(Z1Flav*Z2Flav)==(121*169)  )*137.1*(ZZMass>=220)*(EventTag==0)*1000*xsec*overallEventWeight*L1prefiringWeight/Bin40\n",
      "----------------------\n",
      "up: 8529.381299410947\n",
      "dn: 8283.951341358945\n",
      "PythiaWeight_isr_muR4 * PythiaWeight_fsr_muR4*p_Gen_GG_BSI_kappaTopBot_1_ghz1_1_MCFM*KFactor_QCD_ggZZ_Nominal*((Z1Flav*Z2Flav)==(121*121) ||(Z1Flav*Z2Flav)==(169*169) ||(Z1Flav*Z2Flav)==(121*169)  )*137.1*(ZZMass>=220)*(EventTag==0)*1000*xsec*overallEventWeight*L1prefiringWeight/Bin40\n",
      "PythiaWeight_isr_muR0p25 * PythiaWeight_fsr_muR0p25*p_Gen_GG_BSI_kappaTopBot_1_ghz1_1_MCFM*KFactor_QCD_ggZZ_Nominal*((Z1Flav*Z2Flav)==(121*121) ||(Z1Flav*Z2Flav)==(169*169) ||(Z1Flav*Z2Flav)==(121*169)  )*137.1*(ZZMass>=220)*(EventTag==0)*1000*xsec*overallEventWeight*L1prefiringWeight/Bin40\n",
      "----------------------\n",
      "up: 8437.698578319687\n",
      "dn: 7297.424679257441\n",
      "om nomnomm: 8443.696617614129\n",
      "here 7362.3819338732865\n",
      "here 9774.624972593854\n",
      "here 8341.03109437204\n",
      "here 8557.865156415035\n",
      "here 8592.59690988867\n",
      "here 8315.23389968637\n",
      "here 8529.381299410947\n",
      "here 8283.951341358945\n",
      "here 8437.698578319687\n",
      "here 7297.424679257441\n"
     ]
    },
    {
     "data": {
      "application/vnd.jupyter.widget-view+json": {
       "model_id": "847fc3dce52f4a08b0c001a3bdea91db",
       "version_major": 2,
       "version_minor": 0
      },
      "text/plain": [
       "  0%|          | 0/1 [00:00<?, ?it/s]"
      ]
     },
     "metadata": {},
     "output_type": "display_data"
    },
    {
     "name": "stdout",
     "output_type": "stream",
     "text": [
      "/eos/user/s/skyriaco/Offshell/Syst/highmass/MC_18/200205_CutBased/MC_2018/HighMass/ggH210/ZZ4lAnalysis.root\n",
      "LHEweight_QCDscale_muR2_muF1*p_Gen_GG_BSI_kappaTopBot_1_ghz1_1_MCFM*KFactor_QCD_ggZZ_Nominal*((Z1Flav*Z2Flav)==(121*121) ||(Z1Flav*Z2Flav)==(169*169) ||(Z1Flav*Z2Flav)==(121*169)  )*137.1*(ZZMass>=220)*(EventTag==0)*1000*xsec*overallEventWeight*L1prefiringWeight/Bin40\n",
      "LHEweight_QCDscale_muR0p5_muF1*p_Gen_GG_BSI_kappaTopBot_1_ghz1_1_MCFM*KFactor_QCD_ggZZ_Nominal*((Z1Flav*Z2Flav)==(121*121) ||(Z1Flav*Z2Flav)==(169*169) ||(Z1Flav*Z2Flav)==(121*169)  )*137.1*(ZZMass>=220)*(EventTag==0)*1000*xsec*overallEventWeight*L1prefiringWeight/Bin40\n",
      "----------------------\n",
      "up: 373.2435982877505\n",
      "dn: 500.1013531499193\n",
      "LHEweight_QCDscale_muR1_muF2*p_Gen_GG_BSI_kappaTopBot_1_ghz1_1_MCFM*KFactor_QCD_ggZZ_Nominal*((Z1Flav*Z2Flav)==(121*121) ||(Z1Flav*Z2Flav)==(169*169) ||(Z1Flav*Z2Flav)==(121*169)  )*137.1*(ZZMass>=220)*(EventTag==0)*1000*xsec*overallEventWeight*L1prefiringWeight/Bin40\n",
      "LHEweight_QCDscale_muR1_muF0p5*p_Gen_GG_BSI_kappaTopBot_1_ghz1_1_MCFM*KFactor_QCD_ggZZ_Nominal*((Z1Flav*Z2Flav)==(121*121) ||(Z1Flav*Z2Flav)==(169*169) ||(Z1Flav*Z2Flav)==(121*169)  )*137.1*(ZZMass>=220)*(EventTag==0)*1000*xsec*overallEventWeight*L1prefiringWeight/Bin40\n",
      "----------------------\n",
      "up: 426.18176274729194\n",
      "dn: 433.7940199477598\n",
      "LHEweight_PDFVariation_Up*p_Gen_GG_BSI_kappaTopBot_1_ghz1_1_MCFM*KFactor_QCD_ggZZ_Nominal*((Z1Flav*Z2Flav)==(121*121) ||(Z1Flav*Z2Flav)==(169*169) ||(Z1Flav*Z2Flav)==(121*169)  )*137.1*(ZZMass>=220)*(EventTag==0)*1000*xsec*overallEventWeight*L1prefiringWeight/Bin40\n",
      "LHEweight_PDFVariation_Dn*p_Gen_GG_BSI_kappaTopBot_1_ghz1_1_MCFM*KFactor_QCD_ggZZ_Nominal*((Z1Flav*Z2Flav)==(121*121) ||(Z1Flav*Z2Flav)==(169*169) ||(Z1Flav*Z2Flav)==(121*169)  )*137.1*(ZZMass>=220)*(EventTag==0)*1000*xsec*overallEventWeight*L1prefiringWeight/Bin40\n",
      "----------------------\n",
      "up: 437.9829497807077\n",
      "dn: 422.5803495994769\n",
      "LHEweight_AsMZ_Up*p_Gen_GG_BSI_kappaTopBot_1_ghz1_1_MCFM*KFactor_QCD_ggZZ_Nominal*((Z1Flav*Z2Flav)==(121*121) ||(Z1Flav*Z2Flav)==(169*169) ||(Z1Flav*Z2Flav)==(121*169)  )*137.1*(ZZMass>=220)*(EventTag==0)*1000*xsec*overallEventWeight*L1prefiringWeight/Bin40\n",
      "LHEweight_AsMZ_Dn*p_Gen_GG_BSI_kappaTopBot_1_ghz1_1_MCFM*KFactor_QCD_ggZZ_Nominal*((Z1Flav*Z2Flav)==(121*121) ||(Z1Flav*Z2Flav)==(169*169) ||(Z1Flav*Z2Flav)==(121*169)  )*137.1*(ZZMass>=220)*(EventTag==0)*1000*xsec*overallEventWeight*L1prefiringWeight/Bin40\n",
      "----------------------\n",
      "up: 434.3573521110229\n",
      "dn: 421.560151687765\n",
      "PythiaWeight_isr_muR4 * PythiaWeight_fsr_muR4*p_Gen_GG_BSI_kappaTopBot_1_ghz1_1_MCFM*KFactor_QCD_ggZZ_Nominal*((Z1Flav*Z2Flav)==(121*121) ||(Z1Flav*Z2Flav)==(169*169) ||(Z1Flav*Z2Flav)==(121*169)  )*137.1*(ZZMass>=220)*(EventTag==0)*1000*xsec*overallEventWeight*L1prefiringWeight/Bin40\n",
      "PythiaWeight_isr_muR0p25 * PythiaWeight_fsr_muR0p25*p_Gen_GG_BSI_kappaTopBot_1_ghz1_1_MCFM*KFactor_QCD_ggZZ_Nominal*((Z1Flav*Z2Flav)==(121*121) ||(Z1Flav*Z2Flav)==(169*169) ||(Z1Flav*Z2Flav)==(121*169)  )*137.1*(ZZMass>=220)*(EventTag==0)*1000*xsec*overallEventWeight*L1prefiringWeight/Bin40\n",
      "----------------------\n",
      "up: 421.7294061220018\n",
      "dn: 433.1816043871804\n",
      "om nomnomm: 429.81548539717915\n",
      "here 373.2435982877505\n",
      "here 500.1013531499193\n",
      "here 426.18176274729194\n",
      "here 433.7940199477598\n",
      "here 437.9829497807077\n",
      "here 422.5803495994769\n",
      "here 434.3573521110229\n",
      "here 421.560151687765\n",
      "here 421.7294061220018\n",
      "here 433.1816043871804\n"
     ]
    },
    {
     "data": {
      "application/vnd.jupyter.widget-view+json": {
       "model_id": "5a10799801204b248254c552ab0ba273",
       "version_major": 2,
       "version_minor": 0
      },
      "text/plain": [
       "  0%|          | 0/1 [00:00<?, ?it/s]"
      ]
     },
     "metadata": {},
     "output_type": "display_data"
    },
    {
     "name": "stdout",
     "output_type": "stream",
     "text": [
      "/eos/user/s/skyriaco/Offshell/Syst/highmass/MC_18/200205_CutBased/MC_2018/HighMass/ggH230/ZZ4lAnalysis.root\n",
      "LHEweight_QCDscale_muR2_muF1*p_Gen_GG_BSI_kappaTopBot_1_ghz1_1_MCFM*KFactor_QCD_ggZZ_Nominal*((Z1Flav*Z2Flav)==(121*121) ||(Z1Flav*Z2Flav)==(169*169) ||(Z1Flav*Z2Flav)==(121*169)  )*137.1*(ZZMass>=220)*(EventTag==0)*1000*xsec*overallEventWeight*L1prefiringWeight/Bin40\n",
      "LHEweight_QCDscale_muR0p5_muF1*p_Gen_GG_BSI_kappaTopBot_1_ghz1_1_MCFM*KFactor_QCD_ggZZ_Nominal*((Z1Flav*Z2Flav)==(121*121) ||(Z1Flav*Z2Flav)==(169*169) ||(Z1Flav*Z2Flav)==(121*169)  )*137.1*(ZZMass>=220)*(EventTag==0)*1000*xsec*overallEventWeight*L1prefiringWeight/Bin40\n",
      "----------------------\n",
      "up: 381.7406254471862\n",
      "dn: 509.06774761440465\n",
      "LHEweight_QCDscale_muR1_muF2*p_Gen_GG_BSI_kappaTopBot_1_ghz1_1_MCFM*KFactor_QCD_ggZZ_Nominal*((Z1Flav*Z2Flav)==(121*121) ||(Z1Flav*Z2Flav)==(169*169) ||(Z1Flav*Z2Flav)==(121*169)  )*137.1*(ZZMass>=220)*(EventTag==0)*1000*xsec*overallEventWeight*L1prefiringWeight/Bin40\n",
      "LHEweight_QCDscale_muR1_muF0p5*p_Gen_GG_BSI_kappaTopBot_1_ghz1_1_MCFM*KFactor_QCD_ggZZ_Nominal*((Z1Flav*Z2Flav)==(121*121) ||(Z1Flav*Z2Flav)==(169*169) ||(Z1Flav*Z2Flav)==(121*169)  )*137.1*(ZZMass>=220)*(EventTag==0)*1000*xsec*overallEventWeight*L1prefiringWeight/Bin40\n",
      "----------------------\n",
      "up: 435.8467506649904\n",
      "dn: 441.8259784805123\n",
      "LHEweight_PDFVariation_Up*p_Gen_GG_BSI_kappaTopBot_1_ghz1_1_MCFM*KFactor_QCD_ggZZ_Nominal*((Z1Flav*Z2Flav)==(121*121) ||(Z1Flav*Z2Flav)==(169*169) ||(Z1Flav*Z2Flav)==(121*169)  )*137.1*(ZZMass>=220)*(EventTag==0)*1000*xsec*overallEventWeight*L1prefiringWeight/Bin40\n",
      "LHEweight_PDFVariation_Dn*p_Gen_GG_BSI_kappaTopBot_1_ghz1_1_MCFM*KFactor_QCD_ggZZ_Nominal*((Z1Flav*Z2Flav)==(121*121) ||(Z1Flav*Z2Flav)==(169*169) ||(Z1Flav*Z2Flav)==(121*169)  )*137.1*(ZZMass>=220)*(EventTag==0)*1000*xsec*overallEventWeight*L1prefiringWeight/Bin40\n",
      "----------------------\n",
      "up: 447.1083532401826\n",
      "dn: 431.22603763104416\n",
      "LHEweight_AsMZ_Up*p_Gen_GG_BSI_kappaTopBot_1_ghz1_1_MCFM*KFactor_QCD_ggZZ_Nominal*((Z1Flav*Z2Flav)==(121*121) ||(Z1Flav*Z2Flav)==(169*169) ||(Z1Flav*Z2Flav)==(121*169)  )*137.1*(ZZMass>=220)*(EventTag==0)*1000*xsec*overallEventWeight*L1prefiringWeight/Bin40\n",
      "LHEweight_AsMZ_Dn*p_Gen_GG_BSI_kappaTopBot_1_ghz1_1_MCFM*KFactor_QCD_ggZZ_Nominal*((Z1Flav*Z2Flav)==(121*121) ||(Z1Flav*Z2Flav)==(169*169) ||(Z1Flav*Z2Flav)==(121*169)  )*137.1*(ZZMass>=220)*(EventTag==0)*1000*xsec*overallEventWeight*L1prefiringWeight/Bin40\n",
      "----------------------\n",
      "up: 443.23161984822946\n",
      "dn: 430.3128466954804\n",
      "PythiaWeight_isr_muR4 * PythiaWeight_fsr_muR4*p_Gen_GG_BSI_kappaTopBot_1_ghz1_1_MCFM*KFactor_QCD_ggZZ_Nominal*((Z1Flav*Z2Flav)==(121*121) ||(Z1Flav*Z2Flav)==(169*169) ||(Z1Flav*Z2Flav)==(121*169)  )*137.1*(ZZMass>=220)*(EventTag==0)*1000*xsec*overallEventWeight*L1prefiringWeight/Bin40\n",
      "PythiaWeight_isr_muR0p25 * PythiaWeight_fsr_muR0p25*p_Gen_GG_BSI_kappaTopBot_1_ghz1_1_MCFM*KFactor_QCD_ggZZ_Nominal*((Z1Flav*Z2Flav)==(121*121) ||(Z1Flav*Z2Flav)==(169*169) ||(Z1Flav*Z2Flav)==(121*169)  )*137.1*(ZZMass>=220)*(EventTag==0)*1000*xsec*overallEventWeight*L1prefiringWeight/Bin40\n",
      "----------------------\n",
      "up: 445.0965728495503\n",
      "dn: 400.05053433184\n",
      "om nomnomm: 438.6688339073444\n",
      "here 381.7406254471862\n",
      "here 509.06774761440465\n",
      "here 435.8467506649904\n",
      "here 441.8259784805123\n",
      "here 447.1083532401826\n",
      "here 431.22603763104416\n",
      "here 443.23161984822946\n",
      "here 430.3128466954804\n",
      "here 445.0965728495503\n",
      "here 400.05053433184\n"
     ]
    },
    {
     "data": {
      "application/vnd.jupyter.widget-view+json": {
       "model_id": "3e364594e81042de880f538164f84895",
       "version_major": 2,
       "version_minor": 0
      },
      "text/plain": [
       "  0%|          | 0/1 [00:00<?, ?it/s]"
      ]
     },
     "metadata": {},
     "output_type": "display_data"
    },
    {
     "name": "stdout",
     "output_type": "stream",
     "text": [
      "/eos/user/s/skyriaco/Offshell/Syst/highmass/MC_18/200205_CutBased/MC_2018/HighMass/ggH250/ZZ4lAnalysis.root\n",
      "LHEweight_QCDscale_muR2_muF1*p_Gen_GG_BSI_kappaTopBot_1_ghz1_1_MCFM*KFactor_QCD_ggZZ_Nominal*((Z1Flav*Z2Flav)==(121*121) ||(Z1Flav*Z2Flav)==(169*169) ||(Z1Flav*Z2Flav)==(121*169)  )*137.1*(ZZMass>=220)*(EventTag==0)*1000*xsec*overallEventWeight*L1prefiringWeight/Bin40\n",
      "LHEweight_QCDscale_muR0p5_muF1*p_Gen_GG_BSI_kappaTopBot_1_ghz1_1_MCFM*KFactor_QCD_ggZZ_Nominal*((Z1Flav*Z2Flav)==(121*121) ||(Z1Flav*Z2Flav)==(169*169) ||(Z1Flav*Z2Flav)==(121*169)  )*137.1*(ZZMass>=220)*(EventTag==0)*1000*xsec*overallEventWeight*L1prefiringWeight/Bin40\n",
      "----------------------\n",
      "up: 350.04890764760785\n",
      "dn: 466.3921320842346\n",
      "LHEweight_QCDscale_muR1_muF2*p_Gen_GG_BSI_kappaTopBot_1_ghz1_1_MCFM*KFactor_QCD_ggZZ_Nominal*((Z1Flav*Z2Flav)==(121*121) ||(Z1Flav*Z2Flav)==(169*169) ||(Z1Flav*Z2Flav)==(121*169)  )*137.1*(ZZMass>=220)*(EventTag==0)*1000*xsec*overallEventWeight*L1prefiringWeight/Bin40\n",
      "LHEweight_QCDscale_muR1_muF0p5*p_Gen_GG_BSI_kappaTopBot_1_ghz1_1_MCFM*KFactor_QCD_ggZZ_Nominal*((Z1Flav*Z2Flav)==(121*121) ||(Z1Flav*Z2Flav)==(169*169) ||(Z1Flav*Z2Flav)==(121*169)  )*137.1*(ZZMass>=220)*(EventTag==0)*1000*xsec*overallEventWeight*L1prefiringWeight/Bin40\n",
      "----------------------\n",
      "up: 397.8247293025488\n",
      "dn: 406.9279129804345\n",
      "LHEweight_PDFVariation_Up*p_Gen_GG_BSI_kappaTopBot_1_ghz1_1_MCFM*KFactor_QCD_ggZZ_Nominal*((Z1Flav*Z2Flav)==(121*121) ||(Z1Flav*Z2Flav)==(169*169) ||(Z1Flav*Z2Flav)==(121*169)  )*137.1*(ZZMass>=220)*(EventTag==0)*1000*xsec*overallEventWeight*L1prefiringWeight/Bin40\n",
      "LHEweight_PDFVariation_Dn*p_Gen_GG_BSI_kappaTopBot_1_ghz1_1_MCFM*KFactor_QCD_ggZZ_Nominal*((Z1Flav*Z2Flav)==(121*121) ||(Z1Flav*Z2Flav)==(169*169) ||(Z1Flav*Z2Flav)==(121*169)  )*137.1*(ZZMass>=220)*(EventTag==0)*1000*xsec*overallEventWeight*L1prefiringWeight/Bin40\n",
      "----------------------\n",
      "up: 409.8883289131336\n",
      "dn: 395.2665619716281\n",
      "LHEweight_AsMZ_Up*p_Gen_GG_BSI_kappaTopBot_1_ghz1_1_MCFM*KFactor_QCD_ggZZ_Nominal*((Z1Flav*Z2Flav)==(121*121) ||(Z1Flav*Z2Flav)==(169*169) ||(Z1Flav*Z2Flav)==(121*169)  )*137.1*(ZZMass>=220)*(EventTag==0)*1000*xsec*overallEventWeight*L1prefiringWeight/Bin40\n",
      "LHEweight_AsMZ_Dn*p_Gen_GG_BSI_kappaTopBot_1_ghz1_1_MCFM*KFactor_QCD_ggZZ_Nominal*((Z1Flav*Z2Flav)==(121*121) ||(Z1Flav*Z2Flav)==(169*169) ||(Z1Flav*Z2Flav)==(121*169)  )*137.1*(ZZMass>=220)*(EventTag==0)*1000*xsec*overallEventWeight*L1prefiringWeight/Bin40\n",
      "----------------------\n",
      "up: 406.2700060084462\n",
      "dn: 394.4572143574478\n",
      "PythiaWeight_isr_muR4 * PythiaWeight_fsr_muR4*p_Gen_GG_BSI_kappaTopBot_1_ghz1_1_MCFM*KFactor_QCD_ggZZ_Nominal*((Z1Flav*Z2Flav)==(121*121) ||(Z1Flav*Z2Flav)==(169*169) ||(Z1Flav*Z2Flav)==(121*169)  )*137.1*(ZZMass>=220)*(EventTag==0)*1000*xsec*overallEventWeight*L1prefiringWeight/Bin40\n",
      "PythiaWeight_isr_muR0p25 * PythiaWeight_fsr_muR0p25*p_Gen_GG_BSI_kappaTopBot_1_ghz1_1_MCFM*KFactor_QCD_ggZZ_Nominal*((Z1Flav*Z2Flav)==(121*121) ||(Z1Flav*Z2Flav)==(169*169) ||(Z1Flav*Z2Flav)==(121*169)  )*137.1*(ZZMass>=220)*(EventTag==0)*1000*xsec*overallEventWeight*L1prefiringWeight/Bin40\n",
      "----------------------\n",
      "up: 404.4939765983727\n",
      "dn: 419.0748026877991\n",
      "om nomnomm: 402.1097412442323\n",
      "here 350.04890764760785\n",
      "here 466.3921320842346\n",
      "here 397.8247293025488\n",
      "here 406.9279129804345\n",
      "here 409.8883289131336\n",
      "here 395.2665619716281\n",
      "here 406.2700060084462\n",
      "here 394.4572143574478\n",
      "here 404.4939765983727\n",
      "here 419.0748026877991\n"
     ]
    },
    {
     "data": {
      "application/vnd.jupyter.widget-view+json": {
       "model_id": "0249c80f21ee4ab4aedab82320c677dc",
       "version_major": 2,
       "version_minor": 0
      },
      "text/plain": [
       "  0%|          | 0/1 [00:00<?, ?it/s]"
      ]
     },
     "metadata": {},
     "output_type": "display_data"
    },
    {
     "name": "stdout",
     "output_type": "stream",
     "text": [
      "/eos/user/s/skyriaco/Offshell/Syst/highmass/MC_18/200205_CutBased/MC_2018/HighMass/ggH2500/ZZ4lAnalysis.root\n",
      "LHEweight_QCDscale_muR2_muF1*p_Gen_GG_BSI_kappaTopBot_1_ghz1_1_MCFM*KFactor_QCD_ggZZ_Nominal*((Z1Flav*Z2Flav)==(121*121) ||(Z1Flav*Z2Flav)==(169*169) ||(Z1Flav*Z2Flav)==(121*169)  )*137.1*(ZZMass>=220)*(EventTag==0)*1000*xsec*overallEventWeight*L1prefiringWeight/Bin40\n",
      "LHEweight_QCDscale_muR0p5_muF1*p_Gen_GG_BSI_kappaTopBot_1_ghz1_1_MCFM*KFactor_QCD_ggZZ_Nominal*((Z1Flav*Z2Flav)==(121*121) ||(Z1Flav*Z2Flav)==(169*169) ||(Z1Flav*Z2Flav)==(121*169)  )*137.1*(ZZMass>=220)*(EventTag==0)*1000*xsec*overallEventWeight*L1prefiringWeight/Bin40\n",
      "----------------------\n",
      "up: 13803.492992843036\n",
      "dn: 18353.985750157386\n",
      "LHEweight_QCDscale_muR1_muF2*p_Gen_GG_BSI_kappaTopBot_1_ghz1_1_MCFM*KFactor_QCD_ggZZ_Nominal*((Z1Flav*Z2Flav)==(121*121) ||(Z1Flav*Z2Flav)==(169*169) ||(Z1Flav*Z2Flav)==(121*169)  )*137.1*(ZZMass>=220)*(EventTag==0)*1000*xsec*overallEventWeight*L1prefiringWeight/Bin40\n",
      "LHEweight_QCDscale_muR1_muF0p5*p_Gen_GG_BSI_kappaTopBot_1_ghz1_1_MCFM*KFactor_QCD_ggZZ_Nominal*((Z1Flav*Z2Flav)==(121*121) ||(Z1Flav*Z2Flav)==(169*169) ||(Z1Flav*Z2Flav)==(121*169)  )*137.1*(ZZMass>=220)*(EventTag==0)*1000*xsec*overallEventWeight*L1prefiringWeight/Bin40\n",
      "----------------------\n",
      "up: 15625.591412036214\n",
      "dn: 16081.463332922664\n",
      "LHEweight_PDFVariation_Up*p_Gen_GG_BSI_kappaTopBot_1_ghz1_1_MCFM*KFactor_QCD_ggZZ_Nominal*((Z1Flav*Z2Flav)==(121*121) ||(Z1Flav*Z2Flav)==(169*169) ||(Z1Flav*Z2Flav)==(121*169)  )*137.1*(ZZMass>=220)*(EventTag==0)*1000*xsec*overallEventWeight*L1prefiringWeight/Bin40\n",
      "LHEweight_PDFVariation_Dn*p_Gen_GG_BSI_kappaTopBot_1_ghz1_1_MCFM*KFactor_QCD_ggZZ_Nominal*((Z1Flav*Z2Flav)==(121*121) ||(Z1Flav*Z2Flav)==(169*169) ||(Z1Flav*Z2Flav)==(121*169)  )*137.1*(ZZMass>=220)*(EventTag==0)*1000*xsec*overallEventWeight*L1prefiringWeight/Bin40\n",
      "----------------------\n",
      "up: 16116.613318361342\n",
      "dn: 15596.137203026097\n",
      "LHEweight_AsMZ_Up*p_Gen_GG_BSI_kappaTopBot_1_ghz1_1_MCFM*KFactor_QCD_ggZZ_Nominal*((Z1Flav*Z2Flav)==(121*121) ||(Z1Flav*Z2Flav)==(169*169) ||(Z1Flav*Z2Flav)==(121*169)  )*137.1*(ZZMass>=220)*(EventTag==0)*1000*xsec*overallEventWeight*L1prefiringWeight/Bin40\n",
      "LHEweight_AsMZ_Dn*p_Gen_GG_BSI_kappaTopBot_1_ghz1_1_MCFM*KFactor_QCD_ggZZ_Nominal*((Z1Flav*Z2Flav)==(121*121) ||(Z1Flav*Z2Flav)==(169*169) ||(Z1Flav*Z2Flav)==(121*169)  )*137.1*(ZZMass>=220)*(EventTag==0)*1000*xsec*overallEventWeight*L1prefiringWeight/Bin40\n",
      "----------------------\n",
      "up: 16003.349660566077\n",
      "dn: 15544.50549727492\n",
      "PythiaWeight_isr_muR4 * PythiaWeight_fsr_muR4*p_Gen_GG_BSI_kappaTopBot_1_ghz1_1_MCFM*KFactor_QCD_ggZZ_Nominal*((Z1Flav*Z2Flav)==(121*121) ||(Z1Flav*Z2Flav)==(169*169) ||(Z1Flav*Z2Flav)==(121*169)  )*137.1*(ZZMass>=220)*(EventTag==0)*1000*xsec*overallEventWeight*L1prefiringWeight/Bin40\n",
      "PythiaWeight_isr_muR0p25 * PythiaWeight_fsr_muR0p25*p_Gen_GG_BSI_kappaTopBot_1_ghz1_1_MCFM*KFactor_QCD_ggZZ_Nominal*((Z1Flav*Z2Flav)==(121*121) ||(Z1Flav*Z2Flav)==(169*169) ||(Z1Flav*Z2Flav)==(121*169)  )*137.1*(ZZMass>=220)*(EventTag==0)*1000*xsec*overallEventWeight*L1prefiringWeight/Bin40\n",
      "----------------------\n",
      "up: 16513.09511666838\n",
      "dn: 12305.233142900746\n",
      "om nomnomm: 15841.44277319219\n",
      "here 13803.492992843036\n",
      "here 18353.985750157386\n",
      "here 15625.591412036214\n",
      "here 16081.463332922664\n",
      "here 16116.613318361342\n",
      "here 15596.137203026097\n",
      "here 16003.349660566077\n",
      "here 15544.50549727492\n",
      "here 16513.09511666838\n",
      "here 12305.233142900746\n"
     ]
    },
    {
     "data": {
      "application/vnd.jupyter.widget-view+json": {
       "model_id": "77561e17907f4577a8d9303a8cc5eabe",
       "version_major": 2,
       "version_minor": 0
      },
      "text/plain": [
       "  0%|          | 0/1 [00:00<?, ?it/s]"
      ]
     },
     "metadata": {},
     "output_type": "display_data"
    },
    {
     "name": "stdout",
     "output_type": "stream",
     "text": [
      "/eos/user/s/skyriaco/Offshell/Syst/highmass/MC_18/200205_CutBased/MC_2018/HighMass/ggH270/ZZ4lAnalysis.root\n",
      "LHEweight_QCDscale_muR2_muF1*p_Gen_GG_BSI_kappaTopBot_1_ghz1_1_MCFM*KFactor_QCD_ggZZ_Nominal*((Z1Flav*Z2Flav)==(121*121) ||(Z1Flav*Z2Flav)==(169*169) ||(Z1Flav*Z2Flav)==(121*169)  )*137.1*(ZZMass>=220)*(EventTag==0)*1000*xsec*overallEventWeight*L1prefiringWeight/Bin40\n",
      "LHEweight_QCDscale_muR0p5_muF1*p_Gen_GG_BSI_kappaTopBot_1_ghz1_1_MCFM*KFactor_QCD_ggZZ_Nominal*((Z1Flav*Z2Flav)==(121*121) ||(Z1Flav*Z2Flav)==(169*169) ||(Z1Flav*Z2Flav)==(121*169)  )*137.1*(ZZMass>=220)*(EventTag==0)*1000*xsec*overallEventWeight*L1prefiringWeight/Bin40\n",
      "----------------------\n",
      "up: 348.62623530463316\n",
      "dn: 466.01151590421796\n",
      "LHEweight_QCDscale_muR1_muF2*p_Gen_GG_BSI_kappaTopBot_1_ghz1_1_MCFM*KFactor_QCD_ggZZ_Nominal*((Z1Flav*Z2Flav)==(121*121) ||(Z1Flav*Z2Flav)==(169*169) ||(Z1Flav*Z2Flav)==(121*169)  )*137.1*(ZZMass>=220)*(EventTag==0)*1000*xsec*overallEventWeight*L1prefiringWeight/Bin40\n",
      "LHEweight_QCDscale_muR1_muF0p5*p_Gen_GG_BSI_kappaTopBot_1_ghz1_1_MCFM*KFactor_QCD_ggZZ_Nominal*((Z1Flav*Z2Flav)==(121*121) ||(Z1Flav*Z2Flav)==(169*169) ||(Z1Flav*Z2Flav)==(121*169)  )*137.1*(ZZMass>=220)*(EventTag==0)*1000*xsec*overallEventWeight*L1prefiringWeight/Bin40\n",
      "----------------------\n",
      "up: 397.36842277040705\n",
      "dn: 405.1306221629493\n",
      "LHEweight_PDFVariation_Up*p_Gen_GG_BSI_kappaTopBot_1_ghz1_1_MCFM*KFactor_QCD_ggZZ_Nominal*((Z1Flav*Z2Flav)==(121*121) ||(Z1Flav*Z2Flav)==(169*169) ||(Z1Flav*Z2Flav)==(121*169)  )*137.1*(ZZMass>=220)*(EventTag==0)*1000*xsec*overallEventWeight*L1prefiringWeight/Bin40\n",
      "LHEweight_PDFVariation_Dn*p_Gen_GG_BSI_kappaTopBot_1_ghz1_1_MCFM*KFactor_QCD_ggZZ_Nominal*((Z1Flav*Z2Flav)==(121*121) ||(Z1Flav*Z2Flav)==(169*169) ||(Z1Flav*Z2Flav)==(121*169)  )*137.1*(ZZMass>=220)*(EventTag==0)*1000*xsec*overallEventWeight*L1prefiringWeight/Bin40\n",
      "----------------------\n",
      "up: 408.71135693462566\n",
      "dn: 394.31387008703314\n",
      "LHEweight_AsMZ_Up*p_Gen_GG_BSI_kappaTopBot_1_ghz1_1_MCFM*KFactor_QCD_ggZZ_Nominal*((Z1Flav*Z2Flav)==(121*121) ||(Z1Flav*Z2Flav)==(169*169) ||(Z1Flav*Z2Flav)==(121*169)  )*137.1*(ZZMass>=220)*(EventTag==0)*1000*xsec*overallEventWeight*L1prefiringWeight/Bin40\n",
      "LHEweight_AsMZ_Dn*p_Gen_GG_BSI_kappaTopBot_1_ghz1_1_MCFM*KFactor_QCD_ggZZ_Nominal*((Z1Flav*Z2Flav)==(121*121) ||(Z1Flav*Z2Flav)==(169*169) ||(Z1Flav*Z2Flav)==(121*169)  )*137.1*(ZZMass>=220)*(EventTag==0)*1000*xsec*overallEventWeight*L1prefiringWeight/Bin40\n",
      "----------------------\n",
      "up: 405.28171347174793\n",
      "dn: 393.3606302674161\n",
      "PythiaWeight_isr_muR4 * PythiaWeight_fsr_muR4*p_Gen_GG_BSI_kappaTopBot_1_ghz1_1_MCFM*KFactor_QCD_ggZZ_Nominal*((Z1Flav*Z2Flav)==(121*121) ||(Z1Flav*Z2Flav)==(169*169) ||(Z1Flav*Z2Flav)==(121*169)  )*137.1*(ZZMass>=220)*(EventTag==0)*1000*xsec*overallEventWeight*L1prefiringWeight/Bin40\n",
      "PythiaWeight_isr_muR0p25 * PythiaWeight_fsr_muR0p25*p_Gen_GG_BSI_kappaTopBot_1_ghz1_1_MCFM*KFactor_QCD_ggZZ_Nominal*((Z1Flav*Z2Flav)==(121*121) ||(Z1Flav*Z2Flav)==(169*169) ||(Z1Flav*Z2Flav)==(121*169)  )*137.1*(ZZMass>=220)*(EventTag==0)*1000*xsec*overallEventWeight*L1prefiringWeight/Bin40\n",
      "----------------------\n",
      "up: 407.5961395675549\n",
      "dn: 369.99409467494115\n",
      "om nomnomm: 401.0536085863132\n",
      "here 348.62623530463316\n",
      "here 466.01151590421796\n",
      "here 397.36842277040705\n",
      "here 405.1306221629493\n",
      "here 408.71135693462566\n",
      "here 394.31387008703314\n",
      "here 405.28171347174793\n",
      "here 393.3606302674161\n",
      "here 407.5961395675549\n",
      "here 369.99409467494115\n"
     ]
    },
    {
     "data": {
      "application/vnd.jupyter.widget-view+json": {
       "model_id": "42f87dcf6a9f4f12a3e5fc075cbf1b1e",
       "version_major": 2,
       "version_minor": 0
      },
      "text/plain": [
       "  0%|          | 0/1 [00:00<?, ?it/s]"
      ]
     },
     "metadata": {},
     "output_type": "display_data"
    },
    {
     "name": "stdout",
     "output_type": "stream",
     "text": [
      "/eos/user/s/skyriaco/Offshell/Syst/highmass/MC_18/200205_CutBased/MC_2018/HighMass/ggH300/ZZ4lAnalysis.root\n",
      "LHEweight_QCDscale_muR2_muF1*p_Gen_GG_BSI_kappaTopBot_1_ghz1_1_MCFM*KFactor_QCD_ggZZ_Nominal*((Z1Flav*Z2Flav)==(121*121) ||(Z1Flav*Z2Flav)==(169*169) ||(Z1Flav*Z2Flav)==(121*169)  )*137.1*(ZZMass>=220)*(EventTag==0)*1000*xsec*overallEventWeight*L1prefiringWeight/Bin40\n",
      "LHEweight_QCDscale_muR0p5_muF1*p_Gen_GG_BSI_kappaTopBot_1_ghz1_1_MCFM*KFactor_QCD_ggZZ_Nominal*((Z1Flav*Z2Flav)==(121*121) ||(Z1Flav*Z2Flav)==(169*169) ||(Z1Flav*Z2Flav)==(121*169)  )*137.1*(ZZMass>=220)*(EventTag==0)*1000*xsec*overallEventWeight*L1prefiringWeight/Bin40\n",
      "----------------------\n",
      "up: 323.1396562657901\n",
      "dn: 430.7908319940616\n",
      "LHEweight_QCDscale_muR1_muF2*p_Gen_GG_BSI_kappaTopBot_1_ghz1_1_MCFM*KFactor_QCD_ggZZ_Nominal*((Z1Flav*Z2Flav)==(121*121) ||(Z1Flav*Z2Flav)==(169*169) ||(Z1Flav*Z2Flav)==(121*169)  )*137.1*(ZZMass>=220)*(EventTag==0)*1000*xsec*overallEventWeight*L1prefiringWeight/Bin40\n",
      "LHEweight_QCDscale_muR1_muF0p5*p_Gen_GG_BSI_kappaTopBot_1_ghz1_1_MCFM*KFactor_QCD_ggZZ_Nominal*((Z1Flav*Z2Flav)==(121*121) ||(Z1Flav*Z2Flav)==(169*169) ||(Z1Flav*Z2Flav)==(121*169)  )*137.1*(ZZMass>=220)*(EventTag==0)*1000*xsec*overallEventWeight*L1prefiringWeight/Bin40\n",
      "----------------------\n",
      "up: 368.7441582935862\n",
      "dn: 374.15082798700314\n",
      "LHEweight_PDFVariation_Up*p_Gen_GG_BSI_kappaTopBot_1_ghz1_1_MCFM*KFactor_QCD_ggZZ_Nominal*((Z1Flav*Z2Flav)==(121*121) ||(Z1Flav*Z2Flav)==(169*169) ||(Z1Flav*Z2Flav)==(121*169)  )*137.1*(ZZMass>=220)*(EventTag==0)*1000*xsec*overallEventWeight*L1prefiringWeight/Bin40\n",
      "LHEweight_PDFVariation_Dn*p_Gen_GG_BSI_kappaTopBot_1_ghz1_1_MCFM*KFactor_QCD_ggZZ_Nominal*((Z1Flav*Z2Flav)==(121*121) ||(Z1Flav*Z2Flav)==(169*169) ||(Z1Flav*Z2Flav)==(121*169)  )*137.1*(ZZMass>=220)*(EventTag==0)*1000*xsec*overallEventWeight*L1prefiringWeight/Bin40\n",
      "----------------------\n",
      "up: 378.2639435734018\n",
      "dn: 365.1993433650059\n",
      "LHEweight_AsMZ_Up*p_Gen_GG_BSI_kappaTopBot_1_ghz1_1_MCFM*KFactor_QCD_ggZZ_Nominal*((Z1Flav*Z2Flav)==(121*121) ||(Z1Flav*Z2Flav)==(169*169) ||(Z1Flav*Z2Flav)==(121*169)  )*137.1*(ZZMass>=220)*(EventTag==0)*1000*xsec*overallEventWeight*L1prefiringWeight/Bin40\n",
      "LHEweight_AsMZ_Dn*p_Gen_GG_BSI_kappaTopBot_1_ghz1_1_MCFM*KFactor_QCD_ggZZ_Nominal*((Z1Flav*Z2Flav)==(121*121) ||(Z1Flav*Z2Flav)==(169*169) ||(Z1Flav*Z2Flav)==(121*169)  )*137.1*(ZZMass>=220)*(EventTag==0)*1000*xsec*overallEventWeight*L1prefiringWeight/Bin40\n",
      "----------------------\n",
      "up: 375.1345371725911\n",
      "dn: 364.16716284208815\n",
      "PythiaWeight_isr_muR4 * PythiaWeight_fsr_muR4*p_Gen_GG_BSI_kappaTopBot_1_ghz1_1_MCFM*KFactor_QCD_ggZZ_Nominal*((Z1Flav*Z2Flav)==(121*121) ||(Z1Flav*Z2Flav)==(169*169) ||(Z1Flav*Z2Flav)==(121*169)  )*137.1*(ZZMass>=220)*(EventTag==0)*1000*xsec*overallEventWeight*L1prefiringWeight/Bin40\n",
      "PythiaWeight_isr_muR0p25 * PythiaWeight_fsr_muR0p25*p_Gen_GG_BSI_kappaTopBot_1_ghz1_1_MCFM*KFactor_QCD_ggZZ_Nominal*((Z1Flav*Z2Flav)==(121*121) ||(Z1Flav*Z2Flav)==(169*169) ||(Z1Flav*Z2Flav)==(121*169)  )*137.1*(ZZMass>=220)*(EventTag==0)*1000*xsec*overallEventWeight*L1prefiringWeight/Bin40\n",
      "----------------------\n",
      "up: 369.0982483711123\n",
      "dn: 446.7866563241041\n",
      "om nomnomm: 371.30173378181644\n",
      "here 323.1396562657901\n",
      "here 430.7908319940616\n",
      "here 368.7441582935862\n",
      "here 374.15082798700314\n",
      "here 378.2639435734018\n",
      "here 365.1993433650059\n",
      "here 375.1345371725911\n",
      "here 364.16716284208815\n",
      "here 369.0982483711123\n",
      "here 446.7866563241041\n"
     ]
    },
    {
     "data": {
      "application/vnd.jupyter.widget-view+json": {
       "model_id": "d33936d4cf114f35ae39d207fc002f05",
       "version_major": 2,
       "version_minor": 0
      },
      "text/plain": [
       "  0%|          | 0/1 [00:00<?, ?it/s]"
      ]
     },
     "metadata": {},
     "output_type": "display_data"
    },
    {
     "name": "stdout",
     "output_type": "stream",
     "text": [
      "/eos/user/s/skyriaco/Offshell/Syst/highmass/MC_18/200205_CutBased/MC_2018/HighMass/ggH3000/ZZ4lAnalysis.root\n",
      "LHEweight_QCDscale_muR2_muF1*p_Gen_GG_BSI_kappaTopBot_1_ghz1_1_MCFM*KFactor_QCD_ggZZ_Nominal*((Z1Flav*Z2Flav)==(121*121) ||(Z1Flav*Z2Flav)==(169*169) ||(Z1Flav*Z2Flav)==(121*169)  )*137.1*(ZZMass>=220)*(EventTag==0)*1000*xsec*overallEventWeight*L1prefiringWeight/Bin40\n",
      "LHEweight_QCDscale_muR0p5_muF1*p_Gen_GG_BSI_kappaTopBot_1_ghz1_1_MCFM*KFactor_QCD_ggZZ_Nominal*((Z1Flav*Z2Flav)==(121*121) ||(Z1Flav*Z2Flav)==(169*169) ||(Z1Flav*Z2Flav)==(121*169)  )*137.1*(ZZMass>=220)*(EventTag==0)*1000*xsec*overallEventWeight*L1prefiringWeight/Bin40\n",
      "----------------------\n",
      "up: 26644.591805223376\n",
      "dn: 35305.92643336579\n",
      "LHEweight_QCDscale_muR1_muF2*p_Gen_GG_BSI_kappaTopBot_1_ghz1_1_MCFM*KFactor_QCD_ggZZ_Nominal*((Z1Flav*Z2Flav)==(121*121) ||(Z1Flav*Z2Flav)==(169*169) ||(Z1Flav*Z2Flav)==(121*169)  )*137.1*(ZZMass>=220)*(EventTag==0)*1000*xsec*overallEventWeight*L1prefiringWeight/Bin40\n",
      "LHEweight_QCDscale_muR1_muF0p5*p_Gen_GG_BSI_kappaTopBot_1_ghz1_1_MCFM*KFactor_QCD_ggZZ_Nominal*((Z1Flav*Z2Flav)==(121*121) ||(Z1Flav*Z2Flav)==(169*169) ||(Z1Flav*Z2Flav)==(121*169)  )*137.1*(ZZMass>=220)*(EventTag==0)*1000*xsec*overallEventWeight*L1prefiringWeight/Bin40\n",
      "----------------------\n",
      "up: 30145.814102936536\n",
      "dn: 30968.453084085137\n",
      "LHEweight_PDFVariation_Up*p_Gen_GG_BSI_kappaTopBot_1_ghz1_1_MCFM*KFactor_QCD_ggZZ_Nominal*((Z1Flav*Z2Flav)==(121*121) ||(Z1Flav*Z2Flav)==(169*169) ||(Z1Flav*Z2Flav)==(121*169)  )*137.1*(ZZMass>=220)*(EventTag==0)*1000*xsec*overallEventWeight*L1prefiringWeight/Bin40\n",
      "LHEweight_PDFVariation_Dn*p_Gen_GG_BSI_kappaTopBot_1_ghz1_1_MCFM*KFactor_QCD_ggZZ_Nominal*((Z1Flav*Z2Flav)==(121*121) ||(Z1Flav*Z2Flav)==(169*169) ||(Z1Flav*Z2Flav)==(121*169)  )*137.1*(ZZMass>=220)*(EventTag==0)*1000*xsec*overallEventWeight*L1prefiringWeight/Bin40\n",
      "----------------------\n",
      "up: 31056.577718809247\n",
      "dn: 30075.52223538235\n",
      "LHEweight_AsMZ_Up*p_Gen_GG_BSI_kappaTopBot_1_ghz1_1_MCFM*KFactor_QCD_ggZZ_Nominal*((Z1Flav*Z2Flav)==(121*121) ||(Z1Flav*Z2Flav)==(169*169) ||(Z1Flav*Z2Flav)==(121*169)  )*137.1*(ZZMass>=220)*(EventTag==0)*1000*xsec*overallEventWeight*L1prefiringWeight/Bin40\n",
      "LHEweight_AsMZ_Dn*p_Gen_GG_BSI_kappaTopBot_1_ghz1_1_MCFM*KFactor_QCD_ggZZ_Nominal*((Z1Flav*Z2Flav)==(121*121) ||(Z1Flav*Z2Flav)==(169*169) ||(Z1Flav*Z2Flav)==(121*169)  )*137.1*(ZZMass>=220)*(EventTag==0)*1000*xsec*overallEventWeight*L1prefiringWeight/Bin40\n",
      "----------------------\n",
      "up: 30845.347709685564\n",
      "dn: 29953.697838373482\n",
      "PythiaWeight_isr_muR4 * PythiaWeight_fsr_muR4*p_Gen_GG_BSI_kappaTopBot_1_ghz1_1_MCFM*KFactor_QCD_ggZZ_Nominal*((Z1Flav*Z2Flav)==(121*121) ||(Z1Flav*Z2Flav)==(169*169) ||(Z1Flav*Z2Flav)==(121*169)  )*137.1*(ZZMass>=220)*(EventTag==0)*1000*xsec*overallEventWeight*L1prefiringWeight/Bin40\n",
      "PythiaWeight_isr_muR0p25 * PythiaWeight_fsr_muR0p25*p_Gen_GG_BSI_kappaTopBot_1_ghz1_1_MCFM*KFactor_QCD_ggZZ_Nominal*((Z1Flav*Z2Flav)==(121*121) ||(Z1Flav*Z2Flav)==(169*169) ||(Z1Flav*Z2Flav)==(121*169)  )*137.1*(ZZMass>=220)*(EventTag==0)*1000*xsec*overallEventWeight*L1prefiringWeight/Bin40\n",
      "----------------------\n",
      "up: 34480.66730068624\n",
      "dn: 18746.821801558137\n",
      "om nomnomm: 30534.283907007426\n",
      "here 26644.591805223376\n",
      "here 35305.92643336579\n",
      "here 30145.814102936536\n",
      "here 30968.453084085137\n",
      "here 31056.577718809247\n",
      "here 30075.52223538235\n",
      "here 30845.347709685564\n",
      "here 29953.697838373482\n",
      "here 34480.66730068624\n",
      "here 18746.821801558137\n"
     ]
    },
    {
     "data": {
      "application/vnd.jupyter.widget-view+json": {
       "model_id": "4146fb1d637f4c1390e6601decd42435",
       "version_major": 2,
       "version_minor": 0
      },
      "text/plain": [
       "  0%|          | 0/1 [00:00<?, ?it/s]"
      ]
     },
     "metadata": {},
     "output_type": "display_data"
    },
    {
     "name": "stdout",
     "output_type": "stream",
     "text": [
      "/eos/user/s/skyriaco/Offshell/Syst/highmass/MC_18/200205_CutBased/MC_2018/HighMass/ggH300_minloHJJ/ZZ4lAnalysis.root\n",
      "LHEweight_QCDscale_muR2_muF1*p_Gen_GG_BSI_kappaTopBot_1_ghz1_1_MCFM*KFactor_QCD_ggZZ_Nominal*((Z1Flav*Z2Flav)==(121*121) ||(Z1Flav*Z2Flav)==(169*169) ||(Z1Flav*Z2Flav)==(121*169)  )*137.1*(ZZMass>=220)*(EventTag==0)*1000*xsec*overallEventWeight*L1prefiringWeight/Bin40\n",
      "LHEweight_QCDscale_muR0p5_muF1*p_Gen_GG_BSI_kappaTopBot_1_ghz1_1_MCFM*KFactor_QCD_ggZZ_Nominal*((Z1Flav*Z2Flav)==(121*121) ||(Z1Flav*Z2Flav)==(169*169) ||(Z1Flav*Z2Flav)==(121*169)  )*137.1*(ZZMass>=220)*(EventTag==0)*1000*xsec*overallEventWeight*L1prefiringWeight/Bin40\n",
      "----------------------\n",
      "up: 488.99703147456603\n",
      "dn: 796.0574733396279\n",
      "LHEweight_QCDscale_muR1_muF2*p_Gen_GG_BSI_kappaTopBot_1_ghz1_1_MCFM*KFactor_QCD_ggZZ_Nominal*((Z1Flav*Z2Flav)==(121*121) ||(Z1Flav*Z2Flav)==(169*169) ||(Z1Flav*Z2Flav)==(121*169)  )*137.1*(ZZMass>=220)*(EventTag==0)*1000*xsec*overallEventWeight*L1prefiringWeight/Bin40\n",
      "LHEweight_QCDscale_muR1_muF0p5*p_Gen_GG_BSI_kappaTopBot_1_ghz1_1_MCFM*KFactor_QCD_ggZZ_Nominal*((Z1Flav*Z2Flav)==(121*121) ||(Z1Flav*Z2Flav)==(169*169) ||(Z1Flav*Z2Flav)==(121*169)  )*137.1*(ZZMass>=220)*(EventTag==0)*1000*xsec*overallEventWeight*L1prefiringWeight/Bin40\n",
      "----------------------\n",
      "up: 636.7294254047301\n",
      "dn: 618.4140571325115\n",
      "LHEweight_PDFVariation_Up*p_Gen_GG_BSI_kappaTopBot_1_ghz1_1_MCFM*KFactor_QCD_ggZZ_Nominal*((Z1Flav*Z2Flav)==(121*121) ||(Z1Flav*Z2Flav)==(169*169) ||(Z1Flav*Z2Flav)==(121*169)  )*137.1*(ZZMass>=220)*(EventTag==0)*1000*xsec*overallEventWeight*L1prefiringWeight/Bin40\n",
      "LHEweight_PDFVariation_Dn*p_Gen_GG_BSI_kappaTopBot_1_ghz1_1_MCFM*KFactor_QCD_ggZZ_Nominal*((Z1Flav*Z2Flav)==(121*121) ||(Z1Flav*Z2Flav)==(169*169) ||(Z1Flav*Z2Flav)==(121*169)  )*137.1*(ZZMass>=220)*(EventTag==0)*1000*xsec*overallEventWeight*L1prefiringWeight/Bin40\n",
      "----------------------\n",
      "up: 653.2172217484767\n",
      "dn: 612.7034174869696\n",
      "LHEweight_AsMZ_Up*p_Gen_GG_BSI_kappaTopBot_1_ghz1_1_MCFM*KFactor_QCD_ggZZ_Nominal*((Z1Flav*Z2Flav)==(121*121) ||(Z1Flav*Z2Flav)==(169*169) ||(Z1Flav*Z2Flav)==(121*169)  )*137.1*(ZZMass>=220)*(EventTag==0)*1000*xsec*overallEventWeight*L1prefiringWeight/Bin40\n",
      "LHEweight_AsMZ_Dn*p_Gen_GG_BSI_kappaTopBot_1_ghz1_1_MCFM*KFactor_QCD_ggZZ_Nominal*((Z1Flav*Z2Flav)==(121*121) ||(Z1Flav*Z2Flav)==(169*169) ||(Z1Flav*Z2Flav)==(121*169)  )*137.1*(ZZMass>=220)*(EventTag==0)*1000*xsec*overallEventWeight*L1prefiringWeight/Bin40\n",
      "----------------------\n",
      "up: 640.3196873273264\n",
      "dn: 618.5577279771387\n",
      "PythiaWeight_isr_muR4 * PythiaWeight_fsr_muR4*p_Gen_GG_BSI_kappaTopBot_1_ghz1_1_MCFM*KFactor_QCD_ggZZ_Nominal*((Z1Flav*Z2Flav)==(121*121) ||(Z1Flav*Z2Flav)==(169*169) ||(Z1Flav*Z2Flav)==(121*169)  )*137.1*(ZZMass>=220)*(EventTag==0)*1000*xsec*overallEventWeight*L1prefiringWeight/Bin40\n",
      "PythiaWeight_isr_muR0p25 * PythiaWeight_fsr_muR0p25*p_Gen_GG_BSI_kappaTopBot_1_ghz1_1_MCFM*KFactor_QCD_ggZZ_Nominal*((Z1Flav*Z2Flav)==(121*121) ||(Z1Flav*Z2Flav)==(169*169) ||(Z1Flav*Z2Flav)==(121*169)  )*137.1*(ZZMass>=220)*(EventTag==0)*1000*xsec*overallEventWeight*L1prefiringWeight/Bin40\n",
      "----------------------\n",
      "up: 637.6785942787828\n",
      "dn: 591.6073949248798\n",
      "om nomnomm: 632.4740907599189\n",
      "here 488.99703147456603\n",
      "here 796.0574733396279\n",
      "here 636.7294254047301\n",
      "here 618.4140571325115\n",
      "here 653.2172217484767\n",
      "here 612.7034174869696\n",
      "here 640.3196873273264\n",
      "here 618.5577279771387\n",
      "here 637.6785942787828\n",
      "here 591.6073949248798\n"
     ]
    },
    {
     "data": {
      "application/vnd.jupyter.widget-view+json": {
       "model_id": "02ce75ab0e6344eab40d0696aead5c3c",
       "version_major": 2,
       "version_minor": 0
      },
      "text/plain": [
       "  0%|          | 0/1 [00:00<?, ?it/s]"
      ]
     },
     "metadata": {},
     "output_type": "display_data"
    },
    {
     "name": "stdout",
     "output_type": "stream",
     "text": [
      "/eos/user/s/skyriaco/Offshell/Syst/highmass/MC_18/200205_CutBased/MC_2018/HighMass/ggH300_tunedown_minloHJJ/ZZ4lAnalysis.root\n",
      "LHEweight_QCDscale_muR2_muF1*p_Gen_GG_BSI_kappaTopBot_1_ghz1_1_MCFM*KFactor_QCD_ggZZ_Nominal*((Z1Flav*Z2Flav)==(121*121) ||(Z1Flav*Z2Flav)==(169*169) ||(Z1Flav*Z2Flav)==(121*169)  )*137.1*(ZZMass>=220)*(EventTag==0)*1000*xsec*overallEventWeight*L1prefiringWeight/Bin40\n",
      "LHEweight_QCDscale_muR0p5_muF1*p_Gen_GG_BSI_kappaTopBot_1_ghz1_1_MCFM*KFactor_QCD_ggZZ_Nominal*((Z1Flav*Z2Flav)==(121*121) ||(Z1Flav*Z2Flav)==(169*169) ||(Z1Flav*Z2Flav)==(121*169)  )*137.1*(ZZMass>=220)*(EventTag==0)*1000*xsec*overallEventWeight*L1prefiringWeight/Bin40\n",
      "----------------------\n",
      "up: 519.1158442497253\n",
      "dn: 825.0873138904572\n",
      "LHEweight_QCDscale_muR1_muF2*p_Gen_GG_BSI_kappaTopBot_1_ghz1_1_MCFM*KFactor_QCD_ggZZ_Nominal*((Z1Flav*Z2Flav)==(121*121) ||(Z1Flav*Z2Flav)==(169*169) ||(Z1Flav*Z2Flav)==(121*169)  )*137.1*(ZZMass>=220)*(EventTag==0)*1000*xsec*overallEventWeight*L1prefiringWeight/Bin40\n",
      "LHEweight_QCDscale_muR1_muF0p5*p_Gen_GG_BSI_kappaTopBot_1_ghz1_1_MCFM*KFactor_QCD_ggZZ_Nominal*((Z1Flav*Z2Flav)==(121*121) ||(Z1Flav*Z2Flav)==(169*169) ||(Z1Flav*Z2Flav)==(121*169)  )*137.1*(ZZMass>=220)*(EventTag==0)*1000*xsec*overallEventWeight*L1prefiringWeight/Bin40\n",
      "----------------------\n",
      "up: 674.462978720665\n",
      "dn: 645.9221873283386\n",
      "LHEweight_PDFVariation_Up*p_Gen_GG_BSI_kappaTopBot_1_ghz1_1_MCFM*KFactor_QCD_ggZZ_Nominal*((Z1Flav*Z2Flav)==(121*121) ||(Z1Flav*Z2Flav)==(169*169) ||(Z1Flav*Z2Flav)==(121*169)  )*137.1*(ZZMass>=220)*(EventTag==0)*1000*xsec*overallEventWeight*L1prefiringWeight/Bin40\n",
      "LHEweight_PDFVariation_Dn*p_Gen_GG_BSI_kappaTopBot_1_ghz1_1_MCFM*KFactor_QCD_ggZZ_Nominal*((Z1Flav*Z2Flav)==(121*121) ||(Z1Flav*Z2Flav)==(169*169) ||(Z1Flav*Z2Flav)==(121*169)  )*137.1*(ZZMass>=220)*(EventTag==0)*1000*xsec*overallEventWeight*L1prefiringWeight/Bin40\n",
      "----------------------\n",
      "up: 689.9772808551788\n",
      "dn: 644.047577381134\n",
      "LHEweight_AsMZ_Up*p_Gen_GG_BSI_kappaTopBot_1_ghz1_1_MCFM*KFactor_QCD_ggZZ_Nominal*((Z1Flav*Z2Flav)==(121*121) ||(Z1Flav*Z2Flav)==(169*169) ||(Z1Flav*Z2Flav)==(121*169)  )*137.1*(ZZMass>=220)*(EventTag==0)*1000*xsec*overallEventWeight*L1prefiringWeight/Bin40\n",
      "LHEweight_AsMZ_Dn*p_Gen_GG_BSI_kappaTopBot_1_ghz1_1_MCFM*KFactor_QCD_ggZZ_Nominal*((Z1Flav*Z2Flav)==(121*121) ||(Z1Flav*Z2Flav)==(169*169) ||(Z1Flav*Z2Flav)==(121*169)  )*137.1*(ZZMass>=220)*(EventTag==0)*1000*xsec*overallEventWeight*L1prefiringWeight/Bin40\n",
      "----------------------\n",
      "up: 674.3776780366898\n",
      "dn: 652.9821975231171\n",
      "PythiaWeight_isr_muR4 * PythiaWeight_fsr_muR4*p_Gen_GG_BSI_kappaTopBot_1_ghz1_1_MCFM*KFactor_QCD_ggZZ_Nominal*((Z1Flav*Z2Flav)==(121*121) ||(Z1Flav*Z2Flav)==(169*169) ||(Z1Flav*Z2Flav)==(121*169)  )*137.1*(ZZMass>=220)*(EventTag==0)*1000*xsec*overallEventWeight*L1prefiringWeight/Bin40\n",
      "PythiaWeight_isr_muR0p25 * PythiaWeight_fsr_muR0p25*p_Gen_GG_BSI_kappaTopBot_1_ghz1_1_MCFM*KFactor_QCD_ggZZ_Nominal*((Z1Flav*Z2Flav)==(121*121) ||(Z1Flav*Z2Flav)==(169*169) ||(Z1Flav*Z2Flav)==(121*169)  )*137.1*(ZZMass>=220)*(EventTag==0)*1000*xsec*overallEventWeight*L1prefiringWeight/Bin40\n",
      "----------------------\n",
      "up: 663.4038007259369\n",
      "dn: 679.6467760205269\n",
      "om nomnomm: 666.4855281114578\n",
      "here 519.1158442497253\n",
      "here 825.0873138904572\n",
      "here 674.462978720665\n",
      "here 645.9221873283386\n",
      "here 689.9772808551788\n",
      "here 644.047577381134\n",
      "here 674.3776780366898\n",
      "here 652.9821975231171\n",
      "here 663.4038007259369\n",
      "here 679.6467760205269\n"
     ]
    },
    {
     "data": {
      "application/vnd.jupyter.widget-view+json": {
       "model_id": "f3da5d3273a44b84a60e222821ecbaf8",
       "version_major": 2,
       "version_minor": 0
      },
      "text/plain": [
       "  0%|          | 0/1 [00:00<?, ?it/s]"
      ]
     },
     "metadata": {},
     "output_type": "display_data"
    },
    {
     "name": "stdout",
     "output_type": "stream",
     "text": [
      "/eos/user/s/skyriaco/Offshell/Syst/highmass/MC_18/200205_CutBased/MC_2018/HighMass/ggH300_tuneup_minloHJJ/ZZ4lAnalysis.root\n",
      "LHEweight_QCDscale_muR2_muF1*p_Gen_GG_BSI_kappaTopBot_1_ghz1_1_MCFM*KFactor_QCD_ggZZ_Nominal*((Z1Flav*Z2Flav)==(121*121) ||(Z1Flav*Z2Flav)==(169*169) ||(Z1Flav*Z2Flav)==(121*169)  )*137.1*(ZZMass>=220)*(EventTag==0)*1000*xsec*overallEventWeight*L1prefiringWeight/Bin40\n",
      "LHEweight_QCDscale_muR0p5_muF1*p_Gen_GG_BSI_kappaTopBot_1_ghz1_1_MCFM*KFactor_QCD_ggZZ_Nominal*((Z1Flav*Z2Flav)==(121*121) ||(Z1Flav*Z2Flav)==(169*169) ||(Z1Flav*Z2Flav)==(121*169)  )*137.1*(ZZMass>=220)*(EventTag==0)*1000*xsec*overallEventWeight*L1prefiringWeight/Bin40\n",
      "----------------------\n",
      "up: 473.15380358695984\n",
      "dn: 777.2978149652481\n",
      "LHEweight_QCDscale_muR1_muF2*p_Gen_GG_BSI_kappaTopBot_1_ghz1_1_MCFM*KFactor_QCD_ggZZ_Nominal*((Z1Flav*Z2Flav)==(121*121) ||(Z1Flav*Z2Flav)==(169*169) ||(Z1Flav*Z2Flav)==(121*169)  )*137.1*(ZZMass>=220)*(EventTag==0)*1000*xsec*overallEventWeight*L1prefiringWeight/Bin40\n",
      "LHEweight_QCDscale_muR1_muF0p5*p_Gen_GG_BSI_kappaTopBot_1_ghz1_1_MCFM*KFactor_QCD_ggZZ_Nominal*((Z1Flav*Z2Flav)==(121*121) ||(Z1Flav*Z2Flav)==(169*169) ||(Z1Flav*Z2Flav)==(121*169)  )*137.1*(ZZMass>=220)*(EventTag==0)*1000*xsec*overallEventWeight*L1prefiringWeight/Bin40\n",
      "----------------------\n",
      "up: 617.8041861057281\n",
      "dn: 598.449122428894\n",
      "LHEweight_PDFVariation_Up*p_Gen_GG_BSI_kappaTopBot_1_ghz1_1_MCFM*KFactor_QCD_ggZZ_Nominal*((Z1Flav*Z2Flav)==(121*121) ||(Z1Flav*Z2Flav)==(169*169) ||(Z1Flav*Z2Flav)==(121*169)  )*137.1*(ZZMass>=220)*(EventTag==0)*1000*xsec*overallEventWeight*L1prefiringWeight/Bin40\n",
      "LHEweight_PDFVariation_Dn*p_Gen_GG_BSI_kappaTopBot_1_ghz1_1_MCFM*KFactor_QCD_ggZZ_Nominal*((Z1Flav*Z2Flav)==(121*121) ||(Z1Flav*Z2Flav)==(169*169) ||(Z1Flav*Z2Flav)==(121*169)  )*137.1*(ZZMass>=220)*(EventTag==0)*1000*xsec*overallEventWeight*L1prefiringWeight/Bin40\n",
      "----------------------\n",
      "up: 634.6441305875778\n",
      "dn: 593.2962402105331\n",
      "LHEweight_AsMZ_Up*p_Gen_GG_BSI_kappaTopBot_1_ghz1_1_MCFM*KFactor_QCD_ggZZ_Nominal*((Z1Flav*Z2Flav)==(121*121) ||(Z1Flav*Z2Flav)==(169*169) ||(Z1Flav*Z2Flav)==(121*169)  )*137.1*(ZZMass>=220)*(EventTag==0)*1000*xsec*overallEventWeight*L1prefiringWeight/Bin40\n",
      "LHEweight_AsMZ_Dn*p_Gen_GG_BSI_kappaTopBot_1_ghz1_1_MCFM*KFactor_QCD_ggZZ_Nominal*((Z1Flav*Z2Flav)==(121*121) ||(Z1Flav*Z2Flav)==(169*169) ||(Z1Flav*Z2Flav)==(121*169)  )*137.1*(ZZMass>=220)*(EventTag==0)*1000*xsec*overallEventWeight*L1prefiringWeight/Bin40\n",
      "----------------------\n",
      "up: 621.1523789167404\n",
      "dn: 600.1880127191544\n",
      "PythiaWeight_isr_muR4 * PythiaWeight_fsr_muR4*p_Gen_GG_BSI_kappaTopBot_1_ghz1_1_MCFM*KFactor_QCD_ggZZ_Nominal*((Z1Flav*Z2Flav)==(121*121) ||(Z1Flav*Z2Flav)==(169*169) ||(Z1Flav*Z2Flav)==(121*169)  )*137.1*(ZZMass>=220)*(EventTag==0)*1000*xsec*overallEventWeight*L1prefiringWeight/Bin40\n",
      "PythiaWeight_isr_muR0p25 * PythiaWeight_fsr_muR0p25*p_Gen_GG_BSI_kappaTopBot_1_ghz1_1_MCFM*KFactor_QCD_ggZZ_Nominal*((Z1Flav*Z2Flav)==(121*121) ||(Z1Flav*Z2Flav)==(169*169) ||(Z1Flav*Z2Flav)==(121*169)  )*137.1*(ZZMass>=220)*(EventTag==0)*1000*xsec*overallEventWeight*L1prefiringWeight/Bin40\n",
      "----------------------\n",
      "up: 622.4919389486313\n",
      "dn: 581.7012811899185\n",
      "om nomnomm: 613.3630788326263\n",
      "here 473.15380358695984\n",
      "here 777.2978149652481\n",
      "here 617.8041861057281\n",
      "here 598.449122428894\n",
      "here 634.6441305875778\n",
      "here 593.2962402105331\n",
      "here 621.1523789167404\n",
      "here 600.1880127191544\n",
      "here 622.4919389486313\n",
      "here 581.7012811899185\n"
     ]
    },
    {
     "data": {
      "application/vnd.jupyter.widget-view+json": {
       "model_id": "c66f7faa239c43cd9406d3544d0f9b46",
       "version_major": 2,
       "version_minor": 0
      },
      "text/plain": [
       "  0%|          | 0/1 [00:00<?, ?it/s]"
      ]
     },
     "metadata": {},
     "output_type": "display_data"
    },
    {
     "name": "stdout",
     "output_type": "stream",
     "text": [
      "/eos/user/s/skyriaco/Offshell/Syst/highmass/MC_18/200205_CutBased/MC_2018/HighMass/ggH350/ZZ4lAnalysis.root\n",
      "LHEweight_QCDscale_muR2_muF1*p_Gen_GG_BSI_kappaTopBot_1_ghz1_1_MCFM*KFactor_QCD_ggZZ_Nominal*((Z1Flav*Z2Flav)==(121*121) ||(Z1Flav*Z2Flav)==(169*169) ||(Z1Flav*Z2Flav)==(121*169)  )*137.1*(ZZMass>=220)*(EventTag==0)*1000*xsec*overallEventWeight*L1prefiringWeight/Bin40\n",
      "LHEweight_QCDscale_muR0p5_muF1*p_Gen_GG_BSI_kappaTopBot_1_ghz1_1_MCFM*KFactor_QCD_ggZZ_Nominal*((Z1Flav*Z2Flav)==(121*121) ||(Z1Flav*Z2Flav)==(169*169) ||(Z1Flav*Z2Flav)==(121*169)  )*137.1*(ZZMass>=220)*(EventTag==0)*1000*xsec*overallEventWeight*L1prefiringWeight/Bin40\n",
      "----------------------\n",
      "up: 227.59744829754345\n",
      "dn: 301.99390863912413\n",
      "LHEweight_QCDscale_muR1_muF2*p_Gen_GG_BSI_kappaTopBot_1_ghz1_1_MCFM*KFactor_QCD_ggZZ_Nominal*((Z1Flav*Z2Flav)==(121*121) ||(Z1Flav*Z2Flav)==(169*169) ||(Z1Flav*Z2Flav)==(121*169)  )*137.1*(ZZMass>=220)*(EventTag==0)*1000*xsec*overallEventWeight*L1prefiringWeight/Bin40\n",
      "LHEweight_QCDscale_muR1_muF0p5*p_Gen_GG_BSI_kappaTopBot_1_ghz1_1_MCFM*KFactor_QCD_ggZZ_Nominal*((Z1Flav*Z2Flav)==(121*121) ||(Z1Flav*Z2Flav)==(169*169) ||(Z1Flav*Z2Flav)==(121*169)  )*137.1*(ZZMass>=220)*(EventTag==0)*1000*xsec*overallEventWeight*L1prefiringWeight/Bin40\n",
      "----------------------\n",
      "up: 258.535229838104\n",
      "dn: 263.7028314769268\n",
      "LHEweight_PDFVariation_Up*p_Gen_GG_BSI_kappaTopBot_1_ghz1_1_MCFM*KFactor_QCD_ggZZ_Nominal*((Z1Flav*Z2Flav)==(121*121) ||(Z1Flav*Z2Flav)==(169*169) ||(Z1Flav*Z2Flav)==(121*169)  )*137.1*(ZZMass>=220)*(EventTag==0)*1000*xsec*overallEventWeight*L1prefiringWeight/Bin40\n",
      "LHEweight_PDFVariation_Dn*p_Gen_GG_BSI_kappaTopBot_1_ghz1_1_MCFM*KFactor_QCD_ggZZ_Nominal*((Z1Flav*Z2Flav)==(121*121) ||(Z1Flav*Z2Flav)==(169*169) ||(Z1Flav*Z2Flav)==(121*169)  )*137.1*(ZZMass>=220)*(EventTag==0)*1000*xsec*overallEventWeight*L1prefiringWeight/Bin40\n",
      "----------------------\n",
      "up: 265.990239570383\n",
      "dn: 256.57858273619786\n",
      "LHEweight_AsMZ_Up*p_Gen_GG_BSI_kappaTopBot_1_ghz1_1_MCFM*KFactor_QCD_ggZZ_Nominal*((Z1Flav*Z2Flav)==(121*121) ||(Z1Flav*Z2Flav)==(169*169) ||(Z1Flav*Z2Flav)==(121*169)  )*137.1*(ZZMass>=220)*(EventTag==0)*1000*xsec*overallEventWeight*L1prefiringWeight/Bin40\n",
      "LHEweight_AsMZ_Dn*p_Gen_GG_BSI_kappaTopBot_1_ghz1_1_MCFM*KFactor_QCD_ggZZ_Nominal*((Z1Flav*Z2Flav)==(121*121) ||(Z1Flav*Z2Flav)==(169*169) ||(Z1Flav*Z2Flav)==(121*169)  )*137.1*(ZZMass>=220)*(EventTag==0)*1000*xsec*overallEventWeight*L1prefiringWeight/Bin40\n",
      "----------------------\n",
      "up: 263.74184899794636\n",
      "dn: 255.98289448500145\n",
      "PythiaWeight_isr_muR4 * PythiaWeight_fsr_muR4*p_Gen_GG_BSI_kappaTopBot_1_ghz1_1_MCFM*KFactor_QCD_ggZZ_Nominal*((Z1Flav*Z2Flav)==(121*121) ||(Z1Flav*Z2Flav)==(169*169) ||(Z1Flav*Z2Flav)==(121*169)  )*137.1*(ZZMass>=220)*(EventTag==0)*1000*xsec*overallEventWeight*L1prefiringWeight/Bin40\n",
      "PythiaWeight_isr_muR0p25 * PythiaWeight_fsr_muR0p25*p_Gen_GG_BSI_kappaTopBot_1_ghz1_1_MCFM*KFactor_QCD_ggZZ_Nominal*((Z1Flav*Z2Flav)==(121*121) ||(Z1Flav*Z2Flav)==(169*169) ||(Z1Flav*Z2Flav)==(121*169)  )*137.1*(ZZMass>=220)*(EventTag==0)*1000*xsec*overallEventWeight*L1prefiringWeight/Bin40\n",
      "----------------------\n",
      "up: 260.3866777669755\n",
      "dn: 214.20232736994512\n",
      "om nomnomm: 260.98195064259926\n",
      "here 227.59744829754345\n",
      "here 301.99390863912413\n",
      "here 258.535229838104\n",
      "here 263.7028314769268\n",
      "here 265.990239570383\n",
      "here 256.57858273619786\n",
      "here 263.74184899794636\n",
      "here 255.98289448500145\n",
      "here 260.3866777669755\n",
      "here 214.20232736994512\n"
     ]
    },
    {
     "data": {
      "application/vnd.jupyter.widget-view+json": {
       "model_id": "3fd47ef1f2464968ab50e2723a00bf0e",
       "version_major": 2,
       "version_minor": 0
      },
      "text/plain": [
       "  0%|          | 0/1 [00:00<?, ?it/s]"
      ]
     },
     "metadata": {},
     "output_type": "display_data"
    },
    {
     "name": "stdout",
     "output_type": "stream",
     "text": [
      "/eos/user/s/skyriaco/Offshell/Syst/highmass/MC_18/200205_CutBased/MC_2018/HighMass/ggH400/ZZ4lAnalysis.root\n",
      "LHEweight_QCDscale_muR2_muF1*p_Gen_GG_BSI_kappaTopBot_1_ghz1_1_MCFM*KFactor_QCD_ggZZ_Nominal*((Z1Flav*Z2Flav)==(121*121) ||(Z1Flav*Z2Flav)==(169*169) ||(Z1Flav*Z2Flav)==(121*169)  )*137.1*(ZZMass>=220)*(EventTag==0)*1000*xsec*overallEventWeight*L1prefiringWeight/Bin40\n",
      "LHEweight_QCDscale_muR0p5_muF1*p_Gen_GG_BSI_kappaTopBot_1_ghz1_1_MCFM*KFactor_QCD_ggZZ_Nominal*((Z1Flav*Z2Flav)==(121*121) ||(Z1Flav*Z2Flav)==(169*169) ||(Z1Flav*Z2Flav)==(121*169)  )*137.1*(ZZMass>=220)*(EventTag==0)*1000*xsec*overallEventWeight*L1prefiringWeight/Bin40\n",
      "----------------------\n",
      "up: 166.121866398782\n",
      "dn: 217.1860140458448\n",
      "LHEweight_QCDscale_muR1_muF2*p_Gen_GG_BSI_kappaTopBot_1_ghz1_1_MCFM*KFactor_QCD_ggZZ_Nominal*((Z1Flav*Z2Flav)==(121*121) ||(Z1Flav*Z2Flav)==(169*169) ||(Z1Flav*Z2Flav)==(121*169)  )*137.1*(ZZMass>=220)*(EventTag==0)*1000*xsec*overallEventWeight*L1prefiringWeight/Bin40\n",
      "LHEweight_QCDscale_muR1_muF0p5*p_Gen_GG_BSI_kappaTopBot_1_ghz1_1_MCFM*KFactor_QCD_ggZZ_Nominal*((Z1Flav*Z2Flav)==(121*121) ||(Z1Flav*Z2Flav)==(169*169) ||(Z1Flav*Z2Flav)==(121*169)  )*137.1*(ZZMass>=220)*(EventTag==0)*1000*xsec*overallEventWeight*L1prefiringWeight/Bin40\n",
      "----------------------\n",
      "up: 186.979514524166\n",
      "dn: 191.98007542651612\n",
      "LHEweight_PDFVariation_Up*p_Gen_GG_BSI_kappaTopBot_1_ghz1_1_MCFM*KFactor_QCD_ggZZ_Nominal*((Z1Flav*Z2Flav)==(121*121) ||(Z1Flav*Z2Flav)==(169*169) ||(Z1Flav*Z2Flav)==(121*169)  )*137.1*(ZZMass>=220)*(EventTag==0)*1000*xsec*overallEventWeight*L1prefiringWeight/Bin40\n",
      "LHEweight_PDFVariation_Dn*p_Gen_GG_BSI_kappaTopBot_1_ghz1_1_MCFM*KFactor_QCD_ggZZ_Nominal*((Z1Flav*Z2Flav)==(121*121) ||(Z1Flav*Z2Flav)==(169*169) ||(Z1Flav*Z2Flav)==(121*169)  )*137.1*(ZZMass>=220)*(EventTag==0)*1000*xsec*overallEventWeight*L1prefiringWeight/Bin40\n",
      "----------------------\n",
      "up: 192.77240751247155\n",
      "dn: 186.2459345893585\n",
      "LHEweight_AsMZ_Up*p_Gen_GG_BSI_kappaTopBot_1_ghz1_1_MCFM*KFactor_QCD_ggZZ_Nominal*((Z1Flav*Z2Flav)==(121*121) ||(Z1Flav*Z2Flav)==(169*169) ||(Z1Flav*Z2Flav)==(121*169)  )*137.1*(ZZMass>=220)*(EventTag==0)*1000*xsec*overallEventWeight*L1prefiringWeight/Bin40\n",
      "LHEweight_AsMZ_Dn*p_Gen_GG_BSI_kappaTopBot_1_ghz1_1_MCFM*KFactor_QCD_ggZZ_Nominal*((Z1Flav*Z2Flav)==(121*121) ||(Z1Flav*Z2Flav)==(169*169) ||(Z1Flav*Z2Flav)==(121*169)  )*137.1*(ZZMass>=220)*(EventTag==0)*1000*xsec*overallEventWeight*L1prefiringWeight/Bin40\n",
      "----------------------\n",
      "up: 191.1012984365516\n",
      "dn: 185.73789313004818\n",
      "PythiaWeight_isr_muR4 * PythiaWeight_fsr_muR4*p_Gen_GG_BSI_kappaTopBot_1_ghz1_1_MCFM*KFactor_QCD_ggZZ_Nominal*((Z1Flav*Z2Flav)==(121*121) ||(Z1Flav*Z2Flav)==(169*169) ||(Z1Flav*Z2Flav)==(121*169)  )*137.1*(ZZMass>=220)*(EventTag==0)*1000*xsec*overallEventWeight*L1prefiringWeight/Bin40\n",
      "PythiaWeight_isr_muR0p25 * PythiaWeight_fsr_muR0p25*p_Gen_GG_BSI_kappaTopBot_1_ghz1_1_MCFM*KFactor_QCD_ggZZ_Nominal*((Z1Flav*Z2Flav)==(121*121) ||(Z1Flav*Z2Flav)==(169*169) ||(Z1Flav*Z2Flav)==(121*169)  )*137.1*(ZZMass>=220)*(EventTag==0)*1000*xsec*overallEventWeight*L1prefiringWeight/Bin40\n",
      "----------------------\n",
      "up: 197.118065563016\n",
      "dn: 138.95693185531127\n",
      "om nomnomm: 189.26523131679278\n",
      "here 166.121866398782\n",
      "here 217.1860140458448\n",
      "here 186.979514524166\n",
      "here 191.98007542651612\n",
      "here 192.77240751247155\n",
      "here 186.2459345893585\n",
      "here 191.1012984365516\n",
      "here 185.73789313004818\n",
      "here 197.118065563016\n",
      "here 138.95693185531127\n"
     ]
    },
    {
     "data": {
      "application/vnd.jupyter.widget-view+json": {
       "model_id": "854ed91d7b0b437aa42f3601236dc543",
       "version_major": 2,
       "version_minor": 0
      },
      "text/plain": [
       "  0%|          | 0/1 [00:00<?, ?it/s]"
      ]
     },
     "metadata": {},
     "output_type": "display_data"
    },
    {
     "name": "stdout",
     "output_type": "stream",
     "text": [
      "/eos/user/s/skyriaco/Offshell/Syst/highmass/MC_18/200205_CutBased/MC_2018/HighMass/ggH450/ZZ4lAnalysis.root\n",
      "LHEweight_QCDscale_muR2_muF1*p_Gen_GG_BSI_kappaTopBot_1_ghz1_1_MCFM*KFactor_QCD_ggZZ_Nominal*((Z1Flav*Z2Flav)==(121*121) ||(Z1Flav*Z2Flav)==(169*169) ||(Z1Flav*Z2Flav)==(121*169)  )*137.1*(ZZMass>=220)*(EventTag==0)*1000*xsec*overallEventWeight*L1prefiringWeight/Bin40\n",
      "LHEweight_QCDscale_muR0p5_muF1*p_Gen_GG_BSI_kappaTopBot_1_ghz1_1_MCFM*KFactor_QCD_ggZZ_Nominal*((Z1Flav*Z2Flav)==(121*121) ||(Z1Flav*Z2Flav)==(169*169) ||(Z1Flav*Z2Flav)==(121*169)  )*137.1*(ZZMass>=220)*(EventTag==0)*1000*xsec*overallEventWeight*L1prefiringWeight/Bin40\n",
      "----------------------\n",
      "up: 146.54069352406077\n",
      "dn: 194.39819815999363\n",
      "LHEweight_QCDscale_muR1_muF2*p_Gen_GG_BSI_kappaTopBot_1_ghz1_1_MCFM*KFactor_QCD_ggZZ_Nominal*((Z1Flav*Z2Flav)==(121*121) ||(Z1Flav*Z2Flav)==(169*169) ||(Z1Flav*Z2Flav)==(121*169)  )*137.1*(ZZMass>=220)*(EventTag==0)*1000*xsec*overallEventWeight*L1prefiringWeight/Bin40\n",
      "LHEweight_QCDscale_muR1_muF0p5*p_Gen_GG_BSI_kappaTopBot_1_ghz1_1_MCFM*KFactor_QCD_ggZZ_Nominal*((Z1Flav*Z2Flav)==(121*121) ||(Z1Flav*Z2Flav)==(169*169) ||(Z1Flav*Z2Flav)==(121*169)  )*137.1*(ZZMass>=220)*(EventTag==0)*1000*xsec*overallEventWeight*L1prefiringWeight/Bin40\n",
      "----------------------\n",
      "up: 166.62863872008165\n",
      "dn: 169.4961826209328\n",
      "LHEweight_PDFVariation_Up*p_Gen_GG_BSI_kappaTopBot_1_ghz1_1_MCFM*KFactor_QCD_ggZZ_Nominal*((Z1Flav*Z2Flav)==(121*121) ||(Z1Flav*Z2Flav)==(169*169) ||(Z1Flav*Z2Flav)==(121*169)  )*137.1*(ZZMass>=220)*(EventTag==0)*1000*xsec*overallEventWeight*L1prefiringWeight/Bin40\n",
      "LHEweight_PDFVariation_Dn*p_Gen_GG_BSI_kappaTopBot_1_ghz1_1_MCFM*KFactor_QCD_ggZZ_Nominal*((Z1Flav*Z2Flav)==(121*121) ||(Z1Flav*Z2Flav)==(169*169) ||(Z1Flav*Z2Flav)==(121*169)  )*137.1*(ZZMass>=220)*(EventTag==0)*1000*xsec*overallEventWeight*L1prefiringWeight/Bin40\n",
      "----------------------\n",
      "up: 171.06547331402544\n",
      "dn: 165.30573462543543\n",
      "LHEweight_AsMZ_Up*p_Gen_GG_BSI_kappaTopBot_1_ghz1_1_MCFM*KFactor_QCD_ggZZ_Nominal*((Z1Flav*Z2Flav)==(121*121) ||(Z1Flav*Z2Flav)==(169*169) ||(Z1Flav*Z2Flav)==(121*169)  )*137.1*(ZZMass>=220)*(EventTag==0)*1000*xsec*overallEventWeight*L1prefiringWeight/Bin40\n",
      "LHEweight_AsMZ_Dn*p_Gen_GG_BSI_kappaTopBot_1_ghz1_1_MCFM*KFactor_QCD_ggZZ_Nominal*((Z1Flav*Z2Flav)==(121*121) ||(Z1Flav*Z2Flav)==(169*169) ||(Z1Flav*Z2Flav)==(121*169)  )*137.1*(ZZMass>=220)*(EventTag==0)*1000*xsec*overallEventWeight*L1prefiringWeight/Bin40\n",
      "----------------------\n",
      "up: 169.77555859962013\n",
      "dn: 164.8080102392123\n",
      "PythiaWeight_isr_muR4 * PythiaWeight_fsr_muR4*p_Gen_GG_BSI_kappaTopBot_1_ghz1_1_MCFM*KFactor_QCD_ggZZ_Nominal*((Z1Flav*Z2Flav)==(121*121) ||(Z1Flav*Z2Flav)==(169*169) ||(Z1Flav*Z2Flav)==(121*169)  )*137.1*(ZZMass>=220)*(EventTag==0)*1000*xsec*overallEventWeight*L1prefiringWeight/Bin40\n",
      "PythiaWeight_isr_muR0p25 * PythiaWeight_fsr_muR0p25*p_Gen_GG_BSI_kappaTopBot_1_ghz1_1_MCFM*KFactor_QCD_ggZZ_Nominal*((Z1Flav*Z2Flav)==(121*121) ||(Z1Flav*Z2Flav)==(169*169) ||(Z1Flav*Z2Flav)==(121*169)  )*137.1*(ZZMass>=220)*(EventTag==0)*1000*xsec*overallEventWeight*L1prefiringWeight/Bin40\n",
      "----------------------\n",
      "up: 171.57421093271114\n",
      "dn: 132.67841336189304\n",
      "om nomnomm: 168.00397332163993\n",
      "here 146.54069352406077\n",
      "here 194.39819815999363\n",
      "here 166.62863872008165\n",
      "here 169.4961826209328\n",
      "here 171.06547331402544\n",
      "here 165.30573462543543\n",
      "here 169.77555859962013\n",
      "here 164.8080102392123\n",
      "here 171.57421093271114\n",
      "here 132.67841336189304\n"
     ]
    },
    {
     "data": {
      "application/vnd.jupyter.widget-view+json": {
       "model_id": "7702017f66cf4878adf1776ced09d924",
       "version_major": 2,
       "version_minor": 0
      },
      "text/plain": [
       "  0%|          | 0/1 [00:00<?, ?it/s]"
      ]
     },
     "metadata": {},
     "output_type": "display_data"
    },
    {
     "name": "stdout",
     "output_type": "stream",
     "text": [
      "/eos/user/s/skyriaco/Offshell/Syst/highmass/MC_18/200205_CutBased/MC_2018/HighMass/ggH500/ZZ4lAnalysis.root\n",
      "LHEweight_QCDscale_muR2_muF1*p_Gen_GG_BSI_kappaTopBot_1_ghz1_1_MCFM*KFactor_QCD_ggZZ_Nominal*((Z1Flav*Z2Flav)==(121*121) ||(Z1Flav*Z2Flav)==(169*169) ||(Z1Flav*Z2Flav)==(121*169)  )*137.1*(ZZMass>=220)*(EventTag==0)*1000*xsec*overallEventWeight*L1prefiringWeight/Bin40\n",
      "LHEweight_QCDscale_muR0p5_muF1*p_Gen_GG_BSI_kappaTopBot_1_ghz1_1_MCFM*KFactor_QCD_ggZZ_Nominal*((Z1Flav*Z2Flav)==(121*121) ||(Z1Flav*Z2Flav)==(169*169) ||(Z1Flav*Z2Flav)==(121*169)  )*137.1*(ZZMass>=220)*(EventTag==0)*1000*xsec*overallEventWeight*L1prefiringWeight/Bin40\n",
      "----------------------\n",
      "up: 248.3488336513983\n",
      "dn: 335.01975522437715\n",
      "LHEweight_QCDscale_muR1_muF2*p_Gen_GG_BSI_kappaTopBot_1_ghz1_1_MCFM*KFactor_QCD_ggZZ_Nominal*((Z1Flav*Z2Flav)==(121*121) ||(Z1Flav*Z2Flav)==(169*169) ||(Z1Flav*Z2Flav)==(121*169)  )*137.1*(ZZMass>=220)*(EventTag==0)*1000*xsec*overallEventWeight*L1prefiringWeight/Bin40\n",
      "LHEweight_QCDscale_muR1_muF0p5*p_Gen_GG_BSI_kappaTopBot_1_ghz1_1_MCFM*KFactor_QCD_ggZZ_Nominal*((Z1Flav*Z2Flav)==(121*121) ||(Z1Flav*Z2Flav)==(169*169) ||(Z1Flav*Z2Flav)==(121*169)  )*137.1*(ZZMass>=220)*(EventTag==0)*1000*xsec*overallEventWeight*L1prefiringWeight/Bin40\n",
      "----------------------\n",
      "up: 285.1529434787444\n",
      "dn: 288.43234130740166\n",
      "LHEweight_PDFVariation_Up*p_Gen_GG_BSI_kappaTopBot_1_ghz1_1_MCFM*KFactor_QCD_ggZZ_Nominal*((Z1Flav*Z2Flav)==(121*121) ||(Z1Flav*Z2Flav)==(169*169) ||(Z1Flav*Z2Flav)==(121*169)  )*137.1*(ZZMass>=220)*(EventTag==0)*1000*xsec*overallEventWeight*L1prefiringWeight/Bin40\n",
      "LHEweight_PDFVariation_Dn*p_Gen_GG_BSI_kappaTopBot_1_ghz1_1_MCFM*KFactor_QCD_ggZZ_Nominal*((Z1Flav*Z2Flav)==(121*121) ||(Z1Flav*Z2Flav)==(169*169) ||(Z1Flav*Z2Flav)==(121*169)  )*137.1*(ZZMass>=220)*(EventTag==0)*1000*xsec*overallEventWeight*L1prefiringWeight/Bin40\n",
      "----------------------\n",
      "up: 292.19606496728375\n",
      "dn: 282.12147793961776\n",
      "LHEweight_AsMZ_Up*p_Gen_GG_BSI_kappaTopBot_1_ghz1_1_MCFM*KFactor_QCD_ggZZ_Nominal*((Z1Flav*Z2Flav)==(121*121) ||(Z1Flav*Z2Flav)==(169*169) ||(Z1Flav*Z2Flav)==(121*169)  )*137.1*(ZZMass>=220)*(EventTag==0)*1000*xsec*overallEventWeight*L1prefiringWeight/Bin40\n",
      "LHEweight_AsMZ_Dn*p_Gen_GG_BSI_kappaTopBot_1_ghz1_1_MCFM*KFactor_QCD_ggZZ_Nominal*((Z1Flav*Z2Flav)==(121*121) ||(Z1Flav*Z2Flav)==(169*169) ||(Z1Flav*Z2Flav)==(121*169)  )*137.1*(ZZMass>=220)*(EventTag==0)*1000*xsec*overallEventWeight*L1prefiringWeight/Bin40\n",
      "----------------------\n",
      "up: 290.0827644781166\n",
      "dn: 281.0295081602526\n",
      "PythiaWeight_isr_muR4 * PythiaWeight_fsr_muR4*p_Gen_GG_BSI_kappaTopBot_1_ghz1_1_MCFM*KFactor_QCD_ggZZ_Nominal*((Z1Flav*Z2Flav)==(121*121) ||(Z1Flav*Z2Flav)==(169*169) ||(Z1Flav*Z2Flav)==(121*169)  )*137.1*(ZZMass>=220)*(EventTag==0)*1000*xsec*overallEventWeight*L1prefiringWeight/Bin40\n",
      "PythiaWeight_isr_muR0p25 * PythiaWeight_fsr_muR0p25*p_Gen_GG_BSI_kappaTopBot_1_ghz1_1_MCFM*KFactor_QCD_ggZZ_Nominal*((Z1Flav*Z2Flav)==(121*121) ||(Z1Flav*Z2Flav)==(169*169) ||(Z1Flav*Z2Flav)==(121*169)  )*137.1*(ZZMass>=220)*(EventTag==0)*1000*xsec*overallEventWeight*L1prefiringWeight/Bin40\n",
      "----------------------\n",
      "up: 304.3840673658997\n",
      "dn: 188.58225032343034\n",
      "om nomnomm: 286.8482251334135\n",
      "here 248.3488336513983\n",
      "here 335.01975522437715\n",
      "here 285.1529434787444\n",
      "here 288.43234130740166\n",
      "here 292.19606496728375\n",
      "here 282.12147793961776\n",
      "here 290.0827644781166\n",
      "here 281.0295081602526\n",
      "here 304.3840673658997\n",
      "here 188.58225032343034\n"
     ]
    },
    {
     "data": {
      "application/vnd.jupyter.widget-view+json": {
       "model_id": "3e94ed24fce7455c887bfefe1cffc2a4",
       "version_major": 2,
       "version_minor": 0
      },
      "text/plain": [
       "  0%|          | 0/1 [00:00<?, ?it/s]"
      ]
     },
     "metadata": {},
     "output_type": "display_data"
    },
    {
     "name": "stdout",
     "output_type": "stream",
     "text": [
      "/eos/user/s/skyriaco/Offshell/Syst/highmass/MC_18/200205_CutBased/MC_2018/HighMass/ggH550/ZZ4lAnalysis.root\n",
      "LHEweight_QCDscale_muR2_muF1*p_Gen_GG_BSI_kappaTopBot_1_ghz1_1_MCFM*KFactor_QCD_ggZZ_Nominal*((Z1Flav*Z2Flav)==(121*121) ||(Z1Flav*Z2Flav)==(169*169) ||(Z1Flav*Z2Flav)==(121*169)  )*137.1*(ZZMass>=220)*(EventTag==0)*1000*xsec*overallEventWeight*L1prefiringWeight/Bin40\n",
      "LHEweight_QCDscale_muR0p5_muF1*p_Gen_GG_BSI_kappaTopBot_1_ghz1_1_MCFM*KFactor_QCD_ggZZ_Nominal*((Z1Flav*Z2Flav)==(121*121) ||(Z1Flav*Z2Flav)==(169*169) ||(Z1Flav*Z2Flav)==(121*169)  )*137.1*(ZZMass>=220)*(EventTag==0)*1000*xsec*overallEventWeight*L1prefiringWeight/Bin40\n",
      "----------------------\n",
      "up: 236.853734993143\n",
      "dn: 318.8084221286699\n",
      "LHEweight_QCDscale_muR1_muF2*p_Gen_GG_BSI_kappaTopBot_1_ghz1_1_MCFM*KFactor_QCD_ggZZ_Nominal*((Z1Flav*Z2Flav)==(121*121) ||(Z1Flav*Z2Flav)==(169*169) ||(Z1Flav*Z2Flav)==(121*169)  )*137.1*(ZZMass>=220)*(EventTag==0)*1000*xsec*overallEventWeight*L1prefiringWeight/Bin40\n",
      "LHEweight_QCDscale_muR1_muF0p5*p_Gen_GG_BSI_kappaTopBot_1_ghz1_1_MCFM*KFactor_QCD_ggZZ_Nominal*((Z1Flav*Z2Flav)==(121*121) ||(Z1Flav*Z2Flav)==(169*169) ||(Z1Flav*Z2Flav)==(121*169)  )*137.1*(ZZMass>=220)*(EventTag==0)*1000*xsec*overallEventWeight*L1prefiringWeight/Bin40\n",
      "----------------------\n",
      "up: 269.3451358929742\n",
      "dn: 277.76376317534596\n",
      "LHEweight_PDFVariation_Up*p_Gen_GG_BSI_kappaTopBot_1_ghz1_1_MCFM*KFactor_QCD_ggZZ_Nominal*((Z1Flav*Z2Flav)==(121*121) ||(Z1Flav*Z2Flav)==(169*169) ||(Z1Flav*Z2Flav)==(121*169)  )*137.1*(ZZMass>=220)*(EventTag==0)*1000*xsec*overallEventWeight*L1prefiringWeight/Bin40\n",
      "LHEweight_PDFVariation_Dn*p_Gen_GG_BSI_kappaTopBot_1_ghz1_1_MCFM*KFactor_QCD_ggZZ_Nominal*((Z1Flav*Z2Flav)==(121*121) ||(Z1Flav*Z2Flav)==(169*169) ||(Z1Flav*Z2Flav)==(121*169)  )*137.1*(ZZMass>=220)*(EventTag==0)*1000*xsec*overallEventWeight*L1prefiringWeight/Bin40\n",
      "----------------------\n",
      "up: 278.6496855239384\n",
      "dn: 268.60616958653554\n",
      "LHEweight_AsMZ_Up*p_Gen_GG_BSI_kappaTopBot_1_ghz1_1_MCFM*KFactor_QCD_ggZZ_Nominal*((Z1Flav*Z2Flav)==(121*121) ||(Z1Flav*Z2Flav)==(169*169) ||(Z1Flav*Z2Flav)==(121*169)  )*137.1*(ZZMass>=220)*(EventTag==0)*1000*xsec*overallEventWeight*L1prefiringWeight/Bin40\n",
      "LHEweight_AsMZ_Dn*p_Gen_GG_BSI_kappaTopBot_1_ghz1_1_MCFM*KFactor_QCD_ggZZ_Nominal*((Z1Flav*Z2Flav)==(121*121) ||(Z1Flav*Z2Flav)==(169*169) ||(Z1Flav*Z2Flav)==(121*169)  )*137.1*(ZZMass>=220)*(EventTag==0)*1000*xsec*overallEventWeight*L1prefiringWeight/Bin40\n",
      "----------------------\n",
      "up: 276.48421612009406\n",
      "dn: 267.73811121238396\n",
      "PythiaWeight_isr_muR4 * PythiaWeight_fsr_muR4*p_Gen_GG_BSI_kappaTopBot_1_ghz1_1_MCFM*KFactor_QCD_ggZZ_Nominal*((Z1Flav*Z2Flav)==(121*121) ||(Z1Flav*Z2Flav)==(169*169) ||(Z1Flav*Z2Flav)==(121*169)  )*137.1*(ZZMass>=220)*(EventTag==0)*1000*xsec*overallEventWeight*L1prefiringWeight/Bin40\n",
      "PythiaWeight_isr_muR0p25 * PythiaWeight_fsr_muR0p25*p_Gen_GG_BSI_kappaTopBot_1_ghz1_1_MCFM*KFactor_QCD_ggZZ_Nominal*((Z1Flav*Z2Flav)==(121*121) ||(Z1Flav*Z2Flav)==(169*169) ||(Z1Flav*Z2Flav)==(121*169)  )*137.1*(ZZMass>=220)*(EventTag==0)*1000*xsec*overallEventWeight*L1prefiringWeight/Bin40\n",
      "----------------------\n",
      "up: 296.24562836415134\n",
      "dn: 164.614471114357\n",
      "om nomnomm: 273.28994333115406\n",
      "here 236.853734993143\n",
      "here 318.8084221286699\n",
      "here 269.3451358929742\n",
      "here 277.76376317534596\n",
      "here 278.6496855239384\n",
      "here 268.60616958653554\n",
      "here 276.48421612009406\n",
      "here 267.73811121238396\n",
      "here 296.24562836415134\n",
      "here 164.614471114357\n"
     ]
    },
    {
     "data": {
      "application/vnd.jupyter.widget-view+json": {
       "model_id": "7e3f019786194cb9a2bf10f7d0401083",
       "version_major": 2,
       "version_minor": 0
      },
      "text/plain": [
       "  0%|          | 0/1 [00:00<?, ?it/s]"
      ]
     },
     "metadata": {},
     "output_type": "display_data"
    },
    {
     "name": "stdout",
     "output_type": "stream",
     "text": [
      "/eos/user/s/skyriaco/Offshell/Syst/highmass/MC_18/200205_CutBased/MC_2018/HighMass/ggH600/ZZ4lAnalysis.root\n",
      "LHEweight_QCDscale_muR2_muF1*p_Gen_GG_BSI_kappaTopBot_1_ghz1_1_MCFM*KFactor_QCD_ggZZ_Nominal*((Z1Flav*Z2Flav)==(121*121) ||(Z1Flav*Z2Flav)==(169*169) ||(Z1Flav*Z2Flav)==(121*169)  )*137.1*(ZZMass>=220)*(EventTag==0)*1000*xsec*overallEventWeight*L1prefiringWeight/Bin40\n",
      "LHEweight_QCDscale_muR0p5_muF1*p_Gen_GG_BSI_kappaTopBot_1_ghz1_1_MCFM*KFactor_QCD_ggZZ_Nominal*((Z1Flav*Z2Flav)==(121*121) ||(Z1Flav*Z2Flav)==(169*169) ||(Z1Flav*Z2Flav)==(121*169)  )*137.1*(ZZMass>=220)*(EventTag==0)*1000*xsec*overallEventWeight*L1prefiringWeight/Bin40\n",
      "----------------------\n",
      "up: 262.62705843665753\n",
      "dn: 353.7837346221495\n",
      "LHEweight_QCDscale_muR1_muF2*p_Gen_GG_BSI_kappaTopBot_1_ghz1_1_MCFM*KFactor_QCD_ggZZ_Nominal*((Z1Flav*Z2Flav)==(121*121) ||(Z1Flav*Z2Flav)==(169*169) ||(Z1Flav*Z2Flav)==(121*169)  )*137.1*(ZZMass>=220)*(EventTag==0)*1000*xsec*overallEventWeight*L1prefiringWeight/Bin40\n",
      "LHEweight_QCDscale_muR1_muF0p5*p_Gen_GG_BSI_kappaTopBot_1_ghz1_1_MCFM*KFactor_QCD_ggZZ_Nominal*((Z1Flav*Z2Flav)==(121*121) ||(Z1Flav*Z2Flav)==(169*169) ||(Z1Flav*Z2Flav)==(121*169)  )*137.1*(ZZMass>=220)*(EventTag==0)*1000*xsec*overallEventWeight*L1prefiringWeight/Bin40\n",
      "----------------------\n",
      "up: 297.98129625961883\n",
      "dn: 308.9914845797466\n",
      "LHEweight_PDFVariation_Up*p_Gen_GG_BSI_kappaTopBot_1_ghz1_1_MCFM*KFactor_QCD_ggZZ_Nominal*((Z1Flav*Z2Flav)==(121*121) ||(Z1Flav*Z2Flav)==(169*169) ||(Z1Flav*Z2Flav)==(121*169)  )*137.1*(ZZMass>=220)*(EventTag==0)*1000*xsec*overallEventWeight*L1prefiringWeight/Bin40\n",
      "LHEweight_PDFVariation_Dn*p_Gen_GG_BSI_kappaTopBot_1_ghz1_1_MCFM*KFactor_QCD_ggZZ_Nominal*((Z1Flav*Z2Flav)==(121*121) ||(Z1Flav*Z2Flav)==(169*169) ||(Z1Flav*Z2Flav)==(121*169)  )*137.1*(ZZMass>=220)*(EventTag==0)*1000*xsec*overallEventWeight*L1prefiringWeight/Bin40\n",
      "----------------------\n",
      "up: 308.69677049067104\n",
      "dn: 298.1681178830768\n",
      "LHEweight_AsMZ_Up*p_Gen_GG_BSI_kappaTopBot_1_ghz1_1_MCFM*KFactor_QCD_ggZZ_Nominal*((Z1Flav*Z2Flav)==(121*121) ||(Z1Flav*Z2Flav)==(169*169) ||(Z1Flav*Z2Flav)==(121*169)  )*137.1*(ZZMass>=220)*(EventTag==0)*1000*xsec*overallEventWeight*L1prefiringWeight/Bin40\n",
      "LHEweight_AsMZ_Dn*p_Gen_GG_BSI_kappaTopBot_1_ghz1_1_MCFM*KFactor_QCD_ggZZ_Nominal*((Z1Flav*Z2Flav)==(121*121) ||(Z1Flav*Z2Flav)==(169*169) ||(Z1Flav*Z2Flav)==(121*169)  )*137.1*(ZZMass>=220)*(EventTag==0)*1000*xsec*overallEventWeight*L1prefiringWeight/Bin40\n",
      "----------------------\n",
      "up: 306.3900407150504\n",
      "dn: 297.31532507762313\n",
      "PythiaWeight_isr_muR4 * PythiaWeight_fsr_muR4*p_Gen_GG_BSI_kappaTopBot_1_ghz1_1_MCFM*KFactor_QCD_ggZZ_Nominal*((Z1Flav*Z2Flav)==(121*121) ||(Z1Flav*Z2Flav)==(169*169) ||(Z1Flav*Z2Flav)==(121*169)  )*137.1*(ZZMass>=220)*(EventTag==0)*1000*xsec*overallEventWeight*L1prefiringWeight/Bin40\n",
      "PythiaWeight_isr_muR0p25 * PythiaWeight_fsr_muR0p25*p_Gen_GG_BSI_kappaTopBot_1_ghz1_1_MCFM*KFactor_QCD_ggZZ_Nominal*((Z1Flav*Z2Flav)==(121*121) ||(Z1Flav*Z2Flav)==(169*169) ||(Z1Flav*Z2Flav)==(121*169)  )*137.1*(ZZMass>=220)*(EventTag==0)*1000*xsec*overallEventWeight*L1prefiringWeight/Bin40\n",
      "----------------------\n",
      "up: 303.4317775827367\n",
      "dn: 263.63705648730684\n",
      "om nomnomm: 303.13254142570077\n",
      "here 262.62705843665753\n",
      "here 353.7837346221495\n",
      "here 297.98129625961883\n",
      "here 308.9914845797466\n",
      "here 308.69677049067104\n",
      "here 298.1681178830768\n",
      "here 306.3900407150504\n",
      "here 297.31532507762313\n",
      "here 303.4317775827367\n",
      "here 263.63705648730684\n"
     ]
    },
    {
     "data": {
      "application/vnd.jupyter.widget-view+json": {
       "model_id": "97ed4fd5a2b8473e879dcecceb39e667",
       "version_major": 2,
       "version_minor": 0
      },
      "text/plain": [
       "  0%|          | 0/1 [00:00<?, ?it/s]"
      ]
     },
     "metadata": {},
     "output_type": "display_data"
    },
    {
     "name": "stdout",
     "output_type": "stream",
     "text": [
      "/eos/user/s/skyriaco/Offshell/Syst/highmass/MC_18/200205_CutBased/MC_2018/HighMass/ggH700/ZZ4lAnalysis.root\n",
      "LHEweight_QCDscale_muR2_muF1*p_Gen_GG_BSI_kappaTopBot_1_ghz1_1_MCFM*KFactor_QCD_ggZZ_Nominal*((Z1Flav*Z2Flav)==(121*121) ||(Z1Flav*Z2Flav)==(169*169) ||(Z1Flav*Z2Flav)==(121*169)  )*137.1*(ZZMass>=220)*(EventTag==0)*1000*xsec*overallEventWeight*L1prefiringWeight/Bin40\n",
      "LHEweight_QCDscale_muR0p5_muF1*p_Gen_GG_BSI_kappaTopBot_1_ghz1_1_MCFM*KFactor_QCD_ggZZ_Nominal*((Z1Flav*Z2Flav)==(121*121) ||(Z1Flav*Z2Flav)==(169*169) ||(Z1Flav*Z2Flav)==(121*169)  )*137.1*(ZZMass>=220)*(EventTag==0)*1000*xsec*overallEventWeight*L1prefiringWeight/Bin40\n",
      "----------------------\n",
      "up: 544.8697538465276\n",
      "dn: 715.178439451156\n",
      "LHEweight_QCDscale_muR1_muF2*p_Gen_GG_BSI_kappaTopBot_1_ghz1_1_MCFM*KFactor_QCD_ggZZ_Nominal*((Z1Flav*Z2Flav)==(121*121) ||(Z1Flav*Z2Flav)==(169*169) ||(Z1Flav*Z2Flav)==(121*169)  )*137.1*(ZZMass>=220)*(EventTag==0)*1000*xsec*overallEventWeight*L1prefiringWeight/Bin40\n",
      "LHEweight_QCDscale_muR1_muF0p5*p_Gen_GG_BSI_kappaTopBot_1_ghz1_1_MCFM*KFactor_QCD_ggZZ_Nominal*((Z1Flav*Z2Flav)==(121*121) ||(Z1Flav*Z2Flav)==(169*169) ||(Z1Flav*Z2Flav)==(121*169)  )*137.1*(ZZMass>=220)*(EventTag==0)*1000*xsec*overallEventWeight*L1prefiringWeight/Bin40\n",
      "----------------------\n",
      "up: 616.5854012115669\n",
      "dn: 627.8034837891319\n",
      "LHEweight_PDFVariation_Up*p_Gen_GG_BSI_kappaTopBot_1_ghz1_1_MCFM*KFactor_QCD_ggZZ_Nominal*((Z1Flav*Z2Flav)==(121*121) ||(Z1Flav*Z2Flav)==(169*169) ||(Z1Flav*Z2Flav)==(121*169)  )*137.1*(ZZMass>=220)*(EventTag==0)*1000*xsec*overallEventWeight*L1prefiringWeight/Bin40\n",
      "LHEweight_PDFVariation_Dn*p_Gen_GG_BSI_kappaTopBot_1_ghz1_1_MCFM*KFactor_QCD_ggZZ_Nominal*((Z1Flav*Z2Flav)==(121*121) ||(Z1Flav*Z2Flav)==(169*169) ||(Z1Flav*Z2Flav)==(121*169)  )*137.1*(ZZMass>=220)*(EventTag==0)*1000*xsec*overallEventWeight*L1prefiringWeight/Bin40\n",
      "----------------------\n",
      "up: 633.4369327642999\n",
      "dn: 611.9523421874947\n",
      "LHEweight_AsMZ_Up*p_Gen_GG_BSI_kappaTopBot_1_ghz1_1_MCFM*KFactor_QCD_ggZZ_Nominal*((Z1Flav*Z2Flav)==(121*121) ||(Z1Flav*Z2Flav)==(169*169) ||(Z1Flav*Z2Flav)==(121*169)  )*137.1*(ZZMass>=220)*(EventTag==0)*1000*xsec*overallEventWeight*L1prefiringWeight/Bin40\n",
      "LHEweight_AsMZ_Dn*p_Gen_GG_BSI_kappaTopBot_1_ghz1_1_MCFM*KFactor_QCD_ggZZ_Nominal*((Z1Flav*Z2Flav)==(121*121) ||(Z1Flav*Z2Flav)==(169*169) ||(Z1Flav*Z2Flav)==(121*169)  )*137.1*(ZZMass>=220)*(EventTag==0)*1000*xsec*overallEventWeight*L1prefiringWeight/Bin40\n",
      "----------------------\n",
      "up: 628.2467529230344\n",
      "dn: 610.3063065792885\n",
      "PythiaWeight_isr_muR4 * PythiaWeight_fsr_muR4*p_Gen_GG_BSI_kappaTopBot_1_ghz1_1_MCFM*KFactor_QCD_ggZZ_Nominal*((Z1Flav*Z2Flav)==(121*121) ||(Z1Flav*Z2Flav)==(169*169) ||(Z1Flav*Z2Flav)==(121*169)  )*137.1*(ZZMass>=220)*(EventTag==0)*1000*xsec*overallEventWeight*L1prefiringWeight/Bin40\n",
      "PythiaWeight_isr_muR0p25 * PythiaWeight_fsr_muR0p25*p_Gen_GG_BSI_kappaTopBot_1_ghz1_1_MCFM*KFactor_QCD_ggZZ_Nominal*((Z1Flav*Z2Flav)==(121*121) ||(Z1Flav*Z2Flav)==(169*169) ||(Z1Flav*Z2Flav)==(121*169)  )*137.1*(ZZMass>=220)*(EventTag==0)*1000*xsec*overallEventWeight*L1prefiringWeight/Bin40\n",
      "----------------------\n",
      "up: 678.5931979990055\n",
      "dn: 670.9031908119578\n",
      "om nomnomm: 621.8565970802083\n",
      "here 544.8697538465276\n",
      "here 715.178439451156\n",
      "here 616.5854012115669\n",
      "here 627.8034837891319\n",
      "here 633.4369327642999\n",
      "here 611.9523421874947\n",
      "here 628.2467529230344\n",
      "here 610.3063065792885\n",
      "here 678.5931979990055\n",
      "here 670.9031908119578\n"
     ]
    },
    {
     "data": {
      "application/vnd.jupyter.widget-view+json": {
       "model_id": "4d210ef1791048529ce3e38e6826628e",
       "version_major": 2,
       "version_minor": 0
      },
      "text/plain": [
       "  0%|          | 0/1 [00:00<?, ?it/s]"
      ]
     },
     "metadata": {},
     "output_type": "display_data"
    },
    {
     "name": "stdout",
     "output_type": "stream",
     "text": [
      "/eos/user/s/skyriaco/Offshell/Syst/highmass/MC_18/200205_CutBased/MC_2018/HighMass/ggH750/ZZ4lAnalysis.root\n",
      "LHEweight_QCDscale_muR2_muF1*p_Gen_GG_BSI_kappaTopBot_1_ghz1_1_MCFM*KFactor_QCD_ggZZ_Nominal*((Z1Flav*Z2Flav)==(121*121) ||(Z1Flav*Z2Flav)==(169*169) ||(Z1Flav*Z2Flav)==(121*169)  )*137.1*(ZZMass>=220)*(EventTag==0)*1000*xsec*overallEventWeight*L1prefiringWeight/Bin40\n",
      "LHEweight_QCDscale_muR0p5_muF1*p_Gen_GG_BSI_kappaTopBot_1_ghz1_1_MCFM*KFactor_QCD_ggZZ_Nominal*((Z1Flav*Z2Flav)==(121*121) ||(Z1Flav*Z2Flav)==(169*169) ||(Z1Flav*Z2Flav)==(121*169)  )*137.1*(ZZMass>=220)*(EventTag==0)*1000*xsec*overallEventWeight*L1prefiringWeight/Bin40\n",
      "----------------------\n",
      "up: 438.3378653423715\n",
      "dn: 585.582174927069\n",
      "LHEweight_QCDscale_muR1_muF2*p_Gen_GG_BSI_kappaTopBot_1_ghz1_1_MCFM*KFactor_QCD_ggZZ_Nominal*((Z1Flav*Z2Flav)==(121*121) ||(Z1Flav*Z2Flav)==(169*169) ||(Z1Flav*Z2Flav)==(121*169)  )*137.1*(ZZMass>=220)*(EventTag==0)*1000*xsec*overallEventWeight*L1prefiringWeight/Bin40\n",
      "LHEweight_QCDscale_muR1_muF0p5*p_Gen_GG_BSI_kappaTopBot_1_ghz1_1_MCFM*KFactor_QCD_ggZZ_Nominal*((Z1Flav*Z2Flav)==(121*121) ||(Z1Flav*Z2Flav)==(169*169) ||(Z1Flav*Z2Flav)==(121*169)  )*137.1*(ZZMass>=220)*(EventTag==0)*1000*xsec*overallEventWeight*L1prefiringWeight/Bin40\n",
      "----------------------\n",
      "up: 500.2470784667894\n",
      "dn: 508.20245853935194\n",
      "LHEweight_PDFVariation_Up*p_Gen_GG_BSI_kappaTopBot_1_ghz1_1_MCFM*KFactor_QCD_ggZZ_Nominal*((Z1Flav*Z2Flav)==(121*121) ||(Z1Flav*Z2Flav)==(169*169) ||(Z1Flav*Z2Flav)==(121*169)  )*137.1*(ZZMass>=220)*(EventTag==0)*1000*xsec*overallEventWeight*L1prefiringWeight/Bin40\n",
      "LHEweight_PDFVariation_Dn*p_Gen_GG_BSI_kappaTopBot_1_ghz1_1_MCFM*KFactor_QCD_ggZZ_Nominal*((Z1Flav*Z2Flav)==(121*121) ||(Z1Flav*Z2Flav)==(169*169) ||(Z1Flav*Z2Flav)==(121*169)  )*137.1*(ZZMass>=220)*(EventTag==0)*1000*xsec*overallEventWeight*L1prefiringWeight/Bin40\n",
      "----------------------\n",
      "up: 513.8040721168363\n",
      "dn: 495.54621477342516\n",
      "LHEweight_AsMZ_Up*p_Gen_GG_BSI_kappaTopBot_1_ghz1_1_MCFM*KFactor_QCD_ggZZ_Nominal*((Z1Flav*Z2Flav)==(121*121) ||(Z1Flav*Z2Flav)==(169*169) ||(Z1Flav*Z2Flav)==(121*169)  )*137.1*(ZZMass>=220)*(EventTag==0)*1000*xsec*overallEventWeight*L1prefiringWeight/Bin40\n",
      "LHEweight_AsMZ_Dn*p_Gen_GG_BSI_kappaTopBot_1_ghz1_1_MCFM*KFactor_QCD_ggZZ_Nominal*((Z1Flav*Z2Flav)==(121*121) ||(Z1Flav*Z2Flav)==(169*169) ||(Z1Flav*Z2Flav)==(121*169)  )*137.1*(ZZMass>=220)*(EventTag==0)*1000*xsec*overallEventWeight*L1prefiringWeight/Bin40\n",
      "----------------------\n",
      "up: 509.32074779552204\n",
      "dn: 495.1071220480735\n",
      "PythiaWeight_isr_muR4 * PythiaWeight_fsr_muR4*p_Gen_GG_BSI_kappaTopBot_1_ghz1_1_MCFM*KFactor_QCD_ggZZ_Nominal*((Z1Flav*Z2Flav)==(121*121) ||(Z1Flav*Z2Flav)==(169*169) ||(Z1Flav*Z2Flav)==(121*169)  )*137.1*(ZZMass>=220)*(EventTag==0)*1000*xsec*overallEventWeight*L1prefiringWeight/Bin40\n",
      "PythiaWeight_isr_muR0p25 * PythiaWeight_fsr_muR0p25*p_Gen_GG_BSI_kappaTopBot_1_ghz1_1_MCFM*KFactor_QCD_ggZZ_Nominal*((Z1Flav*Z2Flav)==(121*121) ||(Z1Flav*Z2Flav)==(169*169) ||(Z1Flav*Z2Flav)==(121*169)  )*137.1*(ZZMass>=220)*(EventTag==0)*1000*xsec*overallEventWeight*L1prefiringWeight/Bin40\n",
      "----------------------\n",
      "up: 597.6021694251976\n",
      "dn: 328.37048604954543\n",
      "om nomnomm: 504.0902328558004\n",
      "here 438.3378653423715\n",
      "here 585.582174927069\n",
      "here 500.2470784667894\n",
      "here 508.20245853935194\n",
      "here 513.8040721168363\n",
      "here 495.54621477342516\n",
      "here 509.32074779552204\n",
      "here 495.1071220480735\n",
      "here 597.6021694251976\n",
      "here 328.37048604954543\n"
     ]
    },
    {
     "data": {
      "application/vnd.jupyter.widget-view+json": {
       "model_id": "fcc7bc58e65b4c598eeba97e2b65c888",
       "version_major": 2,
       "version_minor": 0
      },
      "text/plain": [
       "  0%|          | 0/1 [00:00<?, ?it/s]"
      ]
     },
     "metadata": {},
     "output_type": "display_data"
    },
    {
     "name": "stdout",
     "output_type": "stream",
     "text": [
      "/eos/user/s/skyriaco/Offshell/Syst/highmass/MC_18/200205_CutBased/MC_2018/HighMass/ggH800/ZZ4lAnalysis.root\n",
      "LHEweight_QCDscale_muR2_muF1*p_Gen_GG_BSI_kappaTopBot_1_ghz1_1_MCFM*KFactor_QCD_ggZZ_Nominal*((Z1Flav*Z2Flav)==(121*121) ||(Z1Flav*Z2Flav)==(169*169) ||(Z1Flav*Z2Flav)==(121*169)  )*137.1*(ZZMass>=220)*(EventTag==0)*1000*xsec*overallEventWeight*L1prefiringWeight/Bin40\n",
      "LHEweight_QCDscale_muR0p5_muF1*p_Gen_GG_BSI_kappaTopBot_1_ghz1_1_MCFM*KFactor_QCD_ggZZ_Nominal*((Z1Flav*Z2Flav)==(121*121) ||(Z1Flav*Z2Flav)==(169*169) ||(Z1Flav*Z2Flav)==(121*169)  )*137.1*(ZZMass>=220)*(EventTag==0)*1000*xsec*overallEventWeight*L1prefiringWeight/Bin40\n",
      "----------------------\n",
      "up: 664.0755357326998\n",
      "dn: 881.1289938614354\n",
      "LHEweight_QCDscale_muR1_muF2*p_Gen_GG_BSI_kappaTopBot_1_ghz1_1_MCFM*KFactor_QCD_ggZZ_Nominal*((Z1Flav*Z2Flav)==(121*121) ||(Z1Flav*Z2Flav)==(169*169) ||(Z1Flav*Z2Flav)==(121*169)  )*137.1*(ZZMass>=220)*(EventTag==0)*1000*xsec*overallEventWeight*L1prefiringWeight/Bin40\n",
      "LHEweight_QCDscale_muR1_muF0p5*p_Gen_GG_BSI_kappaTopBot_1_ghz1_1_MCFM*KFactor_QCD_ggZZ_Nominal*((Z1Flav*Z2Flav)==(121*121) ||(Z1Flav*Z2Flav)==(169*169) ||(Z1Flav*Z2Flav)==(121*169)  )*137.1*(ZZMass>=220)*(EventTag==0)*1000*xsec*overallEventWeight*L1prefiringWeight/Bin40\n",
      "----------------------\n",
      "up: 754.492521729233\n",
      "dn: 769.032993680361\n",
      "LHEweight_PDFVariation_Up*p_Gen_GG_BSI_kappaTopBot_1_ghz1_1_MCFM*KFactor_QCD_ggZZ_Nominal*((Z1Flav*Z2Flav)==(121*121) ||(Z1Flav*Z2Flav)==(169*169) ||(Z1Flav*Z2Flav)==(121*169)  )*137.1*(ZZMass>=220)*(EventTag==0)*1000*xsec*overallEventWeight*L1prefiringWeight/Bin40\n",
      "LHEweight_PDFVariation_Dn*p_Gen_GG_BSI_kappaTopBot_1_ghz1_1_MCFM*KFactor_QCD_ggZZ_Nominal*((Z1Flav*Z2Flav)==(121*121) ||(Z1Flav*Z2Flav)==(169*169) ||(Z1Flav*Z2Flav)==(121*169)  )*137.1*(ZZMass>=220)*(EventTag==0)*1000*xsec*overallEventWeight*L1prefiringWeight/Bin40\n",
      "----------------------\n",
      "up: 775.4252384340216\n",
      "dn: 749.3948410975281\n",
      "LHEweight_AsMZ_Up*p_Gen_GG_BSI_kappaTopBot_1_ghz1_1_MCFM*KFactor_QCD_ggZZ_Nominal*((Z1Flav*Z2Flav)==(121*121) ||(Z1Flav*Z2Flav)==(169*169) ||(Z1Flav*Z2Flav)==(121*169)  )*137.1*(ZZMass>=220)*(EventTag==0)*1000*xsec*overallEventWeight*L1prefiringWeight/Bin40\n",
      "LHEweight_AsMZ_Dn*p_Gen_GG_BSI_kappaTopBot_1_ghz1_1_MCFM*KFactor_QCD_ggZZ_Nominal*((Z1Flav*Z2Flav)==(121*121) ||(Z1Flav*Z2Flav)==(169*169) ||(Z1Flav*Z2Flav)==(121*169)  )*137.1*(ZZMass>=220)*(EventTag==0)*1000*xsec*overallEventWeight*L1prefiringWeight/Bin40\n",
      "----------------------\n",
      "up: 769.1285297726863\n",
      "dn: 747.1788391267473\n",
      "PythiaWeight_isr_muR4 * PythiaWeight_fsr_muR4*p_Gen_GG_BSI_kappaTopBot_1_ghz1_1_MCFM*KFactor_QCD_ggZZ_Nominal*((Z1Flav*Z2Flav)==(121*121) ||(Z1Flav*Z2Flav)==(169*169) ||(Z1Flav*Z2Flav)==(121*169)  )*137.1*(ZZMass>=220)*(EventTag==0)*1000*xsec*overallEventWeight*L1prefiringWeight/Bin40\n",
      "PythiaWeight_isr_muR0p25 * PythiaWeight_fsr_muR0p25*p_Gen_GG_BSI_kappaTopBot_1_ghz1_1_MCFM*KFactor_QCD_ggZZ_Nominal*((Z1Flav*Z2Flav)==(121*121) ||(Z1Flav*Z2Flav)==(169*169) ||(Z1Flav*Z2Flav)==(121*169)  )*137.1*(ZZMass>=220)*(EventTag==0)*1000*xsec*overallEventWeight*L1prefiringWeight/Bin40\n",
      "----------------------\n",
      "up: 717.2831515393627\n",
      "dn: 935.8918490859287\n",
      "om nomnomm: 761.444518807868\n",
      "here 664.0755357326998\n",
      "here 881.1289938614354\n",
      "here 754.492521729233\n",
      "here 769.032993680361\n",
      "here 775.4252384340216\n",
      "here 749.3948410975281\n",
      "here 769.1285297726863\n",
      "here 747.1788391267473\n",
      "here 717.2831515393627\n",
      "here 935.8918490859287\n"
     ]
    },
    {
     "data": {
      "application/vnd.jupyter.widget-view+json": {
       "model_id": "d9483dedb4274c02bfd5faf0ebbb7cec",
       "version_major": 2,
       "version_minor": 0
      },
      "text/plain": [
       "  0%|          | 0/1 [00:00<?, ?it/s]"
      ]
     },
     "metadata": {},
     "output_type": "display_data"
    },
    {
     "name": "stdout",
     "output_type": "stream",
     "text": [
      "/eos/user/s/skyriaco/Offshell/Syst/highmass/MC_18/200205_CutBased/MC_2018/HighMass/ggH900/ZZ4lAnalysis.root\n",
      "LHEweight_QCDscale_muR2_muF1*p_Gen_GG_BSI_kappaTopBot_1_ghz1_1_MCFM*KFactor_QCD_ggZZ_Nominal*((Z1Flav*Z2Flav)==(121*121) ||(Z1Flav*Z2Flav)==(169*169) ||(Z1Flav*Z2Flav)==(121*169)  )*137.1*(ZZMass>=220)*(EventTag==0)*1000*xsec*overallEventWeight*L1prefiringWeight/Bin40\n",
      "LHEweight_QCDscale_muR0p5_muF1*p_Gen_GG_BSI_kappaTopBot_1_ghz1_1_MCFM*KFactor_QCD_ggZZ_Nominal*((Z1Flav*Z2Flav)==(121*121) ||(Z1Flav*Z2Flav)==(169*169) ||(Z1Flav*Z2Flav)==(121*169)  )*137.1*(ZZMass>=220)*(EventTag==0)*1000*xsec*overallEventWeight*L1prefiringWeight/Bin40\n",
      "----------------------\n",
      "up: 742.2652802391822\n",
      "dn: 976.5963781899627\n",
      "LHEweight_QCDscale_muR1_muF2*p_Gen_GG_BSI_kappaTopBot_1_ghz1_1_MCFM*KFactor_QCD_ggZZ_Nominal*((Z1Flav*Z2Flav)==(121*121) ||(Z1Flav*Z2Flav)==(169*169) ||(Z1Flav*Z2Flav)==(121*169)  )*137.1*(ZZMass>=220)*(EventTag==0)*1000*xsec*overallEventWeight*L1prefiringWeight/Bin40\n",
      "LHEweight_QCDscale_muR1_muF0p5*p_Gen_GG_BSI_kappaTopBot_1_ghz1_1_MCFM*KFactor_QCD_ggZZ_Nominal*((Z1Flav*Z2Flav)==(121*121) ||(Z1Flav*Z2Flav)==(169*169) ||(Z1Flav*Z2Flav)==(121*169)  )*137.1*(ZZMass>=220)*(EventTag==0)*1000*xsec*overallEventWeight*L1prefiringWeight/Bin40\n",
      "----------------------\n",
      "up: 838.03882447879\n",
      "dn: 859.375032309661\n",
      "LHEweight_PDFVariation_Up*p_Gen_GG_BSI_kappaTopBot_1_ghz1_1_MCFM*KFactor_QCD_ggZZ_Nominal*((Z1Flav*Z2Flav)==(121*121) ||(Z1Flav*Z2Flav)==(169*169) ||(Z1Flav*Z2Flav)==(121*169)  )*137.1*(ZZMass>=220)*(EventTag==0)*1000*xsec*overallEventWeight*L1prefiringWeight/Bin40\n",
      "LHEweight_PDFVariation_Dn*p_Gen_GG_BSI_kappaTopBot_1_ghz1_1_MCFM*KFactor_QCD_ggZZ_Nominal*((Z1Flav*Z2Flav)==(121*121) ||(Z1Flav*Z2Flav)==(169*169) ||(Z1Flav*Z2Flav)==(121*169)  )*137.1*(ZZMass>=220)*(EventTag==0)*1000*xsec*overallEventWeight*L1prefiringWeight/Bin40\n",
      "----------------------\n",
      "up: 863.5169631731987\n",
      "dn: 834.3010385909147\n",
      "LHEweight_AsMZ_Up*p_Gen_GG_BSI_kappaTopBot_1_ghz1_1_MCFM*KFactor_QCD_ggZZ_Nominal*((Z1Flav*Z2Flav)==(121*121) ||(Z1Flav*Z2Flav)==(169*169) ||(Z1Flav*Z2Flav)==(121*169)  )*137.1*(ZZMass>=220)*(EventTag==0)*1000*xsec*overallEventWeight*L1prefiringWeight/Bin40\n",
      "LHEweight_AsMZ_Dn*p_Gen_GG_BSI_kappaTopBot_1_ghz1_1_MCFM*KFactor_QCD_ggZZ_Nominal*((Z1Flav*Z2Flav)==(121*121) ||(Z1Flav*Z2Flav)==(169*169) ||(Z1Flav*Z2Flav)==(121*169)  )*137.1*(ZZMass>=220)*(EventTag==0)*1000*xsec*overallEventWeight*L1prefiringWeight/Bin40\n",
      "----------------------\n",
      "up: 856.4906981852546\n",
      "dn: 832.2846316598734\n",
      "PythiaWeight_isr_muR4 * PythiaWeight_fsr_muR4*p_Gen_GG_BSI_kappaTopBot_1_ghz1_1_MCFM*KFactor_QCD_ggZZ_Nominal*((Z1Flav*Z2Flav)==(121*121) ||(Z1Flav*Z2Flav)==(169*169) ||(Z1Flav*Z2Flav)==(121*169)  )*137.1*(ZZMass>=220)*(EventTag==0)*1000*xsec*overallEventWeight*L1prefiringWeight/Bin40\n",
      "PythiaWeight_isr_muR0p25 * PythiaWeight_fsr_muR0p25*p_Gen_GG_BSI_kappaTopBot_1_ghz1_1_MCFM*KFactor_QCD_ggZZ_Nominal*((Z1Flav*Z2Flav)==(121*121) ||(Z1Flav*Z2Flav)==(169*169) ||(Z1Flav*Z2Flav)==(121*169)  )*137.1*(ZZMass>=220)*(EventTag==0)*1000*xsec*overallEventWeight*L1prefiringWeight/Bin40\n",
      "----------------------\n",
      "up: 898.6081465671159\n",
      "dn: 726.6395713367965\n",
      "om nomnomm: 847.9317096219602\n",
      "here 742.2652802391822\n",
      "here 976.5963781899627\n",
      "here 838.03882447879\n",
      "here 859.375032309661\n",
      "here 863.5169631731987\n",
      "here 834.3010385909147\n",
      "here 856.4906981852546\n",
      "here 832.2846316598734\n",
      "here 898.6081465671159\n",
      "here 726.6395713367965\n",
      "hf =  70846.51425170898\n",
      "p_Gen_GG_BKG_MCFM*KFactor_QCD_ggZZ_Nominal\n",
      "gg 2 0\n",
      "LHEweight_QCDscale_muR2_muF1*p_Gen_GG_BKG_MCFM*KFactor_QCD_ggZZ_Nominal*((Z1Flav*Z2Flav)==(121*121) ||(Z1Flav*Z2Flav)==(169*169) ||(Z1Flav*Z2Flav)==(121*169)  )*137.1*(ZZMass>=220)*(EventTag==0)*1000*xsec*overallEventWeight*L1prefiringWeight/Bin40\n",
      "LHEweight_QCDscale_muR1_muF2*p_Gen_GG_BKG_MCFM*KFactor_QCD_ggZZ_Nominal*((Z1Flav*Z2Flav)==(121*121) ||(Z1Flav*Z2Flav)==(169*169) ||(Z1Flav*Z2Flav)==(121*169)  )*137.1*(ZZMass>=220)*(EventTag==0)*1000*xsec*overallEventWeight*L1prefiringWeight/Bin40\n",
      "LHEweight_PDFVariation_Up*p_Gen_GG_BKG_MCFM*KFactor_QCD_ggZZ_Nominal*((Z1Flav*Z2Flav)==(121*121) ||(Z1Flav*Z2Flav)==(169*169) ||(Z1Flav*Z2Flav)==(121*169)  )*137.1*(ZZMass>=220)*(EventTag==0)*1000*xsec*overallEventWeight*L1prefiringWeight/Bin40\n",
      "LHEweight_AsMZ_Up*p_Gen_GG_BKG_MCFM*KFactor_QCD_ggZZ_Nominal*((Z1Flav*Z2Flav)==(121*121) ||(Z1Flav*Z2Flav)==(169*169) ||(Z1Flav*Z2Flav)==(121*169)  )*137.1*(ZZMass>=220)*(EventTag==0)*1000*xsec*overallEventWeight*L1prefiringWeight/Bin40\n",
      "PythiaWeight_isr_muR4 * PythiaWeight_fsr_muR4*p_Gen_GG_BKG_MCFM*KFactor_QCD_ggZZ_Nominal*((Z1Flav*Z2Flav)==(121*121) ||(Z1Flav*Z2Flav)==(169*169) ||(Z1Flav*Z2Flav)==(121*169)  )*137.1*(ZZMass>=220)*(EventTag==0)*1000*xsec*overallEventWeight*L1prefiringWeight/Bin40\n"
     ]
    },
    {
     "data": {
      "application/vnd.jupyter.widget-view+json": {
       "model_id": "508f9f7fbce74667a12e4e328c0af330",
       "version_major": 2,
       "version_minor": 0
      },
      "text/plain": [
       "  0%|          | 0/1 [00:00<?, ?it/s]"
      ]
     },
     "metadata": {},
     "output_type": "display_data"
    },
    {
     "data": {
      "application/vnd.jupyter.widget-view+json": {
       "model_id": "84256a58abf3478094e891c9b07f7ae7",
       "version_major": 2,
       "version_minor": 0
      },
      "text/plain": [
       "  0%|          | 0/1 [00:00<?, ?it/s]"
      ]
     },
     "metadata": {},
     "output_type": "display_data"
    },
    {
     "name": "stdout",
     "output_type": "stream",
     "text": [
      "/eos/user/s/skyriaco/Offshell/Syst/highmass/MC_18/200205_CutBased/MC_2018/HighMass/ggH1000/ZZ4lAnalysis.root\n",
      "LHEweight_QCDscale_muR2_muF1*p_Gen_GG_BKG_MCFM*KFactor_QCD_ggZZ_Nominal*((Z1Flav*Z2Flav)==(121*121) ||(Z1Flav*Z2Flav)==(169*169) ||(Z1Flav*Z2Flav)==(121*169)  )*137.1*(ZZMass>=220)*(EventTag==0)*1000*xsec*overallEventWeight*L1prefiringWeight/Bin40\n",
      "LHEweight_QCDscale_muR0p5_muF1*p_Gen_GG_BKG_MCFM*KFactor_QCD_ggZZ_Nominal*((Z1Flav*Z2Flav)==(121*121) ||(Z1Flav*Z2Flav)==(169*169) ||(Z1Flav*Z2Flav)==(121*169)  )*137.1*(ZZMass>=220)*(EventTag==0)*1000*xsec*overallEventWeight*L1prefiringWeight/Bin40\n",
      "----------------------\n",
      "up: 1348.0159708861029\n",
      "dn: 1801.3058046139777\n",
      "LHEweight_QCDscale_muR1_muF2*p_Gen_GG_BKG_MCFM*KFactor_QCD_ggZZ_Nominal*((Z1Flav*Z2Flav)==(121*121) ||(Z1Flav*Z2Flav)==(169*169) ||(Z1Flav*Z2Flav)==(121*169)  )*137.1*(ZZMass>=220)*(EventTag==0)*1000*xsec*overallEventWeight*L1prefiringWeight/Bin40\n",
      "LHEweight_QCDscale_muR1_muF0p5*p_Gen_GG_BKG_MCFM*KFactor_QCD_ggZZ_Nominal*((Z1Flav*Z2Flav)==(121*121) ||(Z1Flav*Z2Flav)==(169*169) ||(Z1Flav*Z2Flav)==(121*169)  )*137.1*(ZZMass>=220)*(EventTag==0)*1000*xsec*overallEventWeight*L1prefiringWeight/Bin40\n",
      "----------------------\n",
      "up: 1534.5271267007338\n",
      "dn: 1567.5590907908045\n",
      "LHEweight_PDFVariation_Up*p_Gen_GG_BKG_MCFM*KFactor_QCD_ggZZ_Nominal*((Z1Flav*Z2Flav)==(121*121) ||(Z1Flav*Z2Flav)==(169*169) ||(Z1Flav*Z2Flav)==(121*169)  )*137.1*(ZZMass>=220)*(EventTag==0)*1000*xsec*overallEventWeight*L1prefiringWeight/Bin40\n",
      "LHEweight_PDFVariation_Dn*p_Gen_GG_BKG_MCFM*KFactor_QCD_ggZZ_Nominal*((Z1Flav*Z2Flav)==(121*121) ||(Z1Flav*Z2Flav)==(169*169) ||(Z1Flav*Z2Flav)==(121*169)  )*137.1*(ZZMass>=220)*(EventTag==0)*1000*xsec*overallEventWeight*L1prefiringWeight/Bin40\n",
      "----------------------\n",
      "up: 1577.9049297233578\n",
      "dn: 1526.3717425678624\n",
      "LHEweight_AsMZ_Up*p_Gen_GG_BKG_MCFM*KFactor_QCD_ggZZ_Nominal*((Z1Flav*Z2Flav)==(121*121) ||(Z1Flav*Z2Flav)==(169*169) ||(Z1Flav*Z2Flav)==(121*169)  )*137.1*(ZZMass>=220)*(EventTag==0)*1000*xsec*overallEventWeight*L1prefiringWeight/Bin40\n",
      "LHEweight_AsMZ_Dn*p_Gen_GG_BKG_MCFM*KFactor_QCD_ggZZ_Nominal*((Z1Flav*Z2Flav)==(121*121) ||(Z1Flav*Z2Flav)==(169*169) ||(Z1Flav*Z2Flav)==(121*169)  )*137.1*(ZZMass>=220)*(EventTag==0)*1000*xsec*overallEventWeight*L1prefiringWeight/Bin40\n",
      "----------------------\n",
      "up: 1566.1180489559192\n",
      "dn: 1520.9047037272248\n",
      "PythiaWeight_isr_muR4 * PythiaWeight_fsr_muR4*p_Gen_GG_BKG_MCFM*KFactor_QCD_ggZZ_Nominal*((Z1Flav*Z2Flav)==(121*121) ||(Z1Flav*Z2Flav)==(169*169) ||(Z1Flav*Z2Flav)==(121*169)  )*137.1*(ZZMass>=220)*(EventTag==0)*1000*xsec*overallEventWeight*L1prefiringWeight/Bin40\n",
      "PythiaWeight_isr_muR0p25 * PythiaWeight_fsr_muR0p25*p_Gen_GG_BKG_MCFM*KFactor_QCD_ggZZ_Nominal*((Z1Flav*Z2Flav)==(121*121) ||(Z1Flav*Z2Flav)==(169*169) ||(Z1Flav*Z2Flav)==(121*169)  )*137.1*(ZZMass>=220)*(EventTag==0)*1000*xsec*overallEventWeight*L1prefiringWeight/Bin40\n",
      "----------------------\n",
      "up: 1520.5726206921972\n",
      "dn: 1430.6000977598596\n",
      "om nomnomm: 1550.4079820006154\n",
      "here 1348.0159708861029\n",
      "here 1801.3058046139777\n",
      "here 1534.5271267007338\n",
      "here 1567.5590907908045\n",
      "here 1577.9049297233578\n",
      "here 1526.3717425678624\n",
      "here 1566.1180489559192\n",
      "here 1520.9047037272248\n",
      "here 1520.5726206921972\n",
      "here 1430.6000977598596\n"
     ]
    },
    {
     "data": {
      "application/vnd.jupyter.widget-view+json": {
       "model_id": "e90c7d2924454804a788f9054e9de33f",
       "version_major": 2,
       "version_minor": 0
      },
      "text/plain": [
       "  0%|          | 0/1 [00:00<?, ?it/s]"
      ]
     },
     "metadata": {},
     "output_type": "display_data"
    },
    {
     "name": "stdout",
     "output_type": "stream",
     "text": [
      "/eos/user/s/skyriaco/Offshell/Syst/highmass/MC_18/200205_CutBased/MC_2018/HighMass/ggH115/ZZ4lAnalysis.root\n",
      "LHEweight_QCDscale_muR2_muF1*p_Gen_GG_BKG_MCFM*KFactor_QCD_ggZZ_Nominal*((Z1Flav*Z2Flav)==(121*121) ||(Z1Flav*Z2Flav)==(169*169) ||(Z1Flav*Z2Flav)==(121*169)  )*137.1*(ZZMass>=220)*(EventTag==0)*1000*xsec*overallEventWeight*L1prefiringWeight/Bin40\n",
      "LHEweight_QCDscale_muR0p5_muF1*p_Gen_GG_BKG_MCFM*KFactor_QCD_ggZZ_Nominal*((Z1Flav*Z2Flav)==(121*121) ||(Z1Flav*Z2Flav)==(169*169) ||(Z1Flav*Z2Flav)==(121*169)  )*137.1*(ZZMass>=220)*(EventTag==0)*1000*xsec*overallEventWeight*L1prefiringWeight/Bin40\n",
      "----------------------\n",
      "up: 2.9153272862458834e-07\n",
      "dn: 4.980328967008063e-07\n",
      "LHEweight_QCDscale_muR1_muF2*p_Gen_GG_BKG_MCFM*KFactor_QCD_ggZZ_Nominal*((Z1Flav*Z2Flav)==(121*121) ||(Z1Flav*Z2Flav)==(169*169) ||(Z1Flav*Z2Flav)==(121*169)  )*137.1*(ZZMass>=220)*(EventTag==0)*1000*xsec*overallEventWeight*L1prefiringWeight/Bin40\n",
      "LHEweight_QCDscale_muR1_muF0p5*p_Gen_GG_BKG_MCFM*KFactor_QCD_ggZZ_Nominal*((Z1Flav*Z2Flav)==(121*121) ||(Z1Flav*Z2Flav)==(169*169) ||(Z1Flav*Z2Flav)==(121*169)  )*137.1*(ZZMass>=220)*(EventTag==0)*1000*xsec*overallEventWeight*L1prefiringWeight/Bin40\n",
      "----------------------\n",
      "up: 3.804107109317556e-07\n",
      "dn: 3.67286240532394e-07\n",
      "LHEweight_PDFVariation_Up*p_Gen_GG_BKG_MCFM*KFactor_QCD_ggZZ_Nominal*((Z1Flav*Z2Flav)==(121*121) ||(Z1Flav*Z2Flav)==(169*169) ||(Z1Flav*Z2Flav)==(121*169)  )*137.1*(ZZMass>=220)*(EventTag==0)*1000*xsec*overallEventWeight*L1prefiringWeight/Bin40\n",
      "LHEweight_PDFVariation_Dn*p_Gen_GG_BKG_MCFM*KFactor_QCD_ggZZ_Nominal*((Z1Flav*Z2Flav)==(121*121) ||(Z1Flav*Z2Flav)==(169*169) ||(Z1Flav*Z2Flav)==(121*169)  )*137.1*(ZZMass>=220)*(EventTag==0)*1000*xsec*overallEventWeight*L1prefiringWeight/Bin40\n",
      "----------------------\n",
      "up: 3.825167453896938e-07\n",
      "dn: 3.694250629848739e-07\n",
      "LHEweight_AsMZ_Up*p_Gen_GG_BKG_MCFM*KFactor_QCD_ggZZ_Nominal*((Z1Flav*Z2Flav)==(121*121) ||(Z1Flav*Z2Flav)==(169*169) ||(Z1Flav*Z2Flav)==(121*169)  )*137.1*(ZZMass>=220)*(EventTag==0)*1000*xsec*overallEventWeight*L1prefiringWeight/Bin40\n",
      "LHEweight_AsMZ_Dn*p_Gen_GG_BKG_MCFM*KFactor_QCD_ggZZ_Nominal*((Z1Flav*Z2Flav)==(121*121) ||(Z1Flav*Z2Flav)==(169*169) ||(Z1Flav*Z2Flav)==(121*169)  )*137.1*(ZZMass>=220)*(EventTag==0)*1000*xsec*overallEventWeight*L1prefiringWeight/Bin40\n",
      "----------------------\n",
      "up: 3.823958394377769e-07\n",
      "dn: 3.6548032511518613e-07\n",
      "PythiaWeight_isr_muR4 * PythiaWeight_fsr_muR4*p_Gen_GG_BKG_MCFM*KFactor_QCD_ggZZ_Nominal*((Z1Flav*Z2Flav)==(121*121) ||(Z1Flav*Z2Flav)==(169*169) ||(Z1Flav*Z2Flav)==(121*169)  )*137.1*(ZZMass>=220)*(EventTag==0)*1000*xsec*overallEventWeight*L1prefiringWeight/Bin40\n",
      "PythiaWeight_isr_muR0p25 * PythiaWeight_fsr_muR0p25*p_Gen_GG_BKG_MCFM*KFactor_QCD_ggZZ_Nominal*((Z1Flav*Z2Flav)==(121*121) ||(Z1Flav*Z2Flav)==(169*169) ||(Z1Flav*Z2Flav)==(121*169)  )*137.1*(ZZMass>=220)*(EventTag==0)*1000*xsec*overallEventWeight*L1prefiringWeight/Bin40\n",
      "----------------------\n",
      "up: 4.060086400414775e-07\n",
      "dn: 1.8348785779664922e-07\n",
      "om nomnomm: 3.752805746159993e-07\n",
      "here 2.9153272862458834e-07\n",
      "here 4.980328967008063e-07\n",
      "here 3.804107109317556e-07\n",
      "here 3.67286240532394e-07\n",
      "here 3.825167453896938e-07\n",
      "here 3.694250629848739e-07\n",
      "here 3.823958394377769e-07\n",
      "here 3.6548032511518613e-07\n",
      "here 4.060086400414775e-07\n",
      "here 1.8348785779664922e-07\n"
     ]
    },
    {
     "data": {
      "application/vnd.jupyter.widget-view+json": {
       "model_id": "4fd7a21344df45428eca837cfb20ca2c",
       "version_major": 2,
       "version_minor": 0
      },
      "text/plain": [
       "  0%|          | 0/1 [00:00<?, ?it/s]"
      ]
     },
     "metadata": {},
     "output_type": "display_data"
    },
    {
     "name": "stdout",
     "output_type": "stream",
     "text": [
      "/eos/user/s/skyriaco/Offshell/Syst/highmass/MC_18/200205_CutBased/MC_2018/HighMass/ggH135/ZZ4lAnalysis.root\n",
      "LHEweight_QCDscale_muR2_muF1*p_Gen_GG_BKG_MCFM*KFactor_QCD_ggZZ_Nominal*((Z1Flav*Z2Flav)==(121*121) ||(Z1Flav*Z2Flav)==(169*169) ||(Z1Flav*Z2Flav)==(121*169)  )*137.1*(ZZMass>=220)*(EventTag==0)*1000*xsec*overallEventWeight*L1prefiringWeight/Bin40\n",
      "LHEweight_QCDscale_muR0p5_muF1*p_Gen_GG_BKG_MCFM*KFactor_QCD_ggZZ_Nominal*((Z1Flav*Z2Flav)==(121*121) ||(Z1Flav*Z2Flav)==(169*169) ||(Z1Flav*Z2Flav)==(121*169)  )*137.1*(ZZMass>=220)*(EventTag==0)*1000*xsec*overallEventWeight*L1prefiringWeight/Bin40\n",
      "----------------------\n",
      "up: 1.3670320520020596e-06\n",
      "dn: 2.0850992648036026e-06\n",
      "LHEweight_QCDscale_muR1_muF2*p_Gen_GG_BKG_MCFM*KFactor_QCD_ggZZ_Nominal*((Z1Flav*Z2Flav)==(121*121) ||(Z1Flav*Z2Flav)==(169*169) ||(Z1Flav*Z2Flav)==(121*169)  )*137.1*(ZZMass>=220)*(EventTag==0)*1000*xsec*overallEventWeight*L1prefiringWeight/Bin40\n",
      "LHEweight_QCDscale_muR1_muF0p5*p_Gen_GG_BKG_MCFM*KFactor_QCD_ggZZ_Nominal*((Z1Flav*Z2Flav)==(121*121) ||(Z1Flav*Z2Flav)==(169*169) ||(Z1Flav*Z2Flav)==(121*169)  )*137.1*(ZZMass>=220)*(EventTag==0)*1000*xsec*overallEventWeight*L1prefiringWeight/Bin40\n",
      "----------------------\n",
      "up: 1.8301435247281006e-06\n",
      "dn: 1.4931450884603237e-06\n",
      "LHEweight_PDFVariation_Up*p_Gen_GG_BKG_MCFM*KFactor_QCD_ggZZ_Nominal*((Z1Flav*Z2Flav)==(121*121) ||(Z1Flav*Z2Flav)==(169*169) ||(Z1Flav*Z2Flav)==(121*169)  )*137.1*(ZZMass>=220)*(EventTag==0)*1000*xsec*overallEventWeight*L1prefiringWeight/Bin40\n",
      "LHEweight_PDFVariation_Dn*p_Gen_GG_BKG_MCFM*KFactor_QCD_ggZZ_Nominal*((Z1Flav*Z2Flav)==(121*121) ||(Z1Flav*Z2Flav)==(169*169) ||(Z1Flav*Z2Flav)==(121*169)  )*137.1*(ZZMass>=220)*(EventTag==0)*1000*xsec*overallEventWeight*L1prefiringWeight/Bin40\n",
      "----------------------\n",
      "up: 1.697312082882263e-06\n",
      "dn: 1.6467000740760795e-06\n",
      "LHEweight_AsMZ_Up*p_Gen_GG_BKG_MCFM*KFactor_QCD_ggZZ_Nominal*((Z1Flav*Z2Flav)==(121*121) ||(Z1Flav*Z2Flav)==(169*169) ||(Z1Flav*Z2Flav)==(121*169)  )*137.1*(ZZMass>=220)*(EventTag==0)*1000*xsec*overallEventWeight*L1prefiringWeight/Bin40\n",
      "LHEweight_AsMZ_Dn*p_Gen_GG_BKG_MCFM*KFactor_QCD_ggZZ_Nominal*((Z1Flav*Z2Flav)==(121*121) ||(Z1Flav*Z2Flav)==(169*169) ||(Z1Flav*Z2Flav)==(121*169)  )*137.1*(ZZMass>=220)*(EventTag==0)*1000*xsec*overallEventWeight*L1prefiringWeight/Bin40\n",
      "----------------------\n",
      "up: 1.6972825456207374e-06\n",
      "dn: 1.6245976013351537e-06\n",
      "PythiaWeight_isr_muR4 * PythiaWeight_fsr_muR4*p_Gen_GG_BKG_MCFM*KFactor_QCD_ggZZ_Nominal*((Z1Flav*Z2Flav)==(121*121) ||(Z1Flav*Z2Flav)==(169*169) ||(Z1Flav*Z2Flav)==(121*169)  )*137.1*(ZZMass>=220)*(EventTag==0)*1000*xsec*overallEventWeight*L1prefiringWeight/Bin40\n",
      "PythiaWeight_isr_muR0p25 * PythiaWeight_fsr_muR0p25*p_Gen_GG_BKG_MCFM*KFactor_QCD_ggZZ_Nominal*((Z1Flav*Z2Flav)==(121*121) ||(Z1Flav*Z2Flav)==(169*169) ||(Z1Flav*Z2Flav)==(121*169)  )*137.1*(ZZMass>=220)*(EventTag==0)*1000*xsec*overallEventWeight*L1prefiringWeight/Bin40\n",
      "----------------------\n",
      "up: 2.422472235252826e-06\n",
      "dn: 4.030471956184556e-07\n",
      "om nomnomm: 1.6688540185327838e-06\n",
      "here 1.3670320520020596e-06\n",
      "here 2.0850992648036026e-06\n",
      "here 1.8301435247281006e-06\n",
      "here 1.4931450884603237e-06\n",
      "here 1.697312082882263e-06\n",
      "here 1.6467000740760795e-06\n",
      "here 1.6972825456207374e-06\n",
      "here 1.6245976013351537e-06\n",
      "here 2.422472235252826e-06\n",
      "here 4.030471956184556e-07\n"
     ]
    },
    {
     "data": {
      "application/vnd.jupyter.widget-view+json": {
       "model_id": "c933275b54364ec395c811ecc144eee6",
       "version_major": 2,
       "version_minor": 0
      },
      "text/plain": [
       "  0%|          | 0/1 [00:00<?, ?it/s]"
      ]
     },
     "metadata": {},
     "output_type": "display_data"
    },
    {
     "name": "stdout",
     "output_type": "stream",
     "text": [
      "/eos/user/s/skyriaco/Offshell/Syst/highmass/MC_18/200205_CutBased/MC_2018/HighMass/ggH140/ZZ4lAnalysis.root\n",
      "LHEweight_QCDscale_muR2_muF1*p_Gen_GG_BKG_MCFM*KFactor_QCD_ggZZ_Nominal*((Z1Flav*Z2Flav)==(121*121) ||(Z1Flav*Z2Flav)==(169*169) ||(Z1Flav*Z2Flav)==(121*169)  )*137.1*(ZZMass>=220)*(EventTag==0)*1000*xsec*overallEventWeight*L1prefiringWeight/Bin40\n",
      "LHEweight_QCDscale_muR0p5_muF1*p_Gen_GG_BKG_MCFM*KFactor_QCD_ggZZ_Nominal*((Z1Flav*Z2Flav)==(121*121) ||(Z1Flav*Z2Flav)==(169*169) ||(Z1Flav*Z2Flav)==(121*169)  )*137.1*(ZZMass>=220)*(EventTag==0)*1000*xsec*overallEventWeight*L1prefiringWeight/Bin40\n",
      "----------------------\n",
      "up: 5.878860083186055e-07\n",
      "dn: 8.679502947472884e-07\n",
      "LHEweight_QCDscale_muR1_muF2*p_Gen_GG_BKG_MCFM*KFactor_QCD_ggZZ_Nominal*((Z1Flav*Z2Flav)==(121*121) ||(Z1Flav*Z2Flav)==(169*169) ||(Z1Flav*Z2Flav)==(121*169)  )*137.1*(ZZMass>=220)*(EventTag==0)*1000*xsec*overallEventWeight*L1prefiringWeight/Bin40\n",
      "LHEweight_QCDscale_muR1_muF0p5*p_Gen_GG_BKG_MCFM*KFactor_QCD_ggZZ_Nominal*((Z1Flav*Z2Flav)==(121*121) ||(Z1Flav*Z2Flav)==(169*169) ||(Z1Flav*Z2Flav)==(121*169)  )*137.1*(ZZMass>=220)*(EventTag==0)*1000*xsec*overallEventWeight*L1prefiringWeight/Bin40\n",
      "----------------------\n",
      "up: 7.693006729425633e-07\n",
      "dn: 6.398615788327788e-07\n",
      "LHEweight_PDFVariation_Up*p_Gen_GG_BKG_MCFM*KFactor_QCD_ggZZ_Nominal*((Z1Flav*Z2Flav)==(121*121) ||(Z1Flav*Z2Flav)==(169*169) ||(Z1Flav*Z2Flav)==(121*169)  )*137.1*(ZZMass>=220)*(EventTag==0)*1000*xsec*overallEventWeight*L1prefiringWeight/Bin40\n",
      "LHEweight_PDFVariation_Dn*p_Gen_GG_BKG_MCFM*KFactor_QCD_ggZZ_Nominal*((Z1Flav*Z2Flav)==(121*121) ||(Z1Flav*Z2Flav)==(169*169) ||(Z1Flav*Z2Flav)==(121*169)  )*137.1*(ZZMass>=220)*(EventTag==0)*1000*xsec*overallEventWeight*L1prefiringWeight/Bin40\n",
      "----------------------\n",
      "up: 7.18482766615125e-07\n",
      "dn: 6.975105719675412e-07\n",
      "LHEweight_AsMZ_Up*p_Gen_GG_BKG_MCFM*KFactor_QCD_ggZZ_Nominal*((Z1Flav*Z2Flav)==(121*121) ||(Z1Flav*Z2Flav)==(169*169) ||(Z1Flav*Z2Flav)==(121*169)  )*137.1*(ZZMass>=220)*(EventTag==0)*1000*xsec*overallEventWeight*L1prefiringWeight/Bin40\n",
      "LHEweight_AsMZ_Dn*p_Gen_GG_BKG_MCFM*KFactor_QCD_ggZZ_Nominal*((Z1Flav*Z2Flav)==(121*121) ||(Z1Flav*Z2Flav)==(169*169) ||(Z1Flav*Z2Flav)==(121*169)  )*137.1*(ZZMass>=220)*(EventTag==0)*1000*xsec*overallEventWeight*L1prefiringWeight/Bin40\n",
      "----------------------\n",
      "up: 7.184431787266021e-07\n",
      "dn: 6.891964083877156e-07\n",
      "PythiaWeight_isr_muR4 * PythiaWeight_fsr_muR4*p_Gen_GG_BKG_MCFM*KFactor_QCD_ggZZ_Nominal*((Z1Flav*Z2Flav)==(121*121) ||(Z1Flav*Z2Flav)==(169*169) ||(Z1Flav*Z2Flav)==(121*169)  )*137.1*(ZZMass>=220)*(EventTag==0)*1000*xsec*overallEventWeight*L1prefiringWeight/Bin40\n",
      "PythiaWeight_isr_muR0p25 * PythiaWeight_fsr_muR0p25*p_Gen_GG_BKG_MCFM*KFactor_QCD_ggZZ_Nominal*((Z1Flav*Z2Flav)==(121*121) ||(Z1Flav*Z2Flav)==(169*169) ||(Z1Flav*Z2Flav)==(121*169)  )*137.1*(ZZMass>=220)*(EventTag==0)*1000*xsec*overallEventWeight*L1prefiringWeight/Bin40\n",
      "----------------------\n",
      "up: 6.810847210658721e-07\n",
      "dn: 4.1548262785795487e-07\n",
      "om nomnomm: 7.071553085324922e-07\n",
      "here 5.878860083186055e-07\n",
      "here 8.679502947472884e-07\n",
      "here 7.693006729425633e-07\n",
      "here 6.398615788327788e-07\n",
      "here 7.18482766615125e-07\n",
      "here 6.975105719675412e-07\n",
      "here 7.184431787266021e-07\n",
      "here 6.891964083877156e-07\n",
      "here 6.810847210658721e-07\n",
      "here 4.1548262785795487e-07\n"
     ]
    },
    {
     "data": {
      "application/vnd.jupyter.widget-view+json": {
       "model_id": "b99cf5ae6af34be59db60ff1477e97ed",
       "version_major": 2,
       "version_minor": 0
      },
      "text/plain": [
       "  0%|          | 0/1 [00:00<?, ?it/s]"
      ]
     },
     "metadata": {},
     "output_type": "display_data"
    },
    {
     "name": "stdout",
     "output_type": "stream",
     "text": [
      "/eos/user/s/skyriaco/Offshell/Syst/highmass/MC_18/200205_CutBased/MC_2018/HighMass/ggH145/ZZ4lAnalysis.root\n",
      "LHEweight_QCDscale_muR2_muF1*p_Gen_GG_BKG_MCFM*KFactor_QCD_ggZZ_Nominal*((Z1Flav*Z2Flav)==(121*121) ||(Z1Flav*Z2Flav)==(169*169) ||(Z1Flav*Z2Flav)==(121*169)  )*137.1*(ZZMass>=220)*(EventTag==0)*1000*xsec*overallEventWeight*L1prefiringWeight/Bin40\n",
      "LHEweight_QCDscale_muR0p5_muF1*p_Gen_GG_BKG_MCFM*KFactor_QCD_ggZZ_Nominal*((Z1Flav*Z2Flav)==(121*121) ||(Z1Flav*Z2Flav)==(169*169) ||(Z1Flav*Z2Flav)==(121*169)  )*137.1*(ZZMass>=220)*(EventTag==0)*1000*xsec*overallEventWeight*L1prefiringWeight/Bin40\n",
      "----------------------\n",
      "up: 3.6528881397098303\n",
      "dn: 2.2005268335342407\n",
      "LHEweight_QCDscale_muR1_muF2*p_Gen_GG_BKG_MCFM*KFactor_QCD_ggZZ_Nominal*((Z1Flav*Z2Flav)==(121*121) ||(Z1Flav*Z2Flav)==(169*169) ||(Z1Flav*Z2Flav)==(121*169)  )*137.1*(ZZMass>=220)*(EventTag==0)*1000*xsec*overallEventWeight*L1prefiringWeight/Bin40\n",
      "LHEweight_QCDscale_muR1_muF0p5*p_Gen_GG_BKG_MCFM*KFactor_QCD_ggZZ_Nominal*((Z1Flav*Z2Flav)==(121*121) ||(Z1Flav*Z2Flav)==(169*169) ||(Z1Flav*Z2Flav)==(121*169)  )*137.1*(ZZMass>=220)*(EventTag==0)*1000*xsec*overallEventWeight*L1prefiringWeight/Bin40\n",
      "----------------------\n",
      "up: 2.9357982724905014\n",
      "dn: 3.4771707952022552\n",
      "LHEweight_PDFVariation_Up*p_Gen_GG_BKG_MCFM*KFactor_QCD_ggZZ_Nominal*((Z1Flav*Z2Flav)==(121*121) ||(Z1Flav*Z2Flav)==(169*169) ||(Z1Flav*Z2Flav)==(121*169)  )*137.1*(ZZMass>=220)*(EventTag==0)*1000*xsec*overallEventWeight*L1prefiringWeight/Bin40\n",
      "LHEweight_PDFVariation_Dn*p_Gen_GG_BKG_MCFM*KFactor_QCD_ggZZ_Nominal*((Z1Flav*Z2Flav)==(121*121) ||(Z1Flav*Z2Flav)==(169*169) ||(Z1Flav*Z2Flav)==(121*169)  )*137.1*(ZZMass>=220)*(EventTag==0)*1000*xsec*overallEventWeight*L1prefiringWeight/Bin40\n",
      "----------------------\n",
      "up: 3.3580650612711906\n",
      "dn: 3.030676059424877\n",
      "LHEweight_AsMZ_Up*p_Gen_GG_BKG_MCFM*KFactor_QCD_ggZZ_Nominal*((Z1Flav*Z2Flav)==(121*121) ||(Z1Flav*Z2Flav)==(169*169) ||(Z1Flav*Z2Flav)==(121*169)  )*137.1*(ZZMass>=220)*(EventTag==0)*1000*xsec*overallEventWeight*L1prefiringWeight/Bin40\n",
      "LHEweight_AsMZ_Dn*p_Gen_GG_BKG_MCFM*KFactor_QCD_ggZZ_Nominal*((Z1Flav*Z2Flav)==(121*121) ||(Z1Flav*Z2Flav)==(169*169) ||(Z1Flav*Z2Flav)==(121*169)  )*137.1*(ZZMass>=220)*(EventTag==0)*1000*xsec*overallEventWeight*L1prefiringWeight/Bin40\n",
      "----------------------\n",
      "up: 3.116049610078335\n",
      "dn: 3.1884349584579468\n",
      "PythiaWeight_isr_muR4 * PythiaWeight_fsr_muR4*p_Gen_GG_BKG_MCFM*KFactor_QCD_ggZZ_Nominal*((Z1Flav*Z2Flav)==(121*121) ||(Z1Flav*Z2Flav)==(169*169) ||(Z1Flav*Z2Flav)==(121*169)  )*137.1*(ZZMass>=220)*(EventTag==0)*1000*xsec*overallEventWeight*L1prefiringWeight/Bin40\n",
      "PythiaWeight_isr_muR0p25 * PythiaWeight_fsr_muR0p25*p_Gen_GG_BKG_MCFM*KFactor_QCD_ggZZ_Nominal*((Z1Flav*Z2Flav)==(121*121) ||(Z1Flav*Z2Flav)==(169*169) ||(Z1Flav*Z2Flav)==(121*169)  )*137.1*(ZZMass>=220)*(EventTag==0)*1000*xsec*overallEventWeight*L1prefiringWeight/Bin40\n",
      "----------------------\n",
      "up: 3.7716256827116013\n",
      "dn: 0.47824411280453205\n",
      "om nomnomm: 3.192713551223278\n",
      "here 3.6528881397098303\n",
      "here 2.2005268335342407\n",
      "here 2.9357982724905014\n",
      "here 3.4771707952022552\n",
      "here 3.3580650612711906\n",
      "here 3.030676059424877\n",
      "here 3.116049610078335\n",
      "here 3.1884349584579468\n",
      "here 3.7716256827116013\n",
      "here 0.47824411280453205\n"
     ]
    },
    {
     "data": {
      "application/vnd.jupyter.widget-view+json": {
       "model_id": "28c45b27be8041b089c0c1290ca7cfd2",
       "version_major": 2,
       "version_minor": 0
      },
      "text/plain": [
       "  0%|          | 0/1 [00:00<?, ?it/s]"
      ]
     },
     "metadata": {},
     "output_type": "display_data"
    },
    {
     "name": "stdout",
     "output_type": "stream",
     "text": [
      "/eos/user/s/skyriaco/Offshell/Syst/highmass/MC_18/200205_CutBased/MC_2018/HighMass/ggH150/ZZ4lAnalysis.root\n",
      "LHEweight_QCDscale_muR2_muF1*p_Gen_GG_BKG_MCFM*KFactor_QCD_ggZZ_Nominal*((Z1Flav*Z2Flav)==(121*121) ||(Z1Flav*Z2Flav)==(169*169) ||(Z1Flav*Z2Flav)==(121*169)  )*137.1*(ZZMass>=220)*(EventTag==0)*1000*xsec*overallEventWeight*L1prefiringWeight/Bin40\n",
      "LHEweight_QCDscale_muR0p5_muF1*p_Gen_GG_BKG_MCFM*KFactor_QCD_ggZZ_Nominal*((Z1Flav*Z2Flav)==(121*121) ||(Z1Flav*Z2Flav)==(169*169) ||(Z1Flav*Z2Flav)==(121*169)  )*137.1*(ZZMass>=220)*(EventTag==0)*1000*xsec*overallEventWeight*L1prefiringWeight/Bin40\n",
      "----------------------\n",
      "up: 15.893492255008823\n",
      "dn: 20.98119308843225\n",
      "LHEweight_QCDscale_muR1_muF2*p_Gen_GG_BKG_MCFM*KFactor_QCD_ggZZ_Nominal*((Z1Flav*Z2Flav)==(121*121) ||(Z1Flav*Z2Flav)==(169*169) ||(Z1Flav*Z2Flav)==(121*169)  )*137.1*(ZZMass>=220)*(EventTag==0)*1000*xsec*overallEventWeight*L1prefiringWeight/Bin40\n",
      "LHEweight_QCDscale_muR1_muF0p5*p_Gen_GG_BKG_MCFM*KFactor_QCD_ggZZ_Nominal*((Z1Flav*Z2Flav)==(121*121) ||(Z1Flav*Z2Flav)==(169*169) ||(Z1Flav*Z2Flav)==(121*169)  )*137.1*(ZZMass>=220)*(EventTag==0)*1000*xsec*overallEventWeight*L1prefiringWeight/Bin40\n",
      "----------------------\n",
      "up: 17.806583135144777\n",
      "dn: 18.593888310030508\n",
      "LHEweight_PDFVariation_Up*p_Gen_GG_BKG_MCFM*KFactor_QCD_ggZZ_Nominal*((Z1Flav*Z2Flav)==(121*121) ||(Z1Flav*Z2Flav)==(169*169) ||(Z1Flav*Z2Flav)==(121*169)  )*137.1*(ZZMass>=220)*(EventTag==0)*1000*xsec*overallEventWeight*L1prefiringWeight/Bin40\n",
      "LHEweight_PDFVariation_Dn*p_Gen_GG_BKG_MCFM*KFactor_QCD_ggZZ_Nominal*((Z1Flav*Z2Flav)==(121*121) ||(Z1Flav*Z2Flav)==(169*169) ||(Z1Flav*Z2Flav)==(121*169)  )*137.1*(ZZMass>=220)*(EventTag==0)*1000*xsec*overallEventWeight*L1prefiringWeight/Bin40\n",
      "----------------------\n",
      "up: 18.541876775936913\n",
      "dn: 17.89135197550752\n",
      "LHEweight_AsMZ_Up*p_Gen_GG_BKG_MCFM*KFactor_QCD_ggZZ_Nominal*((Z1Flav*Z2Flav)==(121*121) ||(Z1Flav*Z2Flav)==(169*169) ||(Z1Flav*Z2Flav)==(121*169)  )*137.1*(ZZMass>=220)*(EventTag==0)*1000*xsec*overallEventWeight*L1prefiringWeight/Bin40\n",
      "LHEweight_AsMZ_Dn*p_Gen_GG_BKG_MCFM*KFactor_QCD_ggZZ_Nominal*((Z1Flav*Z2Flav)==(121*121) ||(Z1Flav*Z2Flav)==(169*169) ||(Z1Flav*Z2Flav)==(121*169)  )*137.1*(ZZMass>=220)*(EventTag==0)*1000*xsec*overallEventWeight*L1prefiringWeight/Bin40\n",
      "----------------------\n",
      "up: 18.356973571121415\n",
      "dn: 17.850057056888545\n",
      "PythiaWeight_isr_muR4 * PythiaWeight_fsr_muR4*p_Gen_GG_BKG_MCFM*KFactor_QCD_ggZZ_Nominal*((Z1Flav*Z2Flav)==(121*121) ||(Z1Flav*Z2Flav)==(169*169) ||(Z1Flav*Z2Flav)==(121*169)  )*137.1*(ZZMass>=220)*(EventTag==0)*1000*xsec*overallEventWeight*L1prefiringWeight/Bin40\n",
      "PythiaWeight_isr_muR0p25 * PythiaWeight_fsr_muR0p25*p_Gen_GG_BKG_MCFM*KFactor_QCD_ggZZ_Nominal*((Z1Flav*Z2Flav)==(121*121) ||(Z1Flav*Z2Flav)==(169*169) ||(Z1Flav*Z2Flav)==(121*169)  )*137.1*(ZZMass>=220)*(EventTag==0)*1000*xsec*overallEventWeight*L1prefiringWeight/Bin40\n",
      "----------------------\n",
      "up: 17.354637762263483\n",
      "dn: 23.011690031557436\n",
      "om nomnomm: 18.188365946235024\n",
      "here 15.893492255008823\n",
      "here 20.98119308843225\n",
      "here 17.806583135144777\n",
      "here 18.593888310030508\n",
      "here 18.541876775936913\n",
      "here 17.89135197550752\n",
      "here 18.356973571121415\n",
      "here 17.850057056888545\n",
      "here 17.354637762263483\n",
      "here 23.011690031557436\n"
     ]
    },
    {
     "data": {
      "application/vnd.jupyter.widget-view+json": {
       "model_id": "1552ae86be7c41d6a088f704131e89ea",
       "version_major": 2,
       "version_minor": 0
      },
      "text/plain": [
       "  0%|          | 0/1 [00:00<?, ?it/s]"
      ]
     },
     "metadata": {},
     "output_type": "display_data"
    },
    {
     "name": "stdout",
     "output_type": "stream",
     "text": [
      "/eos/user/s/skyriaco/Offshell/Syst/highmass/MC_18/200205_CutBased/MC_2018/HighMass/ggH1500/ZZ4lAnalysis.root\n",
      "LHEweight_QCDscale_muR2_muF1*p_Gen_GG_BKG_MCFM*KFactor_QCD_ggZZ_Nominal*((Z1Flav*Z2Flav)==(121*121) ||(Z1Flav*Z2Flav)==(169*169) ||(Z1Flav*Z2Flav)==(121*169)  )*137.1*(ZZMass>=220)*(EventTag==0)*1000*xsec*overallEventWeight*L1prefiringWeight/Bin40\n",
      "LHEweight_QCDscale_muR0p5_muF1*p_Gen_GG_BKG_MCFM*KFactor_QCD_ggZZ_Nominal*((Z1Flav*Z2Flav)==(121*121) ||(Z1Flav*Z2Flav)==(169*169) ||(Z1Flav*Z2Flav)==(121*169)  )*137.1*(ZZMass>=220)*(EventTag==0)*1000*xsec*overallEventWeight*L1prefiringWeight/Bin40\n",
      "----------------------\n",
      "up: 4723.01578908693\n",
      "dn: 6280.148115990683\n",
      "LHEweight_QCDscale_muR1_muF2*p_Gen_GG_BKG_MCFM*KFactor_QCD_ggZZ_Nominal*((Z1Flav*Z2Flav)==(121*121) ||(Z1Flav*Z2Flav)==(169*169) ||(Z1Flav*Z2Flav)==(121*169)  )*137.1*(ZZMass>=220)*(EventTag==0)*1000*xsec*overallEventWeight*L1prefiringWeight/Bin40\n",
      "LHEweight_QCDscale_muR1_muF0p5*p_Gen_GG_BKG_MCFM*KFactor_QCD_ggZZ_Nominal*((Z1Flav*Z2Flav)==(121*121) ||(Z1Flav*Z2Flav)==(169*169) ||(Z1Flav*Z2Flav)==(121*169)  )*137.1*(ZZMass>=220)*(EventTag==0)*1000*xsec*overallEventWeight*L1prefiringWeight/Bin40\n",
      "----------------------\n",
      "up: 5331.988117128611\n",
      "dn: 5518.03109059087\n",
      "LHEweight_PDFVariation_Up*p_Gen_GG_BKG_MCFM*KFactor_QCD_ggZZ_Nominal*((Z1Flav*Z2Flav)==(121*121) ||(Z1Flav*Z2Flav)==(169*169) ||(Z1Flav*Z2Flav)==(121*169)  )*137.1*(ZZMass>=220)*(EventTag==0)*1000*xsec*overallEventWeight*L1prefiringWeight/Bin40\n",
      "LHEweight_PDFVariation_Dn*p_Gen_GG_BKG_MCFM*KFactor_QCD_ggZZ_Nominal*((Z1Flav*Z2Flav)==(121*121) ||(Z1Flav*Z2Flav)==(169*169) ||(Z1Flav*Z2Flav)==(121*169)  )*137.1*(ZZMass>=220)*(EventTag==0)*1000*xsec*overallEventWeight*L1prefiringWeight/Bin40\n",
      "----------------------\n",
      "up: 5518.094092602842\n",
      "dn: 5335.385138546117\n",
      "LHEweight_AsMZ_Up*p_Gen_GG_BKG_MCFM*KFactor_QCD_ggZZ_Nominal*((Z1Flav*Z2Flav)==(121*121) ||(Z1Flav*Z2Flav)==(169*169) ||(Z1Flav*Z2Flav)==(121*169)  )*137.1*(ZZMass>=220)*(EventTag==0)*1000*xsec*overallEventWeight*L1prefiringWeight/Bin40\n",
      "LHEweight_AsMZ_Dn*p_Gen_GG_BKG_MCFM*KFactor_QCD_ggZZ_Nominal*((Z1Flav*Z2Flav)==(121*121) ||(Z1Flav*Z2Flav)==(169*169) ||(Z1Flav*Z2Flav)==(121*169)  )*137.1*(ZZMass>=220)*(EventTag==0)*1000*xsec*overallEventWeight*L1prefiringWeight/Bin40\n",
      "----------------------\n",
      "up: 5475.634879303165\n",
      "dn: 5318.94506955659\n",
      "PythiaWeight_isr_muR4 * PythiaWeight_fsr_muR4*p_Gen_GG_BKG_MCFM*KFactor_QCD_ggZZ_Nominal*((Z1Flav*Z2Flav)==(121*121) ||(Z1Flav*Z2Flav)==(169*169) ||(Z1Flav*Z2Flav)==(121*169)  )*137.1*(ZZMass>=220)*(EventTag==0)*1000*xsec*overallEventWeight*L1prefiringWeight/Bin40\n",
      "PythiaWeight_isr_muR0p25 * PythiaWeight_fsr_muR0p25*p_Gen_GG_BKG_MCFM*KFactor_QCD_ggZZ_Nominal*((Z1Flav*Z2Flav)==(121*121) ||(Z1Flav*Z2Flav)==(169*169) ||(Z1Flav*Z2Flav)==(121*169)  )*137.1*(ZZMass>=220)*(EventTag==0)*1000*xsec*overallEventWeight*L1prefiringWeight/Bin40\n",
      "----------------------\n",
      "up: 5227.600876160897\n",
      "dn: 4196.216059059603\n",
      "om nomnomm: 5420.7889411377255\n",
      "here 4723.01578908693\n",
      "here 6280.148115990683\n",
      "here 5331.988117128611\n",
      "here 5518.03109059087\n",
      "here 5518.094092602842\n",
      "here 5335.385138546117\n",
      "here 5475.634879303165\n",
      "here 5318.94506955659\n",
      "here 5227.600876160897\n",
      "here 4196.216059059603\n"
     ]
    },
    {
     "data": {
      "application/vnd.jupyter.widget-view+json": {
       "model_id": "5b27591aa5e94e24a587c03c6fb097e6",
       "version_major": 2,
       "version_minor": 0
      },
      "text/plain": [
       "  0%|          | 0/1 [00:00<?, ?it/s]"
      ]
     },
     "metadata": {},
     "output_type": "display_data"
    },
    {
     "name": "stdout",
     "output_type": "stream",
     "text": [
      "/eos/user/s/skyriaco/Offshell/Syst/highmass/MC_18/200205_CutBased/MC_2018/HighMass/ggH155/ZZ4lAnalysis.root\n",
      "LHEweight_QCDscale_muR2_muF1*p_Gen_GG_BKG_MCFM*KFactor_QCD_ggZZ_Nominal*((Z1Flav*Z2Flav)==(121*121) ||(Z1Flav*Z2Flav)==(169*169) ||(Z1Flav*Z2Flav)==(121*169)  )*137.1*(ZZMass>=220)*(EventTag==0)*1000*xsec*overallEventWeight*L1prefiringWeight/Bin40\n",
      "LHEweight_QCDscale_muR0p5_muF1*p_Gen_GG_BKG_MCFM*KFactor_QCD_ggZZ_Nominal*((Z1Flav*Z2Flav)==(121*121) ||(Z1Flav*Z2Flav)==(169*169) ||(Z1Flav*Z2Flav)==(121*169)  )*137.1*(ZZMass>=220)*(EventTag==0)*1000*xsec*overallEventWeight*L1prefiringWeight/Bin40\n",
      "----------------------\n",
      "up: 108.07589846849442\n",
      "dn: 142.4948137998581\n",
      "LHEweight_QCDscale_muR1_muF2*p_Gen_GG_BKG_MCFM*KFactor_QCD_ggZZ_Nominal*((Z1Flav*Z2Flav)==(121*121) ||(Z1Flav*Z2Flav)==(169*169) ||(Z1Flav*Z2Flav)==(121*169)  )*137.1*(ZZMass>=220)*(EventTag==0)*1000*xsec*overallEventWeight*L1prefiringWeight/Bin40\n",
      "LHEweight_QCDscale_muR1_muF0p5*p_Gen_GG_BKG_MCFM*KFactor_QCD_ggZZ_Nominal*((Z1Flav*Z2Flav)==(121*121) ||(Z1Flav*Z2Flav)==(169*169) ||(Z1Flav*Z2Flav)==(121*169)  )*137.1*(ZZMass>=220)*(EventTag==0)*1000*xsec*overallEventWeight*L1prefiringWeight/Bin40\n",
      "----------------------\n",
      "up: 123.07771581411362\n",
      "dn: 124.19509267807007\n",
      "LHEweight_PDFVariation_Up*p_Gen_GG_BKG_MCFM*KFactor_QCD_ggZZ_Nominal*((Z1Flav*Z2Flav)==(121*121) ||(Z1Flav*Z2Flav)==(169*169) ||(Z1Flav*Z2Flav)==(121*169)  )*137.1*(ZZMass>=220)*(EventTag==0)*1000*xsec*overallEventWeight*L1prefiringWeight/Bin40\n",
      "LHEweight_PDFVariation_Dn*p_Gen_GG_BKG_MCFM*KFactor_QCD_ggZZ_Nominal*((Z1Flav*Z2Flav)==(121*121) ||(Z1Flav*Z2Flav)==(169*169) ||(Z1Flav*Z2Flav)==(121*169)  )*137.1*(ZZMass>=220)*(EventTag==0)*1000*xsec*overallEventWeight*L1prefiringWeight/Bin40\n",
      "----------------------\n",
      "up: 125.86793828010559\n",
      "dn: 121.63698768615723\n",
      "LHEweight_AsMZ_Up*p_Gen_GG_BKG_MCFM*KFactor_QCD_ggZZ_Nominal*((Z1Flav*Z2Flav)==(121*121) ||(Z1Flav*Z2Flav)==(169*169) ||(Z1Flav*Z2Flav)==(121*169)  )*137.1*(ZZMass>=220)*(EventTag==0)*1000*xsec*overallEventWeight*L1prefiringWeight/Bin40\n",
      "LHEweight_AsMZ_Dn*p_Gen_GG_BKG_MCFM*KFactor_QCD_ggZZ_Nominal*((Z1Flav*Z2Flav)==(121*121) ||(Z1Flav*Z2Flav)==(169*169) ||(Z1Flav*Z2Flav)==(121*169)  )*137.1*(ZZMass>=220)*(EventTag==0)*1000*xsec*overallEventWeight*L1prefiringWeight/Bin40\n",
      "----------------------\n",
      "up: 124.88968050479889\n",
      "dn: 121.22113537788391\n",
      "PythiaWeight_isr_muR4 * PythiaWeight_fsr_muR4*p_Gen_GG_BKG_MCFM*KFactor_QCD_ggZZ_Nominal*((Z1Flav*Z2Flav)==(121*121) ||(Z1Flav*Z2Flav)==(169*169) ||(Z1Flav*Z2Flav)==(121*169)  )*137.1*(ZZMass>=220)*(EventTag==0)*1000*xsec*overallEventWeight*L1prefiringWeight/Bin40\n",
      "PythiaWeight_isr_muR0p25 * PythiaWeight_fsr_muR0p25*p_Gen_GG_BKG_MCFM*KFactor_QCD_ggZZ_Nominal*((Z1Flav*Z2Flav)==(121*121) ||(Z1Flav*Z2Flav)==(169*169) ||(Z1Flav*Z2Flav)==(121*169)  )*137.1*(ZZMass>=220)*(EventTag==0)*1000*xsec*overallEventWeight*L1prefiringWeight/Bin40\n",
      "----------------------\n",
      "up: 119.2629429101944\n",
      "dn: 125.30960449576378\n",
      "om nomnomm: 123.59577333927155\n",
      "here 108.07589846849442\n",
      "here 142.4948137998581\n",
      "here 123.07771581411362\n",
      "here 124.19509267807007\n",
      "here 125.86793828010559\n",
      "here 121.63698768615723\n",
      "here 124.88968050479889\n",
      "here 121.22113537788391\n",
      "here 119.2629429101944\n",
      "here 125.30960449576378\n"
     ]
    },
    {
     "data": {
      "application/vnd.jupyter.widget-view+json": {
       "model_id": "1a0e8bbe2b104394addc10a950d48713",
       "version_major": 2,
       "version_minor": 0
      },
      "text/plain": [
       "  0%|          | 0/1 [00:00<?, ?it/s]"
      ]
     },
     "metadata": {},
     "output_type": "display_data"
    },
    {
     "name": "stdout",
     "output_type": "stream",
     "text": [
      "/eos/user/s/skyriaco/Offshell/Syst/highmass/MC_18/200205_CutBased/MC_2018/HighMass/ggH160/ZZ4lAnalysis.root\n",
      "LHEweight_QCDscale_muR2_muF1*p_Gen_GG_BKG_MCFM*KFactor_QCD_ggZZ_Nominal*((Z1Flav*Z2Flav)==(121*121) ||(Z1Flav*Z2Flav)==(169*169) ||(Z1Flav*Z2Flav)==(121*169)  )*137.1*(ZZMass>=220)*(EventTag==0)*1000*xsec*overallEventWeight*L1prefiringWeight/Bin40\n",
      "LHEweight_QCDscale_muR0p5_muF1*p_Gen_GG_BKG_MCFM*KFactor_QCD_ggZZ_Nominal*((Z1Flav*Z2Flav)==(121*121) ||(Z1Flav*Z2Flav)==(169*169) ||(Z1Flav*Z2Flav)==(121*169)  )*137.1*(ZZMass>=220)*(EventTag==0)*1000*xsec*overallEventWeight*L1prefiringWeight/Bin40\n",
      "----------------------\n",
      "up: 80.97532461583614\n",
      "dn: 108.24606635421515\n",
      "LHEweight_QCDscale_muR1_muF2*p_Gen_GG_BKG_MCFM*KFactor_QCD_ggZZ_Nominal*((Z1Flav*Z2Flav)==(121*121) ||(Z1Flav*Z2Flav)==(169*169) ||(Z1Flav*Z2Flav)==(121*169)  )*137.1*(ZZMass>=220)*(EventTag==0)*1000*xsec*overallEventWeight*L1prefiringWeight/Bin40\n",
      "LHEweight_QCDscale_muR1_muF0p5*p_Gen_GG_BKG_MCFM*KFactor_QCD_ggZZ_Nominal*((Z1Flav*Z2Flav)==(121*121) ||(Z1Flav*Z2Flav)==(169*169) ||(Z1Flav*Z2Flav)==(121*169)  )*137.1*(ZZMass>=220)*(EventTag==0)*1000*xsec*overallEventWeight*L1prefiringWeight/Bin40\n",
      "----------------------\n",
      "up: 92.02527488768101\n",
      "dn: 94.36579293757677\n",
      "LHEweight_PDFVariation_Up*p_Gen_GG_BKG_MCFM*KFactor_QCD_ggZZ_Nominal*((Z1Flav*Z2Flav)==(121*121) ||(Z1Flav*Z2Flav)==(169*169) ||(Z1Flav*Z2Flav)==(121*169)  )*137.1*(ZZMass>=220)*(EventTag==0)*1000*xsec*overallEventWeight*L1prefiringWeight/Bin40\n",
      "LHEweight_PDFVariation_Dn*p_Gen_GG_BKG_MCFM*KFactor_QCD_ggZZ_Nominal*((Z1Flav*Z2Flav)==(121*121) ||(Z1Flav*Z2Flav)==(169*169) ||(Z1Flav*Z2Flav)==(121*169)  )*137.1*(ZZMass>=220)*(EventTag==0)*1000*xsec*overallEventWeight*L1prefiringWeight/Bin40\n",
      "----------------------\n",
      "up: 94.96120350807905\n",
      "dn: 91.52858867496252\n",
      "LHEweight_AsMZ_Up*p_Gen_GG_BKG_MCFM*KFactor_QCD_ggZZ_Nominal*((Z1Flav*Z2Flav)==(121*121) ||(Z1Flav*Z2Flav)==(169*169) ||(Z1Flav*Z2Flav)==(121*169)  )*137.1*(ZZMass>=220)*(EventTag==0)*1000*xsec*overallEventWeight*L1prefiringWeight/Bin40\n",
      "LHEweight_AsMZ_Dn*p_Gen_GG_BKG_MCFM*KFactor_QCD_ggZZ_Nominal*((Z1Flav*Z2Flav)==(121*121) ||(Z1Flav*Z2Flav)==(169*169) ||(Z1Flav*Z2Flav)==(121*169)  )*137.1*(ZZMass>=220)*(EventTag==0)*1000*xsec*overallEventWeight*L1prefiringWeight/Bin40\n",
      "----------------------\n",
      "up: 94.11777099967003\n",
      "dn: 91.37235522270203\n",
      "PythiaWeight_isr_muR4 * PythiaWeight_fsr_muR4*p_Gen_GG_BKG_MCFM*KFactor_QCD_ggZZ_Nominal*((Z1Flav*Z2Flav)==(121*121) ||(Z1Flav*Z2Flav)==(169*169) ||(Z1Flav*Z2Flav)==(121*169)  )*137.1*(ZZMass>=220)*(EventTag==0)*1000*xsec*overallEventWeight*L1prefiringWeight/Bin40\n",
      "PythiaWeight_isr_muR0p25 * PythiaWeight_fsr_muR0p25*p_Gen_GG_BKG_MCFM*KFactor_QCD_ggZZ_Nominal*((Z1Flav*Z2Flav)==(121*121) ||(Z1Flav*Z2Flav)==(169*169) ||(Z1Flav*Z2Flav)==(121*169)  )*137.1*(ZZMass>=220)*(EventTag==0)*1000*xsec*overallEventWeight*L1prefiringWeight/Bin40\n",
      "----------------------\n",
      "up: 90.66845370084047\n",
      "dn: 110.60822276864201\n",
      "om nomnomm: 93.13728542625904\n",
      "here 80.97532461583614\n",
      "here 108.24606635421515\n",
      "here 92.02527488768101\n",
      "here 94.36579293757677\n",
      "here 94.96120350807905\n",
      "here 91.52858867496252\n",
      "here 94.11777099967003\n",
      "here 91.37235522270203\n",
      "here 90.66845370084047\n",
      "here 110.60822276864201\n"
     ]
    },
    {
     "data": {
      "application/vnd.jupyter.widget-view+json": {
       "model_id": "e10caa47c8c54479a4bbf9553e47de96",
       "version_major": 2,
       "version_minor": 0
      },
      "text/plain": [
       "  0%|          | 0/1 [00:00<?, ?it/s]"
      ]
     },
     "metadata": {},
     "output_type": "display_data"
    },
    {
     "name": "stdout",
     "output_type": "stream",
     "text": [
      "/eos/user/s/skyriaco/Offshell/Syst/highmass/MC_18/200205_CutBased/MC_2018/HighMass/ggH165/ZZ4lAnalysis.root\n",
      "LHEweight_QCDscale_muR2_muF1*p_Gen_GG_BKG_MCFM*KFactor_QCD_ggZZ_Nominal*((Z1Flav*Z2Flav)==(121*121) ||(Z1Flav*Z2Flav)==(169*169) ||(Z1Flav*Z2Flav)==(121*169)  )*137.1*(ZZMass>=220)*(EventTag==0)*1000*xsec*overallEventWeight*L1prefiringWeight/Bin40\n",
      "LHEweight_QCDscale_muR0p5_muF1*p_Gen_GG_BKG_MCFM*KFactor_QCD_ggZZ_Nominal*((Z1Flav*Z2Flav)==(121*121) ||(Z1Flav*Z2Flav)==(169*169) ||(Z1Flav*Z2Flav)==(121*169)  )*137.1*(ZZMass>=220)*(EventTag==0)*1000*xsec*overallEventWeight*L1prefiringWeight/Bin40\n",
      "----------------------\n",
      "up: 44.15610633790493\n",
      "dn: 58.729026570916176\n",
      "LHEweight_QCDscale_muR1_muF2*p_Gen_GG_BKG_MCFM*KFactor_QCD_ggZZ_Nominal*((Z1Flav*Z2Flav)==(121*121) ||(Z1Flav*Z2Flav)==(169*169) ||(Z1Flav*Z2Flav)==(121*169)  )*137.1*(ZZMass>=220)*(EventTag==0)*1000*xsec*overallEventWeight*L1prefiringWeight/Bin40\n",
      "LHEweight_QCDscale_muR1_muF0p5*p_Gen_GG_BKG_MCFM*KFactor_QCD_ggZZ_Nominal*((Z1Flav*Z2Flav)==(121*121) ||(Z1Flav*Z2Flav)==(169*169) ||(Z1Flav*Z2Flav)==(121*169)  )*137.1*(ZZMass>=220)*(EventTag==0)*1000*xsec*overallEventWeight*L1prefiringWeight/Bin40\n",
      "----------------------\n",
      "up: 50.340920098125935\n",
      "dn: 51.07546743750572\n",
      "LHEweight_PDFVariation_Up*p_Gen_GG_BKG_MCFM*KFactor_QCD_ggZZ_Nominal*((Z1Flav*Z2Flav)==(121*121) ||(Z1Flav*Z2Flav)==(169*169) ||(Z1Flav*Z2Flav)==(121*169)  )*137.1*(ZZMass>=220)*(EventTag==0)*1000*xsec*overallEventWeight*L1prefiringWeight/Bin40\n",
      "LHEweight_PDFVariation_Dn*p_Gen_GG_BKG_MCFM*KFactor_QCD_ggZZ_Nominal*((Z1Flav*Z2Flav)==(121*121) ||(Z1Flav*Z2Flav)==(169*169) ||(Z1Flav*Z2Flav)==(121*169)  )*137.1*(ZZMass>=220)*(EventTag==0)*1000*xsec*overallEventWeight*L1prefiringWeight/Bin40\n",
      "----------------------\n",
      "up: 51.650330901145935\n",
      "dn: 49.83125791698694\n",
      "LHEweight_AsMZ_Up*p_Gen_GG_BKG_MCFM*KFactor_QCD_ggZZ_Nominal*((Z1Flav*Z2Flav)==(121*121) ||(Z1Flav*Z2Flav)==(169*169) ||(Z1Flav*Z2Flav)==(121*169)  )*137.1*(ZZMass>=220)*(EventTag==0)*1000*xsec*overallEventWeight*L1prefiringWeight/Bin40\n",
      "LHEweight_AsMZ_Dn*p_Gen_GG_BKG_MCFM*KFactor_QCD_ggZZ_Nominal*((Z1Flav*Z2Flav)==(121*121) ||(Z1Flav*Z2Flav)==(169*169) ||(Z1Flav*Z2Flav)==(121*169)  )*137.1*(ZZMass>=220)*(EventTag==0)*1000*xsec*overallEventWeight*L1prefiringWeight/Bin40\n",
      "----------------------\n",
      "up: 51.201902255415916\n",
      "dn: 49.738050907850266\n",
      "PythiaWeight_isr_muR4 * PythiaWeight_fsr_muR4*p_Gen_GG_BKG_MCFM*KFactor_QCD_ggZZ_Nominal*((Z1Flav*Z2Flav)==(121*121) ||(Z1Flav*Z2Flav)==(169*169) ||(Z1Flav*Z2Flav)==(121*169)  )*137.1*(ZZMass>=220)*(EventTag==0)*1000*xsec*overallEventWeight*L1prefiringWeight/Bin40\n",
      "PythiaWeight_isr_muR0p25 * PythiaWeight_fsr_muR0p25*p_Gen_GG_BKG_MCFM*KFactor_QCD_ggZZ_Nominal*((Z1Flav*Z2Flav)==(121*121) ||(Z1Flav*Z2Flav)==(169*169) ||(Z1Flav*Z2Flav)==(121*169)  )*137.1*(ZZMass>=220)*(EventTag==0)*1000*xsec*overallEventWeight*L1prefiringWeight/Bin40\n",
      "----------------------\n",
      "up: 48.57700237631798\n",
      "dn: 52.681466564536095\n",
      "om nomnomm: 50.68416728824377\n",
      "here 44.15610633790493\n",
      "here 58.729026570916176\n",
      "here 50.340920098125935\n",
      "here 51.07546743750572\n",
      "here 51.650330901145935\n",
      "here 49.83125791698694\n",
      "here 51.201902255415916\n",
      "here 49.738050907850266\n",
      "here 48.57700237631798\n",
      "here 52.681466564536095\n"
     ]
    },
    {
     "data": {
      "application/vnd.jupyter.widget-view+json": {
       "model_id": "bbc38af3e3fb407abe04ddb3b756efc3",
       "version_major": 2,
       "version_minor": 0
      },
      "text/plain": [
       "  0%|          | 0/1 [00:00<?, ?it/s]"
      ]
     },
     "metadata": {},
     "output_type": "display_data"
    },
    {
     "name": "stdout",
     "output_type": "stream",
     "text": [
      "/eos/user/s/skyriaco/Offshell/Syst/highmass/MC_18/200205_CutBased/MC_2018/HighMass/ggH170/ZZ4lAnalysis.root\n",
      "LHEweight_QCDscale_muR2_muF1*p_Gen_GG_BKG_MCFM*KFactor_QCD_ggZZ_Nominal*((Z1Flav*Z2Flav)==(121*121) ||(Z1Flav*Z2Flav)==(169*169) ||(Z1Flav*Z2Flav)==(121*169)  )*137.1*(ZZMass>=220)*(EventTag==0)*1000*xsec*overallEventWeight*L1prefiringWeight/Bin40\n",
      "LHEweight_QCDscale_muR0p5_muF1*p_Gen_GG_BKG_MCFM*KFactor_QCD_ggZZ_Nominal*((Z1Flav*Z2Flav)==(121*121) ||(Z1Flav*Z2Flav)==(169*169) ||(Z1Flav*Z2Flav)==(121*169)  )*137.1*(ZZMass>=220)*(EventTag==0)*1000*xsec*overallEventWeight*L1prefiringWeight/Bin40\n",
      "----------------------\n",
      "up: 43.68027001898736\n",
      "dn: 58.5185431772843\n",
      "LHEweight_QCDscale_muR1_muF2*p_Gen_GG_BKG_MCFM*KFactor_QCD_ggZZ_Nominal*((Z1Flav*Z2Flav)==(121*121) ||(Z1Flav*Z2Flav)==(169*169) ||(Z1Flav*Z2Flav)==(121*169)  )*137.1*(ZZMass>=220)*(EventTag==0)*1000*xsec*overallEventWeight*L1prefiringWeight/Bin40\n",
      "LHEweight_QCDscale_muR1_muF0p5*p_Gen_GG_BKG_MCFM*KFactor_QCD_ggZZ_Nominal*((Z1Flav*Z2Flav)==(121*121) ||(Z1Flav*Z2Flav)==(169*169) ||(Z1Flav*Z2Flav)==(121*169)  )*137.1*(ZZMass>=220)*(EventTag==0)*1000*xsec*overallEventWeight*L1prefiringWeight/Bin40\n",
      "----------------------\n",
      "up: 50.02297813957557\n",
      "dn: 50.60940167680383\n",
      "LHEweight_PDFVariation_Up*p_Gen_GG_BKG_MCFM*KFactor_QCD_ggZZ_Nominal*((Z1Flav*Z2Flav)==(121*121) ||(Z1Flav*Z2Flav)==(169*169) ||(Z1Flav*Z2Flav)==(121*169)  )*137.1*(ZZMass>=220)*(EventTag==0)*1000*xsec*overallEventWeight*L1prefiringWeight/Bin40\n",
      "LHEweight_PDFVariation_Dn*p_Gen_GG_BKG_MCFM*KFactor_QCD_ggZZ_Nominal*((Z1Flav*Z2Flav)==(121*121) ||(Z1Flav*Z2Flav)==(169*169) ||(Z1Flav*Z2Flav)==(121*169)  )*137.1*(ZZMass>=220)*(EventTag==0)*1000*xsec*overallEventWeight*L1prefiringWeight/Bin40\n",
      "----------------------\n",
      "up: 51.256763740908355\n",
      "dn: 49.45282058790326\n",
      "LHEweight_AsMZ_Up*p_Gen_GG_BKG_MCFM*KFactor_QCD_ggZZ_Nominal*((Z1Flav*Z2Flav)==(121*121) ||(Z1Flav*Z2Flav)==(169*169) ||(Z1Flav*Z2Flav)==(121*169)  )*137.1*(ZZMass>=220)*(EventTag==0)*1000*xsec*overallEventWeight*L1prefiringWeight/Bin40\n",
      "LHEweight_AsMZ_Dn*p_Gen_GG_BKG_MCFM*KFactor_QCD_ggZZ_Nominal*((Z1Flav*Z2Flav)==(121*121) ||(Z1Flav*Z2Flav)==(169*169) ||(Z1Flav*Z2Flav)==(121*169)  )*137.1*(ZZMass>=220)*(EventTag==0)*1000*xsec*overallEventWeight*L1prefiringWeight/Bin40\n",
      "----------------------\n",
      "up: 50.84011380234733\n",
      "dn: 49.33556065382436\n",
      "PythiaWeight_isr_muR4 * PythiaWeight_fsr_muR4*p_Gen_GG_BKG_MCFM*KFactor_QCD_ggZZ_Nominal*((Z1Flav*Z2Flav)==(121*121) ||(Z1Flav*Z2Flav)==(169*169) ||(Z1Flav*Z2Flav)==(121*169)  )*137.1*(ZZMass>=220)*(EventTag==0)*1000*xsec*overallEventWeight*L1prefiringWeight/Bin40\n",
      "PythiaWeight_isr_muR0p25 * PythiaWeight_fsr_muR0p25*p_Gen_GG_BKG_MCFM*KFactor_QCD_ggZZ_Nominal*((Z1Flav*Z2Flav)==(121*121) ||(Z1Flav*Z2Flav)==(169*169) ||(Z1Flav*Z2Flav)==(121*169)  )*137.1*(ZZMass>=220)*(EventTag==0)*1000*xsec*overallEventWeight*L1prefiringWeight/Bin40\n",
      "----------------------\n",
      "up: 54.2661716863513\n",
      "dn: 44.233582985325484\n",
      "om nomnomm: 50.2945888992399\n",
      "here 43.68027001898736\n",
      "here 58.5185431772843\n",
      "here 50.02297813957557\n",
      "here 50.60940167680383\n",
      "here 51.256763740908355\n",
      "here 49.45282058790326\n",
      "here 50.84011380234733\n",
      "here 49.33556065382436\n",
      "here 54.2661716863513\n",
      "here 44.233582985325484\n"
     ]
    },
    {
     "data": {
      "application/vnd.jupyter.widget-view+json": {
       "model_id": "d1a58309d69c4360b2206734ecf1a491",
       "version_major": 2,
       "version_minor": 0
      },
      "text/plain": [
       "  0%|          | 0/1 [00:00<?, ?it/s]"
      ]
     },
     "metadata": {},
     "output_type": "display_data"
    },
    {
     "name": "stdout",
     "output_type": "stream",
     "text": [
      "/eos/user/s/skyriaco/Offshell/Syst/highmass/MC_18/200205_CutBased/MC_2018/HighMass/ggH175/ZZ4lAnalysis.root\n",
      "LHEweight_QCDscale_muR2_muF1*p_Gen_GG_BKG_MCFM*KFactor_QCD_ggZZ_Nominal*((Z1Flav*Z2Flav)==(121*121) ||(Z1Flav*Z2Flav)==(169*169) ||(Z1Flav*Z2Flav)==(121*169)  )*137.1*(ZZMass>=220)*(EventTag==0)*1000*xsec*overallEventWeight*L1prefiringWeight/Bin40\n",
      "LHEweight_QCDscale_muR0p5_muF1*p_Gen_GG_BKG_MCFM*KFactor_QCD_ggZZ_Nominal*((Z1Flav*Z2Flav)==(121*121) ||(Z1Flav*Z2Flav)==(169*169) ||(Z1Flav*Z2Flav)==(121*169)  )*137.1*(ZZMass>=220)*(EventTag==0)*1000*xsec*overallEventWeight*L1prefiringWeight/Bin40\n",
      "----------------------\n",
      "up: 56.367718294262886\n",
      "dn: 72.64993457868695\n",
      "LHEweight_QCDscale_muR1_muF2*p_Gen_GG_BKG_MCFM*KFactor_QCD_ggZZ_Nominal*((Z1Flav*Z2Flav)==(121*121) ||(Z1Flav*Z2Flav)==(169*169) ||(Z1Flav*Z2Flav)==(121*169)  )*137.1*(ZZMass>=220)*(EventTag==0)*1000*xsec*overallEventWeight*L1prefiringWeight/Bin40\n",
      "LHEweight_QCDscale_muR1_muF0p5*p_Gen_GG_BKG_MCFM*KFactor_QCD_ggZZ_Nominal*((Z1Flav*Z2Flav)==(121*121) ||(Z1Flav*Z2Flav)==(169*169) ||(Z1Flav*Z2Flav)==(121*169)  )*137.1*(ZZMass>=220)*(EventTag==0)*1000*xsec*overallEventWeight*L1prefiringWeight/Bin40\n",
      "----------------------\n",
      "up: 63.06640633195639\n",
      "dn: 64.64819869026542\n",
      "LHEweight_PDFVariation_Up*p_Gen_GG_BKG_MCFM*KFactor_QCD_ggZZ_Nominal*((Z1Flav*Z2Flav)==(121*121) ||(Z1Flav*Z2Flav)==(169*169) ||(Z1Flav*Z2Flav)==(121*169)  )*137.1*(ZZMass>=220)*(EventTag==0)*1000*xsec*overallEventWeight*L1prefiringWeight/Bin40\n",
      "LHEweight_PDFVariation_Dn*p_Gen_GG_BKG_MCFM*KFactor_QCD_ggZZ_Nominal*((Z1Flav*Z2Flav)==(121*121) ||(Z1Flav*Z2Flav)==(169*169) ||(Z1Flav*Z2Flav)==(121*169)  )*137.1*(ZZMass>=220)*(EventTag==0)*1000*xsec*overallEventWeight*L1prefiringWeight/Bin40\n",
      "----------------------\n",
      "up: 65.14500968530774\n",
      "dn: 62.64334014430642\n",
      "LHEweight_AsMZ_Up*p_Gen_GG_BKG_MCFM*KFactor_QCD_ggZZ_Nominal*((Z1Flav*Z2Flav)==(121*121) ||(Z1Flav*Z2Flav)==(169*169) ||(Z1Flav*Z2Flav)==(121*169)  )*137.1*(ZZMass>=220)*(EventTag==0)*1000*xsec*overallEventWeight*L1prefiringWeight/Bin40\n",
      "LHEweight_AsMZ_Dn*p_Gen_GG_BKG_MCFM*KFactor_QCD_ggZZ_Nominal*((Z1Flav*Z2Flav)==(121*121) ||(Z1Flav*Z2Flav)==(169*169) ||(Z1Flav*Z2Flav)==(121*169)  )*137.1*(ZZMass>=220)*(EventTag==0)*1000*xsec*overallEventWeight*L1prefiringWeight/Bin40\n",
      "----------------------\n",
      "up: 64.40786220878363\n",
      "dn: 62.67589628696442\n",
      "PythiaWeight_isr_muR4 * PythiaWeight_fsr_muR4*p_Gen_GG_BKG_MCFM*KFactor_QCD_ggZZ_Nominal*((Z1Flav*Z2Flav)==(121*121) ||(Z1Flav*Z2Flav)==(169*169) ||(Z1Flav*Z2Flav)==(121*169)  )*137.1*(ZZMass>=220)*(EventTag==0)*1000*xsec*overallEventWeight*L1prefiringWeight/Bin40\n",
      "PythiaWeight_isr_muR0p25 * PythiaWeight_fsr_muR0p25*p_Gen_GG_BKG_MCFM*KFactor_QCD_ggZZ_Nominal*((Z1Flav*Z2Flav)==(121*121) ||(Z1Flav*Z2Flav)==(169*169) ||(Z1Flav*Z2Flav)==(121*169)  )*137.1*(ZZMass>=220)*(EventTag==0)*1000*xsec*overallEventWeight*L1prefiringWeight/Bin40\n",
      "----------------------\n",
      "up: 64.1613424886018\n",
      "dn: 54.78807965479791\n",
      "om nomnomm: 63.8156522475183\n",
      "here 56.367718294262886\n",
      "here 72.64993457868695\n",
      "here 63.06640633195639\n",
      "here 64.64819869026542\n",
      "here 65.14500968530774\n",
      "here 62.64334014430642\n",
      "here 64.40786220878363\n",
      "here 62.67589628696442\n",
      "here 64.1613424886018\n",
      "here 54.78807965479791\n"
     ]
    },
    {
     "data": {
      "application/vnd.jupyter.widget-view+json": {
       "model_id": "34233583423f456f8cb7817ebc0dea09",
       "version_major": 2,
       "version_minor": 0
      },
      "text/plain": [
       "  0%|          | 0/1 [00:00<?, ?it/s]"
      ]
     },
     "metadata": {},
     "output_type": "display_data"
    },
    {
     "name": "stdout",
     "output_type": "stream",
     "text": [
      "/eos/user/s/skyriaco/Offshell/Syst/highmass/MC_18/200205_CutBased/MC_2018/HighMass/ggH180/ZZ4lAnalysis.root\n",
      "LHEweight_QCDscale_muR2_muF1*p_Gen_GG_BKG_MCFM*KFactor_QCD_ggZZ_Nominal*((Z1Flav*Z2Flav)==(121*121) ||(Z1Flav*Z2Flav)==(169*169) ||(Z1Flav*Z2Flav)==(121*169)  )*137.1*(ZZMass>=220)*(EventTag==0)*1000*xsec*overallEventWeight*L1prefiringWeight/Bin40\n",
      "LHEweight_QCDscale_muR0p5_muF1*p_Gen_GG_BKG_MCFM*KFactor_QCD_ggZZ_Nominal*((Z1Flav*Z2Flav)==(121*121) ||(Z1Flav*Z2Flav)==(169*169) ||(Z1Flav*Z2Flav)==(121*169)  )*137.1*(ZZMass>=220)*(EventTag==0)*1000*xsec*overallEventWeight*L1prefiringWeight/Bin40\n",
      "----------------------\n",
      "up: 83.80334672145545\n",
      "dn: 112.64662575162947\n",
      "LHEweight_QCDscale_muR1_muF2*p_Gen_GG_BKG_MCFM*KFactor_QCD_ggZZ_Nominal*((Z1Flav*Z2Flav)==(121*121) ||(Z1Flav*Z2Flav)==(169*169) ||(Z1Flav*Z2Flav)==(121*169)  )*137.1*(ZZMass>=220)*(EventTag==0)*1000*xsec*overallEventWeight*L1prefiringWeight/Bin40\n",
      "LHEweight_QCDscale_muR1_muF0p5*p_Gen_GG_BKG_MCFM*KFactor_QCD_ggZZ_Nominal*((Z1Flav*Z2Flav)==(121*121) ||(Z1Flav*Z2Flav)==(169*169) ||(Z1Flav*Z2Flav)==(121*169)  )*137.1*(ZZMass>=220)*(EventTag==0)*1000*xsec*overallEventWeight*L1prefiringWeight/Bin40\n",
      "----------------------\n",
      "up: 95.67813052423298\n",
      "dn: 97.65118564292789\n",
      "LHEweight_PDFVariation_Up*p_Gen_GG_BKG_MCFM*KFactor_QCD_ggZZ_Nominal*((Z1Flav*Z2Flav)==(121*121) ||(Z1Flav*Z2Flav)==(169*169) ||(Z1Flav*Z2Flav)==(121*169)  )*137.1*(ZZMass>=220)*(EventTag==0)*1000*xsec*overallEventWeight*L1prefiringWeight/Bin40\n",
      "LHEweight_PDFVariation_Dn*p_Gen_GG_BKG_MCFM*KFactor_QCD_ggZZ_Nominal*((Z1Flav*Z2Flav)==(121*121) ||(Z1Flav*Z2Flav)==(169*169) ||(Z1Flav*Z2Flav)==(121*169)  )*137.1*(ZZMass>=220)*(EventTag==0)*1000*xsec*overallEventWeight*L1prefiringWeight/Bin40\n",
      "----------------------\n",
      "up: 98.47582035325468\n",
      "dn: 94.97255281731486\n",
      "LHEweight_AsMZ_Up*p_Gen_GG_BKG_MCFM*KFactor_QCD_ggZZ_Nominal*((Z1Flav*Z2Flav)==(121*121) ||(Z1Flav*Z2Flav)==(169*169) ||(Z1Flav*Z2Flav)==(121*169)  )*137.1*(ZZMass>=220)*(EventTag==0)*1000*xsec*overallEventWeight*L1prefiringWeight/Bin40\n",
      "LHEweight_AsMZ_Dn*p_Gen_GG_BKG_MCFM*KFactor_QCD_ggZZ_Nominal*((Z1Flav*Z2Flav)==(121*121) ||(Z1Flav*Z2Flav)==(169*169) ||(Z1Flav*Z2Flav)==(121*169)  )*137.1*(ZZMass>=220)*(EventTag==0)*1000*xsec*overallEventWeight*L1prefiringWeight/Bin40\n",
      "----------------------\n",
      "up: 97.66376953013241\n",
      "dn: 94.79469601251185\n",
      "PythiaWeight_isr_muR4 * PythiaWeight_fsr_muR4*p_Gen_GG_BKG_MCFM*KFactor_QCD_ggZZ_Nominal*((Z1Flav*Z2Flav)==(121*121) ||(Z1Flav*Z2Flav)==(169*169) ||(Z1Flav*Z2Flav)==(121*169)  )*137.1*(ZZMass>=220)*(EventTag==0)*1000*xsec*overallEventWeight*L1prefiringWeight/Bin40\n",
      "PythiaWeight_isr_muR0p25 * PythiaWeight_fsr_muR0p25*p_Gen_GG_BKG_MCFM*KFactor_QCD_ggZZ_Nominal*((Z1Flav*Z2Flav)==(121*121) ||(Z1Flav*Z2Flav)==(169*169) ||(Z1Flav*Z2Flav)==(121*169)  )*137.1*(ZZMass>=220)*(EventTag==0)*1000*xsec*overallEventWeight*L1prefiringWeight/Bin40\n",
      "----------------------\n",
      "up: 95.13190243393183\n",
      "dn: 97.49035728222225\n",
      "om nomnomm: 96.62477783672512\n",
      "here 83.80334672145545\n",
      "here 112.64662575162947\n",
      "here 95.67813052423298\n",
      "here 97.65118564292789\n",
      "here 98.47582035325468\n",
      "here 94.97255281731486\n",
      "here 97.66376953013241\n",
      "here 94.79469601251185\n",
      "here 95.13190243393183\n",
      "here 97.49035728222225\n"
     ]
    },
    {
     "data": {
      "application/vnd.jupyter.widget-view+json": {
       "model_id": "023d1fa6457144158c9eaaccb6e4bdbb",
       "version_major": 2,
       "version_minor": 0
      },
      "text/plain": [
       "  0%|          | 0/1 [00:00<?, ?it/s]"
      ]
     },
     "metadata": {},
     "output_type": "display_data"
    },
    {
     "name": "stdout",
     "output_type": "stream",
     "text": [
      "/eos/user/s/skyriaco/Offshell/Syst/highmass/MC_18/200205_CutBased/MC_2018/HighMass/ggH190/ZZ4lAnalysis.root\n",
      "LHEweight_QCDscale_muR2_muF1*p_Gen_GG_BKG_MCFM*KFactor_QCD_ggZZ_Nominal*((Z1Flav*Z2Flav)==(121*121) ||(Z1Flav*Z2Flav)==(169*169) ||(Z1Flav*Z2Flav)==(121*169)  )*137.1*(ZZMass>=220)*(EventTag==0)*1000*xsec*overallEventWeight*L1prefiringWeight/Bin40\n",
      "LHEweight_QCDscale_muR0p5_muF1*p_Gen_GG_BKG_MCFM*KFactor_QCD_ggZZ_Nominal*((Z1Flav*Z2Flav)==(121*121) ||(Z1Flav*Z2Flav)==(169*169) ||(Z1Flav*Z2Flav)==(121*169)  )*137.1*(ZZMass>=220)*(EventTag==0)*1000*xsec*overallEventWeight*L1prefiringWeight/Bin40\n",
      "----------------------\n",
      "up: 327.5466782525182\n",
      "dn: 429.44481329247355\n",
      "LHEweight_QCDscale_muR1_muF2*p_Gen_GG_BKG_MCFM*KFactor_QCD_ggZZ_Nominal*((Z1Flav*Z2Flav)==(121*121) ||(Z1Flav*Z2Flav)==(169*169) ||(Z1Flav*Z2Flav)==(121*169)  )*137.1*(ZZMass>=220)*(EventTag==0)*1000*xsec*overallEventWeight*L1prefiringWeight/Bin40\n",
      "LHEweight_QCDscale_muR1_muF0p5*p_Gen_GG_BKG_MCFM*KFactor_QCD_ggZZ_Nominal*((Z1Flav*Z2Flav)==(121*121) ||(Z1Flav*Z2Flav)==(169*169) ||(Z1Flav*Z2Flav)==(121*169)  )*137.1*(ZZMass>=220)*(EventTag==0)*1000*xsec*overallEventWeight*L1prefiringWeight/Bin40\n",
      "----------------------\n",
      "up: 371.5542005933821\n",
      "dn: 375.98053876310587\n",
      "LHEweight_PDFVariation_Up*p_Gen_GG_BKG_MCFM*KFactor_QCD_ggZZ_Nominal*((Z1Flav*Z2Flav)==(121*121) ||(Z1Flav*Z2Flav)==(169*169) ||(Z1Flav*Z2Flav)==(121*169)  )*137.1*(ZZMass>=220)*(EventTag==0)*1000*xsec*overallEventWeight*L1prefiringWeight/Bin40\n",
      "LHEweight_PDFVariation_Dn*p_Gen_GG_BKG_MCFM*KFactor_QCD_ggZZ_Nominal*((Z1Flav*Z2Flav)==(121*121) ||(Z1Flav*Z2Flav)==(169*169) ||(Z1Flav*Z2Flav)==(121*169)  )*137.1*(ZZMass>=220)*(EventTag==0)*1000*xsec*overallEventWeight*L1prefiringWeight/Bin40\n",
      "----------------------\n",
      "up: 380.7832473628223\n",
      "dn: 367.27730551734567\n",
      "LHEweight_AsMZ_Up*p_Gen_GG_BKG_MCFM*KFactor_QCD_ggZZ_Nominal*((Z1Flav*Z2Flav)==(121*121) ||(Z1Flav*Z2Flav)==(169*169) ||(Z1Flav*Z2Flav)==(121*169)  )*137.1*(ZZMass>=220)*(EventTag==0)*1000*xsec*overallEventWeight*L1prefiringWeight/Bin40\n",
      "LHEweight_AsMZ_Dn*p_Gen_GG_BKG_MCFM*KFactor_QCD_ggZZ_Nominal*((Z1Flav*Z2Flav)==(121*121) ||(Z1Flav*Z2Flav)==(169*169) ||(Z1Flav*Z2Flav)==(121*169)  )*137.1*(ZZMass>=220)*(EventTag==0)*1000*xsec*overallEventWeight*L1prefiringWeight/Bin40\n",
      "----------------------\n",
      "up: 377.24981136620045\n",
      "dn: 366.6731820590794\n",
      "PythiaWeight_isr_muR4 * PythiaWeight_fsr_muR4*p_Gen_GG_BKG_MCFM*KFactor_QCD_ggZZ_Nominal*((Z1Flav*Z2Flav)==(121*121) ||(Z1Flav*Z2Flav)==(169*169) ||(Z1Flav*Z2Flav)==(121*169)  )*137.1*(ZZMass>=220)*(EventTag==0)*1000*xsec*overallEventWeight*L1prefiringWeight/Bin40\n",
      "PythiaWeight_isr_muR0p25 * PythiaWeight_fsr_muR0p25*p_Gen_GG_BKG_MCFM*KFactor_QCD_ggZZ_Nominal*((Z1Flav*Z2Flav)==(121*121) ||(Z1Flav*Z2Flav)==(169*169) ||(Z1Flav*Z2Flav)==(121*169)  )*137.1*(ZZMass>=220)*(EventTag==0)*1000*xsec*overallEventWeight*L1prefiringWeight/Bin40\n",
      "----------------------\n",
      "up: 384.02276606857777\n",
      "dn: 344.13451191596687\n",
      "om nomnomm: 373.59309546276927\n",
      "here 327.5466782525182\n",
      "here 429.44481329247355\n",
      "here 371.5542005933821\n",
      "here 375.98053876310587\n",
      "here 380.7832473628223\n",
      "here 367.27730551734567\n",
      "here 377.24981136620045\n",
      "here 366.6731820590794\n",
      "here 384.02276606857777\n",
      "here 344.13451191596687\n"
     ]
    },
    {
     "data": {
      "application/vnd.jupyter.widget-view+json": {
       "model_id": "1759a136f2ca4361ba601df4cb73105b",
       "version_major": 2,
       "version_minor": 0
      },
      "text/plain": [
       "  0%|          | 0/1 [00:00<?, ?it/s]"
      ]
     },
     "metadata": {},
     "output_type": "display_data"
    },
    {
     "name": "stdout",
     "output_type": "stream",
     "text": [
      "/eos/user/s/skyriaco/Offshell/Syst/highmass/MC_18/200205_CutBased/MC_2018/HighMass/ggH200/ZZ4lAnalysis.root\n",
      "LHEweight_QCDscale_muR2_muF1*p_Gen_GG_BKG_MCFM*KFactor_QCD_ggZZ_Nominal*((Z1Flav*Z2Flav)==(121*121) ||(Z1Flav*Z2Flav)==(169*169) ||(Z1Flav*Z2Flav)==(121*169)  )*137.1*(ZZMass>=220)*(EventTag==0)*1000*xsec*overallEventWeight*L1prefiringWeight/Bin40\n",
      "LHEweight_QCDscale_muR0p5_muF1*p_Gen_GG_BKG_MCFM*KFactor_QCD_ggZZ_Nominal*((Z1Flav*Z2Flav)==(121*121) ||(Z1Flav*Z2Flav)==(169*169) ||(Z1Flav*Z2Flav)==(121*169)  )*137.1*(ZZMass>=220)*(EventTag==0)*1000*xsec*overallEventWeight*L1prefiringWeight/Bin40\n",
      "----------------------\n",
      "up: 408.36119122523814\n",
      "dn: 539.3192349271849\n",
      "LHEweight_QCDscale_muR1_muF2*p_Gen_GG_BKG_MCFM*KFactor_QCD_ggZZ_Nominal*((Z1Flav*Z2Flav)==(121*121) ||(Z1Flav*Z2Flav)==(169*169) ||(Z1Flav*Z2Flav)==(121*169)  )*137.1*(ZZMass>=220)*(EventTag==0)*1000*xsec*overallEventWeight*L1prefiringWeight/Bin40\n",
      "LHEweight_QCDscale_muR1_muF0p5*p_Gen_GG_BKG_MCFM*KFactor_QCD_ggZZ_Nominal*((Z1Flav*Z2Flav)==(121*121) ||(Z1Flav*Z2Flav)==(169*169) ||(Z1Flav*Z2Flav)==(121*169)  )*137.1*(ZZMass>=220)*(EventTag==0)*1000*xsec*overallEventWeight*L1prefiringWeight/Bin40\n",
      "----------------------\n",
      "up: 461.05771613214165\n",
      "dn: 474.3819646378979\n",
      "LHEweight_PDFVariation_Up*p_Gen_GG_BKG_MCFM*KFactor_QCD_ggZZ_Nominal*((Z1Flav*Z2Flav)==(121*121) ||(Z1Flav*Z2Flav)==(169*169) ||(Z1Flav*Z2Flav)==(121*169)  )*137.1*(ZZMass>=220)*(EventTag==0)*1000*xsec*overallEventWeight*L1prefiringWeight/Bin40\n",
      "LHEweight_PDFVariation_Dn*p_Gen_GG_BKG_MCFM*KFactor_QCD_ggZZ_Nominal*((Z1Flav*Z2Flav)==(121*121) ||(Z1Flav*Z2Flav)==(169*169) ||(Z1Flav*Z2Flav)==(121*169)  )*137.1*(ZZMass>=220)*(EventTag==0)*1000*xsec*overallEventWeight*L1prefiringWeight/Bin40\n",
      "----------------------\n",
      "up: 476.35885686427355\n",
      "dn: 459.3019852656871\n",
      "LHEweight_AsMZ_Up*p_Gen_GG_BKG_MCFM*KFactor_QCD_ggZZ_Nominal*((Z1Flav*Z2Flav)==(121*121) ||(Z1Flav*Z2Flav)==(169*169) ||(Z1Flav*Z2Flav)==(121*169)  )*137.1*(ZZMass>=220)*(EventTag==0)*1000*xsec*overallEventWeight*L1prefiringWeight/Bin40\n",
      "LHEweight_AsMZ_Dn*p_Gen_GG_BKG_MCFM*KFactor_QCD_ggZZ_Nominal*((Z1Flav*Z2Flav)==(121*121) ||(Z1Flav*Z2Flav)==(169*169) ||(Z1Flav*Z2Flav)==(121*169)  )*137.1*(ZZMass>=220)*(EventTag==0)*1000*xsec*overallEventWeight*L1prefiringWeight/Bin40\n",
      "----------------------\n",
      "up: 471.9813524056226\n",
      "dn: 458.51014322042465\n",
      "PythiaWeight_isr_muR4 * PythiaWeight_fsr_muR4*p_Gen_GG_BKG_MCFM*KFactor_QCD_ggZZ_Nominal*((Z1Flav*Z2Flav)==(121*121) ||(Z1Flav*Z2Flav)==(169*169) ||(Z1Flav*Z2Flav)==(121*169)  )*137.1*(ZZMass>=220)*(EventTag==0)*1000*xsec*overallEventWeight*L1prefiringWeight/Bin40\n",
      "PythiaWeight_isr_muR0p25 * PythiaWeight_fsr_muR0p25*p_Gen_GG_BKG_MCFM*KFactor_QCD_ggZZ_Nominal*((Z1Flav*Z2Flav)==(121*121) ||(Z1Flav*Z2Flav)==(169*169) ||(Z1Flav*Z2Flav)==(121*169)  )*137.1*(ZZMass>=220)*(EventTag==0)*1000*xsec*overallEventWeight*L1prefiringWeight/Bin40\n",
      "----------------------\n",
      "up: 477.86750805564225\n",
      "dn: 507.7618203154998\n",
      "om nomnomm: 467.2834382178262\n",
      "here 408.36119122523814\n",
      "here 539.3192349271849\n",
      "here 461.05771613214165\n",
      "here 474.3819646378979\n",
      "here 476.35885686427355\n",
      "here 459.3019852656871\n",
      "here 471.9813524056226\n",
      "here 458.51014322042465\n",
      "here 477.86750805564225\n",
      "here 507.7618203154998\n"
     ]
    },
    {
     "data": {
      "application/vnd.jupyter.widget-view+json": {
       "model_id": "659f80146e3342fd8cbada2f51d5cb06",
       "version_major": 2,
       "version_minor": 0
      },
      "text/plain": [
       "  0%|          | 0/1 [00:00<?, ?it/s]"
      ]
     },
     "metadata": {},
     "output_type": "display_data"
    },
    {
     "name": "stdout",
     "output_type": "stream",
     "text": [
      "/eos/user/s/skyriaco/Offshell/Syst/highmass/MC_18/200205_CutBased/MC_2018/HighMass/ggH2000/ZZ4lAnalysis.root\n",
      "LHEweight_QCDscale_muR2_muF1*p_Gen_GG_BKG_MCFM*KFactor_QCD_ggZZ_Nominal*((Z1Flav*Z2Flav)==(121*121) ||(Z1Flav*Z2Flav)==(169*169) ||(Z1Flav*Z2Flav)==(121*169)  )*137.1*(ZZMass>=220)*(EventTag==0)*1000*xsec*overallEventWeight*L1prefiringWeight/Bin40\n",
      "LHEweight_QCDscale_muR0p5_muF1*p_Gen_GG_BKG_MCFM*KFactor_QCD_ggZZ_Nominal*((Z1Flav*Z2Flav)==(121*121) ||(Z1Flav*Z2Flav)==(169*169) ||(Z1Flav*Z2Flav)==(121*169)  )*137.1*(ZZMass>=220)*(EventTag==0)*1000*xsec*overallEventWeight*L1prefiringWeight/Bin40\n",
      "----------------------\n",
      "up: 7879.067954723258\n",
      "dn: 10449.036663285457\n",
      "LHEweight_QCDscale_muR1_muF2*p_Gen_GG_BKG_MCFM*KFactor_QCD_ggZZ_Nominal*((Z1Flav*Z2Flav)==(121*121) ||(Z1Flav*Z2Flav)==(169*169) ||(Z1Flav*Z2Flav)==(121*169)  )*137.1*(ZZMass>=220)*(EventTag==0)*1000*xsec*overallEventWeight*L1prefiringWeight/Bin40\n",
      "LHEweight_QCDscale_muR1_muF0p5*p_Gen_GG_BKG_MCFM*KFactor_QCD_ggZZ_Nominal*((Z1Flav*Z2Flav)==(121*121) ||(Z1Flav*Z2Flav)==(169*169) ||(Z1Flav*Z2Flav)==(121*169)  )*137.1*(ZZMass>=220)*(EventTag==0)*1000*xsec*overallEventWeight*L1prefiringWeight/Bin40\n",
      "----------------------\n",
      "up: 8917.79388312297\n",
      "dn: 9158.500903127715\n",
      "LHEweight_PDFVariation_Up*p_Gen_GG_BKG_MCFM*KFactor_QCD_ggZZ_Nominal*((Z1Flav*Z2Flav)==(121*121) ||(Z1Flav*Z2Flav)==(169*169) ||(Z1Flav*Z2Flav)==(121*169)  )*137.1*(ZZMass>=220)*(EventTag==0)*1000*xsec*overallEventWeight*L1prefiringWeight/Bin40\n",
      "LHEweight_PDFVariation_Dn*p_Gen_GG_BKG_MCFM*KFactor_QCD_ggZZ_Nominal*((Z1Flav*Z2Flav)==(121*121) ||(Z1Flav*Z2Flav)==(169*169) ||(Z1Flav*Z2Flav)==(121*169)  )*137.1*(ZZMass>=220)*(EventTag==0)*1000*xsec*overallEventWeight*L1prefiringWeight/Bin40\n",
      "----------------------\n",
      "up: 9192.380893927068\n",
      "dn: 8892.81245057378\n",
      "LHEweight_AsMZ_Up*p_Gen_GG_BKG_MCFM*KFactor_QCD_ggZZ_Nominal*((Z1Flav*Z2Flav)==(121*121) ||(Z1Flav*Z2Flav)==(169*169) ||(Z1Flav*Z2Flav)==(121*169)  )*137.1*(ZZMass>=220)*(EventTag==0)*1000*xsec*overallEventWeight*L1prefiringWeight/Bin40\n",
      "LHEweight_AsMZ_Dn*p_Gen_GG_BKG_MCFM*KFactor_QCD_ggZZ_Nominal*((Z1Flav*Z2Flav)==(121*121) ||(Z1Flav*Z2Flav)==(169*169) ||(Z1Flav*Z2Flav)==(121*169)  )*137.1*(ZZMass>=220)*(EventTag==0)*1000*xsec*overallEventWeight*L1prefiringWeight/Bin40\n",
      "----------------------\n",
      "up: 9123.42303098552\n",
      "dn: 8861.112211382948\n",
      "PythiaWeight_isr_muR4 * PythiaWeight_fsr_muR4*p_Gen_GG_BKG_MCFM*KFactor_QCD_ggZZ_Nominal*((Z1Flav*Z2Flav)==(121*121) ||(Z1Flav*Z2Flav)==(169*169) ||(Z1Flav*Z2Flav)==(121*169)  )*137.1*(ZZMass>=220)*(EventTag==0)*1000*xsec*overallEventWeight*L1prefiringWeight/Bin40\n",
      "PythiaWeight_isr_muR0p25 * PythiaWeight_fsr_muR0p25*p_Gen_GG_BKG_MCFM*KFactor_QCD_ggZZ_Nominal*((Z1Flav*Z2Flav)==(121*121) ||(Z1Flav*Z2Flav)==(169*169) ||(Z1Flav*Z2Flav)==(121*169)  )*137.1*(ZZMass>=220)*(EventTag==0)*1000*xsec*overallEventWeight*L1prefiringWeight/Bin40\n",
      "----------------------\n",
      "up: 9035.861243971158\n",
      "dn: 7823.781433693133\n",
      "om nomnomm: 9031.665995849762\n",
      "here 7879.067954723258\n",
      "here 10449.036663285457\n",
      "here 8917.79388312297\n",
      "here 9158.500903127715\n",
      "here 9192.380893927068\n",
      "here 8892.81245057378\n",
      "here 9123.42303098552\n",
      "here 8861.112211382948\n",
      "here 9035.861243971158\n",
      "here 7823.781433693133\n"
     ]
    },
    {
     "data": {
      "application/vnd.jupyter.widget-view+json": {
       "model_id": "3e215195f2ce489b822b817a2767f683",
       "version_major": 2,
       "version_minor": 0
      },
      "text/plain": [
       "  0%|          | 0/1 [00:00<?, ?it/s]"
      ]
     },
     "metadata": {},
     "output_type": "display_data"
    },
    {
     "name": "stdout",
     "output_type": "stream",
     "text": [
      "/eos/user/s/skyriaco/Offshell/Syst/highmass/MC_18/200205_CutBased/MC_2018/HighMass/ggH210/ZZ4lAnalysis.root\n",
      "LHEweight_QCDscale_muR2_muF1*p_Gen_GG_BKG_MCFM*KFactor_QCD_ggZZ_Nominal*((Z1Flav*Z2Flav)==(121*121) ||(Z1Flav*Z2Flav)==(169*169) ||(Z1Flav*Z2Flav)==(121*169)  )*137.1*(ZZMass>=220)*(EventTag==0)*1000*xsec*overallEventWeight*L1prefiringWeight/Bin40\n",
      "LHEweight_QCDscale_muR0p5_muF1*p_Gen_GG_BKG_MCFM*KFactor_QCD_ggZZ_Nominal*((Z1Flav*Z2Flav)==(121*121) ||(Z1Flav*Z2Flav)==(169*169) ||(Z1Flav*Z2Flav)==(121*169)  )*137.1*(ZZMass>=220)*(EventTag==0)*1000*xsec*overallEventWeight*L1prefiringWeight/Bin40\n",
      "----------------------\n",
      "up: 395.2010963410139\n",
      "dn: 528.7761001167819\n",
      "LHEweight_QCDscale_muR1_muF2*p_Gen_GG_BKG_MCFM*KFactor_QCD_ggZZ_Nominal*((Z1Flav*Z2Flav)==(121*121) ||(Z1Flav*Z2Flav)==(169*169) ||(Z1Flav*Z2Flav)==(121*169)  )*137.1*(ZZMass>=220)*(EventTag==0)*1000*xsec*overallEventWeight*L1prefiringWeight/Bin40\n",
      "LHEweight_QCDscale_muR1_muF0p5*p_Gen_GG_BKG_MCFM*KFactor_QCD_ggZZ_Nominal*((Z1Flav*Z2Flav)==(121*121) ||(Z1Flav*Z2Flav)==(169*169) ||(Z1Flav*Z2Flav)==(121*169)  )*137.1*(ZZMass>=220)*(EventTag==0)*1000*xsec*overallEventWeight*L1prefiringWeight/Bin40\n",
      "----------------------\n",
      "up: 450.85112122260034\n",
      "dn: 459.15705804154277\n",
      "LHEweight_PDFVariation_Up*p_Gen_GG_BKG_MCFM*KFactor_QCD_ggZZ_Nominal*((Z1Flav*Z2Flav)==(121*121) ||(Z1Flav*Z2Flav)==(169*169) ||(Z1Flav*Z2Flav)==(121*169)  )*137.1*(ZZMass>=220)*(EventTag==0)*1000*xsec*overallEventWeight*L1prefiringWeight/Bin40\n",
      "LHEweight_PDFVariation_Dn*p_Gen_GG_BKG_MCFM*KFactor_QCD_ggZZ_Nominal*((Z1Flav*Z2Flav)==(121*121) ||(Z1Flav*Z2Flav)==(169*169) ||(Z1Flav*Z2Flav)==(121*169)  )*137.1*(ZZMass>=220)*(EventTag==0)*1000*xsec*overallEventWeight*L1prefiringWeight/Bin40\n",
      "----------------------\n",
      "up: 463.4837541934103\n",
      "dn: 447.1190598420799\n",
      "LHEweight_AsMZ_Up*p_Gen_GG_BKG_MCFM*KFactor_QCD_ggZZ_Nominal*((Z1Flav*Z2Flav)==(121*121) ||(Z1Flav*Z2Flav)==(169*169) ||(Z1Flav*Z2Flav)==(121*169)  )*137.1*(ZZMass>=220)*(EventTag==0)*1000*xsec*overallEventWeight*L1prefiringWeight/Bin40\n",
      "LHEweight_AsMZ_Dn*p_Gen_GG_BKG_MCFM*KFactor_QCD_ggZZ_Nominal*((Z1Flav*Z2Flav)==(121*121) ||(Z1Flav*Z2Flav)==(169*169) ||(Z1Flav*Z2Flav)==(121*169)  )*137.1*(ZZMass>=220)*(EventTag==0)*1000*xsec*overallEventWeight*L1prefiringWeight/Bin40\n",
      "----------------------\n",
      "up: 459.6019758330658\n",
      "dn: 446.09598986431956\n",
      "PythiaWeight_isr_muR4 * PythiaWeight_fsr_muR4*p_Gen_GG_BKG_MCFM*KFactor_QCD_ggZZ_Nominal*((Z1Flav*Z2Flav)==(121*121) ||(Z1Flav*Z2Flav)==(169*169) ||(Z1Flav*Z2Flav)==(121*169)  )*137.1*(ZZMass>=220)*(EventTag==0)*1000*xsec*overallEventWeight*L1prefiringWeight/Bin40\n",
      "PythiaWeight_isr_muR0p25 * PythiaWeight_fsr_muR0p25*p_Gen_GG_BKG_MCFM*KFactor_QCD_ggZZ_Nominal*((Z1Flav*Z2Flav)==(121*121) ||(Z1Flav*Z2Flav)==(169*169) ||(Z1Flav*Z2Flav)==(121*169)  )*137.1*(ZZMass>=220)*(EventTag==0)*1000*xsec*overallEventWeight*L1prefiringWeight/Bin40\n",
      "----------------------\n",
      "up: 446.31114872265607\n",
      "dn: 459.03184087295085\n",
      "om nomnomm: 454.81042813975364\n",
      "here 395.2010963410139\n",
      "here 528.7761001167819\n",
      "here 450.85112122260034\n",
      "here 459.15705804154277\n",
      "here 463.4837541934103\n",
      "here 447.1190598420799\n",
      "here 459.6019758330658\n",
      "here 446.09598986431956\n",
      "here 446.31114872265607\n",
      "here 459.03184087295085\n"
     ]
    },
    {
     "data": {
      "application/vnd.jupyter.widget-view+json": {
       "model_id": "88dff679e76548d9a8d61deb5d7c605e",
       "version_major": 2,
       "version_minor": 0
      },
      "text/plain": [
       "  0%|          | 0/1 [00:00<?, ?it/s]"
      ]
     },
     "metadata": {},
     "output_type": "display_data"
    },
    {
     "name": "stdout",
     "output_type": "stream",
     "text": [
      "/eos/user/s/skyriaco/Offshell/Syst/highmass/MC_18/200205_CutBased/MC_2018/HighMass/ggH230/ZZ4lAnalysis.root\n",
      "LHEweight_QCDscale_muR2_muF1*p_Gen_GG_BKG_MCFM*KFactor_QCD_ggZZ_Nominal*((Z1Flav*Z2Flav)==(121*121) ||(Z1Flav*Z2Flav)==(169*169) ||(Z1Flav*Z2Flav)==(121*169)  )*137.1*(ZZMass>=220)*(EventTag==0)*1000*xsec*overallEventWeight*L1prefiringWeight/Bin40\n",
      "LHEweight_QCDscale_muR0p5_muF1*p_Gen_GG_BKG_MCFM*KFactor_QCD_ggZZ_Nominal*((Z1Flav*Z2Flav)==(121*121) ||(Z1Flav*Z2Flav)==(169*169) ||(Z1Flav*Z2Flav)==(121*169)  )*137.1*(ZZMass>=220)*(EventTag==0)*1000*xsec*overallEventWeight*L1prefiringWeight/Bin40\n",
      "----------------------\n",
      "up: 403.6201134296134\n",
      "dn: 537.7560170036741\n",
      "LHEweight_QCDscale_muR1_muF2*p_Gen_GG_BKG_MCFM*KFactor_QCD_ggZZ_Nominal*((Z1Flav*Z2Flav)==(121*121) ||(Z1Flav*Z2Flav)==(169*169) ||(Z1Flav*Z2Flav)==(121*169)  )*137.1*(ZZMass>=220)*(EventTag==0)*1000*xsec*overallEventWeight*L1prefiringWeight/Bin40\n",
      "LHEweight_QCDscale_muR1_muF0p5*p_Gen_GG_BKG_MCFM*KFactor_QCD_ggZZ_Nominal*((Z1Flav*Z2Flav)==(121*121) ||(Z1Flav*Z2Flav)==(169*169) ||(Z1Flav*Z2Flav)==(121*169)  )*137.1*(ZZMass>=220)*(EventTag==0)*1000*xsec*overallEventWeight*L1prefiringWeight/Bin40\n",
      "----------------------\n",
      "up: 460.4711198871955\n",
      "dn: 467.1511624553241\n",
      "LHEweight_PDFVariation_Up*p_Gen_GG_BKG_MCFM*KFactor_QCD_ggZZ_Nominal*((Z1Flav*Z2Flav)==(121*121) ||(Z1Flav*Z2Flav)==(169*169) ||(Z1Flav*Z2Flav)==(121*169)  )*137.1*(ZZMass>=220)*(EventTag==0)*1000*xsec*overallEventWeight*L1prefiringWeight/Bin40\n",
      "LHEweight_PDFVariation_Dn*p_Gen_GG_BKG_MCFM*KFactor_QCD_ggZZ_Nominal*((Z1Flav*Z2Flav)==(121*121) ||(Z1Flav*Z2Flav)==(169*169) ||(Z1Flav*Z2Flav)==(121*169)  )*137.1*(ZZMass>=220)*(EventTag==0)*1000*xsec*overallEventWeight*L1prefiringWeight/Bin40\n",
      "----------------------\n",
      "up: 472.57668714551255\n",
      "dn: 455.71099919779226\n",
      "LHEweight_AsMZ_Up*p_Gen_GG_BKG_MCFM*KFactor_QCD_ggZZ_Nominal*((Z1Flav*Z2Flav)==(121*121) ||(Z1Flav*Z2Flav)==(169*169) ||(Z1Flav*Z2Flav)==(121*169)  )*137.1*(ZZMass>=220)*(EventTag==0)*1000*xsec*overallEventWeight*L1prefiringWeight/Bin40\n",
      "LHEweight_AsMZ_Dn*p_Gen_GG_BKG_MCFM*KFactor_QCD_ggZZ_Nominal*((Z1Flav*Z2Flav)==(121*121) ||(Z1Flav*Z2Flav)==(169*169) ||(Z1Flav*Z2Flav)==(121*169)  )*137.1*(ZZMass>=220)*(EventTag==0)*1000*xsec*overallEventWeight*L1prefiringWeight/Bin40\n",
      "----------------------\n",
      "up: 468.4317040252499\n",
      "dn: 454.8095936453901\n",
      "PythiaWeight_isr_muR4 * PythiaWeight_fsr_muR4*p_Gen_GG_BKG_MCFM*KFactor_QCD_ggZZ_Nominal*((Z1Flav*Z2Flav)==(121*121) ||(Z1Flav*Z2Flav)==(169*169) ||(Z1Flav*Z2Flav)==(121*169)  )*137.1*(ZZMass>=220)*(EventTag==0)*1000*xsec*overallEventWeight*L1prefiringWeight/Bin40\n",
      "PythiaWeight_isr_muR0p25 * PythiaWeight_fsr_muR0p25*p_Gen_GG_BKG_MCFM*KFactor_QCD_ggZZ_Nominal*((Z1Flav*Z2Flav)==(121*121) ||(Z1Flav*Z2Flav)==(169*169) ||(Z1Flav*Z2Flav)==(121*169)  )*137.1*(ZZMass>=220)*(EventTag==0)*1000*xsec*overallEventWeight*L1prefiringWeight/Bin40\n",
      "----------------------\n",
      "up: 470.26922035682946\n",
      "dn: 423.0369805970113\n",
      "om nomnomm: 463.6186832571402\n",
      "here 403.6201134296134\n",
      "here 537.7560170036741\n",
      "here 460.4711198871955\n",
      "here 467.1511624553241\n",
      "here 472.57668714551255\n",
      "here 455.71099919779226\n",
      "here 468.4317040252499\n",
      "here 454.8095936453901\n",
      "here 470.26922035682946\n",
      "here 423.0369805970113\n"
     ]
    },
    {
     "data": {
      "application/vnd.jupyter.widget-view+json": {
       "model_id": "59227f22e7f342c5939111bcf6296c69",
       "version_major": 2,
       "version_minor": 0
      },
      "text/plain": [
       "  0%|          | 0/1 [00:00<?, ?it/s]"
      ]
     },
     "metadata": {},
     "output_type": "display_data"
    },
    {
     "name": "stdout",
     "output_type": "stream",
     "text": [
      "/eos/user/s/skyriaco/Offshell/Syst/highmass/MC_18/200205_CutBased/MC_2018/HighMass/ggH250/ZZ4lAnalysis.root\n",
      "LHEweight_QCDscale_muR2_muF1*p_Gen_GG_BKG_MCFM*KFactor_QCD_ggZZ_Nominal*((Z1Flav*Z2Flav)==(121*121) ||(Z1Flav*Z2Flav)==(169*169) ||(Z1Flav*Z2Flav)==(121*169)  )*137.1*(ZZMass>=220)*(EventTag==0)*1000*xsec*overallEventWeight*L1prefiringWeight/Bin40\n",
      "LHEweight_QCDscale_muR0p5_muF1*p_Gen_GG_BKG_MCFM*KFactor_QCD_ggZZ_Nominal*((Z1Flav*Z2Flav)==(121*121) ||(Z1Flav*Z2Flav)==(169*169) ||(Z1Flav*Z2Flav)==(121*169)  )*137.1*(ZZMass>=220)*(EventTag==0)*1000*xsec*overallEventWeight*L1prefiringWeight/Bin40\n",
      "----------------------\n",
      "up: 370.2138141663745\n",
      "dn: 492.77150071877986\n",
      "LHEweight_QCDscale_muR1_muF2*p_Gen_GG_BKG_MCFM*KFactor_QCD_ggZZ_Nominal*((Z1Flav*Z2Flav)==(121*121) ||(Z1Flav*Z2Flav)==(169*169) ||(Z1Flav*Z2Flav)==(121*169)  )*137.1*(ZZMass>=220)*(EventTag==0)*1000*xsec*overallEventWeight*L1prefiringWeight/Bin40\n",
      "LHEweight_QCDscale_muR1_muF0p5*p_Gen_GG_BKG_MCFM*KFactor_QCD_ggZZ_Nominal*((Z1Flav*Z2Flav)==(121*121) ||(Z1Flav*Z2Flav)==(169*169) ||(Z1Flav*Z2Flav)==(121*169)  )*137.1*(ZZMass>=220)*(EventTag==0)*1000*xsec*overallEventWeight*L1prefiringWeight/Bin40\n",
      "----------------------\n",
      "up: 420.4656309420243\n",
      "dn: 430.27659962605685\n",
      "LHEweight_PDFVariation_Up*p_Gen_GG_BKG_MCFM*KFactor_QCD_ggZZ_Nominal*((Z1Flav*Z2Flav)==(121*121) ||(Z1Flav*Z2Flav)==(169*169) ||(Z1Flav*Z2Flav)==(121*169)  )*137.1*(ZZMass>=220)*(EventTag==0)*1000*xsec*overallEventWeight*L1prefiringWeight/Bin40\n",
      "LHEweight_PDFVariation_Dn*p_Gen_GG_BKG_MCFM*KFactor_QCD_ggZZ_Nominal*((Z1Flav*Z2Flav)==(121*121) ||(Z1Flav*Z2Flav)==(169*169) ||(Z1Flav*Z2Flav)==(121*169)  )*137.1*(ZZMass>=220)*(EventTag==0)*1000*xsec*overallEventWeight*L1prefiringWeight/Bin40\n",
      "----------------------\n",
      "up: 433.33089141361415\n",
      "dn: 417.817854013294\n",
      "LHEweight_AsMZ_Up*p_Gen_GG_BKG_MCFM*KFactor_QCD_ggZZ_Nominal*((Z1Flav*Z2Flav)==(121*121) ||(Z1Flav*Z2Flav)==(169*169) ||(Z1Flav*Z2Flav)==(121*169)  )*137.1*(ZZMass>=220)*(EventTag==0)*1000*xsec*overallEventWeight*L1prefiringWeight/Bin40\n",
      "LHEweight_AsMZ_Dn*p_Gen_GG_BKG_MCFM*KFactor_QCD_ggZZ_Nominal*((Z1Flav*Z2Flav)==(121*121) ||(Z1Flav*Z2Flav)==(169*169) ||(Z1Flav*Z2Flav)==(121*169)  )*137.1*(ZZMass>=220)*(EventTag==0)*1000*xsec*overallEventWeight*L1prefiringWeight/Bin40\n",
      "----------------------\n",
      "up: 429.4712393451482\n",
      "dn: 417.00801587011665\n",
      "PythiaWeight_isr_muR4 * PythiaWeight_fsr_muR4*p_Gen_GG_BKG_MCFM*KFactor_QCD_ggZZ_Nominal*((Z1Flav*Z2Flav)==(121*121) ||(Z1Flav*Z2Flav)==(169*169) ||(Z1Flav*Z2Flav)==(121*169)  )*137.1*(ZZMass>=220)*(EventTag==0)*1000*xsec*overallEventWeight*L1prefiringWeight/Bin40\n",
      "PythiaWeight_isr_muR0p25 * PythiaWeight_fsr_muR0p25*p_Gen_GG_BKG_MCFM*KFactor_QCD_ggZZ_Nominal*((Z1Flav*Z2Flav)==(121*121) ||(Z1Flav*Z2Flav)==(169*169) ||(Z1Flav*Z2Flav)==(121*169)  )*137.1*(ZZMass>=220)*(EventTag==0)*1000*xsec*overallEventWeight*L1prefiringWeight/Bin40\n",
      "----------------------\n",
      "up: 427.3645683573559\n",
      "dn: 443.01206049881876\n",
      "om nomnomm: 425.08212941046804\n",
      "here 370.2138141663745\n",
      "here 492.77150071877986\n",
      "here 420.4656309420243\n",
      "here 430.27659962605685\n",
      "here 433.33089141361415\n",
      "here 417.817854013294\n",
      "here 429.4712393451482\n",
      "here 417.00801587011665\n",
      "here 427.3645683573559\n",
      "here 443.01206049881876\n"
     ]
    },
    {
     "data": {
      "application/vnd.jupyter.widget-view+json": {
       "model_id": "c731719c02db41108d96f66f1d959b3d",
       "version_major": 2,
       "version_minor": 0
      },
      "text/plain": [
       "  0%|          | 0/1 [00:00<?, ?it/s]"
      ]
     },
     "metadata": {},
     "output_type": "display_data"
    },
    {
     "name": "stdout",
     "output_type": "stream",
     "text": [
      "/eos/user/s/skyriaco/Offshell/Syst/highmass/MC_18/200205_CutBased/MC_2018/HighMass/ggH2500/ZZ4lAnalysis.root\n",
      "LHEweight_QCDscale_muR2_muF1*p_Gen_GG_BKG_MCFM*KFactor_QCD_ggZZ_Nominal*((Z1Flav*Z2Flav)==(121*121) ||(Z1Flav*Z2Flav)==(169*169) ||(Z1Flav*Z2Flav)==(121*169)  )*137.1*(ZZMass>=220)*(EventTag==0)*1000*xsec*overallEventWeight*L1prefiringWeight/Bin40\n",
      "LHEweight_QCDscale_muR0p5_muF1*p_Gen_GG_BKG_MCFM*KFactor_QCD_ggZZ_Nominal*((Z1Flav*Z2Flav)==(121*121) ||(Z1Flav*Z2Flav)==(169*169) ||(Z1Flav*Z2Flav)==(121*169)  )*137.1*(ZZMass>=220)*(EventTag==0)*1000*xsec*overallEventWeight*L1prefiringWeight/Bin40\n",
      "----------------------\n",
      "up: 14760.504175134003\n",
      "dn: 19610.14400942996\n",
      "LHEweight_QCDscale_muR1_muF2*p_Gen_GG_BKG_MCFM*KFactor_QCD_ggZZ_Nominal*((Z1Flav*Z2Flav)==(121*121) ||(Z1Flav*Z2Flav)==(169*169) ||(Z1Flav*Z2Flav)==(121*169)  )*137.1*(ZZMass>=220)*(EventTag==0)*1000*xsec*overallEventWeight*L1prefiringWeight/Bin40\n",
      "LHEweight_QCDscale_muR1_muF0p5*p_Gen_GG_BKG_MCFM*KFactor_QCD_ggZZ_Nominal*((Z1Flav*Z2Flav)==(121*121) ||(Z1Flav*Z2Flav)==(169*169) ||(Z1Flav*Z2Flav)==(121*169)  )*137.1*(ZZMass>=220)*(EventTag==0)*1000*xsec*overallEventWeight*L1prefiringWeight/Bin40\n",
      "----------------------\n",
      "up: 16696.144316107035\n",
      "dn: 17197.13254116848\n",
      "LHEweight_PDFVariation_Up*p_Gen_GG_BKG_MCFM*KFactor_QCD_ggZZ_Nominal*((Z1Flav*Z2Flav)==(121*121) ||(Z1Flav*Z2Flav)==(169*169) ||(Z1Flav*Z2Flav)==(121*169)  )*137.1*(ZZMass>=220)*(EventTag==0)*1000*xsec*overallEventWeight*L1prefiringWeight/Bin40\n",
      "LHEweight_PDFVariation_Dn*p_Gen_GG_BKG_MCFM*KFactor_QCD_ggZZ_Nominal*((Z1Flav*Z2Flav)==(121*121) ||(Z1Flav*Z2Flav)==(169*169) ||(Z1Flav*Z2Flav)==(121*169)  )*137.1*(ZZMass>=220)*(EventTag==0)*1000*xsec*overallEventWeight*L1prefiringWeight/Bin40\n",
      "----------------------\n",
      "up: 17229.730597961694\n",
      "dn: 16668.531889457256\n",
      "LHEweight_AsMZ_Up*p_Gen_GG_BKG_MCFM*KFactor_QCD_ggZZ_Nominal*((Z1Flav*Z2Flav)==(121*121) ||(Z1Flav*Z2Flav)==(169*169) ||(Z1Flav*Z2Flav)==(121*169)  )*137.1*(ZZMass>=220)*(EventTag==0)*1000*xsec*overallEventWeight*L1prefiringWeight/Bin40\n",
      "LHEweight_AsMZ_Dn*p_Gen_GG_BKG_MCFM*KFactor_QCD_ggZZ_Nominal*((Z1Flav*Z2Flav)==(121*121) ||(Z1Flav*Z2Flav)==(169*169) ||(Z1Flav*Z2Flav)==(121*169)  )*137.1*(ZZMass>=220)*(EventTag==0)*1000*xsec*overallEventWeight*L1prefiringWeight/Bin40\n",
      "----------------------\n",
      "up: 17106.469104807824\n",
      "dn: 16616.29965012893\n",
      "PythiaWeight_isr_muR4 * PythiaWeight_fsr_muR4*p_Gen_GG_BKG_MCFM*KFactor_QCD_ggZZ_Nominal*((Z1Flav*Z2Flav)==(121*121) ||(Z1Flav*Z2Flav)==(169*169) ||(Z1Flav*Z2Flav)==(121*169)  )*137.1*(ZZMass>=220)*(EventTag==0)*1000*xsec*overallEventWeight*L1prefiringWeight/Bin40\n",
      "PythiaWeight_isr_muR0p25 * PythiaWeight_fsr_muR0p25*p_Gen_GG_BKG_MCFM*KFactor_QCD_ggZZ_Nominal*((Z1Flav*Z2Flav)==(121*121) ||(Z1Flav*Z2Flav)==(169*169) ||(Z1Flav*Z2Flav)==(121*169)  )*137.1*(ZZMass>=220)*(EventTag==0)*1000*xsec*overallEventWeight*L1prefiringWeight/Bin40\n",
      "----------------------\n",
      "up: 17646.58560815826\n",
      "dn: 13295.714917100966\n",
      "om nomnomm: 16933.14254872501\n",
      "here 14760.504175134003\n",
      "here 19610.14400942996\n",
      "here 16696.144316107035\n",
      "here 17197.13254116848\n",
      "here 17229.730597961694\n",
      "here 16668.531889457256\n",
      "here 17106.469104807824\n",
      "here 16616.29965012893\n",
      "here 17646.58560815826\n",
      "here 13295.714917100966\n"
     ]
    },
    {
     "data": {
      "application/vnd.jupyter.widget-view+json": {
       "model_id": "ac5b91118e4d414bab743ee6e34d9bfb",
       "version_major": 2,
       "version_minor": 0
      },
      "text/plain": [
       "  0%|          | 0/1 [00:00<?, ?it/s]"
      ]
     },
     "metadata": {},
     "output_type": "display_data"
    },
    {
     "name": "stdout",
     "output_type": "stream",
     "text": [
      "/eos/user/s/skyriaco/Offshell/Syst/highmass/MC_18/200205_CutBased/MC_2018/HighMass/ggH270/ZZ4lAnalysis.root\n",
      "LHEweight_QCDscale_muR2_muF1*p_Gen_GG_BKG_MCFM*KFactor_QCD_ggZZ_Nominal*((Z1Flav*Z2Flav)==(121*121) ||(Z1Flav*Z2Flav)==(169*169) ||(Z1Flav*Z2Flav)==(121*169)  )*137.1*(ZZMass>=220)*(EventTag==0)*1000*xsec*overallEventWeight*L1prefiringWeight/Bin40\n",
      "LHEweight_QCDscale_muR0p5_muF1*p_Gen_GG_BKG_MCFM*KFactor_QCD_ggZZ_Nominal*((Z1Flav*Z2Flav)==(121*121) ||(Z1Flav*Z2Flav)==(169*169) ||(Z1Flav*Z2Flav)==(121*169)  )*137.1*(ZZMass>=220)*(EventTag==0)*1000*xsec*overallEventWeight*L1prefiringWeight/Bin40\n",
      "----------------------\n",
      "up: 368.2422807123512\n",
      "dn: 491.74903718568385\n",
      "LHEweight_QCDscale_muR1_muF2*p_Gen_GG_BKG_MCFM*KFactor_QCD_ggZZ_Nominal*((Z1Flav*Z2Flav)==(121*121) ||(Z1Flav*Z2Flav)==(169*169) ||(Z1Flav*Z2Flav)==(121*169)  )*137.1*(ZZMass>=220)*(EventTag==0)*1000*xsec*overallEventWeight*L1prefiringWeight/Bin40\n",
      "LHEweight_QCDscale_muR1_muF0p5*p_Gen_GG_BKG_MCFM*KFactor_QCD_ggZZ_Nominal*((Z1Flav*Z2Flav)==(121*121) ||(Z1Flav*Z2Flav)==(169*169) ||(Z1Flav*Z2Flav)==(121*169)  )*137.1*(ZZMass>=220)*(EventTag==0)*1000*xsec*overallEventWeight*L1prefiringWeight/Bin40\n",
      "----------------------\n",
      "up: 419.455355361104\n",
      "dn: 427.83465543575585\n",
      "LHEweight_PDFVariation_Up*p_Gen_GG_BKG_MCFM*KFactor_QCD_ggZZ_Nominal*((Z1Flav*Z2Flav)==(121*121) ||(Z1Flav*Z2Flav)==(169*169) ||(Z1Flav*Z2Flav)==(121*169)  )*137.1*(ZZMass>=220)*(EventTag==0)*1000*xsec*overallEventWeight*L1prefiringWeight/Bin40\n",
      "LHEweight_PDFVariation_Dn*p_Gen_GG_BKG_MCFM*KFactor_QCD_ggZZ_Nominal*((Z1Flav*Z2Flav)==(121*121) ||(Z1Flav*Z2Flav)==(169*169) ||(Z1Flav*Z2Flav)==(121*169)  )*137.1*(ZZMass>=220)*(EventTag==0)*1000*xsec*overallEventWeight*L1prefiringWeight/Bin40\n",
      "----------------------\n",
      "up: 431.5533034745604\n",
      "dn: 416.27347133122385\n",
      "LHEweight_AsMZ_Up*p_Gen_GG_BKG_MCFM*KFactor_QCD_ggZZ_Nominal*((Z1Flav*Z2Flav)==(121*121) ||(Z1Flav*Z2Flav)==(169*169) ||(Z1Flav*Z2Flav)==(121*169)  )*137.1*(ZZMass>=220)*(EventTag==0)*1000*xsec*overallEventWeight*L1prefiringWeight/Bin40\n",
      "LHEweight_AsMZ_Dn*p_Gen_GG_BKG_MCFM*KFactor_QCD_ggZZ_Nominal*((Z1Flav*Z2Flav)==(121*121) ||(Z1Flav*Z2Flav)==(169*169) ||(Z1Flav*Z2Flav)==(121*169)  )*137.1*(ZZMass>=220)*(EventTag==0)*1000*xsec*overallEventWeight*L1prefiringWeight/Bin40\n",
      "----------------------\n",
      "up: 427.88592867180705\n",
      "dn: 415.3226669151336\n",
      "PythiaWeight_isr_muR4 * PythiaWeight_fsr_muR4*p_Gen_GG_BKG_MCFM*KFactor_QCD_ggZZ_Nominal*((Z1Flav*Z2Flav)==(121*121) ||(Z1Flav*Z2Flav)==(169*169) ||(Z1Flav*Z2Flav)==(121*169)  )*137.1*(ZZMass>=220)*(EventTag==0)*1000*xsec*overallEventWeight*L1prefiringWeight/Bin40\n",
      "PythiaWeight_isr_muR0p25 * PythiaWeight_fsr_muR0p25*p_Gen_GG_BKG_MCFM*KFactor_QCD_ggZZ_Nominal*((Z1Flav*Z2Flav)==(121*121) ||(Z1Flav*Z2Flav)==(169*169) ||(Z1Flav*Z2Flav)==(121*169)  )*137.1*(ZZMass>=220)*(EventTag==0)*1000*xsec*overallEventWeight*L1prefiringWeight/Bin40\n",
      "----------------------\n",
      "up: 430.29032921791077\n",
      "dn: 391.44885843247175\n",
      "om nomnomm: 423.42963702604175\n",
      "here 368.2422807123512\n",
      "here 491.74903718568385\n",
      "here 419.455355361104\n",
      "here 427.83465543575585\n",
      "here 431.5533034745604\n",
      "here 416.27347133122385\n",
      "here 427.88592867180705\n",
      "here 415.3226669151336\n",
      "here 430.29032921791077\n",
      "here 391.44885843247175\n"
     ]
    },
    {
     "data": {
      "application/vnd.jupyter.widget-view+json": {
       "model_id": "01551b5578d14725950b6e1fdb85932f",
       "version_major": 2,
       "version_minor": 0
      },
      "text/plain": [
       "  0%|          | 0/1 [00:00<?, ?it/s]"
      ]
     },
     "metadata": {},
     "output_type": "display_data"
    },
    {
     "name": "stdout",
     "output_type": "stream",
     "text": [
      "/eos/user/s/skyriaco/Offshell/Syst/highmass/MC_18/200205_CutBased/MC_2018/HighMass/ggH300/ZZ4lAnalysis.root\n",
      "LHEweight_QCDscale_muR2_muF1*p_Gen_GG_BKG_MCFM*KFactor_QCD_ggZZ_Nominal*((Z1Flav*Z2Flav)==(121*121) ||(Z1Flav*Z2Flav)==(169*169) ||(Z1Flav*Z2Flav)==(121*169)  )*137.1*(ZZMass>=220)*(EventTag==0)*1000*xsec*overallEventWeight*L1prefiringWeight/Bin40\n",
      "LHEweight_QCDscale_muR0p5_muF1*p_Gen_GG_BKG_MCFM*KFactor_QCD_ggZZ_Nominal*((Z1Flav*Z2Flav)==(121*121) ||(Z1Flav*Z2Flav)==(169*169) ||(Z1Flav*Z2Flav)==(121*169)  )*137.1*(ZZMass>=220)*(EventTag==0)*1000*xsec*overallEventWeight*L1prefiringWeight/Bin40\n",
      "----------------------\n",
      "up: 341.5208703679964\n",
      "dn: 454.9916783759836\n",
      "LHEweight_QCDscale_muR1_muF2*p_Gen_GG_BKG_MCFM*KFactor_QCD_ggZZ_Nominal*((Z1Flav*Z2Flav)==(121*121) ||(Z1Flav*Z2Flav)==(169*169) ||(Z1Flav*Z2Flav)==(121*169)  )*137.1*(ZZMass>=220)*(EventTag==0)*1000*xsec*overallEventWeight*L1prefiringWeight/Bin40\n",
      "LHEweight_QCDscale_muR1_muF0p5*p_Gen_GG_BKG_MCFM*KFactor_QCD_ggZZ_Nominal*((Z1Flav*Z2Flav)==(121*121) ||(Z1Flav*Z2Flav)==(169*169) ||(Z1Flav*Z2Flav)==(121*169)  )*137.1*(ZZMass>=220)*(EventTag==0)*1000*xsec*overallEventWeight*L1prefiringWeight/Bin40\n",
      "----------------------\n",
      "up: 389.4631025302224\n",
      "dn: 395.47061393992044\n",
      "LHEweight_PDFVariation_Up*p_Gen_GG_BKG_MCFM*KFactor_QCD_ggZZ_Nominal*((Z1Flav*Z2Flav)==(121*121) ||(Z1Flav*Z2Flav)==(169*169) ||(Z1Flav*Z2Flav)==(121*169)  )*137.1*(ZZMass>=220)*(EventTag==0)*1000*xsec*overallEventWeight*L1prefiringWeight/Bin40\n",
      "LHEweight_PDFVariation_Dn*p_Gen_GG_BKG_MCFM*KFactor_QCD_ggZZ_Nominal*((Z1Flav*Z2Flav)==(121*121) ||(Z1Flav*Z2Flav)==(169*169) ||(Z1Flav*Z2Flav)==(121*169)  )*137.1*(ZZMass>=220)*(EventTag==0)*1000*xsec*overallEventWeight*L1prefiringWeight/Bin40\n",
      "----------------------\n",
      "up: 399.6958839367144\n",
      "dn: 385.81419547181576\n",
      "LHEweight_AsMZ_Up*p_Gen_GG_BKG_MCFM*KFactor_QCD_ggZZ_Nominal*((Z1Flav*Z2Flav)==(121*121) ||(Z1Flav*Z2Flav)==(169*169) ||(Z1Flav*Z2Flav)==(121*169)  )*137.1*(ZZMass>=220)*(EventTag==0)*1000*xsec*overallEventWeight*L1prefiringWeight/Bin40\n",
      "LHEweight_AsMZ_Dn*p_Gen_GG_BKG_MCFM*KFactor_QCD_ggZZ_Nominal*((Z1Flav*Z2Flav)==(121*121) ||(Z1Flav*Z2Flav)==(169*169) ||(Z1Flav*Z2Flav)==(121*169)  )*137.1*(ZZMass>=220)*(EventTag==0)*1000*xsec*overallEventWeight*L1prefiringWeight/Bin40\n",
      "----------------------\n",
      "up: 396.35037917410955\n",
      "dn: 384.77176106418483\n",
      "PythiaWeight_isr_muR4 * PythiaWeight_fsr_muR4*p_Gen_GG_BKG_MCFM*KFactor_QCD_ggZZ_Nominal*((Z1Flav*Z2Flav)==(121*121) ||(Z1Flav*Z2Flav)==(169*169) ||(Z1Flav*Z2Flav)==(121*169)  )*137.1*(ZZMass>=220)*(EventTag==0)*1000*xsec*overallEventWeight*L1prefiringWeight/Bin40\n",
      "PythiaWeight_isr_muR0p25 * PythiaWeight_fsr_muR0p25*p_Gen_GG_BKG_MCFM*KFactor_QCD_ggZZ_Nominal*((Z1Flav*Z2Flav)==(121*121) ||(Z1Flav*Z2Flav)==(169*169) ||(Z1Flav*Z2Flav)==(121*169)  )*137.1*(ZZMass>=220)*(EventTag==0)*1000*xsec*overallEventWeight*L1prefiringWeight/Bin40\n",
      "----------------------\n",
      "up: 390.08145764493383\n",
      "dn: 470.2178313184995\n",
      "om nomnomm: 392.30196673143655\n",
      "here 341.5208703679964\n",
      "here 454.9916783759836\n",
      "here 389.4631025302224\n",
      "here 395.47061393992044\n",
      "here 399.6958839367144\n",
      "here 385.81419547181576\n",
      "here 396.35037917410955\n",
      "here 384.77176106418483\n",
      "here 390.08145764493383\n",
      "here 470.2178313184995\n"
     ]
    },
    {
     "data": {
      "application/vnd.jupyter.widget-view+json": {
       "model_id": "f2d0d0d02fd046e3b5d75385e777f071",
       "version_major": 2,
       "version_minor": 0
      },
      "text/plain": [
       "  0%|          | 0/1 [00:00<?, ?it/s]"
      ]
     },
     "metadata": {},
     "output_type": "display_data"
    },
    {
     "name": "stdout",
     "output_type": "stream",
     "text": [
      "/eos/user/s/skyriaco/Offshell/Syst/highmass/MC_18/200205_CutBased/MC_2018/HighMass/ggH3000/ZZ4lAnalysis.root\n",
      "LHEweight_QCDscale_muR2_muF1*p_Gen_GG_BKG_MCFM*KFactor_QCD_ggZZ_Nominal*((Z1Flav*Z2Flav)==(121*121) ||(Z1Flav*Z2Flav)==(169*169) ||(Z1Flav*Z2Flav)==(121*169)  )*137.1*(ZZMass>=220)*(EventTag==0)*1000*xsec*overallEventWeight*L1prefiringWeight/Bin40\n",
      "LHEweight_QCDscale_muR0p5_muF1*p_Gen_GG_BKG_MCFM*KFactor_QCD_ggZZ_Nominal*((Z1Flav*Z2Flav)==(121*121) ||(Z1Flav*Z2Flav)==(169*169) ||(Z1Flav*Z2Flav)==(121*169)  )*137.1*(ZZMass>=220)*(EventTag==0)*1000*xsec*overallEventWeight*L1prefiringWeight/Bin40\n",
      "----------------------\n",
      "up: 28135.873634889722\n",
      "dn: 37254.68205520511\n",
      "LHEweight_QCDscale_muR1_muF2*p_Gen_GG_BKG_MCFM*KFactor_QCD_ggZZ_Nominal*((Z1Flav*Z2Flav)==(121*121) ||(Z1Flav*Z2Flav)==(169*169) ||(Z1Flav*Z2Flav)==(121*169)  )*137.1*(ZZMass>=220)*(EventTag==0)*1000*xsec*overallEventWeight*L1prefiringWeight/Bin40\n",
      "LHEweight_QCDscale_muR1_muF0p5*p_Gen_GG_BKG_MCFM*KFactor_QCD_ggZZ_Nominal*((Z1Flav*Z2Flav)==(121*121) ||(Z1Flav*Z2Flav)==(169*169) ||(Z1Flav*Z2Flav)==(121*169)  )*137.1*(ZZMass>=220)*(EventTag==0)*1000*xsec*overallEventWeight*L1prefiringWeight/Bin40\n",
      "----------------------\n",
      "up: 31815.81154626608\n",
      "dn: 32698.129045784473\n",
      "LHEweight_PDFVariation_Up*p_Gen_GG_BKG_MCFM*KFactor_QCD_ggZZ_Nominal*((Z1Flav*Z2Flav)==(121*121) ||(Z1Flav*Z2Flav)==(169*169) ||(Z1Flav*Z2Flav)==(121*169)  )*137.1*(ZZMass>=220)*(EventTag==0)*1000*xsec*overallEventWeight*L1prefiringWeight/Bin40\n",
      "LHEweight_PDFVariation_Dn*p_Gen_GG_BKG_MCFM*KFactor_QCD_ggZZ_Nominal*((Z1Flav*Z2Flav)==(121*121) ||(Z1Flav*Z2Flav)==(169*169) ||(Z1Flav*Z2Flav)==(121*169)  )*137.1*(ZZMass>=220)*(EventTag==0)*1000*xsec*overallEventWeight*L1prefiringWeight/Bin40\n",
      "----------------------\n",
      "up: 32787.2952042222\n",
      "dn: 31744.67221543193\n",
      "LHEweight_AsMZ_Up*p_Gen_GG_BKG_MCFM*KFactor_QCD_ggZZ_Nominal*((Z1Flav*Z2Flav)==(121*121) ||(Z1Flav*Z2Flav)==(169*169) ||(Z1Flav*Z2Flav)==(121*169)  )*137.1*(ZZMass>=220)*(EventTag==0)*1000*xsec*overallEventWeight*L1prefiringWeight/Bin40\n",
      "LHEweight_AsMZ_Dn*p_Gen_GG_BKG_MCFM*KFactor_QCD_ggZZ_Nominal*((Z1Flav*Z2Flav)==(121*121) ||(Z1Flav*Z2Flav)==(169*169) ||(Z1Flav*Z2Flav)==(121*169)  )*137.1*(ZZMass>=220)*(EventTag==0)*1000*xsec*overallEventWeight*L1prefiringWeight/Bin40\n",
      "----------------------\n",
      "up: 32560.745253294706\n",
      "dn: 31620.49012608826\n",
      "PythiaWeight_isr_muR4 * PythiaWeight_fsr_muR4*p_Gen_GG_BKG_MCFM*KFactor_QCD_ggZZ_Nominal*((Z1Flav*Z2Flav)==(121*121) ||(Z1Flav*Z2Flav)==(169*169) ||(Z1Flav*Z2Flav)==(121*169)  )*137.1*(ZZMass>=220)*(EventTag==0)*1000*xsec*overallEventWeight*L1prefiringWeight/Bin40\n",
      "PythiaWeight_isr_muR0p25 * PythiaWeight_fsr_muR0p25*p_Gen_GG_BKG_MCFM*KFactor_QCD_ggZZ_Nominal*((Z1Flav*Z2Flav)==(121*121) ||(Z1Flav*Z2Flav)==(169*169) ||(Z1Flav*Z2Flav)==(121*169)  )*137.1*(ZZMass>=220)*(EventTag==0)*1000*xsec*overallEventWeight*L1prefiringWeight/Bin40\n",
      "----------------------\n",
      "up: 36331.66936407983\n",
      "dn: 20055.11287726462\n",
      "om nomnomm: 32232.28519964218\n",
      "here 28135.873634889722\n",
      "here 37254.68205520511\n",
      "here 31815.81154626608\n",
      "here 32698.129045784473\n",
      "here 32787.2952042222\n",
      "here 31744.67221543193\n",
      "here 32560.745253294706\n",
      "here 31620.49012608826\n",
      "here 36331.66936407983\n",
      "here 20055.11287726462\n"
     ]
    },
    {
     "data": {
      "application/vnd.jupyter.widget-view+json": {
       "model_id": "4c854d79808c4a829263334f73c50019",
       "version_major": 2,
       "version_minor": 0
      },
      "text/plain": [
       "  0%|          | 0/1 [00:00<?, ?it/s]"
      ]
     },
     "metadata": {},
     "output_type": "display_data"
    },
    {
     "name": "stdout",
     "output_type": "stream",
     "text": [
      "/eos/user/s/skyriaco/Offshell/Syst/highmass/MC_18/200205_CutBased/MC_2018/HighMass/ggH300_minloHJJ/ZZ4lAnalysis.root\n",
      "LHEweight_QCDscale_muR2_muF1*p_Gen_GG_BKG_MCFM*KFactor_QCD_ggZZ_Nominal*((Z1Flav*Z2Flav)==(121*121) ||(Z1Flav*Z2Flav)==(169*169) ||(Z1Flav*Z2Flav)==(121*169)  )*137.1*(ZZMass>=220)*(EventTag==0)*1000*xsec*overallEventWeight*L1prefiringWeight/Bin40\n",
      "LHEweight_QCDscale_muR0p5_muF1*p_Gen_GG_BKG_MCFM*KFactor_QCD_ggZZ_Nominal*((Z1Flav*Z2Flav)==(121*121) ||(Z1Flav*Z2Flav)==(169*169) ||(Z1Flav*Z2Flav)==(121*169)  )*137.1*(ZZMass>=220)*(EventTag==0)*1000*xsec*overallEventWeight*L1prefiringWeight/Bin40\n",
      "----------------------\n",
      "up: 510.26738660207775\n",
      "dn: 830.9480447411843\n",
      "LHEweight_QCDscale_muR1_muF2*p_Gen_GG_BKG_MCFM*KFactor_QCD_ggZZ_Nominal*((Z1Flav*Z2Flav)==(121*121) ||(Z1Flav*Z2Flav)==(169*169) ||(Z1Flav*Z2Flav)==(121*169)  )*137.1*(ZZMass>=220)*(EventTag==0)*1000*xsec*overallEventWeight*L1prefiringWeight/Bin40\n",
      "LHEweight_QCDscale_muR1_muF0p5*p_Gen_GG_BKG_MCFM*KFactor_QCD_ggZZ_Nominal*((Z1Flav*Z2Flav)==(121*121) ||(Z1Flav*Z2Flav)==(169*169) ||(Z1Flav*Z2Flav)==(121*169)  )*137.1*(ZZMass>=220)*(EventTag==0)*1000*xsec*overallEventWeight*L1prefiringWeight/Bin40\n",
      "----------------------\n",
      "up: 664.4748653283459\n",
      "dn: 645.3654954290396\n",
      "LHEweight_PDFVariation_Up*p_Gen_GG_BKG_MCFM*KFactor_QCD_ggZZ_Nominal*((Z1Flav*Z2Flav)==(121*121) ||(Z1Flav*Z2Flav)==(169*169) ||(Z1Flav*Z2Flav)==(121*169)  )*137.1*(ZZMass>=220)*(EventTag==0)*1000*xsec*overallEventWeight*L1prefiringWeight/Bin40\n",
      "LHEweight_PDFVariation_Dn*p_Gen_GG_BKG_MCFM*KFactor_QCD_ggZZ_Nominal*((Z1Flav*Z2Flav)==(121*121) ||(Z1Flav*Z2Flav)==(169*169) ||(Z1Flav*Z2Flav)==(121*169)  )*137.1*(ZZMass>=220)*(EventTag==0)*1000*xsec*overallEventWeight*L1prefiringWeight/Bin40\n",
      "----------------------\n",
      "up: 681.6949852210892\n",
      "dn: 639.4127531078557\n",
      "LHEweight_AsMZ_Up*p_Gen_GG_BKG_MCFM*KFactor_QCD_ggZZ_Nominal*((Z1Flav*Z2Flav)==(121*121) ||(Z1Flav*Z2Flav)==(169*169) ||(Z1Flav*Z2Flav)==(121*169)  )*137.1*(ZZMass>=220)*(EventTag==0)*1000*xsec*overallEventWeight*L1prefiringWeight/Bin40\n",
      "LHEweight_AsMZ_Dn*p_Gen_GG_BKG_MCFM*KFactor_QCD_ggZZ_Nominal*((Z1Flav*Z2Flav)==(121*121) ||(Z1Flav*Z2Flav)==(169*169) ||(Z1Flav*Z2Flav)==(121*169)  )*137.1*(ZZMass>=220)*(EventTag==0)*1000*xsec*overallEventWeight*L1prefiringWeight/Bin40\n",
      "----------------------\n",
      "up: 668.2287272999893\n",
      "dn: 645.5179215805547\n",
      "PythiaWeight_isr_muR4 * PythiaWeight_fsr_muR4*p_Gen_GG_BKG_MCFM*KFactor_QCD_ggZZ_Nominal*((Z1Flav*Z2Flav)==(121*121) ||(Z1Flav*Z2Flav)==(169*169) ||(Z1Flav*Z2Flav)==(121*169)  )*137.1*(ZZMass>=220)*(EventTag==0)*1000*xsec*overallEventWeight*L1prefiringWeight/Bin40\n",
      "PythiaWeight_isr_muR0p25 * PythiaWeight_fsr_muR0p25*p_Gen_GG_BKG_MCFM*KFactor_QCD_ggZZ_Nominal*((Z1Flav*Z2Flav)==(121*121) ||(Z1Flav*Z2Flav)==(169*169) ||(Z1Flav*Z2Flav)==(121*169)  )*137.1*(ZZMass>=220)*(EventTag==0)*1000*xsec*overallEventWeight*L1prefiringWeight/Bin40\n",
      "----------------------\n",
      "up: 665.2883294640924\n",
      "dn: 617.4755832153819\n",
      "om nomnomm: 660.0408147427661\n",
      "here 510.26738660207775\n",
      "here 830.9480447411843\n",
      "here 664.4748653283459\n",
      "here 645.3654954290396\n",
      "here 681.6949852210892\n",
      "here 639.4127531078557\n",
      "here 668.2287272999893\n",
      "here 645.5179215805547\n",
      "here 665.2883294640924\n",
      "here 617.4755832153819\n"
     ]
    },
    {
     "data": {
      "application/vnd.jupyter.widget-view+json": {
       "model_id": "6302db39d1424aad9b7185668452dcaa",
       "version_major": 2,
       "version_minor": 0
      },
      "text/plain": [
       "  0%|          | 0/1 [00:00<?, ?it/s]"
      ]
     },
     "metadata": {},
     "output_type": "display_data"
    },
    {
     "name": "stdout",
     "output_type": "stream",
     "text": [
      "/eos/user/s/skyriaco/Offshell/Syst/highmass/MC_18/200205_CutBased/MC_2018/HighMass/ggH300_tunedown_minloHJJ/ZZ4lAnalysis.root\n",
      "LHEweight_QCDscale_muR2_muF1*p_Gen_GG_BKG_MCFM*KFactor_QCD_ggZZ_Nominal*((Z1Flav*Z2Flav)==(121*121) ||(Z1Flav*Z2Flav)==(169*169) ||(Z1Flav*Z2Flav)==(121*169)  )*137.1*(ZZMass>=220)*(EventTag==0)*1000*xsec*overallEventWeight*L1prefiringWeight/Bin40\n",
      "LHEweight_QCDscale_muR0p5_muF1*p_Gen_GG_BKG_MCFM*KFactor_QCD_ggZZ_Nominal*((Z1Flav*Z2Flav)==(121*121) ||(Z1Flav*Z2Flav)==(169*169) ||(Z1Flav*Z2Flav)==(121*169)  )*137.1*(ZZMass>=220)*(EventTag==0)*1000*xsec*overallEventWeight*L1prefiringWeight/Bin40\n",
      "----------------------\n",
      "up: 541.0567490458488\n",
      "dn: 862.4204024076462\n",
      "LHEweight_QCDscale_muR1_muF2*p_Gen_GG_BKG_MCFM*KFactor_QCD_ggZZ_Nominal*((Z1Flav*Z2Flav)==(121*121) ||(Z1Flav*Z2Flav)==(169*169) ||(Z1Flav*Z2Flav)==(121*169)  )*137.1*(ZZMass>=220)*(EventTag==0)*1000*xsec*overallEventWeight*L1prefiringWeight/Bin40\n",
      "LHEweight_QCDscale_muR1_muF0p5*p_Gen_GG_BKG_MCFM*KFactor_QCD_ggZZ_Nominal*((Z1Flav*Z2Flav)==(121*121) ||(Z1Flav*Z2Flav)==(169*169) ||(Z1Flav*Z2Flav)==(121*169)  )*137.1*(ZZMass>=220)*(EventTag==0)*1000*xsec*overallEventWeight*L1prefiringWeight/Bin40\n",
      "----------------------\n",
      "up: 703.5194727182388\n",
      "dn: 673.9992339611053\n",
      "LHEweight_PDFVariation_Up*p_Gen_GG_BKG_MCFM*KFactor_QCD_ggZZ_Nominal*((Z1Flav*Z2Flav)==(121*121) ||(Z1Flav*Z2Flav)==(169*169) ||(Z1Flav*Z2Flav)==(121*169)  )*137.1*(ZZMass>=220)*(EventTag==0)*1000*xsec*overallEventWeight*L1prefiringWeight/Bin40\n",
      "LHEweight_PDFVariation_Dn*p_Gen_GG_BKG_MCFM*KFactor_QCD_ggZZ_Nominal*((Z1Flav*Z2Flav)==(121*121) ||(Z1Flav*Z2Flav)==(169*169) ||(Z1Flav*Z2Flav)==(121*169)  )*137.1*(ZZMass>=220)*(EventTag==0)*1000*xsec*overallEventWeight*L1prefiringWeight/Bin40\n",
      "----------------------\n",
      "up: 719.8121688365936\n",
      "dn: 671.9211302995682\n",
      "LHEweight_AsMZ_Up*p_Gen_GG_BKG_MCFM*KFactor_QCD_ggZZ_Nominal*((Z1Flav*Z2Flav)==(121*121) ||(Z1Flav*Z2Flav)==(169*169) ||(Z1Flav*Z2Flav)==(121*169)  )*137.1*(ZZMass>=220)*(EventTag==0)*1000*xsec*overallEventWeight*L1prefiringWeight/Bin40\n",
      "LHEweight_AsMZ_Dn*p_Gen_GG_BKG_MCFM*KFactor_QCD_ggZZ_Nominal*((Z1Flav*Z2Flav)==(121*121) ||(Z1Flav*Z2Flav)==(169*169) ||(Z1Flav*Z2Flav)==(121*169)  )*137.1*(ZZMass>=220)*(EventTag==0)*1000*xsec*overallEventWeight*L1prefiringWeight/Bin40\n",
      "----------------------\n",
      "up: 703.5858118534088\n",
      "dn: 681.1898275613785\n",
      "PythiaWeight_isr_muR4 * PythiaWeight_fsr_muR4*p_Gen_GG_BKG_MCFM*KFactor_QCD_ggZZ_Nominal*((Z1Flav*Z2Flav)==(121*121) ||(Z1Flav*Z2Flav)==(169*169) ||(Z1Flav*Z2Flav)==(121*169)  )*137.1*(ZZMass>=220)*(EventTag==0)*1000*xsec*overallEventWeight*L1prefiringWeight/Bin40\n",
      "PythiaWeight_isr_muR0p25 * PythiaWeight_fsr_muR0p25*p_Gen_GG_BKG_MCFM*KFactor_QCD_ggZZ_Nominal*((Z1Flav*Z2Flav)==(121*121) ||(Z1Flav*Z2Flav)==(169*169) ||(Z1Flav*Z2Flav)==(121*169)  )*137.1*(ZZMass>=220)*(EventTag==0)*1000*xsec*overallEventWeight*L1prefiringWeight/Bin40\n",
      "----------------------\n",
      "up: 691.6781154870987\n",
      "dn: 711.3325444459915\n",
      "om nomnomm: 695.3178893327713\n",
      "here 541.0567490458488\n",
      "here 862.4204024076462\n",
      "here 703.5194727182388\n",
      "here 673.9992339611053\n",
      "here 719.8121688365936\n",
      "here 671.9211302995682\n",
      "here 703.5858118534088\n",
      "here 681.1898275613785\n",
      "here 691.6781154870987\n",
      "here 711.3325444459915\n"
     ]
    },
    {
     "data": {
      "application/vnd.jupyter.widget-view+json": {
       "model_id": "8c09b7ff1f764a01be3da35c5160663c",
       "version_major": 2,
       "version_minor": 0
      },
      "text/plain": [
       "  0%|          | 0/1 [00:00<?, ?it/s]"
      ]
     },
     "metadata": {},
     "output_type": "display_data"
    },
    {
     "name": "stdout",
     "output_type": "stream",
     "text": [
      "/eos/user/s/skyriaco/Offshell/Syst/highmass/MC_18/200205_CutBased/MC_2018/HighMass/ggH300_tuneup_minloHJJ/ZZ4lAnalysis.root\n",
      "LHEweight_QCDscale_muR2_muF1*p_Gen_GG_BKG_MCFM*KFactor_QCD_ggZZ_Nominal*((Z1Flav*Z2Flav)==(121*121) ||(Z1Flav*Z2Flav)==(169*169) ||(Z1Flav*Z2Flav)==(121*169)  )*137.1*(ZZMass>=220)*(EventTag==0)*1000*xsec*overallEventWeight*L1prefiringWeight/Bin40\n",
      "LHEweight_QCDscale_muR0p5_muF1*p_Gen_GG_BKG_MCFM*KFactor_QCD_ggZZ_Nominal*((Z1Flav*Z2Flav)==(121*121) ||(Z1Flav*Z2Flav)==(169*169) ||(Z1Flav*Z2Flav)==(121*169)  )*137.1*(ZZMass>=220)*(EventTag==0)*1000*xsec*overallEventWeight*L1prefiringWeight/Bin40\n",
      "----------------------\n",
      "up: 494.38118970394135\n",
      "dn: 811.5322821140289\n",
      "LHEweight_QCDscale_muR1_muF2*p_Gen_GG_BKG_MCFM*KFactor_QCD_ggZZ_Nominal*((Z1Flav*Z2Flav)==(121*121) ||(Z1Flav*Z2Flav)==(169*169) ||(Z1Flav*Z2Flav)==(121*169)  )*137.1*(ZZMass>=220)*(EventTag==0)*1000*xsec*overallEventWeight*L1prefiringWeight/Bin40\n",
      "LHEweight_QCDscale_muR1_muF0p5*p_Gen_GG_BKG_MCFM*KFactor_QCD_ggZZ_Nominal*((Z1Flav*Z2Flav)==(121*121) ||(Z1Flav*Z2Flav)==(169*169) ||(Z1Flav*Z2Flav)==(121*169)  )*137.1*(ZZMass>=220)*(EventTag==0)*1000*xsec*overallEventWeight*L1prefiringWeight/Bin40\n",
      "----------------------\n",
      "up: 645.370748758316\n",
      "dn: 625.1264444589615\n",
      "LHEweight_PDFVariation_Up*p_Gen_GG_BKG_MCFM*KFactor_QCD_ggZZ_Nominal*((Z1Flav*Z2Flav)==(121*121) ||(Z1Flav*Z2Flav)==(169*169) ||(Z1Flav*Z2Flav)==(121*169)  )*137.1*(ZZMass>=220)*(EventTag==0)*1000*xsec*overallEventWeight*L1prefiringWeight/Bin40\n",
      "LHEweight_PDFVariation_Dn*p_Gen_GG_BKG_MCFM*KFactor_QCD_ggZZ_Nominal*((Z1Flav*Z2Flav)==(121*121) ||(Z1Flav*Z2Flav)==(169*169) ||(Z1Flav*Z2Flav)==(121*169)  )*137.1*(ZZMass>=220)*(EventTag==0)*1000*xsec*overallEventWeight*L1prefiringWeight/Bin40\n",
      "----------------------\n",
      "up: 662.9250576496124\n",
      "dn: 619.7663434743881\n",
      "LHEweight_AsMZ_Up*p_Gen_GG_BKG_MCFM*KFactor_QCD_ggZZ_Nominal*((Z1Flav*Z2Flav)==(121*121) ||(Z1Flav*Z2Flav)==(169*169) ||(Z1Flav*Z2Flav)==(121*169)  )*137.1*(ZZMass>=220)*(EventTag==0)*1000*xsec*overallEventWeight*L1prefiringWeight/Bin40\n",
      "LHEweight_AsMZ_Dn*p_Gen_GG_BKG_MCFM*KFactor_QCD_ggZZ_Nominal*((Z1Flav*Z2Flav)==(121*121) ||(Z1Flav*Z2Flav)==(169*169) ||(Z1Flav*Z2Flav)==(121*169)  )*137.1*(ZZMass>=220)*(EventTag==0)*1000*xsec*overallEventWeight*L1prefiringWeight/Bin40\n",
      "----------------------\n",
      "up: 648.8423433303833\n",
      "dn: 626.9402521848679\n",
      "PythiaWeight_isr_muR4 * PythiaWeight_fsr_muR4*p_Gen_GG_BKG_MCFM*KFactor_QCD_ggZZ_Nominal*((Z1Flav*Z2Flav)==(121*121) ||(Z1Flav*Z2Flav)==(169*169) ||(Z1Flav*Z2Flav)==(121*169)  )*137.1*(ZZMass>=220)*(EventTag==0)*1000*xsec*overallEventWeight*L1prefiringWeight/Bin40\n",
      "PythiaWeight_isr_muR0p25 * PythiaWeight_fsr_muR0p25*p_Gen_GG_BKG_MCFM*KFactor_QCD_ggZZ_Nominal*((Z1Flav*Z2Flav)==(121*121) ||(Z1Flav*Z2Flav)==(169*169) ||(Z1Flav*Z2Flav)==(121*169)  )*137.1*(ZZMass>=220)*(EventTag==0)*1000*xsec*overallEventWeight*L1prefiringWeight/Bin40\n",
      "----------------------\n",
      "up: 650.4124555587769\n",
      "dn: 608.0031559467316\n",
      "om nomnomm: 640.7073004245758\n",
      "here 494.38118970394135\n",
      "here 811.5322821140289\n",
      "here 645.370748758316\n",
      "here 625.1264444589615\n",
      "here 662.9250576496124\n",
      "here 619.7663434743881\n",
      "here 648.8423433303833\n",
      "here 626.9402521848679\n",
      "here 650.4124555587769\n",
      "here 608.0031559467316\n"
     ]
    },
    {
     "data": {
      "application/vnd.jupyter.widget-view+json": {
       "model_id": "19ada54a91f64df7892d10c3d39259fe",
       "version_major": 2,
       "version_minor": 0
      },
      "text/plain": [
       "  0%|          | 0/1 [00:00<?, ?it/s]"
      ]
     },
     "metadata": {},
     "output_type": "display_data"
    },
    {
     "name": "stdout",
     "output_type": "stream",
     "text": [
      "/eos/user/s/skyriaco/Offshell/Syst/highmass/MC_18/200205_CutBased/MC_2018/HighMass/ggH350/ZZ4lAnalysis.root\n",
      "LHEweight_QCDscale_muR2_muF1*p_Gen_GG_BKG_MCFM*KFactor_QCD_ggZZ_Nominal*((Z1Flav*Z2Flav)==(121*121) ||(Z1Flav*Z2Flav)==(169*169) ||(Z1Flav*Z2Flav)==(121*169)  )*137.1*(ZZMass>=220)*(EventTag==0)*1000*xsec*overallEventWeight*L1prefiringWeight/Bin40\n",
      "LHEweight_QCDscale_muR0p5_muF1*p_Gen_GG_BKG_MCFM*KFactor_QCD_ggZZ_Nominal*((Z1Flav*Z2Flav)==(121*121) ||(Z1Flav*Z2Flav)==(169*169) ||(Z1Flav*Z2Flav)==(121*169)  )*137.1*(ZZMass>=220)*(EventTag==0)*1000*xsec*overallEventWeight*L1prefiringWeight/Bin40\n",
      "----------------------\n",
      "up: 240.20931580290198\n",
      "dn: 318.5050952602178\n",
      "LHEweight_QCDscale_muR1_muF2*p_Gen_GG_BKG_MCFM*KFactor_QCD_ggZZ_Nominal*((Z1Flav*Z2Flav)==(121*121) ||(Z1Flav*Z2Flav)==(169*169) ||(Z1Flav*Z2Flav)==(121*169)  )*137.1*(ZZMass>=220)*(EventTag==0)*1000*xsec*overallEventWeight*L1prefiringWeight/Bin40\n",
      "LHEweight_QCDscale_muR1_muF0p5*p_Gen_GG_BKG_MCFM*KFactor_QCD_ggZZ_Nominal*((Z1Flav*Z2Flav)==(121*121) ||(Z1Flav*Z2Flav)==(169*169) ||(Z1Flav*Z2Flav)==(121*169)  )*137.1*(ZZMass>=220)*(EventTag==0)*1000*xsec*overallEventWeight*L1prefiringWeight/Bin40\n",
      "----------------------\n",
      "up: 272.70984522486106\n",
      "dn: 278.30060348752886\n",
      "LHEweight_PDFVariation_Up*p_Gen_GG_BKG_MCFM*KFactor_QCD_ggZZ_Nominal*((Z1Flav*Z2Flav)==(121*121) ||(Z1Flav*Z2Flav)==(169*169) ||(Z1Flav*Z2Flav)==(121*169)  )*137.1*(ZZMass>=220)*(EventTag==0)*1000*xsec*overallEventWeight*L1prefiringWeight/Bin40\n",
      "LHEweight_PDFVariation_Dn*p_Gen_GG_BKG_MCFM*KFactor_QCD_ggZZ_Nominal*((Z1Flav*Z2Flav)==(121*121) ||(Z1Flav*Z2Flav)==(169*169) ||(Z1Flav*Z2Flav)==(121*169)  )*137.1*(ZZMass>=220)*(EventTag==0)*1000*xsec*overallEventWeight*L1prefiringWeight/Bin40\n",
      "----------------------\n",
      "up: 280.65431198244914\n",
      "dn: 270.6918521570042\n",
      "LHEweight_AsMZ_Up*p_Gen_GG_BKG_MCFM*KFactor_QCD_ggZZ_Nominal*((Z1Flav*Z2Flav)==(121*121) ||(Z1Flav*Z2Flav)==(169*169) ||(Z1Flav*Z2Flav)==(121*169)  )*137.1*(ZZMass>=220)*(EventTag==0)*1000*xsec*overallEventWeight*L1prefiringWeight/Bin40\n",
      "LHEweight_AsMZ_Dn*p_Gen_GG_BKG_MCFM*KFactor_QCD_ggZZ_Nominal*((Z1Flav*Z2Flav)==(121*121) ||(Z1Flav*Z2Flav)==(169*169) ||(Z1Flav*Z2Flav)==(121*169)  )*137.1*(ZZMass>=220)*(EventTag==0)*1000*xsec*overallEventWeight*L1prefiringWeight/Bin40\n",
      "----------------------\n",
      "up: 278.2611733973026\n",
      "dn: 270.09066655207425\n",
      "PythiaWeight_isr_muR4 * PythiaWeight_fsr_muR4*p_Gen_GG_BKG_MCFM*KFactor_QCD_ggZZ_Nominal*((Z1Flav*Z2Flav)==(121*121) ||(Z1Flav*Z2Flav)==(169*169) ||(Z1Flav*Z2Flav)==(121*169)  )*137.1*(ZZMass>=220)*(EventTag==0)*1000*xsec*overallEventWeight*L1prefiringWeight/Bin40\n",
      "PythiaWeight_isr_muR0p25 * PythiaWeight_fsr_muR0p25*p_Gen_GG_BKG_MCFM*KFactor_QCD_ggZZ_Nominal*((Z1Flav*Z2Flav)==(121*121) ||(Z1Flav*Z2Flav)==(169*169) ||(Z1Flav*Z2Flav)==(121*169)  )*137.1*(ZZMass>=220)*(EventTag==0)*1000*xsec*overallEventWeight*L1prefiringWeight/Bin40\n",
      "----------------------\n",
      "up: 274.86278271651827\n",
      "dn: 226.53101455047727\n",
      "om nomnomm: 275.3544447799213\n",
      "here 240.20931580290198\n",
      "here 318.5050952602178\n",
      "here 272.70984522486106\n",
      "here 278.30060348752886\n",
      "here 280.65431198244914\n",
      "here 270.6918521570042\n",
      "here 278.2611733973026\n",
      "here 270.09066655207425\n",
      "here 274.86278271651827\n",
      "here 226.53101455047727\n"
     ]
    },
    {
     "data": {
      "application/vnd.jupyter.widget-view+json": {
       "model_id": "3efed31d6d9041bcaac8380a534b1407",
       "version_major": 2,
       "version_minor": 0
      },
      "text/plain": [
       "  0%|          | 0/1 [00:00<?, ?it/s]"
      ]
     },
     "metadata": {},
     "output_type": "display_data"
    },
    {
     "name": "stdout",
     "output_type": "stream",
     "text": [
      "/eos/user/s/skyriaco/Offshell/Syst/highmass/MC_18/200205_CutBased/MC_2018/HighMass/ggH400/ZZ4lAnalysis.root\n",
      "LHEweight_QCDscale_muR2_muF1*p_Gen_GG_BKG_MCFM*KFactor_QCD_ggZZ_Nominal*((Z1Flav*Z2Flav)==(121*121) ||(Z1Flav*Z2Flav)==(169*169) ||(Z1Flav*Z2Flav)==(121*169)  )*137.1*(ZZMass>=220)*(EventTag==0)*1000*xsec*overallEventWeight*L1prefiringWeight/Bin40\n",
      "LHEweight_QCDscale_muR0p5_muF1*p_Gen_GG_BKG_MCFM*KFactor_QCD_ggZZ_Nominal*((Z1Flav*Z2Flav)==(121*121) ||(Z1Flav*Z2Flav)==(169*169) ||(Z1Flav*Z2Flav)==(121*169)  )*137.1*(ZZMass>=220)*(EventTag==0)*1000*xsec*overallEventWeight*L1prefiringWeight/Bin40\n",
      "----------------------\n",
      "up: 175.7557767436374\n",
      "dn: 229.7009058520198\n",
      "LHEweight_QCDscale_muR1_muF2*p_Gen_GG_BKG_MCFM*KFactor_QCD_ggZZ_Nominal*((Z1Flav*Z2Flav)==(121*121) ||(Z1Flav*Z2Flav)==(169*169) ||(Z1Flav*Z2Flav)==(121*169)  )*137.1*(ZZMass>=220)*(EventTag==0)*1000*xsec*overallEventWeight*L1prefiringWeight/Bin40\n",
      "LHEweight_QCDscale_muR1_muF0p5*p_Gen_GG_BKG_MCFM*KFactor_QCD_ggZZ_Nominal*((Z1Flav*Z2Flav)==(121*121) ||(Z1Flav*Z2Flav)==(169*169) ||(Z1Flav*Z2Flav)==(121*169)  )*137.1*(ZZMass>=220)*(EventTag==0)*1000*xsec*overallEventWeight*L1prefiringWeight/Bin40\n",
      "----------------------\n",
      "up: 197.75194536196068\n",
      "dn: 203.1183154832106\n",
      "LHEweight_PDFVariation_Up*p_Gen_GG_BKG_MCFM*KFactor_QCD_ggZZ_Nominal*((Z1Flav*Z2Flav)==(121*121) ||(Z1Flav*Z2Flav)==(169*169) ||(Z1Flav*Z2Flav)==(121*169)  )*137.1*(ZZMass>=220)*(EventTag==0)*1000*xsec*overallEventWeight*L1prefiringWeight/Bin40\n",
      "LHEweight_PDFVariation_Dn*p_Gen_GG_BKG_MCFM*KFactor_QCD_ggZZ_Nominal*((Z1Flav*Z2Flav)==(121*121) ||(Z1Flav*Z2Flav)==(169*169) ||(Z1Flav*Z2Flav)==(121*169)  )*137.1*(ZZMass>=220)*(EventTag==0)*1000*xsec*overallEventWeight*L1prefiringWeight/Bin40\n",
      "----------------------\n",
      "up: 203.9353363562841\n",
      "dn: 196.99256267165765\n",
      "LHEweight_AsMZ_Up*p_Gen_GG_BKG_MCFM*KFactor_QCD_ggZZ_Nominal*((Z1Flav*Z2Flav)==(121*121) ||(Z1Flav*Z2Flav)==(169*169) ||(Z1Flav*Z2Flav)==(121*169)  )*137.1*(ZZMass>=220)*(EventTag==0)*1000*xsec*overallEventWeight*L1prefiringWeight/Bin40\n",
      "LHEweight_AsMZ_Dn*p_Gen_GG_BKG_MCFM*KFactor_QCD_ggZZ_Nominal*((Z1Flav*Z2Flav)==(121*121) ||(Z1Flav*Z2Flav)==(169*169) ||(Z1Flav*Z2Flav)==(121*169)  )*137.1*(ZZMass>=220)*(EventTag==0)*1000*xsec*overallEventWeight*L1prefiringWeight/Bin40\n",
      "----------------------\n",
      "up: 202.15029649902135\n",
      "dn: 196.48168899375014\n",
      "PythiaWeight_isr_muR4 * PythiaWeight_fsr_muR4*p_Gen_GG_BKG_MCFM*KFactor_QCD_ggZZ_Nominal*((Z1Flav*Z2Flav)==(121*121) ||(Z1Flav*Z2Flav)==(169*169) ||(Z1Flav*Z2Flav)==(121*169)  )*137.1*(ZZMass>=220)*(EventTag==0)*1000*xsec*overallEventWeight*L1prefiringWeight/Bin40\n",
      "PythiaWeight_isr_muR0p25 * PythiaWeight_fsr_muR0p25*p_Gen_GG_BKG_MCFM*KFactor_QCD_ggZZ_Nominal*((Z1Flav*Z2Flav)==(121*121) ||(Z1Flav*Z2Flav)==(169*169) ||(Z1Flav*Z2Flav)==(121*169)  )*137.1*(ZZMass>=220)*(EventTag==0)*1000*xsec*overallEventWeight*L1prefiringWeight/Bin40\n",
      "----------------------\n",
      "up: 208.2122089373879\n",
      "dn: 147.58084594574757\n",
      "om nomnomm: 200.2067852751352\n",
      "here 175.7557767436374\n",
      "here 229.7009058520198\n",
      "here 197.75194536196068\n",
      "here 203.1183154832106\n",
      "here 203.9353363562841\n",
      "here 196.99256267165765\n",
      "here 202.15029649902135\n",
      "here 196.48168899375014\n",
      "here 208.2122089373879\n",
      "here 147.58084594574757\n"
     ]
    },
    {
     "data": {
      "application/vnd.jupyter.widget-view+json": {
       "model_id": "8f3453f52aff4f23b9bda575e6983b6b",
       "version_major": 2,
       "version_minor": 0
      },
      "text/plain": [
       "  0%|          | 0/1 [00:00<?, ?it/s]"
      ]
     },
     "metadata": {},
     "output_type": "display_data"
    },
    {
     "name": "stdout",
     "output_type": "stream",
     "text": [
      "/eos/user/s/skyriaco/Offshell/Syst/highmass/MC_18/200205_CutBased/MC_2018/HighMass/ggH450/ZZ4lAnalysis.root\n",
      "LHEweight_QCDscale_muR2_muF1*p_Gen_GG_BKG_MCFM*KFactor_QCD_ggZZ_Nominal*((Z1Flav*Z2Flav)==(121*121) ||(Z1Flav*Z2Flav)==(169*169) ||(Z1Flav*Z2Flav)==(121*169)  )*137.1*(ZZMass>=220)*(EventTag==0)*1000*xsec*overallEventWeight*L1prefiringWeight/Bin40\n",
      "LHEweight_QCDscale_muR0p5_muF1*p_Gen_GG_BKG_MCFM*KFactor_QCD_ggZZ_Nominal*((Z1Flav*Z2Flav)==(121*121) ||(Z1Flav*Z2Flav)==(169*169) ||(Z1Flav*Z2Flav)==(121*169)  )*137.1*(ZZMass>=220)*(EventTag==0)*1000*xsec*overallEventWeight*L1prefiringWeight/Bin40\n",
      "----------------------\n",
      "up: 155.81577432574704\n",
      "dn: 206.6099104329478\n",
      "LHEweight_QCDscale_muR1_muF2*p_Gen_GG_BKG_MCFM*KFactor_QCD_ggZZ_Nominal*((Z1Flav*Z2Flav)==(121*121) ||(Z1Flav*Z2Flav)==(169*169) ||(Z1Flav*Z2Flav)==(121*169)  )*137.1*(ZZMass>=220)*(EventTag==0)*1000*xsec*overallEventWeight*L1prefiringWeight/Bin40\n",
      "LHEweight_QCDscale_muR1_muF0p5*p_Gen_GG_BKG_MCFM*KFactor_QCD_ggZZ_Nominal*((Z1Flav*Z2Flav)==(121*121) ||(Z1Flav*Z2Flav)==(169*169) ||(Z1Flav*Z2Flav)==(121*169)  )*137.1*(ZZMass>=220)*(EventTag==0)*1000*xsec*overallEventWeight*L1prefiringWeight/Bin40\n",
      "----------------------\n",
      "up: 177.07003643165808\n",
      "dn: 180.2610542899929\n",
      "LHEweight_PDFVariation_Up*p_Gen_GG_BKG_MCFM*KFactor_QCD_ggZZ_Nominal*((Z1Flav*Z2Flav)==(121*121) ||(Z1Flav*Z2Flav)==(169*169) ||(Z1Flav*Z2Flav)==(121*169)  )*137.1*(ZZMass>=220)*(EventTag==0)*1000*xsec*overallEventWeight*L1prefiringWeight/Bin40\n",
      "LHEweight_PDFVariation_Dn*p_Gen_GG_BKG_MCFM*KFactor_QCD_ggZZ_Nominal*((Z1Flav*Z2Flav)==(121*121) ||(Z1Flav*Z2Flav)==(169*169) ||(Z1Flav*Z2Flav)==(121*169)  )*137.1*(ZZMass>=220)*(EventTag==0)*1000*xsec*overallEventWeight*L1prefiringWeight/Bin40\n",
      "----------------------\n",
      "up: 181.86986284074374\n",
      "dn: 175.7124825208448\n",
      "LHEweight_AsMZ_Up*p_Gen_GG_BKG_MCFM*KFactor_QCD_ggZZ_Nominal*((Z1Flav*Z2Flav)==(121*121) ||(Z1Flav*Z2Flav)==(169*169) ||(Z1Flav*Z2Flav)==(121*169)  )*137.1*(ZZMass>=220)*(EventTag==0)*1000*xsec*overallEventWeight*L1prefiringWeight/Bin40\n",
      "LHEweight_AsMZ_Dn*p_Gen_GG_BKG_MCFM*KFactor_QCD_ggZZ_Nominal*((Z1Flav*Z2Flav)==(121*121) ||(Z1Flav*Z2Flav)==(169*169) ||(Z1Flav*Z2Flav)==(121*169)  )*137.1*(ZZMass>=220)*(EventTag==0)*1000*xsec*overallEventWeight*L1prefiringWeight/Bin40\n",
      "----------------------\n",
      "up: 180.48594883317128\n",
      "dn: 175.20484713930637\n",
      "PythiaWeight_isr_muR4 * PythiaWeight_fsr_muR4*p_Gen_GG_BKG_MCFM*KFactor_QCD_ggZZ_Nominal*((Z1Flav*Z2Flav)==(121*121) ||(Z1Flav*Z2Flav)==(169*169) ||(Z1Flav*Z2Flav)==(121*169)  )*137.1*(ZZMass>=220)*(EventTag==0)*1000*xsec*overallEventWeight*L1prefiringWeight/Bin40\n",
      "PythiaWeight_isr_muR0p25 * PythiaWeight_fsr_muR0p25*p_Gen_GG_BKG_MCFM*KFactor_QCD_ggZZ_Nominal*((Z1Flav*Z2Flav)==(121*121) ||(Z1Flav*Z2Flav)==(169*169) ||(Z1Flav*Z2Flav)==(121*169)  )*137.1*(ZZMass>=220)*(EventTag==0)*1000*xsec*overallEventWeight*L1prefiringWeight/Bin40\n",
      "----------------------\n",
      "up: 182.4062623316422\n",
      "dn: 141.99588756990852\n",
      "om nomnomm: 178.59888983378187\n",
      "here 155.81577432574704\n",
      "here 206.6099104329478\n",
      "here 177.07003643165808\n",
      "here 180.2610542899929\n",
      "here 181.86986284074374\n",
      "here 175.7124825208448\n",
      "here 180.48594883317128\n",
      "here 175.20484713930637\n",
      "here 182.4062623316422\n",
      "here 141.99588756990852\n"
     ]
    },
    {
     "data": {
      "application/vnd.jupyter.widget-view+json": {
       "model_id": "61d5218d0ab94d1c9146e326150e93f2",
       "version_major": 2,
       "version_minor": 0
      },
      "text/plain": [
       "  0%|          | 0/1 [00:00<?, ?it/s]"
      ]
     },
     "metadata": {},
     "output_type": "display_data"
    },
    {
     "name": "stdout",
     "output_type": "stream",
     "text": [
      "/eos/user/s/skyriaco/Offshell/Syst/highmass/MC_18/200205_CutBased/MC_2018/HighMass/ggH500/ZZ4lAnalysis.root\n",
      "LHEweight_QCDscale_muR2_muF1*p_Gen_GG_BKG_MCFM*KFactor_QCD_ggZZ_Nominal*((Z1Flav*Z2Flav)==(121*121) ||(Z1Flav*Z2Flav)==(169*169) ||(Z1Flav*Z2Flav)==(121*169)  )*137.1*(ZZMass>=220)*(EventTag==0)*1000*xsec*overallEventWeight*L1prefiringWeight/Bin40\n",
      "LHEweight_QCDscale_muR0p5_muF1*p_Gen_GG_BKG_MCFM*KFactor_QCD_ggZZ_Nominal*((Z1Flav*Z2Flav)==(121*121) ||(Z1Flav*Z2Flav)==(169*169) ||(Z1Flav*Z2Flav)==(121*169)  )*137.1*(ZZMass>=220)*(EventTag==0)*1000*xsec*overallEventWeight*L1prefiringWeight/Bin40\n",
      "----------------------\n",
      "up: 261.8456500081811\n",
      "dn: 352.94154308422003\n",
      "LHEweight_QCDscale_muR1_muF2*p_Gen_GG_BKG_MCFM*KFactor_QCD_ggZZ_Nominal*((Z1Flav*Z2Flav)==(121*121) ||(Z1Flav*Z2Flav)==(169*169) ||(Z1Flav*Z2Flav)==(121*169)  )*137.1*(ZZMass>=220)*(EventTag==0)*1000*xsec*overallEventWeight*L1prefiringWeight/Bin40\n",
      "LHEweight_QCDscale_muR1_muF0p5*p_Gen_GG_BKG_MCFM*KFactor_QCD_ggZZ_Nominal*((Z1Flav*Z2Flav)==(121*121) ||(Z1Flav*Z2Flav)==(169*169) ||(Z1Flav*Z2Flav)==(121*169)  )*137.1*(ZZMass>=220)*(EventTag==0)*1000*xsec*overallEventWeight*L1prefiringWeight/Bin40\n",
      "----------------------\n",
      "up: 300.44278602243867\n",
      "dn: 304.1119354899274\n",
      "LHEweight_PDFVariation_Up*p_Gen_GG_BKG_MCFM*KFactor_QCD_ggZZ_Nominal*((Z1Flav*Z2Flav)==(121*121) ||(Z1Flav*Z2Flav)==(169*169) ||(Z1Flav*Z2Flav)==(121*169)  )*137.1*(ZZMass>=220)*(EventTag==0)*1000*xsec*overallEventWeight*L1prefiringWeight/Bin40\n",
      "LHEweight_PDFVariation_Dn*p_Gen_GG_BKG_MCFM*KFactor_QCD_ggZZ_Nominal*((Z1Flav*Z2Flav)==(121*121) ||(Z1Flav*Z2Flav)==(169*169) ||(Z1Flav*Z2Flav)==(121*169)  )*137.1*(ZZMass>=220)*(EventTag==0)*1000*xsec*overallEventWeight*L1prefiringWeight/Bin40\n",
      "----------------------\n",
      "up: 307.9820703623118\n",
      "dn: 297.32120114774443\n",
      "LHEweight_AsMZ_Up*p_Gen_GG_BKG_MCFM*KFactor_QCD_ggZZ_Nominal*((Z1Flav*Z2Flav)==(121*121) ||(Z1Flav*Z2Flav)==(169*169) ||(Z1Flav*Z2Flav)==(121*169)  )*137.1*(ZZMass>=220)*(EventTag==0)*1000*xsec*overallEventWeight*L1prefiringWeight/Bin40\n",
      "LHEweight_AsMZ_Dn*p_Gen_GG_BKG_MCFM*KFactor_QCD_ggZZ_Nominal*((Z1Flav*Z2Flav)==(121*121) ||(Z1Flav*Z2Flav)==(169*169) ||(Z1Flav*Z2Flav)==(121*169)  )*137.1*(ZZMass>=220)*(EventTag==0)*1000*xsec*overallEventWeight*L1prefiringWeight/Bin40\n",
      "----------------------\n",
      "up: 305.72521235386375\n",
      "dn: 296.2115001856582\n",
      "PythiaWeight_isr_muR4 * PythiaWeight_fsr_muR4*p_Gen_GG_BKG_MCFM*KFactor_QCD_ggZZ_Nominal*((Z1Flav*Z2Flav)==(121*121) ||(Z1Flav*Z2Flav)==(169*169) ||(Z1Flav*Z2Flav)==(121*169)  )*137.1*(ZZMass>=220)*(EventTag==0)*1000*xsec*overallEventWeight*L1prefiringWeight/Bin40\n",
      "PythiaWeight_isr_muR0p25 * PythiaWeight_fsr_muR0p25*p_Gen_GG_BKG_MCFM*KFactor_QCD_ggZZ_Nominal*((Z1Flav*Z2Flav)==(121*121) ||(Z1Flav*Z2Flav)==(169*169) ||(Z1Flav*Z2Flav)==(121*169)  )*137.1*(ZZMass>=220)*(EventTag==0)*1000*xsec*overallEventWeight*L1prefiringWeight/Bin40\n",
      "----------------------\n",
      "up: 320.5014121014392\n",
      "dn: 200.11053409683518\n",
      "om nomnomm: 302.3249885032419\n",
      "here 261.8456500081811\n",
      "here 352.94154308422003\n",
      "here 300.44278602243867\n",
      "here 304.1119354899274\n",
      "here 307.9820703623118\n",
      "here 297.32120114774443\n",
      "here 305.72521235386375\n",
      "here 296.2115001856582\n",
      "here 320.5014121014392\n",
      "here 200.11053409683518\n"
     ]
    },
    {
     "data": {
      "application/vnd.jupyter.widget-view+json": {
       "model_id": "b73282fd3379427ca70f76ee4e53dbde",
       "version_major": 2,
       "version_minor": 0
      },
      "text/plain": [
       "  0%|          | 0/1 [00:00<?, ?it/s]"
      ]
     },
     "metadata": {},
     "output_type": "display_data"
    },
    {
     "name": "stdout",
     "output_type": "stream",
     "text": [
      "/eos/user/s/skyriaco/Offshell/Syst/highmass/MC_18/200205_CutBased/MC_2018/HighMass/ggH550/ZZ4lAnalysis.root\n",
      "LHEweight_QCDscale_muR2_muF1*p_Gen_GG_BKG_MCFM*KFactor_QCD_ggZZ_Nominal*((Z1Flav*Z2Flav)==(121*121) ||(Z1Flav*Z2Flav)==(169*169) ||(Z1Flav*Z2Flav)==(121*169)  )*137.1*(ZZMass>=220)*(EventTag==0)*1000*xsec*overallEventWeight*L1prefiringWeight/Bin40\n",
      "LHEweight_QCDscale_muR0p5_muF1*p_Gen_GG_BKG_MCFM*KFactor_QCD_ggZZ_Nominal*((Z1Flav*Z2Flav)==(121*121) ||(Z1Flav*Z2Flav)==(169*169) ||(Z1Flav*Z2Flav)==(121*169)  )*137.1*(ZZMass>=220)*(EventTag==0)*1000*xsec*overallEventWeight*L1prefiringWeight/Bin40\n",
      "----------------------\n",
      "up: 251.68738859146833\n",
      "dn: 338.5182435205206\n",
      "LHEweight_QCDscale_muR1_muF2*p_Gen_GG_BKG_MCFM*KFactor_QCD_ggZZ_Nominal*((Z1Flav*Z2Flav)==(121*121) ||(Z1Flav*Z2Flav)==(169*169) ||(Z1Flav*Z2Flav)==(121*169)  )*137.1*(ZZMass>=220)*(EventTag==0)*1000*xsec*overallEventWeight*L1prefiringWeight/Bin40\n",
      "LHEweight_QCDscale_muR1_muF0p5*p_Gen_GG_BKG_MCFM*KFactor_QCD_ggZZ_Nominal*((Z1Flav*Z2Flav)==(121*121) ||(Z1Flav*Z2Flav)==(169*169) ||(Z1Flav*Z2Flav)==(121*169)  )*137.1*(ZZMass>=220)*(EventTag==0)*1000*xsec*overallEventWeight*L1prefiringWeight/Bin40\n",
      "----------------------\n",
      "up: 286.0139186773449\n",
      "dn: 295.1717537706718\n",
      "LHEweight_PDFVariation_Up*p_Gen_GG_BKG_MCFM*KFactor_QCD_ggZZ_Nominal*((Z1Flav*Z2Flav)==(121*121) ||(Z1Flav*Z2Flav)==(169*169) ||(Z1Flav*Z2Flav)==(121*169)  )*137.1*(ZZMass>=220)*(EventTag==0)*1000*xsec*overallEventWeight*L1prefiringWeight/Bin40\n",
      "LHEweight_PDFVariation_Dn*p_Gen_GG_BKG_MCFM*KFactor_QCD_ggZZ_Nominal*((Z1Flav*Z2Flav)==(121*121) ||(Z1Flav*Z2Flav)==(169*169) ||(Z1Flav*Z2Flav)==(121*169)  )*137.1*(ZZMass>=220)*(EventTag==0)*1000*xsec*overallEventWeight*L1prefiringWeight/Bin40\n",
      "----------------------\n",
      "up: 296.01652794051915\n",
      "dn: 285.30535245500505\n",
      "LHEweight_AsMZ_Up*p_Gen_GG_BKG_MCFM*KFactor_QCD_ggZZ_Nominal*((Z1Flav*Z2Flav)==(121*121) ||(Z1Flav*Z2Flav)==(169*169) ||(Z1Flav*Z2Flav)==(121*169)  )*137.1*(ZZMass>=220)*(EventTag==0)*1000*xsec*overallEventWeight*L1prefiringWeight/Bin40\n",
      "LHEweight_AsMZ_Dn*p_Gen_GG_BKG_MCFM*KFactor_QCD_ggZZ_Nominal*((Z1Flav*Z2Flav)==(121*121) ||(Z1Flav*Z2Flav)==(169*169) ||(Z1Flav*Z2Flav)==(121*169)  )*137.1*(ZZMass>=220)*(EventTag==0)*1000*xsec*overallEventWeight*L1prefiringWeight/Bin40\n",
      "----------------------\n",
      "up: 293.6913378285244\n",
      "dn: 284.41679719276726\n",
      "PythiaWeight_isr_muR4 * PythiaWeight_fsr_muR4*p_Gen_GG_BKG_MCFM*KFactor_QCD_ggZZ_Nominal*((Z1Flav*Z2Flav)==(121*121) ||(Z1Flav*Z2Flav)==(169*169) ||(Z1Flav*Z2Flav)==(121*169)  )*137.1*(ZZMass>=220)*(EventTag==0)*1000*xsec*overallEventWeight*L1prefiringWeight/Bin40\n",
      "PythiaWeight_isr_muR0p25 * PythiaWeight_fsr_muR0p25*p_Gen_GG_BKG_MCFM*KFactor_QCD_ggZZ_Nominal*((Z1Flav*Z2Flav)==(121*121) ||(Z1Flav*Z2Flav)==(169*169) ||(Z1Flav*Z2Flav)==(121*169)  )*137.1*(ZZMass>=220)*(EventTag==0)*1000*xsec*overallEventWeight*L1prefiringWeight/Bin40\n",
      "----------------------\n",
      "up: 314.69741280190647\n",
      "dn: 175.8304527006112\n",
      "om nomnomm: 290.3033279273659\n",
      "here 251.68738859146833\n",
      "here 338.5182435205206\n",
      "here 286.0139186773449\n",
      "here 295.1717537706718\n",
      "here 296.01652794051915\n",
      "here 285.30535245500505\n",
      "here 293.6913378285244\n",
      "here 284.41679719276726\n",
      "here 314.69741280190647\n",
      "here 175.8304527006112\n"
     ]
    },
    {
     "data": {
      "application/vnd.jupyter.widget-view+json": {
       "model_id": "60a7f1fae8b34b309e5cf84013087aad",
       "version_major": 2,
       "version_minor": 0
      },
      "text/plain": [
       "  0%|          | 0/1 [00:00<?, ?it/s]"
      ]
     },
     "metadata": {},
     "output_type": "display_data"
    },
    {
     "name": "stdout",
     "output_type": "stream",
     "text": [
      "/eos/user/s/skyriaco/Offshell/Syst/highmass/MC_18/200205_CutBased/MC_2018/HighMass/ggH600/ZZ4lAnalysis.root\n",
      "LHEweight_QCDscale_muR2_muF1*p_Gen_GG_BKG_MCFM*KFactor_QCD_ggZZ_Nominal*((Z1Flav*Z2Flav)==(121*121) ||(Z1Flav*Z2Flav)==(169*169) ||(Z1Flav*Z2Flav)==(121*169)  )*137.1*(ZZMass>=220)*(EventTag==0)*1000*xsec*overallEventWeight*L1prefiringWeight/Bin40\n",
      "LHEweight_QCDscale_muR0p5_muF1*p_Gen_GG_BKG_MCFM*KFactor_QCD_ggZZ_Nominal*((Z1Flav*Z2Flav)==(121*121) ||(Z1Flav*Z2Flav)==(169*169) ||(Z1Flav*Z2Flav)==(121*169)  )*137.1*(ZZMass>=220)*(EventTag==0)*1000*xsec*overallEventWeight*L1prefiringWeight/Bin40\n",
      "----------------------\n",
      "up: 280.50749672506936\n",
      "dn: 377.5505586375948\n",
      "LHEweight_QCDscale_muR1_muF2*p_Gen_GG_BKG_MCFM*KFactor_QCD_ggZZ_Nominal*((Z1Flav*Z2Flav)==(121*121) ||(Z1Flav*Z2Flav)==(169*169) ||(Z1Flav*Z2Flav)==(121*169)  )*137.1*(ZZMass>=220)*(EventTag==0)*1000*xsec*overallEventWeight*L1prefiringWeight/Bin40\n",
      "LHEweight_QCDscale_muR1_muF0p5*p_Gen_GG_BKG_MCFM*KFactor_QCD_ggZZ_Nominal*((Z1Flav*Z2Flav)==(121*121) ||(Z1Flav*Z2Flav)==(169*169) ||(Z1Flav*Z2Flav)==(121*169)  )*137.1*(ZZMass>=220)*(EventTag==0)*1000*xsec*overallEventWeight*L1prefiringWeight/Bin40\n",
      "----------------------\n",
      "up: 318.07558966835495\n",
      "dn: 329.97719836607575\n",
      "LHEweight_PDFVariation_Up*p_Gen_GG_BKG_MCFM*KFactor_QCD_ggZZ_Nominal*((Z1Flav*Z2Flav)==(121*121) ||(Z1Flav*Z2Flav)==(169*169) ||(Z1Flav*Z2Flav)==(121*169)  )*137.1*(ZZMass>=220)*(EventTag==0)*1000*xsec*overallEventWeight*L1prefiringWeight/Bin40\n",
      "LHEweight_PDFVariation_Dn*p_Gen_GG_BKG_MCFM*KFactor_QCD_ggZZ_Nominal*((Z1Flav*Z2Flav)==(121*121) ||(Z1Flav*Z2Flav)==(169*169) ||(Z1Flav*Z2Flav)==(121*169)  )*137.1*(ZZMass>=220)*(EventTag==0)*1000*xsec*overallEventWeight*L1prefiringWeight/Bin40\n",
      "----------------------\n",
      "up: 329.6124391320627\n",
      "dn: 318.31279322702903\n",
      "LHEweight_AsMZ_Up*p_Gen_GG_BKG_MCFM*KFactor_QCD_ggZZ_Nominal*((Z1Flav*Z2Flav)==(121*121) ||(Z1Flav*Z2Flav)==(169*169) ||(Z1Flav*Z2Flav)==(121*169)  )*137.1*(ZZMass>=220)*(EventTag==0)*1000*xsec*overallEventWeight*L1prefiringWeight/Bin40\n",
      "LHEweight_AsMZ_Dn*p_Gen_GG_BKG_MCFM*KFactor_QCD_ggZZ_Nominal*((Z1Flav*Z2Flav)==(121*121) ||(Z1Flav*Z2Flav)==(169*169) ||(Z1Flav*Z2Flav)==(121*169)  )*137.1*(ZZMass>=220)*(EventTag==0)*1000*xsec*overallEventWeight*L1prefiringWeight/Bin40\n",
      "----------------------\n",
      "up: 327.1189602816012\n",
      "dn: 317.44143719703425\n",
      "PythiaWeight_isr_muR4 * PythiaWeight_fsr_muR4*p_Gen_GG_BKG_MCFM*KFactor_QCD_ggZZ_Nominal*((Z1Flav*Z2Flav)==(121*121) ||(Z1Flav*Z2Flav)==(169*169) ||(Z1Flav*Z2Flav)==(121*169)  )*137.1*(ZZMass>=220)*(EventTag==0)*1000*xsec*overallEventWeight*L1prefiringWeight/Bin40\n",
      "PythiaWeight_isr_muR0p25 * PythiaWeight_fsr_muR0p25*p_Gen_GG_BKG_MCFM*KFactor_QCD_ggZZ_Nominal*((Z1Flav*Z2Flav)==(121*121) ||(Z1Flav*Z2Flav)==(169*169) ||(Z1Flav*Z2Flav)==(121*169)  )*137.1*(ZZMass>=220)*(EventTag==0)*1000*xsec*overallEventWeight*L1prefiringWeight/Bin40\n",
      "----------------------\n",
      "up: 324.1727145499317\n",
      "dn: 281.2745973581914\n",
      "om nomnomm: 323.64313518302515\n",
      "here 280.50749672506936\n",
      "here 377.5505586375948\n",
      "here 318.07558966835495\n",
      "here 329.97719836607575\n",
      "here 329.6124391320627\n",
      "here 318.31279322702903\n",
      "here 327.1189602816012\n",
      "here 317.44143719703425\n",
      "here 324.1727145499317\n",
      "here 281.2745973581914\n"
     ]
    },
    {
     "data": {
      "application/vnd.jupyter.widget-view+json": {
       "model_id": "b23639781128438f85ff5554571a4695",
       "version_major": 2,
       "version_minor": 0
      },
      "text/plain": [
       "  0%|          | 0/1 [00:00<?, ?it/s]"
      ]
     },
     "metadata": {},
     "output_type": "display_data"
    },
    {
     "name": "stdout",
     "output_type": "stream",
     "text": [
      "/eos/user/s/skyriaco/Offshell/Syst/highmass/MC_18/200205_CutBased/MC_2018/HighMass/ggH700/ZZ4lAnalysis.root\n",
      "LHEweight_QCDscale_muR2_muF1*p_Gen_GG_BKG_MCFM*KFactor_QCD_ggZZ_Nominal*((Z1Flav*Z2Flav)==(121*121) ||(Z1Flav*Z2Flav)==(169*169) ||(Z1Flav*Z2Flav)==(121*169)  )*137.1*(ZZMass>=220)*(EventTag==0)*1000*xsec*overallEventWeight*L1prefiringWeight/Bin40\n",
      "LHEweight_QCDscale_muR0p5_muF1*p_Gen_GG_BKG_MCFM*KFactor_QCD_ggZZ_Nominal*((Z1Flav*Z2Flav)==(121*121) ||(Z1Flav*Z2Flav)==(169*169) ||(Z1Flav*Z2Flav)==(121*169)  )*137.1*(ZZMass>=220)*(EventTag==0)*1000*xsec*overallEventWeight*L1prefiringWeight/Bin40\n",
      "----------------------\n",
      "up: 576.7363346630591\n",
      "dn: 756.7702135530999\n",
      "LHEweight_QCDscale_muR1_muF2*p_Gen_GG_BKG_MCFM*KFactor_QCD_ggZZ_Nominal*((Z1Flav*Z2Flav)==(121*121) ||(Z1Flav*Z2Flav)==(169*169) ||(Z1Flav*Z2Flav)==(121*169)  )*137.1*(ZZMass>=220)*(EventTag==0)*1000*xsec*overallEventWeight*L1prefiringWeight/Bin40\n",
      "LHEweight_QCDscale_muR1_muF0p5*p_Gen_GG_BKG_MCFM*KFactor_QCD_ggZZ_Nominal*((Z1Flav*Z2Flav)==(121*121) ||(Z1Flav*Z2Flav)==(169*169) ||(Z1Flav*Z2Flav)==(121*169)  )*137.1*(ZZMass>=220)*(EventTag==0)*1000*xsec*overallEventWeight*L1prefiringWeight/Bin40\n",
      "----------------------\n",
      "up: 652.3320692636189\n",
      "dn: 664.6681951550418\n",
      "LHEweight_PDFVariation_Up*p_Gen_GG_BKG_MCFM*KFactor_QCD_ggZZ_Nominal*((Z1Flav*Z2Flav)==(121*121) ||(Z1Flav*Z2Flav)==(169*169) ||(Z1Flav*Z2Flav)==(121*169)  )*137.1*(ZZMass>=220)*(EventTag==0)*1000*xsec*overallEventWeight*L1prefiringWeight/Bin40\n",
      "LHEweight_PDFVariation_Dn*p_Gen_GG_BKG_MCFM*KFactor_QCD_ggZZ_Nominal*((Z1Flav*Z2Flav)==(121*121) ||(Z1Flav*Z2Flav)==(169*169) ||(Z1Flav*Z2Flav)==(121*169)  )*137.1*(ZZMass>=220)*(EventTag==0)*1000*xsec*overallEventWeight*L1prefiringWeight/Bin40\n",
      "----------------------\n",
      "up: 670.423111040669\n",
      "dn: 647.5904822021257\n",
      "LHEweight_AsMZ_Up*p_Gen_GG_BKG_MCFM*KFactor_QCD_ggZZ_Nominal*((Z1Flav*Z2Flav)==(121*121) ||(Z1Flav*Z2Flav)==(169*169) ||(Z1Flav*Z2Flav)==(121*169)  )*137.1*(ZZMass>=220)*(EventTag==0)*1000*xsec*overallEventWeight*L1prefiringWeight/Bin40\n",
      "LHEweight_AsMZ_Dn*p_Gen_GG_BKG_MCFM*KFactor_QCD_ggZZ_Nominal*((Z1Flav*Z2Flav)==(121*121) ||(Z1Flav*Z2Flav)==(169*169) ||(Z1Flav*Z2Flav)==(121*169)  )*137.1*(ZZMass>=220)*(EventTag==0)*1000*xsec*overallEventWeight*L1prefiringWeight/Bin40\n",
      "----------------------\n",
      "up: 664.8854070528178\n",
      "dn: 645.9109495882876\n",
      "PythiaWeight_isr_muR4 * PythiaWeight_fsr_muR4*p_Gen_GG_BKG_MCFM*KFactor_QCD_ggZZ_Nominal*((Z1Flav*Z2Flav)==(121*121) ||(Z1Flav*Z2Flav)==(169*169) ||(Z1Flav*Z2Flav)==(121*169)  )*137.1*(ZZMass>=220)*(EventTag==0)*1000*xsec*overallEventWeight*L1prefiringWeight/Bin40\n",
      "PythiaWeight_isr_muR0p25 * PythiaWeight_fsr_muR0p25*p_Gen_GG_BKG_MCFM*KFactor_QCD_ggZZ_Nominal*((Z1Flav*Z2Flav)==(121*121) ||(Z1Flav*Z2Flav)==(169*169) ||(Z1Flav*Z2Flav)==(121*169)  )*137.1*(ZZMass>=220)*(EventTag==0)*1000*xsec*overallEventWeight*L1prefiringWeight/Bin40\n",
      "----------------------\n",
      "up: 717.8771595049184\n",
      "dn: 706.7146370394621\n",
      "om nomnomm: 658.1258670064854\n",
      "here 576.7363346630591\n",
      "here 756.7702135530999\n",
      "here 652.3320692636189\n",
      "here 664.6681951550418\n",
      "here 670.423111040669\n",
      "here 647.5904822021257\n",
      "here 664.8854070528178\n",
      "here 645.9109495882876\n",
      "here 717.8771595049184\n",
      "here 706.7146370394621\n"
     ]
    },
    {
     "data": {
      "application/vnd.jupyter.widget-view+json": {
       "model_id": "581e5eb6fc7842898ee010ca7fde1086",
       "version_major": 2,
       "version_minor": 0
      },
      "text/plain": [
       "  0%|          | 0/1 [00:00<?, ?it/s]"
      ]
     },
     "metadata": {},
     "output_type": "display_data"
    },
    {
     "name": "stdout",
     "output_type": "stream",
     "text": [
      "/eos/user/s/skyriaco/Offshell/Syst/highmass/MC_18/200205_CutBased/MC_2018/HighMass/ggH750/ZZ4lAnalysis.root\n",
      "LHEweight_QCDscale_muR2_muF1*p_Gen_GG_BKG_MCFM*KFactor_QCD_ggZZ_Nominal*((Z1Flav*Z2Flav)==(121*121) ||(Z1Flav*Z2Flav)==(169*169) ||(Z1Flav*Z2Flav)==(121*169)  )*137.1*(ZZMass>=220)*(EventTag==0)*1000*xsec*overallEventWeight*L1prefiringWeight/Bin40\n",
      "LHEweight_QCDscale_muR0p5_muF1*p_Gen_GG_BKG_MCFM*KFactor_QCD_ggZZ_Nominal*((Z1Flav*Z2Flav)==(121*121) ||(Z1Flav*Z2Flav)==(169*169) ||(Z1Flav*Z2Flav)==(121*169)  )*137.1*(ZZMass>=220)*(EventTag==0)*1000*xsec*overallEventWeight*L1prefiringWeight/Bin40\n",
      "----------------------\n",
      "up: 466.03490333413356\n",
      "dn: 621.8628203311237\n",
      "LHEweight_QCDscale_muR1_muF2*p_Gen_GG_BKG_MCFM*KFactor_QCD_ggZZ_Nominal*((Z1Flav*Z2Flav)==(121*121) ||(Z1Flav*Z2Flav)==(169*169) ||(Z1Flav*Z2Flav)==(121*169)  )*137.1*(ZZMass>=220)*(EventTag==0)*1000*xsec*overallEventWeight*L1prefiringWeight/Bin40\n",
      "LHEweight_QCDscale_muR1_muF0p5*p_Gen_GG_BKG_MCFM*KFactor_QCD_ggZZ_Nominal*((Z1Flav*Z2Flav)==(121*121) ||(Z1Flav*Z2Flav)==(169*169) ||(Z1Flav*Z2Flav)==(121*169)  )*137.1*(ZZMass>=220)*(EventTag==0)*1000*xsec*overallEventWeight*L1prefiringWeight/Bin40\n",
      "----------------------\n",
      "up: 531.3150907804957\n",
      "dn: 540.3314828876755\n",
      "LHEweight_PDFVariation_Up*p_Gen_GG_BKG_MCFM*KFactor_QCD_ggZZ_Nominal*((Z1Flav*Z2Flav)==(121*121) ||(Z1Flav*Z2Flav)==(169*169) ||(Z1Flav*Z2Flav)==(121*169)  )*137.1*(ZZMass>=220)*(EventTag==0)*1000*xsec*overallEventWeight*L1prefiringWeight/Bin40\n",
      "LHEweight_PDFVariation_Dn*p_Gen_GG_BKG_MCFM*KFactor_QCD_ggZZ_Nominal*((Z1Flav*Z2Flav)==(121*121) ||(Z1Flav*Z2Flav)==(169*169) ||(Z1Flav*Z2Flav)==(121*169)  )*137.1*(ZZMass>=220)*(EventTag==0)*1000*xsec*overallEventWeight*L1prefiringWeight/Bin40\n",
      "----------------------\n",
      "up: 546.0154264993616\n",
      "dn: 526.5383554505243\n",
      "LHEweight_AsMZ_Up*p_Gen_GG_BKG_MCFM*KFactor_QCD_ggZZ_Nominal*((Z1Flav*Z2Flav)==(121*121) ||(Z1Flav*Z2Flav)==(169*169) ||(Z1Flav*Z2Flav)==(121*169)  )*137.1*(ZZMass>=220)*(EventTag==0)*1000*xsec*overallEventWeight*L1prefiringWeight/Bin40\n",
      "LHEweight_AsMZ_Dn*p_Gen_GG_BKG_MCFM*KFactor_QCD_ggZZ_Nominal*((Z1Flav*Z2Flav)==(121*121) ||(Z1Flav*Z2Flav)==(169*169) ||(Z1Flav*Z2Flav)==(121*169)  )*137.1*(ZZMass>=220)*(EventTag==0)*1000*xsec*overallEventWeight*L1prefiringWeight/Bin40\n",
      "----------------------\n",
      "up: 541.2052248141554\n",
      "dn: 526.1169412138406\n",
      "PythiaWeight_isr_muR4 * PythiaWeight_fsr_muR4*p_Gen_GG_BKG_MCFM*KFactor_QCD_ggZZ_Nominal*((Z1Flav*Z2Flav)==(121*121) ||(Z1Flav*Z2Flav)==(169*169) ||(Z1Flav*Z2Flav)==(121*169)  )*137.1*(ZZMass>=220)*(EventTag==0)*1000*xsec*overallEventWeight*L1prefiringWeight/Bin40\n",
      "PythiaWeight_isr_muR0p25 * PythiaWeight_fsr_muR0p25*p_Gen_GG_BKG_MCFM*KFactor_QCD_ggZZ_Nominal*((Z1Flav*Z2Flav)==(121*121) ||(Z1Flav*Z2Flav)==(169*169) ||(Z1Flav*Z2Flav)==(121*169)  )*137.1*(ZZMass>=220)*(EventTag==0)*1000*xsec*overallEventWeight*L1prefiringWeight/Bin40\n",
      "----------------------\n",
      "up: 632.2802265770733\n",
      "dn: 353.3222946594469\n",
      "om nomnomm: 535.6572470359388\n",
      "here 466.03490333413356\n",
      "here 621.8628203311237\n",
      "here 531.3150907804957\n",
      "here 540.3314828876755\n",
      "here 546.0154264993616\n",
      "here 526.5383554505243\n",
      "here 541.2052248141554\n",
      "here 526.1169412138406\n",
      "here 632.2802265770733\n",
      "here 353.3222946594469\n"
     ]
    },
    {
     "data": {
      "application/vnd.jupyter.widget-view+json": {
       "model_id": "cab218b1cd1c451b9c422d508633ea13",
       "version_major": 2,
       "version_minor": 0
      },
      "text/plain": [
       "  0%|          | 0/1 [00:00<?, ?it/s]"
      ]
     },
     "metadata": {},
     "output_type": "display_data"
    },
    {
     "name": "stdout",
     "output_type": "stream",
     "text": [
      "/eos/user/s/skyriaco/Offshell/Syst/highmass/MC_18/200205_CutBased/MC_2018/HighMass/ggH800/ZZ4lAnalysis.root\n",
      "LHEweight_QCDscale_muR2_muF1*p_Gen_GG_BKG_MCFM*KFactor_QCD_ggZZ_Nominal*((Z1Flav*Z2Flav)==(121*121) ||(Z1Flav*Z2Flav)==(169*169) ||(Z1Flav*Z2Flav)==(121*169)  )*137.1*(ZZMass>=220)*(EventTag==0)*1000*xsec*overallEventWeight*L1prefiringWeight/Bin40\n",
      "LHEweight_QCDscale_muR0p5_muF1*p_Gen_GG_BKG_MCFM*KFactor_QCD_ggZZ_Nominal*((Z1Flav*Z2Flav)==(121*121) ||(Z1Flav*Z2Flav)==(169*169) ||(Z1Flav*Z2Flav)==(121*169)  )*137.1*(ZZMass>=220)*(EventTag==0)*1000*xsec*overallEventWeight*L1prefiringWeight/Bin40\n",
      "----------------------\n",
      "up: 704.4772500350373\n",
      "dn: 934.0669193069916\n",
      "LHEweight_QCDscale_muR1_muF2*p_Gen_GG_BKG_MCFM*KFactor_QCD_ggZZ_Nominal*((Z1Flav*Z2Flav)==(121*121) ||(Z1Flav*Z2Flav)==(169*169) ||(Z1Flav*Z2Flav)==(121*169)  )*137.1*(ZZMass>=220)*(EventTag==0)*1000*xsec*overallEventWeight*L1prefiringWeight/Bin40\n",
      "LHEweight_QCDscale_muR1_muF0p5*p_Gen_GG_BKG_MCFM*KFactor_QCD_ggZZ_Nominal*((Z1Flav*Z2Flav)==(121*121) ||(Z1Flav*Z2Flav)==(169*169) ||(Z1Flav*Z2Flav)==(121*169)  )*137.1*(ZZMass>=220)*(EventTag==0)*1000*xsec*overallEventWeight*L1prefiringWeight/Bin40\n",
      "----------------------\n",
      "up: 799.9079966435675\n",
      "dn: 815.8195375589421\n",
      "LHEweight_PDFVariation_Up*p_Gen_GG_BKG_MCFM*KFactor_QCD_ggZZ_Nominal*((Z1Flav*Z2Flav)==(121*121) ||(Z1Flav*Z2Flav)==(169*169) ||(Z1Flav*Z2Flav)==(121*169)  )*137.1*(ZZMass>=220)*(EventTag==0)*1000*xsec*overallEventWeight*L1prefiringWeight/Bin40\n",
      "LHEweight_PDFVariation_Dn*p_Gen_GG_BKG_MCFM*KFactor_QCD_ggZZ_Nominal*((Z1Flav*Z2Flav)==(121*121) ||(Z1Flav*Z2Flav)==(169*169) ||(Z1Flav*Z2Flav)==(121*169)  )*137.1*(ZZMass>=220)*(EventTag==0)*1000*xsec*overallEventWeight*L1prefiringWeight/Bin40\n",
      "----------------------\n",
      "up: 822.392697262112\n",
      "dn: 794.6498622673098\n",
      "LHEweight_AsMZ_Up*p_Gen_GG_BKG_MCFM*KFactor_QCD_ggZZ_Nominal*((Z1Flav*Z2Flav)==(121*121) ||(Z1Flav*Z2Flav)==(169*169) ||(Z1Flav*Z2Flav)==(121*169)  )*137.1*(ZZMass>=220)*(EventTag==0)*1000*xsec*overallEventWeight*L1prefiringWeight/Bin40\n",
      "LHEweight_AsMZ_Dn*p_Gen_GG_BKG_MCFM*KFactor_QCD_ggZZ_Nominal*((Z1Flav*Z2Flav)==(121*121) ||(Z1Flav*Z2Flav)==(169*169) ||(Z1Flav*Z2Flav)==(121*169)  )*137.1*(ZZMass>=220)*(EventTag==0)*1000*xsec*overallEventWeight*L1prefiringWeight/Bin40\n",
      "----------------------\n",
      "up: 815.6508149863221\n",
      "dn: 792.3958638461772\n",
      "PythiaWeight_isr_muR4 * PythiaWeight_fsr_muR4*p_Gen_GG_BKG_MCFM*KFactor_QCD_ggZZ_Nominal*((Z1Flav*Z2Flav)==(121*121) ||(Z1Flav*Z2Flav)==(169*169) ||(Z1Flav*Z2Flav)==(121*169)  )*137.1*(ZZMass>=220)*(EventTag==0)*1000*xsec*overallEventWeight*L1prefiringWeight/Bin40\n",
      "PythiaWeight_isr_muR0p25 * PythiaWeight_fsr_muR0p25*p_Gen_GG_BKG_MCFM*KFactor_QCD_ggZZ_Nominal*((Z1Flav*Z2Flav)==(121*121) ||(Z1Flav*Z2Flav)==(169*169) ||(Z1Flav*Z2Flav)==(121*169)  )*137.1*(ZZMass>=220)*(EventTag==0)*1000*xsec*overallEventWeight*L1prefiringWeight/Bin40\n",
      "----------------------\n",
      "up: 761.09189817484\n",
      "dn: 993.6216830616759\n",
      "om nomnomm: 807.5020017336356\n",
      "here 704.4772500350373\n",
      "here 934.0669193069916\n",
      "here 799.9079966435675\n",
      "here 815.8195375589421\n",
      "here 822.392697262112\n",
      "here 794.6498622673098\n",
      "here 815.6508149863221\n",
      "here 792.3958638461772\n",
      "here 761.09189817484\n",
      "here 993.6216830616759\n"
     ]
    },
    {
     "data": {
      "application/vnd.jupyter.widget-view+json": {
       "model_id": "aa839f5dd31b41128d38f6ecfb933314",
       "version_major": 2,
       "version_minor": 0
      },
      "text/plain": [
       "  0%|          | 0/1 [00:00<?, ?it/s]"
      ]
     },
     "metadata": {},
     "output_type": "display_data"
    },
    {
     "name": "stdout",
     "output_type": "stream",
     "text": [
      "/eos/user/s/skyriaco/Offshell/Syst/highmass/MC_18/200205_CutBased/MC_2018/HighMass/ggH900/ZZ4lAnalysis.root\n",
      "LHEweight_QCDscale_muR2_muF1*p_Gen_GG_BKG_MCFM*KFactor_QCD_ggZZ_Nominal*((Z1Flav*Z2Flav)==(121*121) ||(Z1Flav*Z2Flav)==(169*169) ||(Z1Flav*Z2Flav)==(121*169)  )*137.1*(ZZMass>=220)*(EventTag==0)*1000*xsec*overallEventWeight*L1prefiringWeight/Bin40\n",
      "LHEweight_QCDscale_muR0p5_muF1*p_Gen_GG_BKG_MCFM*KFactor_QCD_ggZZ_Nominal*((Z1Flav*Z2Flav)==(121*121) ||(Z1Flav*Z2Flav)==(169*169) ||(Z1Flav*Z2Flav)==(121*169)  )*137.1*(ZZMass>=220)*(EventTag==0)*1000*xsec*overallEventWeight*L1prefiringWeight/Bin40\n",
      "----------------------\n",
      "up: 789.4523211971391\n",
      "dn: 1037.94131213543\n",
      "LHEweight_QCDscale_muR1_muF2*p_Gen_GG_BKG_MCFM*KFactor_QCD_ggZZ_Nominal*((Z1Flav*Z2Flav)==(121*121) ||(Z1Flav*Z2Flav)==(169*169) ||(Z1Flav*Z2Flav)==(121*169)  )*137.1*(ZZMass>=220)*(EventTag==0)*1000*xsec*overallEventWeight*L1prefiringWeight/Bin40\n",
      "LHEweight_QCDscale_muR1_muF0p5*p_Gen_GG_BKG_MCFM*KFactor_QCD_ggZZ_Nominal*((Z1Flav*Z2Flav)==(121*121) ||(Z1Flav*Z2Flav)==(169*169) ||(Z1Flav*Z2Flav)==(121*169)  )*137.1*(ZZMass>=220)*(EventTag==0)*1000*xsec*overallEventWeight*L1prefiringWeight/Bin40\n",
      "----------------------\n",
      "up: 890.7260520559503\n",
      "dn: 914.040456571267\n",
      "LHEweight_PDFVariation_Up*p_Gen_GG_BKG_MCFM*KFactor_QCD_ggZZ_Nominal*((Z1Flav*Z2Flav)==(121*121) ||(Z1Flav*Z2Flav)==(169*169) ||(Z1Flav*Z2Flav)==(121*169)  )*137.1*(ZZMass>=220)*(EventTag==0)*1000*xsec*overallEventWeight*L1prefiringWeight/Bin40\n",
      "LHEweight_PDFVariation_Dn*p_Gen_GG_BKG_MCFM*KFactor_QCD_ggZZ_Nominal*((Z1Flav*Z2Flav)==(121*121) ||(Z1Flav*Z2Flav)==(169*169) ||(Z1Flav*Z2Flav)==(121*169)  )*137.1*(ZZMass>=220)*(EventTag==0)*1000*xsec*overallEventWeight*L1prefiringWeight/Bin40\n",
      "----------------------\n",
      "up: 918.2161202500574\n",
      "dn: 886.9296615563799\n",
      "LHEweight_AsMZ_Up*p_Gen_GG_BKG_MCFM*KFactor_QCD_ggZZ_Nominal*((Z1Flav*Z2Flav)==(121*121) ||(Z1Flav*Z2Flav)==(169*169) ||(Z1Flav*Z2Flav)==(121*169)  )*137.1*(ZZMass>=220)*(EventTag==0)*1000*xsec*overallEventWeight*L1prefiringWeight/Bin40\n",
      "LHEweight_AsMZ_Dn*p_Gen_GG_BKG_MCFM*KFactor_QCD_ggZZ_Nominal*((Z1Flav*Z2Flav)==(121*121) ||(Z1Flav*Z2Flav)==(169*169) ||(Z1Flav*Z2Flav)==(121*169)  )*137.1*(ZZMass>=220)*(EventTag==0)*1000*xsec*overallEventWeight*L1prefiringWeight/Bin40\n",
      "----------------------\n",
      "up: 910.6430190063547\n",
      "dn: 884.9265585193643\n",
      "PythiaWeight_isr_muR4 * PythiaWeight_fsr_muR4*p_Gen_GG_BKG_MCFM*KFactor_QCD_ggZZ_Nominal*((Z1Flav*Z2Flav)==(121*121) ||(Z1Flav*Z2Flav)==(169*169) ||(Z1Flav*Z2Flav)==(121*169)  )*137.1*(ZZMass>=220)*(EventTag==0)*1000*xsec*overallEventWeight*L1prefiringWeight/Bin40\n",
      "PythiaWeight_isr_muR0p25 * PythiaWeight_fsr_muR0p25*p_Gen_GG_BKG_MCFM*KFactor_QCD_ggZZ_Nominal*((Z1Flav*Z2Flav)==(121*121) ||(Z1Flav*Z2Flav)==(169*169) ||(Z1Flav*Z2Flav)==(121*169)  )*137.1*(ZZMass>=220)*(EventTag==0)*1000*xsec*overallEventWeight*L1prefiringWeight/Bin40\n",
      "----------------------\n",
      "up: 952.0984665993601\n",
      "dn: 777.7959711304866\n",
      "om nomnomm: 901.5356440658215\n",
      "here 789.4523211971391\n",
      "here 1037.94131213543\n",
      "here 890.7260520559503\n",
      "here 914.040456571267\n",
      "here 918.2161202500574\n",
      "here 886.9296615563799\n",
      "here 910.6430190063547\n",
      "here 884.9265585193643\n",
      "here 952.0984665993601\n",
      "here 777.7959711304866\n",
      "hf =  75128.72672832012\n"
     ]
    },
    {
     "data": {
      "text/plain": [
       "'\\nh_gg_vbf =[]\\nfor tcomp in ltargetcomp: \\n       FillHist(\"gg\",tcomp,1,h_gg_vbf)\\n\\nh_gg_vh =[]\\nfor tcomp in ltargetcomp: \\n       FillHist(\"gg\",tcomp,2,h_gg_vh)     \\n        \\n \\n       \\n#=========================================  \\nh_ew_unt =[]\\nfor tcomp in ltargetcomp: \\n       FillHist(\"VBF\",tcomp,0,h_ew_unt)\\n\\nh_ew_vbf =[]\\nfor tcomp in ltargetcomp: \\n       FillHist(\"VBF\",tcomp,1,h_ew_vbf)\\n\\nh_ew_vh =[]\\nfor tcomp in ltargetcomp: \\n       FillHist(\"VBF\",tcomp,2,h_ew_vh)      \\n              \\n#=========================================  \\nh_bkg_unt =[]\\nFillHist(\"ZZTo4l\",0,0,h_bkg_unt)\\n\\nh_bkg_vbf =[]\\nFillHist(\"ZZTo4l\",0,1,h_bkg_vbf)\\n    \\nh_bkg_vh =[]\\nFillHist(\"ZZTo4l\",0,2,h_bkg_vh)      \\n'"
      ]
     },
     "execution_count": 117,
     "metadata": {},
     "output_type": "execute_result"
    },
    {
     "name": "stderr",
     "output_type": "stream",
     "text": [
      "Warning in <TROOT::Append>: Replacing existing TH1: hf_temp (Potential memory leak).\n",
      "Warning in <TROOT::Append>: Replacing existing TH1: hf_temp (Potential memory leak).\n",
      "Warning in <TROOT::Append>: Replacing existing TH1: hf_temp (Potential memory leak).\n",
      "Warning in <TROOT::Append>: Replacing existing TH1: hf_temp (Potential memory leak).\n",
      "Warning in <TROOT::Append>: Replacing existing TH1: hs_qr_up (Potential memory leak).\n",
      "Warning in <TROOT::Append>: Replacing existing TH1: hs_qr_dn (Potential memory leak).\n",
      "Warning in <TFile::Append>: Replacing existing TH1: hs_qr_up (Potential memory leak).\n",
      "Warning in <TFile::Append>: Replacing existing TH1: hs_qr_dn (Potential memory leak).\n",
      "Warning in <TFile::Append>: Replacing existing TH1: hs_qr_up (Potential memory leak).\n",
      "Warning in <TFile::Append>: Replacing existing TH1: hs_qr_dn (Potential memory leak).\n",
      "Warning in <TFile::Append>: Replacing existing TH1: hs_qr_up (Potential memory leak).\n",
      "Warning in <TFile::Append>: Replacing existing TH1: hs_qr_dn (Potential memory leak).\n",
      "Warning in <TFile::Append>: Replacing existing TH1: hs_qr_up (Potential memory leak).\n",
      "Warning in <TFile::Append>: Replacing existing TH1: hs_qr_dn (Potential memory leak).\n",
      "Warning in <TFile::Append>: Replacing existing TH1: hs_qr_up (Potential memory leak).\n",
      "Warning in <TFile::Append>: Replacing existing TH1: hs_qr_dn (Potential memory leak).\n",
      "Warning in <TFile::Append>: Replacing existing TH1: hs_qr_up (Potential memory leak).\n",
      "Warning in <TFile::Append>: Replacing existing TH1: hs_qr_dn (Potential memory leak).\n",
      "Warning in <TFile::Append>: Replacing existing TH1: hs_qr_up (Potential memory leak).\n",
      "Warning in <TFile::Append>: Replacing existing TH1: hs_qr_dn (Potential memory leak).\n",
      "Warning in <TFile::Append>: Replacing existing TH1: hs_qr_up (Potential memory leak).\n",
      "Warning in <TFile::Append>: Replacing existing TH1: hs_qr_dn (Potential memory leak).\n",
      "Warning in <TFile::Append>: Replacing existing TH1: hs_qr_up (Potential memory leak).\n",
      "Warning in <TFile::Append>: Replacing existing TH1: hs_qr_dn (Potential memory leak).\n",
      "Warning in <TFile::Append>: Replacing existing TH1: hs_qr_up (Potential memory leak).\n",
      "Warning in <TFile::Append>: Replacing existing TH1: hs_qr_dn (Potential memory leak).\n",
      "Warning in <TFile::Append>: Replacing existing TH1: hs_qr_up (Potential memory leak).\n",
      "Warning in <TFile::Append>: Replacing existing TH1: hs_qr_dn (Potential memory leak).\n",
      "Warning in <TFile::Append>: Replacing existing TH1: hs_qr_up (Potential memory leak).\n",
      "Warning in <TFile::Append>: Replacing existing TH1: hs_qr_dn (Potential memory leak).\n",
      "Warning in <TFile::Append>: Replacing existing TH1: hs_qr_up (Potential memory leak).\n",
      "Warning in <TFile::Append>: Replacing existing TH1: hs_qr_dn (Potential memory leak).\n",
      "Warning in <TFile::Append>: Replacing existing TH1: hs_qr_up (Potential memory leak).\n",
      "Warning in <TFile::Append>: Replacing existing TH1: hs_qr_dn (Potential memory leak).\n",
      "Warning in <TFile::Append>: Replacing existing TH1: hs_qr_up (Potential memory leak).\n",
      "Warning in <TFile::Append>: Replacing existing TH1: hs_qr_dn (Potential memory leak).\n",
      "Warning in <TFile::Append>: Replacing existing TH1: hs_qr_up (Potential memory leak).\n",
      "Warning in <TFile::Append>: Replacing existing TH1: hs_qr_dn (Potential memory leak).\n",
      "Warning in <TFile::Append>: Replacing existing TH1: hs_qr_up (Potential memory leak).\n",
      "Warning in <TFile::Append>: Replacing existing TH1: hs_qr_dn (Potential memory leak).\n",
      "Warning in <TFile::Append>: Replacing existing TH1: hs_qr_up (Potential memory leak).\n",
      "Warning in <TFile::Append>: Replacing existing TH1: hs_qr_dn (Potential memory leak).\n",
      "Warning in <TFile::Append>: Replacing existing TH1: hs_qr_up (Potential memory leak).\n",
      "Warning in <TFile::Append>: Replacing existing TH1: hs_qr_dn (Potential memory leak).\n",
      "Warning in <TFile::Append>: Replacing existing TH1: hs_qr_up (Potential memory leak).\n",
      "Warning in <TFile::Append>: Replacing existing TH1: hs_qr_dn (Potential memory leak).\n",
      "Warning in <TFile::Append>: Replacing existing TH1: hs_qr_up (Potential memory leak).\n",
      "Warning in <TFile::Append>: Replacing existing TH1: hs_qr_dn (Potential memory leak).\n",
      "Warning in <TFile::Append>: Replacing existing TH1: hs_qr_up (Potential memory leak).\n",
      "Warning in <TFile::Append>: Replacing existing TH1: hs_qr_dn (Potential memory leak).\n",
      "Warning in <TFile::Append>: Replacing existing TH1: hs_qr_up (Potential memory leak).\n",
      "Warning in <TFile::Append>: Replacing existing TH1: hs_qr_dn (Potential memory leak).\n",
      "Warning in <TFile::Append>: Replacing existing TH1: hs_qr_up (Potential memory leak).\n",
      "Warning in <TFile::Append>: Replacing existing TH1: hs_qr_dn (Potential memory leak).\n",
      "Warning in <TFile::Append>: Replacing existing TH1: hs_qr_up (Potential memory leak).\n",
      "Warning in <TFile::Append>: Replacing existing TH1: hs_qr_dn (Potential memory leak).\n",
      "Warning in <TFile::Append>: Replacing existing TH1: hs_qr_up (Potential memory leak).\n",
      "Warning in <TFile::Append>: Replacing existing TH1: hs_qr_dn (Potential memory leak).\n",
      "Warning in <TFile::Append>: Replacing existing TH1: hs_qr_up (Potential memory leak).\n",
      "Warning in <TFile::Append>: Replacing existing TH1: hs_qr_dn (Potential memory leak).\n",
      "Warning in <TFile::Append>: Replacing existing TH1: hs_qr_up (Potential memory leak).\n",
      "Warning in <TFile::Append>: Replacing existing TH1: hs_qr_dn (Potential memory leak).\n",
      "Warning in <TFile::Append>: Replacing existing TH1: hs_qr_up (Potential memory leak).\n",
      "Warning in <TFile::Append>: Replacing existing TH1: hs_qr_dn (Potential memory leak).\n",
      "Warning in <TFile::Append>: Replacing existing TH1: hs_qr_up (Potential memory leak).\n",
      "Warning in <TFile::Append>: Replacing existing TH1: hs_qr_dn (Potential memory leak).\n",
      "Warning in <TFile::Append>: Replacing existing TH1: hs_qr_up (Potential memory leak).\n",
      "Warning in <TFile::Append>: Replacing existing TH1: hs_qr_dn (Potential memory leak).\n",
      "Warning in <TFile::Append>: Replacing existing TH1: hs_qr_up (Potential memory leak).\n",
      "Warning in <TFile::Append>: Replacing existing TH1: hs_qr_dn (Potential memory leak).\n",
      "Warning in <TFile::Append>: Replacing existing TH1: hs_qr_up (Potential memory leak).\n",
      "Warning in <TFile::Append>: Replacing existing TH1: hs_qr_dn (Potential memory leak).\n",
      "Warning in <TFile::Append>: Replacing existing TH1: hs_qr_up (Potential memory leak).\n",
      "Warning in <TFile::Append>: Replacing existing TH1: hs_qr_dn (Potential memory leak).\n",
      "Warning in <TFile::Append>: Replacing existing TH1: hs_qr_up (Potential memory leak).\n",
      "Warning in <TFile::Append>: Replacing existing TH1: hs_qr_dn (Potential memory leak).\n",
      "Warning in <TROOT::Append>: Replacing existing TH1: hf_temp (Potential memory leak).\n",
      "Warning in <TROOT::Append>: Replacing existing TH1: hf_temp (Potential memory leak).\n",
      "Warning in <TROOT::Append>: Replacing existing TH1: hf_temp (Potential memory leak).\n",
      "Warning in <TROOT::Append>: Replacing existing TH1: hf_temp (Potential memory leak).\n",
      "Warning in <TROOT::Append>: Replacing existing TH1: hs_qr_up (Potential memory leak).\n",
      "Warning in <TROOT::Append>: Replacing existing TH1: hs_qr_dn (Potential memory leak).\n",
      "Warning in <TFile::Append>: Replacing existing TH1: hs_qr_up (Potential memory leak).\n",
      "Warning in <TFile::Append>: Replacing existing TH1: hs_qr_dn (Potential memory leak).\n",
      "Warning in <TFile::Append>: Replacing existing TH1: hs_qr_up (Potential memory leak).\n",
      "Warning in <TFile::Append>: Replacing existing TH1: hs_qr_dn (Potential memory leak).\n",
      "Warning in <TFile::Append>: Replacing existing TH1: hs_qr_up (Potential memory leak).\n",
      "Warning in <TFile::Append>: Replacing existing TH1: hs_qr_dn (Potential memory leak).\n",
      "Warning in <TFile::Append>: Replacing existing TH1: hs_qr_up (Potential memory leak).\n",
      "Warning in <TFile::Append>: Replacing existing TH1: hs_qr_dn (Potential memory leak).\n",
      "Warning in <TFile::Append>: Replacing existing TH1: hs_qr_up (Potential memory leak).\n",
      "Warning in <TFile::Append>: Replacing existing TH1: hs_qr_dn (Potential memory leak).\n",
      "Warning in <TFile::Append>: Replacing existing TH1: hs_qr_up (Potential memory leak).\n",
      "Warning in <TFile::Append>: Replacing existing TH1: hs_qr_dn (Potential memory leak).\n",
      "Warning in <TFile::Append>: Replacing existing TH1: hs_qr_up (Potential memory leak).\n",
      "Warning in <TFile::Append>: Replacing existing TH1: hs_qr_dn (Potential memory leak).\n",
      "Warning in <TFile::Append>: Replacing existing TH1: hs_qr_up (Potential memory leak).\n",
      "Warning in <TFile::Append>: Replacing existing TH1: hs_qr_dn (Potential memory leak).\n",
      "Warning in <TFile::Append>: Replacing existing TH1: hs_qr_up (Potential memory leak).\n",
      "Warning in <TFile::Append>: Replacing existing TH1: hs_qr_dn (Potential memory leak).\n",
      "Warning in <TFile::Append>: Replacing existing TH1: hs_qr_up (Potential memory leak).\n",
      "Warning in <TFile::Append>: Replacing existing TH1: hs_qr_dn (Potential memory leak).\n",
      "Warning in <TFile::Append>: Replacing existing TH1: hs_qr_up (Potential memory leak).\n",
      "Warning in <TFile::Append>: Replacing existing TH1: hs_qr_dn (Potential memory leak).\n",
      "Warning in <TFile::Append>: Replacing existing TH1: hs_qr_up (Potential memory leak).\n",
      "Warning in <TFile::Append>: Replacing existing TH1: hs_qr_dn (Potential memory leak).\n",
      "Warning in <TFile::Append>: Replacing existing TH1: hs_qr_up (Potential memory leak).\n",
      "Warning in <TFile::Append>: Replacing existing TH1: hs_qr_dn (Potential memory leak).\n",
      "Warning in <TFile::Append>: Replacing existing TH1: hs_qr_up (Potential memory leak).\n",
      "Warning in <TFile::Append>: Replacing existing TH1: hs_qr_dn (Potential memory leak).\n",
      "Warning in <TFile::Append>: Replacing existing TH1: hs_qr_up (Potential memory leak).\n",
      "Warning in <TFile::Append>: Replacing existing TH1: hs_qr_dn (Potential memory leak).\n",
      "Warning in <TFile::Append>: Replacing existing TH1: hs_qr_up (Potential memory leak).\n",
      "Warning in <TFile::Append>: Replacing existing TH1: hs_qr_dn (Potential memory leak).\n",
      "Warning in <TFile::Append>: Replacing existing TH1: hs_qr_up (Potential memory leak).\n",
      "Warning in <TFile::Append>: Replacing existing TH1: hs_qr_dn (Potential memory leak).\n",
      "Warning in <TFile::Append>: Replacing existing TH1: hs_qr_up (Potential memory leak).\n",
      "Warning in <TFile::Append>: Replacing existing TH1: hs_qr_dn (Potential memory leak).\n",
      "Warning in <TFile::Append>: Replacing existing TH1: hs_qr_up (Potential memory leak).\n",
      "Warning in <TFile::Append>: Replacing existing TH1: hs_qr_dn (Potential memory leak).\n",
      "Warning in <TFile::Append>: Replacing existing TH1: hs_qr_up (Potential memory leak).\n",
      "Warning in <TFile::Append>: Replacing existing TH1: hs_qr_dn (Potential memory leak).\n",
      "Warning in <TFile::Append>: Replacing existing TH1: hs_qr_up (Potential memory leak).\n",
      "Warning in <TFile::Append>: Replacing existing TH1: hs_qr_dn (Potential memory leak).\n",
      "Warning in <TFile::Append>: Replacing existing TH1: hs_qr_up (Potential memory leak).\n",
      "Warning in <TFile::Append>: Replacing existing TH1: hs_qr_dn (Potential memory leak).\n",
      "Warning in <TFile::Append>: Replacing existing TH1: hs_qr_up (Potential memory leak).\n",
      "Warning in <TFile::Append>: Replacing existing TH1: hs_qr_dn (Potential memory leak).\n",
      "Warning in <TFile::Append>: Replacing existing TH1: hs_qr_up (Potential memory leak).\n",
      "Warning in <TFile::Append>: Replacing existing TH1: hs_qr_dn (Potential memory leak).\n",
      "Warning in <TFile::Append>: Replacing existing TH1: hs_qr_up (Potential memory leak).\n",
      "Warning in <TFile::Append>: Replacing existing TH1: hs_qr_dn (Potential memory leak).\n",
      "Warning in <TFile::Append>: Replacing existing TH1: hs_qr_up (Potential memory leak).\n",
      "Warning in <TFile::Append>: Replacing existing TH1: hs_qr_dn (Potential memory leak).\n",
      "Warning in <TFile::Append>: Replacing existing TH1: hs_qr_up (Potential memory leak).\n",
      "Warning in <TFile::Append>: Replacing existing TH1: hs_qr_dn (Potential memory leak).\n",
      "Warning in <TFile::Append>: Replacing existing TH1: hs_qr_up (Potential memory leak).\n",
      "Warning in <TFile::Append>: Replacing existing TH1: hs_qr_dn (Potential memory leak).\n",
      "Warning in <TFile::Append>: Replacing existing TH1: hs_qr_up (Potential memory leak).\n",
      "Warning in <TFile::Append>: Replacing existing TH1: hs_qr_dn (Potential memory leak).\n",
      "Warning in <TFile::Append>: Replacing existing TH1: hs_qr_up (Potential memory leak).\n",
      "Warning in <TFile::Append>: Replacing existing TH1: hs_qr_dn (Potential memory leak).\n",
      "Warning in <TFile::Append>: Replacing existing TH1: hs_qr_up (Potential memory leak).\n",
      "Warning in <TFile::Append>: Replacing existing TH1: hs_qr_dn (Potential memory leak).\n",
      "Warning in <TFile::Append>: Replacing existing TH1: hs_qr_up (Potential memory leak).\n",
      "Warning in <TFile::Append>: Replacing existing TH1: hs_qr_dn (Potential memory leak).\n",
      "Warning in <TFile::Append>: Replacing existing TH1: hs_qr_up (Potential memory leak).\n",
      "Warning in <TFile::Append>: Replacing existing TH1: hs_qr_dn (Potential memory leak).\n",
      "Warning in <TFile::Append>: Replacing existing TH1: hs_qr_up (Potential memory leak).\n",
      "Warning in <TFile::Append>: Replacing existing TH1: hs_qr_dn (Potential memory leak).\n",
      "Warning in <TFile::Append>: Replacing existing TH1: hs_qr_up (Potential memory leak).\n",
      "Warning in <TFile::Append>: Replacing existing TH1: hs_qr_dn (Potential memory leak).\n",
      "Warning in <TROOT::Append>: Replacing existing TH1: hf_temp (Potential memory leak).\n",
      "Warning in <TROOT::Append>: Replacing existing TH1: hf_temp (Potential memory leak).\n",
      "Warning in <TROOT::Append>: Replacing existing TH1: hf_temp (Potential memory leak).\n",
      "Warning in <TROOT::Append>: Replacing existing TH1: hf_temp (Potential memory leak).\n",
      "Warning in <TROOT::Append>: Replacing existing TH1: hs_qr_up (Potential memory leak).\n",
      "Warning in <TROOT::Append>: Replacing existing TH1: hs_qr_dn (Potential memory leak).\n",
      "Warning in <TFile::Append>: Replacing existing TH1: hs_qr_up (Potential memory leak).\n",
      "Warning in <TFile::Append>: Replacing existing TH1: hs_qr_dn (Potential memory leak).\n",
      "Warning in <TFile::Append>: Replacing existing TH1: hs_qr_up (Potential memory leak).\n",
      "Warning in <TFile::Append>: Replacing existing TH1: hs_qr_dn (Potential memory leak).\n",
      "Warning in <TFile::Append>: Replacing existing TH1: hs_qr_up (Potential memory leak).\n",
      "Warning in <TFile::Append>: Replacing existing TH1: hs_qr_dn (Potential memory leak).\n",
      "Warning in <TFile::Append>: Replacing existing TH1: hs_qr_up (Potential memory leak).\n",
      "Warning in <TFile::Append>: Replacing existing TH1: hs_qr_dn (Potential memory leak).\n",
      "Warning in <TFile::Append>: Replacing existing TH1: hs_qr_up (Potential memory leak).\n",
      "Warning in <TFile::Append>: Replacing existing TH1: hs_qr_dn (Potential memory leak).\n",
      "Warning in <TFile::Append>: Replacing existing TH1: hs_qr_up (Potential memory leak).\n",
      "Warning in <TFile::Append>: Replacing existing TH1: hs_qr_dn (Potential memory leak).\n",
      "Warning in <TFile::Append>: Replacing existing TH1: hs_qr_up (Potential memory leak).\n",
      "Warning in <TFile::Append>: Replacing existing TH1: hs_qr_dn (Potential memory leak).\n",
      "Warning in <TFile::Append>: Replacing existing TH1: hs_qr_up (Potential memory leak).\n",
      "Warning in <TFile::Append>: Replacing existing TH1: hs_qr_dn (Potential memory leak).\n",
      "Warning in <TFile::Append>: Replacing existing TH1: hs_qr_up (Potential memory leak).\n",
      "Warning in <TFile::Append>: Replacing existing TH1: hs_qr_dn (Potential memory leak).\n",
      "Warning in <TFile::Append>: Replacing existing TH1: hs_qr_up (Potential memory leak).\n",
      "Warning in <TFile::Append>: Replacing existing TH1: hs_qr_dn (Potential memory leak).\n",
      "Warning in <TFile::Append>: Replacing existing TH1: hs_qr_up (Potential memory leak).\n",
      "Warning in <TFile::Append>: Replacing existing TH1: hs_qr_dn (Potential memory leak).\n",
      "Warning in <TFile::Append>: Replacing existing TH1: hs_qr_up (Potential memory leak).\n",
      "Warning in <TFile::Append>: Replacing existing TH1: hs_qr_dn (Potential memory leak).\n",
      "Warning in <TFile::Append>: Replacing existing TH1: hs_qr_up (Potential memory leak).\n",
      "Warning in <TFile::Append>: Replacing existing TH1: hs_qr_dn (Potential memory leak).\n",
      "Warning in <TFile::Append>: Replacing existing TH1: hs_qr_up (Potential memory leak).\n",
      "Warning in <TFile::Append>: Replacing existing TH1: hs_qr_dn (Potential memory leak).\n",
      "Warning in <TFile::Append>: Replacing existing TH1: hs_qr_up (Potential memory leak).\n",
      "Warning in <TFile::Append>: Replacing existing TH1: hs_qr_dn (Potential memory leak).\n",
      "Warning in <TFile::Append>: Replacing existing TH1: hs_qr_up (Potential memory leak).\n",
      "Warning in <TFile::Append>: Replacing existing TH1: hs_qr_dn (Potential memory leak).\n",
      "Warning in <TFile::Append>: Replacing existing TH1: hs_qr_up (Potential memory leak).\n",
      "Warning in <TFile::Append>: Replacing existing TH1: hs_qr_dn (Potential memory leak).\n",
      "Warning in <TFile::Append>: Replacing existing TH1: hs_qr_up (Potential memory leak).\n",
      "Warning in <TFile::Append>: Replacing existing TH1: hs_qr_dn (Potential memory leak).\n",
      "Warning in <TFile::Append>: Replacing existing TH1: hs_qr_up (Potential memory leak).\n",
      "Warning in <TFile::Append>: Replacing existing TH1: hs_qr_dn (Potential memory leak).\n",
      "Warning in <TFile::Append>: Replacing existing TH1: hs_qr_up (Potential memory leak).\n",
      "Warning in <TFile::Append>: Replacing existing TH1: hs_qr_dn (Potential memory leak).\n",
      "Warning in <TFile::Append>: Replacing existing TH1: hs_qr_up (Potential memory leak).\n",
      "Warning in <TFile::Append>: Replacing existing TH1: hs_qr_dn (Potential memory leak).\n",
      "Warning in <TFile::Append>: Replacing existing TH1: hs_qr_up (Potential memory leak).\n",
      "Warning in <TFile::Append>: Replacing existing TH1: hs_qr_dn (Potential memory leak).\n",
      "Warning in <TFile::Append>: Replacing existing TH1: hs_qr_up (Potential memory leak).\n",
      "Warning in <TFile::Append>: Replacing existing TH1: hs_qr_dn (Potential memory leak).\n",
      "Warning in <TFile::Append>: Replacing existing TH1: hs_qr_up (Potential memory leak).\n",
      "Warning in <TFile::Append>: Replacing existing TH1: hs_qr_dn (Potential memory leak).\n",
      "Warning in <TFile::Append>: Replacing existing TH1: hs_qr_up (Potential memory leak).\n",
      "Warning in <TFile::Append>: Replacing existing TH1: hs_qr_dn (Potential memory leak).\n",
      "Warning in <TFile::Append>: Replacing existing TH1: hs_qr_up (Potential memory leak).\n",
      "Warning in <TFile::Append>: Replacing existing TH1: hs_qr_dn (Potential memory leak).\n",
      "Warning in <TFile::Append>: Replacing existing TH1: hs_qr_up (Potential memory leak).\n",
      "Warning in <TFile::Append>: Replacing existing TH1: hs_qr_dn (Potential memory leak).\n",
      "Warning in <TFile::Append>: Replacing existing TH1: hs_qr_up (Potential memory leak).\n",
      "Warning in <TFile::Append>: Replacing existing TH1: hs_qr_dn (Potential memory leak).\n",
      "Warning in <TFile::Append>: Replacing existing TH1: hs_qr_up (Potential memory leak).\n",
      "Warning in <TFile::Append>: Replacing existing TH1: hs_qr_dn (Potential memory leak).\n",
      "Warning in <TFile::Append>: Replacing existing TH1: hs_qr_up (Potential memory leak).\n",
      "Warning in <TFile::Append>: Replacing existing TH1: hs_qr_dn (Potential memory leak).\n",
      "Warning in <TFile::Append>: Replacing existing TH1: hs_qr_up (Potential memory leak).\n",
      "Warning in <TFile::Append>: Replacing existing TH1: hs_qr_dn (Potential memory leak).\n",
      "Warning in <TFile::Append>: Replacing existing TH1: hs_qr_up (Potential memory leak).\n",
      "Warning in <TFile::Append>: Replacing existing TH1: hs_qr_dn (Potential memory leak).\n",
      "Warning in <TFile::Append>: Replacing existing TH1: hs_qr_up (Potential memory leak).\n",
      "Warning in <TFile::Append>: Replacing existing TH1: hs_qr_dn (Potential memory leak).\n",
      "Warning in <TFile::Append>: Replacing existing TH1: hs_qr_up (Potential memory leak).\n",
      "Warning in <TFile::Append>: Replacing existing TH1: hs_qr_dn (Potential memory leak).\n",
      "Warning in <TFile::Append>: Replacing existing TH1: hs_qr_up (Potential memory leak).\n",
      "Warning in <TFile::Append>: Replacing existing TH1: hs_qr_dn (Potential memory leak).\n"
     ]
    }
   ],
   "source": [
    "\n",
    "h_gg_unt =[]\n",
    "print (h_gg_unt)\n",
    "for tcomp in ltargetcomp: \n",
    "       FillHist(\"gg\",tcomp,0,h_gg_unt)\n",
    "'''\n",
    "h_gg_vbf =[]\n",
    "for tcomp in ltargetcomp: \n",
    "       FillHist(\"gg\",tcomp,1,h_gg_vbf)\n",
    "\n",
    "h_gg_vh =[]\n",
    "for tcomp in ltargetcomp: \n",
    "       FillHist(\"gg\",tcomp,2,h_gg_vh)     \n",
    "        \n",
    " \n",
    "       \n",
    "#=========================================  \n",
    "h_ew_unt =[]\n",
    "for tcomp in ltargetcomp: \n",
    "       FillHist(\"VBF\",tcomp,0,h_ew_unt)\n",
    "\n",
    "h_ew_vbf =[]\n",
    "for tcomp in ltargetcomp: \n",
    "       FillHist(\"VBF\",tcomp,1,h_ew_vbf)\n",
    "\n",
    "h_ew_vh =[]\n",
    "for tcomp in ltargetcomp: \n",
    "       FillHist(\"VBF\",tcomp,2,h_ew_vh)      \n",
    "              \n",
    "#=========================================  \n",
    "h_bkg_unt =[]\n",
    "FillHist(\"ZZTo4l\",0,0,h_bkg_unt)\n",
    "\n",
    "h_bkg_vbf =[]\n",
    "FillHist(\"ZZTo4l\",0,1,h_bkg_vbf)\n",
    "    \n",
    "h_bkg_vh =[]\n",
    "FillHist(\"ZZTo4l\",0,2,h_bkg_vh)      \n",
    "'''       "
   ]
  },
  {
   "cell_type": "code",
   "execution_count": 94,
   "id": "09d2ec23",
   "metadata": {},
   "outputs": [
    {
     "name": "stdout",
     "output_type": "stream",
     "text": [
      "33\n",
      "51023.70595741272 50519.019906044006 50519.019906044006\n"
     ]
    },
    {
     "name": "stderr",
     "output_type": "stream",
     "text": [
      "Warning in <TCanvas::Constructor>: Deleting canvas with same name: c1\n"
     ]
    },
    {
     "data": {
      "text/html": [
       "\n",
       "\n",
       "<div id=\"root_plot_1643224475574\"\n",
       "     style=\"width: 1796px; height: 572px\">\n",
       "</div>\n",
       "<script>\n",
       "\n",
       "function display_root_plot_1643224475574(Core) {\n",
       "   let obj = Core.parse({\"_typename\":\"TCanvas\",\"fUniqueID\":0,\"fBits\":3342344,\"fLineColor\":1,\"fLineStyle\":1,\"fLineWidth\":1,\"fFillColor\":0,\"fFillStyle\":1001,\"fLeftMargin\":0.1,\"fRightMargin\":0.1,\"fBottomMargin\":0.1,\"fTopMargin\":0.1,\"fXfile\":2,\"fYfile\":2,\"fAfile\":1,\"fXstat\":0.99,\"fYstat\":0.99,\"fAstat\":2,\"fFrameFillColor\":0,\"fFrameLineColor\":1,\"fFrameFillStyle\":1001,\"fFrameLineStyle\":1,\"fFrameLineWidth\":1,\"fFrameBorderSize\":1,\"fFrameBorderMode\":0,\"fX1\":-1377.50011902303,\"fY1\":-1.47487997196711,\"fX2\":14597.500119023,\"fY2\":5.22529145765044,\"fXtoAbsPixelk\":154.866414751176,\"fXtoPixelk\":154.866414751176,\"fXtoPixel\":0.112425663426448,\"fYtoAbsPixelk\":446.088145681256,\"fYtoPixelk\":446.088145681256,\"fYtoPixel\":-85.3709499836858,\"fUtoAbsPixelk\":5e-5,\"fUtoPixelk\":5e-5,\"fUtoPixel\":1796,\"fVtoAbsPixelk\":572.00005,\"fVtoPixelk\":572,\"fVtoPixel\":-572,\"fAbsPixeltoXk\":-1377.50011902303,\"fPixeltoXk\":-1377.50011902303,\"fPixeltoX\":8.89476627953567,\"fAbsPixeltoYk\":5.22529145765044,\"fPixeltoYk\":-1.47487997196711,\"fPixeltoY\":-0.0117135864154153,\"fXlowNDC\":0,\"fYlowNDC\":0,\"fXUpNDC\":1,\"fYUpNDC\":1,\"fWNDC\":1,\"fHNDC\":1,\"fAbsXlowNDC\":0,\"fAbsYlowNDC\":0,\"fAbsWNDC\":1,\"fAbsHNDC\":1,\"fUxmin\":220,\"fUymin\":-0.804862789069219,\"fUxmax\":13000,\"fUymax\":4.55527427475255,\"fTheta\":30,\"fPhi\":30,\"fAspectRatio\":0,\"fNumber\":0,\"fTickx\":0,\"fTicky\":0,\"fLogx\":0,\"fLogy\":1,\"fLogz\":0,\"fPadPaint\":0,\"fCrosshair\":0,\"fCrosshairPos\":0,\"fBorderSize\":2,\"fBorderMode\":0,\"fModified\":false,\"fGridx\":false,\"fGridy\":false,\"fAbsCoord\":false,\"fEditable\":true,\"fFixedAspectRatio\":false,\"fPrimitives\":{\"_typename\":\"TList\",\"name\":\"TList\",\"arr\":[{\"_typename\":\"TFrame\",\"fUniqueID\":0,\"fBits\":8,\"fLineColor\":1,\"fLineStyle\":1,\"fLineWidth\":1,\"fFillColor\":0,\"fFillStyle\":1001,\"fX1\":220,\"fY1\":-0.804862789069219,\"fX2\":13000,\"fY2\":4.55527427475255,\"fBorderSize\":1,\"fBorderMode\":0},{\"_typename\":\"TH1F\",\"fUniqueID\":0,\"fBits\":8,\"fName\":\"hf_nomlhe\",\"fTitle\":\"\",\"fLineColor\":2,\"fLineStyle\":1,\"fLineWidth\":1,\"fFillColor\":0,\"fFillStyle\":1001,\"fMarkerColor\":1,\"fMarkerStyle\":1,\"fMarkerSize\":1,\"fNcells\":23,\"fXaxis\":{\"_typename\":\"TAxis\",\"fUniqueID\":0,\"fBits\":0,\"fName\":\"xaxis\",\"fTitle\":\"\",\"fNdivisions\":510,\"fAxisColor\":1,\"fLabelColor\":1,\"fLabelFont\":42,\"fLabelOffset\":0.005,\"fLabelSize\":0.035,\"fTickLength\":0.03,\"fTitleOffset\":1,\"fTitleSize\":0.035,\"fTitleColor\":1,\"fTitleFont\":42,\"fNbins\":21,\"fXmin\":220,\"fXmax\":13000,\"fXbins\":[220,230,240,250,260,280,310,340,370,400,475,550,625,700,800,900,1000,1200,1600,2000,3000,13000],\"fFirst\":0,\"fLast\":0,\"fBits2\":0,\"fTimeDisplay\":false,\"fTimeFormat\":\"\",\"fLabels\":null,\"fModLabs\":null},\"fYaxis\":{\"_typename\":\"TAxis\",\"fUniqueID\":0,\"fBits\":0,\"fName\":\"yaxis\",\"fTitle\":\"\",\"fNdivisions\":510,\"fAxisColor\":1,\"fLabelColor\":1,\"fLabelFont\":42,\"fLabelOffset\":0.005,\"fLabelSize\":0.035,\"fTickLength\":0.03,\"fTitleOffset\":0,\"fTitleSize\":0.035,\"fTitleColor\":1,\"fTitleFont\":42,\"fNbins\":1,\"fXmin\":0,\"fXmax\":1,\"fXbins\":[],\"fFirst\":0,\"fLast\":0,\"fBits2\":0,\"fTimeDisplay\":false,\"fTimeFormat\":\"\",\"fLabels\":null,\"fModLabs\":null},\"fZaxis\":{\"_typename\":\"TAxis\",\"fUniqueID\":0,\"fBits\":0,\"fName\":\"zaxis\",\"fTitle\":\"\",\"fNdivisions\":510,\"fAxisColor\":1,\"fLabelColor\":1,\"fLabelFont\":42,\"fLabelOffset\":0.005,\"fLabelSize\":0.035,\"fTickLength\":0.03,\"fTitleOffset\":1,\"fTitleSize\":0.035,\"fTitleColor\":1,\"fTitleFont\":42,\"fNbins\":1,\"fXmin\":0,\"fXmax\":1,\"fXbins\":[],\"fFirst\":0,\"fLast\":0,\"fBits2\":0,\"fTimeDisplay\":false,\"fTimeFormat\":\"\",\"fLabels\":null,\"fModLabs\":null},\"fBarOffset\":0,\"fBarWidth\":1000,\"fEntries\":3167436,\"fTsumw\":75137.2610033205,\"fTsumw2\":30112203.6190376,\"fTsumwx\":22633504.7558551,\"fTsumwx2\":7712247428.26471,\"fMaximum\":-1111,\"fMinimum\":-1111,\"fNormFactor\":0,\"fContour\":[],\"fSumw2\":[0,23150155.3293855,1110453.54611879,1352792.04943275,1104010.29056908,1406264.29704592,1155833.6797919,246540.23959163,69200.6645313582,17216.7525535501,498134.757352767,1184.69311901581,247.236684352815,129.917183488633,32.1636641165284,5.65508122247811,1.47690023293703,0.683116251248483,0.173451729059206,0.011848684694691,0.00158375492610056,3.20683523604085e-5,0],\"fOption\":\"\",\"fFunctions\":{\"_typename\":\"TList\",\"name\":\"TList\",\"arr\":[{\"_typename\":\"TPaveStats\",\"fUniqueID\":0,\"fBits\":9,\"fLineColor\":1,\"fLineStyle\":1,\"fLineWidth\":1,\"fFillColor\":0,\"fFillStyle\":1001,\"fX1\":11083.0003237426,\"fY1\":3.71775292592262,\"fX2\":14278.0004189611,\"fY2\":4.78978033069975,\"fX1NDC\":0.780000016093254,\"fY1NDC\":0.775000005960464,\"fX2NDC\":0.980000019073486,\"fY2NDC\":0.935000002384186,\"fBorderSize\":1,\"fInit\":1,\"fShadowColor\":1,\"fCornerRadius\":0,\"fOption\":\"brNDC\",\"fName\":\"stats\",\"fTextAngle\":0,\"fTextSize\":0,\"fTextAlign\":12,\"fTextColor\":1,\"fTextFont\":42,\"fLabel\":\"\",\"fLongest\":18,\"fMargin\":0.05,\"fLines\":{\"_typename\":\"TList\",\"name\":\"TList\",\"arr\":[{\"_typename\":\"TLatex\",\"fUniqueID\":0,\"fBits\":0,\"fName\":\"\",\"fTitle\":\"hf_nomlhe\",\"fTextAngle\":0,\"fTextSize\":0.0368,\"fTextAlign\":0,\"fTextColor\":0,\"fTextFont\":0,\"fX\":0,\"fY\":0,\"fLineColor\":1,\"fLineStyle\":1,\"fLineWidth\":2,\"fLimitFactorSize\":3,\"fOriginSize\":0.0368000008165836},{\"_typename\":\"TLatex\",\"fUniqueID\":0,\"fBits\":0,\"fName\":\"\",\"fTitle\":\"Entries = 3167436\",\"fTextAngle\":0,\"fTextSize\":0,\"fTextAlign\":0,\"fTextColor\":0,\"fTextFont\":0,\"fX\":0,\"fY\":0,\"fLineColor\":1,\"fLineStyle\":1,\"fLineWidth\":2,\"fLimitFactorSize\":3,\"fOriginSize\":0.04},{\"_typename\":\"TLatex\",\"fUniqueID\":0,\"fBits\":0,\"fName\":\"\",\"fTitle\":\"Mean  =  301.2\",\"fTextAngle\":0,\"fTextSize\":0,\"fTextAlign\":0,\"fTextColor\":0,\"fTextFont\":0,\"fX\":0,\"fY\":0,\"fLineColor\":1,\"fLineStyle\":1,\"fLineWidth\":2,\"fLimitFactorSize\":3,\"fOriginSize\":0.04},{\"_typename\":\"TLatex\",\"fUniqueID\":0,\"fBits\":0,\"fName\":\"\",\"fTitle\":\"Std Dev   =  109.1\",\"fTextAngle\":0,\"fTextSize\":0,\"fTextAlign\":0,\"fTextColor\":0,\"fTextFont\":0,\"fX\":0,\"fY\":0,\"fLineColor\":1,\"fLineStyle\":1,\"fLineWidth\":2,\"fLimitFactorSize\":3,\"fOriginSize\":0.04}],\"opt\":[\"\",\"\",\"\",\"\"]},\"fOptFit\":0,\"fOptStat\":1111,\"fFitFormat\":\"5.4g\",\"fStatFormat\":\"6.4g\",\"fParent\":{\"$ref\":3}}],\"opt\":[\"brNDC\"]},\"fBufferSize\":0,\"fBuffer\":[],\"fBinStatErrOpt\":0,\"fStatOverflows\":2,\"fArray\":[0,14143.61,5668.904,6666.882,6204.574,9751.893,11513.09,6092.73,3878.684,2614.66,4632.736,1664.242,865.4479,510.1225,378.9544,206.4156,120.9069,119.5965,75.98683,19.29419,8.213666,0.3191121,0]},{\"_typename\":\"TH1F\",\"fUniqueID\":0,\"fBits\":8,\"fName\":\"hf_0\",\"fTitle\":\"\",\"fLineColor\":602,\"fLineStyle\":2,\"fLineWidth\":1,\"fFillColor\":0,\"fFillStyle\":1001,\"fMarkerColor\":1,\"fMarkerStyle\":1,\"fMarkerSize\":1,\"fNcells\":23,\"fXaxis\":{\"_typename\":\"TAxis\",\"fUniqueID\":0,\"fBits\":0,\"fName\":\"xaxis\",\"fTitle\":\"\",\"fNdivisions\":510,\"fAxisColor\":1,\"fLabelColor\":1,\"fLabelFont\":42,\"fLabelOffset\":0.005,\"fLabelSize\":0.035,\"fTickLength\":0.03,\"fTitleOffset\":1,\"fTitleSize\":0.035,\"fTitleColor\":1,\"fTitleFont\":42,\"fNbins\":21,\"fXmin\":220,\"fXmax\":13000,\"fXbins\":[220,230,240,250,260,280,310,340,370,400,475,550,625,700,800,900,1000,1200,1600,2000,3000,13000],\"fFirst\":0,\"fLast\":0,\"fBits2\":0,\"fTimeDisplay\":false,\"fTimeFormat\":\"\",\"fLabels\":null,\"fModLabs\":null},\"fYaxis\":{\"_typename\":\"TAxis\",\"fUniqueID\":0,\"fBits\":0,\"fName\":\"yaxis\",\"fTitle\":\"\",\"fNdivisions\":510,\"fAxisColor\":1,\"fLabelColor\":1,\"fLabelFont\":42,\"fLabelOffset\":0.005,\"fLabelSize\":0.035,\"fTickLength\":0.03,\"fTitleOffset\":0,\"fTitleSize\":0.035,\"fTitleColor\":1,\"fTitleFont\":42,\"fNbins\":1,\"fXmin\":0,\"fXmax\":1,\"fXbins\":[],\"fFirst\":0,\"fLast\":0,\"fBits2\":0,\"fTimeDisplay\":false,\"fTimeFormat\":\"\",\"fLabels\":null,\"fModLabs\":null},\"fZaxis\":{\"_typename\":\"TAxis\",\"fUniqueID\":0,\"fBits\":0,\"fName\":\"zaxis\",\"fTitle\":\"\",\"fNdivisions\":510,\"fAxisColor\":1,\"fLabelColor\":1,\"fLabelFont\":42,\"fLabelOffset\":0.005,\"fLabelSize\":0.035,\"fTickLength\":0.03,\"fTitleOffset\":1,\"fTitleSize\":0.035,\"fTitleColor\":1,\"fTitleFont\":42,\"fNbins\":1,\"fXmin\":0,\"fXmax\":1,\"fXbins\":[],\"fFirst\":0,\"fLast\":0,\"fBits2\":0,\"fTimeDisplay\":false,\"fTimeFormat\":\"\",\"fLabels\":null,\"fModLabs\":null},\"fBarOffset\":0,\"fBarWidth\":1000,\"fEntries\":25339488,\"fTsumw\":51023.7036081026,\"fTsumw2\":35494.9221140942,\"fTsumwx\":23825604.9636987,\"fTsumwx2\":13468477503.9805,\"fMaximum\":-1111,\"fMinimum\":-1111,\"fNormFactor\":0,\"fContour\":[],\"fSumw2\":[0,6663.50307476562,3270.97030136043,4225.20047138261,4649.38709863335,4296.38906983878,4141.02231891177,2377.70963261923,2145.32337921435,1346.67000410641,1595.50131833833,495.872215818307,170.889312263501,66.3809049881577,32.0795321599976,10.9550541744226,4.04413395504511,2.34228501782337,0.619782113735119,0.0544974831926116,0.00755434087835047,1.7260812657757e-4,0],\"fOption\":\"\",\"fFunctions\":{\"_typename\":\"TList\",\"name\":\"TList\",\"arr\":[],\"opt\":[]},\"fBufferSize\":0,\"fBuffer\":[],\"fBinStatErrOpt\":0,\"fStatOverflows\":2,\"fArray\":[0,1266.588,940.6353,1314.847,1250.069,2226.523,3522.314,3337.563,4412.739,4575.452,9794.77,6341.748,4010.443,2597.283,2094.864,1219.453,728.2927,739.8438,474.1033,121.576,52.51992,2.079607,0]},{\"$ref\":14},{\"_typename\":\"TH1F\",\"fUniqueID\":0,\"fBits\":8,\"fName\":\"hf_1\",\"fTitle\":\"\",\"fLineColor\":4,\"fLineStyle\":2,\"fLineWidth\":1,\"fFillColor\":0,\"fFillStyle\":1001,\"fMarkerColor\":1,\"fMarkerStyle\":1,\"fMarkerSize\":1,\"fNcells\":23,\"fXaxis\":{\"_typename\":\"TAxis\",\"fUniqueID\":0,\"fBits\":0,\"fName\":\"xaxis\",\"fTitle\":\"\",\"fNdivisions\":510,\"fAxisColor\":1,\"fLabelColor\":1,\"fLabelFont\":42,\"fLabelOffset\":0.005,\"fLabelSize\":0.035,\"fTickLength\":0.03,\"fTitleOffset\":1,\"fTitleSize\":0.035,\"fTitleColor\":1,\"fTitleFont\":42,\"fNbins\":21,\"fXmin\":220,\"fXmax\":13000,\"fXbins\":[220,230,240,250,260,280,310,340,370,400,475,550,625,700,800,900,1000,1200,1600,2000,3000,13000],\"fFirst\":0,\"fLast\":0,\"fBits2\":0,\"fTimeDisplay\":false,\"fTimeFormat\":\"\",\"fLabels\":null,\"fModLabs\":null},\"fYaxis\":{\"_typename\":\"TAxis\",\"fUniqueID\":0,\"fBits\":0,\"fName\":\"yaxis\",\"fTitle\":\"\",\"fNdivisions\":510,\"fAxisColor\":1,\"fLabelColor\":1,\"fLabelFont\":42,\"fLabelOffset\":0.005,\"fLabelSize\":0.035,\"fTickLength\":0.03,\"fTitleOffset\":0,\"fTitleSize\":0.035,\"fTitleColor\":1,\"fTitleFont\":42,\"fNbins\":1,\"fXmin\":0,\"fXmax\":1,\"fXbins\":[],\"fFirst\":0,\"fLast\":0,\"fBits2\":0,\"fTimeDisplay\":false,\"fTimeFormat\":\"\",\"fLabels\":null,\"fModLabs\":null},\"fZaxis\":{\"_typename\":\"TAxis\",\"fUniqueID\":0,\"fBits\":0,\"fName\":\"zaxis\",\"fTitle\":\"\",\"fNdivisions\":510,\"fAxisColor\":1,\"fLabelColor\":1,\"fLabelFont\":42,\"fLabelOffset\":0.005,\"fLabelSize\":0.035,\"fTickLength\":0.03,\"fTitleOffset\":1,\"fTitleSize\":0.035,\"fTitleColor\":1,\"fTitleFont\":42,\"fNbins\":1,\"fXmin\":0,\"fXmax\":1,\"fXbins\":[],\"fFirst\":0,\"fLast\":0,\"fBits2\":0,\"fTimeDisplay\":false,\"fTimeFormat\":\"\",\"fLabels\":null,\"fModLabs\":null},\"fBarOffset\":0,\"fBarWidth\":1000,\"fEntries\":25339480,\"fTsumw\":50519.0229922124,\"fTsumw2\":33841.8778526203,\"fTsumwx\":23623284.7692582,\"fTsumwx2\":13375475239.3737,\"fMaximum\":-1111,\"fMinimum\":-1111,\"fNormFactor\":0,\"fContour\":[],\"fSumw2\":[0,6344.33153882076,3095.84894386949,4007.19816965403,4440.01341166525,4087.24904809848,3947.72078011267,2270.09101633596,2055.19578848422,1293.09688265478,1539.89124070559,481.090709238221,166.417092463412,64.7001014855353,31.3733966812794,10.7291222226349,3.96317246615691,2.29698824042176,0.608632481836776,0.0541154793476953,0.00752875878538499,1.72701354092927e-4,0],\"fOption\":\"\",\"fFunctions\":{\"_typename\":\"TList\",\"name\":\"TList\",\"arr\":[],\"opt\":[]},\"fBufferSize\":0,\"fBuffer\":[],\"fBinStatErrOpt\":0,\"fStatOverflows\":2,\"fArray\":[0,1247.016,924.6816,1294.131,1231.2,2198.717,3473.642,3293.703,4359.304,4524.313,9702.151,6292.452,3984.564,2582.779,2084.391,1214.23,725.4909,737.4811,472.879,121.359,52.45685,2.078309,0]},{\"$ref\":19},{\"_typename\":\"TStyle\",\"fUniqueID\":0,\"fBits\":0,\"fName\":\"Modern\",\"fTitle\":\"Modern Style\",\"fLineColor\":1,\"fLineStyle\":1,\"fLineWidth\":1,\"fFillColor\":19,\"fFillStyle\":1001,\"fMarkerColor\":1,\"fMarkerStyle\":1,\"fMarkerSize\":1,\"fTextAngle\":0,\"fTextSize\":0.05,\"fTextAlign\":11,\"fTextColor\":1,\"fTextFont\":62,\"fXaxis\":{\"_typename\":\"TAttAxis\",\"fNdivisions\":510,\"fAxisColor\":1,\"fLabelColor\":1,\"fLabelFont\":42,\"fLabelOffset\":0.005,\"fLabelSize\":0.035,\"fTickLength\":0.03,\"fTitleOffset\":1,\"fTitleSize\":0.035,\"fTitleColor\":1,\"fTitleFont\":42},\"fYaxis\":{\"_typename\":\"TAttAxis\",\"fNdivisions\":510,\"fAxisColor\":1,\"fLabelColor\":1,\"fLabelFont\":42,\"fLabelOffset\":0.005,\"fLabelSize\":0.035,\"fTickLength\":0.03,\"fTitleOffset\":0,\"fTitleSize\":0.035,\"fTitleColor\":1,\"fTitleFont\":42},\"fZaxis\":{\"_typename\":\"TAttAxis\",\"fNdivisions\":510,\"fAxisColor\":1,\"fLabelColor\":1,\"fLabelFont\":42,\"fLabelOffset\":0.005,\"fLabelSize\":0.035,\"fTickLength\":0.03,\"fTitleOffset\":1,\"fTitleSize\":0.035,\"fTitleColor\":1,\"fTitleFont\":42},\"fBarWidth\":1,\"fBarOffset\":0,\"fColorModelPS\":0,\"fDrawBorder\":0,\"fOptLogx\":0,\"fOptLogy\":0,\"fOptLogz\":0,\"fOptDate\":0,\"fOptStat\":1111,\"fOptTitle\":1,\"fOptFile\":0,\"fOptFit\":0,\"fShowEventStatus\":0,\"fShowEditor\":0,\"fShowToolBar\":0,\"fNumberContours\":20,\"fAttDate\":{\"_typename\":\"TAttText\",\"fTextAngle\":0,\"fTextSize\":0.025,\"fTextAlign\":11,\"fTextColor\":1,\"fTextFont\":62},\"fDateX\":0.01,\"fDateY\":0.01,\"fEndErrorSize\":2,\"fErrorX\":0.5,\"fFuncColor\":2,\"fFuncStyle\":1,\"fFuncWidth\":2,\"fGridColor\":0,\"fGridStyle\":3,\"fGridWidth\":1,\"fLegendBorderSize\":1,\"fLegendFillColor\":0,\"fLegendFont\":42,\"fLegendTextSize\":0,\"fHatchesLineWidth\":1,\"fHatchesSpacing\":1,\"fFrameFillColor\":0,\"fFrameLineColor\":1,\"fFrameFillStyle\":1001,\"fFrameLineStyle\":1,\"fFrameLineWidth\":1,\"fFrameBorderSize\":1,\"fFrameBorderMode\":0,\"fHistFillColor\":0,\"fHistLineColor\":602,\"fHistFillStyle\":1001,\"fHistLineStyle\":1,\"fHistLineWidth\":1,\"fHistMinimumZero\":false,\"fHistTopMargin\":0.05,\"fCanvasPreferGL\":false,\"fCanvasColor\":0,\"fCanvasBorderSize\":2,\"fCanvasBorderMode\":0,\"fCanvasDefH\":500,\"fCanvasDefW\":700,\"fCanvasDefX\":10,\"fCanvasDefY\":10,\"fPadColor\":0,\"fPadBorderSize\":2,\"fPadBorderMode\":0,\"fPadBottomMargin\":0.1,\"fPadTopMargin\":0.1,\"fPadLeftMargin\":0.1,\"fPadRightMargin\":0.1,\"fPadGridX\":false,\"fPadGridY\":false,\"fPadTickX\":0,\"fPadTickY\":0,\"fPaperSizeX\":20,\"fPaperSizeY\":26,\"fScreenFactor\":1,\"fStatColor\":0,\"fStatTextColor\":1,\"fStatBorderSize\":1,\"fStatFont\":42,\"fStatFontSize\":0,\"fStatStyle\":1001,\"fStatFormat\":\"6.4g\",\"fStatX\":0.98,\"fStatY\":0.935,\"fStatW\":0.2,\"fStatH\":0.16,\"fStripDecimals\":true,\"fTitleAlign\":23,\"fTitleColor\":0,\"fTitleTextColor\":1,\"fTitleBorderSize\":0,\"fTitleFont\":42,\"fTitleFontSize\":0.05,\"fTitleStyle\":0,\"fTitleX\":0.5,\"fTitleY\":0.995,\"fTitleW\":0,\"fTitleH\":0,\"fLegoInnerR\":0.5,\"fLineStyle\":[\"\",\"  \",\" 12 12\",\" 4 8\",\" 12 16 4 16\",\" 20 12 4 12\",\" 20 12 4 12 4 12 4 12\",\" 20 20\",\" 20 12 4 12 4 12\",\" 80 20\",\" 80 40 4 40\",\"  \",\"  \",\"  \",\"  \",\"  \",\"  \",\"  \",\"  \",\"  \",\"  \",\"  \",\"  \",\"  \",\"  \",\"  \",\"  \",\"  \",\"  \",\"  \"],\"fHeaderPS\":\"\",\"fTitlePS\":\"\",\"fFitFormat\":\"5.4g\",\"fPaintTextFormat\":\"g\",\"fLineScalePS\":3,\"fJoinLinePS\":0,\"fCapLinePS\":0,\"fTimeOffset\":788918400,\"fImageScaling\":1}],\"opt\":[\"\",\"\",\"same\",\"same\",\"same\",\"same\",\"\"]},\"fExecs\":null,\"fName\":\"c1\",\"fTitle\":\"c1\",\"fNumPaletteColor\":0,\"fNextPaletteColor\":0,\"fDISPLAY\":\"$DISPLAY\",\"fDoubleBuffer\":0,\"fRetained\":true,\"fXsizeUser\":0,\"fYsizeUser\":0,\"fXsizeReal\":20,\"fYsizeReal\":6.666667,\"fWindowTopX\":0,\"fWindowTopY\":0,\"fWindowWidth\":0,\"fWindowHeight\":0,\"fCw\":1796,\"fCh\":572,\"fCatt\":{\"_typename\":\"TAttCanvas\",\"fXBetween\":2,\"fYBetween\":2,\"fTitleFromTop\":1.2,\"fXdate\":0.2,\"fYdate\":0.3,\"fAdate\":1},\"kMoveOpaque\":true,\"kResizeOpaque\":true,\"fHighLightColor\":2,\"fBatch\":true,\"kShowEventStatus\":false,\"kAutoExec\":true,\"kMenuBar\":true});\n",
       "   Core.settings.HandleKeys = false;\n",
       "   Core.draw(\"root_plot_1643224475574\", obj, \"\");\n",
       "}\n",
       "\n",
       "function script_load_root_plot_1643224475574(src, on_error) {\n",
       "    let script = document.createElement('script');\n",
       "    script.src = src;\n",
       "    script.onload = function() { display_root_plot_1643224475574(JSROOT); };\n",
       "    script.onerror = function() { script.remove(); on_error(); };\n",
       "    document.head.appendChild(script);\n",
       "}\n",
       "\n",
       "if (typeof requirejs !== 'undefined') {\n",
       "\n",
       "    // We are in jupyter notebooks, use require.js which should be configured already\n",
       "    requirejs.config({\n",
       "       paths: { 'JSRootCore' : [ 'scripts/JSRoot.core', 'https://root.cern/js/6.1.1/scripts/JSRoot.core.min', 'https://jsroot.gsi.de/6.1.1/scripts/JSRoot.core.min' ] }\n",
       "    })(['JSRootCore'],  function(Core) {\n",
       "       display_root_plot_1643224475574(Core);\n",
       "    });\n",
       "\n",
       "} else if (typeof JSROOT !== 'undefined') {\n",
       "\n",
       "   // JSROOT already loaded, just use it\n",
       "   display_root_plot_1643224475574(JSROOT);\n",
       "\n",
       "} else {\n",
       "\n",
       "    // We are in jupyterlab without require.js, directly loading jsroot\n",
       "    // Jupyterlab might be installed in a different base_url so we need to know it.\n",
       "    try {\n",
       "        var base_url = JSON.parse(document.getElementById('jupyter-config-data').innerHTML).baseUrl;\n",
       "    } catch(_) {\n",
       "        var base_url = '/';\n",
       "    }\n",
       "\n",
       "    // Try loading a local version of requirejs and fallback to cdn if not possible.\n",
       "    script_load_root_plot_1643224475574(base_url + 'static/scripts/JSRoot.core.js', function(){\n",
       "        console.error('Fail to load JSROOT locally, please check your jupyter_notebook_config.py file');\n",
       "        script_load_root_plot_1643224475574('https://root.cern/js/6.1.1/scripts/JSRoot.core.min.js', function(){\n",
       "            document.getElementById(\"root_plot_1643224475574\").innerHTML = \"Failed to load JSROOT\";\n",
       "        });\n",
       "    });\n",
       "}\n",
       "\n",
       "</script>\n"
      ],
      "text/plain": [
       "<IPython.core.display.HTML object>"
      ]
     },
     "metadata": {},
     "output_type": "display_data"
    }
   ],
   "source": [
    "c1 = ROOT.TCanvas(\"c1\",\"c1\",1800,600)\n",
    "#c1.Divide(3,1)\n",
    "\n",
    "\n",
    "print (len(h_gg_unt))\n",
    "for i in range(0,len(h_gg_unt)): \n",
    "    h_gg_unt[i].SetLineStyle(2)\n",
    "h_gg_unt[32].SetLineStyle(1)\n",
    "h_gg_unt[32].SetLineColor(2)\n",
    "h_gg_unt[2].SetLineColor(4)\n",
    "h_gg_unt[3].SetLineColor(4)\n",
    "\n",
    "c1.cd().SetLogy()\n",
    "\n",
    "h_gg_unt[32].Draw()\n",
    "print(h_gg_unt[0].Integral(),h_gg_unt[2].Integral(),h_gg_unt[3].Integral())\n",
    "h_gg_unt[0].Draw(\"same\")\n",
    "h_gg_unt[1].Draw(\"same\")\n",
    "\n",
    "h_gg_unt[2].Draw(\"same\")\n",
    "h_gg_unt[3].Draw(\"same\")\n",
    "\n",
    "c1.Draw()\n"
   ]
  },
  {
   "cell_type": "markdown",
   "id": "8ea757af",
   "metadata": {},
   "source": [
    "### Add to 'hlist' if the output looks reasonable above"
   ]
  },
  {
   "cell_type": "code",
   "execution_count": 67,
   "id": "7eff290f",
   "metadata": {},
   "outputs": [
    {
     "ename": "NameError",
     "evalue": "name 'h_bkg_unt' is not defined",
     "output_type": "error",
     "traceback": [
      "\u001b[0;31m---------------------------------------------------------------------------\u001b[0m",
      "\u001b[0;31mNameError\u001b[0m                                 Traceback (most recent call last)",
      "\u001b[0;32m/tmp/ipykernel_514/2337592646.py\u001b[0m in \u001b[0;36m<module>\u001b[0;34m\u001b[0m\n\u001b[1;32m      1\u001b[0m \u001b[0mc1\u001b[0m \u001b[0;34m=\u001b[0m \u001b[0mROOT\u001b[0m\u001b[0;34m.\u001b[0m\u001b[0mTCanvas\u001b[0m\u001b[0;34m(\u001b[0m\u001b[0;34m\"c1\"\u001b[0m\u001b[0;34m,\u001b[0m\u001b[0;34m\"c1\"\u001b[0m\u001b[0;34m,\u001b[0m\u001b[0;36m1800\u001b[0m\u001b[0;34m,\u001b[0m\u001b[0;36m600\u001b[0m\u001b[0;34m)\u001b[0m\u001b[0;34m\u001b[0m\u001b[0;34m\u001b[0m\u001b[0m\n\u001b[1;32m      2\u001b[0m \u001b[0mc1\u001b[0m\u001b[0;34m.\u001b[0m\u001b[0mDivide\u001b[0m\u001b[0;34m(\u001b[0m\u001b[0;36m3\u001b[0m\u001b[0;34m,\u001b[0m\u001b[0;36m1\u001b[0m\u001b[0;34m)\u001b[0m\u001b[0;34m\u001b[0m\u001b[0;34m\u001b[0m\u001b[0m\n\u001b[0;32m----> 3\u001b[0;31m \u001b[0mh_bkg_unt\u001b[0m\u001b[0;34m[\u001b[0m\u001b[0;36m3\u001b[0m\u001b[0;34m]\u001b[0m\u001b[0;34m.\u001b[0m\u001b[0mSetLineColor\u001b[0m\u001b[0;34m(\u001b[0m\u001b[0;36m2\u001b[0m\u001b[0;34m)\u001b[0m\u001b[0;34m\u001b[0m\u001b[0;34m\u001b[0m\u001b[0m\n\u001b[0m\u001b[1;32m      4\u001b[0m \u001b[0mh_bkg_vh\u001b[0m\u001b[0;34m[\u001b[0m\u001b[0;36m3\u001b[0m\u001b[0;34m]\u001b[0m\u001b[0;34m.\u001b[0m\u001b[0mSetLineColor\u001b[0m\u001b[0;34m(\u001b[0m\u001b[0;36m2\u001b[0m\u001b[0;34m)\u001b[0m\u001b[0;34m\u001b[0m\u001b[0;34m\u001b[0m\u001b[0m\n\u001b[1;32m      5\u001b[0m \u001b[0mh_bkg_vbf\u001b[0m\u001b[0;34m[\u001b[0m\u001b[0;36m3\u001b[0m\u001b[0;34m]\u001b[0m\u001b[0;34m.\u001b[0m\u001b[0mSetLineColor\u001b[0m\u001b[0;34m(\u001b[0m\u001b[0;36m2\u001b[0m\u001b[0;34m)\u001b[0m\u001b[0;34m\u001b[0m\u001b[0;34m\u001b[0m\u001b[0m\n",
      "\u001b[0;31mNameError\u001b[0m: name 'h_bkg_unt' is not defined"
     ]
    },
    {
     "name": "stderr",
     "output_type": "stream",
     "text": [
      "Warning in <TCanvas::Constructor>: Deleting canvas with same name: c1\n"
     ]
    }
   ],
   "source": [
    "c1 = ROOT.TCanvas(\"c1\",\"c1\",1800,600)\n",
    "c1.Divide(3,1)\n",
    "h_bkg_unt[3].SetLineColor(2)\n",
    "h_bkg_vh[3].SetLineColor(2)\n",
    "h_bkg_vbf[3].SetLineColor(2)\n",
    "\n",
    "h_bkg_unt[1].SetLineStyle(2)\n",
    "h_bkg_vh[1].SetLineStyle(2)\n",
    "h_bkg_vbf[1].SetLineStyle(2)\n",
    "\n",
    "\n",
    "h_bkg_unt[2].SetLineStyle(2)\n",
    "h_bkg_vh[2].SetLineStyle(2)\n",
    "h_bkg_vbf[2].SetLineStyle(2)\n",
    "\n",
    "\n",
    "c1.cd(1).SetLogy()\n",
    "#c1.cd(1)\n",
    "\n",
    "print (h_bkg_unt[1].Integral())\n",
    "h_bkg_unt[3].Draw(\"hist\")\n",
    "h_bkg_unt[3].GetXaxis().SetTitle(\"qqZZ Untagged background m4l [GeV]\")\n",
    "h_bkg_unt[1].Draw(\"hist,same\")\n",
    "h_bkg_unt[2].Draw(\"hist,same\")\n",
    "c1.cd(2).SetLogy()\n",
    "#c1.cd(2)\n",
    "h_bkg_vh[3].Draw(\"hist\")\n",
    "h_bkg_vh[3].GetXaxis().SetTitle(\"qqZZ VHtagged background m4l [GeV]\")\n",
    "h_bkg_vh[1].Draw(\"hist,same\")\n",
    "h_bkg_vh[2].Draw(\"hist,same\")\n",
    "\n",
    "\n",
    "\n",
    "c1.cd(3).SetLogy()\n",
    "#c1.cd(3)\n",
    "h_bkg_vbf[3].Draw(\"hist\")\n",
    "h_bkg_vbf[3].GetXaxis().SetTitle(\"qqZZ VBFtagged background m4l [GeV]\")\n",
    "h_bkg_vbf[1].Draw(\"hist,same\")\n",
    "h_bkg_vbf[2].Draw(\"hist,same\")\n",
    "\n",
    "\n",
    "ROOT.gStyle.SetOptStat(1)\n",
    "c1.Draw()\n",
    "ROOT.gStyle.SetOptStat(1)\n",
    "c1.Update()\n",
    "\n",
    "c1.SaveAs(\"back_ew_qqzz.png\")\n",
    "c1.SaveAs(\"back_ew_qqzz.pdf\")\n"
   ]
  },
  {
   "cell_type": "code",
   "execution_count": null,
   "id": "12d8b167",
   "metadata": {},
   "outputs": [],
   "source": [
    "print  (h_gg_unt)"
   ]
  },
  {
   "cell_type": "code",
   "execution_count": null,
   "id": "ad126c8a",
   "metadata": {
    "scrolled": true
   },
   "outputs": [],
   "source": [
    "print (h_list)"
   ]
  },
  {
   "cell_type": "code",
   "execution_count": null,
   "id": "c7f0975c",
   "metadata": {
    "scrolled": true
   },
   "outputs": [],
   "source": [
    "hlist"
   ]
  },
  {
   "cell_type": "code",
   "execution_count": null,
   "id": "8bab436f",
   "metadata": {},
   "outputs": [],
   "source": [
    "for h in h_list:\n",
    "    print (h)\n",
    "    print(h.Integral())"
   ]
  },
  {
   "cell_type": "markdown",
   "id": "11e1cf62",
   "metadata": {},
   "source": [
    "# Unroll and Visualize all histograms in 'hlist'"
   ]
  },
  {
   "cell_type": "markdown",
   "id": "3fa69103",
   "metadata": {},
   "source": [
    "##### Do not proceed if your 'hlist' is not filled. Recall it expects 7 histograms ordered like: ['ggH SIG', 'ggH BSI', 'ggH BKG', 'EW SIG', 'EW BSI', 'EW BKG', 'qqbar BKG']\n",
    "##### If you simply want to test the unrolling section, just fill the list with 7 copies of the same TH3F histogram"
   ]
  },
  {
   "cell_type": "markdown",
   "id": "2c520317",
   "metadata": {},
   "source": [
    "### Unroll all 7 histograms"
   ]
  },
  {
   "cell_type": "code",
   "execution_count": null,
   "id": "23371ac0",
   "metadata": {
    "scrolled": true
   },
   "outputs": [],
   "source": [
    "hlist1d = []\n",
    "hlisttemp = h_list\n",
    "for hf in hlisttemp:\n",
    "    totgbins = hf.GetNbinsX() * hf.GetNbinsY() * hf.GetNbinsZ()\n",
    "    totgedges = np.arange(totgbins+1, dtype='float64')\n",
    "\n",
    "    #hf1d = ROOT.TH1F(\"hf1d\",\"\",len(totgedges)-1, totgedges)\n",
    "    hf1d = ROOT.TH1F(\"hf1d\",\"\",totgbins, 0, totgbins)\n",
    "    hf1d.SetDirectory(0)\n",
    "\n",
    "    bincount = 1\n",
    "\n",
    "    for xbin in trange(hf.GetNbinsX()):\n",
    "        for ybin in range(hf.GetNbinsY()):\n",
    "            for zbin in range(hf.GetNbinsZ()):\n",
    "                gbin = hf.GetBin(xbin+1, ybin+1, zbin+1)\n",
    "\n",
    "                #if gbin<400: print(xbin, ybin, zbin)\n",
    "                #print(gbin)\n",
    "                #print(bincount)\n",
    "                if bincount>totgbins: \n",
    "                    print(\"WHAT\")\n",
    "                    break\n",
    "                    \n",
    "                #if hf.GetBinContent(gbin) != 0: print(hf.GetBinContent(gbin))\n",
    "                #print(hf.GetBinContent(gbin))\n",
    "                \n",
    "                hf1d.SetBinContent(bincount, hf.GetBinContent(gbin))\n",
    "                bincount += 1\n",
    "                #if hf.GetBinContent(gbin) != 0: print(\"YAY\")\n",
    "    \n",
    "    hlist1d.append(hf1d)"
   ]
  },
  {
   "cell_type": "code",
   "execution_count": null,
   "id": "ebbed0f5",
   "metadata": {},
   "outputs": [],
   "source": [
    "c1 = ROOT.TCanvas(\"c1\",\"c1\",4480,600)\n",
    "c1.Divide(len(hlist1d),1)\n",
    "for i in range(len(hlist1d)):\n",
    "    c1.cd(i+1)\n",
    "    print(hlist1d[i].Integral())\n",
    "    hlist1d[i].Draw(\"hist\")\n",
    "\n",
    "ROOT.gStyle.SetOptStat(1)\n",
    "c1.Draw()"
   ]
  },
  {
   "cell_type": "markdown",
   "id": "3e05243e",
   "metadata": {},
   "source": [
    "### Isolate INT from the BSI histograms and also add the total combination of statistics as a new histogram at the end"
   ]
  },
  {
   "cell_type": "code",
   "execution_count": null,
   "id": "1e3d0eb5",
   "metadata": {},
   "outputs": [],
   "source": [
    "hlist1d[1].Add(hlist1d[0], -1)\n",
    "hlist1d[1].Add(hlist1d[2], -1)\n",
    "\n",
    "hlist1d[4].Add(hlist1d[3], -1)\n",
    "hlist1d[4].Add(hlist1d[5], -1)"
   ]
  },
  {
   "cell_type": "code",
   "execution_count": null,
   "id": "be409bcd",
   "metadata": {},
   "outputs": [],
   "source": [
    "c1 = ROOT.TCanvas(\"c1\",\"c1\",4480,600)\n",
    "c1.Divide(len(hlist1d),1)\n",
    "for i in range(len(hlist1d)):\n",
    "    c1.cd(i+1)\n",
    "    print(hlist1d[i].Integral())\n",
    "    hlist1d[i].Draw(\"hist\")\n",
    "\n",
    "ROOT.gStyle.SetOptStat(1)\n",
    "c1.Draw()"
   ]
  },
  {
   "cell_type": "code",
   "execution_count": null,
   "id": "5adc130a",
   "metadata": {},
   "outputs": [],
   "source": [
    "hf1d = ROOT.TH1F(\"hf1d\",\"\",totgbins, 0, totgbins)\n",
    "hf1d.SetDirectory(0)\n",
    "hf1d.Add(hlist1d[1])\n",
    "hlist1d.insert(1, hf1d)"
   ]
  },
  {
   "cell_type": "code",
   "execution_count": null,
   "id": "f618c840",
   "metadata": {},
   "outputs": [],
   "source": [
    "c1 = ROOT.TCanvas(\"c1\",\"c1\",4480,600)\n",
    "c1.Divide(len(hlist1d),1)\n",
    "for i in range(len(hlist1d)):\n",
    "    c1.cd(i+1)\n",
    "    print(hlist1d[i].Integral())\n",
    "    hlist1d[i].Draw(\"hist\")\n",
    "\n",
    "ROOT.gStyle.SetOptStat(1)\n",
    "c1.Draw()"
   ]
  },
  {
   "cell_type": "code",
   "execution_count": null,
   "id": "8b10cb8a",
   "metadata": {},
   "outputs": [],
   "source": [
    "hf1d = ROOT.TH1F(\"hf1d\",\"\",totgbins, 0, totgbins)\n",
    "hf1d.SetDirectory(0)\n",
    "hf1d.Add(hlist1d[5])\n",
    "hlist1d.insert(5, hf1d)"
   ]
  },
  {
   "cell_type": "code",
   "execution_count": null,
   "id": "9a5fd9a0",
   "metadata": {
    "scrolled": false
   },
   "outputs": [],
   "source": [
    "c1 = ROOT.TCanvas(\"c1\",\"c1\",4480,600)\n",
    "c1.Divide(len(hlist1d),1)\n",
    "for i in range(len(hlist1d)):\n",
    "    c1.cd(i+1)\n",
    "    print(hlist1d[i].Integral())\n",
    "    hlist1d[i].Draw(\"hist\")\n",
    "\n",
    "ROOT.gStyle.SetOptStat(1)\n",
    "c1.Draw()"
   ]
  },
  {
   "cell_type": "code",
   "execution_count": null,
   "id": "df04197e",
   "metadata": {},
   "outputs": [],
   "source": [
    "for i in range(hlist1d[1].GetXaxis().GetNbins()):\n",
    "    b = i+1\n",
    "    if hlist1d[1].GetBinContent(b) >= 0:\n",
    "        hlist1d[1].SetBinContent(b, 0)\n",
    "\n",
    "for i in range(hlist1d[2].GetXaxis().GetNbins()):\n",
    "    b = i+1\n",
    "    if hlist1d[2].GetBinContent(b) <= 0:\n",
    "        hlist1d[2].SetBinContent(b, 0)"
   ]
  },
  {
   "cell_type": "code",
   "execution_count": null,
   "id": "d2402aaf",
   "metadata": {},
   "outputs": [],
   "source": [
    "c1 = ROOT.TCanvas(\"c1\",\"c1\",4480,600)\n",
    "c1.Divide(len(hlist1d),1)\n",
    "for i in range(len(hlist1d)):\n",
    "    c1.cd(i+1)\n",
    "    print(hlist1d[i].Integral())\n",
    "    hlist1d[i].Draw(\"hist\")\n",
    "\n",
    "ROOT.gStyle.SetOptStat(1)\n",
    "c1.Draw()"
   ]
  },
  {
   "cell_type": "code",
   "execution_count": null,
   "id": "3ed68b42",
   "metadata": {},
   "outputs": [],
   "source": [
    "for i in range(hlist1d[5].GetXaxis().GetNbins()):\n",
    "    b = i+1\n",
    "    if hlist1d[5].GetBinContent(b) >= 0:\n",
    "        hlist1d[5].SetBinContent(b, 0)\n",
    "\n",
    "for i in range(hlist1d[6].GetXaxis().GetNbins()):\n",
    "    b = i+1\n",
    "    if hlist1d[6].GetBinContent(b) <= 0:\n",
    "        hlist1d[6].SetBinContent(b, 0)"
   ]
  },
  {
   "cell_type": "code",
   "execution_count": null,
   "id": "c36aa58e",
   "metadata": {},
   "outputs": [],
   "source": [
    "c1 = ROOT.TCanvas(\"c1\",\"c1\",4480,600)\n",
    "c1.Divide(len(hlist1d),1)\n",
    "for i in range(len(hlist1d)):\n",
    "    c1.cd(i+1)\n",
    "    print(hlist1d[i].Integral())\n",
    "    hlist1d[i].Draw(\"hist\")\n",
    "\n",
    "ROOT.gStyle.SetOptStat(1)\n",
    "c1.Draw()"
   ]
  },
  {
   "cell_type": "code",
   "execution_count": null,
   "id": "9e5753c8",
   "metadata": {},
   "outputs": [],
   "source": [
    "hf1d = ROOT.TH1F(\"hf1d\",\"\",totgbins, 0, totgbins)\n",
    "for i in range(len(hlist1d)):\n",
    "    hf1d.Add(hlist1d[i])\n",
    "hlist1d.append(hf1d)\n",
    "print(hf1d.Integral())"
   ]
  },
  {
   "cell_type": "code",
   "execution_count": null,
   "id": "b162581f",
   "metadata": {},
   "outputs": [],
   "source": [
    "c1 = ROOT.TCanvas(\"c1\",\"c1\",4480,600)\n",
    "c1.Divide(len(hlist1d),1)\n",
    "for i in range(len(hlist1d)):\n",
    "    c1.cd(i+1)\n",
    "    print(hlist1d[i].Integral())\n",
    "    hlist1d[i].Draw(\"hist\")\n",
    "\n",
    "ROOT.gStyle.SetOptStat(1)\n",
    "c1.Draw()"
   ]
  },
  {
   "cell_type": "code",
   "execution_count": null,
   "id": "e76eedd4",
   "metadata": {},
   "outputs": [],
   "source": [
    "hlist1d[1].Scale(-1)\n",
    "hlist1d[5].Scale(-1)"
   ]
  },
  {
   "cell_type": "code",
   "execution_count": null,
   "id": "bf0f1381",
   "metadata": {},
   "outputs": [],
   "source": [
    "c1 = ROOT.TCanvas(\"c1\",\"c1\",4480,600)\n",
    "c1.Divide(len(hlist1d),1)\n",
    "for i in range(len(hlist1d)):\n",
    "    c1.cd(i+1)\n",
    "    print(hlist1d[i].Integral())\n",
    "    hlist1d[i].Draw(\"hist\")\n",
    "\n",
    "ROOT.gStyle.SetOptStat(1)\n",
    "c1.Draw()"
   ]
  },
  {
   "cell_type": "code",
   "execution_count": null,
   "id": "b26bce77",
   "metadata": {},
   "outputs": [],
   "source": [
    "hf1d = ROOT.TH1F(\"hf1d\",\"\",totgbins, 0, totgbins)\n",
    "hf1d.Add(hlist1d[-1])"
   ]
  },
  {
   "cell_type": "code",
   "execution_count": null,
   "id": "f53c76e4",
   "metadata": {},
   "outputs": [],
   "source": [
    "hlist1d.append(hf1d)"
   ]
  },
  {
   "cell_type": "code",
   "execution_count": null,
   "id": "28a0ad16",
   "metadata": {},
   "outputs": [],
   "source": [
    "c1 = ROOT.TCanvas(\"c1\",\"c1\",4480,600)\n",
    "c1.Divide(len(hlist1d),1)\n",
    "for i in range(len(hlist1d)):\n",
    "    c1.cd(i+1)\n",
    "    print(hlist1d[i].Integral())\n",
    "    hlist1d[i].Draw(\"hist\")\n",
    "\n",
    "ROOT.gStyle.SetOptStat(1)\n",
    "c1.Draw()"
   ]
  },
  {
   "cell_type": "code",
   "execution_count": null,
   "id": "24cd4198",
   "metadata": {},
   "outputs": [],
   "source": [
    "hf1dt = hlist1d.pop(-1)"
   ]
  },
  {
   "cell_type": "code",
   "execution_count": null,
   "id": "a0d5b802",
   "metadata": {},
   "outputs": [],
   "source": [
    "for i in range(hlist1d[-1].GetXaxis().GetNbins()):\n",
    "    b = i+1\n",
    "    if hlist1d[-1].GetBinContent(b) <= 0:\n",
    "        hlist1d[-1].SetBinContent(b, 0)"
   ]
  },
  {
   "cell_type": "markdown",
   "id": "6c0f2766",
   "metadata": {},
   "source": [
    "### Check the final template collection and yields for the datacard"
   ]
  },
  {
   "cell_type": "code",
   "execution_count": null,
   "id": "f04b9e45",
   "metadata": {},
   "outputs": [],
   "source": [
    "c1 = ROOT.TCanvas(\"c1\",\"c1\",4480,600)\n",
    "c1.Divide(len(hlist1d),1)\n",
    "for i in range(len(hlist1d)):\n",
    "    c1.cd(i+1)\n",
    "    print(hlist1d[i].Integral())\n",
    "    hlist1d[i].Draw(\"hist\")\n",
    "\n",
    "ROOT.gStyle.SetOptStat(1)\n",
    "c1.Draw()"
   ]
  },
  {
   "cell_type": "code",
   "execution_count": null,
   "id": "2c7d4e64",
   "metadata": {},
   "outputs": [],
   "source": []
  },
  {
   "cell_type": "markdown",
   "id": "38721854",
   "metadata": {},
   "source": [
    "# Saving the whole thing to a .root file for use with a corresponding datacard"
   ]
  },
  {
   "cell_type": "markdown",
   "id": "b2f8a9f2",
   "metadata": {},
   "source": [
    "### Checking the names used to save the histograms"
   ]
  },
  {
   "cell_type": "code",
   "execution_count": null,
   "id": "d91117a3",
   "metadata": {},
   "outputs": [],
   "source": [
    "for i in proc:\n",
    "    print(i)"
   ]
  },
  {
   "cell_type": "markdown",
   "id": "718f0ab4",
   "metadata": {},
   "source": [
    "### Set directory and output file names"
   ]
  },
  {
   "cell_type": "code",
   "execution_count": null,
   "id": "f8bfb87f",
   "metadata": {},
   "outputs": [],
   "source": [
    "diname = \"/eos/user/s/skyriaco/SWAN_projects/Offshel_tempmaker/Output/\"\n",
    "foname = \"Cat_4mu_137p1invfb_ggH4landVBF4landqqbar_mostEW_RECOpassedevents_mvar21d1reg20d2reg20.input.root\""
   ]
  },
  {
   "cell_type": "code",
   "execution_count": null,
   "id": "6c52c91b",
   "metadata": {},
   "outputs": [],
   "source": [
    "print(diname+foname)"
   ]
  },
  {
   "cell_type": "markdown",
   "id": "7c3cab1a",
   "metadata": {},
   "source": [
    "### Write to a .root file"
   ]
  },
  {
   "cell_type": "code",
   "execution_count": null,
   "id": "92ae69f4",
   "metadata": {},
   "outputs": [],
   "source": [
    "fo = ROOT.TFile(diname+foname,\"CREATE\")\n",
    "\n",
    "for i in range(len(proc)):\n",
    "    hlist1d[i].Write(proc[i], ROOT.TFile.kSingleKey)\n",
    "\n",
    "fo.Close()"
   ]
  },
  {
   "cell_type": "markdown",
   "id": "b6439572",
   "metadata": {},
   "source": [
    "### Check the saved file"
   ]
  },
  {
   "cell_type": "code",
   "execution_count": null,
   "id": "cc43241a",
   "metadata": {},
   "outputs": [],
   "source": [
    "fo = ROOT.TFile(diname+foname)\n",
    "# fo = ROOT.TFile(\"/eos/user/l/lkang/Active_Research/Templates/SManalysis_split/2017/Untag/4mu/Untag_4mu_137p1invfb_ggH4landVBF4landqqbar_mostEW_RECOpassedevents_mvar21d1reg20d2reg20.input.root\")\n",
    "\n",
    "fo.ls()\n",
    "\n",
    "c1 = ROOT.TCanvas(\"c1\",\"c1\",4480,600)\n",
    "c1.Divide(len(proc),1)\n",
    "for i in range(len(proc)):\n",
    "    c1.cd(i+1)\n",
    "    eval(\"print(proc[i], '\\t\\t=', fo.\"+proc[i]+\".Integral())\")\n",
    "#     eval(\"print(fo.\"+proc[i]+\".Integral())\")\n",
    "    eval(\"fo.\"+proc[i]+\".Draw('hist')\")\n",
    "print()    \n",
    "\n",
    "c1.Draw()\n",
    "fo.Close()"
   ]
  },
  {
   "cell_type": "code",
   "execution_count": null,
   "id": "91243872",
   "metadata": {},
   "outputs": [],
   "source": []
  }
 ],
 "metadata": {
  "kernelspec": {
   "display_name": "Python 3",
   "language": "python",
   "name": "python3"
  },
  "language_info": {
   "codemirror_mode": {
    "name": "ipython",
    "version": 3
   },
   "file_extension": ".py",
   "mimetype": "text/x-python",
   "name": "python",
   "nbconvert_exporter": "python",
   "pygments_lexer": "ipython3",
   "version": "3.9.6"
  }
 },
 "nbformat": 4,
 "nbformat_minor": 5
}
