{
 "cells": [
  {
   "cell_type": "markdown",
   "id": "2c008997",
   "metadata": {},
   "source": [
    "# IMPORT LIBRARIES"
   ]
  },
  {
   "cell_type": "code",
   "execution_count": 1,
   "id": "ff540fb0",
   "metadata": {},
   "outputs": [
    {
     "name": "stdout",
     "output_type": "stream",
     "text": [
      "Welcome to JupyROOT 6.24/06\n"
     ]
    }
   ],
   "source": [
    "import os\n",
    "import glob\n",
    "import ROOT\n",
    "from math import sqrt\n",
    "import time\n",
    "#from os import path\n",
    "from pathlib import Path\n",
    "import re\n",
    "from tqdm.notebook import trange, tqdm\n",
    "import numpy as np\n",
    "from array import *\n",
    "%jsroot on"
   ]
  },
  {
   "cell_type": "markdown",
   "id": "01275ae9",
   "metadata": {},
   "source": [
    "# LOAD SPLINES AND DEFINE BINNING"
   ]
  },
  {
   "cell_type": "code",
   "execution_count": 2,
   "id": "9fc4748e",
   "metadata": {
    "scrolled": true
   },
   "outputs": [
    {
     "data": {
      "text/plain": [
       "137.10000000000002"
      ]
     },
     "execution_count": 2,
     "metadata": {},
     "output_type": "execute_result"
    }
   ],
   "source": [
    "35.9 + 41.5 + 59.7"
   ]
  },
  {
   "cell_type": "code",
   "execution_count": 3,
   "id": "98808fee",
   "metadata": {},
   "outputs": [],
   "source": [
    "lumi = {'MC_2016_CorrectBTag':35.9, 'MC_2017':41.5, 'MC_2018':59.7}"
   ]
  },
  {
   "cell_type": "code",
   "execution_count": 4,
   "id": "56d06c7a",
   "metadata": {},
   "outputs": [],
   "source": [
    "D2jetZHSpline = ROOT.TFile(\"/eos/user/l/lkang/Active_Research/Discriminants/RecoMEConstants/SmoothKDConstant_m4l_DjjZH_13TeV.root\").Get(\"sp_gr_varReco_Constant_Smooth\")\n",
    "D2jetWHSpline = ROOT.TFile(\"/eos/user/l/lkang/Active_Research/Discriminants/RecoMEConstants/SmoothKDConstant_m4l_DjjWH_13TeV.root\").Get(\"sp_gr_varReco_Constant_Smooth\")\n",
    "D2jetVBFSpline = ROOT.TFile(\"/eos/user/l/lkang/Active_Research/Discriminants/RecoMEConstants/SmoothKDConstant_m4l_DjjVBF_13TeV.root\").Get(\"sp_gr_varReco_Constant_Smooth\")\n",
    "\n",
    "#WPCshift = 1\n",
    "WPCshift2jv = 0.46386/(1. - 0.46386)\n",
    "WPCshift2jz = 0.91315/(1. - 0.91315)\n",
    "WPCshift2jw = 0.88384/(1. - 0.88384)"
   ]
  },
  {
   "cell_type": "code",
   "execution_count": 5,
   "id": "ba70b1eb",
   "metadata": {},
   "outputs": [],
   "source": [
    "DbkgkinSpline4e = ROOT.TFile(\"/eos/user/l/lkang/Active_Research/Discriminants/RecoMEConstants/SmoothKDConstant_m4l_Dbkgkin_4e_13TeV.root\").Get(\"sp_gr_varReco_Constant_Smooth\")\n",
    "DbkgkinSpline4mu = ROOT.TFile(\"/eos/user/l/lkang/Active_Research/Discriminants/RecoMEConstants/SmoothKDConstant_m4l_Dbkgkin_4mu_13TeV.root\").Get(\"sp_gr_varReco_Constant_Smooth\")\n",
    "DbkgkinSpline2e2mu = ROOT.TFile(\"/eos/user/l/lkang/Active_Research/Discriminants/RecoMEConstants/SmoothKDConstant_m4l_Dbkgkin_2e2mu_13TeV.root\").Get(\"sp_gr_varReco_Constant_Smooth\")\n",
    "\n",
    "DggbkgkinSpline4e = ROOT.TFile(\"/eos/user/l/lkang/Active_Research/Discriminants/RecoMEConstants/SmoothKDConstant_m4l_Dggbkgkin_4e_13TeV.root\").Get(\"sp_gr_varReco_Constant_Smooth\")\n",
    "DggbkgkinSpline4mu = ROOT.TFile(\"/eos/user/l/lkang/Active_Research/Discriminants/RecoMEConstants/SmoothKDConstant_m4l_Dggbkgkin_4mu_13TeV.root\").Get(\"sp_gr_varReco_Constant_Smooth\")\n",
    "DggbkgkinSpline2e2mu = ROOT.TFile(\"/eos/user/l/lkang/Active_Research/Discriminants/RecoMEConstants/SmoothKDConstant_m4l_Dggbkgkin_2e2mu_13TeV.root\").Get(\"sp_gr_varReco_Constant_Smooth\")"
   ]
  },
  {
   "cell_type": "code",
   "execution_count": 6,
   "id": "a442fd25",
   "metadata": {},
   "outputs": [],
   "source": [
    "DbkgjjEWQCDSpline4lHadVH = ROOT.TFile(\"/eos/user/l/lkang/Active_Research/Discriminants/RecoMEConstants/SmoothKDConstant_m4l_DbkgjjEWQCD_4l_HadVHTagged_13TeV.root\").Get(\"sp_gr_varReco_Constant_Smooth\")\n",
    "DbkgjjEWQCDSpline2l2lHadVH = ROOT.TFile(\"/eos/user/l/lkang/Active_Research/Discriminants/RecoMEConstants/SmoothKDConstant_m4l_DbkgjjEWQCD_2l2l_HadVHTagged_13TeV.root\").Get(\"sp_gr_varReco_Constant_Smooth\")\n",
    "\n",
    "DbkgjjEWQCDSpline4lJJVBF = ROOT.TFile(\"/eos/user/l/lkang/Active_Research/Discriminants/RecoMEConstants/SmoothKDConstant_m4l_DbkgjjEWQCD_4l_JJVBFTagged_13TeV.root\").Get(\"sp_gr_varReco_Constant_Smooth\")\n",
    "DbkgjjEWQCDSpline2l2lJJVBF = ROOT.TFile(\"/eos/user/l/lkang/Active_Research/Discriminants/RecoMEConstants/SmoothKDConstant_m4l_DbkgjjEWQCD_2l2l_JJVBFTagged_13TeV.root\").Get(\"sp_gr_varReco_Constant_Smooth\")"
   ]
  },
  {
   "cell_type": "code",
   "execution_count": 7,
   "id": "7974f04f",
   "metadata": {},
   "outputs": [],
   "source": [
    "medges = np.array([220, 230, 240, 250, 260, 280, 310, 340, 370, 400, 475, 550, 625, 700, 800, 900, 1000, 1200, 1600, 2000, 3000, 13000], dtype='float64')\n",
    "# medges = np.array([220, 230, 240, 250, 260, 280, 310, 340, 370, 400, 475, 550, 625, 700, 800, 900, 1000, 1200, 1600, 2000, 13000], dtype='float64')\n",
    "## medges = np.array([220, 260, 370, 625, 1000, 13000], dtype='float64')\n",
    "## medges = np.array([220, 400, 3000, 13000], dtype='float64')\n",
    "# medges = 5*np.arange(401, dtype='float64')\n",
    "#d1edges = np.arange(21, dtype='float64') / 20 * 12780 + 220\n",
    "##d1edges = np.array([ 220.,  316.,  412.,  508.,  604.,  700.,  796.,  892.,  988., 1084., 1180., 1276., 1372., 1468., 1564., 1660., 1756., 1852., 1948., 2044., 13000])\n",
    "##d1edges = np.array([ 220.,  828., 1436., 2044.])\n",
    "#d1edges = np.array([220, 4480, 8740, 13000], dtype='float64')\n",
    "#d1edges = np.array([220, 13000], dtype='float64')\n",
    "d1edges = np.arange(21, dtype='float64') / 20\n",
    "#d1edges = np.arange(6, dtype='float64') / 5\n",
    "# d1edges = np.arange(4, dtype='float64') / 3\n",
    "# d1edges = np.arange(3, dtype='float64') / 2\n",
    "d2edges = np.arange(21, dtype='float64') / 10 - 1\n",
    "#d2edges = np.arange(6, dtype='float64') / 2.5 - 1\n",
    "# d2edges = np.arange(4, dtype='float64') / 1.5 - 1\n",
    "# d2edges = np.arange(3, dtype='float64') / 1 - 1"
   ]
  },
  {
   "cell_type": "code",
   "execution_count": 8,
   "id": "f21626aa",
   "metadata": {
    "scrolled": true
   },
   "outputs": [
    {
     "name": "stdout",
     "output_type": "stream",
     "text": [
      "medges 22\n",
      "medges [  220.   230.   240.   250.   260.   280.   310.   340.   370.   400.\n",
      "   475.   550.   625.   700.   800.   900.  1000.  1200.  1600.  2000.\n",
      "  3000. 13000.]\n",
      "d1edges 21\n",
      "d1edges [0.   0.05 0.1  0.15 0.2  0.25 0.3  0.35 0.4  0.45 0.5  0.55 0.6  0.65\n",
      " 0.7  0.75 0.8  0.85 0.9  0.95 1.  ]\n",
      "d2edges 21\n",
      "d2edges [-1.  -0.9 -0.8 -0.7 -0.6 -0.5 -0.4 -0.3 -0.2 -0.1  0.   0.1  0.2  0.3\n",
      "  0.4  0.5  0.6  0.7  0.8  0.9  1. ]\n"
     ]
    }
   ],
   "source": [
    "print(\"medges\", len(medges))\n",
    "print(\"medges\", (medges))\n",
    "print(\"d1edges\", len(d1edges))\n",
    "print(\"d1edges\", (d1edges))\n",
    "print(\"d2edges\", len(d2edges))\n",
    "print(\"d2edges\", (d2edges))"
   ]
  },
  {
   "cell_type": "markdown",
   "id": "4c82c3d8",
   "metadata": {},
   "source": [
    "# CHOOSE INPUT TREES"
   ]
  },
  {
   "cell_type": "code",
   "execution_count": 9,
   "id": "07a7db0f",
   "metadata": {},
   "outputs": [],
   "source": [
    "#tree i made  \"/eos/user/s/skyriaco/Offshell/200205_CutBased/\""
   ]
  },
  {
   "cell_type": "markdown",
   "id": "e741ec17",
   "metadata": {},
   "source": [
    "### Read selected trees from user-specified file"
   ]
  },
  {
   "cell_type": "code",
   "execution_count": 10,
   "id": "c5f42100",
   "metadata": {},
   "outputs": [],
   "source": [
    "# treelistpath = \"/eos/user/l/lkang/Active_Research/Discriminants/alltaggedtrees.txt\"\n",
    "#treelistpath = \"/eos/user/s/skyriaco/SWAN_projects/Offshel_tempmaker/outputtree_list.txt\"\n",
    "treelistpath = \"/eos/user/s/skyriaco/SWAN_projects/Offshel_tempmaker/outputwithVBF.txt\"\n",
    "treelist = []\n",
    "\n",
    "with open(treelistpath) as f:\n",
    "    llist = [line.rstrip() for line in f]\n",
    "        \n",
    "for line in llist:\n",
    "    if Path(line).exists(): treelist.append(line)"
   ]
  },
  {
   "cell_type": "code",
   "execution_count": 11,
   "id": "6a9af1a2",
   "metadata": {
    "scrolled": true
   },
   "outputs": [
    {
     "name": "stdout",
     "output_type": "stream",
     "text": [
      "/eos/user/s/skyriaco/Offshell/VBF/200205_CutBased/MC_2016_CorrectBTag/OffshellAC/VBF/VBFToContinToZZTo4l/ZZ4lAnalysis.root\n",
      "/eos/user/s/skyriaco/Offshell/VBF/200205_CutBased/MC_2016_CorrectBTag/OffshellAC/VBF/VBFToHiggs0L1ContinToZZTo4l_M125_GaSM/ZZ4lAnalysis.root\n",
      "/eos/user/s/skyriaco/Offshell/VBF/200205_CutBased/MC_2016_CorrectBTag/OffshellAC/VBF/VBFToHiggs0L1f05ph0ContinToZZTo4l_M125_GaSM/ZZ4lAnalysis.root\n",
      "/eos/user/s/skyriaco/Offshell/VBF/200205_CutBased/MC_2016_CorrectBTag/OffshellAC/VBF/VBFToHiggs0MContinToZZTo4l_M125_GaSM/ZZ4lAnalysis.root\n",
      "/eos/user/s/skyriaco/Offshell/VBF/200205_CutBased/MC_2016_CorrectBTag/OffshellAC/VBF/VBFToHiggs0MToZZTo4l_M125_GaSM/ZZ4lAnalysis.root\n",
      "/eos/user/s/skyriaco/Offshell/VBF/200205_CutBased/MC_2016_CorrectBTag/OffshellAC/VBF/VBFToHiggs0Mf025ph0ToZZTo4l_M125_GaSM/ZZ4lAnalysis.root\n",
      "/eos/user/s/skyriaco/Offshell/VBF/200205_CutBased/MC_2016_CorrectBTag/OffshellAC/VBF/VBFToHiggs0Mf05ph0ToZZTo4l_M125_GaSM/ZZ4lAnalysis.root\n",
      "/eos/user/s/skyriaco/Offshell/VBF/200205_CutBased/MC_2016_CorrectBTag/OffshellAC/VBF/VBFToHiggs0Mf075ph0ToZZTo4l_M125_GaSM/ZZ4lAnalysis.root\n",
      "/eos/user/s/skyriaco/Offshell/VBF/200205_CutBased/MC_2016_CorrectBTag/OffshellAC/VBF/VBFToHiggs0PHContinToZZTo4l_M125_GaSM/ZZ4lAnalysis.root\n",
      "/eos/user/s/skyriaco/Offshell/VBF/200205_CutBased/MC_2016_CorrectBTag/OffshellAC/VBF/VBFToHiggs0PHToZZTo4l_M125_GaSM/ZZ4lAnalysis.root\n",
      "/eos/user/s/skyriaco/Offshell/VBF/200205_CutBased/MC_2016_CorrectBTag/OffshellAC/VBF/VBFToHiggs0PHf025ph0ToZZTo4l_M125_GaSM/ZZ4lAnalysis.root\n",
      "/eos/user/s/skyriaco/Offshell/VBF/200205_CutBased/MC_2017/OffshellAC/VBF/VBFToContinToZZTo4l/ZZ4lAnalysis.root\n",
      "/eos/user/s/skyriaco/Offshell/VBF/200205_CutBased/MC_2017/OffshellAC/VBF/VBFToHiggs0L1ContinToZZTo4l_M125_GaSM/ZZ4lAnalysis.root\n",
      "/eos/user/s/skyriaco/Offshell/VBF/200205_CutBased/MC_2017/OffshellAC/VBF/VBFToHiggs0MContinToZZTo4l_M125_GaSM/ZZ4lAnalysis.root\n",
      "/eos/user/s/skyriaco/Offshell/VBF/200205_CutBased/MC_2017/OffshellAC/VBF/VBFToHiggs0MToZZTo4l_M125_GaSM/ZZ4lAnalysis.root\n",
      "/eos/user/s/skyriaco/Offshell/VBF/200205_CutBased/MC_2017/OffshellAC/VBF/VBFToHiggs0Mf05ph0ToZZTo4l_M125_GaSM/ZZ4lAnalysis.root\n",
      "/eos/user/s/skyriaco/Offshell/VBF/200205_CutBased/MC_2017/OffshellAC/VBF/VBFToHiggs0Mf075ph0ToZZTo4l_M125_GaSM/ZZ4lAnalysis.root\n",
      "/eos/user/s/skyriaco/Offshell/VBF/200205_CutBased/MC_2017/OffshellAC/VBF/VBFToHiggs0PHContinToZZTo4l_M125_GaSM/ZZ4lAnalysis.root\n",
      "/eos/user/s/skyriaco/Offshell/VBF/200205_CutBased/MC_2017/OffshellAC/VBF/VBFToHiggs0PHToZZTo4l_M125_GaSM/ZZ4lAnalysis.root\n",
      "/eos/user/s/skyriaco/Offshell/VBF/200205_CutBased/MC_2017/OffshellAC/VBF/VBFToHiggs0PHf025ph0ToZZTo4l_M125_GaSM/ZZ4lAnalysis.root\n",
      "/eos/user/s/skyriaco/Offshell/VBF/200205_CutBased/MC_2017/OffshellAC/VBF/VBFToHiggs0PHf075ph0ToZZTo4l_M125_GaSM/ZZ4lAnalysis.root\n",
      "/eos/user/s/skyriaco/Offshell/VBF/200205_CutBased/MC_2017/OffshellAC/VBF/VBFToHiggs0PMToZZTo4l_M125_GaSM/ZZ4lAnalysis.root\n",
      "/eos/user/s/skyriaco/Offshell/VBF/200205_CutBased/MC_2018/OffshellAC/VBF/VBFToHiggs0L1ContinToZZTo4l_M125_GaSM/ZZ4lAnalysis.root\n",
      "/eos/user/s/skyriaco/Offshell/VBF/200205_CutBased/MC_2018/OffshellAC/VBF/VBFToHiggs0L1f025ph0ToZZTo4l_M125_GaSM/ZZ4lAnalysis.root\n",
      "/eos/user/s/skyriaco/Offshell/VBF/200205_CutBased/MC_2018/OffshellAC/VBF/VBFToHiggs0L1f05ph0ToZZTo4l_M125_GaSM/ZZ4lAnalysis.root\n",
      "/eos/user/s/skyriaco/Offshell/VBF/200205_CutBased/MC_2018/OffshellAC/VBF/VBFToHiggs0MToZZTo4l_M125_GaSM/ZZ4lAnalysis.root\n",
      "/eos/user/s/skyriaco/Offshell/VBF/200205_CutBased/MC_2018/OffshellAC/VBF/VBFToHiggs0Mf025ph0ToZZTo4l_M125_GaSM/ZZ4lAnalysis.root\n",
      "/eos/user/s/skyriaco/Offshell/VBF/200205_CutBased/MC_2018/OffshellAC/VBF/VBFToHiggs0Mf075ph0ToZZTo4l_M125_GaSM/ZZ4lAnalysis.root\n",
      "/eos/user/s/skyriaco/Offshell/VBF/200205_CutBased/MC_2018/OffshellAC/VBF/VBFToHiggs0PHContinToZZTo4l_M125_GaSM/ZZ4lAnalysis.root\n",
      "/eos/user/s/skyriaco/Offshell/VBF/200205_CutBased/MC_2018/OffshellAC/VBF/VBFToHiggs0PHf025ph0ToZZTo4l_M125_GaSM/ZZ4lAnalysis.root\n"
     ]
    }
   ],
   "source": [
    "for t in treelist:\n",
    "    if \"VBF\" in t:\n",
    "         print(t)"
   ]
  },
  {
   "cell_type": "code",
   "execution_count": 12,
   "id": "89141904",
   "metadata": {
    "scrolled": true
   },
   "outputs": [
    {
     "data": {
      "application/vnd.jupyter.widget-view+json": {
       "model_id": "2dbacef1880045e59315846fa57ab11f",
       "version_major": 2,
       "version_minor": 0
      },
      "text/plain": [
       "  0%|          | 0/222 [00:00<?, ?it/s]"
      ]
     },
     "metadata": {},
     "output_type": "display_data"
    }
   ],
   "source": [
    "yeardict = {}\n",
    "\n",
    "for numfile in trange(len(treelist)):\n",
    "    filename = treelist[numfile]\n",
    "    ind = filename.split(\"/\").index(\"200205_CutBased\")\n",
    "#     tagtreefile = \"/\".join(filename.split(\"/\")[ind:])\n",
    "    year = filename.split(\"/\")[ind:][1]\n",
    "#     print(year)\n",
    "    if year not in yeardict.keys():\n",
    "        yeardict[year] = {}\n",
    "    else:\n",
    "        if \"ZZTo4l\" in filename.split(\"/\")[ind:][2]: prod = \"ZZTo4l\"\n",
    "        else: prod = filename.split(\"/\")[ind:][3]\n",
    "            \n",
    "        if prod not in yeardict[year]:\n",
    "            if 'gg' in prod:\n",
    "                yeardict[year][prod] = [[], [], []]\n",
    "            else:\n",
    "                yeardict[year][prod] = [[]]\n",
    "        if prod == 'gg':\n",
    "            if 'ggTo2e2mu' in filename:\n",
    "                yeardict[year][prod][0].append(filename)\n",
    "            elif 'ggTo4e' in filename:\n",
    "                yeardict[year][prod][1].append(filename)\n",
    "            elif 'ggTo4mu' in filename:\n",
    "                yeardict[year][prod][2].append(filename)\n",
    "        elif prod == \"VBF\":\n",
    "            yeardict[year][prod][0].append(filename)\n",
    "        elif prod == \"ZZTo4l\":\n",
    "            yeardict[year][prod][0].append(filename)\n",
    "        else:\n",
    "            print(\"ERROR: Cannot recognize production mode of \" + filename + \"! Tree not sorted!\")"
   ]
  },
  {
   "cell_type": "markdown",
   "id": "c17e73af",
   "metadata": {},
   "source": [
    "### Check organized trees"
   ]
  },
  {
   "cell_type": "code",
   "execution_count": 13,
   "id": "d406f4d6",
   "metadata": {},
   "outputs": [
    {
     "data": {
      "text/plain": [
       "{'MC_2016_CorrectBTag': {'gg': [['/eos/user/s/skyriaco/Offshell/200205_CutBased/MC_2016_CorrectBTag/OffshellAC/gg/ggTo2e2mu_0MH125Contin_MCFM701/ZZ4lAnalysis.root',\n",
       "    '/eos/user/s/skyriaco/Offshell/200205_CutBased/MC_2016_CorrectBTag/OffshellAC/gg/ggTo2e2mu_0MH125_MCFM701/ZZ4lAnalysis.root',\n",
       "    '/eos/user/s/skyriaco/Offshell/200205_CutBased/MC_2016_CorrectBTag/OffshellAC/gg/ggTo2e2mu_0Mf05ph0H125Contin_10GaSM_MCFM701/ZZ4lAnalysis.root',\n",
       "    '/eos/user/s/skyriaco/Offshell/200205_CutBased/MC_2016_CorrectBTag/OffshellAC/gg/ggTo2e2mu_0Mf05ph0H125Contin_MCFM701/ZZ4lAnalysis.root',\n",
       "    '/eos/user/s/skyriaco/Offshell/200205_CutBased/MC_2016_CorrectBTag/OffshellAC/gg/ggTo2e2mu_0Mf05ph0H125_MCFM701/ZZ4lAnalysis.root',\n",
       "    '/eos/user/s/skyriaco/Offshell/200205_CutBased/MC_2016_CorrectBTag/OffshellAC/gg/ggTo2e2mu_0PHH125Contin_10GaSM_MCFM701/ZZ4lAnalysis.root',\n",
       "    '/eos/user/s/skyriaco/Offshell/200205_CutBased/MC_2016_CorrectBTag/OffshellAC/gg/ggTo2e2mu_0PHH125Contin_MCFM701/ZZ4lAnalysis.root',\n",
       "    '/eos/user/s/skyriaco/Offshell/200205_CutBased/MC_2016_CorrectBTag/OffshellAC/gg/ggTo2e2mu_0PHH125_MCFM701/ZZ4lAnalysis.root',\n",
       "    '/eos/user/s/skyriaco/Offshell/200205_CutBased/MC_2016_CorrectBTag/OffshellAC/gg/ggTo2e2mu_0PHf05ph0H125Contin_10GaSM_MCFM701/ZZ4lAnalysis.root',\n",
       "    '/eos/user/s/skyriaco/Offshell/200205_CutBased/MC_2016_CorrectBTag/OffshellAC/gg/ggTo2e2mu_0PHf05ph0H125Contin_MCFM701/ZZ4lAnalysis.root',\n",
       "    '/eos/user/s/skyriaco/Offshell/200205_CutBased/MC_2016_CorrectBTag/OffshellAC/gg/ggTo2e2mu_0PHf05ph0H125_MCFM701/ZZ4lAnalysis.root',\n",
       "    '/eos/user/s/skyriaco/Offshell/200205_CutBased/MC_2016_CorrectBTag/OffshellAC/gg/ggTo2e2mu_0PL1H125Contin_10GaSM_MCFM701/ZZ4lAnalysis.root',\n",
       "    '/eos/user/s/skyriaco/Offshell/200205_CutBased/MC_2016_CorrectBTag/OffshellAC/gg/ggTo2e2mu_0PL1H125Contin_MCFM701/ZZ4lAnalysis.root',\n",
       "    '/eos/user/s/skyriaco/Offshell/200205_CutBased/MC_2016_CorrectBTag/OffshellAC/gg/ggTo2e2mu_0PL1H125_MCFM701/ZZ4lAnalysis.root',\n",
       "    '/eos/user/s/skyriaco/Offshell/200205_CutBased/MC_2016_CorrectBTag/OffshellAC/gg/ggTo2e2mu_0PL1f05ph0H125Contin_10GaSM_MCFM701/ZZ4lAnalysis.root',\n",
       "    '/eos/user/s/skyriaco/Offshell/200205_CutBased/MC_2016_CorrectBTag/OffshellAC/gg/ggTo2e2mu_0PL1f05ph0H125_MCFM701/ZZ4lAnalysis.root',\n",
       "    '/eos/user/s/skyriaco/Offshell/200205_CutBased/MC_2016_CorrectBTag/OffshellAC/gg/ggTo2e2mu_0PMH125Contin_10GaSM_MCFM701/ZZ4lAnalysis.root',\n",
       "    '/eos/user/s/skyriaco/Offshell/200205_CutBased/MC_2016_CorrectBTag/OffshellAC/gg/ggTo2e2mu_0PMH125Contin_MCFM701/ZZ4lAnalysis.root',\n",
       "    '/eos/user/s/skyriaco/Offshell/200205_CutBased/MC_2016_CorrectBTag/OffshellAC/gg/ggTo2e2mu_0PMH125_MCFM701/ZZ4lAnalysis.root',\n",
       "    '/eos/user/s/skyriaco/Offshell/200205_CutBased/MC_2016_CorrectBTag/OffshellAC/gg/ggTo2e2mu_ContinDefaultShower_MCFM701/ZZ4lAnalysis.root',\n",
       "    '/eos/user/s/skyriaco/Offshell/200205_CutBased/MC_2016_CorrectBTag/OffshellAC/gg/ggTo2e2mu_Contin_MCFM701/ZZ4lAnalysis.root'],\n",
       "   ['/eos/user/s/skyriaco/Offshell/200205_CutBased/MC_2016_CorrectBTag/OffshellAC/gg/ggTo4e_0MH125Contin_10GaSM_MCFM701/ZZ4lAnalysis.root',\n",
       "    '/eos/user/s/skyriaco/Offshell/200205_CutBased/MC_2016_CorrectBTag/OffshellAC/gg/ggTo4e_0MH125Contin_MCFM701/ZZ4lAnalysis.root',\n",
       "    '/eos/user/s/skyriaco/Offshell/200205_CutBased/MC_2016_CorrectBTag/OffshellAC/gg/ggTo4e_0MH125_MCFM701/ZZ4lAnalysis.root',\n",
       "    '/eos/user/s/skyriaco/Offshell/200205_CutBased/MC_2016_CorrectBTag/OffshellAC/gg/ggTo4e_0Mf05ph0H125Contin_10GaSM_MCFM701/ZZ4lAnalysis.root',\n",
       "    '/eos/user/s/skyriaco/Offshell/200205_CutBased/MC_2016_CorrectBTag/OffshellAC/gg/ggTo4e_0Mf05ph0H125Contin_MCFM701/ZZ4lAnalysis.root',\n",
       "    '/eos/user/s/skyriaco/Offshell/200205_CutBased/MC_2016_CorrectBTag/OffshellAC/gg/ggTo4e_0Mf05ph0H125_MCFM701/ZZ4lAnalysis.root',\n",
       "    '/eos/user/s/skyriaco/Offshell/200205_CutBased/MC_2016_CorrectBTag/OffshellAC/gg/ggTo4e_0PHH125Contin_10GaSM_MCFM701/ZZ4lAnalysis.root',\n",
       "    '/eos/user/s/skyriaco/Offshell/200205_CutBased/MC_2016_CorrectBTag/OffshellAC/gg/ggTo4e_0PHH125Contin_MCFM701/ZZ4lAnalysis.root',\n",
       "    '/eos/user/s/skyriaco/Offshell/200205_CutBased/MC_2016_CorrectBTag/OffshellAC/gg/ggTo4e_0PHH125_MCFM701/ZZ4lAnalysis.root',\n",
       "    '/eos/user/s/skyriaco/Offshell/200205_CutBased/MC_2016_CorrectBTag/OffshellAC/gg/ggTo4e_0PHf05ph0H125Contin_10GaSM_MCFM701/ZZ4lAnalysis.root',\n",
       "    '/eos/user/s/skyriaco/Offshell/200205_CutBased/MC_2016_CorrectBTag/OffshellAC/gg/ggTo4e_0PHf05ph0H125Contin_MCFM701/ZZ4lAnalysis.root',\n",
       "    '/eos/user/s/skyriaco/Offshell/200205_CutBased/MC_2016_CorrectBTag/OffshellAC/gg/ggTo4e_0PHf05ph0H125_MCFM701/ZZ4lAnalysis.root',\n",
       "    '/eos/user/s/skyriaco/Offshell/200205_CutBased/MC_2016_CorrectBTag/OffshellAC/gg/ggTo4e_0PL1H125Contin_10GaSM_MCFM701/ZZ4lAnalysis.root',\n",
       "    '/eos/user/s/skyriaco/Offshell/200205_CutBased/MC_2016_CorrectBTag/OffshellAC/gg/ggTo4e_0PL1H125Contin_MCFM701/ZZ4lAnalysis.root',\n",
       "    '/eos/user/s/skyriaco/Offshell/200205_CutBased/MC_2016_CorrectBTag/OffshellAC/gg/ggTo4e_0PL1H125_MCFM701/ZZ4lAnalysis.root',\n",
       "    '/eos/user/s/skyriaco/Offshell/200205_CutBased/MC_2016_CorrectBTag/OffshellAC/gg/ggTo4e_0PL1f05ph0H125Contin_10GaSM_MCFM701/ZZ4lAnalysis.root',\n",
       "    '/eos/user/s/skyriaco/Offshell/200205_CutBased/MC_2016_CorrectBTag/OffshellAC/gg/ggTo4e_0PL1f05ph0H125Contin_MCFM701/ZZ4lAnalysis.root',\n",
       "    '/eos/user/s/skyriaco/Offshell/200205_CutBased/MC_2016_CorrectBTag/OffshellAC/gg/ggTo4e_0PL1f05ph0H125_MCFM701/ZZ4lAnalysis.root',\n",
       "    '/eos/user/s/skyriaco/Offshell/200205_CutBased/MC_2016_CorrectBTag/OffshellAC/gg/ggTo4e_0PMH125Contin_10GaSM_MCFM701/ZZ4lAnalysis.root',\n",
       "    '/eos/user/s/skyriaco/Offshell/200205_CutBased/MC_2016_CorrectBTag/OffshellAC/gg/ggTo4e_0PMH125Contin_MCFM701/ZZ4lAnalysis.root',\n",
       "    '/eos/user/s/skyriaco/Offshell/200205_CutBased/MC_2016_CorrectBTag/OffshellAC/gg/ggTo4e_0PMH125_MCFM701/ZZ4lAnalysis.root',\n",
       "    '/eos/user/s/skyriaco/Offshell/200205_CutBased/MC_2016_CorrectBTag/OffshellAC/gg/ggTo4e_ContinDefaultShower_MCFM701/ZZ4lAnalysis.root',\n",
       "    '/eos/user/s/skyriaco/Offshell/200205_CutBased/MC_2016_CorrectBTag/OffshellAC/gg/ggTo4e_Contin_MCFM701/ZZ4lAnalysis.root'],\n",
       "   ['/eos/user/s/skyriaco/Offshell/200205_CutBased/MC_2016_CorrectBTag/OffshellAC/gg/ggTo4mu_0MH125Contin_10GaSM_MCFM701/ZZ4lAnalysis.root',\n",
       "    '/eos/user/s/skyriaco/Offshell/200205_CutBased/MC_2016_CorrectBTag/OffshellAC/gg/ggTo4mu_0MH125Contin_MCFM701/ZZ4lAnalysis.root',\n",
       "    '/eos/user/s/skyriaco/Offshell/200205_CutBased/MC_2016_CorrectBTag/OffshellAC/gg/ggTo4mu_0MH125_MCFM701/ZZ4lAnalysis.root',\n",
       "    '/eos/user/s/skyriaco/Offshell/200205_CutBased/MC_2016_CorrectBTag/OffshellAC/gg/ggTo4mu_0Mf05ph0H125Contin_10GaSM_MCFM701/ZZ4lAnalysis.root',\n",
       "    '/eos/user/s/skyriaco/Offshell/200205_CutBased/MC_2016_CorrectBTag/OffshellAC/gg/ggTo4mu_0Mf05ph0H125Contin_MCFM701/ZZ4lAnalysis.root',\n",
       "    '/eos/user/s/skyriaco/Offshell/200205_CutBased/MC_2016_CorrectBTag/OffshellAC/gg/ggTo4mu_0Mf05ph0H125_MCFM701/ZZ4lAnalysis.root',\n",
       "    '/eos/user/s/skyriaco/Offshell/200205_CutBased/MC_2016_CorrectBTag/OffshellAC/gg/ggTo4mu_0PHH125Contin_10GaSM_MCFM701/ZZ4lAnalysis.root',\n",
       "    '/eos/user/s/skyriaco/Offshell/200205_CutBased/MC_2016_CorrectBTag/OffshellAC/gg/ggTo4mu_0PHH125Contin_MCFM701/ZZ4lAnalysis.root',\n",
       "    '/eos/user/s/skyriaco/Offshell/200205_CutBased/MC_2016_CorrectBTag/OffshellAC/gg/ggTo4mu_0PHH125_MCFM701/ZZ4lAnalysis.root',\n",
       "    '/eos/user/s/skyriaco/Offshell/200205_CutBased/MC_2016_CorrectBTag/OffshellAC/gg/ggTo4mu_0PHf05ph0H125Contin_10GaSM_MCFM701/ZZ4lAnalysis.root',\n",
       "    '/eos/user/s/skyriaco/Offshell/200205_CutBased/MC_2016_CorrectBTag/OffshellAC/gg/ggTo4mu_0PHf05ph0H125Contin_MCFM701/ZZ4lAnalysis.root',\n",
       "    '/eos/user/s/skyriaco/Offshell/200205_CutBased/MC_2016_CorrectBTag/OffshellAC/gg/ggTo4mu_0PHf05ph0H125_MCFM701/ZZ4lAnalysis.root',\n",
       "    '/eos/user/s/skyriaco/Offshell/200205_CutBased/MC_2016_CorrectBTag/OffshellAC/gg/ggTo4mu_0PL1H125Contin_10GaSM_MCFM701/ZZ4lAnalysis.root',\n",
       "    '/eos/user/s/skyriaco/Offshell/200205_CutBased/MC_2016_CorrectBTag/OffshellAC/gg/ggTo4mu_0PL1H125Contin_MCFM701/ZZ4lAnalysis.root',\n",
       "    '/eos/user/s/skyriaco/Offshell/200205_CutBased/MC_2016_CorrectBTag/OffshellAC/gg/ggTo4mu_0PL1H125_MCFM701/ZZ4lAnalysis.root',\n",
       "    '/eos/user/s/skyriaco/Offshell/200205_CutBased/MC_2016_CorrectBTag/OffshellAC/gg/ggTo4mu_0PL1f05ph0H125Contin_10GaSM_MCFM701/ZZ4lAnalysis.root',\n",
       "    '/eos/user/s/skyriaco/Offshell/200205_CutBased/MC_2016_CorrectBTag/OffshellAC/gg/ggTo4mu_0PL1f05ph0H125Contin_MCFM701/ZZ4lAnalysis.root',\n",
       "    '/eos/user/s/skyriaco/Offshell/200205_CutBased/MC_2016_CorrectBTag/OffshellAC/gg/ggTo4mu_0PL1f05ph0H125_MCFM701/ZZ4lAnalysis.root',\n",
       "    '/eos/user/s/skyriaco/Offshell/200205_CutBased/MC_2016_CorrectBTag/OffshellAC/gg/ggTo4mu_0PMH125Contin_10GaSM_MCFM701/ZZ4lAnalysis.root',\n",
       "    '/eos/user/s/skyriaco/Offshell/200205_CutBased/MC_2016_CorrectBTag/OffshellAC/gg/ggTo4mu_0PMH125Contin_MCFM701/ZZ4lAnalysis.root',\n",
       "    '/eos/user/s/skyriaco/Offshell/200205_CutBased/MC_2016_CorrectBTag/OffshellAC/gg/ggTo4mu_0PMH125_MCFM701/ZZ4lAnalysis.root',\n",
       "    '/eos/user/s/skyriaco/Offshell/200205_CutBased/MC_2016_CorrectBTag/OffshellAC/gg/ggTo4mu_ContinDefaultShower_MCFM701/ZZ4lAnalysis.root',\n",
       "    '/eos/user/s/skyriaco/Offshell/200205_CutBased/MC_2016_CorrectBTag/OffshellAC/gg/ggTo4mu_Contin_MCFM701/ZZ4lAnalysis.root']],\n",
       "  'VBF': [['/eos/user/s/skyriaco/Offshell/VBF/200205_CutBased/MC_2016_CorrectBTag/OffshellAC/VBF/VBFToContinToZZTo4l/ZZ4lAnalysis.root',\n",
       "    '/eos/user/s/skyriaco/Offshell/VBF/200205_CutBased/MC_2016_CorrectBTag/OffshellAC/VBF/VBFToHiggs0L1ContinToZZTo4l_M125_GaSM/ZZ4lAnalysis.root',\n",
       "    '/eos/user/s/skyriaco/Offshell/VBF/200205_CutBased/MC_2016_CorrectBTag/OffshellAC/VBF/VBFToHiggs0L1f05ph0ContinToZZTo4l_M125_GaSM/ZZ4lAnalysis.root',\n",
       "    '/eos/user/s/skyriaco/Offshell/VBF/200205_CutBased/MC_2016_CorrectBTag/OffshellAC/VBF/VBFToHiggs0MContinToZZTo4l_M125_GaSM/ZZ4lAnalysis.root',\n",
       "    '/eos/user/s/skyriaco/Offshell/VBF/200205_CutBased/MC_2016_CorrectBTag/OffshellAC/VBF/VBFToHiggs0MToZZTo4l_M125_GaSM/ZZ4lAnalysis.root',\n",
       "    '/eos/user/s/skyriaco/Offshell/VBF/200205_CutBased/MC_2016_CorrectBTag/OffshellAC/VBF/VBFToHiggs0Mf025ph0ToZZTo4l_M125_GaSM/ZZ4lAnalysis.root',\n",
       "    '/eos/user/s/skyriaco/Offshell/VBF/200205_CutBased/MC_2016_CorrectBTag/OffshellAC/VBF/VBFToHiggs0Mf05ph0ToZZTo4l_M125_GaSM/ZZ4lAnalysis.root',\n",
       "    '/eos/user/s/skyriaco/Offshell/VBF/200205_CutBased/MC_2016_CorrectBTag/OffshellAC/VBF/VBFToHiggs0Mf075ph0ToZZTo4l_M125_GaSM/ZZ4lAnalysis.root',\n",
       "    '/eos/user/s/skyriaco/Offshell/VBF/200205_CutBased/MC_2016_CorrectBTag/OffshellAC/VBF/VBFToHiggs0PHContinToZZTo4l_M125_GaSM/ZZ4lAnalysis.root',\n",
       "    '/eos/user/s/skyriaco/Offshell/VBF/200205_CutBased/MC_2016_CorrectBTag/OffshellAC/VBF/VBFToHiggs0PHToZZTo4l_M125_GaSM/ZZ4lAnalysis.root',\n",
       "    '/eos/user/s/skyriaco/Offshell/VBF/200205_CutBased/MC_2016_CorrectBTag/OffshellAC/VBF/VBFToHiggs0PHf025ph0ToZZTo4l_M125_GaSM/ZZ4lAnalysis.root']]},\n",
       " 'MC_2017': {'gg': [['/eos/user/s/skyriaco/Offshell/200205_CutBased/MC_2017/OffshellAC/gg/ggTo2e2mu_0MH125Contin_MCFM701/ZZ4lAnalysis.root',\n",
       "    '/eos/user/s/skyriaco/Offshell/200205_CutBased/MC_2017/OffshellAC/gg/ggTo2e2mu_0MH125_MCFM701/ZZ4lAnalysis.root',\n",
       "    '/eos/user/s/skyriaco/Offshell/200205_CutBased/MC_2017/OffshellAC/gg/ggTo2e2mu_0Mf05ph0H125Contin_10GaSM_MCFM701/ZZ4lAnalysis.root',\n",
       "    '/eos/user/s/skyriaco/Offshell/200205_CutBased/MC_2017/OffshellAC/gg/ggTo2e2mu_0Mf05ph0H125Contin_MCFM701/ZZ4lAnalysis.root',\n",
       "    '/eos/user/s/skyriaco/Offshell/200205_CutBased/MC_2017/OffshellAC/gg/ggTo2e2mu_0Mf05ph0H125_MCFM701/ZZ4lAnalysis.root',\n",
       "    '/eos/user/s/skyriaco/Offshell/200205_CutBased/MC_2017/OffshellAC/gg/ggTo2e2mu_0PHH125Contin_10GaSM_MCFM701/ZZ4lAnalysis.root',\n",
       "    '/eos/user/s/skyriaco/Offshell/200205_CutBased/MC_2017/OffshellAC/gg/ggTo2e2mu_0PHH125Contin_MCFM701/ZZ4lAnalysis.root',\n",
       "    '/eos/user/s/skyriaco/Offshell/200205_CutBased/MC_2017/OffshellAC/gg/ggTo2e2mu_0PHH125_MCFM701/ZZ4lAnalysis.root',\n",
       "    '/eos/user/s/skyriaco/Offshell/200205_CutBased/MC_2017/OffshellAC/gg/ggTo2e2mu_0PHf05ph0H125Contin_10GaSM_MCFM701/ZZ4lAnalysis.root',\n",
       "    '/eos/user/s/skyriaco/Offshell/200205_CutBased/MC_2017/OffshellAC/gg/ggTo2e2mu_0PHf05ph0H125Contin_MCFM701/ZZ4lAnalysis.root',\n",
       "    '/eos/user/s/skyriaco/Offshell/200205_CutBased/MC_2017/OffshellAC/gg/ggTo2e2mu_0PHf05ph0H125_MCFM701/ZZ4lAnalysis.root',\n",
       "    '/eos/user/s/skyriaco/Offshell/200205_CutBased/MC_2017/OffshellAC/gg/ggTo2e2mu_0PL1H125Contin_10GaSM_MCFM701/ZZ4lAnalysis.root',\n",
       "    '/eos/user/s/skyriaco/Offshell/200205_CutBased/MC_2017/OffshellAC/gg/ggTo2e2mu_0PL1H125Contin_MCFM701/ZZ4lAnalysis.root',\n",
       "    '/eos/user/s/skyriaco/Offshell/200205_CutBased/MC_2017/OffshellAC/gg/ggTo2e2mu_0PL1H125_MCFM701/ZZ4lAnalysis.root',\n",
       "    '/eos/user/s/skyriaco/Offshell/200205_CutBased/MC_2017/OffshellAC/gg/ggTo2e2mu_0PL1f05ph0H125Contin_10GaSM_MCFM701/ZZ4lAnalysis.root',\n",
       "    '/eos/user/s/skyriaco/Offshell/200205_CutBased/MC_2017/OffshellAC/gg/ggTo2e2mu_0PL1f05ph0H125Contin_MCFM701/ZZ4lAnalysis.root',\n",
       "    '/eos/user/s/skyriaco/Offshell/200205_CutBased/MC_2017/OffshellAC/gg/ggTo2e2mu_0PL1f05ph0H125_MCFM701/ZZ4lAnalysis.root',\n",
       "    '/eos/user/s/skyriaco/Offshell/200205_CutBased/MC_2017/OffshellAC/gg/ggTo2e2mu_0PMH125Contin_10GaSM_MCFM701/ZZ4lAnalysis.root',\n",
       "    '/eos/user/s/skyriaco/Offshell/200205_CutBased/MC_2017/OffshellAC/gg/ggTo2e2mu_0PMH125Contin_MCFM701/ZZ4lAnalysis.root',\n",
       "    '/eos/user/s/skyriaco/Offshell/200205_CutBased/MC_2017/OffshellAC/gg/ggTo2e2mu_0PMH125_MCFM701/ZZ4lAnalysis.root',\n",
       "    '/eos/user/s/skyriaco/Offshell/200205_CutBased/MC_2017/OffshellAC/gg/ggTo2e2mu_Contin_MCFM701/ZZ4lAnalysis.root'],\n",
       "   ['/eos/user/s/skyriaco/Offshell/200205_CutBased/MC_2017/OffshellAC/gg/ggTo4e_0MH125Contin_10GaSM_MCFM701/ZZ4lAnalysis.root',\n",
       "    '/eos/user/s/skyriaco/Offshell/200205_CutBased/MC_2017/OffshellAC/gg/ggTo4e_0MH125Contin_MCFM701/ZZ4lAnalysis.root',\n",
       "    '/eos/user/s/skyriaco/Offshell/200205_CutBased/MC_2017/OffshellAC/gg/ggTo4e_0MH125_MCFM701/ZZ4lAnalysis.root',\n",
       "    '/eos/user/s/skyriaco/Offshell/200205_CutBased/MC_2017/OffshellAC/gg/ggTo4e_0Mf05ph0H125Contin_10GaSM_MCFM701/ZZ4lAnalysis.root',\n",
       "    '/eos/user/s/skyriaco/Offshell/200205_CutBased/MC_2017/OffshellAC/gg/ggTo4e_0Mf05ph0H125Contin_MCFM701/ZZ4lAnalysis.root',\n",
       "    '/eos/user/s/skyriaco/Offshell/200205_CutBased/MC_2017/OffshellAC/gg/ggTo4e_0Mf05ph0H125_MCFM701/ZZ4lAnalysis.root',\n",
       "    '/eos/user/s/skyriaco/Offshell/200205_CutBased/MC_2017/OffshellAC/gg/ggTo4e_0PHH125Contin_MCFM701/ZZ4lAnalysis.root',\n",
       "    '/eos/user/s/skyriaco/Offshell/200205_CutBased/MC_2017/OffshellAC/gg/ggTo4e_0PHH125_MCFM701/ZZ4lAnalysis.root',\n",
       "    '/eos/user/s/skyriaco/Offshell/200205_CutBased/MC_2017/OffshellAC/gg/ggTo4e_0PHf05ph0H125Contin_10GaSM_MCFM701/ZZ4lAnalysis.root',\n",
       "    '/eos/user/s/skyriaco/Offshell/200205_CutBased/MC_2017/OffshellAC/gg/ggTo4e_0PHf05ph0H125Contin_MCFM701/ZZ4lAnalysis.root',\n",
       "    '/eos/user/s/skyriaco/Offshell/200205_CutBased/MC_2017/OffshellAC/gg/ggTo4e_0PHf05ph0H125_MCFM701/ZZ4lAnalysis.root',\n",
       "    '/eos/user/s/skyriaco/Offshell/200205_CutBased/MC_2017/OffshellAC/gg/ggTo4e_0PL1H125Contin_10GaSM_MCFM701/ZZ4lAnalysis.root',\n",
       "    '/eos/user/s/skyriaco/Offshell/200205_CutBased/MC_2017/OffshellAC/gg/ggTo4e_0PL1H125_MCFM701/ZZ4lAnalysis.root',\n",
       "    '/eos/user/s/skyriaco/Offshell/200205_CutBased/MC_2017/OffshellAC/gg/ggTo4e_0PL1f05ph0H125Contin_10GaSM_MCFM701/ZZ4lAnalysis.root',\n",
       "    '/eos/user/s/skyriaco/Offshell/200205_CutBased/MC_2017/OffshellAC/gg/ggTo4e_0PL1f05ph0H125Contin_MCFM701/ZZ4lAnalysis.root',\n",
       "    '/eos/user/s/skyriaco/Offshell/200205_CutBased/MC_2017/OffshellAC/gg/ggTo4e_0PL1f05ph0H125_MCFM701/ZZ4lAnalysis.root',\n",
       "    '/eos/user/s/skyriaco/Offshell/200205_CutBased/MC_2017/OffshellAC/gg/ggTo4e_0PMH125Contin_10GaSM_MCFM701/ZZ4lAnalysis.root',\n",
       "    '/eos/user/s/skyriaco/Offshell/200205_CutBased/MC_2017/OffshellAC/gg/ggTo4e_0PMH125Contin_MCFM701/ZZ4lAnalysis.root',\n",
       "    '/eos/user/s/skyriaco/Offshell/200205_CutBased/MC_2017/OffshellAC/gg/ggTo4e_0PMH125_MCFM701/ZZ4lAnalysis.root',\n",
       "    '/eos/user/s/skyriaco/Offshell/200205_CutBased/MC_2017/OffshellAC/gg/ggTo4e_Contin_MCFM701/ZZ4lAnalysis.root'],\n",
       "   ['/eos/user/s/skyriaco/Offshell/200205_CutBased/MC_2017/OffshellAC/gg/ggTo4mu_0MH125Contin_10GaSM_MCFM701/ZZ4lAnalysis.root',\n",
       "    '/eos/user/s/skyriaco/Offshell/200205_CutBased/MC_2017/OffshellAC/gg/ggTo4mu_0MH125Contin_MCFM701/ZZ4lAnalysis.root',\n",
       "    '/eos/user/s/skyriaco/Offshell/200205_CutBased/MC_2017/OffshellAC/gg/ggTo4mu_0MH125_MCFM701/ZZ4lAnalysis.root',\n",
       "    '/eos/user/s/skyriaco/Offshell/200205_CutBased/MC_2017/OffshellAC/gg/ggTo4mu_0Mf05ph0H125Contin_10GaSM_MCFM701/ZZ4lAnalysis.root',\n",
       "    '/eos/user/s/skyriaco/Offshell/200205_CutBased/MC_2017/OffshellAC/gg/ggTo4mu_0Mf05ph0H125Contin_MCFM701/ZZ4lAnalysis.root',\n",
       "    '/eos/user/s/skyriaco/Offshell/200205_CutBased/MC_2017/OffshellAC/gg/ggTo4mu_0Mf05ph0H125_MCFM701/ZZ4lAnalysis.root',\n",
       "    '/eos/user/s/skyriaco/Offshell/200205_CutBased/MC_2017/OffshellAC/gg/ggTo4mu_0PHH125Contin_MCFM701/ZZ4lAnalysis.root',\n",
       "    '/eos/user/s/skyriaco/Offshell/200205_CutBased/MC_2017/OffshellAC/gg/ggTo4mu_0PHH125_MCFM701/ZZ4lAnalysis.root',\n",
       "    '/eos/user/s/skyriaco/Offshell/200205_CutBased/MC_2017/OffshellAC/gg/ggTo4mu_0PHf05ph0H125Contin_10GaSM_MCFM701/ZZ4lAnalysis.root',\n",
       "    '/eos/user/s/skyriaco/Offshell/200205_CutBased/MC_2017/OffshellAC/gg/ggTo4mu_0PHf05ph0H125Contin_MCFM701/ZZ4lAnalysis.root',\n",
       "    '/eos/user/s/skyriaco/Offshell/200205_CutBased/MC_2017/OffshellAC/gg/ggTo4mu_0PHf05ph0H125_MCFM701/ZZ4lAnalysis.root',\n",
       "    '/eos/user/s/skyriaco/Offshell/200205_CutBased/MC_2017/OffshellAC/gg/ggTo4mu_0PL1H125Contin_MCFM701/ZZ4lAnalysis.root',\n",
       "    '/eos/user/s/skyriaco/Offshell/200205_CutBased/MC_2017/OffshellAC/gg/ggTo4mu_0PL1H125_MCFM701/ZZ4lAnalysis.root',\n",
       "    '/eos/user/s/skyriaco/Offshell/200205_CutBased/MC_2017/OffshellAC/gg/ggTo4mu_0PL1f05ph0H125Contin_10GaSM_MCFM701/ZZ4lAnalysis.root',\n",
       "    '/eos/user/s/skyriaco/Offshell/200205_CutBased/MC_2017/OffshellAC/gg/ggTo4mu_0PL1f05ph0H125Contin_MCFM701/ZZ4lAnalysis.root',\n",
       "    '/eos/user/s/skyriaco/Offshell/200205_CutBased/MC_2017/OffshellAC/gg/ggTo4mu_0PL1f05ph0H125_MCFM701/ZZ4lAnalysis.root',\n",
       "    '/eos/user/s/skyriaco/Offshell/200205_CutBased/MC_2017/OffshellAC/gg/ggTo4mu_0PMH125Contin_10GaSM_MCFM701/ZZ4lAnalysis.root',\n",
       "    '/eos/user/s/skyriaco/Offshell/200205_CutBased/MC_2017/OffshellAC/gg/ggTo4mu_0PMH125Contin_MCFM701/ZZ4lAnalysis.root',\n",
       "    '/eos/user/s/skyriaco/Offshell/200205_CutBased/MC_2017/OffshellAC/gg/ggTo4mu_0PMH125_MCFM701/ZZ4lAnalysis.root',\n",
       "    '/eos/user/s/skyriaco/Offshell/200205_CutBased/MC_2017/OffshellAC/gg/ggTo4mu_Contin_MCFM701/ZZ4lAnalysis.root']],\n",
       "  'VBF': [['/eos/user/s/skyriaco/Offshell/VBF/200205_CutBased/MC_2017/OffshellAC/VBF/VBFToContinToZZTo4l/ZZ4lAnalysis.root',\n",
       "    '/eos/user/s/skyriaco/Offshell/VBF/200205_CutBased/MC_2017/OffshellAC/VBF/VBFToHiggs0L1ContinToZZTo4l_M125_GaSM/ZZ4lAnalysis.root',\n",
       "    '/eos/user/s/skyriaco/Offshell/VBF/200205_CutBased/MC_2017/OffshellAC/VBF/VBFToHiggs0MContinToZZTo4l_M125_GaSM/ZZ4lAnalysis.root',\n",
       "    '/eos/user/s/skyriaco/Offshell/VBF/200205_CutBased/MC_2017/OffshellAC/VBF/VBFToHiggs0MToZZTo4l_M125_GaSM/ZZ4lAnalysis.root',\n",
       "    '/eos/user/s/skyriaco/Offshell/VBF/200205_CutBased/MC_2017/OffshellAC/VBF/VBFToHiggs0Mf05ph0ToZZTo4l_M125_GaSM/ZZ4lAnalysis.root',\n",
       "    '/eos/user/s/skyriaco/Offshell/VBF/200205_CutBased/MC_2017/OffshellAC/VBF/VBFToHiggs0Mf075ph0ToZZTo4l_M125_GaSM/ZZ4lAnalysis.root',\n",
       "    '/eos/user/s/skyriaco/Offshell/VBF/200205_CutBased/MC_2017/OffshellAC/VBF/VBFToHiggs0PHContinToZZTo4l_M125_GaSM/ZZ4lAnalysis.root',\n",
       "    '/eos/user/s/skyriaco/Offshell/VBF/200205_CutBased/MC_2017/OffshellAC/VBF/VBFToHiggs0PHToZZTo4l_M125_GaSM/ZZ4lAnalysis.root',\n",
       "    '/eos/user/s/skyriaco/Offshell/VBF/200205_CutBased/MC_2017/OffshellAC/VBF/VBFToHiggs0PHf025ph0ToZZTo4l_M125_GaSM/ZZ4lAnalysis.root',\n",
       "    '/eos/user/s/skyriaco/Offshell/VBF/200205_CutBased/MC_2017/OffshellAC/VBF/VBFToHiggs0PHf075ph0ToZZTo4l_M125_GaSM/ZZ4lAnalysis.root',\n",
       "    '/eos/user/s/skyriaco/Offshell/VBF/200205_CutBased/MC_2017/OffshellAC/VBF/VBFToHiggs0PMToZZTo4l_M125_GaSM/ZZ4lAnalysis.root']]},\n",
       " 'MC_2018': {'gg': [['/eos/user/s/skyriaco/Offshell/200205_CutBased/MC_2018/OffshellAC/gg/ggTo2e2mu_0MH125Contin_MCFM701/ZZ4lAnalysis.root',\n",
       "    '/eos/user/s/skyriaco/Offshell/200205_CutBased/MC_2018/OffshellAC/gg/ggTo2e2mu_0MH125_MCFM701/ZZ4lAnalysis.root',\n",
       "    '/eos/user/s/skyriaco/Offshell/200205_CutBased/MC_2018/OffshellAC/gg/ggTo2e2mu_0Mf05ph0H125Contin_10GaSM_MCFM701/ZZ4lAnalysis.root',\n",
       "    '/eos/user/s/skyriaco/Offshell/200205_CutBased/MC_2018/OffshellAC/gg/ggTo2e2mu_0Mf05ph0H125Contin_MCFM701/ZZ4lAnalysis.root',\n",
       "    '/eos/user/s/skyriaco/Offshell/200205_CutBased/MC_2018/OffshellAC/gg/ggTo2e2mu_0Mf05ph0H125_MCFM701/ZZ4lAnalysis.root',\n",
       "    '/eos/user/s/skyriaco/Offshell/200205_CutBased/MC_2018/OffshellAC/gg/ggTo2e2mu_0PHH125Contin_10GaSM_MCFM701/ZZ4lAnalysis.root',\n",
       "    '/eos/user/s/skyriaco/Offshell/200205_CutBased/MC_2018/OffshellAC/gg/ggTo2e2mu_0PHH125Contin_MCFM701/ZZ4lAnalysis.root',\n",
       "    '/eos/user/s/skyriaco/Offshell/200205_CutBased/MC_2018/OffshellAC/gg/ggTo2e2mu_0PHH125_MCFM701/ZZ4lAnalysis.root',\n",
       "    '/eos/user/s/skyriaco/Offshell/200205_CutBased/MC_2018/OffshellAC/gg/ggTo2e2mu_0PHf05ph0H125Contin_10GaSM_MCFM701/ZZ4lAnalysis.root',\n",
       "    '/eos/user/s/skyriaco/Offshell/200205_CutBased/MC_2018/OffshellAC/gg/ggTo2e2mu_0PHf05ph0H125Contin_MCFM701/ZZ4lAnalysis.root',\n",
       "    '/eos/user/s/skyriaco/Offshell/200205_CutBased/MC_2018/OffshellAC/gg/ggTo2e2mu_0PHf05ph0H125_MCFM701/ZZ4lAnalysis.root',\n",
       "    '/eos/user/s/skyriaco/Offshell/200205_CutBased/MC_2018/OffshellAC/gg/ggTo2e2mu_0PL1H125Contin_10GaSM_MCFM701/ZZ4lAnalysis.root',\n",
       "    '/eos/user/s/skyriaco/Offshell/200205_CutBased/MC_2018/OffshellAC/gg/ggTo2e2mu_0PL1H125Contin_MCFM701/ZZ4lAnalysis.root',\n",
       "    '/eos/user/s/skyriaco/Offshell/200205_CutBased/MC_2018/OffshellAC/gg/ggTo2e2mu_0PL1H125_MCFM701/ZZ4lAnalysis.root',\n",
       "    '/eos/user/s/skyriaco/Offshell/200205_CutBased/MC_2018/OffshellAC/gg/ggTo2e2mu_0PL1f05ph0H125Contin_10GaSM_MCFM701/ZZ4lAnalysis.root',\n",
       "    '/eos/user/s/skyriaco/Offshell/200205_CutBased/MC_2018/OffshellAC/gg/ggTo2e2mu_0PL1f05ph0H125Contin_MCFM701/ZZ4lAnalysis.root',\n",
       "    '/eos/user/s/skyriaco/Offshell/200205_CutBased/MC_2018/OffshellAC/gg/ggTo2e2mu_0PL1f05ph0H125_MCFM701/ZZ4lAnalysis.root',\n",
       "    '/eos/user/s/skyriaco/Offshell/200205_CutBased/MC_2018/OffshellAC/gg/ggTo2e2mu_0PMH125Contin_10GaSM_MCFM701/ZZ4lAnalysis.root',\n",
       "    '/eos/user/s/skyriaco/Offshell/200205_CutBased/MC_2018/OffshellAC/gg/ggTo2e2mu_0PMH125Contin_MCFM701/ZZ4lAnalysis.root',\n",
       "    '/eos/user/s/skyriaco/Offshell/200205_CutBased/MC_2018/OffshellAC/gg/ggTo2e2mu_0PMH125_MCFM701/ZZ4lAnalysis.root',\n",
       "    '/eos/user/s/skyriaco/Offshell/200205_CutBased/MC_2018/OffshellAC/gg/ggTo2e2mu_Contin_MCFM701/ZZ4lAnalysis.root'],\n",
       "   ['/eos/user/s/skyriaco/Offshell/200205_CutBased/MC_2018/OffshellAC/gg/ggTo4e_0MH125Contin_10GaSM_MCFM701/ZZ4lAnalysis.root',\n",
       "    '/eos/user/s/skyriaco/Offshell/200205_CutBased/MC_2018/OffshellAC/gg/ggTo4e_0MH125Contin_MCFM701/ZZ4lAnalysis.root',\n",
       "    '/eos/user/s/skyriaco/Offshell/200205_CutBased/MC_2018/OffshellAC/gg/ggTo4e_0MH125_MCFM701/ZZ4lAnalysis.root',\n",
       "    '/eos/user/s/skyriaco/Offshell/200205_CutBased/MC_2018/OffshellAC/gg/ggTo4e_0Mf05ph0H125Contin_10GaSM_MCFM701/ZZ4lAnalysis.root',\n",
       "    '/eos/user/s/skyriaco/Offshell/200205_CutBased/MC_2018/OffshellAC/gg/ggTo4e_0Mf05ph0H125Contin_MCFM701/ZZ4lAnalysis.root',\n",
       "    '/eos/user/s/skyriaco/Offshell/200205_CutBased/MC_2018/OffshellAC/gg/ggTo4e_0Mf05ph0H125_MCFM701/ZZ4lAnalysis.root',\n",
       "    '/eos/user/s/skyriaco/Offshell/200205_CutBased/MC_2018/OffshellAC/gg/ggTo4e_0PHH125Contin_MCFM701/ZZ4lAnalysis.root',\n",
       "    '/eos/user/s/skyriaco/Offshell/200205_CutBased/MC_2018/OffshellAC/gg/ggTo4e_0PHH125_MCFM701/ZZ4lAnalysis.root',\n",
       "    '/eos/user/s/skyriaco/Offshell/200205_CutBased/MC_2018/OffshellAC/gg/ggTo4e_0PHf05ph0H125Contin_10GaSM_MCFM701/ZZ4lAnalysis.root',\n",
       "    '/eos/user/s/skyriaco/Offshell/200205_CutBased/MC_2018/OffshellAC/gg/ggTo4e_0PHf05ph0H125Contin_MCFM701/ZZ4lAnalysis.root',\n",
       "    '/eos/user/s/skyriaco/Offshell/200205_CutBased/MC_2018/OffshellAC/gg/ggTo4e_0PHf05ph0H125_MCFM701/ZZ4lAnalysis.root',\n",
       "    '/eos/user/s/skyriaco/Offshell/200205_CutBased/MC_2018/OffshellAC/gg/ggTo4e_0PL1H125Contin_10GaSM_MCFM701/ZZ4lAnalysis.root',\n",
       "    '/eos/user/s/skyriaco/Offshell/200205_CutBased/MC_2018/OffshellAC/gg/ggTo4e_0PL1H125Contin_MCFM701/ZZ4lAnalysis.root',\n",
       "    '/eos/user/s/skyriaco/Offshell/200205_CutBased/MC_2018/OffshellAC/gg/ggTo4e_0PL1H125_MCFM701/ZZ4lAnalysis.root',\n",
       "    '/eos/user/s/skyriaco/Offshell/200205_CutBased/MC_2018/OffshellAC/gg/ggTo4e_0PL1f05ph0H125Contin_10GaSM_MCFM701/ZZ4lAnalysis.root',\n",
       "    '/eos/user/s/skyriaco/Offshell/200205_CutBased/MC_2018/OffshellAC/gg/ggTo4e_0PL1f05ph0H125Contin_MCFM701/ZZ4lAnalysis.root',\n",
       "    '/eos/user/s/skyriaco/Offshell/200205_CutBased/MC_2018/OffshellAC/gg/ggTo4e_0PL1f05ph0H125_MCFM701/ZZ4lAnalysis.root',\n",
       "    '/eos/user/s/skyriaco/Offshell/200205_CutBased/MC_2018/OffshellAC/gg/ggTo4e_0PMH125Contin_10GaSM_MCFM701/ZZ4lAnalysis.root',\n",
       "    '/eos/user/s/skyriaco/Offshell/200205_CutBased/MC_2018/OffshellAC/gg/ggTo4e_0PMH125Contin_MCFM701/ZZ4lAnalysis.root',\n",
       "    '/eos/user/s/skyriaco/Offshell/200205_CutBased/MC_2018/OffshellAC/gg/ggTo4e_0PMH125_MCFM701/ZZ4lAnalysis.root',\n",
       "    '/eos/user/s/skyriaco/Offshell/200205_CutBased/MC_2018/OffshellAC/gg/ggTo4e_Contin_MCFM701/ZZ4lAnalysis.root'],\n",
       "   ['/eos/user/s/skyriaco/Offshell/200205_CutBased/MC_2018/OffshellAC/gg/ggTo4mu_0MH125Contin_10GaSM_MCFM701/ZZ4lAnalysis.root',\n",
       "    '/eos/user/s/skyriaco/Offshell/200205_CutBased/MC_2018/OffshellAC/gg/ggTo4mu_0MH125Contin_MCFM701/ZZ4lAnalysis.root',\n",
       "    '/eos/user/s/skyriaco/Offshell/200205_CutBased/MC_2018/OffshellAC/gg/ggTo4mu_0MH125_MCFM701/ZZ4lAnalysis.root',\n",
       "    '/eos/user/s/skyriaco/Offshell/200205_CutBased/MC_2018/OffshellAC/gg/ggTo4mu_0Mf05ph0H125Contin_10GaSM_MCFM701/ZZ4lAnalysis.root',\n",
       "    '/eos/user/s/skyriaco/Offshell/200205_CutBased/MC_2018/OffshellAC/gg/ggTo4mu_0Mf05ph0H125Contin_MCFM701/ZZ4lAnalysis.root',\n",
       "    '/eos/user/s/skyriaco/Offshell/200205_CutBased/MC_2018/OffshellAC/gg/ggTo4mu_0Mf05ph0H125_MCFM701/ZZ4lAnalysis.root',\n",
       "    '/eos/user/s/skyriaco/Offshell/200205_CutBased/MC_2018/OffshellAC/gg/ggTo4mu_0PHH125Contin_MCFM701/ZZ4lAnalysis.root',\n",
       "    '/eos/user/s/skyriaco/Offshell/200205_CutBased/MC_2018/OffshellAC/gg/ggTo4mu_0PHH125_MCFM701/ZZ4lAnalysis.root',\n",
       "    '/eos/user/s/skyriaco/Offshell/200205_CutBased/MC_2018/OffshellAC/gg/ggTo4mu_0PHf05ph0H125Contin_10GaSM_MCFM701/ZZ4lAnalysis.root',\n",
       "    '/eos/user/s/skyriaco/Offshell/200205_CutBased/MC_2018/OffshellAC/gg/ggTo4mu_0PHf05ph0H125Contin_MCFM701/ZZ4lAnalysis.root',\n",
       "    '/eos/user/s/skyriaco/Offshell/200205_CutBased/MC_2018/OffshellAC/gg/ggTo4mu_0PHf05ph0H125_MCFM701/ZZ4lAnalysis.root',\n",
       "    '/eos/user/s/skyriaco/Offshell/200205_CutBased/MC_2018/OffshellAC/gg/ggTo4mu_0PL1H125Contin_MCFM701/ZZ4lAnalysis.root',\n",
       "    '/eos/user/s/skyriaco/Offshell/200205_CutBased/MC_2018/OffshellAC/gg/ggTo4mu_0PL1H125_MCFM701/ZZ4lAnalysis.root',\n",
       "    '/eos/user/s/skyriaco/Offshell/200205_CutBased/MC_2018/OffshellAC/gg/ggTo4mu_0PL1f05ph0H125Contin_10GaSM_MCFM701/ZZ4lAnalysis.root',\n",
       "    '/eos/user/s/skyriaco/Offshell/200205_CutBased/MC_2018/OffshellAC/gg/ggTo4mu_0PL1f05ph0H125Contin_MCFM701/ZZ4lAnalysis.root',\n",
       "    '/eos/user/s/skyriaco/Offshell/200205_CutBased/MC_2018/OffshellAC/gg/ggTo4mu_0PL1f05ph0H125_MCFM701/ZZ4lAnalysis.root',\n",
       "    '/eos/user/s/skyriaco/Offshell/200205_CutBased/MC_2018/OffshellAC/gg/ggTo4mu_0PMH125Contin_MCFM701/ZZ4lAnalysis.root',\n",
       "    '/eos/user/s/skyriaco/Offshell/200205_CutBased/MC_2018/OffshellAC/gg/ggTo4mu_0PMH125_MCFM701/ZZ4lAnalysis.root',\n",
       "    '/eos/user/s/skyriaco/Offshell/200205_CutBased/MC_2018/OffshellAC/gg/ggTo4mu_Contin_MCFM701/ZZ4lAnalysis.root']],\n",
       "  'VBF': [['/eos/user/s/skyriaco/Offshell/VBF/200205_CutBased/MC_2018/OffshellAC/VBF/VBFToHiggs0L1ContinToZZTo4l_M125_GaSM/ZZ4lAnalysis.root',\n",
       "    '/eos/user/s/skyriaco/Offshell/VBF/200205_CutBased/MC_2018/OffshellAC/VBF/VBFToHiggs0L1f025ph0ToZZTo4l_M125_GaSM/ZZ4lAnalysis.root',\n",
       "    '/eos/user/s/skyriaco/Offshell/VBF/200205_CutBased/MC_2018/OffshellAC/VBF/VBFToHiggs0L1f05ph0ToZZTo4l_M125_GaSM/ZZ4lAnalysis.root',\n",
       "    '/eos/user/s/skyriaco/Offshell/VBF/200205_CutBased/MC_2018/OffshellAC/VBF/VBFToHiggs0MToZZTo4l_M125_GaSM/ZZ4lAnalysis.root',\n",
       "    '/eos/user/s/skyriaco/Offshell/VBF/200205_CutBased/MC_2018/OffshellAC/VBF/VBFToHiggs0Mf025ph0ToZZTo4l_M125_GaSM/ZZ4lAnalysis.root',\n",
       "    '/eos/user/s/skyriaco/Offshell/VBF/200205_CutBased/MC_2018/OffshellAC/VBF/VBFToHiggs0Mf075ph0ToZZTo4l_M125_GaSM/ZZ4lAnalysis.root',\n",
       "    '/eos/user/s/skyriaco/Offshell/VBF/200205_CutBased/MC_2018/OffshellAC/VBF/VBFToHiggs0PHContinToZZTo4l_M125_GaSM/ZZ4lAnalysis.root',\n",
       "    '/eos/user/s/skyriaco/Offshell/VBF/200205_CutBased/MC_2018/OffshellAC/VBF/VBFToHiggs0PHf025ph0ToZZTo4l_M125_GaSM/ZZ4lAnalysis.root']]}}"
      ]
     },
     "execution_count": 13,
     "metadata": {},
     "output_type": "execute_result"
    }
   ],
   "source": [
    "yeardict"
   ]
  },
  {
   "cell_type": "code",
   "execution_count": 14,
   "id": "3d66a3a4",
   "metadata": {},
   "outputs": [
    {
     "name": "stdout",
     "output_type": "stream",
     "text": [
      "{'MC_2016_CorrectBTag': {'gg': [['/eos/user/s/skyriaco/Offshell/200205_CutBased/MC_2016_CorrectBTag/OffshellAC/gg/ggTo2e2mu_0MH125Contin_MCFM701/ZZ4lAnalysis.root', '/eos/user/s/skyriaco/Offshell/200205_CutBased/MC_2016_CorrectBTag/OffshellAC/gg/ggTo2e2mu_0MH125_MCFM701/ZZ4lAnalysis.root', '/eos/user/s/skyriaco/Offshell/200205_CutBased/MC_2016_CorrectBTag/OffshellAC/gg/ggTo2e2mu_0Mf05ph0H125Contin_10GaSM_MCFM701/ZZ4lAnalysis.root', '/eos/user/s/skyriaco/Offshell/200205_CutBased/MC_2016_CorrectBTag/OffshellAC/gg/ggTo2e2mu_0Mf05ph0H125Contin_MCFM701/ZZ4lAnalysis.root', '/eos/user/s/skyriaco/Offshell/200205_CutBased/MC_2016_CorrectBTag/OffshellAC/gg/ggTo2e2mu_0Mf05ph0H125_MCFM701/ZZ4lAnalysis.root', '/eos/user/s/skyriaco/Offshell/200205_CutBased/MC_2016_CorrectBTag/OffshellAC/gg/ggTo2e2mu_0PHH125Contin_10GaSM_MCFM701/ZZ4lAnalysis.root', '/eos/user/s/skyriaco/Offshell/200205_CutBased/MC_2016_CorrectBTag/OffshellAC/gg/ggTo2e2mu_0PHH125Contin_MCFM701/ZZ4lAnalysis.root', '/eos/user/s/skyriaco/Offshell/200205_CutBased/MC_2016_CorrectBTag/OffshellAC/gg/ggTo2e2mu_0PHH125_MCFM701/ZZ4lAnalysis.root', '/eos/user/s/skyriaco/Offshell/200205_CutBased/MC_2016_CorrectBTag/OffshellAC/gg/ggTo2e2mu_0PHf05ph0H125Contin_10GaSM_MCFM701/ZZ4lAnalysis.root', '/eos/user/s/skyriaco/Offshell/200205_CutBased/MC_2016_CorrectBTag/OffshellAC/gg/ggTo2e2mu_0PHf05ph0H125Contin_MCFM701/ZZ4lAnalysis.root', '/eos/user/s/skyriaco/Offshell/200205_CutBased/MC_2016_CorrectBTag/OffshellAC/gg/ggTo2e2mu_0PHf05ph0H125_MCFM701/ZZ4lAnalysis.root', '/eos/user/s/skyriaco/Offshell/200205_CutBased/MC_2016_CorrectBTag/OffshellAC/gg/ggTo2e2mu_0PL1H125Contin_10GaSM_MCFM701/ZZ4lAnalysis.root', '/eos/user/s/skyriaco/Offshell/200205_CutBased/MC_2016_CorrectBTag/OffshellAC/gg/ggTo2e2mu_0PL1H125Contin_MCFM701/ZZ4lAnalysis.root', '/eos/user/s/skyriaco/Offshell/200205_CutBased/MC_2016_CorrectBTag/OffshellAC/gg/ggTo2e2mu_0PL1H125_MCFM701/ZZ4lAnalysis.root', '/eos/user/s/skyriaco/Offshell/200205_CutBased/MC_2016_CorrectBTag/OffshellAC/gg/ggTo2e2mu_0PL1f05ph0H125Contin_10GaSM_MCFM701/ZZ4lAnalysis.root', '/eos/user/s/skyriaco/Offshell/200205_CutBased/MC_2016_CorrectBTag/OffshellAC/gg/ggTo2e2mu_0PL1f05ph0H125_MCFM701/ZZ4lAnalysis.root', '/eos/user/s/skyriaco/Offshell/200205_CutBased/MC_2016_CorrectBTag/OffshellAC/gg/ggTo2e2mu_0PMH125Contin_10GaSM_MCFM701/ZZ4lAnalysis.root', '/eos/user/s/skyriaco/Offshell/200205_CutBased/MC_2016_CorrectBTag/OffshellAC/gg/ggTo2e2mu_0PMH125Contin_MCFM701/ZZ4lAnalysis.root', '/eos/user/s/skyriaco/Offshell/200205_CutBased/MC_2016_CorrectBTag/OffshellAC/gg/ggTo2e2mu_0PMH125_MCFM701/ZZ4lAnalysis.root', '/eos/user/s/skyriaco/Offshell/200205_CutBased/MC_2016_CorrectBTag/OffshellAC/gg/ggTo2e2mu_ContinDefaultShower_MCFM701/ZZ4lAnalysis.root', '/eos/user/s/skyriaco/Offshell/200205_CutBased/MC_2016_CorrectBTag/OffshellAC/gg/ggTo2e2mu_Contin_MCFM701/ZZ4lAnalysis.root'], ['/eos/user/s/skyriaco/Offshell/200205_CutBased/MC_2016_CorrectBTag/OffshellAC/gg/ggTo4e_0MH125Contin_10GaSM_MCFM701/ZZ4lAnalysis.root', '/eos/user/s/skyriaco/Offshell/200205_CutBased/MC_2016_CorrectBTag/OffshellAC/gg/ggTo4e_0MH125Contin_MCFM701/ZZ4lAnalysis.root', '/eos/user/s/skyriaco/Offshell/200205_CutBased/MC_2016_CorrectBTag/OffshellAC/gg/ggTo4e_0MH125_MCFM701/ZZ4lAnalysis.root', '/eos/user/s/skyriaco/Offshell/200205_CutBased/MC_2016_CorrectBTag/OffshellAC/gg/ggTo4e_0Mf05ph0H125Contin_10GaSM_MCFM701/ZZ4lAnalysis.root', '/eos/user/s/skyriaco/Offshell/200205_CutBased/MC_2016_CorrectBTag/OffshellAC/gg/ggTo4e_0Mf05ph0H125Contin_MCFM701/ZZ4lAnalysis.root', '/eos/user/s/skyriaco/Offshell/200205_CutBased/MC_2016_CorrectBTag/OffshellAC/gg/ggTo4e_0Mf05ph0H125_MCFM701/ZZ4lAnalysis.root', '/eos/user/s/skyriaco/Offshell/200205_CutBased/MC_2016_CorrectBTag/OffshellAC/gg/ggTo4e_0PHH125Contin_10GaSM_MCFM701/ZZ4lAnalysis.root', '/eos/user/s/skyriaco/Offshell/200205_CutBased/MC_2016_CorrectBTag/OffshellAC/gg/ggTo4e_0PHH125Contin_MCFM701/ZZ4lAnalysis.root', '/eos/user/s/skyriaco/Offshell/200205_CutBased/MC_2016_CorrectBTag/OffshellAC/gg/ggTo4e_0PHH125_MCFM701/ZZ4lAnalysis.root', '/eos/user/s/skyriaco/Offshell/200205_CutBased/MC_2016_CorrectBTag/OffshellAC/gg/ggTo4e_0PHf05ph0H125Contin_10GaSM_MCFM701/ZZ4lAnalysis.root', '/eos/user/s/skyriaco/Offshell/200205_CutBased/MC_2016_CorrectBTag/OffshellAC/gg/ggTo4e_0PHf05ph0H125Contin_MCFM701/ZZ4lAnalysis.root', '/eos/user/s/skyriaco/Offshell/200205_CutBased/MC_2016_CorrectBTag/OffshellAC/gg/ggTo4e_0PHf05ph0H125_MCFM701/ZZ4lAnalysis.root', '/eos/user/s/skyriaco/Offshell/200205_CutBased/MC_2016_CorrectBTag/OffshellAC/gg/ggTo4e_0PL1H125Contin_10GaSM_MCFM701/ZZ4lAnalysis.root', '/eos/user/s/skyriaco/Offshell/200205_CutBased/MC_2016_CorrectBTag/OffshellAC/gg/ggTo4e_0PL1H125Contin_MCFM701/ZZ4lAnalysis.root', '/eos/user/s/skyriaco/Offshell/200205_CutBased/MC_2016_CorrectBTag/OffshellAC/gg/ggTo4e_0PL1H125_MCFM701/ZZ4lAnalysis.root', '/eos/user/s/skyriaco/Offshell/200205_CutBased/MC_2016_CorrectBTag/OffshellAC/gg/ggTo4e_0PL1f05ph0H125Contin_10GaSM_MCFM701/ZZ4lAnalysis.root', '/eos/user/s/skyriaco/Offshell/200205_CutBased/MC_2016_CorrectBTag/OffshellAC/gg/ggTo4e_0PL1f05ph0H125Contin_MCFM701/ZZ4lAnalysis.root', '/eos/user/s/skyriaco/Offshell/200205_CutBased/MC_2016_CorrectBTag/OffshellAC/gg/ggTo4e_0PL1f05ph0H125_MCFM701/ZZ4lAnalysis.root', '/eos/user/s/skyriaco/Offshell/200205_CutBased/MC_2016_CorrectBTag/OffshellAC/gg/ggTo4e_0PMH125Contin_10GaSM_MCFM701/ZZ4lAnalysis.root', '/eos/user/s/skyriaco/Offshell/200205_CutBased/MC_2016_CorrectBTag/OffshellAC/gg/ggTo4e_0PMH125Contin_MCFM701/ZZ4lAnalysis.root', '/eos/user/s/skyriaco/Offshell/200205_CutBased/MC_2016_CorrectBTag/OffshellAC/gg/ggTo4e_0PMH125_MCFM701/ZZ4lAnalysis.root', '/eos/user/s/skyriaco/Offshell/200205_CutBased/MC_2016_CorrectBTag/OffshellAC/gg/ggTo4e_ContinDefaultShower_MCFM701/ZZ4lAnalysis.root', '/eos/user/s/skyriaco/Offshell/200205_CutBased/MC_2016_CorrectBTag/OffshellAC/gg/ggTo4e_Contin_MCFM701/ZZ4lAnalysis.root'], ['/eos/user/s/skyriaco/Offshell/200205_CutBased/MC_2016_CorrectBTag/OffshellAC/gg/ggTo4mu_0MH125Contin_10GaSM_MCFM701/ZZ4lAnalysis.root', '/eos/user/s/skyriaco/Offshell/200205_CutBased/MC_2016_CorrectBTag/OffshellAC/gg/ggTo4mu_0MH125Contin_MCFM701/ZZ4lAnalysis.root', '/eos/user/s/skyriaco/Offshell/200205_CutBased/MC_2016_CorrectBTag/OffshellAC/gg/ggTo4mu_0MH125_MCFM701/ZZ4lAnalysis.root', '/eos/user/s/skyriaco/Offshell/200205_CutBased/MC_2016_CorrectBTag/OffshellAC/gg/ggTo4mu_0Mf05ph0H125Contin_10GaSM_MCFM701/ZZ4lAnalysis.root', '/eos/user/s/skyriaco/Offshell/200205_CutBased/MC_2016_CorrectBTag/OffshellAC/gg/ggTo4mu_0Mf05ph0H125Contin_MCFM701/ZZ4lAnalysis.root', '/eos/user/s/skyriaco/Offshell/200205_CutBased/MC_2016_CorrectBTag/OffshellAC/gg/ggTo4mu_0Mf05ph0H125_MCFM701/ZZ4lAnalysis.root', '/eos/user/s/skyriaco/Offshell/200205_CutBased/MC_2016_CorrectBTag/OffshellAC/gg/ggTo4mu_0PHH125Contin_10GaSM_MCFM701/ZZ4lAnalysis.root', '/eos/user/s/skyriaco/Offshell/200205_CutBased/MC_2016_CorrectBTag/OffshellAC/gg/ggTo4mu_0PHH125Contin_MCFM701/ZZ4lAnalysis.root', '/eos/user/s/skyriaco/Offshell/200205_CutBased/MC_2016_CorrectBTag/OffshellAC/gg/ggTo4mu_0PHH125_MCFM701/ZZ4lAnalysis.root', '/eos/user/s/skyriaco/Offshell/200205_CutBased/MC_2016_CorrectBTag/OffshellAC/gg/ggTo4mu_0PHf05ph0H125Contin_10GaSM_MCFM701/ZZ4lAnalysis.root', '/eos/user/s/skyriaco/Offshell/200205_CutBased/MC_2016_CorrectBTag/OffshellAC/gg/ggTo4mu_0PHf05ph0H125Contin_MCFM701/ZZ4lAnalysis.root', '/eos/user/s/skyriaco/Offshell/200205_CutBased/MC_2016_CorrectBTag/OffshellAC/gg/ggTo4mu_0PHf05ph0H125_MCFM701/ZZ4lAnalysis.root', '/eos/user/s/skyriaco/Offshell/200205_CutBased/MC_2016_CorrectBTag/OffshellAC/gg/ggTo4mu_0PL1H125Contin_10GaSM_MCFM701/ZZ4lAnalysis.root', '/eos/user/s/skyriaco/Offshell/200205_CutBased/MC_2016_CorrectBTag/OffshellAC/gg/ggTo4mu_0PL1H125Contin_MCFM701/ZZ4lAnalysis.root', '/eos/user/s/skyriaco/Offshell/200205_CutBased/MC_2016_CorrectBTag/OffshellAC/gg/ggTo4mu_0PL1H125_MCFM701/ZZ4lAnalysis.root', '/eos/user/s/skyriaco/Offshell/200205_CutBased/MC_2016_CorrectBTag/OffshellAC/gg/ggTo4mu_0PL1f05ph0H125Contin_10GaSM_MCFM701/ZZ4lAnalysis.root', '/eos/user/s/skyriaco/Offshell/200205_CutBased/MC_2016_CorrectBTag/OffshellAC/gg/ggTo4mu_0PL1f05ph0H125Contin_MCFM701/ZZ4lAnalysis.root', '/eos/user/s/skyriaco/Offshell/200205_CutBased/MC_2016_CorrectBTag/OffshellAC/gg/ggTo4mu_0PL1f05ph0H125_MCFM701/ZZ4lAnalysis.root', '/eos/user/s/skyriaco/Offshell/200205_CutBased/MC_2016_CorrectBTag/OffshellAC/gg/ggTo4mu_0PMH125Contin_10GaSM_MCFM701/ZZ4lAnalysis.root', '/eos/user/s/skyriaco/Offshell/200205_CutBased/MC_2016_CorrectBTag/OffshellAC/gg/ggTo4mu_0PMH125Contin_MCFM701/ZZ4lAnalysis.root', '/eos/user/s/skyriaco/Offshell/200205_CutBased/MC_2016_CorrectBTag/OffshellAC/gg/ggTo4mu_0PMH125_MCFM701/ZZ4lAnalysis.root', '/eos/user/s/skyriaco/Offshell/200205_CutBased/MC_2016_CorrectBTag/OffshellAC/gg/ggTo4mu_ContinDefaultShower_MCFM701/ZZ4lAnalysis.root', '/eos/user/s/skyriaco/Offshell/200205_CutBased/MC_2016_CorrectBTag/OffshellAC/gg/ggTo4mu_Contin_MCFM701/ZZ4lAnalysis.root']], 'VBF': [['/eos/user/s/skyriaco/Offshell/VBF/200205_CutBased/MC_2016_CorrectBTag/OffshellAC/VBF/VBFToContinToZZTo4l/ZZ4lAnalysis.root', '/eos/user/s/skyriaco/Offshell/VBF/200205_CutBased/MC_2016_CorrectBTag/OffshellAC/VBF/VBFToHiggs0L1ContinToZZTo4l_M125_GaSM/ZZ4lAnalysis.root', '/eos/user/s/skyriaco/Offshell/VBF/200205_CutBased/MC_2016_CorrectBTag/OffshellAC/VBF/VBFToHiggs0L1f05ph0ContinToZZTo4l_M125_GaSM/ZZ4lAnalysis.root', '/eos/user/s/skyriaco/Offshell/VBF/200205_CutBased/MC_2016_CorrectBTag/OffshellAC/VBF/VBFToHiggs0MContinToZZTo4l_M125_GaSM/ZZ4lAnalysis.root', '/eos/user/s/skyriaco/Offshell/VBF/200205_CutBased/MC_2016_CorrectBTag/OffshellAC/VBF/VBFToHiggs0MToZZTo4l_M125_GaSM/ZZ4lAnalysis.root', '/eos/user/s/skyriaco/Offshell/VBF/200205_CutBased/MC_2016_CorrectBTag/OffshellAC/VBF/VBFToHiggs0Mf025ph0ToZZTo4l_M125_GaSM/ZZ4lAnalysis.root', '/eos/user/s/skyriaco/Offshell/VBF/200205_CutBased/MC_2016_CorrectBTag/OffshellAC/VBF/VBFToHiggs0Mf05ph0ToZZTo4l_M125_GaSM/ZZ4lAnalysis.root', '/eos/user/s/skyriaco/Offshell/VBF/200205_CutBased/MC_2016_CorrectBTag/OffshellAC/VBF/VBFToHiggs0Mf075ph0ToZZTo4l_M125_GaSM/ZZ4lAnalysis.root', '/eos/user/s/skyriaco/Offshell/VBF/200205_CutBased/MC_2016_CorrectBTag/OffshellAC/VBF/VBFToHiggs0PHContinToZZTo4l_M125_GaSM/ZZ4lAnalysis.root', '/eos/user/s/skyriaco/Offshell/VBF/200205_CutBased/MC_2016_CorrectBTag/OffshellAC/VBF/VBFToHiggs0PHToZZTo4l_M125_GaSM/ZZ4lAnalysis.root', '/eos/user/s/skyriaco/Offshell/VBF/200205_CutBased/MC_2016_CorrectBTag/OffshellAC/VBF/VBFToHiggs0PHf025ph0ToZZTo4l_M125_GaSM/ZZ4lAnalysis.root']]}, 'MC_2017': {'gg': [['/eos/user/s/skyriaco/Offshell/200205_CutBased/MC_2017/OffshellAC/gg/ggTo2e2mu_0MH125Contin_MCFM701/ZZ4lAnalysis.root', '/eos/user/s/skyriaco/Offshell/200205_CutBased/MC_2017/OffshellAC/gg/ggTo2e2mu_0MH125_MCFM701/ZZ4lAnalysis.root', '/eos/user/s/skyriaco/Offshell/200205_CutBased/MC_2017/OffshellAC/gg/ggTo2e2mu_0Mf05ph0H125Contin_10GaSM_MCFM701/ZZ4lAnalysis.root', '/eos/user/s/skyriaco/Offshell/200205_CutBased/MC_2017/OffshellAC/gg/ggTo2e2mu_0Mf05ph0H125Contin_MCFM701/ZZ4lAnalysis.root', '/eos/user/s/skyriaco/Offshell/200205_CutBased/MC_2017/OffshellAC/gg/ggTo2e2mu_0Mf05ph0H125_MCFM701/ZZ4lAnalysis.root', '/eos/user/s/skyriaco/Offshell/200205_CutBased/MC_2017/OffshellAC/gg/ggTo2e2mu_0PHH125Contin_10GaSM_MCFM701/ZZ4lAnalysis.root', '/eos/user/s/skyriaco/Offshell/200205_CutBased/MC_2017/OffshellAC/gg/ggTo2e2mu_0PHH125Contin_MCFM701/ZZ4lAnalysis.root', '/eos/user/s/skyriaco/Offshell/200205_CutBased/MC_2017/OffshellAC/gg/ggTo2e2mu_0PHH125_MCFM701/ZZ4lAnalysis.root', '/eos/user/s/skyriaco/Offshell/200205_CutBased/MC_2017/OffshellAC/gg/ggTo2e2mu_0PHf05ph0H125Contin_10GaSM_MCFM701/ZZ4lAnalysis.root', '/eos/user/s/skyriaco/Offshell/200205_CutBased/MC_2017/OffshellAC/gg/ggTo2e2mu_0PHf05ph0H125Contin_MCFM701/ZZ4lAnalysis.root', '/eos/user/s/skyriaco/Offshell/200205_CutBased/MC_2017/OffshellAC/gg/ggTo2e2mu_0PHf05ph0H125_MCFM701/ZZ4lAnalysis.root', '/eos/user/s/skyriaco/Offshell/200205_CutBased/MC_2017/OffshellAC/gg/ggTo2e2mu_0PL1H125Contin_10GaSM_MCFM701/ZZ4lAnalysis.root', '/eos/user/s/skyriaco/Offshell/200205_CutBased/MC_2017/OffshellAC/gg/ggTo2e2mu_0PL1H125Contin_MCFM701/ZZ4lAnalysis.root', '/eos/user/s/skyriaco/Offshell/200205_CutBased/MC_2017/OffshellAC/gg/ggTo2e2mu_0PL1H125_MCFM701/ZZ4lAnalysis.root', '/eos/user/s/skyriaco/Offshell/200205_CutBased/MC_2017/OffshellAC/gg/ggTo2e2mu_0PL1f05ph0H125Contin_10GaSM_MCFM701/ZZ4lAnalysis.root', '/eos/user/s/skyriaco/Offshell/200205_CutBased/MC_2017/OffshellAC/gg/ggTo2e2mu_0PL1f05ph0H125Contin_MCFM701/ZZ4lAnalysis.root', '/eos/user/s/skyriaco/Offshell/200205_CutBased/MC_2017/OffshellAC/gg/ggTo2e2mu_0PL1f05ph0H125_MCFM701/ZZ4lAnalysis.root', '/eos/user/s/skyriaco/Offshell/200205_CutBased/MC_2017/OffshellAC/gg/ggTo2e2mu_0PMH125Contin_10GaSM_MCFM701/ZZ4lAnalysis.root', '/eos/user/s/skyriaco/Offshell/200205_CutBased/MC_2017/OffshellAC/gg/ggTo2e2mu_0PMH125Contin_MCFM701/ZZ4lAnalysis.root', '/eos/user/s/skyriaco/Offshell/200205_CutBased/MC_2017/OffshellAC/gg/ggTo2e2mu_0PMH125_MCFM701/ZZ4lAnalysis.root', '/eos/user/s/skyriaco/Offshell/200205_CutBased/MC_2017/OffshellAC/gg/ggTo2e2mu_Contin_MCFM701/ZZ4lAnalysis.root'], ['/eos/user/s/skyriaco/Offshell/200205_CutBased/MC_2017/OffshellAC/gg/ggTo4e_0MH125Contin_10GaSM_MCFM701/ZZ4lAnalysis.root', '/eos/user/s/skyriaco/Offshell/200205_CutBased/MC_2017/OffshellAC/gg/ggTo4e_0MH125Contin_MCFM701/ZZ4lAnalysis.root', '/eos/user/s/skyriaco/Offshell/200205_CutBased/MC_2017/OffshellAC/gg/ggTo4e_0MH125_MCFM701/ZZ4lAnalysis.root', '/eos/user/s/skyriaco/Offshell/200205_CutBased/MC_2017/OffshellAC/gg/ggTo4e_0Mf05ph0H125Contin_10GaSM_MCFM701/ZZ4lAnalysis.root', '/eos/user/s/skyriaco/Offshell/200205_CutBased/MC_2017/OffshellAC/gg/ggTo4e_0Mf05ph0H125Contin_MCFM701/ZZ4lAnalysis.root', '/eos/user/s/skyriaco/Offshell/200205_CutBased/MC_2017/OffshellAC/gg/ggTo4e_0Mf05ph0H125_MCFM701/ZZ4lAnalysis.root', '/eos/user/s/skyriaco/Offshell/200205_CutBased/MC_2017/OffshellAC/gg/ggTo4e_0PHH125Contin_MCFM701/ZZ4lAnalysis.root', '/eos/user/s/skyriaco/Offshell/200205_CutBased/MC_2017/OffshellAC/gg/ggTo4e_0PHH125_MCFM701/ZZ4lAnalysis.root', '/eos/user/s/skyriaco/Offshell/200205_CutBased/MC_2017/OffshellAC/gg/ggTo4e_0PHf05ph0H125Contin_10GaSM_MCFM701/ZZ4lAnalysis.root', '/eos/user/s/skyriaco/Offshell/200205_CutBased/MC_2017/OffshellAC/gg/ggTo4e_0PHf05ph0H125Contin_MCFM701/ZZ4lAnalysis.root', '/eos/user/s/skyriaco/Offshell/200205_CutBased/MC_2017/OffshellAC/gg/ggTo4e_0PHf05ph0H125_MCFM701/ZZ4lAnalysis.root', '/eos/user/s/skyriaco/Offshell/200205_CutBased/MC_2017/OffshellAC/gg/ggTo4e_0PL1H125Contin_10GaSM_MCFM701/ZZ4lAnalysis.root', '/eos/user/s/skyriaco/Offshell/200205_CutBased/MC_2017/OffshellAC/gg/ggTo4e_0PL1H125_MCFM701/ZZ4lAnalysis.root', '/eos/user/s/skyriaco/Offshell/200205_CutBased/MC_2017/OffshellAC/gg/ggTo4e_0PL1f05ph0H125Contin_10GaSM_MCFM701/ZZ4lAnalysis.root', '/eos/user/s/skyriaco/Offshell/200205_CutBased/MC_2017/OffshellAC/gg/ggTo4e_0PL1f05ph0H125Contin_MCFM701/ZZ4lAnalysis.root', '/eos/user/s/skyriaco/Offshell/200205_CutBased/MC_2017/OffshellAC/gg/ggTo4e_0PL1f05ph0H125_MCFM701/ZZ4lAnalysis.root', '/eos/user/s/skyriaco/Offshell/200205_CutBased/MC_2017/OffshellAC/gg/ggTo4e_0PMH125Contin_10GaSM_MCFM701/ZZ4lAnalysis.root', '/eos/user/s/skyriaco/Offshell/200205_CutBased/MC_2017/OffshellAC/gg/ggTo4e_0PMH125Contin_MCFM701/ZZ4lAnalysis.root', '/eos/user/s/skyriaco/Offshell/200205_CutBased/MC_2017/OffshellAC/gg/ggTo4e_0PMH125_MCFM701/ZZ4lAnalysis.root', '/eos/user/s/skyriaco/Offshell/200205_CutBased/MC_2017/OffshellAC/gg/ggTo4e_Contin_MCFM701/ZZ4lAnalysis.root'], ['/eos/user/s/skyriaco/Offshell/200205_CutBased/MC_2017/OffshellAC/gg/ggTo4mu_0MH125Contin_10GaSM_MCFM701/ZZ4lAnalysis.root', '/eos/user/s/skyriaco/Offshell/200205_CutBased/MC_2017/OffshellAC/gg/ggTo4mu_0MH125Contin_MCFM701/ZZ4lAnalysis.root', '/eos/user/s/skyriaco/Offshell/200205_CutBased/MC_2017/OffshellAC/gg/ggTo4mu_0MH125_MCFM701/ZZ4lAnalysis.root', '/eos/user/s/skyriaco/Offshell/200205_CutBased/MC_2017/OffshellAC/gg/ggTo4mu_0Mf05ph0H125Contin_10GaSM_MCFM701/ZZ4lAnalysis.root', '/eos/user/s/skyriaco/Offshell/200205_CutBased/MC_2017/OffshellAC/gg/ggTo4mu_0Mf05ph0H125Contin_MCFM701/ZZ4lAnalysis.root', '/eos/user/s/skyriaco/Offshell/200205_CutBased/MC_2017/OffshellAC/gg/ggTo4mu_0Mf05ph0H125_MCFM701/ZZ4lAnalysis.root', '/eos/user/s/skyriaco/Offshell/200205_CutBased/MC_2017/OffshellAC/gg/ggTo4mu_0PHH125Contin_MCFM701/ZZ4lAnalysis.root', '/eos/user/s/skyriaco/Offshell/200205_CutBased/MC_2017/OffshellAC/gg/ggTo4mu_0PHH125_MCFM701/ZZ4lAnalysis.root', '/eos/user/s/skyriaco/Offshell/200205_CutBased/MC_2017/OffshellAC/gg/ggTo4mu_0PHf05ph0H125Contin_10GaSM_MCFM701/ZZ4lAnalysis.root', '/eos/user/s/skyriaco/Offshell/200205_CutBased/MC_2017/OffshellAC/gg/ggTo4mu_0PHf05ph0H125Contin_MCFM701/ZZ4lAnalysis.root', '/eos/user/s/skyriaco/Offshell/200205_CutBased/MC_2017/OffshellAC/gg/ggTo4mu_0PHf05ph0H125_MCFM701/ZZ4lAnalysis.root', '/eos/user/s/skyriaco/Offshell/200205_CutBased/MC_2017/OffshellAC/gg/ggTo4mu_0PL1H125Contin_MCFM701/ZZ4lAnalysis.root', '/eos/user/s/skyriaco/Offshell/200205_CutBased/MC_2017/OffshellAC/gg/ggTo4mu_0PL1H125_MCFM701/ZZ4lAnalysis.root', '/eos/user/s/skyriaco/Offshell/200205_CutBased/MC_2017/OffshellAC/gg/ggTo4mu_0PL1f05ph0H125Contin_10GaSM_MCFM701/ZZ4lAnalysis.root', '/eos/user/s/skyriaco/Offshell/200205_CutBased/MC_2017/OffshellAC/gg/ggTo4mu_0PL1f05ph0H125Contin_MCFM701/ZZ4lAnalysis.root', '/eos/user/s/skyriaco/Offshell/200205_CutBased/MC_2017/OffshellAC/gg/ggTo4mu_0PL1f05ph0H125_MCFM701/ZZ4lAnalysis.root', '/eos/user/s/skyriaco/Offshell/200205_CutBased/MC_2017/OffshellAC/gg/ggTo4mu_0PMH125Contin_10GaSM_MCFM701/ZZ4lAnalysis.root', '/eos/user/s/skyriaco/Offshell/200205_CutBased/MC_2017/OffshellAC/gg/ggTo4mu_0PMH125Contin_MCFM701/ZZ4lAnalysis.root', '/eos/user/s/skyriaco/Offshell/200205_CutBased/MC_2017/OffshellAC/gg/ggTo4mu_0PMH125_MCFM701/ZZ4lAnalysis.root', '/eos/user/s/skyriaco/Offshell/200205_CutBased/MC_2017/OffshellAC/gg/ggTo4mu_Contin_MCFM701/ZZ4lAnalysis.root']], 'VBF': [['/eos/user/s/skyriaco/Offshell/VBF/200205_CutBased/MC_2017/OffshellAC/VBF/VBFToContinToZZTo4l/ZZ4lAnalysis.root', '/eos/user/s/skyriaco/Offshell/VBF/200205_CutBased/MC_2017/OffshellAC/VBF/VBFToHiggs0L1ContinToZZTo4l_M125_GaSM/ZZ4lAnalysis.root', '/eos/user/s/skyriaco/Offshell/VBF/200205_CutBased/MC_2017/OffshellAC/VBF/VBFToHiggs0MContinToZZTo4l_M125_GaSM/ZZ4lAnalysis.root', '/eos/user/s/skyriaco/Offshell/VBF/200205_CutBased/MC_2017/OffshellAC/VBF/VBFToHiggs0MToZZTo4l_M125_GaSM/ZZ4lAnalysis.root', '/eos/user/s/skyriaco/Offshell/VBF/200205_CutBased/MC_2017/OffshellAC/VBF/VBFToHiggs0Mf05ph0ToZZTo4l_M125_GaSM/ZZ4lAnalysis.root', '/eos/user/s/skyriaco/Offshell/VBF/200205_CutBased/MC_2017/OffshellAC/VBF/VBFToHiggs0Mf075ph0ToZZTo4l_M125_GaSM/ZZ4lAnalysis.root', '/eos/user/s/skyriaco/Offshell/VBF/200205_CutBased/MC_2017/OffshellAC/VBF/VBFToHiggs0PHContinToZZTo4l_M125_GaSM/ZZ4lAnalysis.root', '/eos/user/s/skyriaco/Offshell/VBF/200205_CutBased/MC_2017/OffshellAC/VBF/VBFToHiggs0PHToZZTo4l_M125_GaSM/ZZ4lAnalysis.root', '/eos/user/s/skyriaco/Offshell/VBF/200205_CutBased/MC_2017/OffshellAC/VBF/VBFToHiggs0PHf025ph0ToZZTo4l_M125_GaSM/ZZ4lAnalysis.root', '/eos/user/s/skyriaco/Offshell/VBF/200205_CutBased/MC_2017/OffshellAC/VBF/VBFToHiggs0PHf075ph0ToZZTo4l_M125_GaSM/ZZ4lAnalysis.root', '/eos/user/s/skyriaco/Offshell/VBF/200205_CutBased/MC_2017/OffshellAC/VBF/VBFToHiggs0PMToZZTo4l_M125_GaSM/ZZ4lAnalysis.root']]}, 'MC_2018': {'gg': [['/eos/user/s/skyriaco/Offshell/200205_CutBased/MC_2018/OffshellAC/gg/ggTo2e2mu_0MH125Contin_MCFM701/ZZ4lAnalysis.root', '/eos/user/s/skyriaco/Offshell/200205_CutBased/MC_2018/OffshellAC/gg/ggTo2e2mu_0MH125_MCFM701/ZZ4lAnalysis.root', '/eos/user/s/skyriaco/Offshell/200205_CutBased/MC_2018/OffshellAC/gg/ggTo2e2mu_0Mf05ph0H125Contin_10GaSM_MCFM701/ZZ4lAnalysis.root', '/eos/user/s/skyriaco/Offshell/200205_CutBased/MC_2018/OffshellAC/gg/ggTo2e2mu_0Mf05ph0H125Contin_MCFM701/ZZ4lAnalysis.root', '/eos/user/s/skyriaco/Offshell/200205_CutBased/MC_2018/OffshellAC/gg/ggTo2e2mu_0Mf05ph0H125_MCFM701/ZZ4lAnalysis.root', '/eos/user/s/skyriaco/Offshell/200205_CutBased/MC_2018/OffshellAC/gg/ggTo2e2mu_0PHH125Contin_10GaSM_MCFM701/ZZ4lAnalysis.root', '/eos/user/s/skyriaco/Offshell/200205_CutBased/MC_2018/OffshellAC/gg/ggTo2e2mu_0PHH125Contin_MCFM701/ZZ4lAnalysis.root', '/eos/user/s/skyriaco/Offshell/200205_CutBased/MC_2018/OffshellAC/gg/ggTo2e2mu_0PHH125_MCFM701/ZZ4lAnalysis.root', '/eos/user/s/skyriaco/Offshell/200205_CutBased/MC_2018/OffshellAC/gg/ggTo2e2mu_0PHf05ph0H125Contin_10GaSM_MCFM701/ZZ4lAnalysis.root', '/eos/user/s/skyriaco/Offshell/200205_CutBased/MC_2018/OffshellAC/gg/ggTo2e2mu_0PHf05ph0H125Contin_MCFM701/ZZ4lAnalysis.root', '/eos/user/s/skyriaco/Offshell/200205_CutBased/MC_2018/OffshellAC/gg/ggTo2e2mu_0PHf05ph0H125_MCFM701/ZZ4lAnalysis.root', '/eos/user/s/skyriaco/Offshell/200205_CutBased/MC_2018/OffshellAC/gg/ggTo2e2mu_0PL1H125Contin_10GaSM_MCFM701/ZZ4lAnalysis.root', '/eos/user/s/skyriaco/Offshell/200205_CutBased/MC_2018/OffshellAC/gg/ggTo2e2mu_0PL1H125Contin_MCFM701/ZZ4lAnalysis.root', '/eos/user/s/skyriaco/Offshell/200205_CutBased/MC_2018/OffshellAC/gg/ggTo2e2mu_0PL1H125_MCFM701/ZZ4lAnalysis.root', '/eos/user/s/skyriaco/Offshell/200205_CutBased/MC_2018/OffshellAC/gg/ggTo2e2mu_0PL1f05ph0H125Contin_10GaSM_MCFM701/ZZ4lAnalysis.root', '/eos/user/s/skyriaco/Offshell/200205_CutBased/MC_2018/OffshellAC/gg/ggTo2e2mu_0PL1f05ph0H125Contin_MCFM701/ZZ4lAnalysis.root', '/eos/user/s/skyriaco/Offshell/200205_CutBased/MC_2018/OffshellAC/gg/ggTo2e2mu_0PL1f05ph0H125_MCFM701/ZZ4lAnalysis.root', '/eos/user/s/skyriaco/Offshell/200205_CutBased/MC_2018/OffshellAC/gg/ggTo2e2mu_0PMH125Contin_10GaSM_MCFM701/ZZ4lAnalysis.root', '/eos/user/s/skyriaco/Offshell/200205_CutBased/MC_2018/OffshellAC/gg/ggTo2e2mu_0PMH125Contin_MCFM701/ZZ4lAnalysis.root', '/eos/user/s/skyriaco/Offshell/200205_CutBased/MC_2018/OffshellAC/gg/ggTo2e2mu_0PMH125_MCFM701/ZZ4lAnalysis.root', '/eos/user/s/skyriaco/Offshell/200205_CutBased/MC_2018/OffshellAC/gg/ggTo2e2mu_Contin_MCFM701/ZZ4lAnalysis.root'], ['/eos/user/s/skyriaco/Offshell/200205_CutBased/MC_2018/OffshellAC/gg/ggTo4e_0MH125Contin_10GaSM_MCFM701/ZZ4lAnalysis.root', '/eos/user/s/skyriaco/Offshell/200205_CutBased/MC_2018/OffshellAC/gg/ggTo4e_0MH125Contin_MCFM701/ZZ4lAnalysis.root', '/eos/user/s/skyriaco/Offshell/200205_CutBased/MC_2018/OffshellAC/gg/ggTo4e_0MH125_MCFM701/ZZ4lAnalysis.root', '/eos/user/s/skyriaco/Offshell/200205_CutBased/MC_2018/OffshellAC/gg/ggTo4e_0Mf05ph0H125Contin_10GaSM_MCFM701/ZZ4lAnalysis.root', '/eos/user/s/skyriaco/Offshell/200205_CutBased/MC_2018/OffshellAC/gg/ggTo4e_0Mf05ph0H125Contin_MCFM701/ZZ4lAnalysis.root', '/eos/user/s/skyriaco/Offshell/200205_CutBased/MC_2018/OffshellAC/gg/ggTo4e_0Mf05ph0H125_MCFM701/ZZ4lAnalysis.root', '/eos/user/s/skyriaco/Offshell/200205_CutBased/MC_2018/OffshellAC/gg/ggTo4e_0PHH125Contin_MCFM701/ZZ4lAnalysis.root', '/eos/user/s/skyriaco/Offshell/200205_CutBased/MC_2018/OffshellAC/gg/ggTo4e_0PHH125_MCFM701/ZZ4lAnalysis.root', '/eos/user/s/skyriaco/Offshell/200205_CutBased/MC_2018/OffshellAC/gg/ggTo4e_0PHf05ph0H125Contin_10GaSM_MCFM701/ZZ4lAnalysis.root', '/eos/user/s/skyriaco/Offshell/200205_CutBased/MC_2018/OffshellAC/gg/ggTo4e_0PHf05ph0H125Contin_MCFM701/ZZ4lAnalysis.root', '/eos/user/s/skyriaco/Offshell/200205_CutBased/MC_2018/OffshellAC/gg/ggTo4e_0PHf05ph0H125_MCFM701/ZZ4lAnalysis.root', '/eos/user/s/skyriaco/Offshell/200205_CutBased/MC_2018/OffshellAC/gg/ggTo4e_0PL1H125Contin_10GaSM_MCFM701/ZZ4lAnalysis.root', '/eos/user/s/skyriaco/Offshell/200205_CutBased/MC_2018/OffshellAC/gg/ggTo4e_0PL1H125Contin_MCFM701/ZZ4lAnalysis.root', '/eos/user/s/skyriaco/Offshell/200205_CutBased/MC_2018/OffshellAC/gg/ggTo4e_0PL1H125_MCFM701/ZZ4lAnalysis.root', '/eos/user/s/skyriaco/Offshell/200205_CutBased/MC_2018/OffshellAC/gg/ggTo4e_0PL1f05ph0H125Contin_10GaSM_MCFM701/ZZ4lAnalysis.root', '/eos/user/s/skyriaco/Offshell/200205_CutBased/MC_2018/OffshellAC/gg/ggTo4e_0PL1f05ph0H125Contin_MCFM701/ZZ4lAnalysis.root', '/eos/user/s/skyriaco/Offshell/200205_CutBased/MC_2018/OffshellAC/gg/ggTo4e_0PL1f05ph0H125_MCFM701/ZZ4lAnalysis.root', '/eos/user/s/skyriaco/Offshell/200205_CutBased/MC_2018/OffshellAC/gg/ggTo4e_0PMH125Contin_10GaSM_MCFM701/ZZ4lAnalysis.root', '/eos/user/s/skyriaco/Offshell/200205_CutBased/MC_2018/OffshellAC/gg/ggTo4e_0PMH125Contin_MCFM701/ZZ4lAnalysis.root', '/eos/user/s/skyriaco/Offshell/200205_CutBased/MC_2018/OffshellAC/gg/ggTo4e_0PMH125_MCFM701/ZZ4lAnalysis.root', '/eos/user/s/skyriaco/Offshell/200205_CutBased/MC_2018/OffshellAC/gg/ggTo4e_Contin_MCFM701/ZZ4lAnalysis.root'], ['/eos/user/s/skyriaco/Offshell/200205_CutBased/MC_2018/OffshellAC/gg/ggTo4mu_0MH125Contin_10GaSM_MCFM701/ZZ4lAnalysis.root', '/eos/user/s/skyriaco/Offshell/200205_CutBased/MC_2018/OffshellAC/gg/ggTo4mu_0MH125Contin_MCFM701/ZZ4lAnalysis.root', '/eos/user/s/skyriaco/Offshell/200205_CutBased/MC_2018/OffshellAC/gg/ggTo4mu_0MH125_MCFM701/ZZ4lAnalysis.root', '/eos/user/s/skyriaco/Offshell/200205_CutBased/MC_2018/OffshellAC/gg/ggTo4mu_0Mf05ph0H125Contin_10GaSM_MCFM701/ZZ4lAnalysis.root', '/eos/user/s/skyriaco/Offshell/200205_CutBased/MC_2018/OffshellAC/gg/ggTo4mu_0Mf05ph0H125Contin_MCFM701/ZZ4lAnalysis.root', '/eos/user/s/skyriaco/Offshell/200205_CutBased/MC_2018/OffshellAC/gg/ggTo4mu_0Mf05ph0H125_MCFM701/ZZ4lAnalysis.root', '/eos/user/s/skyriaco/Offshell/200205_CutBased/MC_2018/OffshellAC/gg/ggTo4mu_0PHH125Contin_MCFM701/ZZ4lAnalysis.root', '/eos/user/s/skyriaco/Offshell/200205_CutBased/MC_2018/OffshellAC/gg/ggTo4mu_0PHH125_MCFM701/ZZ4lAnalysis.root', '/eos/user/s/skyriaco/Offshell/200205_CutBased/MC_2018/OffshellAC/gg/ggTo4mu_0PHf05ph0H125Contin_10GaSM_MCFM701/ZZ4lAnalysis.root', '/eos/user/s/skyriaco/Offshell/200205_CutBased/MC_2018/OffshellAC/gg/ggTo4mu_0PHf05ph0H125Contin_MCFM701/ZZ4lAnalysis.root', '/eos/user/s/skyriaco/Offshell/200205_CutBased/MC_2018/OffshellAC/gg/ggTo4mu_0PHf05ph0H125_MCFM701/ZZ4lAnalysis.root', '/eos/user/s/skyriaco/Offshell/200205_CutBased/MC_2018/OffshellAC/gg/ggTo4mu_0PL1H125Contin_MCFM701/ZZ4lAnalysis.root', '/eos/user/s/skyriaco/Offshell/200205_CutBased/MC_2018/OffshellAC/gg/ggTo4mu_0PL1H125_MCFM701/ZZ4lAnalysis.root', '/eos/user/s/skyriaco/Offshell/200205_CutBased/MC_2018/OffshellAC/gg/ggTo4mu_0PL1f05ph0H125Contin_10GaSM_MCFM701/ZZ4lAnalysis.root', '/eos/user/s/skyriaco/Offshell/200205_CutBased/MC_2018/OffshellAC/gg/ggTo4mu_0PL1f05ph0H125Contin_MCFM701/ZZ4lAnalysis.root', '/eos/user/s/skyriaco/Offshell/200205_CutBased/MC_2018/OffshellAC/gg/ggTo4mu_0PL1f05ph0H125_MCFM701/ZZ4lAnalysis.root', '/eos/user/s/skyriaco/Offshell/200205_CutBased/MC_2018/OffshellAC/gg/ggTo4mu_0PMH125Contin_MCFM701/ZZ4lAnalysis.root', '/eos/user/s/skyriaco/Offshell/200205_CutBased/MC_2018/OffshellAC/gg/ggTo4mu_0PMH125_MCFM701/ZZ4lAnalysis.root', '/eos/user/s/skyriaco/Offshell/200205_CutBased/MC_2018/OffshellAC/gg/ggTo4mu_Contin_MCFM701/ZZ4lAnalysis.root']], 'VBF': [['/eos/user/s/skyriaco/Offshell/VBF/200205_CutBased/MC_2018/OffshellAC/VBF/VBFToHiggs0L1ContinToZZTo4l_M125_GaSM/ZZ4lAnalysis.root', '/eos/user/s/skyriaco/Offshell/VBF/200205_CutBased/MC_2018/OffshellAC/VBF/VBFToHiggs0L1f025ph0ToZZTo4l_M125_GaSM/ZZ4lAnalysis.root', '/eos/user/s/skyriaco/Offshell/VBF/200205_CutBased/MC_2018/OffshellAC/VBF/VBFToHiggs0L1f05ph0ToZZTo4l_M125_GaSM/ZZ4lAnalysis.root', '/eos/user/s/skyriaco/Offshell/VBF/200205_CutBased/MC_2018/OffshellAC/VBF/VBFToHiggs0MToZZTo4l_M125_GaSM/ZZ4lAnalysis.root', '/eos/user/s/skyriaco/Offshell/VBF/200205_CutBased/MC_2018/OffshellAC/VBF/VBFToHiggs0Mf025ph0ToZZTo4l_M125_GaSM/ZZ4lAnalysis.root', '/eos/user/s/skyriaco/Offshell/VBF/200205_CutBased/MC_2018/OffshellAC/VBF/VBFToHiggs0Mf075ph0ToZZTo4l_M125_GaSM/ZZ4lAnalysis.root', '/eos/user/s/skyriaco/Offshell/VBF/200205_CutBased/MC_2018/OffshellAC/VBF/VBFToHiggs0PHContinToZZTo4l_M125_GaSM/ZZ4lAnalysis.root', '/eos/user/s/skyriaco/Offshell/VBF/200205_CutBased/MC_2018/OffshellAC/VBF/VBFToHiggs0PHf025ph0ToZZTo4l_M125_GaSM/ZZ4lAnalysis.root']]}}\n"
     ]
    }
   ],
   "source": [
    "print (yeardict)"
   ]
  },
  {
   "cell_type": "markdown",
   "id": "f1ab6c6e",
   "metadata": {},
   "source": [
    "### Account for all bespoke EW MELA branches"
   ]
  },
  {
   "cell_type": "code",
   "execution_count": 15,
   "id": "00eb3589",
   "metadata": {},
   "outputs": [],
   "source": [
    "refsam4l = [\"VBFToContinToZZTo4l\", \"VBFToHiggs0L1ContinToZZTo4l\", \"VBFToHiggs0L1f025ph0ToZZTo4l\", \"VBFToHiggs0L1f05ph0ContinToZZTo4l\", \"VBFToHiggs0L1f05ph0ToZZTo4l\", \"VBFToHiggs0L1f075ph0ToZZTo4l\", \"VBFToHiggs0L1ToZZTo4l\", \"VBFToHiggs0MContinToZZTo4l\", \"VBFToHiggs0Mf025ph0ToZZTo4l\", \"VBFToHiggs0Mf05ph0ContinToZZTo4l\", \"VBFToHiggs0Mf05ph0ToZZTo4l\", \"VBFToHiggs0Mf075ph0ToZZTo4l\", \"VBFToHiggs0MToZZTo4l\", \"VBFToHiggs0PHContinToZZTo4l\", \"VBFToHiggs0PHf025ph0ToZZTo4l\", \"VBFToHiggs0PHf05ph0ContinToZZTo4l\", \"VBFToHiggs0PHf05ph0ToZZTo4l\", \"VBFToHiggs0PHf075ph0ToZZTo4l\", \"VBFToHiggs0PHToZZTo4l\", \"VBFToHiggs0PMContinToZZTo4l\", \"VBFToHiggs0PMToZZTo4l\"]"
   ]
  },
  {
   "cell_type": "code",
   "execution_count": 16,
   "id": "c98344f7",
   "metadata": {},
   "outputs": [],
   "source": [
    "refmel = [\"p_Gen_JJEW_BKG_MCFM\", \"p_Gen_JJEW_BSI_ghv1_0_ghv1prime2_m1549p165_MCFM\", \"p_Gen_JJEW_SIG_ghv1_1_ghv1prime2_m1177p11_MCFM\", \"p_Gen_JJEW_BSI_ghv1_1_ghv1prime2_m1549p165_MCFM\", \"p_Gen_JJEW_SIG_ghv1_1_ghv1prime2_m1549p165_MCFM\", \"p_Gen_JJEW_SIG_ghv1_1_ghv1prime2_m2038p82_MCFM\", \"p_Gen_JJEW_SIG_ghv1_0_ghv1prime2_m1549p165_MCFM\", \"p_Gen_JJEW_BSI_ghv1_0_ghv4_0p216499_MCFM\", \"p_Gen_JJEW_SIG_ghv1_1_ghv4_0p164504_MCFM\", \"p_Gen_JJEW_BSI_ghv1_1_ghv4_0p216499_MCFM\", \"p_Gen_JJEW_SIG_ghv1_1_ghv4_0p216499_MCFM\", \"p_Gen_JJEW_SIG_ghv1_1_ghv4_0p284929_MCFM\", \"p_Gen_JJEW_SIG_ghv1_0_ghv4_0p216499_MCFM\", \"p_Gen_JJEW_BSI_ghv1_0_ghv2_0p207049_MCFM\", \"p_Gen_JJEW_SIG_ghv1_1_ghv2_0p157323_MCFM\", \"p_Gen_JJEW_BSI_ghv1_1_ghv2_0p207049_MCFM\", \"p_Gen_JJEW_SIG_ghv1_1_ghv2_0p207049_MCFM\", \"p_Gen_JJEW_SIG_ghv1_1_ghv2_0p272492_MCFM\", \"p_Gen_JJEW_SIG_ghv1_0_ghv2_0p207049_MCFM\", \"p_Gen_JJEW_BSI_ghv1_1_MCFM\", \"p_Gen_JJEW_SIG_ghv1_1_MCFM\"]"
   ]
  },
  {
   "cell_type": "code",
   "execution_count": 17,
   "id": "675df0af",
   "metadata": {},
   "outputs": [],
   "source": [
    "refden = dict(zip(refsam4l, refmel))"
   ]
  },
  {
   "cell_type": "code",
   "execution_count": 18,
   "id": "83f5fd80",
   "metadata": {},
   "outputs": [
    {
     "data": {
      "text/plain": [
       "{'VBFToContinToZZTo4l': 'p_Gen_JJEW_BKG_MCFM',\n",
       " 'VBFToHiggs0L1ContinToZZTo4l': 'p_Gen_JJEW_BSI_ghv1_0_ghv1prime2_m1549p165_MCFM',\n",
       " 'VBFToHiggs0L1f025ph0ToZZTo4l': 'p_Gen_JJEW_SIG_ghv1_1_ghv1prime2_m1177p11_MCFM',\n",
       " 'VBFToHiggs0L1f05ph0ContinToZZTo4l': 'p_Gen_JJEW_BSI_ghv1_1_ghv1prime2_m1549p165_MCFM',\n",
       " 'VBFToHiggs0L1f05ph0ToZZTo4l': 'p_Gen_JJEW_SIG_ghv1_1_ghv1prime2_m1549p165_MCFM',\n",
       " 'VBFToHiggs0L1f075ph0ToZZTo4l': 'p_Gen_JJEW_SIG_ghv1_1_ghv1prime2_m2038p82_MCFM',\n",
       " 'VBFToHiggs0L1ToZZTo4l': 'p_Gen_JJEW_SIG_ghv1_0_ghv1prime2_m1549p165_MCFM',\n",
       " 'VBFToHiggs0MContinToZZTo4l': 'p_Gen_JJEW_BSI_ghv1_0_ghv4_0p216499_MCFM',\n",
       " 'VBFToHiggs0Mf025ph0ToZZTo4l': 'p_Gen_JJEW_SIG_ghv1_1_ghv4_0p164504_MCFM',\n",
       " 'VBFToHiggs0Mf05ph0ContinToZZTo4l': 'p_Gen_JJEW_BSI_ghv1_1_ghv4_0p216499_MCFM',\n",
       " 'VBFToHiggs0Mf05ph0ToZZTo4l': 'p_Gen_JJEW_SIG_ghv1_1_ghv4_0p216499_MCFM',\n",
       " 'VBFToHiggs0Mf075ph0ToZZTo4l': 'p_Gen_JJEW_SIG_ghv1_1_ghv4_0p284929_MCFM',\n",
       " 'VBFToHiggs0MToZZTo4l': 'p_Gen_JJEW_SIG_ghv1_0_ghv4_0p216499_MCFM',\n",
       " 'VBFToHiggs0PHContinToZZTo4l': 'p_Gen_JJEW_BSI_ghv1_0_ghv2_0p207049_MCFM',\n",
       " 'VBFToHiggs0PHf025ph0ToZZTo4l': 'p_Gen_JJEW_SIG_ghv1_1_ghv2_0p157323_MCFM',\n",
       " 'VBFToHiggs0PHf05ph0ContinToZZTo4l': 'p_Gen_JJEW_BSI_ghv1_1_ghv2_0p207049_MCFM',\n",
       " 'VBFToHiggs0PHf05ph0ToZZTo4l': 'p_Gen_JJEW_SIG_ghv1_1_ghv2_0p207049_MCFM',\n",
       " 'VBFToHiggs0PHf075ph0ToZZTo4l': 'p_Gen_JJEW_SIG_ghv1_1_ghv2_0p272492_MCFM',\n",
       " 'VBFToHiggs0PHToZZTo4l': 'p_Gen_JJEW_SIG_ghv1_0_ghv2_0p207049_MCFM',\n",
       " 'VBFToHiggs0PMContinToZZTo4l': 'p_Gen_JJEW_BSI_ghv1_1_MCFM',\n",
       " 'VBFToHiggs0PMToZZTo4l': 'p_Gen_JJEW_SIG_ghv1_1_MCFM'}"
      ]
     },
     "execution_count": 18,
     "metadata": {},
     "output_type": "execute_result"
    }
   ],
   "source": [
    "refden"
   ]
  },
  {
   "cell_type": "markdown",
   "id": "915a8a77",
   "metadata": {},
   "source": [
    "# REPEAT THIS SECTION AS NEEDED TO CREATE TEMPLATES AND FILL 'hlist'"
   ]
  },
  {
   "cell_type": "markdown",
   "id": "cd1eba08",
   "metadata": {},
   "source": [
    "##### Note that 'hlist' is expected to look like ['ggH SIG', 'ggH BSI', 'ggH BKG', 'EW SIG', 'EW BSI', 'EW BKG', 'qqbar BKG'] so make the appropriate histograms then append to 'hlist'\n",
    "##### As you change the year, production mode, final state, SIG/BKG/INT mix, and category, you should re-run the 'Fill histogram' cell and check the output before adding the next template to our 'hlist'"
   ]
  },
  {
   "cell_type": "markdown",
   "id": "4616deda",
   "metadata": {},
   "source": [
    "### Set up basic information. Make list to store histograms---do not evaluate this cell unless you want an empty instance of hlist!"
   ]
  },
  {
   "cell_type": "code",
   "execution_count": 19,
   "id": "7345c80b",
   "metadata": {},
   "outputs": [],
   "source": [
    "hlist = ['ggH SIG', 'ggH BSI', 'ggH BKG', 'qqbar BKG']"
   ]
  },
  {
   "cell_type": "code",
   "execution_count": 20,
   "id": "9e60cf56",
   "metadata": {},
   "outputs": [],
   "source": [
    "targetreweight = {\"gg\": [\"p_Gen_GG_SIG_kappaTopBot_1_ghz1_1_MCFM*KFactor_QCD_ggZZ_Nominal\", \"p_Gen_GG_BSI_kappaTopBot_1_ghz1_1_MCFM*KFactor_QCD_ggZZ_Nominal\", \"p_Gen_GG_BKG_MCFM*KFactor_QCD_ggZZ_Nominal\"],\n",
    "                 \"VBF\": [\"p_Gen_JJEW_SIG_ghv1_1_MCFM*0.5\", \"p_Gen_JJEW_BSI_ghv1_1_MCFM*0.5\", \"p_Gen_JJEW_BKG_MCFM*0.5\"],\n",
    "                 \"ZZTo4l\": [\"1\"]}\n",
    "finalstate = {\"4e\": \"121*121\", \"4mu\": \"169*169\", \"2e2mu\": \"121*169\"}"
   ]
  },
  {
   "cell_type": "code",
   "execution_count": 21,
   "id": "f6ea8efc",
   "metadata": {},
   "outputs": [],
   "source": [
    "proc = [\"ggH_0PM\", \"ggH_g11g21_negative\", \"ggH_g11g21_positive\", \"back_ggZZ\", \"back_qqZZ\", \"data_obs\"]"
   ]
  },
  {
   "cell_type": "code",
   "execution_count": 22,
   "id": "63542270",
   "metadata": {},
   "outputs": [],
   "source": [
    "#\"qqH_0PM\", \"qqH_g12g22_negative\", \"qqH_g12g22_positive\", \"back_VVZZ\""
   ]
  },
  {
   "cell_type": "markdown",
   "id": "cabc97ea",
   "metadata": {},
   "source": [
    "### Choose year, production mode, final state, SIG/BKG/INT mix, and category"
   ]
  },
  {
   "cell_type": "code",
   "execution_count": 22,
   "id": "da52dbc5",
   "metadata": {},
   "outputs": [],
   "source": [
    "#configure what you would like to run\n",
    "\n",
    "ltargetyear = [\"MC_2017\",\"MC_2016_CorrectBTag\",\"MC_2018\"]\n",
    "ltargetprod = [\"gg\",\"VBF\",\"ZZTo4l\"]\n",
    "ltargetstate = [\"4mu\",\"4e\",\"2e2mu\"]\n",
    "ltargetcomp = [0,1,2]    # SIG=0 BSI=1 BKG=2    (for the qqbar bkg events in 'ZZTo4l' this choice does not matter as you can see above)\n",
    "ltargetcateg = [0,1,2]  # Untag=0 VBF=1 VH=2"
   ]
  },
  {
   "cell_type": "markdown",
   "id": "7f30e643",
   "metadata": {},
   "source": [
    "### Fill histogram"
   ]
  },
  {
   "cell_type": "code",
   "execution_count": 1,
   "id": "d2b4ba86",
   "metadata": {
    "scrolled": true
   },
   "outputs": [],
   "source": [
    "#syst_weights = []\n",
    "\n",
    "\n",
    "\n",
    "def FillHist(targetprod,targetcomp,targetcateg,h_list) :\n",
    "\n",
    "    print (targetreweight[targetprod][targetcomp])\n",
    "    print (targetprod,targetcomp,targetcateg)\n",
    "    weight = \"{}*((Z1Flav*Z2Flav)==(121*121) ||(Z1Flav*Z2Flav)==(169*169) ||(Z1Flav*Z2Flav)==(121*169)  )*137.1*(ZZMass>=220)*(EventTag=={})*1000*xsec*overallEventWeight*L1prefiringWeight/Bin40\".format(targetreweight[targetprod][targetcomp], targetcateg)\n",
    "    if targetprod == \"ZZTo4l\" : \n",
    "       weight_ewzz_up = str(\"(1+ KFactor_EW_qqZZ_unc)*\")+weight \n",
    "       weight_ewzz_dn  = str(\"(1-KFactor_EW_qqZZ_unc )*\")+weight \n",
    "    \n",
    "    hf = ROOT.TH3F(\"hf\",\"\", len(medges)-1, medges, len(d1edges)-1, d1edges, len(d2edges)-1, d2edges)\n",
    "    hf.SetDirectory(0)\n",
    "\n",
    "    for keynum in trange(len(yeardict.keys())):\n",
    "        year = list(yeardict.keys())[keynum]\n",
    "\n",
    "        #if year != targetyear: continue\n",
    "        #print(\"\\n\", year, lumi[year])\n",
    "\n",
    "        hs = ROOT.TH3F(\"hs\",\"\", len(medges)-1, medges, len(d1edges)-1, d1edges, len(d2edges)-1, d2edges)\n",
    "        hs.SetDirectory(0)\n",
    "        for decay in yeardict[year][targetprod]:\n",
    "    #         if \"2e2mu\" not in decay[0]: continue\n",
    "            #print(\"\\n\", decay)\n",
    "            ht = ROOT.TH3F(\"ht\",\"\", len(medges)-1, medges, len(d1edges)-1, d1edges, len(d2edges)-1, d2edges)\n",
    "            ht.SetDirectory(0)\n",
    "            count = 0\n",
    "            \n",
    "            \n",
    "            for tfile in trange(len(decay)):\n",
    "\n",
    "                #print(decay[tfile])\n",
    "                if \"VBF\" in decay[tfile]:\n",
    "\n",
    "                    #if \"0L1\" in decay[tfile]: continue\n",
    "                    skey = decay[tfile].split(\"/\")[-2].replace('_M125_GaSM', '')\n",
    "                    sampleweight = refden[skey]\n",
    "    #                 print(sampleweight)\n",
    "                if ( os.stat(decay[tfile]).st_size > 100 ):  \n",
    "                        f = ROOT.TFile(decay[tfile])\n",
    "                        t = f.Get(\"eventTree\")\n",
    "                        htt = ROOT.TH3F(\"htt\",\"\", len(medges)-1, medges, len(d1edges)-1, d1edges, len(d2edges)-1, d2edges)\n",
    "\n",
    "                        t.Draw(\"Dbsi:Dbkg:ZZMass>>htt\",weight,\"\")\n",
    "            #             print(\"htt = \", htt.Integral())\n",
    "\n",
    "                        if count == 0:\n",
    "                            #print(\"ADDED --- htt = \", htt.Integral())\n",
    "                            ht.Add(htt)\n",
    "                            count+=1\n",
    "                        elif htt.Integral() > ((ht.Integral()/count) + 2*sqrt((ht.Integral()/count))): \n",
    "                            print(\"SKIPPED --- htt = \", htt.Integral())\n",
    "                        elif htt.Integral() < ((ht.Integral()/count) - 2*sqrt((ht.Integral()/count))): \n",
    "                            print(\"SKIPPED --- htt = \", htt.Integral())\n",
    "                        else:\n",
    "                            #print(\"ADDED --- htt = \", htt.Integral())\n",
    "                            ht.Add(htt)\n",
    "                            count+=1\n",
    "            #print(\"ht = \", ht.Integral())\n",
    "            ht.Scale(1/count)\n",
    "            #print(\"ht = \", ht.Integral())\n",
    "            hs.Add(ht)\n",
    "            #print(\"hs = \", hs.Integral())\n",
    "\n",
    "        hf.Add(hs)\n",
    "        print(\"hf = \", hf.Integral())\n",
    "\n",
    "        hf.Scale(1/len(yeardict.keys()))\n",
    "        h_list.append(hf)\n"
   ]
  },
  {
   "cell_type": "code",
   "execution_count": null,
   "id": "8556020c",
   "metadata": {
    "scrolled": true
   },
   "outputs": [
    {
     "name": "stdout",
     "output_type": "stream",
     "text": [
      "[]\n",
      "p_Gen_GG_SIG_kappaTopBot_1_ghz1_1_MCFM*KFactor_QCD_ggZZ_Nominal\n",
      "gg 0 0\n"
     ]
    },
    {
     "data": {
      "application/vnd.jupyter.widget-view+json": {
       "model_id": "712ec0b1d9424d5d9b1903b0f4661c32",
       "version_major": 2,
       "version_minor": 0
      },
      "text/plain": [
       "  0%|          | 0/3 [00:00<?, ?it/s]"
      ]
     },
     "metadata": {},
     "output_type": "display_data"
    },
    {
     "data": {
      "application/vnd.jupyter.widget-view+json": {
       "model_id": "af24e35fb1a140b8ad83fc6e3ed08cf1",
       "version_major": 2,
       "version_minor": 0
      },
      "text/plain": [
       "  0%|          | 0/21 [00:00<?, ?it/s]"
      ]
     },
     "metadata": {},
     "output_type": "display_data"
    },
    {
     "name": "stdout",
     "output_type": "stream",
     "text": [
      "SKIPPED --- htt =  0.0001691510597083834\n"
     ]
    },
    {
     "data": {
      "application/vnd.jupyter.widget-view+json": {
       "model_id": "94acd381a9f74344a4d33b3aa6ad6e0e",
       "version_major": 2,
       "version_minor": 0
      },
      "text/plain": [
       "  0%|          | 0/23 [00:00<?, ?it/s]"
      ]
     },
     "metadata": {},
     "output_type": "display_data"
    },
    {
     "data": {
      "application/vnd.jupyter.widget-view+json": {
       "model_id": "2fec94483a8a4fd78edf3e22402ab966",
       "version_major": 2,
       "version_minor": 0
      },
      "text/plain": [
       "  0%|          | 0/23 [00:00<?, ?it/s]"
      ]
     },
     "metadata": {},
     "output_type": "display_data"
    },
    {
     "name": "stdout",
     "output_type": "stream",
     "text": [
      "hf =  32.202407973731894\n"
     ]
    },
    {
     "data": {
      "application/vnd.jupyter.widget-view+json": {
       "model_id": "b17d74429e8d463b9538a8f4266ebd10",
       "version_major": 2,
       "version_minor": 0
      },
      "text/plain": [
       "  0%|          | 0/21 [00:00<?, ?it/s]"
      ]
     },
     "metadata": {},
     "output_type": "display_data"
    },
    {
     "data": {
      "application/vnd.jupyter.widget-view+json": {
       "model_id": "c0a91d53f069494ba8c019c2709f2de9",
       "version_major": 2,
       "version_minor": 0
      },
      "text/plain": [
       "  0%|          | 0/20 [00:00<?, ?it/s]"
      ]
     },
     "metadata": {},
     "output_type": "display_data"
    },
    {
     "data": {
      "application/vnd.jupyter.widget-view+json": {
       "model_id": "d247c0954a0b4fd9b50c7ae33583f6ad",
       "version_major": 2,
       "version_minor": 0
      },
      "text/plain": [
       "  0%|          | 0/20 [00:00<?, ?it/s]"
      ]
     },
     "metadata": {},
     "output_type": "display_data"
    },
    {
     "name": "stdout",
     "output_type": "stream",
     "text": [
      "hf =  44.381067850959504\n"
     ]
    },
    {
     "data": {
      "application/vnd.jupyter.widget-view+json": {
       "model_id": "0ee82d287e654b0698390b5bd258ec5b",
       "version_major": 2,
       "version_minor": 0
      },
      "text/plain": [
       "  0%|          | 0/21 [00:00<?, ?it/s]"
      ]
     },
     "metadata": {},
     "output_type": "display_data"
    },
    {
     "data": {
      "application/vnd.jupyter.widget-view+json": {
       "model_id": "6c50c9b25c76415495010825769ba961",
       "version_major": 2,
       "version_minor": 0
      },
      "text/plain": [
       "  0%|          | 0/21 [00:00<?, ?it/s]"
      ]
     },
     "metadata": {},
     "output_type": "display_data"
    },
    {
     "data": {
      "application/vnd.jupyter.widget-view+json": {
       "model_id": "390e6524afb84c5ebd0089665a5c6bd4",
       "version_major": 2,
       "version_minor": 0
      },
      "text/plain": [
       "  0%|          | 0/19 [00:00<?, ?it/s]"
      ]
     },
     "metadata": {},
     "output_type": "display_data"
    },
    {
     "name": "stdout",
     "output_type": "stream",
     "text": [
      "hf =  49.6064339798911\n",
      "p_Gen_GG_BSI_kappaTopBot_1_ghz1_1_MCFM*KFactor_QCD_ggZZ_Nominal\n",
      "gg 1 0\n"
     ]
    },
    {
     "data": {
      "application/vnd.jupyter.widget-view+json": {
       "model_id": "7b62e237dec14e82823a42fda8d4e08d",
       "version_major": 2,
       "version_minor": 0
      },
      "text/plain": [
       "  0%|          | 0/3 [00:00<?, ?it/s]"
      ]
     },
     "metadata": {},
     "output_type": "display_data"
    },
    {
     "data": {
      "application/vnd.jupyter.widget-view+json": {
       "model_id": "f04b665f59704be8bf7cf8e0a8e50411",
       "version_major": 2,
       "version_minor": 0
      },
      "text/plain": [
       "  0%|          | 0/21 [00:00<?, ?it/s]"
      ]
     },
     "metadata": {},
     "output_type": "display_data"
    },
    {
     "name": "stdout",
     "output_type": "stream",
     "text": [
      "SKIPPED --- htt =  0.002559117019700352\n"
     ]
    },
    {
     "data": {
      "application/vnd.jupyter.widget-view+json": {
       "model_id": "e46ca46c81424b479c79d2ba5e424091",
       "version_major": 2,
       "version_minor": 0
      },
      "text/plain": [
       "  0%|          | 0/23 [00:00<?, ?it/s]"
      ]
     },
     "metadata": {},
     "output_type": "display_data"
    },
    {
     "name": "stdout",
     "output_type": "stream",
     "text": [
      "SKIPPED --- htt =  40.24912007657525\n"
     ]
    },
    {
     "data": {
      "application/vnd.jupyter.widget-view+json": {
       "model_id": "31e4bd144eaa495fb21a03054bbe5471",
       "version_major": 2,
       "version_minor": 0
      },
      "text/plain": [
       "  0%|          | 0/23 [00:00<?, ?it/s]"
      ]
     },
     "metadata": {},
     "output_type": "display_data"
    },
    {
     "name": "stdout",
     "output_type": "stream",
     "text": [
      "SKIPPED --- htt =  84.94640994649751\n",
      "hf =  378.9875498810862\n"
     ]
    },
    {
     "data": {
      "application/vnd.jupyter.widget-view+json": {
       "model_id": "c61e026bdfcd448f8fa6a48368fdf2e7",
       "version_major": 2,
       "version_minor": 0
      },
      "text/plain": [
       "  0%|          | 0/21 [00:00<?, ?it/s]"
      ]
     },
     "metadata": {},
     "output_type": "display_data"
    },
    {
     "name": "stdout",
     "output_type": "stream",
     "text": [
      "SKIPPED --- htt =  157.10140496333406\n"
     ]
    },
    {
     "data": {
      "application/vnd.jupyter.widget-view+json": {
       "model_id": "f9532c47f6254eafb25560245288f5f1",
       "version_major": 2,
       "version_minor": 0
      },
      "text/plain": [
       "  0%|          | 0/20 [00:00<?, ?it/s]"
      ]
     },
     "metadata": {},
     "output_type": "display_data"
    },
    {
     "data": {
      "application/vnd.jupyter.widget-view+json": {
       "model_id": "b6553d86380441eebe1b95d86fafcee3",
       "version_major": 2,
       "version_minor": 0
      },
      "text/plain": [
       "  0%|          | 0/20 [00:00<?, ?it/s]"
      ]
     },
     "metadata": {},
     "output_type": "display_data"
    },
    {
     "name": "stdout",
     "output_type": "stream",
     "text": [
      "hf =  515.8133035077152\n"
     ]
    },
    {
     "data": {
      "application/vnd.jupyter.widget-view+json": {
       "model_id": "e1bb93be48d64b299b686e37564c02a9",
       "version_major": 2,
       "version_minor": 0
      },
      "text/plain": [
       "  0%|          | 0/21 [00:00<?, ?it/s]"
      ]
     },
     "metadata": {},
     "output_type": "display_data"
    },
    {
     "name": "stdout",
     "output_type": "stream",
     "text": [
      "SKIPPED --- htt =  151.81934650442963\n"
     ]
    },
    {
     "data": {
      "application/vnd.jupyter.widget-view+json": {
       "model_id": "4fe5dadc901745dd8db3cfe83a1d7aee",
       "version_major": 2,
       "version_minor": 0
      },
      "text/plain": [
       "  0%|          | 0/21 [00:00<?, ?it/s]"
      ]
     },
     "metadata": {},
     "output_type": "display_data"
    },
    {
     "name": "stdout",
     "output_type": "stream",
     "text": [
      "SKIPPED --- htt =  111.27533439359104\n"
     ]
    },
    {
     "data": {
      "application/vnd.jupyter.widget-view+json": {
       "model_id": "aa5a1dc11ba44abbbd9b1e23255eb4f8",
       "version_major": 2,
       "version_minor": 0
      },
      "text/plain": [
       "  0%|          | 0/19 [00:00<?, ?it/s]"
      ]
     },
     "metadata": {},
     "output_type": "display_data"
    },
    {
     "name": "stdout",
     "output_type": "stream",
     "text": [
      "SKIPPED --- htt =  81.26164815378581\n",
      "hf =  575.4487549593953\n",
      "p_Gen_GG_BKG_MCFM*KFactor_QCD_ggZZ_Nominal\n",
      "gg 2 0\n"
     ]
    },
    {
     "data": {
      "application/vnd.jupyter.widget-view+json": {
       "model_id": "2714fc37050d4fae8745fbc4dfcc357d",
       "version_major": 2,
       "version_minor": 0
      },
      "text/plain": [
       "  0%|          | 0/3 [00:00<?, ?it/s]"
      ]
     },
     "metadata": {},
     "output_type": "display_data"
    },
    {
     "data": {
      "application/vnd.jupyter.widget-view+json": {
       "model_id": "8cff36d755fc4febb2d162a467e42403",
       "version_major": 2,
       "version_minor": 0
      },
      "text/plain": [
       "  0%|          | 0/21 [00:00<?, ?it/s]"
      ]
     },
     "metadata": {},
     "output_type": "display_data"
    },
    {
     "name": "stdout",
     "output_type": "stream",
     "text": [
      "SKIPPED --- htt =  0.0026630883003235795\n"
     ]
    },
    {
     "data": {
      "application/vnd.jupyter.widget-view+json": {
       "model_id": "384d45eb8aba44cf939f228408a7f230",
       "version_major": 2,
       "version_minor": 0
      },
      "text/plain": [
       "  0%|          | 0/23 [00:00<?, ?it/s]"
      ]
     },
     "metadata": {},
     "output_type": "display_data"
    },
    {
     "name": "stdout",
     "output_type": "stream",
     "text": [
      "SKIPPED --- htt =  42.66425832062353\n"
     ]
    },
    {
     "data": {
      "application/vnd.jupyter.widget-view+json": {
       "model_id": "125dfb91a6f14700a18d27acc07ebb73",
       "version_major": 2,
       "version_minor": 0
      },
      "text/plain": [
       "  0%|          | 0/23 [00:00<?, ?it/s]"
      ]
     },
     "metadata": {},
     "output_type": "display_data"
    },
    {
     "name": "stdout",
     "output_type": "stream",
     "text": [
      "SKIPPED --- htt =  91.05182525088708\n",
      "hf =  402.0777505459296\n"
     ]
    },
    {
     "data": {
      "application/vnd.jupyter.widget-view+json": {
       "model_id": "6e654425ca4545f595612ebf781af002",
       "version_major": 2,
       "version_minor": 0
      },
      "text/plain": [
       "  0%|          | 0/21 [00:00<?, ?it/s]"
      ]
     },
     "metadata": {},
     "output_type": "display_data"
    },
    {
     "name": "stdout",
     "output_type": "stream",
     "text": [
      "SKIPPED --- htt =  165.17721619255525\n"
     ]
    },
    {
     "data": {
      "application/vnd.jupyter.widget-view+json": {
       "model_id": "1ca6b45b205a43dfadeb82a0c32aa596",
       "version_major": 2,
       "version_minor": 0
      },
      "text/plain": [
       "  0%|          | 0/20 [00:00<?, ?it/s]"
      ]
     },
     "metadata": {},
     "output_type": "display_data"
    },
    {
     "name": "stdout",
     "output_type": "stream",
     "text": [
      "SKIPPED --- htt =  61.89897781641385\n"
     ]
    },
    {
     "data": {
      "application/vnd.jupyter.widget-view+json": {
       "model_id": "35ead2ab710f43c3a081c2e884b48913",
       "version_major": 2,
       "version_minor": 0
      },
      "text/plain": [
       "  0%|          | 0/20 [00:00<?, ?it/s]"
      ]
     },
     "metadata": {},
     "output_type": "display_data"
    },
    {
     "name": "stdout",
     "output_type": "stream",
     "text": [
      "hf =  548.4344528739192\n"
     ]
    },
    {
     "data": {
      "application/vnd.jupyter.widget-view+json": {
       "model_id": "782fc61c27594ffdbbdf834980d5cecb",
       "version_major": 2,
       "version_minor": 0
      },
      "text/plain": [
       "  0%|          | 0/21 [00:00<?, ?it/s]"
      ]
     },
     "metadata": {},
     "output_type": "display_data"
    },
    {
     "name": "stdout",
     "output_type": "stream",
     "text": [
      "SKIPPED --- htt =  161.9418799872878\n"
     ]
    },
    {
     "data": {
      "application/vnd.jupyter.widget-view+json": {
       "model_id": "8e062626a9e9437c98f90c81213bd8e0",
       "version_major": 2,
       "version_minor": 0
      },
      "text/plain": [
       "  0%|          | 0/21 [00:00<?, ?it/s]"
      ]
     },
     "metadata": {},
     "output_type": "display_data"
    },
    {
     "name": "stdout",
     "output_type": "stream",
     "text": [
      "SKIPPED --- htt =  116.39100228584721\n"
     ]
    },
    {
     "data": {
      "application/vnd.jupyter.widget-view+json": {
       "model_id": "35288d8b231b4b92ad11d39557944177",
       "version_major": 2,
       "version_minor": 0
      },
      "text/plain": [
       "  0%|          | 0/19 [00:00<?, ?it/s]"
      ]
     },
     "metadata": {},
     "output_type": "display_data"
    },
    {
     "name": "stdout",
     "output_type": "stream",
     "text": [
      "SKIPPED --- htt =  86.18607778110811\n",
      "hf =  611.2040384530956\n",
      "p_Gen_GG_SIG_kappaTopBot_1_ghz1_1_MCFM*KFactor_QCD_ggZZ_Nominal\n",
      "gg 0 1\n"
     ]
    },
    {
     "data": {
      "application/vnd.jupyter.widget-view+json": {
       "model_id": "32dc3952a80d4e9f9f3f5601d0d55b88",
       "version_major": 2,
       "version_minor": 0
      },
      "text/plain": [
       "  0%|          | 0/3 [00:00<?, ?it/s]"
      ]
     },
     "metadata": {},
     "output_type": "display_data"
    },
    {
     "data": {
      "application/vnd.jupyter.widget-view+json": {
       "model_id": "25a7cd675b794ea18fec262a1fb065c8",
       "version_major": 2,
       "version_minor": 0
      },
      "text/plain": [
       "  0%|          | 0/21 [00:00<?, ?it/s]"
      ]
     },
     "metadata": {},
     "output_type": "display_data"
    },
    {
     "data": {
      "application/vnd.jupyter.widget-view+json": {
       "model_id": "822cf1741b8143e99ac32ebb9983c547",
       "version_major": 2,
       "version_minor": 0
      },
      "text/plain": [
       "  0%|          | 0/23 [00:00<?, ?it/s]"
      ]
     },
     "metadata": {},
     "output_type": "display_data"
    },
    {
     "data": {
      "application/vnd.jupyter.widget-view+json": {
       "model_id": "91dd535df6774f748167b7557643987d",
       "version_major": 2,
       "version_minor": 0
      },
      "text/plain": [
       "  0%|          | 0/23 [00:00<?, ?it/s]"
      ]
     },
     "metadata": {},
     "output_type": "display_data"
    },
    {
     "name": "stdout",
     "output_type": "stream",
     "text": [
      "hf =  2.1612239010257435\n"
     ]
    },
    {
     "data": {
      "application/vnd.jupyter.widget-view+json": {
       "model_id": "3ed16697150d4becaf700d6555fd550a",
       "version_major": 2,
       "version_minor": 0
      },
      "text/plain": [
       "  0%|          | 0/21 [00:00<?, ?it/s]"
      ]
     },
     "metadata": {},
     "output_type": "display_data"
    },
    {
     "data": {
      "application/vnd.jupyter.widget-view+json": {
       "model_id": "d45f76e3902543749c39fda1c3c1bd19",
       "version_major": 2,
       "version_minor": 0
      },
      "text/plain": [
       "  0%|          | 0/20 [00:00<?, ?it/s]"
      ]
     },
     "metadata": {},
     "output_type": "display_data"
    },
    {
     "data": {
      "application/vnd.jupyter.widget-view+json": {
       "model_id": "6fc5ea28b07041b6a2de064a3d459250",
       "version_major": 2,
       "version_minor": 0
      },
      "text/plain": [
       "  0%|          | 0/20 [00:00<?, ?it/s]"
      ]
     },
     "metadata": {},
     "output_type": "display_data"
    },
    {
     "name": "stdout",
     "output_type": "stream",
     "text": [
      "hf =  2.6742516987508016\n"
     ]
    },
    {
     "data": {
      "application/vnd.jupyter.widget-view+json": {
       "model_id": "0500536bcc4c4c688d4af322b1b963ea",
       "version_major": 2,
       "version_minor": 0
      },
      "text/plain": [
       "  0%|          | 0/21 [00:00<?, ?it/s]"
      ]
     },
     "metadata": {},
     "output_type": "display_data"
    },
    {
     "data": {
      "application/vnd.jupyter.widget-view+json": {
       "model_id": "040bbc16bd224ae0b4301b6cc92646e3",
       "version_major": 2,
       "version_minor": 0
      },
      "text/plain": [
       "  0%|          | 0/21 [00:00<?, ?it/s]"
      ]
     },
     "metadata": {},
     "output_type": "display_data"
    },
    {
     "data": {
      "application/vnd.jupyter.widget-view+json": {
       "model_id": "aef9ce555d524af8b5f03b1a21be00a3",
       "version_major": 2,
       "version_minor": 0
      },
      "text/plain": [
       "  0%|          | 0/19 [00:00<?, ?it/s]"
      ]
     },
     "metadata": {},
     "output_type": "display_data"
    },
    {
     "name": "stdout",
     "output_type": "stream",
     "text": [
      "hf =  2.728479617608955\n",
      "p_Gen_GG_BSI_kappaTopBot_1_ghz1_1_MCFM*KFactor_QCD_ggZZ_Nominal\n",
      "gg 1 1\n"
     ]
    },
    {
     "data": {
      "application/vnd.jupyter.widget-view+json": {
       "model_id": "01b457cac53640cfb25dcd86a170fd88",
       "version_major": 2,
       "version_minor": 0
      },
      "text/plain": [
       "  0%|          | 0/3 [00:00<?, ?it/s]"
      ]
     },
     "metadata": {},
     "output_type": "display_data"
    },
    {
     "data": {
      "application/vnd.jupyter.widget-view+json": {
       "model_id": "09184981c9454dd7904329e8b20874e8",
       "version_major": 2,
       "version_minor": 0
      },
      "text/plain": [
       "  0%|          | 0/21 [00:00<?, ?it/s]"
      ]
     },
     "metadata": {},
     "output_type": "display_data"
    },
    {
     "name": "stdout",
     "output_type": "stream",
     "text": [
      "SKIPPED --- htt =  0.00015144306235015392\n"
     ]
    },
    {
     "data": {
      "application/vnd.jupyter.widget-view+json": {
       "model_id": "6325b660d08e4f019caa7419eb4aa1d1",
       "version_major": 2,
       "version_minor": 0
      },
      "text/plain": [
       "  0%|          | 0/23 [00:00<?, ?it/s]"
      ]
     },
     "metadata": {},
     "output_type": "display_data"
    },
    {
     "data": {
      "application/vnd.jupyter.widget-view+json": {
       "model_id": "4a5432281b754e6eaa2c5a07dacd0cb7",
       "version_major": 2,
       "version_minor": 0
      },
      "text/plain": [
       "  0%|          | 0/23 [00:00<?, ?it/s]"
      ]
     },
     "metadata": {},
     "output_type": "display_data"
    },
    {
     "name": "stdout",
     "output_type": "stream",
     "text": [
      "hf =  19.105416811006172\n"
     ]
    },
    {
     "data": {
      "application/vnd.jupyter.widget-view+json": {
       "model_id": "b3f409dee95a4946980e030e4cde6db7",
       "version_major": 2,
       "version_minor": 0
      },
      "text/plain": [
       "  0%|          | 0/21 [00:00<?, ?it/s]"
      ]
     },
     "metadata": {},
     "output_type": "display_data"
    },
    {
     "name": "stdout",
     "output_type": "stream",
     "text": [
      "SKIPPED --- htt =  2.613366349516582\n"
     ]
    },
    {
     "data": {
      "application/vnd.jupyter.widget-view+json": {
       "model_id": "220f77f7b94649398da702f9c0967814",
       "version_major": 2,
       "version_minor": 0
      },
      "text/plain": [
       "  0%|          | 0/20 [00:00<?, ?it/s]"
      ]
     },
     "metadata": {},
     "output_type": "display_data"
    },
    {
     "data": {
      "application/vnd.jupyter.widget-view+json": {
       "model_id": "e15e0018116246adbc002ffaf3fe61a5",
       "version_major": 2,
       "version_minor": 0
      },
      "text/plain": [
       "  0%|          | 0/20 [00:00<?, ?it/s]"
      ]
     },
     "metadata": {},
     "output_type": "display_data"
    },
    {
     "name": "stdout",
     "output_type": "stream",
     "text": [
      "hf =  23.51515758952757\n"
     ]
    },
    {
     "data": {
      "application/vnd.jupyter.widget-view+json": {
       "model_id": "8a1794498aa74ba38c84e7aae931930c",
       "version_major": 2,
       "version_minor": 0
      },
      "text/plain": [
       "  0%|          | 0/21 [00:00<?, ?it/s]"
      ]
     },
     "metadata": {},
     "output_type": "display_data"
    },
    {
     "data": {
      "application/vnd.jupyter.widget-view+json": {
       "model_id": "312c85e11b804db9b4d259e7ab0d52f7",
       "version_major": 2,
       "version_minor": 0
      },
      "text/plain": [
       "  0%|          | 0/21 [00:00<?, ?it/s]"
      ]
     },
     "metadata": {},
     "output_type": "display_data"
    },
    {
     "data": {
      "application/vnd.jupyter.widget-view+json": {
       "model_id": "6b054952cf6746ee803fd8944d0ace78",
       "version_major": 2,
       "version_minor": 0
      },
      "text/plain": [
       "  0%|          | 0/19 [00:00<?, ?it/s]"
      ]
     },
     "metadata": {},
     "output_type": "display_data"
    },
    {
     "name": "stdout",
     "output_type": "stream",
     "text": [
      "hf =  23.294908121596425\n",
      "p_Gen_GG_BKG_MCFM*KFactor_QCD_ggZZ_Nominal\n",
      "gg 2 1\n"
     ]
    },
    {
     "data": {
      "application/vnd.jupyter.widget-view+json": {
       "model_id": "0adcd4af1c3341b1a421b9673b9042af",
       "version_major": 2,
       "version_minor": 0
      },
      "text/plain": [
       "  0%|          | 0/3 [00:00<?, ?it/s]"
      ]
     },
     "metadata": {},
     "output_type": "display_data"
    },
    {
     "data": {
      "application/vnd.jupyter.widget-view+json": {
       "model_id": "36786d51fe31457dbf52e3c96ec4c476",
       "version_major": 2,
       "version_minor": 0
      },
      "text/plain": [
       "  0%|          | 0/21 [00:00<?, ?it/s]"
      ]
     },
     "metadata": {},
     "output_type": "display_data"
    },
    {
     "name": "stdout",
     "output_type": "stream",
     "text": [
      "SKIPPED --- htt =  0.00016289859195239842\n"
     ]
    },
    {
     "data": {
      "application/vnd.jupyter.widget-view+json": {
       "model_id": "d63929cfbcd24e1187592c9781372e5d",
       "version_major": 2,
       "version_minor": 0
      },
      "text/plain": [
       "  0%|          | 0/23 [00:00<?, ?it/s]"
      ]
     },
     "metadata": {},
     "output_type": "display_data"
    },
    {
     "data": {
      "application/vnd.jupyter.widget-view+json": {
       "model_id": "1f22fb93731a491c8e180e0dfaa57fa3",
       "version_major": 2,
       "version_minor": 0
      },
      "text/plain": [
       "  0%|          | 0/23 [00:00<?, ?it/s]"
      ]
     },
     "metadata": {},
     "output_type": "display_data"
    },
    {
     "name": "stdout",
     "output_type": "stream",
     "text": [
      "hf =  20.486303035823827\n"
     ]
    },
    {
     "data": {
      "application/vnd.jupyter.widget-view+json": {
       "model_id": "e1f209d2ce6f4cbeb6a04771226785e4",
       "version_major": 2,
       "version_minor": 0
      },
      "text/plain": [
       "  0%|          | 0/21 [00:00<?, ?it/s]"
      ]
     },
     "metadata": {},
     "output_type": "display_data"
    },
    {
     "name": "stdout",
     "output_type": "stream",
     "text": [
      "SKIPPED --- htt =  2.881537517383549\n"
     ]
    },
    {
     "data": {
      "application/vnd.jupyter.widget-view+json": {
       "model_id": "f457079bfa3641119ceac505b47e8822",
       "version_major": 2,
       "version_minor": 0
      },
      "text/plain": [
       "  0%|          | 0/20 [00:00<?, ?it/s]"
      ]
     },
     "metadata": {},
     "output_type": "display_data"
    },
    {
     "data": {
      "application/vnd.jupyter.widget-view+json": {
       "model_id": "f1559188de444758a2ac28df87621f42",
       "version_major": 2,
       "version_minor": 0
      },
      "text/plain": [
       "  0%|          | 0/20 [00:00<?, ?it/s]"
      ]
     },
     "metadata": {},
     "output_type": "display_data"
    },
    {
     "name": "stdout",
     "output_type": "stream",
     "text": [
      "hf =  25.1970262857406\n"
     ]
    },
    {
     "data": {
      "application/vnd.jupyter.widget-view+json": {
       "model_id": "2d9af6431bd345aa97d6eabc9432b2ad",
       "version_major": 2,
       "version_minor": 0
      },
      "text/plain": [
       "  0%|          | 0/21 [00:00<?, ?it/s]"
      ]
     },
     "metadata": {},
     "output_type": "display_data"
    },
    {
     "data": {
      "application/vnd.jupyter.widget-view+json": {
       "model_id": "def3d01e83bc48438dd39c9e8ce80b8a",
       "version_major": 2,
       "version_minor": 0
      },
      "text/plain": [
       "  0%|          | 0/21 [00:00<?, ?it/s]"
      ]
     },
     "metadata": {},
     "output_type": "display_data"
    },
    {
     "data": {
      "application/vnd.jupyter.widget-view+json": {
       "model_id": "2395aef6e11b4dcba21badccd4377049",
       "version_major": 2,
       "version_minor": 0
      },
      "text/plain": [
       "  0%|          | 0/19 [00:00<?, ?it/s]"
      ]
     },
     "metadata": {},
     "output_type": "display_data"
    },
    {
     "name": "stdout",
     "output_type": "stream",
     "text": [
      "hf =  24.977170915016217\n",
      "p_Gen_GG_SIG_kappaTopBot_1_ghz1_1_MCFM*KFactor_QCD_ggZZ_Nominal\n",
      "gg 0 2\n"
     ]
    },
    {
     "data": {
      "application/vnd.jupyter.widget-view+json": {
       "model_id": "89eae8a6f82c4af89b6a1fba2d11a3c5",
       "version_major": 2,
       "version_minor": 0
      },
      "text/plain": [
       "  0%|          | 0/3 [00:00<?, ?it/s]"
      ]
     },
     "metadata": {},
     "output_type": "display_data"
    },
    {
     "data": {
      "application/vnd.jupyter.widget-view+json": {
       "model_id": "6393b5e4c48243c48f3d54a291a17f70",
       "version_major": 2,
       "version_minor": 0
      },
      "text/plain": [
       "  0%|          | 0/21 [00:00<?, ?it/s]"
      ]
     },
     "metadata": {},
     "output_type": "display_data"
    },
    {
     "data": {
      "application/vnd.jupyter.widget-view+json": {
       "model_id": "fae73c9381ed40c9b2ae4867ce667cad",
       "version_major": 2,
       "version_minor": 0
      },
      "text/plain": [
       "  0%|          | 0/23 [00:00<?, ?it/s]"
      ]
     },
     "metadata": {},
     "output_type": "display_data"
    },
    {
     "data": {
      "application/vnd.jupyter.widget-view+json": {
       "model_id": "1dc69285d5c54825b8ed7ae82416491e",
       "version_major": 2,
       "version_minor": 0
      },
      "text/plain": [
       "  0%|          | 0/23 [00:00<?, ?it/s]"
      ]
     },
     "metadata": {},
     "output_type": "display_data"
    }
   ],
   "source": [
    "\n",
    "h_gg_unt =[]\n",
    "print (h_gg_unt)\n",
    "for tcomp in ltargetcomp: \n",
    "       FillHist(\"gg\",tcomp,0,h_gg_unt)\n",
    "\n",
    "h_gg_vbf =[]\n",
    "for tcomp in ltargetcomp: \n",
    "       FillHist(\"gg\",tcomp,1,h_gg_vbf)\n",
    "\n",
    "h_gg_vh =[]\n",
    "for tcomp in ltargetcomp: \n",
    "       FillHist(\"gg\",tcomp,2,h_gg_vh)      \n",
    "        \n",
    "#=========================================  \n",
    "h_ew_unt =[]\n",
    "for tcomp in ltargetcomp: \n",
    "       FillHist(\"VBF\",tcomp,0,h_ew_unt)\n",
    "\n",
    "h_ew_vbf =[]\n",
    "for tcomp in ltargetcomp: \n",
    "       FillHist(\"VBF\",tcomp,1,h_ew_vbf)\n",
    "\n",
    "h_ew_vh =[]\n",
    "for tcomp in ltargetcomp: \n",
    "       FillHist(\"VBF\",tcomp,2,h_ew_vh)      \n",
    "              \n",
    "#=========================================  \n",
    "'''    \n",
    "h_bkg_unt =[]\n",
    "for tcomp in ltargetcomp: \n",
    "       FillHist(\"ZZTo4l\",tcomp,0,h_bkg_unt)\n",
    "\n",
    "h_bkg_vbf =[]\n",
    "for tcomp in ltargetcomp: \n",
    "       FillHist(\"ZZTo4l\",tcomp,1,h_bkg_vbf)\n",
    "\n",
    "h_bkg_vh =[]\n",
    "for tcomp in ltargetcomp: \n",
    "       FillHist(\"ZZTo4l\",tcomp,2,h_bkg_vh)      \n",
    "'''       "
   ]
  },
  {
   "cell_type": "markdown",
   "id": "8ea757af",
   "metadata": {},
   "source": [
    "### Add to 'hlist' if the output looks reasonable above"
   ]
  },
  {
   "cell_type": "code",
   "execution_count": 27,
   "id": "12d8b167",
   "metadata": {},
   "outputs": [
    {
     "name": "stdout",
     "output_type": "stream",
     "text": [
      "[<cppyy.gbl.TH3F object at 0x9001020>, <cppyy.gbl.TH3F object at 0x9001020>, <cppyy.gbl.TH3F object at 0x9001020>, <cppyy.gbl.TH3F object at 0x9612080>, <cppyy.gbl.TH3F object at 0x9612080>, <cppyy.gbl.TH3F object at 0x9612080>, <cppyy.gbl.TH3F object at 0x98f55a0>, <cppyy.gbl.TH3F object at 0x98f55a0>, <cppyy.gbl.TH3F object at 0x98f55a0>]\n"
     ]
    }
   ],
   "source": [
    "print  (h_gg_unt)"
   ]
  },
  {
   "cell_type": "code",
   "execution_count": 26,
   "id": "ad126c8a",
   "metadata": {
    "scrolled": true
   },
   "outputs": [
    {
     "ename": "NameError",
     "evalue": "name 'h_list' is not defined",
     "output_type": "error",
     "traceback": [
      "\u001b[0;31m---------------------------------------------------------------------------\u001b[0m",
      "\u001b[0;31mNameError\u001b[0m                                 Traceback (most recent call last)",
      "\u001b[0;32m/tmp/ipykernel_582/2538055198.py\u001b[0m in \u001b[0;36m<module>\u001b[0;34m\u001b[0m\n\u001b[0;32m----> 1\u001b[0;31m \u001b[0mprint\u001b[0m \u001b[0;34m(\u001b[0m\u001b[0mh_list\u001b[0m\u001b[0;34m)\u001b[0m\u001b[0;34m\u001b[0m\u001b[0;34m\u001b[0m\u001b[0m\n\u001b[0m",
      "\u001b[0;31mNameError\u001b[0m: name 'h_list' is not defined"
     ]
    }
   ],
   "source": [
    "print (h_list)"
   ]
  },
  {
   "cell_type": "code",
   "execution_count": null,
   "id": "c7f0975c",
   "metadata": {
    "scrolled": true
   },
   "outputs": [],
   "source": [
    "hlist"
   ]
  },
  {
   "cell_type": "code",
   "execution_count": null,
   "id": "8bab436f",
   "metadata": {},
   "outputs": [],
   "source": [
    "for h in h_list:\n",
    "    print (h)\n",
    "    print(h.Integral())"
   ]
  },
  {
   "cell_type": "markdown",
   "id": "11e1cf62",
   "metadata": {},
   "source": [
    "# Unroll and Visualize all histograms in 'hlist'"
   ]
  },
  {
   "cell_type": "markdown",
   "id": "3fa69103",
   "metadata": {},
   "source": [
    "##### Do not proceed if your 'hlist' is not filled. Recall it expects 7 histograms ordered like: ['ggH SIG', 'ggH BSI', 'ggH BKG', 'EW SIG', 'EW BSI', 'EW BKG', 'qqbar BKG']\n",
    "##### If you simply want to test the unrolling section, just fill the list with 7 copies of the same TH3F histogram"
   ]
  },
  {
   "cell_type": "markdown",
   "id": "2c520317",
   "metadata": {},
   "source": [
    "### Unroll all 7 histograms"
   ]
  },
  {
   "cell_type": "code",
   "execution_count": null,
   "id": "23371ac0",
   "metadata": {
    "scrolled": true
   },
   "outputs": [],
   "source": [
    "hlist1d = []\n",
    "hlisttemp = h_list\n",
    "for hf in hlisttemp:\n",
    "    totgbins = hf.GetNbinsX() * hf.GetNbinsY() * hf.GetNbinsZ()\n",
    "    totgedges = np.arange(totgbins+1, dtype='float64')\n",
    "\n",
    "    #hf1d = ROOT.TH1F(\"hf1d\",\"\",len(totgedges)-1, totgedges)\n",
    "    hf1d = ROOT.TH1F(\"hf1d\",\"\",totgbins, 0, totgbins)\n",
    "    hf1d.SetDirectory(0)\n",
    "\n",
    "    bincount = 1\n",
    "\n",
    "    for xbin in trange(hf.GetNbinsX()):\n",
    "        for ybin in range(hf.GetNbinsY()):\n",
    "            for zbin in range(hf.GetNbinsZ()):\n",
    "                gbin = hf.GetBin(xbin+1, ybin+1, zbin+1)\n",
    "\n",
    "                #if gbin<400: print(xbin, ybin, zbin)\n",
    "                #print(gbin)\n",
    "                #print(bincount)\n",
    "                if bincount>totgbins: \n",
    "                    print(\"WHAT\")\n",
    "                    break\n",
    "                    \n",
    "                #if hf.GetBinContent(gbin) != 0: print(hf.GetBinContent(gbin))\n",
    "                #print(hf.GetBinContent(gbin))\n",
    "                \n",
    "                hf1d.SetBinContent(bincount, hf.GetBinContent(gbin))\n",
    "                bincount += 1\n",
    "                #if hf.GetBinContent(gbin) != 0: print(\"YAY\")\n",
    "    \n",
    "    hlist1d.append(hf1d)"
   ]
  },
  {
   "cell_type": "code",
   "execution_count": null,
   "id": "ebbed0f5",
   "metadata": {},
   "outputs": [],
   "source": [
    "c1 = ROOT.TCanvas(\"c1\",\"c1\",4480,600)\n",
    "c1.Divide(len(hlist1d),1)\n",
    "for i in range(len(hlist1d)):\n",
    "    c1.cd(i+1)\n",
    "    print(hlist1d[i].Integral())\n",
    "    hlist1d[i].Draw(\"hist\")\n",
    "\n",
    "ROOT.gStyle.SetOptStat(1)\n",
    "c1.Draw()"
   ]
  },
  {
   "cell_type": "markdown",
   "id": "3e05243e",
   "metadata": {},
   "source": [
    "### Isolate INT from the BSI histograms and also add the total combination of statistics as a new histogram at the end"
   ]
  },
  {
   "cell_type": "code",
   "execution_count": null,
   "id": "1e3d0eb5",
   "metadata": {},
   "outputs": [],
   "source": [
    "hlist1d[1].Add(hlist1d[0], -1)\n",
    "hlist1d[1].Add(hlist1d[2], -1)\n",
    "\n",
    "hlist1d[4].Add(hlist1d[3], -1)\n",
    "hlist1d[4].Add(hlist1d[5], -1)"
   ]
  },
  {
   "cell_type": "code",
   "execution_count": null,
   "id": "be409bcd",
   "metadata": {},
   "outputs": [],
   "source": [
    "c1 = ROOT.TCanvas(\"c1\",\"c1\",4480,600)\n",
    "c1.Divide(len(hlist1d),1)\n",
    "for i in range(len(hlist1d)):\n",
    "    c1.cd(i+1)\n",
    "    print(hlist1d[i].Integral())\n",
    "    hlist1d[i].Draw(\"hist\")\n",
    "\n",
    "ROOT.gStyle.SetOptStat(1)\n",
    "c1.Draw()"
   ]
  },
  {
   "cell_type": "code",
   "execution_count": null,
   "id": "5adc130a",
   "metadata": {},
   "outputs": [],
   "source": [
    "hf1d = ROOT.TH1F(\"hf1d\",\"\",totgbins, 0, totgbins)\n",
    "hf1d.SetDirectory(0)\n",
    "hf1d.Add(hlist1d[1])\n",
    "hlist1d.insert(1, hf1d)"
   ]
  },
  {
   "cell_type": "code",
   "execution_count": null,
   "id": "f618c840",
   "metadata": {},
   "outputs": [],
   "source": [
    "c1 = ROOT.TCanvas(\"c1\",\"c1\",4480,600)\n",
    "c1.Divide(len(hlist1d),1)\n",
    "for i in range(len(hlist1d)):\n",
    "    c1.cd(i+1)\n",
    "    print(hlist1d[i].Integral())\n",
    "    hlist1d[i].Draw(\"hist\")\n",
    "\n",
    "ROOT.gStyle.SetOptStat(1)\n",
    "c1.Draw()"
   ]
  },
  {
   "cell_type": "code",
   "execution_count": null,
   "id": "8b10cb8a",
   "metadata": {},
   "outputs": [],
   "source": [
    "hf1d = ROOT.TH1F(\"hf1d\",\"\",totgbins, 0, totgbins)\n",
    "hf1d.SetDirectory(0)\n",
    "hf1d.Add(hlist1d[5])\n",
    "hlist1d.insert(5, hf1d)"
   ]
  },
  {
   "cell_type": "code",
   "execution_count": null,
   "id": "9a5fd9a0",
   "metadata": {
    "scrolled": false
   },
   "outputs": [],
   "source": [
    "c1 = ROOT.TCanvas(\"c1\",\"c1\",4480,600)\n",
    "c1.Divide(len(hlist1d),1)\n",
    "for i in range(len(hlist1d)):\n",
    "    c1.cd(i+1)\n",
    "    print(hlist1d[i].Integral())\n",
    "    hlist1d[i].Draw(\"hist\")\n",
    "\n",
    "ROOT.gStyle.SetOptStat(1)\n",
    "c1.Draw()"
   ]
  },
  {
   "cell_type": "code",
   "execution_count": null,
   "id": "df04197e",
   "metadata": {},
   "outputs": [],
   "source": [
    "for i in range(hlist1d[1].GetXaxis().GetNbins()):\n",
    "    b = i+1\n",
    "    if hlist1d[1].GetBinContent(b) >= 0:\n",
    "        hlist1d[1].SetBinContent(b, 0)\n",
    "\n",
    "for i in range(hlist1d[2].GetXaxis().GetNbins()):\n",
    "    b = i+1\n",
    "    if hlist1d[2].GetBinContent(b) <= 0:\n",
    "        hlist1d[2].SetBinContent(b, 0)"
   ]
  },
  {
   "cell_type": "code",
   "execution_count": null,
   "id": "d2402aaf",
   "metadata": {},
   "outputs": [],
   "source": [
    "c1 = ROOT.TCanvas(\"c1\",\"c1\",4480,600)\n",
    "c1.Divide(len(hlist1d),1)\n",
    "for i in range(len(hlist1d)):\n",
    "    c1.cd(i+1)\n",
    "    print(hlist1d[i].Integral())\n",
    "    hlist1d[i].Draw(\"hist\")\n",
    "\n",
    "ROOT.gStyle.SetOptStat(1)\n",
    "c1.Draw()"
   ]
  },
  {
   "cell_type": "code",
   "execution_count": null,
   "id": "3ed68b42",
   "metadata": {},
   "outputs": [],
   "source": [
    "for i in range(hlist1d[5].GetXaxis().GetNbins()):\n",
    "    b = i+1\n",
    "    if hlist1d[5].GetBinContent(b) >= 0:\n",
    "        hlist1d[5].SetBinContent(b, 0)\n",
    "\n",
    "for i in range(hlist1d[6].GetXaxis().GetNbins()):\n",
    "    b = i+1\n",
    "    if hlist1d[6].GetBinContent(b) <= 0:\n",
    "        hlist1d[6].SetBinContent(b, 0)"
   ]
  },
  {
   "cell_type": "code",
   "execution_count": null,
   "id": "c36aa58e",
   "metadata": {},
   "outputs": [],
   "source": [
    "c1 = ROOT.TCanvas(\"c1\",\"c1\",4480,600)\n",
    "c1.Divide(len(hlist1d),1)\n",
    "for i in range(len(hlist1d)):\n",
    "    c1.cd(i+1)\n",
    "    print(hlist1d[i].Integral())\n",
    "    hlist1d[i].Draw(\"hist\")\n",
    "\n",
    "ROOT.gStyle.SetOptStat(1)\n",
    "c1.Draw()"
   ]
  },
  {
   "cell_type": "code",
   "execution_count": null,
   "id": "9e5753c8",
   "metadata": {},
   "outputs": [],
   "source": [
    "hf1d = ROOT.TH1F(\"hf1d\",\"\",totgbins, 0, totgbins)\n",
    "for i in range(len(hlist1d)):\n",
    "    hf1d.Add(hlist1d[i])\n",
    "hlist1d.append(hf1d)\n",
    "print(hf1d.Integral())"
   ]
  },
  {
   "cell_type": "code",
   "execution_count": null,
   "id": "b162581f",
   "metadata": {},
   "outputs": [],
   "source": [
    "c1 = ROOT.TCanvas(\"c1\",\"c1\",4480,600)\n",
    "c1.Divide(len(hlist1d),1)\n",
    "for i in range(len(hlist1d)):\n",
    "    c1.cd(i+1)\n",
    "    print(hlist1d[i].Integral())\n",
    "    hlist1d[i].Draw(\"hist\")\n",
    "\n",
    "ROOT.gStyle.SetOptStat(1)\n",
    "c1.Draw()"
   ]
  },
  {
   "cell_type": "code",
   "execution_count": null,
   "id": "e76eedd4",
   "metadata": {},
   "outputs": [],
   "source": [
    "hlist1d[1].Scale(-1)\n",
    "hlist1d[5].Scale(-1)"
   ]
  },
  {
   "cell_type": "code",
   "execution_count": null,
   "id": "bf0f1381",
   "metadata": {},
   "outputs": [],
   "source": [
    "c1 = ROOT.TCanvas(\"c1\",\"c1\",4480,600)\n",
    "c1.Divide(len(hlist1d),1)\n",
    "for i in range(len(hlist1d)):\n",
    "    c1.cd(i+1)\n",
    "    print(hlist1d[i].Integral())\n",
    "    hlist1d[i].Draw(\"hist\")\n",
    "\n",
    "ROOT.gStyle.SetOptStat(1)\n",
    "c1.Draw()"
   ]
  },
  {
   "cell_type": "code",
   "execution_count": null,
   "id": "b26bce77",
   "metadata": {},
   "outputs": [],
   "source": [
    "hf1d = ROOT.TH1F(\"hf1d\",\"\",totgbins, 0, totgbins)\n",
    "hf1d.Add(hlist1d[-1])"
   ]
  },
  {
   "cell_type": "code",
   "execution_count": null,
   "id": "f53c76e4",
   "metadata": {},
   "outputs": [],
   "source": [
    "hlist1d.append(hf1d)"
   ]
  },
  {
   "cell_type": "code",
   "execution_count": null,
   "id": "28a0ad16",
   "metadata": {},
   "outputs": [],
   "source": [
    "c1 = ROOT.TCanvas(\"c1\",\"c1\",4480,600)\n",
    "c1.Divide(len(hlist1d),1)\n",
    "for i in range(len(hlist1d)):\n",
    "    c1.cd(i+1)\n",
    "    print(hlist1d[i].Integral())\n",
    "    hlist1d[i].Draw(\"hist\")\n",
    "\n",
    "ROOT.gStyle.SetOptStat(1)\n",
    "c1.Draw()"
   ]
  },
  {
   "cell_type": "code",
   "execution_count": null,
   "id": "24cd4198",
   "metadata": {},
   "outputs": [],
   "source": [
    "hf1dt = hlist1d.pop(-1)"
   ]
  },
  {
   "cell_type": "code",
   "execution_count": null,
   "id": "a0d5b802",
   "metadata": {},
   "outputs": [],
   "source": [
    "for i in range(hlist1d[-1].GetXaxis().GetNbins()):\n",
    "    b = i+1\n",
    "    if hlist1d[-1].GetBinContent(b) <= 0:\n",
    "        hlist1d[-1].SetBinContent(b, 0)"
   ]
  },
  {
   "cell_type": "markdown",
   "id": "6c0f2766",
   "metadata": {},
   "source": [
    "### Check the final template collection and yields for the datacard"
   ]
  },
  {
   "cell_type": "code",
   "execution_count": null,
   "id": "f04b9e45",
   "metadata": {},
   "outputs": [],
   "source": [
    "c1 = ROOT.TCanvas(\"c1\",\"c1\",4480,600)\n",
    "c1.Divide(len(hlist1d),1)\n",
    "for i in range(len(hlist1d)):\n",
    "    c1.cd(i+1)\n",
    "    print(hlist1d[i].Integral())\n",
    "    hlist1d[i].Draw(\"hist\")\n",
    "\n",
    "ROOT.gStyle.SetOptStat(1)\n",
    "c1.Draw()"
   ]
  },
  {
   "cell_type": "code",
   "execution_count": null,
   "id": "2c7d4e64",
   "metadata": {},
   "outputs": [],
   "source": []
  },
  {
   "cell_type": "markdown",
   "id": "38721854",
   "metadata": {},
   "source": [
    "# Saving the whole thing to a .root file for use with a corresponding datacard"
   ]
  },
  {
   "cell_type": "markdown",
   "id": "b2f8a9f2",
   "metadata": {},
   "source": [
    "### Checking the names used to save the histograms"
   ]
  },
  {
   "cell_type": "code",
   "execution_count": null,
   "id": "d91117a3",
   "metadata": {},
   "outputs": [],
   "source": [
    "for i in proc:\n",
    "    print(i)"
   ]
  },
  {
   "cell_type": "markdown",
   "id": "718f0ab4",
   "metadata": {},
   "source": [
    "### Set directory and output file names"
   ]
  },
  {
   "cell_type": "code",
   "execution_count": null,
   "id": "f8bfb87f",
   "metadata": {},
   "outputs": [],
   "source": [
    "diname = \"/eos/user/s/skyriaco/SWAN_projects/Offshel_tempmaker/Output/\"\n",
    "foname = \"Cat_4mu_137p1invfb_ggH4landVBF4landqqbar_mostEW_RECOpassedevents_mvar21d1reg20d2reg20.input.root\""
   ]
  },
  {
   "cell_type": "code",
   "execution_count": null,
   "id": "6c52c91b",
   "metadata": {},
   "outputs": [],
   "source": [
    "print(diname+foname)"
   ]
  },
  {
   "cell_type": "markdown",
   "id": "7c3cab1a",
   "metadata": {},
   "source": [
    "### Write to a .root file"
   ]
  },
  {
   "cell_type": "code",
   "execution_count": null,
   "id": "92ae69f4",
   "metadata": {},
   "outputs": [],
   "source": [
    "fo = ROOT.TFile(diname+foname,\"CREATE\")\n",
    "\n",
    "for i in range(len(proc)):\n",
    "    hlist1d[i].Write(proc[i], ROOT.TFile.kSingleKey)\n",
    "\n",
    "fo.Close()"
   ]
  },
  {
   "cell_type": "markdown",
   "id": "b6439572",
   "metadata": {},
   "source": [
    "### Check the saved file"
   ]
  },
  {
   "cell_type": "code",
   "execution_count": null,
   "id": "cc43241a",
   "metadata": {},
   "outputs": [],
   "source": [
    "fo = ROOT.TFile(diname+foname)\n",
    "# fo = ROOT.TFile(\"/eos/user/l/lkang/Active_Research/Templates/SManalysis_split/2017/Untag/4mu/Untag_4mu_137p1invfb_ggH4landVBF4landqqbar_mostEW_RECOpassedevents_mvar21d1reg20d2reg20.input.root\")\n",
    "\n",
    "fo.ls()\n",
    "\n",
    "c1 = ROOT.TCanvas(\"c1\",\"c1\",4480,600)\n",
    "c1.Divide(len(proc),1)\n",
    "for i in range(len(proc)):\n",
    "    c1.cd(i+1)\n",
    "    eval(\"print(proc[i], '\\t\\t=', fo.\"+proc[i]+\".Integral())\")\n",
    "#     eval(\"print(fo.\"+proc[i]+\".Integral())\")\n",
    "    eval(\"fo.\"+proc[i]+\".Draw('hist')\")\n",
    "print()    \n",
    "\n",
    "c1.Draw()\n",
    "fo.Close()"
   ]
  },
  {
   "cell_type": "code",
   "execution_count": null,
   "id": "91243872",
   "metadata": {},
   "outputs": [],
   "source": []
  }
 ],
 "metadata": {
  "kernelspec": {
   "display_name": "Python 3",
   "language": "python",
   "name": "python3"
  },
  "language_info": {
   "codemirror_mode": {
    "name": "ipython",
    "version": 3
   },
   "file_extension": ".py",
   "mimetype": "text/x-python",
   "name": "python",
   "nbconvert_exporter": "python",
   "pygments_lexer": "ipython3",
   "version": "3.9.6"
  }
 },
 "nbformat": 4,
 "nbformat_minor": 5
}
