{
 "cells": [
  {
   "cell_type": "markdown",
   "id": "2c008997",
   "metadata": {},
   "source": [
    "# IMPORT LIBRARIES"
   ]
  },
  {
   "cell_type": "code",
   "execution_count": 1,
   "id": "ff540fb0",
   "metadata": {},
   "outputs": [
    {
     "name": "stdout",
     "output_type": "stream",
     "text": [
      "Welcome to JupyROOT 6.24/06\n"
     ]
    }
   ],
   "source": [
    "import os\n",
    "import glob\n",
    "import ROOT\n",
    "from math import sqrt\n",
    "import time\n",
    "#from os import path\n",
    "from pathlib import Path\n",
    "import re\n",
    "from tqdm.notebook import trange, tqdm\n",
    "import numpy as np\n",
    "from array import *\n",
    "%jsroot on"
   ]
  },
  {
   "cell_type": "markdown",
   "id": "01275ae9",
   "metadata": {},
   "source": [
    "# LOAD SPLINES AND DEFINE BINNING"
   ]
  },
  {
   "cell_type": "code",
   "execution_count": 2,
   "id": "9fc4748e",
   "metadata": {
    "scrolled": true
   },
   "outputs": [
    {
     "data": {
      "text/plain": [
       "137.10000000000002"
      ]
     },
     "execution_count": 2,
     "metadata": {},
     "output_type": "execute_result"
    }
   ],
   "source": [
    "35.9 + 41.5 + 59.7"
   ]
  },
  {
   "cell_type": "code",
   "execution_count": 3,
   "id": "98808fee",
   "metadata": {},
   "outputs": [],
   "source": [
    "lumi = {'MC_2016_CorrectBTag':35.9, 'MC_2017':41.5, 'MC_2018':59.7}"
   ]
  },
  {
   "cell_type": "code",
   "execution_count": 4,
   "id": "56d06c7a",
   "metadata": {},
   "outputs": [],
   "source": [
    "D2jetZHSpline = ROOT.TFile(\"/eos/user/l/lkang/Active_Research/Discriminants/RecoMEConstants/SmoothKDConstant_m4l_DjjZH_13TeV.root\").Get(\"sp_gr_varReco_Constant_Smooth\")\n",
    "D2jetWHSpline = ROOT.TFile(\"/eos/user/l/lkang/Active_Research/Discriminants/RecoMEConstants/SmoothKDConstant_m4l_DjjWH_13TeV.root\").Get(\"sp_gr_varReco_Constant_Smooth\")\n",
    "D2jetVBFSpline = ROOT.TFile(\"/eos/user/l/lkang/Active_Research/Discriminants/RecoMEConstants/SmoothKDConstant_m4l_DjjVBF_13TeV.root\").Get(\"sp_gr_varReco_Constant_Smooth\")\n",
    "\n",
    "#WPCshift = 1\n",
    "WPCshift2jv = 0.46386/(1. - 0.46386)\n",
    "WPCshift2jz = 0.91315/(1. - 0.91315)\n",
    "WPCshift2jw = 0.88384/(1. - 0.88384)"
   ]
  },
  {
   "cell_type": "code",
   "execution_count": 5,
   "id": "ba70b1eb",
   "metadata": {},
   "outputs": [],
   "source": [
    "DbkgkinSpline4e = ROOT.TFile(\"/eos/user/l/lkang/Active_Research/Discriminants/RecoMEConstants/SmoothKDConstant_m4l_Dbkgkin_4e_13TeV.root\").Get(\"sp_gr_varReco_Constant_Smooth\")\n",
    "DbkgkinSpline4mu = ROOT.TFile(\"/eos/user/l/lkang/Active_Research/Discriminants/RecoMEConstants/SmoothKDConstant_m4l_Dbkgkin_4mu_13TeV.root\").Get(\"sp_gr_varReco_Constant_Smooth\")\n",
    "DbkgkinSpline2e2mu = ROOT.TFile(\"/eos/user/l/lkang/Active_Research/Discriminants/RecoMEConstants/SmoothKDConstant_m4l_Dbkgkin_2e2mu_13TeV.root\").Get(\"sp_gr_varReco_Constant_Smooth\")\n",
    "\n",
    "DggbkgkinSpline4e = ROOT.TFile(\"/eos/user/l/lkang/Active_Research/Discriminants/RecoMEConstants/SmoothKDConstant_m4l_Dggbkgkin_4e_13TeV.root\").Get(\"sp_gr_varReco_Constant_Smooth\")\n",
    "DggbkgkinSpline4mu = ROOT.TFile(\"/eos/user/l/lkang/Active_Research/Discriminants/RecoMEConstants/SmoothKDConstant_m4l_Dggbkgkin_4mu_13TeV.root\").Get(\"sp_gr_varReco_Constant_Smooth\")\n",
    "DggbkgkinSpline2e2mu = ROOT.TFile(\"/eos/user/l/lkang/Active_Research/Discriminants/RecoMEConstants/SmoothKDConstant_m4l_Dggbkgkin_2e2mu_13TeV.root\").Get(\"sp_gr_varReco_Constant_Smooth\")"
   ]
  },
  {
   "cell_type": "code",
   "execution_count": 6,
   "id": "a442fd25",
   "metadata": {},
   "outputs": [],
   "source": [
    "DbkgjjEWQCDSpline4lHadVH = ROOT.TFile(\"/eos/user/l/lkang/Active_Research/Discriminants/RecoMEConstants/SmoothKDConstant_m4l_DbkgjjEWQCD_4l_HadVHTagged_13TeV.root\").Get(\"sp_gr_varReco_Constant_Smooth\")\n",
    "DbkgjjEWQCDSpline2l2lHadVH = ROOT.TFile(\"/eos/user/l/lkang/Active_Research/Discriminants/RecoMEConstants/SmoothKDConstant_m4l_DbkgjjEWQCD_2l2l_HadVHTagged_13TeV.root\").Get(\"sp_gr_varReco_Constant_Smooth\")\n",
    "\n",
    "DbkgjjEWQCDSpline4lJJVBF = ROOT.TFile(\"/eos/user/l/lkang/Active_Research/Discriminants/RecoMEConstants/SmoothKDConstant_m4l_DbkgjjEWQCD_4l_JJVBFTagged_13TeV.root\").Get(\"sp_gr_varReco_Constant_Smooth\")\n",
    "DbkgjjEWQCDSpline2l2lJJVBF = ROOT.TFile(\"/eos/user/l/lkang/Active_Research/Discriminants/RecoMEConstants/SmoothKDConstant_m4l_DbkgjjEWQCD_2l2l_JJVBFTagged_13TeV.root\").Get(\"sp_gr_varReco_Constant_Smooth\")"
   ]
  },
  {
   "cell_type": "code",
   "execution_count": 7,
   "id": "7974f04f",
   "metadata": {},
   "outputs": [],
   "source": [
    "medges = np.array([220, 230, 240, 250, 260, 280, 310, 340, 370, 400, 475, 550, 625, 700, 800, 900, 1000, 1200, 1600, 2000, 3000, 13000], dtype='float64')\n",
    "# medges = np.array([220, 230, 240, 250, 260, 280, 310, 340, 370, 400, 475, 550, 625, 700, 800, 900, 1000, 1200, 1600, 2000, 13000], dtype='float64')\n",
    "## medges = np.array([220, 260, 370, 625, 1000, 13000], dtype='float64')\n",
    "## medges = np.array([220, 400, 3000, 13000], dtype='float64')\n",
    "# medges = 5*np.arange(401, dtype='float64')\n",
    "#d1edges = np.arange(21, dtype='float64') / 20 * 12780 + 220\n",
    "##d1edges = np.array([ 220.,  316.,  412.,  508.,  604.,  700.,  796.,  892.,  988., 1084., 1180., 1276., 1372., 1468., 1564., 1660., 1756., 1852., 1948., 2044., 13000])\n",
    "##d1edges = np.array([ 220.,  828., 1436., 2044.])\n",
    "#d1edges = np.array([220, 4480, 8740, 13000], dtype='float64')\n",
    "#d1edges = np.array([220, 13000], dtype='float64')\n",
    "d1edges = np.arange(21, dtype='float64') / 20\n",
    "#d1edges = np.arange(6, dtype='float64') / 5\n",
    "# d1edges = np.arange(4, dtype='float64') / 3\n",
    "# d1edges = np.arange(3, dtype='float64') / 2\n",
    "d2edges = np.arange(21, dtype='float64') / 10 - 1\n",
    "#d2edges = np.arange(6, dtype='float64') / 2.5 - 1\n",
    "# d2edges = np.arange(4, dtype='float64') / 1.5 - 1\n",
    "# d2edges = np.arange(3, dtype='float64') / 1 - 1"
   ]
  },
  {
   "cell_type": "code",
   "execution_count": 8,
   "id": "f21626aa",
   "metadata": {
    "scrolled": true
   },
   "outputs": [
    {
     "name": "stdout",
     "output_type": "stream",
     "text": [
      "medges 22\n",
      "medges [  220.   230.   240.   250.   260.   280.   310.   340.   370.   400.\n",
      "   475.   550.   625.   700.   800.   900.  1000.  1200.  1600.  2000.\n",
      "  3000. 13000.]\n",
      "d1edges 21\n",
      "d1edges [0.   0.05 0.1  0.15 0.2  0.25 0.3  0.35 0.4  0.45 0.5  0.55 0.6  0.65\n",
      " 0.7  0.75 0.8  0.85 0.9  0.95 1.  ]\n",
      "d2edges 21\n",
      "d2edges [-1.  -0.9 -0.8 -0.7 -0.6 -0.5 -0.4 -0.3 -0.2 -0.1  0.   0.1  0.2  0.3\n",
      "  0.4  0.5  0.6  0.7  0.8  0.9  1. ]\n"
     ]
    }
   ],
   "source": [
    "print(\"medges\", len(medges))\n",
    "print(\"medges\", (medges))\n",
    "print(\"d1edges\", len(d1edges))\n",
    "print(\"d1edges\", (d1edges))\n",
    "print(\"d2edges\", len(d2edges))\n",
    "print(\"d2edges\", (d2edges))"
   ]
  },
  {
   "cell_type": "markdown",
   "id": "4c82c3d8",
   "metadata": {},
   "source": [
    "# CHOOSE INPUT TREES"
   ]
  },
  {
   "cell_type": "code",
   "execution_count": 9,
   "id": "07a7db0f",
   "metadata": {},
   "outputs": [],
   "source": [
    "#tree i made  \"/eos/user/s/skyriaco/Offshell/200205_CutBased/\""
   ]
  },
  {
   "cell_type": "markdown",
   "id": "e741ec17",
   "metadata": {},
   "source": [
    "### Read selected trees from user-specified file"
   ]
  },
  {
   "cell_type": "code",
   "execution_count": 10,
   "id": "c5f42100",
   "metadata": {},
   "outputs": [],
   "source": [
    "# treelistpath = \"/eos/user/l/lkang/Active_Research/Discriminants/alltaggedtrees.txt\"\n",
    "#treelistpath = \"/eos/user/s/skyriaco/SWAN_projects/Offshel_tempmaker/outputtree_list.txt\"\n",
    "#treelistpath = \"/eos/user/s/skyriaco/SWAN_projects/Offshel_tempmaker/alloutput.txt\"\n",
    "treelistpath = \"/eos/user/s/skyriaco/SWAN_projects/Offshel_tempmaker/output_highmass1618.txt\"\n",
    "\n",
    "treelist = []\n",
    "\n",
    "with open(treelistpath) as f:\n",
    "    llist = [line.rstrip() for line in f]\n",
    "        \n",
    "for line in llist:\n",
    "    if Path(line).exists(): treelist.append(line)"
   ]
  },
  {
   "cell_type": "code",
   "execution_count": 11,
   "id": "6a9af1a2",
   "metadata": {
    "scrolled": true
   },
   "outputs": [
    {
     "name": "stdout",
     "output_type": "stream",
     "text": [
      "/eos/user/s/skyriaco/Offshell/Syst/200205_CutBased/MC_2016_CorrectBTag/OffshellAC/VBF/VBFToContinToZZTo4l/ZZ4lAnalysis.root\n",
      "/eos/user/s/skyriaco/Offshell/Syst/200205_CutBased/MC_2016_CorrectBTag/OffshellAC/VBF/VBFToHiggs0L1ContinToZZTo4l_M125_GaSM/ZZ4lAnalysis.root\n",
      "/eos/user/s/skyriaco/Offshell/Syst/200205_CutBased/MC_2016_CorrectBTag/OffshellAC/VBF/VBFToHiggs0L1f05ph0ContinToZZTo4l_M125_GaSM/ZZ4lAnalysis.root\n",
      "/eos/user/s/skyriaco/Offshell/Syst/200205_CutBased/MC_2016_CorrectBTag/OffshellAC/VBF/VBFToHiggs0MContinToZZTo4l_M125_GaSM/ZZ4lAnalysis.root\n",
      "/eos/user/s/skyriaco/Offshell/Syst/200205_CutBased/MC_2016_CorrectBTag/OffshellAC/VBF/VBFToHiggs0MToZZTo4l_M125_GaSM/ZZ4lAnalysis.root\n",
      "/eos/user/s/skyriaco/Offshell/Syst/200205_CutBased/MC_2016_CorrectBTag/OffshellAC/VBF/VBFToHiggs0Mf025ph0ToZZTo4l_M125_GaSM/ZZ4lAnalysis.root\n",
      "/eos/user/s/skyriaco/Offshell/Syst/200205_CutBased/MC_2016_CorrectBTag/OffshellAC/VBF/VBFToHiggs0Mf05ph0ToZZTo4l_M125_GaSM/ZZ4lAnalysis.root\n",
      "/eos/user/s/skyriaco/Offshell/Syst/200205_CutBased/MC_2016_CorrectBTag/OffshellAC/VBF/VBFToHiggs0Mf075ph0ToZZTo4l_M125_GaSM/ZZ4lAnalysis.root\n",
      "/eos/user/s/skyriaco/Offshell/Syst/200205_CutBased/MC_2016_CorrectBTag/OffshellAC/VBF/VBFToHiggs0PHContinToZZTo4l_M125_GaSM/ZZ4lAnalysis.root\n",
      "/eos/user/s/skyriaco/Offshell/Syst/200205_CutBased/MC_2016_CorrectBTag/OffshellAC/VBF/VBFToHiggs0PHToZZTo4l_M125_GaSM/ZZ4lAnalysis.root\n",
      "/eos/user/s/skyriaco/Offshell/Syst/200205_CutBased/MC_2016_CorrectBTag/OffshellAC/VBF/VBFToHiggs0PHf025ph0ToZZTo4l_M125_GaSM/ZZ4lAnalysis.root\n",
      "/eos/user/s/skyriaco/Offshell/Syst/200205_CutBased/MC_2016_CorrectBTag/OffshellAC/gg/ggTo2e2mu_0MH125Contin_10GaSM_MCFM701/ZZ4lAnalysis.root\n",
      "/eos/user/s/skyriaco/Offshell/Syst/200205_CutBased/MC_2016_CorrectBTag/OffshellAC/gg/ggTo2e2mu_0MH125Contin_MCFM701/ZZ4lAnalysis.root\n",
      "/eos/user/s/skyriaco/Offshell/Syst/200205_CutBased/MC_2016_CorrectBTag/OffshellAC/gg/ggTo2e2mu_0MH125_MCFM701/ZZ4lAnalysis.root\n",
      "/eos/user/s/skyriaco/Offshell/Syst/200205_CutBased/MC_2016_CorrectBTag/OffshellAC/gg/ggTo2e2mu_0Mf05ph0H125Contin_10GaSM_MCFM701/ZZ4lAnalysis.root\n",
      "/eos/user/s/skyriaco/Offshell/Syst/200205_CutBased/MC_2016_CorrectBTag/OffshellAC/gg/ggTo2e2mu_0Mf05ph0H125Contin_MCFM701/ZZ4lAnalysis.root\n",
      "/eos/user/s/skyriaco/Offshell/Syst/200205_CutBased/MC_2016_CorrectBTag/OffshellAC/gg/ggTo2e2mu_0Mf05ph0H125_MCFM701/ZZ4lAnalysis.root\n",
      "/eos/user/s/skyriaco/Offshell/Syst/200205_CutBased/MC_2016_CorrectBTag/OffshellAC/gg/ggTo2e2mu_0PHH125Contin_10GaSM_MCFM701/ZZ4lAnalysis.root\n",
      "/eos/user/s/skyriaco/Offshell/Syst/200205_CutBased/MC_2016_CorrectBTag/OffshellAC/gg/ggTo2e2mu_0PHH125Contin_MCFM701/ZZ4lAnalysis.root\n",
      "/eos/user/s/skyriaco/Offshell/Syst/200205_CutBased/MC_2016_CorrectBTag/OffshellAC/gg/ggTo2e2mu_0PHH125_MCFM701/ZZ4lAnalysis.root\n",
      "/eos/user/s/skyriaco/Offshell/Syst/200205_CutBased/MC_2016_CorrectBTag/OffshellAC/gg/ggTo2e2mu_0PHf05ph0H125Contin_10GaSM_MCFM701/ZZ4lAnalysis.root\n",
      "/eos/user/s/skyriaco/Offshell/Syst/200205_CutBased/MC_2016_CorrectBTag/OffshellAC/gg/ggTo2e2mu_0PHf05ph0H125Contin_MCFM701/ZZ4lAnalysis.root\n",
      "/eos/user/s/skyriaco/Offshell/Syst/200205_CutBased/MC_2016_CorrectBTag/OffshellAC/gg/ggTo2e2mu_0PHf05ph0H125_MCFM701/ZZ4lAnalysis.root\n",
      "/eos/user/s/skyriaco/Offshell/Syst/200205_CutBased/MC_2016_CorrectBTag/OffshellAC/gg/ggTo2e2mu_0PL1H125Contin_10GaSM_MCFM701/ZZ4lAnalysis.root\n",
      "/eos/user/s/skyriaco/Offshell/Syst/200205_CutBased/MC_2016_CorrectBTag/OffshellAC/gg/ggTo2e2mu_0PL1H125Contin_MCFM701/ZZ4lAnalysis.root\n",
      "/eos/user/s/skyriaco/Offshell/Syst/200205_CutBased/MC_2016_CorrectBTag/OffshellAC/gg/ggTo2e2mu_0PL1H125_MCFM701/ZZ4lAnalysis.root\n",
      "/eos/user/s/skyriaco/Offshell/Syst/200205_CutBased/MC_2016_CorrectBTag/OffshellAC/gg/ggTo2e2mu_0PL1f05ph0H125Contin_10GaSM_MCFM701/ZZ4lAnalysis.root\n",
      "/eos/user/s/skyriaco/Offshell/Syst/200205_CutBased/MC_2016_CorrectBTag/OffshellAC/gg/ggTo2e2mu_0PL1f05ph0H125_MCFM701/ZZ4lAnalysis.root\n",
      "/eos/user/s/skyriaco/Offshell/Syst/200205_CutBased/MC_2016_CorrectBTag/OffshellAC/gg/ggTo2e2mu_0PMH125Contin_10GaSM_MCFM701/ZZ4lAnalysis.root\n",
      "/eos/user/s/skyriaco/Offshell/Syst/200205_CutBased/MC_2016_CorrectBTag/OffshellAC/gg/ggTo2e2mu_0PMH125Contin_MCFM701/ZZ4lAnalysis.root\n",
      "/eos/user/s/skyriaco/Offshell/Syst/200205_CutBased/MC_2016_CorrectBTag/OffshellAC/gg/ggTo2e2mu_0PMH125_MCFM701/ZZ4lAnalysis.root\n",
      "/eos/user/s/skyriaco/Offshell/Syst/200205_CutBased/MC_2016_CorrectBTag/OffshellAC/gg/ggTo2e2mu_ContinDefaultShower_MCFM701/ZZ4lAnalysis.root\n",
      "/eos/user/s/skyriaco/Offshell/Syst/200205_CutBased/MC_2016_CorrectBTag/OffshellAC/gg/ggTo2e2mu_Contin_MCFM701/ZZ4lAnalysis.root\n",
      "/eos/user/s/skyriaco/Offshell/Syst/200205_CutBased/MC_2016_CorrectBTag/OffshellAC/gg/ggTo4e_0MH125Contin_10GaSM_MCFM701/ZZ4lAnalysis.root\n",
      "/eos/user/s/skyriaco/Offshell/Syst/200205_CutBased/MC_2016_CorrectBTag/OffshellAC/gg/ggTo4e_0MH125Contin_MCFM701/ZZ4lAnalysis.root\n",
      "/eos/user/s/skyriaco/Offshell/Syst/200205_CutBased/MC_2016_CorrectBTag/OffshellAC/gg/ggTo4e_0MH125_MCFM701/ZZ4lAnalysis.root\n",
      "/eos/user/s/skyriaco/Offshell/Syst/200205_CutBased/MC_2016_CorrectBTag/OffshellAC/gg/ggTo4e_0Mf05ph0H125Contin_10GaSM_MCFM701/ZZ4lAnalysis.root\n",
      "/eos/user/s/skyriaco/Offshell/Syst/200205_CutBased/MC_2016_CorrectBTag/OffshellAC/gg/ggTo4e_0Mf05ph0H125Contin_MCFM701/ZZ4lAnalysis.root\n",
      "/eos/user/s/skyriaco/Offshell/Syst/200205_CutBased/MC_2016_CorrectBTag/OffshellAC/gg/ggTo4e_0Mf05ph0H125_MCFM701/ZZ4lAnalysis.root\n",
      "/eos/user/s/skyriaco/Offshell/Syst/200205_CutBased/MC_2016_CorrectBTag/OffshellAC/gg/ggTo4e_0PHH125Contin_10GaSM_MCFM701/ZZ4lAnalysis.root\n",
      "/eos/user/s/skyriaco/Offshell/Syst/200205_CutBased/MC_2016_CorrectBTag/OffshellAC/gg/ggTo4e_0PHH125Contin_MCFM701/ZZ4lAnalysis.root\n",
      "/eos/user/s/skyriaco/Offshell/Syst/200205_CutBased/MC_2016_CorrectBTag/OffshellAC/gg/ggTo4e_0PHH125_MCFM701/ZZ4lAnalysis.root\n",
      "/eos/user/s/skyriaco/Offshell/Syst/200205_CutBased/MC_2016_CorrectBTag/OffshellAC/gg/ggTo4e_0PHf05ph0H125Contin_10GaSM_MCFM701/ZZ4lAnalysis.root\n",
      "/eos/user/s/skyriaco/Offshell/Syst/200205_CutBased/MC_2016_CorrectBTag/OffshellAC/gg/ggTo4e_0PHf05ph0H125Contin_MCFM701/ZZ4lAnalysis.root\n",
      "/eos/user/s/skyriaco/Offshell/Syst/200205_CutBased/MC_2016_CorrectBTag/OffshellAC/gg/ggTo4e_0PHf05ph0H125_MCFM701/ZZ4lAnalysis.root\n",
      "/eos/user/s/skyriaco/Offshell/Syst/200205_CutBased/MC_2016_CorrectBTag/OffshellAC/gg/ggTo4e_0PL1H125Contin_10GaSM_MCFM701/ZZ4lAnalysis.root\n",
      "/eos/user/s/skyriaco/Offshell/Syst/200205_CutBased/MC_2016_CorrectBTag/OffshellAC/gg/ggTo4e_0PL1H125Contin_MCFM701/ZZ4lAnalysis.root\n",
      "/eos/user/s/skyriaco/Offshell/Syst/200205_CutBased/MC_2016_CorrectBTag/OffshellAC/gg/ggTo4e_0PL1H125_MCFM701/ZZ4lAnalysis.root\n",
      "/eos/user/s/skyriaco/Offshell/Syst/200205_CutBased/MC_2016_CorrectBTag/OffshellAC/gg/ggTo4e_0PL1f05ph0H125Contin_10GaSM_MCFM701/ZZ4lAnalysis.root\n",
      "/eos/user/s/skyriaco/Offshell/Syst/200205_CutBased/MC_2016_CorrectBTag/OffshellAC/gg/ggTo4e_0PL1f05ph0H125Contin_MCFM701/ZZ4lAnalysis.root\n",
      "/eos/user/s/skyriaco/Offshell/Syst/200205_CutBased/MC_2016_CorrectBTag/OffshellAC/gg/ggTo4e_0PL1f05ph0H125_MCFM701/ZZ4lAnalysis.root\n",
      "/eos/user/s/skyriaco/Offshell/Syst/200205_CutBased/MC_2016_CorrectBTag/OffshellAC/gg/ggTo4e_0PMH125Contin_10GaSM_MCFM701/ZZ4lAnalysis.root\n",
      "/eos/user/s/skyriaco/Offshell/Syst/200205_CutBased/MC_2016_CorrectBTag/OffshellAC/gg/ggTo4e_0PMH125Contin_MCFM701/ZZ4lAnalysis.root\n",
      "/eos/user/s/skyriaco/Offshell/Syst/200205_CutBased/MC_2016_CorrectBTag/OffshellAC/gg/ggTo4e_0PMH125_MCFM701/ZZ4lAnalysis.root\n",
      "/eos/user/s/skyriaco/Offshell/Syst/200205_CutBased/MC_2016_CorrectBTag/OffshellAC/gg/ggTo4e_ContinDefaultShower_MCFM701/ZZ4lAnalysis.root\n",
      "/eos/user/s/skyriaco/Offshell/Syst/200205_CutBased/MC_2016_CorrectBTag/OffshellAC/gg/ggTo4e_Contin_MCFM701/ZZ4lAnalysis.root\n",
      "/eos/user/s/skyriaco/Offshell/Syst/200205_CutBased/MC_2016_CorrectBTag/OffshellAC/gg/ggTo4mu_0MH125Contin_10GaSM_MCFM701/ZZ4lAnalysis.root\n",
      "/eos/user/s/skyriaco/Offshell/Syst/200205_CutBased/MC_2016_CorrectBTag/OffshellAC/gg/ggTo4mu_0MH125Contin_MCFM701/ZZ4lAnalysis.root\n",
      "/eos/user/s/skyriaco/Offshell/Syst/200205_CutBased/MC_2016_CorrectBTag/OffshellAC/gg/ggTo4mu_0MH125_MCFM701/ZZ4lAnalysis.root\n",
      "/eos/user/s/skyriaco/Offshell/Syst/200205_CutBased/MC_2016_CorrectBTag/OffshellAC/gg/ggTo4mu_0Mf05ph0H125Contin_10GaSM_MCFM701/ZZ4lAnalysis.root\n",
      "/eos/user/s/skyriaco/Offshell/Syst/200205_CutBased/MC_2016_CorrectBTag/OffshellAC/gg/ggTo4mu_0Mf05ph0H125Contin_MCFM701/ZZ4lAnalysis.root\n",
      "/eos/user/s/skyriaco/Offshell/Syst/200205_CutBased/MC_2016_CorrectBTag/OffshellAC/gg/ggTo4mu_0Mf05ph0H125_MCFM701/ZZ4lAnalysis.root\n",
      "/eos/user/s/skyriaco/Offshell/Syst/200205_CutBased/MC_2016_CorrectBTag/OffshellAC/gg/ggTo4mu_0PHH125Contin_10GaSM_MCFM701/ZZ4lAnalysis.root\n",
      "/eos/user/s/skyriaco/Offshell/Syst/200205_CutBased/MC_2016_CorrectBTag/OffshellAC/gg/ggTo4mu_0PHH125Contin_MCFM701/ZZ4lAnalysis.root\n",
      "/eos/user/s/skyriaco/Offshell/Syst/200205_CutBased/MC_2016_CorrectBTag/OffshellAC/gg/ggTo4mu_0PHH125_MCFM701/ZZ4lAnalysis.root\n",
      "/eos/user/s/skyriaco/Offshell/Syst/200205_CutBased/MC_2016_CorrectBTag/OffshellAC/gg/ggTo4mu_0PHf05ph0H125Contin_10GaSM_MCFM701/ZZ4lAnalysis.root\n",
      "/eos/user/s/skyriaco/Offshell/Syst/200205_CutBased/MC_2016_CorrectBTag/OffshellAC/gg/ggTo4mu_0PHf05ph0H125Contin_MCFM701/ZZ4lAnalysis.root\n",
      "/eos/user/s/skyriaco/Offshell/Syst/200205_CutBased/MC_2016_CorrectBTag/OffshellAC/gg/ggTo4mu_0PHf05ph0H125_MCFM701/ZZ4lAnalysis.root\n",
      "/eos/user/s/skyriaco/Offshell/Syst/200205_CutBased/MC_2016_CorrectBTag/OffshellAC/gg/ggTo4mu_0PL1H125Contin_10GaSM_MCFM701/ZZ4lAnalysis.root\n",
      "/eos/user/s/skyriaco/Offshell/Syst/200205_CutBased/MC_2016_CorrectBTag/OffshellAC/gg/ggTo4mu_0PL1H125Contin_MCFM701/ZZ4lAnalysis.root\n",
      "/eos/user/s/skyriaco/Offshell/Syst/200205_CutBased/MC_2016_CorrectBTag/OffshellAC/gg/ggTo4mu_0PL1H125_MCFM701/ZZ4lAnalysis.root\n",
      "/eos/user/s/skyriaco/Offshell/Syst/200205_CutBased/MC_2016_CorrectBTag/OffshellAC/gg/ggTo4mu_0PL1f05ph0H125Contin_10GaSM_MCFM701/ZZ4lAnalysis.root\n",
      "/eos/user/s/skyriaco/Offshell/Syst/200205_CutBased/MC_2016_CorrectBTag/OffshellAC/gg/ggTo4mu_0PL1f05ph0H125Contin_MCFM701/ZZ4lAnalysis.root\n",
      "/eos/user/s/skyriaco/Offshell/Syst/200205_CutBased/MC_2016_CorrectBTag/OffshellAC/gg/ggTo4mu_0PL1f05ph0H125_MCFM701/ZZ4lAnalysis.root\n",
      "/eos/user/s/skyriaco/Offshell/Syst/200205_CutBased/MC_2016_CorrectBTag/OffshellAC/gg/ggTo4mu_0PMH125Contin_10GaSM_MCFM701/ZZ4lAnalysis.root\n",
      "/eos/user/s/skyriaco/Offshell/Syst/200205_CutBased/MC_2016_CorrectBTag/OffshellAC/gg/ggTo4mu_0PMH125Contin_MCFM701/ZZ4lAnalysis.root\n",
      "/eos/user/s/skyriaco/Offshell/Syst/200205_CutBased/MC_2016_CorrectBTag/OffshellAC/gg/ggTo4mu_0PMH125_MCFM701/ZZ4lAnalysis.root\n",
      "/eos/user/s/skyriaco/Offshell/Syst/200205_CutBased/MC_2016_CorrectBTag/OffshellAC/gg/ggTo4mu_ContinDefaultShower_MCFM701/ZZ4lAnalysis.root\n",
      "/eos/user/s/skyriaco/Offshell/Syst/200205_CutBased/MC_2016_CorrectBTag/OffshellAC/gg/ggTo4mu_Contin_MCFM701/ZZ4lAnalysis.root\n",
      "/eos/user/s/skyriaco/Offshell/Syst/200205_CutBased/MC_2016_CorrectBTag/ZZTo4l/ZZ4lAnalysis.root\n",
      "/eos/user/s/skyriaco/Offshell/Syst/200205_CutBased/MC_2016_CorrectBTag/ZZTo4lext/ZZ4lAnalysis.root\n",
      "/eos/user/s/skyriaco/Offshell/Syst/200205_CutBased/MC_2017/OffshellAC/VBF/VBFToContinToZZTo4l/ZZ4lAnalysis.root\n",
      "/eos/user/s/skyriaco/Offshell/Syst/200205_CutBased/MC_2017/OffshellAC/VBF/VBFToHiggs0L1ContinToZZTo4l_M125_GaSM/ZZ4lAnalysis.root\n",
      "/eos/user/s/skyriaco/Offshell/Syst/200205_CutBased/MC_2017/OffshellAC/VBF/VBFToHiggs0MContinToZZTo4l_M125_GaSM/ZZ4lAnalysis.root\n",
      "/eos/user/s/skyriaco/Offshell/Syst/200205_CutBased/MC_2017/OffshellAC/VBF/VBFToHiggs0MToZZTo4l_M125_GaSM/ZZ4lAnalysis.root\n",
      "/eos/user/s/skyriaco/Offshell/Syst/200205_CutBased/MC_2017/OffshellAC/VBF/VBFToHiggs0Mf025ph0ToZZTo4l_M125_GaSM/ZZ4lAnalysis.root\n",
      "/eos/user/s/skyriaco/Offshell/Syst/200205_CutBased/MC_2017/OffshellAC/VBF/VBFToHiggs0Mf05ph0ToZZTo4l_M125_GaSM/ZZ4lAnalysis.root\n",
      "/eos/user/s/skyriaco/Offshell/Syst/200205_CutBased/MC_2017/OffshellAC/VBF/VBFToHiggs0Mf075ph0ToZZTo4l_M125_GaSM/ZZ4lAnalysis.root\n",
      "/eos/user/s/skyriaco/Offshell/Syst/200205_CutBased/MC_2017/OffshellAC/VBF/VBFToHiggs0PHContinToZZTo4l_M125_GaSM/ZZ4lAnalysis.root\n",
      "/eos/user/s/skyriaco/Offshell/Syst/200205_CutBased/MC_2017/OffshellAC/VBF/VBFToHiggs0PHToZZTo4l_M125_GaSM/ZZ4lAnalysis.root\n",
      "/eos/user/s/skyriaco/Offshell/Syst/200205_CutBased/MC_2017/OffshellAC/VBF/VBFToHiggs0PHf025ph0ToZZTo4l_M125_GaSM/ZZ4lAnalysis.root\n",
      "/eos/user/s/skyriaco/Offshell/Syst/200205_CutBased/MC_2017/OffshellAC/VBF/VBFToHiggs0PHf075ph0ToZZTo4l_M125_GaSM/ZZ4lAnalysis.root\n",
      "/eos/user/s/skyriaco/Offshell/Syst/200205_CutBased/MC_2017/OffshellAC/VBF/VBFToHiggs0PMToZZTo4l_M125_GaSM/ZZ4lAnalysis.root\n",
      "/eos/user/s/skyriaco/Offshell/Syst/200205_CutBased/MC_2017/OffshellAC/gg/ggTo2e2mu_0MH125Contin_10GaSM_MCFM701/ZZ4lAnalysis.root\n",
      "/eos/user/s/skyriaco/Offshell/Syst/200205_CutBased/MC_2017/OffshellAC/gg/ggTo2e2mu_0MH125Contin_MCFM701/ZZ4lAnalysis.root\n",
      "/eos/user/s/skyriaco/Offshell/Syst/200205_CutBased/MC_2017/OffshellAC/gg/ggTo2e2mu_0MH125_MCFM701/ZZ4lAnalysis.root\n",
      "/eos/user/s/skyriaco/Offshell/Syst/200205_CutBased/MC_2017/OffshellAC/gg/ggTo2e2mu_0Mf05ph0H125Contin_10GaSM_MCFM701/ZZ4lAnalysis.root\n",
      "/eos/user/s/skyriaco/Offshell/Syst/200205_CutBased/MC_2017/OffshellAC/gg/ggTo2e2mu_0Mf05ph0H125Contin_MCFM701/ZZ4lAnalysis.root\n",
      "/eos/user/s/skyriaco/Offshell/Syst/200205_CutBased/MC_2017/OffshellAC/gg/ggTo2e2mu_0Mf05ph0H125_MCFM701/ZZ4lAnalysis.root\n",
      "/eos/user/s/skyriaco/Offshell/Syst/200205_CutBased/MC_2017/OffshellAC/gg/ggTo2e2mu_0PHH125Contin_10GaSM_MCFM701/ZZ4lAnalysis.root\n",
      "/eos/user/s/skyriaco/Offshell/Syst/200205_CutBased/MC_2017/OffshellAC/gg/ggTo2e2mu_0PHH125Contin_MCFM701/ZZ4lAnalysis.root\n",
      "/eos/user/s/skyriaco/Offshell/Syst/200205_CutBased/MC_2017/OffshellAC/gg/ggTo2e2mu_0PHH125_MCFM701/ZZ4lAnalysis.root\n",
      "/eos/user/s/skyriaco/Offshell/Syst/200205_CutBased/MC_2017/OffshellAC/gg/ggTo2e2mu_0PHf05ph0H125Contin_10GaSM_MCFM701/ZZ4lAnalysis.root\n",
      "/eos/user/s/skyriaco/Offshell/Syst/200205_CutBased/MC_2017/OffshellAC/gg/ggTo2e2mu_0PHf05ph0H125Contin_MCFM701/ZZ4lAnalysis.root\n",
      "/eos/user/s/skyriaco/Offshell/Syst/200205_CutBased/MC_2017/OffshellAC/gg/ggTo2e2mu_0PHf05ph0H125_MCFM701/ZZ4lAnalysis.root\n",
      "/eos/user/s/skyriaco/Offshell/Syst/200205_CutBased/MC_2017/OffshellAC/gg/ggTo2e2mu_0PL1H125Contin_10GaSM_MCFM701/ZZ4lAnalysis.root\n",
      "/eos/user/s/skyriaco/Offshell/Syst/200205_CutBased/MC_2017/OffshellAC/gg/ggTo2e2mu_0PL1H125Contin_MCFM701/ZZ4lAnalysis.root\n",
      "/eos/user/s/skyriaco/Offshell/Syst/200205_CutBased/MC_2017/OffshellAC/gg/ggTo2e2mu_0PL1H125_MCFM701/ZZ4lAnalysis.root\n",
      "/eos/user/s/skyriaco/Offshell/Syst/200205_CutBased/MC_2017/OffshellAC/gg/ggTo2e2mu_0PL1f05ph0H125Contin_10GaSM_MCFM701/ZZ4lAnalysis.root\n",
      "/eos/user/s/skyriaco/Offshell/Syst/200205_CutBased/MC_2017/OffshellAC/gg/ggTo2e2mu_0PL1f05ph0H125Contin_MCFM701/ZZ4lAnalysis.root\n",
      "/eos/user/s/skyriaco/Offshell/Syst/200205_CutBased/MC_2017/OffshellAC/gg/ggTo2e2mu_0PL1f05ph0H125_MCFM701/ZZ4lAnalysis.root\n",
      "/eos/user/s/skyriaco/Offshell/Syst/200205_CutBased/MC_2017/OffshellAC/gg/ggTo2e2mu_0PMH125Contin_10GaSM_MCFM701/ZZ4lAnalysis.root\n",
      "/eos/user/s/skyriaco/Offshell/Syst/200205_CutBased/MC_2017/OffshellAC/gg/ggTo2e2mu_0PMH125Contin_MCFM701/ZZ4lAnalysis.root\n",
      "/eos/user/s/skyriaco/Offshell/Syst/200205_CutBased/MC_2017/OffshellAC/gg/ggTo2e2mu_0PMH125_MCFM701/ZZ4lAnalysis.root\n",
      "/eos/user/s/skyriaco/Offshell/Syst/200205_CutBased/MC_2017/OffshellAC/gg/ggTo2e2mu_Contin_MCFM701/ZZ4lAnalysis.root\n",
      "/eos/user/s/skyriaco/Offshell/Syst/200205_CutBased/MC_2017/OffshellAC/gg/ggTo4e_0MH125Contin_10GaSM_MCFM701/ZZ4lAnalysis.root\n",
      "/eos/user/s/skyriaco/Offshell/Syst/200205_CutBased/MC_2017/OffshellAC/gg/ggTo4e_0MH125Contin_MCFM701/ZZ4lAnalysis.root\n",
      "/eos/user/s/skyriaco/Offshell/Syst/200205_CutBased/MC_2017/OffshellAC/gg/ggTo4e_0MH125_MCFM701/ZZ4lAnalysis.root\n",
      "/eos/user/s/skyriaco/Offshell/Syst/200205_CutBased/MC_2017/OffshellAC/gg/ggTo4e_0Mf05ph0H125Contin_10GaSM_MCFM701/ZZ4lAnalysis.root\n",
      "/eos/user/s/skyriaco/Offshell/Syst/200205_CutBased/MC_2017/OffshellAC/gg/ggTo4e_0Mf05ph0H125Contin_MCFM701/ZZ4lAnalysis.root\n",
      "/eos/user/s/skyriaco/Offshell/Syst/200205_CutBased/MC_2017/OffshellAC/gg/ggTo4e_0Mf05ph0H125_MCFM701/ZZ4lAnalysis.root\n",
      "/eos/user/s/skyriaco/Offshell/Syst/200205_CutBased/MC_2017/OffshellAC/gg/ggTo4e_0PHH125Contin_MCFM701/ZZ4lAnalysis.root\n",
      "/eos/user/s/skyriaco/Offshell/Syst/200205_CutBased/MC_2017/OffshellAC/gg/ggTo4e_0PHH125_MCFM701/ZZ4lAnalysis.root\n",
      "/eos/user/s/skyriaco/Offshell/Syst/200205_CutBased/MC_2017/OffshellAC/gg/ggTo4e_0PHf05ph0H125Contin_10GaSM_MCFM701/ZZ4lAnalysis.root\n",
      "/eos/user/s/skyriaco/Offshell/Syst/200205_CutBased/MC_2017/OffshellAC/gg/ggTo4e_0PHf05ph0H125Contin_MCFM701/ZZ4lAnalysis.root\n",
      "/eos/user/s/skyriaco/Offshell/Syst/200205_CutBased/MC_2017/OffshellAC/gg/ggTo4e_0PHf05ph0H125_MCFM701/ZZ4lAnalysis.root\n",
      "/eos/user/s/skyriaco/Offshell/Syst/200205_CutBased/MC_2017/OffshellAC/gg/ggTo4e_0PL1H125Contin_10GaSM_MCFM701/ZZ4lAnalysis.root\n",
      "/eos/user/s/skyriaco/Offshell/Syst/200205_CutBased/MC_2017/OffshellAC/gg/ggTo4e_0PL1H125Contin_MCFM701/ZZ4lAnalysis.root\n",
      "/eos/user/s/skyriaco/Offshell/Syst/200205_CutBased/MC_2017/OffshellAC/gg/ggTo4e_0PL1H125_MCFM701/ZZ4lAnalysis.root\n",
      "/eos/user/s/skyriaco/Offshell/Syst/200205_CutBased/MC_2017/OffshellAC/gg/ggTo4e_0PL1f05ph0H125Contin_10GaSM_MCFM701/ZZ4lAnalysis.root\n",
      "/eos/user/s/skyriaco/Offshell/Syst/200205_CutBased/MC_2017/OffshellAC/gg/ggTo4e_0PL1f05ph0H125Contin_MCFM701/ZZ4lAnalysis.root\n",
      "/eos/user/s/skyriaco/Offshell/Syst/200205_CutBased/MC_2017/OffshellAC/gg/ggTo4e_0PL1f05ph0H125_MCFM701/ZZ4lAnalysis.root\n",
      "/eos/user/s/skyriaco/Offshell/Syst/200205_CutBased/MC_2017/OffshellAC/gg/ggTo4e_0PMH125Contin_10GaSM_MCFM701/ZZ4lAnalysis.root\n",
      "/eos/user/s/skyriaco/Offshell/Syst/200205_CutBased/MC_2017/OffshellAC/gg/ggTo4e_0PMH125Contin_MCFM701/ZZ4lAnalysis.root\n",
      "/eos/user/s/skyriaco/Offshell/Syst/200205_CutBased/MC_2017/OffshellAC/gg/ggTo4e_0PMH125_MCFM701/ZZ4lAnalysis.root\n",
      "/eos/user/s/skyriaco/Offshell/Syst/200205_CutBased/MC_2017/OffshellAC/gg/ggTo4e_Contin_MCFM701/ZZ4lAnalysis.root\n",
      "/eos/user/s/skyriaco/Offshell/Syst/200205_CutBased/MC_2017/OffshellAC/gg/ggTo4mu_0MH125Contin_10GaSM_MCFM701/ZZ4lAnalysis.root\n",
      "/eos/user/s/skyriaco/Offshell/Syst/200205_CutBased/MC_2017/OffshellAC/gg/ggTo4mu_0MH125Contin_MCFM701/ZZ4lAnalysis.root\n",
      "/eos/user/s/skyriaco/Offshell/Syst/200205_CutBased/MC_2017/OffshellAC/gg/ggTo4mu_0MH125_MCFM701/ZZ4lAnalysis.root\n",
      "/eos/user/s/skyriaco/Offshell/Syst/200205_CutBased/MC_2017/OffshellAC/gg/ggTo4mu_0Mf05ph0H125Contin_10GaSM_MCFM701/ZZ4lAnalysis.root\n",
      "/eos/user/s/skyriaco/Offshell/Syst/200205_CutBased/MC_2017/OffshellAC/gg/ggTo4mu_0Mf05ph0H125Contin_MCFM701/ZZ4lAnalysis.root\n",
      "/eos/user/s/skyriaco/Offshell/Syst/200205_CutBased/MC_2017/OffshellAC/gg/ggTo4mu_0Mf05ph0H125_MCFM701/ZZ4lAnalysis.root\n",
      "/eos/user/s/skyriaco/Offshell/Syst/200205_CutBased/MC_2017/OffshellAC/gg/ggTo4mu_0PHH125Contin_MCFM701/ZZ4lAnalysis.root\n",
      "/eos/user/s/skyriaco/Offshell/Syst/200205_CutBased/MC_2017/OffshellAC/gg/ggTo4mu_0PHH125_MCFM701/ZZ4lAnalysis.root\n",
      "/eos/user/s/skyriaco/Offshell/Syst/200205_CutBased/MC_2017/OffshellAC/gg/ggTo4mu_0PHf05ph0H125Contin_10GaSM_MCFM701/ZZ4lAnalysis.root\n",
      "/eos/user/s/skyriaco/Offshell/Syst/200205_CutBased/MC_2017/OffshellAC/gg/ggTo4mu_0PHf05ph0H125Contin_MCFM701/ZZ4lAnalysis.root\n",
      "/eos/user/s/skyriaco/Offshell/Syst/200205_CutBased/MC_2017/OffshellAC/gg/ggTo4mu_0PHf05ph0H125_MCFM701/ZZ4lAnalysis.root\n",
      "/eos/user/s/skyriaco/Offshell/Syst/200205_CutBased/MC_2017/OffshellAC/gg/ggTo4mu_0PL1H125Contin_MCFM701/ZZ4lAnalysis.root\n",
      "/eos/user/s/skyriaco/Offshell/Syst/200205_CutBased/MC_2017/OffshellAC/gg/ggTo4mu_0PL1H125_MCFM701/ZZ4lAnalysis.root\n",
      "/eos/user/s/skyriaco/Offshell/Syst/200205_CutBased/MC_2017/OffshellAC/gg/ggTo4mu_0PL1f05ph0H125Contin_10GaSM_MCFM701/ZZ4lAnalysis.root\n",
      "/eos/user/s/skyriaco/Offshell/Syst/200205_CutBased/MC_2017/OffshellAC/gg/ggTo4mu_0PL1f05ph0H125Contin_MCFM701/ZZ4lAnalysis.root\n",
      "/eos/user/s/skyriaco/Offshell/Syst/200205_CutBased/MC_2017/OffshellAC/gg/ggTo4mu_0PL1f05ph0H125_MCFM701/ZZ4lAnalysis.root\n",
      "/eos/user/s/skyriaco/Offshell/Syst/200205_CutBased/MC_2017/OffshellAC/gg/ggTo4mu_0PMH125Contin_10GaSM_MCFM701/ZZ4lAnalysis.root\n",
      "/eos/user/s/skyriaco/Offshell/Syst/200205_CutBased/MC_2017/OffshellAC/gg/ggTo4mu_0PMH125Contin_MCFM701/ZZ4lAnalysis.root\n",
      "/eos/user/s/skyriaco/Offshell/Syst/200205_CutBased/MC_2017/OffshellAC/gg/ggTo4mu_0PMH125_MCFM701/ZZ4lAnalysis.root\n",
      "/eos/user/s/skyriaco/Offshell/Syst/200205_CutBased/MC_2017/OffshellAC/gg/ggTo4mu_Contin_MCFM701/ZZ4lAnalysis.root\n",
      "/eos/user/s/skyriaco/Offshell/Syst/200205_CutBased/MC_2017/ZZTo4l/ZZ4lAnalysis.root\n",
      "/eos/user/s/skyriaco/Offshell/Syst/200205_CutBased/MC_2017/ZZTo4lext/ZZ4lAnalysis.root\n",
      "/eos/user/s/skyriaco/Offshell/Syst/200205_CutBased/MC_2018/OffshellAC/VBF/VBFToHiggs0L1ContinToZZTo4l_M125_GaSM/ZZ4lAnalysis.root\n",
      "/eos/user/s/skyriaco/Offshell/Syst/200205_CutBased/MC_2018/OffshellAC/VBF/VBFToHiggs0L1f025ph0ToZZTo4l_M125_GaSM/ZZ4lAnalysis.root\n",
      "/eos/user/s/skyriaco/Offshell/Syst/200205_CutBased/MC_2018/OffshellAC/VBF/VBFToHiggs0L1f05ph0ToZZTo4l_M125_GaSM/ZZ4lAnalysis.root\n",
      "/eos/user/s/skyriaco/Offshell/Syst/200205_CutBased/MC_2018/OffshellAC/VBF/VBFToHiggs0MToZZTo4l_M125_GaSM/ZZ4lAnalysis.root\n",
      "/eos/user/s/skyriaco/Offshell/Syst/200205_CutBased/MC_2018/OffshellAC/VBF/VBFToHiggs0Mf025ph0ToZZTo4l_M125_GaSM/ZZ4lAnalysis.root\n",
      "/eos/user/s/skyriaco/Offshell/Syst/200205_CutBased/MC_2018/OffshellAC/VBF/VBFToHiggs0Mf075ph0ToZZTo4l_M125_GaSM/ZZ4lAnalysis.root\n",
      "/eos/user/s/skyriaco/Offshell/Syst/200205_CutBased/MC_2018/OffshellAC/VBF/VBFToHiggs0PHContinToZZTo4l_M125_GaSM/ZZ4lAnalysis.root\n",
      "/eos/user/s/skyriaco/Offshell/Syst/200205_CutBased/MC_2018/OffshellAC/VBF/VBFToHiggs0PHf025ph0ToZZTo4l_M125_GaSM/ZZ4lAnalysis.root\n",
      "/eos/user/s/skyriaco/Offshell/Syst/200205_CutBased/MC_2018/OffshellAC/gg/ggTo2e2mu_0MH125Contin_10GaSM_MCFM701/ZZ4lAnalysis.root\n",
      "/eos/user/s/skyriaco/Offshell/Syst/200205_CutBased/MC_2018/OffshellAC/gg/ggTo2e2mu_0MH125Contin_MCFM701/ZZ4lAnalysis.root\n",
      "/eos/user/s/skyriaco/Offshell/Syst/200205_CutBased/MC_2018/OffshellAC/gg/ggTo2e2mu_0MH125_MCFM701/ZZ4lAnalysis.root\n",
      "/eos/user/s/skyriaco/Offshell/Syst/200205_CutBased/MC_2018/OffshellAC/gg/ggTo2e2mu_0Mf05ph0H125Contin_10GaSM_MCFM701/ZZ4lAnalysis.root\n",
      "/eos/user/s/skyriaco/Offshell/Syst/200205_CutBased/MC_2018/OffshellAC/gg/ggTo2e2mu_0Mf05ph0H125Contin_MCFM701/ZZ4lAnalysis.root\n",
      "/eos/user/s/skyriaco/Offshell/Syst/200205_CutBased/MC_2018/OffshellAC/gg/ggTo2e2mu_0Mf05ph0H125_MCFM701/ZZ4lAnalysis.root\n",
      "/eos/user/s/skyriaco/Offshell/Syst/200205_CutBased/MC_2018/OffshellAC/gg/ggTo2e2mu_0PHH125Contin_10GaSM_MCFM701/ZZ4lAnalysis.root\n",
      "/eos/user/s/skyriaco/Offshell/Syst/200205_CutBased/MC_2018/OffshellAC/gg/ggTo2e2mu_0PHH125Contin_MCFM701/ZZ4lAnalysis.root\n",
      "/eos/user/s/skyriaco/Offshell/Syst/200205_CutBased/MC_2018/OffshellAC/gg/ggTo2e2mu_0PHH125_MCFM701/ZZ4lAnalysis.root\n",
      "/eos/user/s/skyriaco/Offshell/Syst/200205_CutBased/MC_2018/OffshellAC/gg/ggTo2e2mu_0PHf05ph0H125Contin_10GaSM_MCFM701/ZZ4lAnalysis.root\n",
      "/eos/user/s/skyriaco/Offshell/Syst/200205_CutBased/MC_2018/OffshellAC/gg/ggTo2e2mu_0PHf05ph0H125Contin_MCFM701/ZZ4lAnalysis.root\n",
      "/eos/user/s/skyriaco/Offshell/Syst/200205_CutBased/MC_2018/OffshellAC/gg/ggTo2e2mu_0PHf05ph0H125_MCFM701/ZZ4lAnalysis.root\n",
      "/eos/user/s/skyriaco/Offshell/Syst/200205_CutBased/MC_2018/OffshellAC/gg/ggTo2e2mu_0PL1H125Contin_10GaSM_MCFM701/ZZ4lAnalysis.root\n",
      "/eos/user/s/skyriaco/Offshell/Syst/200205_CutBased/MC_2018/OffshellAC/gg/ggTo2e2mu_0PL1H125Contin_MCFM701/ZZ4lAnalysis.root\n",
      "/eos/user/s/skyriaco/Offshell/Syst/200205_CutBased/MC_2018/OffshellAC/gg/ggTo2e2mu_0PL1H125_MCFM701/ZZ4lAnalysis.root\n",
      "/eos/user/s/skyriaco/Offshell/Syst/200205_CutBased/MC_2018/OffshellAC/gg/ggTo2e2mu_0PL1f05ph0H125Contin_10GaSM_MCFM701/ZZ4lAnalysis.root\n",
      "/eos/user/s/skyriaco/Offshell/Syst/200205_CutBased/MC_2018/OffshellAC/gg/ggTo2e2mu_0PL1f05ph0H125Contin_MCFM701/ZZ4lAnalysis.root\n",
      "/eos/user/s/skyriaco/Offshell/Syst/200205_CutBased/MC_2018/OffshellAC/gg/ggTo2e2mu_0PL1f05ph0H125_MCFM701/ZZ4lAnalysis.root\n",
      "/eos/user/s/skyriaco/Offshell/Syst/200205_CutBased/MC_2018/OffshellAC/gg/ggTo2e2mu_0PMH125Contin_10GaSM_MCFM701/ZZ4lAnalysis.root\n",
      "/eos/user/s/skyriaco/Offshell/Syst/200205_CutBased/MC_2018/OffshellAC/gg/ggTo2e2mu_0PMH125Contin_MCFM701/ZZ4lAnalysis.root\n",
      "/eos/user/s/skyriaco/Offshell/Syst/200205_CutBased/MC_2018/OffshellAC/gg/ggTo2e2mu_0PMH125_MCFM701/ZZ4lAnalysis.root\n",
      "/eos/user/s/skyriaco/Offshell/Syst/200205_CutBased/MC_2018/OffshellAC/gg/ggTo2e2mu_Contin_MCFM701/ZZ4lAnalysis.root\n",
      "/eos/user/s/skyriaco/Offshell/Syst/200205_CutBased/MC_2018/OffshellAC/gg/ggTo4e_0MH125Contin_10GaSM_MCFM701/ZZ4lAnalysis.root\n",
      "/eos/user/s/skyriaco/Offshell/Syst/200205_CutBased/MC_2018/OffshellAC/gg/ggTo4e_0MH125Contin_MCFM701/ZZ4lAnalysis.root\n",
      "/eos/user/s/skyriaco/Offshell/Syst/200205_CutBased/MC_2018/OffshellAC/gg/ggTo4e_0MH125_MCFM701/ZZ4lAnalysis.root\n",
      "/eos/user/s/skyriaco/Offshell/Syst/200205_CutBased/MC_2018/OffshellAC/gg/ggTo4e_0Mf05ph0H125Contin_10GaSM_MCFM701/ZZ4lAnalysis.root\n",
      "/eos/user/s/skyriaco/Offshell/Syst/200205_CutBased/MC_2018/OffshellAC/gg/ggTo4e_0Mf05ph0H125Contin_MCFM701/ZZ4lAnalysis.root\n",
      "/eos/user/s/skyriaco/Offshell/Syst/200205_CutBased/MC_2018/OffshellAC/gg/ggTo4e_0Mf05ph0H125_MCFM701/ZZ4lAnalysis.root\n",
      "/eos/user/s/skyriaco/Offshell/Syst/200205_CutBased/MC_2018/OffshellAC/gg/ggTo4e_0PHH125Contin_MCFM701/ZZ4lAnalysis.root\n",
      "/eos/user/s/skyriaco/Offshell/Syst/200205_CutBased/MC_2018/OffshellAC/gg/ggTo4e_0PHH125_MCFM701/ZZ4lAnalysis.root\n",
      "/eos/user/s/skyriaco/Offshell/Syst/200205_CutBased/MC_2018/OffshellAC/gg/ggTo4e_0PHf05ph0H125Contin_10GaSM_MCFM701/ZZ4lAnalysis.root\n",
      "/eos/user/s/skyriaco/Offshell/Syst/200205_CutBased/MC_2018/OffshellAC/gg/ggTo4e_0PHf05ph0H125Contin_MCFM701/ZZ4lAnalysis.root\n",
      "/eos/user/s/skyriaco/Offshell/Syst/200205_CutBased/MC_2018/OffshellAC/gg/ggTo4e_0PHf05ph0H125_MCFM701/ZZ4lAnalysis.root\n",
      "/eos/user/s/skyriaco/Offshell/Syst/200205_CutBased/MC_2018/OffshellAC/gg/ggTo4e_0PL1H125Contin_10GaSM_MCFM701/ZZ4lAnalysis.root\n",
      "/eos/user/s/skyriaco/Offshell/Syst/200205_CutBased/MC_2018/OffshellAC/gg/ggTo4e_0PL1H125Contin_MCFM701/ZZ4lAnalysis.root\n",
      "/eos/user/s/skyriaco/Offshell/Syst/200205_CutBased/MC_2018/OffshellAC/gg/ggTo4e_0PL1H125_MCFM701/ZZ4lAnalysis.root\n",
      "/eos/user/s/skyriaco/Offshell/Syst/200205_CutBased/MC_2018/OffshellAC/gg/ggTo4e_0PL1f05ph0H125Contin_10GaSM_MCFM701/ZZ4lAnalysis.root\n",
      "/eos/user/s/skyriaco/Offshell/Syst/200205_CutBased/MC_2018/OffshellAC/gg/ggTo4e_0PL1f05ph0H125Contin_MCFM701/ZZ4lAnalysis.root\n",
      "/eos/user/s/skyriaco/Offshell/Syst/200205_CutBased/MC_2018/OffshellAC/gg/ggTo4e_0PL1f05ph0H125_MCFM701/ZZ4lAnalysis.root\n",
      "/eos/user/s/skyriaco/Offshell/Syst/200205_CutBased/MC_2018/OffshellAC/gg/ggTo4e_0PMH125Contin_10GaSM_MCFM701/ZZ4lAnalysis.root\n",
      "/eos/user/s/skyriaco/Offshell/Syst/200205_CutBased/MC_2018/OffshellAC/gg/ggTo4e_0PMH125Contin_MCFM701/ZZ4lAnalysis.root\n",
      "/eos/user/s/skyriaco/Offshell/Syst/200205_CutBased/MC_2018/OffshellAC/gg/ggTo4e_0PMH125_MCFM701/ZZ4lAnalysis.root\n",
      "/eos/user/s/skyriaco/Offshell/Syst/200205_CutBased/MC_2018/OffshellAC/gg/ggTo4e_Contin_MCFM701/ZZ4lAnalysis.root\n",
      "/eos/user/s/skyriaco/Offshell/Syst/200205_CutBased/MC_2018/OffshellAC/gg/ggTo4mu_0MH125Contin_10GaSM_MCFM701/ZZ4lAnalysis.root\n",
      "/eos/user/s/skyriaco/Offshell/Syst/200205_CutBased/MC_2018/OffshellAC/gg/ggTo4mu_0MH125Contin_MCFM701/ZZ4lAnalysis.root\n",
      "/eos/user/s/skyriaco/Offshell/Syst/200205_CutBased/MC_2018/OffshellAC/gg/ggTo4mu_0MH125_MCFM701/ZZ4lAnalysis.root\n",
      "/eos/user/s/skyriaco/Offshell/Syst/200205_CutBased/MC_2018/OffshellAC/gg/ggTo4mu_0Mf05ph0H125Contin_10GaSM_MCFM701/ZZ4lAnalysis.root\n",
      "/eos/user/s/skyriaco/Offshell/Syst/200205_CutBased/MC_2018/OffshellAC/gg/ggTo4mu_0Mf05ph0H125Contin_MCFM701/ZZ4lAnalysis.root\n",
      "/eos/user/s/skyriaco/Offshell/Syst/200205_CutBased/MC_2018/OffshellAC/gg/ggTo4mu_0Mf05ph0H125_MCFM701/ZZ4lAnalysis.root\n",
      "/eos/user/s/skyriaco/Offshell/Syst/200205_CutBased/MC_2018/OffshellAC/gg/ggTo4mu_0PHH125Contin_MCFM701/ZZ4lAnalysis.root\n",
      "/eos/user/s/skyriaco/Offshell/Syst/200205_CutBased/MC_2018/OffshellAC/gg/ggTo4mu_0PHH125_MCFM701/ZZ4lAnalysis.root\n",
      "/eos/user/s/skyriaco/Offshell/Syst/200205_CutBased/MC_2018/OffshellAC/gg/ggTo4mu_0PHf05ph0H125Contin_10GaSM_MCFM701/ZZ4lAnalysis.root\n",
      "/eos/user/s/skyriaco/Offshell/Syst/200205_CutBased/MC_2018/OffshellAC/gg/ggTo4mu_0PHf05ph0H125Contin_MCFM701/ZZ4lAnalysis.root\n",
      "/eos/user/s/skyriaco/Offshell/Syst/200205_CutBased/MC_2018/OffshellAC/gg/ggTo4mu_0PHf05ph0H125_MCFM701/ZZ4lAnalysis.root\n",
      "/eos/user/s/skyriaco/Offshell/Syst/200205_CutBased/MC_2018/OffshellAC/gg/ggTo4mu_0PL1H125Contin_MCFM701/ZZ4lAnalysis.root\n",
      "/eos/user/s/skyriaco/Offshell/Syst/200205_CutBased/MC_2018/OffshellAC/gg/ggTo4mu_0PL1H125_MCFM701/ZZ4lAnalysis.root\n",
      "/eos/user/s/skyriaco/Offshell/Syst/200205_CutBased/MC_2018/OffshellAC/gg/ggTo4mu_0PL1f05ph0H125Contin_10GaSM_MCFM701/ZZ4lAnalysis.root\n",
      "/eos/user/s/skyriaco/Offshell/Syst/200205_CutBased/MC_2018/OffshellAC/gg/ggTo4mu_0PL1f05ph0H125Contin_MCFM701/ZZ4lAnalysis.root\n",
      "/eos/user/s/skyriaco/Offshell/Syst/200205_CutBased/MC_2018/OffshellAC/gg/ggTo4mu_0PL1f05ph0H125_MCFM701/ZZ4lAnalysis.root\n",
      "/eos/user/s/skyriaco/Offshell/Syst/200205_CutBased/MC_2018/OffshellAC/gg/ggTo4mu_0PMH125Contin_MCFM701/ZZ4lAnalysis.root\n",
      "/eos/user/s/skyriaco/Offshell/Syst/200205_CutBased/MC_2018/OffshellAC/gg/ggTo4mu_0PMH125_MCFM701/ZZ4lAnalysis.root\n",
      "/eos/user/s/skyriaco/Offshell/Syst/200205_CutBased/MC_2018/OffshellAC/gg/ggTo4mu_Contin_MCFM701/ZZ4lAnalysis.root\n",
      "/eos/user/s/skyriaco/Offshell/Syst/200205_CutBased/MC_2018/ZZTo4lext1/ZZ4lAnalysis.root\n",
      "/eos/user/s/skyriaco/Offshell/Syst/200205_CutBased/MC_2018/ZZTo4lext2/ZZ4lAnalysis.root\n"
     ]
    }
   ],
   "source": [
    "for t in treelist:\n",
    "    #if \"VBF\" in t:\n",
    "         print(t)"
   ]
  },
  {
   "cell_type": "code",
   "execution_count": 12,
   "id": "89141904",
   "metadata": {
    "scrolled": true
   },
   "outputs": [
    {
     "data": {
      "application/vnd.jupyter.widget-view+json": {
       "model_id": "8fc42717a3aa445597d9464f66b795a8",
       "version_major": 2,
       "version_minor": 0
      },
      "text/plain": [
       "  0%|          | 0/230 [00:00<?, ?it/s]"
      ]
     },
     "metadata": {},
     "output_type": "display_data"
    }
   ],
   "source": [
    "yeardict = {}\n",
    "\n",
    "for numfile in trange(len(treelist)):\n",
    "    filename = treelist[numfile]\n",
    "    ind = filename.split(\"/\").index(\"200205_CutBased\")\n",
    "#     tagtreefile = \"/\".join(filename.split(\"/\")[ind:])\n",
    "    year = filename.split(\"/\")[ind:][1]\n",
    "#     print(year)\n",
    "    if year not in yeardict.keys():\n",
    "        yeardict[year] = {}\n",
    "    else:\n",
    "        if \"ZZTo4l\" in filename.split(\"/\")[ind:][2]: prod = \"ZZTo4l\"\n",
    "        else: prod = filename.split(\"/\")[ind:][3]\n",
    "            \n",
    "        if prod not in yeardict[year]:\n",
    "            if 'gg' in prod:\n",
    "                yeardict[year][prod] = [[], [], []]\n",
    "            else:\n",
    "                yeardict[year][prod] = [[]]\n",
    "        if prod == 'gg':\n",
    "            if 'ggTo2e2mu' in filename:\n",
    "                yeardict[year][prod][0].append(filename)\n",
    "            elif 'ggTo4e' in filename:\n",
    "                yeardict[year][prod][1].append(filename)\n",
    "            elif 'ggTo4mu' in filename:\n",
    "                yeardict[year][prod][2].append(filename)\n",
    "        elif prod == \"VBF\":\n",
    "            yeardict[year][prod][0].append(filename)\n",
    "        elif prod == \"ZZTo4l\":\n",
    "            yeardict[year][prod][0].append(filename)\n",
    "        else:\n",
    "            print(\"ERROR: Cannot recognize production mode of \" + filename + \"! Tree not sorted!\")"
   ]
  },
  {
   "cell_type": "markdown",
   "id": "c17e73af",
   "metadata": {},
   "source": [
    "### Check organized trees"
   ]
  },
  {
   "cell_type": "code",
   "execution_count": 13,
   "id": "d406f4d6",
   "metadata": {},
   "outputs": [
    {
     "data": {
      "text/plain": [
       "{'MC_2016_CorrectBTag': {'VBF': [['/eos/user/s/skyriaco/Offshell/Syst/200205_CutBased/MC_2016_CorrectBTag/OffshellAC/VBF/VBFToHiggs0L1ContinToZZTo4l_M125_GaSM/ZZ4lAnalysis.root',\n",
       "    '/eos/user/s/skyriaco/Offshell/Syst/200205_CutBased/MC_2016_CorrectBTag/OffshellAC/VBF/VBFToHiggs0L1f05ph0ContinToZZTo4l_M125_GaSM/ZZ4lAnalysis.root',\n",
       "    '/eos/user/s/skyriaco/Offshell/Syst/200205_CutBased/MC_2016_CorrectBTag/OffshellAC/VBF/VBFToHiggs0MContinToZZTo4l_M125_GaSM/ZZ4lAnalysis.root',\n",
       "    '/eos/user/s/skyriaco/Offshell/Syst/200205_CutBased/MC_2016_CorrectBTag/OffshellAC/VBF/VBFToHiggs0MToZZTo4l_M125_GaSM/ZZ4lAnalysis.root',\n",
       "    '/eos/user/s/skyriaco/Offshell/Syst/200205_CutBased/MC_2016_CorrectBTag/OffshellAC/VBF/VBFToHiggs0Mf025ph0ToZZTo4l_M125_GaSM/ZZ4lAnalysis.root',\n",
       "    '/eos/user/s/skyriaco/Offshell/Syst/200205_CutBased/MC_2016_CorrectBTag/OffshellAC/VBF/VBFToHiggs0Mf05ph0ToZZTo4l_M125_GaSM/ZZ4lAnalysis.root',\n",
       "    '/eos/user/s/skyriaco/Offshell/Syst/200205_CutBased/MC_2016_CorrectBTag/OffshellAC/VBF/VBFToHiggs0Mf075ph0ToZZTo4l_M125_GaSM/ZZ4lAnalysis.root',\n",
       "    '/eos/user/s/skyriaco/Offshell/Syst/200205_CutBased/MC_2016_CorrectBTag/OffshellAC/VBF/VBFToHiggs0PHContinToZZTo4l_M125_GaSM/ZZ4lAnalysis.root',\n",
       "    '/eos/user/s/skyriaco/Offshell/Syst/200205_CutBased/MC_2016_CorrectBTag/OffshellAC/VBF/VBFToHiggs0PHToZZTo4l_M125_GaSM/ZZ4lAnalysis.root',\n",
       "    '/eos/user/s/skyriaco/Offshell/Syst/200205_CutBased/MC_2016_CorrectBTag/OffshellAC/VBF/VBFToHiggs0PHf025ph0ToZZTo4l_M125_GaSM/ZZ4lAnalysis.root']],\n",
       "  'gg': [['/eos/user/s/skyriaco/Offshell/Syst/200205_CutBased/MC_2016_CorrectBTag/OffshellAC/gg/ggTo2e2mu_0MH125Contin_10GaSM_MCFM701/ZZ4lAnalysis.root',\n",
       "    '/eos/user/s/skyriaco/Offshell/Syst/200205_CutBased/MC_2016_CorrectBTag/OffshellAC/gg/ggTo2e2mu_0MH125Contin_MCFM701/ZZ4lAnalysis.root',\n",
       "    '/eos/user/s/skyriaco/Offshell/Syst/200205_CutBased/MC_2016_CorrectBTag/OffshellAC/gg/ggTo2e2mu_0MH125_MCFM701/ZZ4lAnalysis.root',\n",
       "    '/eos/user/s/skyriaco/Offshell/Syst/200205_CutBased/MC_2016_CorrectBTag/OffshellAC/gg/ggTo2e2mu_0Mf05ph0H125Contin_10GaSM_MCFM701/ZZ4lAnalysis.root',\n",
       "    '/eos/user/s/skyriaco/Offshell/Syst/200205_CutBased/MC_2016_CorrectBTag/OffshellAC/gg/ggTo2e2mu_0Mf05ph0H125Contin_MCFM701/ZZ4lAnalysis.root',\n",
       "    '/eos/user/s/skyriaco/Offshell/Syst/200205_CutBased/MC_2016_CorrectBTag/OffshellAC/gg/ggTo2e2mu_0Mf05ph0H125_MCFM701/ZZ4lAnalysis.root',\n",
       "    '/eos/user/s/skyriaco/Offshell/Syst/200205_CutBased/MC_2016_CorrectBTag/OffshellAC/gg/ggTo2e2mu_0PHH125Contin_10GaSM_MCFM701/ZZ4lAnalysis.root',\n",
       "    '/eos/user/s/skyriaco/Offshell/Syst/200205_CutBased/MC_2016_CorrectBTag/OffshellAC/gg/ggTo2e2mu_0PHH125Contin_MCFM701/ZZ4lAnalysis.root',\n",
       "    '/eos/user/s/skyriaco/Offshell/Syst/200205_CutBased/MC_2016_CorrectBTag/OffshellAC/gg/ggTo2e2mu_0PHH125_MCFM701/ZZ4lAnalysis.root',\n",
       "    '/eos/user/s/skyriaco/Offshell/Syst/200205_CutBased/MC_2016_CorrectBTag/OffshellAC/gg/ggTo2e2mu_0PHf05ph0H125Contin_10GaSM_MCFM701/ZZ4lAnalysis.root',\n",
       "    '/eos/user/s/skyriaco/Offshell/Syst/200205_CutBased/MC_2016_CorrectBTag/OffshellAC/gg/ggTo2e2mu_0PHf05ph0H125Contin_MCFM701/ZZ4lAnalysis.root',\n",
       "    '/eos/user/s/skyriaco/Offshell/Syst/200205_CutBased/MC_2016_CorrectBTag/OffshellAC/gg/ggTo2e2mu_0PHf05ph0H125_MCFM701/ZZ4lAnalysis.root',\n",
       "    '/eos/user/s/skyriaco/Offshell/Syst/200205_CutBased/MC_2016_CorrectBTag/OffshellAC/gg/ggTo2e2mu_0PL1H125Contin_10GaSM_MCFM701/ZZ4lAnalysis.root',\n",
       "    '/eos/user/s/skyriaco/Offshell/Syst/200205_CutBased/MC_2016_CorrectBTag/OffshellAC/gg/ggTo2e2mu_0PL1H125Contin_MCFM701/ZZ4lAnalysis.root',\n",
       "    '/eos/user/s/skyriaco/Offshell/Syst/200205_CutBased/MC_2016_CorrectBTag/OffshellAC/gg/ggTo2e2mu_0PL1H125_MCFM701/ZZ4lAnalysis.root',\n",
       "    '/eos/user/s/skyriaco/Offshell/Syst/200205_CutBased/MC_2016_CorrectBTag/OffshellAC/gg/ggTo2e2mu_0PL1f05ph0H125Contin_10GaSM_MCFM701/ZZ4lAnalysis.root',\n",
       "    '/eos/user/s/skyriaco/Offshell/Syst/200205_CutBased/MC_2016_CorrectBTag/OffshellAC/gg/ggTo2e2mu_0PL1f05ph0H125_MCFM701/ZZ4lAnalysis.root',\n",
       "    '/eos/user/s/skyriaco/Offshell/Syst/200205_CutBased/MC_2016_CorrectBTag/OffshellAC/gg/ggTo2e2mu_0PMH125Contin_10GaSM_MCFM701/ZZ4lAnalysis.root',\n",
       "    '/eos/user/s/skyriaco/Offshell/Syst/200205_CutBased/MC_2016_CorrectBTag/OffshellAC/gg/ggTo2e2mu_0PMH125Contin_MCFM701/ZZ4lAnalysis.root',\n",
       "    '/eos/user/s/skyriaco/Offshell/Syst/200205_CutBased/MC_2016_CorrectBTag/OffshellAC/gg/ggTo2e2mu_0PMH125_MCFM701/ZZ4lAnalysis.root',\n",
       "    '/eos/user/s/skyriaco/Offshell/Syst/200205_CutBased/MC_2016_CorrectBTag/OffshellAC/gg/ggTo2e2mu_ContinDefaultShower_MCFM701/ZZ4lAnalysis.root',\n",
       "    '/eos/user/s/skyriaco/Offshell/Syst/200205_CutBased/MC_2016_CorrectBTag/OffshellAC/gg/ggTo2e2mu_Contin_MCFM701/ZZ4lAnalysis.root'],\n",
       "   ['/eos/user/s/skyriaco/Offshell/Syst/200205_CutBased/MC_2016_CorrectBTag/OffshellAC/gg/ggTo4e_0MH125Contin_10GaSM_MCFM701/ZZ4lAnalysis.root',\n",
       "    '/eos/user/s/skyriaco/Offshell/Syst/200205_CutBased/MC_2016_CorrectBTag/OffshellAC/gg/ggTo4e_0MH125Contin_MCFM701/ZZ4lAnalysis.root',\n",
       "    '/eos/user/s/skyriaco/Offshell/Syst/200205_CutBased/MC_2016_CorrectBTag/OffshellAC/gg/ggTo4e_0MH125_MCFM701/ZZ4lAnalysis.root',\n",
       "    '/eos/user/s/skyriaco/Offshell/Syst/200205_CutBased/MC_2016_CorrectBTag/OffshellAC/gg/ggTo4e_0Mf05ph0H125Contin_10GaSM_MCFM701/ZZ4lAnalysis.root',\n",
       "    '/eos/user/s/skyriaco/Offshell/Syst/200205_CutBased/MC_2016_CorrectBTag/OffshellAC/gg/ggTo4e_0Mf05ph0H125Contin_MCFM701/ZZ4lAnalysis.root',\n",
       "    '/eos/user/s/skyriaco/Offshell/Syst/200205_CutBased/MC_2016_CorrectBTag/OffshellAC/gg/ggTo4e_0Mf05ph0H125_MCFM701/ZZ4lAnalysis.root',\n",
       "    '/eos/user/s/skyriaco/Offshell/Syst/200205_CutBased/MC_2016_CorrectBTag/OffshellAC/gg/ggTo4e_0PHH125Contin_10GaSM_MCFM701/ZZ4lAnalysis.root',\n",
       "    '/eos/user/s/skyriaco/Offshell/Syst/200205_CutBased/MC_2016_CorrectBTag/OffshellAC/gg/ggTo4e_0PHH125Contin_MCFM701/ZZ4lAnalysis.root',\n",
       "    '/eos/user/s/skyriaco/Offshell/Syst/200205_CutBased/MC_2016_CorrectBTag/OffshellAC/gg/ggTo4e_0PHH125_MCFM701/ZZ4lAnalysis.root',\n",
       "    '/eos/user/s/skyriaco/Offshell/Syst/200205_CutBased/MC_2016_CorrectBTag/OffshellAC/gg/ggTo4e_0PHf05ph0H125Contin_10GaSM_MCFM701/ZZ4lAnalysis.root',\n",
       "    '/eos/user/s/skyriaco/Offshell/Syst/200205_CutBased/MC_2016_CorrectBTag/OffshellAC/gg/ggTo4e_0PHf05ph0H125Contin_MCFM701/ZZ4lAnalysis.root',\n",
       "    '/eos/user/s/skyriaco/Offshell/Syst/200205_CutBased/MC_2016_CorrectBTag/OffshellAC/gg/ggTo4e_0PHf05ph0H125_MCFM701/ZZ4lAnalysis.root',\n",
       "    '/eos/user/s/skyriaco/Offshell/Syst/200205_CutBased/MC_2016_CorrectBTag/OffshellAC/gg/ggTo4e_0PL1H125Contin_10GaSM_MCFM701/ZZ4lAnalysis.root',\n",
       "    '/eos/user/s/skyriaco/Offshell/Syst/200205_CutBased/MC_2016_CorrectBTag/OffshellAC/gg/ggTo4e_0PL1H125Contin_MCFM701/ZZ4lAnalysis.root',\n",
       "    '/eos/user/s/skyriaco/Offshell/Syst/200205_CutBased/MC_2016_CorrectBTag/OffshellAC/gg/ggTo4e_0PL1H125_MCFM701/ZZ4lAnalysis.root',\n",
       "    '/eos/user/s/skyriaco/Offshell/Syst/200205_CutBased/MC_2016_CorrectBTag/OffshellAC/gg/ggTo4e_0PL1f05ph0H125Contin_10GaSM_MCFM701/ZZ4lAnalysis.root',\n",
       "    '/eos/user/s/skyriaco/Offshell/Syst/200205_CutBased/MC_2016_CorrectBTag/OffshellAC/gg/ggTo4e_0PL1f05ph0H125Contin_MCFM701/ZZ4lAnalysis.root',\n",
       "    '/eos/user/s/skyriaco/Offshell/Syst/200205_CutBased/MC_2016_CorrectBTag/OffshellAC/gg/ggTo4e_0PL1f05ph0H125_MCFM701/ZZ4lAnalysis.root',\n",
       "    '/eos/user/s/skyriaco/Offshell/Syst/200205_CutBased/MC_2016_CorrectBTag/OffshellAC/gg/ggTo4e_0PMH125Contin_10GaSM_MCFM701/ZZ4lAnalysis.root',\n",
       "    '/eos/user/s/skyriaco/Offshell/Syst/200205_CutBased/MC_2016_CorrectBTag/OffshellAC/gg/ggTo4e_0PMH125Contin_MCFM701/ZZ4lAnalysis.root',\n",
       "    '/eos/user/s/skyriaco/Offshell/Syst/200205_CutBased/MC_2016_CorrectBTag/OffshellAC/gg/ggTo4e_0PMH125_MCFM701/ZZ4lAnalysis.root',\n",
       "    '/eos/user/s/skyriaco/Offshell/Syst/200205_CutBased/MC_2016_CorrectBTag/OffshellAC/gg/ggTo4e_ContinDefaultShower_MCFM701/ZZ4lAnalysis.root',\n",
       "    '/eos/user/s/skyriaco/Offshell/Syst/200205_CutBased/MC_2016_CorrectBTag/OffshellAC/gg/ggTo4e_Contin_MCFM701/ZZ4lAnalysis.root'],\n",
       "   ['/eos/user/s/skyriaco/Offshell/Syst/200205_CutBased/MC_2016_CorrectBTag/OffshellAC/gg/ggTo4mu_0MH125Contin_10GaSM_MCFM701/ZZ4lAnalysis.root',\n",
       "    '/eos/user/s/skyriaco/Offshell/Syst/200205_CutBased/MC_2016_CorrectBTag/OffshellAC/gg/ggTo4mu_0MH125Contin_MCFM701/ZZ4lAnalysis.root',\n",
       "    '/eos/user/s/skyriaco/Offshell/Syst/200205_CutBased/MC_2016_CorrectBTag/OffshellAC/gg/ggTo4mu_0MH125_MCFM701/ZZ4lAnalysis.root',\n",
       "    '/eos/user/s/skyriaco/Offshell/Syst/200205_CutBased/MC_2016_CorrectBTag/OffshellAC/gg/ggTo4mu_0Mf05ph0H125Contin_10GaSM_MCFM701/ZZ4lAnalysis.root',\n",
       "    '/eos/user/s/skyriaco/Offshell/Syst/200205_CutBased/MC_2016_CorrectBTag/OffshellAC/gg/ggTo4mu_0Mf05ph0H125Contin_MCFM701/ZZ4lAnalysis.root',\n",
       "    '/eos/user/s/skyriaco/Offshell/Syst/200205_CutBased/MC_2016_CorrectBTag/OffshellAC/gg/ggTo4mu_0Mf05ph0H125_MCFM701/ZZ4lAnalysis.root',\n",
       "    '/eos/user/s/skyriaco/Offshell/Syst/200205_CutBased/MC_2016_CorrectBTag/OffshellAC/gg/ggTo4mu_0PHH125Contin_10GaSM_MCFM701/ZZ4lAnalysis.root',\n",
       "    '/eos/user/s/skyriaco/Offshell/Syst/200205_CutBased/MC_2016_CorrectBTag/OffshellAC/gg/ggTo4mu_0PHH125Contin_MCFM701/ZZ4lAnalysis.root',\n",
       "    '/eos/user/s/skyriaco/Offshell/Syst/200205_CutBased/MC_2016_CorrectBTag/OffshellAC/gg/ggTo4mu_0PHH125_MCFM701/ZZ4lAnalysis.root',\n",
       "    '/eos/user/s/skyriaco/Offshell/Syst/200205_CutBased/MC_2016_CorrectBTag/OffshellAC/gg/ggTo4mu_0PHf05ph0H125Contin_10GaSM_MCFM701/ZZ4lAnalysis.root',\n",
       "    '/eos/user/s/skyriaco/Offshell/Syst/200205_CutBased/MC_2016_CorrectBTag/OffshellAC/gg/ggTo4mu_0PHf05ph0H125Contin_MCFM701/ZZ4lAnalysis.root',\n",
       "    '/eos/user/s/skyriaco/Offshell/Syst/200205_CutBased/MC_2016_CorrectBTag/OffshellAC/gg/ggTo4mu_0PHf05ph0H125_MCFM701/ZZ4lAnalysis.root',\n",
       "    '/eos/user/s/skyriaco/Offshell/Syst/200205_CutBased/MC_2016_CorrectBTag/OffshellAC/gg/ggTo4mu_0PL1H125Contin_10GaSM_MCFM701/ZZ4lAnalysis.root',\n",
       "    '/eos/user/s/skyriaco/Offshell/Syst/200205_CutBased/MC_2016_CorrectBTag/OffshellAC/gg/ggTo4mu_0PL1H125Contin_MCFM701/ZZ4lAnalysis.root',\n",
       "    '/eos/user/s/skyriaco/Offshell/Syst/200205_CutBased/MC_2016_CorrectBTag/OffshellAC/gg/ggTo4mu_0PL1H125_MCFM701/ZZ4lAnalysis.root',\n",
       "    '/eos/user/s/skyriaco/Offshell/Syst/200205_CutBased/MC_2016_CorrectBTag/OffshellAC/gg/ggTo4mu_0PL1f05ph0H125Contin_10GaSM_MCFM701/ZZ4lAnalysis.root',\n",
       "    '/eos/user/s/skyriaco/Offshell/Syst/200205_CutBased/MC_2016_CorrectBTag/OffshellAC/gg/ggTo4mu_0PL1f05ph0H125Contin_MCFM701/ZZ4lAnalysis.root',\n",
       "    '/eos/user/s/skyriaco/Offshell/Syst/200205_CutBased/MC_2016_CorrectBTag/OffshellAC/gg/ggTo4mu_0PL1f05ph0H125_MCFM701/ZZ4lAnalysis.root',\n",
       "    '/eos/user/s/skyriaco/Offshell/Syst/200205_CutBased/MC_2016_CorrectBTag/OffshellAC/gg/ggTo4mu_0PMH125Contin_10GaSM_MCFM701/ZZ4lAnalysis.root',\n",
       "    '/eos/user/s/skyriaco/Offshell/Syst/200205_CutBased/MC_2016_CorrectBTag/OffshellAC/gg/ggTo4mu_0PMH125Contin_MCFM701/ZZ4lAnalysis.root',\n",
       "    '/eos/user/s/skyriaco/Offshell/Syst/200205_CutBased/MC_2016_CorrectBTag/OffshellAC/gg/ggTo4mu_0PMH125_MCFM701/ZZ4lAnalysis.root',\n",
       "    '/eos/user/s/skyriaco/Offshell/Syst/200205_CutBased/MC_2016_CorrectBTag/OffshellAC/gg/ggTo4mu_ContinDefaultShower_MCFM701/ZZ4lAnalysis.root',\n",
       "    '/eos/user/s/skyriaco/Offshell/Syst/200205_CutBased/MC_2016_CorrectBTag/OffshellAC/gg/ggTo4mu_Contin_MCFM701/ZZ4lAnalysis.root']],\n",
       "  'ZZTo4l': [['/eos/user/s/skyriaco/Offshell/Syst/200205_CutBased/MC_2016_CorrectBTag/ZZTo4l/ZZ4lAnalysis.root',\n",
       "    '/eos/user/s/skyriaco/Offshell/Syst/200205_CutBased/MC_2016_CorrectBTag/ZZTo4lext/ZZ4lAnalysis.root']]},\n",
       " 'MC_2017': {'VBF': [['/eos/user/s/skyriaco/Offshell/Syst/200205_CutBased/MC_2017/OffshellAC/VBF/VBFToHiggs0L1ContinToZZTo4l_M125_GaSM/ZZ4lAnalysis.root',\n",
       "    '/eos/user/s/skyriaco/Offshell/Syst/200205_CutBased/MC_2017/OffshellAC/VBF/VBFToHiggs0MContinToZZTo4l_M125_GaSM/ZZ4lAnalysis.root',\n",
       "    '/eos/user/s/skyriaco/Offshell/Syst/200205_CutBased/MC_2017/OffshellAC/VBF/VBFToHiggs0MToZZTo4l_M125_GaSM/ZZ4lAnalysis.root',\n",
       "    '/eos/user/s/skyriaco/Offshell/Syst/200205_CutBased/MC_2017/OffshellAC/VBF/VBFToHiggs0Mf025ph0ToZZTo4l_M125_GaSM/ZZ4lAnalysis.root',\n",
       "    '/eos/user/s/skyriaco/Offshell/Syst/200205_CutBased/MC_2017/OffshellAC/VBF/VBFToHiggs0Mf05ph0ToZZTo4l_M125_GaSM/ZZ4lAnalysis.root',\n",
       "    '/eos/user/s/skyriaco/Offshell/Syst/200205_CutBased/MC_2017/OffshellAC/VBF/VBFToHiggs0Mf075ph0ToZZTo4l_M125_GaSM/ZZ4lAnalysis.root',\n",
       "    '/eos/user/s/skyriaco/Offshell/Syst/200205_CutBased/MC_2017/OffshellAC/VBF/VBFToHiggs0PHContinToZZTo4l_M125_GaSM/ZZ4lAnalysis.root',\n",
       "    '/eos/user/s/skyriaco/Offshell/Syst/200205_CutBased/MC_2017/OffshellAC/VBF/VBFToHiggs0PHToZZTo4l_M125_GaSM/ZZ4lAnalysis.root',\n",
       "    '/eos/user/s/skyriaco/Offshell/Syst/200205_CutBased/MC_2017/OffshellAC/VBF/VBFToHiggs0PHf025ph0ToZZTo4l_M125_GaSM/ZZ4lAnalysis.root',\n",
       "    '/eos/user/s/skyriaco/Offshell/Syst/200205_CutBased/MC_2017/OffshellAC/VBF/VBFToHiggs0PHf075ph0ToZZTo4l_M125_GaSM/ZZ4lAnalysis.root',\n",
       "    '/eos/user/s/skyriaco/Offshell/Syst/200205_CutBased/MC_2017/OffshellAC/VBF/VBFToHiggs0PMToZZTo4l_M125_GaSM/ZZ4lAnalysis.root']],\n",
       "  'gg': [['/eos/user/s/skyriaco/Offshell/Syst/200205_CutBased/MC_2017/OffshellAC/gg/ggTo2e2mu_0MH125Contin_10GaSM_MCFM701/ZZ4lAnalysis.root',\n",
       "    '/eos/user/s/skyriaco/Offshell/Syst/200205_CutBased/MC_2017/OffshellAC/gg/ggTo2e2mu_0MH125Contin_MCFM701/ZZ4lAnalysis.root',\n",
       "    '/eos/user/s/skyriaco/Offshell/Syst/200205_CutBased/MC_2017/OffshellAC/gg/ggTo2e2mu_0MH125_MCFM701/ZZ4lAnalysis.root',\n",
       "    '/eos/user/s/skyriaco/Offshell/Syst/200205_CutBased/MC_2017/OffshellAC/gg/ggTo2e2mu_0Mf05ph0H125Contin_10GaSM_MCFM701/ZZ4lAnalysis.root',\n",
       "    '/eos/user/s/skyriaco/Offshell/Syst/200205_CutBased/MC_2017/OffshellAC/gg/ggTo2e2mu_0Mf05ph0H125Contin_MCFM701/ZZ4lAnalysis.root',\n",
       "    '/eos/user/s/skyriaco/Offshell/Syst/200205_CutBased/MC_2017/OffshellAC/gg/ggTo2e2mu_0Mf05ph0H125_MCFM701/ZZ4lAnalysis.root',\n",
       "    '/eos/user/s/skyriaco/Offshell/Syst/200205_CutBased/MC_2017/OffshellAC/gg/ggTo2e2mu_0PHH125Contin_10GaSM_MCFM701/ZZ4lAnalysis.root',\n",
       "    '/eos/user/s/skyriaco/Offshell/Syst/200205_CutBased/MC_2017/OffshellAC/gg/ggTo2e2mu_0PHH125Contin_MCFM701/ZZ4lAnalysis.root',\n",
       "    '/eos/user/s/skyriaco/Offshell/Syst/200205_CutBased/MC_2017/OffshellAC/gg/ggTo2e2mu_0PHH125_MCFM701/ZZ4lAnalysis.root',\n",
       "    '/eos/user/s/skyriaco/Offshell/Syst/200205_CutBased/MC_2017/OffshellAC/gg/ggTo2e2mu_0PHf05ph0H125Contin_10GaSM_MCFM701/ZZ4lAnalysis.root',\n",
       "    '/eos/user/s/skyriaco/Offshell/Syst/200205_CutBased/MC_2017/OffshellAC/gg/ggTo2e2mu_0PHf05ph0H125Contin_MCFM701/ZZ4lAnalysis.root',\n",
       "    '/eos/user/s/skyriaco/Offshell/Syst/200205_CutBased/MC_2017/OffshellAC/gg/ggTo2e2mu_0PHf05ph0H125_MCFM701/ZZ4lAnalysis.root',\n",
       "    '/eos/user/s/skyriaco/Offshell/Syst/200205_CutBased/MC_2017/OffshellAC/gg/ggTo2e2mu_0PL1H125Contin_10GaSM_MCFM701/ZZ4lAnalysis.root',\n",
       "    '/eos/user/s/skyriaco/Offshell/Syst/200205_CutBased/MC_2017/OffshellAC/gg/ggTo2e2mu_0PL1H125Contin_MCFM701/ZZ4lAnalysis.root',\n",
       "    '/eos/user/s/skyriaco/Offshell/Syst/200205_CutBased/MC_2017/OffshellAC/gg/ggTo2e2mu_0PL1H125_MCFM701/ZZ4lAnalysis.root',\n",
       "    '/eos/user/s/skyriaco/Offshell/Syst/200205_CutBased/MC_2017/OffshellAC/gg/ggTo2e2mu_0PL1f05ph0H125Contin_10GaSM_MCFM701/ZZ4lAnalysis.root',\n",
       "    '/eos/user/s/skyriaco/Offshell/Syst/200205_CutBased/MC_2017/OffshellAC/gg/ggTo2e2mu_0PL1f05ph0H125Contin_MCFM701/ZZ4lAnalysis.root',\n",
       "    '/eos/user/s/skyriaco/Offshell/Syst/200205_CutBased/MC_2017/OffshellAC/gg/ggTo2e2mu_0PL1f05ph0H125_MCFM701/ZZ4lAnalysis.root',\n",
       "    '/eos/user/s/skyriaco/Offshell/Syst/200205_CutBased/MC_2017/OffshellAC/gg/ggTo2e2mu_0PMH125Contin_10GaSM_MCFM701/ZZ4lAnalysis.root',\n",
       "    '/eos/user/s/skyriaco/Offshell/Syst/200205_CutBased/MC_2017/OffshellAC/gg/ggTo2e2mu_0PMH125Contin_MCFM701/ZZ4lAnalysis.root',\n",
       "    '/eos/user/s/skyriaco/Offshell/Syst/200205_CutBased/MC_2017/OffshellAC/gg/ggTo2e2mu_0PMH125_MCFM701/ZZ4lAnalysis.root',\n",
       "    '/eos/user/s/skyriaco/Offshell/Syst/200205_CutBased/MC_2017/OffshellAC/gg/ggTo2e2mu_Contin_MCFM701/ZZ4lAnalysis.root'],\n",
       "   ['/eos/user/s/skyriaco/Offshell/Syst/200205_CutBased/MC_2017/OffshellAC/gg/ggTo4e_0MH125Contin_10GaSM_MCFM701/ZZ4lAnalysis.root',\n",
       "    '/eos/user/s/skyriaco/Offshell/Syst/200205_CutBased/MC_2017/OffshellAC/gg/ggTo4e_0MH125Contin_MCFM701/ZZ4lAnalysis.root',\n",
       "    '/eos/user/s/skyriaco/Offshell/Syst/200205_CutBased/MC_2017/OffshellAC/gg/ggTo4e_0MH125_MCFM701/ZZ4lAnalysis.root',\n",
       "    '/eos/user/s/skyriaco/Offshell/Syst/200205_CutBased/MC_2017/OffshellAC/gg/ggTo4e_0Mf05ph0H125Contin_10GaSM_MCFM701/ZZ4lAnalysis.root',\n",
       "    '/eos/user/s/skyriaco/Offshell/Syst/200205_CutBased/MC_2017/OffshellAC/gg/ggTo4e_0Mf05ph0H125Contin_MCFM701/ZZ4lAnalysis.root',\n",
       "    '/eos/user/s/skyriaco/Offshell/Syst/200205_CutBased/MC_2017/OffshellAC/gg/ggTo4e_0Mf05ph0H125_MCFM701/ZZ4lAnalysis.root',\n",
       "    '/eos/user/s/skyriaco/Offshell/Syst/200205_CutBased/MC_2017/OffshellAC/gg/ggTo4e_0PHH125Contin_MCFM701/ZZ4lAnalysis.root',\n",
       "    '/eos/user/s/skyriaco/Offshell/Syst/200205_CutBased/MC_2017/OffshellAC/gg/ggTo4e_0PHH125_MCFM701/ZZ4lAnalysis.root',\n",
       "    '/eos/user/s/skyriaco/Offshell/Syst/200205_CutBased/MC_2017/OffshellAC/gg/ggTo4e_0PHf05ph0H125Contin_10GaSM_MCFM701/ZZ4lAnalysis.root',\n",
       "    '/eos/user/s/skyriaco/Offshell/Syst/200205_CutBased/MC_2017/OffshellAC/gg/ggTo4e_0PHf05ph0H125Contin_MCFM701/ZZ4lAnalysis.root',\n",
       "    '/eos/user/s/skyriaco/Offshell/Syst/200205_CutBased/MC_2017/OffshellAC/gg/ggTo4e_0PHf05ph0H125_MCFM701/ZZ4lAnalysis.root',\n",
       "    '/eos/user/s/skyriaco/Offshell/Syst/200205_CutBased/MC_2017/OffshellAC/gg/ggTo4e_0PL1H125Contin_10GaSM_MCFM701/ZZ4lAnalysis.root',\n",
       "    '/eos/user/s/skyriaco/Offshell/Syst/200205_CutBased/MC_2017/OffshellAC/gg/ggTo4e_0PL1H125Contin_MCFM701/ZZ4lAnalysis.root',\n",
       "    '/eos/user/s/skyriaco/Offshell/Syst/200205_CutBased/MC_2017/OffshellAC/gg/ggTo4e_0PL1H125_MCFM701/ZZ4lAnalysis.root',\n",
       "    '/eos/user/s/skyriaco/Offshell/Syst/200205_CutBased/MC_2017/OffshellAC/gg/ggTo4e_0PL1f05ph0H125Contin_10GaSM_MCFM701/ZZ4lAnalysis.root',\n",
       "    '/eos/user/s/skyriaco/Offshell/Syst/200205_CutBased/MC_2017/OffshellAC/gg/ggTo4e_0PL1f05ph0H125Contin_MCFM701/ZZ4lAnalysis.root',\n",
       "    '/eos/user/s/skyriaco/Offshell/Syst/200205_CutBased/MC_2017/OffshellAC/gg/ggTo4e_0PL1f05ph0H125_MCFM701/ZZ4lAnalysis.root',\n",
       "    '/eos/user/s/skyriaco/Offshell/Syst/200205_CutBased/MC_2017/OffshellAC/gg/ggTo4e_0PMH125Contin_10GaSM_MCFM701/ZZ4lAnalysis.root',\n",
       "    '/eos/user/s/skyriaco/Offshell/Syst/200205_CutBased/MC_2017/OffshellAC/gg/ggTo4e_0PMH125Contin_MCFM701/ZZ4lAnalysis.root',\n",
       "    '/eos/user/s/skyriaco/Offshell/Syst/200205_CutBased/MC_2017/OffshellAC/gg/ggTo4e_0PMH125_MCFM701/ZZ4lAnalysis.root',\n",
       "    '/eos/user/s/skyriaco/Offshell/Syst/200205_CutBased/MC_2017/OffshellAC/gg/ggTo4e_Contin_MCFM701/ZZ4lAnalysis.root'],\n",
       "   ['/eos/user/s/skyriaco/Offshell/Syst/200205_CutBased/MC_2017/OffshellAC/gg/ggTo4mu_0MH125Contin_10GaSM_MCFM701/ZZ4lAnalysis.root',\n",
       "    '/eos/user/s/skyriaco/Offshell/Syst/200205_CutBased/MC_2017/OffshellAC/gg/ggTo4mu_0MH125Contin_MCFM701/ZZ4lAnalysis.root',\n",
       "    '/eos/user/s/skyriaco/Offshell/Syst/200205_CutBased/MC_2017/OffshellAC/gg/ggTo4mu_0MH125_MCFM701/ZZ4lAnalysis.root',\n",
       "    '/eos/user/s/skyriaco/Offshell/Syst/200205_CutBased/MC_2017/OffshellAC/gg/ggTo4mu_0Mf05ph0H125Contin_10GaSM_MCFM701/ZZ4lAnalysis.root',\n",
       "    '/eos/user/s/skyriaco/Offshell/Syst/200205_CutBased/MC_2017/OffshellAC/gg/ggTo4mu_0Mf05ph0H125Contin_MCFM701/ZZ4lAnalysis.root',\n",
       "    '/eos/user/s/skyriaco/Offshell/Syst/200205_CutBased/MC_2017/OffshellAC/gg/ggTo4mu_0Mf05ph0H125_MCFM701/ZZ4lAnalysis.root',\n",
       "    '/eos/user/s/skyriaco/Offshell/Syst/200205_CutBased/MC_2017/OffshellAC/gg/ggTo4mu_0PHH125Contin_MCFM701/ZZ4lAnalysis.root',\n",
       "    '/eos/user/s/skyriaco/Offshell/Syst/200205_CutBased/MC_2017/OffshellAC/gg/ggTo4mu_0PHH125_MCFM701/ZZ4lAnalysis.root',\n",
       "    '/eos/user/s/skyriaco/Offshell/Syst/200205_CutBased/MC_2017/OffshellAC/gg/ggTo4mu_0PHf05ph0H125Contin_10GaSM_MCFM701/ZZ4lAnalysis.root',\n",
       "    '/eos/user/s/skyriaco/Offshell/Syst/200205_CutBased/MC_2017/OffshellAC/gg/ggTo4mu_0PHf05ph0H125Contin_MCFM701/ZZ4lAnalysis.root',\n",
       "    '/eos/user/s/skyriaco/Offshell/Syst/200205_CutBased/MC_2017/OffshellAC/gg/ggTo4mu_0PHf05ph0H125_MCFM701/ZZ4lAnalysis.root',\n",
       "    '/eos/user/s/skyriaco/Offshell/Syst/200205_CutBased/MC_2017/OffshellAC/gg/ggTo4mu_0PL1H125Contin_MCFM701/ZZ4lAnalysis.root',\n",
       "    '/eos/user/s/skyriaco/Offshell/Syst/200205_CutBased/MC_2017/OffshellAC/gg/ggTo4mu_0PL1H125_MCFM701/ZZ4lAnalysis.root',\n",
       "    '/eos/user/s/skyriaco/Offshell/Syst/200205_CutBased/MC_2017/OffshellAC/gg/ggTo4mu_0PL1f05ph0H125Contin_10GaSM_MCFM701/ZZ4lAnalysis.root',\n",
       "    '/eos/user/s/skyriaco/Offshell/Syst/200205_CutBased/MC_2017/OffshellAC/gg/ggTo4mu_0PL1f05ph0H125Contin_MCFM701/ZZ4lAnalysis.root',\n",
       "    '/eos/user/s/skyriaco/Offshell/Syst/200205_CutBased/MC_2017/OffshellAC/gg/ggTo4mu_0PL1f05ph0H125_MCFM701/ZZ4lAnalysis.root',\n",
       "    '/eos/user/s/skyriaco/Offshell/Syst/200205_CutBased/MC_2017/OffshellAC/gg/ggTo4mu_0PMH125Contin_10GaSM_MCFM701/ZZ4lAnalysis.root',\n",
       "    '/eos/user/s/skyriaco/Offshell/Syst/200205_CutBased/MC_2017/OffshellAC/gg/ggTo4mu_0PMH125Contin_MCFM701/ZZ4lAnalysis.root',\n",
       "    '/eos/user/s/skyriaco/Offshell/Syst/200205_CutBased/MC_2017/OffshellAC/gg/ggTo4mu_0PMH125_MCFM701/ZZ4lAnalysis.root',\n",
       "    '/eos/user/s/skyriaco/Offshell/Syst/200205_CutBased/MC_2017/OffshellAC/gg/ggTo4mu_Contin_MCFM701/ZZ4lAnalysis.root']],\n",
       "  'ZZTo4l': [['/eos/user/s/skyriaco/Offshell/Syst/200205_CutBased/MC_2017/ZZTo4l/ZZ4lAnalysis.root',\n",
       "    '/eos/user/s/skyriaco/Offshell/Syst/200205_CutBased/MC_2017/ZZTo4lext/ZZ4lAnalysis.root']]},\n",
       " 'MC_2018': {'VBF': [['/eos/user/s/skyriaco/Offshell/Syst/200205_CutBased/MC_2018/OffshellAC/VBF/VBFToHiggs0L1f025ph0ToZZTo4l_M125_GaSM/ZZ4lAnalysis.root',\n",
       "    '/eos/user/s/skyriaco/Offshell/Syst/200205_CutBased/MC_2018/OffshellAC/VBF/VBFToHiggs0L1f05ph0ToZZTo4l_M125_GaSM/ZZ4lAnalysis.root',\n",
       "    '/eos/user/s/skyriaco/Offshell/Syst/200205_CutBased/MC_2018/OffshellAC/VBF/VBFToHiggs0MToZZTo4l_M125_GaSM/ZZ4lAnalysis.root',\n",
       "    '/eos/user/s/skyriaco/Offshell/Syst/200205_CutBased/MC_2018/OffshellAC/VBF/VBFToHiggs0Mf025ph0ToZZTo4l_M125_GaSM/ZZ4lAnalysis.root',\n",
       "    '/eos/user/s/skyriaco/Offshell/Syst/200205_CutBased/MC_2018/OffshellAC/VBF/VBFToHiggs0Mf075ph0ToZZTo4l_M125_GaSM/ZZ4lAnalysis.root',\n",
       "    '/eos/user/s/skyriaco/Offshell/Syst/200205_CutBased/MC_2018/OffshellAC/VBF/VBFToHiggs0PHContinToZZTo4l_M125_GaSM/ZZ4lAnalysis.root',\n",
       "    '/eos/user/s/skyriaco/Offshell/Syst/200205_CutBased/MC_2018/OffshellAC/VBF/VBFToHiggs0PHf025ph0ToZZTo4l_M125_GaSM/ZZ4lAnalysis.root']],\n",
       "  'gg': [['/eos/user/s/skyriaco/Offshell/Syst/200205_CutBased/MC_2018/OffshellAC/gg/ggTo2e2mu_0MH125Contin_10GaSM_MCFM701/ZZ4lAnalysis.root',\n",
       "    '/eos/user/s/skyriaco/Offshell/Syst/200205_CutBased/MC_2018/OffshellAC/gg/ggTo2e2mu_0MH125Contin_MCFM701/ZZ4lAnalysis.root',\n",
       "    '/eos/user/s/skyriaco/Offshell/Syst/200205_CutBased/MC_2018/OffshellAC/gg/ggTo2e2mu_0MH125_MCFM701/ZZ4lAnalysis.root',\n",
       "    '/eos/user/s/skyriaco/Offshell/Syst/200205_CutBased/MC_2018/OffshellAC/gg/ggTo2e2mu_0Mf05ph0H125Contin_10GaSM_MCFM701/ZZ4lAnalysis.root',\n",
       "    '/eos/user/s/skyriaco/Offshell/Syst/200205_CutBased/MC_2018/OffshellAC/gg/ggTo2e2mu_0Mf05ph0H125Contin_MCFM701/ZZ4lAnalysis.root',\n",
       "    '/eos/user/s/skyriaco/Offshell/Syst/200205_CutBased/MC_2018/OffshellAC/gg/ggTo2e2mu_0Mf05ph0H125_MCFM701/ZZ4lAnalysis.root',\n",
       "    '/eos/user/s/skyriaco/Offshell/Syst/200205_CutBased/MC_2018/OffshellAC/gg/ggTo2e2mu_0PHH125Contin_10GaSM_MCFM701/ZZ4lAnalysis.root',\n",
       "    '/eos/user/s/skyriaco/Offshell/Syst/200205_CutBased/MC_2018/OffshellAC/gg/ggTo2e2mu_0PHH125Contin_MCFM701/ZZ4lAnalysis.root',\n",
       "    '/eos/user/s/skyriaco/Offshell/Syst/200205_CutBased/MC_2018/OffshellAC/gg/ggTo2e2mu_0PHH125_MCFM701/ZZ4lAnalysis.root',\n",
       "    '/eos/user/s/skyriaco/Offshell/Syst/200205_CutBased/MC_2018/OffshellAC/gg/ggTo2e2mu_0PHf05ph0H125Contin_10GaSM_MCFM701/ZZ4lAnalysis.root',\n",
       "    '/eos/user/s/skyriaco/Offshell/Syst/200205_CutBased/MC_2018/OffshellAC/gg/ggTo2e2mu_0PHf05ph0H125Contin_MCFM701/ZZ4lAnalysis.root',\n",
       "    '/eos/user/s/skyriaco/Offshell/Syst/200205_CutBased/MC_2018/OffshellAC/gg/ggTo2e2mu_0PHf05ph0H125_MCFM701/ZZ4lAnalysis.root',\n",
       "    '/eos/user/s/skyriaco/Offshell/Syst/200205_CutBased/MC_2018/OffshellAC/gg/ggTo2e2mu_0PL1H125Contin_10GaSM_MCFM701/ZZ4lAnalysis.root',\n",
       "    '/eos/user/s/skyriaco/Offshell/Syst/200205_CutBased/MC_2018/OffshellAC/gg/ggTo2e2mu_0PL1H125Contin_MCFM701/ZZ4lAnalysis.root',\n",
       "    '/eos/user/s/skyriaco/Offshell/Syst/200205_CutBased/MC_2018/OffshellAC/gg/ggTo2e2mu_0PL1H125_MCFM701/ZZ4lAnalysis.root',\n",
       "    '/eos/user/s/skyriaco/Offshell/Syst/200205_CutBased/MC_2018/OffshellAC/gg/ggTo2e2mu_0PL1f05ph0H125Contin_10GaSM_MCFM701/ZZ4lAnalysis.root',\n",
       "    '/eos/user/s/skyriaco/Offshell/Syst/200205_CutBased/MC_2018/OffshellAC/gg/ggTo2e2mu_0PL1f05ph0H125Contin_MCFM701/ZZ4lAnalysis.root',\n",
       "    '/eos/user/s/skyriaco/Offshell/Syst/200205_CutBased/MC_2018/OffshellAC/gg/ggTo2e2mu_0PL1f05ph0H125_MCFM701/ZZ4lAnalysis.root',\n",
       "    '/eos/user/s/skyriaco/Offshell/Syst/200205_CutBased/MC_2018/OffshellAC/gg/ggTo2e2mu_0PMH125Contin_10GaSM_MCFM701/ZZ4lAnalysis.root',\n",
       "    '/eos/user/s/skyriaco/Offshell/Syst/200205_CutBased/MC_2018/OffshellAC/gg/ggTo2e2mu_0PMH125Contin_MCFM701/ZZ4lAnalysis.root',\n",
       "    '/eos/user/s/skyriaco/Offshell/Syst/200205_CutBased/MC_2018/OffshellAC/gg/ggTo2e2mu_0PMH125_MCFM701/ZZ4lAnalysis.root',\n",
       "    '/eos/user/s/skyriaco/Offshell/Syst/200205_CutBased/MC_2018/OffshellAC/gg/ggTo2e2mu_Contin_MCFM701/ZZ4lAnalysis.root'],\n",
       "   ['/eos/user/s/skyriaco/Offshell/Syst/200205_CutBased/MC_2018/OffshellAC/gg/ggTo4e_0MH125Contin_10GaSM_MCFM701/ZZ4lAnalysis.root',\n",
       "    '/eos/user/s/skyriaco/Offshell/Syst/200205_CutBased/MC_2018/OffshellAC/gg/ggTo4e_0MH125Contin_MCFM701/ZZ4lAnalysis.root',\n",
       "    '/eos/user/s/skyriaco/Offshell/Syst/200205_CutBased/MC_2018/OffshellAC/gg/ggTo4e_0MH125_MCFM701/ZZ4lAnalysis.root',\n",
       "    '/eos/user/s/skyriaco/Offshell/Syst/200205_CutBased/MC_2018/OffshellAC/gg/ggTo4e_0Mf05ph0H125Contin_10GaSM_MCFM701/ZZ4lAnalysis.root',\n",
       "    '/eos/user/s/skyriaco/Offshell/Syst/200205_CutBased/MC_2018/OffshellAC/gg/ggTo4e_0Mf05ph0H125Contin_MCFM701/ZZ4lAnalysis.root',\n",
       "    '/eos/user/s/skyriaco/Offshell/Syst/200205_CutBased/MC_2018/OffshellAC/gg/ggTo4e_0Mf05ph0H125_MCFM701/ZZ4lAnalysis.root',\n",
       "    '/eos/user/s/skyriaco/Offshell/Syst/200205_CutBased/MC_2018/OffshellAC/gg/ggTo4e_0PHH125Contin_MCFM701/ZZ4lAnalysis.root',\n",
       "    '/eos/user/s/skyriaco/Offshell/Syst/200205_CutBased/MC_2018/OffshellAC/gg/ggTo4e_0PHH125_MCFM701/ZZ4lAnalysis.root',\n",
       "    '/eos/user/s/skyriaco/Offshell/Syst/200205_CutBased/MC_2018/OffshellAC/gg/ggTo4e_0PHf05ph0H125Contin_10GaSM_MCFM701/ZZ4lAnalysis.root',\n",
       "    '/eos/user/s/skyriaco/Offshell/Syst/200205_CutBased/MC_2018/OffshellAC/gg/ggTo4e_0PHf05ph0H125Contin_MCFM701/ZZ4lAnalysis.root',\n",
       "    '/eos/user/s/skyriaco/Offshell/Syst/200205_CutBased/MC_2018/OffshellAC/gg/ggTo4e_0PHf05ph0H125_MCFM701/ZZ4lAnalysis.root',\n",
       "    '/eos/user/s/skyriaco/Offshell/Syst/200205_CutBased/MC_2018/OffshellAC/gg/ggTo4e_0PL1H125Contin_10GaSM_MCFM701/ZZ4lAnalysis.root',\n",
       "    '/eos/user/s/skyriaco/Offshell/Syst/200205_CutBased/MC_2018/OffshellAC/gg/ggTo4e_0PL1H125Contin_MCFM701/ZZ4lAnalysis.root',\n",
       "    '/eos/user/s/skyriaco/Offshell/Syst/200205_CutBased/MC_2018/OffshellAC/gg/ggTo4e_0PL1H125_MCFM701/ZZ4lAnalysis.root',\n",
       "    '/eos/user/s/skyriaco/Offshell/Syst/200205_CutBased/MC_2018/OffshellAC/gg/ggTo4e_0PL1f05ph0H125Contin_10GaSM_MCFM701/ZZ4lAnalysis.root',\n",
       "    '/eos/user/s/skyriaco/Offshell/Syst/200205_CutBased/MC_2018/OffshellAC/gg/ggTo4e_0PL1f05ph0H125Contin_MCFM701/ZZ4lAnalysis.root',\n",
       "    '/eos/user/s/skyriaco/Offshell/Syst/200205_CutBased/MC_2018/OffshellAC/gg/ggTo4e_0PL1f05ph0H125_MCFM701/ZZ4lAnalysis.root',\n",
       "    '/eos/user/s/skyriaco/Offshell/Syst/200205_CutBased/MC_2018/OffshellAC/gg/ggTo4e_0PMH125Contin_10GaSM_MCFM701/ZZ4lAnalysis.root',\n",
       "    '/eos/user/s/skyriaco/Offshell/Syst/200205_CutBased/MC_2018/OffshellAC/gg/ggTo4e_0PMH125Contin_MCFM701/ZZ4lAnalysis.root',\n",
       "    '/eos/user/s/skyriaco/Offshell/Syst/200205_CutBased/MC_2018/OffshellAC/gg/ggTo4e_0PMH125_MCFM701/ZZ4lAnalysis.root',\n",
       "    '/eos/user/s/skyriaco/Offshell/Syst/200205_CutBased/MC_2018/OffshellAC/gg/ggTo4e_Contin_MCFM701/ZZ4lAnalysis.root'],\n",
       "   ['/eos/user/s/skyriaco/Offshell/Syst/200205_CutBased/MC_2018/OffshellAC/gg/ggTo4mu_0MH125Contin_10GaSM_MCFM701/ZZ4lAnalysis.root',\n",
       "    '/eos/user/s/skyriaco/Offshell/Syst/200205_CutBased/MC_2018/OffshellAC/gg/ggTo4mu_0MH125Contin_MCFM701/ZZ4lAnalysis.root',\n",
       "    '/eos/user/s/skyriaco/Offshell/Syst/200205_CutBased/MC_2018/OffshellAC/gg/ggTo4mu_0MH125_MCFM701/ZZ4lAnalysis.root',\n",
       "    '/eos/user/s/skyriaco/Offshell/Syst/200205_CutBased/MC_2018/OffshellAC/gg/ggTo4mu_0Mf05ph0H125Contin_10GaSM_MCFM701/ZZ4lAnalysis.root',\n",
       "    '/eos/user/s/skyriaco/Offshell/Syst/200205_CutBased/MC_2018/OffshellAC/gg/ggTo4mu_0Mf05ph0H125Contin_MCFM701/ZZ4lAnalysis.root',\n",
       "    '/eos/user/s/skyriaco/Offshell/Syst/200205_CutBased/MC_2018/OffshellAC/gg/ggTo4mu_0Mf05ph0H125_MCFM701/ZZ4lAnalysis.root',\n",
       "    '/eos/user/s/skyriaco/Offshell/Syst/200205_CutBased/MC_2018/OffshellAC/gg/ggTo4mu_0PHH125Contin_MCFM701/ZZ4lAnalysis.root',\n",
       "    '/eos/user/s/skyriaco/Offshell/Syst/200205_CutBased/MC_2018/OffshellAC/gg/ggTo4mu_0PHH125_MCFM701/ZZ4lAnalysis.root',\n",
       "    '/eos/user/s/skyriaco/Offshell/Syst/200205_CutBased/MC_2018/OffshellAC/gg/ggTo4mu_0PHf05ph0H125Contin_10GaSM_MCFM701/ZZ4lAnalysis.root',\n",
       "    '/eos/user/s/skyriaco/Offshell/Syst/200205_CutBased/MC_2018/OffshellAC/gg/ggTo4mu_0PHf05ph0H125Contin_MCFM701/ZZ4lAnalysis.root',\n",
       "    '/eos/user/s/skyriaco/Offshell/Syst/200205_CutBased/MC_2018/OffshellAC/gg/ggTo4mu_0PHf05ph0H125_MCFM701/ZZ4lAnalysis.root',\n",
       "    '/eos/user/s/skyriaco/Offshell/Syst/200205_CutBased/MC_2018/OffshellAC/gg/ggTo4mu_0PL1H125Contin_MCFM701/ZZ4lAnalysis.root',\n",
       "    '/eos/user/s/skyriaco/Offshell/Syst/200205_CutBased/MC_2018/OffshellAC/gg/ggTo4mu_0PL1H125_MCFM701/ZZ4lAnalysis.root',\n",
       "    '/eos/user/s/skyriaco/Offshell/Syst/200205_CutBased/MC_2018/OffshellAC/gg/ggTo4mu_0PL1f05ph0H125Contin_10GaSM_MCFM701/ZZ4lAnalysis.root',\n",
       "    '/eos/user/s/skyriaco/Offshell/Syst/200205_CutBased/MC_2018/OffshellAC/gg/ggTo4mu_0PL1f05ph0H125Contin_MCFM701/ZZ4lAnalysis.root',\n",
       "    '/eos/user/s/skyriaco/Offshell/Syst/200205_CutBased/MC_2018/OffshellAC/gg/ggTo4mu_0PL1f05ph0H125_MCFM701/ZZ4lAnalysis.root',\n",
       "    '/eos/user/s/skyriaco/Offshell/Syst/200205_CutBased/MC_2018/OffshellAC/gg/ggTo4mu_0PMH125Contin_MCFM701/ZZ4lAnalysis.root',\n",
       "    '/eos/user/s/skyriaco/Offshell/Syst/200205_CutBased/MC_2018/OffshellAC/gg/ggTo4mu_0PMH125_MCFM701/ZZ4lAnalysis.root',\n",
       "    '/eos/user/s/skyriaco/Offshell/Syst/200205_CutBased/MC_2018/OffshellAC/gg/ggTo4mu_Contin_MCFM701/ZZ4lAnalysis.root']],\n",
       "  'ZZTo4l': [['/eos/user/s/skyriaco/Offshell/Syst/200205_CutBased/MC_2018/ZZTo4lext1/ZZ4lAnalysis.root',\n",
       "    '/eos/user/s/skyriaco/Offshell/Syst/200205_CutBased/MC_2018/ZZTo4lext2/ZZ4lAnalysis.root']]}}"
      ]
     },
     "execution_count": 13,
     "metadata": {},
     "output_type": "execute_result"
    }
   ],
   "source": [
    "yeardict"
   ]
  },
  {
   "cell_type": "code",
   "execution_count": 14,
   "id": "3d66a3a4",
   "metadata": {},
   "outputs": [
    {
     "name": "stdout",
     "output_type": "stream",
     "text": [
      "{'MC_2016_CorrectBTag': {'VBF': [['/eos/user/s/skyriaco/Offshell/Syst/200205_CutBased/MC_2016_CorrectBTag/OffshellAC/VBF/VBFToHiggs0L1ContinToZZTo4l_M125_GaSM/ZZ4lAnalysis.root', '/eos/user/s/skyriaco/Offshell/Syst/200205_CutBased/MC_2016_CorrectBTag/OffshellAC/VBF/VBFToHiggs0L1f05ph0ContinToZZTo4l_M125_GaSM/ZZ4lAnalysis.root', '/eos/user/s/skyriaco/Offshell/Syst/200205_CutBased/MC_2016_CorrectBTag/OffshellAC/VBF/VBFToHiggs0MContinToZZTo4l_M125_GaSM/ZZ4lAnalysis.root', '/eos/user/s/skyriaco/Offshell/Syst/200205_CutBased/MC_2016_CorrectBTag/OffshellAC/VBF/VBFToHiggs0MToZZTo4l_M125_GaSM/ZZ4lAnalysis.root', '/eos/user/s/skyriaco/Offshell/Syst/200205_CutBased/MC_2016_CorrectBTag/OffshellAC/VBF/VBFToHiggs0Mf025ph0ToZZTo4l_M125_GaSM/ZZ4lAnalysis.root', '/eos/user/s/skyriaco/Offshell/Syst/200205_CutBased/MC_2016_CorrectBTag/OffshellAC/VBF/VBFToHiggs0Mf05ph0ToZZTo4l_M125_GaSM/ZZ4lAnalysis.root', '/eos/user/s/skyriaco/Offshell/Syst/200205_CutBased/MC_2016_CorrectBTag/OffshellAC/VBF/VBFToHiggs0Mf075ph0ToZZTo4l_M125_GaSM/ZZ4lAnalysis.root', '/eos/user/s/skyriaco/Offshell/Syst/200205_CutBased/MC_2016_CorrectBTag/OffshellAC/VBF/VBFToHiggs0PHContinToZZTo4l_M125_GaSM/ZZ4lAnalysis.root', '/eos/user/s/skyriaco/Offshell/Syst/200205_CutBased/MC_2016_CorrectBTag/OffshellAC/VBF/VBFToHiggs0PHToZZTo4l_M125_GaSM/ZZ4lAnalysis.root', '/eos/user/s/skyriaco/Offshell/Syst/200205_CutBased/MC_2016_CorrectBTag/OffshellAC/VBF/VBFToHiggs0PHf025ph0ToZZTo4l_M125_GaSM/ZZ4lAnalysis.root']], 'gg': [['/eos/user/s/skyriaco/Offshell/Syst/200205_CutBased/MC_2016_CorrectBTag/OffshellAC/gg/ggTo2e2mu_0MH125Contin_10GaSM_MCFM701/ZZ4lAnalysis.root', '/eos/user/s/skyriaco/Offshell/Syst/200205_CutBased/MC_2016_CorrectBTag/OffshellAC/gg/ggTo2e2mu_0MH125Contin_MCFM701/ZZ4lAnalysis.root', '/eos/user/s/skyriaco/Offshell/Syst/200205_CutBased/MC_2016_CorrectBTag/OffshellAC/gg/ggTo2e2mu_0MH125_MCFM701/ZZ4lAnalysis.root', '/eos/user/s/skyriaco/Offshell/Syst/200205_CutBased/MC_2016_CorrectBTag/OffshellAC/gg/ggTo2e2mu_0Mf05ph0H125Contin_10GaSM_MCFM701/ZZ4lAnalysis.root', '/eos/user/s/skyriaco/Offshell/Syst/200205_CutBased/MC_2016_CorrectBTag/OffshellAC/gg/ggTo2e2mu_0Mf05ph0H125Contin_MCFM701/ZZ4lAnalysis.root', '/eos/user/s/skyriaco/Offshell/Syst/200205_CutBased/MC_2016_CorrectBTag/OffshellAC/gg/ggTo2e2mu_0Mf05ph0H125_MCFM701/ZZ4lAnalysis.root', '/eos/user/s/skyriaco/Offshell/Syst/200205_CutBased/MC_2016_CorrectBTag/OffshellAC/gg/ggTo2e2mu_0PHH125Contin_10GaSM_MCFM701/ZZ4lAnalysis.root', '/eos/user/s/skyriaco/Offshell/Syst/200205_CutBased/MC_2016_CorrectBTag/OffshellAC/gg/ggTo2e2mu_0PHH125Contin_MCFM701/ZZ4lAnalysis.root', '/eos/user/s/skyriaco/Offshell/Syst/200205_CutBased/MC_2016_CorrectBTag/OffshellAC/gg/ggTo2e2mu_0PHH125_MCFM701/ZZ4lAnalysis.root', '/eos/user/s/skyriaco/Offshell/Syst/200205_CutBased/MC_2016_CorrectBTag/OffshellAC/gg/ggTo2e2mu_0PHf05ph0H125Contin_10GaSM_MCFM701/ZZ4lAnalysis.root', '/eos/user/s/skyriaco/Offshell/Syst/200205_CutBased/MC_2016_CorrectBTag/OffshellAC/gg/ggTo2e2mu_0PHf05ph0H125Contin_MCFM701/ZZ4lAnalysis.root', '/eos/user/s/skyriaco/Offshell/Syst/200205_CutBased/MC_2016_CorrectBTag/OffshellAC/gg/ggTo2e2mu_0PHf05ph0H125_MCFM701/ZZ4lAnalysis.root', '/eos/user/s/skyriaco/Offshell/Syst/200205_CutBased/MC_2016_CorrectBTag/OffshellAC/gg/ggTo2e2mu_0PL1H125Contin_10GaSM_MCFM701/ZZ4lAnalysis.root', '/eos/user/s/skyriaco/Offshell/Syst/200205_CutBased/MC_2016_CorrectBTag/OffshellAC/gg/ggTo2e2mu_0PL1H125Contin_MCFM701/ZZ4lAnalysis.root', '/eos/user/s/skyriaco/Offshell/Syst/200205_CutBased/MC_2016_CorrectBTag/OffshellAC/gg/ggTo2e2mu_0PL1H125_MCFM701/ZZ4lAnalysis.root', '/eos/user/s/skyriaco/Offshell/Syst/200205_CutBased/MC_2016_CorrectBTag/OffshellAC/gg/ggTo2e2mu_0PL1f05ph0H125Contin_10GaSM_MCFM701/ZZ4lAnalysis.root', '/eos/user/s/skyriaco/Offshell/Syst/200205_CutBased/MC_2016_CorrectBTag/OffshellAC/gg/ggTo2e2mu_0PL1f05ph0H125_MCFM701/ZZ4lAnalysis.root', '/eos/user/s/skyriaco/Offshell/Syst/200205_CutBased/MC_2016_CorrectBTag/OffshellAC/gg/ggTo2e2mu_0PMH125Contin_10GaSM_MCFM701/ZZ4lAnalysis.root', '/eos/user/s/skyriaco/Offshell/Syst/200205_CutBased/MC_2016_CorrectBTag/OffshellAC/gg/ggTo2e2mu_0PMH125Contin_MCFM701/ZZ4lAnalysis.root', '/eos/user/s/skyriaco/Offshell/Syst/200205_CutBased/MC_2016_CorrectBTag/OffshellAC/gg/ggTo2e2mu_0PMH125_MCFM701/ZZ4lAnalysis.root', '/eos/user/s/skyriaco/Offshell/Syst/200205_CutBased/MC_2016_CorrectBTag/OffshellAC/gg/ggTo2e2mu_ContinDefaultShower_MCFM701/ZZ4lAnalysis.root', '/eos/user/s/skyriaco/Offshell/Syst/200205_CutBased/MC_2016_CorrectBTag/OffshellAC/gg/ggTo2e2mu_Contin_MCFM701/ZZ4lAnalysis.root'], ['/eos/user/s/skyriaco/Offshell/Syst/200205_CutBased/MC_2016_CorrectBTag/OffshellAC/gg/ggTo4e_0MH125Contin_10GaSM_MCFM701/ZZ4lAnalysis.root', '/eos/user/s/skyriaco/Offshell/Syst/200205_CutBased/MC_2016_CorrectBTag/OffshellAC/gg/ggTo4e_0MH125Contin_MCFM701/ZZ4lAnalysis.root', '/eos/user/s/skyriaco/Offshell/Syst/200205_CutBased/MC_2016_CorrectBTag/OffshellAC/gg/ggTo4e_0MH125_MCFM701/ZZ4lAnalysis.root', '/eos/user/s/skyriaco/Offshell/Syst/200205_CutBased/MC_2016_CorrectBTag/OffshellAC/gg/ggTo4e_0Mf05ph0H125Contin_10GaSM_MCFM701/ZZ4lAnalysis.root', '/eos/user/s/skyriaco/Offshell/Syst/200205_CutBased/MC_2016_CorrectBTag/OffshellAC/gg/ggTo4e_0Mf05ph0H125Contin_MCFM701/ZZ4lAnalysis.root', '/eos/user/s/skyriaco/Offshell/Syst/200205_CutBased/MC_2016_CorrectBTag/OffshellAC/gg/ggTo4e_0Mf05ph0H125_MCFM701/ZZ4lAnalysis.root', '/eos/user/s/skyriaco/Offshell/Syst/200205_CutBased/MC_2016_CorrectBTag/OffshellAC/gg/ggTo4e_0PHH125Contin_10GaSM_MCFM701/ZZ4lAnalysis.root', '/eos/user/s/skyriaco/Offshell/Syst/200205_CutBased/MC_2016_CorrectBTag/OffshellAC/gg/ggTo4e_0PHH125Contin_MCFM701/ZZ4lAnalysis.root', '/eos/user/s/skyriaco/Offshell/Syst/200205_CutBased/MC_2016_CorrectBTag/OffshellAC/gg/ggTo4e_0PHH125_MCFM701/ZZ4lAnalysis.root', '/eos/user/s/skyriaco/Offshell/Syst/200205_CutBased/MC_2016_CorrectBTag/OffshellAC/gg/ggTo4e_0PHf05ph0H125Contin_10GaSM_MCFM701/ZZ4lAnalysis.root', '/eos/user/s/skyriaco/Offshell/Syst/200205_CutBased/MC_2016_CorrectBTag/OffshellAC/gg/ggTo4e_0PHf05ph0H125Contin_MCFM701/ZZ4lAnalysis.root', '/eos/user/s/skyriaco/Offshell/Syst/200205_CutBased/MC_2016_CorrectBTag/OffshellAC/gg/ggTo4e_0PHf05ph0H125_MCFM701/ZZ4lAnalysis.root', '/eos/user/s/skyriaco/Offshell/Syst/200205_CutBased/MC_2016_CorrectBTag/OffshellAC/gg/ggTo4e_0PL1H125Contin_10GaSM_MCFM701/ZZ4lAnalysis.root', '/eos/user/s/skyriaco/Offshell/Syst/200205_CutBased/MC_2016_CorrectBTag/OffshellAC/gg/ggTo4e_0PL1H125Contin_MCFM701/ZZ4lAnalysis.root', '/eos/user/s/skyriaco/Offshell/Syst/200205_CutBased/MC_2016_CorrectBTag/OffshellAC/gg/ggTo4e_0PL1H125_MCFM701/ZZ4lAnalysis.root', '/eos/user/s/skyriaco/Offshell/Syst/200205_CutBased/MC_2016_CorrectBTag/OffshellAC/gg/ggTo4e_0PL1f05ph0H125Contin_10GaSM_MCFM701/ZZ4lAnalysis.root', '/eos/user/s/skyriaco/Offshell/Syst/200205_CutBased/MC_2016_CorrectBTag/OffshellAC/gg/ggTo4e_0PL1f05ph0H125Contin_MCFM701/ZZ4lAnalysis.root', '/eos/user/s/skyriaco/Offshell/Syst/200205_CutBased/MC_2016_CorrectBTag/OffshellAC/gg/ggTo4e_0PL1f05ph0H125_MCFM701/ZZ4lAnalysis.root', '/eos/user/s/skyriaco/Offshell/Syst/200205_CutBased/MC_2016_CorrectBTag/OffshellAC/gg/ggTo4e_0PMH125Contin_10GaSM_MCFM701/ZZ4lAnalysis.root', '/eos/user/s/skyriaco/Offshell/Syst/200205_CutBased/MC_2016_CorrectBTag/OffshellAC/gg/ggTo4e_0PMH125Contin_MCFM701/ZZ4lAnalysis.root', '/eos/user/s/skyriaco/Offshell/Syst/200205_CutBased/MC_2016_CorrectBTag/OffshellAC/gg/ggTo4e_0PMH125_MCFM701/ZZ4lAnalysis.root', '/eos/user/s/skyriaco/Offshell/Syst/200205_CutBased/MC_2016_CorrectBTag/OffshellAC/gg/ggTo4e_ContinDefaultShower_MCFM701/ZZ4lAnalysis.root', '/eos/user/s/skyriaco/Offshell/Syst/200205_CutBased/MC_2016_CorrectBTag/OffshellAC/gg/ggTo4e_Contin_MCFM701/ZZ4lAnalysis.root'], ['/eos/user/s/skyriaco/Offshell/Syst/200205_CutBased/MC_2016_CorrectBTag/OffshellAC/gg/ggTo4mu_0MH125Contin_10GaSM_MCFM701/ZZ4lAnalysis.root', '/eos/user/s/skyriaco/Offshell/Syst/200205_CutBased/MC_2016_CorrectBTag/OffshellAC/gg/ggTo4mu_0MH125Contin_MCFM701/ZZ4lAnalysis.root', '/eos/user/s/skyriaco/Offshell/Syst/200205_CutBased/MC_2016_CorrectBTag/OffshellAC/gg/ggTo4mu_0MH125_MCFM701/ZZ4lAnalysis.root', '/eos/user/s/skyriaco/Offshell/Syst/200205_CutBased/MC_2016_CorrectBTag/OffshellAC/gg/ggTo4mu_0Mf05ph0H125Contin_10GaSM_MCFM701/ZZ4lAnalysis.root', '/eos/user/s/skyriaco/Offshell/Syst/200205_CutBased/MC_2016_CorrectBTag/OffshellAC/gg/ggTo4mu_0Mf05ph0H125Contin_MCFM701/ZZ4lAnalysis.root', '/eos/user/s/skyriaco/Offshell/Syst/200205_CutBased/MC_2016_CorrectBTag/OffshellAC/gg/ggTo4mu_0Mf05ph0H125_MCFM701/ZZ4lAnalysis.root', '/eos/user/s/skyriaco/Offshell/Syst/200205_CutBased/MC_2016_CorrectBTag/OffshellAC/gg/ggTo4mu_0PHH125Contin_10GaSM_MCFM701/ZZ4lAnalysis.root', '/eos/user/s/skyriaco/Offshell/Syst/200205_CutBased/MC_2016_CorrectBTag/OffshellAC/gg/ggTo4mu_0PHH125Contin_MCFM701/ZZ4lAnalysis.root', '/eos/user/s/skyriaco/Offshell/Syst/200205_CutBased/MC_2016_CorrectBTag/OffshellAC/gg/ggTo4mu_0PHH125_MCFM701/ZZ4lAnalysis.root', '/eos/user/s/skyriaco/Offshell/Syst/200205_CutBased/MC_2016_CorrectBTag/OffshellAC/gg/ggTo4mu_0PHf05ph0H125Contin_10GaSM_MCFM701/ZZ4lAnalysis.root', '/eos/user/s/skyriaco/Offshell/Syst/200205_CutBased/MC_2016_CorrectBTag/OffshellAC/gg/ggTo4mu_0PHf05ph0H125Contin_MCFM701/ZZ4lAnalysis.root', '/eos/user/s/skyriaco/Offshell/Syst/200205_CutBased/MC_2016_CorrectBTag/OffshellAC/gg/ggTo4mu_0PHf05ph0H125_MCFM701/ZZ4lAnalysis.root', '/eos/user/s/skyriaco/Offshell/Syst/200205_CutBased/MC_2016_CorrectBTag/OffshellAC/gg/ggTo4mu_0PL1H125Contin_10GaSM_MCFM701/ZZ4lAnalysis.root', '/eos/user/s/skyriaco/Offshell/Syst/200205_CutBased/MC_2016_CorrectBTag/OffshellAC/gg/ggTo4mu_0PL1H125Contin_MCFM701/ZZ4lAnalysis.root', '/eos/user/s/skyriaco/Offshell/Syst/200205_CutBased/MC_2016_CorrectBTag/OffshellAC/gg/ggTo4mu_0PL1H125_MCFM701/ZZ4lAnalysis.root', '/eos/user/s/skyriaco/Offshell/Syst/200205_CutBased/MC_2016_CorrectBTag/OffshellAC/gg/ggTo4mu_0PL1f05ph0H125Contin_10GaSM_MCFM701/ZZ4lAnalysis.root', '/eos/user/s/skyriaco/Offshell/Syst/200205_CutBased/MC_2016_CorrectBTag/OffshellAC/gg/ggTo4mu_0PL1f05ph0H125Contin_MCFM701/ZZ4lAnalysis.root', '/eos/user/s/skyriaco/Offshell/Syst/200205_CutBased/MC_2016_CorrectBTag/OffshellAC/gg/ggTo4mu_0PL1f05ph0H125_MCFM701/ZZ4lAnalysis.root', '/eos/user/s/skyriaco/Offshell/Syst/200205_CutBased/MC_2016_CorrectBTag/OffshellAC/gg/ggTo4mu_0PMH125Contin_10GaSM_MCFM701/ZZ4lAnalysis.root', '/eos/user/s/skyriaco/Offshell/Syst/200205_CutBased/MC_2016_CorrectBTag/OffshellAC/gg/ggTo4mu_0PMH125Contin_MCFM701/ZZ4lAnalysis.root', '/eos/user/s/skyriaco/Offshell/Syst/200205_CutBased/MC_2016_CorrectBTag/OffshellAC/gg/ggTo4mu_0PMH125_MCFM701/ZZ4lAnalysis.root', '/eos/user/s/skyriaco/Offshell/Syst/200205_CutBased/MC_2016_CorrectBTag/OffshellAC/gg/ggTo4mu_ContinDefaultShower_MCFM701/ZZ4lAnalysis.root', '/eos/user/s/skyriaco/Offshell/Syst/200205_CutBased/MC_2016_CorrectBTag/OffshellAC/gg/ggTo4mu_Contin_MCFM701/ZZ4lAnalysis.root']], 'ZZTo4l': [['/eos/user/s/skyriaco/Offshell/Syst/200205_CutBased/MC_2016_CorrectBTag/ZZTo4l/ZZ4lAnalysis.root', '/eos/user/s/skyriaco/Offshell/Syst/200205_CutBased/MC_2016_CorrectBTag/ZZTo4lext/ZZ4lAnalysis.root']]}, 'MC_2017': {'VBF': [['/eos/user/s/skyriaco/Offshell/Syst/200205_CutBased/MC_2017/OffshellAC/VBF/VBFToHiggs0L1ContinToZZTo4l_M125_GaSM/ZZ4lAnalysis.root', '/eos/user/s/skyriaco/Offshell/Syst/200205_CutBased/MC_2017/OffshellAC/VBF/VBFToHiggs0MContinToZZTo4l_M125_GaSM/ZZ4lAnalysis.root', '/eos/user/s/skyriaco/Offshell/Syst/200205_CutBased/MC_2017/OffshellAC/VBF/VBFToHiggs0MToZZTo4l_M125_GaSM/ZZ4lAnalysis.root', '/eos/user/s/skyriaco/Offshell/Syst/200205_CutBased/MC_2017/OffshellAC/VBF/VBFToHiggs0Mf025ph0ToZZTo4l_M125_GaSM/ZZ4lAnalysis.root', '/eos/user/s/skyriaco/Offshell/Syst/200205_CutBased/MC_2017/OffshellAC/VBF/VBFToHiggs0Mf05ph0ToZZTo4l_M125_GaSM/ZZ4lAnalysis.root', '/eos/user/s/skyriaco/Offshell/Syst/200205_CutBased/MC_2017/OffshellAC/VBF/VBFToHiggs0Mf075ph0ToZZTo4l_M125_GaSM/ZZ4lAnalysis.root', '/eos/user/s/skyriaco/Offshell/Syst/200205_CutBased/MC_2017/OffshellAC/VBF/VBFToHiggs0PHContinToZZTo4l_M125_GaSM/ZZ4lAnalysis.root', '/eos/user/s/skyriaco/Offshell/Syst/200205_CutBased/MC_2017/OffshellAC/VBF/VBFToHiggs0PHToZZTo4l_M125_GaSM/ZZ4lAnalysis.root', '/eos/user/s/skyriaco/Offshell/Syst/200205_CutBased/MC_2017/OffshellAC/VBF/VBFToHiggs0PHf025ph0ToZZTo4l_M125_GaSM/ZZ4lAnalysis.root', '/eos/user/s/skyriaco/Offshell/Syst/200205_CutBased/MC_2017/OffshellAC/VBF/VBFToHiggs0PHf075ph0ToZZTo4l_M125_GaSM/ZZ4lAnalysis.root', '/eos/user/s/skyriaco/Offshell/Syst/200205_CutBased/MC_2017/OffshellAC/VBF/VBFToHiggs0PMToZZTo4l_M125_GaSM/ZZ4lAnalysis.root']], 'gg': [['/eos/user/s/skyriaco/Offshell/Syst/200205_CutBased/MC_2017/OffshellAC/gg/ggTo2e2mu_0MH125Contin_10GaSM_MCFM701/ZZ4lAnalysis.root', '/eos/user/s/skyriaco/Offshell/Syst/200205_CutBased/MC_2017/OffshellAC/gg/ggTo2e2mu_0MH125Contin_MCFM701/ZZ4lAnalysis.root', '/eos/user/s/skyriaco/Offshell/Syst/200205_CutBased/MC_2017/OffshellAC/gg/ggTo2e2mu_0MH125_MCFM701/ZZ4lAnalysis.root', '/eos/user/s/skyriaco/Offshell/Syst/200205_CutBased/MC_2017/OffshellAC/gg/ggTo2e2mu_0Mf05ph0H125Contin_10GaSM_MCFM701/ZZ4lAnalysis.root', '/eos/user/s/skyriaco/Offshell/Syst/200205_CutBased/MC_2017/OffshellAC/gg/ggTo2e2mu_0Mf05ph0H125Contin_MCFM701/ZZ4lAnalysis.root', '/eos/user/s/skyriaco/Offshell/Syst/200205_CutBased/MC_2017/OffshellAC/gg/ggTo2e2mu_0Mf05ph0H125_MCFM701/ZZ4lAnalysis.root', '/eos/user/s/skyriaco/Offshell/Syst/200205_CutBased/MC_2017/OffshellAC/gg/ggTo2e2mu_0PHH125Contin_10GaSM_MCFM701/ZZ4lAnalysis.root', '/eos/user/s/skyriaco/Offshell/Syst/200205_CutBased/MC_2017/OffshellAC/gg/ggTo2e2mu_0PHH125Contin_MCFM701/ZZ4lAnalysis.root', '/eos/user/s/skyriaco/Offshell/Syst/200205_CutBased/MC_2017/OffshellAC/gg/ggTo2e2mu_0PHH125_MCFM701/ZZ4lAnalysis.root', '/eos/user/s/skyriaco/Offshell/Syst/200205_CutBased/MC_2017/OffshellAC/gg/ggTo2e2mu_0PHf05ph0H125Contin_10GaSM_MCFM701/ZZ4lAnalysis.root', '/eos/user/s/skyriaco/Offshell/Syst/200205_CutBased/MC_2017/OffshellAC/gg/ggTo2e2mu_0PHf05ph0H125Contin_MCFM701/ZZ4lAnalysis.root', '/eos/user/s/skyriaco/Offshell/Syst/200205_CutBased/MC_2017/OffshellAC/gg/ggTo2e2mu_0PHf05ph0H125_MCFM701/ZZ4lAnalysis.root', '/eos/user/s/skyriaco/Offshell/Syst/200205_CutBased/MC_2017/OffshellAC/gg/ggTo2e2mu_0PL1H125Contin_10GaSM_MCFM701/ZZ4lAnalysis.root', '/eos/user/s/skyriaco/Offshell/Syst/200205_CutBased/MC_2017/OffshellAC/gg/ggTo2e2mu_0PL1H125Contin_MCFM701/ZZ4lAnalysis.root', '/eos/user/s/skyriaco/Offshell/Syst/200205_CutBased/MC_2017/OffshellAC/gg/ggTo2e2mu_0PL1H125_MCFM701/ZZ4lAnalysis.root', '/eos/user/s/skyriaco/Offshell/Syst/200205_CutBased/MC_2017/OffshellAC/gg/ggTo2e2mu_0PL1f05ph0H125Contin_10GaSM_MCFM701/ZZ4lAnalysis.root', '/eos/user/s/skyriaco/Offshell/Syst/200205_CutBased/MC_2017/OffshellAC/gg/ggTo2e2mu_0PL1f05ph0H125Contin_MCFM701/ZZ4lAnalysis.root', '/eos/user/s/skyriaco/Offshell/Syst/200205_CutBased/MC_2017/OffshellAC/gg/ggTo2e2mu_0PL1f05ph0H125_MCFM701/ZZ4lAnalysis.root', '/eos/user/s/skyriaco/Offshell/Syst/200205_CutBased/MC_2017/OffshellAC/gg/ggTo2e2mu_0PMH125Contin_10GaSM_MCFM701/ZZ4lAnalysis.root', '/eos/user/s/skyriaco/Offshell/Syst/200205_CutBased/MC_2017/OffshellAC/gg/ggTo2e2mu_0PMH125Contin_MCFM701/ZZ4lAnalysis.root', '/eos/user/s/skyriaco/Offshell/Syst/200205_CutBased/MC_2017/OffshellAC/gg/ggTo2e2mu_0PMH125_MCFM701/ZZ4lAnalysis.root', '/eos/user/s/skyriaco/Offshell/Syst/200205_CutBased/MC_2017/OffshellAC/gg/ggTo2e2mu_Contin_MCFM701/ZZ4lAnalysis.root'], ['/eos/user/s/skyriaco/Offshell/Syst/200205_CutBased/MC_2017/OffshellAC/gg/ggTo4e_0MH125Contin_10GaSM_MCFM701/ZZ4lAnalysis.root', '/eos/user/s/skyriaco/Offshell/Syst/200205_CutBased/MC_2017/OffshellAC/gg/ggTo4e_0MH125Contin_MCFM701/ZZ4lAnalysis.root', '/eos/user/s/skyriaco/Offshell/Syst/200205_CutBased/MC_2017/OffshellAC/gg/ggTo4e_0MH125_MCFM701/ZZ4lAnalysis.root', '/eos/user/s/skyriaco/Offshell/Syst/200205_CutBased/MC_2017/OffshellAC/gg/ggTo4e_0Mf05ph0H125Contin_10GaSM_MCFM701/ZZ4lAnalysis.root', '/eos/user/s/skyriaco/Offshell/Syst/200205_CutBased/MC_2017/OffshellAC/gg/ggTo4e_0Mf05ph0H125Contin_MCFM701/ZZ4lAnalysis.root', '/eos/user/s/skyriaco/Offshell/Syst/200205_CutBased/MC_2017/OffshellAC/gg/ggTo4e_0Mf05ph0H125_MCFM701/ZZ4lAnalysis.root', '/eos/user/s/skyriaco/Offshell/Syst/200205_CutBased/MC_2017/OffshellAC/gg/ggTo4e_0PHH125Contin_MCFM701/ZZ4lAnalysis.root', '/eos/user/s/skyriaco/Offshell/Syst/200205_CutBased/MC_2017/OffshellAC/gg/ggTo4e_0PHH125_MCFM701/ZZ4lAnalysis.root', '/eos/user/s/skyriaco/Offshell/Syst/200205_CutBased/MC_2017/OffshellAC/gg/ggTo4e_0PHf05ph0H125Contin_10GaSM_MCFM701/ZZ4lAnalysis.root', '/eos/user/s/skyriaco/Offshell/Syst/200205_CutBased/MC_2017/OffshellAC/gg/ggTo4e_0PHf05ph0H125Contin_MCFM701/ZZ4lAnalysis.root', '/eos/user/s/skyriaco/Offshell/Syst/200205_CutBased/MC_2017/OffshellAC/gg/ggTo4e_0PHf05ph0H125_MCFM701/ZZ4lAnalysis.root', '/eos/user/s/skyriaco/Offshell/Syst/200205_CutBased/MC_2017/OffshellAC/gg/ggTo4e_0PL1H125Contin_10GaSM_MCFM701/ZZ4lAnalysis.root', '/eos/user/s/skyriaco/Offshell/Syst/200205_CutBased/MC_2017/OffshellAC/gg/ggTo4e_0PL1H125Contin_MCFM701/ZZ4lAnalysis.root', '/eos/user/s/skyriaco/Offshell/Syst/200205_CutBased/MC_2017/OffshellAC/gg/ggTo4e_0PL1H125_MCFM701/ZZ4lAnalysis.root', '/eos/user/s/skyriaco/Offshell/Syst/200205_CutBased/MC_2017/OffshellAC/gg/ggTo4e_0PL1f05ph0H125Contin_10GaSM_MCFM701/ZZ4lAnalysis.root', '/eos/user/s/skyriaco/Offshell/Syst/200205_CutBased/MC_2017/OffshellAC/gg/ggTo4e_0PL1f05ph0H125Contin_MCFM701/ZZ4lAnalysis.root', '/eos/user/s/skyriaco/Offshell/Syst/200205_CutBased/MC_2017/OffshellAC/gg/ggTo4e_0PL1f05ph0H125_MCFM701/ZZ4lAnalysis.root', '/eos/user/s/skyriaco/Offshell/Syst/200205_CutBased/MC_2017/OffshellAC/gg/ggTo4e_0PMH125Contin_10GaSM_MCFM701/ZZ4lAnalysis.root', '/eos/user/s/skyriaco/Offshell/Syst/200205_CutBased/MC_2017/OffshellAC/gg/ggTo4e_0PMH125Contin_MCFM701/ZZ4lAnalysis.root', '/eos/user/s/skyriaco/Offshell/Syst/200205_CutBased/MC_2017/OffshellAC/gg/ggTo4e_0PMH125_MCFM701/ZZ4lAnalysis.root', '/eos/user/s/skyriaco/Offshell/Syst/200205_CutBased/MC_2017/OffshellAC/gg/ggTo4e_Contin_MCFM701/ZZ4lAnalysis.root'], ['/eos/user/s/skyriaco/Offshell/Syst/200205_CutBased/MC_2017/OffshellAC/gg/ggTo4mu_0MH125Contin_10GaSM_MCFM701/ZZ4lAnalysis.root', '/eos/user/s/skyriaco/Offshell/Syst/200205_CutBased/MC_2017/OffshellAC/gg/ggTo4mu_0MH125Contin_MCFM701/ZZ4lAnalysis.root', '/eos/user/s/skyriaco/Offshell/Syst/200205_CutBased/MC_2017/OffshellAC/gg/ggTo4mu_0MH125_MCFM701/ZZ4lAnalysis.root', '/eos/user/s/skyriaco/Offshell/Syst/200205_CutBased/MC_2017/OffshellAC/gg/ggTo4mu_0Mf05ph0H125Contin_10GaSM_MCFM701/ZZ4lAnalysis.root', '/eos/user/s/skyriaco/Offshell/Syst/200205_CutBased/MC_2017/OffshellAC/gg/ggTo4mu_0Mf05ph0H125Contin_MCFM701/ZZ4lAnalysis.root', '/eos/user/s/skyriaco/Offshell/Syst/200205_CutBased/MC_2017/OffshellAC/gg/ggTo4mu_0Mf05ph0H125_MCFM701/ZZ4lAnalysis.root', '/eos/user/s/skyriaco/Offshell/Syst/200205_CutBased/MC_2017/OffshellAC/gg/ggTo4mu_0PHH125Contin_MCFM701/ZZ4lAnalysis.root', '/eos/user/s/skyriaco/Offshell/Syst/200205_CutBased/MC_2017/OffshellAC/gg/ggTo4mu_0PHH125_MCFM701/ZZ4lAnalysis.root', '/eos/user/s/skyriaco/Offshell/Syst/200205_CutBased/MC_2017/OffshellAC/gg/ggTo4mu_0PHf05ph0H125Contin_10GaSM_MCFM701/ZZ4lAnalysis.root', '/eos/user/s/skyriaco/Offshell/Syst/200205_CutBased/MC_2017/OffshellAC/gg/ggTo4mu_0PHf05ph0H125Contin_MCFM701/ZZ4lAnalysis.root', '/eos/user/s/skyriaco/Offshell/Syst/200205_CutBased/MC_2017/OffshellAC/gg/ggTo4mu_0PHf05ph0H125_MCFM701/ZZ4lAnalysis.root', '/eos/user/s/skyriaco/Offshell/Syst/200205_CutBased/MC_2017/OffshellAC/gg/ggTo4mu_0PL1H125Contin_MCFM701/ZZ4lAnalysis.root', '/eos/user/s/skyriaco/Offshell/Syst/200205_CutBased/MC_2017/OffshellAC/gg/ggTo4mu_0PL1H125_MCFM701/ZZ4lAnalysis.root', '/eos/user/s/skyriaco/Offshell/Syst/200205_CutBased/MC_2017/OffshellAC/gg/ggTo4mu_0PL1f05ph0H125Contin_10GaSM_MCFM701/ZZ4lAnalysis.root', '/eos/user/s/skyriaco/Offshell/Syst/200205_CutBased/MC_2017/OffshellAC/gg/ggTo4mu_0PL1f05ph0H125Contin_MCFM701/ZZ4lAnalysis.root', '/eos/user/s/skyriaco/Offshell/Syst/200205_CutBased/MC_2017/OffshellAC/gg/ggTo4mu_0PL1f05ph0H125_MCFM701/ZZ4lAnalysis.root', '/eos/user/s/skyriaco/Offshell/Syst/200205_CutBased/MC_2017/OffshellAC/gg/ggTo4mu_0PMH125Contin_10GaSM_MCFM701/ZZ4lAnalysis.root', '/eos/user/s/skyriaco/Offshell/Syst/200205_CutBased/MC_2017/OffshellAC/gg/ggTo4mu_0PMH125Contin_MCFM701/ZZ4lAnalysis.root', '/eos/user/s/skyriaco/Offshell/Syst/200205_CutBased/MC_2017/OffshellAC/gg/ggTo4mu_0PMH125_MCFM701/ZZ4lAnalysis.root', '/eos/user/s/skyriaco/Offshell/Syst/200205_CutBased/MC_2017/OffshellAC/gg/ggTo4mu_Contin_MCFM701/ZZ4lAnalysis.root']], 'ZZTo4l': [['/eos/user/s/skyriaco/Offshell/Syst/200205_CutBased/MC_2017/ZZTo4l/ZZ4lAnalysis.root', '/eos/user/s/skyriaco/Offshell/Syst/200205_CutBased/MC_2017/ZZTo4lext/ZZ4lAnalysis.root']]}, 'MC_2018': {'VBF': [['/eos/user/s/skyriaco/Offshell/Syst/200205_CutBased/MC_2018/OffshellAC/VBF/VBFToHiggs0L1f025ph0ToZZTo4l_M125_GaSM/ZZ4lAnalysis.root', '/eos/user/s/skyriaco/Offshell/Syst/200205_CutBased/MC_2018/OffshellAC/VBF/VBFToHiggs0L1f05ph0ToZZTo4l_M125_GaSM/ZZ4lAnalysis.root', '/eos/user/s/skyriaco/Offshell/Syst/200205_CutBased/MC_2018/OffshellAC/VBF/VBFToHiggs0MToZZTo4l_M125_GaSM/ZZ4lAnalysis.root', '/eos/user/s/skyriaco/Offshell/Syst/200205_CutBased/MC_2018/OffshellAC/VBF/VBFToHiggs0Mf025ph0ToZZTo4l_M125_GaSM/ZZ4lAnalysis.root', '/eos/user/s/skyriaco/Offshell/Syst/200205_CutBased/MC_2018/OffshellAC/VBF/VBFToHiggs0Mf075ph0ToZZTo4l_M125_GaSM/ZZ4lAnalysis.root', '/eos/user/s/skyriaco/Offshell/Syst/200205_CutBased/MC_2018/OffshellAC/VBF/VBFToHiggs0PHContinToZZTo4l_M125_GaSM/ZZ4lAnalysis.root', '/eos/user/s/skyriaco/Offshell/Syst/200205_CutBased/MC_2018/OffshellAC/VBF/VBFToHiggs0PHf025ph0ToZZTo4l_M125_GaSM/ZZ4lAnalysis.root']], 'gg': [['/eos/user/s/skyriaco/Offshell/Syst/200205_CutBased/MC_2018/OffshellAC/gg/ggTo2e2mu_0MH125Contin_10GaSM_MCFM701/ZZ4lAnalysis.root', '/eos/user/s/skyriaco/Offshell/Syst/200205_CutBased/MC_2018/OffshellAC/gg/ggTo2e2mu_0MH125Contin_MCFM701/ZZ4lAnalysis.root', '/eos/user/s/skyriaco/Offshell/Syst/200205_CutBased/MC_2018/OffshellAC/gg/ggTo2e2mu_0MH125_MCFM701/ZZ4lAnalysis.root', '/eos/user/s/skyriaco/Offshell/Syst/200205_CutBased/MC_2018/OffshellAC/gg/ggTo2e2mu_0Mf05ph0H125Contin_10GaSM_MCFM701/ZZ4lAnalysis.root', '/eos/user/s/skyriaco/Offshell/Syst/200205_CutBased/MC_2018/OffshellAC/gg/ggTo2e2mu_0Mf05ph0H125Contin_MCFM701/ZZ4lAnalysis.root', '/eos/user/s/skyriaco/Offshell/Syst/200205_CutBased/MC_2018/OffshellAC/gg/ggTo2e2mu_0Mf05ph0H125_MCFM701/ZZ4lAnalysis.root', '/eos/user/s/skyriaco/Offshell/Syst/200205_CutBased/MC_2018/OffshellAC/gg/ggTo2e2mu_0PHH125Contin_10GaSM_MCFM701/ZZ4lAnalysis.root', '/eos/user/s/skyriaco/Offshell/Syst/200205_CutBased/MC_2018/OffshellAC/gg/ggTo2e2mu_0PHH125Contin_MCFM701/ZZ4lAnalysis.root', '/eos/user/s/skyriaco/Offshell/Syst/200205_CutBased/MC_2018/OffshellAC/gg/ggTo2e2mu_0PHH125_MCFM701/ZZ4lAnalysis.root', '/eos/user/s/skyriaco/Offshell/Syst/200205_CutBased/MC_2018/OffshellAC/gg/ggTo2e2mu_0PHf05ph0H125Contin_10GaSM_MCFM701/ZZ4lAnalysis.root', '/eos/user/s/skyriaco/Offshell/Syst/200205_CutBased/MC_2018/OffshellAC/gg/ggTo2e2mu_0PHf05ph0H125Contin_MCFM701/ZZ4lAnalysis.root', '/eos/user/s/skyriaco/Offshell/Syst/200205_CutBased/MC_2018/OffshellAC/gg/ggTo2e2mu_0PHf05ph0H125_MCFM701/ZZ4lAnalysis.root', '/eos/user/s/skyriaco/Offshell/Syst/200205_CutBased/MC_2018/OffshellAC/gg/ggTo2e2mu_0PL1H125Contin_10GaSM_MCFM701/ZZ4lAnalysis.root', '/eos/user/s/skyriaco/Offshell/Syst/200205_CutBased/MC_2018/OffshellAC/gg/ggTo2e2mu_0PL1H125Contin_MCFM701/ZZ4lAnalysis.root', '/eos/user/s/skyriaco/Offshell/Syst/200205_CutBased/MC_2018/OffshellAC/gg/ggTo2e2mu_0PL1H125_MCFM701/ZZ4lAnalysis.root', '/eos/user/s/skyriaco/Offshell/Syst/200205_CutBased/MC_2018/OffshellAC/gg/ggTo2e2mu_0PL1f05ph0H125Contin_10GaSM_MCFM701/ZZ4lAnalysis.root', '/eos/user/s/skyriaco/Offshell/Syst/200205_CutBased/MC_2018/OffshellAC/gg/ggTo2e2mu_0PL1f05ph0H125Contin_MCFM701/ZZ4lAnalysis.root', '/eos/user/s/skyriaco/Offshell/Syst/200205_CutBased/MC_2018/OffshellAC/gg/ggTo2e2mu_0PL1f05ph0H125_MCFM701/ZZ4lAnalysis.root', '/eos/user/s/skyriaco/Offshell/Syst/200205_CutBased/MC_2018/OffshellAC/gg/ggTo2e2mu_0PMH125Contin_10GaSM_MCFM701/ZZ4lAnalysis.root', '/eos/user/s/skyriaco/Offshell/Syst/200205_CutBased/MC_2018/OffshellAC/gg/ggTo2e2mu_0PMH125Contin_MCFM701/ZZ4lAnalysis.root', '/eos/user/s/skyriaco/Offshell/Syst/200205_CutBased/MC_2018/OffshellAC/gg/ggTo2e2mu_0PMH125_MCFM701/ZZ4lAnalysis.root', '/eos/user/s/skyriaco/Offshell/Syst/200205_CutBased/MC_2018/OffshellAC/gg/ggTo2e2mu_Contin_MCFM701/ZZ4lAnalysis.root'], ['/eos/user/s/skyriaco/Offshell/Syst/200205_CutBased/MC_2018/OffshellAC/gg/ggTo4e_0MH125Contin_10GaSM_MCFM701/ZZ4lAnalysis.root', '/eos/user/s/skyriaco/Offshell/Syst/200205_CutBased/MC_2018/OffshellAC/gg/ggTo4e_0MH125Contin_MCFM701/ZZ4lAnalysis.root', '/eos/user/s/skyriaco/Offshell/Syst/200205_CutBased/MC_2018/OffshellAC/gg/ggTo4e_0MH125_MCFM701/ZZ4lAnalysis.root', '/eos/user/s/skyriaco/Offshell/Syst/200205_CutBased/MC_2018/OffshellAC/gg/ggTo4e_0Mf05ph0H125Contin_10GaSM_MCFM701/ZZ4lAnalysis.root', '/eos/user/s/skyriaco/Offshell/Syst/200205_CutBased/MC_2018/OffshellAC/gg/ggTo4e_0Mf05ph0H125Contin_MCFM701/ZZ4lAnalysis.root', '/eos/user/s/skyriaco/Offshell/Syst/200205_CutBased/MC_2018/OffshellAC/gg/ggTo4e_0Mf05ph0H125_MCFM701/ZZ4lAnalysis.root', '/eos/user/s/skyriaco/Offshell/Syst/200205_CutBased/MC_2018/OffshellAC/gg/ggTo4e_0PHH125Contin_MCFM701/ZZ4lAnalysis.root', '/eos/user/s/skyriaco/Offshell/Syst/200205_CutBased/MC_2018/OffshellAC/gg/ggTo4e_0PHH125_MCFM701/ZZ4lAnalysis.root', '/eos/user/s/skyriaco/Offshell/Syst/200205_CutBased/MC_2018/OffshellAC/gg/ggTo4e_0PHf05ph0H125Contin_10GaSM_MCFM701/ZZ4lAnalysis.root', '/eos/user/s/skyriaco/Offshell/Syst/200205_CutBased/MC_2018/OffshellAC/gg/ggTo4e_0PHf05ph0H125Contin_MCFM701/ZZ4lAnalysis.root', '/eos/user/s/skyriaco/Offshell/Syst/200205_CutBased/MC_2018/OffshellAC/gg/ggTo4e_0PHf05ph0H125_MCFM701/ZZ4lAnalysis.root', '/eos/user/s/skyriaco/Offshell/Syst/200205_CutBased/MC_2018/OffshellAC/gg/ggTo4e_0PL1H125Contin_10GaSM_MCFM701/ZZ4lAnalysis.root', '/eos/user/s/skyriaco/Offshell/Syst/200205_CutBased/MC_2018/OffshellAC/gg/ggTo4e_0PL1H125Contin_MCFM701/ZZ4lAnalysis.root', '/eos/user/s/skyriaco/Offshell/Syst/200205_CutBased/MC_2018/OffshellAC/gg/ggTo4e_0PL1H125_MCFM701/ZZ4lAnalysis.root', '/eos/user/s/skyriaco/Offshell/Syst/200205_CutBased/MC_2018/OffshellAC/gg/ggTo4e_0PL1f05ph0H125Contin_10GaSM_MCFM701/ZZ4lAnalysis.root', '/eos/user/s/skyriaco/Offshell/Syst/200205_CutBased/MC_2018/OffshellAC/gg/ggTo4e_0PL1f05ph0H125Contin_MCFM701/ZZ4lAnalysis.root', '/eos/user/s/skyriaco/Offshell/Syst/200205_CutBased/MC_2018/OffshellAC/gg/ggTo4e_0PL1f05ph0H125_MCFM701/ZZ4lAnalysis.root', '/eos/user/s/skyriaco/Offshell/Syst/200205_CutBased/MC_2018/OffshellAC/gg/ggTo4e_0PMH125Contin_10GaSM_MCFM701/ZZ4lAnalysis.root', '/eos/user/s/skyriaco/Offshell/Syst/200205_CutBased/MC_2018/OffshellAC/gg/ggTo4e_0PMH125Contin_MCFM701/ZZ4lAnalysis.root', '/eos/user/s/skyriaco/Offshell/Syst/200205_CutBased/MC_2018/OffshellAC/gg/ggTo4e_0PMH125_MCFM701/ZZ4lAnalysis.root', '/eos/user/s/skyriaco/Offshell/Syst/200205_CutBased/MC_2018/OffshellAC/gg/ggTo4e_Contin_MCFM701/ZZ4lAnalysis.root'], ['/eos/user/s/skyriaco/Offshell/Syst/200205_CutBased/MC_2018/OffshellAC/gg/ggTo4mu_0MH125Contin_10GaSM_MCFM701/ZZ4lAnalysis.root', '/eos/user/s/skyriaco/Offshell/Syst/200205_CutBased/MC_2018/OffshellAC/gg/ggTo4mu_0MH125Contin_MCFM701/ZZ4lAnalysis.root', '/eos/user/s/skyriaco/Offshell/Syst/200205_CutBased/MC_2018/OffshellAC/gg/ggTo4mu_0MH125_MCFM701/ZZ4lAnalysis.root', '/eos/user/s/skyriaco/Offshell/Syst/200205_CutBased/MC_2018/OffshellAC/gg/ggTo4mu_0Mf05ph0H125Contin_10GaSM_MCFM701/ZZ4lAnalysis.root', '/eos/user/s/skyriaco/Offshell/Syst/200205_CutBased/MC_2018/OffshellAC/gg/ggTo4mu_0Mf05ph0H125Contin_MCFM701/ZZ4lAnalysis.root', '/eos/user/s/skyriaco/Offshell/Syst/200205_CutBased/MC_2018/OffshellAC/gg/ggTo4mu_0Mf05ph0H125_MCFM701/ZZ4lAnalysis.root', '/eos/user/s/skyriaco/Offshell/Syst/200205_CutBased/MC_2018/OffshellAC/gg/ggTo4mu_0PHH125Contin_MCFM701/ZZ4lAnalysis.root', '/eos/user/s/skyriaco/Offshell/Syst/200205_CutBased/MC_2018/OffshellAC/gg/ggTo4mu_0PHH125_MCFM701/ZZ4lAnalysis.root', '/eos/user/s/skyriaco/Offshell/Syst/200205_CutBased/MC_2018/OffshellAC/gg/ggTo4mu_0PHf05ph0H125Contin_10GaSM_MCFM701/ZZ4lAnalysis.root', '/eos/user/s/skyriaco/Offshell/Syst/200205_CutBased/MC_2018/OffshellAC/gg/ggTo4mu_0PHf05ph0H125Contin_MCFM701/ZZ4lAnalysis.root', '/eos/user/s/skyriaco/Offshell/Syst/200205_CutBased/MC_2018/OffshellAC/gg/ggTo4mu_0PHf05ph0H125_MCFM701/ZZ4lAnalysis.root', '/eos/user/s/skyriaco/Offshell/Syst/200205_CutBased/MC_2018/OffshellAC/gg/ggTo4mu_0PL1H125Contin_MCFM701/ZZ4lAnalysis.root', '/eos/user/s/skyriaco/Offshell/Syst/200205_CutBased/MC_2018/OffshellAC/gg/ggTo4mu_0PL1H125_MCFM701/ZZ4lAnalysis.root', '/eos/user/s/skyriaco/Offshell/Syst/200205_CutBased/MC_2018/OffshellAC/gg/ggTo4mu_0PL1f05ph0H125Contin_10GaSM_MCFM701/ZZ4lAnalysis.root', '/eos/user/s/skyriaco/Offshell/Syst/200205_CutBased/MC_2018/OffshellAC/gg/ggTo4mu_0PL1f05ph0H125Contin_MCFM701/ZZ4lAnalysis.root', '/eos/user/s/skyriaco/Offshell/Syst/200205_CutBased/MC_2018/OffshellAC/gg/ggTo4mu_0PL1f05ph0H125_MCFM701/ZZ4lAnalysis.root', '/eos/user/s/skyriaco/Offshell/Syst/200205_CutBased/MC_2018/OffshellAC/gg/ggTo4mu_0PMH125Contin_MCFM701/ZZ4lAnalysis.root', '/eos/user/s/skyriaco/Offshell/Syst/200205_CutBased/MC_2018/OffshellAC/gg/ggTo4mu_0PMH125_MCFM701/ZZ4lAnalysis.root', '/eos/user/s/skyriaco/Offshell/Syst/200205_CutBased/MC_2018/OffshellAC/gg/ggTo4mu_Contin_MCFM701/ZZ4lAnalysis.root']], 'ZZTo4l': [['/eos/user/s/skyriaco/Offshell/Syst/200205_CutBased/MC_2018/ZZTo4lext1/ZZ4lAnalysis.root', '/eos/user/s/skyriaco/Offshell/Syst/200205_CutBased/MC_2018/ZZTo4lext2/ZZ4lAnalysis.root']]}}\n"
     ]
    }
   ],
   "source": [
    "print (yeardict)"
   ]
  },
  {
   "cell_type": "markdown",
   "id": "f1ab6c6e",
   "metadata": {},
   "source": [
    "### Account for all bespoke EW MELA branches"
   ]
  },
  {
   "cell_type": "code",
   "execution_count": 15,
   "id": "00eb3589",
   "metadata": {},
   "outputs": [],
   "source": [
    "refsam4l = [\"VBFToContinToZZTo4l\", \"VBFToHiggs0L1ContinToZZTo4l\", \"VBFToHiggs0L1f025ph0ToZZTo4l\", \"VBFToHiggs0L1f05ph0ContinToZZTo4l\", \"VBFToHiggs0L1f05ph0ToZZTo4l\", \"VBFToHiggs0L1f075ph0ToZZTo4l\", \"VBFToHiggs0L1ToZZTo4l\", \"VBFToHiggs0MContinToZZTo4l\", \"VBFToHiggs0Mf025ph0ToZZTo4l\", \"VBFToHiggs0Mf05ph0ContinToZZTo4l\", \"VBFToHiggs0Mf05ph0ToZZTo4l\", \"VBFToHiggs0Mf075ph0ToZZTo4l\", \"VBFToHiggs0MToZZTo4l\", \"VBFToHiggs0PHContinToZZTo4l\", \"VBFToHiggs0PHf025ph0ToZZTo4l\", \"VBFToHiggs0PHf05ph0ContinToZZTo4l\", \"VBFToHiggs0PHf05ph0ToZZTo4l\", \"VBFToHiggs0PHf075ph0ToZZTo4l\", \"VBFToHiggs0PHToZZTo4l\", \"VBFToHiggs0PMContinToZZTo4l\", \"VBFToHiggs0PMToZZTo4l\"]"
   ]
  },
  {
   "cell_type": "code",
   "execution_count": 16,
   "id": "c98344f7",
   "metadata": {},
   "outputs": [],
   "source": [
    "refmel = [\"p_Gen_JJEW_BKG_MCFM\", \"p_Gen_JJEW_BSI_ghv1_0_ghv1prime2_m1549p165_MCFM\", \"p_Gen_JJEW_SIG_ghv1_1_ghv1prime2_m1177p11_MCFM\", \"p_Gen_JJEW_BSI_ghv1_1_ghv1prime2_m1549p165_MCFM\", \"p_Gen_JJEW_SIG_ghv1_1_ghv1prime2_m1549p165_MCFM\", \"p_Gen_JJEW_SIG_ghv1_1_ghv1prime2_m2038p82_MCFM\", \"p_Gen_JJEW_SIG_ghv1_0_ghv1prime2_m1549p165_MCFM\", \"p_Gen_JJEW_BSI_ghv1_0_ghv4_0p216499_MCFM\", \"p_Gen_JJEW_SIG_ghv1_1_ghv4_0p164504_MCFM\", \"p_Gen_JJEW_BSI_ghv1_1_ghv4_0p216499_MCFM\", \"p_Gen_JJEW_SIG_ghv1_1_ghv4_0p216499_MCFM\", \"p_Gen_JJEW_SIG_ghv1_1_ghv4_0p284929_MCFM\", \"p_Gen_JJEW_SIG_ghv1_0_ghv4_0p216499_MCFM\", \"p_Gen_JJEW_BSI_ghv1_0_ghv2_0p207049_MCFM\", \"p_Gen_JJEW_SIG_ghv1_1_ghv2_0p157323_MCFM\", \"p_Gen_JJEW_BSI_ghv1_1_ghv2_0p207049_MCFM\", \"p_Gen_JJEW_SIG_ghv1_1_ghv2_0p207049_MCFM\", \"p_Gen_JJEW_SIG_ghv1_1_ghv2_0p272492_MCFM\", \"p_Gen_JJEW_SIG_ghv1_0_ghv2_0p207049_MCFM\", \"p_Gen_JJEW_BSI_ghv1_1_MCFM\", \"p_Gen_JJEW_SIG_ghv1_1_MCFM\"]"
   ]
  },
  {
   "cell_type": "code",
   "execution_count": 17,
   "id": "675df0af",
   "metadata": {},
   "outputs": [],
   "source": [
    "refden = dict(zip(refsam4l, refmel))"
   ]
  },
  {
   "cell_type": "code",
   "execution_count": 18,
   "id": "83f5fd80",
   "metadata": {},
   "outputs": [
    {
     "data": {
      "text/plain": [
       "{'VBFToContinToZZTo4l': 'p_Gen_JJEW_BKG_MCFM',\n",
       " 'VBFToHiggs0L1ContinToZZTo4l': 'p_Gen_JJEW_BSI_ghv1_0_ghv1prime2_m1549p165_MCFM',\n",
       " 'VBFToHiggs0L1f025ph0ToZZTo4l': 'p_Gen_JJEW_SIG_ghv1_1_ghv1prime2_m1177p11_MCFM',\n",
       " 'VBFToHiggs0L1f05ph0ContinToZZTo4l': 'p_Gen_JJEW_BSI_ghv1_1_ghv1prime2_m1549p165_MCFM',\n",
       " 'VBFToHiggs0L1f05ph0ToZZTo4l': 'p_Gen_JJEW_SIG_ghv1_1_ghv1prime2_m1549p165_MCFM',\n",
       " 'VBFToHiggs0L1f075ph0ToZZTo4l': 'p_Gen_JJEW_SIG_ghv1_1_ghv1prime2_m2038p82_MCFM',\n",
       " 'VBFToHiggs0L1ToZZTo4l': 'p_Gen_JJEW_SIG_ghv1_0_ghv1prime2_m1549p165_MCFM',\n",
       " 'VBFToHiggs0MContinToZZTo4l': 'p_Gen_JJEW_BSI_ghv1_0_ghv4_0p216499_MCFM',\n",
       " 'VBFToHiggs0Mf025ph0ToZZTo4l': 'p_Gen_JJEW_SIG_ghv1_1_ghv4_0p164504_MCFM',\n",
       " 'VBFToHiggs0Mf05ph0ContinToZZTo4l': 'p_Gen_JJEW_BSI_ghv1_1_ghv4_0p216499_MCFM',\n",
       " 'VBFToHiggs0Mf05ph0ToZZTo4l': 'p_Gen_JJEW_SIG_ghv1_1_ghv4_0p216499_MCFM',\n",
       " 'VBFToHiggs0Mf075ph0ToZZTo4l': 'p_Gen_JJEW_SIG_ghv1_1_ghv4_0p284929_MCFM',\n",
       " 'VBFToHiggs0MToZZTo4l': 'p_Gen_JJEW_SIG_ghv1_0_ghv4_0p216499_MCFM',\n",
       " 'VBFToHiggs0PHContinToZZTo4l': 'p_Gen_JJEW_BSI_ghv1_0_ghv2_0p207049_MCFM',\n",
       " 'VBFToHiggs0PHf025ph0ToZZTo4l': 'p_Gen_JJEW_SIG_ghv1_1_ghv2_0p157323_MCFM',\n",
       " 'VBFToHiggs0PHf05ph0ContinToZZTo4l': 'p_Gen_JJEW_BSI_ghv1_1_ghv2_0p207049_MCFM',\n",
       " 'VBFToHiggs0PHf05ph0ToZZTo4l': 'p_Gen_JJEW_SIG_ghv1_1_ghv2_0p207049_MCFM',\n",
       " 'VBFToHiggs0PHf075ph0ToZZTo4l': 'p_Gen_JJEW_SIG_ghv1_1_ghv2_0p272492_MCFM',\n",
       " 'VBFToHiggs0PHToZZTo4l': 'p_Gen_JJEW_SIG_ghv1_0_ghv2_0p207049_MCFM',\n",
       " 'VBFToHiggs0PMContinToZZTo4l': 'p_Gen_JJEW_BSI_ghv1_1_MCFM',\n",
       " 'VBFToHiggs0PMToZZTo4l': 'p_Gen_JJEW_SIG_ghv1_1_MCFM'}"
      ]
     },
     "execution_count": 18,
     "metadata": {},
     "output_type": "execute_result"
    }
   ],
   "source": [
    "refden"
   ]
  },
  {
   "cell_type": "markdown",
   "id": "915a8a77",
   "metadata": {},
   "source": [
    "# REPEAT THIS SECTION AS NEEDED TO CREATE TEMPLATES AND FILL 'hlist'"
   ]
  },
  {
   "cell_type": "markdown",
   "id": "cd1eba08",
   "metadata": {},
   "source": [
    "##### Note that 'hlist' is expected to look like ['ggH SIG', 'ggH BSI', 'ggH BKG', 'EW SIG', 'EW BSI', 'EW BKG', 'qqbar BKG'] so make the appropriate histograms then append to 'hlist'\n",
    "##### As you change the year, production mode, final state, SIG/BKG/INT mix, and category, you should re-run the 'Fill histogram' cell and check the output before adding the next template to our 'hlist'"
   ]
  },
  {
   "cell_type": "markdown",
   "id": "4616deda",
   "metadata": {},
   "source": [
    "### Set up basic information. Make list to store histograms---do not evaluate this cell unless you want an empty instance of hlist!"
   ]
  },
  {
   "cell_type": "code",
   "execution_count": 19,
   "id": "7345c80b",
   "metadata": {},
   "outputs": [],
   "source": [
    "hlist = ['ggH SIG', 'ggH BSI', 'ggH BKG', 'qqbar BKG']"
   ]
  },
  {
   "cell_type": "code",
   "execution_count": 20,
   "id": "9e60cf56",
   "metadata": {},
   "outputs": [],
   "source": [
    "targetreweight = {\"gg\": [\"p_Gen_GG_SIG_kappaTopBot_1_ghz1_1_MCFM*KFactor_QCD_ggZZ_Nominal\", \"p_Gen_GG_BSI_kappaTopBot_1_ghz1_1_MCFM*KFactor_QCD_ggZZ_Nominal\", \"p_Gen_GG_BKG_MCFM*KFactor_QCD_ggZZ_Nominal\"],\n",
    "                 \"VBF\": [\"p_Gen_JJEW_SIG_ghv1_1_MCFM*0.5\", \"p_Gen_JJEW_BSI_ghv1_1_MCFM*0.5\", \"p_Gen_JJEW_BKG_MCFM*0.5\"],\n",
    "                 \"ZZTo4l\": [\"1\"]}\n",
    "finalstate = {\"4e\": \"121*121\", \"4mu\": \"169*169\", \"2e2mu\": \"121*169\"}"
   ]
  },
  {
   "cell_type": "code",
   "execution_count": 21,
   "id": "f6ea8efc",
   "metadata": {},
   "outputs": [],
   "source": [
    "proc = [\"ggH_0PM\", \"ggH_g11g21_negative\", \"ggH_g11g21_positive\", \"back_ggZZ\", \"back_qqZZ\", \"data_obs\"]"
   ]
  },
  {
   "cell_type": "code",
   "execution_count": 22,
   "id": "63542270",
   "metadata": {},
   "outputs": [],
   "source": [
    "#\"qqH_0PM\", \"qqH_g12g22_negative\", \"qqH_g12g22_positive\", \"back_VVZZ\""
   ]
  },
  {
   "cell_type": "markdown",
   "id": "cabc97ea",
   "metadata": {},
   "source": [
    "### Choose year, production mode, final state, SIG/BKG/INT mix, and category"
   ]
  },
  {
   "cell_type": "code",
   "execution_count": 23,
   "id": "da52dbc5",
   "metadata": {},
   "outputs": [],
   "source": [
    "#configure what you would like to run\n",
    "\n",
    "ltargetyear = [\"MC_2017\",\"MC_2016_CorrectBTag\",\"MC_2018\"]\n",
    "ltargetprod = [\"gg\",\"VBF\",\"ZZTo4l\"]\n",
    "ltargetstate = [\"4mu\",\"4e\",\"2e2mu\"]\n",
    "ltargetcomp = [0,1,2]    # SIG=0 BSI=1 BKG=2    (for the qqbar bkg events in 'ZZTo4l' this choice does not matter as you can see above)\n",
    "ltargetcateg = [0,1,2]  # Untag=0 VBF=1 VH=2"
   ]
  },
  {
   "cell_type": "markdown",
   "id": "7f30e643",
   "metadata": {},
   "source": [
    "### Fill histogram"
   ]
  },
  {
   "cell_type": "code",
   "execution_count": 44,
   "id": "d2b4ba86",
   "metadata": {
    "scrolled": true
   },
   "outputs": [],
   "source": [
    "#syst_weights = []\n",
    "\n",
    "\n",
    "\n",
    "def FillHist(targetprod,targetcomp,targetcateg,h_list) :\n",
    "\n",
    "    print (targetreweight[targetprod][targetcomp])\n",
    "    print (targetprod,targetcomp,targetcateg)\n",
    "    weight = \"{}*((Z1Flav*Z2Flav)==(121*121) ||(Z1Flav*Z2Flav)==(169*169) ||(Z1Flav*Z2Flav)==(121*169)  )*137.1*(ZZMass>=220)*(EventTag=={})*1000*xsec*overallEventWeight*L1prefiringWeight/Bin40\".format(targetreweight[targetprod][targetcomp], targetcateg)\n",
    "    weightewzzup = \"{}*(1.0 + KFactor_EW_qqZZ_unc)*((Z1Flav*Z2Flav)==(121*121) ||(Z1Flav*Z2Flav)==(169*169) ||(Z1Flav*Z2Flav)==(121*169)  )*137.1*(ZZMass>=220)*(EventTag=={})*1000*xsec*overallEventWeight*L1prefiringWeight/Bin40\".format(targetreweight[targetprod][targetcomp], targetcateg)\n",
    "    weightewzzdn = \"{}*(1.0 - KFactor_EW_qqZZ_unc)*((Z1Flav*Z2Flav)==(121*121) ||(Z1Flav*Z2Flav)==(169*169) ||(Z1Flav*Z2Flav)==(121*169)  )*137.1*(ZZMass>=220)*(EventTag=={})*1000*xsec*overallEventWeight*L1prefiringWeight/Bin40\".format(targetreweight[targetprod][targetcomp], targetcateg)\n",
    "    \n",
    "    weightqrup = \"{}*((Z1Flav*Z2Flav)==(121*121) ||(Z1Flav*Z2Flav)==(169*169) ||(Z1Flav*Z2Flav)==(121*169)  )*137.1*(ZZMass>=220)*(EventTag=={})*1000*xsec*overallEventWeight*L1prefiringWeight/Bin40\".format(targetreweight[targetprod][targetcomp], targetcateg)\n",
    "    weightqrdn = \"{}*((Z1Flav*Z2Flav)==(121*121) ||(Z1Flav*Z2Flav)==(169*169) ||(Z1Flav*Z2Flav)==(121*169)  )*137.1*(ZZMass>=220)*(EventTag=={})*1000*xsec*overallEventWeight*L1prefiringWeight/Bin40\".format(targetreweight[targetprod][targetcomp], targetcateg)\n",
    "\n",
    "    \n",
    "    hf = ROOT.TH3F(\"hf\",\"\", len(medges)-1, medges, len(d1edges)-1, d1edges, len(d2edges)-1, d2edges)\n",
    "    hf_systdn = ROOT.TH1F(\"hf_kew_systdn\",\"\",100,0,2000)\n",
    "    hf_systup = ROOT.TH1F(\"hf_kew_systup\",\"\",100,0,2000)\n",
    "    hf_nom    = ROOT.TH1F(\"hf_nom\",\"\",100,0,2000)\n",
    "    \n",
    "    \n",
    "    hf_qr_up  = ROOT.TH1F(\"hf_qr_up\",\"\",100,0,2000)\n",
    "    hf_qr_dn  = ROOT.TH1F(\"hf_qr_dn\",\"\",100,0,2000)\n",
    "\n",
    "    \n",
    "    \n",
    "    \n",
    "    hf.SetDirectory(0)\n",
    "    hf_systdn.SetDirectory(0)\n",
    "    hf_systup.SetDirectory(0)\n",
    "    hf_nom.SetDirectory(0)\n",
    "    \n",
    "    for keynum in trange(len(yeardict.keys())):\n",
    "        year = list(yeardict.keys())[keynum]\n",
    "\n",
    "        #if year != targetyear: continue\n",
    "        #print(\"\\n\", year, lumi[year])\n",
    "\n",
    "        hs = ROOT.TH3F(\"hs\",\"\", len(medges)-1, medges, len(d1edges)-1, d1edges, len(d2edges)-1, d2edges)\n",
    "        hs_systdn = ROOT.TH1F(\"hs_kew_systdn\",\"\",100,0,2000)\n",
    "        hs_systup = ROOT.TH1F(\"hs_kew_systup\",\"\",100,0,2000)\n",
    "        hs_nom    = ROOT.TH1F(\"hs_nom\",\"\",100,0,2000)\n",
    "        \n",
    "        \n",
    "        \n",
    "        hs_qr_up  = ROOT.TH1F(\"hs_qr_up\",\"\",100,0,2000)\n",
    "        hs_qr_dn  = ROOT.TH1F(\"hs_qr_dn\",\"\",100,0,2000)\n",
    "        \n",
    "        hs.SetDirectory(0)\n",
    "        hs_systdn.SetDirectory(0)\n",
    "        hs_systup.SetDirectory(0)\n",
    "        hs_nom.SetDirectory(0)\n",
    "        for decay in yeardict[year][targetprod]:\n",
    "    #         if \"2e2mu\" not in decay[0]: continue\n",
    "            #print(\"\\n\", decay)\n",
    "            ht = ROOT.TH3F(\"ht\",\"\", len(medges)-1, medges, len(d1edges)-1, d1edges, len(d2edges)-1, d2edges)\n",
    "            ht_systdn = ROOT.TH1F(\"ht_kew_systdn\",\"\",100,0,2000)\n",
    "            ht_systup = ROOT.TH1F(\"ht_kew_systup\",\"\",100,0,2000)\n",
    "            ht_nom    = ROOT.TH1F(\"ht_nom\",\"\",100,0,2000)\n",
    "         \n",
    "        \n",
    "            ht_qr_up  = ROOT.TH1F(\"hs_qr_up\",\"\",100,0,2000)\n",
    "            ht_qr_dn  = ROOT.TH1F(\"hs_qr_dn\",\"\",100,0,2000)\n",
    "        \n",
    "            ht.SetDirectory(0)\n",
    "            ht_systdn.SetDirectory(0)\n",
    "            ht_systup.SetDirectory(0)\n",
    "            ht_nom.SetDirectory(0)\n",
    "            count = 0\n",
    "            \n",
    "            \n",
    "            for tfile in trange(len(decay)):\n",
    "\n",
    "                #print(decay[tfile])\n",
    "                if \"VBF\" in decay[tfile]:\n",
    "\n",
    "                    #if \"0L1\" in decay[tfile]: continue\n",
    "                    skey = decay[tfile].split(\"/\")[-2].replace('_M125_GaSM', '')\n",
    "                    sampleweight = refden[skey]\n",
    "    #                 print(sampleweight)\n",
    "                if ( os.stat(decay[tfile]).st_size > 100 ):  \n",
    "                        f = ROOT.TFile(decay[tfile])\n",
    "                        t = f.Get(\"eventTree\")\n",
    "                        htt = ROOT.TH3F(\"htt\",\"\", len(medges)-1, medges, len(d1edges)-1, d1edges, len(d2edges)-1, d2edges)\n",
    "                        htt_ew_systdn = ROOT.TH1F(\"htt_ew_systdn\",\"\",100,0,2000)\n",
    "                        htt_ew_systup = ROOT.TH1F(\"htt_ew_systup\",\"\",100,0,2000)\n",
    "                        htt_nom    = ROOT.TH1F(\"htt_nom\",\"\",100,0,2000)\n",
    "                        \n",
    "                        \n",
    "                        htt_qr_up  = ROOT.TH1F(\"hs_qr_up\",\"\",100,0,2000)\n",
    "                        htt_qr_dn  = ROOT.TH1F(\"hs_qr_dn\",\"\",100,0,2000)\n",
    "                        #print (weight_ewzz_up)\n",
    "                        #print (weight_ewzz_dn)\n",
    "                        #print (weight)\n",
    "\n",
    "                        t.Draw(\"Dbsi:Dbkg:ZZMass>>htt\",weight,\"\")                        \n",
    "                        t.Draw(\"ZZMass>>htt_nom\",weight,\"\")\n",
    "                        t.Draw(\"ZZMass>>htt_ew_systup\",weightewzzup,\"\")\n",
    "                        t.Draw(\"ZZMass>>htt_ew_systdn\",weightewzzdn,\"\")\n",
    "\n",
    "                        \n",
    "                        t.Draw(\"ZZMass>>htt_qr_up\",weightqrup,\"\")    \n",
    "                        t.Draw(\"ZZMass>>htt_qr_dn\",weightqrdn,\"\")    \n",
    "\n",
    "\n",
    "                        print (\"htt_up:\", htt_ew_systup.Integral())\n",
    "                        print (\"htt_dn:\", htt_ew_systdn.Integral())\n",
    "                        \n",
    "                        if count == 0:\n",
    "                            #print(\"ADDED --- htt = \", htt.Integral())\n",
    "                            ht.Add(htt)\n",
    "                            ht_nom.Add(htt_nom)\n",
    "                            ht_systdn.Add(htt_ew_systdn)\n",
    "                            ht_systup.Add(htt_ew_systup)\n",
    "                            \n",
    "                            ht_qr_up.Add(htt_qr_up)\n",
    "                            ht_qr_dn.Add(htt_qr_dn)\n",
    "                            \n",
    "                            \n",
    "                            count+=1\n",
    "                        elif htt.Integral() > ((ht.Integral()/count) + 2*sqrt((ht.Integral()/count))): \n",
    "                            print(\"SKIPPED --- htt = \", htt.Integral())\n",
    "                        elif htt.Integral() < ((ht.Integral()/count) - 2*sqrt((ht.Integral()/count))): \n",
    "                            print(\"SKIPPED --- htt = \", htt.Integral())\n",
    "                        else:\n",
    "                            #print(\"ADDED --- htt = \", htt.Integral())\n",
    "                            ht.Add(htt)\n",
    "                            ht_nom.Add(htt_nom)\n",
    "                            ht_systdn.Add(htt_ew_systdn)\n",
    "                            ht_systup.Add(htt_ew_systup)\n",
    "                            \n",
    "                                            \n",
    "                            ht_qr_up.Add(htt_qr_up)\n",
    "                            ht_qr_dn.Add(htt_qr_dn)    \n",
    "                            \n",
    "                            count+=1\n",
    "            #print(\"ht = \", ht.Integral())\n",
    "            ht.Scale(1/count)\n",
    "            ht_nom.Scale(1/count)\n",
    "            ht_systdn.Scale(1/count)\n",
    "            ht_systup.Scale(1/count)\n",
    "            \n",
    "                    \n",
    "            #print(\"ht = \", ht.Integral())\n",
    "            hs.Add(ht)\n",
    "            hs_systdn.Add(ht_systdn)\n",
    "            hs_systup.Add(ht_systup)\n",
    "            hs_nom.Add(ht_nom)\n",
    "            hs_qr_up.Add(ht_qr_up)\n",
    "            hs_qr_dn.Add(ht_qr_dn) \n",
    "            #print(\"hs = \", hs.Integral())\n",
    "\n",
    "        hf.Add(hs)\n",
    "        hf_systdn.Add(hs_systdn)\n",
    "        hf_systup.Add(hs_systup)\n",
    "        hf_nom.Add(hs_nom)\n",
    "        hf_qr_up.Add(hs_qr_up)\n",
    "        hf_qr_dn.Add(hs_qr_dn) \n",
    "        print(\"hf = \", hf_nom.Integral())\n",
    "\n",
    "        hf.Scale(1/len(yeardict.keys()))\n",
    "        hf_systdn.Scale(1/len(yeardict.keys()))\n",
    "        hf_systup.Scale(1/len(yeardict.keys()))\n",
    "        hf_nom.Scale(1/len(yeardict.keys()))\n",
    "        \n",
    "        h_list.append(hf)\n",
    "        h_list.append(hf_systdn)\n",
    "        h_list.append(hf_systup)\n",
    "        h_list.append(hf_nom)\n"
   ]
  },
  {
   "cell_type": "code",
   "execution_count": 36,
   "id": "8556020c",
   "metadata": {
    "scrolled": true
   },
   "outputs": [
    {
     "name": "stdout",
     "output_type": "stream",
     "text": [
      "1\n",
      "ZZTo4l 0 0\n"
     ]
    },
    {
     "data": {
      "application/vnd.jupyter.widget-view+json": {
       "model_id": "00908937a8df4dd4a67faa3577793df5",
       "version_major": 2,
       "version_minor": 0
      },
      "text/plain": [
       "  0%|          | 0/3 [00:00<?, ?it/s]"
      ]
     },
     "metadata": {},
     "output_type": "display_data"
    },
    {
     "data": {
      "application/vnd.jupyter.widget-view+json": {
       "model_id": "2f5ae303f70f439f80be46305cde94b7",
       "version_major": 2,
       "version_minor": 0
      },
      "text/plain": [
       "  0%|          | 0/2 [00:00<?, ?it/s]"
      ]
     },
     "metadata": {},
     "output_type": "display_data"
    },
    {
     "name": "stdout",
     "output_type": "stream",
     "text": [
      "htt_up: 1688.2571890113177\n",
      "htt_dn: 1554.8258444651728\n",
      "htt_up: 1689.7968715112656\n",
      "htt_dn: 1556.3943823096342\n",
      "hf =  1622.3175827043597\n"
     ]
    },
    {
     "data": {
      "application/vnd.jupyter.widget-view+json": {
       "model_id": "95e79771d8c8472b8e99942ee4238c97",
       "version_major": 2,
       "version_minor": 0
      },
      "text/plain": [
       "  0%|          | 0/2 [00:00<?, ?it/s]"
      ]
     },
     "metadata": {},
     "output_type": "display_data"
    },
    {
     "name": "stdout",
     "output_type": "stream",
     "text": [
      "htt_up: 1742.1438536383212\n",
      "htt_dn: 1605.9936493765563\n",
      "htt_up: 1750.7220609281212\n",
      "htt_dn: 1613.4338557412848\n",
      "hf =  2218.846085353289\n"
     ]
    },
    {
     "data": {
      "application/vnd.jupyter.widget-view+json": {
       "model_id": "1503a5a04c31432cbaa2b9de9b7b8daf",
       "version_major": 2,
       "version_minor": 0
      },
      "text/plain": [
       "  0%|          | 0/2 [00:00<?, ?it/s]"
      ]
     },
     "metadata": {},
     "output_type": "display_data"
    },
    {
     "name": "stdout",
     "output_type": "stream",
     "text": [
      "htt_up: 1771.0366717278957\n",
      "htt_dn: 1631.778073284775\n",
      "htt_up: 1767.7113467548043\n",
      "htt_dn: 1628.9384923703037\n",
      "hf =  2439.4812081027776\n",
      "1\n",
      "ZZTo4l 0 1\n"
     ]
    },
    {
     "data": {
      "application/vnd.jupyter.widget-view+json": {
       "model_id": "3f269ebf964243fa97cbd104d195e969",
       "version_major": 2,
       "version_minor": 0
      },
      "text/plain": [
       "  0%|          | 0/3 [00:00<?, ?it/s]"
      ]
     },
     "metadata": {},
     "output_type": "display_data"
    },
    {
     "data": {
      "application/vnd.jupyter.widget-view+json": {
       "model_id": "88faff91c6634d7cb05fcb7bfa1aed1d",
       "version_major": 2,
       "version_minor": 0
      },
      "text/plain": [
       "  0%|          | 0/2 [00:00<?, ?it/s]"
      ]
     },
     "metadata": {},
     "output_type": "display_data"
    },
    {
     "name": "stdout",
     "output_type": "stream",
     "text": [
      "htt_up: 26.919597275555134\n",
      "htt_dn: 23.843024820787832\n",
      "htt_up: 26.280749829369597\n",
      "htt_dn: 23.271027385548223\n",
      "hf =  25.078598845284432\n"
     ]
    },
    {
     "data": {
      "application/vnd.jupyter.widget-view+json": {
       "model_id": "f885dd642948432abf84ebc8bd43fb7e",
       "version_major": 2,
       "version_minor": 0
      },
      "text/plain": [
       "  0%|          | 0/2 [00:00<?, ?it/s]"
      ]
     },
     "metadata": {},
     "output_type": "display_data"
    },
    {
     "name": "stdout",
     "output_type": "stream",
     "text": [
      "htt_up: 31.525123390136287\n",
      "htt_dn: 27.999687525560148\n",
      "htt_up: 30.807708969980013\n",
      "htt_dn: 27.429137404775247\n",
      "hf =  37.79995007449179\n"
     ]
    },
    {
     "data": {
      "application/vnd.jupyter.widget-view+json": {
       "model_id": "b257a5394a844e6397251f157b945f3c",
       "version_major": 2,
       "version_minor": 0
      },
      "text/plain": [
       "  0%|          | 0/2 [00:00<?, ?it/s]"
      ]
     },
     "metadata": {},
     "output_type": "display_data"
    },
    {
     "name": "stdout",
     "output_type": "stream",
     "text": [
      "htt_up: 21.7420869958587\n",
      "htt_dn: 19.21578185830731\n",
      "htt_up: 23.102020246442407\n",
      "htt_dn: 20.416753031429835\n",
      "hf =  33.719143305344915\n",
      "1\n",
      "ZZTo4l 0 2\n"
     ]
    },
    {
     "data": {
      "application/vnd.jupyter.widget-view+json": {
       "model_id": "1557aba43c904c31a7d503de8f3f36bb",
       "version_major": 2,
       "version_minor": 0
      },
      "text/plain": [
       "  0%|          | 0/3 [00:00<?, ?it/s]"
      ]
     },
     "metadata": {},
     "output_type": "display_data"
    },
    {
     "data": {
      "application/vnd.jupyter.widget-view+json": {
       "model_id": "fe98aa29bf8d43d7ac9ffca11afee097",
       "version_major": 2,
       "version_minor": 0
      },
      "text/plain": [
       "  0%|          | 0/2 [00:00<?, ?it/s]"
      ]
     },
     "metadata": {},
     "output_type": "display_data"
    },
    {
     "name": "stdout",
     "output_type": "stream",
     "text": [
      "htt_up: 47.39731631800532\n",
      "htt_dn: 41.20633623935282\n",
      "htt_up: 48.69166197278537\n",
      "htt_dn: 42.45509499113541\n",
      "hf =  44.937601465557236\n"
     ]
    },
    {
     "data": {
      "application/vnd.jupyter.widget-view+json": {
       "model_id": "58750a68615f4bc9874984d6e5e95db0",
       "version_major": 2,
       "version_minor": 0
      },
      "text/plain": [
       "  0%|          | 0/2 [00:00<?, ?it/s]"
      ]
     },
     "metadata": {},
     "output_type": "display_data"
    },
    {
     "name": "stdout",
     "output_type": "stream",
     "text": [
      "htt_up: 44.7316630781861\n",
      "htt_dn: 39.04124663112452\n",
      "htt_up: 45.28389389504446\n",
      "htt_dn: 39.553479511712794\n",
      "hf =  57.131771515269065\n"
     ]
    },
    {
     "data": {
      "application/vnd.jupyter.widget-view+json": {
       "model_id": "469f578a65e94a52a2b82978b03ff5c3",
       "version_major": 2,
       "version_minor": 0
      },
      "text/plain": [
       "  0%|          | 0/2 [00:00<?, ?it/s]"
      ]
     },
     "metadata": {},
     "output_type": "display_data"
    },
    {
     "name": "stdout",
     "output_type": "stream",
     "text": [
      "htt_up: 46.80426082666963\n",
      "htt_dn: 40.85119700501673\n",
      "htt_up: 45.80764348455705\n",
      "htt_dn: 39.94304716028273\n",
      "hf =  62.395461795334995\n"
     ]
    }
   ],
   "source": [
    "'''\n",
    "h_gg_unt =[]\n",
    "print (h_gg_unt)\n",
    "for tcomp in ltargetcomp: \n",
    "       FillHist(\"gg\",tcomp,0,h_gg_unt)\n",
    "\n",
    "h_gg_vbf =[]\n",
    "for tcomp in ltargetcomp: \n",
    "       FillHist(\"gg\",tcomp,1,h_gg_vbf)\n",
    "\n",
    "h_gg_vh =[]\n",
    "for tcomp in ltargetcomp: \n",
    "       FillHist(\"gg\",tcomp,2,h_gg_vh)      \n",
    "        \n",
    "#=========================================  \n",
    "h_ew_unt =[]\n",
    "for tcomp in ltargetcomp: \n",
    "       FillHist(\"VBF\",tcomp,0,h_ew_unt)\n",
    "\n",
    "h_ew_vbf =[]\n",
    "for tcomp in ltargetcomp: \n",
    "       FillHist(\"VBF\",tcomp,1,h_ew_vbf)\n",
    "\n",
    "h_ew_vh =[]\n",
    "for tcomp in ltargetcomp: \n",
    "       FillHist(\"VBF\",tcomp,2,h_ew_vh)      \n",
    "              \n",
    "#=========================================  \n",
    "''' \n",
    "h_bkg_unt =[]\n",
    "FillHist(\"ZZTo4l\",0,0,h_bkg_unt)\n",
    "\n",
    "h_bkg_vbf =[]\n",
    "FillHist(\"ZZTo4l\",0,1,h_bkg_vbf)\n",
    "    \n",
    "h_bkg_vh =[]\n",
    "FillHist(\"ZZTo4l\",0,2,h_bkg_vh)      \n",
    "       "
   ]
  },
  {
   "cell_type": "markdown",
   "id": "8ea757af",
   "metadata": {},
   "source": [
    "### Add to 'hlist' if the output looks reasonable above"
   ]
  },
  {
   "cell_type": "code",
   "execution_count": 43,
   "id": "7eff290f",
   "metadata": {},
   "outputs": [
    {
     "name": "stdout",
     "output_type": "stream",
     "text": [
      "779.9250292308861\n"
     ]
    },
    {
     "name": "stderr",
     "output_type": "stream",
     "text": [
      "Warning in <TCanvas::Constructor>: Deleting canvas with same name: c1\n",
      "Info in <TCanvas::Print>: png file back_ew_qqzz.png has been created\n",
      "Info in <TCanvas::Print>: pdf file back_ew_qqzz.pdf has been created\n"
     ]
    },
    {
     "data": {
      "text/html": [
       "\n",
       "\n",
       "<div id=\"root_plot_1642781687274\"\n",
       "     style=\"width: 1796px; height: 572px\">\n",
       "</div>\n",
       "<script>\n",
       "\n",
       "function display_root_plot_1642781687274(Core) {\n",
       "   let obj = Core.parse({\"_typename\":\"TCanvas\",\"fUniqueID\":0,\"fBits\":3342344,\"fLineColor\":1,\"fLineStyle\":1,\"fLineWidth\":1,\"fFillColor\":0,\"fFillStyle\":1001,\"fLeftMargin\":0.1,\"fRightMargin\":0.1,\"fBottomMargin\":0.1,\"fTopMargin\":0.1,\"fXfile\":2,\"fYfile\":2,\"fAfile\":1,\"fXstat\":0.99,\"fYstat\":0.99,\"fAstat\":2,\"fFrameFillColor\":0,\"fFrameLineColor\":1,\"fFrameFillStyle\":1001,\"fFrameLineStyle\":1,\"fFrameLineWidth\":1,\"fFrameBorderSize\":1,\"fFrameBorderMode\":0,\"fX1\":0,\"fY1\":0,\"fX2\":1,\"fY2\":1,\"fXtoAbsPixelk\":5e-5,\"fXtoPixelk\":5e-5,\"fXtoPixel\":1796,\"fYtoAbsPixelk\":572.00005,\"fYtoPixelk\":572.00005,\"fYtoPixel\":-572,\"fUtoAbsPixelk\":5e-5,\"fUtoPixelk\":5e-5,\"fUtoPixel\":1796,\"fVtoAbsPixelk\":572.00005,\"fVtoPixelk\":572,\"fVtoPixel\":-572,\"fAbsPixeltoXk\":0,\"fPixeltoXk\":0,\"fPixeltoX\":5.56792873051225e-4,\"fAbsPixeltoYk\":1,\"fPixeltoYk\":0,\"fPixeltoY\":-0.00174825174825175,\"fXlowNDC\":0,\"fYlowNDC\":0,\"fXUpNDC\":1,\"fYUpNDC\":1,\"fWNDC\":1,\"fHNDC\":1,\"fAbsXlowNDC\":0,\"fAbsYlowNDC\":0,\"fAbsWNDC\":1,\"fAbsHNDC\":1,\"fUxmin\":0,\"fUymin\":0,\"fUxmax\":1,\"fUymax\":1,\"fTheta\":30,\"fPhi\":30,\"fAspectRatio\":0,\"fNumber\":0,\"fTickx\":0,\"fTicky\":0,\"fLogx\":0,\"fLogy\":0,\"fLogz\":0,\"fPadPaint\":0,\"fCrosshair\":0,\"fCrosshairPos\":0,\"fBorderSize\":2,\"fBorderMode\":0,\"fModified\":false,\"fGridx\":false,\"fGridy\":false,\"fAbsCoord\":false,\"fEditable\":true,\"fFixedAspectRatio\":false,\"fPrimitives\":{\"_typename\":\"TList\",\"name\":\"TList\",\"arr\":[{\"_typename\":\"TPad\",\"fUniqueID\":0,\"fBits\":9,\"fLineColor\":1,\"fLineStyle\":1,\"fLineWidth\":1,\"fFillColor\":0,\"fFillStyle\":1001,\"fLeftMargin\":0.1,\"fRightMargin\":0.1,\"fBottomMargin\":0.1,\"fTopMargin\":0.1,\"fXfile\":2,\"fYfile\":2,\"fAfile\":1,\"fXstat\":0.99,\"fYstat\":0.99,\"fAstat\":2,\"fFrameFillColor\":0,\"fFrameLineColor\":1,\"fFrameFillStyle\":1001,\"fFrameLineStyle\":1,\"fFrameLineWidth\":1,\"fFrameBorderSize\":1,\"fFrameBorderMode\":0,\"fX1\":-250.000018626453,\"fY1\":-3.58956014095035,\"fX2\":2250.00001862645,\"fY2\":3.22932540451088,\"fXtoAbsPixelk\":74.2347196997485,\"fXtoPixelk\":56.2747201011858,\"fXtoPixel\":0.225098663633585,\"fYtoAbsPixelk\":271.193144780346,\"fYtoPixelk\":265.473144908198,\"fYtoPixel\":-82.2069818474695,\"fUtoAbsPixelk\":17.9600495985627,\"fUtoPixelk\":5e-5,\"fUtoPixel\":562.746667469541,\"fVtoAbsPixelk\":566.280050127852,\"fVtoPixelk\":560.560000255704,\"fVtoPixel\":-560.560000255704,\"fAbsPixeltoXk\":-329.787251960712,\"fPixeltoXk\":-250.000018626453,\"fPixeltoX\":4.44249638739659,\"fAbsPixeltoYk\":3.2989058676735,\"fPixeltoYk\":-3.58956014095035,\"fPixeltoY\":-0.0121644169087176,\"fXlowNDC\":0.00999999977648258,\"fYlowNDC\":0.00999999977648258,\"fXUpNDC\":0.323333333556851,\"fYUpNDC\":0.990000000223517,\"fWNDC\":0.313333333780368,\"fHNDC\":0.980000000447035,\"fAbsXlowNDC\":0.00999999977648258,\"fAbsYlowNDC\":0.00999999977648258,\"fAbsWNDC\":0.313333333780368,\"fAbsHNDC\":0.980000000447035,\"fUxmin\":0,\"fUymin\":-2.9076715457605,\"fUxmax\":2000,\"fUymax\":2.54743680932103,\"fTheta\":30,\"fPhi\":30,\"fAspectRatio\":0,\"fNumber\":1,\"fTickx\":0,\"fTicky\":0,\"fLogx\":0,\"fLogy\":1,\"fLogz\":0,\"fPadPaint\":0,\"fCrosshair\":0,\"fCrosshairPos\":0,\"fBorderSize\":2,\"fBorderMode\":0,\"fModified\":false,\"fGridx\":false,\"fGridy\":false,\"fAbsCoord\":false,\"fEditable\":true,\"fFixedAspectRatio\":false,\"fPrimitives\":{\"_typename\":\"TList\",\"name\":\"TList\",\"arr\":[{\"_typename\":\"TFrame\",\"fUniqueID\":0,\"fBits\":8,\"fLineColor\":1,\"fLineStyle\":1,\"fLineWidth\":1,\"fFillColor\":0,\"fFillStyle\":1001,\"fX1\":0,\"fY1\":-2.9076715457605,\"fX2\":2000,\"fY2\":2.54743680932103,\"fBorderSize\":1,\"fBorderMode\":0},{\"_typename\":\"TH1F\",\"fUniqueID\":0,\"fBits\":8,\"fName\":\"hf_nom\",\"fTitle\":\"\",\"fLineColor\":2,\"fLineStyle\":1,\"fLineWidth\":1,\"fFillColor\":0,\"fFillStyle\":1001,\"fMarkerColor\":1,\"fMarkerStyle\":1,\"fMarkerSize\":1,\"fNcells\":102,\"fXaxis\":{\"_typename\":\"TAxis\",\"fUniqueID\":0,\"fBits\":0,\"fName\":\"xaxis\",\"fTitle\":\"qqZZ Untagged background m4l [GeV]\",\"fNdivisions\":510,\"fAxisColor\":1,\"fLabelColor\":1,\"fLabelFont\":42,\"fLabelOffset\":0.005,\"fLabelSize\":0.035,\"fTickLength\":0.03,\"fTitleOffset\":1,\"fTitleSize\":0.035,\"fTitleColor\":1,\"fTitleFont\":42,\"fNbins\":100,\"fXmin\":0,\"fXmax\":2000,\"fXbins\":[],\"fFirst\":0,\"fLast\":0,\"fBits2\":0,\"fTimeDisplay\":false,\"fTimeFormat\":\"\",\"fLabels\":null,\"fModLabs\":null},\"fYaxis\":{\"_typename\":\"TAxis\",\"fUniqueID\":0,\"fBits\":0,\"fName\":\"yaxis\",\"fTitle\":\"\",\"fNdivisions\":510,\"fAxisColor\":1,\"fLabelColor\":1,\"fLabelFont\":42,\"fLabelOffset\":0.005,\"fLabelSize\":0.035,\"fTickLength\":0.03,\"fTitleOffset\":0,\"fTitleSize\":0.035,\"fTitleColor\":1,\"fTitleFont\":42,\"fNbins\":1,\"fXmin\":0,\"fXmax\":1,\"fXbins\":[],\"fFirst\":0,\"fLast\":0,\"fBits2\":0,\"fTimeDisplay\":false,\"fTimeFormat\":\"\",\"fLabels\":null,\"fModLabs\":null},\"fZaxis\":{\"_typename\":\"TAxis\",\"fUniqueID\":0,\"fBits\":0,\"fName\":\"zaxis\",\"fTitle\":\"\",\"fNdivisions\":510,\"fAxisColor\":1,\"fLabelColor\":1,\"fLabelFont\":42,\"fLabelOffset\":0.005,\"fLabelSize\":0.035,\"fTickLength\":0.03,\"fTitleOffset\":1,\"fTitleSize\":0.035,\"fTitleColor\":1,\"fTitleFont\":42,\"fNbins\":1,\"fXmin\":0,\"fXmax\":1,\"fXbins\":[],\"fFirst\":0,\"fLast\":0,\"fBits2\":0,\"fTimeDisplay\":false,\"fTimeFormat\":\"\",\"fLabels\":null,\"fModLabs\":null},\"fBarOffset\":0,\"fBarWidth\":1000,\"fEntries\":3198927,\"fTsumw\":813.160293389917,\"fTsumw2\":1.41177576179318,\"fTsumwx\":255443.144411753,\"fTsumwx2\":91885068.1682917,\"fMaximum\":-1111,\"fMinimum\":-1111,\"fNormFactor\":0,\"fContour\":[],\"fSumw2\":[0,0,0,0,0,0,0,0,0,0,0,0,0.320297034296228,0.236011892276771,0.178201390656086,0.132815252369338,0.104259173690056,0.0793140168991313,0.0653448950861224,0.048696172026984,0.0390391111573352,0.0325735679352015,0.0265672369989913,0.0218222968955934,0.0191000783234574,0.0150765803354741,0.0125387033620839,0.0112539091014595,0.00922880141043667,0.00748499099798764,0.00639114286895963,0.00525508021957867,0.00426231961420636,0.0040469011127155,0.00406703698022621,0.00311634033517493,0.00233864598794768,0.001852334250427,0.00216479119974851,0.00180496102361258,0.00195507260776295,0.00154234231994289,0.0015777230099671,0.00125371692194329,9.0865872231253e-4,8.34774963471198e-4,7.90424466996428e-4,8.12699781224594e-4,8.18925622889417e-4,4.89601526010046e-4,5.64972965085499e-4,3.5888845199651e-4,4.74457197516728e-4,3.00218303747117e-4,2.18945559664656e-4,2.91204974833785e-4,2.62904470009323e-4,2.27845478093577e-4,1.71917735919564e-4,2.12941356892029e-4,4.43318932688786e-4,2.12715900791403e-4,7.61197969302368e-5,1.43204978278608e-4,1.70268065456128e-4,1.02583927552453e-4,1.94327939538635e-4,1.8516273595478e-4,1.27106172625233e-4,3.84331450508031e-5,1.17499339002329e-4,1.21459091854592e-4,8.78115858390111e-5,4.61762537092342e-5,1.49357216497099e-5,1.57343415436758e-5,8.60489471678075e-5,7.56234347735264e-5,4.83526838455987e-6,8.22550538587188e-6,7.84681736383719e-5,4.99118398330889e-6,2.65223198369396e-5,6.41015637655999e-6,6.53025293220302e-6,6.97044008782993e-5,4.5080794835212e-6,3.55318091827024e-5,3.10468789968626e-6,3.02799386106466e-5,3.81134620588251e-6,3.05015417478259e-6,3.59302586296342e-5,2.35888000111036e-5,3.7311965092351e-5,1.71862114034876e-5,9.93334496088484e-5,1.02963495130808e-6,5.49989871119489e-7,2.10237265292042e-5,2.41032210519941e-6,1.8286404071314e-4],\"fOption\":\"\",\"fFunctions\":{\"_typename\":\"TList\",\"name\":\"TList\",\"arr\":[{\"_typename\":\"TPaveStats\",\"fUniqueID\":0,\"fBits\":9,\"fLineColor\":1,\"fLineStyle\":1,\"fLineWidth\":1,\"fFillColor\":0,\"fFillStyle\":1001,\"fX1\":1700.00005066395,\"fY1\":1.69507619742583,\"fX2\":2200.00006556511,\"fY2\":2.78609786031339,\"fX1NDC\":0.780000016093254,\"fY1NDC\":0.775000005960464,\"fX2NDC\":0.980000019073486,\"fY2NDC\":0.935000002384186,\"fBorderSize\":1,\"fInit\":1,\"fShadowColor\":1,\"fCornerRadius\":0,\"fOption\":\"brNDC\",\"fName\":\"stats\",\"fTextAngle\":0,\"fTextSize\":0,\"fTextAlign\":12,\"fTextColor\":1,\"fTextFont\":42,\"fLabel\":\"\",\"fLongest\":18,\"fMargin\":0.05,\"fLines\":{\"_typename\":\"TList\",\"name\":\"TList\",\"arr\":[{\"_typename\":\"TLatex\",\"fUniqueID\":0,\"fBits\":0,\"fName\":\"\",\"fTitle\":\"hf_nom\",\"fTextAngle\":0,\"fTextSize\":0.0368,\"fTextAlign\":0,\"fTextColor\":0,\"fTextFont\":0,\"fX\":0,\"fY\":0,\"fLineColor\":1,\"fLineStyle\":1,\"fLineWidth\":2,\"fLimitFactorSize\":3,\"fOriginSize\":0.0367999991774559},{\"_typename\":\"TLatex\",\"fUniqueID\":0,\"fBits\":0,\"fName\":\"\",\"fTitle\":\"Entries = 3198927\",\"fTextAngle\":0,\"fTextSize\":0,\"fTextAlign\":0,\"fTextColor\":0,\"fTextFont\":0,\"fX\":0,\"fY\":0,\"fLineColor\":1,\"fLineStyle\":1,\"fLineWidth\":2,\"fLimitFactorSize\":3,\"fOriginSize\":0.0230290237814188},{\"_typename\":\"TLatex\",\"fUniqueID\":0,\"fBits\":0,\"fName\":\"\",\"fTitle\":\"Mean  =  314.1\",\"fTextAngle\":0,\"fTextSize\":0,\"fTextAlign\":0,\"fTextColor\":0,\"fTextFont\":0,\"fX\":0,\"fY\":0,\"fLineColor\":1,\"fLineStyle\":1,\"fLineWidth\":2,\"fLimitFactorSize\":3,\"fOriginSize\":0.0230290237814188},{\"_typename\":\"TLatex\",\"fUniqueID\":0,\"fBits\":0,\"fName\":\"\",\"fTitle\":\"Std Dev   =  119.6\",\"fTextAngle\":0,\"fTextSize\":0,\"fTextAlign\":0,\"fTextColor\":0,\"fTextFont\":0,\"fX\":0,\"fY\":0,\"fLineColor\":1,\"fLineStyle\":1,\"fLineWidth\":2,\"fLimitFactorSize\":3,\"fOriginSize\":0.0230290237814188}],\"opt\":[\"\",\"\",\"\",\"\"]},\"fOptFit\":0,\"fOptStat\":1111,\"fFitFormat\":\"5.4g\",\"fStatFormat\":\"6.4g\",\"fParent\":{\"$ref\":5}}],\"opt\":[\"brNDC\"]},\"fBufferSize\":0,\"fBuffer\":[],\"fBinStatErrOpt\":0,\"fStatOverflows\":2,\"fArray\":[0,0,0,0,0,0,0,0,0,0,0,0,186.1607,137.9848,103.1605,77.35851,59.35645,45.71742,36.29893,28.36314,22.74181,18.48583,15.06384,12.34462,10.26562,8.364215,7.003646,6.20228,5.018938,4.223586,3.558332,3.046724,2.533856,2.248187,2.057559,1.74341,1.422598,1.206487,1.171836,0.9880612,0.9732205,0.8226547,0.7757748,0.6593229,0.5368986,0.5058093,0.3888097,0.4206009,0.3915106,0.3114896,0.2961794,0.2482557,0.2326746,0.1926364,0.1750991,0.1784136,0.1482847,0.1399466,0.1189278,0.1209628,0.1283639,0.1058297,0.06961686,0.08214185,0.08106357,0.06936366,0.07598449,0.07875758,0.0638018,0.04360889,0.05752252,0.04995363,0.04656826,0.03370195,0.0285823,0.02279465,0.04467861,0.03665221,0.01396733,0.02155788,0.03171161,0.01389549,0.01795069,0.01610774,0.01093789,0.02679466,0.01250222,0.01535168,0.009630934,0.01236364,0.009211369,0.007938336,0.01503157,0.01133548,0.01122809,0.01020928,0.02333333,0.003967884,0.002473765,0.009151646,0.005438502,0.1016332]},{\"_typename\":\"TH1F\",\"fUniqueID\":0,\"fBits\":8,\"fName\":\"hf_kew_systdn\",\"fTitle\":\"\",\"fLineColor\":602,\"fLineStyle\":2,\"fLineWidth\":1,\"fFillColor\":0,\"fFillStyle\":1001,\"fMarkerColor\":1,\"fMarkerStyle\":1,\"fMarkerSize\":1,\"fNcells\":102,\"fXaxis\":{\"_typename\":\"TAxis\",\"fUniqueID\":0,\"fBits\":0,\"fName\":\"xaxis\",\"fTitle\":\"\",\"fNdivisions\":510,\"fAxisColor\":1,\"fLabelColor\":1,\"fLabelFont\":42,\"fLabelOffset\":0.005,\"fLabelSize\":0.035,\"fTickLength\":0.03,\"fTitleOffset\":1,\"fTitleSize\":0.035,\"fTitleColor\":1,\"fTitleFont\":42,\"fNbins\":100,\"fXmin\":0,\"fXmax\":2000,\"fXbins\":[],\"fFirst\":0,\"fLast\":0,\"fBits2\":0,\"fTimeDisplay\":false,\"fTimeFormat\":\"\",\"fLabels\":null,\"fModLabs\":null},\"fYaxis\":{\"_typename\":\"TAxis\",\"fUniqueID\":0,\"fBits\":0,\"fName\":\"yaxis\",\"fTitle\":\"\",\"fNdivisions\":510,\"fAxisColor\":1,\"fLabelColor\":1,\"fLabelFont\":42,\"fLabelOffset\":0.005,\"fLabelSize\":0.035,\"fTickLength\":0.03,\"fTitleOffset\":0,\"fTitleSize\":0.035,\"fTitleColor\":1,\"fTitleFont\":42,\"fNbins\":1,\"fXmin\":0,\"fXmax\":1,\"fXbins\":[],\"fFirst\":0,\"fLast\":0,\"fBits2\":0,\"fTimeDisplay\":false,\"fTimeFormat\":\"\",\"fLabels\":null,\"fModLabs\":null},\"fZaxis\":{\"_typename\":\"TAxis\",\"fUniqueID\":0,\"fBits\":0,\"fName\":\"zaxis\",\"fTitle\":\"\",\"fNdivisions\":510,\"fAxisColor\":1,\"fLabelColor\":1,\"fLabelFont\":42,\"fLabelOffset\":0.005,\"fLabelSize\":0.035,\"fTickLength\":0.03,\"fTitleOffset\":1,\"fTitleSize\":0.035,\"fTitleColor\":1,\"fTitleFont\":42,\"fNbins\":1,\"fXmin\":0,\"fXmax\":1,\"fXbins\":[],\"fFirst\":0,\"fLast\":0,\"fBits2\":0,\"fTimeDisplay\":false,\"fTimeFormat\":\"\",\"fLabels\":null,\"fModLabs\":null},\"fBarOffset\":0,\"fBarWidth\":1000,\"fEntries\":3198927,\"fTsumw\":779.924197774349,\"fTsumw2\":1.29770998146353,\"fTsumwx\":242995.282025337,\"fTsumwx2\":86104288.2101865,\"fMaximum\":-1111,\"fMinimum\":-1111,\"fNormFactor\":0,\"fContour\":[],\"fSumw2\":[0,0,0,0,0,0,0,0,0,0,0,0,0.305087012846319,0.222243608907212,0.166458264536327,0.122976702298425,0.0956850129932425,0.0722771885911777,0.0590110079817109,0.0435064768111197,0.0346470006658672,0.0286840163470566,0.0232969496903904,0.0190158999945946,0.0165394425904983,0.0129205658601438,0.0107403281130747,0.00958236937240018,0.00782082624396933,0.00625161962149005,0.00527450347037353,0.00436574802891149,0.00353460536212967,0.00329012388879325,0.00327197436841222,0.00251687100213069,0.00184578503936431,0.00146935097838562,0.00168208215238745,0.0013565902539048,0.00155447597740357,0.00115889354421596,0.00120602950378683,9.71556128249306e-4,6.72719492335357e-4,6.34179977331608e-4,5.53264326847986e-4,6.00222420348228e-4,5.92410975025217e-4,3.61549006038191e-4,4.01930350933347e-4,2.81487144580663e-4,3.40716086880314e-4,2.10195614570131e-4,1.56656752264898e-4,2.01177587674391e-4,1.91578030122214e-4,1.52028403442018e-4,1.10612922707993e-4,1.47965057110156e-4,3.30857423658206e-4,1.47508338846363e-4,5.21315644147284e-5,9.89338854691599e-5,1.12781376980433e-4,6.57635148192026e-5,1.17380324371031e-4,1.27470615789722e-4,8.26488724112492e-5,2.38052131808194e-5,8.07739284745938e-5,8.11687301763371e-5,5.18507075936216e-5,3.66727222751813e-5,1.0128125968739e-5,8.67804292007905e-6,5.76963850670908e-5,5.04217236830214e-5,3.60116099614443e-6,5.16913511545543e-6,5.50780023862962e-5,3.22076250096589e-6,1.33163070470293e-5,3.9151725423425e-6,3.89794758729852e-6,4.71823547911806e-5,2.707881635948e-6,1.78460798554717e-5,1.77374902690748e-6,1.58925466737577e-5,2.1437476419258e-6,1.74531635459835e-6,2.15058969436567e-5,1.97070033041097e-5,1.87464923375782e-5,1.11287253164196e-5,6.22419860901089e-5,6.32420043401882e-7,3.24975907215674e-7,8.52653390141253e-6,1.42845773963889e-6,9.64768716140509e-5],\"fOption\":\"\",\"fFunctions\":{\"_typename\":\"TList\",\"name\":\"TList\",\"arr\":[],\"opt\":[]},\"fBufferSize\":0,\"fBuffer\":[],\"fBinStatErrOpt\":0,\"fStatOverflows\":2,\"fArray\":[0,0,0,0,0,0,0,0,0,0,0,0,181.7471,133.9971,99.73562,74.46879,56.90361,43.6412,34.5037,26.84447,21.43593,17.34863,14.09388,11.51136,9.547925,7.754475,6.480016,5.716022,4.613816,3.858662,3.239703,2.769959,2.298135,2.026799,1.844533,1.564187,1.266154,1.070906,1.034945,0.8666887,0.8607798,0.7161005,0.6773238,0.5771403,0.4634732,0.4390055,0.3335797,0.3610372,0.3344574,0.2663461,0.251082,0.21424,0.1971793,0.1621898,0.1474989,0.1492127,0.1248703,0.1156061,0.09692121,0.1003036,0.1072449,0.08769962,0.05761817,0.06738814,0.06637418,0.05588336,0.06022009,0.06400137,0.05121474,0.03520121,0.04646422,0.04016033,0.03659992,0.02746828,0.02271687,0.01803001,0.03567963,0.02954604,0.01157302,0.0171786,0.02569629,0.01098575,0.01366615,0.0125876,0.008460649,0.02151091,0.009607237,0.01154602,0.007278996,0.009074804,0.006963568,0.006046379,0.01143884,0.009418926,0.008174106,0.008142031,0.01824223,0.003049673,0.001868398,0.006258699,0.004099664,0.07313889]},{\"_typename\":\"TH1F\",\"fUniqueID\":0,\"fBits\":8,\"fName\":\"hf_kew_systup\",\"fTitle\":\"\",\"fLineColor\":602,\"fLineStyle\":2,\"fLineWidth\":1,\"fFillColor\":0,\"fFillStyle\":1001,\"fMarkerColor\":1,\"fMarkerStyle\":1,\"fMarkerSize\":1,\"fNcells\":102,\"fXaxis\":{\"_typename\":\"TAxis\",\"fUniqueID\":0,\"fBits\":0,\"fName\":\"xaxis\",\"fTitle\":\"\",\"fNdivisions\":510,\"fAxisColor\":1,\"fLabelColor\":1,\"fLabelFont\":42,\"fLabelOffset\":0.005,\"fLabelSize\":0.035,\"fTickLength\":0.03,\"fTitleOffset\":1,\"fTitleSize\":0.035,\"fTitleColor\":1,\"fTitleFont\":42,\"fNbins\":100,\"fXmin\":0,\"fXmax\":2000,\"fXbins\":[],\"fFirst\":0,\"fLast\":0,\"fBits2\":0,\"fTimeDisplay\":false,\"fTimeFormat\":\"\",\"fLabels\":null,\"fModLabs\":null},\"fYaxis\":{\"_typename\":\"TAxis\",\"fUniqueID\":0,\"fBits\":0,\"fName\":\"yaxis\",\"fTitle\":\"\",\"fNdivisions\":510,\"fAxisColor\":1,\"fLabelColor\":1,\"fLabelFont\":42,\"fLabelOffset\":0.005,\"fLabelSize\":0.035,\"fTickLength\":0.03,\"fTitleOffset\":0,\"fTitleSize\":0.035,\"fTitleColor\":1,\"fTitleFont\":42,\"fNbins\":1,\"fXmin\":0,\"fXmax\":1,\"fXbins\":[],\"fFirst\":0,\"fLast\":0,\"fBits2\":0,\"fTimeDisplay\":false,\"fTimeFormat\":\"\",\"fLabels\":null,\"fModLabs\":null},\"fZaxis\":{\"_typename\":\"TAxis\",\"fUniqueID\":0,\"fBits\":0,\"fName\":\"zaxis\",\"fTitle\":\"\",\"fNdivisions\":510,\"fAxisColor\":1,\"fLabelColor\":1,\"fLabelFont\":42,\"fLabelOffset\":0.005,\"fLabelSize\":0.035,\"fTickLength\":0.03,\"fTitleOffset\":1,\"fTitleSize\":0.035,\"fTitleColor\":1,\"fTitleFont\":42,\"fNbins\":1,\"fXmin\":0,\"fXmax\":1,\"fXbins\":[],\"fFirst\":0,\"fLast\":0,\"fBits2\":0,\"fTimeDisplay\":false,\"fTimeFormat\":\"\",\"fLabels\":null,\"fModLabs\":null},\"fBarOffset\":0,\"fBarWidth\":1000,\"fEntries\":3198927,\"fTsumw\":846.396389005484,\"fTsumw2\":1.53378701732405,\"fTsumwx\":267891.00679816,\"fTsumwx2\":97665848.1263941,\"fMaximum\":-1111,\"fMinimum\":-1111,\"fNormFactor\":0,\"fContour\":[],\"fSumw2\":[0,0,0,0,0,0,0,0,0,0,0,0,0.336026636956092,0.250343143026413,0.190473907618935,0.143153448364448,0.113309576899434,0.0867754215645188,0.0720963840029309,0.0542671255926627,0.043771265413681,0.0367894929463846,0.0301233069208569,0.0248824764192702,0.0219023934215197,0.0174529083187386,0.0145219636549648,0.013106150230275,0.0107941856044365,0.00886567469506686,0.00764471729641401,0.00625054068745768,0.00508215551219332,0.00490560808490955,0.0049756005114972,0.00379906924490466,0.00290662184693653,0.00229588837804901,0.00272173067860473,0.00232988024303308,0.00241243452042699,0.0019928387886875,0.0020119596942013,0.00158098963311329,0.0011907448829768,0.00106857607396101,0.00107500371679758,0.00106252286214684,0.00108808965090432,6.41585363582747e-4,7.64314565242252e-4,4.4786897509483e-4,6.34345550499341e-4,4.10118754286087e-4,2.93813729230937e-4,4.01231056363236e-4,3.4807506536663e-4,3.20829299026119e-4,2.49771326854204e-4,2.92381443080163e-4,5.74193250977732e-4,2.94296028988209e-4,1.04875125295156e-4,1.97038941257573e-4,2.40493601570197e-4,1.48359473656936e-4,2.93314761834223e-4,2.56853092542879e-4,1.82934334418533e-4,5.68574427212374e-5,1.63105706312627e-4,1.707614557559e-4,1.34897623989655e-4,5.72019549397041e-5,2.08674771830361e-5,2.51247584393488e-5,1.20374940913682e-4,1.06192714191466e-4,6.33464942532286e-6,1.21035417280171e-5,1.06562199145034e-4,7.19944693598315e-6,4.4354027534528e-5,9.57162816449376e-6,9.87574819071853e-6,9.74676487430598e-5,6.82780373815084e-6,5.93413465399193e-5,4.86810591591638e-6,4.92963689278654e-5,6.00802863127801e-6,4.75916909687413e-6,5.40925521270952e-5,2.80128389747969e-5,6.2229133242208e-5,2.45895849623521e-5,1.4572878386331e-4,1.54309956936405e-6,8.3713420379601e-7,3.92019564484747e-5,3.70075648208124e-6,2.97982497942626e-4],\"fOption\":\"\",\"fFunctions\":{\"_typename\":\"TList\",\"name\":\"TList\",\"arr\":[],\"opt\":[]},\"fBufferSize\":0,\"fBuffer\":[],\"fBinStatErrOpt\":0,\"fStatOverflows\":2,\"fArray\":[0,0,0,0,0,0,0,0,0,0,0,0,190.573,141.9722,106.5863,80.24848,61.80974,47.79367,38.09432,29.88172,24.04771,19.62301,16.0338,13.17788,10.98332,8.973963,7.527264,6.688544,5.424059,4.588513,3.876958,3.323486,2.769578,2.469573,2.270583,1.922633,1.579042,1.342068,1.308726,1.109434,1.085661,0.9292085,0.8742254,0.7415058,0.6103237,0.5726129,0.4440397,0.4801644,0.4485638,0.3566329,0.3412766,0.2822713,0.2681699,0.223083,0.2026991,0.2076146,0.171699,0.1642871,0.1409343,0.1416221,0.1494829,0.1239598,0.08161557,0.09689558,0.09575298,0.08284394,0.09174889,0.09351379,0.07638887,0.05201656,0.06858081,0.05974692,0.05653659,0.03993562,0.03444773,0.02755929,0.05367759,0.04375838,0.01636164,0.02593716,0.03772693,0.01680524,0.02223523,0.01962788,0.01341514,0.03207841,0.01539719,0.01915735,0.01198287,0.01565248,0.01145917,0.009830292,0.0186243,0.01325203,0.01428208,0.01227652,0.02842442,0.004886095,0.003079133,0.01204459,0.006777341,0.1301276]}],\"opt\":[\"\",\"hist\",\"hist,same\",\"hist,same\"]},\"fExecs\":{\"_typename\":\"TList\",\"name\":\"TList\",\"arr\":[],\"opt\":[]},\"fName\":\"c1_1\",\"fTitle\":\"c1_1\",\"fNumPaletteColor\":0,\"fNextPaletteColor\":0},{\"_typename\":\"TPad\",\"fUniqueID\":0,\"fBits\":9,\"fLineColor\":1,\"fLineStyle\":1,\"fLineWidth\":1,\"fFillColor\":0,\"fFillStyle\":1001,\"fLeftMargin\":0.1,\"fRightMargin\":0.1,\"fBottomMargin\":0.1,\"fTopMargin\":0.1,\"fXfile\":2,\"fYfile\":2,\"fAfile\":1,\"fXstat\":0.99,\"fYstat\":0.99,\"fAstat\":2,\"fFrameFillColor\":0,\"fFrameLineColor\":1,\"fFrameFillStyle\":1001,\"fFrameLineStyle\":1,\"fFrameLineWidth\":1,\"fFrameBorderSize\":1,\"fFrameBorderMode\":0,\"fX1\":-250.000018626453,\"fY1\":-5.47356739077355,\"fX2\":2250.00001862645,\"fY2\":1.48817317814082,\"fXtoAbsPixelk\":672.901386366415,\"fXtoPixelk\":56.2747201011858,\"fXtoPixel\":0.225098663633585,\"fYtoAbsPixelk\":125.54789304747,\"fYtoPixelk\":119.827893175322,\"fYtoPixel\":-80.520093316709,\"fUtoAbsPixelk\":616.626716265229,\"fUtoPixelk\":5e-5,\"fUtoPixel\":562.746667469541,\"fVtoAbsPixelk\":566.280050127852,\"fVtoPixelk\":560.560000255704,\"fVtoPixel\":-560.560000255704,\"fAbsPixeltoXk\":-2989.36175588213,\"fPixeltoXk\":-250.000018626453,\"fPixeltoX\":4.44249638739659,\"fAbsPixeltoYk\":1.55921134559115,\"fPixeltoYk\":-5.47356739077355,\"fPixeltoY\":-0.0124192603213549,\"fXlowNDC\":0.343333333109816,\"fYlowNDC\":0.00999999977648258,\"fXUpNDC\":0.656666666890184,\"fYUpNDC\":0.990000000223517,\"fWNDC\":0.313333333780368,\"fHNDC\":0.980000000447035,\"fAbsXlowNDC\":0.343333333109816,\"fAbsYlowNDC\":0.00999999977648258,\"fAbsWNDC\":0.313333333780368,\"fAbsHNDC\":0.980000000447035,\"fUxmin\":0,\"fUymin\":-4.7773932923869,\"fUxmax\":2000,\"fUymax\":0.791999079754175,\"fTheta\":30,\"fPhi\":30,\"fAspectRatio\":0,\"fNumber\":2,\"fTickx\":0,\"fTicky\":0,\"fLogx\":0,\"fLogy\":1,\"fLogz\":0,\"fPadPaint\":0,\"fCrosshair\":0,\"fCrosshairPos\":0,\"fBorderSize\":2,\"fBorderMode\":0,\"fModified\":false,\"fGridx\":false,\"fGridy\":false,\"fAbsCoord\":false,\"fEditable\":true,\"fFixedAspectRatio\":false,\"fPrimitives\":{\"_typename\":\"TList\",\"name\":\"TList\",\"arr\":[{\"_typename\":\"TFrame\",\"fUniqueID\":0,\"fBits\":8,\"fLineColor\":1,\"fLineStyle\":1,\"fLineWidth\":1,\"fFillColor\":0,\"fFillStyle\":1001,\"fX1\":0,\"fY1\":-4.7773932923869,\"fX2\":2000,\"fY2\":0.791999079754175,\"fBorderSize\":1,\"fBorderMode\":0},{\"_typename\":\"TH1F\",\"fUniqueID\":0,\"fBits\":8,\"fName\":\"hf_nom\",\"fTitle\":\"\",\"fLineColor\":2,\"fLineStyle\":1,\"fLineWidth\":1,\"fFillColor\":0,\"fFillStyle\":1001,\"fMarkerColor\":1,\"fMarkerStyle\":1,\"fMarkerSize\":1,\"fNcells\":102,\"fXaxis\":{\"_typename\":\"TAxis\",\"fUniqueID\":0,\"fBits\":0,\"fName\":\"xaxis\",\"fTitle\":\"qqZZ VHtagged background m4l [GeV]\",\"fNdivisions\":510,\"fAxisColor\":1,\"fLabelColor\":1,\"fLabelFont\":42,\"fLabelOffset\":0.005,\"fLabelSize\":0.035,\"fTickLength\":0.03,\"fTitleOffset\":1,\"fTitleSize\":0.035,\"fTitleColor\":1,\"fTitleFont\":42,\"fNbins\":100,\"fXmin\":0,\"fXmax\":2000,\"fXbins\":[],\"fFirst\":0,\"fLast\":0,\"fBits2\":0,\"fTimeDisplay\":false,\"fTimeFormat\":\"\",\"fLabels\":null,\"fModLabs\":null},\"fYaxis\":{\"_typename\":\"TAxis\",\"fUniqueID\":0,\"fBits\":0,\"fName\":\"yaxis\",\"fTitle\":\"\",\"fNdivisions\":510,\"fAxisColor\":1,\"fLabelColor\":1,\"fLabelFont\":42,\"fLabelOffset\":0.005,\"fLabelSize\":0.035,\"fTickLength\":0.03,\"fTitleOffset\":0,\"fTitleSize\":0.035,\"fTitleColor\":1,\"fTitleFont\":42,\"fNbins\":1,\"fXmin\":0,\"fXmax\":1,\"fXbins\":[],\"fFirst\":0,\"fLast\":0,\"fBits2\":0,\"fTimeDisplay\":false,\"fTimeFormat\":\"\",\"fLabels\":null,\"fModLabs\":null},\"fZaxis\":{\"_typename\":\"TAxis\",\"fUniqueID\":0,\"fBits\":0,\"fName\":\"zaxis\",\"fTitle\":\"\",\"fNdivisions\":510,\"fAxisColor\":1,\"fLabelColor\":1,\"fLabelFont\":42,\"fLabelOffset\":0.005,\"fLabelSize\":0.035,\"fTickLength\":0.03,\"fTitleOffset\":1,\"fTitleSize\":0.035,\"fTitleColor\":1,\"fTitleFont\":42,\"fNbins\":1,\"fXmin\":0,\"fXmax\":1,\"fXbins\":[],\"fFirst\":0,\"fLast\":0,\"fBits2\":0,\"fTimeDisplay\":false,\"fTimeFormat\":\"\",\"fLabels\":null,\"fModLabs\":null},\"fBarOffset\":0,\"fBarWidth\":1000,\"fEntries\":82256,\"fTsumw\":20.7984873591274,\"fTsumw2\":0.0370677775395915,\"fTsumwx\":7318.53800041949,\"fTsumwx2\":3042541.91903496,\"fMaximum\":-1111,\"fMinimum\":-1111,\"fNormFactor\":0,\"fContour\":[],\"fSumw2\":[0,0,0,0,0,0,0,0,0,0,0,0,0.00553535682878539,0.00444688406927527,0.00372388969378658,0.00340024159767056,0.00275297233159947,0.00233943547289581,0.00210841711658108,0.00164753747026705,0.00136487468678032,0.00102912262812487,0.00101302889827526,9.33436785332555e-4,7.360385449998e-4,6.31602288064242e-4,8.92617541344473e-4,4.92461195945121e-4,3.92180583947168e-4,4.70282066697043e-4,4.53160926514952e-4,2.45833894541789e-4,3.58181413191639e-4,2.29407409163441e-4,1.53743574480791e-4,5.14063955226995e-4,1.47313984650474e-4,1.33263163509244e-4,1.79318684497904e-4,8.73957672146003e-5,3.67332265971589e-5,1.09164413856443e-4,2.36769606392684e-5,6.11036231990708e-5,6.76888532420748e-5,6.99873764686886e-5,9.09870222692184e-6,4.5007901567701e-5,5.15078382215953e-5,6.66156908981856e-6,1.08616056173402e-5,5.05253230012961e-5,3.00374632661131e-6,3.89745319199007e-6,2.85281701088366e-6,1.89653661458939e-6,2.08825490136059e-6,1.82714306948088e-6,1.59767152617344e-6,3.29310970385172e-5,7.53519380592625e-7,1.19417862130352e-6,8.33436122122043e-7,2.62761014909239e-7,1.57291028944876e-5,3.32836365980824e-5,1.92390872279945e-6,5.6460225788497e-7,6.82331324473093e-7,1.41627977356621e-6,3.67405847792734e-7,2.47311386359706e-7,1.51372195218461e-7,2.32629484306209e-7,4.0004887679384e-7,1.21254660350782e-7,3.68906769604577e-7,1.34545495088711e-7,4.23178150300287e-7,1.50447738767355e-7,1.8242343329231e-7,6.99337303864305e-7,1.16050141439628e-7,8.88096640260335e-8,1.09317777771374e-7,2.77063700208076e-7,9.83426227654362e-8,6.08872107907225e-7,6.04683898851974e-7,1.79609675877443e-8,0,9.195975864571e-8,2.38167218976063e-7,7.63268164121508e-8,0,1.1149962734404e-9,0,6.84584330824557e-7,3.08589727303771e-7,1.55696871289579e-7,2.69416837641647e-9,1.23650835987703e-6],\"fOption\":\"\",\"fFunctions\":{\"_typename\":\"TList\",\"name\":\"TList\",\"arr\":[{\"_typename\":\"TPaveStats\",\"fUniqueID\":0,\"fBits\":9,\"fLineColor\":1,\"fLineStyle\":1,\"fLineWidth\":1,\"fFillColor\":0,\"fFillStyle\":1001,\"fX1\":1700.00005066395,\"fY1\":-0.078218408369704,\"fX2\":2200.00006556511,\"fY2\":1.03566005775947,\"fX1NDC\":0.780000016093254,\"fY1NDC\":0.775000005960464,\"fX2NDC\":0.980000019073486,\"fY2NDC\":0.935000002384186,\"fBorderSize\":1,\"fInit\":1,\"fShadowColor\":1,\"fCornerRadius\":0,\"fOption\":\"brNDC\",\"fName\":\"stats\",\"fTextAngle\":0,\"fTextSize\":0,\"fTextAlign\":12,\"fTextColor\":1,\"fTextFont\":42,\"fLabel\":\"\",\"fLongest\":18,\"fMargin\":0.05,\"fLines\":{\"_typename\":\"TList\",\"name\":\"TList\",\"arr\":[{\"_typename\":\"TLatex\",\"fUniqueID\":0,\"fBits\":0,\"fName\":\"\",\"fTitle\":\"hf_nom\",\"fTextAngle\":0,\"fTextSize\":0.0368,\"fTextAlign\":0,\"fTextColor\":0,\"fTextFont\":0,\"fX\":0,\"fY\":0,\"fLineColor\":1,\"fLineStyle\":1,\"fLineWidth\":2,\"fLimitFactorSize\":3,\"fOriginSize\":0.0367999991774559},{\"_typename\":\"TLatex\",\"fUniqueID\":0,\"fBits\":0,\"fName\":\"\",\"fTitle\":\"Entries = 82256  \",\"fTextAngle\":0,\"fTextSize\":0,\"fTextAlign\":0,\"fTextColor\":0,\"fTextFont\":0,\"fX\":0,\"fY\":0,\"fLineColor\":1,\"fLineStyle\":1,\"fLineWidth\":2,\"fLimitFactorSize\":3,\"fOriginSize\":0.0242682173848152},{\"_typename\":\"TLatex\",\"fUniqueID\":0,\"fBits\":0,\"fName\":\"\",\"fTitle\":\"Mean  =  351.9\",\"fTextAngle\":0,\"fTextSize\":0,\"fTextAlign\":0,\"fTextColor\":0,\"fTextFont\":0,\"fX\":0,\"fY\":0,\"fLineColor\":1,\"fLineStyle\":1,\"fLineWidth\":2,\"fLimitFactorSize\":3,\"fOriginSize\":0.0242682173848152},{\"_typename\":\"TLatex\",\"fUniqueID\":0,\"fBits\":0,\"fName\":\"\",\"fTitle\":\"Std Dev   =  149.9\",\"fTextAngle\":0,\"fTextSize\":0,\"fTextAlign\":0,\"fTextColor\":0,\"fTextFont\":0,\"fX\":0,\"fY\":0,\"fLineColor\":1,\"fLineStyle\":1,\"fLineWidth\":2,\"fLimitFactorSize\":3,\"fOriginSize\":0.0242682173848152}],\"opt\":[\"\",\"\",\"\",\"\"]},\"fOptFit\":0,\"fOptStat\":1111,\"fFitFormat\":\"5.4g\",\"fStatFormat\":\"6.4g\",\"fParent\":{\"$ref\":30}}],\"opt\":[\"brNDC\"]},\"fBufferSize\":0,\"fBuffer\":[],\"fBinStatErrOpt\":0,\"fStatOverflows\":2,\"fArray\":[0,0,0,0,0,0,0,0,0,0,0,0,3.269265,2.676034,2.231754,1.938856,1.573161,1.328907,1.134289,0.9022166,0.7621989,0.6008807,0.5486844,0.5060585,0.4218687,0.3499022,0.3200379,0.2681292,0.2165738,0.2178632,0.202086,0.1366168,0.1501177,0.1144915,0.09981171,0.102735,0.07838698,0.07616397,0.06770507,0.05114271,0.03120787,0.04184252,0.02813127,0.03584461,0.04082335,0.03037435,0.01951673,0.02420445,0.02972252,0.0139225,0.01371736,0.01877433,0.009054779,0.01172874,0.007809077,0.005934797,0.006114291,0.006315598,0.004992773,0.008955747,0.00293166,0.00365685,0.002848908,0.001276477,0.008558369,0.009016022,0.00462994,0.001872882,0.002299196,0.00328331,0.001914496,0.001093263,8.685042e-4,0.001042883,0.001490551,7.524173e-4,0.001200538,7.21495e-4,0.001325284,9.471808e-4,6.915978e-4,0.001259941,4.833717e-4,6.224872e-4,5.0516e-4,0.001077216,4.706998e-4,0.001064675,0.001561456,1.662027e-4,0,3.367496e-4,8.447186e-4,3.243704e-4,0,3.339156e-5,0,0.001225977,5.555085e-4,5.350913e-4,7.339397e-5,0.00335954]},{\"_typename\":\"TH1F\",\"fUniqueID\":0,\"fBits\":8,\"fName\":\"hf_kew_systdn\",\"fTitle\":\"\",\"fLineColor\":602,\"fLineStyle\":2,\"fLineWidth\":1,\"fFillColor\":0,\"fFillStyle\":1001,\"fMarkerColor\":1,\"fMarkerStyle\":1,\"fMarkerSize\":1,\"fNcells\":102,\"fXaxis\":{\"_typename\":\"TAxis\",\"fUniqueID\":0,\"fBits\":0,\"fName\":\"xaxis\",\"fTitle\":\"\",\"fNdivisions\":510,\"fAxisColor\":1,\"fLabelColor\":1,\"fLabelFont\":42,\"fLabelOffset\":0.005,\"fLabelSize\":0.035,\"fTickLength\":0.03,\"fTitleOffset\":1,\"fTitleSize\":0.035,\"fTitleColor\":1,\"fTitleFont\":42,\"fNbins\":100,\"fXmin\":0,\"fXmax\":2000,\"fXbins\":[],\"fFirst\":0,\"fLast\":0,\"fBits2\":0,\"fTimeDisplay\":false,\"fTimeFormat\":\"\",\"fLabels\":null,\"fModLabs\":null},\"fYaxis\":{\"_typename\":\"TAxis\",\"fUniqueID\":0,\"fBits\":0,\"fName\":\"yaxis\",\"fTitle\":\"\",\"fNdivisions\":510,\"fAxisColor\":1,\"fLabelColor\":1,\"fLabelFont\":42,\"fLabelOffset\":0.005,\"fLabelSize\":0.035,\"fTickLength\":0.03,\"fTitleOffset\":0,\"fTitleSize\":0.035,\"fTitleColor\":1,\"fTitleFont\":42,\"fNbins\":1,\"fXmin\":0,\"fXmax\":1,\"fXbins\":[],\"fFirst\":0,\"fLast\":0,\"fBits2\":0,\"fTimeDisplay\":false,\"fTimeFormat\":\"\",\"fLabels\":null,\"fModLabs\":null},\"fZaxis\":{\"_typename\":\"TAxis\",\"fUniqueID\":0,\"fBits\":0,\"fName\":\"zaxis\",\"fTitle\":\"\",\"fNdivisions\":510,\"fAxisColor\":1,\"fLabelColor\":1,\"fLabelFont\":42,\"fLabelOffset\":0.005,\"fLabelSize\":0.035,\"fTickLength\":0.03,\"fTitleOffset\":1,\"fTitleSize\":0.035,\"fTitleColor\":1,\"fTitleFont\":42,\"fNbins\":1,\"fXmin\":0,\"fXmax\":1,\"fXbins\":[],\"fFirst\":0,\"fLast\":0,\"fBits2\":0,\"fTimeDisplay\":false,\"fTimeFormat\":\"\",\"fLabels\":null,\"fModLabs\":null},\"fBarOffset\":0,\"fBarWidth\":1000,\"fEntries\":82256,\"fTsumw\":19.3813652906148,\"fTsumw2\":0.032222676802909,\"fTsumwx\":6730.60887402,\"fTsumwx2\":2740978.31678707,\"fMaximum\":-1111,\"fMinimum\":-1111,\"fNormFactor\":0,\"fContour\":[],\"fSumw2\":[0,0,0,0,0,0,0,0,0,0,0,0,0.00512865212384377,0.00404266401957093,0.00332566842966278,0.00301688623068776,0.00243480089697911,0.00204442095276944,0.00183813458626306,0.00140041021827549,0.00116587696096101,8.38894326937594e-4,8.58245343601136e-4,7.76957886310973e-4,6.16541229073474e-4,5.13337973880745e-4,7.4781037360907e-4,3.93471474552356e-4,2.93411731449351e-4,3.4977453818604e-4,3.55826698720444e-4,1.94347956207905e-4,2.93742738933352e-4,1.67743223393954e-4,1.32086230597768e-4,4.3661858883247e-4,1.12085457507733e-4,9.752869516986e-5,1.25356733953519e-4,6.13959564425296e-5,2.45343110513151e-5,8.59554434097882e-5,1.67947106193973e-5,4.38231819334976e-5,5.32847086791321e-5,4.25036374763831e-5,6.21839896182151e-6,3.22533275705314e-5,3.00009476106586e-5,4.45721614864103e-6,7.25755829694502e-6,3.80072454145104e-5,1.89799634298202e-6,2.45023968127216e-6,1.99915114203724e-6,1.21550190659007e-6,1.54836454894513e-6,1.03636012797586e-6,1.06920995109916e-6,3.00589010028741e-5,4.33893892563514e-7,7.09589654094565e-7,6.07923929453996e-7,1.65258627115918e-7,7.63234388983323e-6,1.72427349904632e-5,1.13493170568317e-6,3.39548271181459e-7,4.11901159948458e-7,1.05377481460649e-6,2.16012873757736e-7,1.77836976917048e-7,1.02204078400174e-7,1.32525979536554e-7,2.56528672323679e-7,9.0805672834956e-8,2.07285848892149e-7,7.45390960114219e-8,2.87599199586518e-7,1.02475075677209e-7,1.21195524443843e-7,2.29763142725061e-7,6.22619020058079e-8,4.12413440442492e-8,7.35602980216789e-8,1.63158408370886e-7,6.00782440358906e-8,2.55300235521899e-7,3.26388505891571e-7,7.31314355486637e-9,0,6.289947830996e-8,1.23976173452404e-7,6.13886506810394e-8,0,5.38157936583155e-10,0,3.8329873765587e-7,1.6631920026625e-7,9.91054787178702e-8,1.31362451059424e-9,5.67859739667916e-7],\"fOption\":\"\",\"fFunctions\":{\"_typename\":\"TList\",\"name\":\"TList\",\"arr\":[],\"opt\":[]},\"fBufferSize\":0,\"fBuffer\":[],\"fBinStatErrOpt\":0,\"fStatOverflows\":2,\"fArray\":[0,0,0,0,0,0,0,0,0,0,0,0,3.144425,2.552058,2.114783,1.827047,1.476816,1.241225,1.055608,0.8327134,0.7024991,0.5470521,0.5019624,0.4601644,0.3830101,0.3148875,0.2890776,0.2395418,0.1903901,0.1907654,0.1787621,0.1207508,0.1331179,0.09853867,0.0887223,0.09047753,0.06773912,0.06525895,0.05715968,0.04316197,0.02605938,0.0361071,0.02396405,0.03024075,0.03496458,0.02487672,0.01623595,0.02049574,0.02377013,0.01160779,0.01124138,0.01570815,0.007162217,0.0095065,0.00644428,0.004853598,0.005208207,0.004791557,0.004081822,0.007973354,0.002206534,0.002814469,0.002347986,0.001021615,0.006208876,0.006754031,0.003567833,0.001444577,0.00180212,0.002716023,0.00143157,8.917795e-4,7.086878e-4,7.902409e-4,0.001170339,6.170435e-4,8.943202e-4,5.42097e-4,0.001069005,7.543378e-4,5.59822e-4,7.714581e-4,3.492359e-4,4.271856e-4,4.062422e-4,8.253074e-4,3.537224e-4,6.75918e-4,0.001146894,1.111447e-4,0,2.766163e-4,6.088198e-4,2.877798e-4,0,2.319823e-5,0,9.088355e-4,4.078225e-4,4.123904e-4,5.122799e-5,0.002305385]},{\"_typename\":\"TH1F\",\"fUniqueID\":0,\"fBits\":8,\"fName\":\"hf_kew_systup\",\"fTitle\":\"\",\"fLineColor\":602,\"fLineStyle\":2,\"fLineWidth\":1,\"fFillColor\":0,\"fFillStyle\":1001,\"fMarkerColor\":1,\"fMarkerStyle\":1,\"fMarkerSize\":1,\"fNcells\":102,\"fXaxis\":{\"_typename\":\"TAxis\",\"fUniqueID\":0,\"fBits\":0,\"fName\":\"xaxis\",\"fTitle\":\"\",\"fNdivisions\":510,\"fAxisColor\":1,\"fLabelColor\":1,\"fLabelFont\":42,\"fLabelOffset\":0.005,\"fLabelSize\":0.035,\"fTickLength\":0.03,\"fTitleOffset\":1,\"fTitleSize\":0.035,\"fTitleColor\":1,\"fTitleFont\":42,\"fNbins\":100,\"fXmin\":0,\"fXmax\":2000,\"fXbins\":[],\"fFirst\":0,\"fLast\":0,\"fBits2\":0,\"fTimeDisplay\":false,\"fTimeFormat\":\"\",\"fLabels\":null,\"fModLabs\":null},\"fYaxis\":{\"_typename\":\"TAxis\",\"fUniqueID\":0,\"fBits\":0,\"fName\":\"yaxis\",\"fTitle\":\"\",\"fNdivisions\":510,\"fAxisColor\":1,\"fLabelColor\":1,\"fLabelFont\":42,\"fLabelOffset\":0.005,\"fLabelSize\":0.035,\"fTickLength\":0.03,\"fTitleOffset\":0,\"fTitleSize\":0.035,\"fTitleColor\":1,\"fTitleFont\":42,\"fNbins\":1,\"fXmin\":0,\"fXmax\":1,\"fXbins\":[],\"fFirst\":0,\"fLast\":0,\"fBits2\":0,\"fTimeDisplay\":false,\"fTimeFormat\":\"\",\"fLabels\":null,\"fModLabs\":null},\"fZaxis\":{\"_typename\":\"TAxis\",\"fUniqueID\":0,\"fBits\":0,\"fName\":\"zaxis\",\"fTitle\":\"\",\"fNdivisions\":510,\"fAxisColor\":1,\"fLabelColor\":1,\"fLabelFont\":42,\"fLabelOffset\":0.005,\"fLabelSize\":0.035,\"fTickLength\":0.03,\"fTitleOffset\":1,\"fTitleSize\":0.035,\"fTitleColor\":1,\"fTitleFont\":42,\"fNbins\":1,\"fXmin\":0,\"fXmax\":1,\"fXbins\":[],\"fFirst\":0,\"fLast\":0,\"fBits2\":0,\"fTimeDisplay\":false,\"fTimeFormat\":\"\",\"fLabels\":null,\"fModLabs\":null},\"fBarOffset\":0,\"fBarWidth\":1000,\"fEntries\":82256,\"fTsumw\":22.21560942764,\"fTsumw2\":0.042410724344238,\"fTsumwx\":7906.46712681898,\"fTsumwx2\":3344105.52128285,\"fMaximum\":-1111,\"fMinimum\":-1111,\"fNormFactor\":0,\"fContour\":[],\"fSumw2\":[0,0,0,0,0,0,0,0,0,0,0,0,0.00596241418796058,0.00487501666196697,0.00415000039693755,0.0038112548106507,0.00309548054914412,0.00265898698439169,0.00240249707100176,0.00191983885497113,0.00158266651059401,0.00124349380447489,0.00118538627347342,0.00110791388094444,8.68410273612936e-4,7.64469191523447e-4,0.00105335926654704,6.05662141294514e-4,5.06890690938493e-4,6.13187514642234e-4,5.63485671394053e-4,3.04313892126039e-4,4.30802411876035e-4,3.01953829099692e-4,1.77756282183951e-4,5.99993285844754e-4,1.89523953491759e-4,1.77627154172389e-4,2.43872036056067e-4,1.18150590584985e-4,5.15007533792935e-5,1.35945638191847e-4,3.18215741433257e-5,8.16822915338397e-5,8.41247639376424e-5,1.04489235764773e-4,1.25867946220544e-5,5.99377911908154e-5,8.01043698288044e-5,9.36939609403587e-6,1.52992112854996e-5,6.50433918094734e-5,4.40140237010882e-6,5.80080605396234e-6,3.87745288758428e-6,2.747686062882e-6,2.73167103205511e-6,2.88871898977469e-6,2.28148189063737e-6,3.60114062258696e-5,1.17422116044948e-6,1.83256317275079e-6,1.10749006175263e-6,3.83941263310649e-7,2.682368899788e-5,5.45839889996438e-5,2.94158417876466e-6,8.49918315543e-7,1.03568881817343e-6,1.84432116953983e-6,5.65195991590516e-7,3.33741989704142e-7,2.10444762097722e-7,3.62369299607653e-7,5.81441341477864e-7,1.59055650399359e-7,5.78355075832661e-7,2.134798684403e-7,5.93899993624759e-7,2.103776105126e-7,2.56193682099892e-7,1.4321141517301e-6,1.86568398962726e-7,1.55443792640589e-7,1.52883504114605e-7,4.23214283928692e-7,1.46391738836417e-7,1.11457994561991e-6,9.73077673092493e-7,3.35253963582272e-8,0,1.26533370099175e-7,3.8955841979497e-7,9.29059792312885e-8,0,1.89964250573589e-9,0,1.07449871078548e-6,4.94482575124264e-7,2.26129834171574e-7,4.56622390479505e-9,2.17836803802437e-6],\"fOption\":\"\",\"fFunctions\":{\"_typename\":\"TList\",\"name\":\"TList\",\"arr\":[],\"opt\":[]},\"fBufferSize\":0,\"fBuffer\":[],\"fBinStatErrOpt\":0,\"fStatOverflows\":2,\"fArray\":[0,0,0,0,0,0,0,0,0,0,0,0,3.394106,2.800007,2.348726,2.050664,1.669506,1.416588,1.21297,0.9717198,0.8218989,0.6547098,0.5954065,0.5519525,0.4607273,0.3849166,0.3509983,0.2967168,0.2427574,0.244961,0.2254101,0.1524828,0.1671175,0.1304442,0.1109011,0.1149924,0.08903485,0.08706897,0.07825048,0.05912345,0.03635636,0.04757794,0.03229848,0.04144846,0.04668212,0.03587199,0.02279752,0.02791315,0.03567492,0.01623721,0.01619335,0.02184051,0.01094734,0.01395098,0.009173875,0.007015996,0.007020375,0.007839642,0.005903726,0.009938139,0.003656786,0.004499232,0.00334983,0.00153134,0.01090786,0.01127801,0.005692046,0.002301187,0.002796273,0.003850597,0.002397422,0.001294746,0.001028321,0.001295525,0.001810764,8.87791e-4,0.001506755,9.00893e-4,0.001581563,0.001140024,8.233735e-4,0.001748424,6.175076e-4,8.177888e-4,6.040779e-4,0.001329124,5.876773e-4,0.001453432,0.001976017,2.212607e-4,0,3.968829e-4,0.001080617,3.60961e-4,0,4.358489e-5,0,0.001543119,7.031946e-4,6.577921e-4,9.555993e-5,0.004413696]}],\"opt\":[\"\",\"hist\",\"hist,same\",\"hist,same\"]},\"fExecs\":{\"_typename\":\"TList\",\"name\":\"TList\",\"arr\":[],\"opt\":[]},\"fName\":\"c1_2\",\"fTitle\":\"c1_2\",\"fNumPaletteColor\":0,\"fNextPaletteColor\":0},{\"_typename\":\"TPad\",\"fUniqueID\":0,\"fBits\":9,\"fLineColor\":1,\"fLineStyle\":1,\"fLineWidth\":1,\"fFillColor\":0,\"fFillStyle\":1001,\"fLeftMargin\":0.1,\"fRightMargin\":0.1,\"fBottomMargin\":0.1,\"fTopMargin\":0.1,\"fXfile\":2,\"fYfile\":2,\"fAfile\":1,\"fXstat\":0.99,\"fYstat\":0.99,\"fAstat\":2,\"fFrameFillColor\":0,\"fFrameLineColor\":1,\"fFrameFillStyle\":1001,\"fFrameLineStyle\":1,\"fFrameLineWidth\":1,\"fFrameBorderSize\":1,\"fFrameBorderMode\":0,\"fX1\":-250.000018626453,\"fY1\":-5.44951178260618,\"fX2\":2250.00001862645,\"fY2\":1.26938344224636,\"fXtoAbsPixelk\":1271.56805303308,\"fXtoPixelk\":56.2747201011858,\"fXtoPixel\":0.225098663633585,\"fYtoAbsPixelk\":111.625196313217,\"fYtoPixelk\":105.905196441068,\"fYtoPixel\":-83.4303827483791,\"fUtoAbsPixelk\":1215.2933829319,\"fUtoPixelk\":5e-5,\"fUtoPixel\":562.746667469541,\"fVtoAbsPixelk\":566.280050127852,\"fVtoPixelk\":560.560000255704,\"fVtoPixel\":-560.560000255704,\"fAbsPixeltoXk\":-5648.93625980356,\"fPixeltoXk\":-250.000018626453,\"fPixeltoX\":4.44249638739659,\"fAbsPixeltoYk\":1.33794359603828,\"fPixeltoYk\":-5.44951178260618,\"fPixeltoY\":-0.0119860411406231,\"fXlowNDC\":0.676666666443149,\"fYlowNDC\":0.00999999977648258,\"fXUpNDC\":0.990000000223517,\"fYUpNDC\":0.990000000223517,\"fWNDC\":0.313333333780368,\"fHNDC\":0.980000000447035,\"fAbsXlowNDC\":0.676666666443149,\"fAbsYlowNDC\":0.00999999977648258,\"fAbsWNDC\":0.313333333780368,\"fAbsHNDC\":0.980000000447035,\"fUxmin\":0,\"fUymin\":-4.77762222007319,\"fUxmax\":2000,\"fUymax\":0.597493879713365,\"fTheta\":30,\"fPhi\":30,\"fAspectRatio\":0,\"fNumber\":3,\"fTickx\":0,\"fTicky\":0,\"fLogx\":0,\"fLogy\":1,\"fLogz\":0,\"fPadPaint\":0,\"fCrosshair\":0,\"fCrosshairPos\":0,\"fBorderSize\":2,\"fBorderMode\":0,\"fModified\":false,\"fGridx\":false,\"fGridy\":false,\"fAbsCoord\":false,\"fEditable\":true,\"fFixedAspectRatio\":false,\"fPrimitives\":{\"_typename\":\"TList\",\"name\":\"TList\",\"arr\":[{\"_typename\":\"TFrame\",\"fUniqueID\":0,\"fBits\":8,\"fLineColor\":1,\"fLineStyle\":1,\"fLineWidth\":1,\"fFillColor\":0,\"fFillStyle\":1001,\"fX1\":0,\"fY1\":-4.77762222007319,\"fX2\":2000,\"fY2\":0.597493879713365,\"fBorderSize\":1,\"fBorderMode\":0},{\"_typename\":\"TH1F\",\"fUniqueID\":0,\"fBits\":8,\"fName\":\"hf_nom\",\"fTitle\":\"\",\"fLineColor\":2,\"fLineStyle\":1,\"fLineWidth\":1,\"fFillColor\":0,\"fFillStyle\":1001,\"fMarkerColor\":1,\"fMarkerStyle\":1,\"fMarkerSize\":1,\"fNcells\":102,\"fXaxis\":{\"_typename\":\"TAxis\",\"fUniqueID\":0,\"fBits\":0,\"fName\":\"xaxis\",\"fTitle\":\"qqZZ VBFtagged background m4l [GeV]\",\"fNdivisions\":510,\"fAxisColor\":1,\"fLabelColor\":1,\"fLabelFont\":42,\"fLabelOffset\":0.005,\"fLabelSize\":0.035,\"fTickLength\":0.03,\"fTitleOffset\":1,\"fTitleSize\":0.035,\"fTitleColor\":1,\"fTitleFont\":42,\"fNbins\":100,\"fXmin\":0,\"fXmax\":2000,\"fXbins\":[],\"fFirst\":0,\"fLast\":0,\"fBits2\":0,\"fTimeDisplay\":false,\"fTimeFormat\":\"\",\"fLabels\":null,\"fModLabs\":null},\"fYaxis\":{\"_typename\":\"TAxis\",\"fUniqueID\":0,\"fBits\":0,\"fName\":\"yaxis\",\"fTitle\":\"\",\"fNdivisions\":510,\"fAxisColor\":1,\"fLabelColor\":1,\"fLabelFont\":42,\"fLabelOffset\":0.005,\"fLabelSize\":0.035,\"fTickLength\":0.03,\"fTitleOffset\":0,\"fTitleSize\":0.035,\"fTitleColor\":1,\"fTitleFont\":42,\"fNbins\":1,\"fXmin\":0,\"fXmax\":1,\"fXbins\":[],\"fFirst\":0,\"fLast\":0,\"fBits2\":0,\"fTimeDisplay\":false,\"fTimeFormat\":\"\",\"fLabels\":null,\"fModLabs\":null},\"fZaxis\":{\"_typename\":\"TAxis\",\"fUniqueID\":0,\"fBits\":0,\"fName\":\"zaxis\",\"fTitle\":\"\",\"fNdivisions\":510,\"fAxisColor\":1,\"fLabelColor\":1,\"fLabelFont\":42,\"fLabelOffset\":0.005,\"fLabelSize\":0.035,\"fTickLength\":0.03,\"fTitleOffset\":1,\"fTitleSize\":0.035,\"fTitleColor\":1,\"fTitleFont\":42,\"fNbins\":1,\"fXmin\":0,\"fXmax\":1,\"fXbins\":[],\"fFirst\":0,\"fLast\":0,\"fBits2\":0,\"fTimeDisplay\":false,\"fTimeFormat\":\"\",\"fLabels\":null,\"fModLabs\":null},\"fBarOffset\":0,\"fBarWidth\":1000,\"fEntries\":49273,\"fTsumw\":11.2397140060431,\"fTsumw2\":0.0175740665083291,\"fTsumwx\":3737.95327876916,\"fTsumwx2\":1442183.53458636,\"fMaximum\":-1111,\"fMinimum\":-1111,\"fNormFactor\":0,\"fContour\":[],\"fSumw2\":[0,0,0,0,0,0,0,0,0,0,0,0,0.0033775381478794,0.0025316350606057,0.00193473185740403,0.00140580988789563,0.0012973087910516,0.00118298581231705,7.54952116457053e-4,0.00109312467330905,7.45236221913131e-4,4.30641649634804e-4,4.03505099507358e-4,3.61065959140947e-4,2.5926009288323e-4,1.04231640174308e-4,2.05471734774456e-4,1.97858657763275e-4,1.70460519312183e-4,1.4149715191912e-4,1.14947200739416e-4,7.52453390724662e-5,1.11820196870462e-4,3.83595498116872e-5,4.53656233915089e-5,7.61239821467766e-5,2.38663569931188e-5,7.53314362027848e-5,4.27097381163288e-5,4.33568716568881e-5,4.95067197437099e-5,4.68254244991895e-5,2.8817283943257e-5,5.56785147314121e-5,2.07701998322276e-6,3.35963017882022e-5,3.26284414067722e-5,2.90209982734803e-5,1.61028598961826e-6,5.68115931542407e-7,2.67595480608307e-6,9.1033299286857e-7,2.57794369264745e-6,2.31651032855173e-6,2.70462607669163e-6,7.0717583701742e-7,1.27970861797249e-7,3.08036742454279e-7,1.46744672651991e-6,8.85881881159078e-7,2.76490640750239e-5,7.06034191030364e-7,5.57887500556329e-7,8.08587605786807e-7,2.18593637488156e-7,2.9094127142785e-7,1.46203310198702e-7,3.79075945468319e-7,9.17496386253394e-7,5.6314114128379e-8,1.70375283525286e-7,1.41903254496039e-7,1.26484911960911e-9,7.9952737899752e-8,2.17630841932382e-7,8.34572136091729e-7,1.44603205180992e-8,7.5846123295827e-9,2.56854273468672e-9,1.19130419674981e-7,1.22528023809642e-7,1.5176141772868e-9,0,3.05848383283433e-9,0,1.51506953822196e-8,4.04708601944281e-7,1.82826168819926e-7,2.30949442881276e-7,1.35292366782342e-8,6.75034922563158e-9,2.32620223722623e-8,0,1.46974877884517e-7,0,4.59978891833789e-8,0,0,9.61448858047785e-8,0,1.11382143634646e-9,2.55154370695313e-7],\"fOption\":\"\",\"fFunctions\":{\"_typename\":\"TList\",\"name\":\"TList\",\"arr\":[{\"_typename\":\"TPaveStats\",\"fUniqueID\":0,\"fBits\":131081,\"fLineColor\":1,\"fLineStyle\":1,\"fLineWidth\":1,\"fFillColor\":0,\"fFillStyle\":1001,\"fX1\":1700.00005066395,\"fY1\":-0.242367943297729,\"fX2\":2200.00006556511,\"fY2\":0.832655268650035,\"fX1NDC\":0.780000016093254,\"fY1NDC\":0.775000005960464,\"fX2NDC\":0.980000019073486,\"fY2NDC\":0.935000002384186,\"fBorderSize\":1,\"fInit\":1,\"fShadowColor\":1,\"fCornerRadius\":0,\"fOption\":\"brNDC\",\"fName\":\"stats\",\"fTextAngle\":0,\"fTextSize\":0,\"fTextAlign\":12,\"fTextColor\":1,\"fTextFont\":42,\"fLabel\":\"\",\"fLongest\":18,\"fMargin\":0.05,\"fLines\":{\"_typename\":\"TList\",\"name\":\"TList\",\"arr\":[{\"_typename\":\"TLatex\",\"fUniqueID\":0,\"fBits\":0,\"fName\":\"\",\"fTitle\":\"hf_nom\",\"fTextAngle\":0,\"fTextSize\":0.0368,\"fTextAlign\":0,\"fTextColor\":0,\"fTextFont\":0,\"fX\":0,\"fY\":0,\"fLineColor\":1,\"fLineStyle\":1,\"fLineWidth\":2,\"fLimitFactorSize\":3,\"fOriginSize\":0.0367999991774559},{\"_typename\":\"TLatex\",\"fUniqueID\":0,\"fBits\":0,\"fName\":\"\",\"fTitle\":\"Entries = 49273  \",\"fTextAngle\":0,\"fTextSize\":0,\"fTextAlign\":0,\"fTextColor\":0,\"fTextFont\":0,\"fX\":0,\"fY\":0,\"fLineColor\":1,\"fLineStyle\":1,\"fLineWidth\":2,\"fLimitFactorSize\":3,\"fOriginSize\":0.0242682173848152},{\"_typename\":\"TLatex\",\"fUniqueID\":0,\"fBits\":0,\"fName\":\"\",\"fTitle\":\"Mean  =  332.6\",\"fTextAngle\":0,\"fTextSize\":0,\"fTextAlign\":0,\"fTextColor\":0,\"fTextFont\":0,\"fX\":0,\"fY\":0,\"fLineColor\":1,\"fLineStyle\":1,\"fLineWidth\":2,\"fLimitFactorSize\":3,\"fOriginSize\":0.0242682173848152},{\"_typename\":\"TLatex\",\"fUniqueID\":0,\"fBits\":0,\"fName\":\"\",\"fTitle\":\"Std Dev   =  133.1\",\"fTextAngle\":0,\"fTextSize\":0,\"fTextAlign\":0,\"fTextColor\":0,\"fTextFont\":0,\"fX\":0,\"fY\":0,\"fLineColor\":1,\"fLineStyle\":1,\"fLineWidth\":2,\"fLimitFactorSize\":3,\"fOriginSize\":0.0242682173848152}],\"opt\":[\"\",\"\",\"\",\"\"]},\"fOptFit\":0,\"fOptStat\":1111,\"fFitFormat\":\"5.4g\",\"fStatFormat\":\"6.4g\",\"fParent\":{\"$ref\":55}}],\"opt\":[\"brNDC\"]},\"fBufferSize\":0,\"fBuffer\":[],\"fBinStatErrOpt\":0,\"fStatOverflows\":2,\"fArray\":[0,0,0,0,0,0,0,0,0,0,0,0,2.089031,1.644365,1.336952,1.037511,0.8466876,0.7071209,0.5299435,0.5386583,0.4205014,0.3023231,0.2721871,0.2230415,0.1768865,0.120174,0.1355308,0.1099186,0.0982364,0.07992133,0.06506687,0.0558337,0.0526479,0.03712369,0.03450097,0.03175725,0.02466734,0.03264325,0.02617401,0.02520008,0.01991772,0.02058822,0.01447117,0.01959393,0.006881469,0.01437885,0.01160065,0.01088393,0.004690224,0.002082357,0.005877461,0.003999922,0.005456754,0.005180161,0.004945437,0.001924832,7.523061e-4,0.001012244,0.003316951,0.002086466,0.005806683,0.002099162,0.00168764,0.001497039,8.181717e-4,7.886367e-4,6.65874e-4,0.001222519,0.001724763,2.918965e-4,7.087303e-4,5.989328e-4,3.556472e-5,6.171823e-4,8.037696e-4,0.001585272,1.202511e-4,8.708968e-5,7.164185e-5,4.529588e-4,4.56729e-4,3.895656e-5,0,5.530356e-5,0,1.522255e-4,6.361671e-4,4.619772e-4,6.687553e-4,1.163152e-4,8.216051e-5,1.525189e-4,0,3.83373e-4,0,2.36592e-4,0,0,3.100724e-4,0,3.337396e-5,0.001298116]},{\"_typename\":\"TH1F\",\"fUniqueID\":0,\"fBits\":8,\"fName\":\"hf_kew_systdn\",\"fTitle\":\"\",\"fLineColor\":602,\"fLineStyle\":2,\"fLineWidth\":1,\"fFillColor\":0,\"fFillStyle\":1001,\"fMarkerColor\":1,\"fMarkerStyle\":1,\"fMarkerSize\":1,\"fNcells\":102,\"fXaxis\":{\"_typename\":\"TAxis\",\"fUniqueID\":0,\"fBits\":0,\"fName\":\"xaxis\",\"fTitle\":\"\",\"fNdivisions\":510,\"fAxisColor\":1,\"fLabelColor\":1,\"fLabelFont\":42,\"fLabelOffset\":0.005,\"fLabelSize\":0.035,\"fTickLength\":0.03,\"fTitleOffset\":1,\"fTitleSize\":0.035,\"fTitleColor\":1,\"fTitleFont\":42,\"fNbins\":100,\"fXmin\":0,\"fXmax\":2000,\"fXbins\":[],\"fFirst\":0,\"fLast\":0,\"fBits2\":0,\"fTimeDisplay\":false,\"fTimeFormat\":\"\",\"fLabels\":null,\"fModLabs\":null},\"fYaxis\":{\"_typename\":\"TAxis\",\"fUniqueID\":0,\"fBits\":0,\"fName\":\"yaxis\",\"fTitle\":\"\",\"fNdivisions\":510,\"fAxisColor\":1,\"fLabelColor\":1,\"fLabelFont\":42,\"fLabelOffset\":0.005,\"fLabelSize\":0.035,\"fTickLength\":0.03,\"fTitleOffset\":0,\"fTitleSize\":0.035,\"fTitleColor\":1,\"fTitleFont\":42,\"fNbins\":1,\"fXmin\":0,\"fXmax\":1,\"fXbins\":[],\"fFirst\":0,\"fLast\":0,\"fBits2\":0,\"fTimeDisplay\":false,\"fTimeFormat\":\"\",\"fLabels\":null,\"fModLabs\":null},\"fZaxis\":{\"_typename\":\"TAxis\",\"fUniqueID\":0,\"fBits\":0,\"fName\":\"zaxis\",\"fTitle\":\"\",\"fNdivisions\":510,\"fAxisColor\":1,\"fLabelColor\":1,\"fLabelFont\":42,\"fLabelOffset\":0.005,\"fLabelSize\":0.035,\"fTickLength\":0.03,\"fTitleOffset\":1,\"fTitleSize\":0.035,\"fTitleColor\":1,\"fTitleFont\":42,\"fNbins\":1,\"fXmin\":0,\"fXmax\":1,\"fXbins\":[],\"fFirst\":0,\"fLast\":0,\"fBits2\":0,\"fTimeDisplay\":false,\"fTimeFormat\":\"\",\"fLabels\":null,\"fModLabs\":null},\"fBarOffset\":0,\"fBarWidth\":1000,\"fEntries\":49273,\"fTsumw\":10.5572841387935,\"fTsumw2\":0.0154715011284184,\"fTsumwx\":3474.91122869802,\"fTsumwx2\":1318285.73822596,\"fMaximum\":-1111,\"fMinimum\":-1111,\"fNormFactor\":0,\"fContour\":[],\"fSumw2\":[0,0,0,0,0,0,0,0,0,0,0,0,0.00312800353431566,0.00231920204237122,0.00174259049873613,0.00125737517136772,0.00115502755450861,0.00104176340417787,6.56919164181471e-4,9.35867375936238e-4,6.43752890256551e-4,3.61027654960961e-4,3.30033272355087e-4,2.9003365700528e-4,2.24109080849313e-4,8.37787609445484e-5,1.64900436545534e-4,1.63965489568333e-4,1.38722976101838e-4,1.10134455112123e-4,9.26902022829612e-5,6.57078790484908e-5,7.83781777873245e-5,2.97018754568883e-5,3.84681324267581e-5,4.90544946781248e-5,1.33279038011935e-5,6.88241998564012e-5,3.04417912586853e-5,3.40720302559271e-5,3.47655765084221e-5,3.05852552268981e-5,1.84612565044386e-5,4.46907885902443e-5,1.53992765926675e-6,2.37587509013524e-5,1.75243423950305e-5,1.37434819505121e-5,1.1896984363319e-6,3.90004721151624e-7,1.84708076195953e-6,6.23100598179343e-7,1.58678068054615e-6,1.72309335237052e-6,1.72831910319816e-6,4.68525316914111e-7,9.67000688737546e-8,2.13232791050943e-7,1.06782700045704e-6,5.65748579075152e-7,2.26392952169492e-5,5.21813085167149e-7,3.95007833475088e-7,5.04022226442535e-7,1.24437285992767e-7,2.06017703968085e-7,1.03541849016049e-7,2.04206222732152e-7,5.57863216135729e-7,3.72264924064355e-8,8.09713238991954e-8,1.00175522349868e-7,9.59463947707792e-10,6.43444056870074e-8,1.763155080036e-7,4.07867631122487e-7,9.96847659717246e-9,4.79514116671563e-9,1.28349454096212e-9,5.97320594151666e-8,6.77252867912731e-8,9.60009479345703e-10,0,2.20729686303227e-9,0,7.35175239947275e-9,3.43128890256869e-7,1.01907577385056e-7,1.42438136405058e-7,7.19221401820611e-9,3.67136882806252e-9,1.62287218580653e-8,0,5.9712307919014e-8,0,3.19993552640169e-8,0,0,7.2570199718268e-8,0,5.93848717377445e-10,1.08550344581842e-7],\"fOption\":\"\",\"fFunctions\":{\"_typename\":\"TList\",\"name\":\"TList\",\"arr\":[],\"opt\":[]},\"fBufferSize\":0,\"fBuffer\":[],\"fBinStatErrOpt\":0,\"fStatOverflows\":2,\"fArray\":[0,0,0,0,0,0,0,0,0,0,0,0,2.010004,1.573613,1.270432,0.9814031,0.7980447,0.663429,0.4947506,0.4995955,0.389742,0.2780409,0.2487688,0.2023213,0.1623007,0.1091734,0.122205,0.09870604,0.08854157,0.07122951,0.05833396,0.05054365,0.04571591,0.03299551,0.03087532,0.02720693,0.02072832,0.03023164,0.0225757,0.0220581,0.01670579,0.01710155,0.01211831,0.01718821,0.005867729,0.01219606,0.009273162,0.008429901,0.00392528,0.001697161,0.004903952,0.00332015,0.004344801,0.00441086,0.00398664,0.00158427,6.291864e-4,8.47392e-4,0.0027396,0.001673298,0.005196946,0.001755585,0.001407732,0.001172197,6.330965e-4,6.320212e-4,5.52682e-4,9.086658e-4,0.001342596,2.350939e-4,4.972486e-4,5.070765e-4,3.097522e-5,5.414757e-4,7.070543e-4,0.001125862,9.984225e-5,6.924695e-5,5.066344e-5,3.246039e-4,3.443554e-4,3.098402e-5,0,4.698188e-5,0,1.067407e-4,5.85772e-4,3.440133e-4,5.193147e-4,8.480692e-5,6.059182e-5,1.27392e-4,0,2.44361e-4,0,1.959231e-4,0,0,2.693886e-4,0,2.436901e-5,8.69334e-4]},{\"_typename\":\"TH1F\",\"fUniqueID\":0,\"fBits\":8,\"fName\":\"hf_kew_systup\",\"fTitle\":\"\",\"fLineColor\":602,\"fLineStyle\":2,\"fLineWidth\":1,\"fFillColor\":0,\"fFillStyle\":1001,\"fMarkerColor\":1,\"fMarkerStyle\":1,\"fMarkerSize\":1,\"fNcells\":102,\"fXaxis\":{\"_typename\":\"TAxis\",\"fUniqueID\":0,\"fBits\":0,\"fName\":\"xaxis\",\"fTitle\":\"\",\"fNdivisions\":510,\"fAxisColor\":1,\"fLabelColor\":1,\"fLabelFont\":42,\"fLabelOffset\":0.005,\"fLabelSize\":0.035,\"fTickLength\":0.03,\"fTitleOffset\":1,\"fTitleSize\":0.035,\"fTitleColor\":1,\"fTitleFont\":42,\"fNbins\":100,\"fXmin\":0,\"fXmax\":2000,\"fXbins\":[],\"fFirst\":0,\"fLast\":0,\"fBits2\":0,\"fTimeDisplay\":false,\"fTimeFormat\":\"\",\"fLabels\":null,\"fModLabs\":null},\"fYaxis\":{\"_typename\":\"TAxis\",\"fUniqueID\":0,\"fBits\":0,\"fName\":\"yaxis\",\"fTitle\":\"\",\"fNdivisions\":510,\"fAxisColor\":1,\"fLabelColor\":1,\"fLabelFont\":42,\"fLabelOffset\":0.005,\"fLabelSize\":0.035,\"fTickLength\":0.03,\"fTitleOffset\":0,\"fTitleSize\":0.035,\"fTitleColor\":1,\"fTitleFont\":42,\"fNbins\":1,\"fXmin\":0,\"fXmax\":1,\"fXbins\":[],\"fFirst\":0,\"fLast\":0,\"fBits2\":0,\"fTimeDisplay\":false,\"fTimeFormat\":\"\",\"fLabels\":null,\"fModLabs\":null},\"fZaxis\":{\"_typename\":\"TAxis\",\"fUniqueID\":0,\"fBits\":0,\"fName\":\"zaxis\",\"fTitle\":\"\",\"fNdivisions\":510,\"fAxisColor\":1,\"fLabelColor\":1,\"fLabelFont\":42,\"fLabelOffset\":0.005,\"fLabelSize\":0.035,\"fTickLength\":0.03,\"fTitleOffset\":1,\"fTitleSize\":0.035,\"fTitleColor\":1,\"fTitleFont\":42,\"fNbins\":1,\"fXmin\":0,\"fXmax\":1,\"fXbins\":[],\"fFirst\":0,\"fLast\":0,\"fBits2\":0,\"fTimeDisplay\":false,\"fTimeFormat\":\"\",\"fLabels\":null,\"fModLabs\":null},\"fBarOffset\":0,\"fBarWidth\":1000,\"fEntries\":49273,\"fTsumw\":11.9221438732926,\"fTsumw2\":0.0198786853855593,\"fTsumwx\":4000.99532884028,\"fTsumwx2\":1566081.33094676,\"fMaximum\":-1111,\"fMinimum\":-1111,\"fNormFactor\":0,\"fContour\":[],\"fSumw2\":[0,0,0,0,0,0,0,0,0,0,0,0,0.00363932896564034,0.00275578776268053,0.00213933826376172,0.00156461092000247,0.00145015068768301,0.00133507399430433,8.61408337649698e-4,0.00126576281141935,8.56025679218523e-4,5.075957697101e-4,4.85605253549326e-4,4.41537723668484e-4,2.97667050024766e-4,1.27238878747082e-4,2.52078844131099e-4,2.36326727028328e-4,2.05859859396823e-4,1.77207672813369e-4,1.40013584941028e-4,8.56008631834572e-5,1.52179723021202e-4,4.81915809234082e-5,5.29600783035215e-5,1.09324150623843e-4,3.78341464347394e-5,8.22979289351574e-5,5.71867982255074e-5,5.3819139818877e-5,6.70941932620149e-5,6.66043817747756e-5,4.15415752144387e-5,6.79237577174934e-5,2.72374928457932e-6,4.52631510127836e-5,5.25231665995041e-5,5.01981304590358e-5,2.11795194284999e-6,7.92169266022742e-7,3.67198167291412e-6,1.25973288587237e-6,3.84521530587654e-6,3.0094330383551e-6,3.92440776537445e-6,1.00038499452555e-6,1.65429210550698e-7,4.20878908069427e-7,1.95171247533391e-6,1.28102017755799e-6,3.31621082595614e-5,9.21557227243896e-7,7.5090120300813e-7,1.18514513642883e-6,3.40416288820896e-7,3.92111119491338e-7,1.96928529590521e-7,6.08046641072995e-7,1.37124380676992e-6,7.93509669286425e-8,2.93757979004176e-7,1.91209586051103e-7,1.61236135399203e-9,9.78494414295819e-8,2.64087800451839e-7,1.41900372725192e-6,1.97852038381441e-8,1.101080894886e-8,4.30034792259844e-9,1.98994958019166e-7,1.93542554249842e-7,2.20234192135188e-9,0,4.04817160965239e-9,0,2.57421248540008e-8,4.71367640117065e-7,2.87227690534856e-7,3.41797818324498e-7,2.1851808424061e-8,1.07597461803469e-8,3.15580474932766e-8,0,2.72886124269795e-7,0,6.25353990106589e-8,0,0,1.23029918569109e-7,0,1.795972477588e-9,4.66186057462711e-7],\"fOption\":\"\",\"fFunctions\":{\"_typename\":\"TList\",\"name\":\"TList\",\"arr\":[],\"opt\":[]},\"fBufferSize\":0,\"fBuffer\":[],\"fBinStatErrOpt\":0,\"fStatOverflows\":2,\"fArray\":[0,0,0,0,0,0,0,0,0,0,0,0,2.16806,1.715116,1.403473,1.093618,0.8953304,0.7508128,0.5651364,0.5777213,0.4512606,0.3266056,0.2956054,0.2437617,0.1914722,0.1311745,0.1488566,0.1211312,0.1079312,0.08861316,0.07179978,0.06112375,0.05957989,0.04125186,0.03812662,0.03630758,0.02860636,0.03505486,0.02977232,0.02834206,0.02312964,0.02407488,0.01682403,0.02199965,0.007895209,0.01656165,0.01392815,0.01333797,0.005455167,0.002467554,0.00685097,0.004679695,0.006568707,0.005949462,0.005904234,0.002265393,8.754257e-4,0.001177096,0.003894301,0.002499634,0.006416421,0.002442738,0.001967547,0.00182188,0.001003247,9.452523e-4,7.790662e-4,0.001536372,0.00210693,3.486992e-4,9.20212e-4,6.907892e-4,4.015422e-5,6.928892e-4,9.004848e-4,0.002044682,1.406599e-4,1.049324e-4,9.262027e-5,5.813136e-4,5.691025e-4,4.692912e-5,0,6.362524e-5,0,1.977103e-4,6.865622e-4,5.799412e-4,8.181959e-4,1.478236e-4,1.037292e-4,1.776458e-4,0,5.223851e-4,0,2.77261e-4,0,0,3.507562e-4,0,4.237892e-5,0.001726897]}],\"opt\":[\"\",\"hist\",\"hist,same\",\"hist,same\"]},\"fExecs\":{\"_typename\":\"TList\",\"name\":\"TList\",\"arr\":[],\"opt\":[]},\"fName\":\"c1_3\",\"fTitle\":\"c1_3\",\"fNumPaletteColor\":0,\"fNextPaletteColor\":0},{\"_typename\":\"TStyle\",\"fUniqueID\":0,\"fBits\":0,\"fName\":\"Modern\",\"fTitle\":\"Modern Style\",\"fLineColor\":1,\"fLineStyle\":1,\"fLineWidth\":1,\"fFillColor\":19,\"fFillStyle\":1001,\"fMarkerColor\":1,\"fMarkerStyle\":1,\"fMarkerSize\":1,\"fTextAngle\":0,\"fTextSize\":0.05,\"fTextAlign\":11,\"fTextColor\":1,\"fTextFont\":62,\"fXaxis\":{\"_typename\":\"TAttAxis\",\"fNdivisions\":510,\"fAxisColor\":1,\"fLabelColor\":1,\"fLabelFont\":42,\"fLabelOffset\":0.005,\"fLabelSize\":0.035,\"fTickLength\":0.03,\"fTitleOffset\":1,\"fTitleSize\":0.035,\"fTitleColor\":1,\"fTitleFont\":42},\"fYaxis\":{\"_typename\":\"TAttAxis\",\"fNdivisions\":510,\"fAxisColor\":1,\"fLabelColor\":1,\"fLabelFont\":42,\"fLabelOffset\":0.005,\"fLabelSize\":0.035,\"fTickLength\":0.03,\"fTitleOffset\":0,\"fTitleSize\":0.035,\"fTitleColor\":1,\"fTitleFont\":42},\"fZaxis\":{\"_typename\":\"TAttAxis\",\"fNdivisions\":510,\"fAxisColor\":1,\"fLabelColor\":1,\"fLabelFont\":42,\"fLabelOffset\":0.005,\"fLabelSize\":0.035,\"fTickLength\":0.03,\"fTitleOffset\":1,\"fTitleSize\":0.035,\"fTitleColor\":1,\"fTitleFont\":42},\"fBarWidth\":1,\"fBarOffset\":0,\"fColorModelPS\":0,\"fDrawBorder\":0,\"fOptLogx\":0,\"fOptLogy\":0,\"fOptLogz\":0,\"fOptDate\":0,\"fOptStat\":1,\"fOptTitle\":1,\"fOptFile\":0,\"fOptFit\":0,\"fShowEventStatus\":0,\"fShowEditor\":0,\"fShowToolBar\":0,\"fNumberContours\":20,\"fAttDate\":{\"_typename\":\"TAttText\",\"fTextAngle\":0,\"fTextSize\":0.025,\"fTextAlign\":11,\"fTextColor\":1,\"fTextFont\":62},\"fDateX\":0.01,\"fDateY\":0.01,\"fEndErrorSize\":2,\"fErrorX\":0.5,\"fFuncColor\":2,\"fFuncStyle\":1,\"fFuncWidth\":2,\"fGridColor\":0,\"fGridStyle\":3,\"fGridWidth\":1,\"fLegendBorderSize\":1,\"fLegendFillColor\":0,\"fLegendFont\":42,\"fLegendTextSize\":0,\"fHatchesLineWidth\":1,\"fHatchesSpacing\":1,\"fFrameFillColor\":0,\"fFrameLineColor\":1,\"fFrameFillStyle\":1001,\"fFrameLineStyle\":1,\"fFrameLineWidth\":1,\"fFrameBorderSize\":1,\"fFrameBorderMode\":0,\"fHistFillColor\":0,\"fHistLineColor\":602,\"fHistFillStyle\":1001,\"fHistLineStyle\":1,\"fHistLineWidth\":1,\"fHistMinimumZero\":false,\"fHistTopMargin\":0.05,\"fCanvasPreferGL\":false,\"fCanvasColor\":0,\"fCanvasBorderSize\":2,\"fCanvasBorderMode\":0,\"fCanvasDefH\":500,\"fCanvasDefW\":700,\"fCanvasDefX\":10,\"fCanvasDefY\":10,\"fPadColor\":0,\"fPadBorderSize\":2,\"fPadBorderMode\":0,\"fPadBottomMargin\":0.1,\"fPadTopMargin\":0.1,\"fPadLeftMargin\":0.1,\"fPadRightMargin\":0.1,\"fPadGridX\":false,\"fPadGridY\":false,\"fPadTickX\":0,\"fPadTickY\":0,\"fPaperSizeX\":20,\"fPaperSizeY\":26,\"fScreenFactor\":1,\"fStatColor\":0,\"fStatTextColor\":1,\"fStatBorderSize\":1,\"fStatFont\":42,\"fStatFontSize\":0,\"fStatStyle\":1001,\"fStatFormat\":\"6.4g\",\"fStatX\":0.98,\"fStatY\":0.935,\"fStatW\":0.2,\"fStatH\":0.16,\"fStripDecimals\":true,\"fTitleAlign\":23,\"fTitleColor\":0,\"fTitleTextColor\":1,\"fTitleBorderSize\":0,\"fTitleFont\":42,\"fTitleFontSize\":0.05,\"fTitleStyle\":0,\"fTitleX\":0.5,\"fTitleY\":0.995,\"fTitleW\":0,\"fTitleH\":0,\"fLegoInnerR\":0.5,\"fLineStyle\":[\"\",\"  \",\" 12 12\",\" 4 8\",\" 12 16 4 16\",\" 20 12 4 12\",\" 20 12 4 12 4 12 4 12\",\" 20 20\",\" 20 12 4 12 4 12\",\" 80 20\",\" 80 40 4 40\",\"  \",\"  \",\"  \",\"  \",\"  \",\"  \",\"  \",\"  \",\"  \",\"  \",\"  \",\"  \",\"  \",\"  \",\"  \",\"  \",\"  \",\"  \",\"  \"],\"fHeaderPS\":\"\",\"fTitlePS\":\"\",\"fFitFormat\":\"5.4g\",\"fPaintTextFormat\":\"g\",\"fLineScalePS\":3,\"fJoinLinePS\":0,\"fCapLinePS\":0,\"fTimeOffset\":788918400,\"fImageScaling\":1}],\"opt\":[\"\",\"\",\"\",\"\"]},\"fExecs\":null,\"fName\":\"c1\",\"fTitle\":\"c1\",\"fNumPaletteColor\":0,\"fNextPaletteColor\":0,\"fDISPLAY\":\"$DISPLAY\",\"fDoubleBuffer\":0,\"fRetained\":true,\"fXsizeUser\":0,\"fYsizeUser\":0,\"fXsizeReal\":20,\"fYsizeReal\":6.666667,\"fWindowTopX\":0,\"fWindowTopY\":0,\"fWindowWidth\":0,\"fWindowHeight\":0,\"fCw\":1796,\"fCh\":572,\"fCatt\":{\"_typename\":\"TAttCanvas\",\"fXBetween\":2,\"fYBetween\":2,\"fTitleFromTop\":1.2,\"fXdate\":0.2,\"fYdate\":0.3,\"fAdate\":1},\"kMoveOpaque\":true,\"kResizeOpaque\":true,\"fHighLightColor\":2,\"fBatch\":true,\"kShowEventStatus\":false,\"kAutoExec\":true,\"kMenuBar\":true});\n",
       "   Core.settings.HandleKeys = false;\n",
       "   Core.draw(\"root_plot_1642781687274\", obj, \"\");\n",
       "}\n",
       "\n",
       "function script_load_root_plot_1642781687274(src, on_error) {\n",
       "    let script = document.createElement('script');\n",
       "    script.src = src;\n",
       "    script.onload = function() { display_root_plot_1642781687274(JSROOT); };\n",
       "    script.onerror = function() { script.remove(); on_error(); };\n",
       "    document.head.appendChild(script);\n",
       "}\n",
       "\n",
       "if (typeof requirejs !== 'undefined') {\n",
       "\n",
       "    // We are in jupyter notebooks, use require.js which should be configured already\n",
       "    requirejs.config({\n",
       "       paths: { 'JSRootCore' : [ 'scripts/JSRoot.core', 'https://root.cern/js/6.1.1/scripts/JSRoot.core.min', 'https://jsroot.gsi.de/6.1.1/scripts/JSRoot.core.min' ] }\n",
       "    })(['JSRootCore'],  function(Core) {\n",
       "       display_root_plot_1642781687274(Core);\n",
       "    });\n",
       "\n",
       "} else if (typeof JSROOT !== 'undefined') {\n",
       "\n",
       "   // JSROOT already loaded, just use it\n",
       "   display_root_plot_1642781687274(JSROOT);\n",
       "\n",
       "} else {\n",
       "\n",
       "    // We are in jupyterlab without require.js, directly loading jsroot\n",
       "    // Jupyterlab might be installed in a different base_url so we need to know it.\n",
       "    try {\n",
       "        var base_url = JSON.parse(document.getElementById('jupyter-config-data').innerHTML).baseUrl;\n",
       "    } catch(_) {\n",
       "        var base_url = '/';\n",
       "    }\n",
       "\n",
       "    // Try loading a local version of requirejs and fallback to cdn if not possible.\n",
       "    script_load_root_plot_1642781687274(base_url + 'static/scripts/JSRoot.core.js', function(){\n",
       "        console.error('Fail to load JSROOT locally, please check your jupyter_notebook_config.py file');\n",
       "        script_load_root_plot_1642781687274('https://root.cern/js/6.1.1/scripts/JSRoot.core.min.js', function(){\n",
       "            document.getElementById(\"root_plot_1642781687274\").innerHTML = \"Failed to load JSROOT\";\n",
       "        });\n",
       "    });\n",
       "}\n",
       "\n",
       "</script>\n"
      ],
      "text/plain": [
       "<IPython.core.display.HTML object>"
      ]
     },
     "metadata": {},
     "output_type": "display_data"
    }
   ],
   "source": [
    "c1 = ROOT.TCanvas(\"c1\",\"c1\",1800,600)\n",
    "c1.Divide(3,1)\n",
    "h_bkg_unt[3].SetLineColor(2)\n",
    "h_bkg_vh[3].SetLineColor(2)\n",
    "h_bkg_vbf[3].SetLineColor(2)\n",
    "\n",
    "h_bkg_unt[1].SetLineStyle(2)\n",
    "h_bkg_vh[1].SetLineStyle(2)\n",
    "h_bkg_vbf[1].SetLineStyle(2)\n",
    "\n",
    "\n",
    "h_bkg_unt[2].SetLineStyle(2)\n",
    "h_bkg_vh[2].SetLineStyle(2)\n",
    "h_bkg_vbf[2].SetLineStyle(2)\n",
    "\n",
    "\n",
    "c1.cd(1).SetLogy()\n",
    "#c1.cd(1)\n",
    "\n",
    "print (h_bkg_unt[1].Integral())\n",
    "h_bkg_unt[3].Draw(\"hist\")\n",
    "h_bkg_unt[3].GetXaxis().SetTitle(\"qqZZ Untagged background m4l [GeV]\")\n",
    "h_bkg_unt[1].Draw(\"hist,same\")\n",
    "h_bkg_unt[2].Draw(\"hist,same\")\n",
    "c1.cd(2).SetLogy()\n",
    "#c1.cd(2)\n",
    "h_bkg_vh[3].Draw(\"hist\")\n",
    "h_bkg_vh[3].GetXaxis().SetTitle(\"qqZZ VHtagged background m4l [GeV]\")\n",
    "h_bkg_vh[1].Draw(\"hist,same\")\n",
    "h_bkg_vh[2].Draw(\"hist,same\")\n",
    "\n",
    "\n",
    "\n",
    "c1.cd(3).SetLogy()\n",
    "#c1.cd(3)\n",
    "h_bkg_vbf[3].Draw(\"hist\")\n",
    "h_bkg_vbf[3].GetXaxis().SetTitle(\"qqZZ VBFtagged background m4l [GeV]\")\n",
    "h_bkg_vbf[1].Draw(\"hist,same\")\n",
    "h_bkg_vbf[2].Draw(\"hist,same\")\n",
    "\n",
    "\n",
    "ROOT.gStyle.SetOptStat(1)\n",
    "c1.Draw()\n",
    "ROOT.gStyle.SetOptStat(1)\n",
    "c1.Update()\n",
    "\n",
    "c1.SaveAs(\"back_ew_qqzz.png\")\n",
    "c1.SaveAs(\"back_ew_qqzz.pdf\")\n"
   ]
  },
  {
   "cell_type": "code",
   "execution_count": 27,
   "id": "12d8b167",
   "metadata": {},
   "outputs": [
    {
     "ename": "NameError",
     "evalue": "name 'h_gg_unt' is not defined",
     "output_type": "error",
     "traceback": [
      "\u001b[0;31m---------------------------------------------------------------------------\u001b[0m",
      "\u001b[0;31mNameError\u001b[0m                                 Traceback (most recent call last)",
      "\u001b[0;32m/tmp/ipykernel_578/250564528.py\u001b[0m in \u001b[0;36m<module>\u001b[0;34m\u001b[0m\n\u001b[0;32m----> 1\u001b[0;31m \u001b[0mprint\u001b[0m  \u001b[0;34m(\u001b[0m\u001b[0mh_gg_unt\u001b[0m\u001b[0;34m)\u001b[0m\u001b[0;34m\u001b[0m\u001b[0;34m\u001b[0m\u001b[0m\n\u001b[0m",
      "\u001b[0;31mNameError\u001b[0m: name 'h_gg_unt' is not defined"
     ]
    }
   ],
   "source": [
    "print  (h_gg_unt)"
   ]
  },
  {
   "cell_type": "code",
   "execution_count": null,
   "id": "ad126c8a",
   "metadata": {
    "scrolled": true
   },
   "outputs": [],
   "source": [
    "print (h_list)"
   ]
  },
  {
   "cell_type": "code",
   "execution_count": null,
   "id": "c7f0975c",
   "metadata": {
    "scrolled": true
   },
   "outputs": [],
   "source": [
    "hlist"
   ]
  },
  {
   "cell_type": "code",
   "execution_count": null,
   "id": "8bab436f",
   "metadata": {},
   "outputs": [],
   "source": [
    "for h in h_list:\n",
    "    print (h)\n",
    "    print(h.Integral())"
   ]
  },
  {
   "cell_type": "markdown",
   "id": "11e1cf62",
   "metadata": {},
   "source": [
    "# Unroll and Visualize all histograms in 'hlist'"
   ]
  },
  {
   "cell_type": "markdown",
   "id": "3fa69103",
   "metadata": {},
   "source": [
    "##### Do not proceed if your 'hlist' is not filled. Recall it expects 7 histograms ordered like: ['ggH SIG', 'ggH BSI', 'ggH BKG', 'EW SIG', 'EW BSI', 'EW BKG', 'qqbar BKG']\n",
    "##### If you simply want to test the unrolling section, just fill the list with 7 copies of the same TH3F histogram"
   ]
  },
  {
   "cell_type": "markdown",
   "id": "2c520317",
   "metadata": {},
   "source": [
    "### Unroll all 7 histograms"
   ]
  },
  {
   "cell_type": "code",
   "execution_count": null,
   "id": "23371ac0",
   "metadata": {
    "scrolled": true
   },
   "outputs": [],
   "source": [
    "hlist1d = []\n",
    "hlisttemp = h_list\n",
    "for hf in hlisttemp:\n",
    "    totgbins = hf.GetNbinsX() * hf.GetNbinsY() * hf.GetNbinsZ()\n",
    "    totgedges = np.arange(totgbins+1, dtype='float64')\n",
    "\n",
    "    #hf1d = ROOT.TH1F(\"hf1d\",\"\",len(totgedges)-1, totgedges)\n",
    "    hf1d = ROOT.TH1F(\"hf1d\",\"\",totgbins, 0, totgbins)\n",
    "    hf1d.SetDirectory(0)\n",
    "\n",
    "    bincount = 1\n",
    "\n",
    "    for xbin in trange(hf.GetNbinsX()):\n",
    "        for ybin in range(hf.GetNbinsY()):\n",
    "            for zbin in range(hf.GetNbinsZ()):\n",
    "                gbin = hf.GetBin(xbin+1, ybin+1, zbin+1)\n",
    "\n",
    "                #if gbin<400: print(xbin, ybin, zbin)\n",
    "                #print(gbin)\n",
    "                #print(bincount)\n",
    "                if bincount>totgbins: \n",
    "                    print(\"WHAT\")\n",
    "                    break\n",
    "                    \n",
    "                #if hf.GetBinContent(gbin) != 0: print(hf.GetBinContent(gbin))\n",
    "                #print(hf.GetBinContent(gbin))\n",
    "                \n",
    "                hf1d.SetBinContent(bincount, hf.GetBinContent(gbin))\n",
    "                bincount += 1\n",
    "                #if hf.GetBinContent(gbin) != 0: print(\"YAY\")\n",
    "    \n",
    "    hlist1d.append(hf1d)"
   ]
  },
  {
   "cell_type": "code",
   "execution_count": null,
   "id": "ebbed0f5",
   "metadata": {},
   "outputs": [],
   "source": [
    "c1 = ROOT.TCanvas(\"c1\",\"c1\",4480,600)\n",
    "c1.Divide(len(hlist1d),1)\n",
    "for i in range(len(hlist1d)):\n",
    "    c1.cd(i+1)\n",
    "    print(hlist1d[i].Integral())\n",
    "    hlist1d[i].Draw(\"hist\")\n",
    "\n",
    "ROOT.gStyle.SetOptStat(1)\n",
    "c1.Draw()"
   ]
  },
  {
   "cell_type": "markdown",
   "id": "3e05243e",
   "metadata": {},
   "source": [
    "### Isolate INT from the BSI histograms and also add the total combination of statistics as a new histogram at the end"
   ]
  },
  {
   "cell_type": "code",
   "execution_count": null,
   "id": "1e3d0eb5",
   "metadata": {},
   "outputs": [],
   "source": [
    "hlist1d[1].Add(hlist1d[0], -1)\n",
    "hlist1d[1].Add(hlist1d[2], -1)\n",
    "\n",
    "hlist1d[4].Add(hlist1d[3], -1)\n",
    "hlist1d[4].Add(hlist1d[5], -1)"
   ]
  },
  {
   "cell_type": "code",
   "execution_count": null,
   "id": "be409bcd",
   "metadata": {},
   "outputs": [],
   "source": [
    "c1 = ROOT.TCanvas(\"c1\",\"c1\",4480,600)\n",
    "c1.Divide(len(hlist1d),1)\n",
    "for i in range(len(hlist1d)):\n",
    "    c1.cd(i+1)\n",
    "    print(hlist1d[i].Integral())\n",
    "    hlist1d[i].Draw(\"hist\")\n",
    "\n",
    "ROOT.gStyle.SetOptStat(1)\n",
    "c1.Draw()"
   ]
  },
  {
   "cell_type": "code",
   "execution_count": null,
   "id": "5adc130a",
   "metadata": {},
   "outputs": [],
   "source": [
    "hf1d = ROOT.TH1F(\"hf1d\",\"\",totgbins, 0, totgbins)\n",
    "hf1d.SetDirectory(0)\n",
    "hf1d.Add(hlist1d[1])\n",
    "hlist1d.insert(1, hf1d)"
   ]
  },
  {
   "cell_type": "code",
   "execution_count": null,
   "id": "f618c840",
   "metadata": {},
   "outputs": [],
   "source": [
    "c1 = ROOT.TCanvas(\"c1\",\"c1\",4480,600)\n",
    "c1.Divide(len(hlist1d),1)\n",
    "for i in range(len(hlist1d)):\n",
    "    c1.cd(i+1)\n",
    "    print(hlist1d[i].Integral())\n",
    "    hlist1d[i].Draw(\"hist\")\n",
    "\n",
    "ROOT.gStyle.SetOptStat(1)\n",
    "c1.Draw()"
   ]
  },
  {
   "cell_type": "code",
   "execution_count": null,
   "id": "8b10cb8a",
   "metadata": {},
   "outputs": [],
   "source": [
    "hf1d = ROOT.TH1F(\"hf1d\",\"\",totgbins, 0, totgbins)\n",
    "hf1d.SetDirectory(0)\n",
    "hf1d.Add(hlist1d[5])\n",
    "hlist1d.insert(5, hf1d)"
   ]
  },
  {
   "cell_type": "code",
   "execution_count": null,
   "id": "9a5fd9a0",
   "metadata": {
    "scrolled": false
   },
   "outputs": [],
   "source": [
    "c1 = ROOT.TCanvas(\"c1\",\"c1\",4480,600)\n",
    "c1.Divide(len(hlist1d),1)\n",
    "for i in range(len(hlist1d)):\n",
    "    c1.cd(i+1)\n",
    "    print(hlist1d[i].Integral())\n",
    "    hlist1d[i].Draw(\"hist\")\n",
    "\n",
    "ROOT.gStyle.SetOptStat(1)\n",
    "c1.Draw()"
   ]
  },
  {
   "cell_type": "code",
   "execution_count": null,
   "id": "df04197e",
   "metadata": {},
   "outputs": [],
   "source": [
    "for i in range(hlist1d[1].GetXaxis().GetNbins()):\n",
    "    b = i+1\n",
    "    if hlist1d[1].GetBinContent(b) >= 0:\n",
    "        hlist1d[1].SetBinContent(b, 0)\n",
    "\n",
    "for i in range(hlist1d[2].GetXaxis().GetNbins()):\n",
    "    b = i+1\n",
    "    if hlist1d[2].GetBinContent(b) <= 0:\n",
    "        hlist1d[2].SetBinContent(b, 0)"
   ]
  },
  {
   "cell_type": "code",
   "execution_count": null,
   "id": "d2402aaf",
   "metadata": {},
   "outputs": [],
   "source": [
    "c1 = ROOT.TCanvas(\"c1\",\"c1\",4480,600)\n",
    "c1.Divide(len(hlist1d),1)\n",
    "for i in range(len(hlist1d)):\n",
    "    c1.cd(i+1)\n",
    "    print(hlist1d[i].Integral())\n",
    "    hlist1d[i].Draw(\"hist\")\n",
    "\n",
    "ROOT.gStyle.SetOptStat(1)\n",
    "c1.Draw()"
   ]
  },
  {
   "cell_type": "code",
   "execution_count": null,
   "id": "3ed68b42",
   "metadata": {},
   "outputs": [],
   "source": [
    "for i in range(hlist1d[5].GetXaxis().GetNbins()):\n",
    "    b = i+1\n",
    "    if hlist1d[5].GetBinContent(b) >= 0:\n",
    "        hlist1d[5].SetBinContent(b, 0)\n",
    "\n",
    "for i in range(hlist1d[6].GetXaxis().GetNbins()):\n",
    "    b = i+1\n",
    "    if hlist1d[6].GetBinContent(b) <= 0:\n",
    "        hlist1d[6].SetBinContent(b, 0)"
   ]
  },
  {
   "cell_type": "code",
   "execution_count": null,
   "id": "c36aa58e",
   "metadata": {},
   "outputs": [],
   "source": [
    "c1 = ROOT.TCanvas(\"c1\",\"c1\",4480,600)\n",
    "c1.Divide(len(hlist1d),1)\n",
    "for i in range(len(hlist1d)):\n",
    "    c1.cd(i+1)\n",
    "    print(hlist1d[i].Integral())\n",
    "    hlist1d[i].Draw(\"hist\")\n",
    "\n",
    "ROOT.gStyle.SetOptStat(1)\n",
    "c1.Draw()"
   ]
  },
  {
   "cell_type": "code",
   "execution_count": null,
   "id": "9e5753c8",
   "metadata": {},
   "outputs": [],
   "source": [
    "hf1d = ROOT.TH1F(\"hf1d\",\"\",totgbins, 0, totgbins)\n",
    "for i in range(len(hlist1d)):\n",
    "    hf1d.Add(hlist1d[i])\n",
    "hlist1d.append(hf1d)\n",
    "print(hf1d.Integral())"
   ]
  },
  {
   "cell_type": "code",
   "execution_count": null,
   "id": "b162581f",
   "metadata": {},
   "outputs": [],
   "source": [
    "c1 = ROOT.TCanvas(\"c1\",\"c1\",4480,600)\n",
    "c1.Divide(len(hlist1d),1)\n",
    "for i in range(len(hlist1d)):\n",
    "    c1.cd(i+1)\n",
    "    print(hlist1d[i].Integral())\n",
    "    hlist1d[i].Draw(\"hist\")\n",
    "\n",
    "ROOT.gStyle.SetOptStat(1)\n",
    "c1.Draw()"
   ]
  },
  {
   "cell_type": "code",
   "execution_count": null,
   "id": "e76eedd4",
   "metadata": {},
   "outputs": [],
   "source": [
    "hlist1d[1].Scale(-1)\n",
    "hlist1d[5].Scale(-1)"
   ]
  },
  {
   "cell_type": "code",
   "execution_count": null,
   "id": "bf0f1381",
   "metadata": {},
   "outputs": [],
   "source": [
    "c1 = ROOT.TCanvas(\"c1\",\"c1\",4480,600)\n",
    "c1.Divide(len(hlist1d),1)\n",
    "for i in range(len(hlist1d)):\n",
    "    c1.cd(i+1)\n",
    "    print(hlist1d[i].Integral())\n",
    "    hlist1d[i].Draw(\"hist\")\n",
    "\n",
    "ROOT.gStyle.SetOptStat(1)\n",
    "c1.Draw()"
   ]
  },
  {
   "cell_type": "code",
   "execution_count": null,
   "id": "b26bce77",
   "metadata": {},
   "outputs": [],
   "source": [
    "hf1d = ROOT.TH1F(\"hf1d\",\"\",totgbins, 0, totgbins)\n",
    "hf1d.Add(hlist1d[-1])"
   ]
  },
  {
   "cell_type": "code",
   "execution_count": null,
   "id": "f53c76e4",
   "metadata": {},
   "outputs": [],
   "source": [
    "hlist1d.append(hf1d)"
   ]
  },
  {
   "cell_type": "code",
   "execution_count": null,
   "id": "28a0ad16",
   "metadata": {},
   "outputs": [],
   "source": [
    "c1 = ROOT.TCanvas(\"c1\",\"c1\",4480,600)\n",
    "c1.Divide(len(hlist1d),1)\n",
    "for i in range(len(hlist1d)):\n",
    "    c1.cd(i+1)\n",
    "    print(hlist1d[i].Integral())\n",
    "    hlist1d[i].Draw(\"hist\")\n",
    "\n",
    "ROOT.gStyle.SetOptStat(1)\n",
    "c1.Draw()"
   ]
  },
  {
   "cell_type": "code",
   "execution_count": null,
   "id": "24cd4198",
   "metadata": {},
   "outputs": [],
   "source": [
    "hf1dt = hlist1d.pop(-1)"
   ]
  },
  {
   "cell_type": "code",
   "execution_count": null,
   "id": "a0d5b802",
   "metadata": {},
   "outputs": [],
   "source": [
    "for i in range(hlist1d[-1].GetXaxis().GetNbins()):\n",
    "    b = i+1\n",
    "    if hlist1d[-1].GetBinContent(b) <= 0:\n",
    "        hlist1d[-1].SetBinContent(b, 0)"
   ]
  },
  {
   "cell_type": "markdown",
   "id": "6c0f2766",
   "metadata": {},
   "source": [
    "### Check the final template collection and yields for the datacard"
   ]
  },
  {
   "cell_type": "code",
   "execution_count": null,
   "id": "f04b9e45",
   "metadata": {},
   "outputs": [],
   "source": [
    "c1 = ROOT.TCanvas(\"c1\",\"c1\",4480,600)\n",
    "c1.Divide(len(hlist1d),1)\n",
    "for i in range(len(hlist1d)):\n",
    "    c1.cd(i+1)\n",
    "    print(hlist1d[i].Integral())\n",
    "    hlist1d[i].Draw(\"hist\")\n",
    "\n",
    "ROOT.gStyle.SetOptStat(1)\n",
    "c1.Draw()"
   ]
  },
  {
   "cell_type": "code",
   "execution_count": null,
   "id": "2c7d4e64",
   "metadata": {},
   "outputs": [],
   "source": []
  },
  {
   "cell_type": "markdown",
   "id": "38721854",
   "metadata": {},
   "source": [
    "# Saving the whole thing to a .root file for use with a corresponding datacard"
   ]
  },
  {
   "cell_type": "markdown",
   "id": "b2f8a9f2",
   "metadata": {},
   "source": [
    "### Checking the names used to save the histograms"
   ]
  },
  {
   "cell_type": "code",
   "execution_count": null,
   "id": "d91117a3",
   "metadata": {},
   "outputs": [],
   "source": [
    "for i in proc:\n",
    "    print(i)"
   ]
  },
  {
   "cell_type": "markdown",
   "id": "718f0ab4",
   "metadata": {},
   "source": [
    "### Set directory and output file names"
   ]
  },
  {
   "cell_type": "code",
   "execution_count": null,
   "id": "f8bfb87f",
   "metadata": {},
   "outputs": [],
   "source": [
    "diname = \"/eos/user/s/skyriaco/SWAN_projects/Offshel_tempmaker/Output/\"\n",
    "foname = \"Cat_4mu_137p1invfb_ggH4landVBF4landqqbar_mostEW_RECOpassedevents_mvar21d1reg20d2reg20.input.root\""
   ]
  },
  {
   "cell_type": "code",
   "execution_count": null,
   "id": "6c52c91b",
   "metadata": {},
   "outputs": [],
   "source": [
    "print(diname+foname)"
   ]
  },
  {
   "cell_type": "markdown",
   "id": "7c3cab1a",
   "metadata": {},
   "source": [
    "### Write to a .root file"
   ]
  },
  {
   "cell_type": "code",
   "execution_count": null,
   "id": "92ae69f4",
   "metadata": {},
   "outputs": [],
   "source": [
    "fo = ROOT.TFile(diname+foname,\"CREATE\")\n",
    "\n",
    "for i in range(len(proc)):\n",
    "    hlist1d[i].Write(proc[i], ROOT.TFile.kSingleKey)\n",
    "\n",
    "fo.Close()"
   ]
  },
  {
   "cell_type": "markdown",
   "id": "b6439572",
   "metadata": {},
   "source": [
    "### Check the saved file"
   ]
  },
  {
   "cell_type": "code",
   "execution_count": null,
   "id": "cc43241a",
   "metadata": {},
   "outputs": [],
   "source": [
    "fo = ROOT.TFile(diname+foname)\n",
    "# fo = ROOT.TFile(\"/eos/user/l/lkang/Active_Research/Templates/SManalysis_split/2017/Untag/4mu/Untag_4mu_137p1invfb_ggH4landVBF4landqqbar_mostEW_RECOpassedevents_mvar21d1reg20d2reg20.input.root\")\n",
    "\n",
    "fo.ls()\n",
    "\n",
    "c1 = ROOT.TCanvas(\"c1\",\"c1\",4480,600)\n",
    "c1.Divide(len(proc),1)\n",
    "for i in range(len(proc)):\n",
    "    c1.cd(i+1)\n",
    "    eval(\"print(proc[i], '\\t\\t=', fo.\"+proc[i]+\".Integral())\")\n",
    "#     eval(\"print(fo.\"+proc[i]+\".Integral())\")\n",
    "    eval(\"fo.\"+proc[i]+\".Draw('hist')\")\n",
    "print()    \n",
    "\n",
    "c1.Draw()\n",
    "fo.Close()"
   ]
  },
  {
   "cell_type": "code",
   "execution_count": null,
   "id": "91243872",
   "metadata": {},
   "outputs": [],
   "source": []
  }
 ],
 "metadata": {
  "kernelspec": {
   "display_name": "Python 3",
   "language": "python",
   "name": "python3"
  },
  "language_info": {
   "codemirror_mode": {
    "name": "ipython",
    "version": 3
   },
   "file_extension": ".py",
   "mimetype": "text/x-python",
   "name": "python",
   "nbconvert_exporter": "python",
   "pygments_lexer": "ipython3",
   "version": "3.9.6"
  }
 },
 "nbformat": 4,
 "nbformat_minor": 5
}
